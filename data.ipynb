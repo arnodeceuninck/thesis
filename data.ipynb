{
 "cells": [
  {
   "cell_type": "markdown",
   "source": [
    "# Data\n",
    "Before getting started, let's take a look at the provided data"
   ],
   "metadata": {
    "collapsed": false,
    "pycharm": {
     "name": "#%% md\n"
    }
   },
   "outputs": []
  },
  {
   "cell_type": "markdown",
   "source": [
    "## Provided datasets"
   ],
   "metadata": {
    "collapsed": false,
    "pycharm": {
     "name": "#%% md\n"
    }
   },
   "execution_count": 1
  },
  {
   "cell_type": "markdown",
   "source": [
    "### GILGFVFTL_data\n",
    "This dataset contains positive examples of TCR Cells (alpha and beta parts (sometimes both, sometimes only one of them)) that react with th GILGFVFTL epitope."
   ],
   "metadata": {
    "collapsed": false,
    "pycharm": {
     "name": "#%% md\n"
    }
   }
  },
  {
   "cell_type": "code",
   "execution_count": 40,
   "outputs": [
    {
     "data": {
      "text/plain": "   Unnamed: 0 GeneA        CDR3_alfa       TRAV       TRAJ      MHC A_alfa  \\\n0           0   TRA     CAGAGSQGNLIF  TRAV27*01  TRAJ42*01  HLA-A*02:01:48   \n1           1   TRA     CAGAGSQGNLIF  TRAV27*01  TRAJ42*01  HLA-A*02:01:48   \n2           2   TRA     CAGAGSQGNLIF  TRAV27*01  TRAJ42*01  HLA-A*02:01:48   \n3           3   TRA     CAGAGSQGNLIF  TRAV27*01  TRAJ42*01  HLA-A*02:01:48   \n4           4   TRA  CAGPGGSSNTGKLIF  TRAV35*01  TRAJ37*01  HLA-A*02:01:48   \n\n     Epitope  Score_alfa GeneB      CDR3_beta       TRBV        TRBJ  \\\n0  GILGFVFTL         3.0   TRB  CASSSRSSYEQYF  TRBV19*01  TRBJ2-7*01   \n1  GILGFVFTL         3.0   TRB  CASSSRSSYEQYF  TRBV19*01  TRBJ2-7*01   \n2  GILGFVFTL         3.0   TRB  CASSSRSSYEQYF  TRBV19*01  TRBJ2-7*01   \n3  GILGFVFTL         3.0   TRB  CASSSRASYEQYF  TRBV19*01  TRBJ2-7*01   \n4  GILGFVFTL         3.0   TRB  CASSLIYPGELFF  TRBV27*01  TRBJ2-2*01   \n\n       MHC A_beta  Epitope.1  Score_beta  \n0  HLA-A*02:01:48  GILGFVFTL         3.0  \n1  HLA-A*02:01:48  GILGFVFTL         3.0  \n2  HLA-A*02:01:48  GILGFVFTL         3.0  \n3  HLA-A*02:01:48  GILGFVFTL         3.0  \n4  HLA-A*02:01:48  GILGFVFTL         3.0  ",
      "text/html": "<div>\n<style scoped>\n    .dataframe tbody tr th:only-of-type {\n        vertical-align: middle;\n    }\n\n    .dataframe tbody tr th {\n        vertical-align: top;\n    }\n\n    .dataframe thead th {\n        text-align: right;\n    }\n</style>\n<table border=\"1\" class=\"dataframe\">\n  <thead>\n    <tr style=\"text-align: right;\">\n      <th></th>\n      <th>Unnamed: 0</th>\n      <th>GeneA</th>\n      <th>CDR3_alfa</th>\n      <th>TRAV</th>\n      <th>TRAJ</th>\n      <th>MHC A_alfa</th>\n      <th>Epitope</th>\n      <th>Score_alfa</th>\n      <th>GeneB</th>\n      <th>CDR3_beta</th>\n      <th>TRBV</th>\n      <th>TRBJ</th>\n      <th>MHC A_beta</th>\n      <th>Epitope.1</th>\n      <th>Score_beta</th>\n    </tr>\n  </thead>\n  <tbody>\n    <tr>\n      <th>0</th>\n      <td>0</td>\n      <td>TRA</td>\n      <td>CAGAGSQGNLIF</td>\n      <td>TRAV27*01</td>\n      <td>TRAJ42*01</td>\n      <td>HLA-A*02:01:48</td>\n      <td>GILGFVFTL</td>\n      <td>3.0</td>\n      <td>TRB</td>\n      <td>CASSSRSSYEQYF</td>\n      <td>TRBV19*01</td>\n      <td>TRBJ2-7*01</td>\n      <td>HLA-A*02:01:48</td>\n      <td>GILGFVFTL</td>\n      <td>3.0</td>\n    </tr>\n    <tr>\n      <th>1</th>\n      <td>1</td>\n      <td>TRA</td>\n      <td>CAGAGSQGNLIF</td>\n      <td>TRAV27*01</td>\n      <td>TRAJ42*01</td>\n      <td>HLA-A*02:01:48</td>\n      <td>GILGFVFTL</td>\n      <td>3.0</td>\n      <td>TRB</td>\n      <td>CASSSRSSYEQYF</td>\n      <td>TRBV19*01</td>\n      <td>TRBJ2-7*01</td>\n      <td>HLA-A*02:01:48</td>\n      <td>GILGFVFTL</td>\n      <td>3.0</td>\n    </tr>\n    <tr>\n      <th>2</th>\n      <td>2</td>\n      <td>TRA</td>\n      <td>CAGAGSQGNLIF</td>\n      <td>TRAV27*01</td>\n      <td>TRAJ42*01</td>\n      <td>HLA-A*02:01:48</td>\n      <td>GILGFVFTL</td>\n      <td>3.0</td>\n      <td>TRB</td>\n      <td>CASSSRSSYEQYF</td>\n      <td>TRBV19*01</td>\n      <td>TRBJ2-7*01</td>\n      <td>HLA-A*02:01:48</td>\n      <td>GILGFVFTL</td>\n      <td>3.0</td>\n    </tr>\n    <tr>\n      <th>3</th>\n      <td>3</td>\n      <td>TRA</td>\n      <td>CAGAGSQGNLIF</td>\n      <td>TRAV27*01</td>\n      <td>TRAJ42*01</td>\n      <td>HLA-A*02:01:48</td>\n      <td>GILGFVFTL</td>\n      <td>3.0</td>\n      <td>TRB</td>\n      <td>CASSSRASYEQYF</td>\n      <td>TRBV19*01</td>\n      <td>TRBJ2-7*01</td>\n      <td>HLA-A*02:01:48</td>\n      <td>GILGFVFTL</td>\n      <td>3.0</td>\n    </tr>\n    <tr>\n      <th>4</th>\n      <td>4</td>\n      <td>TRA</td>\n      <td>CAGPGGSSNTGKLIF</td>\n      <td>TRAV35*01</td>\n      <td>TRAJ37*01</td>\n      <td>HLA-A*02:01:48</td>\n      <td>GILGFVFTL</td>\n      <td>3.0</td>\n      <td>TRB</td>\n      <td>CASSLIYPGELFF</td>\n      <td>TRBV27*01</td>\n      <td>TRBJ2-2*01</td>\n      <td>HLA-A*02:01:48</td>\n      <td>GILGFVFTL</td>\n      <td>3.0</td>\n    </tr>\n  </tbody>\n</table>\n</div>"
     },
     "execution_count": 40,
     "metadata": {},
     "output_type": "execute_result"
    }
   ],
   "source": [
    "# Load data/GILGFVFTL_data.tsv in a dataframe\n",
    "import pandas as pd\n",
    "df_g = pd.read_csv('data/GILGFVFTL_data.tsv') #, sep='\\t') # Hmm, for some reason it has a .tsv extension but is actually a .csv file\n",
    "df_g.head()"
   ],
   "metadata": {
    "collapsed": false,
    "pycharm": {
     "name": "#%%\n"
    }
   }
  },
  {
   "cell_type": "code",
   "execution_count": 41,
   "outputs": [
    {
     "data": {
      "text/plain": "Unnamed: 0    5192\nGeneA            1\nCDR3_alfa     1093\nTRAV            44\nTRAJ            50\nMHC A_alfa       3\nEpitope          1\nScore_alfa       3\nGeneB            1\nCDR3_beta     3473\nTRBV            51\nTRBJ            13\nMHC A_beta       3\nEpitope.1        1\nScore_beta       4\ndtype: int64"
     },
     "execution_count": 41,
     "metadata": {},
     "output_type": "execute_result"
    }
   ],
   "source": [
    "# Get per column the number of different values\n",
    "df_g.nunique()"
   ],
   "metadata": {
    "collapsed": false,
    "pycharm": {
     "name": "#%%\n"
    }
   }
  },
  {
   "cell_type": "code",
   "execution_count": 42,
   "outputs": [
    {
     "data": {
      "text/plain": "'Number of genes containing alpha: 2161 (41.62%)'"
     },
     "execution_count": 42,
     "metadata": {},
     "output_type": "execute_result"
    }
   ],
   "source": [
    "# Number of genes containing alpha (column GeneA = TRA)\n",
    "alpha_count_g = df_g[df_g['GeneA'] == 'TRA'].shape[0]\n",
    "f\"Number of genes containing alpha: {alpha_count_g} ({alpha_count_g/df_g.shape[0]*100:.2f}%)\""
   ],
   "metadata": {
    "collapsed": false,
    "pycharm": {
     "name": "#%%\n"
    }
   }
  },
  {
   "cell_type": "code",
   "execution_count": 43,
   "outputs": [
    {
     "data": {
      "text/plain": "'Number of genes containing beta: 5190 (99.96%)'"
     },
     "execution_count": 43,
     "metadata": {},
     "output_type": "execute_result"
    }
   ],
   "source": [
    "beta_count_g = df_g[df_g['GeneB'] == 'TRB'].shape[0]\n",
    "f\"Number of genes containing beta: {beta_count_g} ({beta_count_g/df_g.shape[0]*100:.2f}%)\""
   ],
   "metadata": {
    "collapsed": false,
    "pycharm": {
     "name": "#%%\n"
    }
   }
  },
  {
   "cell_type": "code",
   "execution_count": 44,
   "outputs": [
    {
     "data": {
      "text/plain": "   Unnamed: 0 GeneA        CDR3_alfa       TRAV       TRAJ    Epitope GeneB  \\\n0           0   TRA     CAGAGSQGNLIF  TRAV27*01  TRAJ42*01  GILGFVFTL   TRB   \n1           1   TRA     CAGAGSQGNLIF  TRAV27*01  TRAJ42*01  GILGFVFTL   TRB   \n2           2   TRA     CAGAGSQGNLIF  TRAV27*01  TRAJ42*01  GILGFVFTL   TRB   \n3           3   TRA     CAGAGSQGNLIF  TRAV27*01  TRAJ42*01  GILGFVFTL   TRB   \n4           4   TRA  CAGPGGSSNTGKLIF  TRAV35*01  TRAJ37*01  GILGFVFTL   TRB   \n\n       CDR3_beta       TRBV        TRBJ  Epitope.1  \n0  CASSSRSSYEQYF  TRBV19*01  TRBJ2-7*01  GILGFVFTL  \n1  CASSSRSSYEQYF  TRBV19*01  TRBJ2-7*01  GILGFVFTL  \n2  CASSSRSSYEQYF  TRBV19*01  TRBJ2-7*01  GILGFVFTL  \n3  CASSSRASYEQYF  TRBV19*01  TRBJ2-7*01  GILGFVFTL  \n4  CASSLIYPGELFF  TRBV27*01  TRBJ2-2*01  GILGFVFTL  ",
      "text/html": "<div>\n<style scoped>\n    .dataframe tbody tr th:only-of-type {\n        vertical-align: middle;\n    }\n\n    .dataframe tbody tr th {\n        vertical-align: top;\n    }\n\n    .dataframe thead th {\n        text-align: right;\n    }\n</style>\n<table border=\"1\" class=\"dataframe\">\n  <thead>\n    <tr style=\"text-align: right;\">\n      <th></th>\n      <th>Unnamed: 0</th>\n      <th>GeneA</th>\n      <th>CDR3_alfa</th>\n      <th>TRAV</th>\n      <th>TRAJ</th>\n      <th>Epitope</th>\n      <th>GeneB</th>\n      <th>CDR3_beta</th>\n      <th>TRBV</th>\n      <th>TRBJ</th>\n      <th>Epitope.1</th>\n    </tr>\n  </thead>\n  <tbody>\n    <tr>\n      <th>0</th>\n      <td>0</td>\n      <td>TRA</td>\n      <td>CAGAGSQGNLIF</td>\n      <td>TRAV27*01</td>\n      <td>TRAJ42*01</td>\n      <td>GILGFVFTL</td>\n      <td>TRB</td>\n      <td>CASSSRSSYEQYF</td>\n      <td>TRBV19*01</td>\n      <td>TRBJ2-7*01</td>\n      <td>GILGFVFTL</td>\n    </tr>\n    <tr>\n      <th>1</th>\n      <td>1</td>\n      <td>TRA</td>\n      <td>CAGAGSQGNLIF</td>\n      <td>TRAV27*01</td>\n      <td>TRAJ42*01</td>\n      <td>GILGFVFTL</td>\n      <td>TRB</td>\n      <td>CASSSRSSYEQYF</td>\n      <td>TRBV19*01</td>\n      <td>TRBJ2-7*01</td>\n      <td>GILGFVFTL</td>\n    </tr>\n    <tr>\n      <th>2</th>\n      <td>2</td>\n      <td>TRA</td>\n      <td>CAGAGSQGNLIF</td>\n      <td>TRAV27*01</td>\n      <td>TRAJ42*01</td>\n      <td>GILGFVFTL</td>\n      <td>TRB</td>\n      <td>CASSSRSSYEQYF</td>\n      <td>TRBV19*01</td>\n      <td>TRBJ2-7*01</td>\n      <td>GILGFVFTL</td>\n    </tr>\n    <tr>\n      <th>3</th>\n      <td>3</td>\n      <td>TRA</td>\n      <td>CAGAGSQGNLIF</td>\n      <td>TRAV27*01</td>\n      <td>TRAJ42*01</td>\n      <td>GILGFVFTL</td>\n      <td>TRB</td>\n      <td>CASSSRASYEQYF</td>\n      <td>TRBV19*01</td>\n      <td>TRBJ2-7*01</td>\n      <td>GILGFVFTL</td>\n    </tr>\n    <tr>\n      <th>4</th>\n      <td>4</td>\n      <td>TRA</td>\n      <td>CAGPGGSSNTGKLIF</td>\n      <td>TRAV35*01</td>\n      <td>TRAJ37*01</td>\n      <td>GILGFVFTL</td>\n      <td>TRB</td>\n      <td>CASSLIYPGELFF</td>\n      <td>TRBV27*01</td>\n      <td>TRBJ2-2*01</td>\n      <td>GILGFVFTL</td>\n    </tr>\n  </tbody>\n</table>\n</div>"
     },
     "execution_count": 44,
     "metadata": {},
     "output_type": "execute_result"
    }
   ],
   "source": [
    "# Values to ignore (for now?) are MHC A_alfa (always the same), Score_alfa (confidence score of alfa), Score_beta (confidence score of beta) -> Drop those columns\n",
    "df_g = df_g.drop(columns=['MHC A_alfa', 'Score_alfa', 'MHC A_beta', 'Score_beta'])\n",
    "df_g.head()"
   ],
   "metadata": {
    "collapsed": false,
    "pycharm": {
     "name": "#%%\n"
    }
   }
  },
  {
   "cell_type": "markdown",
   "source": [
    "### background\n",
    "This dataset contains some alpha and beta parts from TCR cells, without any epitope. You can use them as negative dataset (by filtering out the alphas and betas that occur in the positive dataset)."
   ],
   "metadata": {
    "collapsed": false,
    "pycharm": {
     "name": "#%% md\n"
    }
   }
  },
  {
   "cell_type": "code",
   "execution_count": 45,
   "outputs": [
    {
     "data": {
      "text/plain": "         CDR3_alfa         TRAV    TRAJ         CDR3_beta      TRBV     TRBJ\n0   CAYGSTYNTDKLIF  TRAV38-2DV8  TRAJ34  CASSQEGSGVTDTQYF   TRBV4-3  TRBJ2-3\n1  CILRDEGGGADGLTF     TRAV26-2  TRAJ45   CSAREGLAEFNEQFF  TRBV20-1  TRBJ2-1\n2     CAGGSGYSTLTF     TRAV12-2  TRAJ11      CASSLGHYGYTF  TRBV12-3  TRBJ1-2\n3  CAVRDLIVGANNLFF        TRAV3  TRAJ36    CASSQSFRDDEQYF    TRBV18  TRBJ2-7\n4    CATYGGSQGNLIF       TRAV21  TRAJ42    CASSQAVGYNEQFF   TRBV4-1  TRBJ2-1",
      "text/html": "<div>\n<style scoped>\n    .dataframe tbody tr th:only-of-type {\n        vertical-align: middle;\n    }\n\n    .dataframe tbody tr th {\n        vertical-align: top;\n    }\n\n    .dataframe thead th {\n        text-align: right;\n    }\n</style>\n<table border=\"1\" class=\"dataframe\">\n  <thead>\n    <tr style=\"text-align: right;\">\n      <th></th>\n      <th>CDR3_alfa</th>\n      <th>TRAV</th>\n      <th>TRAJ</th>\n      <th>CDR3_beta</th>\n      <th>TRBV</th>\n      <th>TRBJ</th>\n    </tr>\n  </thead>\n  <tbody>\n    <tr>\n      <th>0</th>\n      <td>CAYGSTYNTDKLIF</td>\n      <td>TRAV38-2DV8</td>\n      <td>TRAJ34</td>\n      <td>CASSQEGSGVTDTQYF</td>\n      <td>TRBV4-3</td>\n      <td>TRBJ2-3</td>\n    </tr>\n    <tr>\n      <th>1</th>\n      <td>CILRDEGGGADGLTF</td>\n      <td>TRAV26-2</td>\n      <td>TRAJ45</td>\n      <td>CSAREGLAEFNEQFF</td>\n      <td>TRBV20-1</td>\n      <td>TRBJ2-1</td>\n    </tr>\n    <tr>\n      <th>2</th>\n      <td>CAGGSGYSTLTF</td>\n      <td>TRAV12-2</td>\n      <td>TRAJ11</td>\n      <td>CASSLGHYGYTF</td>\n      <td>TRBV12-3</td>\n      <td>TRBJ1-2</td>\n    </tr>\n    <tr>\n      <th>3</th>\n      <td>CAVRDLIVGANNLFF</td>\n      <td>TRAV3</td>\n      <td>TRAJ36</td>\n      <td>CASSQSFRDDEQYF</td>\n      <td>TRBV18</td>\n      <td>TRBJ2-7</td>\n    </tr>\n    <tr>\n      <th>4</th>\n      <td>CATYGGSQGNLIF</td>\n      <td>TRAV21</td>\n      <td>TRAJ42</td>\n      <td>CASSQAVGYNEQFF</td>\n      <td>TRBV4-1</td>\n      <td>TRBJ2-1</td>\n    </tr>\n  </tbody>\n</table>\n</div>"
     },
     "execution_count": 45,
     "metadata": {},
     "output_type": "execute_result"
    }
   ],
   "source": [
    "import pandas as pd\n",
    "df_b = pd.read_csv('data/background.tsv', sep='\\t') # this is actually a tsv\n",
    "df_b.head()"
   ],
   "metadata": {
    "collapsed": false,
    "pycharm": {
     "name": "#%%\n"
    }
   }
  },
  {
   "cell_type": "code",
   "execution_count": 46,
   "outputs": [
    {
     "data": {
      "text/plain": "CDR3_alfa    429396\nTRAV             56\nTRAJ             56\nCDR3_beta    474559\nTRBV             61\nTRBJ             13\ndtype: int64"
     },
     "execution_count": 46,
     "metadata": {},
     "output_type": "execute_result"
    }
   ],
   "source": [
    "df_b.nunique()"
   ],
   "metadata": {
    "collapsed": false,
    "pycharm": {
     "name": "#%%\n"
    }
   }
  },
  {
   "cell_type": "markdown",
   "source": [],
   "metadata": {
    "collapsed": false,
    "pycharm": {
     "name": "#%% md\n"
    }
   }
  },
  {
   "cell_type": "markdown",
   "source": [
    "## Combined Dataset"
   ],
   "metadata": {
    "collapsed": false,
    "pycharm": {
     "name": "#%% md\n"
    }
   }
  },
  {
   "cell_type": "code",
   "execution_count": 47,
   "outputs": [],
   "source": [
    "positive_dataset = df_g\n",
    "negative_dataset = df_b"
   ],
   "metadata": {
    "collapsed": false,
    "pycharm": {
     "name": "#%%\n"
    }
   }
  },
  {
   "cell_type": "code",
   "execution_count": 48,
   "outputs": [],
   "source": [
    "# Drop the rows from the negative dataset where CDR3_alpha or CDR3_beta occur in the positive dataset\n",
    "# Note: Check seperately or together? (e.g. alpha in positive, but alpha + beta combination not)\n",
    "negative_dataset = negative_dataset[~negative_dataset['CDR3_alfa'].isin(positive_dataset['CDR3_alfa'])]\n",
    "negative_dataset = negative_dataset[~negative_dataset['CDR3_beta'].isin(positive_dataset['CDR3_beta'])]"
   ],
   "metadata": {
    "collapsed": false,
    "pycharm": {
     "name": "#%%\n"
    }
   }
  },
  {
   "cell_type": "code",
   "execution_count": 49,
   "outputs": [
    {
     "name": "stdout",
     "output_type": "stream",
     "text": [
      "Number of genes containing alpha only: 2 (0.04%)\n",
      "Number of genes containing beta only: 3031 (58.38%)\n",
      "Number of genes containing both: 2159 (41.58%)\n",
      "Number of genes containing neither: 0 (0.00%)\n"
     ]
    }
   ],
   "source": [
    "# get the percentages of df_g containing alpha, beta and both\n",
    "alpha_only_count_g = df_g[(df_g['GeneA'] == 'TRA') & (df_g['GeneB'] != 'TRB')].shape[0]\n",
    "beta_only_count_g = df_g[(df_g['GeneA'] != 'TRA') & (df_g['GeneB'] == 'TRB')].shape[0]\n",
    "both_count_g = df_g[(df_g['GeneA'] == 'TRA') & (df_g['GeneB'] == 'TRB')].shape[0]\n",
    "non_count_g = df_g[(df_g['GeneA'] != 'TRA') & (df_g['GeneB'] != 'TRB')].shape[0]\n",
    "print(f\"Number of genes containing alpha only: {alpha_only_count_g} ({alpha_only_count_g/df_g.shape[0]*100:.2f}%)\")\n",
    "print(f\"Number of genes containing beta only: {beta_only_count_g} ({beta_only_count_g/df_g.shape[0]*100:.2f}%)\")\n",
    "print(f\"Number of genes containing both: {both_count_g} ({both_count_g/df_g.shape[0]*100:.2f}%)\")\n",
    "print(f\"Number of genes containing neither: {non_count_g} ({non_count_g/df_g.shape[0]*100:.2f}%)\")"
   ],
   "metadata": {
    "collapsed": false,
    "pycharm": {
     "name": "#%%\n"
    }
   }
  },
  {
   "cell_type": "code",
   "execution_count": 50,
   "outputs": [],
   "source": [
    "def sample_and_drop(df, n):\n",
    "    \"\"\"Sample n rows from df and drop them from df\"\"\"\n",
    "    # src: https://stackoverflow.com/questions/39835021/pandas-random-sample-with-remove\n",
    "    df_subset = df.sample(n)\n",
    "    df.drop(df_subset.index, inplace=True)\n",
    "    return df_subset"
   ],
   "metadata": {
    "collapsed": false,
    "pycharm": {
     "name": "#%%\n"
    }
   }
  },
  {
   "cell_type": "code",
   "execution_count": 51,
   "outputs": [
    {
     "data": {
      "text/plain": "    a   b\n8   9   9\n9  10  10",
      "text/html": "<div>\n<style scoped>\n    .dataframe tbody tr th:only-of-type {\n        vertical-align: middle;\n    }\n\n    .dataframe tbody tr th {\n        vertical-align: top;\n    }\n\n    .dataframe thead th {\n        text-align: right;\n    }\n</style>\n<table border=\"1\" class=\"dataframe\">\n  <thead>\n    <tr style=\"text-align: right;\">\n      <th></th>\n      <th>a</th>\n      <th>b</th>\n    </tr>\n  </thead>\n  <tbody>\n    <tr>\n      <th>8</th>\n      <td>9</td>\n      <td>9</td>\n    </tr>\n    <tr>\n      <th>9</th>\n      <td>10</td>\n      <td>10</td>\n    </tr>\n  </tbody>\n</table>\n</div>"
     },
     "execution_count": 51,
     "metadata": {},
     "output_type": "execute_result"
    }
   ],
   "source": [
    "# Test the sample and drop function\n",
    "df_ex = pd.DataFrame({'a': [1,2,3,4,5,6,7,8,9,10], 'b': [1,2,3,4,5,6,7,8,9,10]})\n",
    "# get the number of rows in df_ex\n",
    "rows_before = df_ex.shape[0]\n",
    "n = 2\n",
    "df_subset = sample_and_drop(df_ex, n)\n",
    "rows_after = df_ex.shape[0]\n",
    "assert rows_before - rows_after == n\n",
    "df_subset"
   ],
   "metadata": {
    "collapsed": false,
    "pycharm": {
     "name": "#%%\n"
    }
   }
  },
  {
   "cell_type": "code",
   "execution_count": 52,
   "outputs": [],
   "source": [
    "# now sample the same amount of negative examples from the negative dataset\n",
    "alpha_only_rows_b = sample_and_drop(negative_dataset, alpha_only_count_g)\n",
    "beta_only_rows_b = sample_and_drop(negative_dataset, beta_only_count_g)\n",
    "both_rows_b = sample_and_drop(negative_dataset, both_count_g)\n",
    "non_rows_b = sample_and_drop(negative_dataset, non_count_g)"
   ],
   "metadata": {
    "collapsed": false,
    "pycharm": {
     "name": "#%%\n"
    }
   }
  },
  {
   "cell_type": "code",
   "execution_count": 53,
   "outputs": [],
   "source": [
    "# combine samples in new dataframe\n",
    "negative_dataset_same_proportion = pd.concat([alpha_only_rows_b, beta_only_rows_b, both_rows_b, non_rows_b])\n",
    "# Check whether number of rows is same as in positive dataset\n",
    "assert negative_dataset_same_proportion.shape[0] == positive_dataset.shape[0]"
   ],
   "metadata": {
    "collapsed": false,
    "pycharm": {
     "name": "#%%\n"
    }
   }
  },
  {
   "cell_type": "code",
   "execution_count": 54,
   "outputs": [],
   "source": [
    "# Add column 'reaction' 0 for negative_dataset_same_proportion, 1 for positive_dataset\n",
    "positive_dataset['reaction'] = 1\n",
    "negative_dataset_same_proportion['reaction'] = 0"
   ],
   "metadata": {
    "collapsed": false,
    "pycharm": {
     "name": "#%%\n"
    }
   }
  },
  {
   "cell_type": "code",
   "execution_count": 55,
   "outputs": [],
   "source": [
    "# Keep only the columns of the positive dataset that are in the negative datasets\n",
    "positive_dataset = positive_dataset[negative_dataset_same_proportion.columns]"
   ],
   "metadata": {
    "collapsed": false,
    "pycharm": {
     "name": "#%%\n"
    }
   }
  },
  {
   "cell_type": "code",
   "execution_count": 56,
   "outputs": [
    {
     "data": {
      "text/plain": "         CDR3_alfa       TRAV       TRAJ      CDR3_beta       TRBV  \\\n0     CAGAGSQGNLIF  TRAV27*01  TRAJ42*01  CASSSRSSYEQYF  TRBV19*01   \n1     CAGAGSQGNLIF  TRAV27*01  TRAJ42*01  CASSSRSSYEQYF  TRBV19*01   \n2     CAGAGSQGNLIF  TRAV27*01  TRAJ42*01  CASSSRSSYEQYF  TRBV19*01   \n3     CAGAGSQGNLIF  TRAV27*01  TRAJ42*01  CASSSRASYEQYF  TRBV19*01   \n4  CAGPGGSSNTGKLIF  TRAV35*01  TRAJ37*01  CASSLIYPGELFF  TRBV27*01   \n\n         TRBJ  reaction  \n0  TRBJ2-7*01         1  \n1  TRBJ2-7*01         1  \n2  TRBJ2-7*01         1  \n3  TRBJ2-7*01         1  \n4  TRBJ2-2*01         1  ",
      "text/html": "<div>\n<style scoped>\n    .dataframe tbody tr th:only-of-type {\n        vertical-align: middle;\n    }\n\n    .dataframe tbody tr th {\n        vertical-align: top;\n    }\n\n    .dataframe thead th {\n        text-align: right;\n    }\n</style>\n<table border=\"1\" class=\"dataframe\">\n  <thead>\n    <tr style=\"text-align: right;\">\n      <th></th>\n      <th>CDR3_alfa</th>\n      <th>TRAV</th>\n      <th>TRAJ</th>\n      <th>CDR3_beta</th>\n      <th>TRBV</th>\n      <th>TRBJ</th>\n      <th>reaction</th>\n    </tr>\n  </thead>\n  <tbody>\n    <tr>\n      <th>0</th>\n      <td>CAGAGSQGNLIF</td>\n      <td>TRAV27*01</td>\n      <td>TRAJ42*01</td>\n      <td>CASSSRSSYEQYF</td>\n      <td>TRBV19*01</td>\n      <td>TRBJ2-7*01</td>\n      <td>1</td>\n    </tr>\n    <tr>\n      <th>1</th>\n      <td>CAGAGSQGNLIF</td>\n      <td>TRAV27*01</td>\n      <td>TRAJ42*01</td>\n      <td>CASSSRSSYEQYF</td>\n      <td>TRBV19*01</td>\n      <td>TRBJ2-7*01</td>\n      <td>1</td>\n    </tr>\n    <tr>\n      <th>2</th>\n      <td>CAGAGSQGNLIF</td>\n      <td>TRAV27*01</td>\n      <td>TRAJ42*01</td>\n      <td>CASSSRSSYEQYF</td>\n      <td>TRBV19*01</td>\n      <td>TRBJ2-7*01</td>\n      <td>1</td>\n    </tr>\n    <tr>\n      <th>3</th>\n      <td>CAGAGSQGNLIF</td>\n      <td>TRAV27*01</td>\n      <td>TRAJ42*01</td>\n      <td>CASSSRASYEQYF</td>\n      <td>TRBV19*01</td>\n      <td>TRBJ2-7*01</td>\n      <td>1</td>\n    </tr>\n    <tr>\n      <th>4</th>\n      <td>CAGPGGSSNTGKLIF</td>\n      <td>TRAV35*01</td>\n      <td>TRAJ37*01</td>\n      <td>CASSLIYPGELFF</td>\n      <td>TRBV27*01</td>\n      <td>TRBJ2-2*01</td>\n      <td>1</td>\n    </tr>\n  </tbody>\n</table>\n</div>"
     },
     "execution_count": 56,
     "metadata": {},
     "output_type": "execute_result"
    }
   ],
   "source": [
    "# Combine the two datasets\n",
    "combined_dataset = pd.concat([positive_dataset, negative_dataset_same_proportion])\n",
    "combined_dataset.head()"
   ],
   "metadata": {
    "collapsed": false,
    "pycharm": {
     "name": "#%%\n"
    }
   }
  },
  {
   "cell_type": "code",
   "execution_count": 56,
   "outputs": [],
   "source": [],
   "metadata": {
    "collapsed": false,
    "pycharm": {
     "name": "#%%\n"
    }
   }
  }
 ],
 "metadata": {
  "kernelspec": {
   "display_name": "Python 3",
   "language": "python",
   "name": "python3"
  },
  "language_info": {
   "codemirror_mode": {
    "name": "ipython",
    "version": 2
   },
   "file_extension": ".py",
   "mimetype": "text/x-python",
   "name": "python",
   "nbconvert_exporter": "python",
   "pygments_lexer": "ipython2",
   "version": "2.7.6"
  }
 },
 "nbformat": 4,
 "nbformat_minor": 0
}