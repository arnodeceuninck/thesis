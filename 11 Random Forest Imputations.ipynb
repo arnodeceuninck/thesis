{
 "cells": [
  {
   "cell_type": "markdown",
   "source": [
    "# Random Forest Imputations\n",
    "Random forest worked best up to now. Up to now, We've mainly used zero imputations and a K Means imputation in a Random Forest. Let's take a look what other imputation methods would do, both for the case of one Random Forest model for the two chains together and for two Random Forest models for the two chains separately."
   ],
   "metadata": {
    "collapsed": false,
    "pycharm": {
     "name": "#%% md\n"
    }
   }
  },
  {
   "cell_type": "code",
   "execution_count": 2,
   "metadata": {
    "pycharm": {
     "name": "#%%\n"
    }
   },
   "outputs": [],
   "source": [
    "from sklearn.model_selection import train_test_split, cross_val_score, KFold\n",
    "from util import get_train_dataset, get_features, fix_test, evaluate\n",
    "import numpy as np\n",
    "from sklearn import impute\n",
    "\n",
    "df = get_train_dataset()\n",
    "# df = df.sample(n=1000)\n",
    "\n",
    "df_reaction_column = df['reaction']\n",
    "df_features = get_features(df)\n",
    "\n",
    "df_features.reset_index(drop=True, inplace=True)\n",
    "df_reaction_column.reset_index(drop=True, inplace=True)\n",
    "\n",
    "assert df_features.shape[0] == df_reaction_column.shape[0]\n",
    "assert np.isnan(df_reaction_column).sum().sum() == 0\n",
    "\n",
    "# add the reaction column to the features (will be dropped later on)\n",
    "df_features['reaction'] = df_reaction_column"
   ]
  },
  {
   "cell_type": "code",
   "execution_count": 3,
   "outputs": [],
   "source": [
    "y = df_features['reaction']\n",
    "x = df_features.drop(['reaction'], axis=1)\n",
    "\n",
    "assert 'reaction' not in x.columns\n",
    "assert np.isnan(y).sum() == 0"
   ],
   "metadata": {
    "collapsed": false,
    "pycharm": {
     "name": "#%%\n"
    }
   }
  },
  {
   "cell_type": "code",
   "execution_count": 4,
   "outputs": [
    {
     "name": "stdout",
     "output_type": "stream",
     "text": [
      "The scikit-learn version is 1.1.0.\n"
     ]
    }
   ],
   "source": [
    "# get sklearn version\n",
    "from sklearn import __version__ as sklearn_version\n",
    "print('The scikit-learn version is {}.'.format(sklearn_version))"
   ],
   "metadata": {
    "collapsed": false,
    "pycharm": {
     "name": "#%%\n"
    }
   }
  },
  {
   "cell_type": "markdown",
   "source": [
    "## Imputations"
   ],
   "metadata": {
    "collapsed": false,
    "pycharm": {
     "name": "#%% md\n"
    }
   }
  },
  {
   "cell_type": "code",
   "execution_count": 5,
   "outputs": [],
   "source": [
    "from sklearn.ensemble import RandomForestClassifier\n",
    "clf = RandomForestClassifier(random_state=0)"
   ],
   "metadata": {
    "collapsed": false,
    "pycharm": {
     "name": "#%%\n"
    }
   }
  },
  {
   "cell_type": "markdown",
   "source": [
    "### Simple Imputer"
   ],
   "metadata": {
    "collapsed": false,
    "pycharm": {
     "name": "#%% md\n"
    }
   }
  },
  {
   "cell_type": "markdown",
   "source": [
    "#### Zero Imputation"
   ],
   "metadata": {
    "collapsed": false,
    "pycharm": {
     "name": "#%% md\n"
    }
   }
  },
  {
   "cell_type": "code",
   "execution_count": 6,
   "outputs": [],
   "source": [
    "# zero imputation\n",
    "imputer_zero = impute.SimpleImputer(missing_values=np.nan, strategy='constant', fill_value=0)\n",
    "x_zero_imputed = imputer_zero.fit_transform(x)"
   ],
   "metadata": {
    "collapsed": false,
    "pycharm": {
     "name": "#%%\n"
    }
   }
  },
  {
   "cell_type": "code",
   "execution_count": 7,
   "outputs": [
    {
     "name": "stdout",
     "output_type": "stream",
     "text": [
      "[0.88211648 0.88849494 0.87463934 0.85895543 0.86702376]\n",
      "ROC: 0.874 (+/- 0.021)\n"
     ]
    }
   ],
   "source": [
    "evaluate(clf, x_zero_imputed, y)"
   ],
   "metadata": {
    "collapsed": false,
    "pycharm": {
     "name": "#%%\n"
    }
   }
  },
  {
   "cell_type": "markdown",
   "source": [
    "#### Mean Imputation"
   ],
   "metadata": {
    "collapsed": false,
    "pycharm": {
     "name": "#%% md\n"
    }
   }
  },
  {
   "cell_type": "code",
   "execution_count": 8,
   "outputs": [],
   "source": [
    "# Mean imputation\n",
    "imputer_mean = impute.SimpleImputer(missing_values=np.nan, strategy='mean')\n",
    "x_mean_imputed = imputer_mean.fit_transform(x)"
   ],
   "metadata": {
    "collapsed": false,
    "pycharm": {
     "name": "#%%\n"
    }
   }
  },
  {
   "cell_type": "code",
   "execution_count": 9,
   "outputs": [
    {
     "name": "stdout",
     "output_type": "stream",
     "text": [
      "[0.87717905 0.88396071 0.87404344 0.86072808 0.86775395]\n",
      "ROC: 0.873 (+/- 0.016)\n"
     ]
    }
   ],
   "source": [
    "evaluate(clf, x_mean_imputed, y)"
   ],
   "metadata": {
    "collapsed": false,
    "pycharm": {
     "name": "#%%\n"
    }
   }
  },
  {
   "cell_type": "markdown",
   "source": [
    "#### Most Frequent Imputation"
   ],
   "metadata": {
    "collapsed": false,
    "pycharm": {
     "name": "#%% md\n"
    }
   }
  },
  {
   "cell_type": "code",
   "execution_count": 10,
   "outputs": [
    {
     "name": "stderr",
     "output_type": "stream",
     "text": [
      "C:\\Users\\arnod\\AppData\\Roaming\\Python\\Python39\\site-packages\\sklearn\\impute\\_base.py:54: FutureWarning: Unlike other reduction functions (e.g. `skew`, `kurtosis`), the default behavior of `mode` typically preserves the axis it acts along. In SciPy 1.11.0, this behavior will change: the default value of `keepdims` will become False, the `axis` over which the statistic is taken will be eliminated, and the value None will no longer be accepted. Set `keepdims` to True or False to avoid this warning.\n",
      "  mode = stats.mode(array)\n"
     ]
    }
   ],
   "source": [
    "# Most frequent imputation\n",
    "imputer_most_frequent = impute.SimpleImputer(missing_values=np.nan, strategy='most_frequent')\n",
    "x_most_frequent_imputed = imputer_most_frequent.fit_transform(x)"
   ],
   "metadata": {
    "collapsed": false,
    "pycharm": {
     "name": "#%%\n"
    }
   }
  },
  {
   "cell_type": "code",
   "execution_count": 11,
   "outputs": [
    {
     "name": "stdout",
     "output_type": "stream",
     "text": [
      "[0.87694658 0.88724911 0.8685433  0.85760671 0.86910991]\n",
      "ROC: 0.872 (+/- 0.020)\n"
     ]
    }
   ],
   "source": [
    "evaluate(clf, x_most_frequent_imputed, y)"
   ],
   "metadata": {
    "collapsed": false,
    "pycharm": {
     "name": "#%%\n"
    }
   }
  },
  {
   "cell_type": "markdown",
   "source": [
    "#### Median Imputation"
   ],
   "metadata": {
    "collapsed": false,
    "pycharm": {
     "name": "#%% md\n"
    }
   }
  },
  {
   "cell_type": "code",
   "execution_count": 12,
   "outputs": [],
   "source": [
    "# Median imputation\n",
    "imputer_median = impute.SimpleImputer(missing_values=np.nan, strategy='median')\n",
    "x_median_imputed = imputer_median.fit_transform(x)"
   ],
   "metadata": {
    "collapsed": false,
    "pycharm": {
     "name": "#%%\n"
    }
   }
  },
  {
   "cell_type": "code",
   "execution_count": 13,
   "outputs": [
    {
     "name": "stdout",
     "output_type": "stream",
     "text": [
      "[0.87087147 0.8889853  0.87565571 0.8607092  0.86855012]\n",
      "ROC: 0.873 (+/- 0.019)\n"
     ]
    }
   ],
   "source": [
    "evaluate(clf, x_median_imputed, y)"
   ],
   "metadata": {
    "collapsed": false,
    "pycharm": {
     "name": "#%%\n"
    }
   }
  },
  {
   "cell_type": "markdown",
   "source": [
    "#### Multivariate Imputation"
   ],
   "metadata": {
    "collapsed": false,
    "pycharm": {
     "name": "#%% md\n"
    }
   }
  },
  {
   "cell_type": "code",
   "execution_count": 13,
   "outputs": [],
   "source": [],
   "metadata": {
    "collapsed": false,
    "pycharm": {
     "name": "#%%\n"
    }
   }
  },
  {
   "cell_type": "code",
   "execution_count": 14,
   "outputs": [],
   "source": [
    "# Takes way too long\n",
    "\n",
    "# Multivariate imputer that estimates each feature from all the others.\n",
    "# A strategy for imputing missing values by modeling each feature with missing values as a function of other features in a round-robin fashion\n",
    "# src: https://scikit-learn.org/stable/modules/generated/sklearn.impute.IterativeImputer.html\n",
    "\n",
    "# Extra importe required: https://stackoverflow.com/questions/55846680/can-not-import-iterativeimputer-from-sklearn-impute\n",
    "from sklearn.experimental import enable_iterative_imputer\n",
    "\n",
    "# imputer = impute.IterativeImputer(max_iter=10, random_state=0)\n",
    "# x_iterative_imputed = imputer.fit_transform(x)"
   ],
   "metadata": {
    "collapsed": false,
    "pycharm": {
     "name": "#%%\n"
    }
   }
  },
  {
   "cell_type": "code",
   "execution_count": 15,
   "outputs": [],
   "source": [
    "# evaluate(clf, x_iterative_imputed, y)"
   ],
   "metadata": {
    "collapsed": false,
    "pycharm": {
     "name": "#%%\n"
    }
   }
  },
  {
   "cell_type": "markdown",
   "source": [
    "### Random Forest Imputation\n",
    "Use a random forest regression model to impute the missing values.\n"
   ],
   "metadata": {
    "collapsed": false,
    "pycharm": {
     "name": "#%% md\n"
    }
   }
  },
  {
   "cell_type": "code",
   "execution_count": null,
   "outputs": [],
   "source": [
    "# Random Forest imputation\n",
    "from sklearn.ensemble import RandomForestRegressor\n",
    "from sklearn.experimental import enable_iterative_imputer\n",
    "imputer_random_forest = impute.IterativeImputer(estimator=RandomForestRegressor(random_state=0), random_state=0)\n",
    "x_random_forest_imputed = imputer_random_forest.fit_transform(x)"
   ],
   "metadata": {
    "collapsed": false,
    "pycharm": {
     "name": "#%%\n",
     "is_executing": true
    }
   }
  },
  {
   "cell_type": "code",
   "execution_count": null,
   "outputs": [],
   "source": [
    "evaluate(clf, x_random_forest_imputed, y)"
   ],
   "metadata": {
    "collapsed": false,
    "pycharm": {
     "name": "#%%\n",
     "is_executing": true
    }
   }
  },
  {
   "cell_type": "code",
   "execution_count": null,
   "outputs": [],
   "source": [],
   "metadata": {
    "collapsed": false,
    "pycharm": {
     "name": "#%%\n",
     "is_executing": true
    }
   }
  },
  {
   "cell_type": "markdown",
   "source": [
    "## Missing Indicator"
   ],
   "metadata": {
    "collapsed": false,
    "pycharm": {
     "name": "#%% md\n"
    }
   }
  },
  {
   "cell_type": "code",
   "execution_count": null,
   "outputs": [],
   "source": [
    "# Note: It's important to create the missing indication based on df and not the features generated out of it, since the features will always have missing values (because of the positional features)\n",
    "df.head()"
   ],
   "metadata": {
    "collapsed": false,
    "pycharm": {
     "name": "#%%\n",
     "is_executing": true
    }
   }
  },
  {
   "cell_type": "code",
   "execution_count": null,
   "outputs": [],
   "source": [
    "# Do a constant 0 imputation, but add an indicator whether the sample contained any missing value or not\n",
    "# Create a vector representing whether a row has a missing value or not\n",
    "missing_indicator = impute.MissingIndicator(missing_values=np.nan)\n",
    "missing_indicator.fit_transform(df)[:5]"
   ],
   "metadata": {
    "collapsed": false,
    "pycharm": {
     "name": "#%%\n",
     "is_executing": true
    }
   }
  },
  {
   "cell_type": "code",
   "execution_count": null,
   "outputs": [],
   "source": [
    "# replace each row in missing_indicator with it's \"any\" value\n",
    "x_any_missing = missing_indicator.transform(df).any(axis=1)\n",
    "x_any_missing[:5]"
   ],
   "metadata": {
    "collapsed": false,
    "pycharm": {
     "name": "#%%\n",
     "is_executing": true
    }
   }
  },
  {
   "cell_type": "code",
   "execution_count": null,
   "outputs": [],
   "source": [
    "# Create a copy of x\n",
    "x_missing_indicator = x.copy()\n",
    "assert x_missing_indicator.shape[0] == x_any_missing.shape[0]"
   ],
   "metadata": {
    "collapsed": false,
    "pycharm": {
     "name": "#%%\n",
     "is_executing": true
    }
   }
  },
  {
   "cell_type": "code",
   "execution_count": null,
   "outputs": [],
   "source": [
    "# Add a column to x_missing_indicator with the missing indicator\n",
    "x_missing_indicator['any_missing'] = x_any_missing"
   ],
   "metadata": {
    "collapsed": false,
    "pycharm": {
     "name": "#%%\n",
     "is_executing": true
    }
   }
  },
  {
   "cell_type": "code",
   "execution_count": null,
   "outputs": [],
   "source": [
    "x_missing_indicator"
   ],
   "metadata": {
    "collapsed": false,
    "pycharm": {
     "name": "#%%\n",
     "is_executing": true
    }
   }
  },
  {
   "cell_type": "code",
   "execution_count": null,
   "outputs": [],
   "source": [
    "imputer_zero = impute.SimpleImputer(missing_values=np.nan, strategy='constant', fill_value=0)\n",
    "x_zero_imputed_and_missing_indicator = imputer_zero.fit_transform(x_missing_indicator)"
   ],
   "metadata": {
    "collapsed": false,
    "pycharm": {
     "name": "#%%\n",
     "is_executing": true
    }
   }
  },
  {
   "cell_type": "code",
   "execution_count": null,
   "outputs": [],
   "source": [
    "evaluate(clf, x_zero_imputed_and_missing_indicator, y)"
   ],
   "metadata": {
    "collapsed": false,
    "pycharm": {
     "name": "#%%\n",
     "is_executing": true
    }
   }
  },
  {
   "cell_type": "markdown",
   "source": [
    "## Test set without missing values"
   ],
   "metadata": {
    "collapsed": false,
    "pycharm": {
     "name": "#%% md\n"
    }
   }
  },
  {
   "cell_type": "code",
   "execution_count": null,
   "outputs": [],
   "source": [
    "from sklearn.model_selection import train_test_split\n",
    "from util import get_train_dataset, get_features, fix_test, evaluate, calculate_auc_and_plot\n",
    "\n",
    "df = get_train_dataset()\n",
    "# df = df.sample(n=1000) # for faster debugging\n",
    "\n",
    "train, test = train_test_split(df, test_size=0.2, random_state=42)\n",
    "\n",
    "test.dropna(inplace=True)"
   ],
   "metadata": {
    "collapsed": false,
    "pycharm": {
     "name": "#%%from util import get_train_dataset, get_features, fix_test, plot_roc_curve\n",
     "is_executing": true
    }
   }
  },
  {
   "cell_type": "code",
   "execution_count": null,
   "outputs": [],
   "source": [
    "x = get_features(train)\n",
    "y = train['reaction']"
   ],
   "metadata": {
    "collapsed": false,
    "pycharm": {
     "name": "#%%\n",
     "is_executing": true
    }
   }
  },
  {
   "cell_type": "code",
   "execution_count": null,
   "outputs": [],
   "source": [
    "x_test = get_features(test, test=True)\n",
    "x_test  = fix_test(x_test, x.columns)\n",
    "y_test = test['reaction']"
   ],
   "metadata": {
    "collapsed": false,
    "pycharm": {
     "name": "#%%\n",
     "is_executing": true
    }
   }
  },
  {
   "cell_type": "code",
   "execution_count": null,
   "outputs": [],
   "source": [
    "clf = RandomForestClassifier(random_state=0)"
   ],
   "metadata": {
    "collapsed": false,
    "pycharm": {
     "name": "#%%\n",
     "is_executing": true
    }
   }
  },
  {
   "cell_type": "code",
   "execution_count": null,
   "outputs": [],
   "source": [
    "def evaluate_imputer(imputer):\n",
    "    x_imputed = imputer.fit_transform(x)\n",
    "    clf.fit(x_imputed, y)\n",
    "    x_test_imputed = imputer.transform(x_test)\n",
    "    y_pred = clf.predict_proba(x_test_imputed)[:, 1]\n",
    "    auc = calculate_auc_and_plot(y_test, y_pred)\n",
    "    print(f'AUC: {auc:.3f}')"
   ],
   "metadata": {
    "collapsed": false,
    "pycharm": {
     "name": "#%%\n",
     "is_executing": true
    }
   }
  },
  {
   "cell_type": "code",
   "execution_count": null,
   "outputs": [],
   "source": [
    "def get_columns_starting_with(df, prefix):\n",
    "    return df[df.columns[df.columns.str.startswith(prefix)]]"
   ],
   "metadata": {
    "collapsed": false,
    "pycharm": {
     "name": "#%%\n",
     "is_executing": true
    }
   }
  },
  {
   "cell_type": "code",
   "execution_count": null,
   "outputs": [],
   "source": [
    "clf1 = RandomForestClassifier(random_state=0)\n",
    "clf2 = RandomForestClassifier(random_state=0)\n",
    "def evaluate_imputer_seperate_chains(imputer1, imputer2):\n",
    "    # Keep only the columns starting with 'alfa_'\n",
    "    x_alpha = get_columns_starting_with(x, 'alfa_')\n",
    "    x_beta = get_columns_starting_with(x, 'beta_')\n",
    "\n",
    "    x_imputed_alpha = imputer1.fit_transform(x_alpha)\n",
    "    x_imputed_beta = imputer2.fit_transform(x_beta)\n",
    "\n",
    "    clf1.fit(x_imputed_alpha, y)\n",
    "    clf2.fit(x_imputed_beta, y)\n",
    "\n",
    "    x_test_alpha = get_columns_starting_with(x_test, 'alfa_')\n",
    "    x_test_beta = get_columns_starting_with(x_test, 'beta_')\n",
    "\n",
    "    x_test_alpha = fix_test(x_test_alpha, x_alpha.columns)\n",
    "    x_test_beta = fix_test(x_test_beta, x_beta.columns)\n",
    "\n",
    "    x_test_imputed_alpha = imputer1.transform(x_test_alpha)\n",
    "    x_test_imputed_beta = imputer2.transform(x_test_beta)\n",
    "\n",
    "    y_pred1 = clf1.predict_proba(x_test_imputed_alpha)[:, 1]\n",
    "    y_pred2 = clf2.predict_proba(x_test_imputed_beta)[:, 1]\n",
    "\n",
    "    y_pred = (y_pred1 + y_pred2) / 2\n",
    "    auc = calculate_auc_and_plot(y_test, y_pred)\n",
    "\n",
    "    print(f'AUC: {auc:.3f}')"
   ],
   "metadata": {
    "collapsed": false,
    "pycharm": {
     "name": "#%%\n",
     "is_executing": true
    }
   }
  },
  {
   "cell_type": "markdown",
   "source": [
    "### Zero Imputation"
   ],
   "metadata": {
    "collapsed": false,
    "pycharm": {
     "name": "#%% md\n"
    }
   }
  },
  {
   "cell_type": "code",
   "execution_count": null,
   "outputs": [],
   "source": [
    "# Zero imputation\n",
    "imputer_zero = impute.SimpleImputer(missing_values=np.nan, strategy='constant', fill_value=0)\n",
    "imputer_zero2 = impute.SimpleImputer(missing_values=np.nan, strategy='constant', fill_value=0)"
   ],
   "metadata": {
    "collapsed": false,
    "pycharm": {
     "name": "#%%\n",
     "is_executing": true
    }
   }
  },
  {
   "cell_type": "code",
   "execution_count": null,
   "outputs": [],
   "source": [
    "evaluate_imputer(imputer_zero)"
   ],
   "metadata": {
    "collapsed": false,
    "pycharm": {
     "name": "#%%\n",
     "is_executing": true
    }
   }
  },
  {
   "cell_type": "code",
   "execution_count": null,
   "outputs": [],
   "source": [
    "evaluate_imputer_seperate_chains(imputer_zero, imputer_zero2)"
   ],
   "metadata": {
    "collapsed": false,
    "pycharm": {
     "name": "#%%\n",
     "is_executing": true
    }
   }
  },
  {
   "cell_type": "code",
   "execution_count": null,
   "outputs": [],
   "source": [
    "# Mean imputation\n",
    "imputer_mean = impute.SimpleImputer(missing_values=np.nan, strategy='mean')\n",
    "imputer_mean2 = impute.SimpleImputer(missing_values=np.nan, strategy='mean')"
   ],
   "metadata": {
    "collapsed": false,
    "pycharm": {
     "name": "#%%\n",
     "is_executing": true
    }
   }
  },
  {
   "cell_type": "code",
   "execution_count": null,
   "outputs": [],
   "source": [
    "evaluate_imputer(imputer_mean)"
   ],
   "metadata": {
    "collapsed": false,
    "pycharm": {
     "name": "#%%\n",
     "is_executing": true
    }
   }
  },
  {
   "cell_type": "code",
   "execution_count": null,
   "outputs": [],
   "source": [
    "evaluate_imputer_seperate_chains(imputer_mean, imputer_mean2)"
   ],
   "metadata": {
    "collapsed": false,
    "pycharm": {
     "name": "#%%\n",
     "is_executing": true
    }
   }
  },
  {
   "cell_type": "code",
   "execution_count": null,
   "outputs": [],
   "source": [
    "# Most frequent imputation\n",
    "imputer_most_frequent = impute.SimpleImputer(missing_values=np.nan, strategy='most_frequent')\n",
    "imputer_most_frequent2 = impute.SimpleImputer(missing_values=np.nan, strategy='most_frequent')\n",
    "evaluate_imputer(imputer_most_frequent)"
   ],
   "metadata": {
    "collapsed": false,
    "pycharm": {
     "name": "#%%\n",
     "is_executing": true
    }
   }
  },
  {
   "cell_type": "code",
   "execution_count": null,
   "outputs": [],
   "source": [
    "evaluate_imputer_seperate_chains(imputer_most_frequent, imputer_most_frequent2)"
   ],
   "metadata": {
    "collapsed": false,
    "pycharm": {
     "name": "#%%\n",
     "is_executing": true
    }
   }
  },
  {
   "cell_type": "code",
   "execution_count": null,
   "outputs": [],
   "source": [
    "# Median imputation\n",
    "imputer_median = impute.SimpleImputer(missing_values=np.nan, strategy='median')\n",
    "imputer_median2 = impute.SimpleImputer(missing_values=np.nan, strategy='median')\n",
    "evaluate_imputer(imputer_median)"
   ],
   "metadata": {
    "collapsed": false,
    "pycharm": {
     "name": "#%%\n",
     "is_executing": true
    }
   }
  },
  {
   "cell_type": "code",
   "execution_count": null,
   "outputs": [],
   "source": [
    "evaluate_imputer_seperate_chains(imputer_median, imputer_median2)"
   ],
   "metadata": {
    "collapsed": false,
    "pycharm": {
     "name": "#%%\n",
     "is_executing": true
    }
   }
  },
  {
   "cell_type": "markdown",
   "source": [
    "### Missing Indicator"
   ],
   "metadata": {
    "collapsed": false,
    "pycharm": {
     "name": "#%% md\n"
    }
   }
  },
  {
   "cell_type": "code",
   "execution_count": null,
   "outputs": [],
   "source": [
    "missing_indicator = impute.MissingIndicator(missing_values=np.nan)\n",
    "x_any_missing_train = missing_indicator.fit_transform(train).any(axis=1)\n",
    "x_any_missing_test = missing_indicator.transform(test).any(axis=1)\n",
    "assert x_any_missing_train.shape[0] == x.shape[0]\n",
    "assert x_any_missing_test.shape[0] == x_test.shape[0]"
   ],
   "metadata": {
    "collapsed": false,
    "pycharm": {
     "name": "#%%\n",
     "is_executing": true
    }
   }
  },
  {
   "cell_type": "code",
   "execution_count": null,
   "outputs": [],
   "source": [
    "x_missing_indicator = x.copy()\n",
    "x_missing_indicator_test = x_test.copy()\n",
    "\n",
    "# Add a column to x_missing_indicator with the missing indicator\n",
    "x_missing_indicator['any_missing'] = x_any_missing_train\n",
    "x_missing_indicator_test['any_missing'] = x_any_missing_test"
   ],
   "metadata": {
    "collapsed": false,
    "pycharm": {
     "name": "#%%\n",
     "is_executing": true
    }
   }
  },
  {
   "cell_type": "code",
   "execution_count": null,
   "outputs": [],
   "source": [
    "imputer_zero = impute.SimpleImputer(missing_values=np.nan, strategy='constant', fill_value=0)\n",
    "x_zero_imputed_and_missing_indicator = imputer_zero.fit_transform(x_missing_indicator)\n",
    "x_zero_imputed_and_missing_indicator_test = imputer_zero.transform(x_missing_indicator_test)"
   ],
   "metadata": {
    "collapsed": false,
    "pycharm": {
     "name": "#%%\n",
     "is_executing": true
    }
   }
  },
  {
   "cell_type": "code",
   "execution_count": null,
   "outputs": [],
   "source": [
    "clf.fit(x_zero_imputed_and_missing_indicator, y)\n",
    "y_pred = clf.predict_proba(x_zero_imputed_and_missing_indicator_test)[:, 1]\n",
    "auc = calculate_auc_and_plot(y_test, y_pred)\n",
    "print(f'AUC: {auc:.3f}')"
   ],
   "metadata": {
    "collapsed": false,
    "pycharm": {
     "name": "#%%\n",
     "is_executing": true
    }
   }
  }
 ],
 "metadata": {
  "kernelspec": {
   "display_name": "Python 3 (ipykernel)",
   "language": "python",
   "name": "python3"
  },
  "language_info": {
   "codemirror_mode": {
    "name": "ipython",
    "version": 3
   },
   "file_extension": ".py",
   "mimetype": "text/x-python",
   "name": "python",
   "nbconvert_exporter": "python",
   "pygments_lexer": "ipython3",
   "version": "3.9.7"
  }
 },
 "nbformat": 4,
 "nbformat_minor": 1
}