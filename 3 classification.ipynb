{
 "cells": [
  {
   "cell_type": "markdown",
   "source": [
    "# Classification"
   ],
   "metadata": {
    "collapsed": false,
    "pycharm": {
     "name": "#%% md\n"
    }
   }
  },
  {
   "cell_type": "code",
   "execution_count": 1,
   "outputs": [],
   "source": [
    "from util import get_train_dataset, get_features\n",
    "from sklearn.ensemble import RandomForestClassifier\n",
    "\n",
    "df = get_train_dataset()\n",
    "x = get_features(df) # contains both alfa and beta features\n",
    "y = df['reaction']\n",
    "\n",
    "n_trees = 200\n",
    "\n",
    "clf = RandomForestClassifier(n_estimators=n_trees, random_state=42, class_weight='balanced', verbose=1)"
   ],
   "metadata": {
    "collapsed": false,
    "pycharm": {
     "name": "#%%\n"
    }
   }
  },
  {
   "cell_type": "code",
   "execution_count": 2,
   "outputs": [
    {
     "data": {
      "text/plain": "   beta_J  beta_J=TRBJ1-1  beta_J=TRBJ1-1*01  beta_J=TRBJ1-2  \\\n0     0.0             0.0                0.0             0.0   \n1     0.0             0.0                0.0             0.0   \n2     0.0             0.0                0.0             0.0   \n3     0.0             0.0                0.0             0.0   \n4     0.0             0.0                1.0             0.0   \n\n   beta_J=TRBJ1-2*01  beta_J=TRBJ1-3  beta_J=TRBJ1-3*01  beta_J=TRBJ1-4  \\\n0                0.0             0.0                0.0             0.0   \n1                0.0             0.0                0.0             0.0   \n2                0.0             0.0                0.0             0.0   \n3                0.0             0.0                0.0             0.0   \n4                0.0             0.0                0.0             0.0   \n\n   beta_J=TRBJ1-4*01  beta_J=TRBJ1-5  ...  alfa_pos_8_pI  alfa_pos_0_pI  \\\n0                0.0             0.0  ...       6.012207       0.000000   \n1                0.0             0.0  ...       0.000000       6.012207   \n2                0.0             0.0  ...       0.000000       6.012207   \n3                0.0             0.0  ...       6.012207       0.000000   \n4                0.0             0.0  ...       6.012207       0.000000   \n\n   alfa_pos_-9_pI  alfa_pos_9_pI  alfa_pos_-10_pI  alfa_pos_10_pI  \\\n0        0.000000       0.000000              0.0             0.0   \n1        0.000000       0.000000              0.0             0.0   \n2        0.000000       0.000000              0.0             0.0   \n3        5.253418       6.012207              0.0             0.0   \n4        0.000000       0.000000              0.0             0.0   \n\n   alfa_pos_-11_pI  alfa_pos_11_pI  alfa_pos_-12_pI  alfa_pos_12_pI  \n0              0.0             0.0              0.0             0.0  \n1              0.0             0.0              0.0             0.0  \n2              0.0             0.0              0.0             0.0  \n3              0.0             0.0              0.0             0.0  \n4              0.0             0.0              0.0             0.0  \n\n[5 rows x 1352 columns]",
      "text/html": "<div>\n<style scoped>\n    .dataframe tbody tr th:only-of-type {\n        vertical-align: middle;\n    }\n\n    .dataframe tbody tr th {\n        vertical-align: top;\n    }\n\n    .dataframe thead th {\n        text-align: right;\n    }\n</style>\n<table border=\"1\" class=\"dataframe\">\n  <thead>\n    <tr style=\"text-align: right;\">\n      <th></th>\n      <th>beta_J</th>\n      <th>beta_J=TRBJ1-1</th>\n      <th>beta_J=TRBJ1-1*01</th>\n      <th>beta_J=TRBJ1-2</th>\n      <th>beta_J=TRBJ1-2*01</th>\n      <th>beta_J=TRBJ1-3</th>\n      <th>beta_J=TRBJ1-3*01</th>\n      <th>beta_J=TRBJ1-4</th>\n      <th>beta_J=TRBJ1-4*01</th>\n      <th>beta_J=TRBJ1-5</th>\n      <th>...</th>\n      <th>alfa_pos_8_pI</th>\n      <th>alfa_pos_0_pI</th>\n      <th>alfa_pos_-9_pI</th>\n      <th>alfa_pos_9_pI</th>\n      <th>alfa_pos_-10_pI</th>\n      <th>alfa_pos_10_pI</th>\n      <th>alfa_pos_-11_pI</th>\n      <th>alfa_pos_11_pI</th>\n      <th>alfa_pos_-12_pI</th>\n      <th>alfa_pos_12_pI</th>\n    </tr>\n  </thead>\n  <tbody>\n    <tr>\n      <th>0</th>\n      <td>0.0</td>\n      <td>0.0</td>\n      <td>0.0</td>\n      <td>0.0</td>\n      <td>0.0</td>\n      <td>0.0</td>\n      <td>0.0</td>\n      <td>0.0</td>\n      <td>0.0</td>\n      <td>0.0</td>\n      <td>...</td>\n      <td>6.012207</td>\n      <td>0.000000</td>\n      <td>0.000000</td>\n      <td>0.000000</td>\n      <td>0.0</td>\n      <td>0.0</td>\n      <td>0.0</td>\n      <td>0.0</td>\n      <td>0.0</td>\n      <td>0.0</td>\n    </tr>\n    <tr>\n      <th>1</th>\n      <td>0.0</td>\n      <td>0.0</td>\n      <td>0.0</td>\n      <td>0.0</td>\n      <td>0.0</td>\n      <td>0.0</td>\n      <td>0.0</td>\n      <td>0.0</td>\n      <td>0.0</td>\n      <td>0.0</td>\n      <td>...</td>\n      <td>0.000000</td>\n      <td>6.012207</td>\n      <td>0.000000</td>\n      <td>0.000000</td>\n      <td>0.0</td>\n      <td>0.0</td>\n      <td>0.0</td>\n      <td>0.0</td>\n      <td>0.0</td>\n      <td>0.0</td>\n    </tr>\n    <tr>\n      <th>2</th>\n      <td>0.0</td>\n      <td>0.0</td>\n      <td>0.0</td>\n      <td>0.0</td>\n      <td>0.0</td>\n      <td>0.0</td>\n      <td>0.0</td>\n      <td>0.0</td>\n      <td>0.0</td>\n      <td>0.0</td>\n      <td>...</td>\n      <td>0.000000</td>\n      <td>6.012207</td>\n      <td>0.000000</td>\n      <td>0.000000</td>\n      <td>0.0</td>\n      <td>0.0</td>\n      <td>0.0</td>\n      <td>0.0</td>\n      <td>0.0</td>\n      <td>0.0</td>\n    </tr>\n    <tr>\n      <th>3</th>\n      <td>0.0</td>\n      <td>0.0</td>\n      <td>0.0</td>\n      <td>0.0</td>\n      <td>0.0</td>\n      <td>0.0</td>\n      <td>0.0</td>\n      <td>0.0</td>\n      <td>0.0</td>\n      <td>0.0</td>\n      <td>...</td>\n      <td>6.012207</td>\n      <td>0.000000</td>\n      <td>5.253418</td>\n      <td>6.012207</td>\n      <td>0.0</td>\n      <td>0.0</td>\n      <td>0.0</td>\n      <td>0.0</td>\n      <td>0.0</td>\n      <td>0.0</td>\n    </tr>\n    <tr>\n      <th>4</th>\n      <td>0.0</td>\n      <td>0.0</td>\n      <td>1.0</td>\n      <td>0.0</td>\n      <td>0.0</td>\n      <td>0.0</td>\n      <td>0.0</td>\n      <td>0.0</td>\n      <td>0.0</td>\n      <td>0.0</td>\n      <td>...</td>\n      <td>6.012207</td>\n      <td>0.000000</td>\n      <td>0.000000</td>\n      <td>0.000000</td>\n      <td>0.0</td>\n      <td>0.0</td>\n      <td>0.0</td>\n      <td>0.0</td>\n      <td>0.0</td>\n      <td>0.0</td>\n    </tr>\n  </tbody>\n</table>\n<p>5 rows × 1352 columns</p>\n</div>"
     },
     "execution_count": 2,
     "metadata": {},
     "output_type": "execute_result"
    }
   ],
   "source": [
    "x.head()"
   ],
   "metadata": {
    "collapsed": false,
    "pycharm": {
     "name": "#%%\n"
    }
   }
  },
  {
   "cell_type": "code",
   "execution_count": 3,
   "outputs": [],
   "source": [
    "# Search all NaN's in x\n",
    "import numpy as np\n",
    "np.sum(np.isnan(x)) # A lot more nan's in alfa (since there is more missing data)\n",
    "# just use 0 for now\n",
    "x = x.fillna(0)\n",
    "assert sum(np.sum(np.isnan(x))) == 0"
   ],
   "metadata": {
    "collapsed": false,
    "pycharm": {
     "name": "#%%\n"
    }
   }
  },
  {
   "cell_type": "code",
   "execution_count": 36,
   "outputs": [
    {
     "name": "stderr",
     "output_type": "stream",
     "text": [
      "[Parallel(n_jobs=1)]: Using backend SequentialBackend with 1 concurrent workers.\n",
      "[Parallel(n_jobs=1)]: Done 200 out of 200 | elapsed:  2.7min finished\n",
      "[Parallel(n_jobs=1)]: Using backend SequentialBackend with 1 concurrent workers.\n",
      "[Parallel(n_jobs=1)]: Done 200 out of 200 | elapsed:    0.0s finished\n",
      "[Parallel(n_jobs=1)]: Using backend SequentialBackend with 1 concurrent workers.\n",
      "[Parallel(n_jobs=1)]: Done 200 out of 200 | elapsed:  2.9min finished\n",
      "[Parallel(n_jobs=1)]: Using backend SequentialBackend with 1 concurrent workers.\n",
      "[Parallel(n_jobs=1)]: Done 200 out of 200 | elapsed:    0.1s finished\n",
      "[Parallel(n_jobs=1)]: Using backend SequentialBackend with 1 concurrent workers.\n",
      "[Parallel(n_jobs=1)]: Done 200 out of 200 | elapsed:  2.4min finished\n",
      "[Parallel(n_jobs=1)]: Using backend SequentialBackend with 1 concurrent workers.\n",
      "[Parallel(n_jobs=1)]: Done 200 out of 200 | elapsed:    0.0s finished\n",
      "[Parallel(n_jobs=1)]: Using backend SequentialBackend with 1 concurrent workers.\n",
      "[Parallel(n_jobs=1)]: Done 200 out of 200 | elapsed:  2.2min finished\n",
      "[Parallel(n_jobs=1)]: Using backend SequentialBackend with 1 concurrent workers.\n",
      "[Parallel(n_jobs=1)]: Done 200 out of 200 | elapsed:    0.0s finished\n",
      "[Parallel(n_jobs=1)]: Using backend SequentialBackend with 1 concurrent workers.\n",
      "[Parallel(n_jobs=1)]: Done 200 out of 200 | elapsed:  2.3min finished\n",
      "[Parallel(n_jobs=1)]: Using backend SequentialBackend with 1 concurrent workers.\n",
      "[Parallel(n_jobs=1)]: Done 200 out of 200 | elapsed:    0.0s finished\n"
     ]
    },
    {
     "data": {
      "text/plain": "<Figure size 432x288 with 1 Axes>",
      "image/png": "[encoded data removed]"
     },
     "metadata": {},
     "output_type": "display_data"
    },
    {
     "name": "stdout",
     "output_type": "stream",
     "text": [
      "ROC AUC: 0.9995922091367182\n"
     ]
    }
   ],
   "source": [
    "from sklearn.model_selection import cross_val_predict\n",
    "from sklearn import metrics\n",
    "import matplotlib.pyplot as plt\n",
    "\n",
    "def get_training_data_roc_cv(clf, x, y):\n",
    "    # ROC curve  on the training data\n",
    "    predictions_rf = cross_val_predict(clf,x,y, cv=5, method=\"predict_proba\")\n",
    "    fpr, tpr, thresholds = metrics.roc_curve(y,predictions_rf[:,1], pos_label=1)\n",
    "    roc_auc = metrics.auc(fpr, tpr)\n",
    "\n",
    "    plt.figure()\n",
    "    plt.plot(fpr, tpr, color='green',\n",
    "      lw=2, label=f'Random Forest (AUC = {roc_auc:.3f})')\n",
    "    plt.plot([0, 1], [0, 1], color='navy', lw=2, linestyle='--')\n",
    "    plt.xlim([0.0, 1.0])\n",
    "    plt.ylim([0.0, 1.0])\n",
    "    plt.xlabel('False Positive Rate')\n",
    "    plt.ylabel('True Positive Rate')\n",
    "    plt.title(\"GILGFVFTL\")\n",
    "    plt.legend(loc=\"lower right\")\n",
    "    plt.show()\n",
    "\n",
    "    print(f\"ROC AUC: {roc_auc}\")\n",
    "\n",
    "get_training_data_roc_cv(clf, x, y)"
   ],
   "metadata": {
    "collapsed": false,
    "pycharm": {
     "name": "#%%\n"
    }
   }
  },
  {
   "cell_type": "markdown",
   "source": [
    "This doesn't seem correct... Let's take a look at the most important features"
   ],
   "metadata": {
    "collapsed": false,
    "pycharm": {
     "name": "#%% md\n"
    }
   }
  },
  {
   "cell_type": "code",
   "execution_count": 4,
   "outputs": [
    {
     "name": "stderr",
     "output_type": "stream",
     "text": [
      "[Parallel(n_jobs=1)]: Using backend SequentialBackend with 1 concurrent workers.\n",
      "[Parallel(n_jobs=1)]: Done 200 out of 200 | elapsed:  3.3min finished\n"
     ]
    }
   ],
   "source": [
    "clf_fitted = clf.fit(x, y) # takes about 3.8 minutes"
   ],
   "metadata": {
    "collapsed": false,
    "pycharm": {
     "name": "#%%\n"
    }
   }
  },
  {
   "cell_type": "code",
   "execution_count": 5,
   "outputs": [
    {
     "name": "stdout",
     "output_type": "stream",
     "text": [
      "Feature ranking:\n",
      "1. feature 57: beta_V=TRBV19*01 (0.08862042354957551)\n",
      "2. feature 26: beta_J=TRBJ2-7*01 (0.04458626892897403)\n",
      "3. feature 13: beta_J=TRBJ2-1 (0.03345992603380209)\n",
      "4. feature 14: beta_J=TRBJ2-1*01 (0.03283083244164982)\n",
      "5. feature 130: beta_CDR3_length (0.025865975169020054)\n",
      "6. feature 155: beta_peptide_mass (0.023742822738472034)\n",
      "7. feature 25: beta_J=TRBJ2-7 (0.021023058177938314)\n",
      "8. feature 18: beta_J=TRBJ2-3*01 (0.01852154007604858)\n",
      "9. feature 2: beta_J=TRBJ1-1*01 (0.01476732455691582)\n",
      "10. feature 743: alfa_J=TRAJ42*01 (0.014409235450937374)\n"
     ]
    }
   ],
   "source": [
    "# Get the most important features\n",
    "importances = clf_fitted.feature_importances_\n",
    "indices = np.argsort(importances)[::-1]\n",
    "# Print the feature ranking\n",
    "print(\"Feature ranking:\")\n",
    "for f in range(x.shape[1])[0:10]:\n",
    "    feature_index = indices[f]\n",
    "    feature_name = x.columns[feature_index]\n",
    "    print(f\"{f+1}. feature {feature_index}: {feature_name} ({importances[feature_index]})\" )"
   ],
   "metadata": {
    "collapsed": false,
    "pycharm": {
     "name": "#%%\n"
    }
   }
  },
  {
   "cell_type": "code",
   "execution_count": 10,
   "outputs": [],
   "source": [
    "# Test data\n",
    "from util import get_test_dataset\n",
    "df_test = get_test_dataset()\n",
    "x_test = get_features(df_test, test=True)\n",
    "x_test = x_test.fillna(0)\n",
    "y_test = df_test['reaction']"
   ],
   "metadata": {
    "collapsed": false,
    "pycharm": {
     "name": "#%%\n"
    }
   }
  },
  {
   "cell_type": "code",
   "execution_count": 11,
   "outputs": [
    {
     "name": "stderr",
     "output_type": "stream",
     "text": [
      "C:\\Users\\arnod\\AppData\\Local\\Temp/ipykernel_13228/2922820501.py:4: PerformanceWarning: DataFrame is highly fragmented.  This is usually the result of calling `frame.insert` many times, which has poor performance.  Consider joining all columns at once using pd.concat(axis=1) instead.  To get a de-fragmented frame, use `newframe = frame.copy()`\n",
      "  x_test[col] = 0\n"
     ]
    }
   ],
   "source": [
    "# add all columns that are in x to x_test (and fill them with 0's if they weren't in x_test)\n",
    "for col in x.columns:\n",
    "    if col not in x_test.columns:\n",
    "        x_test[col] = 0\n",
    "# remove all columns from x_test that are not in x\n",
    "x_test = x_test[x.columns]\n",
    "\n",
    "# make sure they both have the same number of features\n",
    "assert x.shape[1] == x_test.shape[1]"
   ],
   "metadata": {
    "collapsed": false,
    "pycharm": {
     "name": "#%%\n"
    }
   }
  },
  {
   "cell_type": "code",
   "execution_count": 14,
   "outputs": [
    {
     "name": "stderr",
     "output_type": "stream",
     "text": [
      "[Parallel(n_jobs=1)]: Using backend SequentialBackend with 1 concurrent workers.\n",
      "[Parallel(n_jobs=1)]: Done 200 out of 200 | elapsed:    0.0s finished\n"
     ]
    },
    {
     "data": {
      "text/plain": "<Figure size 432x288 with 1 Axes>",
      "image/png": "[encoded data removed]"
     },
     "metadata": {
      "needs_background": "light"
     },
     "output_type": "display_data"
    },
    {
     "name": "stdout",
     "output_type": "stream",
     "text": [
      "ROC AUC: 0.8476845541120724\n",
      "[[998  49]\n",
      " [468 562]]\n"
     ]
    },
    {
     "name": "stderr",
     "output_type": "stream",
     "text": [
      "[Parallel(n_jobs=1)]: Using backend SequentialBackend with 1 concurrent workers.\n",
      "[Parallel(n_jobs=1)]: Done 200 out of 200 | elapsed:    0.0s finished\n"
     ]
    }
   ],
   "source": [
    "from sklearn.model_selection import cross_val_predict\n",
    "from sklearn import metrics\n",
    "import matplotlib.pyplot as plt\n",
    "\n",
    "# ROC curve on the test data\n",
    "predictions_rf = clf_fitted.predict_proba(x_test)\n",
    "fpr, tpr, thresholds = metrics.roc_curve(y_test,predictions_rf[:,1], pos_label=1)\n",
    "roc_auc = metrics.auc(fpr, tpr)\n",
    "\n",
    "# Note: code below is entirely from copilo\n",
    "plt.figure()\n",
    "plt.plot(fpr, tpr, color='green',\n",
    "  lw=2, label=f'Random Forest (AUC = {roc_auc:.3f})')\n",
    "plt.plot([0, 1], [0, 1], color='navy', lw=2, linestyle='--')\n",
    "plt.xlim([0.0, 1.0])\n",
    "plt.ylim([0.0, 1.0])\n",
    "plt.xlabel('False Positive Rate')\n",
    "plt.ylabel('True Positive Rate')\n",
    "plt.title(\"GILGFVFTL\")\n",
    "plt.legend(loc=\"lower right\")\n",
    "plt.show()\n",
    "\n",
    "print(f\"ROC AUC: {roc_auc}\")\n",
    "\n",
    "# Also print the confusion matrix\n",
    "y_pred = clf_fitted.predict(x_test)\n",
    "print(metrics.confusion_matrix(y_test, y_pred))"
   ],
   "metadata": {
    "collapsed": false,
    "pycharm": {
     "name": "#%%\n"
    }
   }
  },
  {
   "cell_type": "code",
   "execution_count": null,
   "outputs": [],
   "source": [],
   "metadata": {
    "collapsed": false,
    "pycharm": {
     "name": "#%%\n"
    }
   }
  }
 ],
 "metadata": {
  "kernelspec": {
   "display_name": "Python 3",
   "language": "python",
   "name": "python3"
  },
  "language_info": {
   "codemirror_mode": {
    "name": "ipython",
    "version": 2
   },
   "file_extension": ".py",
   "mimetype": "text/x-python",
   "name": "python",
   "nbconvert_exporter": "python",
   "pygments_lexer": "ipython2",
   "version": "2.7.6"
  }
 },
 "nbformat": 4,
 "nbformat_minor": 0
}