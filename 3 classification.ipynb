{
 "cells": [
  {
   "cell_type": "markdown",
   "source": [
    "# Classification"
   ],
   "metadata": {
    "collapsed": false,
    "pycharm": {
     "name": "#%% md\n"
    }
   }
  },
  {
   "cell_type": "code",
   "execution_count": 1,
   "outputs": [],
   "source": [
    "from util import get_train_dataset, get_features\n",
    "from sklearn.ensemble import RandomForestClassifier\n",
    "\n",
    "df = get_train_dataset()\n",
    "x = get_features(df)  # contains both alfa and beta features\n",
    "y = df['reaction']\n",
    "\n",
    "n_trees = 200\n",
    "\n",
    "clf = RandomForestClassifier(n_estimators=n_trees, random_state=42, class_weight='balanced', verbose=1)"
   ],
   "metadata": {
    "collapsed": false,
    "pycharm": {
     "name": "#%%\n"
    }
   }
  },
  {
   "cell_type": "code",
   "execution_count": 13,
   "outputs": [
    {
     "data": {
      "text/plain": "   beta_J  beta_J=TRBJ1-1  beta_J=TRBJ1-1*01  beta_J=TRBJ1-2  \\\n0     0.0             0.0                0.0             0.0   \n1     0.0             0.0                0.0             0.0   \n2     0.0             0.0                0.0             0.0   \n3     0.0             0.0                0.0             0.0   \n4     0.0             0.0                1.0             0.0   \n\n   beta_J=TRBJ1-2*01  beta_J=TRBJ1-3  beta_J=TRBJ1-3*01  beta_J=TRBJ1-4  \\\n0                0.0             0.0                0.0             0.0   \n1                0.0             0.0                0.0             0.0   \n2                0.0             0.0                0.0             0.0   \n3                0.0             0.0                0.0             0.0   \n4                0.0             0.0                0.0             0.0   \n\n   beta_J=TRBJ1-4*01  beta_J=TRBJ1-5  ...  alfa_pos_8_pI  alfa_pos_0_pI  \\\n0                0.0             0.0  ...       6.012207       0.000000   \n1                0.0             0.0  ...       0.000000       6.012207   \n2                0.0             0.0  ...       0.000000       6.012207   \n3                0.0             0.0  ...       6.012207       0.000000   \n4                0.0             0.0  ...       6.012207       0.000000   \n\n   alfa_pos_-9_pI  alfa_pos_9_pI  alfa_pos_-10_pI  alfa_pos_10_pI  \\\n0        0.000000       0.000000              0.0             0.0   \n1        0.000000       0.000000              0.0             0.0   \n2        0.000000       0.000000              0.0             0.0   \n3        5.253418       6.012207              0.0             0.0   \n4        0.000000       0.000000              0.0             0.0   \n\n   alfa_pos_-11_pI  alfa_pos_11_pI  alfa_pos_-12_pI  alfa_pos_12_pI  \n0              0.0             0.0              0.0             0.0  \n1              0.0             0.0              0.0             0.0  \n2              0.0             0.0              0.0             0.0  \n3              0.0             0.0              0.0             0.0  \n4              0.0             0.0              0.0             0.0  \n\n[5 rows x 1352 columns]",
      "text/html": "<div>\n<style scoped>\n    .dataframe tbody tr th:only-of-type {\n        vertical-align: middle;\n    }\n\n    .dataframe tbody tr th {\n        vertical-align: top;\n    }\n\n    .dataframe thead th {\n        text-align: right;\n    }\n</style>\n<table border=\"1\" class=\"dataframe\">\n  <thead>\n    <tr style=\"text-align: right;\">\n      <th></th>\n      <th>beta_J</th>\n      <th>beta_J=TRBJ1-1</th>\n      <th>beta_J=TRBJ1-1*01</th>\n      <th>beta_J=TRBJ1-2</th>\n      <th>beta_J=TRBJ1-2*01</th>\n      <th>beta_J=TRBJ1-3</th>\n      <th>beta_J=TRBJ1-3*01</th>\n      <th>beta_J=TRBJ1-4</th>\n      <th>beta_J=TRBJ1-4*01</th>\n      <th>beta_J=TRBJ1-5</th>\n      <th>...</th>\n      <th>alfa_pos_8_pI</th>\n      <th>alfa_pos_0_pI</th>\n      <th>alfa_pos_-9_pI</th>\n      <th>alfa_pos_9_pI</th>\n      <th>alfa_pos_-10_pI</th>\n      <th>alfa_pos_10_pI</th>\n      <th>alfa_pos_-11_pI</th>\n      <th>alfa_pos_11_pI</th>\n      <th>alfa_pos_-12_pI</th>\n      <th>alfa_pos_12_pI</th>\n    </tr>\n  </thead>\n  <tbody>\n    <tr>\n      <th>0</th>\n      <td>0.0</td>\n      <td>0.0</td>\n      <td>0.0</td>\n      <td>0.0</td>\n      <td>0.0</td>\n      <td>0.0</td>\n      <td>0.0</td>\n      <td>0.0</td>\n      <td>0.0</td>\n      <td>0.0</td>\n      <td>...</td>\n      <td>6.012207</td>\n      <td>0.000000</td>\n      <td>0.000000</td>\n      <td>0.000000</td>\n      <td>0.0</td>\n      <td>0.0</td>\n      <td>0.0</td>\n      <td>0.0</td>\n      <td>0.0</td>\n      <td>0.0</td>\n    </tr>\n    <tr>\n      <th>1</th>\n      <td>0.0</td>\n      <td>0.0</td>\n      <td>0.0</td>\n      <td>0.0</td>\n      <td>0.0</td>\n      <td>0.0</td>\n      <td>0.0</td>\n      <td>0.0</td>\n      <td>0.0</td>\n      <td>0.0</td>\n      <td>...</td>\n      <td>0.000000</td>\n      <td>6.012207</td>\n      <td>0.000000</td>\n      <td>0.000000</td>\n      <td>0.0</td>\n      <td>0.0</td>\n      <td>0.0</td>\n      <td>0.0</td>\n      <td>0.0</td>\n      <td>0.0</td>\n    </tr>\n    <tr>\n      <th>2</th>\n      <td>0.0</td>\n      <td>0.0</td>\n      <td>0.0</td>\n      <td>0.0</td>\n      <td>0.0</td>\n      <td>0.0</td>\n      <td>0.0</td>\n      <td>0.0</td>\n      <td>0.0</td>\n      <td>0.0</td>\n      <td>...</td>\n      <td>0.000000</td>\n      <td>6.012207</td>\n      <td>0.000000</td>\n      <td>0.000000</td>\n      <td>0.0</td>\n      <td>0.0</td>\n      <td>0.0</td>\n      <td>0.0</td>\n      <td>0.0</td>\n      <td>0.0</td>\n    </tr>\n    <tr>\n      <th>3</th>\n      <td>0.0</td>\n      <td>0.0</td>\n      <td>0.0</td>\n      <td>0.0</td>\n      <td>0.0</td>\n      <td>0.0</td>\n      <td>0.0</td>\n      <td>0.0</td>\n      <td>0.0</td>\n      <td>0.0</td>\n      <td>...</td>\n      <td>6.012207</td>\n      <td>0.000000</td>\n      <td>5.253418</td>\n      <td>6.012207</td>\n      <td>0.0</td>\n      <td>0.0</td>\n      <td>0.0</td>\n      <td>0.0</td>\n      <td>0.0</td>\n      <td>0.0</td>\n    </tr>\n    <tr>\n      <th>4</th>\n      <td>0.0</td>\n      <td>0.0</td>\n      <td>1.0</td>\n      <td>0.0</td>\n      <td>0.0</td>\n      <td>0.0</td>\n      <td>0.0</td>\n      <td>0.0</td>\n      <td>0.0</td>\n      <td>0.0</td>\n      <td>...</td>\n      <td>6.012207</td>\n      <td>0.000000</td>\n      <td>0.000000</td>\n      <td>0.000000</td>\n      <td>0.0</td>\n      <td>0.0</td>\n      <td>0.0</td>\n      <td>0.0</td>\n      <td>0.0</td>\n      <td>0.0</td>\n    </tr>\n  </tbody>\n</table>\n<p>5 rows × 1352 columns</p>\n</div>"
     },
     "execution_count": 13,
     "metadata": {},
     "output_type": "execute_result"
    }
   ],
   "source": [
    "x.head()"
   ],
   "metadata": {
    "collapsed": false,
    "pycharm": {
     "name": "#%%\n"
    }
   }
  },
  {
   "cell_type": "code",
   "execution_count": 14,
   "outputs": [],
   "source": [
    "# Search all NaN's in x\n",
    "import numpy as np\n",
    "\n",
    "np.sum(np.isnan(x))  # A lot more nan's in alfa (since there is more missing data)\n",
    "# just use 0 for now\n",
    "x = x.fillna(0)\n",
    "assert sum(np.sum(np.isnan(x))) == 0"
   ],
   "metadata": {
    "collapsed": false,
    "pycharm": {
     "name": "#%%\n"
    }
   }
  },
  {
   "cell_type": "code",
   "execution_count": 15,
   "outputs": [
    {
     "data": {
      "text/plain": "1    4162\n0    4145\nName: reaction, dtype: int64"
     },
     "execution_count": 15,
     "metadata": {},
     "output_type": "execute_result"
    }
   ],
   "source": [
    "# print the counts of y\n",
    "y.value_counts()"
   ],
   "metadata": {
    "collapsed": false,
    "pycharm": {
     "name": "#%%\n"
    }
   }
  },
  {
   "cell_type": "code",
   "execution_count": 6,
   "outputs": [],
   "source": [
    "from sklearn.model_selection import cross_val_predict\n",
    "from sklearn import metrics\n",
    "import matplotlib.pyplot as plt\n",
    "\n",
    "def plot_roc_curve(fpr, tpr, label, title):\n",
    "    plt.figure()\n",
    "    plt.plot(fpr, tpr, color='green', lw=2, label=label)\n",
    "    plt.plot([0, 1], [0, 1], color='navy', lw=2, linestyle='--')\n",
    "    plt.xlim([0.0, 1.0])\n",
    "    plt.ylim([0.0, 1.0])\n",
    "    plt.xlabel('False Positive Rate')\n",
    "    plt.ylabel('True Positive Rate')\n",
    "    plt.title(title)\n",
    "    plt.legend(loc=\"lower right\")\n",
    "    plt.show()\n",
    "\n",
    "\n",
    "def get_training_data_roc_cv(clf, x, y):\n",
    "    # ROC curve  on the training data\n",
    "    predictions_rf = cross_val_predict(clf, x, y, cv=2, method=\"predict_proba\")\n",
    "    fpr, tpr, thresholds = metrics.roc_curve(y, predictions_rf[:, 1], pos_label=1)\n",
    "    roc_auc = metrics.auc(fpr, tpr)\n",
    "    plot_roc_curve(fpr, tpr, label=f'Random Forest (AUC = {roc_auc:.3f})', title=\"GILGFVFTL\")\n",
    "    print(f\"ROC AUC: {roc_auc}\")\n"
   ],
   "metadata": {
    "collapsed": false,
    "pycharm": {
     "name": "#%%\n"
    }
   }
  },
  {
   "cell_type": "code",
   "execution_count": null,
   "outputs": [],
   "source": [
    "# TIME: +- 20 min\n",
    "get_training_data_roc_cv(clf, x, y)"
   ],
   "metadata": {
    "collapsed": false,
    "pycharm": {
     "name": "#%%\n"
    }
   }
  },
  {
   "cell_type": "markdown",
   "source": [
    "This doesn't seem correct... Let's take a look at the most important features"
   ],
   "metadata": {
    "collapsed": false,
    "pycharm": {
     "name": "#%% md\n"
    }
   }
  },
  {
   "cell_type": "code",
   "execution_count": 4,
   "outputs": [
    {
     "name": "stderr",
     "output_type": "stream",
     "text": [
      "[Parallel(n_jobs=1)]: Using backend SequentialBackend with 1 concurrent workers.\n",
      "[Parallel(n_jobs=1)]: Done 200 out of 200 | elapsed:  3.3min finished\n"
     ]
    }
   ],
   "source": [
    "# TIME: 3.8 min\n",
    "clf_fitted = clf.fit(x, y)  # takes about 3.8 minutes"
   ],
   "metadata": {
    "collapsed": false,
    "pycharm": {
     "name": "#%%\n"
    }
   }
  },
  {
   "cell_type": "code",
   "execution_count": 15,
   "outputs": [
    {
     "name": "stdout",
     "output_type": "stream",
     "text": [
      "Feature ranking:\n",
      "1. feature 57: beta_V=TRBV19*01 (0.08862042354957551)\n",
      "2. feature 26: beta_J=TRBJ2-7*01 (0.04458626892897403)\n",
      "3. feature 13: beta_J=TRBJ2-1 (0.03345992603380209)\n",
      "4. feature 14: beta_J=TRBJ2-1*01 (0.03283083244164982)\n",
      "5. feature 130: beta_CDR3_length (0.025865975169020054)\n",
      "6. feature 155: beta_peptide_mass (0.023742822738472034)\n",
      "7. feature 25: beta_J=TRBJ2-7 (0.021023058177938314)\n",
      "8. feature 18: beta_J=TRBJ2-3*01 (0.01852154007604858)\n",
      "9. feature 2: beta_J=TRBJ1-1*01 (0.01476732455691582)\n",
      "10. feature 743: alfa_J=TRAJ42*01 (0.014409235450937374)\n"
     ]
    }
   ],
   "source": [
    "assert 'reaction' not in x.columns  # make sure we don't use the reaction column\n",
    "\n",
    "# Get the most important features\n",
    "importances = clf_fitted.feature_importances_\n",
    "indices = np.argsort(importances)[::-1]\n",
    "# Print the feature ranking\n",
    "print(\"Feature ranking:\")\n",
    "for f in range(x.shape[1])[0:10]:\n",
    "    feature_index = indices[f]\n",
    "    feature_name = x.columns[feature_index]\n",
    "    print(f\"{f + 1}. feature {feature_index}: {feature_name} ({importances[feature_index]})\")"
   ],
   "metadata": {
    "collapsed": false,
    "pycharm": {
     "name": "#%%\n"
    }
   }
  },
  {
   "cell_type": "code",
   "execution_count": 17,
   "outputs": [],
   "source": [
    "# No clear reasons why results are so good, let's create a test set from the training set\n",
    "# Split x and y in a train and test set\n",
    "from sklearn.model_selection import train_test_split\n",
    "\n",
    "x_train, x_test, y_train, y_test = train_test_split(x, y, test_size=0.2, random_state=42)"
   ],
   "metadata": {
    "collapsed": false,
    "pycharm": {
     "name": "#%%\n"
    }
   }
  },
  {
   "cell_type": "code",
   "execution_count": null,
   "outputs": [],
   "source": [
    "# reset clf\n",
    "clf = RandomForestClassifier(n_estimators=n_trees, random_state=42, class_weight='balanced', verbose=1)\n",
    "# fit clf\n",
    "clf_fitted = clf.fit(x_train, y_train)\n",
    "# predict and calculate roc\n",
    "predictions_rf = clf_fitted.predict_proba(x_test)\n",
    "fpr, tpr, thresholds = metrics.roc_curve(y_test, predictions_rf[:, 1], pos_label=1)\n",
    "roc_auc = metrics.auc(fpr, tpr)\n",
    "plot_roc_curve(fpr, tpr, label=f'Random Forest (AUC = {roc_auc:.3f})', title=\"GILGFVFTL\")\n",
    "print(f\"ROC AUC: {roc_auc}\")"
   ],
   "metadata": {
    "collapsed": false,
    "pycharm": {
     "name": "#%%\n"
    }
   }
  },
  {
   "cell_type": "code",
   "execution_count": 24,
   "outputs": [
    {
     "data": {
      "text/plain": "<Figure size 432x288 with 1 Axes>",
      "image/png": "[encoded data removed]"
     },
     "metadata": {},
     "output_type": "display_data"
    },
    {
     "name": "stdout",
     "output_type": "stream",
     "text": [
      "ROC AUC: 0.9994054696789536\n"
     ]
    }
   ],
   "source": [
    "# With this accuracy, I would expect naïve bayes to also perform quite good\n",
    "from sklearn.naive_bayes import GaussianNB\n",
    "\n",
    "clf = GaussianNB()\n",
    "clf_fitted = clf.fit(x_train, y_train)\n",
    "# predict and calculate roc\n",
    "predictions_rf = clf_fitted.predict_proba(x_test)\n",
    "fpr, tpr, thresholds = metrics.roc_curve(y_test, predictions_rf[:, 1], pos_label=1)\n",
    "roc_auc = metrics.auc(fpr, tpr)\n",
    "plot_roc_curve(fpr, tpr, label=f'Naïve Bayes (AUC = {roc_auc:.3f})', title=\"GILGFVFTL\")\n",
    "print(f\"ROC AUC: {roc_auc}\")\n"
   ],
   "metadata": {
    "collapsed": false,
    "pycharm": {
     "name": "#%%\n"
    }
   }
  },
  {
   "cell_type": "markdown",
   "source": [
    "Still no clear reason, try splitting train and test set before creating features"
   ],
   "metadata": {
    "collapsed": false,
    "pycharm": {
     "name": "#%% md\n"
    }
   }
  },
  {
   "cell_type": "code",
   "execution_count": 13,
   "outputs": [
    {
     "name": "stdout",
     "output_type": "stream",
     "text": [
      "Index(['alfa_J=TRAJ10*01', 'alfa_J=TRAJ13*02', 'alfa_J=TRAJ24*02',\n",
      "       'alfa_J=TRAJ29*01', 'alfa_J=TRAJ3*01', 'alfa_J=TRAJ38*01',\n",
      "       'alfa_J=TRAJ46*01', 'alfa_J=TRAJ56', 'alfa_J=TRAJ61', 'alfa_J=TRAJ9*01',\n",
      "       ...\n",
      "       'beta_V=TRAV8-3*01', 'beta_V=TRAV8-4', 'beta_V=TRAV8-4*01',\n",
      "       'beta_V=TRAV8-5', 'beta_V=TRAV8-6', 'beta_V=TRAV8-6*01',\n",
      "       'beta_V=TRAV8-6*02', 'beta_V=TRAV9-2', 'beta_V=TRAV9-2*01',\n",
      "       'beta_V=TRDV1'],\n",
      "      dtype='object', length=203)\n"
     ]
    }
   ],
   "source": [
    "from util import get_train_dataset, get_features\n",
    "from sklearn.model_selection import train_test_split\n",
    "\n",
    "df = get_train_dataset()\n",
    "\n",
    "# Split df into train and test set\n",
    "df_train, df_test = train_test_split(df, test_size=0.2, random_state=42)\n",
    "\n",
    "# Get features\n",
    "x_train = get_features(df_train)\n",
    "y_train = df_train['reaction']\n",
    "x_train.fillna(0, inplace=True)\n",
    "\n",
    "assert x_train.shape[0] == y_train.shape[0]\n",
    "\n",
    "x_test = get_features(df_test, test=True)\n",
    "x_test2 = get_features(df_test) # kijken of zelfde als x_test, kijken of ze de verwachte lengte hebben. kijken in literatuur of ander model voor missing dat. Moet sowieso voor m'n thesis literatuur in.\n",
    "\n",
    "x_test_columns = x_test.columns\n",
    "x_test2_columns = x_test2.columns\n",
    "diff_columns = x_test_columns.difference(x_test2_columns)\n",
    "\n",
    "y_test = df_test['reaction']\n",
    "\n",
    "x_test.fillna(0, inplace=True)\n",
    "x_test2.fillna(0, inplace=True)\n",
    "\n",
    "assert len(x_train) == len(y_train)\n",
    "assert len(x_test) == len(y_test)"
   ],
   "metadata": {
    "collapsed": false,
    "pycharm": {
     "name": "#%%\n"
    }
   }
  },
  {
   "cell_type": "code",
   "execution_count": 2,
   "outputs": [
    {
     "name": "stderr",
     "output_type": "stream",
     "text": [
      "C:\\Users\\arnod\\AppData\\Local\\Temp/ipykernel_14260/261172612.py:5: PerformanceWarning: DataFrame is highly fragmented.  This is usually the result of calling `frame.insert` many times, which has poor performance.  Consider joining all columns at once using pd.concat(axis=1) instead.  To get a de-fragmented frame, use `newframe = frame.copy()`\n",
      "  df[col] = 0\n"
     ]
    }
   ],
   "source": [
    "def fix_missing_columns(train_columns, df):\n",
    "    # add all columns that are in x to x_test (and fill them with 0's if they weren't in x_test)\n",
    "    for col in train_columns:\n",
    "        if col not in df.columns:\n",
    "            df[col] = 0\n",
    "\n",
    "    # remove all columns from x_test that are not in x\n",
    "    x_test = df[x_train.columns]\n",
    "    return x_test\n",
    "\n",
    "x_test = fix_missing_columns(x_train.columns, x_test)\n",
    "x_test2 = fix_missing_columns(x_train.columns, x_test2)\n",
    "\n",
    "assert x_train.shape[1] == x_test.shape[1]"
   ],
   "metadata": {
    "collapsed": false,
    "pycharm": {
     "name": "#%%\n"
    }
   }
  },
  {
   "cell_type": "code",
   "execution_count": 5,
   "outputs": [
    {
     "data": {
      "text/plain": "<Figure size 432x288 with 1 Axes>",
      "image/png": "[encoded data removed]"
     },
     "metadata": {
      "needs_background": "light"
     },
     "output_type": "display_data"
    },
    {
     "name": "stdout",
     "output_type": "stream",
     "text": [
      "ROC AUC: 0.8708790214074364\n"
     ]
    },
    {
     "data": {
      "text/plain": "<Figure size 432x288 with 1 Axes>",
      "image/png": "[encoded data removed]"
     },
     "metadata": {
      "needs_background": "light"
     },
     "output_type": "display_data"
    },
    {
     "name": "stdout",
     "output_type": "stream",
     "text": [
      "ROC AUC: 0.9993909866017052\n"
     ]
    }
   ],
   "source": [
    "from sklearn.naive_bayes import GaussianNB\n",
    "from sklearn import metrics\n",
    "\n",
    "# Run naïve bayes\n",
    "clf = GaussianNB()\n",
    "clf_fitted = clf.fit(x_train, y_train)\n",
    "\n",
    "# predict and calculate roc test=True\n",
    "predictions_rf = clf_fitted.predict_proba(x_test)\n",
    "fpr, tpr, thresholds = metrics.roc_curve(y_test, predictions_rf[:, 1], pos_label=1)\n",
    "roc_auc = metrics.auc(fpr, tpr)\n",
    "plot_roc_curve(fpr, tpr, label=f'Naïve Bayes (AUC = {roc_auc:.3f})', title=\"GILGFVFTL\")\n",
    "print(f\"ROC AUC: {roc_auc}\")\n",
    "\n",
    "# predict and calculate roc test=False\n",
    "predictions_rf = clf_fitted.predict_proba(x_test2)\n",
    "fpr, tpr, thresholds = metrics.roc_curve(y_test, predictions_rf[:, 1], pos_label=1)\n",
    "roc_auc = metrics.auc(fpr, tpr)\n",
    "plot_roc_curve(fpr, tpr, label=f'Naïve Bayes (AUC = {roc_auc:.3f})', title=\"GILGFVFTL\")\n",
    "print(f\"ROC AUC: {roc_auc}\")"
   ],
   "metadata": {
    "collapsed": false,
    "pycharm": {
     "name": "#%%\n"
    }
   }
  },
  {
   "cell_type": "code",
   "execution_count": 9,
   "outputs": [
    {
     "name": "stdout",
     "output_type": "stream",
     "text": [
      "beta_J=TRBJ1-1\n",
      "beta_J=TRBJ1-1*01\n",
      "beta_J=TRBJ1-2\n",
      "beta_J=TRBJ1-2*01\n",
      "beta_J=TRBJ1-3\n",
      "beta_J=TRBJ1-3*01\n",
      "beta_J=TRBJ1-4\n",
      "beta_J=TRBJ1-4*01\n",
      "beta_J=TRBJ1-5\n",
      "beta_J=TRBJ1-5*01\n",
      "beta_J=TRBJ1-6\n",
      "beta_J=TRBJ1-6*01\n",
      "beta_J=TRBJ2-1\n",
      "beta_J=TRBJ2-1*01\n",
      "beta_J=TRBJ2-2\n",
      "beta_J=TRBJ2-2*01\n",
      "beta_J=TRBJ2-3\n",
      "beta_J=TRBJ2-3*01\n",
      "beta_J=TRBJ2-4\n",
      "beta_J=TRBJ2-4*01\n",
      "beta_J=TRBJ2-5\n",
      "beta_J=TRBJ2-5*01\n",
      "beta_J=TRBJ2-6\n",
      "beta_J=TRBJ2-6*01\n",
      "beta_J=TRBJ2-7\n",
      "beta_J=TRBJ2-7*01\n",
      "beta_V=TRBV10-1*01\n",
      "beta_V=TRBV10-2\n",
      "beta_V=TRBV10-3\n",
      "beta_V=TRBV10-3*01\n",
      "beta_V=TRBV11-1\n",
      "beta_V=TRBV11-2\n",
      "beta_V=TRBV11-2*01\n",
      "beta_V=TRBV11-3\n",
      "beta_V=TRBV12-3\n",
      "beta_V=TRBV12-3*01\n",
      "beta_V=TRBV12-4\n",
      "beta_V=TRBV12-4*01\n",
      "beta_V=TRBV12-5\n",
      "beta_V=TRBV12-5*01\n",
      "beta_V=TRBV13\n",
      "beta_V=TRBV13*01\n",
      "beta_V=TRBV14\n",
      "beta_V=TRBV14*01\n",
      "beta_V=TRBV15\n",
      "beta_V=TRBV15*01\n",
      "beta_V=TRBV18\n",
      "beta_V=TRBV18*01\n",
      "beta_V=TRBV19\n",
      "beta_V=TRBV19*01\n",
      "beta_V=TRBV19*02\n",
      "beta_V=TRBV2\n",
      "beta_V=TRBV2*01\n",
      "beta_V=TRBV20-1\n",
      "beta_V=TRBV20-1*01\n",
      "beta_V=TRBV21-1\n",
      "beta_V=TRBV23-1\n",
      "beta_V=TRBV24-1\n",
      "beta_V=TRBV24-1*01\n",
      "beta_V=TRBV25-1\n",
      "beta_V=TRBV25-1*01\n",
      "beta_V=TRBV27\n",
      "beta_V=TRBV27*01\n",
      "beta_V=TRBV28\n",
      "beta_V=TRBV28*01\n",
      "beta_V=TRBV29-1\n",
      "beta_V=TRBV29-1*01\n",
      "beta_V=TRBV3-1\n",
      "beta_V=TRBV3-1*01\n",
      "beta_V=TRBV3-2\n",
      "beta_V=TRBV30\n",
      "beta_V=TRBV30*01\n",
      "beta_V=TRBV4-1\n",
      "beta_V=TRBV4-1*01\n",
      "beta_V=TRBV4-2\n",
      "beta_V=TRBV4-2*01\n",
      "beta_V=TRBV4-3\n",
      "beta_V=TRBV4-3*01\n",
      "beta_V=TRBV5-1\n",
      "beta_V=TRBV5-1*01\n",
      "beta_V=TRBV5-4\n",
      "beta_V=TRBV5-4*01\n",
      "beta_V=TRBV5-5\n",
      "beta_V=TRBV5-5*01\n",
      "beta_V=TRBV5-6\n",
      "beta_V=TRBV5-6*01\n",
      "beta_V=TRBV5-8\n",
      "beta_V=TRBV5-8*01\n",
      "beta_V=TRBV6-1\n",
      "beta_V=TRBV6-1*01\n",
      "beta_V=TRBV6-2\n",
      "beta_V=TRBV6-2*01\n",
      "beta_V=TRBV6-3*01\n",
      "beta_V=TRBV6-4\n",
      "beta_V=TRBV6-4*01\n",
      "beta_V=TRBV6-5\n",
      "beta_V=TRBV6-5*01\n",
      "beta_V=TRBV6-6\n",
      "beta_V=TRBV6-6*01\n",
      "beta_V=TRBV6-9*01\n",
      "beta_V=TRBV7-2\n",
      "beta_V=TRBV7-2*01\n",
      "beta_V=TRBV7-3\n",
      "beta_V=TRBV7-3*01\n",
      "beta_V=TRBV7-4*01\n",
      "beta_V=TRBV7-6\n",
      "beta_V=TRBV7-6*01\n",
      "beta_V=TRBV7-7\n",
      "beta_V=TRBV7-7*01\n",
      "beta_V=TRBV7-8\n",
      "beta_V=TRBV7-8*01\n",
      "beta_V=TRBV7-9\n",
      "beta_V=TRBV7-9*01\n",
      "beta_V=TRBV7-9*03\n",
      "beta_V=TRBV9\n",
      "beta_V=TRBV9*01\n",
      "alfa_J=TRAJ10*01\n",
      "alfa_J=TRAJ13*02\n",
      "alfa_J=TRAJ24*02\n",
      "alfa_J=TRAJ29*01\n",
      "alfa_J=TRAJ3*01\n",
      "alfa_J=TRAJ38*01\n",
      "alfa_J=TRAJ46*01\n",
      "alfa_J=TRAJ56\n",
      "alfa_J=TRAJ61\n",
      "alfa_J=TRAJ9*01\n",
      "alfa_V=TRAV34*01\n",
      "alfa_V=TRAV4*01\n",
      "alfa_V=TRAV40\n",
      "alfa_V=TRAV40*01\n",
      "alfa_V=TRAV9-2*01\n"
     ]
    }
   ],
   "source": [
    "# we see that we have an (impossible) almost perfect result for x_test2 (with test=False in generate features), let's take a look at the differences between those two\n",
    "\n",
    "# Check whether they have the same columns\n",
    "assert x_test.columns.equals(x_test2.columns)\n",
    "\n",
    "# Take a random column and see whether it's the same\n",
    "col = x_test.columns[0]\n",
    "assert x_test[col].equals(x_test2[col])\n",
    "\n",
    "# Print the columns that are different\n",
    "for col in x_test.columns:\n",
    "    if not x_test[col].equals(x_test2[col]):\n",
    "        print(col)"
   ],
   "metadata": {
    "collapsed": false,
    "pycharm": {
     "name": "#%%\n"
    }
   }
  },
  {
   "cell_type": "code",
   "execution_count": 12,
   "outputs": [
    {
     "name": "stdout",
     "output_type": "stream",
     "text": [
      "Number of different values: 96/1662\n"
     ]
    },
    {
     "data": {
      "text/plain": "      test  test2\n31       0    1.0\n57       0    1.0\n105      0    1.0\n106      0    1.0\n114      0    1.0\n...    ...    ...\n1612     0    1.0\n1624     0    1.0\n1636     0    1.0\n1648     0    1.0\n1651     0    1.0\n\n[96 rows x 2 columns]",
      "text/html": "<div>\n<style scoped>\n    .dataframe tbody tr th:only-of-type {\n        vertical-align: middle;\n    }\n\n    .dataframe tbody tr th {\n        vertical-align: top;\n    }\n\n    .dataframe thead th {\n        text-align: right;\n    }\n</style>\n<table border=\"1\" class=\"dataframe\">\n  <thead>\n    <tr style=\"text-align: right;\">\n      <th></th>\n      <th>test</th>\n      <th>test2</th>\n    </tr>\n  </thead>\n  <tbody>\n    <tr>\n      <th>31</th>\n      <td>0</td>\n      <td>1.0</td>\n    </tr>\n    <tr>\n      <th>57</th>\n      <td>0</td>\n      <td>1.0</td>\n    </tr>\n    <tr>\n      <th>105</th>\n      <td>0</td>\n      <td>1.0</td>\n    </tr>\n    <tr>\n      <th>106</th>\n      <td>0</td>\n      <td>1.0</td>\n    </tr>\n    <tr>\n      <th>114</th>\n      <td>0</td>\n      <td>1.0</td>\n    </tr>\n    <tr>\n      <th>...</th>\n      <td>...</td>\n      <td>...</td>\n    </tr>\n    <tr>\n      <th>1612</th>\n      <td>0</td>\n      <td>1.0</td>\n    </tr>\n    <tr>\n      <th>1624</th>\n      <td>0</td>\n      <td>1.0</td>\n    </tr>\n    <tr>\n      <th>1636</th>\n      <td>0</td>\n      <td>1.0</td>\n    </tr>\n    <tr>\n      <th>1648</th>\n      <td>0</td>\n      <td>1.0</td>\n    </tr>\n    <tr>\n      <th>1651</th>\n      <td>0</td>\n      <td>1.0</td>\n    </tr>\n  </tbody>\n</table>\n<p>96 rows × 2 columns</p>\n</div>"
     },
     "execution_count": 12,
     "metadata": {},
     "output_type": "execute_result"
    }
   ],
   "source": [
    "col = 'beta_J=TRBJ1-1'\n",
    "# See how much the values differ\n",
    "x_test_col = x_test[col]\n",
    "x_test2_col = x_test2[col]\n",
    "\n",
    "diff_values = x_test_col[x_test_col != x_test2_col]\n",
    "print(f\"Number of different values: {len(diff_values)}/{len(x_test_col)}\")\n",
    "\n",
    "diff_test = x_test_col[x_test_col != x_test2_col]\n",
    "diff_test2 = x_test2_col[x_test_col != x_test2_col]\n",
    "\n",
    "# Create one df with the values that are different\n",
    "import pandas as pd\n",
    "diff_df = pd.DataFrame({'test': diff_test, 'test2': diff_test2})\n",
    "diff_df"
   ],
   "metadata": {
    "collapsed": false,
    "pycharm": {
     "name": "#%%\n"
    }
   }
  },
  {
   "cell_type": "code",
   "execution_count": 20,
   "outputs": [],
   "source": [
    "# This accuracy should only be possible if reaction is in the features\n",
    "assert all(['reaction' not in col for col in x_train.columns])\n",
    "# for column in x_train.columns:\n",
    "#     print(column)"
   ],
   "metadata": {
    "collapsed": false,
    "pycharm": {
     "name": "#%%\n"
    }
   }
  },
  {
   "cell_type": "code",
   "execution_count": 20,
   "outputs": [
    {
     "name": "stderr",
     "output_type": "stream",
     "text": [
      "C:\\Users\\arnod\\AppData\\Local\\Temp/ipykernel_14260/1883163809.py:27: PerformanceWarning: DataFrame is highly fragmented.  This is usually the result of calling `frame.insert` many times, which has poor performance.  Consider joining all columns at once using pd.concat(axis=1) instead.  To get a de-fragmented frame, use `newframe = frame.copy()`\n",
      "  x_test[col] = 0\n",
      "[Parallel(n_jobs=1)]: Using backend SequentialBackend with 1 concurrent workers.\n",
      "[Parallel(n_jobs=1)]: Done 200 out of 200 | elapsed:  2.3min finished\n",
      "[Parallel(n_jobs=1)]: Using backend SequentialBackend with 1 concurrent workers.\n",
      "[Parallel(n_jobs=1)]: Done 200 out of 200 | elapsed:    0.0s finished\n"
     ]
    },
    {
     "data": {
      "text/plain": "<Figure size 432x288 with 1 Axes>",
      "image/png": "[encoded data removed]"
     },
     "metadata": {
      "needs_background": "light"
     },
     "output_type": "display_data"
    },
    {
     "name": "stdout",
     "output_type": "stream",
     "text": [
      "ROC AUC: 0.8630812741111459\n"
     ]
    },
    {
     "name": "stderr",
     "output_type": "stream",
     "text": [
      "C:\\Users\\arnod\\AppData\\Local\\Temp/ipykernel_14260/1883163809.py:27: PerformanceWarning: DataFrame is highly fragmented.  This is usually the result of calling `frame.insert` many times, which has poor performance.  Consider joining all columns at once using pd.concat(axis=1) instead.  To get a de-fragmented frame, use `newframe = frame.copy()`\n",
      "  x_test[col] = 0\n",
      "[Parallel(n_jobs=1)]: Using backend SequentialBackend with 1 concurrent workers.\n",
      "[Parallel(n_jobs=1)]: Done 200 out of 200 | elapsed:  2.2min finished\n",
      "[Parallel(n_jobs=1)]: Using backend SequentialBackend with 1 concurrent workers.\n",
      "[Parallel(n_jobs=1)]: Done 200 out of 200 | elapsed:    0.0s finished\n"
     ]
    },
    {
     "data": {
      "text/plain": "<Figure size 432x288 with 1 Axes>",
      "image/png": "[encoded data removed]"
     },
     "metadata": {
      "needs_background": "light"
     },
     "output_type": "display_data"
    },
    {
     "name": "stdout",
     "output_type": "stream",
     "text": [
      "ROC AUC: 0.8699812113045802\n"
     ]
    },
    {
     "name": "stderr",
     "output_type": "stream",
     "text": [
      "C:\\Users\\arnod\\AppData\\Local\\Temp/ipykernel_14260/1883163809.py:27: PerformanceWarning: DataFrame is highly fragmented.  This is usually the result of calling `frame.insert` many times, which has poor performance.  Consider joining all columns at once using pd.concat(axis=1) instead.  To get a de-fragmented frame, use `newframe = frame.copy()`\n",
      "  x_test[col] = 0\n",
      "[Parallel(n_jobs=1)]: Using backend SequentialBackend with 1 concurrent workers.\n",
      "[Parallel(n_jobs=1)]: Done 200 out of 200 | elapsed:  2.2min finished\n",
      "[Parallel(n_jobs=1)]: Using backend SequentialBackend with 1 concurrent workers.\n",
      "[Parallel(n_jobs=1)]: Done 200 out of 200 | elapsed:    0.0s finished\n"
     ]
    },
    {
     "data": {
      "text/plain": "<Figure size 432x288 with 1 Axes>",
      "image/png": "[encoded data removed]"
     },
     "metadata": {
      "needs_background": "light"
     },
     "output_type": "display_data"
    },
    {
     "name": "stdout",
     "output_type": "stream",
     "text": [
      "ROC AUC: 0.8734881477737337\n"
     ]
    },
    {
     "name": "stderr",
     "output_type": "stream",
     "text": [
      "C:\\Users\\arnod\\AppData\\Local\\Temp/ipykernel_14260/1883163809.py:27: PerformanceWarning: DataFrame is highly fragmented.  This is usually the result of calling `frame.insert` many times, which has poor performance.  Consider joining all columns at once using pd.concat(axis=1) instead.  To get a de-fragmented frame, use `newframe = frame.copy()`\n",
      "  x_test[col] = 0\n",
      "[Parallel(n_jobs=1)]: Using backend SequentialBackend with 1 concurrent workers.\n",
      "[Parallel(n_jobs=1)]: Done 200 out of 200 | elapsed:  2.1min finished\n",
      "[Parallel(n_jobs=1)]: Using backend SequentialBackend with 1 concurrent workers.\n",
      "[Parallel(n_jobs=1)]: Done 200 out of 200 | elapsed:    0.0s finished\n"
     ]
    },
    {
     "data": {
      "text/plain": "<Figure size 432x288 with 1 Axes>",
      "image/png": "[encoded data removed]"
     },
     "metadata": {
      "needs_background": "light"
     },
     "output_type": "display_data"
    },
    {
     "name": "stdout",
     "output_type": "stream",
     "text": [
      "ROC AUC: 0.8690682319053091\n"
     ]
    },
    {
     "name": "stderr",
     "output_type": "stream",
     "text": [
      "C:\\Users\\arnod\\AppData\\Local\\Temp/ipykernel_14260/1883163809.py:27: PerformanceWarning: DataFrame is highly fragmented.  This is usually the result of calling `frame.insert` many times, which has poor performance.  Consider joining all columns at once using pd.concat(axis=1) instead.  To get a de-fragmented frame, use `newframe = frame.copy()`\n",
      "  x_test[col] = 0\n",
      "[Parallel(n_jobs=1)]: Using backend SequentialBackend with 1 concurrent workers.\n",
      "[Parallel(n_jobs=1)]: Done 200 out of 200 | elapsed:  2.2min finished\n",
      "[Parallel(n_jobs=1)]: Using backend SequentialBackend with 1 concurrent workers.\n",
      "[Parallel(n_jobs=1)]: Done 200 out of 200 | elapsed:    0.0s finished\n"
     ]
    },
    {
     "data": {
      "text/plain": "<Figure size 432x288 with 1 Axes>",
      "image/png": "[encoded data removed]"
     },
     "metadata": {
      "needs_background": "light"
     },
     "output_type": "display_data"
    },
    {
     "name": "stdout",
     "output_type": "stream",
     "text": [
      "ROC AUC: 0.8837564187060468\n",
      "Average AUC: 0.8718750567601632 (0.00682003451546648)\n",
      "AUC list: [0.8630812741111459, 0.8699812113045802, 0.8734881477737337, 0.8690682319053091, 0.8837564187060468]\n"
     ]
    }
   ],
   "source": [
    "from sklearn.model_selection import train_test_split\n",
    "from sklearn.ensemble import RandomForestClassifier\n",
    "from sklearn.model_selection import cross_val_predict\n",
    "from sklearn import metrics\n",
    "import numpy as np\n",
    "\n",
    "def own_cross_val_predict(clf, df, cv=5):\n",
    "    predictions_rf = []\n",
    "    auc_list = []\n",
    "    for i in range(cv):\n",
    "        df_train, df_test = train_test_split(df, test_size=0.2)\n",
    "\n",
    "        x_train = get_features(df_train)\n",
    "        y_train = df_train['reaction']\n",
    "        x_train.fillna(0, inplace=True)\n",
    "        assert x_train.shape[0] == y_train.shape[0]\n",
    "\n",
    "        x_test = get_features(df_test, test=True)\n",
    "        y_test = df_test['reaction']\n",
    "        x_test.fillna(0, inplace=True)\n",
    "        assert len(x_train) == len(y_train)\n",
    "        assert len(x_test) == len(y_test)\n",
    "\n",
    "        # add all columns that are in x to x_test (and fill them with 0's if they weren't in x_test)\n",
    "        for col in x_train.columns:\n",
    "            if col not in x_test.columns:\n",
    "                x_test[col] = 0\n",
    "        # remove all columns from x_test that are not in x\n",
    "        x_test = x_test[x_train.columns]\n",
    "        assert x_train.shape[1] == x_test.shape[1]\n",
    "\n",
    "        clf_fitted = clf.fit(x_train, y_train)\n",
    "\n",
    "        predictions = clf_fitted.predict_proba(x_test)\n",
    "        predictions_rf.append(predictions)\n",
    "\n",
    "        fpr, tpr, thresholds = metrics.roc_curve(y_test, predictions[:, 1], pos_label=1)\n",
    "        roc_auc = metrics.auc(fpr, tpr)\n",
    "        auc_list.append(roc_auc)\n",
    "        plot_roc_curve(fpr, tpr, label=f'Random Forest (AUC = {roc_auc:.3f})', title=\"GILGFVFTL\")\n",
    "        print(f\"ROC AUC: {roc_auc}\")\n",
    "\n",
    "    # transpose predictions_rf\n",
    "    predictions_rf = np.array(predictions_rf).T\n",
    "    print(f\"Average AUC: {np.mean(auc_list)} ({np.std(auc_list)})\")\n",
    "    print(f\"AUC list: {auc_list}\")\n",
    "    return predictions_rf\n",
    "\n",
    "\n",
    "\n",
    "# Now create our own version of the cross_val_predict function that uses test = True on the get_features function with test\n",
    "def own_get_training_data_roc_cv(clf, df):\n",
    "    # ROC curve  on the training data\n",
    "    predictions_rf = own_cross_val_predict(clf, df, cv=5)\n",
    "    # fpr, tpr, thresholds = metrics.roc_curve(y, predictions_rf[:, 1], pos_label=1)\n",
    "    # roc_auc = metrics.auc(fpr, tpr)\n",
    "    # plot_roc_curve(fpr, tpr, label=f'Random Forest (AUC = {roc_auc:.3f})', title=\"GILGFVFTL\")\n",
    "    # print(f\"ROC AUC: {roc_auc}\")\n",
    "\n",
    "df = get_train_dataset()\n",
    "# x = get_features(df)  # contains both alfa and beta features\n",
    "# y = df['reaction']\n",
    "\n",
    "clf = RandomForestClassifier(n_estimators=200, random_state=42, class_weight='balanced', verbose=1)\n",
    "# x.fillna(0, inplace=True)\n",
    "# randomly select 200 rows from the dataset\n",
    "# df2 = df.sample(n=200, random_state=42)\n",
    "own_get_training_data_roc_cv(clf, df)"
   ],
   "metadata": {
    "collapsed": false,
    "pycharm": {
     "name": "#%%\n"
    }
   }
  },
  {
   "cell_type": "markdown",
   "source": [
    "# Test Data"
   ],
   "metadata": {
    "collapsed": false,
    "pycharm": {
     "name": "#%% md\n"
    }
   }
  },
  {
   "cell_type": "code",
   "execution_count": 2,
   "outputs": [
    {
     "name": "stderr",
     "output_type": "stream",
     "text": [
      "[Parallel(n_jobs=1)]: Using backend SequentialBackend with 1 concurrent workers.\n",
      "[Parallel(n_jobs=1)]: Done 200 out of 200 | elapsed:  5.2min finished\n"
     ]
    }
   ],
   "source": [
    "from sklearn.ensemble import RandomForestClassifier\n",
    "\n",
    "df = get_train_dataset()\n",
    "x = get_features(df)  # contains both alfa and beta features\n",
    "y = df['reaction']\n",
    "x.fillna(0, inplace=True)\n",
    "\n",
    "clf = RandomForestClassifier(n_estimators=200, random_state=42, class_weight='balanced', verbose=1)\n",
    "clf_fitted = clf.fit(x, y)"
   ],
   "metadata": {
    "collapsed": false,
    "pycharm": {
     "name": "#%%\n"
    }
   }
  },
  {
   "cell_type": "code",
   "execution_count": 3,
   "outputs": [],
   "source": [
    "# Test data\n",
    "from util import get_test_dataset\n",
    "\n",
    "df_test = get_test_dataset()\n",
    "x_test = get_features(df_test, test=True)\n",
    "x_test2 = get_features(df_test)\n",
    "\n",
    "x_test = x_test.fillna(0)\n",
    "x_test2 = x_test2.fillna(0)\n",
    "\n",
    "y_test = df_test['reaction']"
   ],
   "metadata": {
    "collapsed": false,
    "pycharm": {
     "name": "#%%\n"
    }
   }
  },
  {
   "cell_type": "code",
   "execution_count": 4,
   "outputs": [
    {
     "name": "stderr",
     "output_type": "stream",
     "text": [
      "C:\\Users\\arnod\\AppData\\Local\\Temp/ipykernel_49816/3056740009.py:4: PerformanceWarning: DataFrame is highly fragmented.  This is usually the result of calling `frame.insert` many times, which has poor performance.  Consider joining all columns at once using pd.concat(axis=1) instead.  To get a de-fragmented frame, use `newframe = frame.copy()`\n",
      "  x_test[col] = 0\n",
      "C:\\Users\\arnod\\AppData\\Local\\Temp/ipykernel_49816/3056740009.py:6: PerformanceWarning: DataFrame is highly fragmented.  This is usually the result of calling `frame.insert` many times, which has poor performance.  Consider joining all columns at once using pd.concat(axis=1) instead.  To get a de-fragmented frame, use `newframe = frame.copy()`\n",
      "  x_test2[col] = 0\n"
     ]
    }
   ],
   "source": [
    "# add all columns that are in x to x_test (and fill them with 0's if they weren't in x_test)\n",
    "for col in x.columns:\n",
    "    if col not in x_test.columns:\n",
    "        x_test[col] = 0\n",
    "    if col not in x_test2.columns:\n",
    "        x_test2[col] = 0\n",
    "# remove all columns from x_test that are not in x\n",
    "x_test = x_test[x.columns]\n",
    "x_test2 = x_test2[x.columns]\n",
    "\n",
    "# make sure they both have the same number of features\n",
    "assert x.shape[1] == x_test.shape[1]"
   ],
   "metadata": {
    "collapsed": false,
    "pycharm": {
     "name": "#%%\n"
    }
   }
  },
  {
   "cell_type": "code",
   "execution_count": 7,
   "outputs": [
    {
     "name": "stderr",
     "output_type": "stream",
     "text": [
      "[Parallel(n_jobs=1)]: Using backend SequentialBackend with 1 concurrent workers.\n",
      "[Parallel(n_jobs=1)]: Done 200 out of 200 | elapsed:    0.4s finished\n"
     ]
    },
    {
     "data": {
      "text/plain": "<Figure size 432x288 with 1 Axes>",
      "image/png": "[encoded data removed]"
     },
     "metadata": {
      "needs_background": "light"
     },
     "output_type": "display_data"
    },
    {
     "name": "stderr",
     "output_type": "stream",
     "text": [
      "[Parallel(n_jobs=1)]: Using backend SequentialBackend with 1 concurrent workers.\n"
     ]
    },
    {
     "name": "stdout",
     "output_type": "stream",
     "text": [
      "[[1001   46]\n",
      " [ 397  633]]\n"
     ]
    },
    {
     "name": "stderr",
     "output_type": "stream",
     "text": [
      "[Parallel(n_jobs=1)]: Done 200 out of 200 | elapsed:    0.1s finished\n"
     ]
    }
   ],
   "source": [
    "from sklearn.model_selection import cross_val_predict\n",
    "from sklearn import metrics\n",
    "import matplotlib.pyplot as plt\n",
    "\n",
    "# ROC curve on the test data\n",
    "predictions_rf = clf_fitted.predict_proba(x_test)\n",
    "fpr, tpr, thresholds = metrics.roc_curve(y_test, predictions_rf[:, 1], pos_label=1)\n",
    "roc_auc = metrics.auc(fpr, tpr)\n",
    "\n",
    "plot_roc_curve(fpr, tpr, label=f'Random Forest (AUC = {roc_auc:.3f})', title=\"GILGFVFTL\")\n",
    "\n",
    "# Also print the confusion matrix\n",
    "y_pred = clf_fitted.predict(x_test)\n",
    "print(metrics.confusion_matrix(y_test, y_pred))"
   ],
   "metadata": {
    "collapsed": false,
    "pycharm": {
     "name": "#%%\n"
    }
   }
  },
  {
   "cell_type": "code",
   "execution_count": 8,
   "outputs": [
    {
     "name": "stderr",
     "output_type": "stream",
     "text": [
      "[Parallel(n_jobs=1)]: Using backend SequentialBackend with 1 concurrent workers.\n",
      "[Parallel(n_jobs=1)]: Done 200 out of 200 | elapsed:    0.1s finished\n"
     ]
    },
    {
     "data": {
      "text/plain": "<Figure size 432x288 with 1 Axes>",
      "image/png": "[encoded data removed]"
     },
     "metadata": {
      "needs_background": "light"
     },
     "output_type": "display_data"
    },
    {
     "name": "stdout",
     "output_type": "stream",
     "text": [
      "[[1001   46]\n",
      " [ 397  633]]\n"
     ]
    },
    {
     "name": "stderr",
     "output_type": "stream",
     "text": [
      "[Parallel(n_jobs=1)]: Using backend SequentialBackend with 1 concurrent workers.\n",
      "[Parallel(n_jobs=1)]: Done 200 out of 200 | elapsed:    0.0s finished\n"
     ]
    }
   ],
   "source": [
    "from sklearn.model_selection import cross_val_predict\n",
    "from sklearn import metrics\n",
    "import matplotlib.pyplot as plt\n",
    "\n",
    "# ROC curve on the test data\n",
    "predictions_rf = clf_fitted.predict_proba(x_test2)\n",
    "fpr, tpr, thresholds = metrics.roc_curve(y_test, predictions_rf[:, 1], pos_label=1)\n",
    "roc_auc = metrics.auc(fpr, tpr)\n",
    "\n",
    "plot_roc_curve(fpr, tpr, label=f'Random Forest (AUC = {roc_auc:.3f})', title=\"GILGFVFTL\")\n",
    "\n",
    "# Also print the confusion matrix\n",
    "y_pred = clf_fitted.predict(x_test)\n",
    "print(metrics.confusion_matrix(y_test, y_pred))"
   ],
   "metadata": {
    "collapsed": false,
    "pycharm": {
     "name": "#%%\n"
    }
   }
  },
  {
   "cell_type": "code",
   "execution_count": 10,
   "outputs": [
    {
     "name": "stdout",
     "output_type": "stream",
     "text": [
      "beta_J\n",
      "beta_J=TRBJ1-1\n",
      "beta_J=TRBJ1-1*01\n",
      "beta_J=TRBJ1-2\n",
      "beta_J=TRBJ1-2*01\n",
      "beta_J=TRBJ1-3\n",
      "beta_J=TRBJ1-3*01\n",
      "beta_J=TRBJ1-4\n",
      "beta_J=TRBJ1-4*01\n",
      "beta_J=TRBJ1-5\n",
      "beta_J=TRBJ1-5*01\n",
      "beta_J=TRBJ1-6\n",
      "beta_J=TRBJ1-6*01\n",
      "beta_J=TRBJ2-1\n",
      "beta_J=TRBJ2-1*01\n",
      "beta_J=TRBJ2-2\n",
      "beta_J=TRBJ2-2*01\n",
      "beta_J=TRBJ2-3\n",
      "beta_J=TRBJ2-3*01\n",
      "beta_J=TRBJ2-4\n",
      "beta_J=TRBJ2-4*01\n",
      "beta_J=TRBJ2-5\n",
      "beta_J=TRBJ2-5*01\n",
      "beta_J=TRBJ2-6\n",
      "beta_J=TRBJ2-6*01\n",
      "beta_J=TRBJ2-7\n",
      "beta_J=TRBJ2-7*01\n",
      "beta_V\n",
      "beta_V=TRBV10-1*01\n",
      "beta_V=TRBV10-2\n",
      "beta_V=TRBV10-2*01\n",
      "beta_V=TRBV10-3\n",
      "beta_V=TRBV10-3*01\n",
      "beta_V=TRBV11-1\n",
      "beta_V=TRBV11-1*01\n",
      "beta_V=TRBV11-2\n",
      "beta_V=TRBV11-2*01\n",
      "beta_V=TRBV11-3\n",
      "beta_V=TRBV11-3*01\n",
      "beta_V=TRBV12-3\n",
      "beta_V=TRBV12-3*01\n",
      "beta_V=TRBV12-4\n",
      "beta_V=TRBV12-4*01\n",
      "beta_V=TRBV12-5\n",
      "beta_V=TRBV12-5*01\n",
      "beta_V=TRBV13\n",
      "beta_V=TRBV13*01\n",
      "beta_V=TRBV14\n",
      "beta_V=TRBV14*01\n",
      "beta_V=TRBV15\n",
      "beta_V=TRBV15*01\n",
      "beta_V=TRBV16\n",
      "beta_V=TRBV18\n",
      "beta_V=TRBV18*01\n",
      "beta_V=TRBV19\n",
      "beta_V=TRBV19*01\n",
      "beta_V=TRBV19*02\n",
      "beta_V=TRBV2\n",
      "beta_V=TRBV2*01\n",
      "beta_V=TRBV20-1\n",
      "beta_V=TRBV20-1*01\n",
      "beta_V=TRBV21-1\n",
      "beta_V=TRBV23-1\n",
      "beta_V=TRBV24-1\n",
      "beta_V=TRBV24-1*01\n",
      "beta_V=TRBV25-1\n",
      "beta_V=TRBV25-1*01\n",
      "beta_V=TRBV27\n",
      "beta_V=TRBV27*01\n",
      "beta_V=TRBV28\n",
      "beta_V=TRBV28*01\n",
      "beta_V=TRBV29-1\n",
      "beta_V=TRBV29-1*01\n",
      "beta_V=TRBV3-1\n",
      "beta_V=TRBV3-1*01\n",
      "beta_V=TRBV3-2\n",
      "beta_V=TRBV30\n",
      "beta_V=TRBV30*01\n",
      "beta_V=TRBV4-1\n",
      "beta_V=TRBV4-1*01\n",
      "beta_V=TRBV4-2\n",
      "beta_V=TRBV4-2*01\n",
      "beta_V=TRBV4-3\n",
      "beta_V=TRBV4-3*01\n",
      "beta_V=TRBV5-1\n",
      "beta_V=TRBV5-1*01\n",
      "beta_V=TRBV5-4\n",
      "beta_V=TRBV5-4*01\n",
      "beta_V=TRBV5-5\n",
      "beta_V=TRBV5-5*01\n",
      "beta_V=TRBV5-6\n",
      "beta_V=TRBV5-6*01\n",
      "beta_V=TRBV5-8\n",
      "beta_V=TRBV6-1\n",
      "beta_V=TRBV6-1*01\n",
      "beta_V=TRBV6-2\n",
      "beta_V=TRBV6-2*01\n",
      "beta_V=TRBV6-3*01\n",
      "beta_V=TRBV6-4\n",
      "beta_V=TRBV6-4*01\n",
      "beta_V=TRBV6-4*02\n",
      "beta_V=TRBV6-5\n",
      "beta_V=TRBV6-5*01\n",
      "beta_V=TRBV6-6\n",
      "beta_V=TRBV6-6*01\n",
      "beta_V=TRBV7-2\n",
      "beta_V=TRBV7-2*01\n",
      "beta_V=TRBV7-2*03\n",
      "beta_V=TRBV7-3\n",
      "beta_V=TRBV7-3*01\n",
      "beta_V=TRBV7-4\n",
      "beta_V=TRBV7-6\n",
      "beta_V=TRBV7-6*01\n",
      "beta_V=TRBV7-7\n",
      "beta_V=TRBV7-8\n",
      "beta_V=TRBV7-8*01\n",
      "beta_V=TRBV7-9\n",
      "beta_V=TRBV7-9*01\n",
      "beta_V=TRBV9\n",
      "beta_V=TRBV9*01\n",
      "alfa_J=TRAJ13*02\n",
      "alfa_J=TRAJ18*01\n",
      "alfa_J=TRAJ21*01\n",
      "alfa_J=TRAJ22*01\n",
      "alfa_J=TRAJ24*02\n",
      "alfa_J=TRAJ25\n",
      "alfa_J=TRAJ29*01\n",
      "alfa_J=TRAJ46*01\n",
      "alfa_J=TRAJ61\n",
      "alfa_J=TRAJ8*01\n",
      "alfa_V=TRAV14/DV4*02\n",
      "alfa_V=TRAV34\n",
      "alfa_V=TRAV40*01\n",
      "alfa_V=TRAV8-2*01\n",
      "alfa_V=TRAV8-5\n"
     ]
    }
   ],
   "source": [
    "# Check whether they have the same columns\n",
    "assert x_test.columns.equals(x_test2.columns)\n",
    "\n",
    "# # Take a random column and see whether it's the same\n",
    "# col = x_test.columns[0]\n",
    "# assert x_test[col].equals(x_test2[col]) # AssertionError, they're not the same\n",
    "\n",
    "# Print the columns that are different\n",
    "for col in x_test.columns:\n",
    "    if not x_test[col].equals(x_test2[col]):\n",
    "        print(col)"
   ],
   "metadata": {
    "collapsed": false,
    "pycharm": {
     "name": "#%%\n"
    }
   }
  },
  {
   "cell_type": "code",
   "execution_count": 12,
   "outputs": [
    {
     "name": "stdout",
     "output_type": "stream",
     "text": [
      "Number of different values: 103/2077\n"
     ]
    },
    {
     "data": {
      "text/plain": "      test  test2\n2        0    1.0\n11       0    1.0\n13       0    1.0\n119      0    1.0\n137      0    1.0\n...    ...    ...\n1997     0    1.0\n2000     0    1.0\n2023     0    1.0\n2037     0    1.0\n2039     0    1.0\n\n[103 rows x 2 columns]",
      "text/html": "<div>\n<style scoped>\n    .dataframe tbody tr th:only-of-type {\n        vertical-align: middle;\n    }\n\n    .dataframe tbody tr th {\n        vertical-align: top;\n    }\n\n    .dataframe thead th {\n        text-align: right;\n    }\n</style>\n<table border=\"1\" class=\"dataframe\">\n  <thead>\n    <tr style=\"text-align: right;\">\n      <th></th>\n      <th>test</th>\n      <th>test2</th>\n    </tr>\n  </thead>\n  <tbody>\n    <tr>\n      <th>2</th>\n      <td>0</td>\n      <td>1.0</td>\n    </tr>\n    <tr>\n      <th>11</th>\n      <td>0</td>\n      <td>1.0</td>\n    </tr>\n    <tr>\n      <th>13</th>\n      <td>0</td>\n      <td>1.0</td>\n    </tr>\n    <tr>\n      <th>119</th>\n      <td>0</td>\n      <td>1.0</td>\n    </tr>\n    <tr>\n      <th>137</th>\n      <td>0</td>\n      <td>1.0</td>\n    </tr>\n    <tr>\n      <th>...</th>\n      <td>...</td>\n      <td>...</td>\n    </tr>\n    <tr>\n      <th>1997</th>\n      <td>0</td>\n      <td>1.0</td>\n    </tr>\n    <tr>\n      <th>2000</th>\n      <td>0</td>\n      <td>1.0</td>\n    </tr>\n    <tr>\n      <th>2023</th>\n      <td>0</td>\n      <td>1.0</td>\n    </tr>\n    <tr>\n      <th>2037</th>\n      <td>0</td>\n      <td>1.0</td>\n    </tr>\n    <tr>\n      <th>2039</th>\n      <td>0</td>\n      <td>1.0</td>\n    </tr>\n  </tbody>\n</table>\n<p>103 rows × 2 columns</p>\n</div>"
     },
     "execution_count": 12,
     "metadata": {},
     "output_type": "execute_result"
    }
   ],
   "source": [
    "col = 'beta_J=TRBJ1-1'\n",
    "# See how much the values differ\n",
    "x_test_col = x_test[col]\n",
    "x_test2_col = x_test2[col]\n",
    "\n",
    "diff_values = x_test_col[x_test_col != x_test2_col]\n",
    "print(f\"Number of different values: {len(diff_values)}/{len(x_test_col)}\")\n",
    "\n",
    "diff_test = x_test_col[x_test_col != x_test2_col]\n",
    "diff_test2 = x_test2_col[x_test_col != x_test2_col]\n",
    "\n",
    "# Create one df with the values that are different\n",
    "import pandas as pd\n",
    "diff_df = pd.DataFrame({'test': diff_test, 'test2': diff_test2})\n",
    "diff_df"
   ],
   "metadata": {
    "collapsed": false,
    "pycharm": {
     "name": "#%%\n"
    }
   }
  },
  {
   "cell_type": "code",
   "execution_count": null,
   "outputs": [],
   "source": [],
   "metadata": {
    "collapsed": false,
    "pycharm": {
     "name": "#%%\n"
    }
   }
  }
 ],
 "metadata": {
  "kernelspec": {
   "display_name": "Python 3",
   "language": "python",
   "name": "python3"
  },
  "language_info": {
   "codemirror_mode": {
    "name": "ipython",
    "version": 2
   },
   "file_extension": ".py",
   "mimetype": "text/x-python",
   "name": "python",
   "nbconvert_exporter": "python",
   "pygments_lexer": "ipython2",
   "version": "2.7.6"
  }
 },
 "nbformat": 4,
 "nbformat_minor": 0
}