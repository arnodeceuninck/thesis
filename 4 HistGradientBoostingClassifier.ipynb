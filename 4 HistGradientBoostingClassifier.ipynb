{
 "cells": [
  {
   "cell_type": "markdown",
   "source": [
    "# Classification"
   ],
   "metadata": {
    "collapsed": false,
    "pycharm": {
     "name": "#%% md\n"
    }
   }
  },
  {
   "cell_type": "code",
   "execution_count": 28,
   "outputs": [],
   "source": [
    "# This cell contains code form earlier notebooks, should be placed in util\n",
    "from sklearn.model_selection import cross_val_predict\n",
    "from sklearn import metrics\n",
    "import matplotlib.pyplot as plt\n",
    "\n",
    "def plot_roc_curve(fpr, tpr, label, title):\n",
    "    plt.figure()\n",
    "    plt.plot(fpr, tpr, color='green', lw=2, label=label)\n",
    "    plt.plot([0, 1], [0, 1], color='navy', lw=2, linestyle='--')\n",
    "    plt.xlim([0.0, 1.0])\n",
    "    plt.ylim([0.0, 1.0])\n",
    "    plt.xlabel('False Positive Rate')\n",
    "    plt.ylabel('True Positive Rate')\n",
    "    plt.title(title)\n",
    "    plt.legend(loc=\"lower right\")\n",
    "    plt.show()\n",
    "\n",
    "\n",
    "def get_training_data_roc_cv(clf, x, y):\n",
    "    # ROC curve  on the training data\n",
    "    predictions_rf = cross_val_predict(clf, x, y, cv=2, method=\"predict_proba\")\n",
    "    fpr, tpr, thresholds = metrics.roc_curve(y, predictions_rf[:, 1], pos_label=1)\n",
    "    roc_auc = metrics.auc(fpr, tpr)\n",
    "    plot_roc_curve(fpr, tpr, label=f'Random Forest (AUC = {roc_auc:.3f})', title=\"GILGFVFTL\")\n",
    "    print(f\"ROC AUC: {roc_auc}\")\n",
    "\n",
    "def fix_test(x_test, train_columns):\n",
    "    # x_test.fillna(0, inplace=True)\n",
    "    for col in train_columns:\n",
    "        if col not in x_test.columns:\n",
    "            x_test[col] = 0\n",
    "    # remove all columns from x_test that are not in x\n",
    "    x_test = x_test[train_columns]\n",
    "    return x_test"
   ],
   "metadata": {
    "collapsed": false,
    "pycharm": {
     "name": "#%%\n"
    }
   }
  },
  {
   "cell_type": "code",
   "execution_count": 29,
   "outputs": [
    {
     "name": "stdout",
     "output_type": "stream",
     "text": [
      "(6645, 1329) (6645,)\n"
     ]
    },
    {
     "name": "stderr",
     "output_type": "stream",
     "text": [
      "C:\\Users\\arnod\\AppData\\Local\\Temp/ipykernel_46300/2350080507.py:31: PerformanceWarning: DataFrame is highly fragmented.  This is usually the result of calling `frame.insert` many times, which has poor performance.  Consider joining all columns at once using pd.concat(axis=1) instead.  To get a de-fragmented frame, use `newframe = frame.copy()`\n",
      "  x_test[col] = 0\n"
     ]
    }
   ],
   "source": [
    "from util import get_train_dataset, get_features\n",
    "from sklearn.ensemble import HistGradientBoostingClassifier\n",
    "from sklearn.model_selection import train_test_split\n",
    "\n",
    "df = get_train_dataset()\n",
    "train, test = train_test_split(df, test_size=0.2, random_state=42)\n",
    "\n",
    "x = get_features(train)  # contains both alfa and beta features\n",
    "y = train['reaction']\n",
    "print(x.shape, y.shape)\n",
    "assert x.shape[0] == y.shape[0]\n",
    "\n",
    "x_test = get_features(test, test=True)\n",
    "x_test = fix_test(x_test, x.columns)\n",
    "y_test = test['reaction']\n",
    "assert x_test.shape[0] == y_test.shape[0]\n",
    "\n",
    "x_no_nan = x.fillna(0)\n",
    "x_test_no_nan = x_test.fillna(0)\n",
    "\n",
    "n_trees = 200\n",
    "\n",
    "clf = HistGradientBoostingClassifier(verbose=2)"
   ],
   "metadata": {
    "collapsed": false,
    "pycharm": {
     "name": "#%%\n"
    }
   }
  },
  {
   "cell_type": "code",
   "execution_count": 30,
   "outputs": [
    {
     "name": "stdout",
     "output_type": "stream",
     "text": [
      "Binning 0.071 GB of training data: 0.311 s\n",
      "Fitting gradient boosted rounds:\n",
      "[1/100] 1 tree, 29 leaves, max depth = 18, in 0.327s\n",
      "[2/100] 1 tree, 31 leaves, max depth = 19, in 0.317s\n",
      "[3/100] 1 tree, 31 leaves, max depth = 20, in 0.311s\n",
      "[4/100] 1 tree, 28 leaves, max depth = 20, in 0.328s\n",
      "[5/100] 1 tree, 31 leaves, max depth = 20, in 0.333s\n",
      "[6/100] 1 tree, 31 leaves, max depth = 22, in 0.304s\n",
      "[7/100] 1 tree, 31 leaves, max depth = 23, in 0.309s\n",
      "[8/100] 1 tree, 31 leaves, max depth = 22, in 0.312s\n",
      "[9/100] 1 tree, 31 leaves, max depth = 20, in 0.329s\n",
      "[10/100] 1 tree, 31 leaves, max depth = 21, in 0.306s\n",
      "[11/100] 1 tree, 31 leaves, max depth = 20, in 0.310s\n",
      "[12/100] 1 tree, 31 leaves, max depth = 20, in 0.315s\n",
      "[13/100] 1 tree, 31 leaves, max depth = 21, in 0.310s\n",
      "[14/100] 1 tree, 31 leaves, max depth = 20, in 0.320s\n",
      "[15/100] 1 tree, 31 leaves, max depth = 21, in 0.297s\n",
      "[16/100] 1 tree, 31 leaves, max depth = 20, in 0.312s\n",
      "[17/100] 1 tree, 31 leaves, max depth = 20, in 0.330s\n",
      "[18/100] 1 tree, 31 leaves, max depth = 21, in 0.359s\n",
      "[19/100] 1 tree, 31 leaves, max depth = 18, in 0.322s\n",
      "[20/100] 1 tree, 31 leaves, max depth = 19, in 0.320s\n",
      "[21/100] 1 tree, 31 leaves, max depth = 18, in 0.320s\n",
      "[22/100] 1 tree, 31 leaves, max depth = 18, in 0.317s\n",
      "[23/100] 1 tree, 31 leaves, max depth = 16, in 0.302s\n",
      "[24/100] 1 tree, 31 leaves, max depth = 16, in 0.342s\n",
      "[25/100] 1 tree, 31 leaves, max depth = 17, in 0.306s\n",
      "[26/100] 1 tree, 31 leaves, max depth = 17, in 0.310s\n",
      "[27/100] 1 tree, 31 leaves, max depth = 16, in 0.311s\n",
      "[28/100] 1 tree, 31 leaves, max depth = 21, in 0.332s\n",
      "[29/100] 1 tree, 31 leaves, max depth = 20, in 0.344s\n",
      "[30/100] 1 tree, 31 leaves, max depth = 21, in 0.366s\n",
      "[31/100] 1 tree, 31 leaves, max depth = 17, in 0.368s\n",
      "[32/100] 1 tree, 31 leaves, max depth = 19, in 0.340s\n",
      "[33/100] 1 tree, 31 leaves, max depth = 18, in 0.332s\n",
      "[34/100] 1 tree, 31 leaves, max depth = 17, in 0.321s\n",
      "[35/100] 1 tree, 31 leaves, max depth = 18, in 0.335s\n",
      "[36/100] 1 tree, 31 leaves, max depth = 18, in 0.331s\n",
      "[37/100] 1 tree, 31 leaves, max depth = 18, in 0.357s\n",
      "[38/100] 1 tree, 31 leaves, max depth = 17, in 0.320s\n",
      "[39/100] 1 tree, 31 leaves, max depth = 18, in 0.336s\n",
      "[40/100] 1 tree, 31 leaves, max depth = 19, in 0.310s\n",
      "[41/100] 1 tree, 31 leaves, max depth = 16, in 0.318s\n",
      "[42/100] 1 tree, 31 leaves, max depth = 21, in 0.295s\n",
      "[43/100] 1 tree, 31 leaves, max depth = 21, in 0.298s\n",
      "[44/100] 1 tree, 31 leaves, max depth = 21, in 0.305s\n",
      "[45/100] 1 tree, 31 leaves, max depth = 21, in 0.306s\n",
      "[46/100] 1 tree, 31 leaves, max depth = 21, in 0.329s\n",
      "[47/100] 1 tree, 31 leaves, max depth = 21, in 0.322s\n",
      "[48/100] 1 tree, 31 leaves, max depth = 21, in 0.320s\n",
      "[49/100] 1 tree, 31 leaves, max depth = 21, in 0.307s\n",
      "[50/100] 1 tree, 31 leaves, max depth = 21, in 0.286s\n",
      "[51/100] 1 tree, 31 leaves, max depth = 21, in 0.304s\n",
      "[52/100] 1 tree, 31 leaves, max depth = 21, in 0.299s\n",
      "[53/100] 1 tree, 31 leaves, max depth = 21, in 0.310s\n",
      "[54/100] 1 tree, 31 leaves, max depth = 21, in 0.308s\n",
      "[55/100] 1 tree, 31 leaves, max depth = 21, in 0.313s\n",
      "[56/100] 1 tree, 31 leaves, max depth = 19, in 0.319s\n",
      "[57/100] 1 tree, 31 leaves, max depth = 20, in 0.308s\n",
      "[58/100] 1 tree, 31 leaves, max depth = 20, in 0.301s\n",
      "[59/100] 1 tree, 31 leaves, max depth = 21, in 0.289s\n",
      "[60/100] 1 tree, 31 leaves, max depth = 21, in 0.298s\n",
      "[61/100] 1 tree, 31 leaves, max depth = 21, in 0.301s\n",
      "[62/100] 1 tree, 31 leaves, max depth = 19, in 0.310s\n",
      "[63/100] 1 tree, 31 leaves, max depth = 19, in 0.286s\n",
      "[64/100] 1 tree, 31 leaves, max depth = 19, in 0.281s\n",
      "[65/100] 1 tree, 31 leaves, max depth = 21, in 0.299s\n",
      "[66/100] 1 tree, 31 leaves, max depth = 19, in 0.289s\n",
      "[67/100] 1 tree, 31 leaves, max depth = 19, in 0.305s\n",
      "[68/100] 1 tree, 31 leaves, max depth = 19, in 0.297s\n",
      "[69/100] 1 tree, 31 leaves, max depth = 19, in 0.301s\n",
      "[70/100] 1 tree, 31 leaves, max depth = 21, in 0.292s\n",
      "[71/100] 1 tree, 31 leaves, max depth = 19, in 0.296s\n",
      "[72/100] 1 tree, 31 leaves, max depth = 19, in 0.278s\n",
      "[73/100] 1 tree, 31 leaves, max depth = 19, in 0.302s\n",
      "[74/100] 1 tree, 31 leaves, max depth = 19, in 0.312s\n",
      "[75/100] 1 tree, 31 leaves, max depth = 19, in 0.289s\n",
      "[76/100] 1 tree, 31 leaves, max depth = 19, in 0.291s\n",
      "[77/100] 1 tree, 31 leaves, max depth = 19, in 0.289s\n",
      "[78/100] 1 tree, 31 leaves, max depth = 19, in 0.301s\n",
      "[79/100] 1 tree, 31 leaves, max depth = 19, in 0.297s\n",
      "[80/100] 1 tree, 31 leaves, max depth = 19, in 0.293s\n",
      "[81/100] 1 tree, 31 leaves, max depth = 19, in 0.294s\n",
      "[82/100] 1 tree, 31 leaves, max depth = 20, in 0.295s\n",
      "[83/100] 1 tree, 31 leaves, max depth = 21, in 0.295s\n",
      "[84/100] 1 tree, 31 leaves, max depth = 21, in 0.300s\n",
      "[85/100] 1 tree, 31 leaves, max depth = 21, in 0.300s\n",
      "[86/100] 1 tree, 31 leaves, max depth = 21, in 0.296s\n",
      "[87/100] 1 tree, 31 leaves, max depth = 21, in 0.295s\n",
      "[88/100] 1 tree, 31 leaves, max depth = 21, in 0.303s\n",
      "[89/100] 1 tree, 31 leaves, max depth = 19, in 0.294s\n",
      "[90/100] 1 tree, 31 leaves, max depth = 21, in 0.292s\n",
      "[91/100] 1 tree, 31 leaves, max depth = 21, in 0.303s\n",
      "[92/100] 1 tree, 31 leaves, max depth = 21, in 0.309s\n",
      "[93/100] 1 tree, 31 leaves, max depth = 21, in 0.305s\n",
      "[94/100] 1 tree, 31 leaves, max depth = 21, in 0.309s\n",
      "[95/100] 1 tree, 31 leaves, max depth = 21, in 0.311s\n",
      "[96/100] 1 tree, 31 leaves, max depth = 21, in 0.301s\n",
      "[97/100] 1 tree, 31 leaves, max depth = 21, in 0.322s\n",
      "[98/100] 1 tree, 31 leaves, max depth = 21, in 0.333s\n",
      "[99/100] 1 tree, 31 leaves, max depth = 21, in 0.331s\n",
      "[100/100] 1 tree, 31 leaves, max depth = 21, in 0.330s\n",
      "Fit 100 trees in 31.506 s, (3095 total leaves)\n",
      "Time spent computing histograms: 25.287s\n",
      "Time spent finding best splits:  0.571s\n",
      "Time spent applying splits:      0.428s\n",
      "Time spent predicting:           0.010s\n"
     ]
    },
    {
     "data": {
      "text/plain": "HistGradientBoostingClassifier(verbose=2)",
      "text/html": "<style>#sk-container-id-3 {color: black;background-color: white;}#sk-container-id-3 pre{padding: 0;}#sk-container-id-3 div.sk-toggleable {background-color: white;}#sk-container-id-3 label.sk-toggleable__label {cursor: pointer;display: block;width: 100%;margin-bottom: 0;padding: 0.3em;box-sizing: border-box;text-align: center;}#sk-container-id-3 label.sk-toggleable__label-arrow:before {content: \"▸\";float: left;margin-right: 0.25em;color: #696969;}#sk-container-id-3 label.sk-toggleable__label-arrow:hover:before {color: black;}#sk-container-id-3 div.sk-estimator:hover label.sk-toggleable__label-arrow:before {color: black;}#sk-container-id-3 div.sk-toggleable__content {max-height: 0;max-width: 0;overflow: hidden;text-align: left;background-color: #f0f8ff;}#sk-container-id-3 div.sk-toggleable__content pre {margin: 0.2em;color: black;border-radius: 0.25em;background-color: #f0f8ff;}#sk-container-id-3 input.sk-toggleable__control:checked~div.sk-toggleable__content {max-height: 200px;max-width: 100%;overflow: auto;}#sk-container-id-3 input.sk-toggleable__control:checked~label.sk-toggleable__label-arrow:before {content: \"▾\";}#sk-container-id-3 div.sk-estimator input.sk-toggleable__control:checked~label.sk-toggleable__label {background-color: #d4ebff;}#sk-container-id-3 div.sk-label input.sk-toggleable__control:checked~label.sk-toggleable__label {background-color: #d4ebff;}#sk-container-id-3 input.sk-hidden--visually {border: 0;clip: rect(1px 1px 1px 1px);clip: rect(1px, 1px, 1px, 1px);height: 1px;margin: -1px;overflow: hidden;padding: 0;position: absolute;width: 1px;}#sk-container-id-3 div.sk-estimator {font-family: monospace;background-color: #f0f8ff;border: 1px dotted black;border-radius: 0.25em;box-sizing: border-box;margin-bottom: 0.5em;}#sk-container-id-3 div.sk-estimator:hover {background-color: #d4ebff;}#sk-container-id-3 div.sk-parallel-item::after {content: \"\";width: 100%;border-bottom: 1px solid gray;flex-grow: 1;}#sk-container-id-3 div.sk-label:hover label.sk-toggleable__label {background-color: #d4ebff;}#sk-container-id-3 div.sk-serial::before {content: \"\";position: absolute;border-left: 1px solid gray;box-sizing: border-box;top: 0;bottom: 0;left: 50%;z-index: 0;}#sk-container-id-3 div.sk-serial {display: flex;flex-direction: column;align-items: center;background-color: white;padding-right: 0.2em;padding-left: 0.2em;position: relative;}#sk-container-id-3 div.sk-item {position: relative;z-index: 1;}#sk-container-id-3 div.sk-parallel {display: flex;align-items: stretch;justify-content: center;background-color: white;position: relative;}#sk-container-id-3 div.sk-item::before, #sk-container-id-3 div.sk-parallel-item::before {content: \"\";position: absolute;border-left: 1px solid gray;box-sizing: border-box;top: 0;bottom: 0;left: 50%;z-index: -1;}#sk-container-id-3 div.sk-parallel-item {display: flex;flex-direction: column;z-index: 1;position: relative;background-color: white;}#sk-container-id-3 div.sk-parallel-item:first-child::after {align-self: flex-end;width: 50%;}#sk-container-id-3 div.sk-parallel-item:last-child::after {align-self: flex-start;width: 50%;}#sk-container-id-3 div.sk-parallel-item:only-child::after {width: 0;}#sk-container-id-3 div.sk-dashed-wrapped {border: 1px dashed gray;margin: 0 0.4em 0.5em 0.4em;box-sizing: border-box;padding-bottom: 0.4em;background-color: white;}#sk-container-id-3 div.sk-label label {font-family: monospace;font-weight: bold;display: inline-block;line-height: 1.2em;}#sk-container-id-3 div.sk-label-container {text-align: center;}#sk-container-id-3 div.sk-container {/* jupyter's `normalize.less` sets `[hidden] { display: none; }` but bootstrap.min.css set `[hidden] { display: none !important; }` so we also need the `!important` here to be able to override the default hidden behavior on the sphinx rendered scikit-learn.org. See: https://github.com/scikit-learn/scikit-learn/issues/21755 */display: inline-block !important;position: relative;}#sk-container-id-3 div.sk-text-repr-fallback {display: none;}</style><div id=\"sk-container-id-3\" class=\"sk-top-container\"><div class=\"sk-text-repr-fallback\"><pre>HistGradientBoostingClassifier(verbose=2)</pre><b>In a Jupyter environment, please rerun this cell to show the HTML representation or trust the notebook. <br />On GitHub, the HTML representation is unable to render, please try loading this page with nbviewer.org.</b></div><div class=\"sk-container\" hidden><div class=\"sk-item\"><div class=\"sk-estimator sk-toggleable\"><input class=\"sk-toggleable__control sk-hidden--visually\" id=\"sk-estimator-id-3\" type=\"checkbox\" checked><label for=\"sk-estimator-id-3\" class=\"sk-toggleable__label sk-toggleable__label-arrow\">HistGradientBoostingClassifier</label><div class=\"sk-toggleable__content\"><pre>HistGradientBoostingClassifier(verbose=2)</pre></div></div></div></div></div>"
     },
     "execution_count": 30,
     "metadata": {},
     "output_type": "execute_result"
    }
   ],
   "source": [
    "clf.fit(x_no_nan, y)"
   ],
   "metadata": {
    "collapsed": false,
    "pycharm": {
     "name": "#%%\n"
    }
   }
  },
  {
   "cell_type": "code",
   "execution_count": 31,
   "outputs": [],
   "source": [
    "y_pred = clf.predict(x_test_no_nan)"
   ],
   "metadata": {
    "collapsed": false,
    "pycharm": {
     "name": "#%%\n"
    }
   }
  },
  {
   "cell_type": "code",
   "execution_count": 32,
   "outputs": [
    {
     "data": {
      "text/plain": "0.5252707581227437"
     },
     "execution_count": 32,
     "metadata": {},
     "output_type": "execute_result"
    }
   ],
   "source": [
    "from sklearn.metrics import accuracy_score\n",
    "accuracy_score(y_test, y_pred)"
   ],
   "metadata": {
    "collapsed": false,
    "pycharm": {
     "name": "#%%\n"
    }
   }
  },
  {
   "cell_type": "code",
   "execution_count": 33,
   "outputs": [
    {
     "data": {
      "text/plain": "<Figure size 432x288 with 1 Axes>",
      "image/png": "[encoded data removed]"
     },
     "metadata": {
      "needs_background": "light"
     },
     "output_type": "display_data"
    },
    {
     "name": "stdout",
     "output_type": "stream",
     "text": [
      "[[ 72 769]\n",
      " [ 20 801]]\n"
     ]
    }
   ],
   "source": [
    "# ROC curve on the test data\n",
    "predictions_rf = clf.predict_proba(x_test_no_nan)\n",
    "fpr, tpr, thresholds = metrics.roc_curve(y_test, predictions_rf[:, 1], pos_label=1)\n",
    "roc_auc = metrics.auc(fpr, tpr)\n",
    "\n",
    "plot_roc_curve(fpr, tpr, label=f'Random Forest (AUC = {roc_auc:.3f})', title=\"GILGFVFTL\")\n",
    "\n",
    "# Also print the confusion matrix\n",
    "y_pred = clf.predict(x_test_no_nan)\n",
    "print(metrics.confusion_matrix(y_test, y_pred))"
   ],
   "metadata": {
    "collapsed": false,
    "pycharm": {
     "name": "#%%\n"
    }
   }
  },
  {
   "cell_type": "markdown",
   "source": [
    "Worse than expected (but it doesn't have missing values, since we fill them with 0)).\n",
    "Let's try random forest again."
   ],
   "metadata": {
    "collapsed": false,
    "pycharm": {
     "name": "#%% md\n"
    }
   }
  },
  {
   "cell_type": "code",
   "execution_count": 34,
   "outputs": [
    {
     "name": "stdout",
     "output_type": "stream",
     "text": [
      "building tree 1 of 200\n"
     ]
    },
    {
     "name": "stderr",
     "output_type": "stream",
     "text": [
      "[Parallel(n_jobs=1)]: Using backend SequentialBackend with 1 concurrent workers.\n",
      "[Parallel(n_jobs=1)]: Done   1 out of   1 | elapsed:    0.8s remaining:    0.0s\n"
     ]
    },
    {
     "name": "stdout",
     "output_type": "stream",
     "text": [
      "building tree 2 of 200\n",
      "building tree 3 of 200\n",
      "building tree 4 of 200\n",
      "building tree 5 of 200\n",
      "building tree 6 of 200\n",
      "building tree 7 of 200\n",
      "building tree 8 of 200\n",
      "building tree 9 of 200\n",
      "building tree 10 of 200\n",
      "building tree 11 of 200\n",
      "building tree 12 of 200\n",
      "building tree 13 of 200\n",
      "building tree 14 of 200\n",
      "building tree 15 of 200\n",
      "building tree 16 of 200\n",
      "building tree 17 of 200\n",
      "building tree 18 of 200\n",
      "building tree 19 of 200\n",
      "building tree 20 of 200\n",
      "building tree 21 of 200\n",
      "building tree 22 of 200\n",
      "building tree 23 of 200\n",
      "building tree 24 of 200\n",
      "building tree 25 of 200\n",
      "building tree 26 of 200\n",
      "building tree 27 of 200\n",
      "building tree 28 of 200\n",
      "building tree 29 of 200\n",
      "building tree 30 of 200\n",
      "building tree 31 of 200\n",
      "building tree 32 of 200\n",
      "building tree 33 of 200\n",
      "building tree 34 of 200\n",
      "building tree 35 of 200\n",
      "building tree 36 of 200\n",
      "building tree 37 of 200\n",
      "building tree 38 of 200\n",
      "building tree 39 of 200\n",
      "building tree 40 of 200\n",
      "building tree 41 of 200\n",
      "building tree 42 of 200\n",
      "building tree 43 of 200\n",
      "building tree 44 of 200\n",
      "building tree 45 of 200\n",
      "building tree 46 of 200\n",
      "building tree 47 of 200\n",
      "building tree 48 of 200\n",
      "building tree 49 of 200\n",
      "building tree 50 of 200\n",
      "building tree 51 of 200\n",
      "building tree 52 of 200\n",
      "building tree 53 of 200\n",
      "building tree 54 of 200\n",
      "building tree 55 of 200\n",
      "building tree 56 of 200\n",
      "building tree 57 of 200\n",
      "building tree 58 of 200\n",
      "building tree 59 of 200\n",
      "building tree 60 of 200\n",
      "building tree 61 of 200\n",
      "building tree 62 of 200\n",
      "building tree 63 of 200\n",
      "building tree 64 of 200\n",
      "building tree 65 of 200\n",
      "building tree 66 of 200\n",
      "building tree 67 of 200\n",
      "building tree 68 of 200\n",
      "building tree 69 of 200\n",
      "building tree 70 of 200\n",
      "building tree 71 of 200\n",
      "building tree 72 of 200\n",
      "building tree 73 of 200\n",
      "building tree 74 of 200\n",
      "building tree 75 of 200\n",
      "building tree 76 of 200\n",
      "building tree 77 of 200\n",
      "building tree 78 of 200\n",
      "building tree 79 of 200\n",
      "building tree 80 of 200\n",
      "building tree 81 of 200\n",
      "building tree 82 of 200\n",
      "building tree 83 of 200\n",
      "building tree 84 of 200\n",
      "building tree 85 of 200\n",
      "building tree 86 of 200\n",
      "building tree 87 of 200\n",
      "building tree 88 of 200\n",
      "building tree 89 of 200\n",
      "building tree 90 of 200\n",
      "building tree 91 of 200\n",
      "building tree 92 of 200\n",
      "building tree 93 of 200\n",
      "building tree 94 of 200\n",
      "building tree 95 of 200\n",
      "building tree 96 of 200\n",
      "building tree 97 of 200\n",
      "building tree 98 of 200\n",
      "building tree 99 of 200\n",
      "building tree 100 of 200\n",
      "building tree 101 of 200\n",
      "building tree 102 of 200\n",
      "building tree 103 of 200\n",
      "building tree 104 of 200\n",
      "building tree 105 of 200\n",
      "building tree 106 of 200\n",
      "building tree 107 of 200\n",
      "building tree 108 of 200\n",
      "building tree 109 of 200\n",
      "building tree 110 of 200\n",
      "building tree 111 of 200\n",
      "building tree 112 of 200\n",
      "building tree 113 of 200\n",
      "building tree 114 of 200\n",
      "building tree 115 of 200\n",
      "building tree 116 of 200\n",
      "building tree 117 of 200\n",
      "building tree 118 of 200\n",
      "building tree 119 of 200\n",
      "building tree 120 of 200\n",
      "building tree 121 of 200\n",
      "building tree 122 of 200\n",
      "building tree 123 of 200\n",
      "building tree 124 of 200\n",
      "building tree 125 of 200\n",
      "building tree 126 of 200\n",
      "building tree 127 of 200\n",
      "building tree 128 of 200\n",
      "building tree 129 of 200\n",
      "building tree 130 of 200\n",
      "building tree 131 of 200\n",
      "building tree 132 of 200\n",
      "building tree 133 of 200\n",
      "building tree 134 of 200\n",
      "building tree 135 of 200\n",
      "building tree 136 of 200\n",
      "building tree 137 of 200\n",
      "building tree 138 of 200\n",
      "building tree 139 of 200\n",
      "building tree 140 of 200\n",
      "building tree 141 of 200\n",
      "building tree 142 of 200\n",
      "building tree 143 of 200\n",
      "building tree 144 of 200\n",
      "building tree 145 of 200\n",
      "building tree 146 of 200\n",
      "building tree 147 of 200\n",
      "building tree 148 of 200\n",
      "building tree 149 of 200\n",
      "building tree 150 of 200\n",
      "building tree 151 of 200\n",
      "building tree 152 of 200\n",
      "building tree 153 of 200\n",
      "building tree 154 of 200\n",
      "building tree 155 of 200\n",
      "building tree 156 of 200\n",
      "building tree 157 of 200\n",
      "building tree 158 of 200\n",
      "building tree 159 of 200\n",
      "building tree 160 of 200\n",
      "building tree 161 of 200\n",
      "building tree 162 of 200\n",
      "building tree 163 of 200\n",
      "building tree 164 of 200\n",
      "building tree 165 of 200\n",
      "building tree 166 of 200\n",
      "building tree 167 of 200\n",
      "building tree 168 of 200\n",
      "building tree 169 of 200\n",
      "building tree 170 of 200\n",
      "building tree 171 of 200\n",
      "building tree 172 of 200\n",
      "building tree 173 of 200\n",
      "building tree 174 of 200\n",
      "building tree 175 of 200\n",
      "building tree 176 of 200\n",
      "building tree 177 of 200\n",
      "building tree 178 of 200\n",
      "building tree 179 of 200\n",
      "building tree 180 of 200\n",
      "building tree 181 of 200\n",
      "building tree 182 of 200\n",
      "building tree 183 of 200\n",
      "building tree 184 of 200\n",
      "building tree 185 of 200\n",
      "building tree 186 of 200\n",
      "building tree 187 of 200\n",
      "building tree 188 of 200\n",
      "building tree 189 of 200\n",
      "building tree 190 of 200\n",
      "building tree 191 of 200\n",
      "building tree 192 of 200\n",
      "building tree 193 of 200\n",
      "building tree 194 of 200\n",
      "building tree 195 of 200\n",
      "building tree 196 of 200\n",
      "building tree 197 of 200\n",
      "building tree 198 of 200\n",
      "building tree 199 of 200\n",
      "building tree 200 of 200\n"
     ]
    },
    {
     "name": "stderr",
     "output_type": "stream",
     "text": [
      "[Parallel(n_jobs=1)]: Done 200 out of 200 | elapsed:  3.2min finished\n",
      "[Parallel(n_jobs=1)]: Using backend SequentialBackend with 1 concurrent workers.\n",
      "[Parallel(n_jobs=1)]: Done   1 out of   1 | elapsed:    0.0s remaining:    0.0s\n",
      "[Parallel(n_jobs=1)]: Done 200 out of 200 | elapsed:    0.0s finished\n"
     ]
    },
    {
     "data": {
      "text/plain": "<Figure size 432x288 with 1 Axes>",
      "image/png": "[encoded data removed]"
     },
     "metadata": {
      "needs_background": "light"
     },
     "output_type": "display_data"
    },
    {
     "name": "stdout",
     "output_type": "stream",
     "text": [
      "[[797  44]\n",
      " [312 509]]\n"
     ]
    },
    {
     "name": "stderr",
     "output_type": "stream",
     "text": [
      "[Parallel(n_jobs=1)]: Using backend SequentialBackend with 1 concurrent workers.\n",
      "[Parallel(n_jobs=1)]: Done   1 out of   1 | elapsed:    0.0s remaining:    0.0s\n",
      "[Parallel(n_jobs=1)]: Done 200 out of 200 | elapsed:    0.0s finished\n"
     ]
    }
   ],
   "source": [
    "from sklearn.ensemble import RandomForestClassifier\n",
    "\n",
    "clf_random_forest = RandomForestClassifier(n_estimators=200, verbose=2)\n",
    "clf_random_forest.fit(x_no_nan, y)\n",
    "\n",
    "# ROC curve on the test data\n",
    "predictions_rf = clf_random_forest.predict_proba(x_test_no_nan)\n",
    "fpr, tpr, thresholds = metrics.roc_curve(y_test, predictions_rf[:, 1], pos_label=1)\n",
    "roc_auc = metrics.auc(fpr, tpr)\n",
    "\n",
    "plot_roc_curve(fpr, tpr, label=f'Random Forest (AUC = {roc_auc:.3f})', title=\"GILGFVFTL\")\n",
    "\n",
    "# Also print the confusion matrix\n",
    "y_pred = clf_random_forest.predict(x_test_no_nan)\n",
    "print(metrics.confusion_matrix(y_test, y_pred))"
   ],
   "metadata": {
    "collapsed": false,
    "pycharm": {
     "name": "#%%\n"
    }
   }
  },
  {
   "cell_type": "markdown",
   "source": [
    "Try with nan's now"
   ],
   "metadata": {
    "collapsed": false,
    "pycharm": {
     "name": "#%% md\n"
    }
   }
  },
  {
   "cell_type": "code",
   "execution_count": 35,
   "outputs": [
    {
     "name": "stdout",
     "output_type": "stream",
     "text": [
      "Binning 0.071 GB of training data: 0.367 s\n",
      "Fitting gradient boosted rounds:\n",
      "[1/100] 1 tree, 29 leaves, max depth = 18, in 0.309s\n",
      "[2/100] 1 tree, 31 leaves, max depth = 19, in 0.325s\n",
      "[3/100] 1 tree, 31 leaves, max depth = 20, in 0.302s\n",
      "[4/100] 1 tree, 28 leaves, max depth = 20, in 0.308s\n",
      "[5/100] 1 tree, 31 leaves, max depth = 20, in 0.293s\n",
      "[6/100] 1 tree, 31 leaves, max depth = 22, in 0.302s\n",
      "[7/100] 1 tree, 31 leaves, max depth = 23, in 0.303s\n",
      "[8/100] 1 tree, 31 leaves, max depth = 22, in 0.299s\n",
      "[9/100] 1 tree, 31 leaves, max depth = 20, in 0.297s\n",
      "[10/100] 1 tree, 31 leaves, max depth = 21, in 0.300s\n",
      "[11/100] 1 tree, 31 leaves, max depth = 20, in 0.294s\n",
      "[12/100] 1 tree, 31 leaves, max depth = 20, in 0.302s\n",
      "[13/100] 1 tree, 31 leaves, max depth = 21, in 0.295s\n",
      "[14/100] 1 tree, 31 leaves, max depth = 20, in 0.304s\n",
      "[15/100] 1 tree, 31 leaves, max depth = 21, in 0.291s\n",
      "[16/100] 1 tree, 31 leaves, max depth = 20, in 0.290s\n",
      "[17/100] 1 tree, 31 leaves, max depth = 20, in 0.286s\n",
      "[18/100] 1 tree, 31 leaves, max depth = 21, in 0.300s\n",
      "[19/100] 1 tree, 31 leaves, max depth = 18, in 0.299s\n",
      "[20/100] 1 tree, 31 leaves, max depth = 19, in 0.309s\n",
      "[21/100] 1 tree, 31 leaves, max depth = 18, in 0.297s\n",
      "[22/100] 1 tree, 31 leaves, max depth = 18, in 0.300s\n",
      "[23/100] 1 tree, 31 leaves, max depth = 16, in 0.275s\n",
      "[24/100] 1 tree, 31 leaves, max depth = 16, in 0.310s\n",
      "[25/100] 1 tree, 31 leaves, max depth = 17, in 0.272s\n",
      "[26/100] 1 tree, 31 leaves, max depth = 17, in 0.288s\n",
      "[27/100] 1 tree, 31 leaves, max depth = 16, in 0.301s\n",
      "[28/100] 1 tree, 31 leaves, max depth = 21, in 0.294s\n",
      "[29/100] 1 tree, 31 leaves, max depth = 20, in 0.302s\n",
      "[30/100] 1 tree, 31 leaves, max depth = 21, in 0.294s\n",
      "[31/100] 1 tree, 31 leaves, max depth = 17, in 0.291s\n",
      "[32/100] 1 tree, 31 leaves, max depth = 19, in 0.296s\n",
      "[33/100] 1 tree, 31 leaves, max depth = 18, in 0.289s\n",
      "[34/100] 1 tree, 31 leaves, max depth = 17, in 0.296s\n",
      "[35/100] 1 tree, 31 leaves, max depth = 18, in 0.301s\n",
      "[36/100] 1 tree, 31 leaves, max depth = 18, in 0.305s\n",
      "[37/100] 1 tree, 31 leaves, max depth = 18, in 0.325s\n",
      "[38/100] 1 tree, 31 leaves, max depth = 17, in 0.302s\n",
      "[39/100] 1 tree, 31 leaves, max depth = 18, in 0.298s\n",
      "[40/100] 1 tree, 31 leaves, max depth = 19, in 0.304s\n",
      "[41/100] 1 tree, 31 leaves, max depth = 16, in 0.295s\n",
      "[42/100] 1 tree, 31 leaves, max depth = 21, in 0.292s\n",
      "[43/100] 1 tree, 31 leaves, max depth = 21, in 0.278s\n",
      "[44/100] 1 tree, 31 leaves, max depth = 21, in 0.283s\n",
      "[45/100] 1 tree, 31 leaves, max depth = 21, in 0.281s\n",
      "[46/100] 1 tree, 31 leaves, max depth = 21, in 0.284s\n",
      "[47/100] 1 tree, 31 leaves, max depth = 21, in 0.282s\n",
      "[48/100] 1 tree, 31 leaves, max depth = 21, in 0.289s\n",
      "[49/100] 1 tree, 31 leaves, max depth = 21, in 0.279s\n",
      "[50/100] 1 tree, 31 leaves, max depth = 21, in 0.307s\n",
      "[51/100] 1 tree, 31 leaves, max depth = 21, in 0.277s\n",
      "[52/100] 1 tree, 31 leaves, max depth = 21, in 0.283s\n",
      "[53/100] 1 tree, 31 leaves, max depth = 21, in 0.294s\n",
      "[54/100] 1 tree, 31 leaves, max depth = 21, in 0.277s\n",
      "[55/100] 1 tree, 31 leaves, max depth = 21, in 0.293s\n",
      "[56/100] 1 tree, 31 leaves, max depth = 19, in 0.293s\n",
      "[57/100] 1 tree, 31 leaves, max depth = 20, in 0.304s\n",
      "[58/100] 1 tree, 31 leaves, max depth = 20, in 0.302s\n",
      "[59/100] 1 tree, 31 leaves, max depth = 21, in 0.282s\n",
      "[60/100] 1 tree, 31 leaves, max depth = 21, in 0.292s\n",
      "[61/100] 1 tree, 31 leaves, max depth = 21, in 0.298s\n",
      "[62/100] 1 tree, 31 leaves, max depth = 19, in 0.302s\n",
      "[63/100] 1 tree, 31 leaves, max depth = 19, in 0.304s\n",
      "[64/100] 1 tree, 31 leaves, max depth = 19, in 0.281s\n",
      "[65/100] 1 tree, 31 leaves, max depth = 21, in 0.298s\n",
      "[66/100] 1 tree, 31 leaves, max depth = 19, in 0.359s\n",
      "[67/100] 1 tree, 31 leaves, max depth = 19, in 0.312s\n",
      "[68/100] 1 tree, 31 leaves, max depth = 19, in 0.285s\n",
      "[69/100] 1 tree, 31 leaves, max depth = 19, in 0.322s\n",
      "[70/100] 1 tree, 31 leaves, max depth = 21, in 0.281s\n",
      "[71/100] 1 tree, 31 leaves, max depth = 19, in 0.370s\n",
      "[72/100] 1 tree, 31 leaves, max depth = 19, in 0.276s\n",
      "[73/100] 1 tree, 31 leaves, max depth = 19, in 0.270s\n",
      "[74/100] 1 tree, 31 leaves, max depth = 19, in 0.267s\n",
      "[75/100] 1 tree, 31 leaves, max depth = 19, in 0.279s\n",
      "[76/100] 1 tree, 31 leaves, max depth = 19, in 0.288s\n",
      "[77/100] 1 tree, 31 leaves, max depth = 19, in 0.277s\n",
      "[78/100] 1 tree, 31 leaves, max depth = 19, in 0.288s\n",
      "[79/100] 1 tree, 31 leaves, max depth = 19, in 0.290s\n",
      "[80/100] 1 tree, 31 leaves, max depth = 19, in 0.287s\n",
      "[81/100] 1 tree, 31 leaves, max depth = 19, in 0.290s\n",
      "[82/100] 1 tree, 31 leaves, max depth = 20, in 0.289s\n",
      "[83/100] 1 tree, 31 leaves, max depth = 21, in 0.292s\n",
      "[84/100] 1 tree, 31 leaves, max depth = 21, in 0.299s\n",
      "[85/100] 1 tree, 31 leaves, max depth = 21, in 0.292s\n",
      "[86/100] 1 tree, 31 leaves, max depth = 21, in 0.288s\n",
      "[87/100] 1 tree, 31 leaves, max depth = 21, in 0.304s\n",
      "[88/100] 1 tree, 31 leaves, max depth = 21, in 0.291s\n",
      "[89/100] 1 tree, 31 leaves, max depth = 19, in 0.297s\n",
      "[90/100] 1 tree, 31 leaves, max depth = 21, in 0.292s\n",
      "[91/100] 1 tree, 31 leaves, max depth = 21, in 0.299s\n",
      "[92/100] 1 tree, 31 leaves, max depth = 21, in 0.312s\n",
      "[93/100] 1 tree, 31 leaves, max depth = 21, in 0.294s\n",
      "[94/100] 1 tree, 31 leaves, max depth = 21, in 0.304s\n",
      "[95/100] 1 tree, 31 leaves, max depth = 21, in 0.291s\n",
      "[96/100] 1 tree, 31 leaves, max depth = 21, in 0.294s\n",
      "[97/100] 1 tree, 31 leaves, max depth = 21, in 0.303s\n",
      "[98/100] 1 tree, 31 leaves, max depth = 21, in 0.293s\n",
      "[99/100] 1 tree, 31 leaves, max depth = 21, in 0.291s\n",
      "[100/100] 1 tree, 31 leaves, max depth = 21, in 0.301s\n",
      "Fit 100 trees in 29.998 s, (3095 total leaves)\n",
      "Time spent computing histograms: 24.377s\n",
      "Time spent finding best splits:  0.476s\n",
      "Time spent applying splits:      0.304s\n",
      "Time spent predicting:           0.007s\n"
     ]
    },
    {
     "data": {
      "text/plain": "HistGradientBoostingClassifier(verbose=2)",
      "text/html": "<style>#sk-container-id-4 {color: black;background-color: white;}#sk-container-id-4 pre{padding: 0;}#sk-container-id-4 div.sk-toggleable {background-color: white;}#sk-container-id-4 label.sk-toggleable__label {cursor: pointer;display: block;width: 100%;margin-bottom: 0;padding: 0.3em;box-sizing: border-box;text-align: center;}#sk-container-id-4 label.sk-toggleable__label-arrow:before {content: \"▸\";float: left;margin-right: 0.25em;color: #696969;}#sk-container-id-4 label.sk-toggleable__label-arrow:hover:before {color: black;}#sk-container-id-4 div.sk-estimator:hover label.sk-toggleable__label-arrow:before {color: black;}#sk-container-id-4 div.sk-toggleable__content {max-height: 0;max-width: 0;overflow: hidden;text-align: left;background-color: #f0f8ff;}#sk-container-id-4 div.sk-toggleable__content pre {margin: 0.2em;color: black;border-radius: 0.25em;background-color: #f0f8ff;}#sk-container-id-4 input.sk-toggleable__control:checked~div.sk-toggleable__content {max-height: 200px;max-width: 100%;overflow: auto;}#sk-container-id-4 input.sk-toggleable__control:checked~label.sk-toggleable__label-arrow:before {content: \"▾\";}#sk-container-id-4 div.sk-estimator input.sk-toggleable__control:checked~label.sk-toggleable__label {background-color: #d4ebff;}#sk-container-id-4 div.sk-label input.sk-toggleable__control:checked~label.sk-toggleable__label {background-color: #d4ebff;}#sk-container-id-4 input.sk-hidden--visually {border: 0;clip: rect(1px 1px 1px 1px);clip: rect(1px, 1px, 1px, 1px);height: 1px;margin: -1px;overflow: hidden;padding: 0;position: absolute;width: 1px;}#sk-container-id-4 div.sk-estimator {font-family: monospace;background-color: #f0f8ff;border: 1px dotted black;border-radius: 0.25em;box-sizing: border-box;margin-bottom: 0.5em;}#sk-container-id-4 div.sk-estimator:hover {background-color: #d4ebff;}#sk-container-id-4 div.sk-parallel-item::after {content: \"\";width: 100%;border-bottom: 1px solid gray;flex-grow: 1;}#sk-container-id-4 div.sk-label:hover label.sk-toggleable__label {background-color: #d4ebff;}#sk-container-id-4 div.sk-serial::before {content: \"\";position: absolute;border-left: 1px solid gray;box-sizing: border-box;top: 0;bottom: 0;left: 50%;z-index: 0;}#sk-container-id-4 div.sk-serial {display: flex;flex-direction: column;align-items: center;background-color: white;padding-right: 0.2em;padding-left: 0.2em;position: relative;}#sk-container-id-4 div.sk-item {position: relative;z-index: 1;}#sk-container-id-4 div.sk-parallel {display: flex;align-items: stretch;justify-content: center;background-color: white;position: relative;}#sk-container-id-4 div.sk-item::before, #sk-container-id-4 div.sk-parallel-item::before {content: \"\";position: absolute;border-left: 1px solid gray;box-sizing: border-box;top: 0;bottom: 0;left: 50%;z-index: -1;}#sk-container-id-4 div.sk-parallel-item {display: flex;flex-direction: column;z-index: 1;position: relative;background-color: white;}#sk-container-id-4 div.sk-parallel-item:first-child::after {align-self: flex-end;width: 50%;}#sk-container-id-4 div.sk-parallel-item:last-child::after {align-self: flex-start;width: 50%;}#sk-container-id-4 div.sk-parallel-item:only-child::after {width: 0;}#sk-container-id-4 div.sk-dashed-wrapped {border: 1px dashed gray;margin: 0 0.4em 0.5em 0.4em;box-sizing: border-box;padding-bottom: 0.4em;background-color: white;}#sk-container-id-4 div.sk-label label {font-family: monospace;font-weight: bold;display: inline-block;line-height: 1.2em;}#sk-container-id-4 div.sk-label-container {text-align: center;}#sk-container-id-4 div.sk-container {/* jupyter's `normalize.less` sets `[hidden] { display: none; }` but bootstrap.min.css set `[hidden] { display: none !important; }` so we also need the `!important` here to be able to override the default hidden behavior on the sphinx rendered scikit-learn.org. See: https://github.com/scikit-learn/scikit-learn/issues/21755 */display: inline-block !important;position: relative;}#sk-container-id-4 div.sk-text-repr-fallback {display: none;}</style><div id=\"sk-container-id-4\" class=\"sk-top-container\"><div class=\"sk-text-repr-fallback\"><pre>HistGradientBoostingClassifier(verbose=2)</pre><b>In a Jupyter environment, please rerun this cell to show the HTML representation or trust the notebook. <br />On GitHub, the HTML representation is unable to render, please try loading this page with nbviewer.org.</b></div><div class=\"sk-container\" hidden><div class=\"sk-item\"><div class=\"sk-estimator sk-toggleable\"><input class=\"sk-toggleable__control sk-hidden--visually\" id=\"sk-estimator-id-4\" type=\"checkbox\" checked><label for=\"sk-estimator-id-4\" class=\"sk-toggleable__label sk-toggleable__label-arrow\">HistGradientBoostingClassifier</label><div class=\"sk-toggleable__content\"><pre>HistGradientBoostingClassifier(verbose=2)</pre></div></div></div></div></div>"
     },
     "execution_count": 35,
     "metadata": {},
     "output_type": "execute_result"
    }
   ],
   "source": [
    "clf = HistGradientBoostingClassifier(verbose=2)\n",
    "clf.fit(x, y)"
   ],
   "metadata": {
    "collapsed": false,
    "pycharm": {
     "name": "#%%\n"
    }
   }
  },
  {
   "cell_type": "code",
   "execution_count": 36,
   "outputs": [
    {
     "data": {
      "text/plain": "<Figure size 432x288 with 1 Axes>",
      "image/png": "[encoded data removed]"
     },
     "metadata": {
      "needs_background": "light"
     },
     "output_type": "display_data"
    },
    {
     "name": "stdout",
     "output_type": "stream",
     "text": [
      "[[ 72 769]\n",
      " [ 20 801]]\n"
     ]
    }
   ],
   "source": [
    "# ROC curve on the test data\n",
    "predictions_rf = clf.predict_proba(x_test)\n",
    "fpr, tpr, thresholds = metrics.roc_curve(y_test, predictions_rf[:, 1], pos_label=1)\n",
    "roc_auc = metrics.auc(fpr, tpr)\n",
    "\n",
    "plot_roc_curve(fpr, tpr, label=f'Random Forest (AUC = {roc_auc:.3f})', title=\"GILGFVFTL\")\n",
    "\n",
    "# Also print the confusion matrix\n",
    "y_pred = clf.predict(x_test)\n",
    "print(metrics.confusion_matrix(y_test, y_pred))"
   ],
   "metadata": {
    "collapsed": false,
    "pycharm": {
     "name": "#%%\n"
    }
   }
  },
  {
   "cell_type": "code",
   "execution_count": 36,
   "outputs": [],
   "source": [],
   "metadata": {
    "collapsed": false,
    "pycharm": {
     "name": "#%%\n"
    }
   }
  }
 ],
 "metadata": {
  "kernelspec": {
   "display_name": "Python 3",
   "language": "python",
   "name": "python3"
  },
  "language_info": {
   "codemirror_mode": {
    "name": "ipython",
    "version": 2
   },
   "file_extension": ".py",
   "mimetype": "text/x-python",
   "name": "python",
   "nbconvert_exporter": "python",
   "pygments_lexer": "ipython2",
   "version": "2.7.6"
  }
 },
 "nbformat": 4,
 "nbformat_minor": 0
}