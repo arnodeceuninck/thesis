{
 "cells": [
  {
   "cell_type": "markdown",
   "source": [
    "# Overview Seperate Chains\n",
    "Overview when using a seperate model for the alpha chain and beta chain. The test data doesn't contain NaN's here.\n",
    "\n",
    "| Model Alpha       | Model Beta        | AUC Alpha | AUC Beta | AUC Combined |\n",
    "|-------------------|-------------------|-----------|----------|--------------|\n",
    "| RF (mean imputed) | RF (mean imputed) | 0.890     | 0.911    | 0.954        |\n",
    "| HistGradient      | HistGradient      | 0.922     | 0.917    | 0.967        |\n",
    "| XGB               | XGB               | 0.916     | 0.929    | 0.967        |\n",
    "| HistGradient      | XGB               | 0.922     | 0.929    | 0.966        |"
   ],
   "metadata": {
    "collapsed": false,
    "pycharm": {
     "name": "#%% md\n"
    }
   }
  },
  {
   "cell_type": "markdown",
   "source": [
    "## Data"
   ],
   "metadata": {
    "collapsed": false,
    "pycharm": {
     "name": "#%% md\n"
    }
   }
  },
  {
   "cell_type": "code",
   "execution_count": 27,
   "outputs": [
    {
     "name": "stderr",
     "output_type": "stream",
     "text": [
      "C:\\Users\\arnod\\PycharmProjects\\thesis\\util\\classification.py:37: PerformanceWarning: DataFrame is highly fragmented.  This is usually the result of calling `frame.insert` many times, which has poor performance.  Consider joining all columns at once using pd.concat(axis=1) instead.  To get a de-fragmented frame, use `newframe = frame.copy()`\n",
      "  x_test[col] = np.nan  # TODO: NaN geven\n"
     ]
    }
   ],
   "source": [
    "from sklearn.model_selection import train_test_split\n",
    "from util import get_train_dataset, get_features, fix_test, evaluate, calculate_auc_and_plot, get_columns_starting_with\n",
    "import numpy as np\n",
    "import pandas as pd\n",
    "\n",
    "df = get_train_dataset()\n",
    "# df = df.sample(n=1000) # for faster debugging\n",
    "\n",
    "train, test = train_test_split(df, test_size=0.2, random_state=42)\n",
    "\n",
    "test.dropna(inplace=True)\n",
    "x = get_features(train)\n",
    "y = train['reaction']\n",
    "x_test = get_features(test, test=True)\n",
    "x_test = fix_test(x_test, x.columns)\n",
    "y_test = test['reaction']"
   ],
   "metadata": {
    "collapsed": false,
    "pycharm": {
     "name": "#%%\n"
    }
   }
  },
  {
   "cell_type": "markdown",
   "source": [
    "## Evaluation"
   ],
   "metadata": {
    "collapsed": false,
    "pycharm": {
     "name": "#%% md\n"
    }
   }
  },
  {
   "cell_type": "code",
   "execution_count": 42,
   "outputs": [],
   "source": [
    "from sklearn import metrics\n",
    "from sklearn.model_selection import KFold, cross_val_score, cross_val_predict\n",
    "from sklearn.ensemble import VotingClassifier\n",
    "\n",
    "def evaluate_seperate_chains(clf1, clf2, x, y, x_test, y_test):\n",
    "    # Keep only the columns starting with 'alfa_'\n",
    "    x_alpha = get_columns_starting_with(x, 'alfa_')\n",
    "    x_beta = get_columns_starting_with(x, 'beta_')\n",
    "\n",
    "    clf1.fit(x_alpha, y)\n",
    "    clf2.fit(x_beta, y)\n",
    "\n",
    "    x_test_alpha = get_columns_starting_with(x_test, 'alfa_')\n",
    "    x_test_beta = get_columns_starting_with(x_test, 'beta_')\n",
    "\n",
    "    x_test_alpha = fix_test(x_test_alpha, x_alpha.columns)\n",
    "    x_test_beta = fix_test(x_test_beta, x_beta.columns)\n",
    "\n",
    "    y_pred1 = clf1.predict_proba(x_test_alpha)[:, 1]\n",
    "    y_pred2 = clf2.predict_proba(x_test_beta)[:, 1]\n",
    "\n",
    "    fpr, tpr, thresholds = metrics.roc_curve(y_test, y_pred1, pos_label=1)\n",
    "    auc_alpha = metrics.auc(fpr, tpr)\n",
    "    print(f\"alpha: {auc_alpha:.3f}\")\n",
    "\n",
    "    fpr, tpr, thresholds = metrics.roc_curve(y_test, y_pred2, pos_label=1)\n",
    "    auc_beta = metrics.auc(fpr, tpr)\n",
    "    print(f\"beta: {auc_beta:.3f}\")\n",
    "\n",
    "    y_pred = (y_pred1 + y_pred2) / 2\n",
    "    auc = calculate_auc_and_plot(y_test, y_pred)\n",
    "\n",
    "    print(f\"combined: {auc:.3f}\")\n",
    "\n",
    "    # Code below doesn't work yet (since I still need to figure out how I can give two seperate input streams to the VotingClassifier)\n",
    "    # # alpha model\n",
    "    # kf = KFold(n_splits=5, shuffle=True, random_state=42)\n",
    "    # scores = cross_val_score(clf1, x, y, cv=kf, scoring='roc_auc')\n",
    "    # print(scores)\n",
    "    # print(f\"ROC alpha: {scores.mean():.3f} (+/- {scores.std() * 2:.3f})\")\n",
    "    #\n",
    "    # # beta model\n",
    "    # kf = KFold(n_splits=5, shuffle=True, random_state=42)\n",
    "    # scores = cross_val_score(clf2, x, y, cv=kf, scoring='roc_auc')\n",
    "    # print(scores)\n",
    "    # print(f\"ROC beta: {scores.mean():.3f} (+/- {scores.std() * 2:.3f})\")\n",
    "    #\n",
    "    # # combined model\n",
    "    # clf = VotingClassifier(estimators=[('alpha', clf1), ('beta', clf2)], voting='soft')\n",
    "    # kf = KFold(n_splits=5, shuffle=True, random_state=42)\n",
    "    # scores = cross_val_score(clf, x, y, cv=kf, scoring='roc_auc')\n",
    "    # print(scores)\n",
    "    # print(f\"ROC combined: {scores.mean():.3f} (+/- {scores.std() * 2:.3f})\")"
   ],
   "metadata": {
    "collapsed": false,
    "pycharm": {
     "name": "#%%\n"
    }
   }
  },
  {
   "cell_type": "markdown",
   "source": [
    "## Imputations"
   ],
   "metadata": {
    "collapsed": false,
    "pycharm": {
     "name": "#%% md\n"
    }
   }
  },
  {
   "cell_type": "code",
   "execution_count": 29,
   "outputs": [],
   "source": [
    "from sklearn import impute"
   ],
   "metadata": {
    "collapsed": false,
    "pycharm": {
     "name": "#%%\n"
    }
   }
  },
  {
   "cell_type": "markdown",
   "source": [
    "### Mean imputed"
   ],
   "metadata": {
    "collapsed": false,
    "pycharm": {
     "name": "#%% md\n"
    }
   }
  },
  {
   "cell_type": "code",
   "execution_count": 33,
   "outputs": [],
   "source": [
    "mean_imputer = impute.SimpleImputer(missing_values=np.nan, strategy='mean')\n",
    "x_mean_imputed = mean_imputer.fit_transform(x)\n",
    "# convert it back to a df (so I can split the alpha and beta columns)\n",
    "# get all columns of which not all rows are NaN\n",
    "columns = x.columns[x.isnull().mean() < 1]\n",
    "x_mean_imputed = pd.DataFrame(x_mean_imputed, columns=columns)\n",
    "\n",
    "x_test_mean_imputed = mean_imputer.transform(x_test)\n",
    "x_test_mean_imputed = pd.DataFrame(x_test_mean_imputed, columns=columns)"
   ],
   "metadata": {
    "collapsed": false,
    "pycharm": {
     "name": "#%%\n"
    }
   }
  },
  {
   "cell_type": "markdown",
   "source": [
    "## Random Forest - Random Forest"
   ],
   "metadata": {
    "collapsed": false,
    "pycharm": {
     "name": "#%% md\n"
    }
   }
  },
  {
   "cell_type": "code",
   "execution_count": 34,
   "outputs": [],
   "source": [
    "from sklearn.ensemble import RandomForestClassifier\n",
    "clf_alpha = RandomForestClassifier(random_state=0)\n",
    "clf_beta = RandomForestClassifier(random_state=0)"
   ],
   "metadata": {
    "collapsed": false,
    "pycharm": {
     "name": "#%%\n"
    }
   }
  },
  {
   "cell_type": "code",
   "execution_count": 35,
   "outputs": [
    {
     "name": "stdout",
     "output_type": "stream",
     "text": [
      "alpha: 0.8902930154860265\n",
      "beta: 0.9106325342001896\n"
     ]
    },
    {
     "data": {
      "text/plain": "<Figure size 432x288 with 1 Axes>",
      "image/png": "[encoded data removed]"
     },
     "metadata": {},
     "output_type": "display_data"
    },
    {
     "name": "stdout",
     "output_type": "stream",
     "text": [
      "combined: 0.954\n"
     ]
    }
   ],
   "source": [
    "evaluate_seperate_chains(clf_alpha, clf_beta, x_mean_imputed, y, x_test_mean_imputed, y_test)"
   ],
   "metadata": {
    "collapsed": false,
    "pycharm": {
     "name": "#%%\n"
    }
   }
  },
  {
   "cell_type": "markdown",
   "source": [
    "## HistGradientBoosting - HistGradientBoosting"
   ],
   "metadata": {
    "collapsed": false,
    "pycharm": {
     "name": "#%% md\n"
    }
   }
  },
  {
   "cell_type": "code",
   "execution_count": 36,
   "outputs": [],
   "source": [
    "from sklearn.ensemble import HistGradientBoostingClassifier\n",
    "clf_alpha = HistGradientBoostingClassifier(random_state=0)\n",
    "clf_beta = HistGradientBoostingClassifier(random_state=0)"
   ],
   "metadata": {
    "collapsed": false,
    "pycharm": {
     "name": "#%%\n"
    }
   }
  },
  {
   "cell_type": "code",
   "execution_count": 37,
   "outputs": [
    {
     "name": "stdout",
     "output_type": "stream",
     "text": [
      "alpha: 0.9223712131473205\n",
      "beta: 0.9170346291028941\n"
     ]
    },
    {
     "data": {
      "text/plain": "<Figure size 432x288 with 1 Axes>",
      "image/png": "[encoded data removed]"
     },
     "metadata": {},
     "output_type": "display_data"
    },
    {
     "name": "stdout",
     "output_type": "stream",
     "text": [
      "combined: 0.967\n"
     ]
    }
   ],
   "source": [
    "evaluate_seperate_chains(clf_alpha, clf_beta, x, y, x_test, y_test)"
   ],
   "metadata": {
    "collapsed": false,
    "pycharm": {
     "name": "#%%\n"
    }
   }
  },
  {
   "cell_type": "markdown",
   "source": [
    "## XGBoost - XGBoost"
   ],
   "metadata": {
    "collapsed": false,
    "pycharm": {
     "name": "#%% md\n"
    }
   }
  },
  {
   "cell_type": "code",
   "execution_count": 38,
   "outputs": [],
   "source": [
    "from xgboost import XGBClassifier\n",
    "clf_alpha = XGBClassifier(random_state=0)\n",
    "clf_beta = XGBClassifier(random_state=0)"
   ],
   "metadata": {
    "collapsed": false,
    "pycharm": {
     "name": "#%%\n"
    }
   }
  },
  {
   "cell_type": "code",
   "execution_count": 39,
   "outputs": [
    {
     "name": "stdout",
     "output_type": "stream",
     "text": [
      "alpha: 0.9166373199692988\n",
      "beta: 0.9285475642241185\n"
     ]
    },
    {
     "data": {
      "text/plain": "<Figure size 432x288 with 1 Axes>",
      "image/png": "[encoded data removed]"
     },
     "metadata": {},
     "output_type": "display_data"
    },
    {
     "name": "stdout",
     "output_type": "stream",
     "text": [
      "combined: 0.964\n"
     ]
    }
   ],
   "source": [
    "evaluate_seperate_chains(clf_alpha, clf_beta, x, y, x_test, y_test)"
   ],
   "metadata": {
    "collapsed": false,
    "pycharm": {
     "name": "#%%\n"
    }
   }
  },
  {
   "cell_type": "markdown",
   "source": [
    "## HistGradientBoosting - XGBoost"
   ],
   "metadata": {
    "collapsed": false,
    "pycharm": {
     "name": "#%% md\n"
    }
   }
  },
  {
   "cell_type": "code",
   "execution_count": 43,
   "outputs": [],
   "source": [
    "clf_alpha = HistGradientBoostingClassifier(random_state=0)\n",
    "clf_beta = XGBClassifier(random_state=0)"
   ],
   "metadata": {
    "collapsed": false,
    "pycharm": {
     "name": "#%%\n"
    }
   }
  },
  {
   "cell_type": "code",
   "execution_count": 44,
   "outputs": [
    {
     "name": "stdout",
     "output_type": "stream",
     "text": [
      "alpha: 0.922\n",
      "beta: 0.929\n"
     ]
    },
    {
     "data": {
      "text/plain": "<Figure size 432x288 with 1 Axes>",
      "image/png": "[encoded data removed]"
     },
     "metadata": {},
     "output_type": "display_data"
    },
    {
     "name": "stdout",
     "output_type": "stream",
     "text": [
      "combined: 0.966\n"
     ]
    }
   ],
   "source": [
    "evaluate_seperate_chains(clf_alpha, clf_beta, x, y, x_test, y_test)"
   ],
   "metadata": {
    "collapsed": false,
    "pycharm": {
     "name": "#%%\n"
    }
   }
  },
  {
   "cell_type": "code",
   "execution_count": null,
   "outputs": [],
   "source": [],
   "metadata": {
    "collapsed": false,
    "pycharm": {
     "name": "#%%\n"
    }
   }
  }
 ],
 "metadata": {
  "kernelspec": {
   "display_name": "Python 3",
   "language": "python",
   "name": "python3"
  },
  "language_info": {
   "codemirror_mode": {
    "name": "ipython",
    "version": 2
   },
   "file_extension": ".py",
   "mimetype": "text/x-python",
   "name": "python",
   "nbconvert_exporter": "python",
   "pygments_lexer": "ipython2",
   "version": "2.7.6"
  }
 },
 "nbformat": 4,
 "nbformat_minor": 0
}