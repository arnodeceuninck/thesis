{
 "cells": [
  {
   "cell_type": "markdown",
   "source": [
    "# Split Gene Family\n",
    "Up to now, the gene family and version was hotencoded together. Let's see what happens if we split them and onehotencode the gene family and/or the whole gene family and version.\n",
    "\n"
   ],
   "metadata": {
    "collapsed": false,
    "pycharm": {
     "name": "#%% md\n"
    }
   }
  },
  {
   "cell_type": "code",
   "execution_count": 1,
   "outputs": [
    {
     "data": {
      "text/plain": "          CDR3_alfa      TRAV    TRAJ          CDR3_beta      TRBV     TRBJ  \\\n0               NaN       NaN     NaN  CSARDGSGARSNQPQHF  TRBV20-1  TRBJ1-5   \n1               NaN       NaN     NaN     CASSSGTGTSEQYF   TRBV5-1  TRBJ2-7   \n2  CAFMKQRGGGADGLTF  TRAV38-1  TRAJ45    CASSISSGRGNEQFF    TRBV19  TRBJ2-1   \n3    CRNAGGTSYGKLTF    TRAV25  TRAJ52   CASSSHQRTGVDEQFF    TRBV27  TRBJ2-1   \n4               NaN       NaN     NaN  CASSPGPSGGLTYEQYF   TRBV5-4  TRBJ2-7   \n\n   reaction TRAJ_family  TRAJ_version TRAV_family TRAV_version TRBV_family  \\\n0         0         NaN           NaN         NaN          NaN      TRBV20   \n1         0         NaN           NaN         NaN          NaN       TRBV5   \n2         0      TRAJ45           1.0      TRAV38            1      TRBV19   \n3         1      TRAJ52           1.0      TRAV25            1      TRBV27   \n4         0         NaN           NaN         NaN          NaN       TRBV5   \n\n   TRBV_version TRBJ_family  TRBJ_version  \n0           1.0       TRBJ1           5.0  \n1           1.0       TRBJ2           7.0  \n2           1.0       TRBJ2           1.0  \n3           1.0       TRBJ2           1.0  \n4           4.0       TRBJ2           7.0  ",
      "text/html": "<div>\n<style scoped>\n    .dataframe tbody tr th:only-of-type {\n        vertical-align: middle;\n    }\n\n    .dataframe tbody tr th {\n        vertical-align: top;\n    }\n\n    .dataframe thead th {\n        text-align: right;\n    }\n</style>\n<table border=\"1\" class=\"dataframe\">\n  <thead>\n    <tr style=\"text-align: right;\">\n      <th></th>\n      <th>CDR3_alfa</th>\n      <th>TRAV</th>\n      <th>TRAJ</th>\n      <th>CDR3_beta</th>\n      <th>TRBV</th>\n      <th>TRBJ</th>\n      <th>reaction</th>\n      <th>TRAJ_family</th>\n      <th>TRAJ_version</th>\n      <th>TRAV_family</th>\n      <th>TRAV_version</th>\n      <th>TRBV_family</th>\n      <th>TRBV_version</th>\n      <th>TRBJ_family</th>\n      <th>TRBJ_version</th>\n    </tr>\n  </thead>\n  <tbody>\n    <tr>\n      <th>0</th>\n      <td>NaN</td>\n      <td>NaN</td>\n      <td>NaN</td>\n      <td>CSARDGSGARSNQPQHF</td>\n      <td>TRBV20-1</td>\n      <td>TRBJ1-5</td>\n      <td>0</td>\n      <td>NaN</td>\n      <td>NaN</td>\n      <td>NaN</td>\n      <td>NaN</td>\n      <td>TRBV20</td>\n      <td>1.0</td>\n      <td>TRBJ1</td>\n      <td>5.0</td>\n    </tr>\n    <tr>\n      <th>1</th>\n      <td>NaN</td>\n      <td>NaN</td>\n      <td>NaN</td>\n      <td>CASSSGTGTSEQYF</td>\n      <td>TRBV5-1</td>\n      <td>TRBJ2-7</td>\n      <td>0</td>\n      <td>NaN</td>\n      <td>NaN</td>\n      <td>NaN</td>\n      <td>NaN</td>\n      <td>TRBV5</td>\n      <td>1.0</td>\n      <td>TRBJ2</td>\n      <td>7.0</td>\n    </tr>\n    <tr>\n      <th>2</th>\n      <td>CAFMKQRGGGADGLTF</td>\n      <td>TRAV38-1</td>\n      <td>TRAJ45</td>\n      <td>CASSISSGRGNEQFF</td>\n      <td>TRBV19</td>\n      <td>TRBJ2-1</td>\n      <td>0</td>\n      <td>TRAJ45</td>\n      <td>1.0</td>\n      <td>TRAV38</td>\n      <td>1</td>\n      <td>TRBV19</td>\n      <td>1.0</td>\n      <td>TRBJ2</td>\n      <td>1.0</td>\n    </tr>\n    <tr>\n      <th>3</th>\n      <td>CRNAGGTSYGKLTF</td>\n      <td>TRAV25</td>\n      <td>TRAJ52</td>\n      <td>CASSSHQRTGVDEQFF</td>\n      <td>TRBV27</td>\n      <td>TRBJ2-1</td>\n      <td>1</td>\n      <td>TRAJ52</td>\n      <td>1.0</td>\n      <td>TRAV25</td>\n      <td>1</td>\n      <td>TRBV27</td>\n      <td>1.0</td>\n      <td>TRBJ2</td>\n      <td>1.0</td>\n    </tr>\n    <tr>\n      <th>4</th>\n      <td>NaN</td>\n      <td>NaN</td>\n      <td>NaN</td>\n      <td>CASSPGPSGGLTYEQYF</td>\n      <td>TRBV5-4</td>\n      <td>TRBJ2-7</td>\n      <td>0</td>\n      <td>NaN</td>\n      <td>NaN</td>\n      <td>NaN</td>\n      <td>NaN</td>\n      <td>TRBV5</td>\n      <td>4.0</td>\n      <td>TRBJ2</td>\n      <td>7.0</td>\n    </tr>\n  </tbody>\n</table>\n</div>"
     },
     "execution_count": 1,
     "metadata": {},
     "output_type": "execute_result"
    }
   ],
   "source": [
    "from util import get_train_dataset, get_test_dataset\n",
    "train_df = get_train_dataset()\n",
    "# train_df = train_df.sample(100)\n",
    "y = train_df['reaction']\n",
    "train_df.head()"
   ],
   "metadata": {
    "collapsed": false,
    "pycharm": {
     "name": "#%%\n"
    }
   }
  },
  {
   "cell_type": "markdown",
   "source": [
    "As you can see, e.g. for TRAV, we have the whole gene family + version \"TRAV38-1\" (column TRAV) and the gene family \"TRAV38\" (column TRAV_family) and the version \"1\" (column TRAV_version). In the previous notebooks, we've only onehot encoded the TRAV column."
   ],
   "metadata": {
    "collapsed": false,
    "pycharm": {
     "name": "#%% md\n"
    }
   }
  },
  {
   "cell_type": "code",
   "execution_count": 2,
   "outputs": [],
   "source": [
    "from sklearn import feature_extraction\n",
    "import pandas as pd\n",
    "\n",
    "\n",
    "ONEHOT_ENCODER = {\"alfa\": None, \"beta\": None}\n",
    "ALPHA_OR_BETA = None # Should be set to \"alfa\" or \"beta\"\n",
    "\n",
    "def onehot_encode(df, test=False, onehot_cols = None):\n",
    "    global ONEHOT_ENCODER, ALPHA_OR_BETA\n",
    "    assert ALPHA_OR_BETA in [\"alfa\", \"beta\"], f\"ALPHA_OR_BETA must be set to 'alfa' or 'beta', is currently set to {ALPHA_OR_BETA}\"\n",
    "\n",
    "    # One hot encode the columns (creates a new column per unique value here and fills it with 1 or 0)\n",
    "    onehot_cols = ['V', 'J'] if onehot_cols is None else onehot_cols\n",
    "    if not test:\n",
    "        ONEHOT_ENCODER[ALPHA_OR_BETA] = feature_extraction.DictVectorizer(sparse=False)\n",
    "        encodings = ONEHOT_ENCODER[ALPHA_OR_BETA].fit_transform(df[onehot_cols].to_dict(orient='records'))\n",
    "        # print(f\"encoder {ALPHA_OR_BETA} fitted\")\n",
    "    else:\n",
    "        assert ONEHOT_ENCODER[ALPHA_OR_BETA] is not None\n",
    "        encodings = ONEHOT_ENCODER[ALPHA_OR_BETA].transform(df[onehot_cols].to_dict(orient='records'))\n",
    "        # print(f\"only transformed {ALPHA_OR_BETA}\")\n",
    "\n",
    "    # Get the columns of the onehot encoder\n",
    "    columns = ONEHOT_ENCODER[ALPHA_OR_BETA].get_feature_names_out()\n",
    "    # print(columns)\n",
    "\n",
    "    onehot_df = pd.DataFrame(encodings, columns=ONEHOT_ENCODER[ALPHA_OR_BETA].get_feature_names_out())\n",
    "\n",
    "    for col in columns:\n",
    "        assert col in onehot_df.columns, f'Column {col} not in dataframe'\n",
    "\n",
    "    return onehot_df\n",
    "\n",
    "# this one is the same as famversion\n",
    "def onehot_encode_test(df, onehot_columns=None):\n",
    "    return onehot_encode(df, test=True, onehot_cols=onehot_columns)\n",
    "\n",
    "def onehot_encode_fam(df, test=False):\n",
    "    return onehot_encode(df, test=test, onehot_cols=['V_family', 'J_family'])\n",
    "\n",
    "def onehot_encode_famversion(df, test=False):\n",
    "    return onehot_encode(df, test=test, onehot_cols=['V', 'J'])\n",
    "\n",
    "def onehot_encode_fam_and_famversion(df, test=False):\n",
    "    return onehot_encode(df, test=test, onehot_cols=['V_family', 'J_family', 'V', 'J'])\n",
    "\n",
    "def onehot_encode_fam_and_famversion_and_version(df, test=False):\n",
    "    return onehot_encode(df, test=test, onehot_cols=['V_family', 'J_family', 'V', 'J', 'V_version', 'J_version'])\n",
    "\n",
    "\n",
    "# The test functions (since the feature generator can only pass df as argument)\n",
    "def onehot_encode_fam_test(df):\n",
    "    return onehot_encode_fam(df, test=True)\n",
    "\n",
    "def onehot_encode_famversion_test(df):\n",
    "    return onehot_encode_famversion(df, test=True)\n",
    "\n",
    "def onehot_encode_fam_and_famversion_test(df):\n",
    "    return onehot_encode_fam_and_famversion(df, test=True)\n",
    "\n",
    "def onehot_encode_fam_and_famversion_and_version_test(df):\n",
    "    return onehot_encode_fam_and_famversion_and_version(df, test=True)"
   ],
   "metadata": {
    "collapsed": false,
    "pycharm": {
     "name": "#%%\n"
    }
   }
  },
  {
   "cell_type": "code",
   "execution_count": 4,
   "outputs": [],
   "source": [
    "from util import cdr3_length, aa_occurances, physchem_properties, peptide_mass, pi_feature, pos_features\n",
    "\n",
    "\n",
    "def get_baseline_feature_functions(test, onehot_encoder=None, onehot_encoder_test=None):\n",
    "    onehot_encoder = onehot_encoder if onehot_encoder is not None else onehot_encode\n",
    "    onehot_encoder_test = onehot_encoder_test if onehot_encoder_test is not None else onehot_encode_test\n",
    "    if not test:\n",
    "        feature_functions = [onehot_encoder, cdr3_length, aa_occurances, physchem_properties, peptide_mass, pi_feature,\n",
    "                             pos_features]\n",
    "    else:\n",
    "        feature_functions = [onehot_encoder_test, cdr3_length, aa_occurances, physchem_properties, peptide_mass, pi_feature,\n",
    "                             pos_features]\n",
    "    return feature_functions\n",
    "\n",
    "\n",
    "def get_baseline_sequence_features(df, test, onehot_encoder=None, onehot_encoder_test=None):\n",
    "    features_list = []\n",
    "    for feature_function in get_baseline_feature_functions(test, onehot_encoder, onehot_encoder_test):\n",
    "        features = feature_function(df)\n",
    "        assert features.shape[0] == df.shape[0], f'Feature function {feature_function} returned {features.shape[0]} rows, expected {df.shape[0]}'\n",
    "        features_list.append(features.reset_index(drop=True))\n",
    "\n",
    "    # Create one large dataframe, consisting of all the features (number of rows remains the same)\n",
    "    features_in_one_df = pd.concat(features_list, axis=1)\n",
    "    assert features_in_one_df.shape[0] == df.shape[0], f'Feature functions returned {features_in_one_df.shape[0]} rows, expected {df.shape[0]}'\n",
    "    return features_in_one_df\n",
    "\n",
    "\n",
    "\n",
    "def get_features(df, test=False, onehot_encoder=None, onehot_encoder_test=None):\n",
    "    df_num_rows = df.shape[0]\n",
    "\n",
    "    global ALPHA_OR_BETA\n",
    "\n",
    "    chains = {\"alfa\": 'A', \"beta\": 'B'}\n",
    "    all_chains_features = []\n",
    "    for chain in chains:\n",
    "        ALPHA_OR_BETA = chain\n",
    "\n",
    "        short = chains[chain]\n",
    "        rename_map = {f\"CDR3_{chain}\": \"CDR3\",\n",
    "                      f\"TR{short}V\": \"V\",\n",
    "                      f\"TR{short}J\": \"J\",\n",
    "                      f\"TR{short}V_family\": \"V_family\",\n",
    "                      f\"TR{short}J_family\": \"J_family\",\n",
    "                      f\"TR{short}V_version\": \"V_version\",\n",
    "                      f\"TR{short}J_version\": \"J_version\"}\n",
    "        renamed = df[rename_map.keys()].rename(columns=rename_map)\n",
    "\n",
    "        chain_features = get_baseline_sequence_features(renamed, test, onehot_encoder=onehot_encoder, onehot_encoder_test=onehot_encoder_test).add_prefix(f'{chain}_')\n",
    "\n",
    "        all_chains_features.append(chain_features)\n",
    "\n",
    "        chain_features_num_rows = chain_features.shape[0]\n",
    "\n",
    "        assert df_num_rows == chain_features_num_rows, f\"Number of rows in df ({df_num_rows}) and chain_features ({chain_features_num_rows}) must be the same\"\n",
    "\n",
    "    ALPHA_OR_BETA = None\n",
    "\n",
    "    return pd.concat(all_chains_features, axis=1)"
   ],
   "metadata": {
    "collapsed": false,
    "pycharm": {
     "name": "#%%\n"
    }
   }
  },
  {
   "cell_type": "code",
   "execution_count": 24,
   "outputs": [
    {
     "name": "stdout",
     "output_type": "stream",
     "text": [
      "Testing fam...\n",
      "[0.87598705 0.8840259  0.87380711 0.85696792 0.86815131]\n",
      "ROC: 0.872 (+/- 0.018)\n",
      "Testing famversion...\n",
      "[0.87680682 0.88787855 0.87534254 0.85705139 0.87222209]\n",
      "ROC: 0.874 (+/- 0.020)\n",
      "Testing fam_and_famversion...\n",
      "[0.88663244 0.89177755 0.88174885 0.86373839 0.87658437]\n",
      "ROC: 0.880 (+/- 0.019)\n",
      "Testing fam_and_famversion_and_version...\n",
      "[0.8872125  0.89416635 0.88485305 0.87053063 0.8761087 ]\n",
      "ROC: 0.883 (+/- 0.017)\n"
     ]
    }
   ],
   "source": [
    "from sklearn.ensemble import RandomForestClassifier\n",
    "from sklearn import impute\n",
    "import numpy as np\n",
    "from util import evaluate\n",
    "\n",
    "onehot_encoders = {\n",
    "    'fam': (onehot_encode_fam, onehot_encode_fam_test),\n",
    "    'famversion': (onehot_encode_famversion, onehot_encode_famversion_test),\n",
    "    'fam_and_famversion': (onehot_encode_fam_and_famversion, onehot_encode_fam_and_famversion_test),\n",
    "    'fam_and_famversion_and_version': (onehot_encode_fam_and_famversion_and_version, onehot_encode_fam_and_famversion_and_version_test)\n",
    "}\n",
    "for ohe_name in onehot_encoders:\n",
    "    print(f\"Testing {ohe_name}...\")\n",
    "\n",
    "    ohe, ohe_test = onehot_encoders[ohe_name]\n",
    "\n",
    "    train_features = get_features(train_df, onehot_encoder=ohe, onehot_encoder_test=ohe_test)\n",
    "\n",
    "    clf = RandomForestClassifier(random_state=0)\n",
    "\n",
    "    imputer_mean = impute.SimpleImputer(missing_values=np.nan, strategy='mean')\n",
    "    x_mean_imputed = imputer_mean.fit_transform(train_features)\n",
    "\n",
    "    evaluate(clf, x_mean_imputed, y)"
   ],
   "metadata": {
    "collapsed": false,
    "pycharm": {
     "name": "#%%\n"
    }
   }
  },
  {
   "cell_type": "markdown",
   "source": [
    "Version seems to give a very small increase, so let's still try it with fam and famversion"
   ],
   "metadata": {
    "collapsed": false,
    "pycharm": {
     "name": "#%% md\n"
    }
   }
  },
  {
   "cell_type": "code",
   "execution_count": 5,
   "outputs": [],
   "source": [
    "def onehot_encode_fam_and_version(df, test=False):\n",
    "    return onehot_encode(df, test=test, onehot_cols=['V_family', 'J_family', 'V_version', 'J_version'])\n",
    "\n",
    "def onehot_encode_famversion_and_version(df, test=False):\n",
    "    return onehot_encode(df, test=test, onehot_cols=['V', 'J', 'V_version', 'J_version'])\n",
    "\n",
    "def onehot_encode_fam_and_version_test(df):\n",
    "    return onehot_encode_fam_and_version(df, test=True)\n",
    "\n",
    "def onehot_encode_famversion_and_version_test(df):\n",
    "    return onehot_encode_famversion_and_version(df, test=True)"
   ],
   "metadata": {
    "collapsed": false,
    "pycharm": {
     "name": "#%%\n"
    }
   }
  },
  {
   "cell_type": "code",
   "execution_count": null,
   "outputs": [],
   "source": [
    "\n",
    "onehot_encoders = {\n",
    "    'fam_and_version': (onehot_encode_fam_and_version, onehot_encode_fam_and_version_test),\n",
    "    'famversion_and_version': (onehot_encode_famversion_and_version, onehot_encode_famversion_and_version_test)\n",
    "}\n",
    "for ohe_name in onehot_encoders:\n",
    "    print(f\"Testing {ohe_name}...\")\n",
    "\n",
    "    ohe, ohe_test = onehot_encoders[ohe_name]\n",
    "\n",
    "    train_features = get_features(train_df, onehot_encoder=ohe, onehot_encoder_test=ohe_test)\n",
    "\n",
    "    clf = RandomForestClassifier(random_state=0)\n",
    "\n",
    "    imputer_mean = impute.SimpleImputer(missing_values=np.nan, strategy='mean')\n",
    "    x_mean_imputed = imputer_mean.fit_transform(train_features)\n",
    "\n",
    "    evaluate(clf, x_mean_imputed, y)"
   ],
   "metadata": {
    "collapsed": false,
    "pycharm": {
     "name": "#%%\n"
    }
   }
  },
  {
   "cell_type": "markdown",
   "source": [
    "l88TOASK: Wanneer test dataset gebruiken?"
   ],
   "metadata": {
    "collapsed": false,
    "pycharm": {
     "name": "#%% md\n"
    }
   }
  },
  {
   "cell_type": "markdown",
   "source": [
    "## Results (test with NaNs)\n",
    "| Onehot encoding                | AUC              | Notebook |\n",
    "|--------------------------------|------------------|----------|\n",
    "| fam                            | 0.872 (+/-0.018) | 15       |\n",
    "| famversion                     | 0.874 (+/-0.020) | 15       |\n",
    "| fam_and_famversion             | 0.880 (+/-0.019) | 15       |\n",
    "| fam_and_famversion_and_version | 0.883 (+/-0.017) | 15       |\n",
    "| fam_and_version                | 0.873 (+/-0.013) | 15       |\n",
    "| famversion_and_version         | 0.875 (+/-0.021) | 15       |\n",
    "\n",
    "Onehotencoding all three seems to give the best results (for the RF classifier we used). Also onehotencoding the version seems to give a small increase."
   ],
   "metadata": {
    "collapsed": false,
    "pycharm": {
     "name": "#%% md\n"
    }
   }
  },
  {
   "cell_type": "code",
   "execution_count": 39,
   "outputs": [
    {
     "data": {
      "text/plain": "<Figure size 432x288 with 1 Axes>",
      "image/png": "[encoded data removed]"
     },
     "metadata": {},
     "output_type": "display_data"
    }
   ],
   "source": [
    "import matplotlib.pyplot as plt\n",
    "scores = {\"F\": 0.872, \"FV\": 0.874, \"F+FV\": 0.880, \"F+FV+V\": 0.883, \"F+V\": 0.873, \"FV+V\": 0.875}\n",
    "diff = [scores[score] - scores[\"FV\"] for score in scores]\n",
    "plt.bar(scores.keys(), diff)\n",
    "plt.show()"
   ],
   "metadata": {
    "collapsed": false,
    "pycharm": {
     "name": "#%%\n"
    }
   }
  },
  {
   "cell_type": "code",
   "execution_count": 7,
   "outputs": [],
   "source": [
    "from util import fix_test\n",
    "from sklearn.model_selection import train_test_split\n",
    "\n",
    "df = get_train_dataset()\n",
    "# df = df.sample(1000)\n",
    "\n",
    "train, test = train_test_split(df, test_size=0.2, random_state=42)\n",
    "\n",
    "test.dropna(inplace=True)"
   ],
   "metadata": {
    "collapsed": false,
    "pycharm": {
     "name": "#%%\n"
    }
   }
  },
  {
   "cell_type": "code",
   "execution_count": 31,
   "outputs": [
    {
     "name": "stdout",
     "output_type": "stream",
     "text": [
      "Testing fam...\n"
     ]
    },
    {
     "name": "stderr",
     "output_type": "stream",
     "text": [
      "C:\\Users\\arnod\\PycharmProjects\\thesis\\util\\classification.py:38: PerformanceWarning: DataFrame is highly fragmented.  This is usually the result of calling `frame.insert` many times, which has poor performance.  Consider joining all columns at once using pd.concat(axis=1) instead.  To get a de-fragmented frame, use `newframe = frame.copy()`\n",
      "  x_test[col] = np.nan  # TODO: NaN geven\n"
     ]
    },
    {
     "name": "stdout",
     "output_type": "stream",
     "text": [
      "ROC AUC: 0.953\n",
      "Testing famversion...\n"
     ]
    },
    {
     "name": "stderr",
     "output_type": "stream",
     "text": [
      "C:\\Users\\arnod\\PycharmProjects\\thesis\\util\\classification.py:38: PerformanceWarning: DataFrame is highly fragmented.  This is usually the result of calling `frame.insert` many times, which has poor performance.  Consider joining all columns at once using pd.concat(axis=1) instead.  To get a de-fragmented frame, use `newframe = frame.copy()`\n",
      "  x_test[col] = np.nan  # TODO: NaN geven\n"
     ]
    },
    {
     "name": "stdout",
     "output_type": "stream",
     "text": [
      "ROC AUC: 0.968\n",
      "Testing fam_and_famversion...\n"
     ]
    },
    {
     "name": "stderr",
     "output_type": "stream",
     "text": [
      "C:\\Users\\arnod\\PycharmProjects\\thesis\\util\\classification.py:38: PerformanceWarning: DataFrame is highly fragmented.  This is usually the result of calling `frame.insert` many times, which has poor performance.  Consider joining all columns at once using pd.concat(axis=1) instead.  To get a de-fragmented frame, use `newframe = frame.copy()`\n",
      "  x_test[col] = np.nan  # TODO: NaN geven\n"
     ]
    },
    {
     "name": "stdout",
     "output_type": "stream",
     "text": [
      "ROC AUC: 0.969\n",
      "Testing fam_and_famversion_and_version...\n"
     ]
    },
    {
     "name": "stderr",
     "output_type": "stream",
     "text": [
      "C:\\Users\\arnod\\PycharmProjects\\thesis\\util\\classification.py:38: PerformanceWarning: DataFrame is highly fragmented.  This is usually the result of calling `frame.insert` many times, which has poor performance.  Consider joining all columns at once using pd.concat(axis=1) instead.  To get a de-fragmented frame, use `newframe = frame.copy()`\n",
      "  x_test[col] = np.nan  # TODO: NaN geven\n"
     ]
    },
    {
     "name": "stdout",
     "output_type": "stream",
     "text": [
      "ROC AUC: 0.967\n",
      "Testing fam_and_version...\n"
     ]
    },
    {
     "name": "stderr",
     "output_type": "stream",
     "text": [
      "C:\\Users\\arnod\\PycharmProjects\\thesis\\util\\classification.py:38: PerformanceWarning: DataFrame is highly fragmented.  This is usually the result of calling `frame.insert` many times, which has poor performance.  Consider joining all columns at once using pd.concat(axis=1) instead.  To get a de-fragmented frame, use `newframe = frame.copy()`\n",
      "  x_test[col] = np.nan  # TODO: NaN geven\n"
     ]
    },
    {
     "name": "stdout",
     "output_type": "stream",
     "text": [
      "ROC AUC: 0.956\n",
      "Testing famversion_and_version...\n"
     ]
    },
    {
     "name": "stderr",
     "output_type": "stream",
     "text": [
      "C:\\Users\\arnod\\PycharmProjects\\thesis\\util\\classification.py:38: PerformanceWarning: DataFrame is highly fragmented.  This is usually the result of calling `frame.insert` many times, which has poor performance.  Consider joining all columns at once using pd.concat(axis=1) instead.  To get a de-fragmented frame, use `newframe = frame.copy()`\n",
      "  x_test[col] = np.nan  # TODO: NaN geven\n"
     ]
    },
    {
     "name": "stdout",
     "output_type": "stream",
     "text": [
      "ROC AUC: 0.966\n"
     ]
    }
   ],
   "source": [
    "from util import evaluate_no_cv\n",
    "from sklearn.ensemble import HistGradientBoostingClassifier\n",
    "\n",
    "onehot_encoders = {\n",
    "    'fam': (onehot_encode_fam, onehot_encode_fam_test),\n",
    "    'famversion': (onehot_encode_famversion, onehot_encode_famversion_test),\n",
    "    'fam_and_famversion': (onehot_encode_fam_and_famversion, onehot_encode_fam_and_famversion_test),\n",
    "    'fam_and_famversion_and_version': (onehot_encode_fam_and_famversion_and_version, onehot_encode_fam_and_famversion_and_version_test),\n",
    "    'fam_and_version': (onehot_encode_fam_and_version, onehot_encode_fam_and_version_test),\n",
    "    'famversion_and_version': (onehot_encode_famversion_and_version, onehot_encode_famversion_and_version_test)\n",
    "}\n",
    "for ohe_name in onehot_encoders:\n",
    "    print(f\"Testing {ohe_name}...\")\n",
    "\n",
    "    ohe, ohe_test = onehot_encoders[ohe_name]\n",
    "\n",
    "    x = get_features(train, onehot_encoder=ohe, onehot_encoder_test=ohe_test)\n",
    "    y = train['reaction']\n",
    "\n",
    "    x_test = get_features(test, test=True, onehot_encoder=ohe, onehot_encoder_test=ohe_test)\n",
    "    x_test = fix_test(x_test, x.columns)\n",
    "    y_test = test['reaction']\n",
    "\n",
    "    clf = HistGradientBoostingClassifier(random_state=0) # Warning: Using other classifier (and other test set) here, so don't compare results with previous output\n",
    "    evaluate_no_cv(clf, x, y, x_test, y_test)"
   ],
   "metadata": {
    "collapsed": false,
    "pycharm": {
     "name": "#%%\n"
    }
   }
  },
  {
   "cell_type": "markdown",
   "source": [
    "## Results (test without NaNs and with HistGradientBoostingClassifier)\n",
    "\n",
    "| Onehot encoding                | AUC   | Notebook |\n",
    "|--------------------------------|-------|----------|\n",
    "| fam                            | 0.953 | 15       |\n",
    "| famversion                     | 0.968 | 15       |\n",
    "| fam_and_famversion             | 0.969 | 15       |\n",
    "| fam_and_famversion_and_version | 0.967 | 15       |\n",
    "| fam_and_version                | 0.956 | 15       |\n",
    "| famversion_and_version         | 0.966 | 15       |\n",
    "\n"
   ],
   "metadata": {
    "collapsed": false,
    "pycharm": {
     "name": "#%% md\n"
    }
   }
  },
  {
   "cell_type": "code",
   "execution_count": 38,
   "outputs": [
    {
     "data": {
      "text/plain": "<Figure size 432x288 with 1 Axes>",
      "image/png": "[encoded data removed]"
     },
     "metadata": {},
     "output_type": "display_data"
    }
   ],
   "source": [
    "import matplotlib.pyplot as plt\n",
    "scores = {\"F\": 0.953, \"FV\": 0.968, \"F+FV\": 0.969, \"F+FV+V\": 0.967, \"F+V\": 0.956, \"FV+V\": 0.966}\n",
    "diff = [scores[score] - scores[\"FV\"] for score in scores]\n",
    "plt.bar(scores.keys(), diff)\n",
    "plt.show()"
   ],
   "metadata": {
    "collapsed": false,
    "pycharm": {
     "name": "#%%\n"
    }
   }
  },
  {
   "cell_type": "markdown",
   "source": [
    "The improvements are a lot smaller than our previous test. Let's try the test without NaN's again with a RF classifier to see whether the differences are because of the NaN's or because of the classifier."
   ],
   "metadata": {
    "collapsed": false,
    "pycharm": {
     "name": "#%% md\n"
    }
   }
  },
  {
   "cell_type": "code",
   "execution_count": 12,
   "outputs": [
    {
     "name": "stdout",
     "output_type": "stream",
     "text": [
      "Testing fam...\n"
     ]
    },
    {
     "name": "stderr",
     "output_type": "stream",
     "text": [
      "C:\\Users\\arnod\\PycharmProjects\\thesis\\util\\classification.py:38: PerformanceWarning: DataFrame is highly fragmented.  This is usually the result of calling `frame.insert` many times, which has poor performance.  Consider joining all columns at once using pd.concat(axis=1) instead.  To get a de-fragmented frame, use `newframe = frame.copy()`\n",
      "  x_test[col] = np.nan  # TODO: NaN geven\n"
     ]
    },
    {
     "name": "stdout",
     "output_type": "stream",
     "text": [
      "ROC AUC: 0.937\n",
      "Testing famversion...\n"
     ]
    },
    {
     "name": "stderr",
     "output_type": "stream",
     "text": [
      "C:\\Users\\arnod\\PycharmProjects\\thesis\\util\\classification.py:38: PerformanceWarning: DataFrame is highly fragmented.  This is usually the result of calling `frame.insert` many times, which has poor performance.  Consider joining all columns at once using pd.concat(axis=1) instead.  To get a de-fragmented frame, use `newframe = frame.copy()`\n",
      "  x_test[col] = np.nan  # TODO: NaN geven\n"
     ]
    },
    {
     "name": "stdout",
     "output_type": "stream",
     "text": [
      "ROC AUC: 0.947\n",
      "Testing fam_and_famversion...\n"
     ]
    },
    {
     "name": "stderr",
     "output_type": "stream",
     "text": [
      "C:\\Users\\arnod\\PycharmProjects\\thesis\\util\\classification.py:38: PerformanceWarning: DataFrame is highly fragmented.  This is usually the result of calling `frame.insert` many times, which has poor performance.  Consider joining all columns at once using pd.concat(axis=1) instead.  To get a de-fragmented frame, use `newframe = frame.copy()`\n",
      "  x_test[col] = np.nan  # TODO: NaN geven\n"
     ]
    },
    {
     "name": "stdout",
     "output_type": "stream",
     "text": [
      "ROC AUC: 0.945\n",
      "Testing fam_and_famversion_and_version...\n"
     ]
    },
    {
     "name": "stderr",
     "output_type": "stream",
     "text": [
      "C:\\Users\\arnod\\PycharmProjects\\thesis\\util\\classification.py:38: PerformanceWarning: DataFrame is highly fragmented.  This is usually the result of calling `frame.insert` many times, which has poor performance.  Consider joining all columns at once using pd.concat(axis=1) instead.  To get a de-fragmented frame, use `newframe = frame.copy()`\n",
      "  x_test[col] = np.nan  # TODO: NaN geven\n"
     ]
    },
    {
     "name": "stdout",
     "output_type": "stream",
     "text": [
      "ROC AUC: 0.948\n",
      "Testing fam_and_version...\n"
     ]
    },
    {
     "name": "stderr",
     "output_type": "stream",
     "text": [
      "C:\\Users\\arnod\\PycharmProjects\\thesis\\util\\classification.py:38: PerformanceWarning: DataFrame is highly fragmented.  This is usually the result of calling `frame.insert` many times, which has poor performance.  Consider joining all columns at once using pd.concat(axis=1) instead.  To get a de-fragmented frame, use `newframe = frame.copy()`\n",
      "  x_test[col] = np.nan  # TODO: NaN geven\n"
     ]
    },
    {
     "name": "stdout",
     "output_type": "stream",
     "text": [
      "ROC AUC: 0.946\n",
      "Testing famversion_and_version...\n"
     ]
    },
    {
     "name": "stderr",
     "output_type": "stream",
     "text": [
      "C:\\Users\\arnod\\PycharmProjects\\thesis\\util\\classification.py:38: PerformanceWarning: DataFrame is highly fragmented.  This is usually the result of calling `frame.insert` many times, which has poor performance.  Consider joining all columns at once using pd.concat(axis=1) instead.  To get a de-fragmented frame, use `newframe = frame.copy()`\n",
      "  x_test[col] = np.nan  # TODO: NaN geven\n"
     ]
    },
    {
     "name": "stdout",
     "output_type": "stream",
     "text": [
      "ROC AUC: 0.949\n"
     ]
    }
   ],
   "source": [
    "from util import evaluate_no_cv\n",
    "from sklearn.ensemble import HistGradientBoostingClassifier, RandomForestClassifier\n",
    "from sklearn import impute\n",
    "import numpy as np\n",
    "\n",
    "onehot_encoders = {\n",
    "    'fam': (onehot_encode_fam, onehot_encode_fam_test, \"F\"),\n",
    "    'famversion': (onehot_encode_famversion, onehot_encode_famversion_test, \"FV\"),\n",
    "    'fam_and_famversion': (onehot_encode_fam_and_famversion, onehot_encode_fam_and_famversion_test, \"F+FV\"),\n",
    "    'fam_and_famversion_and_version': (onehot_encode_fam_and_famversion_and_version, onehot_encode_fam_and_famversion_and_version_test, \"F+FV+V\"),\n",
    "    'fam_and_version': (onehot_encode_fam_and_version, onehot_encode_fam_and_version_test, \"F+V\"),\n",
    "    'famversion_and_version': (onehot_encode_famversion_and_version, onehot_encode_famversion_and_version_test,\"FV+V\")\n",
    "}\n",
    "scores = dict()\n",
    "for ohe_name in onehot_encoders:\n",
    "    print(f\"Testing {ohe_name}...\")\n",
    "\n",
    "    ohe, ohe_test, abbrev = onehot_encoders[ohe_name]\n",
    "\n",
    "    x = get_features(train, onehot_encoder=ohe, onehot_encoder_test=ohe_test)\n",
    "    y = train['reaction']\n",
    "\n",
    "    x_test = get_features(test, test=True, onehot_encoder=ohe, onehot_encoder_test=ohe_test)\n",
    "    x_test = fix_test(x_test, x.columns)\n",
    "    y_test = test['reaction']\n",
    "\n",
    "\n",
    "    clf = RandomForestClassifier(random_state=0)\n",
    "\n",
    "    imputer_mean = impute.SimpleImputer(missing_values=np.nan, strategy='mean')\n",
    "    x_mean_imputed = imputer_mean.fit_transform(x)\n",
    "    x_test_mean_imputed = imputer_mean.transform(x_test)\n",
    "\n",
    "    score = evaluate_no_cv(clf, x_mean_imputed, y, x_test_mean_imputed, y_test)\n",
    "\n",
    "    scores[abbrev] = score\n"
   ],
   "metadata": {
    "collapsed": false,
    "pycharm": {
     "name": "#%%\n"
    }
   }
  },
  {
   "cell_type": "code",
   "execution_count": 13,
   "outputs": [
    {
     "data": {
      "text/plain": "<Figure size 432x288 with 1 Axes>",
      "image/png": "[encoded data removed]"
     },
     "metadata": {
      "needs_background": "light"
     },
     "output_type": "display_data"
    }
   ],
   "source": [
    "import matplotlib.pyplot as plt\n",
    "diff = [scores[score] - scores[\"FV\"] for score in scores]\n",
    "plt.bar(scores.keys(), diff)\n",
    "plt.show()"
   ],
   "metadata": {
    "collapsed": false,
    "pycharm": {
     "name": "#%%\n"
    }
   }
  },
  {
   "cell_type": "code",
   "execution_count": 14,
   "outputs": [
    {
     "data": {
      "text/plain": "{'F': 0.9370490767077521,\n 'FV': 0.9470721025779945,\n 'F+FV': 0.9454828660436138,\n 'F+FV+V': 0.9481827622014538,\n 'F+V': 0.9456634611043387,\n 'FV+V': 0.9492031242945504}"
     },
     "execution_count": 14,
     "metadata": {},
     "output_type": "execute_result"
    }
   ],
   "source": [
    "scores"
   ],
   "metadata": {
    "collapsed": false,
    "pycharm": {
     "name": "#%%\n"
    }
   }
  },
  {
   "cell_type": "code",
   "execution_count": null,
   "outputs": [],
   "source": [
    "scores = {'F': 0.9370490767077521,\n",
    " 'FV': 0.9470721025779945,\n",
    " 'F+FV': 0.9454828660436138,\n",
    " 'F+FV+V': 0.9481827622014538,\n",
    " 'F+V': 0.9456634611043387,\n",
    " 'FV+V': 0.9492031242945504}"
   ],
   "metadata": {
    "collapsed": false,
    "pycharm": {
     "name": "#%%\n"
    }
   }
  },
  {
   "cell_type": "markdown",
   "source": [
    "| Onehot encoding                | AUC   | Notebook |\n",
    "|--------------------------------|-------|----------|\n",
    "| fam                            | 0.937 | 15       |\n",
    "| famversion                     | 0.947 | 15       |\n",
    "| fam_and_famversion             | 0.945 | 15       |\n",
    "| fam_and_famversion_and_version | 0.948 | 15       |\n",
    "| fam_and_version                | 0.946 | 15       |\n",
    "| famversion_and_version         | 0.949 | 15       |"
   ],
   "metadata": {
    "collapsed": false,
    "pycharm": {
     "name": "#%% md\n"
    }
   }
  },
  {
   "cell_type": "markdown",
   "source": [
    "I think I still need to try cross validation here."
   ],
   "metadata": {
    "collapsed": false,
    "pycharm": {
     "name": "#%% md\n"
    }
   }
  }
 ],
 "metadata": {
  "kernelspec": {
   "display_name": "Python 3",
   "language": "python",
   "name": "python3"
  },
  "language_info": {
   "codemirror_mode": {
    "name": "ipython",
    "version": 2
   },
   "file_extension": ".py",
   "mimetype": "text/x-python",
   "name": "python",
   "nbconvert_exporter": "python",
   "pygments_lexer": "ipython2",
   "version": "2.7.6"
  }
 },
 "nbformat": 4,
 "nbformat_minor": 0
}