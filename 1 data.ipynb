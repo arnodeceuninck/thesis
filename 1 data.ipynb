{
 "cells": [
  {
   "cell_type": "markdown",
   "metadata": {},
   "source": [
    "# Data\n",
    "Before getting started, let's take a look at the provided data"
   ]
  },
  {
   "cell_type": "markdown",
   "metadata": {},
   "source": [
    "## Provided datasets"
   ]
  },
  {
   "cell_type": "markdown",
   "metadata": {},
   "source": [
    "### GILGFVFTL_data\n",
    "This dataset contains positive examples of TCR Cells (alpha and beta parts (sometimes both, sometimes only one of them)) that react with th GILGFVFTL epitope."
   ]
  },
  {
   "cell_type": "code",
   "execution_count": 23,
   "metadata": {},
   "outputs": [
    {
     "data": {
      "text/plain": "   Unnamed: 0 GeneA        CDR3_alfa       TRAV       TRAJ      MHC A_alfa  \\\n0           0   TRA     CAGAGSQGNLIF  TRAV27*01  TRAJ42*01  HLA-A*02:01:48   \n1           1   TRA     CAGAGSQGNLIF  TRAV27*01  TRAJ42*01  HLA-A*02:01:48   \n2           2   TRA     CAGAGSQGNLIF  TRAV27*01  TRAJ42*01  HLA-A*02:01:48   \n3           3   TRA     CAGAGSQGNLIF  TRAV27*01  TRAJ42*01  HLA-A*02:01:48   \n4           4   TRA  CAGPGGSSNTGKLIF  TRAV35*01  TRAJ37*01  HLA-A*02:01:48   \n\n     Epitope  Score_alfa GeneB      CDR3_beta       TRBV        TRBJ  \\\n0  GILGFVFTL         3.0   TRB  CASSSRSSYEQYF  TRBV19*01  TRBJ2-7*01   \n1  GILGFVFTL         3.0   TRB  CASSSRSSYEQYF  TRBV19*01  TRBJ2-7*01   \n2  GILGFVFTL         3.0   TRB  CASSSRSSYEQYF  TRBV19*01  TRBJ2-7*01   \n3  GILGFVFTL         3.0   TRB  CASSSRASYEQYF  TRBV19*01  TRBJ2-7*01   \n4  GILGFVFTL         3.0   TRB  CASSLIYPGELFF  TRBV27*01  TRBJ2-2*01   \n\n       MHC A_beta  Epitope.1  Score_beta  \n0  HLA-A*02:01:48  GILGFVFTL         3.0  \n1  HLA-A*02:01:48  GILGFVFTL         3.0  \n2  HLA-A*02:01:48  GILGFVFTL         3.0  \n3  HLA-A*02:01:48  GILGFVFTL         3.0  \n4  HLA-A*02:01:48  GILGFVFTL         3.0  ",
      "text/html": "<div>\n<style scoped>\n    .dataframe tbody tr th:only-of-type {\n        vertical-align: middle;\n    }\n\n    .dataframe tbody tr th {\n        vertical-align: top;\n    }\n\n    .dataframe thead th {\n        text-align: right;\n    }\n</style>\n<table border=\"1\" class=\"dataframe\">\n  <thead>\n    <tr style=\"text-align: right;\">\n      <th></th>\n      <th>Unnamed: 0</th>\n      <th>GeneA</th>\n      <th>CDR3_alfa</th>\n      <th>TRAV</th>\n      <th>TRAJ</th>\n      <th>MHC A_alfa</th>\n      <th>Epitope</th>\n      <th>Score_alfa</th>\n      <th>GeneB</th>\n      <th>CDR3_beta</th>\n      <th>TRBV</th>\n      <th>TRBJ</th>\n      <th>MHC A_beta</th>\n      <th>Epitope.1</th>\n      <th>Score_beta</th>\n    </tr>\n  </thead>\n  <tbody>\n    <tr>\n      <th>0</th>\n      <td>0</td>\n      <td>TRA</td>\n      <td>CAGAGSQGNLIF</td>\n      <td>TRAV27*01</td>\n      <td>TRAJ42*01</td>\n      <td>HLA-A*02:01:48</td>\n      <td>GILGFVFTL</td>\n      <td>3.0</td>\n      <td>TRB</td>\n      <td>CASSSRSSYEQYF</td>\n      <td>TRBV19*01</td>\n      <td>TRBJ2-7*01</td>\n      <td>HLA-A*02:01:48</td>\n      <td>GILGFVFTL</td>\n      <td>3.0</td>\n    </tr>\n    <tr>\n      <th>1</th>\n      <td>1</td>\n      <td>TRA</td>\n      <td>CAGAGSQGNLIF</td>\n      <td>TRAV27*01</td>\n      <td>TRAJ42*01</td>\n      <td>HLA-A*02:01:48</td>\n      <td>GILGFVFTL</td>\n      <td>3.0</td>\n      <td>TRB</td>\n      <td>CASSSRSSYEQYF</td>\n      <td>TRBV19*01</td>\n      <td>TRBJ2-7*01</td>\n      <td>HLA-A*02:01:48</td>\n      <td>GILGFVFTL</td>\n      <td>3.0</td>\n    </tr>\n    <tr>\n      <th>2</th>\n      <td>2</td>\n      <td>TRA</td>\n      <td>CAGAGSQGNLIF</td>\n      <td>TRAV27*01</td>\n      <td>TRAJ42*01</td>\n      <td>HLA-A*02:01:48</td>\n      <td>GILGFVFTL</td>\n      <td>3.0</td>\n      <td>TRB</td>\n      <td>CASSSRSSYEQYF</td>\n      <td>TRBV19*01</td>\n      <td>TRBJ2-7*01</td>\n      <td>HLA-A*02:01:48</td>\n      <td>GILGFVFTL</td>\n      <td>3.0</td>\n    </tr>\n    <tr>\n      <th>3</th>\n      <td>3</td>\n      <td>TRA</td>\n      <td>CAGAGSQGNLIF</td>\n      <td>TRAV27*01</td>\n      <td>TRAJ42*01</td>\n      <td>HLA-A*02:01:48</td>\n      <td>GILGFVFTL</td>\n      <td>3.0</td>\n      <td>TRB</td>\n      <td>CASSSRASYEQYF</td>\n      <td>TRBV19*01</td>\n      <td>TRBJ2-7*01</td>\n      <td>HLA-A*02:01:48</td>\n      <td>GILGFVFTL</td>\n      <td>3.0</td>\n    </tr>\n    <tr>\n      <th>4</th>\n      <td>4</td>\n      <td>TRA</td>\n      <td>CAGPGGSSNTGKLIF</td>\n      <td>TRAV35*01</td>\n      <td>TRAJ37*01</td>\n      <td>HLA-A*02:01:48</td>\n      <td>GILGFVFTL</td>\n      <td>3.0</td>\n      <td>TRB</td>\n      <td>CASSLIYPGELFF</td>\n      <td>TRBV27*01</td>\n      <td>TRBJ2-2*01</td>\n      <td>HLA-A*02:01:48</td>\n      <td>GILGFVFTL</td>\n      <td>3.0</td>\n    </tr>\n  </tbody>\n</table>\n</div>"
     },
     "execution_count": 23,
     "metadata": {},
     "output_type": "execute_result"
    }
   ],
   "source": [
    "# Load data/GILGFVFTL_data.tsv in a dataframe\n",
    "import pandas as pd\n",
    "df_g = pd.read_csv('data/GILGFVFTL_data.tsv') #, sep='\\t') # Hmm, for some reason it has a .tsv extension but is actually a .csv file\n",
    "df_g.head()"
   ]
  },
  {
   "cell_type": "code",
   "execution_count": 24,
   "outputs": [
    {
     "data": {
      "text/plain": "   Unnamed: 0 GeneA        CDR3_alfa    TRAV    TRAJ      MHC A_alfa  \\\n0           0   TRA     CAGAGSQGNLIF  TRAV27  TRAJ42  HLA-A*02:01:48   \n1           1   TRA     CAGAGSQGNLIF  TRAV27  TRAJ42  HLA-A*02:01:48   \n2           2   TRA     CAGAGSQGNLIF  TRAV27  TRAJ42  HLA-A*02:01:48   \n3           3   TRA     CAGAGSQGNLIF  TRAV27  TRAJ42  HLA-A*02:01:48   \n4           4   TRA  CAGPGGSSNTGKLIF  TRAV35  TRAJ37  HLA-A*02:01:48   \n\n     Epitope  Score_alfa GeneB      CDR3_beta    TRBV     TRBJ  \\\n0  GILGFVFTL         3.0   TRB  CASSSRSSYEQYF  TRBV19  TRBJ2-7   \n1  GILGFVFTL         3.0   TRB  CASSSRSSYEQYF  TRBV19  TRBJ2-7   \n2  GILGFVFTL         3.0   TRB  CASSSRSSYEQYF  TRBV19  TRBJ2-7   \n3  GILGFVFTL         3.0   TRB  CASSSRASYEQYF  TRBV19  TRBJ2-7   \n4  GILGFVFTL         3.0   TRB  CASSLIYPGELFF  TRBV27  TRBJ2-2   \n\n       MHC A_beta  Epitope.1  Score_beta  \n0  HLA-A*02:01:48  GILGFVFTL         3.0  \n1  HLA-A*02:01:48  GILGFVFTL         3.0  \n2  HLA-A*02:01:48  GILGFVFTL         3.0  \n3  HLA-A*02:01:48  GILGFVFTL         3.0  \n4  HLA-A*02:01:48  GILGFVFTL         3.0  ",
      "text/html": "<div>\n<style scoped>\n    .dataframe tbody tr th:only-of-type {\n        vertical-align: middle;\n    }\n\n    .dataframe tbody tr th {\n        vertical-align: top;\n    }\n\n    .dataframe thead th {\n        text-align: right;\n    }\n</style>\n<table border=\"1\" class=\"dataframe\">\n  <thead>\n    <tr style=\"text-align: right;\">\n      <th></th>\n      <th>Unnamed: 0</th>\n      <th>GeneA</th>\n      <th>CDR3_alfa</th>\n      <th>TRAV</th>\n      <th>TRAJ</th>\n      <th>MHC A_alfa</th>\n      <th>Epitope</th>\n      <th>Score_alfa</th>\n      <th>GeneB</th>\n      <th>CDR3_beta</th>\n      <th>TRBV</th>\n      <th>TRBJ</th>\n      <th>MHC A_beta</th>\n      <th>Epitope.1</th>\n      <th>Score_beta</th>\n    </tr>\n  </thead>\n  <tbody>\n    <tr>\n      <th>0</th>\n      <td>0</td>\n      <td>TRA</td>\n      <td>CAGAGSQGNLIF</td>\n      <td>TRAV27</td>\n      <td>TRAJ42</td>\n      <td>HLA-A*02:01:48</td>\n      <td>GILGFVFTL</td>\n      <td>3.0</td>\n      <td>TRB</td>\n      <td>CASSSRSSYEQYF</td>\n      <td>TRBV19</td>\n      <td>TRBJ2-7</td>\n      <td>HLA-A*02:01:48</td>\n      <td>GILGFVFTL</td>\n      <td>3.0</td>\n    </tr>\n    <tr>\n      <th>1</th>\n      <td>1</td>\n      <td>TRA</td>\n      <td>CAGAGSQGNLIF</td>\n      <td>TRAV27</td>\n      <td>TRAJ42</td>\n      <td>HLA-A*02:01:48</td>\n      <td>GILGFVFTL</td>\n      <td>3.0</td>\n      <td>TRB</td>\n      <td>CASSSRSSYEQYF</td>\n      <td>TRBV19</td>\n      <td>TRBJ2-7</td>\n      <td>HLA-A*02:01:48</td>\n      <td>GILGFVFTL</td>\n      <td>3.0</td>\n    </tr>\n    <tr>\n      <th>2</th>\n      <td>2</td>\n      <td>TRA</td>\n      <td>CAGAGSQGNLIF</td>\n      <td>TRAV27</td>\n      <td>TRAJ42</td>\n      <td>HLA-A*02:01:48</td>\n      <td>GILGFVFTL</td>\n      <td>3.0</td>\n      <td>TRB</td>\n      <td>CASSSRSSYEQYF</td>\n      <td>TRBV19</td>\n      <td>TRBJ2-7</td>\n      <td>HLA-A*02:01:48</td>\n      <td>GILGFVFTL</td>\n      <td>3.0</td>\n    </tr>\n    <tr>\n      <th>3</th>\n      <td>3</td>\n      <td>TRA</td>\n      <td>CAGAGSQGNLIF</td>\n      <td>TRAV27</td>\n      <td>TRAJ42</td>\n      <td>HLA-A*02:01:48</td>\n      <td>GILGFVFTL</td>\n      <td>3.0</td>\n      <td>TRB</td>\n      <td>CASSSRASYEQYF</td>\n      <td>TRBV19</td>\n      <td>TRBJ2-7</td>\n      <td>HLA-A*02:01:48</td>\n      <td>GILGFVFTL</td>\n      <td>3.0</td>\n    </tr>\n    <tr>\n      <th>4</th>\n      <td>4</td>\n      <td>TRA</td>\n      <td>CAGPGGSSNTGKLIF</td>\n      <td>TRAV35</td>\n      <td>TRAJ37</td>\n      <td>HLA-A*02:01:48</td>\n      <td>GILGFVFTL</td>\n      <td>3.0</td>\n      <td>TRB</td>\n      <td>CASSLIYPGELFF</td>\n      <td>TRBV27</td>\n      <td>TRBJ2-2</td>\n      <td>HLA-A*02:01:48</td>\n      <td>GILGFVFTL</td>\n      <td>3.0</td>\n    </tr>\n  </tbody>\n</table>\n</div>"
     },
     "execution_count": 24,
     "metadata": {},
     "output_type": "execute_result"
    }
   ],
   "source": [
    "# the allele is also given here (e.g. *01), which is not in the other datasets, so let's remove the * and everying after it in TRAV, TRAJ, TRBV, TRBJ\n",
    "for col in ['TRAJ', 'TRAV', 'TRBV', 'TRBJ']:\n",
    "    df_g[col] = df_g[col].str.split('*').str[0]\n",
    "df_g.head()"
   ],
   "metadata": {
    "collapsed": false
   }
  },
  {
   "cell_type": "code",
   "execution_count": 25,
   "metadata": {},
   "outputs": [
    {
     "data": {
      "text/plain": "Unnamed: 0    5192\nGeneA            1\nCDR3_alfa     1093\nTRAV            42\nTRAJ            48\nMHC A_alfa       3\nEpitope          1\nScore_alfa       3\nGeneB            1\nCDR3_beta     3473\nTRBV            47\nTRBJ            13\nMHC A_beta       3\nEpitope.1        1\nScore_beta       4\ndtype: int64"
     },
     "execution_count": 25,
     "metadata": {},
     "output_type": "execute_result"
    }
   ],
   "source": [
    "# Get per column the number of different values\n",
    "df_g.nunique()"
   ]
  },
  {
   "cell_type": "code",
   "execution_count": 26,
   "metadata": {},
   "outputs": [
    {
     "data": {
      "text/plain": "'Number of genes containing alpha: 2161 (41.62%)'"
     },
     "execution_count": 26,
     "metadata": {},
     "output_type": "execute_result"
    }
   ],
   "source": [
    "# Number of genes containing alpha (column GeneA = TRA)\n",
    "alpha_count_g = df_g[df_g['GeneA'] == 'TRA'].shape[0]\n",
    "f\"Number of genes containing alpha: {alpha_count_g} ({alpha_count_g/df_g.shape[0]*100:.2f}%)\""
   ]
  },
  {
   "cell_type": "code",
   "execution_count": 27,
   "metadata": {},
   "outputs": [
    {
     "data": {
      "text/plain": "'Number of genes containing beta: 5190 (99.96%)'"
     },
     "execution_count": 27,
     "metadata": {},
     "output_type": "execute_result"
    }
   ],
   "source": [
    "beta_count_g = df_g[df_g['GeneB'] == 'TRB'].shape[0]\n",
    "f\"Number of genes containing beta: {beta_count_g} ({beta_count_g/df_g.shape[0]*100:.2f}%)\""
   ]
  },
  {
   "cell_type": "code",
   "execution_count": 28,
   "metadata": {},
   "outputs": [
    {
     "data": {
      "text/plain": "   Unnamed: 0 GeneA        CDR3_alfa    TRAV    TRAJ    Epitope GeneB  \\\n0           0   TRA     CAGAGSQGNLIF  TRAV27  TRAJ42  GILGFVFTL   TRB   \n1           1   TRA     CAGAGSQGNLIF  TRAV27  TRAJ42  GILGFVFTL   TRB   \n2           2   TRA     CAGAGSQGNLIF  TRAV27  TRAJ42  GILGFVFTL   TRB   \n3           3   TRA     CAGAGSQGNLIF  TRAV27  TRAJ42  GILGFVFTL   TRB   \n4           4   TRA  CAGPGGSSNTGKLIF  TRAV35  TRAJ37  GILGFVFTL   TRB   \n\n       CDR3_beta    TRBV     TRBJ  Epitope.1  \n0  CASSSRSSYEQYF  TRBV19  TRBJ2-7  GILGFVFTL  \n1  CASSSRSSYEQYF  TRBV19  TRBJ2-7  GILGFVFTL  \n2  CASSSRSSYEQYF  TRBV19  TRBJ2-7  GILGFVFTL  \n3  CASSSRASYEQYF  TRBV19  TRBJ2-7  GILGFVFTL  \n4  CASSLIYPGELFF  TRBV27  TRBJ2-2  GILGFVFTL  ",
      "text/html": "<div>\n<style scoped>\n    .dataframe tbody tr th:only-of-type {\n        vertical-align: middle;\n    }\n\n    .dataframe tbody tr th {\n        vertical-align: top;\n    }\n\n    .dataframe thead th {\n        text-align: right;\n    }\n</style>\n<table border=\"1\" class=\"dataframe\">\n  <thead>\n    <tr style=\"text-align: right;\">\n      <th></th>\n      <th>Unnamed: 0</th>\n      <th>GeneA</th>\n      <th>CDR3_alfa</th>\n      <th>TRAV</th>\n      <th>TRAJ</th>\n      <th>Epitope</th>\n      <th>GeneB</th>\n      <th>CDR3_beta</th>\n      <th>TRBV</th>\n      <th>TRBJ</th>\n      <th>Epitope.1</th>\n    </tr>\n  </thead>\n  <tbody>\n    <tr>\n      <th>0</th>\n      <td>0</td>\n      <td>TRA</td>\n      <td>CAGAGSQGNLIF</td>\n      <td>TRAV27</td>\n      <td>TRAJ42</td>\n      <td>GILGFVFTL</td>\n      <td>TRB</td>\n      <td>CASSSRSSYEQYF</td>\n      <td>TRBV19</td>\n      <td>TRBJ2-7</td>\n      <td>GILGFVFTL</td>\n    </tr>\n    <tr>\n      <th>1</th>\n      <td>1</td>\n      <td>TRA</td>\n      <td>CAGAGSQGNLIF</td>\n      <td>TRAV27</td>\n      <td>TRAJ42</td>\n      <td>GILGFVFTL</td>\n      <td>TRB</td>\n      <td>CASSSRSSYEQYF</td>\n      <td>TRBV19</td>\n      <td>TRBJ2-7</td>\n      <td>GILGFVFTL</td>\n    </tr>\n    <tr>\n      <th>2</th>\n      <td>2</td>\n      <td>TRA</td>\n      <td>CAGAGSQGNLIF</td>\n      <td>TRAV27</td>\n      <td>TRAJ42</td>\n      <td>GILGFVFTL</td>\n      <td>TRB</td>\n      <td>CASSSRSSYEQYF</td>\n      <td>TRBV19</td>\n      <td>TRBJ2-7</td>\n      <td>GILGFVFTL</td>\n    </tr>\n    <tr>\n      <th>3</th>\n      <td>3</td>\n      <td>TRA</td>\n      <td>CAGAGSQGNLIF</td>\n      <td>TRAV27</td>\n      <td>TRAJ42</td>\n      <td>GILGFVFTL</td>\n      <td>TRB</td>\n      <td>CASSSRASYEQYF</td>\n      <td>TRBV19</td>\n      <td>TRBJ2-7</td>\n      <td>GILGFVFTL</td>\n    </tr>\n    <tr>\n      <th>4</th>\n      <td>4</td>\n      <td>TRA</td>\n      <td>CAGPGGSSNTGKLIF</td>\n      <td>TRAV35</td>\n      <td>TRAJ37</td>\n      <td>GILGFVFTL</td>\n      <td>TRB</td>\n      <td>CASSLIYPGELFF</td>\n      <td>TRBV27</td>\n      <td>TRBJ2-2</td>\n      <td>GILGFVFTL</td>\n    </tr>\n  </tbody>\n</table>\n</div>"
     },
     "execution_count": 28,
     "metadata": {},
     "output_type": "execute_result"
    }
   ],
   "source": [
    "# Values to ignore (for now?) are MHC A_alfa (always the same), Score_alfa (confidence score of alfa), Score_beta (confidence score of beta) -> Drop those columns\n",
    "df_g = df_g.drop(columns=['MHC A_alfa', 'Score_alfa', 'MHC A_beta', 'Score_beta'])\n",
    "df_g.head()"
   ]
  },
  {
   "cell_type": "markdown",
   "metadata": {},
   "source": [
    "### background\n",
    "This dataset contains some alpha and beta parts from TCR cells, without any epitope. You can use them as negative dataset (by filtering out the alphas and betas that occur in the positive dataset)."
   ]
  },
  {
   "cell_type": "code",
   "execution_count": 29,
   "metadata": {},
   "outputs": [
    {
     "data": {
      "text/plain": "         CDR3_alfa         TRAV    TRAJ         CDR3_beta      TRBV     TRBJ\n0   CAYGSTYNTDKLIF  TRAV38-2DV8  TRAJ34  CASSQEGSGVTDTQYF   TRBV4-3  TRBJ2-3\n1  CILRDEGGGADGLTF     TRAV26-2  TRAJ45   CSAREGLAEFNEQFF  TRBV20-1  TRBJ2-1\n2     CAGGSGYSTLTF     TRAV12-2  TRAJ11      CASSLGHYGYTF  TRBV12-3  TRBJ1-2\n3  CAVRDLIVGANNLFF        TRAV3  TRAJ36    CASSQSFRDDEQYF    TRBV18  TRBJ2-7\n4    CATYGGSQGNLIF       TRAV21  TRAJ42    CASSQAVGYNEQFF   TRBV4-1  TRBJ2-1",
      "text/html": "<div>\n<style scoped>\n    .dataframe tbody tr th:only-of-type {\n        vertical-align: middle;\n    }\n\n    .dataframe tbody tr th {\n        vertical-align: top;\n    }\n\n    .dataframe thead th {\n        text-align: right;\n    }\n</style>\n<table border=\"1\" class=\"dataframe\">\n  <thead>\n    <tr style=\"text-align: right;\">\n      <th></th>\n      <th>CDR3_alfa</th>\n      <th>TRAV</th>\n      <th>TRAJ</th>\n      <th>CDR3_beta</th>\n      <th>TRBV</th>\n      <th>TRBJ</th>\n    </tr>\n  </thead>\n  <tbody>\n    <tr>\n      <th>0</th>\n      <td>CAYGSTYNTDKLIF</td>\n      <td>TRAV38-2DV8</td>\n      <td>TRAJ34</td>\n      <td>CASSQEGSGVTDTQYF</td>\n      <td>TRBV4-3</td>\n      <td>TRBJ2-3</td>\n    </tr>\n    <tr>\n      <th>1</th>\n      <td>CILRDEGGGADGLTF</td>\n      <td>TRAV26-2</td>\n      <td>TRAJ45</td>\n      <td>CSAREGLAEFNEQFF</td>\n      <td>TRBV20-1</td>\n      <td>TRBJ2-1</td>\n    </tr>\n    <tr>\n      <th>2</th>\n      <td>CAGGSGYSTLTF</td>\n      <td>TRAV12-2</td>\n      <td>TRAJ11</td>\n      <td>CASSLGHYGYTF</td>\n      <td>TRBV12-3</td>\n      <td>TRBJ1-2</td>\n    </tr>\n    <tr>\n      <th>3</th>\n      <td>CAVRDLIVGANNLFF</td>\n      <td>TRAV3</td>\n      <td>TRAJ36</td>\n      <td>CASSQSFRDDEQYF</td>\n      <td>TRBV18</td>\n      <td>TRBJ2-7</td>\n    </tr>\n    <tr>\n      <th>4</th>\n      <td>CATYGGSQGNLIF</td>\n      <td>TRAV21</td>\n      <td>TRAJ42</td>\n      <td>CASSQAVGYNEQFF</td>\n      <td>TRBV4-1</td>\n      <td>TRBJ2-1</td>\n    </tr>\n  </tbody>\n</table>\n</div>"
     },
     "execution_count": 29,
     "metadata": {},
     "output_type": "execute_result"
    }
   ],
   "source": [
    "import pandas as pd\n",
    "df_b = pd.read_csv('data/background.tsv', sep='\\t') # this is actually a tsv\n",
    "df_b.head()"
   ]
  },
  {
   "cell_type": "code",
   "execution_count": 30,
   "metadata": {},
   "outputs": [
    {
     "data": {
      "text/plain": "CDR3_alfa    429396\nTRAV             56\nTRAJ             56\nCDR3_beta    474559\nTRBV             61\nTRBJ             13\ndtype: int64"
     },
     "execution_count": 30,
     "metadata": {},
     "output_type": "execute_result"
    }
   ],
   "source": [
    "df_b.nunique()"
   ]
  },
  {
   "cell_type": "markdown",
   "metadata": {},
   "source": []
  },
  {
   "cell_type": "markdown",
   "metadata": {},
   "source": [
    "## Combined Dataset"
   ]
  },
  {
   "cell_type": "code",
   "execution_count": 31,
   "metadata": {},
   "outputs": [],
   "source": [
    "positive_dataset = df_g\n",
    "negative_dataset = df_b"
   ]
  },
  {
   "cell_type": "code",
   "execution_count": 32,
   "metadata": {},
   "outputs": [],
   "source": [
    "# Drop the rows from the negative dataset where CDR3_alpha or CDR3_beta occur in the positive dataset\n",
    "# Note: Check seperately or together? (e.g. alpha in positive, but alpha + beta combination not)\n",
    "negative_dataset = negative_dataset[~negative_dataset['CDR3_alfa'].isin(positive_dataset['CDR3_alfa'])]\n",
    "negative_dataset = negative_dataset[~negative_dataset['CDR3_beta'].isin(positive_dataset['CDR3_beta'])]"
   ]
  },
  {
   "cell_type": "code",
   "execution_count": 33,
   "metadata": {},
   "outputs": [
    {
     "name": "stdout",
     "output_type": "stream",
     "text": [
      "Number of genes containing alpha only: 2 (0.04%)\n",
      "Number of genes containing beta only: 3031 (58.38%)\n",
      "Number of genes containing both: 2159 (41.58%)\n",
      "Number of genes containing neither: 0 (0.00%)\n"
     ]
    }
   ],
   "source": [
    "# get the percentages of df_g containing alpha, beta and both\n",
    "alpha_only_count_g = df_g[(df_g['GeneA'] == 'TRA') & (df_g['GeneB'] != 'TRB')].shape[0]\n",
    "beta_only_count_g = df_g[(df_g['GeneA'] != 'TRA') & (df_g['GeneB'] == 'TRB')].shape[0]\n",
    "both_count_g = df_g[(df_g['GeneA'] == 'TRA') & (df_g['GeneB'] == 'TRB')].shape[0]\n",
    "non_count_g = df_g[(df_g['GeneA'] != 'TRA') & (df_g['GeneB'] != 'TRB')].shape[0]\n",
    "print(f\"Number of genes containing alpha only: {alpha_only_count_g} ({alpha_only_count_g/df_g.shape[0]*100:.2f}%)\")\n",
    "print(f\"Number of genes containing beta only: {beta_only_count_g} ({beta_only_count_g/df_g.shape[0]*100:.2f}%)\")\n",
    "print(f\"Number of genes containing both: {both_count_g} ({both_count_g/df_g.shape[0]*100:.2f}%)\")\n",
    "print(f\"Number of genes containing neither: {non_count_g} ({non_count_g/df_g.shape[0]*100:.2f}%)\")"
   ]
  },
  {
   "cell_type": "code",
   "execution_count": 34,
   "metadata": {},
   "outputs": [],
   "source": [
    "def sample_and_drop(df, n):\n",
    "    \"\"\"Sample n rows from df and drop them from df\"\"\"\n",
    "    # src: https://stackoverflow.com/questions/39835021/pandas-random-sample-with-remove\n",
    "    df_subset = df.sample(n)\n",
    "    df.drop(df_subset.index, inplace=True)\n",
    "    return df_subset"
   ]
  },
  {
   "cell_type": "code",
   "execution_count": 35,
   "metadata": {},
   "outputs": [
    {
     "data": {
      "text/plain": "   a  b\n5  6  6\n1  2  2",
      "text/html": "<div>\n<style scoped>\n    .dataframe tbody tr th:only-of-type {\n        vertical-align: middle;\n    }\n\n    .dataframe tbody tr th {\n        vertical-align: top;\n    }\n\n    .dataframe thead th {\n        text-align: right;\n    }\n</style>\n<table border=\"1\" class=\"dataframe\">\n  <thead>\n    <tr style=\"text-align: right;\">\n      <th></th>\n      <th>a</th>\n      <th>b</th>\n    </tr>\n  </thead>\n  <tbody>\n    <tr>\n      <th>5</th>\n      <td>6</td>\n      <td>6</td>\n    </tr>\n    <tr>\n      <th>1</th>\n      <td>2</td>\n      <td>2</td>\n    </tr>\n  </tbody>\n</table>\n</div>"
     },
     "execution_count": 35,
     "metadata": {},
     "output_type": "execute_result"
    }
   ],
   "source": [
    "# Test the sample and drop function\n",
    "df_ex = pd.DataFrame({'a': [1,2,3,4,5,6,7,8,9,10], 'b': [1,2,3,4,5,6,7,8,9,10]})\n",
    "# get the number of rows in df_ex\n",
    "rows_before = df_ex.shape[0]\n",
    "n = 2\n",
    "df_subset = sample_and_drop(df_ex, n)\n",
    "rows_after = df_ex.shape[0]\n",
    "assert rows_before - rows_after == n\n",
    "df_subset"
   ]
  },
  {
   "cell_type": "code",
   "execution_count": 36,
   "metadata": {},
   "outputs": [],
   "source": [
    "import numpy as np\n",
    "\n",
    "# now sample the same amount of negative examples from the negative dataset\n",
    "alpha_only_rows_b = sample_and_drop(negative_dataset, alpha_only_count_g)\n",
    "# Set CDR3_beta, TRBV and TRBJ to NaN\n",
    "alpha_only_rows_b['CDR3_beta'] = np.nan\n",
    "alpha_only_rows_b['TRBV'] = np.nan\n",
    "alpha_only_rows_b['TRBJ'] = np.nan\n",
    "\n",
    "# Is this the\n",
    "beta_only_rows_b = sample_and_drop(negative_dataset, beta_only_count_g)\n",
    "# Set CDR3_alpha, TRAV and TRAJ to NaN\n",
    "beta_only_rows_b['CDR3_alfa'] = np.nan\n",
    "beta_only_rows_b['TRAV'] = np.nan\n",
    "beta_only_rows_b['TRAJ'] = np.nan\n",
    "\n",
    "both_rows_b = sample_and_drop(negative_dataset, both_count_g)\n",
    "\n",
    "non_rows_b = sample_and_drop(negative_dataset, non_count_g)\n",
    "# Set CDR3_alpha, TRAV,  TRAJ, CDR3_beta, TRBV, TRBJ to NaN\n",
    "non_rows_b['CDR3_alfa'] = np.nan\n",
    "non_rows_b['TRAV'] = np.nan\n",
    "non_rows_b['TRAJ'] = np.nan\n",
    "non_rows_b['CDR3_beta'] = np.nan\n",
    "non_rows_b['TRBV'] = np.nan\n",
    "non_rows_b['TRBJ'] = np.nan"
   ]
  },
  {
   "cell_type": "code",
   "execution_count": 37,
   "metadata": {},
   "outputs": [],
   "source": [
    "# combine samples in new dataframe\n",
    "negative_dataset_same_proportion = pd.concat([alpha_only_rows_b, beta_only_rows_b, both_rows_b, non_rows_b])\n",
    "# Check whether number of rows is same as in positive dataset\n",
    "assert negative_dataset_same_proportion.shape[0] == positive_dataset.shape[0]"
   ]
  },
  {
   "cell_type": "code",
   "execution_count": 38,
   "metadata": {},
   "outputs": [
    {
     "name": "stdout",
     "output_type": "stream",
     "text": [
      "Number of duplicates in positive dataset: 0\n",
      "Number of duplicates in negative dataset: 0\n",
      "Number of duplicates in combined dataset: 0\n"
     ]
    }
   ],
   "source": [
    "# count the number of duplicates in the positive dataset\n",
    "positive_dataset_duplicates = positive_dataset[positive_dataset.duplicated()]\n",
    "print(f\"Number of duplicates in positive dataset: {positive_dataset_duplicates.shape[0]}\")\n",
    "\n",
    "# count the number of duplicates in the negative dataset\n",
    "negative_dataset_duplicates = negative_dataset_same_proportion[negative_dataset_same_proportion.duplicated()]\n",
    "print(f\"Number of duplicates in negative dataset: {negative_dataset_duplicates.shape[0]}\")\n",
    "\n",
    "# Count the number of duplicates in the combined dataset\n",
    "combined_dataset_duplicates = pd.concat([positive_dataset, negative_dataset_same_proportion])\n",
    "combined_dataset_duplicates = combined_dataset_duplicates[combined_dataset_duplicates.duplicated()]\n",
    "print(f\"Number of duplicates in combined dataset: {combined_dataset_duplicates.shape[0]}\")"
   ]
  },
  {
   "cell_type": "code",
   "execution_count": 39,
   "metadata": {},
   "outputs": [],
   "source": [
    "# Add column 'reaction' 0 for negative_dataset_same_proportion, 1 for positive_dataset\n",
    "positive_dataset['reaction'] = 1\n",
    "negative_dataset_same_proportion['reaction'] = 0"
   ]
  },
  {
   "cell_type": "code",
   "execution_count": 40,
   "metadata": {},
   "outputs": [],
   "source": [
    "# Keep only the columns of the positive dataset that are in the negative datasets\n",
    "positive_dataset = positive_dataset[negative_dataset_same_proportion.columns]"
   ]
  },
  {
   "cell_type": "code",
   "execution_count": 41,
   "metadata": {},
   "outputs": [
    {
     "data": {
      "text/plain": "        CDR3_alfa    TRAV    TRAJ        CDR3_beta      TRBV     TRBJ  \\\n0             NaN     NaN     NaN   CASSRGAVPNEQFF   TRBV4-1  TRBJ2-1   \n1  CAVSGWGSARQLTF  TRAV21  TRAJ22  CASSLPGRFDNEQFF    TRBV27  TRBJ2-1   \n2             NaN     NaN     NaN   CASSSRIGTYGYTF   TRBV7-9  TRBJ1-2   \n3             NaN     NaN     NaN     CSAFDRVYGYTF  TRBV20-1  TRBJ1-2   \n4             NaN     NaN     NaN   CASSPRGPSTEAFF    TRBV19  TRBJ1-1   \n\n   reaction  \n0         0  \n1         0  \n2         1  \n3         1  \n4         1  ",
      "text/html": "<div>\n<style scoped>\n    .dataframe tbody tr th:only-of-type {\n        vertical-align: middle;\n    }\n\n    .dataframe tbody tr th {\n        vertical-align: top;\n    }\n\n    .dataframe thead th {\n        text-align: right;\n    }\n</style>\n<table border=\"1\" class=\"dataframe\">\n  <thead>\n    <tr style=\"text-align: right;\">\n      <th></th>\n      <th>CDR3_alfa</th>\n      <th>TRAV</th>\n      <th>TRAJ</th>\n      <th>CDR3_beta</th>\n      <th>TRBV</th>\n      <th>TRBJ</th>\n      <th>reaction</th>\n    </tr>\n  </thead>\n  <tbody>\n    <tr>\n      <th>0</th>\n      <td>NaN</td>\n      <td>NaN</td>\n      <td>NaN</td>\n      <td>CASSRGAVPNEQFF</td>\n      <td>TRBV4-1</td>\n      <td>TRBJ2-1</td>\n      <td>0</td>\n    </tr>\n    <tr>\n      <th>1</th>\n      <td>CAVSGWGSARQLTF</td>\n      <td>TRAV21</td>\n      <td>TRAJ22</td>\n      <td>CASSLPGRFDNEQFF</td>\n      <td>TRBV27</td>\n      <td>TRBJ2-1</td>\n      <td>0</td>\n    </tr>\n    <tr>\n      <th>2</th>\n      <td>NaN</td>\n      <td>NaN</td>\n      <td>NaN</td>\n      <td>CASSSRIGTYGYTF</td>\n      <td>TRBV7-9</td>\n      <td>TRBJ1-2</td>\n      <td>1</td>\n    </tr>\n    <tr>\n      <th>3</th>\n      <td>NaN</td>\n      <td>NaN</td>\n      <td>NaN</td>\n      <td>CSAFDRVYGYTF</td>\n      <td>TRBV20-1</td>\n      <td>TRBJ1-2</td>\n      <td>1</td>\n    </tr>\n    <tr>\n      <th>4</th>\n      <td>NaN</td>\n      <td>NaN</td>\n      <td>NaN</td>\n      <td>CASSPRGPSTEAFF</td>\n      <td>TRBV19</td>\n      <td>TRBJ1-1</td>\n      <td>1</td>\n    </tr>\n  </tbody>\n</table>\n</div>"
     },
     "execution_count": 41,
     "metadata": {},
     "output_type": "execute_result"
    }
   ],
   "source": [
    "# Combine the two datasets\n",
    "combined_dataset = pd.concat([positive_dataset, negative_dataset_same_proportion])\n",
    "# shuffle combined_dataset\n",
    "combined_dataset = combined_dataset.sample(frac=1).reset_index(drop=True)\n",
    "combined_dataset.head()"
   ]
  },
  {
   "cell_type": "code",
   "execution_count": 42,
   "outputs": [],
   "source": [
    "def process_gene(g):\n",
    "    # Code based on code snippet sent by Ceder (on Slack)\n",
    "    \"\"\"\n",
    "    Extracts the gene family, version and allele from a gene in the VDJdb.\n",
    "    Forward slashes are removed (to make e.g. TRAV14/DV4 and TRAV14DV4 equal), make sure only 1 gene is given as input\n",
    "    The allele is set to 01 if it is not specified.\n",
    "\n",
    "    If g is not a string, this functions returns (g, g). This can be used for missing chains when g is None or NaN\n",
    "\n",
    "    :param g: TRAV, TRAJ, TRBV or TRBJ gene\n",
    "    :return: the gene formatted as {family}-{version}*{allele} and the family\n",
    "    \"\"\"\n",
    "    # If the gene is None or NaN, return the same as the family\n",
    "    if not isinstance(g, str):\n",
    "        return g, g\n",
    "\n",
    "    # Remove all forward slashes to make e.g. TRAV14/DV4 and TRAV14DV4 equal.\n",
    "    # g = g.replace('/', '') # TODO: why did I do this? It's causing problems with the tcrdist package, so comment out the line\n",
    "\n",
    "    # Extract the allele (and set to 01 if none given)\n",
    "    # Note: Allele already removed, since it wasn't in the background dataset\n",
    "    # g_allele = g.split('*')\n",
    "    # if len(g_allele) == 1:\n",
    "    #     allele = '01'\n",
    "    # elif len(g_allele) == 2:\n",
    "    #     g = g_allele[0]\n",
    "    #     allele = g_allele[1]\n",
    "    # else:\n",
    "    #     raise RuntimeError(\"splitting full gene on '*' resulted in >2 items\")\n",
    "\n",
    "    # Extract the version (and set to 1 if none given)\n",
    "    group_version = g.split('-')\n",
    "    if len(group_version) == 1:\n",
    "        version = '1'\n",
    "    elif len(group_version) == 2:\n",
    "        g = group_version[0]\n",
    "        version = group_version[1]\n",
    "    else:\n",
    "        raise RuntimeError(\"splitting full gene on '-' resulted in >2 items\")\n",
    "\n",
    "    return g, version\n",
    "\n",
    "# Example:\n",
    "# TRAV38-2/DV8*01\n",
    "# Get's converted to:\n",
    "# TRAV38 2DV8 (and the allele is removed, since it isn't in the negative dataset)\n",
    "\n",
    "# Process the genes\n",
    "# for col in ['TRAJ', 'TRAV', 'TRBV', 'TRBJ']:\n",
    "    # process gene returns the gene and the version, create two new columns for this\n",
    "    # combined_dataset[col + '_family'], combined_dataset[col + '_version'] = zip(*combined_dataset[col].apply(process_gene))\n",
    "    # Remove the original column\n",
    "    # combined_dataset.drop(col, axis=1, inplace=True)"
   ],
   "metadata": {
    "collapsed": false
   }
  },
  {
   "cell_type": "code",
   "execution_count": 43,
   "metadata": {},
   "outputs": [],
   "source": [
    "# Create a train and test split\n",
    "from sklearn.model_selection import train_test_split\n",
    "train, test = train_test_split(combined_dataset, test_size=0.2, random_state=42)\n",
    "# Save the combined dataset\n",
    "test.to_csv('data/generated_combined_dataset_test.csv', index=False)\n",
    "train.to_csv('data/generated_combined_dataset_train.csv', index=False)"
   ]
  },
  {
   "cell_type": "code",
   "execution_count": 44,
   "metadata": {},
   "outputs": [
    {
     "data": {
      "text/plain": "              CDR3_alfa      TRAV    TRAJ           CDR3_beta      TRBV  \\\n2310  CILRGENYGGSQGNLIF  TRAV26-2  TRAJ42     CASSLGRVSYTEAFF   TRBV5-1   \n5620                NaN       NaN     NaN  CASSYSRGVAGDTDTQYF   TRBV6-2   \n9674        CAVSDPGKLTF   TRAV8-6  TRAJ52        CASLRQGQPQHF  TRBV21-1   \n6547    CAGAQGSSNTGKLIF    TRAV27  TRAJ37       CASSIRSAYEQYF    TRBV19   \n8240   CAVDIHGGGGADGLTF    TRAV39  TRAJ45       CASSVGTGGLQYF    TRBV27   \n\n         TRBJ  reaction  \n2310  TRBJ1-1         0  \n5620  TRBJ2-3         0  \n9674  TRBJ1-5         0  \n6547  TRBJ2-7         1  \n8240  TRBJ2-7         0  ",
      "text/html": "<div>\n<style scoped>\n    .dataframe tbody tr th:only-of-type {\n        vertical-align: middle;\n    }\n\n    .dataframe tbody tr th {\n        vertical-align: top;\n    }\n\n    .dataframe thead th {\n        text-align: right;\n    }\n</style>\n<table border=\"1\" class=\"dataframe\">\n  <thead>\n    <tr style=\"text-align: right;\">\n      <th></th>\n      <th>CDR3_alfa</th>\n      <th>TRAV</th>\n      <th>TRAJ</th>\n      <th>CDR3_beta</th>\n      <th>TRBV</th>\n      <th>TRBJ</th>\n      <th>reaction</th>\n    </tr>\n  </thead>\n  <tbody>\n    <tr>\n      <th>2310</th>\n      <td>CILRGENYGGSQGNLIF</td>\n      <td>TRAV26-2</td>\n      <td>TRAJ42</td>\n      <td>CASSLGRVSYTEAFF</td>\n      <td>TRBV5-1</td>\n      <td>TRBJ1-1</td>\n      <td>0</td>\n    </tr>\n    <tr>\n      <th>5620</th>\n      <td>NaN</td>\n      <td>NaN</td>\n      <td>NaN</td>\n      <td>CASSYSRGVAGDTDTQYF</td>\n      <td>TRBV6-2</td>\n      <td>TRBJ2-3</td>\n      <td>0</td>\n    </tr>\n    <tr>\n      <th>9674</th>\n      <td>CAVSDPGKLTF</td>\n      <td>TRAV8-6</td>\n      <td>TRAJ52</td>\n      <td>CASLRQGQPQHF</td>\n      <td>TRBV21-1</td>\n      <td>TRBJ1-5</td>\n      <td>0</td>\n    </tr>\n    <tr>\n      <th>6547</th>\n      <td>CAGAQGSSNTGKLIF</td>\n      <td>TRAV27</td>\n      <td>TRAJ37</td>\n      <td>CASSIRSAYEQYF</td>\n      <td>TRBV19</td>\n      <td>TRBJ2-7</td>\n      <td>1</td>\n    </tr>\n    <tr>\n      <th>8240</th>\n      <td>CAVDIHGGGGADGLTF</td>\n      <td>TRAV39</td>\n      <td>TRAJ45</td>\n      <td>CASSVGTGGLQYF</td>\n      <td>TRBV27</td>\n      <td>TRBJ2-7</td>\n      <td>0</td>\n    </tr>\n  </tbody>\n</table>\n</div>"
     },
     "execution_count": 44,
     "metadata": {},
     "output_type": "execute_result"
    }
   ],
   "source": [
    "train.head()"
   ]
  },
  {
   "cell_type": "markdown",
   "source": [
    "# Summary\n",
    "I was given two datasets. One contained 5192 positive samples (42% containing the alpha part, 99.96% containing beta) of TCR cells that react with the GILGFVFTL epitope (Influenza A virus).\n",
    "The other dataset (20788 samples) could be used as a negative dataset (after filtering out the alphas and betas that occured in the positive dataset and making part of the alphas and betas NaN's, to get the same proportions as the positive dataset). Those two sets where then combined into one large dataframe, which was split into a training and a testing file."
   ],
   "metadata": {
    "collapsed": false
   }
  },
  {
   "cell_type": "code",
   "execution_count": 4,
   "outputs": [
    {
     "name": "stderr",
     "output_type": "stream",
     "text": [
      "C:\\Users\\arnod\\PycharmProjects\\thesis\\util\\epitopes.py:6: DtypeWarning: Columns (20,29,30) have mixed types. Specify dtype option on import or set low_memory=False.\n",
      "  df_vdjdb = pd.read_csv('data/vdjdb-2022-03-30/vdjdb_full.txt', sep='\\t')\n"
     ]
    },
    {
     "name": "stdout",
     "output_type": "stream",
     "text": [
      "Number of negative samples changed from 47033 to 44205 (because of overlap with positive samples)\n",
      "Positive samples: alpha only: 2580, beta only: 3056, both: 2194, none: 0\n",
      "Negative samples: alpha only: 4499, beta only: 17510, both: 22196, none: 0\n"
     ]
    },
    {
     "data": {
      "text/plain": "               CDR3_alfa           TRAV       TRAJ           CDR3_beta  \\\n14134                NaN            NaN        NaN  CASSYPRDAGTSLDIQYF   \n12294   CALILYSGGGADGLTF      TRAV19*01  TRAJ45*01                 NaN   \n13527  CALGVDAGGTSYGKLTF      TRAV19*01  TRAJ52*01                 NaN   \n14251                NaN            NaN        NaN     CASSIYSSSYNEQFF   \n52619    CAASAANFANDKLTF  TRAV29/DV5*01  TRAJ48*01                 NaN   \n\n             TRBV        TRBJ  reaction TRAJ_family TRAJ_version TRAV_family  \\\n14134  TRBV6-2*01  TRBJ2-4*01         1         NaN          NaN         NaN   \n12294         NaN         NaN         1      TRAJ45            1      TRAV19   \n13527         NaN         NaN         1      TRAJ52            1      TRAV19   \n14251   TRBV19*01  TRBJ2-1*01         1         NaN          NaN         NaN   \n52619         NaN         NaN         0      TRAJ48            1  TRAV29/DV5   \n\n      TRAV_version TRBV_family TRBV_version TRBJ_family TRBJ_version  \n14134          NaN       TRBV6            2       TRBJ2            4  \n12294            1         NaN          NaN         NaN          NaN  \n13527            1         NaN          NaN         NaN          NaN  \n14251          NaN      TRBV19            1       TRBJ2            1  \n52619            1         NaN          NaN         NaN          NaN  ",
      "text/html": "<div>\n<style scoped>\n    .dataframe tbody tr th:only-of-type {\n        vertical-align: middle;\n    }\n\n    .dataframe tbody tr th {\n        vertical-align: top;\n    }\n\n    .dataframe thead th {\n        text-align: right;\n    }\n</style>\n<table border=\"1\" class=\"dataframe\">\n  <thead>\n    <tr style=\"text-align: right;\">\n      <th></th>\n      <th>CDR3_alfa</th>\n      <th>TRAV</th>\n      <th>TRAJ</th>\n      <th>CDR3_beta</th>\n      <th>TRBV</th>\n      <th>TRBJ</th>\n      <th>reaction</th>\n      <th>TRAJ_family</th>\n      <th>TRAJ_version</th>\n      <th>TRAV_family</th>\n      <th>TRAV_version</th>\n      <th>TRBV_family</th>\n      <th>TRBV_version</th>\n      <th>TRBJ_family</th>\n      <th>TRBJ_version</th>\n    </tr>\n  </thead>\n  <tbody>\n    <tr>\n      <th>14134</th>\n      <td>NaN</td>\n      <td>NaN</td>\n      <td>NaN</td>\n      <td>CASSYPRDAGTSLDIQYF</td>\n      <td>TRBV6-2*01</td>\n      <td>TRBJ2-4*01</td>\n      <td>1</td>\n      <td>NaN</td>\n      <td>NaN</td>\n      <td>NaN</td>\n      <td>NaN</td>\n      <td>TRBV6</td>\n      <td>2</td>\n      <td>TRBJ2</td>\n      <td>4</td>\n    </tr>\n    <tr>\n      <th>12294</th>\n      <td>CALILYSGGGADGLTF</td>\n      <td>TRAV19*01</td>\n      <td>TRAJ45*01</td>\n      <td>NaN</td>\n      <td>NaN</td>\n      <td>NaN</td>\n      <td>1</td>\n      <td>TRAJ45</td>\n      <td>1</td>\n      <td>TRAV19</td>\n      <td>1</td>\n      <td>NaN</td>\n      <td>NaN</td>\n      <td>NaN</td>\n      <td>NaN</td>\n    </tr>\n    <tr>\n      <th>13527</th>\n      <td>CALGVDAGGTSYGKLTF</td>\n      <td>TRAV19*01</td>\n      <td>TRAJ52*01</td>\n      <td>NaN</td>\n      <td>NaN</td>\n      <td>NaN</td>\n      <td>1</td>\n      <td>TRAJ52</td>\n      <td>1</td>\n      <td>TRAV19</td>\n      <td>1</td>\n      <td>NaN</td>\n      <td>NaN</td>\n      <td>NaN</td>\n      <td>NaN</td>\n    </tr>\n    <tr>\n      <th>14251</th>\n      <td>NaN</td>\n      <td>NaN</td>\n      <td>NaN</td>\n      <td>CASSIYSSSYNEQFF</td>\n      <td>TRBV19*01</td>\n      <td>TRBJ2-1*01</td>\n      <td>1</td>\n      <td>NaN</td>\n      <td>NaN</td>\n      <td>NaN</td>\n      <td>NaN</td>\n      <td>TRBV19</td>\n      <td>1</td>\n      <td>TRBJ2</td>\n      <td>1</td>\n    </tr>\n    <tr>\n      <th>52619</th>\n      <td>CAASAANFANDKLTF</td>\n      <td>TRAV29/DV5*01</td>\n      <td>TRAJ48*01</td>\n      <td>NaN</td>\n      <td>NaN</td>\n      <td>NaN</td>\n      <td>0</td>\n      <td>TRAJ48</td>\n      <td>1</td>\n      <td>TRAV29/DV5</td>\n      <td>1</td>\n      <td>NaN</td>\n      <td>NaN</td>\n      <td>NaN</td>\n      <td>NaN</td>\n    </tr>\n  </tbody>\n</table>\n</div>"
     },
     "execution_count": 4,
     "metadata": {},
     "output_type": "execute_result"
    }
   ],
   "source": [
    "# using vdjdb dataset\n",
    "from util import get_epitope_df\n",
    "df = get_epitope_df('GILGFVFTL', species='HomoSapiens') # only human (because tcrdistance only works with one species)\n",
    "df.head()"
   ],
   "metadata": {
    "collapsed": false
   }
  },
  {
   "cell_type": "code",
   "execution_count": 5,
   "outputs": [
    {
     "data": {
      "text/plain": "(15660, 15)"
     },
     "execution_count": 5,
     "metadata": {},
     "output_type": "execute_result"
    }
   ],
   "source": [
    "df.shape"
   ],
   "metadata": {
    "collapsed": false
   }
  },
  {
   "cell_type": "code",
   "execution_count": 6,
   "outputs": [],
   "source": [
    "from sklearn.model_selection import train_test_split\n",
    "train, test = train_test_split(df, test_size=0.2, random_state=42)\n",
    "# Save the combined dataset\n",
    "test.to_csv('data/generated_combined_dataset_test_vdjdb.csv', index=False)\n",
    "train.to_csv('data/generated_combined_dataset_train_vdjdb.csv', index=False)"
   ],
   "metadata": {
    "collapsed": false
   }
  },
  {
   "cell_type": "code",
   "execution_count": null,
   "outputs": [],
   "source": [],
   "metadata": {
    "collapsed": false
   }
  }
 ],
 "metadata": {
  "kernelspec": {
   "display_name": "Python 3 (ipykernel)",
   "language": "python",
   "name": "python3"
  },
  "language_info": {
   "codemirror_mode": {
    "name": "ipython",
    "version": 3
   },
   "file_extension": ".py",
   "mimetype": "text/x-python",
   "name": "python",
   "nbconvert_exporter": "python",
   "pygments_lexer": "ipython3",
   "version": "3.9.7"
  }
 },
 "nbformat": 4,
 "nbformat_minor": 1
}
