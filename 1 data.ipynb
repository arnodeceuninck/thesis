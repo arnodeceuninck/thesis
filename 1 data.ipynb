{
 "cells": [
  {
   "cell_type": "markdown",
   "metadata": {
    "pycharm": {
     "name": "#%% md\n"
    }
   },
   "source": [
    "# Data\n",
    "Before getting started, let's take a look at the provided data"
   ]
  },
  {
   "cell_type": "markdown",
   "metadata": {
    "pycharm": {
     "name": "#%% md\n"
    }
   },
   "source": [
    "## Provided datasets"
   ]
  },
  {
   "cell_type": "markdown",
   "metadata": {
    "pycharm": {
     "name": "#%% md\n"
    }
   },
   "source": [
    "### GILGFVFTL_data\n",
    "This dataset contains positive examples of TCR Cells (alpha and beta parts (sometimes both, sometimes only one of them)) that react with th GILGFVFTL epitope."
   ]
  },
  {
   "cell_type": "code",
   "execution_count": 1,
   "metadata": {
    "pycharm": {
     "name": "#%%\n"
    }
   },
   "outputs": [
    {
     "data": {
      "text/html": [
       "<div>\n",
       "<style scoped>\n",
       "    .dataframe tbody tr th:only-of-type {\n",
       "        vertical-align: middle;\n",
       "    }\n",
       "\n",
       "    .dataframe tbody tr th {\n",
       "        vertical-align: top;\n",
       "    }\n",
       "\n",
       "    .dataframe thead th {\n",
       "        text-align: right;\n",
       "    }\n",
       "</style>\n",
       "<table border=\"1\" class=\"dataframe\">\n",
       "  <thead>\n",
       "    <tr style=\"text-align: right;\">\n",
       "      <th></th>\n",
       "      <th>Unnamed: 0</th>\n",
       "      <th>GeneA</th>\n",
       "      <th>CDR3_alfa</th>\n",
       "      <th>TRAV</th>\n",
       "      <th>TRAJ</th>\n",
       "      <th>MHC A_alfa</th>\n",
       "      <th>Epitope</th>\n",
       "      <th>Score_alfa</th>\n",
       "      <th>GeneB</th>\n",
       "      <th>CDR3_beta</th>\n",
       "      <th>TRBV</th>\n",
       "      <th>TRBJ</th>\n",
       "      <th>MHC A_beta</th>\n",
       "      <th>Epitope.1</th>\n",
       "      <th>Score_beta</th>\n",
       "    </tr>\n",
       "  </thead>\n",
       "  <tbody>\n",
       "    <tr>\n",
       "      <th>0</th>\n",
       "      <td>0</td>\n",
       "      <td>TRA</td>\n",
       "      <td>CAGAGSQGNLIF</td>\n",
       "      <td>TRAV27*01</td>\n",
       "      <td>TRAJ42*01</td>\n",
       "      <td>HLA-A*02:01:48</td>\n",
       "      <td>GILGFVFTL</td>\n",
       "      <td>3.0</td>\n",
       "      <td>TRB</td>\n",
       "      <td>CASSSRSSYEQYF</td>\n",
       "      <td>TRBV19*01</td>\n",
       "      <td>TRBJ2-7*01</td>\n",
       "      <td>HLA-A*02:01:48</td>\n",
       "      <td>GILGFVFTL</td>\n",
       "      <td>3.0</td>\n",
       "    </tr>\n",
       "    <tr>\n",
       "      <th>1</th>\n",
       "      <td>1</td>\n",
       "      <td>TRA</td>\n",
       "      <td>CAGAGSQGNLIF</td>\n",
       "      <td>TRAV27*01</td>\n",
       "      <td>TRAJ42*01</td>\n",
       "      <td>HLA-A*02:01:48</td>\n",
       "      <td>GILGFVFTL</td>\n",
       "      <td>3.0</td>\n",
       "      <td>TRB</td>\n",
       "      <td>CASSSRSSYEQYF</td>\n",
       "      <td>TRBV19*01</td>\n",
       "      <td>TRBJ2-7*01</td>\n",
       "      <td>HLA-A*02:01:48</td>\n",
       "      <td>GILGFVFTL</td>\n",
       "      <td>3.0</td>\n",
       "    </tr>\n",
       "    <tr>\n",
       "      <th>2</th>\n",
       "      <td>2</td>\n",
       "      <td>TRA</td>\n",
       "      <td>CAGAGSQGNLIF</td>\n",
       "      <td>TRAV27*01</td>\n",
       "      <td>TRAJ42*01</td>\n",
       "      <td>HLA-A*02:01:48</td>\n",
       "      <td>GILGFVFTL</td>\n",
       "      <td>3.0</td>\n",
       "      <td>TRB</td>\n",
       "      <td>CASSSRSSYEQYF</td>\n",
       "      <td>TRBV19*01</td>\n",
       "      <td>TRBJ2-7*01</td>\n",
       "      <td>HLA-A*02:01:48</td>\n",
       "      <td>GILGFVFTL</td>\n",
       "      <td>3.0</td>\n",
       "    </tr>\n",
       "    <tr>\n",
       "      <th>3</th>\n",
       "      <td>3</td>\n",
       "      <td>TRA</td>\n",
       "      <td>CAGAGSQGNLIF</td>\n",
       "      <td>TRAV27*01</td>\n",
       "      <td>TRAJ42*01</td>\n",
       "      <td>HLA-A*02:01:48</td>\n",
       "      <td>GILGFVFTL</td>\n",
       "      <td>3.0</td>\n",
       "      <td>TRB</td>\n",
       "      <td>CASSSRASYEQYF</td>\n",
       "      <td>TRBV19*01</td>\n",
       "      <td>TRBJ2-7*01</td>\n",
       "      <td>HLA-A*02:01:48</td>\n",
       "      <td>GILGFVFTL</td>\n",
       "      <td>3.0</td>\n",
       "    </tr>\n",
       "    <tr>\n",
       "      <th>4</th>\n",
       "      <td>4</td>\n",
       "      <td>TRA</td>\n",
       "      <td>CAGPGGSSNTGKLIF</td>\n",
       "      <td>TRAV35*01</td>\n",
       "      <td>TRAJ37*01</td>\n",
       "      <td>HLA-A*02:01:48</td>\n",
       "      <td>GILGFVFTL</td>\n",
       "      <td>3.0</td>\n",
       "      <td>TRB</td>\n",
       "      <td>CASSLIYPGELFF</td>\n",
       "      <td>TRBV27*01</td>\n",
       "      <td>TRBJ2-2*01</td>\n",
       "      <td>HLA-A*02:01:48</td>\n",
       "      <td>GILGFVFTL</td>\n",
       "      <td>3.0</td>\n",
       "    </tr>\n",
       "  </tbody>\n",
       "</table>\n",
       "</div>"
      ],
      "text/plain": [
       "   Unnamed: 0 GeneA        CDR3_alfa       TRAV       TRAJ      MHC A_alfa  \\\n",
       "0           0   TRA     CAGAGSQGNLIF  TRAV27*01  TRAJ42*01  HLA-A*02:01:48   \n",
       "1           1   TRA     CAGAGSQGNLIF  TRAV27*01  TRAJ42*01  HLA-A*02:01:48   \n",
       "2           2   TRA     CAGAGSQGNLIF  TRAV27*01  TRAJ42*01  HLA-A*02:01:48   \n",
       "3           3   TRA     CAGAGSQGNLIF  TRAV27*01  TRAJ42*01  HLA-A*02:01:48   \n",
       "4           4   TRA  CAGPGGSSNTGKLIF  TRAV35*01  TRAJ37*01  HLA-A*02:01:48   \n",
       "\n",
       "     Epitope  Score_alfa GeneB      CDR3_beta       TRBV        TRBJ  \\\n",
       "0  GILGFVFTL         3.0   TRB  CASSSRSSYEQYF  TRBV19*01  TRBJ2-7*01   \n",
       "1  GILGFVFTL         3.0   TRB  CASSSRSSYEQYF  TRBV19*01  TRBJ2-7*01   \n",
       "2  GILGFVFTL         3.0   TRB  CASSSRSSYEQYF  TRBV19*01  TRBJ2-7*01   \n",
       "3  GILGFVFTL         3.0   TRB  CASSSRASYEQYF  TRBV19*01  TRBJ2-7*01   \n",
       "4  GILGFVFTL         3.0   TRB  CASSLIYPGELFF  TRBV27*01  TRBJ2-2*01   \n",
       "\n",
       "       MHC A_beta  Epitope.1  Score_beta  \n",
       "0  HLA-A*02:01:48  GILGFVFTL         3.0  \n",
       "1  HLA-A*02:01:48  GILGFVFTL         3.0  \n",
       "2  HLA-A*02:01:48  GILGFVFTL         3.0  \n",
       "3  HLA-A*02:01:48  GILGFVFTL         3.0  \n",
       "4  HLA-A*02:01:48  GILGFVFTL         3.0  "
      ]
     },
     "execution_count": 1,
     "metadata": {},
     "output_type": "execute_result"
    }
   ],
   "source": [
    "# Load data/GILGFVFTL_data.tsv in a dataframe\n",
    "import pandas as pd\n",
    "df_g = pd.read_csv('data/GILGFVFTL_data.tsv') #, sep='\\t') # Hmm, for some reason it has a .tsv extension but is actually a .csv file\n",
    "df_g.head()"
   ]
  },
  {
   "cell_type": "code",
   "execution_count": 2,
   "metadata": {
    "pycharm": {
     "name": "#%%\n"
    }
   },
   "outputs": [
    {
     "data": {
      "text/plain": [
       "Unnamed: 0    5192\n",
       "GeneA            1\n",
       "CDR3_alfa     1093\n",
       "TRAV            44\n",
       "TRAJ            50\n",
       "MHC A_alfa       3\n",
       "Epitope          1\n",
       "Score_alfa       3\n",
       "GeneB            1\n",
       "CDR3_beta     3473\n",
       "TRBV            51\n",
       "TRBJ            13\n",
       "MHC A_beta       3\n",
       "Epitope.1        1\n",
       "Score_beta       4\n",
       "dtype: int64"
      ]
     },
     "execution_count": 2,
     "metadata": {},
     "output_type": "execute_result"
    }
   ],
   "source": [
    "# Get per column the number of different values\n",
    "df_g.nunique()"
   ]
  },
  {
   "cell_type": "code",
   "execution_count": 3,
   "metadata": {
    "pycharm": {
     "name": "#%%\n"
    }
   },
   "outputs": [
    {
     "data": {
      "text/plain": [
       "'Number of genes containing alpha: 2161 (41.62%)'"
      ]
     },
     "execution_count": 3,
     "metadata": {},
     "output_type": "execute_result"
    }
   ],
   "source": [
    "# Number of genes containing alpha (column GeneA = TRA)\n",
    "alpha_count_g = df_g[df_g['GeneA'] == 'TRA'].shape[0]\n",
    "f\"Number of genes containing alpha: {alpha_count_g} ({alpha_count_g/df_g.shape[0]*100:.2f}%)\""
   ]
  },
  {
   "cell_type": "code",
   "execution_count": 4,
   "metadata": {
    "pycharm": {
     "name": "#%%\n"
    }
   },
   "outputs": [
    {
     "data": {
      "text/plain": [
       "'Number of genes containing beta: 5190 (99.96%)'"
      ]
     },
     "execution_count": 4,
     "metadata": {},
     "output_type": "execute_result"
    }
   ],
   "source": [
    "beta_count_g = df_g[df_g['GeneB'] == 'TRB'].shape[0]\n",
    "f\"Number of genes containing beta: {beta_count_g} ({beta_count_g/df_g.shape[0]*100:.2f}%)\""
   ]
  },
  {
   "cell_type": "code",
   "execution_count": 5,
   "metadata": {
    "pycharm": {
     "name": "#%%\n"
    }
   },
   "outputs": [
    {
     "data": {
      "text/html": [
       "<div>\n",
       "<style scoped>\n",
       "    .dataframe tbody tr th:only-of-type {\n",
       "        vertical-align: middle;\n",
       "    }\n",
       "\n",
       "    .dataframe tbody tr th {\n",
       "        vertical-align: top;\n",
       "    }\n",
       "\n",
       "    .dataframe thead th {\n",
       "        text-align: right;\n",
       "    }\n",
       "</style>\n",
       "<table border=\"1\" class=\"dataframe\">\n",
       "  <thead>\n",
       "    <tr style=\"text-align: right;\">\n",
       "      <th></th>\n",
       "      <th>Unnamed: 0</th>\n",
       "      <th>GeneA</th>\n",
       "      <th>CDR3_alfa</th>\n",
       "      <th>TRAV</th>\n",
       "      <th>TRAJ</th>\n",
       "      <th>Epitope</th>\n",
       "      <th>GeneB</th>\n",
       "      <th>CDR3_beta</th>\n",
       "      <th>TRBV</th>\n",
       "      <th>TRBJ</th>\n",
       "      <th>Epitope.1</th>\n",
       "    </tr>\n",
       "  </thead>\n",
       "  <tbody>\n",
       "    <tr>\n",
       "      <th>0</th>\n",
       "      <td>0</td>\n",
       "      <td>TRA</td>\n",
       "      <td>CAGAGSQGNLIF</td>\n",
       "      <td>TRAV27*01</td>\n",
       "      <td>TRAJ42*01</td>\n",
       "      <td>GILGFVFTL</td>\n",
       "      <td>TRB</td>\n",
       "      <td>CASSSRSSYEQYF</td>\n",
       "      <td>TRBV19*01</td>\n",
       "      <td>TRBJ2-7*01</td>\n",
       "      <td>GILGFVFTL</td>\n",
       "    </tr>\n",
       "    <tr>\n",
       "      <th>1</th>\n",
       "      <td>1</td>\n",
       "      <td>TRA</td>\n",
       "      <td>CAGAGSQGNLIF</td>\n",
       "      <td>TRAV27*01</td>\n",
       "      <td>TRAJ42*01</td>\n",
       "      <td>GILGFVFTL</td>\n",
       "      <td>TRB</td>\n",
       "      <td>CASSSRSSYEQYF</td>\n",
       "      <td>TRBV19*01</td>\n",
       "      <td>TRBJ2-7*01</td>\n",
       "      <td>GILGFVFTL</td>\n",
       "    </tr>\n",
       "    <tr>\n",
       "      <th>2</th>\n",
       "      <td>2</td>\n",
       "      <td>TRA</td>\n",
       "      <td>CAGAGSQGNLIF</td>\n",
       "      <td>TRAV27*01</td>\n",
       "      <td>TRAJ42*01</td>\n",
       "      <td>GILGFVFTL</td>\n",
       "      <td>TRB</td>\n",
       "      <td>CASSSRSSYEQYF</td>\n",
       "      <td>TRBV19*01</td>\n",
       "      <td>TRBJ2-7*01</td>\n",
       "      <td>GILGFVFTL</td>\n",
       "    </tr>\n",
       "    <tr>\n",
       "      <th>3</th>\n",
       "      <td>3</td>\n",
       "      <td>TRA</td>\n",
       "      <td>CAGAGSQGNLIF</td>\n",
       "      <td>TRAV27*01</td>\n",
       "      <td>TRAJ42*01</td>\n",
       "      <td>GILGFVFTL</td>\n",
       "      <td>TRB</td>\n",
       "      <td>CASSSRASYEQYF</td>\n",
       "      <td>TRBV19*01</td>\n",
       "      <td>TRBJ2-7*01</td>\n",
       "      <td>GILGFVFTL</td>\n",
       "    </tr>\n",
       "    <tr>\n",
       "      <th>4</th>\n",
       "      <td>4</td>\n",
       "      <td>TRA</td>\n",
       "      <td>CAGPGGSSNTGKLIF</td>\n",
       "      <td>TRAV35*01</td>\n",
       "      <td>TRAJ37*01</td>\n",
       "      <td>GILGFVFTL</td>\n",
       "      <td>TRB</td>\n",
       "      <td>CASSLIYPGELFF</td>\n",
       "      <td>TRBV27*01</td>\n",
       "      <td>TRBJ2-2*01</td>\n",
       "      <td>GILGFVFTL</td>\n",
       "    </tr>\n",
       "  </tbody>\n",
       "</table>\n",
       "</div>"
      ],
      "text/plain": [
       "   Unnamed: 0 GeneA        CDR3_alfa       TRAV       TRAJ    Epitope GeneB  \\\n",
       "0           0   TRA     CAGAGSQGNLIF  TRAV27*01  TRAJ42*01  GILGFVFTL   TRB   \n",
       "1           1   TRA     CAGAGSQGNLIF  TRAV27*01  TRAJ42*01  GILGFVFTL   TRB   \n",
       "2           2   TRA     CAGAGSQGNLIF  TRAV27*01  TRAJ42*01  GILGFVFTL   TRB   \n",
       "3           3   TRA     CAGAGSQGNLIF  TRAV27*01  TRAJ42*01  GILGFVFTL   TRB   \n",
       "4           4   TRA  CAGPGGSSNTGKLIF  TRAV35*01  TRAJ37*01  GILGFVFTL   TRB   \n",
       "\n",
       "       CDR3_beta       TRBV        TRBJ  Epitope.1  \n",
       "0  CASSSRSSYEQYF  TRBV19*01  TRBJ2-7*01  GILGFVFTL  \n",
       "1  CASSSRSSYEQYF  TRBV19*01  TRBJ2-7*01  GILGFVFTL  \n",
       "2  CASSSRSSYEQYF  TRBV19*01  TRBJ2-7*01  GILGFVFTL  \n",
       "3  CASSSRASYEQYF  TRBV19*01  TRBJ2-7*01  GILGFVFTL  \n",
       "4  CASSLIYPGELFF  TRBV27*01  TRBJ2-2*01  GILGFVFTL  "
      ]
     },
     "execution_count": 5,
     "metadata": {},
     "output_type": "execute_result"
    }
   ],
   "source": [
    "# Values to ignore (for now?) are MHC A_alfa (always the same), Score_alfa (confidence score of alfa), Score_beta (confidence score of beta) -> Drop those columns\n",
    "df_g = df_g.drop(columns=['MHC A_alfa', 'Score_alfa', 'MHC A_beta', 'Score_beta'])\n",
    "df_g.head()"
   ]
  },
  {
   "cell_type": "markdown",
   "metadata": {
    "pycharm": {
     "name": "#%% md\n"
    }
   },
   "source": [
    "### background\n",
    "This dataset contains some alpha and beta parts from TCR cells, without any epitope. You can use them as negative dataset (by filtering out the alphas and betas that occur in the positive dataset)."
   ]
  },
  {
   "cell_type": "code",
   "execution_count": 6,
   "metadata": {
    "pycharm": {
     "name": "#%%\n"
    }
   },
   "outputs": [
    {
     "data": {
      "text/html": [
       "<div>\n",
       "<style scoped>\n",
       "    .dataframe tbody tr th:only-of-type {\n",
       "        vertical-align: middle;\n",
       "    }\n",
       "\n",
       "    .dataframe tbody tr th {\n",
       "        vertical-align: top;\n",
       "    }\n",
       "\n",
       "    .dataframe thead th {\n",
       "        text-align: right;\n",
       "    }\n",
       "</style>\n",
       "<table border=\"1\" class=\"dataframe\">\n",
       "  <thead>\n",
       "    <tr style=\"text-align: right;\">\n",
       "      <th></th>\n",
       "      <th>CDR3_alfa</th>\n",
       "      <th>TRAV</th>\n",
       "      <th>TRAJ</th>\n",
       "      <th>CDR3_beta</th>\n",
       "      <th>TRBV</th>\n",
       "      <th>TRBJ</th>\n",
       "    </tr>\n",
       "  </thead>\n",
       "  <tbody>\n",
       "    <tr>\n",
       "      <th>0</th>\n",
       "      <td>CAYGSTYNTDKLIF</td>\n",
       "      <td>TRAV38-2DV8</td>\n",
       "      <td>TRAJ34</td>\n",
       "      <td>CASSQEGSGVTDTQYF</td>\n",
       "      <td>TRBV4-3</td>\n",
       "      <td>TRBJ2-3</td>\n",
       "    </tr>\n",
       "    <tr>\n",
       "      <th>1</th>\n",
       "      <td>CILRDEGGGADGLTF</td>\n",
       "      <td>TRAV26-2</td>\n",
       "      <td>TRAJ45</td>\n",
       "      <td>CSAREGLAEFNEQFF</td>\n",
       "      <td>TRBV20-1</td>\n",
       "      <td>TRBJ2-1</td>\n",
       "    </tr>\n",
       "    <tr>\n",
       "      <th>2</th>\n",
       "      <td>CAGGSGYSTLTF</td>\n",
       "      <td>TRAV12-2</td>\n",
       "      <td>TRAJ11</td>\n",
       "      <td>CASSLGHYGYTF</td>\n",
       "      <td>TRBV12-3</td>\n",
       "      <td>TRBJ1-2</td>\n",
       "    </tr>\n",
       "    <tr>\n",
       "      <th>3</th>\n",
       "      <td>CAVRDLIVGANNLFF</td>\n",
       "      <td>TRAV3</td>\n",
       "      <td>TRAJ36</td>\n",
       "      <td>CASSQSFRDDEQYF</td>\n",
       "      <td>TRBV18</td>\n",
       "      <td>TRBJ2-7</td>\n",
       "    </tr>\n",
       "    <tr>\n",
       "      <th>4</th>\n",
       "      <td>CATYGGSQGNLIF</td>\n",
       "      <td>TRAV21</td>\n",
       "      <td>TRAJ42</td>\n",
       "      <td>CASSQAVGYNEQFF</td>\n",
       "      <td>TRBV4-1</td>\n",
       "      <td>TRBJ2-1</td>\n",
       "    </tr>\n",
       "  </tbody>\n",
       "</table>\n",
       "</div>"
      ],
      "text/plain": [
       "         CDR3_alfa         TRAV    TRAJ         CDR3_beta      TRBV     TRBJ\n",
       "0   CAYGSTYNTDKLIF  TRAV38-2DV8  TRAJ34  CASSQEGSGVTDTQYF   TRBV4-3  TRBJ2-3\n",
       "1  CILRDEGGGADGLTF     TRAV26-2  TRAJ45   CSAREGLAEFNEQFF  TRBV20-1  TRBJ2-1\n",
       "2     CAGGSGYSTLTF     TRAV12-2  TRAJ11      CASSLGHYGYTF  TRBV12-3  TRBJ1-2\n",
       "3  CAVRDLIVGANNLFF        TRAV3  TRAJ36    CASSQSFRDDEQYF    TRBV18  TRBJ2-7\n",
       "4    CATYGGSQGNLIF       TRAV21  TRAJ42    CASSQAVGYNEQFF   TRBV4-1  TRBJ2-1"
      ]
     },
     "execution_count": 6,
     "metadata": {},
     "output_type": "execute_result"
    }
   ],
   "source": [
    "import pandas as pd\n",
    "df_b = pd.read_csv('data/background.tsv', sep='\\t') # this is actually a tsv\n",
    "df_b.head()"
   ]
  },
  {
   "cell_type": "code",
   "execution_count": 7,
   "metadata": {
    "pycharm": {
     "name": "#%%\n"
    }
   },
   "outputs": [
    {
     "data": {
      "text/plain": [
       "CDR3_alfa    429396\n",
       "TRAV             56\n",
       "TRAJ             56\n",
       "CDR3_beta    474559\n",
       "TRBV             61\n",
       "TRBJ             13\n",
       "dtype: int64"
      ]
     },
     "execution_count": 7,
     "metadata": {},
     "output_type": "execute_result"
    }
   ],
   "source": [
    "df_b.nunique()"
   ]
  },
  {
   "cell_type": "markdown",
   "metadata": {
    "pycharm": {
     "name": "#%% md\n"
    }
   },
   "source": []
  },
  {
   "cell_type": "markdown",
   "metadata": {
    "pycharm": {
     "name": "#%% md\n"
    }
   },
   "source": [
    "## Combined Dataset"
   ]
  },
  {
   "cell_type": "code",
   "execution_count": 8,
   "metadata": {
    "pycharm": {
     "name": "#%%\n"
    }
   },
   "outputs": [],
   "source": [
    "positive_dataset = df_g\n",
    "negative_dataset = df_b"
   ]
  },
  {
   "cell_type": "code",
   "execution_count": 9,
   "metadata": {
    "pycharm": {
     "name": "#%%\n"
    }
   },
   "outputs": [],
   "source": [
    "# Drop the rows from the negative dataset where CDR3_alpha or CDR3_beta occur in the positive dataset\n",
    "# Note: Check seperately or together? (e.g. alpha in positive, but alpha + beta combination not)\n",
    "negative_dataset = negative_dataset[~negative_dataset['CDR3_alfa'].isin(positive_dataset['CDR3_alfa'])]\n",
    "negative_dataset = negative_dataset[~negative_dataset['CDR3_beta'].isin(positive_dataset['CDR3_beta'])]"
   ]
  },
  {
   "cell_type": "code",
   "execution_count": 10,
   "metadata": {
    "pycharm": {
     "name": "#%%\n"
    }
   },
   "outputs": [
    {
     "name": "stdout",
     "output_type": "stream",
     "text": [
      "Number of genes containing alpha only: 2 (0.04%)\n",
      "Number of genes containing beta only: 3031 (58.38%)\n",
      "Number of genes containing both: 2159 (41.58%)\n",
      "Number of genes containing neither: 0 (0.00%)\n"
     ]
    }
   ],
   "source": [
    "# get the percentages of df_g containing alpha, beta and both\n",
    "alpha_only_count_g = df_g[(df_g['GeneA'] == 'TRA') & (df_g['GeneB'] != 'TRB')].shape[0]\n",
    "beta_only_count_g = df_g[(df_g['GeneA'] != 'TRA') & (df_g['GeneB'] == 'TRB')].shape[0]\n",
    "both_count_g = df_g[(df_g['GeneA'] == 'TRA') & (df_g['GeneB'] == 'TRB')].shape[0]\n",
    "non_count_g = df_g[(df_g['GeneA'] != 'TRA') & (df_g['GeneB'] != 'TRB')].shape[0]\n",
    "print(f\"Number of genes containing alpha only: {alpha_only_count_g} ({alpha_only_count_g/df_g.shape[0]*100:.2f}%)\")\n",
    "print(f\"Number of genes containing beta only: {beta_only_count_g} ({beta_only_count_g/df_g.shape[0]*100:.2f}%)\")\n",
    "print(f\"Number of genes containing both: {both_count_g} ({both_count_g/df_g.shape[0]*100:.2f}%)\")\n",
    "print(f\"Number of genes containing neither: {non_count_g} ({non_count_g/df_g.shape[0]*100:.2f}%)\")"
   ]
  },
  {
   "cell_type": "code",
   "execution_count": 11,
   "metadata": {
    "pycharm": {
     "name": "#%%\n"
    }
   },
   "outputs": [],
   "source": [
    "def sample_and_drop(df, n):\n",
    "    \"\"\"Sample n rows from df and drop them from df\"\"\"\n",
    "    # src: https://stackoverflow.com/questions/39835021/pandas-random-sample-with-remove\n",
    "    df_subset = df.sample(n)\n",
    "    df.drop(df_subset.index, inplace=True)\n",
    "    return df_subset"
   ]
  },
  {
   "cell_type": "code",
   "execution_count": 12,
   "metadata": {
    "pycharm": {
     "name": "#%%\n"
    }
   },
   "outputs": [
    {
     "data": {
      "text/html": [
       "<div>\n",
       "<style scoped>\n",
       "    .dataframe tbody tr th:only-of-type {\n",
       "        vertical-align: middle;\n",
       "    }\n",
       "\n",
       "    .dataframe tbody tr th {\n",
       "        vertical-align: top;\n",
       "    }\n",
       "\n",
       "    .dataframe thead th {\n",
       "        text-align: right;\n",
       "    }\n",
       "</style>\n",
       "<table border=\"1\" class=\"dataframe\">\n",
       "  <thead>\n",
       "    <tr style=\"text-align: right;\">\n",
       "      <th></th>\n",
       "      <th>a</th>\n",
       "      <th>b</th>\n",
       "    </tr>\n",
       "  </thead>\n",
       "  <tbody>\n",
       "    <tr>\n",
       "      <th>4</th>\n",
       "      <td>5</td>\n",
       "      <td>5</td>\n",
       "    </tr>\n",
       "    <tr>\n",
       "      <th>0</th>\n",
       "      <td>1</td>\n",
       "      <td>1</td>\n",
       "    </tr>\n",
       "  </tbody>\n",
       "</table>\n",
       "</div>"
      ],
      "text/plain": [
       "   a  b\n",
       "4  5  5\n",
       "0  1  1"
      ]
     },
     "execution_count": 12,
     "metadata": {},
     "output_type": "execute_result"
    }
   ],
   "source": [
    "# Test the sample and drop function\n",
    "df_ex = pd.DataFrame({'a': [1,2,3,4,5,6,7,8,9,10], 'b': [1,2,3,4,5,6,7,8,9,10]})\n",
    "# get the number of rows in df_ex\n",
    "rows_before = df_ex.shape[0]\n",
    "n = 2\n",
    "df_subset = sample_and_drop(df_ex, n)\n",
    "rows_after = df_ex.shape[0]\n",
    "assert rows_before - rows_after == n\n",
    "df_subset"
   ]
  },
  {
   "cell_type": "code",
   "execution_count": 13,
   "metadata": {
    "pycharm": {
     "name": "#%%\n"
    }
   },
   "outputs": [],
   "source": [
    "import numpy as np\n",
    "\n",
    "# now sample the same amount of negative examples from the negative dataset\n",
    "alpha_only_rows_b = sample_and_drop(negative_dataset, alpha_only_count_g)\n",
    "# Set CDR3_beta, TRBV and TRBJ to NaN\n",
    "alpha_only_rows_b['CDR3_beta'] = np.nan\n",
    "alpha_only_rows_b['TRBV'] = np.nan\n",
    "alpha_only_rows_b['TRBJ'] = np.nan\n",
    "\n",
    "# Is this the\n",
    "beta_only_rows_b = sample_and_drop(negative_dataset, beta_only_count_g)\n",
    "# Set CDR3_alpha, TRAV and TRAJ to NaN\n",
    "beta_only_rows_b['CDR3_alfa'] = np.nan\n",
    "beta_only_rows_b['TRAV'] = np.nan\n",
    "beta_only_rows_b['TRAJ'] = np.nan\n",
    "\n",
    "both_rows_b = sample_and_drop(negative_dataset, both_count_g)\n",
    "\n",
    "non_rows_b = sample_and_drop(negative_dataset, non_count_g)\n",
    "# Set CDR3_alpha, TRAV,  TRAJ, CDR3_beta, TRBV, TRBJ to NaN\n",
    "non_rows_b['CDR3_alfa'] = np.nan\n",
    "non_rows_b['TRAV'] = np.nan\n",
    "non_rows_b['TRAJ'] = np.nan\n",
    "non_rows_b['CDR3_beta'] = np.nan\n",
    "non_rows_b['TRBV'] = np.nan\n",
    "non_rows_b['TRBJ'] = np.nan"
   ]
  },
  {
   "cell_type": "code",
   "execution_count": 14,
   "metadata": {
    "pycharm": {
     "name": "#%%\n"
    }
   },
   "outputs": [],
   "source": [
    "# combine samples in new dataframe\n",
    "negative_dataset_same_proportion = pd.concat([alpha_only_rows_b, beta_only_rows_b, both_rows_b, non_rows_b])\n",
    "# Check whether number of rows is same as in positive dataset\n",
    "assert negative_dataset_same_proportion.shape[0] == positive_dataset.shape[0]"
   ]
  },
  {
   "cell_type": "code",
   "execution_count": 15,
   "metadata": {
    "pycharm": {
     "name": "#%%\n"
    }
   },
   "outputs": [
    {
     "name": "stdout",
     "output_type": "stream",
     "text": [
      "Number of duplicates in positive dataset: 0\n",
      "Number of duplicates in negative dataset: 0\n",
      "Number of duplicates in combined dataset: 0\n"
     ]
    }
   ],
   "source": [
    "# count the number of duplicates in the positive dataset\n",
    "positive_dataset_duplicates = positive_dataset[positive_dataset.duplicated()]\n",
    "print(f\"Number of duplicates in positive dataset: {positive_dataset_duplicates.shape[0]}\")\n",
    "\n",
    "# count the number of duplicates in the negative dataset\n",
    "negative_dataset_duplicates = negative_dataset_same_proportion[negative_dataset_same_proportion.duplicated()]\n",
    "print(f\"Number of duplicates in negative dataset: {negative_dataset_duplicates.shape[0]}\")\n",
    "\n",
    "# Count the number of duplicates in the combined dataset\n",
    "combined_dataset_duplicates = pd.concat([positive_dataset, negative_dataset_same_proportion])\n",
    "combined_dataset_duplicates = combined_dataset_duplicates[combined_dataset_duplicates.duplicated()]\n",
    "print(f\"Number of duplicates in combined dataset: {combined_dataset_duplicates.shape[0]}\")"
   ]
  },
  {
   "cell_type": "code",
   "execution_count": 15,
   "metadata": {
    "pycharm": {
     "name": "#%%\n"
    }
   },
   "outputs": [],
   "source": [
    "# Add column 'reaction' 0 for negative_dataset_same_proportion, 1 for positive_dataset\n",
    "positive_dataset['reaction'] = 1\n",
    "negative_dataset_same_proportion['reaction'] = 0"
   ]
  },
  {
   "cell_type": "code",
   "execution_count": 16,
   "metadata": {
    "pycharm": {
     "name": "#%%\n"
    }
   },
   "outputs": [],
   "source": [
    "# Keep only the columns of the positive dataset that are in the negative datasets\n",
    "positive_dataset = positive_dataset[negative_dataset_same_proportion.columns]"
   ]
  },
  {
   "cell_type": "code",
   "execution_count": 17,
   "metadata": {
    "pycharm": {
     "name": "#%%\n"
    }
   },
   "outputs": [
    {
     "data": {
      "text/html": [
       "<div>\n",
       "<style scoped>\n",
       "    .dataframe tbody tr th:only-of-type {\n",
       "        vertical-align: middle;\n",
       "    }\n",
       "\n",
       "    .dataframe tbody tr th {\n",
       "        vertical-align: top;\n",
       "    }\n",
       "\n",
       "    .dataframe thead th {\n",
       "        text-align: right;\n",
       "    }\n",
       "</style>\n",
       "<table border=\"1\" class=\"dataframe\">\n",
       "  <thead>\n",
       "    <tr style=\"text-align: right;\">\n",
       "      <th></th>\n",
       "      <th>CDR3_alfa</th>\n",
       "      <th>TRAV</th>\n",
       "      <th>TRAJ</th>\n",
       "      <th>CDR3_beta</th>\n",
       "      <th>TRBV</th>\n",
       "      <th>TRBJ</th>\n",
       "      <th>reaction</th>\n",
       "    </tr>\n",
       "  </thead>\n",
       "  <tbody>\n",
       "    <tr>\n",
       "      <th>0</th>\n",
       "      <td>NaN</td>\n",
       "      <td>NaN</td>\n",
       "      <td>NaN</td>\n",
       "      <td>CASSQLETYEQYF</td>\n",
       "      <td>TRBV28</td>\n",
       "      <td>TRBJ2-7</td>\n",
       "      <td>0</td>\n",
       "    </tr>\n",
       "    <tr>\n",
       "      <th>1</th>\n",
       "      <td>NaN</td>\n",
       "      <td>NaN</td>\n",
       "      <td>NaN</td>\n",
       "      <td>CSVPLRWEQYF</td>\n",
       "      <td>TRBV29-1</td>\n",
       "      <td>TRBJ2-7</td>\n",
       "      <td>0</td>\n",
       "    </tr>\n",
       "    <tr>\n",
       "      <th>2</th>\n",
       "      <td>NaN</td>\n",
       "      <td>NaN</td>\n",
       "      <td>NaN</td>\n",
       "      <td>CASSPTGVYNSPLHF</td>\n",
       "      <td>TRBV6-5*01</td>\n",
       "      <td>TRBJ1-6*01</td>\n",
       "      <td>1</td>\n",
       "    </tr>\n",
       "    <tr>\n",
       "      <th>3</th>\n",
       "      <td>CAGGGSQGNLIF</td>\n",
       "      <td>TRAV27*01</td>\n",
       "      <td>TRAJ42*01</td>\n",
       "      <td>CASSIRSAYEQYF</td>\n",
       "      <td>TRBV19*01</td>\n",
       "      <td>TRBJ2-7*01</td>\n",
       "      <td>1</td>\n",
       "    </tr>\n",
       "    <tr>\n",
       "      <th>4</th>\n",
       "      <td>NaN</td>\n",
       "      <td>NaN</td>\n",
       "      <td>NaN</td>\n",
       "      <td>CASSIRSGPEAFF</td>\n",
       "      <td>TRBV19*01</td>\n",
       "      <td>TRBJ1-1*01</td>\n",
       "      <td>1</td>\n",
       "    </tr>\n",
       "  </tbody>\n",
       "</table>\n",
       "</div>"
      ],
      "text/plain": [
       "      CDR3_alfa       TRAV       TRAJ        CDR3_beta        TRBV  \\\n",
       "0           NaN        NaN        NaN    CASSQLETYEQYF      TRBV28   \n",
       "1           NaN        NaN        NaN      CSVPLRWEQYF    TRBV29-1   \n",
       "2           NaN        NaN        NaN  CASSPTGVYNSPLHF  TRBV6-5*01   \n",
       "3  CAGGGSQGNLIF  TRAV27*01  TRAJ42*01    CASSIRSAYEQYF   TRBV19*01   \n",
       "4           NaN        NaN        NaN    CASSIRSGPEAFF   TRBV19*01   \n",
       "\n",
       "         TRBJ  reaction  \n",
       "0     TRBJ2-7         0  \n",
       "1     TRBJ2-7         0  \n",
       "2  TRBJ1-6*01         1  \n",
       "3  TRBJ2-7*01         1  \n",
       "4  TRBJ1-1*01         1  "
      ]
     },
     "execution_count": 17,
     "metadata": {},
     "output_type": "execute_result"
    }
   ],
   "source": [
    "# Combine the two datasets\n",
    "combined_dataset = pd.concat([positive_dataset, negative_dataset_same_proportion])\n",
    "# shuffle combined_dataset\n",
    "combined_dataset = combined_dataset.sample(frac=1).reset_index(drop=True)\n",
    "combined_dataset.head()"
   ]
  },
  {
   "cell_type": "code",
   "execution_count": 18,
   "metadata": {
    "pycharm": {
     "name": "#%%\n"
    }
   },
   "outputs": [],
   "source": [
    "# Create a train and test split\n",
    "from sklearn.model_selection import train_test_split\n",
    "train, test = train_test_split(combined_dataset, test_size=0.2, random_state=42)\n",
    "# Save the combined dataset\n",
    "test.to_csv('data/generated_combined_dataset_test.csv', index=False)\n",
    "train.to_csv('data/generated_combined_dataset_train.csv', index=False)"
   ]
  },
  {
   "cell_type": "code",
   "execution_count": 19,
   "metadata": {
    "pycharm": {
     "name": "#%%\n"
    }
   },
   "outputs": [
    {
     "data": {
      "text/html": [
       "<div>\n",
       "<style scoped>\n",
       "    .dataframe tbody tr th:only-of-type {\n",
       "        vertical-align: middle;\n",
       "    }\n",
       "\n",
       "    .dataframe tbody tr th {\n",
       "        vertical-align: top;\n",
       "    }\n",
       "\n",
       "    .dataframe thead th {\n",
       "        text-align: right;\n",
       "    }\n",
       "</style>\n",
       "<table border=\"1\" class=\"dataframe\">\n",
       "  <thead>\n",
       "    <tr style=\"text-align: right;\">\n",
       "      <th></th>\n",
       "      <th>CDR3_alfa</th>\n",
       "      <th>TRAV</th>\n",
       "      <th>TRAJ</th>\n",
       "      <th>CDR3_beta</th>\n",
       "      <th>TRBV</th>\n",
       "      <th>TRBJ</th>\n",
       "      <th>reaction</th>\n",
       "    </tr>\n",
       "  </thead>\n",
       "  <tbody>\n",
       "    <tr>\n",
       "      <th>2310</th>\n",
       "      <td>NaN</td>\n",
       "      <td>NaN</td>\n",
       "      <td>NaN</td>\n",
       "      <td>CASGNIAGGVNTGELFF</td>\n",
       "      <td>TRBV6-2</td>\n",
       "      <td>TRBJ2-2</td>\n",
       "      <td>0</td>\n",
       "    </tr>\n",
       "    <tr>\n",
       "      <th>5620</th>\n",
       "      <td>NaN</td>\n",
       "      <td>NaN</td>\n",
       "      <td>NaN</td>\n",
       "      <td>CASSIGGWNEQYF</td>\n",
       "      <td>TRBV19*01</td>\n",
       "      <td>TRBJ2-7*01</td>\n",
       "      <td>1</td>\n",
       "    </tr>\n",
       "    <tr>\n",
       "      <th>9674</th>\n",
       "      <td>NaN</td>\n",
       "      <td>NaN</td>\n",
       "      <td>NaN</td>\n",
       "      <td>CASSFPTIPYEQYF</td>\n",
       "      <td>TRBV13</td>\n",
       "      <td>TRBJ2-7</td>\n",
       "      <td>0</td>\n",
       "    </tr>\n",
       "    <tr>\n",
       "      <th>6547</th>\n",
       "      <td>CAGPSEPGDSNYQLIW</td>\n",
       "      <td>TRAV35*01</td>\n",
       "      <td>TRAJ33*01</td>\n",
       "      <td>CASSGLSNQPQHF</td>\n",
       "      <td>TRBV19*01</td>\n",
       "      <td>TRBJ1-5*01</td>\n",
       "      <td>1</td>\n",
       "    </tr>\n",
       "    <tr>\n",
       "      <th>8240</th>\n",
       "      <td>NaN</td>\n",
       "      <td>NaN</td>\n",
       "      <td>NaN</td>\n",
       "      <td>CASSQERQTILEAFF</td>\n",
       "      <td>TRBV4-1*01</td>\n",
       "      <td>TRBJ1-1*01</td>\n",
       "      <td>1</td>\n",
       "    </tr>\n",
       "  </tbody>\n",
       "</table>\n",
       "</div>"
      ],
      "text/plain": [
       "             CDR3_alfa       TRAV       TRAJ          CDR3_beta        TRBV  \\\n",
       "2310               NaN        NaN        NaN  CASGNIAGGVNTGELFF     TRBV6-2   \n",
       "5620               NaN        NaN        NaN      CASSIGGWNEQYF   TRBV19*01   \n",
       "9674               NaN        NaN        NaN     CASSFPTIPYEQYF      TRBV13   \n",
       "6547  CAGPSEPGDSNYQLIW  TRAV35*01  TRAJ33*01      CASSGLSNQPQHF   TRBV19*01   \n",
       "8240               NaN        NaN        NaN    CASSQERQTILEAFF  TRBV4-1*01   \n",
       "\n",
       "            TRBJ  reaction  \n",
       "2310     TRBJ2-2         0  \n",
       "5620  TRBJ2-7*01         1  \n",
       "9674     TRBJ2-7         0  \n",
       "6547  TRBJ1-5*01         1  \n",
       "8240  TRBJ1-1*01         1  "
      ]
     },
     "execution_count": 19,
     "metadata": {},
     "output_type": "execute_result"
    }
   ],
   "source": [
    "train.head()"
   ]
  },
  {
   "cell_type": "markdown",
   "source": [
    "# Summary\n",
    "I was given two datasets. One contained 5192 positive samples (42% containing the alpha part, 99.96% containing beta) of TCR cells that react with the GILGFVFTL epitope (Influenza A virus).\n",
    "The other dataset (20788 samples) could be used as a negative dataset (after filtering out the alphas and betas that occured in the positive dataset and making part of the alphas and betas NaN's, to get the same proportions as the positive dataset). Those two sets where then combined into one large dataframe, which was split into a training and a testing file."
   ],
   "metadata": {
    "collapsed": false,
    "pycharm": {
     "name": "#%% md\n"
    }
   }
  }
 ],
 "metadata": {
  "kernelspec": {
   "display_name": "Python 3 (ipykernel)",
   "language": "python",
   "name": "python3"
  },
  "language_info": {
   "codemirror_mode": {
    "name": "ipython",
    "version": 3
   },
   "file_extension": ".py",
   "mimetype": "text/x-python",
   "name": "python",
   "nbconvert_exporter": "python",
   "pygments_lexer": "ipython3",
   "version": "3.9.7"
  }
 },
 "nbformat": 4,
 "nbformat_minor": 1
}