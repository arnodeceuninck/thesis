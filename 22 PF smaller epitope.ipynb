{
 "cells": [
  {
   "cell_type": "markdown",
   "metadata": {},
   "source": [
    "# Proximity Forest: Smaller epitope\n",
    "\n",
    "Up to now, I've used a proximity forst on the Influenza A epitope. However,there are quite a lot of samples from that epitope, which causes the proximity forest (PF) implementation to  take quite a lot of time. This prevents us from experimenting whith parameters for improving the algorithm (mainly the samples to split), so let's try an epitope with less samples.\n",
    "\n",
    "In the notebook \"Different epitopes\", we took a look at the other epitopes in the vdjdb dataset and filtered the usable ones out of it. Let's start with ignoring the NaN problem and select a complete epitope."
   ]
  },
  {
   "cell_type": "code",
   "execution_count": 16,
   "outputs": [],
   "source": [
    "import numpy as np\n",
    "import pandas as pd\n",
    "from tcrdist.repertoire import TCRrep\n",
    "from util import get_train_dataset, ProximityTreeClassifier, calculate_tcr_dist_multiple_chains\n",
    "from sklearn.model_selection import train_test_split\n",
    "from util import ProximityForestClassifier, calculate_tcr_dist2, calculate_tcr_dist2_cached\n",
    "from sklearn.metrics import accuracy_score\n",
    "from sklearn import metrics\n",
    "from util import plot_roc_curve, get_epitope_df, evaluate, get_features, fix_test, calculate_tcr_dist2_cached\n",
    "from sklearn.ensemble import RandomForestClassifier\n"
   ],
   "metadata": {
    "collapsed": false
   }
  },
  {
   "cell_type": "code",
   "execution_count": 17,
   "outputs": [
    {
     "name": "stderr",
     "output_type": "stream",
     "text": [
      "C:\\Users\\arnod\\AppData\\Local\\Temp/ipykernel_24992/1551846585.py:1: DtypeWarning: Columns (20,29,30) have mixed types. Specify dtype option on import or set low_memory=False.\n",
      "  df_vdjdb = pd.read_csv('data/vdjdb-2022-03-30/vdjdb_full.txt', sep='\\t')\n"
     ]
    },
    {
     "data": {
      "text/plain": "    epitope       CDR3_alfa             TRAV       TRAJ             CDR3_beta  \\\n0  FLKEKGGL   CIVRAPGRADMRF      TRAV26-1*01  TRAJ43*01  CASSYLPGQGDHYSNQPQHF   \n1  FLKEKGGL             NaN              NaN        NaN   CASSFEAGQGFFSNQPQHF   \n2  FLKEKGGL  CAVPSGAGSYQLTF        TRAV20*01  TRAJ28*01   CASSFEPGQGFYSNQPQHF   \n3  FLKEKGGL     CAVKASGSRLT         TRAV2*01        NaN  CASSYEPGQVSHYSNQPQHF   \n4  FLKEKGGL   CAYRPPGTYKYIF  TRAV38-2/DV8*01  TRAJ40*01        CASSALASLNEQFF   \n\n        TRBV        TRBJ  \n0  TRBV13*01  TRBJ1-5*01  \n1  TRBV13*01  TRBJ1-5*01  \n2  TRBV13*01  TRBJ1-5*01  \n3  TRBV13*01  TRBJ1-5*01  \n4  TRBV14*01  TRBJ2-1*01  ",
      "text/html": "<div>\n<style scoped>\n    .dataframe tbody tr th:only-of-type {\n        vertical-align: middle;\n    }\n\n    .dataframe tbody tr th {\n        vertical-align: top;\n    }\n\n    .dataframe thead th {\n        text-align: right;\n    }\n</style>\n<table border=\"1\" class=\"dataframe\">\n  <thead>\n    <tr style=\"text-align: right;\">\n      <th></th>\n      <th>epitope</th>\n      <th>CDR3_alfa</th>\n      <th>TRAV</th>\n      <th>TRAJ</th>\n      <th>CDR3_beta</th>\n      <th>TRBV</th>\n      <th>TRBJ</th>\n    </tr>\n  </thead>\n  <tbody>\n    <tr>\n      <th>0</th>\n      <td>FLKEKGGL</td>\n      <td>CIVRAPGRADMRF</td>\n      <td>TRAV26-1*01</td>\n      <td>TRAJ43*01</td>\n      <td>CASSYLPGQGDHYSNQPQHF</td>\n      <td>TRBV13*01</td>\n      <td>TRBJ1-5*01</td>\n    </tr>\n    <tr>\n      <th>1</th>\n      <td>FLKEKGGL</td>\n      <td>NaN</td>\n      <td>NaN</td>\n      <td>NaN</td>\n      <td>CASSFEAGQGFFSNQPQHF</td>\n      <td>TRBV13*01</td>\n      <td>TRBJ1-5*01</td>\n    </tr>\n    <tr>\n      <th>2</th>\n      <td>FLKEKGGL</td>\n      <td>CAVPSGAGSYQLTF</td>\n      <td>TRAV20*01</td>\n      <td>TRAJ28*01</td>\n      <td>CASSFEPGQGFYSNQPQHF</td>\n      <td>TRBV13*01</td>\n      <td>TRBJ1-5*01</td>\n    </tr>\n    <tr>\n      <th>3</th>\n      <td>FLKEKGGL</td>\n      <td>CAVKASGSRLT</td>\n      <td>TRAV2*01</td>\n      <td>NaN</td>\n      <td>CASSYEPGQVSHYSNQPQHF</td>\n      <td>TRBV13*01</td>\n      <td>TRBJ1-5*01</td>\n    </tr>\n    <tr>\n      <th>4</th>\n      <td>FLKEKGGL</td>\n      <td>CAYRPPGTYKYIF</td>\n      <td>TRAV38-2/DV8*01</td>\n      <td>TRAJ40*01</td>\n      <td>CASSALASLNEQFF</td>\n      <td>TRBV14*01</td>\n      <td>TRBJ2-1*01</td>\n    </tr>\n  </tbody>\n</table>\n</div>"
     },
     "execution_count": 17,
     "metadata": {},
     "output_type": "execute_result"
    }
   ],
   "source": [
    "df_vdjdb = pd.read_csv('data/vdjdb-2022-03-30/vdjdb_full.txt', sep='\\t')\n",
    "\n",
    "rename_columns = {\n",
    "    'antigen.epitope': 'epitope',\n",
    "    'cdr3.alpha': 'CDR3_alfa',\n",
    "    'v.alpha': 'TRAV',\n",
    "    'j.alpha': 'TRAJ',\n",
    "    'cdr3.beta': 'CDR3_beta',\n",
    "    'v.beta': 'TRBV',\n",
    "    'j.beta': 'TRBJ',\n",
    "}\n",
    "\n",
    "df_vdjdb = df_vdjdb.rename(columns=rename_columns)\n",
    "df_vdjdb = df_vdjdb[rename_columns.values()]\n",
    "df_vdjdb.head()"
   ],
   "metadata": {
    "collapsed": false
   }
  },
  {
   "cell_type": "code",
   "execution_count": 18,
   "outputs": [
    {
     "name": "stdout",
     "output_type": "stream",
     "text": [
      "There are 518 epitopes with NaN values in the CDR3_alfa or CDR3_beta columns\n",
      "KLGGALQAK     13974\n",
      "SSYRRPVGI       661\n",
      "SSLENFRAYV      437\n",
      "RLRAEAQVK       431\n",
      "ASNENMETM       325\n",
      "              ...  \n",
      "TLEYMDWLV         1\n",
      "WLDNFELCL         1\n",
      "KLEFMDWRL         1\n",
      "RMEQVDWTV         1\n",
      "YYTSNPTTF         1\n",
      "Name: epitope, Length: 632, dtype: int64\n"
     ]
    }
   ],
   "source": [
    "# get all \"epitope\" names that have \"CDR3_alfa\" or \"CDR3_beta\" as NaN\n",
    "nan_epitopes = df_vdjdb[df_vdjdb['CDR3_alfa'].isna() | df_vdjdb['CDR3_beta'].isna()]['epitope'].unique()\n",
    "print(f\"There are {len(nan_epitopes)} epitopes with NaN values in the CDR3_alfa or CDR3_beta columns\")\n",
    "# drop all rows that have an \"epitope\" name that is in \"nan_epitopes\"\n",
    "df_vdjdb = df_vdjdb[~df_vdjdb['epitope'].isin(nan_epitopes)]\n",
    "# print  the counts of the remaining epitopes\n",
    "print(df_vdjdb['epitope'].value_counts())"
   ],
   "metadata": {
    "collapsed": false
   }
  },
  {
   "cell_type": "code",
   "execution_count": 19,
   "outputs": [
    {
     "name": "stdout",
     "output_type": "stream",
     "text": [
      "LSLRNPILV    155\n",
      "LTDEMIAQY    135\n",
      "Name: epitope, dtype: int64\n"
     ]
    }
   ],
   "source": [
    "# print the counts of those epitopes that have 100-200 samples, don't print the others\n",
    "print(df_vdjdb['epitope'].value_counts().loc[lambda x: x.between(100, 200)])"
   ],
   "metadata": {
    "collapsed": false
   }
  },
  {
   "cell_type": "markdown",
   "source": [
    "## Evaluate"
   ],
   "metadata": {
    "collapsed": false
   }
  },
  {
   "cell_type": "code",
   "execution_count": 19,
   "outputs": [],
   "source": [],
   "metadata": {
    "collapsed": false
   }
  },
  {
   "cell_type": "code",
   "execution_count": 20,
   "outputs": [],
   "source": [
    "current_epitope = 'LSLRNPILV'"
   ],
   "metadata": {
    "collapsed": false
   }
  },
  {
   "cell_type": "code",
   "execution_count": 21,
   "outputs": [],
   "source": [
    "# mouse_df = get_epitope_df(current_epitope, species='MusMusculus')\n",
    "# human_df = get_epitope_df(current_epitope, species='HomoSapiens')\n",
    "# print(f\"There are {len(mouse_df)} mouse samples and {len(human_df)} human samples for the epitope {current_epitope}\")"
   ],
   "metadata": {
    "collapsed": false
   }
  },
  {
   "cell_type": "code",
   "execution_count": 22,
   "outputs": [
    {
     "name": "stdout",
     "output_type": "stream",
     "text": [
      "Number of negative samples changed from 2918 to 2870 (because of overlap with positive samples)\n",
      "Positive samples: alpha only: 0, beta only: 0, both: 155, none: 0\n",
      "Negative samples: alpha only: 69, beta only: 753, both: 2048, none: 0\n",
      "Created a dataframe with 310 samples for the epitope LSLRNPILV\n"
     ]
    },
    {
     "name": "stderr",
     "output_type": "stream",
     "text": [
      "C:\\Users\\arnod\\PycharmProjects\\thesis\\util\\epitopes.py:6: DtypeWarning: Columns (20,29,30) have mixed types. Specify dtype option on import or set low_memory=False.\n",
      "  df_vdjdb = pd.read_csv('data/vdjdb-2022-03-30/vdjdb_full.txt', sep='\\t')\n"
     ]
    }
   ],
   "source": [
    "epitope_df = get_epitope_df(current_epitope, species='MusMusculus')\n",
    "# epitope_df = epitope_df.sample(100) # TODO: remove\n",
    "print(f\"Created a dataframe with {len(epitope_df)} samples for the epitope {current_epitope}\")"
   ],
   "metadata": {
    "collapsed": false
   }
  },
  {
   "cell_type": "code",
   "execution_count": 23,
   "outputs": [],
   "source": [
    "y_column = 'reaction'\n",
    "x_columns = ['CDR3_alfa', 'TRAV', 'TRAJ', 'CDR3_beta', 'TRBV', 'TRBJ']\n",
    "epitope_df = epitope_df[x_columns + [y_column]]\n",
    "# train_df, test_df = train_test_split(df, test_size=0.2, random_state=42) # not using this, no nan -> KFold\n",
    "\n",
    "epitope_x = epitope_df[x_columns]\n",
    "epitope_y = epitope_df[y_column]"
   ],
   "metadata": {
    "collapsed": false
   }
  },
  {
   "cell_type": "code",
   "execution_count": 24,
   "outputs": [],
   "source": [
    "y = epitope_y\n",
    "x_features = get_features(epitope_x)\n",
    "# features introduce NaN values, set them to 0\n",
    "x_features = np.nan_to_num(x_features, nan=0)"
   ],
   "metadata": {
    "collapsed": false
   }
  },
  {
   "cell_type": "markdown",
   "source": [
    "### RandomForest"
   ],
   "metadata": {
    "collapsed": false
   }
  },
  {
   "cell_type": "code",
   "execution_count": 25,
   "outputs": [
    {
     "name": "stdout",
     "output_type": "stream",
     "text": [
      "[0.9037461  0.89791667 0.93809524 0.92737722 0.91770833]\n",
      "ROC: 0.917 (+/- 0.030)\n"
     ]
    }
   ],
   "source": [
    "# check the performance on a RandomForest classifier\n",
    "clf = RandomForestClassifier(n_estimators=100)\n",
    "evaluate(clf, x_features, y)"
   ],
   "metadata": {
    "collapsed": false
   }
  },
  {
   "cell_type": "markdown",
   "source": [
    "# Proximity Forest"
   ],
   "metadata": {
    "collapsed": false
   }
  },
  {
   "cell_type": "code",
   "execution_count": 26,
   "outputs": [],
   "source": [
    "# # np_x = epitope_x.to_numpy()\n",
    "# # np_y = epitope_y.to_numpy()\n",
    "#\n",
    "# np_x = epitope_x\n",
    "# np_y = epitope_y\n",
    "#\n",
    "# model = ProximityForestClassifier(reduce_features=False, distance_measure=calculate_tcr_dist2_cached,\n",
    "#                                   distance_kwargs={\"nan_distance\": 0, 'organism': \"mouse\"}, multithreaded=False)\n",
    "#\n",
    "# evaluate(clf, np_x, np_y)"
   ],
   "metadata": {
    "collapsed": false
   }
  },
  {
   "cell_type": "code",
   "execution_count": 27,
   "outputs": [],
   "source": [
    "np_x = epitope_x\n",
    "np_y = epitope_y"
   ],
   "metadata": {
    "collapsed": false
   }
  },
  {
   "cell_type": "code",
   "execution_count": 28,
   "outputs": [
    {
     "name": "stderr",
     "output_type": "stream",
     "text": [
      "Fitting: 100%|██████████| 100/100 [1:19:02<00:00, 47.42s/it]\n",
      "Predicting: 100%|██████████| 100/100 [32:01<00:00, 19.22s/it] \n"
     ]
    },
    {
     "name": "stdout",
     "output_type": "stream",
     "text": [
      "0.8225806451612904\n"
     ]
    },
    {
     "name": "stderr",
     "output_type": "stream",
     "text": [
      "Predicting: 100%|██████████| 100/100 [00:01<00:00, 55.55it/s]\n"
     ]
    },
    {
     "data": {
      "text/plain": "<Figure size 432x288 with 1 Axes>",
      "image/png": "[encoded data removed]"
     },
     "metadata": {},
     "output_type": "display_data"
    },
    {
     "name": "stdout",
     "output_type": "stream",
     "text": [
      "ROC AUC: 0.8803329864724245\n"
     ]
    },
    {
     "name": "stderr",
     "output_type": "stream",
     "text": [
      "Fitting: 100%|██████████| 100/100 [34:33<00:00, 20.74s/it]\n",
      "Predicting: 100%|██████████| 100/100 [04:08<00:00,  2.48s/it]\n"
     ]
    },
    {
     "name": "stdout",
     "output_type": "stream",
     "text": [
      "0.7741935483870968\n"
     ]
    },
    {
     "name": "stderr",
     "output_type": "stream",
     "text": [
      "Predicting: 100%|██████████| 100/100 [00:01<00:00, 64.52it/s]\n"
     ]
    },
    {
     "data": {
      "text/plain": "<Figure size 432x288 with 1 Axes>",
      "image/png": "[encoded data removed]"
     },
     "metadata": {},
     "output_type": "display_data"
    },
    {
     "name": "stdout",
     "output_type": "stream",
     "text": [
      "ROC AUC: 0.8714880332986472\n"
     ]
    }
   ],
   "source": [
    "model = ProximityForestClassifier(reduce_features=False, distance_measure=calculate_tcr_dist2_cached,\n",
    "                                  distance_kwargs={\"nan_distance\": 0, 'organism': \"mouse\"}, multithreaded=False)\n",
    "\n",
    "\n",
    "# split np_x8 and np_y into train and test\n",
    "train_X, val_X, train_y, val_y = train_test_split(np_x, np_y, test_size=0.2, random_state=42)\n",
    "\n",
    "model.fit(train_X, train_y)\n",
    "\n",
    "\n",
    "predictions = model.predict(val_X)\n",
    "\n",
    "print(accuracy_score(val_y, predictions))\n",
    "\n",
    "predictions = model.predict_proba(val_X)\n",
    "fpr, tpr, thresholds = metrics.roc_curve(val_y, predictions[:, 1], pos_label=1)\n",
    "roc_auc = metrics.auc(fpr, tpr)\n",
    "plot_roc_curve(fpr, tpr, label=f'Random Forest (AUC = {roc_auc:.3f})', title=\"epitope auc\")\n",
    "print(f\"ROC AUC: {roc_auc}\")"
   ],
   "metadata": {
    "collapsed": false
   }
  },
  {
   "cell_type": "markdown",
   "source": [
    "checken hoe groot bomen zijn\n",
    "wrs aantal samples, kfold toegepast\n",
    "ceder heeft sklearn code om te plotten"
   ],
   "metadata": {
    "collapsed": false
   }
  },
  {
   "cell_type": "code",
   "execution_count": 29,
   "outputs": [],
   "source": [
    "def get_auc(clf, np_x, np_y, seed):\n",
    "    train_X, val_X, train_y, val_y = train_test_split(np_x, np_y, test_size=0.2, random_state=seed)\n",
    "\n",
    "    clf.fit(train_X, train_y)\n",
    "\n",
    "    # predictions = clf.predict(val_X)\n",
    "    # print(accuracy_score(val_y, predictions))\n",
    "\n",
    "    predictions = model.predict_proba(val_X)\n",
    "    fpr, tpr, thresholds = metrics.roc_curve(val_y, predictions[:, 1], pos_label=1)\n",
    "    roc_auc = metrics.auc(fpr, tpr)\n",
    "    print(f\"ROC AUC: {roc_auc}\")\n",
    "    return roc_auc"
   ],
   "metadata": {
    "collapsed": false
   }
  },
  {
   "cell_type": "code",
   "execution_count": 30,
   "outputs": [
    {
     "name": "stderr",
     "output_type": "stream",
     "text": [
      "Fitting: 100%|██████████| 100/100 [23:38<00:00, 14.19s/it]\n",
      "Predicting: 100%|██████████| 200/200 [12:05<00:00,  3.63s/it]\n"
     ]
    },
    {
     "name": "stdout",
     "output_type": "stream",
     "text": [
      "ROC AUC: 0.8354166666666667\n"
     ]
    },
    {
     "name": "stderr",
     "output_type": "stream",
     "text": [
      "Fitting: 100%|██████████| 100/100 [12:59<00:00,  7.80s/it]\n",
      "Predicting: 100%|██████████| 300/300 [08:33<00:00,  1.71s/it]\n"
     ]
    },
    {
     "name": "stdout",
     "output_type": "stream",
     "text": [
      "ROC AUC: 0.9114583333333333\n"
     ]
    },
    {
     "name": "stderr",
     "output_type": "stream",
     "text": [
      "Fitting: 100%|██████████| 100/100 [06:39<00:00,  4.00s/it]\n",
      "Predicting: 100%|██████████| 400/400 [04:50<00:00,  1.38it/s]\n"
     ]
    },
    {
     "name": "stdout",
     "output_type": "stream",
     "text": [
      "ROC AUC: 0.791363163371488\n"
     ]
    },
    {
     "name": "stderr",
     "output_type": "stream",
     "text": [
      "Fitting: 100%|██████████| 100/100 [03:27<00:00,  2.07s/it]\n",
      "Predicting: 100%|██████████| 500/500 [02:34<00:00,  3.23it/s]\n"
     ]
    },
    {
     "name": "stdout",
     "output_type": "stream",
     "text": [
      "ROC AUC: 0.931321540062435\n"
     ]
    },
    {
     "name": "stderr",
     "output_type": "stream",
     "text": [
      "Fitting: 100%|██████████| 100/100 [02:13<00:00,  1.33s/it]\n",
      "Predicting: 100%|██████████| 600/600 [01:30<00:00,  6.66it/s]"
     ]
    },
    {
     "name": "stdout",
     "output_type": "stream",
     "text": [
      "ROC AUC: 0.9322916666666666\n"
     ]
    },
    {
     "name": "stderr",
     "output_type": "stream",
     "text": [
      "\n"
     ]
    }
   ],
   "source": [
    "aucs = []\n",
    "for i in range(5):\n",
    "    aucs.append(get_auc(model, np_x, np_y, i))"
   ],
   "metadata": {
    "collapsed": false
   }
  },
  {
   "cell_type": "code",
   "execution_count": 33,
   "outputs": [
    {
     "name": "stdout",
     "output_type": "stream",
     "text": [
      "[0.8354166666666667, 0.9114583333333333, 0.791363163371488, 0.931321540062435, 0.9322916666666666]\n",
      "ROC: 0.880 (+/- 0.114)\n"
     ]
    }
   ],
   "source": [
    "print(aucs)\n",
    "print(f\"ROC: {np.mean(aucs):.3f} (+/- {np.std(aucs) * 2:.3f})\")"
   ],
   "metadata": {
    "collapsed": false
   }
  },
  {
   "cell_type": "markdown",
   "source": [
    "### Vary the parameters\n",
    "\n",
    "I'm now mainly interested in changing samples_to_use to the entire dataset and enable subsampling on each tree of the random forest."
   ],
   "metadata": {
    "collapsed": false
   }
  },
  {
   "cell_type": "markdown",
   "source": [
    "nederlandstalig: esp instructies\n",
    "verdediging eind juni:\n",
    "2 weken voor indienen versie doorsturen, midden mei eerste draft\n",
    "\n",
    "Week van de 12e best submiten, uiterlijk de 16e.\n",
    "Half mei best al een eerste draft doorsturen. (moet nog niet volledig afzijn, delen kunnen ontbreken)"
   ],
   "metadata": {
    "collapsed": false
   }
  }
 ],
 "metadata": {
  "kernelspec": {
   "display_name": "Python 3 (ipykernel)",
   "language": "python",
   "name": "python3"
  },
  "language_info": {
   "codemirror_mode": {
    "name": "ipython",
    "version": 3
   },
   "file_extension": ".py",
   "mimetype": "text/x-python",
   "name": "python",
   "nbconvert_exporter": "python",
   "pygments_lexer": "ipython3",
   "version": "3.9.7"
  }
 },
 "nbformat": 4,
 "nbformat_minor": 1
}
