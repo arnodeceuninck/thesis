{
 "cells": [
  {
   "cell_type": "markdown",
   "source": [
    "# Random Forest Weighted Entropy\n",
    "As metnioned in the previous notebook, there are different methods to handle missing values in a random forest. A problem with a lot of them is that a lot of them train on the missing data in the train set, to classify the missing data in the test set better. However, what I want to achieve is a better classification on a test set without missing data, so most of those algorithms won't work for this.\n",
    "\n",
    "During one of the thesis meeting sessions, we brainstormed which possible approach would be best. Our guess was weighted branches. However, usually this trains weights during training, and during testing, it discovers all possible branches, and creates a weighted sum of all those probabilities. This is of course not useful if there isn't any missing data in the test set.\n",
    "\n",
    "So we need to find a way to use this during training. I'll attempt this using a weighted entropy.\n",
    "\n",
    "This is the current calculate_entropy function (located in  CustomForest/decision_tree.py):"
   ],
   "metadata": {
    "collapsed": false,
    "pycharm": {
     "name": "#%% md\n"
    }
   }
  },
  {
   "cell_type": "code",
   "execution_count": 3,
   "outputs": [],
   "source": [
    "import math\n",
    "import numpy as np\n",
    "import pandas as pd\n",
    "\n",
    "\n",
    "def calculate_entropy(y):\n",
    "    \"\"\" Calculate the entropy of label array y \"\"\"\n",
    "    log2 = lambda x: math.log(x) / math.log(2)\n",
    "    unique_labels = np.unique(y)\n",
    "    entropy = 0\n",
    "    for label in unique_labels:\n",
    "        count = len(y[y == label])\n",
    "        p = count / len(y)\n",
    "        print(f\"p({label}) = {p}\")\n",
    "        entropy += -p * log2(p)\n",
    "    return entropy"
   ],
   "metadata": {
    "collapsed": false,
    "pycharm": {
     "name": "#%%\n"
    }
   }
  },
  {
   "cell_type": "markdown",
   "source": [
    "So for each unique label in our tree node, we calculate the relative frequncy of that label in the node (p) and multiply it with the log2 of that frequency (which is negative, since probabilities are between 0 and 1), but it's made positive again using the minus sign. We then sum all those values together, and return the entropy.\n",
    "\n",
    "Let's give an example:"
   ],
   "metadata": {
    "collapsed": false,
    "pycharm": {
     "name": "#%% md\n"
    }
   }
  },
  {
   "cell_type": "code",
   "execution_count": 4,
   "outputs": [
    {
     "name": "stdout",
     "output_type": "stream",
     "text": [
      "p(0) = 0.25\n",
      "p(1) = 0.75\n"
     ]
    },
    {
     "data": {
      "text/plain": "0.8112781244591328"
     },
     "execution_count": 4,
     "metadata": {},
     "output_type": "execute_result"
    }
   ],
   "source": [
    "y = np.array([1, 1, 1, 0])\n",
    "calculate_entropy(y)"
   ],
   "metadata": {
    "collapsed": false,
    "pycharm": {
     "name": "#%%\n"
    }
   }
  },
  {
   "cell_type": "markdown",
   "source": [
    "Instead of those labels, we now also have a weight for each of the instances and calculate the weighted entropy. All those weights start with 1, but get halved when a split has occured of which the value for the corresponding data instance is missing.\n",
    "\n",
    "If the data is random, p is lower. `p = count / len(y)`. We want to decrease the penalty (so increas p) if there are lower weihgts and increase the penality if there are higher weights. WARNING: All without mising data should be better than with missing data in the pure values.\n",
    "\n",
    "We also want lower values to have less impact on the count."
   ],
   "metadata": {
    "collapsed": false,
    "pycharm": {
     "name": "#%% md\n"
    }
   }
  },
  {
   "cell_type": "markdown",
   "source": [
    "Some notes when searching for a new entropy function:\n",
    "![](img/entropy_notes.png)"
   ],
   "metadata": {
    "collapsed": false,
    "pycharm": {
     "name": "#%% md\n"
    }
   }
  },
  {
   "cell_type": "code",
   "execution_count": 5,
   "outputs": [
    {
     "data": {
      "text/plain": "array([[1. , 0.5],\n       [1. , 1. ],\n       [1. , 1. ],\n       [0. , 1. ]])"
     },
     "execution_count": 5,
     "metadata": {},
     "output_type": "execute_result"
    }
   ],
   "source": [
    "weights = np.ones(len(y))\n",
    "\n",
    "weights[0] = 0.5\n",
    "\n",
    "np.concatenate((y.reshape(-1, 1), weights.reshape(-1, 1)), axis=1)"
   ],
   "metadata": {
    "collapsed": false,
    "pycharm": {
     "name": "#%%\n"
    }
   }
  },
  {
   "cell_type": "code",
   "execution_count": 6,
   "outputs": [],
   "source": [
    "def calculate_weighted_entropy_diff(y, weights):\n",
    "    \"\"\" Calculate the weighted entropy of label array y \"\"\"\n",
    "    # Counts diff from normal frequency in most occuring class\n",
    "    log2 = lambda x: math.log(x) / math.log(2)\n",
    "    unique_labels = np.unique(y)\n",
    "    weighted_sum = np.sum(weights)\n",
    "    most_common_label = unique_labels[np.argmax([len(y[y == label]) for label in unique_labels])]\n",
    "    entropy = 0\n",
    "    entropy_text_formula = \"\"\n",
    "    for label in unique_labels:\n",
    "        label_weights = weights[y == label]\n",
    "\n",
    "        label_count = len(label_weights)\n",
    "\n",
    "        p = label_count / len(y)\n",
    "\n",
    "        if label == most_common_label:\n",
    "            weighted_count = sum(label_weights)\n",
    "            p_weighted = weighted_count / weighted_sum\n",
    "            diff = p_weighted - p\n",
    "            print(f\"Diff: {diff}\")\n",
    "            print(f\"Using weighted p ({p_weighted}) instead of p ({p})\")\n",
    "            p = p_weighted\n",
    "\n",
    "        label_weight = np.prod(label_weights)\n",
    "        entropy += -p * log2(p)\n",
    "        entropy_text_formula += f\"-{p} * log2({p}) (for label {label}) + \"\n",
    "    print(entropy_text_formula)\n",
    "    return entropy"
   ],
   "metadata": {
    "collapsed": false,
    "pycharm": {
     "name": "#%%\n"
    }
   }
  },
  {
   "cell_type": "code",
   "execution_count": 7,
   "outputs": [],
   "source": [
    "def calculate_weighted_entropy(y, weights):\n",
    "    \"\"\" Calculate the weighted entropy of label array y \"\"\"\n",
    "    # Counts diff from normal frequency in most occuring class\n",
    "    log2 = lambda x: math.log(x) / math.log(2)\n",
    "    unique_labels = np.unique(y)\n",
    "    normalized_weights = weights / np.sum(weights)\n",
    "    entropy = 0\n",
    "    for label in unique_labels:\n",
    "        p = np.sum(normalized_weights[y == label])\n",
    "        entropy += -p * log2(p)\n",
    "    return entropy"
   ],
   "metadata": {
    "collapsed": false,
    "pycharm": {
     "name": "#%%\n"
    }
   }
  },
  {
   "cell_type": "markdown",
   "source": [
    "Let's verify our entropy is the same if all weights are 1, our entropy is lower if the weights of the ones are lowered and higher if the weights of the zeros are lowered (a higher entropy means more random, less grouped)."
   ],
   "metadata": {
    "collapsed": false,
    "pycharm": {
     "name": "#%% md\n"
    }
   }
  },
  {
   "cell_type": "code",
   "execution_count": 8,
   "outputs": [
    {
     "data": {
      "text/plain": "0.863120568566631"
     },
     "execution_count": 8,
     "metadata": {},
     "output_type": "execute_result"
    }
   ],
   "source": [
    "# ones lowered, should be higher\n",
    "weights = np.array([0.5, 1, 1, 1])\n",
    "calculate_weighted_entropy(y, weights)"
   ],
   "metadata": {
    "collapsed": false,
    "pycharm": {
     "name": "#%%\n"
    }
   }
  },
  {
   "cell_type": "code",
   "execution_count": 9,
   "outputs": [
    {
     "data": {
      "text/plain": "0.8112781244591328"
     },
     "execution_count": 9,
     "metadata": {},
     "output_type": "execute_result"
    }
   ],
   "source": [
    "# weights all 1, should be the same\n",
    "weights = np.array([1, 1, 1, 1])\n",
    "calculate_weighted_entropy(y, weights)"
   ],
   "metadata": {
    "collapsed": false,
    "pycharm": {
     "name": "#%%\n"
    }
   }
  },
  {
   "cell_type": "code",
   "execution_count": 10,
   "outputs": [
    {
     "data": {
      "text/plain": "0.5916727785823275"
     },
     "execution_count": 10,
     "metadata": {},
     "output_type": "execute_result"
    }
   ],
   "source": [
    "# zeros lowered, should be lower\n",
    "weights = np.array([1, 1, 1, 0.5])\n",
    "calculate_weighted_entropy(y, weights)"
   ],
   "metadata": {
    "collapsed": false,
    "pycharm": {
     "name": "#%%\n"
    }
   }
  },
  {
   "cell_type": "markdown",
   "source": [
    "This seems to work as intended. Let's try another example:"
   ],
   "metadata": {
    "collapsed": false,
    "pycharm": {
     "name": "#%% md\n"
    }
   }
  },
  {
   "cell_type": "code",
   "execution_count": 11,
   "outputs": [],
   "source": [
    "labels = np.array([1, 1, 1, 0, 0, 0, 0, 0])"
   ],
   "metadata": {
    "collapsed": false,
    "pycharm": {
     "name": "#%%\n"
    }
   }
  },
  {
   "cell_type": "code",
   "execution_count": 12,
   "outputs": [
    {
     "data": {
      "text/plain": "0.9544340029249649"
     },
     "execution_count": 12,
     "metadata": {},
     "output_type": "execute_result"
    }
   ],
   "source": [
    "weights = np.array([1, 1, 1, 1, 1, 1, 1, 1])\n",
    "calculate_weighted_entropy(labels, weights)"
   ],
   "metadata": {
    "collapsed": false,
    "pycharm": {
     "name": "#%%\n"
    }
   }
  },
  {
   "cell_type": "code",
   "execution_count": 13,
   "outputs": [
    {
     "data": {
      "text/plain": "0.9709505944546686"
     },
     "execution_count": 13,
     "metadata": {},
     "output_type": "execute_result"
    }
   ],
   "source": [
    "weights = np.array([1, 1, 1, 1, 1, 1, 1, 0.5])\n",
    "calculate_weighted_entropy(labels, weights)"
   ],
   "metadata": {
    "collapsed": false,
    "pycharm": {
     "name": "#%%\n"
    }
   }
  },
  {
   "cell_type": "code",
   "execution_count": 14,
   "outputs": [
    {
     "data": {
      "text/plain": "0.9784493292686189"
     },
     "execution_count": 14,
     "metadata": {},
     "output_type": "execute_result"
    }
   ],
   "source": [
    "weights = np.array([1, 1, 1, 1, 1, 1, 1, 0.25])\n",
    "calculate_weighted_entropy(labels, weights)"
   ],
   "metadata": {
    "collapsed": false,
    "pycharm": {
     "name": "#%%\n"
    }
   }
  },
  {
   "cell_type": "code",
   "execution_count": 15,
   "outputs": [
    {
     "data": {
      "text/plain": "0.9182958340544896"
     },
     "execution_count": 15,
     "metadata": {},
     "output_type": "execute_result"
    }
   ],
   "source": [
    "weights = np.array([0.5, 1, 1, 1, 1, 1, 1, 1])\n",
    "calculate_weighted_entropy(labels, weights)"
   ],
   "metadata": {
    "collapsed": false,
    "pycharm": {
     "name": "#%%\n"
    }
   }
  },
  {
   "cell_type": "markdown",
   "source": [
    "Now we have a new entropy function, we need to implement the weights. In the build_tree function, they should get initialized with 1 (unless it's a subtree, then the value should be passed on). If the split occurs on a missing value, the weights should be halved.\n",
    "\n",
    "Because the split always happen on the entropy and the test set doesn't contain missing values, we won't change the evaluation function."
   ],
   "metadata": {
    "collapsed": false,
    "pycharm": {
     "name": "#%% md\n"
    }
   }
  },
  {
   "cell_type": "code",
   "execution_count": 4,
   "outputs": [
    {
     "name": "stdout",
     "output_type": "stream",
     "text": [
      "best_criteria: {'feature_i': 0, 'threshold': 1}\n",
      "[1.0, 1.0, 1.0, 0.0]\n",
      "[1.0, 1.0, 1.0, 1.0]\n"
     ]
    },
    {
     "name": "stderr",
     "output_type": "stream",
     "text": [
      "C:\\Users\\arnod\\PycharmProjects\\thesis\\CustomForest\\utils.py:24: VisibleDeprecationWarning: Creating an ndarray from ragged nested sequences (which is a list-or-tuple of lists-or-tuples-or ndarrays with different lengths or shapes) is deprecated. If you meant to do this, you must specify 'dtype=object' when creating the ndarray.\n",
      "  return np.array([X_1, X_2])\n"
     ]
    }
   ],
   "source": [
    "from util import evaluate_no_cv\n",
    "from CustomForest import WeightedClassificationTree\n",
    "import numpy as np\n",
    "\n",
    "tree = WeightedClassificationTree()\n",
    "\n",
    "y = np.array([1, 1, 1, 0])\n",
    "X = np.array([[1, 1], [1, 2], [1, 3], [2, 1]])\n",
    "\n",
    "tree.fit(X, y)\n",
    "# tree.print_tree()\n",
    "print(tree.predict(X))\n",
    "print(tree.predict([[2, 1], [1, 1], [1, 3], [2, 1]]))"
   ],
   "metadata": {
    "collapsed": false,
    "pycharm": {
     "name": "#%%\n"
    }
   }
  },
  {
   "cell_type": "code",
   "execution_count": 5,
   "outputs": [
    {
     "name": "stdout",
     "output_type": "stream",
     "text": [
      "[1, 1, 1, 0]\n",
      "[1, 1, 1, 1]\n"
     ]
    }
   ],
   "source": [
    "from CustomForest import ClassificationTree\n",
    "\n",
    "tree = ClassificationTree()\n",
    "tree.fit(X, y)\n",
    "print(tree.predict(X))\n",
    "print(tree.predict([[2, 1], [1, 1], [1, 3], [2, 1]]))"
   ],
   "metadata": {
    "collapsed": false,
    "pycharm": {
     "name": "#%%\n"
    }
   }
  },
  {
   "cell_type": "code",
   "execution_count": 3,
   "outputs": [
    {
     "name": "stdout",
     "output_type": "stream",
     "text": [
      "best_criteria: {'feature_i': 0, 'threshold': 2.0}\n",
      "best_criteria: {'feature_i': 1, 'threshold': 2.0}\n",
      "best_criteria: {'feature_i': 0, 'threshold': 2.0}\n"
     ]
    },
    {
     "data": {
      "text/plain": "[0.0, 1.0, 1.0, 0.0]"
     },
     "execution_count": 3,
     "metadata": {},
     "output_type": "execute_result"
    }
   ],
   "source": [
    "from util import evaluate_no_cv\n",
    "from CustomForest import WeightedClassificationTree\n",
    "import numpy as np\n",
    "\n",
    "tree = WeightedClassificationTree()\n",
    "\n",
    "y = np.array([1, 1, 1, 0])\n",
    "X = np.array([[1, np.nan], [np.nan, 2], [np.nan, 3], [2, 1]])\n",
    "\n",
    "tree.fit(X, y)\n",
    "tree.predict([[2, 1], [1, 1], [1, 3], [2, 1]])"
   ],
   "metadata": {
    "collapsed": false,
    "pycharm": {
     "name": "#%%\n"
    }
   }
  },
  {
   "cell_type": "code",
   "execution_count": 4,
   "outputs": [
    {
     "name": "stdout",
     "output_type": "stream",
     "text": [
      "1:2.0? \n",
      " T->1.0\n",
      " F->0:2.0? \n",
      "  T->0.0\n",
      "  F->1.0\n"
     ]
    }
   ],
   "source": [
    "tree.print_tree()"
   ],
   "metadata": {
    "collapsed": false,
    "pycharm": {
     "name": "#%%\n"
    }
   }
  },
  {
   "cell_type": "code",
   "execution_count": 1,
   "outputs": [
    {
     "name": "stderr",
     "output_type": "stream",
     "text": [
      "C:\\Users\\arnod\\PycharmProjects\\thesis\\CustomForest\\weighted_decision_tree.py:48: VisibleDeprecationWarning: Creating an ndarray from ragged nested sequences (which is a list-or-tuple of lists-or-tuples-or ndarrays with different lengths or shapes) is deprecated. If you meant to do this, you must specify 'dtype=object' when creating the ndarray.\n",
      "  return np.array([X_1, X_2])\n",
      "Training: 100% [------------------------------------------------] Time: 0:00:00\r\n"
     ]
    },
    {
     "data": {
      "text/plain": "array([1, 1, 1, 1], dtype=int64)"
     },
     "execution_count": 1,
     "metadata": {},
     "output_type": "execute_result"
    }
   ],
   "source": [
    "# try a larger sample, so we can test a weighted random forest\n",
    "from util import evaluate_no_cv\n",
    "from CustomForest import WeightedClassificationTree, RandomForest\n",
    "import numpy as np\n",
    "\n",
    "clf = RandomForest(weighted=True)\n",
    "\n",
    "y = np.array([1, 1, 1, 0])\n",
    "X = np.array([[1, np.nan], [np.nan, 2], [np.nan, 3], [2, 1]])\n",
    "\n",
    "clf.fit(X, y)\n",
    "clf.predict([[2, 1], [1, 1], [1, 3], [2, 1]])"
   ],
   "metadata": {
    "collapsed": false,
    "pycharm": {
     "name": "#%%\n"
    }
   }
  },
  {
   "cell_type": "markdown",
   "source": [
    "# Real data\n",
    "up to now, I've worked with small test samples, let's try on the actual dataset"
   ],
   "metadata": {
    "collapsed": false,
    "pycharm": {
     "name": "#%% md\n"
    }
   }
  },
  {
   "cell_type": "code",
   "execution_count": 1,
   "outputs": [],
   "source": [
    "from util import get_train_dataset, get_features, fix_test\n",
    "from sklearn.model_selection import train_test_split\n",
    "\n",
    "df = get_train_dataset().sample(200)\n",
    "# df = df.dropna()\n",
    "train, test = train_test_split(df, test_size=0.2, random_state=42)\n",
    "test = test.dropna()\n",
    "\n",
    "train_x = get_features(train)\n",
    "test_x = get_features(test, test=True)\n",
    "test_x = fix_test(test_x, train_x.columns)\n",
    "\n",
    "train_y = train['reaction']\n",
    "test_y = test['reaction']"
   ],
   "metadata": {
    "collapsed": false,
    "pycharm": {
     "name": "#%%\n"
    }
   }
  },
  {
   "cell_type": "code",
   "execution_count": 2,
   "outputs": [
    {
     "name": "stderr",
     "output_type": "stream",
     "text": [
      "  0%|          | 0/100 [00:00<?, ?it/s]C:\\Users\\arnod\\PycharmProjects\\thesis\\CustomForest\\utils.py:24: VisibleDeprecationWarning: Creating an ndarray from ragged nested sequences (which is a list-or-tuple of lists-or-tuples-or ndarrays with different lengths or shapes) is deprecated. If you meant to do this, you must specify 'dtype=object' when creating the ndarray.\n",
      "  return np.array([X_1, X_2])\n",
      "100%|██████████| 100/100 [00:15<00:00,  6.65it/s]"
     ]
    },
    {
     "name": "stdout",
     "output_type": "stream",
     "text": [
      "ROC AUC: 1.000\n"
     ]
    },
    {
     "name": "stderr",
     "output_type": "stream",
     "text": [
      "\n"
     ]
    },
    {
     "data": {
      "text/plain": "1.0"
     },
     "execution_count": 2,
     "metadata": {},
     "output_type": "execute_result"
    }
   ],
   "source": [
    "from util import evaluate_no_cv\n",
    "from CustomForest import RandomForest\n",
    "\n",
    "rf = RandomForest()\n",
    "evaluate_no_cv(rf, train_x, train_y, test_x, test_y)"
   ],
   "metadata": {
    "collapsed": false,
    "pycharm": {
     "name": "#%%\n"
    }
   }
  },
  {
   "cell_type": "code",
   "execution_count": 4,
   "outputs": [
    {
     "name": "stderr",
     "output_type": "stream",
     "text": [
      "C:\\Users\\arnod\\PycharmProjects\\thesis\\CustomForest\\weighted_decision_tree.py:48: VisibleDeprecationWarning: Creating an ndarray from ragged nested sequences (which is a list-or-tuple of lists-or-tuples-or ndarrays with different lengths or shapes) is deprecated. If you meant to do this, you must specify 'dtype=object' when creating the ndarray.\n",
      "  return np.array([X_1, X_2])\n",
      "Training: 100% [------------------------------------------------] Time: 0:00:41\r"
     ]
    },
    {
     "name": "stdout",
     "output_type": "stream",
     "text": [
      "ROC AUC: 1.000\n"
     ]
    },
    {
     "name": "stderr",
     "output_type": "stream",
     "text": [
      "\n"
     ]
    },
    {
     "data": {
      "text/plain": "1.0"
     },
     "execution_count": 4,
     "metadata": {},
     "output_type": "execute_result"
    }
   ],
   "source": [
    "rf = RandomForest(weighted=True)\n",
    "evaluate_no_cv(rf, train_x, train_y, test_x, test_y)"
   ],
   "metadata": {
    "collapsed": false,
    "pycharm": {
     "name": "#%%\n"
    }
   }
  },
  {
   "cell_type": "markdown",
   "source": [],
   "metadata": {
    "collapsed": false,
    "pycharm": {
     "name": "#%% md\n"
    }
   }
  },
  {
   "cell_type": "code",
   "execution_count": 1,
   "outputs": [],
   "source": [
    "from CustomForest import RandomForest\n",
    "import numpy as np\n",
    "from util import get_train_dataset, get_features, fix_test, evaluate_no_cv\n",
    "from sklearn.model_selection import train_test_split\n",
    "import pandas as pd\n",
    "\n",
    "\n",
    "def get_train_test(df, seed, drop_train_na=False):\n",
    "    train, test = train_test_split(df, test_size=0.2, random_state=seed)\n",
    "\n",
    "    test.dropna(inplace=True)\n",
    "    if drop_train_na:\n",
    "        train.dropna(inplace=True)\n",
    "\n",
    "    x = get_features(train)\n",
    "    y = train['reaction']\n",
    "\n",
    "    x_test = get_features(test, test=True)\n",
    "    x_test = fix_test(x_test, x.columns)\n",
    "    y_test = test['reaction']\n",
    "\n",
    "    return x, y, x_test, y_test"
   ],
   "metadata": {
    "collapsed": false,
    "pycharm": {
     "name": "#%%\n"
    }
   }
  },
  {
   "cell_type": "code",
   "execution_count": null,
   "outputs": [
    {
     "name": "stdout",
     "output_type": "stream",
     "text": [
      "Running RandomForest (1/4)\n"
     ]
    },
    {
     "name": "stderr",
     "output_type": "stream",
     "text": [
      "100%|██████████| 100/100 [28:21<00:00, 17.02s/it]\n"
     ]
    },
    {
     "name": "stdout",
     "output_type": "stream",
     "text": [
      "ROC AUC: 0.936\n"
     ]
    },
    {
     "name": "stderr",
     "output_type": "stream",
     "text": [
      "C:\\Users\\arnod\\AppData\\Local\\Temp/ipykernel_36000/757821529.py:24: FutureWarning: The frame.append method is deprecated and will be removed from pandas in a future version. Use pandas.concat instead.\n",
      "  scores = scores.append({\n",
      "100%|██████████| 100/100 [32:32<00:00, 19.52s/it] \n"
     ]
    },
    {
     "name": "stdout",
     "output_type": "stream",
     "text": [
      "ROC AUC: 0.913\n"
     ]
    },
    {
     "name": "stderr",
     "output_type": "stream",
     "text": [
      "C:\\Users\\arnod\\AppData\\Local\\Temp/ipykernel_36000/757821529.py:24: FutureWarning: The frame.append method is deprecated and will be removed from pandas in a future version. Use pandas.concat instead.\n",
      "  scores = scores.append({\n",
      "100%|██████████| 100/100 [34:26<00:00, 20.66s/it]\n"
     ]
    },
    {
     "name": "stdout",
     "output_type": "stream",
     "text": [
      "ROC AUC: 0.925\n"
     ]
    },
    {
     "name": "stderr",
     "output_type": "stream",
     "text": [
      "C:\\Users\\arnod\\AppData\\Local\\Temp/ipykernel_36000/757821529.py:24: FutureWarning: The frame.append method is deprecated and will be removed from pandas in a future version. Use pandas.concat instead.\n",
      "  scores = scores.append({\n",
      "100%|██████████| 100/100 [32:15<00:00, 19.35s/it]\n"
     ]
    },
    {
     "name": "stdout",
     "output_type": "stream",
     "text": [
      "ROC AUC: 0.917\n"
     ]
    },
    {
     "name": "stderr",
     "output_type": "stream",
     "text": [
      "C:\\Users\\arnod\\AppData\\Local\\Temp/ipykernel_36000/757821529.py:24: FutureWarning: The frame.append method is deprecated and will be removed from pandas in a future version. Use pandas.concat instead.\n",
      "  scores = scores.append({\n",
      "100%|██████████| 100/100 [32:53<00:00, 19.74s/it]\n"
     ]
    },
    {
     "name": "stdout",
     "output_type": "stream",
     "text": [
      "ROC AUC: 0.930\n",
      "Running WeightedRandomForest (2/4)\n"
     ]
    },
    {
     "name": "stderr",
     "output_type": "stream",
     "text": [
      "C:\\Users\\arnod\\AppData\\Local\\Temp/ipykernel_36000/757821529.py:24: FutureWarning: The frame.append method is deprecated and will be removed from pandas in a future version. Use pandas.concat instead.\n",
      "  scores = scores.append({\n",
      "100%|██████████| 100/100 [2:09:26<00:00, 77.67s/it]  \n"
     ]
    },
    {
     "name": "stdout",
     "output_type": "stream",
     "text": [
      "ROC AUC: 0.939\n"
     ]
    },
    {
     "name": "stderr",
     "output_type": "stream",
     "text": [
      "C:\\Users\\arnod\\AppData\\Local\\Temp/ipykernel_36000/757821529.py:24: FutureWarning: The frame.append method is deprecated and will be removed from pandas in a future version. Use pandas.concat instead.\n",
      "  scores = scores.append({\n",
      "100%|██████████| 100/100 [2:01:21<00:00, 72.82s/it]  \n"
     ]
    },
    {
     "name": "stdout",
     "output_type": "stream",
     "text": [
      "ROC AUC: 0.910\n"
     ]
    },
    {
     "name": "stderr",
     "output_type": "stream",
     "text": [
      "C:\\Users\\arnod\\AppData\\Local\\Temp/ipykernel_36000/757821529.py:24: FutureWarning: The frame.append method is deprecated and will be removed from pandas in a future version. Use pandas.concat instead.\n",
      "  scores = scores.append({\n",
      "100%|██████████| 100/100 [3:07:03<00:00, 112.23s/it] \n"
     ]
    },
    {
     "name": "stdout",
     "output_type": "stream",
     "text": [
      "ROC AUC: 0.933\n"
     ]
    },
    {
     "name": "stderr",
     "output_type": "stream",
     "text": [
      "C:\\Users\\arnod\\AppData\\Local\\Temp/ipykernel_36000/757821529.py:24: FutureWarning: The frame.append method is deprecated and will be removed from pandas in a future version. Use pandas.concat instead.\n",
      "  scores = scores.append({\n",
      "100%|██████████| 100/100 [27:46<00:00, 16.67s/it]t]   \n"
     ]
    },
    {
     "name": "stdout",
     "output_type": "stream",
     "text": [
      "ROC AUC: 0.932\n"
     ]
    },
    {
     "name": "stderr",
     "output_type": "stream",
     "text": [
      "C:\\Users\\arnod\\AppData\\Local\\Temp/ipykernel_36000/757821529.py:24: FutureWarning: The frame.append method is deprecated and will be removed from pandas in a future version. Use pandas.concat instead.\n",
      "  scores = scores.append({\n",
      "100%|██████████| 100/100 [27:32<00:00, 16.52s/it]\n"
     ]
    },
    {
     "name": "stdout",
     "output_type": "stream",
     "text": [
      "ROC AUC: 0.918\n"
     ]
    },
    {
     "name": "stderr",
     "output_type": "stream",
     "text": [
      "C:\\Users\\arnod\\AppData\\Local\\Temp/ipykernel_36000/757821529.py:24: FutureWarning: The frame.append method is deprecated and will be removed from pandas in a future version. Use pandas.concat instead.\n",
      "  scores = scores.append({\n",
      "100%|██████████| 100/100 [27:57<00:00, 16.78s/it]\n"
     ]
    },
    {
     "name": "stdout",
     "output_type": "stream",
     "text": [
      "ROC AUC: 0.933\n"
     ]
    },
    {
     "name": "stderr",
     "output_type": "stream",
     "text": [
      "C:\\Users\\arnod\\AppData\\Local\\Temp/ipykernel_36000/757821529.py:24: FutureWarning: The frame.append method is deprecated and will be removed from pandas in a future version. Use pandas.concat instead.\n",
      "  scores = scores.append({\n"
     ]
    },
    {
     "data": {
      "text/plain": "                                  model       auc\n0                          RandomForest  0.936162\n1                          RandomForest  0.913070\n2                          RandomForest  0.925187\n3                          RandomForest  0.917499\n4                          RandomForest  0.930375\n5                  WeightedRandomForest  0.938669\n6                  WeightedRandomForest  0.910432\n7                  WeightedRandomForest  0.933117\n8                  WeightedRandomForest  0.923381\n9                  WeightedRandomForest  0.927235\n10          RandomForest (no train nan)  0.938367\n11          RandomForest (no train nan)  0.917745\n12          RandomForest (no train nan)  0.924273\n13          RandomForest (no train nan)  0.920146\n14          RandomForest (no train nan)  0.928019\n15  WeightedRandomForest (no train nan)  0.934554\n16  WeightedRandomForest (no train nan)  0.919424\n17  WeightedRandomForest (no train nan)  0.932101\n18  WeightedRandomForest (no train nan)  0.917656\n19  WeightedRandomForest (no train nan)  0.933012",
      "text/html": "<div>\n<style scoped>\n    .dataframe tbody tr th:only-of-type {\n        vertical-align: middle;\n    }\n\n    .dataframe tbody tr th {\n        vertical-align: top;\n    }\n\n    .dataframe thead th {\n        text-align: right;\n    }\n</style>\n<table border=\"1\" class=\"dataframe\">\n  <thead>\n    <tr style=\"text-align: right;\">\n      <th></th>\n      <th>model</th>\n      <th>auc</th>\n    </tr>\n  </thead>\n  <tbody>\n    <tr>\n      <th>0</th>\n      <td>RandomForest</td>\n      <td>0.936162</td>\n    </tr>\n    <tr>\n      <th>1</th>\n      <td>RandomForest</td>\n      <td>0.913070</td>\n    </tr>\n    <tr>\n      <th>2</th>\n      <td>RandomForest</td>\n      <td>0.925187</td>\n    </tr>\n    <tr>\n      <th>3</th>\n      <td>RandomForest</td>\n      <td>0.917499</td>\n    </tr>\n    <tr>\n      <th>4</th>\n      <td>RandomForest</td>\n      <td>0.930375</td>\n    </tr>\n    <tr>\n      <th>5</th>\n      <td>WeightedRandomForest</td>\n      <td>0.938669</td>\n    </tr>\n    <tr>\n      <th>6</th>\n      <td>WeightedRandomForest</td>\n      <td>0.910432</td>\n    </tr>\n    <tr>\n      <th>7</th>\n      <td>WeightedRandomForest</td>\n      <td>0.933117</td>\n    </tr>\n    <tr>\n      <th>8</th>\n      <td>WeightedRandomForest</td>\n      <td>0.923381</td>\n    </tr>\n    <tr>\n      <th>9</th>\n      <td>WeightedRandomForest</td>\n      <td>0.927235</td>\n    </tr>\n    <tr>\n      <th>10</th>\n      <td>RandomForest (no train nan)</td>\n      <td>0.938367</td>\n    </tr>\n    <tr>\n      <th>11</th>\n      <td>RandomForest (no train nan)</td>\n      <td>0.917745</td>\n    </tr>\n    <tr>\n      <th>12</th>\n      <td>RandomForest (no train nan)</td>\n      <td>0.924273</td>\n    </tr>\n    <tr>\n      <th>13</th>\n      <td>RandomForest (no train nan)</td>\n      <td>0.920146</td>\n    </tr>\n    <tr>\n      <th>14</th>\n      <td>RandomForest (no train nan)</td>\n      <td>0.928019</td>\n    </tr>\n    <tr>\n      <th>15</th>\n      <td>WeightedRandomForest (no train nan)</td>\n      <td>0.934554</td>\n    </tr>\n    <tr>\n      <th>16</th>\n      <td>WeightedRandomForest (no train nan)</td>\n      <td>0.919424</td>\n    </tr>\n    <tr>\n      <th>17</th>\n      <td>WeightedRandomForest (no train nan)</td>\n      <td>0.932101</td>\n    </tr>\n    <tr>\n      <th>18</th>\n      <td>WeightedRandomForest (no train nan)</td>\n      <td>0.917656</td>\n    </tr>\n    <tr>\n      <th>19</th>\n      <td>WeightedRandomForest (no train nan)</td>\n      <td>0.933012</td>\n    </tr>\n  </tbody>\n</table>\n</div>"
     },
     "execution_count": 2,
     "metadata": {},
     "output_type": "execute_result"
    }
   ],
   "source": [
    "models_to_evaluate = [\n",
    "    {'name': 'RandomForest', 'model': RandomForest()},\n",
    "    {'name': 'WeightedRandomForest', 'model': RandomForest(weighted=True)},\n",
    "    {'name': 'RandomForest (no train nan)', 'model': RandomForest(), 'drop_train_na': True},\n",
    "    {'name': 'WeightedRandomForest (no train nan)', 'model': RandomForest(weighted=True), 'drop_train_na': True},\n",
    "]\n",
    "\n",
    "df = get_train_dataset()  #.sample(100)\n",
    "\n",
    "folds = 5\n",
    "scores = pd.DataFrame()\n",
    "for i, model in enumerate(models_to_evaluate):\n",
    "    print(f\"Running {model['name']} ({i + 1}/{len(models_to_evaluate)})\")\n",
    "    for seed in range(folds):\n",
    "\n",
    "        drop_train_na = model.get('drop_train_na', False)\n",
    "\n",
    "        x, y, x_test, y_test = get_train_test(df, seed, drop_train_na=drop_train_na)\n",
    "\n",
    "        if 'imputer' in model:\n",
    "            x = model['imputer'].fit_transform(x)\n",
    "\n",
    "        auc = evaluate_no_cv(model['model'], x, y, x_test, y_test)\n",
    "        scores = scores.append({\n",
    "            'model': model['name'],\n",
    "            'auc': auc,\n",
    "        }, ignore_index=True)\n",
    "\n",
    "scores"
   ],
   "metadata": {
    "collapsed": false,
    "pycharm": {
     "name": "#%%\n"
    }
   }
  },
  {
   "cell_type": "code",
   "execution_count": 4,
   "outputs": [
    {
     "data": {
      "text/plain": "                                  model       auc  improvement\n0                          RandomForest  0.936162     0.011703\n1                          RandomForest  0.913070    -0.011389\n2                          RandomForest  0.925187     0.000729\n3                          RandomForest  0.917499    -0.006959\n4                          RandomForest  0.930375     0.005917\n5                  WeightedRandomForest  0.938669     0.014210\n6                  WeightedRandomForest  0.910432    -0.014026\n7                  WeightedRandomForest  0.933117     0.008659\n8                  WeightedRandomForest  0.923381    -0.001078\n9                  WeightedRandomForest  0.927235     0.002776\n10          RandomForest (no train nan)  0.938367     0.013908\n11          RandomForest (no train nan)  0.917745    -0.006713\n12          RandomForest (no train nan)  0.924273    -0.000186\n13          RandomForest (no train nan)  0.920146    -0.004313\n14          RandomForest (no train nan)  0.928019     0.003560\n15  WeightedRandomForest (no train nan)  0.934554     0.010095\n16  WeightedRandomForest (no train nan)  0.919424    -0.005035\n17  WeightedRandomForest (no train nan)  0.932101     0.007643\n18  WeightedRandomForest (no train nan)  0.917656    -0.006803\n19  WeightedRandomForest (no train nan)  0.933012     0.008553",
      "text/html": "<div>\n<style scoped>\n    .dataframe tbody tr th:only-of-type {\n        vertical-align: middle;\n    }\n\n    .dataframe tbody tr th {\n        vertical-align: top;\n    }\n\n    .dataframe thead th {\n        text-align: right;\n    }\n</style>\n<table border=\"1\" class=\"dataframe\">\n  <thead>\n    <tr style=\"text-align: right;\">\n      <th></th>\n      <th>model</th>\n      <th>auc</th>\n      <th>improvement</th>\n    </tr>\n  </thead>\n  <tbody>\n    <tr>\n      <th>0</th>\n      <td>RandomForest</td>\n      <td>0.936162</td>\n      <td>0.011703</td>\n    </tr>\n    <tr>\n      <th>1</th>\n      <td>RandomForest</td>\n      <td>0.913070</td>\n      <td>-0.011389</td>\n    </tr>\n    <tr>\n      <th>2</th>\n      <td>RandomForest</td>\n      <td>0.925187</td>\n      <td>0.000729</td>\n    </tr>\n    <tr>\n      <th>3</th>\n      <td>RandomForest</td>\n      <td>0.917499</td>\n      <td>-0.006959</td>\n    </tr>\n    <tr>\n      <th>4</th>\n      <td>RandomForest</td>\n      <td>0.930375</td>\n      <td>0.005917</td>\n    </tr>\n    <tr>\n      <th>5</th>\n      <td>WeightedRandomForest</td>\n      <td>0.938669</td>\n      <td>0.014210</td>\n    </tr>\n    <tr>\n      <th>6</th>\n      <td>WeightedRandomForest</td>\n      <td>0.910432</td>\n      <td>-0.014026</td>\n    </tr>\n    <tr>\n      <th>7</th>\n      <td>WeightedRandomForest</td>\n      <td>0.933117</td>\n      <td>0.008659</td>\n    </tr>\n    <tr>\n      <th>8</th>\n      <td>WeightedRandomForest</td>\n      <td>0.923381</td>\n      <td>-0.001078</td>\n    </tr>\n    <tr>\n      <th>9</th>\n      <td>WeightedRandomForest</td>\n      <td>0.927235</td>\n      <td>0.002776</td>\n    </tr>\n    <tr>\n      <th>10</th>\n      <td>RandomForest (no train nan)</td>\n      <td>0.938367</td>\n      <td>0.013908</td>\n    </tr>\n    <tr>\n      <th>11</th>\n      <td>RandomForest (no train nan)</td>\n      <td>0.917745</td>\n      <td>-0.006713</td>\n    </tr>\n    <tr>\n      <th>12</th>\n      <td>RandomForest (no train nan)</td>\n      <td>0.924273</td>\n      <td>-0.000186</td>\n    </tr>\n    <tr>\n      <th>13</th>\n      <td>RandomForest (no train nan)</td>\n      <td>0.920146</td>\n      <td>-0.004313</td>\n    </tr>\n    <tr>\n      <th>14</th>\n      <td>RandomForest (no train nan)</td>\n      <td>0.928019</td>\n      <td>0.003560</td>\n    </tr>\n    <tr>\n      <th>15</th>\n      <td>WeightedRandomForest (no train nan)</td>\n      <td>0.934554</td>\n      <td>0.010095</td>\n    </tr>\n    <tr>\n      <th>16</th>\n      <td>WeightedRandomForest (no train nan)</td>\n      <td>0.919424</td>\n      <td>-0.005035</td>\n    </tr>\n    <tr>\n      <th>17</th>\n      <td>WeightedRandomForest (no train nan)</td>\n      <td>0.932101</td>\n      <td>0.007643</td>\n    </tr>\n    <tr>\n      <th>18</th>\n      <td>WeightedRandomForest (no train nan)</td>\n      <td>0.917656</td>\n      <td>-0.006803</td>\n    </tr>\n    <tr>\n      <th>19</th>\n      <td>WeightedRandomForest (no train nan)</td>\n      <td>0.933012</td>\n      <td>0.008553</td>\n    </tr>\n  </tbody>\n</table>\n</div>"
     },
     "execution_count": 4,
     "metadata": {},
     "output_type": "execute_result"
    }
   ],
   "source": [
    "baseline = scores[(scores['model'] == 'RandomForest')]['auc'].mean()\n",
    "scores[\"improvement\"] = scores[\"auc\"] - baseline\n",
    "scores"
   ],
   "metadata": {
    "collapsed": false,
    "pycharm": {
     "name": "#%%\n"
    }
   }
  },
  {
   "cell_type": "code",
   "execution_count": 5,
   "outputs": [
    {
     "data": {
      "text/plain": "<Figure size 432x288 with 1 Axes>",
      "image/png": "[encoded data removed]"
     },
     "metadata": {},
     "output_type": "display_data"
    }
   ],
   "source": [
    "import seaborn as sns\n",
    "\n",
    "plot = sns.barplot(x=\"model\", y=\"auc\", data=scores, ci=\"sd\")\n",
    "plot.set_xticklabels(plot.get_xticklabels(), rotation=45)\n",
    "pass"
   ],
   "metadata": {
    "collapsed": false,
    "pycharm": {
     "name": "#%%\n"
    }
   }
  },
  {
   "cell_type": "code",
   "execution_count": 6,
   "outputs": [
    {
     "name": "stderr",
     "output_type": "stream",
     "text": [
      "C:\\Users\\arnod\\AppData\\Local\\Temp/ipykernel_36000/936369140.py:7: UserWarning: FixedFormatter should only be used together with FixedLocator\n",
      "  plot.set_yticklabels([f\"{baseline + y:.2f}\" for y in y_ticks])\n"
     ]
    },
    {
     "data": {
      "text/plain": "<Figure size 432x288 with 1 Axes>",
      "image/png": "[encoded data removed]"
     },
     "metadata": {},
     "output_type": "display_data"
    }
   ],
   "source": [
    "plot = sns.barplot(x=\"model\", y=\"improvement\", data=scores, ci=\"sd\")\n",
    "\n",
    "plot.set_xticklabels(plot.get_xticklabels(), rotation=45)\n",
    "\n",
    "plot.axhline(0, color=\"k\", clip_on=False)\n",
    "y_ticks = plot.get_yticks()\n",
    "plot.set_yticklabels([f\"{baseline + y:.2f}\" for y in y_ticks])\n",
    "pass"
   ],
   "metadata": {
    "collapsed": false,
    "pycharm": {
     "name": "#%%\n"
    }
   }
  },
  {
   "cell_type": "code",
   "execution_count": 8,
   "outputs": [
    {
     "name": "stdout",
     "output_type": "stream",
     "text": [
      "Running RandomForest (sklearn) (1/2)\n"
     ]
    },
    {
     "name": "stderr",
     "output_type": "stream",
     "text": [
      "C:\\Users\\arnod\\AppData\\Roaming\\Python\\Python39\\site-packages\\sklearn\\base.py:443: UserWarning: X has feature names, but RandomForestClassifier was fitted without feature names\n",
      "  warnings.warn(\n",
      "C:\\Users\\arnod\\AppData\\Local\\Temp/ipykernel_36000/840427728.py:25: FutureWarning: The frame.append method is deprecated and will be removed from pandas in a future version. Use pandas.concat instead.\n",
      "  scores = scores.append({\n"
     ]
    },
    {
     "name": "stdout",
     "output_type": "stream",
     "text": [
      "ROC AUC: 0.946\n"
     ]
    },
    {
     "name": "stderr",
     "output_type": "stream",
     "text": [
      "C:\\Users\\arnod\\AppData\\Roaming\\Python\\Python39\\site-packages\\sklearn\\base.py:443: UserWarning: X has feature names, but RandomForestClassifier was fitted without feature names\n",
      "  warnings.warn(\n",
      "C:\\Users\\arnod\\AppData\\Local\\Temp/ipykernel_36000/840427728.py:25: FutureWarning: The frame.append method is deprecated and will be removed from pandas in a future version. Use pandas.concat instead.\n",
      "  scores = scores.append({\n"
     ]
    },
    {
     "name": "stdout",
     "output_type": "stream",
     "text": [
      "ROC AUC: 0.933\n"
     ]
    },
    {
     "name": "stderr",
     "output_type": "stream",
     "text": [
      "C:\\Users\\arnod\\AppData\\Roaming\\Python\\Python39\\site-packages\\sklearn\\base.py:443: UserWarning: X has feature names, but RandomForestClassifier was fitted without feature names\n",
      "  warnings.warn(\n",
      "C:\\Users\\arnod\\AppData\\Local\\Temp/ipykernel_36000/840427728.py:25: FutureWarning: The frame.append method is deprecated and will be removed from pandas in a future version. Use pandas.concat instead.\n",
      "  scores = scores.append({\n"
     ]
    },
    {
     "name": "stdout",
     "output_type": "stream",
     "text": [
      "ROC AUC: 0.940\n"
     ]
    },
    {
     "name": "stderr",
     "output_type": "stream",
     "text": [
      "C:\\Users\\arnod\\AppData\\Roaming\\Python\\Python39\\site-packages\\sklearn\\base.py:443: UserWarning: X has feature names, but RandomForestClassifier was fitted without feature names\n",
      "  warnings.warn(\n",
      "C:\\Users\\arnod\\AppData\\Local\\Temp/ipykernel_36000/840427728.py:25: FutureWarning: The frame.append method is deprecated and will be removed from pandas in a future version. Use pandas.concat instead.\n",
      "  scores = scores.append({\n"
     ]
    },
    {
     "name": "stdout",
     "output_type": "stream",
     "text": [
      "ROC AUC: 0.941\n"
     ]
    },
    {
     "name": "stderr",
     "output_type": "stream",
     "text": [
      "C:\\Users\\arnod\\AppData\\Roaming\\Python\\Python39\\site-packages\\sklearn\\base.py:443: UserWarning: X has feature names, but RandomForestClassifier was fitted without feature names\n",
      "  warnings.warn(\n",
      "C:\\Users\\arnod\\AppData\\Local\\Temp/ipykernel_36000/840427728.py:25: FutureWarning: The frame.append method is deprecated and will be removed from pandas in a future version. Use pandas.concat instead.\n",
      "  scores = scores.append({\n"
     ]
    },
    {
     "name": "stdout",
     "output_type": "stream",
     "text": [
      "ROC AUC: 0.939\n",
      "Running RandomForest (sklearn) (no train nan) (2/2)\n"
     ]
    },
    {
     "name": "stderr",
     "output_type": "stream",
     "text": [
      "C:\\Users\\arnod\\AppData\\Roaming\\Python\\Python39\\site-packages\\sklearn\\base.py:443: UserWarning: X has feature names, but RandomForestClassifier was fitted without feature names\n",
      "  warnings.warn(\n",
      "C:\\Users\\arnod\\AppData\\Local\\Temp/ipykernel_36000/840427728.py:25: FutureWarning: The frame.append method is deprecated and will be removed from pandas in a future version. Use pandas.concat instead.\n",
      "  scores = scores.append({\n"
     ]
    },
    {
     "name": "stdout",
     "output_type": "stream",
     "text": [
      "ROC AUC: 0.938\n"
     ]
    },
    {
     "name": "stderr",
     "output_type": "stream",
     "text": [
      "C:\\Users\\arnod\\AppData\\Roaming\\Python\\Python39\\site-packages\\sklearn\\base.py:443: UserWarning: X has feature names, but RandomForestClassifier was fitted without feature names\n",
      "  warnings.warn(\n",
      "C:\\Users\\arnod\\AppData\\Local\\Temp/ipykernel_36000/840427728.py:25: FutureWarning: The frame.append method is deprecated and will be removed from pandas in a future version. Use pandas.concat instead.\n",
      "  scores = scores.append({\n"
     ]
    },
    {
     "name": "stdout",
     "output_type": "stream",
     "text": [
      "ROC AUC: 0.926\n"
     ]
    },
    {
     "name": "stderr",
     "output_type": "stream",
     "text": [
      "C:\\Users\\arnod\\AppData\\Roaming\\Python\\Python39\\site-packages\\sklearn\\base.py:443: UserWarning: X has feature names, but RandomForestClassifier was fitted without feature names\n",
      "  warnings.warn(\n",
      "C:\\Users\\arnod\\AppData\\Local\\Temp/ipykernel_36000/840427728.py:25: FutureWarning: The frame.append method is deprecated and will be removed from pandas in a future version. Use pandas.concat instead.\n",
      "  scores = scores.append({\n"
     ]
    },
    {
     "name": "stdout",
     "output_type": "stream",
     "text": [
      "ROC AUC: 0.945\n"
     ]
    },
    {
     "name": "stderr",
     "output_type": "stream",
     "text": [
      "C:\\Users\\arnod\\AppData\\Roaming\\Python\\Python39\\site-packages\\sklearn\\base.py:443: UserWarning: X has feature names, but RandomForestClassifier was fitted without feature names\n",
      "  warnings.warn(\n",
      "C:\\Users\\arnod\\AppData\\Local\\Temp/ipykernel_36000/840427728.py:25: FutureWarning: The frame.append method is deprecated and will be removed from pandas in a future version. Use pandas.concat instead.\n",
      "  scores = scores.append({\n"
     ]
    },
    {
     "name": "stdout",
     "output_type": "stream",
     "text": [
      "ROC AUC: 0.930\n",
      "ROC AUC: 0.940\n"
     ]
    },
    {
     "name": "stderr",
     "output_type": "stream",
     "text": [
      "C:\\Users\\arnod\\AppData\\Roaming\\Python\\Python39\\site-packages\\sklearn\\base.py:443: UserWarning: X has feature names, but RandomForestClassifier was fitted without feature names\n",
      "  warnings.warn(\n",
      "C:\\Users\\arnod\\AppData\\Local\\Temp/ipykernel_36000/840427728.py:25: FutureWarning: The frame.append method is deprecated and will be removed from pandas in a future version. Use pandas.concat instead.\n",
      "  scores = scores.append({\n"
     ]
    }
   ],
   "source": [
    "# let's compare with sklearn random forest\n",
    "from sklearn.ensemble import RandomForestClassifier\n",
    "from sklearn.impute import SimpleImputer\n",
    "\n",
    "models_to_evaluate = [\n",
    "    {'name': 'RandomForest (sklearn)', 'model': RandomForestClassifier(), 'imputer': SimpleImputer()},\n",
    "    {'name': 'RandomForest (sklearn) (no train nan)', 'model': RandomForestClassifier(), 'drop_train_na': True,\n",
    "     'imputer': SimpleImputer()},\n",
    "]\n",
    "\n",
    "df = get_train_dataset()  #.sample(100)\n",
    "\n",
    "folds = 5\n",
    "for i, model in enumerate(models_to_evaluate):\n",
    "    print(f\"Running {model['name']} ({i + 1}/{len(models_to_evaluate)})\")\n",
    "    for seed in range(folds):\n",
    "\n",
    "        drop_train_na = model.get('drop_train_na', False)\n",
    "\n",
    "        x, y, x_test, y_test = get_train_test(df, seed, drop_train_na=drop_train_na)\n",
    "\n",
    "        if 'imputer' in model:\n",
    "            x = model['imputer'].fit_transform(x)\n",
    "\n",
    "        auc = evaluate_no_cv(model['model'], x, y, x_test, y_test)\n",
    "        scores = scores.append({\n",
    "            'model': model['name'],\n",
    "            'auc': auc,\n",
    "        }, ignore_index=True)"
   ],
   "metadata": {
    "collapsed": false,
    "pycharm": {
     "name": "#%%\n"
    }
   }
  },
  {
   "cell_type": "code",
   "execution_count": 10,
   "outputs": [
    {
     "data": {
      "text/plain": "                                    model       auc  improvement\n0                            RandomForest  0.936162     0.011703\n1                            RandomForest  0.913070    -0.011389\n2                            RandomForest  0.925187     0.000729\n3                            RandomForest  0.917499    -0.006959\n4                            RandomForest  0.930375     0.005917\n5                    WeightedRandomForest  0.938669     0.014210\n6                    WeightedRandomForest  0.910432    -0.014026\n7                    WeightedRandomForest  0.933117     0.008659\n8                    WeightedRandomForest  0.923381    -0.001078\n9                    WeightedRandomForest  0.927235     0.002776\n10            RandomForest (no train nan)  0.938367     0.013908\n11            RandomForest (no train nan)  0.917745    -0.006713\n12            RandomForest (no train nan)  0.924273    -0.000186\n13            RandomForest (no train nan)  0.920146    -0.004313\n14            RandomForest (no train nan)  0.928019     0.003560\n15    WeightedRandomForest (no train nan)  0.934554     0.010095\n16    WeightedRandomForest (no train nan)  0.919424    -0.005035\n17    WeightedRandomForest (no train nan)  0.932101     0.007643\n18    WeightedRandomForest (no train nan)  0.917656    -0.006803\n19    WeightedRandomForest (no train nan)  0.933012     0.008553\n20                 RandomForest (sklearn)  0.946249     0.021790\n21                 RandomForest (sklearn)  0.932590     0.008132\n22                 RandomForest (sklearn)  0.940142     0.015683\n23                 RandomForest (sklearn)  0.940608     0.016149\n24                 RandomForest (sklearn)  0.938832     0.014373\n25  RandomForest (sklearn) (no train nan)  0.938088     0.013630\n26  RandomForest (sklearn) (no train nan)  0.925704     0.001245\n27  RandomForest (sklearn) (no train nan)  0.945183     0.020724\n28  RandomForest (sklearn) (no train nan)  0.930287     0.005828\n29  RandomForest (sklearn) (no train nan)  0.939893     0.015434",
      "text/html": "<div>\n<style scoped>\n    .dataframe tbody tr th:only-of-type {\n        vertical-align: middle;\n    }\n\n    .dataframe tbody tr th {\n        vertical-align: top;\n    }\n\n    .dataframe thead th {\n        text-align: right;\n    }\n</style>\n<table border=\"1\" class=\"dataframe\">\n  <thead>\n    <tr style=\"text-align: right;\">\n      <th></th>\n      <th>model</th>\n      <th>auc</th>\n      <th>improvement</th>\n    </tr>\n  </thead>\n  <tbody>\n    <tr>\n      <th>0</th>\n      <td>RandomForest</td>\n      <td>0.936162</td>\n      <td>0.011703</td>\n    </tr>\n    <tr>\n      <th>1</th>\n      <td>RandomForest</td>\n      <td>0.913070</td>\n      <td>-0.011389</td>\n    </tr>\n    <tr>\n      <th>2</th>\n      <td>RandomForest</td>\n      <td>0.925187</td>\n      <td>0.000729</td>\n    </tr>\n    <tr>\n      <th>3</th>\n      <td>RandomForest</td>\n      <td>0.917499</td>\n      <td>-0.006959</td>\n    </tr>\n    <tr>\n      <th>4</th>\n      <td>RandomForest</td>\n      <td>0.930375</td>\n      <td>0.005917</td>\n    </tr>\n    <tr>\n      <th>5</th>\n      <td>WeightedRandomForest</td>\n      <td>0.938669</td>\n      <td>0.014210</td>\n    </tr>\n    <tr>\n      <th>6</th>\n      <td>WeightedRandomForest</td>\n      <td>0.910432</td>\n      <td>-0.014026</td>\n    </tr>\n    <tr>\n      <th>7</th>\n      <td>WeightedRandomForest</td>\n      <td>0.933117</td>\n      <td>0.008659</td>\n    </tr>\n    <tr>\n      <th>8</th>\n      <td>WeightedRandomForest</td>\n      <td>0.923381</td>\n      <td>-0.001078</td>\n    </tr>\n    <tr>\n      <th>9</th>\n      <td>WeightedRandomForest</td>\n      <td>0.927235</td>\n      <td>0.002776</td>\n    </tr>\n    <tr>\n      <th>10</th>\n      <td>RandomForest (no train nan)</td>\n      <td>0.938367</td>\n      <td>0.013908</td>\n    </tr>\n    <tr>\n      <th>11</th>\n      <td>RandomForest (no train nan)</td>\n      <td>0.917745</td>\n      <td>-0.006713</td>\n    </tr>\n    <tr>\n      <th>12</th>\n      <td>RandomForest (no train nan)</td>\n      <td>0.924273</td>\n      <td>-0.000186</td>\n    </tr>\n    <tr>\n      <th>13</th>\n      <td>RandomForest (no train nan)</td>\n      <td>0.920146</td>\n      <td>-0.004313</td>\n    </tr>\n    <tr>\n      <th>14</th>\n      <td>RandomForest (no train nan)</td>\n      <td>0.928019</td>\n      <td>0.003560</td>\n    </tr>\n    <tr>\n      <th>15</th>\n      <td>WeightedRandomForest (no train nan)</td>\n      <td>0.934554</td>\n      <td>0.010095</td>\n    </tr>\n    <tr>\n      <th>16</th>\n      <td>WeightedRandomForest (no train nan)</td>\n      <td>0.919424</td>\n      <td>-0.005035</td>\n    </tr>\n    <tr>\n      <th>17</th>\n      <td>WeightedRandomForest (no train nan)</td>\n      <td>0.932101</td>\n      <td>0.007643</td>\n    </tr>\n    <tr>\n      <th>18</th>\n      <td>WeightedRandomForest (no train nan)</td>\n      <td>0.917656</td>\n      <td>-0.006803</td>\n    </tr>\n    <tr>\n      <th>19</th>\n      <td>WeightedRandomForest (no train nan)</td>\n      <td>0.933012</td>\n      <td>0.008553</td>\n    </tr>\n    <tr>\n      <th>20</th>\n      <td>RandomForest (sklearn)</td>\n      <td>0.946249</td>\n      <td>0.021790</td>\n    </tr>\n    <tr>\n      <th>21</th>\n      <td>RandomForest (sklearn)</td>\n      <td>0.932590</td>\n      <td>0.008132</td>\n    </tr>\n    <tr>\n      <th>22</th>\n      <td>RandomForest (sklearn)</td>\n      <td>0.940142</td>\n      <td>0.015683</td>\n    </tr>\n    <tr>\n      <th>23</th>\n      <td>RandomForest (sklearn)</td>\n      <td>0.940608</td>\n      <td>0.016149</td>\n    </tr>\n    <tr>\n      <th>24</th>\n      <td>RandomForest (sklearn)</td>\n      <td>0.938832</td>\n      <td>0.014373</td>\n    </tr>\n    <tr>\n      <th>25</th>\n      <td>RandomForest (sklearn) (no train nan)</td>\n      <td>0.938088</td>\n      <td>0.013630</td>\n    </tr>\n    <tr>\n      <th>26</th>\n      <td>RandomForest (sklearn) (no train nan)</td>\n      <td>0.925704</td>\n      <td>0.001245</td>\n    </tr>\n    <tr>\n      <th>27</th>\n      <td>RandomForest (sklearn) (no train nan)</td>\n      <td>0.945183</td>\n      <td>0.020724</td>\n    </tr>\n    <tr>\n      <th>28</th>\n      <td>RandomForest (sklearn) (no train nan)</td>\n      <td>0.930287</td>\n      <td>0.005828</td>\n    </tr>\n    <tr>\n      <th>29</th>\n      <td>RandomForest (sklearn) (no train nan)</td>\n      <td>0.939893</td>\n      <td>0.015434</td>\n    </tr>\n  </tbody>\n</table>\n</div>"
     },
     "execution_count": 10,
     "metadata": {},
     "output_type": "execute_result"
    },
    {
     "data": {
      "text/plain": "<Figure size 432x288 with 1 Axes>",
      "image/png": "[encoded data removed]"
     },
     "metadata": {},
     "output_type": "display_data"
    }
   ],
   "source": [
    "import seaborn as sns\n",
    "\n",
    "baseline = scores[(scores['model'] == 'RandomForest')]['auc'].mean()\n",
    "scores[\"improvement\"] = scores[\"auc\"] - baseline\n",
    "\n",
    "plot = sns.barplot(x=\"model\", y=\"auc\", data=scores, ci=\"sd\")\n",
    "plot.set_xticklabels(plot.get_xticklabels(), rotation=45)\n",
    "\n",
    "scores"
   ],
   "metadata": {
    "collapsed": false,
    "pycharm": {
     "name": "#%%\n"
    }
   }
  },
  {
   "cell_type": "code",
   "execution_count": 11,
   "outputs": [
    {
     "name": "stderr",
     "output_type": "stream",
     "text": [
      "C:\\Users\\arnod\\AppData\\Local\\Temp/ipykernel_36000/1258050587.py:5: UserWarning: FixedFormatter should only be used together with FixedLocator\n",
      "  plot.set_yticklabels([f\"{baseline + y:.2f}\" for y in y_ticks])\n"
     ]
    },
    {
     "data": {
      "text/plain": "[Text(0, -0.01, '0.91'),\n Text(0, -0.005, '0.92'),\n Text(0, 0.0, '0.92'),\n Text(0, 0.004999999999999999, '0.93'),\n Text(0, 0.01, '0.93'),\n Text(0, 0.015000000000000001, '0.94'),\n Text(0, 0.019999999999999997, '0.94'),\n Text(0, 0.025, '0.95')]"
     },
     "execution_count": 11,
     "metadata": {},
     "output_type": "execute_result"
    },
    {
     "data": {
      "text/plain": "<Figure size 432x288 with 1 Axes>",
      "image/png": "[encoded data removed]"
     },
     "metadata": {},
     "output_type": "display_data"
    }
   ],
   "source": [
    "plot = sns.barplot(x=\"model\", y=\"improvement\", data=scores, ci=\"sd\")\n",
    "plot.set_xticklabels(plot.get_xticklabels(), rotation=45)\n",
    "plot.axhline(0, color=\"k\", clip_on=False)\n",
    "y_ticks = plot.get_yticks()\n",
    "plot.set_yticklabels([f\"{baseline + y:.2f}\" for y in y_ticks])"
   ],
   "metadata": {
    "collapsed": false,
    "pycharm": {
     "name": "#%%\n"
    }
   }
  },
  {
   "cell_type": "markdown",
   "source": [
    "Let's try sklearn random forest, but give all samples containing nan a weight of 0.5."
   ],
   "metadata": {
    "collapsed": false,
    "pycharm": {
     "name": "#%% md\n"
    }
   }
  },
  {
   "cell_type": "code",
   "execution_count": 7,
   "outputs": [
    {
     "ename": "NameError",
     "evalue": "name 'get_train_dataset' is not defined",
     "output_type": "error",
     "traceback": [
      "\u001B[1;31m---------------------------------------------------------------------------\u001B[0m",
      "\u001B[1;31mNameError\u001B[0m                                 Traceback (most recent call last)",
      "\u001B[1;32m~\\AppData\\Local\\Temp/ipykernel_26144/548507381.py\u001B[0m in \u001B[0;36m<module>\u001B[1;34m\u001B[0m\n\u001B[0;32m     17\u001B[0m ]\n\u001B[0;32m     18\u001B[0m \u001B[1;33m\u001B[0m\u001B[0m\n\u001B[1;32m---> 19\u001B[1;33m \u001B[0mdf\u001B[0m \u001B[1;33m=\u001B[0m \u001B[0mget_train_dataset\u001B[0m\u001B[1;33m(\u001B[0m\u001B[1;33m)\u001B[0m  \u001B[1;31m#.sample(100)\u001B[0m\u001B[1;33m\u001B[0m\u001B[1;33m\u001B[0m\u001B[0m\n\u001B[0m\u001B[0;32m     20\u001B[0m \u001B[1;33m\u001B[0m\u001B[0m\n\u001B[0;32m     21\u001B[0m \u001B[0mfolds\u001B[0m \u001B[1;33m=\u001B[0m \u001B[1;36m5\u001B[0m\u001B[1;33m\u001B[0m\u001B[1;33m\u001B[0m\u001B[0m\n",
      "\u001B[1;31mNameError\u001B[0m: name 'get_train_dataset' is not defined"
     ]
    }
   ],
   "source": [
    "from sklearn.ensemble import RandomForestClassifier\n",
    "from sklearn.impute import SimpleImputer\n",
    "\n",
    "\n",
    "class RandomForestWithWeights(RandomForestClassifier):\n",
    "    def fit(self, X, y, sample_weight=None):\n",
    "        if sample_weight is None:\n",
    "            sample_weight = np.ones(len(y))\n",
    "        sample_weight = np.where(np.isnan(X).any(axis=1), 0.5, sample_weight)\n",
    "        return super().fit(X, y, sample_weight=sample_weight)\n",
    "\n",
    "\n",
    "models_to_evaluate = [\n",
    "    {'name': 'RandomForest (sklearn) (weighted)', 'model': RandomForestWithWeights(), 'imputer': SimpleImputer()},\n",
    "    {'name': 'RandomForest (sklearn) (weighted) (no train nan)', 'model': RandomForestWithWeights(),\n",
    "     'drop_train_na': True, 'imputer': SimpleImputer()},\n",
    "]\n",
    "\n",
    "df = get_train_dataset()  #.sample(100)\n",
    "\n",
    "folds = 5\n",
    "for i, model in enumerate(models_to_evaluate):\n",
    "    print(f\"Running {model['name']} ({i + 1}/{len(models_to_evaluate)})\")\n",
    "    for seed in range(folds):\n",
    "\n",
    "        drop_train_na = model.get('drop_train_na', False)\n",
    "\n",
    "        x, y, x_test, y_test = get_train_test(df, seed, drop_train_na=drop_train_na)\n",
    "\n",
    "        if 'imputer' in model:\n",
    "            x = model['imputer'].fit_transform(x)\n",
    "\n",
    "        auc = evaluate_no_cv(model['model'], x, y, x_test, y_test)\n",
    "        index = len(scores)\n",
    "        scores.loc[index, 'model'] = model['name']\n",
    "        scores.loc[index, 'auc'] = auc\n",
    "\n",
    "scores"
   ],
   "metadata": {
    "collapsed": false,
    "pycharm": {
     "name": "#%%\n"
    }
   }
  },
  {
   "cell_type": "code",
   "execution_count": 13,
   "outputs": [
    {
     "data": {
      "text/plain": "[Text(0, 0, 'RandomForest'),\n Text(1, 0, 'WeightedRandomForest'),\n Text(2, 0, 'RandomForest (no train nan)'),\n Text(3, 0, 'WeightedRandomForest (no train nan)'),\n Text(4, 0, 'RandomForest (sklearn)'),\n Text(5, 0, 'RandomForest (sklearn) (no train nan)'),\n Text(6, 0, 'RandomForest (sklearn) (weighted)'),\n Text(7, 0, 'RandomForest (sklearn) (weighted) (no train nan)')]"
     },
     "execution_count": 13,
     "metadata": {},
     "output_type": "execute_result"
    },
    {
     "data": {
      "text/plain": "<Figure size 432x288 with 1 Axes>",
      "image/png": "[encoded data removed]"
     },
     "metadata": {},
     "output_type": "display_data"
    }
   ],
   "source": [
    "import seaborn as sns\n",
    "\n",
    "baseline = scores[(scores['model'] == 'RandomForest')]['auc'].mean()\n",
    "scores[\"improvement\"] = scores[\"auc\"] - baseline\n",
    "\n",
    "plot = sns.barplot(x=\"model\", y=\"auc\", data=scores, ci=\"sd\")\n",
    "plot.set_xticklabels(plot.get_xticklabels(), rotation=45)"
   ],
   "metadata": {
    "collapsed": false,
    "pycharm": {
     "name": "#%%\n"
    }
   }
  },
  {
   "cell_type": "code",
   "execution_count": 14,
   "outputs": [
    {
     "name": "stderr",
     "output_type": "stream",
     "text": [
      "C:\\Users\\arnod\\AppData\\Local\\Temp/ipykernel_36000/4067256330.py:5: UserWarning: FixedFormatter should only be used together with FixedLocator\n",
      "  plot.set_yticklabels([f\"{baseline + y:.2f}\" for y in y_ticks])\n"
     ]
    },
    {
     "data": {
      "text/plain": "[Text(0, -0.01, '0.91'),\n Text(0, -0.005, '0.92'),\n Text(0, 0.0, '0.92'),\n Text(0, 0.004999999999999999, '0.93'),\n Text(0, 0.01, '0.93'),\n Text(0, 0.015000000000000001, '0.94'),\n Text(0, 0.019999999999999997, '0.94'),\n Text(0, 0.025, '0.95')]"
     },
     "execution_count": 14,
     "metadata": {},
     "output_type": "execute_result"
    },
    {
     "data": {
      "text/plain": "<Figure size 432x288 with 1 Axes>",
      "image/png": "[encoded data removed]"
     },
     "metadata": {},
     "output_type": "display_data"
    }
   ],
   "source": [
    "\n",
    "plot = sns.barplot(x=\"model\", y=\"improvement\", data=scores, ci=\"sd\")\n",
    "plot.set_xticklabels(plot.get_xticklabels(), rotation=45)\n",
    "plot.axhline(0, color=\"k\", clip_on=False)\n",
    "y_ticks = plot.get_yticks()\n",
    "plot.set_yticklabels([f\"{baseline + y:.2f}\" for y in y_ticks])"
   ],
   "metadata": {
    "collapsed": false,
    "pycharm": {
     "name": "#%%\n"
    }
   }
  },
  {
   "cell_type": "markdown",
   "source": [
    "zien wat sklearn speciaal doet\n",
    "zien of beter reageren op standaard datasets(van sklearn)-> om verschil te zien"
   ],
   "metadata": {
    "collapsed": false,
    "pycharm": {
     "name": "#%% md\n"
    }
   }
  },
  {
   "cell_type": "markdown",
   "source": [
    "# Other datasets\n",
    "The sklearn implementation is better than our implementation. Let's see where the difference is."
   ],
   "metadata": {
    "collapsed": false,
    "pycharm": {
     "name": "#%% md\n"
    }
   }
  },
  {
   "cell_type": "code",
   "execution_count": 1,
   "outputs": [],
   "source": [
    "from CustomForest import RandomForest\n",
    "from sklearn.ensemble import RandomForestClassifier\n",
    "# from sklearn.impute import SimpleImputer\n",
    "\n",
    "models_to_evaluate = [\n",
    "    {'name': 'RandomForest (sklearn)', 'model': RandomForestClassifier()},\n",
    "    {'name': 'RandomForest', 'model': RandomForest()},\n",
    "    # {'name': 'WeightedRandomForest', 'model': RandomForest(weighted=True)},\n",
    "]"
   ],
   "metadata": {
    "collapsed": false,
    "pycharm": {
     "name": "#%%\n"
    }
   }
  },
  {
   "cell_type": "code",
   "execution_count": 2,
   "outputs": [],
   "source": [
    "import pandas as pd\n",
    "from util import evaluate_no_cv\n",
    "from sklearn import metrics\n",
    "\n",
    "def evaluate_models(models_to_evaluate, df, folds=5):\n",
    "    scores = pd.DataFrame()\n",
    "\n",
    "    for i, seed in enumerate(range(folds)):\n",
    "        print(f'Fold {i + 1}/{folds}')\n",
    "\n",
    "        for j, model in enumerate(models_to_evaluate):\n",
    "            try:\n",
    "                print(f\"Running {model['name']} ({j + 1}/{len(models_to_evaluate)})\")\n",
    "\n",
    "                train, test = train_test_split(df, test_size=0.2, random_state=seed)\n",
    "                x, y = train.drop(columns=['target']), train['target']\n",
    "                x_test, y_test = test.drop(columns=['target']), test['target']\n",
    "\n",
    "                clf = model['model']\n",
    "                clf.fit(x, y)\n",
    "                y_pred = clf.predict_proba(x_test)[:, 1]\n",
    "                fpr, tpr, thresholds = metrics.roc_curve(y_test, y_pred, pos_label=1)\n",
    "                auc = metrics.auc(fpr, tpr)\n",
    "\n",
    "\n",
    "                index = len(scores)\n",
    "                scores.loc[index, 'model'] = model['name']\n",
    "                scores.loc[index, 'auc'] = auc\n",
    "            except Exception as e:\n",
    "                print(f\"Error: {e}\")\n",
    "                raise e\n",
    "                continue\n",
    "\n",
    "    return scores"
   ],
   "metadata": {
    "collapsed": false,
    "pycharm": {
     "name": "#%%\n"
    }
   }
  },
  {
   "cell_type": "code",
   "execution_count": 5,
   "outputs": [
    {
     "name": "stdout",
     "output_type": "stream",
     "text": [
      "Fold 1/5\n",
      "Running RandomForest (sklearn) (1/2)\n",
      "Running RandomForest (2/2)\n"
     ]
    },
    {
     "name": "stderr",
     "output_type": "stream",
     "text": [
      "100%|██████████| 100/100 [03:14<00:00,  1.95s/it]\n"
     ]
    },
    {
     "name": "stdout",
     "output_type": "stream",
     "text": [
      "Fold 2/5\n",
      "Running RandomForest (sklearn) (1/2)\n",
      "Running RandomForest (2/2)\n"
     ]
    },
    {
     "name": "stderr",
     "output_type": "stream",
     "text": [
      "100%|██████████| 100/100 [02:53<00:00,  1.73s/it]\n"
     ]
    },
    {
     "name": "stdout",
     "output_type": "stream",
     "text": [
      "Fold 3/5\n",
      "Running RandomForest (sklearn) (1/2)\n",
      "Running RandomForest (2/2)\n"
     ]
    },
    {
     "name": "stderr",
     "output_type": "stream",
     "text": [
      "100%|██████████| 100/100 [03:11<00:00,  1.91s/it]\n"
     ]
    },
    {
     "name": "stdout",
     "output_type": "stream",
     "text": [
      "Fold 4/5\n",
      "Running RandomForest (sklearn) (1/2)\n",
      "Running RandomForest (2/2)\n"
     ]
    },
    {
     "name": "stderr",
     "output_type": "stream",
     "text": [
      "100%|██████████| 100/100 [04:00<00:00,  2.40s/it]\n"
     ]
    },
    {
     "name": "stdout",
     "output_type": "stream",
     "text": [
      "Fold 5/5\n",
      "Running RandomForest (sklearn) (1/2)\n",
      "Running RandomForest (2/2)\n"
     ]
    },
    {
     "name": "stderr",
     "output_type": "stream",
     "text": [
      "100%|██████████| 100/100 [03:02<00:00,  1.82s/it]"
     ]
    },
    {
     "name": "stdout",
     "output_type": "stream",
     "text": [
      "Wall time: 16min 22s\n"
     ]
    },
    {
     "name": "stderr",
     "output_type": "stream",
     "text": [
      "\n"
     ]
    }
   ],
   "source": [
    "%%time\n",
    "from sklearn.datasets import load_breast_cancer\n",
    "from sklearn.model_selection import train_test_split\n",
    "from util import evaluate_cv_no_nan_test\n",
    "\n",
    "dataset = load_breast_cancer()\n",
    "df = pd.DataFrame(dataset['data'], columns=dataset['feature_names'])\n",
    "df['target'] = dataset['target']\n",
    "# df = df.sample(100)\n",
    "\n",
    "scores = evaluate_models(models_to_evaluate, df)"
   ],
   "metadata": {
    "collapsed": false,
    "pycharm": {
     "name": "#%%\n"
    }
   }
  },
  {
   "cell_type": "code",
   "execution_count": 6,
   "outputs": [
    {
     "data": {
      "text/plain": "                    model       auc\n0  RandomForest (sklearn)  0.996348\n1            RandomForest  0.996189\n2  RandomForest (sklearn)  0.982639\n3            RandomForest  0.982639\n4  RandomForest (sklearn)  0.981965\n5            RandomForest  0.989050\n6  RandomForest (sklearn)  0.982095\n7            RandomForest  0.987838\n8  RandomForest (sklearn)  0.991544\n9            RandomForest  0.988051",
      "text/html": "<div>\n<style scoped>\n    .dataframe tbody tr th:only-of-type {\n        vertical-align: middle;\n    }\n\n    .dataframe tbody tr th {\n        vertical-align: top;\n    }\n\n    .dataframe thead th {\n        text-align: right;\n    }\n</style>\n<table border=\"1\" class=\"dataframe\">\n  <thead>\n    <tr style=\"text-align: right;\">\n      <th></th>\n      <th>model</th>\n      <th>auc</th>\n    </tr>\n  </thead>\n  <tbody>\n    <tr>\n      <th>0</th>\n      <td>RandomForest (sklearn)</td>\n      <td>0.996348</td>\n    </tr>\n    <tr>\n      <th>1</th>\n      <td>RandomForest</td>\n      <td>0.996189</td>\n    </tr>\n    <tr>\n      <th>2</th>\n      <td>RandomForest (sklearn)</td>\n      <td>0.982639</td>\n    </tr>\n    <tr>\n      <th>3</th>\n      <td>RandomForest</td>\n      <td>0.982639</td>\n    </tr>\n    <tr>\n      <th>4</th>\n      <td>RandomForest (sklearn)</td>\n      <td>0.981965</td>\n    </tr>\n    <tr>\n      <th>5</th>\n      <td>RandomForest</td>\n      <td>0.989050</td>\n    </tr>\n    <tr>\n      <th>6</th>\n      <td>RandomForest (sklearn)</td>\n      <td>0.982095</td>\n    </tr>\n    <tr>\n      <th>7</th>\n      <td>RandomForest</td>\n      <td>0.987838</td>\n    </tr>\n    <tr>\n      <th>8</th>\n      <td>RandomForest (sklearn)</td>\n      <td>0.991544</td>\n    </tr>\n    <tr>\n      <th>9</th>\n      <td>RandomForest</td>\n      <td>0.988051</td>\n    </tr>\n  </tbody>\n</table>\n</div>"
     },
     "execution_count": 6,
     "metadata": {},
     "output_type": "execute_result"
    }
   ],
   "source": [
    "scores"
   ],
   "metadata": {
    "collapsed": false,
    "pycharm": {
     "name": "#%%\n"
    }
   }
  },
  {
   "cell_type": "code",
   "execution_count": 7,
   "outputs": [
    {
     "data": {
      "text/plain": "[Text(0, 0, 'RandomForest (sklearn)'), Text(1, 0, 'RandomForest')]"
     },
     "execution_count": 7,
     "metadata": {},
     "output_type": "execute_result"
    },
    {
     "data": {
      "text/plain": "<Figure size 432x288 with 1 Axes>",
      "image/png": "[encoded data removed]"
     },
     "metadata": {},
     "output_type": "display_data"
    }
   ],
   "source": [
    "import seaborn as sns\n",
    "\n",
    "baseline = scores[(scores['model'] == 'RandomForest')]['auc'].mean()\n",
    "scores[\"improvement\"] = scores[\"auc\"] - baseline\n",
    "\n",
    "plot = sns.barplot(x=\"model\", y=\"auc\", data=scores, ci=\"sd\")\n",
    "plot.set_xticklabels(plot.get_xticklabels(), rotation=45)"
   ],
   "metadata": {
    "collapsed": false,
    "pycharm": {
     "name": "#%%\n"
    }
   }
  },
  {
   "cell_type": "code",
   "execution_count": 8,
   "outputs": [
    {
     "name": "stderr",
     "output_type": "stream",
     "text": [
      "C:\\Users\\arnod\\AppData\\Local\\Temp/ipykernel_21268/3746919118.py:5: UserWarning: FixedFormatter should only be used together with FixedLocator\n",
      "  plot.set_yticklabels([f\"{baseline + y:.2f}\" for y in y_ticks])\n"
     ]
    },
    {
     "data": {
      "text/plain": "<Figure size 432x288 with 1 Axes>",
      "image/png": "[encoded data removed]"
     },
     "metadata": {},
     "output_type": "display_data"
    }
   ],
   "source": [
    "plot = sns.barplot(x=\"model\", y=\"improvement\", data=scores, ci=\"sd\")\n",
    "plot.set_xticklabels(plot.get_xticklabels(), rotation=45)\n",
    "plot.axhline(0, color=\"k\", clip_on=False)\n",
    "y_ticks = plot.get_yticks()\n",
    "plot.set_yticklabels([f\"{baseline + y:.2f}\" for y in y_ticks])\n",
    "pass"
   ],
   "metadata": {
    "collapsed": false,
    "pycharm": {
     "name": "#%%\n"
    }
   }
  },
  {
   "cell_type": "markdown",
   "source": [
    "performance is slightly better in sklearn, but it's almost the same. let's try a different dataset. breast_cancer is the only binary classification dataset in sklearn.  Let's [make our own](https://scikit-learn.org/stable/modules/generated/sklearn.datasets.make_classification.html)."
   ],
   "metadata": {
    "collapsed": false,
    "pycharm": {
     "name": "#%% md\n"
    }
   }
  },
  {
   "cell_type": "code",
   "execution_count": 15,
   "outputs": [
    {
     "name": "stdout",
     "output_type": "stream",
     "text": [
      "Fold 1/5\n",
      "Running RandomForest (sklearn) (1/2)\n",
      "Running RandomForest (2/2)\n"
     ]
    },
    {
     "name": "stderr",
     "output_type": "stream",
     "text": [
      "100%|██████████| 100/100 [00:09<00:00, 10.69it/s]\n"
     ]
    },
    {
     "name": "stdout",
     "output_type": "stream",
     "text": [
      "Fold 2/5\n",
      "Running RandomForest (sklearn) (1/2)\n",
      "Running RandomForest (2/2)\n"
     ]
    },
    {
     "name": "stderr",
     "output_type": "stream",
     "text": [
      "100%|██████████| 100/100 [00:09<00:00, 10.51it/s]\n"
     ]
    },
    {
     "name": "stdout",
     "output_type": "stream",
     "text": [
      "Fold 3/5\n",
      "Running RandomForest (sklearn) (1/2)\n",
      "Running RandomForest (2/2)\n"
     ]
    },
    {
     "name": "stderr",
     "output_type": "stream",
     "text": [
      "100%|██████████| 100/100 [00:09<00:00, 10.36it/s]\n"
     ]
    },
    {
     "name": "stdout",
     "output_type": "stream",
     "text": [
      "Fold 4/5\n",
      "Running RandomForest (sklearn) (1/2)\n",
      "Running RandomForest (2/2)\n"
     ]
    },
    {
     "name": "stderr",
     "output_type": "stream",
     "text": [
      "100%|██████████| 100/100 [00:09<00:00, 10.77it/s]\n"
     ]
    },
    {
     "name": "stdout",
     "output_type": "stream",
     "text": [
      "Fold 5/5\n",
      "Running RandomForest (sklearn) (1/2)\n",
      "Running RandomForest (2/2)\n"
     ]
    },
    {
     "name": "stderr",
     "output_type": "stream",
     "text": [
      "100%|██████████| 100/100 [00:08<00:00, 11.24it/s]\n"
     ]
    }
   ],
   "source": [
    "# %%time\n",
    "from sklearn.datasets import make_classification\n",
    "from sklearn.model_selection import train_test_split\n",
    "from util import evaluate_cv_no_nan_test\n",
    "\n",
    "dataset = make_classification(n_samples=100,n_features=20,n_classes=2)\n",
    "df = pd.DataFrame(dataset[0])\n",
    "df['target'] = dataset[1]\n",
    "\n",
    "scores = evaluate_models(models_to_evaluate, df)"
   ],
   "metadata": {
    "collapsed": false,
    "pycharm": {
     "name": "#%%\n"
    }
   }
  },
  {
   "cell_type": "code",
   "execution_count": 16,
   "outputs": [
    {
     "data": {
      "text/plain": "                    model       auc\n0  RandomForest (sklearn)  1.000000\n1            RandomForest  1.000000\n2  RandomForest (sklearn)  0.994792\n3            RandomForest  1.000000\n4  RandomForest (sklearn)  1.000000\n5            RandomForest  1.000000\n6  RandomForest (sklearn)  0.989899\n7            RandomForest  0.919192\n8  RandomForest (sklearn)  0.978022\n9            RandomForest  0.945055",
      "text/html": "<div>\n<style scoped>\n    .dataframe tbody tr th:only-of-type {\n        vertical-align: middle;\n    }\n\n    .dataframe tbody tr th {\n        vertical-align: top;\n    }\n\n    .dataframe thead th {\n        text-align: right;\n    }\n</style>\n<table border=\"1\" class=\"dataframe\">\n  <thead>\n    <tr style=\"text-align: right;\">\n      <th></th>\n      <th>model</th>\n      <th>auc</th>\n    </tr>\n  </thead>\n  <tbody>\n    <tr>\n      <th>0</th>\n      <td>RandomForest (sklearn)</td>\n      <td>1.000000</td>\n    </tr>\n    <tr>\n      <th>1</th>\n      <td>RandomForest</td>\n      <td>1.000000</td>\n    </tr>\n    <tr>\n      <th>2</th>\n      <td>RandomForest (sklearn)</td>\n      <td>0.994792</td>\n    </tr>\n    <tr>\n      <th>3</th>\n      <td>RandomForest</td>\n      <td>1.000000</td>\n    </tr>\n    <tr>\n      <th>4</th>\n      <td>RandomForest (sklearn)</td>\n      <td>1.000000</td>\n    </tr>\n    <tr>\n      <th>5</th>\n      <td>RandomForest</td>\n      <td>1.000000</td>\n    </tr>\n    <tr>\n      <th>6</th>\n      <td>RandomForest (sklearn)</td>\n      <td>0.989899</td>\n    </tr>\n    <tr>\n      <th>7</th>\n      <td>RandomForest</td>\n      <td>0.919192</td>\n    </tr>\n    <tr>\n      <th>8</th>\n      <td>RandomForest (sklearn)</td>\n      <td>0.978022</td>\n    </tr>\n    <tr>\n      <th>9</th>\n      <td>RandomForest</td>\n      <td>0.945055</td>\n    </tr>\n  </tbody>\n</table>\n</div>"
     },
     "execution_count": 16,
     "metadata": {},
     "output_type": "execute_result"
    }
   ],
   "source": [
    "scores"
   ],
   "metadata": {
    "collapsed": false,
    "pycharm": {
     "name": "#%%\n"
    }
   }
  },
  {
   "cell_type": "code",
   "execution_count": 17,
   "outputs": [
    {
     "data": {
      "text/plain": "[Text(0, 0, 'RandomForest (sklearn)'), Text(1, 0, 'RandomForest')]"
     },
     "execution_count": 17,
     "metadata": {},
     "output_type": "execute_result"
    },
    {
     "data": {
      "text/plain": "<Figure size 432x288 with 1 Axes>",
      "image/png": "[encoded data removed]"
     },
     "metadata": {},
     "output_type": "display_data"
    }
   ],
   "source": [
    "import seaborn as sns\n",
    "\n",
    "baseline = scores[(scores['model'] == 'RandomForest')]['auc'].mean()\n",
    "scores[\"improvement\"] = scores[\"auc\"] - baseline\n",
    "\n",
    "plot = sns.barplot(x=\"model\", y=\"auc\", data=scores, ci=\"sd\")\n",
    "plot.set_xticklabels(plot.get_xticklabels(), rotation=45)"
   ],
   "metadata": {
    "collapsed": false,
    "pycharm": {
     "name": "#%%\n"
    }
   }
  },
  {
   "cell_type": "code",
   "execution_count": 18,
   "outputs": [
    {
     "name": "stderr",
     "output_type": "stream",
     "text": [
      "C:\\Users\\arnod\\AppData\\Local\\Temp/ipykernel_21268/3746919118.py:5: UserWarning: FixedFormatter should only be used together with FixedLocator\n",
      "  plot.set_yticklabels([f\"{baseline + y:.2f}\" for y in y_ticks])\n"
     ]
    },
    {
     "data": {
      "text/plain": "<Figure size 432x288 with 1 Axes>",
      "image/png": "[encoded data removed]"
     },
     "metadata": {},
     "output_type": "display_data"
    }
   ],
   "source": [
    "plot = sns.barplot(x=\"model\", y=\"improvement\", data=scores, ci=\"sd\")\n",
    "plot.set_xticklabels(plot.get_xticklabels(), rotation=45)\n",
    "plot.axhline(0, color=\"k\", clip_on=False)\n",
    "y_ticks = plot.get_yticks()\n",
    "plot.set_yticklabels([f\"{baseline + y:.2f}\" for y in y_ticks])\n",
    "pass"
   ],
   "metadata": {
    "collapsed": false,
    "pycharm": {
     "name": "#%%\n"
    }
   }
  },
  {
   "cell_type": "markdown",
   "source": [
    "I attempted taking a look at the sklearn code to modify it (and to see which algorithm is actually implemented), but it's indeed written partly in C. The classes I needed to edit where either the DepthFirstTreeBuilder or a Splitter. However,those functions are written in python as a pass, which is probably because PyCharm only shows me  the interface:\n",
    "https://stackoverflow.com/questions/38384206/why-do-some-built-in-python-functions-only-have-pass.\n",
    "\n",
    "I found their implementation type online: https://scikit-learn.org/stable/modules/tree.html#tree-algorithms-id3-c4-5-c5-0-and-cart\n",
    "\n",
    "What are all the various decision tree algorithms and how do they differ from each other? Which one is implemented in scikit-learn?\n",
    "\n",
    "ID3 (Iterative Dichotomiser 3) was developed in 1986 by Ross Quinlan. The algorithm creates a multiway tree, finding for each node (i.e. in a greedy manner) the categorical feature that will yield the largest information gain for categorical targets. Trees are grown to their maximum size and then a pruning step is usually applied to improve the ability of the tree to generalize to unseen data.\n",
    "\n",
    "C4.5 is the successor to ID3 and removed the restriction that features must be categorical by dynamically defining a discrete attribute (based on numerical variables) that partitions the continuous attribute value into a discrete set of intervals. C4.5 converts the trained trees (i.e. the output of the ID3 algorithm) into sets of if-then rules. The accuracy of each rule is then evaluated to determine the order in which they should be applied. Pruning is done by removing a rule’s precondition if the accuracy of the rule improves without it.\n",
    "\n",
    "C5.0 is Quinlan’s latest version release under a proprietary license. It uses less memory and builds smaller rulesets than C4.5 while being more accurate.\n",
    "\n",
    "CART (Classification and Regression Trees) is very similar to C4.5, but it differs in that it supports numerical target variables (regression) and does not compute rule sets. CART constructs binary trees using the feature and threshold that yield the largest information gain at each node.\n",
    "\n",
    "scikit-learn uses an optimized version of the CART algorithm; however, the scikit-learn implementation does not support categorical variables for now.\n",
    "\n",
    "\n",
    "\n"
   ],
   "metadata": {
    "collapsed": false,
    "pycharm": {
     "name": "#%% md\n"
    }
   }
  },
  {
   "cell_type": "markdown",
   "source": [],
   "metadata": {
    "collapsed": false,
    "pycharm": {
     "name": "#%% md\n"
    }
   }
  },
  {
   "cell_type": "markdown",
   "source": [
    "Chefboost seems to be entirely written in python (accoording to it's [github repo](https://github.com/serengil/chefboost). However,it's also notwhat I want, read [this](https://towardsdatascience.com/chefboost-an-alternative-python-library-for-tree-based-models-f46af028a348) for more about chefboost/sklearn comparison.\n",
    "\n",
    "[This reddit post](https://www.reddit.com/r/MachineLearning/comments/aryjif/d_alternatives_to_scikitlearn/) asks for sklearn alternatives. statsmodel is mentioned there, but it  doesn't seem to have a decision tree implementation.\n",
    "\n",
    "I was thinking on using an implementation from a [tutorial](https://machinelearningmastery.com/implement-random-forest-scratch-python/), but doubt it will be faster, since it doesn't even use numpy.\n",
    "\n",
    "I might check out [this implementation](https://github.com/sachaMorin/np-random-forest)."
   ],
   "metadata": {
    "collapsed": false,
    "pycharm": {
     "name": "#%% md\n"
    }
   }
  },
  {
   "cell_type": "code",
   "execution_count": 13,
   "outputs": [],
   "source": [
    "from NpRandomForest import Forest\n",
    "from util import get_train_dataset, get_features, fix_test\n",
    "from sklearn.impute import SimpleImputer\n",
    "from sklearn.model_selection import train_test_split\n",
    "import numpy as np\n",
    "import pandas as pd\n",
    "\n",
    "df = get_train_dataset()\n",
    "# df =df.sample(100)\n",
    "df_train, df_test = train_test_split(df, test_size=0.2, random_state=42)\n",
    "\n",
    "df_test.dropna(inplace=True)\n",
    "\n",
    "train_features = get_features(df_train)\n",
    "val_features = get_features(df_test, test=True)\n",
    "val_features = fix_test(val_features, train_features.columns)\n",
    "train_label = df_train['reaction']\n",
    "val_label = df_test['reaction']\n",
    "\n",
    "imp = SimpleImputer(missing_values=np.nan, strategy='constant', fill_value=0)\n",
    "# train_features = pd.DataFrame(imp.fit_transform(train_features), columns=train_features.columns)\n",
    "train_features = imp.fit_transform(train_features)"
   ],
   "metadata": {
    "collapsed": false,
    "pycharm": {
     "name": "#%%\n"
    }
   }
  },
  {
   "cell_type": "code",
   "execution_count": 14,
   "outputs": [],
   "source": [
    "train_label = train_label.to_numpy()\n",
    "val_features = val_features.to_numpy()\n",
    "val_label = val_label.to_numpy()"
   ],
   "metadata": {
    "collapsed": false,
    "pycharm": {
     "name": "#%%\n"
    }
   }
  },
  {
   "cell_type": "code",
   "execution_count": 15,
   "outputs": [
    {
     "name": "stdout",
     "output_type": "stream",
     "text": [
      "The train dataset has 6645 samples and 1194 features\n",
      "The test dataset has 666 samples and 1194 features\n"
     ]
    }
   ],
   "source": [
    "# samples\n",
    "print(f\"The train dataset has {train_features.shape[0]} samples and {train_features.shape[1]} features\")\n",
    "print(f\"The test dataset has {val_features.shape[0]} samples and {val_features.shape[1]} features\")"
   ],
   "metadata": {
    "collapsed": false,
    "pycharm": {
     "name": "#%%\n"
    }
   }
  },
  {
   "cell_type": "code",
   "execution_count": 16,
   "outputs": [
    {
     "name": "stdout",
     "output_type": "stream",
     "text": [
      "Training 100 trees with 34 features per split (of the 1194 total features) and max depth 8\n"
     ]
    },
    {
     "name": "stderr",
     "output_type": "stream",
     "text": [
      "Training Forest Trees:   0%|          | 0/100 [08:33<?, ?it/s]\n"
     ]
    },
    {
     "ename": "MemoryError",
     "evalue": "Unable to allocate 60.5 MiB for an array with shape (6645, 1194) and data type float64",
     "output_type": "error",
     "traceback": [
      "\u001B[1;31m---------------------------------------------------------------------------\u001B[0m",
      "\u001B[1;31mMemoryError\u001B[0m                               Traceback (most recent call last)",
      "\u001B[1;32m<timed exec>\u001B[0m in \u001B[0;36m<module>\u001B[1;34m\u001B[0m\n",
      "\u001B[1;32m~\\PycharmProjects\\thesis\\NpRandomForest\\Forest.py\u001B[0m in \u001B[0;36mtrain\u001B[1;34m(self, x, y)\u001B[0m\n\u001B[0;32m     49\u001B[0m                         \u001B[0mmin_samples_leaf\u001B[0m\u001B[1;33m=\u001B[0m\u001B[0mself\u001B[0m\u001B[1;33m.\u001B[0m\u001B[0m_min_samples_leaf\u001B[0m\u001B[1;33m,\u001B[0m\u001B[1;33m\u001B[0m\u001B[1;33m\u001B[0m\u001B[0m\n\u001B[0;32m     50\u001B[0m                         bootstrap=self._bootstrap)\n\u001B[1;32m---> 51\u001B[1;33m             \u001B[0mtree\u001B[0m\u001B[1;33m.\u001B[0m\u001B[0mtrain\u001B[0m\u001B[1;33m(\u001B[0m\u001B[0mx\u001B[0m\u001B[1;33m,\u001B[0m \u001B[0my\u001B[0m\u001B[1;33m,\u001B[0m \u001B[0mfeature_search\u001B[0m\u001B[1;33m=\u001B[0m\u001B[0mself\u001B[0m\u001B[1;33m.\u001B[0m\u001B[0m_feature_search\u001B[0m\u001B[1;33m)\u001B[0m\u001B[1;33m\u001B[0m\u001B[1;33m\u001B[0m\u001B[0m\n\u001B[0m\u001B[0;32m     52\u001B[0m             \u001B[0mself\u001B[0m\u001B[1;33m.\u001B[0m\u001B[0m_trees\u001B[0m\u001B[1;33m.\u001B[0m\u001B[0mappend\u001B[0m\u001B[1;33m(\u001B[0m\u001B[0mtree\u001B[0m\u001B[1;33m)\u001B[0m\u001B[1;33m\u001B[0m\u001B[1;33m\u001B[0m\u001B[0m\n\u001B[0;32m     53\u001B[0m \u001B[1;33m\u001B[0m\u001B[0m\n",
      "\u001B[1;32m~\\PycharmProjects\\thesis\\NpRandomForest\\Tree.py\u001B[0m in \u001B[0;36mtrain\u001B[1;34m(self, x, y, feature_search)\u001B[0m\n\u001B[0;32m    141\u001B[0m             \u001B[0mx\u001B[0m\u001B[1;33m,\u001B[0m \u001B[0my\u001B[0m \u001B[1;33m=\u001B[0m \u001B[0mx\u001B[0m\u001B[1;33m[\u001B[0m\u001B[0mbootstrap_indices\u001B[0m\u001B[1;33m]\u001B[0m\u001B[1;33m,\u001B[0m \u001B[0my\u001B[0m\u001B[1;33m[\u001B[0m\u001B[0mbootstrap_indices\u001B[0m\u001B[1;33m]\u001B[0m\u001B[1;33m\u001B[0m\u001B[1;33m\u001B[0m\u001B[0m\n\u001B[0;32m    142\u001B[0m \u001B[1;33m\u001B[0m\u001B[0m\n\u001B[1;32m--> 143\u001B[1;33m         self._root.train(x, y, feature_search,\n\u001B[0m\u001B[0;32m    144\u001B[0m                          \u001B[0mself\u001B[0m\u001B[1;33m.\u001B[0m\u001B[0m_max_depth\u001B[0m\u001B[1;33m,\u001B[0m \u001B[0mself\u001B[0m\u001B[1;33m.\u001B[0m\u001B[0m_min_samples_split\u001B[0m\u001B[1;33m,\u001B[0m\u001B[1;33m\u001B[0m\u001B[1;33m\u001B[0m\u001B[0m\n\u001B[0;32m    145\u001B[0m                          self._min_samples_leaf)\n",
      "\u001B[1;32m~\\PycharmProjects\\thesis\\NpRandomForest\\Tree.py\u001B[0m in \u001B[0;36mtrain\u001B[1;34m(self, x, y, feature_search, max_depth, min_samples_split, min_samples_leaf)\u001B[0m\n\u001B[0;32m     39\u001B[0m             \u001B[1;31m# and two groups\u001B[0m\u001B[1;33m\u001B[0m\u001B[1;33m\u001B[0m\u001B[0m\n\u001B[0;32m     40\u001B[0m             \u001B[0mself\u001B[0m\u001B[1;33m.\u001B[0m\u001B[0m_feature_idx\u001B[0m\u001B[1;33m,\u001B[0m \u001B[0mself\u001B[0m\u001B[1;33m.\u001B[0m\u001B[0m_split_value\u001B[0m\u001B[1;33m,\u001B[0m \u001B[0mgroup_1\u001B[0m\u001B[1;33m,\u001B[0m \u001B[0mgroup_2\u001B[0m \u001B[1;33m=\u001B[0m\u001B[0;31m \u001B[0m\u001B[0;31m\\\u001B[0m\u001B[1;33m\u001B[0m\u001B[1;33m\u001B[0m\u001B[0m\n\u001B[1;32m---> 41\u001B[1;33m                 \u001B[0msplit_search\u001B[0m\u001B[1;33m(\u001B[0m\u001B[0mx\u001B[0m\u001B[1;33m,\u001B[0m \u001B[0my\u001B[0m\u001B[1;33m,\u001B[0m \u001B[0mmin_samples_leaf\u001B[0m\u001B[1;33m,\u001B[0m \u001B[0mfeature_search\u001B[0m\u001B[1;33m)\u001B[0m\u001B[1;33m\u001B[0m\u001B[1;33m\u001B[0m\u001B[0m\n\u001B[0m\u001B[0;32m     42\u001B[0m \u001B[1;33m\u001B[0m\u001B[0m\n\u001B[0;32m     43\u001B[0m             \u001B[1;32mif\u001B[0m \u001B[0mself\u001B[0m\u001B[1;33m.\u001B[0m\u001B[0m_feature_idx\u001B[0m \u001B[1;32mis\u001B[0m \u001B[1;32mnot\u001B[0m \u001B[0mnp\u001B[0m\u001B[1;33m.\u001B[0m\u001B[0mNaN\u001B[0m\u001B[1;33m:\u001B[0m\u001B[1;33m\u001B[0m\u001B[1;33m\u001B[0m\u001B[0m\n",
      "\u001B[1;32m~\\PycharmProjects\\thesis\\NpRandomForest\\utils.py\u001B[0m in \u001B[0;36msplit_search\u001B[1;34m(x, y, min_samples_leaf, feature_search)\u001B[0m\n\u001B[0;32m    165\u001B[0m     \u001B[1;31m# Search over features\u001B[0m\u001B[1;33m\u001B[0m\u001B[1;33m\u001B[0m\u001B[0m\n\u001B[0;32m    166\u001B[0m     \u001B[1;32mfor\u001B[0m \u001B[0mfeature_idx\u001B[0m \u001B[1;32min\u001B[0m \u001B[0mfeature_indices\u001B[0m\u001B[1;33m:\u001B[0m\u001B[1;33m\u001B[0m\u001B[1;33m\u001B[0m\u001B[0m\n\u001B[1;32m--> 167\u001B[1;33m         g, s_value, s = split_search_feature(x, y,\n\u001B[0m\u001B[0;32m    168\u001B[0m                                              feature_idx, min_samples_leaf)\n\u001B[0;32m    169\u001B[0m         \u001B[0mgini_scores\u001B[0m\u001B[1;33m.\u001B[0m\u001B[0mappend\u001B[0m\u001B[1;33m(\u001B[0m\u001B[0mg\u001B[0m\u001B[1;33m)\u001B[0m\u001B[1;33m\u001B[0m\u001B[1;33m\u001B[0m\u001B[0m\n",
      "\u001B[1;32m~\\PycharmProjects\\thesis\\NpRandomForest\\utils.py\u001B[0m in \u001B[0;36msplit_search_feature\u001B[1;34m(x, y, feature_idx, min_samples_leaf)\u001B[0m\n\u001B[0;32m    100\u001B[0m     \u001B[1;31m# Greedy search on all input values for relevant feature\u001B[0m\u001B[1;33m\u001B[0m\u001B[1;33m\u001B[0m\u001B[0m\n\u001B[0;32m    101\u001B[0m     \u001B[1;32mfor\u001B[0m \u001B[0msplit_value\u001B[0m \u001B[1;32min\u001B[0m \u001B[0mseries\u001B[0m\u001B[1;33m:\u001B[0m\u001B[1;33m\u001B[0m\u001B[1;33m\u001B[0m\u001B[0m\n\u001B[1;32m--> 102\u001B[1;33m         \u001B[0ms\u001B[0m \u001B[1;33m=\u001B[0m \u001B[0msplit\u001B[0m\u001B[1;33m(\u001B[0m\u001B[0mx\u001B[0m\u001B[1;33m,\u001B[0m \u001B[0my\u001B[0m\u001B[1;33m,\u001B[0m \u001B[0mfeature_idx\u001B[0m\u001B[1;33m,\u001B[0m \u001B[0msplit_value\u001B[0m\u001B[1;33m)\u001B[0m\u001B[1;33m\u001B[0m\u001B[1;33m\u001B[0m\u001B[0m\n\u001B[0m\u001B[0;32m    103\u001B[0m \u001B[1;33m\u001B[0m\u001B[0m\n\u001B[0;32m    104\u001B[0m         \u001B[1;31m# Test if groups hold enough samples, otherwise keep searching\u001B[0m\u001B[1;33m\u001B[0m\u001B[1;33m\u001B[0m\u001B[0m\n",
      "\u001B[1;32m~\\PycharmProjects\\thesis\\NpRandomForest\\utils.py\u001B[0m in \u001B[0;36msplit\u001B[1;34m(x, y, feature_idx, split_value)\u001B[0m\n\u001B[0;32m     54\u001B[0m     \u001B[0mbool_mask\u001B[0m \u001B[1;33m=\u001B[0m \u001B[0mx\u001B[0m\u001B[1;33m[\u001B[0m\u001B[1;33m:\u001B[0m\u001B[1;33m,\u001B[0m \u001B[0mfeature_idx\u001B[0m\u001B[1;33m]\u001B[0m \u001B[1;33m<\u001B[0m \u001B[0msplit_value\u001B[0m\u001B[1;33m\u001B[0m\u001B[1;33m\u001B[0m\u001B[0m\n\u001B[0;32m     55\u001B[0m     \u001B[0mgroup_1\u001B[0m \u001B[1;33m=\u001B[0m \u001B[1;33m(\u001B[0m\u001B[0mx\u001B[0m\u001B[1;33m[\u001B[0m\u001B[0mbool_mask\u001B[0m\u001B[1;33m]\u001B[0m\u001B[1;33m,\u001B[0m \u001B[0my\u001B[0m\u001B[1;33m[\u001B[0m\u001B[0mbool_mask\u001B[0m\u001B[1;33m]\u001B[0m\u001B[1;33m)\u001B[0m\u001B[1;33m\u001B[0m\u001B[1;33m\u001B[0m\u001B[0m\n\u001B[1;32m---> 56\u001B[1;33m     \u001B[0mgroup_2\u001B[0m \u001B[1;33m=\u001B[0m \u001B[1;33m(\u001B[0m\u001B[0mx\u001B[0m\u001B[1;33m[\u001B[0m\u001B[0mbool_mask\u001B[0m \u001B[1;33m==\u001B[0m \u001B[1;36m0\u001B[0m\u001B[1;33m]\u001B[0m\u001B[1;33m,\u001B[0m \u001B[0my\u001B[0m\u001B[1;33m[\u001B[0m\u001B[0mbool_mask\u001B[0m \u001B[1;33m==\u001B[0m \u001B[1;36m0\u001B[0m\u001B[1;33m]\u001B[0m\u001B[1;33m)\u001B[0m\u001B[1;33m\u001B[0m\u001B[1;33m\u001B[0m\u001B[0m\n\u001B[0m\u001B[0;32m     57\u001B[0m     \u001B[1;32mreturn\u001B[0m \u001B[0mgroup_1\u001B[0m\u001B[1;33m,\u001B[0m \u001B[0mgroup_2\u001B[0m\u001B[1;33m\u001B[0m\u001B[1;33m\u001B[0m\u001B[0m\n\u001B[0;32m     58\u001B[0m \u001B[1;33m\u001B[0m\u001B[0m\n",
      "\u001B[1;31mMemoryError\u001B[0m: Unable to allocate 60.5 MiB for an array with shape (6645, 1194) and data type float64"
     ]
    }
   ],
   "source": [
    "%%time\n",
    "# code based on main function of NpRandomForest\n",
    "# Number of features searched by split. Use square root as default.\n",
    "total_features = train_features.shape[1]\n",
    "feature_search = int(np.sqrt(total_features))\n",
    "bootstrap = True # first testing without, since it doesn't work\n",
    "max_depth = 8 # since it's their default max depth, sklearn has no max depth and keeps splittin until pure, so maybe change this to 100\n",
    "no_trees = 100\n",
    "\n",
    "print(f\"Training {no_trees} trees with {feature_search} features per split (of the {total_features} total features) and max depth {max_depth}\")\n",
    "\n",
    "# no_trees = 2 # debugging\n",
    "\n",
    "forest = Forest(max_depth=max_depth, no_trees=no_trees,\n",
    "                min_samples_split=2, min_samples_leaf=1,\n",
    "                feature_search=feature_search, bootstrap=bootstrap)\n",
    "\n",
    "forest.train(train_features, train_label)"
   ],
   "metadata": {
    "collapsed": false,
    "pycharm": {
     "name": "#%%\n"
    }
   }
  },
  {
   "cell_type": "code",
   "execution_count": 17,
   "outputs": [
    {
     "ename": "ValueError",
     "evalue": "attempt to get argmax of an empty sequence",
     "output_type": "error",
     "traceback": [
      "\u001B[1;31m---------------------------------------------------------------------------\u001B[0m",
      "\u001B[1;31mValueError\u001B[0m                                Traceback (most recent call last)",
      "\u001B[1;32m~\\AppData\\Local\\Temp/ipykernel_39764/2074005238.py\u001B[0m in \u001B[0;36m<module>\u001B[1;34m\u001B[0m\n\u001B[0;32m      1\u001B[0m \u001B[1;32massert\u001B[0m \u001B[0mtrain_features\u001B[0m\u001B[1;33m.\u001B[0m\u001B[0mshape\u001B[0m\u001B[1;33m[\u001B[0m\u001B[1;36m1\u001B[0m\u001B[1;33m]\u001B[0m \u001B[1;33m==\u001B[0m \u001B[0mval_features\u001B[0m\u001B[1;33m.\u001B[0m\u001B[0mshape\u001B[0m\u001B[1;33m[\u001B[0m\u001B[1;36m1\u001B[0m\u001B[1;33m]\u001B[0m\u001B[1;33m\u001B[0m\u001B[1;33m\u001B[0m\u001B[0m\n\u001B[1;32m----> 2\u001B[1;33m \u001B[0mtrain_accuracy\u001B[0m \u001B[1;33m=\u001B[0m \u001B[0mforest\u001B[0m\u001B[1;33m.\u001B[0m\u001B[0meval\u001B[0m\u001B[1;33m(\u001B[0m\u001B[0mtrain_features\u001B[0m\u001B[1;33m,\u001B[0m \u001B[0mtrain_label\u001B[0m\u001B[1;33m)\u001B[0m\u001B[1;33m\u001B[0m\u001B[1;33m\u001B[0m\u001B[0m\n\u001B[0m\u001B[0;32m      3\u001B[0m \u001B[0mtest_accuracy\u001B[0m \u001B[1;33m=\u001B[0m \u001B[0mforest\u001B[0m\u001B[1;33m.\u001B[0m\u001B[0meval\u001B[0m\u001B[1;33m(\u001B[0m\u001B[0mval_features\u001B[0m\u001B[1;33m,\u001B[0m \u001B[0mval_label\u001B[0m\u001B[1;33m)\u001B[0m\u001B[1;33m\u001B[0m\u001B[1;33m\u001B[0m\u001B[0m\n\u001B[0;32m      4\u001B[0m \u001B[0mnode_count\u001B[0m \u001B[1;33m=\u001B[0m \u001B[0mforest\u001B[0m\u001B[1;33m.\u001B[0m\u001B[0mnode_count\u001B[0m\u001B[1;33m(\u001B[0m\u001B[1;33m)\u001B[0m\u001B[1;33m\u001B[0m\u001B[1;33m\u001B[0m\u001B[0m\n\u001B[0;32m      5\u001B[0m \u001B[0mprint\u001B[0m\u001B[1;33m(\u001B[0m\u001B[1;34mf\"Train accuracy: {train_accuracy}\"\u001B[0m\u001B[1;33m)\u001B[0m\u001B[1;33m\u001B[0m\u001B[1;33m\u001B[0m\u001B[0m\n",
      "\u001B[1;32m~\\PycharmProjects\\thesis\\NpRandomForest\\Forest.py\u001B[0m in \u001B[0;36meval\u001B[1;34m(self, x, y)\u001B[0m\n\u001B[0;32m     55\u001B[0m         \u001B[1;34m\"\"\"\"Evaluate accuracy on dataset.\"\"\"\u001B[0m\u001B[1;33m\u001B[0m\u001B[1;33m\u001B[0m\u001B[0m\n\u001B[0;32m     56\u001B[0m         \u001B[1;32massert\u001B[0m \u001B[0mx\u001B[0m\u001B[1;33m.\u001B[0m\u001B[0mshape\u001B[0m\u001B[1;33m[\u001B[0m\u001B[1;36m0\u001B[0m\u001B[1;33m]\u001B[0m \u001B[1;33m==\u001B[0m \u001B[0my\u001B[0m\u001B[1;33m.\u001B[0m\u001B[0mshape\u001B[0m\u001B[1;33m[\u001B[0m\u001B[1;36m0\u001B[0m\u001B[1;33m]\u001B[0m\u001B[1;33m,\u001B[0m \u001B[1;34m\"x and y must have same length\"\u001B[0m\u001B[1;33m\u001B[0m\u001B[1;33m\u001B[0m\u001B[0m\n\u001B[1;32m---> 57\u001B[1;33m         \u001B[0mp\u001B[0m \u001B[1;33m=\u001B[0m \u001B[0mself\u001B[0m\u001B[1;33m.\u001B[0m\u001B[0mpredict\u001B[0m\u001B[1;33m(\u001B[0m\u001B[0mx\u001B[0m\u001B[1;33m)\u001B[0m\u001B[1;33m\u001B[0m\u001B[1;33m\u001B[0m\u001B[0m\n\u001B[0m\u001B[0;32m     58\u001B[0m         \u001B[1;32mreturn\u001B[0m \u001B[0mnp\u001B[0m\u001B[1;33m.\u001B[0m\u001B[0msum\u001B[0m\u001B[1;33m(\u001B[0m\u001B[0mp\u001B[0m \u001B[1;33m==\u001B[0m \u001B[0my\u001B[0m\u001B[1;33m)\u001B[0m \u001B[1;33m/\u001B[0m \u001B[0mx\u001B[0m\u001B[1;33m.\u001B[0m\u001B[0mshape\u001B[0m\u001B[1;33m[\u001B[0m\u001B[1;36m0\u001B[0m\u001B[1;33m]\u001B[0m\u001B[1;33m\u001B[0m\u001B[1;33m\u001B[0m\u001B[0m\n\u001B[0;32m     59\u001B[0m \u001B[1;33m\u001B[0m\u001B[0m\n",
      "\u001B[1;32m~\\PycharmProjects\\thesis\\NpRandomForest\\Forest.py\u001B[0m in \u001B[0;36mpredict\u001B[1;34m(self, x)\u001B[0m\n\u001B[0;32m     60\u001B[0m     \u001B[1;32mdef\u001B[0m \u001B[0mpredict\u001B[0m\u001B[1;33m(\u001B[0m\u001B[0mself\u001B[0m\u001B[1;33m,\u001B[0m \u001B[0mx\u001B[0m\u001B[1;33m)\u001B[0m\u001B[1;33m:\u001B[0m\u001B[1;33m\u001B[0m\u001B[1;33m\u001B[0m\u001B[0m\n\u001B[0;32m     61\u001B[0m         \u001B[1;34m\"\"\"Return predicted labels for given inputs.\"\"\"\u001B[0m\u001B[1;33m\u001B[0m\u001B[1;33m\u001B[0m\u001B[0m\n\u001B[1;32m---> 62\u001B[1;33m         \u001B[1;32mreturn\u001B[0m \u001B[0mnp\u001B[0m\u001B[1;33m.\u001B[0m\u001B[0marray\u001B[0m\u001B[1;33m(\u001B[0m\u001B[1;33m[\u001B[0m\u001B[0mself\u001B[0m\u001B[1;33m.\u001B[0m\u001B[0m_aggregate\u001B[0m\u001B[1;33m(\u001B[0m\u001B[0mx\u001B[0m\u001B[1;33m[\u001B[0m\u001B[0mi\u001B[0m\u001B[1;33m]\u001B[0m\u001B[1;33m)\u001B[0m \u001B[1;32mfor\u001B[0m \u001B[0mi\u001B[0m \u001B[1;32min\u001B[0m \u001B[0mrange\u001B[0m\u001B[1;33m(\u001B[0m\u001B[0mx\u001B[0m\u001B[1;33m.\u001B[0m\u001B[0mshape\u001B[0m\u001B[1;33m[\u001B[0m\u001B[1;36m0\u001B[0m\u001B[1;33m]\u001B[0m\u001B[1;33m)\u001B[0m\u001B[1;33m]\u001B[0m\u001B[1;33m)\u001B[0m\u001B[1;33m\u001B[0m\u001B[1;33m\u001B[0m\u001B[0m\n\u001B[0m\u001B[0;32m     63\u001B[0m \u001B[1;33m\u001B[0m\u001B[0m\n\u001B[0;32m     64\u001B[0m     \u001B[1;32mdef\u001B[0m \u001B[0m_aggregate\u001B[0m\u001B[1;33m(\u001B[0m\u001B[0mself\u001B[0m\u001B[1;33m,\u001B[0m \u001B[0mx\u001B[0m\u001B[1;33m)\u001B[0m\u001B[1;33m:\u001B[0m\u001B[1;33m\u001B[0m\u001B[1;33m\u001B[0m\u001B[0m\n",
      "\u001B[1;32m~\\PycharmProjects\\thesis\\NpRandomForest\\Forest.py\u001B[0m in \u001B[0;36m<listcomp>\u001B[1;34m(.0)\u001B[0m\n\u001B[0;32m     60\u001B[0m     \u001B[1;32mdef\u001B[0m \u001B[0mpredict\u001B[0m\u001B[1;33m(\u001B[0m\u001B[0mself\u001B[0m\u001B[1;33m,\u001B[0m \u001B[0mx\u001B[0m\u001B[1;33m)\u001B[0m\u001B[1;33m:\u001B[0m\u001B[1;33m\u001B[0m\u001B[1;33m\u001B[0m\u001B[0m\n\u001B[0;32m     61\u001B[0m         \u001B[1;34m\"\"\"Return predicted labels for given inputs.\"\"\"\u001B[0m\u001B[1;33m\u001B[0m\u001B[1;33m\u001B[0m\u001B[0m\n\u001B[1;32m---> 62\u001B[1;33m         \u001B[1;32mreturn\u001B[0m \u001B[0mnp\u001B[0m\u001B[1;33m.\u001B[0m\u001B[0marray\u001B[0m\u001B[1;33m(\u001B[0m\u001B[1;33m[\u001B[0m\u001B[0mself\u001B[0m\u001B[1;33m.\u001B[0m\u001B[0m_aggregate\u001B[0m\u001B[1;33m(\u001B[0m\u001B[0mx\u001B[0m\u001B[1;33m[\u001B[0m\u001B[0mi\u001B[0m\u001B[1;33m]\u001B[0m\u001B[1;33m)\u001B[0m \u001B[1;32mfor\u001B[0m \u001B[0mi\u001B[0m \u001B[1;32min\u001B[0m \u001B[0mrange\u001B[0m\u001B[1;33m(\u001B[0m\u001B[0mx\u001B[0m\u001B[1;33m.\u001B[0m\u001B[0mshape\u001B[0m\u001B[1;33m[\u001B[0m\u001B[1;36m0\u001B[0m\u001B[1;33m]\u001B[0m\u001B[1;33m)\u001B[0m\u001B[1;33m]\u001B[0m\u001B[1;33m)\u001B[0m\u001B[1;33m\u001B[0m\u001B[1;33m\u001B[0m\u001B[0m\n\u001B[0m\u001B[0;32m     63\u001B[0m \u001B[1;33m\u001B[0m\u001B[0m\n\u001B[0;32m     64\u001B[0m     \u001B[1;32mdef\u001B[0m \u001B[0m_aggregate\u001B[0m\u001B[1;33m(\u001B[0m\u001B[0mself\u001B[0m\u001B[1;33m,\u001B[0m \u001B[0mx\u001B[0m\u001B[1;33m)\u001B[0m\u001B[1;33m:\u001B[0m\u001B[1;33m\u001B[0m\u001B[1;33m\u001B[0m\u001B[0m\n",
      "\u001B[1;32m~\\PycharmProjects\\thesis\\NpRandomForest\\Forest.py\u001B[0m in \u001B[0;36m_aggregate\u001B[1;34m(self, x)\u001B[0m\n\u001B[0;32m     76\u001B[0m \u001B[1;33m\u001B[0m\u001B[0m\n\u001B[0;32m     77\u001B[0m         \u001B[1;31m# Return class with max count\u001B[0m\u001B[1;33m\u001B[0m\u001B[1;33m\u001B[0m\u001B[0m\n\u001B[1;32m---> 78\u001B[1;33m         \u001B[1;32mreturn\u001B[0m \u001B[0m_classes\u001B[0m\u001B[1;33m[\u001B[0m\u001B[0mnp\u001B[0m\u001B[1;33m.\u001B[0m\u001B[0margmax\u001B[0m\u001B[1;33m(\u001B[0m\u001B[0mcounts\u001B[0m\u001B[1;33m)\u001B[0m\u001B[1;33m]\u001B[0m\u001B[1;33m\u001B[0m\u001B[1;33m\u001B[0m\u001B[0m\n\u001B[0m\u001B[0;32m     79\u001B[0m \u001B[1;33m\u001B[0m\u001B[0m\n\u001B[0;32m     80\u001B[0m     \u001B[1;32mdef\u001B[0m \u001B[0mnode_count\u001B[0m\u001B[1;33m(\u001B[0m\u001B[0mself\u001B[0m\u001B[1;33m)\u001B[0m\u001B[1;33m:\u001B[0m\u001B[1;33m\u001B[0m\u001B[1;33m\u001B[0m\u001B[0m\n",
      "\u001B[1;32m~\\AppData\\Roaming\\Python\\Python39\\site-packages\\numpy\\core\\overrides.py\u001B[0m in \u001B[0;36margmax\u001B[1;34m(*args, **kwargs)\u001B[0m\n",
      "\u001B[1;32m~\\AppData\\Roaming\\Python\\Python39\\site-packages\\numpy\\core\\fromnumeric.py\u001B[0m in \u001B[0;36margmax\u001B[1;34m(a, axis, out, keepdims)\u001B[0m\n\u001B[0;32m   1214\u001B[0m     \"\"\"\n\u001B[0;32m   1215\u001B[0m     \u001B[0mkwds\u001B[0m \u001B[1;33m=\u001B[0m \u001B[1;33m{\u001B[0m\u001B[1;34m'keepdims'\u001B[0m\u001B[1;33m:\u001B[0m \u001B[0mkeepdims\u001B[0m\u001B[1;33m}\u001B[0m \u001B[1;32mif\u001B[0m \u001B[0mkeepdims\u001B[0m \u001B[1;32mis\u001B[0m \u001B[1;32mnot\u001B[0m \u001B[0mnp\u001B[0m\u001B[1;33m.\u001B[0m\u001B[0m_NoValue\u001B[0m \u001B[1;32melse\u001B[0m \u001B[1;33m{\u001B[0m\u001B[1;33m}\u001B[0m\u001B[1;33m\u001B[0m\u001B[1;33m\u001B[0m\u001B[0m\n\u001B[1;32m-> 1216\u001B[1;33m     \u001B[1;32mreturn\u001B[0m \u001B[0m_wrapfunc\u001B[0m\u001B[1;33m(\u001B[0m\u001B[0ma\u001B[0m\u001B[1;33m,\u001B[0m \u001B[1;34m'argmax'\u001B[0m\u001B[1;33m,\u001B[0m \u001B[0maxis\u001B[0m\u001B[1;33m=\u001B[0m\u001B[0maxis\u001B[0m\u001B[1;33m,\u001B[0m \u001B[0mout\u001B[0m\u001B[1;33m=\u001B[0m\u001B[0mout\u001B[0m\u001B[1;33m,\u001B[0m \u001B[1;33m**\u001B[0m\u001B[0mkwds\u001B[0m\u001B[1;33m)\u001B[0m\u001B[1;33m\u001B[0m\u001B[1;33m\u001B[0m\u001B[0m\n\u001B[0m\u001B[0;32m   1217\u001B[0m \u001B[1;33m\u001B[0m\u001B[0m\n\u001B[0;32m   1218\u001B[0m \u001B[1;33m\u001B[0m\u001B[0m\n",
      "\u001B[1;32m~\\AppData\\Roaming\\Python\\Python39\\site-packages\\numpy\\core\\fromnumeric.py\u001B[0m in \u001B[0;36m_wrapfunc\u001B[1;34m(obj, method, *args, **kwds)\u001B[0m\n\u001B[0;32m     55\u001B[0m \u001B[1;33m\u001B[0m\u001B[0m\n\u001B[0;32m     56\u001B[0m     \u001B[1;32mtry\u001B[0m\u001B[1;33m:\u001B[0m\u001B[1;33m\u001B[0m\u001B[1;33m\u001B[0m\u001B[0m\n\u001B[1;32m---> 57\u001B[1;33m         \u001B[1;32mreturn\u001B[0m \u001B[0mbound\u001B[0m\u001B[1;33m(\u001B[0m\u001B[1;33m*\u001B[0m\u001B[0margs\u001B[0m\u001B[1;33m,\u001B[0m \u001B[1;33m**\u001B[0m\u001B[0mkwds\u001B[0m\u001B[1;33m)\u001B[0m\u001B[1;33m\u001B[0m\u001B[1;33m\u001B[0m\u001B[0m\n\u001B[0m\u001B[0;32m     58\u001B[0m     \u001B[1;32mexcept\u001B[0m \u001B[0mTypeError\u001B[0m\u001B[1;33m:\u001B[0m\u001B[1;33m\u001B[0m\u001B[1;33m\u001B[0m\u001B[0m\n\u001B[0;32m     59\u001B[0m         \u001B[1;31m# A TypeError occurs if the object does have such a method in its\u001B[0m\u001B[1;33m\u001B[0m\u001B[1;33m\u001B[0m\u001B[0m\n",
      "\u001B[1;31mValueError\u001B[0m: attempt to get argmax of an empty sequence"
     ]
    }
   ],
   "source": [
    "assert train_features.shape[1] == val_features.shape[1]\n",
    "train_accuracy = forest.eval(train_features, train_label)\n",
    "test_accuracy = forest.eval(val_features, val_label)\n",
    "node_count = forest.node_count()\n",
    "print(f\"Train accuracy: {train_accuracy}\")\n",
    "print(f\"Test accuracy: {test_accuracy}\")\n",
    "print(f\"Node count: {node_count}\")\n",
    "print(f\"Train samples: {train_features.shape[0]}\")\n",
    "print(f\"Test samples: {val_features.shape[0]}\")"
   ],
   "metadata": {
    "collapsed": false,
    "pycharm": {
     "name": "#%%\n"
    }
   }
  },
  {
   "cell_type": "markdown",
   "source": [
    "MemoryError, this implementation is probably not suitable for datasets of this size. [This stackexchange post](https://stats.stackexchange.com/questions/26510/how-to-implement-a-customized-random-forest-classifier) suggests editting the sklearn code."
   ],
   "metadata": {
    "collapsed": false,
    "pycharm": {
     "name": "#%% md\n"
    }
   }
  },
  {
   "cell_type": "markdown",
   "source": [
    "\n"
   ],
   "metadata": {
    "collapsed": false,
    "pycharm": {
     "name": "#%% md\n"
    }
   }
  }
 ],
 "metadata": {
  "kernelspec": {
   "display_name": "Python 3",
   "language": "python",
   "name": "python3"
  },
  "language_info": {
   "codemirror_mode": {
    "name": "ipython",
    "version": 2
   },
   "file_extension": ".py",
   "mimetype": "text/x-python",
   "name": "python",
   "nbconvert_exporter": "python",
   "pygments_lexer": "ipython2",
   "version": "2.7.6"
  }
 },
 "nbformat": 4,
 "nbformat_minor": 0
}