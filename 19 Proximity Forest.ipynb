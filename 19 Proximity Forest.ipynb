{
 "cells": [
  {
   "cell_type": "markdown",
   "source": [
    "# Proximity Forest\n",
    "> Ik was Bart Goethals tegengekomen dit weekend en we hadden het toevallig over dit project.\n",
    "Hij had me aangeraden dat we eens naar proximity forests moesten kijken:\n",
    "https://link.springer.com/article/10.1007/s10618-019-00617-3\n",
    "\n",
    "An implementation can be found [here](https://github.com/moradabaz/ProximityForests-python).\n"
   ],
   "metadata": {
    "collapsed": false
   }
  },
  {
   "cell_type": "code",
   "execution_count": null,
   "outputs": [],
   "source": [
    "import tcrdist.repertoire\n",
    "!pip install Pforests-dtw"
   ],
   "metadata": {
    "collapsed": false
   }
  },
  {
   "cell_type": "markdown",
   "source": [
    "I installed it, but it addes a lot of imports not linked to each other (e.g. trees, core, datastructures, ...), will probably clash somewhere with other libraries."
   ],
   "metadata": {
    "collapsed": false
   }
  },
  {
   "cell_type": "code",
   "execution_count": 17,
   "outputs": [
    {
     "name": "stdout",
     "output_type": "stream",
     "text": [
      "FICHERO: <_io.TextIOWrapper name='data/planes/Plane_TRAIN.arff' mode='r' encoding='cp1252'>\n",
      "Reading File: [ data/planes/Plane_TRAIN.arff ]\n",
      "finished in 0.008998394012451172 seconds\n",
      "FICHERO: <_io.TextIOWrapper name='data/planes/Plane_TEST.arff' mode='r' encoding='cp1252'>\n",
      "Reading File: [ data/planes/Plane_TEST.arff ]\n",
      "finished in 0.009997844696044922 seconds\n",
      "Training dataStructures ...\n"
     ]
    },
    {
     "name": "stderr",
     "output_type": "stream",
     "text": [
      "100%|██████████| 100/100 [00:03<00:00, 31.14it/s]\n"
     ]
    },
    {
     "name": "stdout",
     "output_type": "stream",
     "text": [
      "\n",
      "0.9714285714285714\n"
     ]
    }
   ],
   "source": [
    "from trees import ProximityForest\n",
    "from core import FileReader\n",
    "import random\n",
    "\n",
    "train_dataset = FileReader.FileReader.load_arff_data(\"data/planes/Plane_TRAIN.arff\")\n",
    "test_dataset = FileReader.FileReader.load_arff_data(\"data/planes/Plane_TEST.arff\")\n",
    "\n",
    "Pforest = ProximityForest.ProximityForest(1, n_trees=100, n_candidates=5)\n",
    "Pforest.train(train_dataset)\n",
    "results = Pforest.test(test_dataset)\n",
    "print(results.accuracy)"
   ],
   "metadata": {
    "collapsed": false
   }
  },
  {
   "cell_type": "code",
   "execution_count": 26,
   "outputs": [
    {
     "data": {
      "text/plain": "          CDR3_alfa      TRAV    TRAJ          CDR3_beta      TRBV     TRBJ  \\\n0               NaN       NaN     NaN  CSARDGSGARSNQPQHF  TRBV20-1  TRBJ1-5   \n1               NaN       NaN     NaN     CASSSGTGTSEQYF   TRBV5-1  TRBJ2-7   \n2  CAFMKQRGGGADGLTF  TRAV38-1  TRAJ45    CASSISSGRGNEQFF    TRBV19  TRBJ2-1   \n3    CRNAGGTSYGKLTF    TRAV25  TRAJ52   CASSSHQRTGVDEQFF    TRBV27  TRBJ2-1   \n4               NaN       NaN     NaN  CASSPGPSGGLTYEQYF   TRBV5-4  TRBJ2-7   \n\n   reaction TRAJ_family  TRAJ_version TRAV_family TRAV_version TRBV_family  \\\n0         0         NaN           NaN         NaN          NaN      TRBV20   \n1         0         NaN           NaN         NaN          NaN       TRBV5   \n2         0      TRAJ45           1.0      TRAV38            1      TRBV19   \n3         1      TRAJ52           1.0      TRAV25            1      TRBV27   \n4         0         NaN           NaN         NaN          NaN       TRBV5   \n\n   TRBV_version TRBJ_family  TRBJ_version  \n0           1.0       TRBJ1           5.0  \n1           1.0       TRBJ2           7.0  \n2           1.0       TRBJ2           1.0  \n3           1.0       TRBJ2           1.0  \n4           4.0       TRBJ2           7.0  ",
      "text/html": "<div>\n<style scoped>\n    .dataframe tbody tr th:only-of-type {\n        vertical-align: middle;\n    }\n\n    .dataframe tbody tr th {\n        vertical-align: top;\n    }\n\n    .dataframe thead th {\n        text-align: right;\n    }\n</style>\n<table border=\"1\" class=\"dataframe\">\n  <thead>\n    <tr style=\"text-align: right;\">\n      <th></th>\n      <th>CDR3_alfa</th>\n      <th>TRAV</th>\n      <th>TRAJ</th>\n      <th>CDR3_beta</th>\n      <th>TRBV</th>\n      <th>TRBJ</th>\n      <th>reaction</th>\n      <th>TRAJ_family</th>\n      <th>TRAJ_version</th>\n      <th>TRAV_family</th>\n      <th>TRAV_version</th>\n      <th>TRBV_family</th>\n      <th>TRBV_version</th>\n      <th>TRBJ_family</th>\n      <th>TRBJ_version</th>\n    </tr>\n  </thead>\n  <tbody>\n    <tr>\n      <th>0</th>\n      <td>NaN</td>\n      <td>NaN</td>\n      <td>NaN</td>\n      <td>CSARDGSGARSNQPQHF</td>\n      <td>TRBV20-1</td>\n      <td>TRBJ1-5</td>\n      <td>0</td>\n      <td>NaN</td>\n      <td>NaN</td>\n      <td>NaN</td>\n      <td>NaN</td>\n      <td>TRBV20</td>\n      <td>1.0</td>\n      <td>TRBJ1</td>\n      <td>5.0</td>\n    </tr>\n    <tr>\n      <th>1</th>\n      <td>NaN</td>\n      <td>NaN</td>\n      <td>NaN</td>\n      <td>CASSSGTGTSEQYF</td>\n      <td>TRBV5-1</td>\n      <td>TRBJ2-7</td>\n      <td>0</td>\n      <td>NaN</td>\n      <td>NaN</td>\n      <td>NaN</td>\n      <td>NaN</td>\n      <td>TRBV5</td>\n      <td>1.0</td>\n      <td>TRBJ2</td>\n      <td>7.0</td>\n    </tr>\n    <tr>\n      <th>2</th>\n      <td>CAFMKQRGGGADGLTF</td>\n      <td>TRAV38-1</td>\n      <td>TRAJ45</td>\n      <td>CASSISSGRGNEQFF</td>\n      <td>TRBV19</td>\n      <td>TRBJ2-1</td>\n      <td>0</td>\n      <td>TRAJ45</td>\n      <td>1.0</td>\n      <td>TRAV38</td>\n      <td>1</td>\n      <td>TRBV19</td>\n      <td>1.0</td>\n      <td>TRBJ2</td>\n      <td>1.0</td>\n    </tr>\n    <tr>\n      <th>3</th>\n      <td>CRNAGGTSYGKLTF</td>\n      <td>TRAV25</td>\n      <td>TRAJ52</td>\n      <td>CASSSHQRTGVDEQFF</td>\n      <td>TRBV27</td>\n      <td>TRBJ2-1</td>\n      <td>1</td>\n      <td>TRAJ52</td>\n      <td>1.0</td>\n      <td>TRAV25</td>\n      <td>1</td>\n      <td>TRBV27</td>\n      <td>1.0</td>\n      <td>TRBJ2</td>\n      <td>1.0</td>\n    </tr>\n    <tr>\n      <th>4</th>\n      <td>NaN</td>\n      <td>NaN</td>\n      <td>NaN</td>\n      <td>CASSPGPSGGLTYEQYF</td>\n      <td>TRBV5-4</td>\n      <td>TRBJ2-7</td>\n      <td>0</td>\n      <td>NaN</td>\n      <td>NaN</td>\n      <td>NaN</td>\n      <td>NaN</td>\n      <td>TRBV5</td>\n      <td>4.0</td>\n      <td>TRBJ2</td>\n      <td>7.0</td>\n    </tr>\n  </tbody>\n</table>\n</div>"
     },
     "execution_count": 26,
     "metadata": {},
     "output_type": "execute_result"
    }
   ],
   "source": [
    "# This only allows some specific formats, let's see if we can change our data to a supported format\n",
    "from util import get_train_dataset, get_test_dataset\n",
    "train_df = get_train_dataset()\n",
    "# train_df = train_df.sample(100)\n",
    "train_df.head()"
   ],
   "metadata": {
    "collapsed": false
   }
  },
  {
   "cell_type": "code",
   "execution_count": 27,
   "outputs": [],
   "source": [
    "# Split into train and validation\n",
    "from sklearn.model_selection import train_test_split\n",
    "train_df, val_df = train_test_split(train_df, test_size=0.2, random_state=42)"
   ],
   "metadata": {
    "collapsed": false
   }
  },
  {
   "cell_type": "code",
   "execution_count": 28,
   "outputs": [],
   "source": [
    "# Dropping for testing Todo remove\n",
    "train_df.dropna(inplace=True)\n",
    "val_df.dropna(inplace=True)"
   ],
   "metadata": {
    "collapsed": false
   }
  },
  {
   "cell_type": "code",
   "execution_count": 29,
   "outputs": [
    {
     "name": "stdout",
     "output_type": "stream",
     "text": [
      "Removed 0 rows from validation set (0.00%)\n"
     ]
    },
    {
     "data": {
      "text/plain": "   beta_J=TRBJ1-1  beta_J=TRBJ1-2  beta_J=TRBJ1-3  beta_J=TRBJ1-4  \\\n0             0.0             0.0             0.0             0.0   \n1             0.0             0.0             0.0             0.0   \n2             0.0             0.0             0.0             0.0   \n3             1.0             0.0             0.0             0.0   \n4             0.0             0.0             0.0             0.0   \n\n   beta_J=TRBJ1-5  beta_J=TRBJ1-6  beta_J=TRBJ2-1  beta_J=TRBJ2-2  \\\n0             0.0             0.0             0.0             0.0   \n1             0.0             0.0             0.0             0.0   \n2             0.0             0.0             0.0             0.0   \n3             0.0             0.0             0.0             0.0   \n4             0.0             0.0             0.0             0.0   \n\n   beta_J=TRBJ2-3  beta_J=TRBJ2-4  ...  alfa_pos_-8_pI  alfa_pos_8_pI  \\\n0             0.0             0.0  ...             0.0            0.0   \n1             0.0             0.0  ...             0.0            0.0   \n2             0.0             0.0  ...             0.0            0.0   \n3             0.0             0.0  ...             0.0            0.0   \n4             0.0             0.0  ...             0.0            0.0   \n\n   alfa_pos_-9_pI  alfa_pos_9_pI  alfa_pos_-11_pI  alfa_pos_-10_pI  \\\n0             0.0            0.0              0.0              0.0   \n1             0.0            0.0              0.0              0.0   \n2             0.0            0.0              0.0              0.0   \n3             0.0            0.0              0.0              0.0   \n4             0.0            0.0              0.0              0.0   \n\n   alfa_pos_10_pI  alfa_pos_11_pI  alfa_pos_-12_pI  alfa_pos_12_pI  \n0             0.0             0.0              0.0             0.0  \n1             0.0             0.0              0.0             0.0  \n2             0.0             0.0              0.0             0.0  \n3             0.0             0.0              0.0             0.0  \n4             0.0             0.0              0.0             0.0  \n\n[5 rows x 1072 columns]",
      "text/html": "<div>\n<style scoped>\n    .dataframe tbody tr th:only-of-type {\n        vertical-align: middle;\n    }\n\n    .dataframe tbody tr th {\n        vertical-align: top;\n    }\n\n    .dataframe thead th {\n        text-align: right;\n    }\n</style>\n<table border=\"1\" class=\"dataframe\">\n  <thead>\n    <tr style=\"text-align: right;\">\n      <th></th>\n      <th>beta_J=TRBJ1-1</th>\n      <th>beta_J=TRBJ1-2</th>\n      <th>beta_J=TRBJ1-3</th>\n      <th>beta_J=TRBJ1-4</th>\n      <th>beta_J=TRBJ1-5</th>\n      <th>beta_J=TRBJ1-6</th>\n      <th>beta_J=TRBJ2-1</th>\n      <th>beta_J=TRBJ2-2</th>\n      <th>beta_J=TRBJ2-3</th>\n      <th>beta_J=TRBJ2-4</th>\n      <th>...</th>\n      <th>alfa_pos_-8_pI</th>\n      <th>alfa_pos_8_pI</th>\n      <th>alfa_pos_-9_pI</th>\n      <th>alfa_pos_9_pI</th>\n      <th>alfa_pos_-11_pI</th>\n      <th>alfa_pos_-10_pI</th>\n      <th>alfa_pos_10_pI</th>\n      <th>alfa_pos_11_pI</th>\n      <th>alfa_pos_-12_pI</th>\n      <th>alfa_pos_12_pI</th>\n    </tr>\n  </thead>\n  <tbody>\n    <tr>\n      <th>0</th>\n      <td>0.0</td>\n      <td>0.0</td>\n      <td>0.0</td>\n      <td>0.0</td>\n      <td>0.0</td>\n      <td>0.0</td>\n      <td>0.0</td>\n      <td>0.0</td>\n      <td>0.0</td>\n      <td>0.0</td>\n      <td>...</td>\n      <td>0.0</td>\n      <td>0.0</td>\n      <td>0.0</td>\n      <td>0.0</td>\n      <td>0.0</td>\n      <td>0.0</td>\n      <td>0.0</td>\n      <td>0.0</td>\n      <td>0.0</td>\n      <td>0.0</td>\n    </tr>\n    <tr>\n      <th>1</th>\n      <td>0.0</td>\n      <td>0.0</td>\n      <td>0.0</td>\n      <td>0.0</td>\n      <td>0.0</td>\n      <td>0.0</td>\n      <td>0.0</td>\n      <td>0.0</td>\n      <td>0.0</td>\n      <td>0.0</td>\n      <td>...</td>\n      <td>0.0</td>\n      <td>0.0</td>\n      <td>0.0</td>\n      <td>0.0</td>\n      <td>0.0</td>\n      <td>0.0</td>\n      <td>0.0</td>\n      <td>0.0</td>\n      <td>0.0</td>\n      <td>0.0</td>\n    </tr>\n    <tr>\n      <th>2</th>\n      <td>0.0</td>\n      <td>0.0</td>\n      <td>0.0</td>\n      <td>0.0</td>\n      <td>0.0</td>\n      <td>0.0</td>\n      <td>0.0</td>\n      <td>0.0</td>\n      <td>0.0</td>\n      <td>0.0</td>\n      <td>...</td>\n      <td>0.0</td>\n      <td>0.0</td>\n      <td>0.0</td>\n      <td>0.0</td>\n      <td>0.0</td>\n      <td>0.0</td>\n      <td>0.0</td>\n      <td>0.0</td>\n      <td>0.0</td>\n      <td>0.0</td>\n    </tr>\n    <tr>\n      <th>3</th>\n      <td>1.0</td>\n      <td>0.0</td>\n      <td>0.0</td>\n      <td>0.0</td>\n      <td>0.0</td>\n      <td>0.0</td>\n      <td>0.0</td>\n      <td>0.0</td>\n      <td>0.0</td>\n      <td>0.0</td>\n      <td>...</td>\n      <td>0.0</td>\n      <td>0.0</td>\n      <td>0.0</td>\n      <td>0.0</td>\n      <td>0.0</td>\n      <td>0.0</td>\n      <td>0.0</td>\n      <td>0.0</td>\n      <td>0.0</td>\n      <td>0.0</td>\n    </tr>\n    <tr>\n      <th>4</th>\n      <td>0.0</td>\n      <td>0.0</td>\n      <td>0.0</td>\n      <td>0.0</td>\n      <td>0.0</td>\n      <td>0.0</td>\n      <td>0.0</td>\n      <td>0.0</td>\n      <td>0.0</td>\n      <td>0.0</td>\n      <td>...</td>\n      <td>0.0</td>\n      <td>0.0</td>\n      <td>0.0</td>\n      <td>0.0</td>\n      <td>0.0</td>\n      <td>0.0</td>\n      <td>0.0</td>\n      <td>0.0</td>\n      <td>0.0</td>\n      <td>0.0</td>\n    </tr>\n  </tbody>\n</table>\n<p>5 rows × 1072 columns</p>\n</div>"
     },
     "execution_count": 29,
     "metadata": {},
     "output_type": "execute_result"
    }
   ],
   "source": [
    "# Convert to features\n",
    "from util import get_features\n",
    "import numpy as np\n",
    "train_features = get_features(train_df)\n",
    "val_features = get_features(val_df, test=True)\n",
    "train_label = train_df['reaction']\n",
    "\n",
    "# add nan labels to features (so we can drop them together)\n",
    "val_features.reset_index(drop=True, inplace=True)\n",
    "val_label = val_df['reaction'].reset_index(drop=True)\n",
    "assert len(val_features) == len(val_label)\n",
    "val_features['reaction'] = val_label\n",
    "\n",
    "# remove nan rows from val_features\n",
    "val_count = len(val_features)\n",
    "val_features = val_features.dropna()\n",
    "val_count = val_count - val_features.shape[0]\n",
    "print(f\"Removed {val_count} rows from validation set ({val_count/val_df.shape[0]*100:.2f}%)\")\n",
    "\n",
    "train_features.head()"
   ],
   "metadata": {
    "collapsed": false
   }
  },
  {
   "cell_type": "code",
   "execution_count": 30,
   "outputs": [],
   "source": [
    "# lets modify their readCSVToListDataset function to support reading from a dataframe\n",
    "from dataStructures import ListDataset\n",
    "import pandas as pd\n",
    "import time\n",
    "\n",
    "def readDataframeToListDataset(features_df, labels_df=None, label_col_name=None):\n",
    "    \"\"\"\"\n",
    "    Read a pandas dataframe to a ListDataset\n",
    "    :param features_df: pandas dataframe with features (and labels if labels_df is None)\n",
    "    :param labels_df: pandas dataframe with labels\n",
    "    :param label_col_name: name of the column with the labels (if labels_df is None)\n",
    "    :return: ListDataset\n",
    "    \"\"\"\n",
    "\n",
    "    if labels_df is None:\n",
    "        assert label_col_name is not None, \"label_col_name must be specified if labels_df is None\"\n",
    "        labels_df = features_df[label_col_name]\n",
    "        features_df = features_df.drop(label_col_name, axis=1)\n",
    "\n",
    "    assert len(features_df) == len(labels_df), \"features_df and labels_df must have the same length\"\n",
    "    assert np.isnan(labels_df).sum() == 0, \"NaN values in labels_df\"\n",
    "\n",
    "    df = features_df.reset_index(drop=True)\n",
    "    assert 'target' not in df.columns, \"'target' column already exists in features_df. Please rename it or specify using label_col_name.\"\n",
    "    df['target'] = labels_df.reset_index(drop=True)\n",
    "\n",
    "    start = time.time()\n",
    "    dataset = ListDataset.ListDataset()\n",
    "\n",
    "    for index, row in df.iterrows():\n",
    "        series = row.values[:-1]\n",
    "        label = row.values[-1]\n",
    "        if label not in [0, 1]:\n",
    "            raise ValueError(\"Label must be 0 or 1\")\n",
    "        assert not np.isnan(label), \"Label cannot be NaN\"\n",
    "        dataset.add_series(label, series)\n",
    "\n",
    "    end = time.time()\n",
    "    elapsed = end - start\n",
    "    print(f\"Parsing process finished in {elapsed} seconds\")\n",
    "\n",
    "    return dataset"
   ],
   "metadata": {
    "collapsed": false
   }
  },
  {
   "cell_type": "code",
   "execution_count": 31,
   "outputs": [
    {
     "name": "stdout",
     "output_type": "stream",
     "text": [
      "Parsing process finished in 0.1159982681274414 seconds\n",
      "Parsing process finished in 0.02702808380126953 seconds\n"
     ]
    }
   ],
   "source": [
    "train_dataset = readDataframeToListDataset(train_features, labels_df=train_label)\n",
    "val_dataset = readDataframeToListDataset(val_features, label_col_name='reaction')"
   ],
   "metadata": {
    "collapsed": false
   }
  },
  {
   "cell_type": "code",
   "execution_count": 37,
   "outputs": [
    {
     "name": "stdout",
     "output_type": "stream",
     "text": [
      "Training dataStructures ...\n"
     ]
    },
    {
     "name": "stderr",
     "output_type": "stream",
     "text": [
      "100%|██████████| 100/100 [20:49<00:00, 12.49s/it]\n"
     ]
    },
    {
     "name": "stdout",
     "output_type": "stream",
     "text": [
      "\n",
      "0.5855855855855856\n",
      "Wall time: 30min 40s\n"
     ]
    }
   ],
   "source": [
    "%%time\n",
    "Pforest = ProximityForest.ProximityForest(1, n_trees=100, n_candidates=5)#todo: 100  trees\n",
    "Pforest.train(train_dataset)\n",
    "results = Pforest.test(val_dataset)\n",
    "print(results.accuracy)"
   ],
   "metadata": {
    "collapsed": false
   }
  },
  {
   "cell_type": "code",
   "execution_count": 38,
   "outputs": [
    {
     "name": "stdout",
     "output_type": "stream",
     "text": [
      "Training time: 1249.0095235 ( time.struct_time(tm_year=1970, tm_mon=1, tm_mday=1, tm_hour=1, tm_min=20, tm_sec=49, tm_wday=3, tm_yday=1, tm_isdst=0) )\n",
      "Correct(TP+TN): 390 incorrect(FP+FN) 276\n",
      "Accuracy: 0.5855855855855856\n",
      "REPEAT: 2 , GILGFVFTIL (train nans removed)\n",
      ", accuracy 0.5855855855855856\n",
      ", elapsed time train 0.0012490095234999998\n",
      ", elapsed time test 0.0005913592830000002\n",
      ", mean depth tree 20.52\n",
      "\n"
     ]
    }
   ],
   "source": [
    "results.print_results(dataset_name=\"GILGFVFTIL (train nans removed)\", experiment_id=1, prefix=\"\")"
   ],
   "metadata": {
    "collapsed": false
   }
  },
  {
   "cell_type": "markdown",
   "source": [
    "### 2 trees\n",
    "Training time: 24.733337300000017 ( time.struct_time(tm_year=1970, tm_mon=1, tm_mday=1, tm_hour=1, tm_min=0, tm_sec=24, tm_wday=3, tm_yday=1, tm_isdst=0) )\n",
    "Correct(TP+TN): 300 incorrect(FP+FN) 366\n",
    "Accuracy: 0.45045045045045046\n",
    "REPEAT: 2 , GILGFVFTIL (train nans removed)\n",
    ", accuracy 0.45045045045045046\n",
    ", elapsed time train 2.4733337300000015e-05\n",
    ", elapsed time test 1.2283185199999934e-05\n",
    ", mean depth tree 20.5\n",
    "\n",
    "### 100 trees\n",
    "Training time: 1249.0095235 ( time.struct_time(tm_year=1970, tm_mon=1, tm_mday=1, tm_hour=1, tm_min=20, tm_sec=49, tm_wday=3, tm_yday=1, tm_isdst=0) )\n",
    "Correct(TP+TN): 390 incorrect(FP+FN) 276\n",
    "Accuracy: 0.5855855855855856\n",
    "REPEAT: 2 , GILGFVFTIL (train nans removed)\n",
    ", accuracy 0.5855855855855856\n",
    ", elapsed time train 0.0012490095234999998\n",
    ", elapsed time test 0.0005913592830000002\n",
    ", mean depth tree 20.52\n",
    "\n",
    "Quite deep in both scenario's (might cause overfitting). Let's try setting the max_depth to 3."
   ],
   "metadata": {
    "collapsed": false
   }
  },
  {
   "cell_type": "code",
   "execution_count": 39,
   "outputs": [
    {
     "name": "stdout",
     "output_type": "stream",
     "text": [
      "Training dataStructures ...\n"
     ]
    },
    {
     "name": "stderr",
     "output_type": "stream",
     "text": [
      "100%|██████████| 100/100 [20:31<00:00, 12.32s/it]\n"
     ]
    },
    {
     "name": "stdout",
     "output_type": "stream",
     "text": [
      "\n",
      "0.5855855855855856\n",
      "Wall time: 30min 28s\n"
     ]
    }
   ],
   "source": [
    "%%time\n",
    "Pforest = ProximityForest.ProximityForest(1, n_trees=100, n_candidates=5, max_depth=3)\n",
    "Pforest.train(train_dataset)\n",
    "results = Pforest.test(val_dataset)\n",
    "print(results.accuracy)"
   ],
   "metadata": {
    "collapsed": false
   }
  },
  {
   "cell_type": "code",
   "execution_count": 40,
   "outputs": [
    {
     "name": "stdout",
     "output_type": "stream",
     "text": [
      "Training time: 1231.8500225999996 ( time.struct_time(tm_year=1970, tm_mon=1, tm_mday=1, tm_hour=1, tm_min=20, tm_sec=31, tm_wday=3, tm_yday=1, tm_isdst=0) )\n",
      "Correct(TP+TN): 390 incorrect(FP+FN) 276\n",
      "Accuracy: 0.5855855855855856\n",
      "REPEAT: 2 , GILGFVFTIL (train nans removed)\n",
      ", accuracy 0.5855855855855856\n",
      ", elapsed time train 0.0012318500225999996\n",
      ", elapsed time test 0.0005964720342000001\n",
      ", mean depth tree 20.52\n",
      "\n"
     ]
    }
   ],
   "source": [
    "results.print_results(dataset_name=\"GILGFVFTIL (train nans removed)\", experiment_id=1, prefix=\"\")"
   ],
   "metadata": {
    "collapsed": false
   }
  },
  {
   "cell_type": "markdown",
   "source": [
    "The max_depth didn't work, the mean depth is still 20.5. Probably some bug in the code."
   ],
   "metadata": {
    "collapsed": false
   }
  },
  {
   "cell_type": "markdown",
   "source": [
    "## Zero substitution\n",
    "Keeping the train nans resulted in an infinitly-seeming long training time, which is why I dropped them. Let's try again  with changing them to zeros this time."
   ],
   "metadata": {
    "collapsed": false
   }
  },
  {
   "cell_type": "code",
   "execution_count": 42,
   "outputs": [
    {
     "name": "stdout",
     "output_type": "stream",
     "text": [
      "Parsing process finished in 0.26200342178344727 seconds\n",
      "Parsing process finished in 0.025998830795288086 seconds\n",
      "Training dataStructures ...\n"
     ]
    },
    {
     "name": "stderr",
     "output_type": "stream",
     "text": [
      "100%|██████████| 100/100 [1:16:29<00:00, 45.89s/it]\n"
     ]
    },
    {
     "name": "stdout",
     "output_type": "stream",
     "text": [
      "\n",
      "0.6186186186186187\n",
      "Training time: 4589.3693422 ( time.struct_time(tm_year=1970, tm_mon=1, tm_mday=1, tm_hour=2, tm_min=16, tm_sec=29, tm_wday=3, tm_yday=1, tm_isdst=0) )\n",
      "Correct(TP+TN): 412 incorrect(FP+FN) 254\n",
      "Accuracy: 0.6186186186186187\n",
      "REPEAT: 2 , GILGFVFTIL (train nans removed)\n",
      ", accuracy 0.6186186186186187\n",
      ", elapsed time train 0.0045893693421999995\n",
      ", elapsed time test 0.0013432581885999989\n",
      ", mean depth tree 24.55\n",
      "\n",
      "Wall time: 1h 39min 1s\n"
     ]
    }
   ],
   "source": [
    "%%time\n",
    "from util import get_train_dataset, get_features\n",
    "from sklearn.model_selection import train_test_split\n",
    "from sklearn.impute import SimpleImputer\n",
    "import numpy as np\n",
    "# from util import readDataframeToListDataset\n",
    "\n",
    "df = get_train_dataset()\n",
    "# df = df.sample(100)\n",
    "train_df, val_df = train_test_split(df, test_size=0.2, random_state=42)\n",
    "\n",
    "val_df.dropna(inplace=True)\n",
    "\n",
    "train_features = get_features(train_df)\n",
    "val_features = get_features(val_df, test=True)\n",
    "train_label = train_df['reaction']\n",
    "val_label = val_df['reaction']\n",
    "\n",
    "# impute train_features with 0 and convert to a pandas dataframe again\n",
    "imp = SimpleImputer(missing_values=np.nan, strategy='constant', fill_value=0)\n",
    "train_features = pd.DataFrame(imp.fit_transform(train_features), columns=train_features.columns)\n",
    "\n",
    "train_dataset = readDataframeToListDataset(train_features, labels_df=train_label)\n",
    "val_dataset = readDataframeToListDataset(val_features, labels_df=val_label)\n",
    "\n",
    "Pforest = ProximityForest.ProximityForest(1, n_trees=100, n_candidates=5)  #todo: 100  trees\n",
    "Pforest.train(train_dataset)\n",
    "results = Pforest.test(val_dataset)\n",
    "print(results.accuracy)\n",
    "results.print_results(dataset_name=\"GILGFVFTIL (train nans removed)\", experiment_id=1, prefix=\"\")"
   ],
   "metadata": {
    "collapsed": false
   }
  },
  {
   "cell_type": "markdown",
   "source": [
    "Training time: 4589.3693422 ( time.struct_time(tm_year=1970, tm_mon=1, tm_mday=1, tm_hour=2, tm_min=16, tm_sec=29, tm_wday=3, tm_yday=1, tm_isdst=0) )\n",
    "Correct(TP+TN): 412 incorrect(FP+FN) 254\n",
    "Accuracy: 0.6186186186186187\n",
    "REPEAT: 2 , GILGFVFTIL (train nans removed)\n",
    ", accuracy 0.6186186186186187\n",
    ", elapsed time train 0.0045893693421999995\n",
    ", elapsed time test 0.0013432581885999989\n",
    ", mean depth tree 24.55\n",
    "\n",
    "Wall time: 1h 39min 1s"
   ],
   "metadata": {
    "collapsed": false
   }
  },
  {
   "cell_type": "markdown",
   "source": [
    " al beginnen schrijven\n",
    "\n",
    "Proximity trees distance measure: TCR dist 3\n",
    "Traag, eventueel gewoon hamming distance op CDR3; V en J ook in rekening houden\n",
    "\n",
    "NaN: ofwel  geen verschil, ofwel  een half puntje? Half  puntje gaat te zwaar bestraffen; niet met KNN, wel proximity trees\n",
    "Nan + aminozuur = volledige match"
   ],
   "metadata": {
    "collapsed": false
   }
  },
  {
   "cell_type": "markdown",
   "source": [
    "## Other distance function\n",
    "Up to now, I used the distance on the featurs. However, we can also immediately apply some kind of distance measure on the amino acid sequence. Let's try that.\n"
   ],
   "metadata": {
    "collapsed": false
   }
  },
  {
   "cell_type": "code",
   "execution_count": 1,
   "outputs": [
    {
     "data": {
      "text/plain": "          CDR3_alfa      TRAV    TRAJ        CDR3_beta      TRBV     TRBJ  \\\n3469  CAGPYNQGGKLIF  TRAV12-2  TRAJ23    CASSIRSTETQYF    TRBV19  TRBJ2-5   \n5530   CAGGGSQGNLIF    TRAV27  TRAJ42    CASSIRASYEQYF    TRBV19  TRBJ2-7   \n2333            NaN       NaN     NaN  CASSLALAGTDTQYF  TRBV12-3  TRBJ2-3   \n2225            NaN       NaN     NaN  CASRHQGQENTEAFF   TRBV7-9  TRBJ1-1   \n5986            NaN       NaN     NaN      CASSYNTEAFF   TRBV6-6  TRBJ1-1   \n\n      reaction TRAJ_family  TRAJ_version TRAV_family TRAV_version TRBV_family  \\\n3469         1      TRAJ23           1.0      TRAV12            2      TRBV19   \n5530         1      TRAJ42           1.0      TRAV27            1      TRBV19   \n2333         1         NaN           NaN         NaN          NaN      TRBV12   \n2225         0         NaN           NaN         NaN          NaN       TRBV7   \n5986         1         NaN           NaN         NaN          NaN       TRBV6   \n\n      TRBV_version TRBJ_family  TRBJ_version  \n3469           1.0       TRBJ2           5.0  \n5530           1.0       TRBJ2           7.0  \n2333           3.0       TRBJ2           3.0  \n2225           9.0       TRBJ1           1.0  \n5986           6.0       TRBJ1           1.0  ",
      "text/html": "<div>\n<style scoped>\n    .dataframe tbody tr th:only-of-type {\n        vertical-align: middle;\n    }\n\n    .dataframe tbody tr th {\n        vertical-align: top;\n    }\n\n    .dataframe thead th {\n        text-align: right;\n    }\n</style>\n<table border=\"1\" class=\"dataframe\">\n  <thead>\n    <tr style=\"text-align: right;\">\n      <th></th>\n      <th>CDR3_alfa</th>\n      <th>TRAV</th>\n      <th>TRAJ</th>\n      <th>CDR3_beta</th>\n      <th>TRBV</th>\n      <th>TRBJ</th>\n      <th>reaction</th>\n      <th>TRAJ_family</th>\n      <th>TRAJ_version</th>\n      <th>TRAV_family</th>\n      <th>TRAV_version</th>\n      <th>TRBV_family</th>\n      <th>TRBV_version</th>\n      <th>TRBJ_family</th>\n      <th>TRBJ_version</th>\n    </tr>\n  </thead>\n  <tbody>\n    <tr>\n      <th>3469</th>\n      <td>CAGPYNQGGKLIF</td>\n      <td>TRAV12-2</td>\n      <td>TRAJ23</td>\n      <td>CASSIRSTETQYF</td>\n      <td>TRBV19</td>\n      <td>TRBJ2-5</td>\n      <td>1</td>\n      <td>TRAJ23</td>\n      <td>1.0</td>\n      <td>TRAV12</td>\n      <td>2</td>\n      <td>TRBV19</td>\n      <td>1.0</td>\n      <td>TRBJ2</td>\n      <td>5.0</td>\n    </tr>\n    <tr>\n      <th>5530</th>\n      <td>CAGGGSQGNLIF</td>\n      <td>TRAV27</td>\n      <td>TRAJ42</td>\n      <td>CASSIRASYEQYF</td>\n      <td>TRBV19</td>\n      <td>TRBJ2-7</td>\n      <td>1</td>\n      <td>TRAJ42</td>\n      <td>1.0</td>\n      <td>TRAV27</td>\n      <td>1</td>\n      <td>TRBV19</td>\n      <td>1.0</td>\n      <td>TRBJ2</td>\n      <td>7.0</td>\n    </tr>\n    <tr>\n      <th>2333</th>\n      <td>NaN</td>\n      <td>NaN</td>\n      <td>NaN</td>\n      <td>CASSLALAGTDTQYF</td>\n      <td>TRBV12-3</td>\n      <td>TRBJ2-3</td>\n      <td>1</td>\n      <td>NaN</td>\n      <td>NaN</td>\n      <td>NaN</td>\n      <td>NaN</td>\n      <td>TRBV12</td>\n      <td>3.0</td>\n      <td>TRBJ2</td>\n      <td>3.0</td>\n    </tr>\n    <tr>\n      <th>2225</th>\n      <td>NaN</td>\n      <td>NaN</td>\n      <td>NaN</td>\n      <td>CASRHQGQENTEAFF</td>\n      <td>TRBV7-9</td>\n      <td>TRBJ1-1</td>\n      <td>0</td>\n      <td>NaN</td>\n      <td>NaN</td>\n      <td>NaN</td>\n      <td>NaN</td>\n      <td>TRBV7</td>\n      <td>9.0</td>\n      <td>TRBJ1</td>\n      <td>1.0</td>\n    </tr>\n    <tr>\n      <th>5986</th>\n      <td>NaN</td>\n      <td>NaN</td>\n      <td>NaN</td>\n      <td>CASSYNTEAFF</td>\n      <td>TRBV6-6</td>\n      <td>TRBJ1-1</td>\n      <td>1</td>\n      <td>NaN</td>\n      <td>NaN</td>\n      <td>NaN</td>\n      <td>NaN</td>\n      <td>TRBV6</td>\n      <td>6.0</td>\n      <td>TRBJ1</td>\n      <td>1.0</td>\n    </tr>\n  </tbody>\n</table>\n</div>"
     },
     "execution_count": 1,
     "metadata": {},
     "output_type": "execute_result"
    }
   ],
   "source": [
    "from util import get_train_dataset, get_test_dataset\n",
    "train_df = get_train_dataset()\n",
    "train_df = train_df.sample(100)\n",
    "train_df.head()"
   ],
   "metadata": {
    "collapsed": false
   }
  },
  {
   "cell_type": "code",
   "execution_count": 4,
   "outputs": [
    {
     "data": {
      "text/plain": "          CDR3_alfa        CDR3_beta  reaction\n3469  CAGPYNQGGKLIF    CASSIRSTETQYF         1\n5530   CAGGGSQGNLIF    CASSIRASYEQYF         1\n2333            NaN  CASSLALAGTDTQYF         1\n2225            NaN  CASRHQGQENTEAFF         0\n5986            NaN      CASSYNTEAFF         1",
      "text/html": "<div>\n<style scoped>\n    .dataframe tbody tr th:only-of-type {\n        vertical-align: middle;\n    }\n\n    .dataframe tbody tr th {\n        vertical-align: top;\n    }\n\n    .dataframe thead th {\n        text-align: right;\n    }\n</style>\n<table border=\"1\" class=\"dataframe\">\n  <thead>\n    <tr style=\"text-align: right;\">\n      <th></th>\n      <th>CDR3_alfa</th>\n      <th>CDR3_beta</th>\n      <th>reaction</th>\n    </tr>\n  </thead>\n  <tbody>\n    <tr>\n      <th>3469</th>\n      <td>CAGPYNQGGKLIF</td>\n      <td>CASSIRSTETQYF</td>\n      <td>1</td>\n    </tr>\n    <tr>\n      <th>5530</th>\n      <td>CAGGGSQGNLIF</td>\n      <td>CASSIRASYEQYF</td>\n      <td>1</td>\n    </tr>\n    <tr>\n      <th>2333</th>\n      <td>NaN</td>\n      <td>CASSLALAGTDTQYF</td>\n      <td>1</td>\n    </tr>\n    <tr>\n      <th>2225</th>\n      <td>NaN</td>\n      <td>CASRHQGQENTEAFF</td>\n      <td>0</td>\n    </tr>\n    <tr>\n      <th>5986</th>\n      <td>NaN</td>\n      <td>CASSYNTEAFF</td>\n      <td>1</td>\n    </tr>\n  </tbody>\n</table>\n</div>"
     },
     "execution_count": 4,
     "metadata": {},
     "output_type": "execute_result"
    }
   ],
   "source": [
    "# start with only the CDR3 sequences (we might add TRAV/J later (as one feature that can differ (while the CDR3 alfa can differ per character))\n",
    "from util import get_columns_starting_with\n",
    "import pandas as pd\n",
    "cdr3s = get_columns_starting_with(train_df, 'CDR3')\n",
    "reactions = train_df['reaction']\n",
    "combined = pd.concat([cdr3s, reactions], axis=1)\n",
    "combined.head()"
   ],
   "metadata": {
    "collapsed": false
   }
  },
  {
   "cell_type": "code",
   "execution_count": 5,
   "outputs": [
    {
     "name": "stderr",
     "output_type": "stream",
     "text": [
      "C:\\Users\\arnod\\AppData\\Local\\Programs\\Python\\Python39\\lib\\site-packages\\seaborn\\distributions.py:2619: FutureWarning: `distplot` is a deprecated function and will be removed in a future version. Please adapt your code to use either `displot` (a figure-level function with similar flexibility) or `histplot` (an axes-level function for histograms).\n",
      "  warnings.warn(msg, FutureWarning)\n"
     ]
    },
    {
     "data": {
      "text/plain": "<Figure size 432x288 with 1 Axes>",
      "image/png": "[encoded data removed]"
     },
     "metadata": {},
     "output_type": "display_data"
    }
   ],
   "source": [
    "# get CDR3_alfa length distribution\n",
    "import matplotlib.pyplot as plt\n",
    "import seaborn as sns\n",
    "sns.set()\n",
    "sns.distplot(combined['CDR3_alfa'].str.len())\n",
    "plt.show()"
   ],
   "metadata": {
    "collapsed": false
   }
  },
  {
   "cell_type": "code",
   "execution_count": 6,
   "outputs": [
    {
     "name": "stderr",
     "output_type": "stream",
     "text": [
      "C:\\Users\\arnod\\AppData\\Local\\Programs\\Python\\Python39\\lib\\site-packages\\seaborn\\distributions.py:2619: FutureWarning: `distplot` is a deprecated function and will be removed in a future version. Please adapt your code to use either `displot` (a figure-level function with similar flexibility) or `histplot` (an axes-level function for histograms).\n",
      "  warnings.warn(msg, FutureWarning)\n"
     ]
    },
    {
     "data": {
      "text/plain": "<Figure size 432x288 with 1 Axes>",
      "image/png": "[encoded data removed]"
     },
     "metadata": {},
     "output_type": "display_data"
    }
   ],
   "source": [
    "# get CDR3_beta length distribution\n",
    "sns.distplot(combined['CDR3_beta'].str.len())\n",
    "plt.show()"
   ],
   "metadata": {
    "collapsed": false
   }
  },
  {
   "cell_type": "code",
   "execution_count": 15,
   "outputs": [],
   "source": [
    "import numpy as np\n",
    "\n",
    "# create a new distance fucntion that takes the CDR3_alfa and CDR3_beta into account\n",
    "def distance_cdr3s(cdr3_alfa, cdr3_beta, cdr3_alfa_other, cdr3_beta_other):\n",
    "    return distance_cdr3(cdr3_alfa, cdr3_alfa_other) + distance_cdr3(cdr3_beta, cdr3_beta_other)\n",
    "\n",
    "def needleman_wunsch(x, y, match = 1, mismatch = 1, gap = 1):\n",
    "    # Implementation from https://gist.github.com/slowkow/06c6dba9180d013dfd82bec217d22eb5\n",
    "\n",
    "    nx = len(x)\n",
    "    ny = len(y)\n",
    "    # Optimal score at each possible pair of characters.\n",
    "    F = np.zeros((nx + 1, ny + 1))\n",
    "    F[:,0] = np.linspace(0, -nx * gap, nx + 1)\n",
    "    F[0,:] = np.linspace(0, -ny * gap, ny + 1)\n",
    "    # Pointers to trace through an optimal aligment.\n",
    "    P = np.zeros((nx + 1, ny + 1))\n",
    "    P[:,0] = 3\n",
    "    P[0,:] = 4\n",
    "    # Temporary scores.\n",
    "    t = np.zeros(3)\n",
    "    for i in range(nx):\n",
    "        for j in range(ny):\n",
    "            if x[i] == y[j]:\n",
    "                t[0] = F[i,j] + match\n",
    "            else:\n",
    "                t[0] = F[i,j] - mismatch\n",
    "            t[1] = F[i,j+1] - gap\n",
    "            t[2] = F[i+1,j] - gap\n",
    "            tmax = np.max(t)\n",
    "            F[i+1,j+1] = tmax\n",
    "            if t[0] == tmax:\n",
    "                P[i+1,j+1] += 2\n",
    "            if t[1] == tmax:\n",
    "                P[i+1,j+1] += 3\n",
    "            if t[2] == tmax:\n",
    "                P[i+1,j+1] += 4\n",
    "\n",
    "    return tmax\n",
    "\n",
    "    \"\"\"\n",
    "    # Trace through an optimal alignment.\n",
    "    i = nx\n",
    "    j = ny\n",
    "    rx = []\n",
    "    ry = []\n",
    "    while i > 0 or j > 0:\n",
    "        if P[i,j] in [2, 5, 6, 9]:\n",
    "            rx.append(x[i-1])\n",
    "            ry.append(y[j-1])\n",
    "            i -= 1\n",
    "            j -= 1\n",
    "        elif P[i,j] in [3, 5, 7, 9]:\n",
    "            rx.append(x[i-1])\n",
    "            ry.append('-')\n",
    "            i -= 1\n",
    "        elif P[i,j] in [4, 6, 7, 9]:\n",
    "            rx.append('-')\n",
    "            ry.append(y[j-1])\n",
    "            j -= 1\n",
    "    # Reverse the strings.\n",
    "    rx = ''.join(rx)[::-1]\n",
    "    ry = ''.join(ry)[::-1]\n",
    "    return '\\n'.join([rx, ry])\n",
    "    \"\"\"\n",
    "\n",
    "\n",
    "def distance_cdr3(cdr3, cdr3_other):\n",
    "    # if any is NaN, see it as a perfect match\n",
    "    if pd.isna(cdr3) or pd.isna(cdr3_other):\n",
    "        return 1\n",
    "    # get the distance between the two amino acid sequences (using sequence alignment)\n",
    "    nw_score = needleman_wunsch(cdr3, cdr3_other)\n",
    "    # distance, so lower means closer, let's change that\n",
    "    return 1/nw_score if nw_score != 0 else 0"
   ],
   "metadata": {
    "collapsed": false
   }
  },
  {
   "cell_type": "code",
   "execution_count": 16,
   "outputs": [
    {
     "data": {
      "text/plain": "10.0"
     },
     "execution_count": 16,
     "metadata": {},
     "output_type": "execute_result"
    }
   ],
   "source": [
    "needleman_wunsch('GILGFVFTIL', 'GILGFVFTIL')"
   ],
   "metadata": {
    "collapsed": false
   }
  },
  {
   "cell_type": "code",
   "execution_count": 17,
   "outputs": [
    {
     "data": {
      "text/plain": "8.0"
     },
     "execution_count": 17,
     "metadata": {},
     "output_type": "execute_result"
    }
   ],
   "source": [
    "# changed first letter\n",
    "needleman_wunsch('GILGFVFTIL', 'LILGFVFTIL')"
   ],
   "metadata": {
    "collapsed": false
   }
  },
  {
   "cell_type": "code",
   "execution_count": 18,
   "outputs": [
    {
     "data": {
      "text/plain": "9.0"
     },
     "execution_count": 18,
     "metadata": {},
     "output_type": "execute_result"
    }
   ],
   "source": [
    "# removed last letter on both sides\n",
    "needleman_wunsch('GILGFVFTI', 'GILGFVFTI')"
   ],
   "metadata": {
    "collapsed": false
   }
  },
  {
   "cell_type": "code",
   "execution_count": 19,
   "outputs": [
    {
     "data": {
      "text/plain": "8.0"
     },
     "execution_count": 19,
     "metadata": {},
     "output_type": "execute_result"
    }
   ],
   "source": [
    "# removed last letter on 2nd string\n",
    "needleman_wunsch('GILGFVFTIL', 'GILGFVFTI')"
   ],
   "metadata": {
    "collapsed": false
   }
  },
  {
   "cell_type": "markdown",
   "source": [
    "Currently longer strings have a higher score, which makes sense, since they are more similar then (contain more similar characters)\n"
   ],
   "metadata": {
    "collapsed": false
   }
  },
  {
   "cell_type": "markdown",
   "source": [
    "\n",
    "## TCR dist\n",
    "Up to now, I tried implementing my own distance function. However, TCR dist might also give good results.\n",
    "https://tcrdist3.readthedocs.io/en/latest/\n",
    "\n"
   ],
   "metadata": {
    "collapsed": false
   }
  },
  {
   "cell_type": "code",
   "execution_count": null,
   "outputs": [],
   "source": [
    "# install tcrdist3\n",
    "!pip install tcrdist3\n",
    "!#pip install git+https://github.com/kmayerb/tcrdist3.git@0.2.2\n",
    "# gives problems installing fisher wheel, also tried with --user flag\n",
    "# might be because I removed visual studio (and thus c++ compiler) some time ago, reinstall it from here https://visualstudio.microsoft.com/visual-cpp-build-tools/\n",
    "# I still got the 2017 version, upgrading to 2022\n",
    "# didn't work, more info on the exception here: https://stackoverflow.com/questions/40018405/cannot-open-include-file-io-h-no-such-file-or-directory\n",
    "# installing windows 11sdk, this fixed indeed the issue"
   ],
   "metadata": {
    "collapsed": false
   }
  },
  {
   "cell_type": "code",
   "execution_count": 1,
   "outputs": [
    {
     "ename": "FileNotFoundError",
     "evalue": "[Errno 2] No such file or directory: 'dash.csv'",
     "output_type": "error",
     "traceback": [
      "\u001B[1;31m---------------------------------------------------------------------------\u001B[0m",
      "\u001B[1;31mFileNotFoundError\u001B[0m                         Traceback (most recent call last)",
      "\u001B[1;32m~\\AppData\\Local\\Temp/ipykernel_9812/2450578083.py\u001B[0m in \u001B[0;36m<module>\u001B[1;34m\u001B[0m\n\u001B[0;32m      3\u001B[0m \u001B[1;32mfrom\u001B[0m \u001B[0mtcrdist\u001B[0m\u001B[1;33m.\u001B[0m\u001B[0mrepertoire\u001B[0m \u001B[1;32mimport\u001B[0m \u001B[0mTCRrep\u001B[0m\u001B[1;33m\u001B[0m\u001B[1;33m\u001B[0m\u001B[0m\n\u001B[0;32m      4\u001B[0m \u001B[1;33m\u001B[0m\u001B[0m\n\u001B[1;32m----> 5\u001B[1;33m \u001B[0mdf\u001B[0m \u001B[1;33m=\u001B[0m \u001B[0mpd\u001B[0m\u001B[1;33m.\u001B[0m\u001B[0mread_csv\u001B[0m\u001B[1;33m(\u001B[0m\u001B[1;34m\"dash.csv\"\u001B[0m\u001B[1;33m)\u001B[0m\u001B[1;33m\u001B[0m\u001B[1;33m\u001B[0m\u001B[0m\n\u001B[0m\u001B[0;32m      6\u001B[0m tr = TCRrep(cell_df = df,\n\u001B[0;32m      7\u001B[0m             \u001B[0morganism\u001B[0m \u001B[1;33m=\u001B[0m \u001B[1;34m'mouse'\u001B[0m\u001B[1;33m,\u001B[0m\u001B[1;33m\u001B[0m\u001B[1;33m\u001B[0m\u001B[0m\n",
      "\u001B[1;32m~\\AppData\\Local\\Programs\\Python\\Python39\\lib\\site-packages\\pandas\\util\\_decorators.py\u001B[0m in \u001B[0;36mwrapper\u001B[1;34m(*args, **kwargs)\u001B[0m\n\u001B[0;32m    209\u001B[0m                 \u001B[1;32melse\u001B[0m\u001B[1;33m:\u001B[0m\u001B[1;33m\u001B[0m\u001B[1;33m\u001B[0m\u001B[0m\n\u001B[0;32m    210\u001B[0m                     \u001B[0mkwargs\u001B[0m\u001B[1;33m[\u001B[0m\u001B[0mnew_arg_name\u001B[0m\u001B[1;33m]\u001B[0m \u001B[1;33m=\u001B[0m \u001B[0mnew_arg_value\u001B[0m\u001B[1;33m\u001B[0m\u001B[1;33m\u001B[0m\u001B[0m\n\u001B[1;32m--> 211\u001B[1;33m             \u001B[1;32mreturn\u001B[0m \u001B[0mfunc\u001B[0m\u001B[1;33m(\u001B[0m\u001B[1;33m*\u001B[0m\u001B[0margs\u001B[0m\u001B[1;33m,\u001B[0m \u001B[1;33m**\u001B[0m\u001B[0mkwargs\u001B[0m\u001B[1;33m)\u001B[0m\u001B[1;33m\u001B[0m\u001B[1;33m\u001B[0m\u001B[0m\n\u001B[0m\u001B[0;32m    212\u001B[0m \u001B[1;33m\u001B[0m\u001B[0m\n\u001B[0;32m    213\u001B[0m         \u001B[1;32mreturn\u001B[0m \u001B[0mcast\u001B[0m\u001B[1;33m(\u001B[0m\u001B[0mF\u001B[0m\u001B[1;33m,\u001B[0m \u001B[0mwrapper\u001B[0m\u001B[1;33m)\u001B[0m\u001B[1;33m\u001B[0m\u001B[1;33m\u001B[0m\u001B[0m\n",
      "\u001B[1;32m~\\AppData\\Local\\Programs\\Python\\Python39\\lib\\site-packages\\pandas\\util\\_decorators.py\u001B[0m in \u001B[0;36mwrapper\u001B[1;34m(*args, **kwargs)\u001B[0m\n\u001B[0;32m    329\u001B[0m                     \u001B[0mstacklevel\u001B[0m\u001B[1;33m=\u001B[0m\u001B[0mfind_stack_level\u001B[0m\u001B[1;33m(\u001B[0m\u001B[1;33m)\u001B[0m\u001B[1;33m,\u001B[0m\u001B[1;33m\u001B[0m\u001B[1;33m\u001B[0m\u001B[0m\n\u001B[0;32m    330\u001B[0m                 )\n\u001B[1;32m--> 331\u001B[1;33m             \u001B[1;32mreturn\u001B[0m \u001B[0mfunc\u001B[0m\u001B[1;33m(\u001B[0m\u001B[1;33m*\u001B[0m\u001B[0margs\u001B[0m\u001B[1;33m,\u001B[0m \u001B[1;33m**\u001B[0m\u001B[0mkwargs\u001B[0m\u001B[1;33m)\u001B[0m\u001B[1;33m\u001B[0m\u001B[1;33m\u001B[0m\u001B[0m\n\u001B[0m\u001B[0;32m    332\u001B[0m \u001B[1;33m\u001B[0m\u001B[0m\n\u001B[0;32m    333\u001B[0m         \u001B[1;31m# error: \"Callable[[VarArg(Any), KwArg(Any)], Any]\" has no\u001B[0m\u001B[1;33m\u001B[0m\u001B[1;33m\u001B[0m\u001B[0m\n",
      "\u001B[1;32m~\\AppData\\Local\\Programs\\Python\\Python39\\lib\\site-packages\\pandas\\io\\parsers\\readers.py\u001B[0m in \u001B[0;36mread_csv\u001B[1;34m(filepath_or_buffer, sep, delimiter, header, names, index_col, usecols, squeeze, prefix, mangle_dupe_cols, dtype, engine, converters, true_values, false_values, skipinitialspace, skiprows, skipfooter, nrows, na_values, keep_default_na, na_filter, verbose, skip_blank_lines, parse_dates, infer_datetime_format, keep_date_col, date_parser, dayfirst, cache_dates, iterator, chunksize, compression, thousands, decimal, lineterminator, quotechar, quoting, doublequote, escapechar, comment, encoding, encoding_errors, dialect, error_bad_lines, warn_bad_lines, on_bad_lines, delim_whitespace, low_memory, memory_map, float_precision, storage_options)\u001B[0m\n\u001B[0;32m    948\u001B[0m     \u001B[0mkwds\u001B[0m\u001B[1;33m.\u001B[0m\u001B[0mupdate\u001B[0m\u001B[1;33m(\u001B[0m\u001B[0mkwds_defaults\u001B[0m\u001B[1;33m)\u001B[0m\u001B[1;33m\u001B[0m\u001B[1;33m\u001B[0m\u001B[0m\n\u001B[0;32m    949\u001B[0m \u001B[1;33m\u001B[0m\u001B[0m\n\u001B[1;32m--> 950\u001B[1;33m     \u001B[1;32mreturn\u001B[0m \u001B[0m_read\u001B[0m\u001B[1;33m(\u001B[0m\u001B[0mfilepath_or_buffer\u001B[0m\u001B[1;33m,\u001B[0m \u001B[0mkwds\u001B[0m\u001B[1;33m)\u001B[0m\u001B[1;33m\u001B[0m\u001B[1;33m\u001B[0m\u001B[0m\n\u001B[0m\u001B[0;32m    951\u001B[0m \u001B[1;33m\u001B[0m\u001B[0m\n\u001B[0;32m    952\u001B[0m \u001B[1;33m\u001B[0m\u001B[0m\n",
      "\u001B[1;32m~\\AppData\\Local\\Programs\\Python\\Python39\\lib\\site-packages\\pandas\\io\\parsers\\readers.py\u001B[0m in \u001B[0;36m_read\u001B[1;34m(filepath_or_buffer, kwds)\u001B[0m\n\u001B[0;32m    603\u001B[0m \u001B[1;33m\u001B[0m\u001B[0m\n\u001B[0;32m    604\u001B[0m     \u001B[1;31m# Create the parser.\u001B[0m\u001B[1;33m\u001B[0m\u001B[1;33m\u001B[0m\u001B[0m\n\u001B[1;32m--> 605\u001B[1;33m     \u001B[0mparser\u001B[0m \u001B[1;33m=\u001B[0m \u001B[0mTextFileReader\u001B[0m\u001B[1;33m(\u001B[0m\u001B[0mfilepath_or_buffer\u001B[0m\u001B[1;33m,\u001B[0m \u001B[1;33m**\u001B[0m\u001B[0mkwds\u001B[0m\u001B[1;33m)\u001B[0m\u001B[1;33m\u001B[0m\u001B[1;33m\u001B[0m\u001B[0m\n\u001B[0m\u001B[0;32m    606\u001B[0m \u001B[1;33m\u001B[0m\u001B[0m\n\u001B[0;32m    607\u001B[0m     \u001B[1;32mif\u001B[0m \u001B[0mchunksize\u001B[0m \u001B[1;32mor\u001B[0m \u001B[0miterator\u001B[0m\u001B[1;33m:\u001B[0m\u001B[1;33m\u001B[0m\u001B[1;33m\u001B[0m\u001B[0m\n",
      "\u001B[1;32m~\\AppData\\Local\\Programs\\Python\\Python39\\lib\\site-packages\\pandas\\io\\parsers\\readers.py\u001B[0m in \u001B[0;36m__init__\u001B[1;34m(self, f, engine, **kwds)\u001B[0m\n\u001B[0;32m   1440\u001B[0m \u001B[1;33m\u001B[0m\u001B[0m\n\u001B[0;32m   1441\u001B[0m         \u001B[0mself\u001B[0m\u001B[1;33m.\u001B[0m\u001B[0mhandles\u001B[0m\u001B[1;33m:\u001B[0m \u001B[0mIOHandles\u001B[0m \u001B[1;33m|\u001B[0m \u001B[1;32mNone\u001B[0m \u001B[1;33m=\u001B[0m \u001B[1;32mNone\u001B[0m\u001B[1;33m\u001B[0m\u001B[1;33m\u001B[0m\u001B[0m\n\u001B[1;32m-> 1442\u001B[1;33m         \u001B[0mself\u001B[0m\u001B[1;33m.\u001B[0m\u001B[0m_engine\u001B[0m \u001B[1;33m=\u001B[0m \u001B[0mself\u001B[0m\u001B[1;33m.\u001B[0m\u001B[0m_make_engine\u001B[0m\u001B[1;33m(\u001B[0m\u001B[0mf\u001B[0m\u001B[1;33m,\u001B[0m \u001B[0mself\u001B[0m\u001B[1;33m.\u001B[0m\u001B[0mengine\u001B[0m\u001B[1;33m)\u001B[0m\u001B[1;33m\u001B[0m\u001B[1;33m\u001B[0m\u001B[0m\n\u001B[0m\u001B[0;32m   1443\u001B[0m \u001B[1;33m\u001B[0m\u001B[0m\n\u001B[0;32m   1444\u001B[0m     \u001B[1;32mdef\u001B[0m \u001B[0mclose\u001B[0m\u001B[1;33m(\u001B[0m\u001B[0mself\u001B[0m\u001B[1;33m)\u001B[0m \u001B[1;33m->\u001B[0m \u001B[1;32mNone\u001B[0m\u001B[1;33m:\u001B[0m\u001B[1;33m\u001B[0m\u001B[1;33m\u001B[0m\u001B[0m\n",
      "\u001B[1;32m~\\AppData\\Local\\Programs\\Python\\Python39\\lib\\site-packages\\pandas\\io\\parsers\\readers.py\u001B[0m in \u001B[0;36m_make_engine\u001B[1;34m(self, f, engine)\u001B[0m\n\u001B[0;32m   1733\u001B[0m                 \u001B[1;32mif\u001B[0m \u001B[1;34m\"b\"\u001B[0m \u001B[1;32mnot\u001B[0m \u001B[1;32min\u001B[0m \u001B[0mmode\u001B[0m\u001B[1;33m:\u001B[0m\u001B[1;33m\u001B[0m\u001B[1;33m\u001B[0m\u001B[0m\n\u001B[0;32m   1734\u001B[0m                     \u001B[0mmode\u001B[0m \u001B[1;33m+=\u001B[0m \u001B[1;34m\"b\"\u001B[0m\u001B[1;33m\u001B[0m\u001B[1;33m\u001B[0m\u001B[0m\n\u001B[1;32m-> 1735\u001B[1;33m             self.handles = get_handle(\n\u001B[0m\u001B[0;32m   1736\u001B[0m                 \u001B[0mf\u001B[0m\u001B[1;33m,\u001B[0m\u001B[1;33m\u001B[0m\u001B[1;33m\u001B[0m\u001B[0m\n\u001B[0;32m   1737\u001B[0m                 \u001B[0mmode\u001B[0m\u001B[1;33m,\u001B[0m\u001B[1;33m\u001B[0m\u001B[1;33m\u001B[0m\u001B[0m\n",
      "\u001B[1;32m~\\AppData\\Local\\Programs\\Python\\Python39\\lib\\site-packages\\pandas\\io\\common.py\u001B[0m in \u001B[0;36mget_handle\u001B[1;34m(path_or_buf, mode, encoding, compression, memory_map, is_text, errors, storage_options)\u001B[0m\n\u001B[0;32m    854\u001B[0m         \u001B[1;32mif\u001B[0m \u001B[0mioargs\u001B[0m\u001B[1;33m.\u001B[0m\u001B[0mencoding\u001B[0m \u001B[1;32mand\u001B[0m \u001B[1;34m\"b\"\u001B[0m \u001B[1;32mnot\u001B[0m \u001B[1;32min\u001B[0m \u001B[0mioargs\u001B[0m\u001B[1;33m.\u001B[0m\u001B[0mmode\u001B[0m\u001B[1;33m:\u001B[0m\u001B[1;33m\u001B[0m\u001B[1;33m\u001B[0m\u001B[0m\n\u001B[0;32m    855\u001B[0m             \u001B[1;31m# Encoding\u001B[0m\u001B[1;33m\u001B[0m\u001B[1;33m\u001B[0m\u001B[0m\n\u001B[1;32m--> 856\u001B[1;33m             handle = open(\n\u001B[0m\u001B[0;32m    857\u001B[0m                 \u001B[0mhandle\u001B[0m\u001B[1;33m,\u001B[0m\u001B[1;33m\u001B[0m\u001B[1;33m\u001B[0m\u001B[0m\n\u001B[0;32m    858\u001B[0m                 \u001B[0mioargs\u001B[0m\u001B[1;33m.\u001B[0m\u001B[0mmode\u001B[0m\u001B[1;33m,\u001B[0m\u001B[1;33m\u001B[0m\u001B[1;33m\u001B[0m\u001B[0m\n",
      "\u001B[1;31mFileNotFoundError\u001B[0m: [Errno 2] No such file or directory: 'dash.csv'"
     ]
    }
   ],
   "source": [
    "# Sample code used in the tcrdist docs\n",
    "import pandas as pd\n",
    "from tcrdist.repertoire import TCRrep\n",
    "\n",
    "df = pd.read_csv(\"dash.csv\")\n",
    "tr = TCRrep(cell_df = df,\n",
    "            organism = 'mouse',\n",
    "            chains = ['alpha','beta'],\n",
    "            db_file = 'alphabeta_gammadelta_db.tsv',\n",
    "            compute_distances = False)"
   ],
   "metadata": {
    "collapsed": false
   }
  },
  {
   "cell_type": "markdown",
   "source": [
    "dash.csv can be found on the tcrdist github repo: https://github.com/kmayerb/tcrdist3/blob/master/dash.csv. It contains the following columns:\n",
    "subject, epitope, count,\n",
    "v_a_gene, j_a_gene, cdr3_a_aa, cdr3_a_nucseq,\n",
    "v_b_gene, j_b_gene, cdr3_b_aa, cdr3_b_nucseq,\n",
    "clone_id\n",
    "\n",
    "alphabeta_gammadelta_db.tsv should be included in the repo. Let's try with (a subset of) our data:"
   ],
   "metadata": {
    "collapsed": false
   }
  },
  {
   "cell_type": "code",
   "execution_count": 18,
   "outputs": [
    {
     "data": {
      "text/plain": "           CDR3_alfa      TRAV    TRAJ         CDR3_beta     TRBV     TRBJ  \\\n2   CAFMKQRGGGADGLTF  TRAV38-1  TRAJ45   CASSISSGRGNEQFF   TRBV19  TRBJ2-1   \n3     CRNAGGTSYGKLTF    TRAV25  TRAJ52  CASSSHQRTGVDEQFF   TRBV27  TRBJ2-1   \n12      CAGASNTGKLIF    TRAV27  TRAJ37     CASSLGDNTEAFF  TRBV7-9  TRBJ1-1   \n\n    reaction TRAJ_family  TRAJ_version TRAV_family TRAV_version TRBV_family  \\\n2          0      TRAJ45           1.0      TRAV38            1      TRBV19   \n3          1      TRAJ52           1.0      TRAV25            1      TRBV27   \n12         1      TRAJ37           1.0      TRAV27            1       TRBV7   \n\n    TRBV_version TRBJ_family  TRBJ_version  \n2            1.0       TRBJ2           1.0  \n3            1.0       TRBJ2           1.0  \n12           9.0       TRBJ1           1.0  ",
      "text/html": "<div>\n<style scoped>\n    .dataframe tbody tr th:only-of-type {\n        vertical-align: middle;\n    }\n\n    .dataframe tbody tr th {\n        vertical-align: top;\n    }\n\n    .dataframe thead th {\n        text-align: right;\n    }\n</style>\n<table border=\"1\" class=\"dataframe\">\n  <thead>\n    <tr style=\"text-align: right;\">\n      <th></th>\n      <th>CDR3_alfa</th>\n      <th>TRAV</th>\n      <th>TRAJ</th>\n      <th>CDR3_beta</th>\n      <th>TRBV</th>\n      <th>TRBJ</th>\n      <th>reaction</th>\n      <th>TRAJ_family</th>\n      <th>TRAJ_version</th>\n      <th>TRAV_family</th>\n      <th>TRAV_version</th>\n      <th>TRBV_family</th>\n      <th>TRBV_version</th>\n      <th>TRBJ_family</th>\n      <th>TRBJ_version</th>\n    </tr>\n  </thead>\n  <tbody>\n    <tr>\n      <th>2</th>\n      <td>CAFMKQRGGGADGLTF</td>\n      <td>TRAV38-1</td>\n      <td>TRAJ45</td>\n      <td>CASSISSGRGNEQFF</td>\n      <td>TRBV19</td>\n      <td>TRBJ2-1</td>\n      <td>0</td>\n      <td>TRAJ45</td>\n      <td>1.0</td>\n      <td>TRAV38</td>\n      <td>1</td>\n      <td>TRBV19</td>\n      <td>1.0</td>\n      <td>TRBJ2</td>\n      <td>1.0</td>\n    </tr>\n    <tr>\n      <th>3</th>\n      <td>CRNAGGTSYGKLTF</td>\n      <td>TRAV25</td>\n      <td>TRAJ52</td>\n      <td>CASSSHQRTGVDEQFF</td>\n      <td>TRBV27</td>\n      <td>TRBJ2-1</td>\n      <td>1</td>\n      <td>TRAJ52</td>\n      <td>1.0</td>\n      <td>TRAV25</td>\n      <td>1</td>\n      <td>TRBV27</td>\n      <td>1.0</td>\n      <td>TRBJ2</td>\n      <td>1.0</td>\n    </tr>\n    <tr>\n      <th>12</th>\n      <td>CAGASNTGKLIF</td>\n      <td>TRAV27</td>\n      <td>TRAJ37</td>\n      <td>CASSLGDNTEAFF</td>\n      <td>TRBV7-9</td>\n      <td>TRBJ1-1</td>\n      <td>1</td>\n      <td>TRAJ37</td>\n      <td>1.0</td>\n      <td>TRAV27</td>\n      <td>1</td>\n      <td>TRBV7</td>\n      <td>9.0</td>\n      <td>TRBJ1</td>\n      <td>1.0</td>\n    </tr>\n  </tbody>\n</table>\n</div>"
     },
     "execution_count": 18,
     "metadata": {},
     "output_type": "execute_result"
    }
   ],
   "source": [
    "from util import get_train_dataset\n",
    "train_dataset = get_train_dataset()\n",
    "train_dataset = train_dataset.dropna()\n",
    "train_dataset = train_dataset[:100]\n",
    "train_dataset.head(3)"
   ],
   "metadata": {
    "collapsed": false
   }
  },
  {
   "cell_type": "code",
   "execution_count": 19,
   "outputs": [
    {
     "name": "stderr",
     "output_type": "stream",
     "text": [
      "C:\\Users\\arnod\\AppData\\Local\\Programs\\Python\\Python39\\lib\\site-packages\\tcrdist\\repertoire.py:159: UserWarning: cell_df needs a counts column to track clonal number of frequency\n",
      "\n",
      "  self._validate_cell_df()\n",
      "C:\\Users\\arnod\\AppData\\Local\\Programs\\Python\\Python39\\lib\\site-packages\\tcrdist\\repertoire.py:791: UserWarning: No 'count' column provided; count column set to 1\n",
      "  warnings.warn(\"No 'count' column provided; count column set to 1\")\n",
      "C:\\Users\\arnod\\AppData\\Local\\Programs\\Python\\Python39\\lib\\site-packages\\tcrdist\\repertoire.py:159: UserWarning: cell_df needs a column called 'cdr3_a_aa' to track the CDR3 amino acid sequence\n",
      "\n",
      "  self._validate_cell_df()\n",
      "C:\\Users\\arnod\\AppData\\Local\\Programs\\Python\\Python39\\lib\\site-packages\\tcrdist\\repertoire.py:159: UserWarning: cell_df needs a column called 'v_a_gene' for default functions\n",
      "\n",
      "  self._validate_cell_df()\n",
      "C:\\Users\\arnod\\AppData\\Local\\Programs\\Python\\Python39\\lib\\site-packages\\tcrdist\\repertoire.py:159: UserWarning: cell_df needs a column called 'cdr3_b_aa' to track the CDR3 amino acid sequence\n",
      "\n",
      "  self._validate_cell_df()\n",
      "C:\\Users\\arnod\\AppData\\Local\\Programs\\Python\\Python39\\lib\\site-packages\\tcrdist\\repertoire.py:159: UserWarning: cell_df needs a column called 'v_b_gene' for default functions\n",
      "\n",
      "  self._validate_cell_df()\n"
     ]
    },
    {
     "ename": "AttributeError",
     "evalue": "'DataFrame' object has no attribute 'v_a_gene'",
     "output_type": "error",
     "traceback": [
      "\u001B[1;31m---------------------------------------------------------------------------\u001B[0m",
      "\u001B[1;31mAttributeError\u001B[0m                            Traceback (most recent call last)",
      "\u001B[1;32m~\\AppData\\Local\\Temp/ipykernel_9812/2660151781.py\u001B[0m in \u001B[0;36m<module>\u001B[1;34m\u001B[0m\n\u001B[0;32m      1\u001B[0m \u001B[1;32mfrom\u001B[0m \u001B[0mtcrdist\u001B[0m\u001B[1;33m.\u001B[0m\u001B[0mrepertoire\u001B[0m \u001B[1;32mimport\u001B[0m \u001B[0mTCRrep\u001B[0m\u001B[1;33m\u001B[0m\u001B[1;33m\u001B[0m\u001B[0m\n\u001B[1;32m----> 2\u001B[1;33m tr = TCRrep(cell_df = train_dataset,\n\u001B[0m\u001B[0;32m      3\u001B[0m             \u001B[0morganism\u001B[0m \u001B[1;33m=\u001B[0m \u001B[1;34m'human'\u001B[0m\u001B[1;33m,\u001B[0m\u001B[1;33m\u001B[0m\u001B[1;33m\u001B[0m\u001B[0m\n\u001B[0;32m      4\u001B[0m             \u001B[0mchains\u001B[0m \u001B[1;33m=\u001B[0m \u001B[1;33m[\u001B[0m\u001B[1;34m'alpha'\u001B[0m\u001B[1;33m,\u001B[0m\u001B[1;34m'beta'\u001B[0m\u001B[1;33m]\u001B[0m\u001B[1;33m,\u001B[0m\u001B[1;33m\u001B[0m\u001B[1;33m\u001B[0m\u001B[0m\n\u001B[0;32m      5\u001B[0m             \u001B[0mdb_file\u001B[0m \u001B[1;33m=\u001B[0m \u001B[1;34m'alphabeta_gammadelta_db.tsv'\u001B[0m\u001B[1;33m,\u001B[0m\u001B[1;33m\u001B[0m\u001B[1;33m\u001B[0m\u001B[0m\n",
      "\u001B[1;32m~\\AppData\\Local\\Programs\\Python\\Python39\\lib\\site-packages\\tcrdist\\repertoire.py\u001B[0m in \u001B[0;36m__init__\u001B[1;34m(self, organism, chains, db_file, archive_name, blank, cell_df, clone_df, imgt_aligned, infer_all_genes, infer_cdrs, infer_index_cols, deduplicate, use_defaults, store_all_cdr, compute_distances, index_cols, cpus, df2, archive_result)\u001B[0m\n\u001B[0;32m    180\u001B[0m             \u001B[1;32mif\u001B[0m \u001B[0minfer_cdrs\u001B[0m\u001B[1;33m:\u001B[0m\u001B[1;33m\u001B[0m\u001B[1;33m\u001B[0m\u001B[0m\n\u001B[0;32m    181\u001B[0m                 \u001B[1;32mfor\u001B[0m \u001B[0mchain\u001B[0m \u001B[1;32min\u001B[0m \u001B[0mself\u001B[0m\u001B[1;33m.\u001B[0m\u001B[0mchains\u001B[0m\u001B[1;33m:\u001B[0m\u001B[1;33m\u001B[0m\u001B[1;33m\u001B[0m\u001B[0m\n\u001B[1;32m--> 182\u001B[1;33m                     \u001B[0mself\u001B[0m\u001B[1;33m.\u001B[0m\u001B[0minfer_cdrs_from_v_gene\u001B[0m\u001B[1;33m(\u001B[0m\u001B[0mchain\u001B[0m \u001B[1;33m=\u001B[0m \u001B[0mchain\u001B[0m\u001B[1;33m,\u001B[0m \u001B[0mimgt_aligned\u001B[0m \u001B[1;33m=\u001B[0m \u001B[0mself\u001B[0m\u001B[1;33m.\u001B[0m\u001B[0mimgt_aligned\u001B[0m\u001B[1;33m)\u001B[0m\u001B[1;33m\u001B[0m\u001B[1;33m\u001B[0m\u001B[0m\n\u001B[0m\u001B[0;32m    183\u001B[0m                         \u001B[1;31m# Assume all provided columns are index columns, except 'count' 'cell_id', 'clone_id'\u001B[0m\u001B[1;33m\u001B[0m\u001B[1;33m\u001B[0m\u001B[0m\n\u001B[0;32m    184\u001B[0m \u001B[1;33m\u001B[0m\u001B[0m\n",
      "\u001B[1;32m~\\AppData\\Local\\Programs\\Python\\Python39\\lib\\site-packages\\tcrdist\\repertoire.py\u001B[0m in \u001B[0;36minfer_cdrs_from_v_gene\u001B[1;34m(self, chain, imgt_aligned)\u001B[0m\n\u001B[0;32m    511\u001B[0m                                                              attr ='cdrs')\n\u001B[0;32m    512\u001B[0m         \u001B[1;32mif\u001B[0m \u001B[0mchain\u001B[0m \u001B[1;33m==\u001B[0m \u001B[1;34m\"alpha\"\u001B[0m\u001B[1;33m:\u001B[0m\u001B[1;33m\u001B[0m\u001B[1;33m\u001B[0m\u001B[0m\n\u001B[1;32m--> 513\u001B[1;33m             self.cell_df = self.cell_df.assign(cdr1_a_aa=list(map(f0, self.cell_df.v_a_gene)),\n\u001B[0m\u001B[0;32m    514\u001B[0m                                                \u001B[0mcdr2_a_aa\u001B[0m\u001B[1;33m=\u001B[0m\u001B[0mlist\u001B[0m\u001B[1;33m(\u001B[0m\u001B[0mmap\u001B[0m\u001B[1;33m(\u001B[0m\u001B[0mf1\u001B[0m\u001B[1;33m,\u001B[0m \u001B[0mself\u001B[0m\u001B[1;33m.\u001B[0m\u001B[0mcell_df\u001B[0m\u001B[1;33m.\u001B[0m\u001B[0mv_a_gene\u001B[0m\u001B[1;33m)\u001B[0m\u001B[1;33m)\u001B[0m\u001B[1;33m,\u001B[0m\u001B[1;33m\u001B[0m\u001B[1;33m\u001B[0m\u001B[0m\n\u001B[0;32m    515\u001B[0m                                                pmhc_a_aa=list(map(f2, self.cell_df.v_a_gene)))\n",
      "\u001B[1;32m~\\AppData\\Local\\Programs\\Python\\Python39\\lib\\site-packages\\pandas\\core\\generic.py\u001B[0m in \u001B[0;36m__getattr__\u001B[1;34m(self, name)\u001B[0m\n\u001B[0;32m   5900\u001B[0m         ):\n\u001B[0;32m   5901\u001B[0m             \u001B[1;32mreturn\u001B[0m \u001B[0mself\u001B[0m\u001B[1;33m[\u001B[0m\u001B[0mname\u001B[0m\u001B[1;33m]\u001B[0m\u001B[1;33m\u001B[0m\u001B[1;33m\u001B[0m\u001B[0m\n\u001B[1;32m-> 5902\u001B[1;33m         \u001B[1;32mreturn\u001B[0m \u001B[0mobject\u001B[0m\u001B[1;33m.\u001B[0m\u001B[0m__getattribute__\u001B[0m\u001B[1;33m(\u001B[0m\u001B[0mself\u001B[0m\u001B[1;33m,\u001B[0m \u001B[0mname\u001B[0m\u001B[1;33m)\u001B[0m\u001B[1;33m\u001B[0m\u001B[1;33m\u001B[0m\u001B[0m\n\u001B[0m\u001B[0;32m   5903\u001B[0m \u001B[1;33m\u001B[0m\u001B[0m\n\u001B[0;32m   5904\u001B[0m     \u001B[1;32mdef\u001B[0m \u001B[0m__setattr__\u001B[0m\u001B[1;33m(\u001B[0m\u001B[0mself\u001B[0m\u001B[1;33m,\u001B[0m \u001B[0mname\u001B[0m\u001B[1;33m:\u001B[0m \u001B[0mstr\u001B[0m\u001B[1;33m,\u001B[0m \u001B[0mvalue\u001B[0m\u001B[1;33m)\u001B[0m \u001B[1;33m->\u001B[0m \u001B[1;32mNone\u001B[0m\u001B[1;33m:\u001B[0m\u001B[1;33m\u001B[0m\u001B[1;33m\u001B[0m\u001B[0m\n",
      "\u001B[1;31mAttributeError\u001B[0m: 'DataFrame' object has no attribute 'v_a_gene'"
     ]
    }
   ],
   "source": [
    "from tcrdist.repertoire import TCRrep\n",
    "tr = TCRrep(cell_df = train_dataset,\n",
    "            organism = 'human',\n",
    "            chains = ['alpha','beta'],\n",
    "            db_file = 'alphabeta_gammadelta_db.tsv',\n",
    "            compute_distances = True)"
   ],
   "metadata": {
    "collapsed": false
   }
  },
  {
   "cell_type": "code",
   "execution_count": 20,
   "outputs": [
    {
     "name": "stdout",
     "output_type": "stream",
     "text": [
      "Index(['CDR3_alfa', 'TRAV', 'TRAJ', 'CDR3_beta', 'TRBV', 'TRBJ', 'reaction',\n",
      "       'TRAJ_family', 'TRAJ_version', 'TRAV_family', 'TRAV_version',\n",
      "       'TRBV_family', 'TRBV_version', 'TRBJ_family', 'TRBJ_version', 'count'],\n",
      "      dtype='object')\n"
     ]
    }
   ],
   "source": [
    "# print our columns\n",
    "print(train_dataset.columns)"
   ],
   "metadata": {
    "collapsed": false
   }
  },
  {
   "cell_type": "markdown",
   "source": [
    "column names seem to mather, lets rename our columns. Our columns are the following:\n",
    "CDR3_alfa, TRAV, TRAJ,\n",
    "CDR3_beta, TRBV, TRBJ\n",
    "reaction"
   ],
   "metadata": {
    "collapsed": false
   }
  },
  {
   "cell_type": "code",
   "execution_count": 21,
   "outputs": [],
   "source": [
    "column_rename_map = {\n",
    "    'CDR3_alfa': 'cdr3_a_aa',\n",
    "    'CDR3_beta': 'cdr3_b_aa',\n",
    "    'TRAV': 'v_a_gene',\n",
    "    'TRAJ': 'j_a_gene',\n",
    "    'TRBV': 'v_b_gene',\n",
    "    'TRBJ': 'j_b_gene'\n",
    "}"
   ],
   "metadata": {
    "collapsed": false
   }
  },
  {
   "cell_type": "code",
   "execution_count": 22,
   "outputs": [
    {
     "data": {
      "text/plain": "           cdr3_a_aa         cdr3_b_aa  v_a_gene j_a_gene v_b_gene j_b_gene\n2   CAFMKQRGGGADGLTF   CASSISSGRGNEQFF  TRAV38-1   TRAJ45   TRBV19  TRBJ2-1\n3     CRNAGGTSYGKLTF  CASSSHQRTGVDEQFF    TRAV25   TRAJ52   TRBV27  TRBJ2-1\n12      CAGASNTGKLIF     CASSLGDNTEAFF    TRAV27   TRAJ37  TRBV7-9  TRBJ1-1",
      "text/html": "<div>\n<style scoped>\n    .dataframe tbody tr th:only-of-type {\n        vertical-align: middle;\n    }\n\n    .dataframe tbody tr th {\n        vertical-align: top;\n    }\n\n    .dataframe thead th {\n        text-align: right;\n    }\n</style>\n<table border=\"1\" class=\"dataframe\">\n  <thead>\n    <tr style=\"text-align: right;\">\n      <th></th>\n      <th>cdr3_a_aa</th>\n      <th>cdr3_b_aa</th>\n      <th>v_a_gene</th>\n      <th>j_a_gene</th>\n      <th>v_b_gene</th>\n      <th>j_b_gene</th>\n    </tr>\n  </thead>\n  <tbody>\n    <tr>\n      <th>2</th>\n      <td>CAFMKQRGGGADGLTF</td>\n      <td>CASSISSGRGNEQFF</td>\n      <td>TRAV38-1</td>\n      <td>TRAJ45</td>\n      <td>TRBV19</td>\n      <td>TRBJ2-1</td>\n    </tr>\n    <tr>\n      <th>3</th>\n      <td>CRNAGGTSYGKLTF</td>\n      <td>CASSSHQRTGVDEQFF</td>\n      <td>TRAV25</td>\n      <td>TRAJ52</td>\n      <td>TRBV27</td>\n      <td>TRBJ2-1</td>\n    </tr>\n    <tr>\n      <th>12</th>\n      <td>CAGASNTGKLIF</td>\n      <td>CASSLGDNTEAFF</td>\n      <td>TRAV27</td>\n      <td>TRAJ37</td>\n      <td>TRBV7-9</td>\n      <td>TRBJ1-1</td>\n    </tr>\n  </tbody>\n</table>\n</div>"
     },
     "execution_count": 22,
     "metadata": {},
     "output_type": "execute_result"
    }
   ],
   "source": [
    "train_dataset = train_dataset.rename(columns=column_rename_map)\n",
    "train_dataset = train_dataset[column_rename_map.values()]\n",
    "train_dataset.head(3)"
   ],
   "metadata": {
    "collapsed": false
   }
  },
  {
   "cell_type": "code",
   "execution_count": 23,
   "outputs": [
    {
     "name": "stderr",
     "output_type": "stream",
     "text": [
      "C:\\Users\\arnod\\AppData\\Local\\Programs\\Python\\Python39\\lib\\site-packages\\tcrdist\\repertoire.py:159: UserWarning: cell_df needs a counts column to track clonal number of frequency\n",
      "\n",
      "  self._validate_cell_df()\n",
      "C:\\Users\\arnod\\AppData\\Local\\Programs\\Python\\Python39\\lib\\site-packages\\tcrdist\\repertoire.py:791: UserWarning: No 'count' column provided; count column set to 1\n",
      "  warnings.warn(\"No 'count' column provided; count column set to 1\")\n",
      "C:\\Users\\arnod\\AppData\\Local\\Programs\\Python\\Python39\\lib\\site-packages\\tcrdist\\repertoire.py:500: UserWarning: TRAV38-1 gene was not recognized in reference db no cdr seq could be inferred\n",
      "  f0 = lambda v : self._map_gene_to_reference_seq2(gene = v,\n",
      "C:\\Users\\arnod\\AppData\\Local\\Programs\\Python\\Python39\\lib\\site-packages\\tcrdist\\repertoire.py:500: UserWarning: TRAV25 gene was not recognized in reference db no cdr seq could be inferred\n",
      "  f0 = lambda v : self._map_gene_to_reference_seq2(gene = v,\n",
      "C:\\Users\\arnod\\AppData\\Local\\Programs\\Python\\Python39\\lib\\site-packages\\tcrdist\\repertoire.py:500: UserWarning: TRAV27 gene was not recognized in reference db no cdr seq could be inferred\n",
      "  f0 = lambda v : self._map_gene_to_reference_seq2(gene = v,\n",
      "C:\\Users\\arnod\\AppData\\Local\\Programs\\Python\\Python39\\lib\\site-packages\\tcrdist\\repertoire.py:500: UserWarning: TRAV6 gene was not recognized in reference db no cdr seq could be inferred\n",
      "  f0 = lambda v : self._map_gene_to_reference_seq2(gene = v,\n",
      "C:\\Users\\arnod\\AppData\\Local\\Programs\\Python\\Python39\\lib\\site-packages\\tcrdist\\repertoire.py:500: UserWarning: TRAV38-2DV8 gene was not recognized in reference db no cdr seq could be inferred\n",
      "  f0 = lambda v : self._map_gene_to_reference_seq2(gene = v,\n",
      "C:\\Users\\arnod\\AppData\\Local\\Programs\\Python\\Python39\\lib\\site-packages\\tcrdist\\repertoire.py:500: UserWarning: TRAV14DV4 gene was not recognized in reference db no cdr seq could be inferred\n",
      "  f0 = lambda v : self._map_gene_to_reference_seq2(gene = v,\n",
      "C:\\Users\\arnod\\AppData\\Local\\Programs\\Python\\Python39\\lib\\site-packages\\tcrdist\\repertoire.py:500: UserWarning: TRAV8-6 gene was not recognized in reference db no cdr seq could be inferred\n",
      "  f0 = lambda v : self._map_gene_to_reference_seq2(gene = v,\n",
      "C:\\Users\\arnod\\AppData\\Local\\Programs\\Python\\Python39\\lib\\site-packages\\tcrdist\\repertoire.py:500: UserWarning: TRAV5 gene was not recognized in reference db no cdr seq could be inferred\n",
      "  f0 = lambda v : self._map_gene_to_reference_seq2(gene = v,\n",
      "C:\\Users\\arnod\\AppData\\Local\\Programs\\Python\\Python39\\lib\\site-packages\\tcrdist\\repertoire.py:500: UserWarning: TRAV16 gene was not recognized in reference db no cdr seq could be inferred\n",
      "  f0 = lambda v : self._map_gene_to_reference_seq2(gene = v,\n",
      "C:\\Users\\arnod\\AppData\\Local\\Programs\\Python\\Python39\\lib\\site-packages\\tcrdist\\repertoire.py:500: UserWarning: TRAV17 gene was not recognized in reference db no cdr seq could be inferred\n",
      "  f0 = lambda v : self._map_gene_to_reference_seq2(gene = v,\n",
      "C:\\Users\\arnod\\AppData\\Local\\Programs\\Python\\Python39\\lib\\site-packages\\tcrdist\\repertoire.py:500: UserWarning: TRAV20 gene was not recognized in reference db no cdr seq could be inferred\n",
      "  f0 = lambda v : self._map_gene_to_reference_seq2(gene = v,\n",
      "C:\\Users\\arnod\\AppData\\Local\\Programs\\Python\\Python39\\lib\\site-packages\\tcrdist\\repertoire.py:500: UserWarning: TRAV22 gene was not recognized in reference db no cdr seq could be inferred\n",
      "  f0 = lambda v : self._map_gene_to_reference_seq2(gene = v,\n",
      "C:\\Users\\arnod\\AppData\\Local\\Programs\\Python\\Python39\\lib\\site-packages\\tcrdist\\repertoire.py:500: UserWarning: TRAV35 gene was not recognized in reference db no cdr seq could be inferred\n",
      "  f0 = lambda v : self._map_gene_to_reference_seq2(gene = v,\n",
      "C:\\Users\\arnod\\AppData\\Local\\Programs\\Python\\Python39\\lib\\site-packages\\tcrdist\\repertoire.py:500: UserWarning: TRAV19 gene was not recognized in reference db no cdr seq could be inferred\n",
      "  f0 = lambda v : self._map_gene_to_reference_seq2(gene = v,\n",
      "C:\\Users\\arnod\\AppData\\Local\\Programs\\Python\\Python39\\lib\\site-packages\\tcrdist\\repertoire.py:500: UserWarning: TRAV26-2 gene was not recognized in reference db no cdr seq could be inferred\n",
      "  f0 = lambda v : self._map_gene_to_reference_seq2(gene = v,\n",
      "C:\\Users\\arnod\\AppData\\Local\\Programs\\Python\\Python39\\lib\\site-packages\\tcrdist\\repertoire.py:500: UserWarning: TRAV8-3 gene was not recognized in reference db no cdr seq could be inferred\n",
      "  f0 = lambda v : self._map_gene_to_reference_seq2(gene = v,\n",
      "C:\\Users\\arnod\\AppData\\Local\\Programs\\Python\\Python39\\lib\\site-packages\\tcrdist\\repertoire.py:500: UserWarning: TRAV3 gene was not recognized in reference db no cdr seq could be inferred\n",
      "  f0 = lambda v : self._map_gene_to_reference_seq2(gene = v,\n",
      "C:\\Users\\arnod\\AppData\\Local\\Programs\\Python\\Python39\\lib\\site-packages\\tcrdist\\repertoire.py:500: UserWarning: TRAV26-1 gene was not recognized in reference db no cdr seq could be inferred\n",
      "  f0 = lambda v : self._map_gene_to_reference_seq2(gene = v,\n",
      "C:\\Users\\arnod\\AppData\\Local\\Programs\\Python\\Python39\\lib\\site-packages\\tcrdist\\repertoire.py:500: UserWarning: TRAV13-1 gene was not recognized in reference db no cdr seq could be inferred\n",
      "  f0 = lambda v : self._map_gene_to_reference_seq2(gene = v,\n",
      "C:\\Users\\arnod\\AppData\\Local\\Programs\\Python\\Python39\\lib\\site-packages\\tcrdist\\repertoire.py:500: UserWarning: TRAV29/DV5 gene was not recognized in reference db no cdr seq could be inferred\n",
      "  f0 = lambda v : self._map_gene_to_reference_seq2(gene = v,\n",
      "C:\\Users\\arnod\\AppData\\Local\\Programs\\Python\\Python39\\lib\\site-packages\\tcrdist\\repertoire.py:500: UserWarning: TRAV1-2 gene was not recognized in reference db no cdr seq could be inferred\n",
      "  f0 = lambda v : self._map_gene_to_reference_seq2(gene = v,\n",
      "C:\\Users\\arnod\\AppData\\Local\\Programs\\Python\\Python39\\lib\\site-packages\\tcrdist\\repertoire.py:500: UserWarning: TRAV8-1 gene was not recognized in reference db no cdr seq could be inferred\n",
      "  f0 = lambda v : self._map_gene_to_reference_seq2(gene = v,\n",
      "C:\\Users\\arnod\\AppData\\Local\\Programs\\Python\\Python39\\lib\\site-packages\\tcrdist\\repertoire.py:500: UserWarning: TRAV29DV5 gene was not recognized in reference db no cdr seq could be inferred\n",
      "  f0 = lambda v : self._map_gene_to_reference_seq2(gene = v,\n",
      "C:\\Users\\arnod\\AppData\\Local\\Programs\\Python\\Python39\\lib\\site-packages\\tcrdist\\repertoire.py:500: UserWarning: TRAV8-4 gene was not recognized in reference db no cdr seq could be inferred\n",
      "  f0 = lambda v : self._map_gene_to_reference_seq2(gene = v,\n",
      "C:\\Users\\arnod\\AppData\\Local\\Programs\\Python\\Python39\\lib\\site-packages\\tcrdist\\repertoire.py:500: UserWarning: TRAV13-2 gene was not recognized in reference db no cdr seq could be inferred\n",
      "  f0 = lambda v : self._map_gene_to_reference_seq2(gene = v,\n",
      "C:\\Users\\arnod\\AppData\\Local\\Programs\\Python\\Python39\\lib\\site-packages\\tcrdist\\repertoire.py:500: UserWarning: TRAV21 gene was not recognized in reference db no cdr seq could be inferred\n",
      "  f0 = lambda v : self._map_gene_to_reference_seq2(gene = v,\n",
      "C:\\Users\\arnod\\AppData\\Local\\Programs\\Python\\Python39\\lib\\site-packages\\tcrdist\\repertoire.py:500: UserWarning: TRAV4 gene was not recognized in reference db no cdr seq could be inferred\n",
      "  f0 = lambda v : self._map_gene_to_reference_seq2(gene = v,\n",
      "C:\\Users\\arnod\\AppData\\Local\\Programs\\Python\\Python39\\lib\\site-packages\\tcrdist\\repertoire.py:500: UserWarning: TRDV1 gene was not recognized in reference db no cdr seq could be inferred\n",
      "  f0 = lambda v : self._map_gene_to_reference_seq2(gene = v,\n",
      "C:\\Users\\arnod\\AppData\\Local\\Programs\\Python\\Python39\\lib\\site-packages\\tcrdist\\repertoire.py:500: UserWarning: TRAV1-1 gene was not recognized in reference db no cdr seq could be inferred\n",
      "  f0 = lambda v : self._map_gene_to_reference_seq2(gene = v,\n",
      "C:\\Users\\arnod\\AppData\\Local\\Programs\\Python\\Python39\\lib\\site-packages\\tcrdist\\repertoire.py:500: UserWarning: TRAV12-1 gene was not recognized in reference db no cdr seq could be inferred\n",
      "  f0 = lambda v : self._map_gene_to_reference_seq2(gene = v,\n",
      "C:\\Users\\arnod\\AppData\\Local\\Programs\\Python\\Python39\\lib\\site-packages\\tcrdist\\repertoire.py:500: UserWarning: TRAV30 gene was not recognized in reference db no cdr seq could be inferred\n",
      "  f0 = lambda v : self._map_gene_to_reference_seq2(gene = v,\n",
      "C:\\Users\\arnod\\AppData\\Local\\Programs\\Python\\Python39\\lib\\site-packages\\tcrdist\\repertoire.py:500: UserWarning: TRAV14/DV4 gene was not recognized in reference db no cdr seq could be inferred\n",
      "  f0 = lambda v : self._map_gene_to_reference_seq2(gene = v,\n",
      "C:\\Users\\arnod\\AppData\\Local\\Programs\\Python\\Python39\\lib\\site-packages\\tcrdist\\repertoire.py:500: UserWarning: TRAV12-2 gene was not recognized in reference db no cdr seq could be inferred\n",
      "  f0 = lambda v : self._map_gene_to_reference_seq2(gene = v,\n",
      "C:\\Users\\arnod\\AppData\\Local\\Programs\\Python\\Python39\\lib\\site-packages\\tcrdist\\repertoire.py:500: UserWarning: TRAV23/DV6 gene was not recognized in reference db no cdr seq could be inferred\n",
      "  f0 = lambda v : self._map_gene_to_reference_seq2(gene = v,\n",
      "C:\\Users\\arnod\\AppData\\Local\\Programs\\Python\\Python39\\lib\\site-packages\\tcrdist\\repertoire.py:500: UserWarning: TRAV41 gene was not recognized in reference db no cdr seq could be inferred\n",
      "  f0 = lambda v : self._map_gene_to_reference_seq2(gene = v,\n",
      "C:\\Users\\arnod\\AppData\\Local\\Programs\\Python\\Python39\\lib\\site-packages\\tcrdist\\repertoire.py:500: UserWarning: TRAV24 gene was not recognized in reference db no cdr seq could be inferred\n",
      "  f0 = lambda v : self._map_gene_to_reference_seq2(gene = v,\n",
      "C:\\Users\\arnod\\AppData\\Local\\Programs\\Python\\Python39\\lib\\site-packages\\tcrdist\\repertoire.py:504: UserWarning: TRAV38-1 gene was not recognized in reference db no cdr seq could be inferred\n",
      "  f1 = lambda v : self._map_gene_to_reference_seq2(gene = v,\n",
      "C:\\Users\\arnod\\AppData\\Local\\Programs\\Python\\Python39\\lib\\site-packages\\tcrdist\\repertoire.py:504: UserWarning: TRAV25 gene was not recognized in reference db no cdr seq could be inferred\n",
      "  f1 = lambda v : self._map_gene_to_reference_seq2(gene = v,\n",
      "C:\\Users\\arnod\\AppData\\Local\\Programs\\Python\\Python39\\lib\\site-packages\\tcrdist\\repertoire.py:504: UserWarning: TRAV27 gene was not recognized in reference db no cdr seq could be inferred\n",
      "  f1 = lambda v : self._map_gene_to_reference_seq2(gene = v,\n",
      "C:\\Users\\arnod\\AppData\\Local\\Programs\\Python\\Python39\\lib\\site-packages\\tcrdist\\repertoire.py:504: UserWarning: TRAV6 gene was not recognized in reference db no cdr seq could be inferred\n",
      "  f1 = lambda v : self._map_gene_to_reference_seq2(gene = v,\n",
      "C:\\Users\\arnod\\AppData\\Local\\Programs\\Python\\Python39\\lib\\site-packages\\tcrdist\\repertoire.py:504: UserWarning: TRAV38-2DV8 gene was not recognized in reference db no cdr seq could be inferred\n",
      "  f1 = lambda v : self._map_gene_to_reference_seq2(gene = v,\n",
      "C:\\Users\\arnod\\AppData\\Local\\Programs\\Python\\Python39\\lib\\site-packages\\tcrdist\\repertoire.py:504: UserWarning: TRAV14DV4 gene was not recognized in reference db no cdr seq could be inferred\n",
      "  f1 = lambda v : self._map_gene_to_reference_seq2(gene = v,\n",
      "C:\\Users\\arnod\\AppData\\Local\\Programs\\Python\\Python39\\lib\\site-packages\\tcrdist\\repertoire.py:504: UserWarning: TRAV8-6 gene was not recognized in reference db no cdr seq could be inferred\n",
      "  f1 = lambda v : self._map_gene_to_reference_seq2(gene = v,\n",
      "C:\\Users\\arnod\\AppData\\Local\\Programs\\Python\\Python39\\lib\\site-packages\\tcrdist\\repertoire.py:504: UserWarning: TRAV5 gene was not recognized in reference db no cdr seq could be inferred\n",
      "  f1 = lambda v : self._map_gene_to_reference_seq2(gene = v,\n",
      "C:\\Users\\arnod\\AppData\\Local\\Programs\\Python\\Python39\\lib\\site-packages\\tcrdist\\repertoire.py:504: UserWarning: TRAV16 gene was not recognized in reference db no cdr seq could be inferred\n",
      "  f1 = lambda v : self._map_gene_to_reference_seq2(gene = v,\n",
      "C:\\Users\\arnod\\AppData\\Local\\Programs\\Python\\Python39\\lib\\site-packages\\tcrdist\\repertoire.py:504: UserWarning: TRAV17 gene was not recognized in reference db no cdr seq could be inferred\n",
      "  f1 = lambda v : self._map_gene_to_reference_seq2(gene = v,\n",
      "C:\\Users\\arnod\\AppData\\Local\\Programs\\Python\\Python39\\lib\\site-packages\\tcrdist\\repertoire.py:504: UserWarning: TRAV20 gene was not recognized in reference db no cdr seq could be inferred\n",
      "  f1 = lambda v : self._map_gene_to_reference_seq2(gene = v,\n",
      "C:\\Users\\arnod\\AppData\\Local\\Programs\\Python\\Python39\\lib\\site-packages\\tcrdist\\repertoire.py:504: UserWarning: TRAV22 gene was not recognized in reference db no cdr seq could be inferred\n",
      "  f1 = lambda v : self._map_gene_to_reference_seq2(gene = v,\n",
      "C:\\Users\\arnod\\AppData\\Local\\Programs\\Python\\Python39\\lib\\site-packages\\tcrdist\\repertoire.py:504: UserWarning: TRAV35 gene was not recognized in reference db no cdr seq could be inferred\n",
      "  f1 = lambda v : self._map_gene_to_reference_seq2(gene = v,\n",
      "C:\\Users\\arnod\\AppData\\Local\\Programs\\Python\\Python39\\lib\\site-packages\\tcrdist\\repertoire.py:504: UserWarning: TRAV19 gene was not recognized in reference db no cdr seq could be inferred\n",
      "  f1 = lambda v : self._map_gene_to_reference_seq2(gene = v,\n",
      "C:\\Users\\arnod\\AppData\\Local\\Programs\\Python\\Python39\\lib\\site-packages\\tcrdist\\repertoire.py:504: UserWarning: TRAV26-2 gene was not recognized in reference db no cdr seq could be inferred\n",
      "  f1 = lambda v : self._map_gene_to_reference_seq2(gene = v,\n",
      "C:\\Users\\arnod\\AppData\\Local\\Programs\\Python\\Python39\\lib\\site-packages\\tcrdist\\repertoire.py:504: UserWarning: TRAV8-3 gene was not recognized in reference db no cdr seq could be inferred\n",
      "  f1 = lambda v : self._map_gene_to_reference_seq2(gene = v,\n",
      "C:\\Users\\arnod\\AppData\\Local\\Programs\\Python\\Python39\\lib\\site-packages\\tcrdist\\repertoire.py:504: UserWarning: TRAV3 gene was not recognized in reference db no cdr seq could be inferred\n",
      "  f1 = lambda v : self._map_gene_to_reference_seq2(gene = v,\n",
      "C:\\Users\\arnod\\AppData\\Local\\Programs\\Python\\Python39\\lib\\site-packages\\tcrdist\\repertoire.py:504: UserWarning: TRAV26-1 gene was not recognized in reference db no cdr seq could be inferred\n",
      "  f1 = lambda v : self._map_gene_to_reference_seq2(gene = v,\n",
      "C:\\Users\\arnod\\AppData\\Local\\Programs\\Python\\Python39\\lib\\site-packages\\tcrdist\\repertoire.py:504: UserWarning: TRAV13-1 gene was not recognized in reference db no cdr seq could be inferred\n",
      "  f1 = lambda v : self._map_gene_to_reference_seq2(gene = v,\n",
      "C:\\Users\\arnod\\AppData\\Local\\Programs\\Python\\Python39\\lib\\site-packages\\tcrdist\\repertoire.py:504: UserWarning: TRAV29/DV5 gene was not recognized in reference db no cdr seq could be inferred\n",
      "  f1 = lambda v : self._map_gene_to_reference_seq2(gene = v,\n",
      "C:\\Users\\arnod\\AppData\\Local\\Programs\\Python\\Python39\\lib\\site-packages\\tcrdist\\repertoire.py:504: UserWarning: TRAV1-2 gene was not recognized in reference db no cdr seq could be inferred\n",
      "  f1 = lambda v : self._map_gene_to_reference_seq2(gene = v,\n",
      "C:\\Users\\arnod\\AppData\\Local\\Programs\\Python\\Python39\\lib\\site-packages\\tcrdist\\repertoire.py:504: UserWarning: TRAV8-1 gene was not recognized in reference db no cdr seq could be inferred\n",
      "  f1 = lambda v : self._map_gene_to_reference_seq2(gene = v,\n",
      "C:\\Users\\arnod\\AppData\\Local\\Programs\\Python\\Python39\\lib\\site-packages\\tcrdist\\repertoire.py:504: UserWarning: TRAV29DV5 gene was not recognized in reference db no cdr seq could be inferred\n",
      "  f1 = lambda v : self._map_gene_to_reference_seq2(gene = v,\n",
      "C:\\Users\\arnod\\AppData\\Local\\Programs\\Python\\Python39\\lib\\site-packages\\tcrdist\\repertoire.py:504: UserWarning: TRAV8-4 gene was not recognized in reference db no cdr seq could be inferred\n",
      "  f1 = lambda v : self._map_gene_to_reference_seq2(gene = v,\n",
      "C:\\Users\\arnod\\AppData\\Local\\Programs\\Python\\Python39\\lib\\site-packages\\tcrdist\\repertoire.py:504: UserWarning: TRAV13-2 gene was not recognized in reference db no cdr seq could be inferred\n",
      "  f1 = lambda v : self._map_gene_to_reference_seq2(gene = v,\n",
      "C:\\Users\\arnod\\AppData\\Local\\Programs\\Python\\Python39\\lib\\site-packages\\tcrdist\\repertoire.py:504: UserWarning: TRAV21 gene was not recognized in reference db no cdr seq could be inferred\n",
      "  f1 = lambda v : self._map_gene_to_reference_seq2(gene = v,\n",
      "C:\\Users\\arnod\\AppData\\Local\\Programs\\Python\\Python39\\lib\\site-packages\\tcrdist\\repertoire.py:504: UserWarning: TRAV4 gene was not recognized in reference db no cdr seq could be inferred\n",
      "  f1 = lambda v : self._map_gene_to_reference_seq2(gene = v,\n",
      "C:\\Users\\arnod\\AppData\\Local\\Programs\\Python\\Python39\\lib\\site-packages\\tcrdist\\repertoire.py:504: UserWarning: TRDV1 gene was not recognized in reference db no cdr seq could be inferred\n",
      "  f1 = lambda v : self._map_gene_to_reference_seq2(gene = v,\n",
      "C:\\Users\\arnod\\AppData\\Local\\Programs\\Python\\Python39\\lib\\site-packages\\tcrdist\\repertoire.py:504: UserWarning: TRAV1-1 gene was not recognized in reference db no cdr seq could be inferred\n",
      "  f1 = lambda v : self._map_gene_to_reference_seq2(gene = v,\n",
      "C:\\Users\\arnod\\AppData\\Local\\Programs\\Python\\Python39\\lib\\site-packages\\tcrdist\\repertoire.py:504: UserWarning: TRAV12-1 gene was not recognized in reference db no cdr seq could be inferred\n",
      "  f1 = lambda v : self._map_gene_to_reference_seq2(gene = v,\n",
      "C:\\Users\\arnod\\AppData\\Local\\Programs\\Python\\Python39\\lib\\site-packages\\tcrdist\\repertoire.py:504: UserWarning: TRAV30 gene was not recognized in reference db no cdr seq could be inferred\n",
      "  f1 = lambda v : self._map_gene_to_reference_seq2(gene = v,\n",
      "C:\\Users\\arnod\\AppData\\Local\\Programs\\Python\\Python39\\lib\\site-packages\\tcrdist\\repertoire.py:504: UserWarning: TRAV14/DV4 gene was not recognized in reference db no cdr seq could be inferred\n",
      "  f1 = lambda v : self._map_gene_to_reference_seq2(gene = v,\n",
      "C:\\Users\\arnod\\AppData\\Local\\Programs\\Python\\Python39\\lib\\site-packages\\tcrdist\\repertoire.py:504: UserWarning: TRAV12-2 gene was not recognized in reference db no cdr seq could be inferred\n",
      "  f1 = lambda v : self._map_gene_to_reference_seq2(gene = v,\n",
      "C:\\Users\\arnod\\AppData\\Local\\Programs\\Python\\Python39\\lib\\site-packages\\tcrdist\\repertoire.py:504: UserWarning: TRAV23/DV6 gene was not recognized in reference db no cdr seq could be inferred\n",
      "  f1 = lambda v : self._map_gene_to_reference_seq2(gene = v,\n",
      "C:\\Users\\arnod\\AppData\\Local\\Programs\\Python\\Python39\\lib\\site-packages\\tcrdist\\repertoire.py:504: UserWarning: TRAV41 gene was not recognized in reference db no cdr seq could be inferred\n",
      "  f1 = lambda v : self._map_gene_to_reference_seq2(gene = v,\n",
      "C:\\Users\\arnod\\AppData\\Local\\Programs\\Python\\Python39\\lib\\site-packages\\tcrdist\\repertoire.py:504: UserWarning: TRAV24 gene was not recognized in reference db no cdr seq could be inferred\n",
      "  f1 = lambda v : self._map_gene_to_reference_seq2(gene = v,\n",
      "C:\\Users\\arnod\\AppData\\Local\\Programs\\Python\\Python39\\lib\\site-packages\\tcrdist\\repertoire.py:508: UserWarning: TRAV38-1 gene was not recognized in reference db no cdr seq could be inferred\n",
      "  f2 = lambda v : self._map_gene_to_reference_seq2(gene = v,\n",
      "C:\\Users\\arnod\\AppData\\Local\\Programs\\Python\\Python39\\lib\\site-packages\\tcrdist\\repertoire.py:508: UserWarning: TRAV25 gene was not recognized in reference db no cdr seq could be inferred\n",
      "  f2 = lambda v : self._map_gene_to_reference_seq2(gene = v,\n",
      "C:\\Users\\arnod\\AppData\\Local\\Programs\\Python\\Python39\\lib\\site-packages\\tcrdist\\repertoire.py:508: UserWarning: TRAV27 gene was not recognized in reference db no cdr seq could be inferred\n",
      "  f2 = lambda v : self._map_gene_to_reference_seq2(gene = v,\n",
      "C:\\Users\\arnod\\AppData\\Local\\Programs\\Python\\Python39\\lib\\site-packages\\tcrdist\\repertoire.py:508: UserWarning: TRAV6 gene was not recognized in reference db no cdr seq could be inferred\n",
      "  f2 = lambda v : self._map_gene_to_reference_seq2(gene = v,\n",
      "C:\\Users\\arnod\\AppData\\Local\\Programs\\Python\\Python39\\lib\\site-packages\\tcrdist\\repertoire.py:508: UserWarning: TRAV38-2DV8 gene was not recognized in reference db no cdr seq could be inferred\n",
      "  f2 = lambda v : self._map_gene_to_reference_seq2(gene = v,\n",
      "C:\\Users\\arnod\\AppData\\Local\\Programs\\Python\\Python39\\lib\\site-packages\\tcrdist\\repertoire.py:508: UserWarning: TRAV14DV4 gene was not recognized in reference db no cdr seq could be inferred\n",
      "  f2 = lambda v : self._map_gene_to_reference_seq2(gene = v,\n",
      "C:\\Users\\arnod\\AppData\\Local\\Programs\\Python\\Python39\\lib\\site-packages\\tcrdist\\repertoire.py:508: UserWarning: TRAV8-6 gene was not recognized in reference db no cdr seq could be inferred\n",
      "  f2 = lambda v : self._map_gene_to_reference_seq2(gene = v,\n",
      "C:\\Users\\arnod\\AppData\\Local\\Programs\\Python\\Python39\\lib\\site-packages\\tcrdist\\repertoire.py:508: UserWarning: TRAV5 gene was not recognized in reference db no cdr seq could be inferred\n",
      "  f2 = lambda v : self._map_gene_to_reference_seq2(gene = v,\n",
      "C:\\Users\\arnod\\AppData\\Local\\Programs\\Python\\Python39\\lib\\site-packages\\tcrdist\\repertoire.py:508: UserWarning: TRAV16 gene was not recognized in reference db no cdr seq could be inferred\n",
      "  f2 = lambda v : self._map_gene_to_reference_seq2(gene = v,\n",
      "C:\\Users\\arnod\\AppData\\Local\\Programs\\Python\\Python39\\lib\\site-packages\\tcrdist\\repertoire.py:508: UserWarning: TRAV17 gene was not recognized in reference db no cdr seq could be inferred\n",
      "  f2 = lambda v : self._map_gene_to_reference_seq2(gene = v,\n",
      "C:\\Users\\arnod\\AppData\\Local\\Programs\\Python\\Python39\\lib\\site-packages\\tcrdist\\repertoire.py:508: UserWarning: TRAV20 gene was not recognized in reference db no cdr seq could be inferred\n",
      "  f2 = lambda v : self._map_gene_to_reference_seq2(gene = v,\n",
      "C:\\Users\\arnod\\AppData\\Local\\Programs\\Python\\Python39\\lib\\site-packages\\tcrdist\\repertoire.py:508: UserWarning: TRAV22 gene was not recognized in reference db no cdr seq could be inferred\n",
      "  f2 = lambda v : self._map_gene_to_reference_seq2(gene = v,\n",
      "C:\\Users\\arnod\\AppData\\Local\\Programs\\Python\\Python39\\lib\\site-packages\\tcrdist\\repertoire.py:508: UserWarning: TRAV35 gene was not recognized in reference db no cdr seq could be inferred\n",
      "  f2 = lambda v : self._map_gene_to_reference_seq2(gene = v,\n",
      "C:\\Users\\arnod\\AppData\\Local\\Programs\\Python\\Python39\\lib\\site-packages\\tcrdist\\repertoire.py:508: UserWarning: TRAV19 gene was not recognized in reference db no cdr seq could be inferred\n",
      "  f2 = lambda v : self._map_gene_to_reference_seq2(gene = v,\n",
      "C:\\Users\\arnod\\AppData\\Local\\Programs\\Python\\Python39\\lib\\site-packages\\tcrdist\\repertoire.py:508: UserWarning: TRAV26-2 gene was not recognized in reference db no cdr seq could be inferred\n",
      "  f2 = lambda v : self._map_gene_to_reference_seq2(gene = v,\n",
      "C:\\Users\\arnod\\AppData\\Local\\Programs\\Python\\Python39\\lib\\site-packages\\tcrdist\\repertoire.py:508: UserWarning: TRAV8-3 gene was not recognized in reference db no cdr seq could be inferred\n",
      "  f2 = lambda v : self._map_gene_to_reference_seq2(gene = v,\n",
      "C:\\Users\\arnod\\AppData\\Local\\Programs\\Python\\Python39\\lib\\site-packages\\tcrdist\\repertoire.py:508: UserWarning: TRAV3 gene was not recognized in reference db no cdr seq could be inferred\n",
      "  f2 = lambda v : self._map_gene_to_reference_seq2(gene = v,\n",
      "C:\\Users\\arnod\\AppData\\Local\\Programs\\Python\\Python39\\lib\\site-packages\\tcrdist\\repertoire.py:508: UserWarning: TRAV26-1 gene was not recognized in reference db no cdr seq could be inferred\n",
      "  f2 = lambda v : self._map_gene_to_reference_seq2(gene = v,\n",
      "C:\\Users\\arnod\\AppData\\Local\\Programs\\Python\\Python39\\lib\\site-packages\\tcrdist\\repertoire.py:508: UserWarning: TRAV13-1 gene was not recognized in reference db no cdr seq could be inferred\n",
      "  f2 = lambda v : self._map_gene_to_reference_seq2(gene = v,\n",
      "C:\\Users\\arnod\\AppData\\Local\\Programs\\Python\\Python39\\lib\\site-packages\\tcrdist\\repertoire.py:508: UserWarning: TRAV29/DV5 gene was not recognized in reference db no cdr seq could be inferred\n",
      "  f2 = lambda v : self._map_gene_to_reference_seq2(gene = v,\n",
      "C:\\Users\\arnod\\AppData\\Local\\Programs\\Python\\Python39\\lib\\site-packages\\tcrdist\\repertoire.py:508: UserWarning: TRAV1-2 gene was not recognized in reference db no cdr seq could be inferred\n",
      "  f2 = lambda v : self._map_gene_to_reference_seq2(gene = v,\n",
      "C:\\Users\\arnod\\AppData\\Local\\Programs\\Python\\Python39\\lib\\site-packages\\tcrdist\\repertoire.py:508: UserWarning: TRAV8-1 gene was not recognized in reference db no cdr seq could be inferred\n",
      "  f2 = lambda v : self._map_gene_to_reference_seq2(gene = v,\n",
      "C:\\Users\\arnod\\AppData\\Local\\Programs\\Python\\Python39\\lib\\site-packages\\tcrdist\\repertoire.py:508: UserWarning: TRAV29DV5 gene was not recognized in reference db no cdr seq could be inferred\n",
      "  f2 = lambda v : self._map_gene_to_reference_seq2(gene = v,\n",
      "C:\\Users\\arnod\\AppData\\Local\\Programs\\Python\\Python39\\lib\\site-packages\\tcrdist\\repertoire.py:508: UserWarning: TRAV8-4 gene was not recognized in reference db no cdr seq could be inferred\n",
      "  f2 = lambda v : self._map_gene_to_reference_seq2(gene = v,\n",
      "C:\\Users\\arnod\\AppData\\Local\\Programs\\Python\\Python39\\lib\\site-packages\\tcrdist\\repertoire.py:508: UserWarning: TRAV13-2 gene was not recognized in reference db no cdr seq could be inferred\n",
      "  f2 = lambda v : self._map_gene_to_reference_seq2(gene = v,\n",
      "C:\\Users\\arnod\\AppData\\Local\\Programs\\Python\\Python39\\lib\\site-packages\\tcrdist\\repertoire.py:508: UserWarning: TRAV21 gene was not recognized in reference db no cdr seq could be inferred\n",
      "  f2 = lambda v : self._map_gene_to_reference_seq2(gene = v,\n",
      "C:\\Users\\arnod\\AppData\\Local\\Programs\\Python\\Python39\\lib\\site-packages\\tcrdist\\repertoire.py:508: UserWarning: TRAV4 gene was not recognized in reference db no cdr seq could be inferred\n",
      "  f2 = lambda v : self._map_gene_to_reference_seq2(gene = v,\n",
      "C:\\Users\\arnod\\AppData\\Local\\Programs\\Python\\Python39\\lib\\site-packages\\tcrdist\\repertoire.py:508: UserWarning: TRDV1 gene was not recognized in reference db no cdr seq could be inferred\n",
      "  f2 = lambda v : self._map_gene_to_reference_seq2(gene = v,\n",
      "C:\\Users\\arnod\\AppData\\Local\\Programs\\Python\\Python39\\lib\\site-packages\\tcrdist\\repertoire.py:508: UserWarning: TRAV1-1 gene was not recognized in reference db no cdr seq could be inferred\n",
      "  f2 = lambda v : self._map_gene_to_reference_seq2(gene = v,\n",
      "C:\\Users\\arnod\\AppData\\Local\\Programs\\Python\\Python39\\lib\\site-packages\\tcrdist\\repertoire.py:508: UserWarning: TRAV12-1 gene was not recognized in reference db no cdr seq could be inferred\n",
      "  f2 = lambda v : self._map_gene_to_reference_seq2(gene = v,\n",
      "C:\\Users\\arnod\\AppData\\Local\\Programs\\Python\\Python39\\lib\\site-packages\\tcrdist\\repertoire.py:508: UserWarning: TRAV30 gene was not recognized in reference db no cdr seq could be inferred\n",
      "  f2 = lambda v : self._map_gene_to_reference_seq2(gene = v,\n",
      "C:\\Users\\arnod\\AppData\\Local\\Programs\\Python\\Python39\\lib\\site-packages\\tcrdist\\repertoire.py:508: UserWarning: TRAV14/DV4 gene was not recognized in reference db no cdr seq could be inferred\n",
      "  f2 = lambda v : self._map_gene_to_reference_seq2(gene = v,\n",
      "C:\\Users\\arnod\\AppData\\Local\\Programs\\Python\\Python39\\lib\\site-packages\\tcrdist\\repertoire.py:508: UserWarning: TRAV12-2 gene was not recognized in reference db no cdr seq could be inferred\n",
      "  f2 = lambda v : self._map_gene_to_reference_seq2(gene = v,\n",
      "C:\\Users\\arnod\\AppData\\Local\\Programs\\Python\\Python39\\lib\\site-packages\\tcrdist\\repertoire.py:508: UserWarning: TRAV23/DV6 gene was not recognized in reference db no cdr seq could be inferred\n",
      "  f2 = lambda v : self._map_gene_to_reference_seq2(gene = v,\n",
      "C:\\Users\\arnod\\AppData\\Local\\Programs\\Python\\Python39\\lib\\site-packages\\tcrdist\\repertoire.py:508: UserWarning: TRAV41 gene was not recognized in reference db no cdr seq could be inferred\n",
      "  f2 = lambda v : self._map_gene_to_reference_seq2(gene = v,\n",
      "C:\\Users\\arnod\\AppData\\Local\\Programs\\Python\\Python39\\lib\\site-packages\\tcrdist\\repertoire.py:508: UserWarning: TRAV24 gene was not recognized in reference db no cdr seq could be inferred\n",
      "  f2 = lambda v : self._map_gene_to_reference_seq2(gene = v,\n",
      "C:\\Users\\arnod\\AppData\\Local\\Programs\\Python\\Python39\\lib\\site-packages\\tcrdist\\repertoire.py:500: UserWarning: TRBV19 gene was not recognized in reference db no cdr seq could be inferred\n",
      "  f0 = lambda v : self._map_gene_to_reference_seq2(gene = v,\n",
      "C:\\Users\\arnod\\AppData\\Local\\Programs\\Python\\Python39\\lib\\site-packages\\tcrdist\\repertoire.py:500: UserWarning: TRBV27 gene was not recognized in reference db no cdr seq could be inferred\n",
      "  f0 = lambda v : self._map_gene_to_reference_seq2(gene = v,\n",
      "C:\\Users\\arnod\\AppData\\Local\\Programs\\Python\\Python39\\lib\\site-packages\\tcrdist\\repertoire.py:500: UserWarning: TRBV7-9 gene was not recognized in reference db no cdr seq could be inferred\n",
      "  f0 = lambda v : self._map_gene_to_reference_seq2(gene = v,\n",
      "C:\\Users\\arnod\\AppData\\Local\\Programs\\Python\\Python39\\lib\\site-packages\\tcrdist\\repertoire.py:500: UserWarning: TRBV12-3 gene was not recognized in reference db no cdr seq could be inferred\n",
      "  f0 = lambda v : self._map_gene_to_reference_seq2(gene = v,\n",
      "C:\\Users\\arnod\\AppData\\Local\\Programs\\Python\\Python39\\lib\\site-packages\\tcrdist\\repertoire.py:500: UserWarning: TRBV4-1 gene was not recognized in reference db no cdr seq could be inferred\n",
      "  f0 = lambda v : self._map_gene_to_reference_seq2(gene = v,\n",
      "C:\\Users\\arnod\\AppData\\Local\\Programs\\Python\\Python39\\lib\\site-packages\\tcrdist\\repertoire.py:500: UserWarning: TRBV6-6 gene was not recognized in reference db no cdr seq could be inferred\n",
      "  f0 = lambda v : self._map_gene_to_reference_seq2(gene = v,\n",
      "C:\\Users\\arnod\\AppData\\Local\\Programs\\Python\\Python39\\lib\\site-packages\\tcrdist\\repertoire.py:500: UserWarning: TRBV9 gene was not recognized in reference db no cdr seq could be inferred\n",
      "  f0 = lambda v : self._map_gene_to_reference_seq2(gene = v,\n",
      "C:\\Users\\arnod\\AppData\\Local\\Programs\\Python\\Python39\\lib\\site-packages\\tcrdist\\repertoire.py:500: UserWarning: TRBV7-2 gene was not recognized in reference db no cdr seq could be inferred\n",
      "  f0 = lambda v : self._map_gene_to_reference_seq2(gene = v,\n",
      "C:\\Users\\arnod\\AppData\\Local\\Programs\\Python\\Python39\\lib\\site-packages\\tcrdist\\repertoire.py:500: UserWarning: TRBV6-1 gene was not recognized in reference db no cdr seq could be inferred\n",
      "  f0 = lambda v : self._map_gene_to_reference_seq2(gene = v,\n",
      "C:\\Users\\arnod\\AppData\\Local\\Programs\\Python\\Python39\\lib\\site-packages\\tcrdist\\repertoire.py:500: UserWarning: TRBV6-5 gene was not recognized in reference db no cdr seq could be inferred\n",
      "  f0 = lambda v : self._map_gene_to_reference_seq2(gene = v,\n",
      "C:\\Users\\arnod\\AppData\\Local\\Programs\\Python\\Python39\\lib\\site-packages\\tcrdist\\repertoire.py:500: UserWarning: TRBV7-3 gene was not recognized in reference db no cdr seq could be inferred\n",
      "  f0 = lambda v : self._map_gene_to_reference_seq2(gene = v,\n",
      "C:\\Users\\arnod\\AppData\\Local\\Programs\\Python\\Python39\\lib\\site-packages\\tcrdist\\repertoire.py:500: UserWarning: TRBV4-3 gene was not recognized in reference db no cdr seq could be inferred\n",
      "  f0 = lambda v : self._map_gene_to_reference_seq2(gene = v,\n",
      "C:\\Users\\arnod\\AppData\\Local\\Programs\\Python\\Python39\\lib\\site-packages\\tcrdist\\repertoire.py:500: UserWarning: TRBV11-1 gene was not recognized in reference db no cdr seq could be inferred\n",
      "  f0 = lambda v : self._map_gene_to_reference_seq2(gene = v,\n",
      "C:\\Users\\arnod\\AppData\\Local\\Programs\\Python\\Python39\\lib\\site-packages\\tcrdist\\repertoire.py:500: UserWarning: TRBV20-1 gene was not recognized in reference db no cdr seq could be inferred\n",
      "  f0 = lambda v : self._map_gene_to_reference_seq2(gene = v,\n",
      "C:\\Users\\arnod\\AppData\\Local\\Programs\\Python\\Python39\\lib\\site-packages\\tcrdist\\repertoire.py:500: UserWarning: TRBV4-2 gene was not recognized in reference db no cdr seq could be inferred\n",
      "  f0 = lambda v : self._map_gene_to_reference_seq2(gene = v,\n",
      "C:\\Users\\arnod\\AppData\\Local\\Programs\\Python\\Python39\\lib\\site-packages\\tcrdist\\repertoire.py:500: UserWarning: TRBV11-2 gene was not recognized in reference db no cdr seq could be inferred\n",
      "  f0 = lambda v : self._map_gene_to_reference_seq2(gene = v,\n",
      "C:\\Users\\arnod\\AppData\\Local\\Programs\\Python\\Python39\\lib\\site-packages\\tcrdist\\repertoire.py:500: UserWarning: TRBV6-2 gene was not recognized in reference db no cdr seq could be inferred\n",
      "  f0 = lambda v : self._map_gene_to_reference_seq2(gene = v,\n",
      "C:\\Users\\arnod\\AppData\\Local\\Programs\\Python\\Python39\\lib\\site-packages\\tcrdist\\repertoire.py:500: UserWarning: TRBV7-6 gene was not recognized in reference db no cdr seq could be inferred\n",
      "  f0 = lambda v : self._map_gene_to_reference_seq2(gene = v,\n",
      "C:\\Users\\arnod\\AppData\\Local\\Programs\\Python\\Python39\\lib\\site-packages\\tcrdist\\repertoire.py:500: UserWarning: TRBV5-4 gene was not recognized in reference db no cdr seq could be inferred\n",
      "  f0 = lambda v : self._map_gene_to_reference_seq2(gene = v,\n",
      "C:\\Users\\arnod\\AppData\\Local\\Programs\\Python\\Python39\\lib\\site-packages\\tcrdist\\repertoire.py:500: UserWarning: TRBV14 gene was not recognized in reference db no cdr seq could be inferred\n",
      "  f0 = lambda v : self._map_gene_to_reference_seq2(gene = v,\n",
      "C:\\Users\\arnod\\AppData\\Local\\Programs\\Python\\Python39\\lib\\site-packages\\tcrdist\\repertoire.py:500: UserWarning: TRBV5-6 gene was not recognized in reference db no cdr seq could be inferred\n",
      "  f0 = lambda v : self._map_gene_to_reference_seq2(gene = v,\n",
      "C:\\Users\\arnod\\AppData\\Local\\Programs\\Python\\Python39\\lib\\site-packages\\tcrdist\\repertoire.py:500: UserWarning: TRBV2 gene was not recognized in reference db no cdr seq could be inferred\n",
      "  f0 = lambda v : self._map_gene_to_reference_seq2(gene = v,\n",
      "C:\\Users\\arnod\\AppData\\Local\\Programs\\Python\\Python39\\lib\\site-packages\\tcrdist\\repertoire.py:500: UserWarning: TRBV5-1 gene was not recognized in reference db no cdr seq could be inferred\n",
      "  f0 = lambda v : self._map_gene_to_reference_seq2(gene = v,\n",
      "C:\\Users\\arnod\\AppData\\Local\\Programs\\Python\\Python39\\lib\\site-packages\\tcrdist\\repertoire.py:500: UserWarning: TRBV21-1 gene was not recognized in reference db no cdr seq could be inferred\n",
      "  f0 = lambda v : self._map_gene_to_reference_seq2(gene = v,\n",
      "C:\\Users\\arnod\\AppData\\Local\\Programs\\Python\\Python39\\lib\\site-packages\\tcrdist\\repertoire.py:500: UserWarning: TRBV30 gene was not recognized in reference db no cdr seq could be inferred\n",
      "  f0 = lambda v : self._map_gene_to_reference_seq2(gene = v,\n",
      "C:\\Users\\arnod\\AppData\\Local\\Programs\\Python\\Python39\\lib\\site-packages\\tcrdist\\repertoire.py:500: UserWarning: TRBV25-1 gene was not recognized in reference db no cdr seq could be inferred\n",
      "  f0 = lambda v : self._map_gene_to_reference_seq2(gene = v,\n",
      "C:\\Users\\arnod\\AppData\\Local\\Programs\\Python\\Python39\\lib\\site-packages\\tcrdist\\repertoire.py:500: UserWarning: TRBV7-8 gene was not recognized in reference db no cdr seq could be inferred\n",
      "  f0 = lambda v : self._map_gene_to_reference_seq2(gene = v,\n",
      "C:\\Users\\arnod\\AppData\\Local\\Programs\\Python\\Python39\\lib\\site-packages\\tcrdist\\repertoire.py:504: UserWarning: TRBV19 gene was not recognized in reference db no cdr seq could be inferred\n",
      "  f1 = lambda v : self._map_gene_to_reference_seq2(gene = v,\n",
      "C:\\Users\\arnod\\AppData\\Local\\Programs\\Python\\Python39\\lib\\site-packages\\tcrdist\\repertoire.py:504: UserWarning: TRBV27 gene was not recognized in reference db no cdr seq could be inferred\n",
      "  f1 = lambda v : self._map_gene_to_reference_seq2(gene = v,\n",
      "C:\\Users\\arnod\\AppData\\Local\\Programs\\Python\\Python39\\lib\\site-packages\\tcrdist\\repertoire.py:504: UserWarning: TRBV7-9 gene was not recognized in reference db no cdr seq could be inferred\n",
      "  f1 = lambda v : self._map_gene_to_reference_seq2(gene = v,\n",
      "C:\\Users\\arnod\\AppData\\Local\\Programs\\Python\\Python39\\lib\\site-packages\\tcrdist\\repertoire.py:504: UserWarning: TRBV12-3 gene was not recognized in reference db no cdr seq could be inferred\n",
      "  f1 = lambda v : self._map_gene_to_reference_seq2(gene = v,\n",
      "C:\\Users\\arnod\\AppData\\Local\\Programs\\Python\\Python39\\lib\\site-packages\\tcrdist\\repertoire.py:504: UserWarning: TRBV4-1 gene was not recognized in reference db no cdr seq could be inferred\n",
      "  f1 = lambda v : self._map_gene_to_reference_seq2(gene = v,\n",
      "C:\\Users\\arnod\\AppData\\Local\\Programs\\Python\\Python39\\lib\\site-packages\\tcrdist\\repertoire.py:504: UserWarning: TRBV6-6 gene was not recognized in reference db no cdr seq could be inferred\n",
      "  f1 = lambda v : self._map_gene_to_reference_seq2(gene = v,\n",
      "C:\\Users\\arnod\\AppData\\Local\\Programs\\Python\\Python39\\lib\\site-packages\\tcrdist\\repertoire.py:504: UserWarning: TRBV9 gene was not recognized in reference db no cdr seq could be inferred\n",
      "  f1 = lambda v : self._map_gene_to_reference_seq2(gene = v,\n",
      "C:\\Users\\arnod\\AppData\\Local\\Programs\\Python\\Python39\\lib\\site-packages\\tcrdist\\repertoire.py:504: UserWarning: TRBV7-2 gene was not recognized in reference db no cdr seq could be inferred\n",
      "  f1 = lambda v : self._map_gene_to_reference_seq2(gene = v,\n",
      "C:\\Users\\arnod\\AppData\\Local\\Programs\\Python\\Python39\\lib\\site-packages\\tcrdist\\repertoire.py:504: UserWarning: TRBV6-1 gene was not recognized in reference db no cdr seq could be inferred\n",
      "  f1 = lambda v : self._map_gene_to_reference_seq2(gene = v,\n",
      "C:\\Users\\arnod\\AppData\\Local\\Programs\\Python\\Python39\\lib\\site-packages\\tcrdist\\repertoire.py:504: UserWarning: TRBV6-5 gene was not recognized in reference db no cdr seq could be inferred\n",
      "  f1 = lambda v : self._map_gene_to_reference_seq2(gene = v,\n",
      "C:\\Users\\arnod\\AppData\\Local\\Programs\\Python\\Python39\\lib\\site-packages\\tcrdist\\repertoire.py:504: UserWarning: TRBV7-3 gene was not recognized in reference db no cdr seq could be inferred\n",
      "  f1 = lambda v : self._map_gene_to_reference_seq2(gene = v,\n",
      "C:\\Users\\arnod\\AppData\\Local\\Programs\\Python\\Python39\\lib\\site-packages\\tcrdist\\repertoire.py:504: UserWarning: TRBV4-3 gene was not recognized in reference db no cdr seq could be inferred\n",
      "  f1 = lambda v : self._map_gene_to_reference_seq2(gene = v,\n",
      "C:\\Users\\arnod\\AppData\\Local\\Programs\\Python\\Python39\\lib\\site-packages\\tcrdist\\repertoire.py:504: UserWarning: TRBV11-1 gene was not recognized in reference db no cdr seq could be inferred\n",
      "  f1 = lambda v : self._map_gene_to_reference_seq2(gene = v,\n",
      "C:\\Users\\arnod\\AppData\\Local\\Programs\\Python\\Python39\\lib\\site-packages\\tcrdist\\repertoire.py:504: UserWarning: TRBV20-1 gene was not recognized in reference db no cdr seq could be inferred\n",
      "  f1 = lambda v : self._map_gene_to_reference_seq2(gene = v,\n",
      "C:\\Users\\arnod\\AppData\\Local\\Programs\\Python\\Python39\\lib\\site-packages\\tcrdist\\repertoire.py:504: UserWarning: TRBV4-2 gene was not recognized in reference db no cdr seq could be inferred\n",
      "  f1 = lambda v : self._map_gene_to_reference_seq2(gene = v,\n",
      "C:\\Users\\arnod\\AppData\\Local\\Programs\\Python\\Python39\\lib\\site-packages\\tcrdist\\repertoire.py:504: UserWarning: TRBV11-2 gene was not recognized in reference db no cdr seq could be inferred\n",
      "  f1 = lambda v : self._map_gene_to_reference_seq2(gene = v,\n",
      "C:\\Users\\arnod\\AppData\\Local\\Programs\\Python\\Python39\\lib\\site-packages\\tcrdist\\repertoire.py:504: UserWarning: TRBV6-2 gene was not recognized in reference db no cdr seq could be inferred\n",
      "  f1 = lambda v : self._map_gene_to_reference_seq2(gene = v,\n",
      "C:\\Users\\arnod\\AppData\\Local\\Programs\\Python\\Python39\\lib\\site-packages\\tcrdist\\repertoire.py:504: UserWarning: TRBV7-6 gene was not recognized in reference db no cdr seq could be inferred\n",
      "  f1 = lambda v : self._map_gene_to_reference_seq2(gene = v,\n",
      "C:\\Users\\arnod\\AppData\\Local\\Programs\\Python\\Python39\\lib\\site-packages\\tcrdist\\repertoire.py:504: UserWarning: TRBV5-4 gene was not recognized in reference db no cdr seq could be inferred\n",
      "  f1 = lambda v : self._map_gene_to_reference_seq2(gene = v,\n",
      "C:\\Users\\arnod\\AppData\\Local\\Programs\\Python\\Python39\\lib\\site-packages\\tcrdist\\repertoire.py:504: UserWarning: TRBV14 gene was not recognized in reference db no cdr seq could be inferred\n",
      "  f1 = lambda v : self._map_gene_to_reference_seq2(gene = v,\n",
      "C:\\Users\\arnod\\AppData\\Local\\Programs\\Python\\Python39\\lib\\site-packages\\tcrdist\\repertoire.py:504: UserWarning: TRBV5-6 gene was not recognized in reference db no cdr seq could be inferred\n",
      "  f1 = lambda v : self._map_gene_to_reference_seq2(gene = v,\n",
      "C:\\Users\\arnod\\AppData\\Local\\Programs\\Python\\Python39\\lib\\site-packages\\tcrdist\\repertoire.py:504: UserWarning: TRBV2 gene was not recognized in reference db no cdr seq could be inferred\n",
      "  f1 = lambda v : self._map_gene_to_reference_seq2(gene = v,\n",
      "C:\\Users\\arnod\\AppData\\Local\\Programs\\Python\\Python39\\lib\\site-packages\\tcrdist\\repertoire.py:504: UserWarning: TRBV5-1 gene was not recognized in reference db no cdr seq could be inferred\n",
      "  f1 = lambda v : self._map_gene_to_reference_seq2(gene = v,\n",
      "C:\\Users\\arnod\\AppData\\Local\\Programs\\Python\\Python39\\lib\\site-packages\\tcrdist\\repertoire.py:504: UserWarning: TRBV21-1 gene was not recognized in reference db no cdr seq could be inferred\n",
      "  f1 = lambda v : self._map_gene_to_reference_seq2(gene = v,\n",
      "C:\\Users\\arnod\\AppData\\Local\\Programs\\Python\\Python39\\lib\\site-packages\\tcrdist\\repertoire.py:504: UserWarning: TRBV30 gene was not recognized in reference db no cdr seq could be inferred\n",
      "  f1 = lambda v : self._map_gene_to_reference_seq2(gene = v,\n",
      "C:\\Users\\arnod\\AppData\\Local\\Programs\\Python\\Python39\\lib\\site-packages\\tcrdist\\repertoire.py:504: UserWarning: TRBV25-1 gene was not recognized in reference db no cdr seq could be inferred\n",
      "  f1 = lambda v : self._map_gene_to_reference_seq2(gene = v,\n",
      "C:\\Users\\arnod\\AppData\\Local\\Programs\\Python\\Python39\\lib\\site-packages\\tcrdist\\repertoire.py:504: UserWarning: TRBV7-8 gene was not recognized in reference db no cdr seq could be inferred\n",
      "  f1 = lambda v : self._map_gene_to_reference_seq2(gene = v,\n",
      "C:\\Users\\arnod\\AppData\\Local\\Programs\\Python\\Python39\\lib\\site-packages\\tcrdist\\repertoire.py:508: UserWarning: TRBV19 gene was not recognized in reference db no cdr seq could be inferred\n",
      "  f2 = lambda v : self._map_gene_to_reference_seq2(gene = v,\n",
      "C:\\Users\\arnod\\AppData\\Local\\Programs\\Python\\Python39\\lib\\site-packages\\tcrdist\\repertoire.py:508: UserWarning: TRBV27 gene was not recognized in reference db no cdr seq could be inferred\n",
      "  f2 = lambda v : self._map_gene_to_reference_seq2(gene = v,\n",
      "C:\\Users\\arnod\\AppData\\Local\\Programs\\Python\\Python39\\lib\\site-packages\\tcrdist\\repertoire.py:508: UserWarning: TRBV7-9 gene was not recognized in reference db no cdr seq could be inferred\n",
      "  f2 = lambda v : self._map_gene_to_reference_seq2(gene = v,\n",
      "C:\\Users\\arnod\\AppData\\Local\\Programs\\Python\\Python39\\lib\\site-packages\\tcrdist\\repertoire.py:508: UserWarning: TRBV12-3 gene was not recognized in reference db no cdr seq could be inferred\n",
      "  f2 = lambda v : self._map_gene_to_reference_seq2(gene = v,\n",
      "C:\\Users\\arnod\\AppData\\Local\\Programs\\Python\\Python39\\lib\\site-packages\\tcrdist\\repertoire.py:508: UserWarning: TRBV4-1 gene was not recognized in reference db no cdr seq could be inferred\n",
      "  f2 = lambda v : self._map_gene_to_reference_seq2(gene = v,\n",
      "C:\\Users\\arnod\\AppData\\Local\\Programs\\Python\\Python39\\lib\\site-packages\\tcrdist\\repertoire.py:508: UserWarning: TRBV6-6 gene was not recognized in reference db no cdr seq could be inferred\n",
      "  f2 = lambda v : self._map_gene_to_reference_seq2(gene = v,\n",
      "C:\\Users\\arnod\\AppData\\Local\\Programs\\Python\\Python39\\lib\\site-packages\\tcrdist\\repertoire.py:508: UserWarning: TRBV9 gene was not recognized in reference db no cdr seq could be inferred\n",
      "  f2 = lambda v : self._map_gene_to_reference_seq2(gene = v,\n",
      "C:\\Users\\arnod\\AppData\\Local\\Programs\\Python\\Python39\\lib\\site-packages\\tcrdist\\repertoire.py:508: UserWarning: TRBV7-2 gene was not recognized in reference db no cdr seq could be inferred\n",
      "  f2 = lambda v : self._map_gene_to_reference_seq2(gene = v,\n",
      "C:\\Users\\arnod\\AppData\\Local\\Programs\\Python\\Python39\\lib\\site-packages\\tcrdist\\repertoire.py:508: UserWarning: TRBV6-1 gene was not recognized in reference db no cdr seq could be inferred\n",
      "  f2 = lambda v : self._map_gene_to_reference_seq2(gene = v,\n",
      "C:\\Users\\arnod\\AppData\\Local\\Programs\\Python\\Python39\\lib\\site-packages\\tcrdist\\repertoire.py:508: UserWarning: TRBV6-5 gene was not recognized in reference db no cdr seq could be inferred\n",
      "  f2 = lambda v : self._map_gene_to_reference_seq2(gene = v,\n",
      "C:\\Users\\arnod\\AppData\\Local\\Programs\\Python\\Python39\\lib\\site-packages\\tcrdist\\repertoire.py:508: UserWarning: TRBV7-3 gene was not recognized in reference db no cdr seq could be inferred\n",
      "  f2 = lambda v : self._map_gene_to_reference_seq2(gene = v,\n",
      "C:\\Users\\arnod\\AppData\\Local\\Programs\\Python\\Python39\\lib\\site-packages\\tcrdist\\repertoire.py:508: UserWarning: TRBV4-3 gene was not recognized in reference db no cdr seq could be inferred\n",
      "  f2 = lambda v : self._map_gene_to_reference_seq2(gene = v,\n",
      "C:\\Users\\arnod\\AppData\\Local\\Programs\\Python\\Python39\\lib\\site-packages\\tcrdist\\repertoire.py:508: UserWarning: TRBV11-1 gene was not recognized in reference db no cdr seq could be inferred\n",
      "  f2 = lambda v : self._map_gene_to_reference_seq2(gene = v,\n",
      "C:\\Users\\arnod\\AppData\\Local\\Programs\\Python\\Python39\\lib\\site-packages\\tcrdist\\repertoire.py:508: UserWarning: TRBV20-1 gene was not recognized in reference db no cdr seq could be inferred\n",
      "  f2 = lambda v : self._map_gene_to_reference_seq2(gene = v,\n",
      "C:\\Users\\arnod\\AppData\\Local\\Programs\\Python\\Python39\\lib\\site-packages\\tcrdist\\repertoire.py:508: UserWarning: TRBV4-2 gene was not recognized in reference db no cdr seq could be inferred\n",
      "  f2 = lambda v : self._map_gene_to_reference_seq2(gene = v,\n",
      "C:\\Users\\arnod\\AppData\\Local\\Programs\\Python\\Python39\\lib\\site-packages\\tcrdist\\repertoire.py:508: UserWarning: TRBV11-2 gene was not recognized in reference db no cdr seq could be inferred\n",
      "  f2 = lambda v : self._map_gene_to_reference_seq2(gene = v,\n",
      "C:\\Users\\arnod\\AppData\\Local\\Programs\\Python\\Python39\\lib\\site-packages\\tcrdist\\repertoire.py:508: UserWarning: TRBV6-2 gene was not recognized in reference db no cdr seq could be inferred\n",
      "  f2 = lambda v : self._map_gene_to_reference_seq2(gene = v,\n",
      "C:\\Users\\arnod\\AppData\\Local\\Programs\\Python\\Python39\\lib\\site-packages\\tcrdist\\repertoire.py:508: UserWarning: TRBV7-6 gene was not recognized in reference db no cdr seq could be inferred\n",
      "  f2 = lambda v : self._map_gene_to_reference_seq2(gene = v,\n",
      "C:\\Users\\arnod\\AppData\\Local\\Programs\\Python\\Python39\\lib\\site-packages\\tcrdist\\repertoire.py:508: UserWarning: TRBV5-4 gene was not recognized in reference db no cdr seq could be inferred\n",
      "  f2 = lambda v : self._map_gene_to_reference_seq2(gene = v,\n",
      "C:\\Users\\arnod\\AppData\\Local\\Programs\\Python\\Python39\\lib\\site-packages\\tcrdist\\repertoire.py:508: UserWarning: TRBV14 gene was not recognized in reference db no cdr seq could be inferred\n",
      "  f2 = lambda v : self._map_gene_to_reference_seq2(gene = v,\n",
      "C:\\Users\\arnod\\AppData\\Local\\Programs\\Python\\Python39\\lib\\site-packages\\tcrdist\\repertoire.py:508: UserWarning: TRBV5-6 gene was not recognized in reference db no cdr seq could be inferred\n",
      "  f2 = lambda v : self._map_gene_to_reference_seq2(gene = v,\n",
      "C:\\Users\\arnod\\AppData\\Local\\Programs\\Python\\Python39\\lib\\site-packages\\tcrdist\\repertoire.py:508: UserWarning: TRBV2 gene was not recognized in reference db no cdr seq could be inferred\n",
      "  f2 = lambda v : self._map_gene_to_reference_seq2(gene = v,\n",
      "C:\\Users\\arnod\\AppData\\Local\\Programs\\Python\\Python39\\lib\\site-packages\\tcrdist\\repertoire.py:508: UserWarning: TRBV5-1 gene was not recognized in reference db no cdr seq could be inferred\n",
      "  f2 = lambda v : self._map_gene_to_reference_seq2(gene = v,\n",
      "C:\\Users\\arnod\\AppData\\Local\\Programs\\Python\\Python39\\lib\\site-packages\\tcrdist\\repertoire.py:508: UserWarning: TRBV21-1 gene was not recognized in reference db no cdr seq could be inferred\n",
      "  f2 = lambda v : self._map_gene_to_reference_seq2(gene = v,\n",
      "C:\\Users\\arnod\\AppData\\Local\\Programs\\Python\\Python39\\lib\\site-packages\\tcrdist\\repertoire.py:508: UserWarning: TRBV30 gene was not recognized in reference db no cdr seq could be inferred\n",
      "  f2 = lambda v : self._map_gene_to_reference_seq2(gene = v,\n",
      "C:\\Users\\arnod\\AppData\\Local\\Programs\\Python\\Python39\\lib\\site-packages\\tcrdist\\repertoire.py:508: UserWarning: TRBV25-1 gene was not recognized in reference db no cdr seq could be inferred\n",
      "  f2 = lambda v : self._map_gene_to_reference_seq2(gene = v,\n",
      "C:\\Users\\arnod\\AppData\\Local\\Programs\\Python\\Python39\\lib\\site-packages\\tcrdist\\repertoire.py:508: UserWarning: TRBV7-8 gene was not recognized in reference db no cdr seq could be inferred\n",
      "  f2 = lambda v : self._map_gene_to_reference_seq2(gene = v,\n",
      "C:\\Users\\arnod\\AppData\\Local\\Programs\\Python\\Python39\\lib\\site-packages\\tcrdist\\repertoire.py:190: UserWarning: Not all cells/sequences could be grouped into clones.100 of 100 were not captured. This occurs when any of the values in the index columns are null or missing for a given sequence. To see entries with missing values use: tcrdist.repertoire.TCRrep._show_incomplete()\n",
      "  self.deduplicate()\n"
     ]
    },
    {
     "ename": "ValueError",
     "evalue": "zero-size array to reduction operation maximum which has no identity",
     "output_type": "error",
     "traceback": [
      "\u001B[1;31m---------------------------------------------------------------------------\u001B[0m",
      "\u001B[1;31mValueError\u001B[0m                                Traceback (most recent call last)",
      "\u001B[1;32m~\\AppData\\Local\\Temp/ipykernel_9812/3530403791.py\u001B[0m in \u001B[0;36m<module>\u001B[1;34m\u001B[0m\n\u001B[1;32m----> 1\u001B[1;33m tr = TCRrep(cell_df = train_dataset,\n\u001B[0m\u001B[0;32m      2\u001B[0m             \u001B[0morganism\u001B[0m \u001B[1;33m=\u001B[0m \u001B[1;34m'human'\u001B[0m\u001B[1;33m,\u001B[0m\u001B[1;33m\u001B[0m\u001B[1;33m\u001B[0m\u001B[0m\n\u001B[0;32m      3\u001B[0m             \u001B[0mchains\u001B[0m \u001B[1;33m=\u001B[0m \u001B[1;33m[\u001B[0m\u001B[1;34m'alpha'\u001B[0m\u001B[1;33m,\u001B[0m\u001B[1;34m'beta'\u001B[0m\u001B[1;33m]\u001B[0m\u001B[1;33m,\u001B[0m\u001B[1;33m\u001B[0m\u001B[1;33m\u001B[0m\u001B[0m\n\u001B[0;32m      4\u001B[0m             \u001B[0mdb_file\u001B[0m \u001B[1;33m=\u001B[0m \u001B[1;34m'alphabeta_gammadelta_db.tsv'\u001B[0m\u001B[1;33m,\u001B[0m\u001B[1;33m\u001B[0m\u001B[1;33m\u001B[0m\u001B[0m\n\u001B[0;32m      5\u001B[0m             compute_distances = True)\n",
      "\u001B[1;32m~\\AppData\\Local\\Programs\\Python\\Python39\\lib\\site-packages\\tcrdist\\repertoire.py\u001B[0m in \u001B[0;36m__init__\u001B[1;34m(self, organism, chains, db_file, archive_name, blank, cell_df, clone_df, imgt_aligned, infer_all_genes, infer_cdrs, infer_index_cols, deduplicate, use_defaults, store_all_cdr, compute_distances, index_cols, cpus, df2, archive_result)\u001B[0m\n\u001B[0;32m    212\u001B[0m                     \"\\tSee https://tcrdist3.readthedocs.io/en/latest/sparsity.html?highlight=sparse for more info.\\n\")\n\u001B[0;32m    213\u001B[0m                 \u001B[1;32melse\u001B[0m\u001B[1;33m:\u001B[0m\u001B[1;33m\u001B[0m\u001B[1;33m\u001B[0m\u001B[0m\n\u001B[1;32m--> 214\u001B[1;33m                     \u001B[0mself\u001B[0m\u001B[1;33m.\u001B[0m\u001B[0mcompute_distances\u001B[0m\u001B[1;33m(\u001B[0m\u001B[1;33m)\u001B[0m\u001B[1;33m\u001B[0m\u001B[1;33m\u001B[0m\u001B[0m\n\u001B[0m\u001B[0;32m    215\u001B[0m \u001B[1;33m\u001B[0m\u001B[0m\n\u001B[0;32m    216\u001B[0m             \u001B[1;32mif\u001B[0m \u001B[0mself\u001B[0m\u001B[1;33m.\u001B[0m\u001B[0marchive_result\u001B[0m\u001B[1;33m:\u001B[0m\u001B[1;33m\u001B[0m\u001B[1;33m\u001B[0m\u001B[0m\n",
      "\u001B[1;32m~\\AppData\\Local\\Programs\\Python\\Python39\\lib\\site-packages\\tcrdist\\repertoire.py\u001B[0m in \u001B[0;36mcompute_distances\u001B[1;34m(self, df)\u001B[0m\n\u001B[0;32m    314\u001B[0m             \u001B[0mdf\u001B[0m \u001B[1;33m=\u001B[0m \u001B[0mself\u001B[0m\u001B[1;33m.\u001B[0m\u001B[0mclone_df\u001B[0m\u001B[1;33m\u001B[0m\u001B[1;33m\u001B[0m\u001B[0m\n\u001B[0;32m    315\u001B[0m         \u001B[1;32mif\u001B[0m \u001B[1;34m'alpha'\u001B[0m \u001B[1;32min\u001B[0m \u001B[0mself\u001B[0m\u001B[1;33m.\u001B[0m\u001B[0mchains\u001B[0m\u001B[1;33m:\u001B[0m\u001B[1;33m\u001B[0m\u001B[1;33m\u001B[0m\u001B[0m\n\u001B[1;32m--> 316\u001B[1;33m             pw_alpha  = _pws(\n\u001B[0m\u001B[0;32m    317\u001B[0m                 \u001B[0mdf\u001B[0m \u001B[1;33m=\u001B[0m \u001B[0mdf\u001B[0m\u001B[1;33m,\u001B[0m\u001B[1;33m\u001B[0m\u001B[1;33m\u001B[0m\u001B[0m\n\u001B[0;32m    318\u001B[0m                 \u001B[0mmetrics\u001B[0m \u001B[1;33m=\u001B[0m \u001B[0mself\u001B[0m\u001B[1;33m.\u001B[0m\u001B[0mmetrics_a\u001B[0m\u001B[1;33m,\u001B[0m\u001B[1;33m\u001B[0m\u001B[1;33m\u001B[0m\u001B[0m\n",
      "\u001B[1;32m~\\AppData\\Local\\Programs\\Python\\Python39\\lib\\site-packages\\tcrdist\\rep_funcs.py\u001B[0m in \u001B[0;36m_pws\u001B[1;34m(df, metrics, weights, kargs, df2, cpu, uniquify, store)\u001B[0m\n\u001B[0;32m    113\u001B[0m     \u001B[1;32mfor\u001B[0m \u001B[0mk\u001B[0m \u001B[1;32min\u001B[0m \u001B[0mmetric_keys\u001B[0m\u001B[1;33m:\u001B[0m\u001B[1;33m\u001B[0m\u001B[1;33m\u001B[0m\u001B[0m\n\u001B[0;32m    114\u001B[0m         \u001B[1;32mif\u001B[0m \u001B[0mdf2\u001B[0m \u001B[1;32mis\u001B[0m \u001B[1;32mNone\u001B[0m\u001B[1;33m:\u001B[0m\u001B[1;33m\u001B[0m\u001B[1;33m\u001B[0m\u001B[0m\n\u001B[1;32m--> 115\u001B[1;33m             \u001B[0mpw_mat\u001B[0m \u001B[1;33m=\u001B[0m \u001B[0m_pw\u001B[0m\u001B[1;33m(\u001B[0m\u001B[0mseqs1\u001B[0m \u001B[1;33m=\u001B[0m \u001B[0mdf\u001B[0m\u001B[1;33m[\u001B[0m\u001B[0mk\u001B[0m\u001B[1;33m]\u001B[0m\u001B[1;33m.\u001B[0m\u001B[0mvalues\u001B[0m\u001B[1;33m,\u001B[0m \u001B[0mmetric\u001B[0m \u001B[1;33m=\u001B[0m \u001B[0mmetrics\u001B[0m\u001B[1;33m[\u001B[0m\u001B[0mk\u001B[0m\u001B[1;33m]\u001B[0m\u001B[1;33m,\u001B[0m \u001B[0mncpus\u001B[0m \u001B[1;33m=\u001B[0m \u001B[0mcpu\u001B[0m\u001B[1;33m,\u001B[0m \u001B[0muniqify\u001B[0m\u001B[1;33m=\u001B[0m \u001B[0muniquify\u001B[0m\u001B[1;33m,\u001B[0m \u001B[1;33m**\u001B[0m\u001B[0mkargs\u001B[0m\u001B[1;33m[\u001B[0m\u001B[0mk\u001B[0m\u001B[1;33m]\u001B[0m\u001B[1;33m)\u001B[0m\u001B[1;33m\u001B[0m\u001B[1;33m\u001B[0m\u001B[0m\n\u001B[0m\u001B[0;32m    116\u001B[0m         \u001B[1;32melse\u001B[0m\u001B[1;33m:\u001B[0m\u001B[1;33m\u001B[0m\u001B[1;33m\u001B[0m\u001B[0m\n\u001B[0;32m    117\u001B[0m             \u001B[0mpw_mat\u001B[0m \u001B[1;33m=\u001B[0m \u001B[0m_pw\u001B[0m\u001B[1;33m(\u001B[0m\u001B[0mseqs1\u001B[0m \u001B[1;33m=\u001B[0m \u001B[0mdf\u001B[0m\u001B[1;33m[\u001B[0m\u001B[0mk\u001B[0m\u001B[1;33m]\u001B[0m\u001B[1;33m.\u001B[0m\u001B[0mvalues\u001B[0m\u001B[1;33m,\u001B[0m \u001B[0mseqs2\u001B[0m \u001B[1;33m=\u001B[0m \u001B[0mdf2\u001B[0m\u001B[1;33m[\u001B[0m\u001B[0mk\u001B[0m\u001B[1;33m]\u001B[0m\u001B[1;33m.\u001B[0m\u001B[0mvalues\u001B[0m\u001B[1;33m,\u001B[0m \u001B[0mmetric\u001B[0m \u001B[1;33m=\u001B[0m \u001B[0mmetrics\u001B[0m\u001B[1;33m[\u001B[0m\u001B[0mk\u001B[0m\u001B[1;33m]\u001B[0m\u001B[1;33m,\u001B[0m \u001B[0mncpus\u001B[0m \u001B[1;33m=\u001B[0m \u001B[0mcpu\u001B[0m\u001B[1;33m,\u001B[0m \u001B[0muniqify\u001B[0m\u001B[1;33m=\u001B[0m \u001B[0muniquify\u001B[0m\u001B[1;33m,\u001B[0m \u001B[1;33m**\u001B[0m\u001B[0mkargs\u001B[0m\u001B[1;33m[\u001B[0m\u001B[0mk\u001B[0m\u001B[1;33m]\u001B[0m\u001B[1;33m)\u001B[0m\u001B[1;33m\u001B[0m\u001B[1;33m\u001B[0m\u001B[0m\n",
      "\u001B[1;32m~\\AppData\\Local\\Programs\\Python\\Python39\\lib\\site-packages\\tcrdist\\rep_funcs.py\u001B[0m in \u001B[0;36m_pw\u001B[1;34m(metric, seqs1, seqs2, ncpus, uniqify, use_numba, **kwargs)\u001B[0m\n\u001B[0;32m    132\u001B[0m     \u001B[0mNo\u001B[0m \u001B[0mmatter\u001B[0m \u001B[0mwhat\u001B[0m\u001B[1;33m,\u001B[0m \u001B[0mit\u001B[0m \u001B[0mreturns\u001B[0m \u001B[0msquareform\u001B[0m \u001B[0mresults\u001B[0m\u001B[1;33m\u001B[0m\u001B[1;33m\u001B[0m\u001B[0m\n\u001B[0;32m    133\u001B[0m     \"\"\"\n\u001B[1;32m--> 134\u001B[1;33m     pw_mat = pw.apply_pairwise_rect(metric = metric, \n\u001B[0m\u001B[0;32m    135\u001B[0m                                     \u001B[0mseqs1\u001B[0m  \u001B[1;33m=\u001B[0m \u001B[0mseqs1\u001B[0m\u001B[1;33m,\u001B[0m\u001B[1;33m\u001B[0m\u001B[1;33m\u001B[0m\u001B[0m\n\u001B[0;32m    136\u001B[0m                                     \u001B[0mseqs2\u001B[0m  \u001B[1;33m=\u001B[0m \u001B[0mseqs2\u001B[0m\u001B[1;33m,\u001B[0m\u001B[1;33m\u001B[0m\u001B[1;33m\u001B[0m\u001B[0m\n",
      "\u001B[1;32m~\\AppData\\Local\\Programs\\Python\\Python39\\lib\\site-packages\\pwseqdist\\pairwise.py\u001B[0m in \u001B[0;36mapply_pairwise_rect\u001B[1;34m(metric, seqs1, seqs2, ncpus, use_numba, uniqify, reexpand, alphabet, *args, **kwargs)\u001B[0m\n\u001B[0;32m    138\u001B[0m \u001B[1;33m\u001B[0m\u001B[0m\n\u001B[0;32m    139\u001B[0m     \u001B[1;32melse\u001B[0m\u001B[1;33m:\u001B[0m\u001B[1;33m\u001B[0m\u001B[1;33m\u001B[0m\u001B[0m\n\u001B[1;32m--> 140\u001B[1;33m         \u001B[0mseqs_mat\u001B[0m\u001B[1;33m,\u001B[0m \u001B[0mseqs_L\u001B[0m \u001B[1;33m=\u001B[0m \u001B[0mseqs2mat\u001B[0m\u001B[1;33m(\u001B[0m\u001B[0museqs\u001B[0m\u001B[1;33m,\u001B[0m \u001B[0malphabet\u001B[0m\u001B[1;33m=\u001B[0m\u001B[0malphabet\u001B[0m\u001B[1;33m)\u001B[0m\u001B[1;33m\u001B[0m\u001B[1;33m\u001B[0m\u001B[0m\n\u001B[0m\u001B[0;32m    141\u001B[0m \u001B[1;33m\u001B[0m\u001B[0m\n\u001B[0;32m    142\u001B[0m         \u001B[1;32mif\u001B[0m \u001B[0mncpus\u001B[0m \u001B[1;33m>\u001B[0m \u001B[1;36m1\u001B[0m \u001B[1;32mand\u001B[0m \u001B[0mlen\u001B[0m\u001B[1;33m(\u001B[0m\u001B[0museqs\u001B[0m\u001B[1;33m)\u001B[0m \u001B[1;33m>\u001B[0m \u001B[1;36m10\u001B[0m\u001B[1;33m:\u001B[0m\u001B[1;33m\u001B[0m\u001B[1;33m\u001B[0m\u001B[0m\n",
      "\u001B[1;32m~\\AppData\\Local\\Programs\\Python\\Python39\\lib\\site-packages\\pwseqdist\\matrices.py\u001B[0m in \u001B[0;36mseqs2mat\u001B[1;34m(seqs, alphabet, max_len)\u001B[0m\n\u001B[0;32m    238\u001B[0m     \"\"\"\n\u001B[0;32m    239\u001B[0m     \u001B[1;32mif\u001B[0m \u001B[0mmax_len\u001B[0m \u001B[1;32mis\u001B[0m \u001B[1;32mNone\u001B[0m\u001B[1;33m:\u001B[0m\u001B[1;33m\u001B[0m\u001B[1;33m\u001B[0m\u001B[0m\n\u001B[1;32m--> 240\u001B[1;33m         \u001B[0mmax_len\u001B[0m \u001B[1;33m=\u001B[0m \u001B[0mnp\u001B[0m\u001B[1;33m.\u001B[0m\u001B[0mmax\u001B[0m\u001B[1;33m(\u001B[0m\u001B[1;33m[\u001B[0m\u001B[0mlen\u001B[0m\u001B[1;33m(\u001B[0m\u001B[0ms\u001B[0m\u001B[1;33m)\u001B[0m \u001B[1;32mfor\u001B[0m \u001B[0ms\u001B[0m \u001B[1;32min\u001B[0m \u001B[0mseqs\u001B[0m\u001B[1;33m]\u001B[0m\u001B[1;33m)\u001B[0m\u001B[1;33m\u001B[0m\u001B[1;33m\u001B[0m\u001B[0m\n\u001B[0m\u001B[0;32m    241\u001B[0m     \u001B[0mmat\u001B[0m \u001B[1;33m=\u001B[0m \u001B[1;33m-\u001B[0m\u001B[1;36m1\u001B[0m \u001B[1;33m*\u001B[0m \u001B[0mnp\u001B[0m\u001B[1;33m.\u001B[0m\u001B[0mones\u001B[0m\u001B[1;33m(\u001B[0m\u001B[1;33m(\u001B[0m\u001B[0mlen\u001B[0m\u001B[1;33m(\u001B[0m\u001B[0mseqs\u001B[0m\u001B[1;33m)\u001B[0m\u001B[1;33m,\u001B[0m \u001B[0mmax_len\u001B[0m\u001B[1;33m)\u001B[0m\u001B[1;33m,\u001B[0m \u001B[0mdtype\u001B[0m\u001B[1;33m=\u001B[0m\u001B[0mnp\u001B[0m\u001B[1;33m.\u001B[0m\u001B[0mint8\u001B[0m\u001B[1;33m)\u001B[0m\u001B[1;33m\u001B[0m\u001B[1;33m\u001B[0m\u001B[0m\n\u001B[0;32m    242\u001B[0m     \u001B[0mL\u001B[0m \u001B[1;33m=\u001B[0m \u001B[0mnp\u001B[0m\u001B[1;33m.\u001B[0m\u001B[0mzeros\u001B[0m\u001B[1;33m(\u001B[0m\u001B[0mlen\u001B[0m\u001B[1;33m(\u001B[0m\u001B[0mseqs\u001B[0m\u001B[1;33m)\u001B[0m\u001B[1;33m,\u001B[0m \u001B[0mdtype\u001B[0m\u001B[1;33m=\u001B[0m\u001B[0mnp\u001B[0m\u001B[1;33m.\u001B[0m\u001B[0mint8\u001B[0m\u001B[1;33m)\u001B[0m\u001B[1;33m\u001B[0m\u001B[1;33m\u001B[0m\u001B[0m\n",
      "\u001B[1;32m<__array_function__ internals>\u001B[0m in \u001B[0;36mamax\u001B[1;34m(*args, **kwargs)\u001B[0m\n",
      "\u001B[1;32m~\\AppData\\Roaming\\Python\\Python39\\site-packages\\numpy\\core\\fromnumeric.py\u001B[0m in \u001B[0;36mamax\u001B[1;34m(a, axis, out, keepdims, initial, where)\u001B[0m\n\u001B[0;32m   2731\u001B[0m     \u001B[1;36m5\u001B[0m\u001B[1;33m\u001B[0m\u001B[1;33m\u001B[0m\u001B[0m\n\u001B[0;32m   2732\u001B[0m     \"\"\"\n\u001B[1;32m-> 2733\u001B[1;33m     return _wrapreduction(a, np.maximum, 'max', axis, None, out,\n\u001B[0m\u001B[0;32m   2734\u001B[0m                           keepdims=keepdims, initial=initial, where=where)\n\u001B[0;32m   2735\u001B[0m \u001B[1;33m\u001B[0m\u001B[0m\n",
      "\u001B[1;32m~\\AppData\\Roaming\\Python\\Python39\\site-packages\\numpy\\core\\fromnumeric.py\u001B[0m in \u001B[0;36m_wrapreduction\u001B[1;34m(obj, ufunc, method, axis, dtype, out, **kwargs)\u001B[0m\n\u001B[0;32m     85\u001B[0m                 \u001B[1;32mreturn\u001B[0m \u001B[0mreduction\u001B[0m\u001B[1;33m(\u001B[0m\u001B[0maxis\u001B[0m\u001B[1;33m=\u001B[0m\u001B[0maxis\u001B[0m\u001B[1;33m,\u001B[0m \u001B[0mout\u001B[0m\u001B[1;33m=\u001B[0m\u001B[0mout\u001B[0m\u001B[1;33m,\u001B[0m \u001B[1;33m**\u001B[0m\u001B[0mpasskwargs\u001B[0m\u001B[1;33m)\u001B[0m\u001B[1;33m\u001B[0m\u001B[1;33m\u001B[0m\u001B[0m\n\u001B[0;32m     86\u001B[0m \u001B[1;33m\u001B[0m\u001B[0m\n\u001B[1;32m---> 87\u001B[1;33m     \u001B[1;32mreturn\u001B[0m \u001B[0mufunc\u001B[0m\u001B[1;33m.\u001B[0m\u001B[0mreduce\u001B[0m\u001B[1;33m(\u001B[0m\u001B[0mobj\u001B[0m\u001B[1;33m,\u001B[0m \u001B[0maxis\u001B[0m\u001B[1;33m,\u001B[0m \u001B[0mdtype\u001B[0m\u001B[1;33m,\u001B[0m \u001B[0mout\u001B[0m\u001B[1;33m,\u001B[0m \u001B[1;33m**\u001B[0m\u001B[0mpasskwargs\u001B[0m\u001B[1;33m)\u001B[0m\u001B[1;33m\u001B[0m\u001B[1;33m\u001B[0m\u001B[0m\n\u001B[0m\u001B[0;32m     88\u001B[0m \u001B[1;33m\u001B[0m\u001B[0m\n\u001B[0;32m     89\u001B[0m \u001B[1;33m\u001B[0m\u001B[0m\n",
      "\u001B[1;31mValueError\u001B[0m: zero-size array to reduction operation maximum which has no identity"
     ]
    }
   ],
   "source": [
    "tr = TCRrep(cell_df = train_dataset,\n",
    "            organism = 'human',\n",
    "            chains = ['alpha','beta'],\n",
    "            db_file = 'alphabeta_gammadelta_db.tsv',\n",
    "            compute_distances = True)"
   ],
   "metadata": {
    "collapsed": false
   }
  },
  {
   "cell_type": "code",
   "execution_count": 24,
   "outputs": [],
   "source": [
    "# remove the nans, since they might cause the error above\n",
    "train_dataset = train_dataset.dropna()"
   ],
   "metadata": {
    "collapsed": false
   }
  },
  {
   "cell_type": "code",
   "execution_count": 25,
   "outputs": [
    {
     "name": "stderr",
     "output_type": "stream",
     "text": [
      "C:\\Users\\arnod\\AppData\\Local\\Programs\\Python\\Python39\\lib\\site-packages\\tcrdist\\repertoire.py:500: UserWarning: TRAV38-1 gene was not recognized in reference db no cdr seq could be inferred\n",
      "  f0 = lambda v : self._map_gene_to_reference_seq2(gene = v,\n",
      "C:\\Users\\arnod\\AppData\\Local\\Programs\\Python\\Python39\\lib\\site-packages\\tcrdist\\repertoire.py:500: UserWarning: TRAV25 gene was not recognized in reference db no cdr seq could be inferred\n",
      "  f0 = lambda v : self._map_gene_to_reference_seq2(gene = v,\n",
      "C:\\Users\\arnod\\AppData\\Local\\Programs\\Python\\Python39\\lib\\site-packages\\tcrdist\\repertoire.py:500: UserWarning: TRAV27 gene was not recognized in reference db no cdr seq could be inferred\n",
      "  f0 = lambda v : self._map_gene_to_reference_seq2(gene = v,\n",
      "C:\\Users\\arnod\\AppData\\Local\\Programs\\Python\\Python39\\lib\\site-packages\\tcrdist\\repertoire.py:500: UserWarning: TRAV6 gene was not recognized in reference db no cdr seq could be inferred\n",
      "  f0 = lambda v : self._map_gene_to_reference_seq2(gene = v,\n",
      "C:\\Users\\arnod\\AppData\\Local\\Programs\\Python\\Python39\\lib\\site-packages\\tcrdist\\repertoire.py:500: UserWarning: TRAV38-2DV8 gene was not recognized in reference db no cdr seq could be inferred\n",
      "  f0 = lambda v : self._map_gene_to_reference_seq2(gene = v,\n",
      "C:\\Users\\arnod\\AppData\\Local\\Programs\\Python\\Python39\\lib\\site-packages\\tcrdist\\repertoire.py:500: UserWarning: TRAV14DV4 gene was not recognized in reference db no cdr seq could be inferred\n",
      "  f0 = lambda v : self._map_gene_to_reference_seq2(gene = v,\n",
      "C:\\Users\\arnod\\AppData\\Local\\Programs\\Python\\Python39\\lib\\site-packages\\tcrdist\\repertoire.py:500: UserWarning: TRAV8-6 gene was not recognized in reference db no cdr seq could be inferred\n",
      "  f0 = lambda v : self._map_gene_to_reference_seq2(gene = v,\n",
      "C:\\Users\\arnod\\AppData\\Local\\Programs\\Python\\Python39\\lib\\site-packages\\tcrdist\\repertoire.py:500: UserWarning: TRAV5 gene was not recognized in reference db no cdr seq could be inferred\n",
      "  f0 = lambda v : self._map_gene_to_reference_seq2(gene = v,\n",
      "C:\\Users\\arnod\\AppData\\Local\\Programs\\Python\\Python39\\lib\\site-packages\\tcrdist\\repertoire.py:500: UserWarning: TRAV16 gene was not recognized in reference db no cdr seq could be inferred\n",
      "  f0 = lambda v : self._map_gene_to_reference_seq2(gene = v,\n",
      "C:\\Users\\arnod\\AppData\\Local\\Programs\\Python\\Python39\\lib\\site-packages\\tcrdist\\repertoire.py:500: UserWarning: TRAV17 gene was not recognized in reference db no cdr seq could be inferred\n",
      "  f0 = lambda v : self._map_gene_to_reference_seq2(gene = v,\n",
      "C:\\Users\\arnod\\AppData\\Local\\Programs\\Python\\Python39\\lib\\site-packages\\tcrdist\\repertoire.py:500: UserWarning: TRAV20 gene was not recognized in reference db no cdr seq could be inferred\n",
      "  f0 = lambda v : self._map_gene_to_reference_seq2(gene = v,\n",
      "C:\\Users\\arnod\\AppData\\Local\\Programs\\Python\\Python39\\lib\\site-packages\\tcrdist\\repertoire.py:500: UserWarning: TRAV22 gene was not recognized in reference db no cdr seq could be inferred\n",
      "  f0 = lambda v : self._map_gene_to_reference_seq2(gene = v,\n",
      "C:\\Users\\arnod\\AppData\\Local\\Programs\\Python\\Python39\\lib\\site-packages\\tcrdist\\repertoire.py:500: UserWarning: TRAV35 gene was not recognized in reference db no cdr seq could be inferred\n",
      "  f0 = lambda v : self._map_gene_to_reference_seq2(gene = v,\n",
      "C:\\Users\\arnod\\AppData\\Local\\Programs\\Python\\Python39\\lib\\site-packages\\tcrdist\\repertoire.py:500: UserWarning: TRAV19 gene was not recognized in reference db no cdr seq could be inferred\n",
      "  f0 = lambda v : self._map_gene_to_reference_seq2(gene = v,\n",
      "C:\\Users\\arnod\\AppData\\Local\\Programs\\Python\\Python39\\lib\\site-packages\\tcrdist\\repertoire.py:500: UserWarning: TRAV26-2 gene was not recognized in reference db no cdr seq could be inferred\n",
      "  f0 = lambda v : self._map_gene_to_reference_seq2(gene = v,\n",
      "C:\\Users\\arnod\\AppData\\Local\\Programs\\Python\\Python39\\lib\\site-packages\\tcrdist\\repertoire.py:500: UserWarning: TRAV8-3 gene was not recognized in reference db no cdr seq could be inferred\n",
      "  f0 = lambda v : self._map_gene_to_reference_seq2(gene = v,\n",
      "C:\\Users\\arnod\\AppData\\Local\\Programs\\Python\\Python39\\lib\\site-packages\\tcrdist\\repertoire.py:500: UserWarning: TRAV3 gene was not recognized in reference db no cdr seq could be inferred\n",
      "  f0 = lambda v : self._map_gene_to_reference_seq2(gene = v,\n",
      "C:\\Users\\arnod\\AppData\\Local\\Programs\\Python\\Python39\\lib\\site-packages\\tcrdist\\repertoire.py:500: UserWarning: TRAV26-1 gene was not recognized in reference db no cdr seq could be inferred\n",
      "  f0 = lambda v : self._map_gene_to_reference_seq2(gene = v,\n",
      "C:\\Users\\arnod\\AppData\\Local\\Programs\\Python\\Python39\\lib\\site-packages\\tcrdist\\repertoire.py:500: UserWarning: TRAV13-1 gene was not recognized in reference db no cdr seq could be inferred\n",
      "  f0 = lambda v : self._map_gene_to_reference_seq2(gene = v,\n",
      "C:\\Users\\arnod\\AppData\\Local\\Programs\\Python\\Python39\\lib\\site-packages\\tcrdist\\repertoire.py:500: UserWarning: TRAV29/DV5 gene was not recognized in reference db no cdr seq could be inferred\n",
      "  f0 = lambda v : self._map_gene_to_reference_seq2(gene = v,\n",
      "C:\\Users\\arnod\\AppData\\Local\\Programs\\Python\\Python39\\lib\\site-packages\\tcrdist\\repertoire.py:500: UserWarning: TRAV1-2 gene was not recognized in reference db no cdr seq could be inferred\n",
      "  f0 = lambda v : self._map_gene_to_reference_seq2(gene = v,\n",
      "C:\\Users\\arnod\\AppData\\Local\\Programs\\Python\\Python39\\lib\\site-packages\\tcrdist\\repertoire.py:500: UserWarning: TRAV8-1 gene was not recognized in reference db no cdr seq could be inferred\n",
      "  f0 = lambda v : self._map_gene_to_reference_seq2(gene = v,\n",
      "C:\\Users\\arnod\\AppData\\Local\\Programs\\Python\\Python39\\lib\\site-packages\\tcrdist\\repertoire.py:500: UserWarning: TRAV29DV5 gene was not recognized in reference db no cdr seq could be inferred\n",
      "  f0 = lambda v : self._map_gene_to_reference_seq2(gene = v,\n",
      "C:\\Users\\arnod\\AppData\\Local\\Programs\\Python\\Python39\\lib\\site-packages\\tcrdist\\repertoire.py:500: UserWarning: TRAV8-4 gene was not recognized in reference db no cdr seq could be inferred\n",
      "  f0 = lambda v : self._map_gene_to_reference_seq2(gene = v,\n",
      "C:\\Users\\arnod\\AppData\\Local\\Programs\\Python\\Python39\\lib\\site-packages\\tcrdist\\repertoire.py:500: UserWarning: TRAV13-2 gene was not recognized in reference db no cdr seq could be inferred\n",
      "  f0 = lambda v : self._map_gene_to_reference_seq2(gene = v,\n",
      "C:\\Users\\arnod\\AppData\\Local\\Programs\\Python\\Python39\\lib\\site-packages\\tcrdist\\repertoire.py:500: UserWarning: TRAV21 gene was not recognized in reference db no cdr seq could be inferred\n",
      "  f0 = lambda v : self._map_gene_to_reference_seq2(gene = v,\n",
      "C:\\Users\\arnod\\AppData\\Local\\Programs\\Python\\Python39\\lib\\site-packages\\tcrdist\\repertoire.py:500: UserWarning: TRAV4 gene was not recognized in reference db no cdr seq could be inferred\n",
      "  f0 = lambda v : self._map_gene_to_reference_seq2(gene = v,\n",
      "C:\\Users\\arnod\\AppData\\Local\\Programs\\Python\\Python39\\lib\\site-packages\\tcrdist\\repertoire.py:500: UserWarning: TRDV1 gene was not recognized in reference db no cdr seq could be inferred\n",
      "  f0 = lambda v : self._map_gene_to_reference_seq2(gene = v,\n",
      "C:\\Users\\arnod\\AppData\\Local\\Programs\\Python\\Python39\\lib\\site-packages\\tcrdist\\repertoire.py:500: UserWarning: TRAV1-1 gene was not recognized in reference db no cdr seq could be inferred\n",
      "  f0 = lambda v : self._map_gene_to_reference_seq2(gene = v,\n",
      "C:\\Users\\arnod\\AppData\\Local\\Programs\\Python\\Python39\\lib\\site-packages\\tcrdist\\repertoire.py:500: UserWarning: TRAV12-1 gene was not recognized in reference db no cdr seq could be inferred\n",
      "  f0 = lambda v : self._map_gene_to_reference_seq2(gene = v,\n",
      "C:\\Users\\arnod\\AppData\\Local\\Programs\\Python\\Python39\\lib\\site-packages\\tcrdist\\repertoire.py:500: UserWarning: TRAV30 gene was not recognized in reference db no cdr seq could be inferred\n",
      "  f0 = lambda v : self._map_gene_to_reference_seq2(gene = v,\n",
      "C:\\Users\\arnod\\AppData\\Local\\Programs\\Python\\Python39\\lib\\site-packages\\tcrdist\\repertoire.py:500: UserWarning: TRAV14/DV4 gene was not recognized in reference db no cdr seq could be inferred\n",
      "  f0 = lambda v : self._map_gene_to_reference_seq2(gene = v,\n",
      "C:\\Users\\arnod\\AppData\\Local\\Programs\\Python\\Python39\\lib\\site-packages\\tcrdist\\repertoire.py:500: UserWarning: TRAV12-2 gene was not recognized in reference db no cdr seq could be inferred\n",
      "  f0 = lambda v : self._map_gene_to_reference_seq2(gene = v,\n",
      "C:\\Users\\arnod\\AppData\\Local\\Programs\\Python\\Python39\\lib\\site-packages\\tcrdist\\repertoire.py:500: UserWarning: TRAV23/DV6 gene was not recognized in reference db no cdr seq could be inferred\n",
      "  f0 = lambda v : self._map_gene_to_reference_seq2(gene = v,\n",
      "C:\\Users\\arnod\\AppData\\Local\\Programs\\Python\\Python39\\lib\\site-packages\\tcrdist\\repertoire.py:500: UserWarning: TRAV41 gene was not recognized in reference db no cdr seq could be inferred\n",
      "  f0 = lambda v : self._map_gene_to_reference_seq2(gene = v,\n",
      "C:\\Users\\arnod\\AppData\\Local\\Programs\\Python\\Python39\\lib\\site-packages\\tcrdist\\repertoire.py:500: UserWarning: TRAV24 gene was not recognized in reference db no cdr seq could be inferred\n",
      "  f0 = lambda v : self._map_gene_to_reference_seq2(gene = v,\n",
      "C:\\Users\\arnod\\AppData\\Local\\Programs\\Python\\Python39\\lib\\site-packages\\tcrdist\\repertoire.py:504: UserWarning: TRAV38-1 gene was not recognized in reference db no cdr seq could be inferred\n",
      "  f1 = lambda v : self._map_gene_to_reference_seq2(gene = v,\n",
      "C:\\Users\\arnod\\AppData\\Local\\Programs\\Python\\Python39\\lib\\site-packages\\tcrdist\\repertoire.py:504: UserWarning: TRAV25 gene was not recognized in reference db no cdr seq could be inferred\n",
      "  f1 = lambda v : self._map_gene_to_reference_seq2(gene = v,\n",
      "C:\\Users\\arnod\\AppData\\Local\\Programs\\Python\\Python39\\lib\\site-packages\\tcrdist\\repertoire.py:504: UserWarning: TRAV27 gene was not recognized in reference db no cdr seq could be inferred\n",
      "  f1 = lambda v : self._map_gene_to_reference_seq2(gene = v,\n",
      "C:\\Users\\arnod\\AppData\\Local\\Programs\\Python\\Python39\\lib\\site-packages\\tcrdist\\repertoire.py:504: UserWarning: TRAV6 gene was not recognized in reference db no cdr seq could be inferred\n",
      "  f1 = lambda v : self._map_gene_to_reference_seq2(gene = v,\n",
      "C:\\Users\\arnod\\AppData\\Local\\Programs\\Python\\Python39\\lib\\site-packages\\tcrdist\\repertoire.py:504: UserWarning: TRAV38-2DV8 gene was not recognized in reference db no cdr seq could be inferred\n",
      "  f1 = lambda v : self._map_gene_to_reference_seq2(gene = v,\n",
      "C:\\Users\\arnod\\AppData\\Local\\Programs\\Python\\Python39\\lib\\site-packages\\tcrdist\\repertoire.py:504: UserWarning: TRAV14DV4 gene was not recognized in reference db no cdr seq could be inferred\n",
      "  f1 = lambda v : self._map_gene_to_reference_seq2(gene = v,\n",
      "C:\\Users\\arnod\\AppData\\Local\\Programs\\Python\\Python39\\lib\\site-packages\\tcrdist\\repertoire.py:504: UserWarning: TRAV8-6 gene was not recognized in reference db no cdr seq could be inferred\n",
      "  f1 = lambda v : self._map_gene_to_reference_seq2(gene = v,\n",
      "C:\\Users\\arnod\\AppData\\Local\\Programs\\Python\\Python39\\lib\\site-packages\\tcrdist\\repertoire.py:504: UserWarning: TRAV5 gene was not recognized in reference db no cdr seq could be inferred\n",
      "  f1 = lambda v : self._map_gene_to_reference_seq2(gene = v,\n",
      "C:\\Users\\arnod\\AppData\\Local\\Programs\\Python\\Python39\\lib\\site-packages\\tcrdist\\repertoire.py:504: UserWarning: TRAV16 gene was not recognized in reference db no cdr seq could be inferred\n",
      "  f1 = lambda v : self._map_gene_to_reference_seq2(gene = v,\n",
      "C:\\Users\\arnod\\AppData\\Local\\Programs\\Python\\Python39\\lib\\site-packages\\tcrdist\\repertoire.py:504: UserWarning: TRAV17 gene was not recognized in reference db no cdr seq could be inferred\n",
      "  f1 = lambda v : self._map_gene_to_reference_seq2(gene = v,\n",
      "C:\\Users\\arnod\\AppData\\Local\\Programs\\Python\\Python39\\lib\\site-packages\\tcrdist\\repertoire.py:504: UserWarning: TRAV20 gene was not recognized in reference db no cdr seq could be inferred\n",
      "  f1 = lambda v : self._map_gene_to_reference_seq2(gene = v,\n",
      "C:\\Users\\arnod\\AppData\\Local\\Programs\\Python\\Python39\\lib\\site-packages\\tcrdist\\repertoire.py:504: UserWarning: TRAV22 gene was not recognized in reference db no cdr seq could be inferred\n",
      "  f1 = lambda v : self._map_gene_to_reference_seq2(gene = v,\n",
      "C:\\Users\\arnod\\AppData\\Local\\Programs\\Python\\Python39\\lib\\site-packages\\tcrdist\\repertoire.py:504: UserWarning: TRAV35 gene was not recognized in reference db no cdr seq could be inferred\n",
      "  f1 = lambda v : self._map_gene_to_reference_seq2(gene = v,\n",
      "C:\\Users\\arnod\\AppData\\Local\\Programs\\Python\\Python39\\lib\\site-packages\\tcrdist\\repertoire.py:504: UserWarning: TRAV19 gene was not recognized in reference db no cdr seq could be inferred\n",
      "  f1 = lambda v : self._map_gene_to_reference_seq2(gene = v,\n",
      "C:\\Users\\arnod\\AppData\\Local\\Programs\\Python\\Python39\\lib\\site-packages\\tcrdist\\repertoire.py:504: UserWarning: TRAV26-2 gene was not recognized in reference db no cdr seq could be inferred\n",
      "  f1 = lambda v : self._map_gene_to_reference_seq2(gene = v,\n",
      "C:\\Users\\arnod\\AppData\\Local\\Programs\\Python\\Python39\\lib\\site-packages\\tcrdist\\repertoire.py:504: UserWarning: TRAV8-3 gene was not recognized in reference db no cdr seq could be inferred\n",
      "  f1 = lambda v : self._map_gene_to_reference_seq2(gene = v,\n",
      "C:\\Users\\arnod\\AppData\\Local\\Programs\\Python\\Python39\\lib\\site-packages\\tcrdist\\repertoire.py:504: UserWarning: TRAV3 gene was not recognized in reference db no cdr seq could be inferred\n",
      "  f1 = lambda v : self._map_gene_to_reference_seq2(gene = v,\n",
      "C:\\Users\\arnod\\AppData\\Local\\Programs\\Python\\Python39\\lib\\site-packages\\tcrdist\\repertoire.py:504: UserWarning: TRAV26-1 gene was not recognized in reference db no cdr seq could be inferred\n",
      "  f1 = lambda v : self._map_gene_to_reference_seq2(gene = v,\n",
      "C:\\Users\\arnod\\AppData\\Local\\Programs\\Python\\Python39\\lib\\site-packages\\tcrdist\\repertoire.py:504: UserWarning: TRAV13-1 gene was not recognized in reference db no cdr seq could be inferred\n",
      "  f1 = lambda v : self._map_gene_to_reference_seq2(gene = v,\n",
      "C:\\Users\\arnod\\AppData\\Local\\Programs\\Python\\Python39\\lib\\site-packages\\tcrdist\\repertoire.py:504: UserWarning: TRAV29/DV5 gene was not recognized in reference db no cdr seq could be inferred\n",
      "  f1 = lambda v : self._map_gene_to_reference_seq2(gene = v,\n",
      "C:\\Users\\arnod\\AppData\\Local\\Programs\\Python\\Python39\\lib\\site-packages\\tcrdist\\repertoire.py:504: UserWarning: TRAV1-2 gene was not recognized in reference db no cdr seq could be inferred\n",
      "  f1 = lambda v : self._map_gene_to_reference_seq2(gene = v,\n",
      "C:\\Users\\arnod\\AppData\\Local\\Programs\\Python\\Python39\\lib\\site-packages\\tcrdist\\repertoire.py:504: UserWarning: TRAV8-1 gene was not recognized in reference db no cdr seq could be inferred\n",
      "  f1 = lambda v : self._map_gene_to_reference_seq2(gene = v,\n",
      "C:\\Users\\arnod\\AppData\\Local\\Programs\\Python\\Python39\\lib\\site-packages\\tcrdist\\repertoire.py:504: UserWarning: TRAV29DV5 gene was not recognized in reference db no cdr seq could be inferred\n",
      "  f1 = lambda v : self._map_gene_to_reference_seq2(gene = v,\n",
      "C:\\Users\\arnod\\AppData\\Local\\Programs\\Python\\Python39\\lib\\site-packages\\tcrdist\\repertoire.py:504: UserWarning: TRAV8-4 gene was not recognized in reference db no cdr seq could be inferred\n",
      "  f1 = lambda v : self._map_gene_to_reference_seq2(gene = v,\n",
      "C:\\Users\\arnod\\AppData\\Local\\Programs\\Python\\Python39\\lib\\site-packages\\tcrdist\\repertoire.py:504: UserWarning: TRAV13-2 gene was not recognized in reference db no cdr seq could be inferred\n",
      "  f1 = lambda v : self._map_gene_to_reference_seq2(gene = v,\n",
      "C:\\Users\\arnod\\AppData\\Local\\Programs\\Python\\Python39\\lib\\site-packages\\tcrdist\\repertoire.py:504: UserWarning: TRAV21 gene was not recognized in reference db no cdr seq could be inferred\n",
      "  f1 = lambda v : self._map_gene_to_reference_seq2(gene = v,\n",
      "C:\\Users\\arnod\\AppData\\Local\\Programs\\Python\\Python39\\lib\\site-packages\\tcrdist\\repertoire.py:504: UserWarning: TRAV4 gene was not recognized in reference db no cdr seq could be inferred\n",
      "  f1 = lambda v : self._map_gene_to_reference_seq2(gene = v,\n",
      "C:\\Users\\arnod\\AppData\\Local\\Programs\\Python\\Python39\\lib\\site-packages\\tcrdist\\repertoire.py:504: UserWarning: TRDV1 gene was not recognized in reference db no cdr seq could be inferred\n",
      "  f1 = lambda v : self._map_gene_to_reference_seq2(gene = v,\n",
      "C:\\Users\\arnod\\AppData\\Local\\Programs\\Python\\Python39\\lib\\site-packages\\tcrdist\\repertoire.py:504: UserWarning: TRAV1-1 gene was not recognized in reference db no cdr seq could be inferred\n",
      "  f1 = lambda v : self._map_gene_to_reference_seq2(gene = v,\n",
      "C:\\Users\\arnod\\AppData\\Local\\Programs\\Python\\Python39\\lib\\site-packages\\tcrdist\\repertoire.py:504: UserWarning: TRAV12-1 gene was not recognized in reference db no cdr seq could be inferred\n",
      "  f1 = lambda v : self._map_gene_to_reference_seq2(gene = v,\n",
      "C:\\Users\\arnod\\AppData\\Local\\Programs\\Python\\Python39\\lib\\site-packages\\tcrdist\\repertoire.py:504: UserWarning: TRAV30 gene was not recognized in reference db no cdr seq could be inferred\n",
      "  f1 = lambda v : self._map_gene_to_reference_seq2(gene = v,\n",
      "C:\\Users\\arnod\\AppData\\Local\\Programs\\Python\\Python39\\lib\\site-packages\\tcrdist\\repertoire.py:504: UserWarning: TRAV14/DV4 gene was not recognized in reference db no cdr seq could be inferred\n",
      "  f1 = lambda v : self._map_gene_to_reference_seq2(gene = v,\n",
      "C:\\Users\\arnod\\AppData\\Local\\Programs\\Python\\Python39\\lib\\site-packages\\tcrdist\\repertoire.py:504: UserWarning: TRAV12-2 gene was not recognized in reference db no cdr seq could be inferred\n",
      "  f1 = lambda v : self._map_gene_to_reference_seq2(gene = v,\n",
      "C:\\Users\\arnod\\AppData\\Local\\Programs\\Python\\Python39\\lib\\site-packages\\tcrdist\\repertoire.py:504: UserWarning: TRAV23/DV6 gene was not recognized in reference db no cdr seq could be inferred\n",
      "  f1 = lambda v : self._map_gene_to_reference_seq2(gene = v,\n",
      "C:\\Users\\arnod\\AppData\\Local\\Programs\\Python\\Python39\\lib\\site-packages\\tcrdist\\repertoire.py:504: UserWarning: TRAV41 gene was not recognized in reference db no cdr seq could be inferred\n",
      "  f1 = lambda v : self._map_gene_to_reference_seq2(gene = v,\n",
      "C:\\Users\\arnod\\AppData\\Local\\Programs\\Python\\Python39\\lib\\site-packages\\tcrdist\\repertoire.py:504: UserWarning: TRAV24 gene was not recognized in reference db no cdr seq could be inferred\n",
      "  f1 = lambda v : self._map_gene_to_reference_seq2(gene = v,\n",
      "C:\\Users\\arnod\\AppData\\Local\\Programs\\Python\\Python39\\lib\\site-packages\\tcrdist\\repertoire.py:508: UserWarning: TRAV38-1 gene was not recognized in reference db no cdr seq could be inferred\n",
      "  f2 = lambda v : self._map_gene_to_reference_seq2(gene = v,\n",
      "C:\\Users\\arnod\\AppData\\Local\\Programs\\Python\\Python39\\lib\\site-packages\\tcrdist\\repertoire.py:508: UserWarning: TRAV25 gene was not recognized in reference db no cdr seq could be inferred\n",
      "  f2 = lambda v : self._map_gene_to_reference_seq2(gene = v,\n",
      "C:\\Users\\arnod\\AppData\\Local\\Programs\\Python\\Python39\\lib\\site-packages\\tcrdist\\repertoire.py:508: UserWarning: TRAV27 gene was not recognized in reference db no cdr seq could be inferred\n",
      "  f2 = lambda v : self._map_gene_to_reference_seq2(gene = v,\n",
      "C:\\Users\\arnod\\AppData\\Local\\Programs\\Python\\Python39\\lib\\site-packages\\tcrdist\\repertoire.py:508: UserWarning: TRAV6 gene was not recognized in reference db no cdr seq could be inferred\n",
      "  f2 = lambda v : self._map_gene_to_reference_seq2(gene = v,\n",
      "C:\\Users\\arnod\\AppData\\Local\\Programs\\Python\\Python39\\lib\\site-packages\\tcrdist\\repertoire.py:508: UserWarning: TRAV38-2DV8 gene was not recognized in reference db no cdr seq could be inferred\n",
      "  f2 = lambda v : self._map_gene_to_reference_seq2(gene = v,\n",
      "C:\\Users\\arnod\\AppData\\Local\\Programs\\Python\\Python39\\lib\\site-packages\\tcrdist\\repertoire.py:508: UserWarning: TRAV14DV4 gene was not recognized in reference db no cdr seq could be inferred\n",
      "  f2 = lambda v : self._map_gene_to_reference_seq2(gene = v,\n",
      "C:\\Users\\arnod\\AppData\\Local\\Programs\\Python\\Python39\\lib\\site-packages\\tcrdist\\repertoire.py:508: UserWarning: TRAV8-6 gene was not recognized in reference db no cdr seq could be inferred\n",
      "  f2 = lambda v : self._map_gene_to_reference_seq2(gene = v,\n",
      "C:\\Users\\arnod\\AppData\\Local\\Programs\\Python\\Python39\\lib\\site-packages\\tcrdist\\repertoire.py:508: UserWarning: TRAV5 gene was not recognized in reference db no cdr seq could be inferred\n",
      "  f2 = lambda v : self._map_gene_to_reference_seq2(gene = v,\n",
      "C:\\Users\\arnod\\AppData\\Local\\Programs\\Python\\Python39\\lib\\site-packages\\tcrdist\\repertoire.py:508: UserWarning: TRAV16 gene was not recognized in reference db no cdr seq could be inferred\n",
      "  f2 = lambda v : self._map_gene_to_reference_seq2(gene = v,\n",
      "C:\\Users\\arnod\\AppData\\Local\\Programs\\Python\\Python39\\lib\\site-packages\\tcrdist\\repertoire.py:508: UserWarning: TRAV17 gene was not recognized in reference db no cdr seq could be inferred\n",
      "  f2 = lambda v : self._map_gene_to_reference_seq2(gene = v,\n",
      "C:\\Users\\arnod\\AppData\\Local\\Programs\\Python\\Python39\\lib\\site-packages\\tcrdist\\repertoire.py:508: UserWarning: TRAV20 gene was not recognized in reference db no cdr seq could be inferred\n",
      "  f2 = lambda v : self._map_gene_to_reference_seq2(gene = v,\n",
      "C:\\Users\\arnod\\AppData\\Local\\Programs\\Python\\Python39\\lib\\site-packages\\tcrdist\\repertoire.py:508: UserWarning: TRAV22 gene was not recognized in reference db no cdr seq could be inferred\n",
      "  f2 = lambda v : self._map_gene_to_reference_seq2(gene = v,\n",
      "C:\\Users\\arnod\\AppData\\Local\\Programs\\Python\\Python39\\lib\\site-packages\\tcrdist\\repertoire.py:508: UserWarning: TRAV35 gene was not recognized in reference db no cdr seq could be inferred\n",
      "  f2 = lambda v : self._map_gene_to_reference_seq2(gene = v,\n",
      "C:\\Users\\arnod\\AppData\\Local\\Programs\\Python\\Python39\\lib\\site-packages\\tcrdist\\repertoire.py:508: UserWarning: TRAV19 gene was not recognized in reference db no cdr seq could be inferred\n",
      "  f2 = lambda v : self._map_gene_to_reference_seq2(gene = v,\n",
      "C:\\Users\\arnod\\AppData\\Local\\Programs\\Python\\Python39\\lib\\site-packages\\tcrdist\\repertoire.py:508: UserWarning: TRAV26-2 gene was not recognized in reference db no cdr seq could be inferred\n",
      "  f2 = lambda v : self._map_gene_to_reference_seq2(gene = v,\n",
      "C:\\Users\\arnod\\AppData\\Local\\Programs\\Python\\Python39\\lib\\site-packages\\tcrdist\\repertoire.py:508: UserWarning: TRAV8-3 gene was not recognized in reference db no cdr seq could be inferred\n",
      "  f2 = lambda v : self._map_gene_to_reference_seq2(gene = v,\n",
      "C:\\Users\\arnod\\AppData\\Local\\Programs\\Python\\Python39\\lib\\site-packages\\tcrdist\\repertoire.py:508: UserWarning: TRAV3 gene was not recognized in reference db no cdr seq could be inferred\n",
      "  f2 = lambda v : self._map_gene_to_reference_seq2(gene = v,\n",
      "C:\\Users\\arnod\\AppData\\Local\\Programs\\Python\\Python39\\lib\\site-packages\\tcrdist\\repertoire.py:508: UserWarning: TRAV26-1 gene was not recognized in reference db no cdr seq could be inferred\n",
      "  f2 = lambda v : self._map_gene_to_reference_seq2(gene = v,\n",
      "C:\\Users\\arnod\\AppData\\Local\\Programs\\Python\\Python39\\lib\\site-packages\\tcrdist\\repertoire.py:508: UserWarning: TRAV13-1 gene was not recognized in reference db no cdr seq could be inferred\n",
      "  f2 = lambda v : self._map_gene_to_reference_seq2(gene = v,\n",
      "C:\\Users\\arnod\\AppData\\Local\\Programs\\Python\\Python39\\lib\\site-packages\\tcrdist\\repertoire.py:508: UserWarning: TRAV29/DV5 gene was not recognized in reference db no cdr seq could be inferred\n",
      "  f2 = lambda v : self._map_gene_to_reference_seq2(gene = v,\n",
      "C:\\Users\\arnod\\AppData\\Local\\Programs\\Python\\Python39\\lib\\site-packages\\tcrdist\\repertoire.py:508: UserWarning: TRAV1-2 gene was not recognized in reference db no cdr seq could be inferred\n",
      "  f2 = lambda v : self._map_gene_to_reference_seq2(gene = v,\n",
      "C:\\Users\\arnod\\AppData\\Local\\Programs\\Python\\Python39\\lib\\site-packages\\tcrdist\\repertoire.py:508: UserWarning: TRAV8-1 gene was not recognized in reference db no cdr seq could be inferred\n",
      "  f2 = lambda v : self._map_gene_to_reference_seq2(gene = v,\n",
      "C:\\Users\\arnod\\AppData\\Local\\Programs\\Python\\Python39\\lib\\site-packages\\tcrdist\\repertoire.py:508: UserWarning: TRAV29DV5 gene was not recognized in reference db no cdr seq could be inferred\n",
      "  f2 = lambda v : self._map_gene_to_reference_seq2(gene = v,\n",
      "C:\\Users\\arnod\\AppData\\Local\\Programs\\Python\\Python39\\lib\\site-packages\\tcrdist\\repertoire.py:508: UserWarning: TRAV8-4 gene was not recognized in reference db no cdr seq could be inferred\n",
      "  f2 = lambda v : self._map_gene_to_reference_seq2(gene = v,\n",
      "C:\\Users\\arnod\\AppData\\Local\\Programs\\Python\\Python39\\lib\\site-packages\\tcrdist\\repertoire.py:508: UserWarning: TRAV13-2 gene was not recognized in reference db no cdr seq could be inferred\n",
      "  f2 = lambda v : self._map_gene_to_reference_seq2(gene = v,\n",
      "C:\\Users\\arnod\\AppData\\Local\\Programs\\Python\\Python39\\lib\\site-packages\\tcrdist\\repertoire.py:508: UserWarning: TRAV21 gene was not recognized in reference db no cdr seq could be inferred\n",
      "  f2 = lambda v : self._map_gene_to_reference_seq2(gene = v,\n",
      "C:\\Users\\arnod\\AppData\\Local\\Programs\\Python\\Python39\\lib\\site-packages\\tcrdist\\repertoire.py:508: UserWarning: TRAV4 gene was not recognized in reference db no cdr seq could be inferred\n",
      "  f2 = lambda v : self._map_gene_to_reference_seq2(gene = v,\n",
      "C:\\Users\\arnod\\AppData\\Local\\Programs\\Python\\Python39\\lib\\site-packages\\tcrdist\\repertoire.py:508: UserWarning: TRDV1 gene was not recognized in reference db no cdr seq could be inferred\n",
      "  f2 = lambda v : self._map_gene_to_reference_seq2(gene = v,\n",
      "C:\\Users\\arnod\\AppData\\Local\\Programs\\Python\\Python39\\lib\\site-packages\\tcrdist\\repertoire.py:508: UserWarning: TRAV1-1 gene was not recognized in reference db no cdr seq could be inferred\n",
      "  f2 = lambda v : self._map_gene_to_reference_seq2(gene = v,\n",
      "C:\\Users\\arnod\\AppData\\Local\\Programs\\Python\\Python39\\lib\\site-packages\\tcrdist\\repertoire.py:508: UserWarning: TRAV12-1 gene was not recognized in reference db no cdr seq could be inferred\n",
      "  f2 = lambda v : self._map_gene_to_reference_seq2(gene = v,\n",
      "C:\\Users\\arnod\\AppData\\Local\\Programs\\Python\\Python39\\lib\\site-packages\\tcrdist\\repertoire.py:508: UserWarning: TRAV30 gene was not recognized in reference db no cdr seq could be inferred\n",
      "  f2 = lambda v : self._map_gene_to_reference_seq2(gene = v,\n",
      "C:\\Users\\arnod\\AppData\\Local\\Programs\\Python\\Python39\\lib\\site-packages\\tcrdist\\repertoire.py:508: UserWarning: TRAV14/DV4 gene was not recognized in reference db no cdr seq could be inferred\n",
      "  f2 = lambda v : self._map_gene_to_reference_seq2(gene = v,\n",
      "C:\\Users\\arnod\\AppData\\Local\\Programs\\Python\\Python39\\lib\\site-packages\\tcrdist\\repertoire.py:508: UserWarning: TRAV12-2 gene was not recognized in reference db no cdr seq could be inferred\n",
      "  f2 = lambda v : self._map_gene_to_reference_seq2(gene = v,\n",
      "C:\\Users\\arnod\\AppData\\Local\\Programs\\Python\\Python39\\lib\\site-packages\\tcrdist\\repertoire.py:508: UserWarning: TRAV23/DV6 gene was not recognized in reference db no cdr seq could be inferred\n",
      "  f2 = lambda v : self._map_gene_to_reference_seq2(gene = v,\n",
      "C:\\Users\\arnod\\AppData\\Local\\Programs\\Python\\Python39\\lib\\site-packages\\tcrdist\\repertoire.py:508: UserWarning: TRAV41 gene was not recognized in reference db no cdr seq could be inferred\n",
      "  f2 = lambda v : self._map_gene_to_reference_seq2(gene = v,\n",
      "C:\\Users\\arnod\\AppData\\Local\\Programs\\Python\\Python39\\lib\\site-packages\\tcrdist\\repertoire.py:508: UserWarning: TRAV24 gene was not recognized in reference db no cdr seq could be inferred\n",
      "  f2 = lambda v : self._map_gene_to_reference_seq2(gene = v,\n",
      "C:\\Users\\arnod\\AppData\\Local\\Programs\\Python\\Python39\\lib\\site-packages\\tcrdist\\repertoire.py:500: UserWarning: TRBV19 gene was not recognized in reference db no cdr seq could be inferred\n",
      "  f0 = lambda v : self._map_gene_to_reference_seq2(gene = v,\n",
      "C:\\Users\\arnod\\AppData\\Local\\Programs\\Python\\Python39\\lib\\site-packages\\tcrdist\\repertoire.py:500: UserWarning: TRBV27 gene was not recognized in reference db no cdr seq could be inferred\n",
      "  f0 = lambda v : self._map_gene_to_reference_seq2(gene = v,\n",
      "C:\\Users\\arnod\\AppData\\Local\\Programs\\Python\\Python39\\lib\\site-packages\\tcrdist\\repertoire.py:500: UserWarning: TRBV7-9 gene was not recognized in reference db no cdr seq could be inferred\n",
      "  f0 = lambda v : self._map_gene_to_reference_seq2(gene = v,\n",
      "C:\\Users\\arnod\\AppData\\Local\\Programs\\Python\\Python39\\lib\\site-packages\\tcrdist\\repertoire.py:500: UserWarning: TRBV12-3 gene was not recognized in reference db no cdr seq could be inferred\n",
      "  f0 = lambda v : self._map_gene_to_reference_seq2(gene = v,\n",
      "C:\\Users\\arnod\\AppData\\Local\\Programs\\Python\\Python39\\lib\\site-packages\\tcrdist\\repertoire.py:500: UserWarning: TRBV4-1 gene was not recognized in reference db no cdr seq could be inferred\n",
      "  f0 = lambda v : self._map_gene_to_reference_seq2(gene = v,\n",
      "C:\\Users\\arnod\\AppData\\Local\\Programs\\Python\\Python39\\lib\\site-packages\\tcrdist\\repertoire.py:500: UserWarning: TRBV6-6 gene was not recognized in reference db no cdr seq could be inferred\n",
      "  f0 = lambda v : self._map_gene_to_reference_seq2(gene = v,\n",
      "C:\\Users\\arnod\\AppData\\Local\\Programs\\Python\\Python39\\lib\\site-packages\\tcrdist\\repertoire.py:500: UserWarning: TRBV9 gene was not recognized in reference db no cdr seq could be inferred\n",
      "  f0 = lambda v : self._map_gene_to_reference_seq2(gene = v,\n",
      "C:\\Users\\arnod\\AppData\\Local\\Programs\\Python\\Python39\\lib\\site-packages\\tcrdist\\repertoire.py:500: UserWarning: TRBV7-2 gene was not recognized in reference db no cdr seq could be inferred\n",
      "  f0 = lambda v : self._map_gene_to_reference_seq2(gene = v,\n",
      "C:\\Users\\arnod\\AppData\\Local\\Programs\\Python\\Python39\\lib\\site-packages\\tcrdist\\repertoire.py:500: UserWarning: TRBV6-1 gene was not recognized in reference db no cdr seq could be inferred\n",
      "  f0 = lambda v : self._map_gene_to_reference_seq2(gene = v,\n",
      "C:\\Users\\arnod\\AppData\\Local\\Programs\\Python\\Python39\\lib\\site-packages\\tcrdist\\repertoire.py:500: UserWarning: TRBV6-5 gene was not recognized in reference db no cdr seq could be inferred\n",
      "  f0 = lambda v : self._map_gene_to_reference_seq2(gene = v,\n",
      "C:\\Users\\arnod\\AppData\\Local\\Programs\\Python\\Python39\\lib\\site-packages\\tcrdist\\repertoire.py:500: UserWarning: TRBV7-3 gene was not recognized in reference db no cdr seq could be inferred\n",
      "  f0 = lambda v : self._map_gene_to_reference_seq2(gene = v,\n",
      "C:\\Users\\arnod\\AppData\\Local\\Programs\\Python\\Python39\\lib\\site-packages\\tcrdist\\repertoire.py:500: UserWarning: TRBV4-3 gene was not recognized in reference db no cdr seq could be inferred\n",
      "  f0 = lambda v : self._map_gene_to_reference_seq2(gene = v,\n",
      "C:\\Users\\arnod\\AppData\\Local\\Programs\\Python\\Python39\\lib\\site-packages\\tcrdist\\repertoire.py:500: UserWarning: TRBV11-1 gene was not recognized in reference db no cdr seq could be inferred\n",
      "  f0 = lambda v : self._map_gene_to_reference_seq2(gene = v,\n",
      "C:\\Users\\arnod\\AppData\\Local\\Programs\\Python\\Python39\\lib\\site-packages\\tcrdist\\repertoire.py:500: UserWarning: TRBV20-1 gene was not recognized in reference db no cdr seq could be inferred\n",
      "  f0 = lambda v : self._map_gene_to_reference_seq2(gene = v,\n",
      "C:\\Users\\arnod\\AppData\\Local\\Programs\\Python\\Python39\\lib\\site-packages\\tcrdist\\repertoire.py:500: UserWarning: TRBV4-2 gene was not recognized in reference db no cdr seq could be inferred\n",
      "  f0 = lambda v : self._map_gene_to_reference_seq2(gene = v,\n",
      "C:\\Users\\arnod\\AppData\\Local\\Programs\\Python\\Python39\\lib\\site-packages\\tcrdist\\repertoire.py:500: UserWarning: TRBV11-2 gene was not recognized in reference db no cdr seq could be inferred\n",
      "  f0 = lambda v : self._map_gene_to_reference_seq2(gene = v,\n",
      "C:\\Users\\arnod\\AppData\\Local\\Programs\\Python\\Python39\\lib\\site-packages\\tcrdist\\repertoire.py:500: UserWarning: TRBV6-2 gene was not recognized in reference db no cdr seq could be inferred\n",
      "  f0 = lambda v : self._map_gene_to_reference_seq2(gene = v,\n",
      "C:\\Users\\arnod\\AppData\\Local\\Programs\\Python\\Python39\\lib\\site-packages\\tcrdist\\repertoire.py:500: UserWarning: TRBV7-6 gene was not recognized in reference db no cdr seq could be inferred\n",
      "  f0 = lambda v : self._map_gene_to_reference_seq2(gene = v,\n",
      "C:\\Users\\arnod\\AppData\\Local\\Programs\\Python\\Python39\\lib\\site-packages\\tcrdist\\repertoire.py:500: UserWarning: TRBV5-4 gene was not recognized in reference db no cdr seq could be inferred\n",
      "  f0 = lambda v : self._map_gene_to_reference_seq2(gene = v,\n",
      "C:\\Users\\arnod\\AppData\\Local\\Programs\\Python\\Python39\\lib\\site-packages\\tcrdist\\repertoire.py:500: UserWarning: TRBV14 gene was not recognized in reference db no cdr seq could be inferred\n",
      "  f0 = lambda v : self._map_gene_to_reference_seq2(gene = v,\n",
      "C:\\Users\\arnod\\AppData\\Local\\Programs\\Python\\Python39\\lib\\site-packages\\tcrdist\\repertoire.py:500: UserWarning: TRBV5-6 gene was not recognized in reference db no cdr seq could be inferred\n",
      "  f0 = lambda v : self._map_gene_to_reference_seq2(gene = v,\n",
      "C:\\Users\\arnod\\AppData\\Local\\Programs\\Python\\Python39\\lib\\site-packages\\tcrdist\\repertoire.py:500: UserWarning: TRBV2 gene was not recognized in reference db no cdr seq could be inferred\n",
      "  f0 = lambda v : self._map_gene_to_reference_seq2(gene = v,\n",
      "C:\\Users\\arnod\\AppData\\Local\\Programs\\Python\\Python39\\lib\\site-packages\\tcrdist\\repertoire.py:500: UserWarning: TRBV5-1 gene was not recognized in reference db no cdr seq could be inferred\n",
      "  f0 = lambda v : self._map_gene_to_reference_seq2(gene = v,\n",
      "C:\\Users\\arnod\\AppData\\Local\\Programs\\Python\\Python39\\lib\\site-packages\\tcrdist\\repertoire.py:500: UserWarning: TRBV21-1 gene was not recognized in reference db no cdr seq could be inferred\n",
      "  f0 = lambda v : self._map_gene_to_reference_seq2(gene = v,\n",
      "C:\\Users\\arnod\\AppData\\Local\\Programs\\Python\\Python39\\lib\\site-packages\\tcrdist\\repertoire.py:500: UserWarning: TRBV30 gene was not recognized in reference db no cdr seq could be inferred\n",
      "  f0 = lambda v : self._map_gene_to_reference_seq2(gene = v,\n",
      "C:\\Users\\arnod\\AppData\\Local\\Programs\\Python\\Python39\\lib\\site-packages\\tcrdist\\repertoire.py:500: UserWarning: TRBV25-1 gene was not recognized in reference db no cdr seq could be inferred\n",
      "  f0 = lambda v : self._map_gene_to_reference_seq2(gene = v,\n",
      "C:\\Users\\arnod\\AppData\\Local\\Programs\\Python\\Python39\\lib\\site-packages\\tcrdist\\repertoire.py:500: UserWarning: TRBV7-8 gene was not recognized in reference db no cdr seq could be inferred\n",
      "  f0 = lambda v : self._map_gene_to_reference_seq2(gene = v,\n",
      "C:\\Users\\arnod\\AppData\\Local\\Programs\\Python\\Python39\\lib\\site-packages\\tcrdist\\repertoire.py:504: UserWarning: TRBV19 gene was not recognized in reference db no cdr seq could be inferred\n",
      "  f1 = lambda v : self._map_gene_to_reference_seq2(gene = v,\n",
      "C:\\Users\\arnod\\AppData\\Local\\Programs\\Python\\Python39\\lib\\site-packages\\tcrdist\\repertoire.py:504: UserWarning: TRBV27 gene was not recognized in reference db no cdr seq could be inferred\n",
      "  f1 = lambda v : self._map_gene_to_reference_seq2(gene = v,\n",
      "C:\\Users\\arnod\\AppData\\Local\\Programs\\Python\\Python39\\lib\\site-packages\\tcrdist\\repertoire.py:504: UserWarning: TRBV7-9 gene was not recognized in reference db no cdr seq could be inferred\n",
      "  f1 = lambda v : self._map_gene_to_reference_seq2(gene = v,\n",
      "C:\\Users\\arnod\\AppData\\Local\\Programs\\Python\\Python39\\lib\\site-packages\\tcrdist\\repertoire.py:504: UserWarning: TRBV12-3 gene was not recognized in reference db no cdr seq could be inferred\n",
      "  f1 = lambda v : self._map_gene_to_reference_seq2(gene = v,\n",
      "C:\\Users\\arnod\\AppData\\Local\\Programs\\Python\\Python39\\lib\\site-packages\\tcrdist\\repertoire.py:504: UserWarning: TRBV4-1 gene was not recognized in reference db no cdr seq could be inferred\n",
      "  f1 = lambda v : self._map_gene_to_reference_seq2(gene = v,\n",
      "C:\\Users\\arnod\\AppData\\Local\\Programs\\Python\\Python39\\lib\\site-packages\\tcrdist\\repertoire.py:504: UserWarning: TRBV6-6 gene was not recognized in reference db no cdr seq could be inferred\n",
      "  f1 = lambda v : self._map_gene_to_reference_seq2(gene = v,\n",
      "C:\\Users\\arnod\\AppData\\Local\\Programs\\Python\\Python39\\lib\\site-packages\\tcrdist\\repertoire.py:504: UserWarning: TRBV9 gene was not recognized in reference db no cdr seq could be inferred\n",
      "  f1 = lambda v : self._map_gene_to_reference_seq2(gene = v,\n",
      "C:\\Users\\arnod\\AppData\\Local\\Programs\\Python\\Python39\\lib\\site-packages\\tcrdist\\repertoire.py:504: UserWarning: TRBV7-2 gene was not recognized in reference db no cdr seq could be inferred\n",
      "  f1 = lambda v : self._map_gene_to_reference_seq2(gene = v,\n",
      "C:\\Users\\arnod\\AppData\\Local\\Programs\\Python\\Python39\\lib\\site-packages\\tcrdist\\repertoire.py:504: UserWarning: TRBV6-1 gene was not recognized in reference db no cdr seq could be inferred\n",
      "  f1 = lambda v : self._map_gene_to_reference_seq2(gene = v,\n",
      "C:\\Users\\arnod\\AppData\\Local\\Programs\\Python\\Python39\\lib\\site-packages\\tcrdist\\repertoire.py:504: UserWarning: TRBV6-5 gene was not recognized in reference db no cdr seq could be inferred\n",
      "  f1 = lambda v : self._map_gene_to_reference_seq2(gene = v,\n",
      "C:\\Users\\arnod\\AppData\\Local\\Programs\\Python\\Python39\\lib\\site-packages\\tcrdist\\repertoire.py:504: UserWarning: TRBV7-3 gene was not recognized in reference db no cdr seq could be inferred\n",
      "  f1 = lambda v : self._map_gene_to_reference_seq2(gene = v,\n",
      "C:\\Users\\arnod\\AppData\\Local\\Programs\\Python\\Python39\\lib\\site-packages\\tcrdist\\repertoire.py:504: UserWarning: TRBV4-3 gene was not recognized in reference db no cdr seq could be inferred\n",
      "  f1 = lambda v : self._map_gene_to_reference_seq2(gene = v,\n",
      "C:\\Users\\arnod\\AppData\\Local\\Programs\\Python\\Python39\\lib\\site-packages\\tcrdist\\repertoire.py:504: UserWarning: TRBV11-1 gene was not recognized in reference db no cdr seq could be inferred\n",
      "  f1 = lambda v : self._map_gene_to_reference_seq2(gene = v,\n",
      "C:\\Users\\arnod\\AppData\\Local\\Programs\\Python\\Python39\\lib\\site-packages\\tcrdist\\repertoire.py:504: UserWarning: TRBV20-1 gene was not recognized in reference db no cdr seq could be inferred\n",
      "  f1 = lambda v : self._map_gene_to_reference_seq2(gene = v,\n",
      "C:\\Users\\arnod\\AppData\\Local\\Programs\\Python\\Python39\\lib\\site-packages\\tcrdist\\repertoire.py:504: UserWarning: TRBV4-2 gene was not recognized in reference db no cdr seq could be inferred\n",
      "  f1 = lambda v : self._map_gene_to_reference_seq2(gene = v,\n",
      "C:\\Users\\arnod\\AppData\\Local\\Programs\\Python\\Python39\\lib\\site-packages\\tcrdist\\repertoire.py:504: UserWarning: TRBV11-2 gene was not recognized in reference db no cdr seq could be inferred\n",
      "  f1 = lambda v : self._map_gene_to_reference_seq2(gene = v,\n",
      "C:\\Users\\arnod\\AppData\\Local\\Programs\\Python\\Python39\\lib\\site-packages\\tcrdist\\repertoire.py:504: UserWarning: TRBV6-2 gene was not recognized in reference db no cdr seq could be inferred\n",
      "  f1 = lambda v : self._map_gene_to_reference_seq2(gene = v,\n",
      "C:\\Users\\arnod\\AppData\\Local\\Programs\\Python\\Python39\\lib\\site-packages\\tcrdist\\repertoire.py:504: UserWarning: TRBV7-6 gene was not recognized in reference db no cdr seq could be inferred\n",
      "  f1 = lambda v : self._map_gene_to_reference_seq2(gene = v,\n",
      "C:\\Users\\arnod\\AppData\\Local\\Programs\\Python\\Python39\\lib\\site-packages\\tcrdist\\repertoire.py:504: UserWarning: TRBV5-4 gene was not recognized in reference db no cdr seq could be inferred\n",
      "  f1 = lambda v : self._map_gene_to_reference_seq2(gene = v,\n",
      "C:\\Users\\arnod\\AppData\\Local\\Programs\\Python\\Python39\\lib\\site-packages\\tcrdist\\repertoire.py:504: UserWarning: TRBV14 gene was not recognized in reference db no cdr seq could be inferred\n",
      "  f1 = lambda v : self._map_gene_to_reference_seq2(gene = v,\n",
      "C:\\Users\\arnod\\AppData\\Local\\Programs\\Python\\Python39\\lib\\site-packages\\tcrdist\\repertoire.py:504: UserWarning: TRBV5-6 gene was not recognized in reference db no cdr seq could be inferred\n",
      "  f1 = lambda v : self._map_gene_to_reference_seq2(gene = v,\n",
      "C:\\Users\\arnod\\AppData\\Local\\Programs\\Python\\Python39\\lib\\site-packages\\tcrdist\\repertoire.py:504: UserWarning: TRBV2 gene was not recognized in reference db no cdr seq could be inferred\n",
      "  f1 = lambda v : self._map_gene_to_reference_seq2(gene = v,\n",
      "C:\\Users\\arnod\\AppData\\Local\\Programs\\Python\\Python39\\lib\\site-packages\\tcrdist\\repertoire.py:504: UserWarning: TRBV5-1 gene was not recognized in reference db no cdr seq could be inferred\n",
      "  f1 = lambda v : self._map_gene_to_reference_seq2(gene = v,\n",
      "C:\\Users\\arnod\\AppData\\Local\\Programs\\Python\\Python39\\lib\\site-packages\\tcrdist\\repertoire.py:504: UserWarning: TRBV21-1 gene was not recognized in reference db no cdr seq could be inferred\n",
      "  f1 = lambda v : self._map_gene_to_reference_seq2(gene = v,\n",
      "C:\\Users\\arnod\\AppData\\Local\\Programs\\Python\\Python39\\lib\\site-packages\\tcrdist\\repertoire.py:504: UserWarning: TRBV30 gene was not recognized in reference db no cdr seq could be inferred\n",
      "  f1 = lambda v : self._map_gene_to_reference_seq2(gene = v,\n",
      "C:\\Users\\arnod\\AppData\\Local\\Programs\\Python\\Python39\\lib\\site-packages\\tcrdist\\repertoire.py:504: UserWarning: TRBV25-1 gene was not recognized in reference db no cdr seq could be inferred\n",
      "  f1 = lambda v : self._map_gene_to_reference_seq2(gene = v,\n",
      "C:\\Users\\arnod\\AppData\\Local\\Programs\\Python\\Python39\\lib\\site-packages\\tcrdist\\repertoire.py:504: UserWarning: TRBV7-8 gene was not recognized in reference db no cdr seq could be inferred\n",
      "  f1 = lambda v : self._map_gene_to_reference_seq2(gene = v,\n",
      "C:\\Users\\arnod\\AppData\\Local\\Programs\\Python\\Python39\\lib\\site-packages\\tcrdist\\repertoire.py:508: UserWarning: TRBV19 gene was not recognized in reference db no cdr seq could be inferred\n",
      "  f2 = lambda v : self._map_gene_to_reference_seq2(gene = v,\n",
      "C:\\Users\\arnod\\AppData\\Local\\Programs\\Python\\Python39\\lib\\site-packages\\tcrdist\\repertoire.py:508: UserWarning: TRBV27 gene was not recognized in reference db no cdr seq could be inferred\n",
      "  f2 = lambda v : self._map_gene_to_reference_seq2(gene = v,\n",
      "C:\\Users\\arnod\\AppData\\Local\\Programs\\Python\\Python39\\lib\\site-packages\\tcrdist\\repertoire.py:508: UserWarning: TRBV7-9 gene was not recognized in reference db no cdr seq could be inferred\n",
      "  f2 = lambda v : self._map_gene_to_reference_seq2(gene = v,\n",
      "C:\\Users\\arnod\\AppData\\Local\\Programs\\Python\\Python39\\lib\\site-packages\\tcrdist\\repertoire.py:508: UserWarning: TRBV12-3 gene was not recognized in reference db no cdr seq could be inferred\n",
      "  f2 = lambda v : self._map_gene_to_reference_seq2(gene = v,\n",
      "C:\\Users\\arnod\\AppData\\Local\\Programs\\Python\\Python39\\lib\\site-packages\\tcrdist\\repertoire.py:508: UserWarning: TRBV4-1 gene was not recognized in reference db no cdr seq could be inferred\n",
      "  f2 = lambda v : self._map_gene_to_reference_seq2(gene = v,\n",
      "C:\\Users\\arnod\\AppData\\Local\\Programs\\Python\\Python39\\lib\\site-packages\\tcrdist\\repertoire.py:508: UserWarning: TRBV6-6 gene was not recognized in reference db no cdr seq could be inferred\n",
      "  f2 = lambda v : self._map_gene_to_reference_seq2(gene = v,\n",
      "C:\\Users\\arnod\\AppData\\Local\\Programs\\Python\\Python39\\lib\\site-packages\\tcrdist\\repertoire.py:508: UserWarning: TRBV9 gene was not recognized in reference db no cdr seq could be inferred\n",
      "  f2 = lambda v : self._map_gene_to_reference_seq2(gene = v,\n",
      "C:\\Users\\arnod\\AppData\\Local\\Programs\\Python\\Python39\\lib\\site-packages\\tcrdist\\repertoire.py:508: UserWarning: TRBV7-2 gene was not recognized in reference db no cdr seq could be inferred\n",
      "  f2 = lambda v : self._map_gene_to_reference_seq2(gene = v,\n",
      "C:\\Users\\arnod\\AppData\\Local\\Programs\\Python\\Python39\\lib\\site-packages\\tcrdist\\repertoire.py:508: UserWarning: TRBV6-1 gene was not recognized in reference db no cdr seq could be inferred\n",
      "  f2 = lambda v : self._map_gene_to_reference_seq2(gene = v,\n",
      "C:\\Users\\arnod\\AppData\\Local\\Programs\\Python\\Python39\\lib\\site-packages\\tcrdist\\repertoire.py:508: UserWarning: TRBV6-5 gene was not recognized in reference db no cdr seq could be inferred\n",
      "  f2 = lambda v : self._map_gene_to_reference_seq2(gene = v,\n",
      "C:\\Users\\arnod\\AppData\\Local\\Programs\\Python\\Python39\\lib\\site-packages\\tcrdist\\repertoire.py:508: UserWarning: TRBV7-3 gene was not recognized in reference db no cdr seq could be inferred\n",
      "  f2 = lambda v : self._map_gene_to_reference_seq2(gene = v,\n",
      "C:\\Users\\arnod\\AppData\\Local\\Programs\\Python\\Python39\\lib\\site-packages\\tcrdist\\repertoire.py:508: UserWarning: TRBV4-3 gene was not recognized in reference db no cdr seq could be inferred\n",
      "  f2 = lambda v : self._map_gene_to_reference_seq2(gene = v,\n",
      "C:\\Users\\arnod\\AppData\\Local\\Programs\\Python\\Python39\\lib\\site-packages\\tcrdist\\repertoire.py:508: UserWarning: TRBV11-1 gene was not recognized in reference db no cdr seq could be inferred\n",
      "  f2 = lambda v : self._map_gene_to_reference_seq2(gene = v,\n",
      "C:\\Users\\arnod\\AppData\\Local\\Programs\\Python\\Python39\\lib\\site-packages\\tcrdist\\repertoire.py:508: UserWarning: TRBV20-1 gene was not recognized in reference db no cdr seq could be inferred\n",
      "  f2 = lambda v : self._map_gene_to_reference_seq2(gene = v,\n",
      "C:\\Users\\arnod\\AppData\\Local\\Programs\\Python\\Python39\\lib\\site-packages\\tcrdist\\repertoire.py:508: UserWarning: TRBV4-2 gene was not recognized in reference db no cdr seq could be inferred\n",
      "  f2 = lambda v : self._map_gene_to_reference_seq2(gene = v,\n",
      "C:\\Users\\arnod\\AppData\\Local\\Programs\\Python\\Python39\\lib\\site-packages\\tcrdist\\repertoire.py:508: UserWarning: TRBV11-2 gene was not recognized in reference db no cdr seq could be inferred\n",
      "  f2 = lambda v : self._map_gene_to_reference_seq2(gene = v,\n",
      "C:\\Users\\arnod\\AppData\\Local\\Programs\\Python\\Python39\\lib\\site-packages\\tcrdist\\repertoire.py:508: UserWarning: TRBV6-2 gene was not recognized in reference db no cdr seq could be inferred\n",
      "  f2 = lambda v : self._map_gene_to_reference_seq2(gene = v,\n",
      "C:\\Users\\arnod\\AppData\\Local\\Programs\\Python\\Python39\\lib\\site-packages\\tcrdist\\repertoire.py:508: UserWarning: TRBV7-6 gene was not recognized in reference db no cdr seq could be inferred\n",
      "  f2 = lambda v : self._map_gene_to_reference_seq2(gene = v,\n",
      "C:\\Users\\arnod\\AppData\\Local\\Programs\\Python\\Python39\\lib\\site-packages\\tcrdist\\repertoire.py:508: UserWarning: TRBV5-4 gene was not recognized in reference db no cdr seq could be inferred\n",
      "  f2 = lambda v : self._map_gene_to_reference_seq2(gene = v,\n",
      "C:\\Users\\arnod\\AppData\\Local\\Programs\\Python\\Python39\\lib\\site-packages\\tcrdist\\repertoire.py:508: UserWarning: TRBV14 gene was not recognized in reference db no cdr seq could be inferred\n",
      "  f2 = lambda v : self._map_gene_to_reference_seq2(gene = v,\n",
      "C:\\Users\\arnod\\AppData\\Local\\Programs\\Python\\Python39\\lib\\site-packages\\tcrdist\\repertoire.py:508: UserWarning: TRBV5-6 gene was not recognized in reference db no cdr seq could be inferred\n",
      "  f2 = lambda v : self._map_gene_to_reference_seq2(gene = v,\n",
      "C:\\Users\\arnod\\AppData\\Local\\Programs\\Python\\Python39\\lib\\site-packages\\tcrdist\\repertoire.py:508: UserWarning: TRBV2 gene was not recognized in reference db no cdr seq could be inferred\n",
      "  f2 = lambda v : self._map_gene_to_reference_seq2(gene = v,\n",
      "C:\\Users\\arnod\\AppData\\Local\\Programs\\Python\\Python39\\lib\\site-packages\\tcrdist\\repertoire.py:508: UserWarning: TRBV5-1 gene was not recognized in reference db no cdr seq could be inferred\n",
      "  f2 = lambda v : self._map_gene_to_reference_seq2(gene = v,\n",
      "C:\\Users\\arnod\\AppData\\Local\\Programs\\Python\\Python39\\lib\\site-packages\\tcrdist\\repertoire.py:508: UserWarning: TRBV21-1 gene was not recognized in reference db no cdr seq could be inferred\n",
      "  f2 = lambda v : self._map_gene_to_reference_seq2(gene = v,\n",
      "C:\\Users\\arnod\\AppData\\Local\\Programs\\Python\\Python39\\lib\\site-packages\\tcrdist\\repertoire.py:508: UserWarning: TRBV30 gene was not recognized in reference db no cdr seq could be inferred\n",
      "  f2 = lambda v : self._map_gene_to_reference_seq2(gene = v,\n",
      "C:\\Users\\arnod\\AppData\\Local\\Programs\\Python\\Python39\\lib\\site-packages\\tcrdist\\repertoire.py:508: UserWarning: TRBV25-1 gene was not recognized in reference db no cdr seq could be inferred\n",
      "  f2 = lambda v : self._map_gene_to_reference_seq2(gene = v,\n",
      "C:\\Users\\arnod\\AppData\\Local\\Programs\\Python\\Python39\\lib\\site-packages\\tcrdist\\repertoire.py:508: UserWarning: TRBV7-8 gene was not recognized in reference db no cdr seq could be inferred\n",
      "  f2 = lambda v : self._map_gene_to_reference_seq2(gene = v,\n",
      "C:\\Users\\arnod\\AppData\\Local\\Programs\\Python\\Python39\\lib\\site-packages\\tcrdist\\repertoire.py:190: UserWarning: Not all cells/sequences could be grouped into clones.100 of 100 were not captured. This occurs when any of the values in the index columns are null or missing for a given sequence. To see entries with missing values use: tcrdist.repertoire.TCRrep._show_incomplete()\n",
      "  self.deduplicate()\n"
     ]
    }
   ],
   "source": [
    "tr = TCRrep(cell_df = train_dataset,\n",
    "            organism = 'human',\n",
    "            chains = ['alpha','beta'],\n",
    "            db_file = 'alphabeta_gammadelta_db.tsv',\n",
    "            compute_distances = False)"
   ],
   "metadata": {
    "collapsed": false
   }
  },
  {
   "cell_type": "code",
   "execution_count": 26,
   "outputs": [
    {
     "data": {
      "text/plain": "             cdr3_a_aa         cdr3_b_aa     v_a_gene j_a_gene  v_b_gene  \\\n2     CAFMKQRGGGADGLTF   CASSISSGRGNEQFF     TRAV38-1   TRAJ45    TRBV19   \n3       CRNAGGTSYGKLTF  CASSSHQRTGVDEQFF       TRAV25   TRAJ52    TRBV27   \n12        CAGASNTGKLIF     CASSLGDNTEAFF       TRAV27   TRAJ37   TRBV7-9   \n13     CALDNVWDSGYALNF   CASSLVPIGTDTQYF        TRAV6   TRAJ41  TRBV12-3   \n14    CAYRSARIGTASKLTF  CASRRIGRGGNQPQHF  TRAV38-2DV8   TRAJ44    TRBV19   \n..                 ...               ...          ...      ...       ...   \n216     CIVRVAATNARLMF  CASSLGVRGYDEKLFF     TRAV26-1   TRAJ31   TRBV7-8   \n219      CALTGNYGQNFVF     CASSIRSSYEQYF       TRAV16   TRAJ26    TRBV19   \n221  CAFMTNAGGTSYGKLTF      CASSQGSYGYTF     TRAV38-1   TRAJ52    TRBV19   \n226     CAENTRAGNTPLVF   CASSPSSYKDNEQFF        TRAV5   TRAJ29     TRBV9   \n227       CAYTGSNYKLTF  CASSHRGGPGDTEAFF  TRAV38-2DV8   TRAJ53   TRBV7-9   \n\n    j_b_gene cdr1_a_aa cdr2_a_aa pmhc_a_aa cdr1_b_aa cdr2_b_aa pmhc_b_aa  \\\n2    TRBJ2-1      None      None      None      None      None      None   \n3    TRBJ2-1      None      None      None      None      None      None   \n12   TRBJ1-1      None      None      None      None      None      None   \n13   TRBJ2-3      None      None      None      None      None      None   \n14   TRBJ1-5      None      None      None      None      None      None   \n..       ...       ...       ...       ...       ...       ...       ...   \n216  TRBJ1-4      None      None      None      None      None      None   \n219  TRBJ2-7      None      None      None      None      None      None   \n221  TRBJ1-2      None      None      None      None      None      None   \n226  TRBJ2-1      None      None      None      None      None      None   \n227  TRBJ1-1      None      None      None      None      None      None   \n\n             cdr3_a_aa         cdr3_b_aa  \n2     CAFMKQRGGGADGLTF   CASSISSGRGNEQFF  \n3       CRNAGGTSYGKLTF  CASSSHQRTGVDEQFF  \n12        CAGASNTGKLIF     CASSLGDNTEAFF  \n13     CALDNVWDSGYALNF   CASSLVPIGTDTQYF  \n14    CAYRSARIGTASKLTF  CASRRIGRGGNQPQHF  \n..                 ...               ...  \n216     CIVRVAATNARLMF  CASSLGVRGYDEKLFF  \n219      CALTGNYGQNFVF     CASSIRSSYEQYF  \n221  CAFMTNAGGTSYGKLTF      CASSQGSYGYTF  \n226     CAENTRAGNTPLVF   CASSPSSYKDNEQFF  \n227       CAYTGSNYKLTF  CASSHRGGPGDTEAFF  \n\n[100 rows x 14 columns]",
      "text/html": "<div>\n<style scoped>\n    .dataframe tbody tr th:only-of-type {\n        vertical-align: middle;\n    }\n\n    .dataframe tbody tr th {\n        vertical-align: top;\n    }\n\n    .dataframe thead th {\n        text-align: right;\n    }\n</style>\n<table border=\"1\" class=\"dataframe\">\n  <thead>\n    <tr style=\"text-align: right;\">\n      <th></th>\n      <th>cdr3_a_aa</th>\n      <th>cdr3_b_aa</th>\n      <th>v_a_gene</th>\n      <th>j_a_gene</th>\n      <th>v_b_gene</th>\n      <th>j_b_gene</th>\n      <th>cdr1_a_aa</th>\n      <th>cdr2_a_aa</th>\n      <th>pmhc_a_aa</th>\n      <th>cdr1_b_aa</th>\n      <th>cdr2_b_aa</th>\n      <th>pmhc_b_aa</th>\n      <th>cdr3_a_aa</th>\n      <th>cdr3_b_aa</th>\n    </tr>\n  </thead>\n  <tbody>\n    <tr>\n      <th>2</th>\n      <td>CAFMKQRGGGADGLTF</td>\n      <td>CASSISSGRGNEQFF</td>\n      <td>TRAV38-1</td>\n      <td>TRAJ45</td>\n      <td>TRBV19</td>\n      <td>TRBJ2-1</td>\n      <td>None</td>\n      <td>None</td>\n      <td>None</td>\n      <td>None</td>\n      <td>None</td>\n      <td>None</td>\n      <td>CAFMKQRGGGADGLTF</td>\n      <td>CASSISSGRGNEQFF</td>\n    </tr>\n    <tr>\n      <th>3</th>\n      <td>CRNAGGTSYGKLTF</td>\n      <td>CASSSHQRTGVDEQFF</td>\n      <td>TRAV25</td>\n      <td>TRAJ52</td>\n      <td>TRBV27</td>\n      <td>TRBJ2-1</td>\n      <td>None</td>\n      <td>None</td>\n      <td>None</td>\n      <td>None</td>\n      <td>None</td>\n      <td>None</td>\n      <td>CRNAGGTSYGKLTF</td>\n      <td>CASSSHQRTGVDEQFF</td>\n    </tr>\n    <tr>\n      <th>12</th>\n      <td>CAGASNTGKLIF</td>\n      <td>CASSLGDNTEAFF</td>\n      <td>TRAV27</td>\n      <td>TRAJ37</td>\n      <td>TRBV7-9</td>\n      <td>TRBJ1-1</td>\n      <td>None</td>\n      <td>None</td>\n      <td>None</td>\n      <td>None</td>\n      <td>None</td>\n      <td>None</td>\n      <td>CAGASNTGKLIF</td>\n      <td>CASSLGDNTEAFF</td>\n    </tr>\n    <tr>\n      <th>13</th>\n      <td>CALDNVWDSGYALNF</td>\n      <td>CASSLVPIGTDTQYF</td>\n      <td>TRAV6</td>\n      <td>TRAJ41</td>\n      <td>TRBV12-3</td>\n      <td>TRBJ2-3</td>\n      <td>None</td>\n      <td>None</td>\n      <td>None</td>\n      <td>None</td>\n      <td>None</td>\n      <td>None</td>\n      <td>CALDNVWDSGYALNF</td>\n      <td>CASSLVPIGTDTQYF</td>\n    </tr>\n    <tr>\n      <th>14</th>\n      <td>CAYRSARIGTASKLTF</td>\n      <td>CASRRIGRGGNQPQHF</td>\n      <td>TRAV38-2DV8</td>\n      <td>TRAJ44</td>\n      <td>TRBV19</td>\n      <td>TRBJ1-5</td>\n      <td>None</td>\n      <td>None</td>\n      <td>None</td>\n      <td>None</td>\n      <td>None</td>\n      <td>None</td>\n      <td>CAYRSARIGTASKLTF</td>\n      <td>CASRRIGRGGNQPQHF</td>\n    </tr>\n    <tr>\n      <th>...</th>\n      <td>...</td>\n      <td>...</td>\n      <td>...</td>\n      <td>...</td>\n      <td>...</td>\n      <td>...</td>\n      <td>...</td>\n      <td>...</td>\n      <td>...</td>\n      <td>...</td>\n      <td>...</td>\n      <td>...</td>\n      <td>...</td>\n      <td>...</td>\n    </tr>\n    <tr>\n      <th>216</th>\n      <td>CIVRVAATNARLMF</td>\n      <td>CASSLGVRGYDEKLFF</td>\n      <td>TRAV26-1</td>\n      <td>TRAJ31</td>\n      <td>TRBV7-8</td>\n      <td>TRBJ1-4</td>\n      <td>None</td>\n      <td>None</td>\n      <td>None</td>\n      <td>None</td>\n      <td>None</td>\n      <td>None</td>\n      <td>CIVRVAATNARLMF</td>\n      <td>CASSLGVRGYDEKLFF</td>\n    </tr>\n    <tr>\n      <th>219</th>\n      <td>CALTGNYGQNFVF</td>\n      <td>CASSIRSSYEQYF</td>\n      <td>TRAV16</td>\n      <td>TRAJ26</td>\n      <td>TRBV19</td>\n      <td>TRBJ2-7</td>\n      <td>None</td>\n      <td>None</td>\n      <td>None</td>\n      <td>None</td>\n      <td>None</td>\n      <td>None</td>\n      <td>CALTGNYGQNFVF</td>\n      <td>CASSIRSSYEQYF</td>\n    </tr>\n    <tr>\n      <th>221</th>\n      <td>CAFMTNAGGTSYGKLTF</td>\n      <td>CASSQGSYGYTF</td>\n      <td>TRAV38-1</td>\n      <td>TRAJ52</td>\n      <td>TRBV19</td>\n      <td>TRBJ1-2</td>\n      <td>None</td>\n      <td>None</td>\n      <td>None</td>\n      <td>None</td>\n      <td>None</td>\n      <td>None</td>\n      <td>CAFMTNAGGTSYGKLTF</td>\n      <td>CASSQGSYGYTF</td>\n    </tr>\n    <tr>\n      <th>226</th>\n      <td>CAENTRAGNTPLVF</td>\n      <td>CASSPSSYKDNEQFF</td>\n      <td>TRAV5</td>\n      <td>TRAJ29</td>\n      <td>TRBV9</td>\n      <td>TRBJ2-1</td>\n      <td>None</td>\n      <td>None</td>\n      <td>None</td>\n      <td>None</td>\n      <td>None</td>\n      <td>None</td>\n      <td>CAENTRAGNTPLVF</td>\n      <td>CASSPSSYKDNEQFF</td>\n    </tr>\n    <tr>\n      <th>227</th>\n      <td>CAYTGSNYKLTF</td>\n      <td>CASSHRGGPGDTEAFF</td>\n      <td>TRAV38-2DV8</td>\n      <td>TRAJ53</td>\n      <td>TRBV7-9</td>\n      <td>TRBJ1-1</td>\n      <td>None</td>\n      <td>None</td>\n      <td>None</td>\n      <td>None</td>\n      <td>None</td>\n      <td>None</td>\n      <td>CAYTGSNYKLTF</td>\n      <td>CASSHRGGPGDTEAFF</td>\n    </tr>\n  </tbody>\n</table>\n<p>100 rows × 14 columns</p>\n</div>"
     },
     "execution_count": 26,
     "metadata": {},
     "output_type": "execute_result"
    }
   ],
   "source": [
    "# import tcrdist\n",
    "tr.show_incomplete()\n",
    "# tr._show_incomplete()"
   ],
   "metadata": {
    "collapsed": false
   }
  },
  {
   "cell_type": "markdown",
   "source": [
    "Not all cells/sequences could be grouped into clones. 100 of 100 were not captured. This occurs when any of the values in the index columns are null or missing for a given sequence. To see entries with missing values use: tcrdist.repertoire.TCRrep._show_incomplete()\n",
    "\n",
    "The count column seems important, let's assign it to 1 everywhere:"
   ],
   "metadata": {
    "collapsed": false
   }
  },
  {
   "cell_type": "code",
   "execution_count": 30,
   "outputs": [],
   "source": [
    "train_dataset['count'] = 0"
   ],
   "metadata": {
    "collapsed": false
   }
  },
  {
   "cell_type": "code",
   "execution_count": 31,
   "outputs": [
    {
     "name": "stderr",
     "output_type": "stream",
     "text": [
      "C:\\Users\\arnod\\AppData\\Local\\Programs\\Python\\Python39\\lib\\site-packages\\tcrdist\\repertoire.py:500: UserWarning: TRAV38-1 gene was not recognized in reference db no cdr seq could be inferred\n",
      "  f0 = lambda v : self._map_gene_to_reference_seq2(gene = v,\n",
      "C:\\Users\\arnod\\AppData\\Local\\Programs\\Python\\Python39\\lib\\site-packages\\tcrdist\\repertoire.py:500: UserWarning: TRAV25 gene was not recognized in reference db no cdr seq could be inferred\n",
      "  f0 = lambda v : self._map_gene_to_reference_seq2(gene = v,\n",
      "C:\\Users\\arnod\\AppData\\Local\\Programs\\Python\\Python39\\lib\\site-packages\\tcrdist\\repertoire.py:500: UserWarning: TRAV27 gene was not recognized in reference db no cdr seq could be inferred\n",
      "  f0 = lambda v : self._map_gene_to_reference_seq2(gene = v,\n",
      "C:\\Users\\arnod\\AppData\\Local\\Programs\\Python\\Python39\\lib\\site-packages\\tcrdist\\repertoire.py:500: UserWarning: TRAV6 gene was not recognized in reference db no cdr seq could be inferred\n",
      "  f0 = lambda v : self._map_gene_to_reference_seq2(gene = v,\n",
      "C:\\Users\\arnod\\AppData\\Local\\Programs\\Python\\Python39\\lib\\site-packages\\tcrdist\\repertoire.py:500: UserWarning: TRAV38-2DV8 gene was not recognized in reference db no cdr seq could be inferred\n",
      "  f0 = lambda v : self._map_gene_to_reference_seq2(gene = v,\n",
      "C:\\Users\\arnod\\AppData\\Local\\Programs\\Python\\Python39\\lib\\site-packages\\tcrdist\\repertoire.py:500: UserWarning: TRAV14DV4 gene was not recognized in reference db no cdr seq could be inferred\n",
      "  f0 = lambda v : self._map_gene_to_reference_seq2(gene = v,\n",
      "C:\\Users\\arnod\\AppData\\Local\\Programs\\Python\\Python39\\lib\\site-packages\\tcrdist\\repertoire.py:500: UserWarning: TRAV8-6 gene was not recognized in reference db no cdr seq could be inferred\n",
      "  f0 = lambda v : self._map_gene_to_reference_seq2(gene = v,\n",
      "C:\\Users\\arnod\\AppData\\Local\\Programs\\Python\\Python39\\lib\\site-packages\\tcrdist\\repertoire.py:500: UserWarning: TRAV5 gene was not recognized in reference db no cdr seq could be inferred\n",
      "  f0 = lambda v : self._map_gene_to_reference_seq2(gene = v,\n",
      "C:\\Users\\arnod\\AppData\\Local\\Programs\\Python\\Python39\\lib\\site-packages\\tcrdist\\repertoire.py:500: UserWarning: TRAV16 gene was not recognized in reference db no cdr seq could be inferred\n",
      "  f0 = lambda v : self._map_gene_to_reference_seq2(gene = v,\n",
      "C:\\Users\\arnod\\AppData\\Local\\Programs\\Python\\Python39\\lib\\site-packages\\tcrdist\\repertoire.py:500: UserWarning: TRAV17 gene was not recognized in reference db no cdr seq could be inferred\n",
      "  f0 = lambda v : self._map_gene_to_reference_seq2(gene = v,\n",
      "C:\\Users\\arnod\\AppData\\Local\\Programs\\Python\\Python39\\lib\\site-packages\\tcrdist\\repertoire.py:500: UserWarning: TRAV20 gene was not recognized in reference db no cdr seq could be inferred\n",
      "  f0 = lambda v : self._map_gene_to_reference_seq2(gene = v,\n",
      "C:\\Users\\arnod\\AppData\\Local\\Programs\\Python\\Python39\\lib\\site-packages\\tcrdist\\repertoire.py:500: UserWarning: TRAV22 gene was not recognized in reference db no cdr seq could be inferred\n",
      "  f0 = lambda v : self._map_gene_to_reference_seq2(gene = v,\n",
      "C:\\Users\\arnod\\AppData\\Local\\Programs\\Python\\Python39\\lib\\site-packages\\tcrdist\\repertoire.py:500: UserWarning: TRAV35 gene was not recognized in reference db no cdr seq could be inferred\n",
      "  f0 = lambda v : self._map_gene_to_reference_seq2(gene = v,\n",
      "C:\\Users\\arnod\\AppData\\Local\\Programs\\Python\\Python39\\lib\\site-packages\\tcrdist\\repertoire.py:500: UserWarning: TRAV19 gene was not recognized in reference db no cdr seq could be inferred\n",
      "  f0 = lambda v : self._map_gene_to_reference_seq2(gene = v,\n",
      "C:\\Users\\arnod\\AppData\\Local\\Programs\\Python\\Python39\\lib\\site-packages\\tcrdist\\repertoire.py:500: UserWarning: TRAV26-2 gene was not recognized in reference db no cdr seq could be inferred\n",
      "  f0 = lambda v : self._map_gene_to_reference_seq2(gene = v,\n",
      "C:\\Users\\arnod\\AppData\\Local\\Programs\\Python\\Python39\\lib\\site-packages\\tcrdist\\repertoire.py:500: UserWarning: TRAV8-3 gene was not recognized in reference db no cdr seq could be inferred\n",
      "  f0 = lambda v : self._map_gene_to_reference_seq2(gene = v,\n",
      "C:\\Users\\arnod\\AppData\\Local\\Programs\\Python\\Python39\\lib\\site-packages\\tcrdist\\repertoire.py:500: UserWarning: TRAV3 gene was not recognized in reference db no cdr seq could be inferred\n",
      "  f0 = lambda v : self._map_gene_to_reference_seq2(gene = v,\n",
      "C:\\Users\\arnod\\AppData\\Local\\Programs\\Python\\Python39\\lib\\site-packages\\tcrdist\\repertoire.py:500: UserWarning: TRAV26-1 gene was not recognized in reference db no cdr seq could be inferred\n",
      "  f0 = lambda v : self._map_gene_to_reference_seq2(gene = v,\n",
      "C:\\Users\\arnod\\AppData\\Local\\Programs\\Python\\Python39\\lib\\site-packages\\tcrdist\\repertoire.py:500: UserWarning: TRAV13-1 gene was not recognized in reference db no cdr seq could be inferred\n",
      "  f0 = lambda v : self._map_gene_to_reference_seq2(gene = v,\n",
      "C:\\Users\\arnod\\AppData\\Local\\Programs\\Python\\Python39\\lib\\site-packages\\tcrdist\\repertoire.py:500: UserWarning: TRAV29/DV5 gene was not recognized in reference db no cdr seq could be inferred\n",
      "  f0 = lambda v : self._map_gene_to_reference_seq2(gene = v,\n",
      "C:\\Users\\arnod\\AppData\\Local\\Programs\\Python\\Python39\\lib\\site-packages\\tcrdist\\repertoire.py:500: UserWarning: TRAV1-2 gene was not recognized in reference db no cdr seq could be inferred\n",
      "  f0 = lambda v : self._map_gene_to_reference_seq2(gene = v,\n",
      "C:\\Users\\arnod\\AppData\\Local\\Programs\\Python\\Python39\\lib\\site-packages\\tcrdist\\repertoire.py:500: UserWarning: TRAV8-1 gene was not recognized in reference db no cdr seq could be inferred\n",
      "  f0 = lambda v : self._map_gene_to_reference_seq2(gene = v,\n",
      "C:\\Users\\arnod\\AppData\\Local\\Programs\\Python\\Python39\\lib\\site-packages\\tcrdist\\repertoire.py:500: UserWarning: TRAV29DV5 gene was not recognized in reference db no cdr seq could be inferred\n",
      "  f0 = lambda v : self._map_gene_to_reference_seq2(gene = v,\n",
      "C:\\Users\\arnod\\AppData\\Local\\Programs\\Python\\Python39\\lib\\site-packages\\tcrdist\\repertoire.py:500: UserWarning: TRAV8-4 gene was not recognized in reference db no cdr seq could be inferred\n",
      "  f0 = lambda v : self._map_gene_to_reference_seq2(gene = v,\n",
      "C:\\Users\\arnod\\AppData\\Local\\Programs\\Python\\Python39\\lib\\site-packages\\tcrdist\\repertoire.py:500: UserWarning: TRAV13-2 gene was not recognized in reference db no cdr seq could be inferred\n",
      "  f0 = lambda v : self._map_gene_to_reference_seq2(gene = v,\n",
      "C:\\Users\\arnod\\AppData\\Local\\Programs\\Python\\Python39\\lib\\site-packages\\tcrdist\\repertoire.py:500: UserWarning: TRAV21 gene was not recognized in reference db no cdr seq could be inferred\n",
      "  f0 = lambda v : self._map_gene_to_reference_seq2(gene = v,\n",
      "C:\\Users\\arnod\\AppData\\Local\\Programs\\Python\\Python39\\lib\\site-packages\\tcrdist\\repertoire.py:500: UserWarning: TRAV4 gene was not recognized in reference db no cdr seq could be inferred\n",
      "  f0 = lambda v : self._map_gene_to_reference_seq2(gene = v,\n",
      "C:\\Users\\arnod\\AppData\\Local\\Programs\\Python\\Python39\\lib\\site-packages\\tcrdist\\repertoire.py:500: UserWarning: TRDV1 gene was not recognized in reference db no cdr seq could be inferred\n",
      "  f0 = lambda v : self._map_gene_to_reference_seq2(gene = v,\n",
      "C:\\Users\\arnod\\AppData\\Local\\Programs\\Python\\Python39\\lib\\site-packages\\tcrdist\\repertoire.py:500: UserWarning: TRAV1-1 gene was not recognized in reference db no cdr seq could be inferred\n",
      "  f0 = lambda v : self._map_gene_to_reference_seq2(gene = v,\n",
      "C:\\Users\\arnod\\AppData\\Local\\Programs\\Python\\Python39\\lib\\site-packages\\tcrdist\\repertoire.py:500: UserWarning: TRAV12-1 gene was not recognized in reference db no cdr seq could be inferred\n",
      "  f0 = lambda v : self._map_gene_to_reference_seq2(gene = v,\n",
      "C:\\Users\\arnod\\AppData\\Local\\Programs\\Python\\Python39\\lib\\site-packages\\tcrdist\\repertoire.py:500: UserWarning: TRAV30 gene was not recognized in reference db no cdr seq could be inferred\n",
      "  f0 = lambda v : self._map_gene_to_reference_seq2(gene = v,\n",
      "C:\\Users\\arnod\\AppData\\Local\\Programs\\Python\\Python39\\lib\\site-packages\\tcrdist\\repertoire.py:500: UserWarning: TRAV14/DV4 gene was not recognized in reference db no cdr seq could be inferred\n",
      "  f0 = lambda v : self._map_gene_to_reference_seq2(gene = v,\n",
      "C:\\Users\\arnod\\AppData\\Local\\Programs\\Python\\Python39\\lib\\site-packages\\tcrdist\\repertoire.py:500: UserWarning: TRAV12-2 gene was not recognized in reference db no cdr seq could be inferred\n",
      "  f0 = lambda v : self._map_gene_to_reference_seq2(gene = v,\n",
      "C:\\Users\\arnod\\AppData\\Local\\Programs\\Python\\Python39\\lib\\site-packages\\tcrdist\\repertoire.py:500: UserWarning: TRAV23/DV6 gene was not recognized in reference db no cdr seq could be inferred\n",
      "  f0 = lambda v : self._map_gene_to_reference_seq2(gene = v,\n",
      "C:\\Users\\arnod\\AppData\\Local\\Programs\\Python\\Python39\\lib\\site-packages\\tcrdist\\repertoire.py:500: UserWarning: TRAV41 gene was not recognized in reference db no cdr seq could be inferred\n",
      "  f0 = lambda v : self._map_gene_to_reference_seq2(gene = v,\n",
      "C:\\Users\\arnod\\AppData\\Local\\Programs\\Python\\Python39\\lib\\site-packages\\tcrdist\\repertoire.py:500: UserWarning: TRAV24 gene was not recognized in reference db no cdr seq could be inferred\n",
      "  f0 = lambda v : self._map_gene_to_reference_seq2(gene = v,\n",
      "C:\\Users\\arnod\\AppData\\Local\\Programs\\Python\\Python39\\lib\\site-packages\\tcrdist\\repertoire.py:504: UserWarning: TRAV38-1 gene was not recognized in reference db no cdr seq could be inferred\n",
      "  f1 = lambda v : self._map_gene_to_reference_seq2(gene = v,\n",
      "C:\\Users\\arnod\\AppData\\Local\\Programs\\Python\\Python39\\lib\\site-packages\\tcrdist\\repertoire.py:504: UserWarning: TRAV25 gene was not recognized in reference db no cdr seq could be inferred\n",
      "  f1 = lambda v : self._map_gene_to_reference_seq2(gene = v,\n",
      "C:\\Users\\arnod\\AppData\\Local\\Programs\\Python\\Python39\\lib\\site-packages\\tcrdist\\repertoire.py:504: UserWarning: TRAV27 gene was not recognized in reference db no cdr seq could be inferred\n",
      "  f1 = lambda v : self._map_gene_to_reference_seq2(gene = v,\n",
      "C:\\Users\\arnod\\AppData\\Local\\Programs\\Python\\Python39\\lib\\site-packages\\tcrdist\\repertoire.py:504: UserWarning: TRAV6 gene was not recognized in reference db no cdr seq could be inferred\n",
      "  f1 = lambda v : self._map_gene_to_reference_seq2(gene = v,\n",
      "C:\\Users\\arnod\\AppData\\Local\\Programs\\Python\\Python39\\lib\\site-packages\\tcrdist\\repertoire.py:504: UserWarning: TRAV38-2DV8 gene was not recognized in reference db no cdr seq could be inferred\n",
      "  f1 = lambda v : self._map_gene_to_reference_seq2(gene = v,\n",
      "C:\\Users\\arnod\\AppData\\Local\\Programs\\Python\\Python39\\lib\\site-packages\\tcrdist\\repertoire.py:504: UserWarning: TRAV14DV4 gene was not recognized in reference db no cdr seq could be inferred\n",
      "  f1 = lambda v : self._map_gene_to_reference_seq2(gene = v,\n",
      "C:\\Users\\arnod\\AppData\\Local\\Programs\\Python\\Python39\\lib\\site-packages\\tcrdist\\repertoire.py:504: UserWarning: TRAV8-6 gene was not recognized in reference db no cdr seq could be inferred\n",
      "  f1 = lambda v : self._map_gene_to_reference_seq2(gene = v,\n",
      "C:\\Users\\arnod\\AppData\\Local\\Programs\\Python\\Python39\\lib\\site-packages\\tcrdist\\repertoire.py:504: UserWarning: TRAV5 gene was not recognized in reference db no cdr seq could be inferred\n",
      "  f1 = lambda v : self._map_gene_to_reference_seq2(gene = v,\n",
      "C:\\Users\\arnod\\AppData\\Local\\Programs\\Python\\Python39\\lib\\site-packages\\tcrdist\\repertoire.py:504: UserWarning: TRAV16 gene was not recognized in reference db no cdr seq could be inferred\n",
      "  f1 = lambda v : self._map_gene_to_reference_seq2(gene = v,\n",
      "C:\\Users\\arnod\\AppData\\Local\\Programs\\Python\\Python39\\lib\\site-packages\\tcrdist\\repertoire.py:504: UserWarning: TRAV17 gene was not recognized in reference db no cdr seq could be inferred\n",
      "  f1 = lambda v : self._map_gene_to_reference_seq2(gene = v,\n",
      "C:\\Users\\arnod\\AppData\\Local\\Programs\\Python\\Python39\\lib\\site-packages\\tcrdist\\repertoire.py:504: UserWarning: TRAV20 gene was not recognized in reference db no cdr seq could be inferred\n",
      "  f1 = lambda v : self._map_gene_to_reference_seq2(gene = v,\n",
      "C:\\Users\\arnod\\AppData\\Local\\Programs\\Python\\Python39\\lib\\site-packages\\tcrdist\\repertoire.py:504: UserWarning: TRAV22 gene was not recognized in reference db no cdr seq could be inferred\n",
      "  f1 = lambda v : self._map_gene_to_reference_seq2(gene = v,\n",
      "C:\\Users\\arnod\\AppData\\Local\\Programs\\Python\\Python39\\lib\\site-packages\\tcrdist\\repertoire.py:504: UserWarning: TRAV35 gene was not recognized in reference db no cdr seq could be inferred\n",
      "  f1 = lambda v : self._map_gene_to_reference_seq2(gene = v,\n",
      "C:\\Users\\arnod\\AppData\\Local\\Programs\\Python\\Python39\\lib\\site-packages\\tcrdist\\repertoire.py:504: UserWarning: TRAV19 gene was not recognized in reference db no cdr seq could be inferred\n",
      "  f1 = lambda v : self._map_gene_to_reference_seq2(gene = v,\n",
      "C:\\Users\\arnod\\AppData\\Local\\Programs\\Python\\Python39\\lib\\site-packages\\tcrdist\\repertoire.py:504: UserWarning: TRAV26-2 gene was not recognized in reference db no cdr seq could be inferred\n",
      "  f1 = lambda v : self._map_gene_to_reference_seq2(gene = v,\n",
      "C:\\Users\\arnod\\AppData\\Local\\Programs\\Python\\Python39\\lib\\site-packages\\tcrdist\\repertoire.py:504: UserWarning: TRAV8-3 gene was not recognized in reference db no cdr seq could be inferred\n",
      "  f1 = lambda v : self._map_gene_to_reference_seq2(gene = v,\n",
      "C:\\Users\\arnod\\AppData\\Local\\Programs\\Python\\Python39\\lib\\site-packages\\tcrdist\\repertoire.py:504: UserWarning: TRAV3 gene was not recognized in reference db no cdr seq could be inferred\n",
      "  f1 = lambda v : self._map_gene_to_reference_seq2(gene = v,\n",
      "C:\\Users\\arnod\\AppData\\Local\\Programs\\Python\\Python39\\lib\\site-packages\\tcrdist\\repertoire.py:504: UserWarning: TRAV26-1 gene was not recognized in reference db no cdr seq could be inferred\n",
      "  f1 = lambda v : self._map_gene_to_reference_seq2(gene = v,\n",
      "C:\\Users\\arnod\\AppData\\Local\\Programs\\Python\\Python39\\lib\\site-packages\\tcrdist\\repertoire.py:504: UserWarning: TRAV13-1 gene was not recognized in reference db no cdr seq could be inferred\n",
      "  f1 = lambda v : self._map_gene_to_reference_seq2(gene = v,\n",
      "C:\\Users\\arnod\\AppData\\Local\\Programs\\Python\\Python39\\lib\\site-packages\\tcrdist\\repertoire.py:504: UserWarning: TRAV29/DV5 gene was not recognized in reference db no cdr seq could be inferred\n",
      "  f1 = lambda v : self._map_gene_to_reference_seq2(gene = v,\n",
      "C:\\Users\\arnod\\AppData\\Local\\Programs\\Python\\Python39\\lib\\site-packages\\tcrdist\\repertoire.py:504: UserWarning: TRAV1-2 gene was not recognized in reference db no cdr seq could be inferred\n",
      "  f1 = lambda v : self._map_gene_to_reference_seq2(gene = v,\n",
      "C:\\Users\\arnod\\AppData\\Local\\Programs\\Python\\Python39\\lib\\site-packages\\tcrdist\\repertoire.py:504: UserWarning: TRAV8-1 gene was not recognized in reference db no cdr seq could be inferred\n",
      "  f1 = lambda v : self._map_gene_to_reference_seq2(gene = v,\n",
      "C:\\Users\\arnod\\AppData\\Local\\Programs\\Python\\Python39\\lib\\site-packages\\tcrdist\\repertoire.py:504: UserWarning: TRAV29DV5 gene was not recognized in reference db no cdr seq could be inferred\n",
      "  f1 = lambda v : self._map_gene_to_reference_seq2(gene = v,\n",
      "C:\\Users\\arnod\\AppData\\Local\\Programs\\Python\\Python39\\lib\\site-packages\\tcrdist\\repertoire.py:504: UserWarning: TRAV8-4 gene was not recognized in reference db no cdr seq could be inferred\n",
      "  f1 = lambda v : self._map_gene_to_reference_seq2(gene = v,\n",
      "C:\\Users\\arnod\\AppData\\Local\\Programs\\Python\\Python39\\lib\\site-packages\\tcrdist\\repertoire.py:504: UserWarning: TRAV13-2 gene was not recognized in reference db no cdr seq could be inferred\n",
      "  f1 = lambda v : self._map_gene_to_reference_seq2(gene = v,\n",
      "C:\\Users\\arnod\\AppData\\Local\\Programs\\Python\\Python39\\lib\\site-packages\\tcrdist\\repertoire.py:504: UserWarning: TRAV21 gene was not recognized in reference db no cdr seq could be inferred\n",
      "  f1 = lambda v : self._map_gene_to_reference_seq2(gene = v,\n",
      "C:\\Users\\arnod\\AppData\\Local\\Programs\\Python\\Python39\\lib\\site-packages\\tcrdist\\repertoire.py:504: UserWarning: TRAV4 gene was not recognized in reference db no cdr seq could be inferred\n",
      "  f1 = lambda v : self._map_gene_to_reference_seq2(gene = v,\n",
      "C:\\Users\\arnod\\AppData\\Local\\Programs\\Python\\Python39\\lib\\site-packages\\tcrdist\\repertoire.py:504: UserWarning: TRDV1 gene was not recognized in reference db no cdr seq could be inferred\n",
      "  f1 = lambda v : self._map_gene_to_reference_seq2(gene = v,\n",
      "C:\\Users\\arnod\\AppData\\Local\\Programs\\Python\\Python39\\lib\\site-packages\\tcrdist\\repertoire.py:504: UserWarning: TRAV1-1 gene was not recognized in reference db no cdr seq could be inferred\n",
      "  f1 = lambda v : self._map_gene_to_reference_seq2(gene = v,\n",
      "C:\\Users\\arnod\\AppData\\Local\\Programs\\Python\\Python39\\lib\\site-packages\\tcrdist\\repertoire.py:504: UserWarning: TRAV12-1 gene was not recognized in reference db no cdr seq could be inferred\n",
      "  f1 = lambda v : self._map_gene_to_reference_seq2(gene = v,\n",
      "C:\\Users\\arnod\\AppData\\Local\\Programs\\Python\\Python39\\lib\\site-packages\\tcrdist\\repertoire.py:504: UserWarning: TRAV30 gene was not recognized in reference db no cdr seq could be inferred\n",
      "  f1 = lambda v : self._map_gene_to_reference_seq2(gene = v,\n",
      "C:\\Users\\arnod\\AppData\\Local\\Programs\\Python\\Python39\\lib\\site-packages\\tcrdist\\repertoire.py:504: UserWarning: TRAV14/DV4 gene was not recognized in reference db no cdr seq could be inferred\n",
      "  f1 = lambda v : self._map_gene_to_reference_seq2(gene = v,\n",
      "C:\\Users\\arnod\\AppData\\Local\\Programs\\Python\\Python39\\lib\\site-packages\\tcrdist\\repertoire.py:504: UserWarning: TRAV12-2 gene was not recognized in reference db no cdr seq could be inferred\n",
      "  f1 = lambda v : self._map_gene_to_reference_seq2(gene = v,\n",
      "C:\\Users\\arnod\\AppData\\Local\\Programs\\Python\\Python39\\lib\\site-packages\\tcrdist\\repertoire.py:504: UserWarning: TRAV23/DV6 gene was not recognized in reference db no cdr seq could be inferred\n",
      "  f1 = lambda v : self._map_gene_to_reference_seq2(gene = v,\n",
      "C:\\Users\\arnod\\AppData\\Local\\Programs\\Python\\Python39\\lib\\site-packages\\tcrdist\\repertoire.py:504: UserWarning: TRAV41 gene was not recognized in reference db no cdr seq could be inferred\n",
      "  f1 = lambda v : self._map_gene_to_reference_seq2(gene = v,\n",
      "C:\\Users\\arnod\\AppData\\Local\\Programs\\Python\\Python39\\lib\\site-packages\\tcrdist\\repertoire.py:504: UserWarning: TRAV24 gene was not recognized in reference db no cdr seq could be inferred\n",
      "  f1 = lambda v : self._map_gene_to_reference_seq2(gene = v,\n",
      "C:\\Users\\arnod\\AppData\\Local\\Programs\\Python\\Python39\\lib\\site-packages\\tcrdist\\repertoire.py:508: UserWarning: TRAV38-1 gene was not recognized in reference db no cdr seq could be inferred\n",
      "  f2 = lambda v : self._map_gene_to_reference_seq2(gene = v,\n",
      "C:\\Users\\arnod\\AppData\\Local\\Programs\\Python\\Python39\\lib\\site-packages\\tcrdist\\repertoire.py:508: UserWarning: TRAV25 gene was not recognized in reference db no cdr seq could be inferred\n",
      "  f2 = lambda v : self._map_gene_to_reference_seq2(gene = v,\n",
      "C:\\Users\\arnod\\AppData\\Local\\Programs\\Python\\Python39\\lib\\site-packages\\tcrdist\\repertoire.py:508: UserWarning: TRAV27 gene was not recognized in reference db no cdr seq could be inferred\n",
      "  f2 = lambda v : self._map_gene_to_reference_seq2(gene = v,\n",
      "C:\\Users\\arnod\\AppData\\Local\\Programs\\Python\\Python39\\lib\\site-packages\\tcrdist\\repertoire.py:508: UserWarning: TRAV6 gene was not recognized in reference db no cdr seq could be inferred\n",
      "  f2 = lambda v : self._map_gene_to_reference_seq2(gene = v,\n",
      "C:\\Users\\arnod\\AppData\\Local\\Programs\\Python\\Python39\\lib\\site-packages\\tcrdist\\repertoire.py:508: UserWarning: TRAV38-2DV8 gene was not recognized in reference db no cdr seq could be inferred\n",
      "  f2 = lambda v : self._map_gene_to_reference_seq2(gene = v,\n",
      "C:\\Users\\arnod\\AppData\\Local\\Programs\\Python\\Python39\\lib\\site-packages\\tcrdist\\repertoire.py:508: UserWarning: TRAV14DV4 gene was not recognized in reference db no cdr seq could be inferred\n",
      "  f2 = lambda v : self._map_gene_to_reference_seq2(gene = v,\n",
      "C:\\Users\\arnod\\AppData\\Local\\Programs\\Python\\Python39\\lib\\site-packages\\tcrdist\\repertoire.py:508: UserWarning: TRAV8-6 gene was not recognized in reference db no cdr seq could be inferred\n",
      "  f2 = lambda v : self._map_gene_to_reference_seq2(gene = v,\n",
      "C:\\Users\\arnod\\AppData\\Local\\Programs\\Python\\Python39\\lib\\site-packages\\tcrdist\\repertoire.py:508: UserWarning: TRAV5 gene was not recognized in reference db no cdr seq could be inferred\n",
      "  f2 = lambda v : self._map_gene_to_reference_seq2(gene = v,\n",
      "C:\\Users\\arnod\\AppData\\Local\\Programs\\Python\\Python39\\lib\\site-packages\\tcrdist\\repertoire.py:508: UserWarning: TRAV16 gene was not recognized in reference db no cdr seq could be inferred\n",
      "  f2 = lambda v : self._map_gene_to_reference_seq2(gene = v,\n",
      "C:\\Users\\arnod\\AppData\\Local\\Programs\\Python\\Python39\\lib\\site-packages\\tcrdist\\repertoire.py:508: UserWarning: TRAV17 gene was not recognized in reference db no cdr seq could be inferred\n",
      "  f2 = lambda v : self._map_gene_to_reference_seq2(gene = v,\n",
      "C:\\Users\\arnod\\AppData\\Local\\Programs\\Python\\Python39\\lib\\site-packages\\tcrdist\\repertoire.py:508: UserWarning: TRAV20 gene was not recognized in reference db no cdr seq could be inferred\n",
      "  f2 = lambda v : self._map_gene_to_reference_seq2(gene = v,\n",
      "C:\\Users\\arnod\\AppData\\Local\\Programs\\Python\\Python39\\lib\\site-packages\\tcrdist\\repertoire.py:508: UserWarning: TRAV22 gene was not recognized in reference db no cdr seq could be inferred\n",
      "  f2 = lambda v : self._map_gene_to_reference_seq2(gene = v,\n",
      "C:\\Users\\arnod\\AppData\\Local\\Programs\\Python\\Python39\\lib\\site-packages\\tcrdist\\repertoire.py:508: UserWarning: TRAV35 gene was not recognized in reference db no cdr seq could be inferred\n",
      "  f2 = lambda v : self._map_gene_to_reference_seq2(gene = v,\n",
      "C:\\Users\\arnod\\AppData\\Local\\Programs\\Python\\Python39\\lib\\site-packages\\tcrdist\\repertoire.py:508: UserWarning: TRAV19 gene was not recognized in reference db no cdr seq could be inferred\n",
      "  f2 = lambda v : self._map_gene_to_reference_seq2(gene = v,\n",
      "C:\\Users\\arnod\\AppData\\Local\\Programs\\Python\\Python39\\lib\\site-packages\\tcrdist\\repertoire.py:508: UserWarning: TRAV26-2 gene was not recognized in reference db no cdr seq could be inferred\n",
      "  f2 = lambda v : self._map_gene_to_reference_seq2(gene = v,\n",
      "C:\\Users\\arnod\\AppData\\Local\\Programs\\Python\\Python39\\lib\\site-packages\\tcrdist\\repertoire.py:508: UserWarning: TRAV8-3 gene was not recognized in reference db no cdr seq could be inferred\n",
      "  f2 = lambda v : self._map_gene_to_reference_seq2(gene = v,\n",
      "C:\\Users\\arnod\\AppData\\Local\\Programs\\Python\\Python39\\lib\\site-packages\\tcrdist\\repertoire.py:508: UserWarning: TRAV3 gene was not recognized in reference db no cdr seq could be inferred\n",
      "  f2 = lambda v : self._map_gene_to_reference_seq2(gene = v,\n",
      "C:\\Users\\arnod\\AppData\\Local\\Programs\\Python\\Python39\\lib\\site-packages\\tcrdist\\repertoire.py:508: UserWarning: TRAV26-1 gene was not recognized in reference db no cdr seq could be inferred\n",
      "  f2 = lambda v : self._map_gene_to_reference_seq2(gene = v,\n",
      "C:\\Users\\arnod\\AppData\\Local\\Programs\\Python\\Python39\\lib\\site-packages\\tcrdist\\repertoire.py:508: UserWarning: TRAV13-1 gene was not recognized in reference db no cdr seq could be inferred\n",
      "  f2 = lambda v : self._map_gene_to_reference_seq2(gene = v,\n",
      "C:\\Users\\arnod\\AppData\\Local\\Programs\\Python\\Python39\\lib\\site-packages\\tcrdist\\repertoire.py:508: UserWarning: TRAV29/DV5 gene was not recognized in reference db no cdr seq could be inferred\n",
      "  f2 = lambda v : self._map_gene_to_reference_seq2(gene = v,\n",
      "C:\\Users\\arnod\\AppData\\Local\\Programs\\Python\\Python39\\lib\\site-packages\\tcrdist\\repertoire.py:508: UserWarning: TRAV1-2 gene was not recognized in reference db no cdr seq could be inferred\n",
      "  f2 = lambda v : self._map_gene_to_reference_seq2(gene = v,\n",
      "C:\\Users\\arnod\\AppData\\Local\\Programs\\Python\\Python39\\lib\\site-packages\\tcrdist\\repertoire.py:508: UserWarning: TRAV8-1 gene was not recognized in reference db no cdr seq could be inferred\n",
      "  f2 = lambda v : self._map_gene_to_reference_seq2(gene = v,\n",
      "C:\\Users\\arnod\\AppData\\Local\\Programs\\Python\\Python39\\lib\\site-packages\\tcrdist\\repertoire.py:508: UserWarning: TRAV29DV5 gene was not recognized in reference db no cdr seq could be inferred\n",
      "  f2 = lambda v : self._map_gene_to_reference_seq2(gene = v,\n",
      "C:\\Users\\arnod\\AppData\\Local\\Programs\\Python\\Python39\\lib\\site-packages\\tcrdist\\repertoire.py:508: UserWarning: TRAV8-4 gene was not recognized in reference db no cdr seq could be inferred\n",
      "  f2 = lambda v : self._map_gene_to_reference_seq2(gene = v,\n",
      "C:\\Users\\arnod\\AppData\\Local\\Programs\\Python\\Python39\\lib\\site-packages\\tcrdist\\repertoire.py:508: UserWarning: TRAV13-2 gene was not recognized in reference db no cdr seq could be inferred\n",
      "  f2 = lambda v : self._map_gene_to_reference_seq2(gene = v,\n",
      "C:\\Users\\arnod\\AppData\\Local\\Programs\\Python\\Python39\\lib\\site-packages\\tcrdist\\repertoire.py:508: UserWarning: TRAV21 gene was not recognized in reference db no cdr seq could be inferred\n",
      "  f2 = lambda v : self._map_gene_to_reference_seq2(gene = v,\n",
      "C:\\Users\\arnod\\AppData\\Local\\Programs\\Python\\Python39\\lib\\site-packages\\tcrdist\\repertoire.py:508: UserWarning: TRAV4 gene was not recognized in reference db no cdr seq could be inferred\n",
      "  f2 = lambda v : self._map_gene_to_reference_seq2(gene = v,\n",
      "C:\\Users\\arnod\\AppData\\Local\\Programs\\Python\\Python39\\lib\\site-packages\\tcrdist\\repertoire.py:508: UserWarning: TRDV1 gene was not recognized in reference db no cdr seq could be inferred\n",
      "  f2 = lambda v : self._map_gene_to_reference_seq2(gene = v,\n",
      "C:\\Users\\arnod\\AppData\\Local\\Programs\\Python\\Python39\\lib\\site-packages\\tcrdist\\repertoire.py:508: UserWarning: TRAV1-1 gene was not recognized in reference db no cdr seq could be inferred\n",
      "  f2 = lambda v : self._map_gene_to_reference_seq2(gene = v,\n",
      "C:\\Users\\arnod\\AppData\\Local\\Programs\\Python\\Python39\\lib\\site-packages\\tcrdist\\repertoire.py:508: UserWarning: TRAV12-1 gene was not recognized in reference db no cdr seq could be inferred\n",
      "  f2 = lambda v : self._map_gene_to_reference_seq2(gene = v,\n",
      "C:\\Users\\arnod\\AppData\\Local\\Programs\\Python\\Python39\\lib\\site-packages\\tcrdist\\repertoire.py:508: UserWarning: TRAV30 gene was not recognized in reference db no cdr seq could be inferred\n",
      "  f2 = lambda v : self._map_gene_to_reference_seq2(gene = v,\n",
      "C:\\Users\\arnod\\AppData\\Local\\Programs\\Python\\Python39\\lib\\site-packages\\tcrdist\\repertoire.py:508: UserWarning: TRAV14/DV4 gene was not recognized in reference db no cdr seq could be inferred\n",
      "  f2 = lambda v : self._map_gene_to_reference_seq2(gene = v,\n",
      "C:\\Users\\arnod\\AppData\\Local\\Programs\\Python\\Python39\\lib\\site-packages\\tcrdist\\repertoire.py:508: UserWarning: TRAV12-2 gene was not recognized in reference db no cdr seq could be inferred\n",
      "  f2 = lambda v : self._map_gene_to_reference_seq2(gene = v,\n",
      "C:\\Users\\arnod\\AppData\\Local\\Programs\\Python\\Python39\\lib\\site-packages\\tcrdist\\repertoire.py:508: UserWarning: TRAV23/DV6 gene was not recognized in reference db no cdr seq could be inferred\n",
      "  f2 = lambda v : self._map_gene_to_reference_seq2(gene = v,\n",
      "C:\\Users\\arnod\\AppData\\Local\\Programs\\Python\\Python39\\lib\\site-packages\\tcrdist\\repertoire.py:508: UserWarning: TRAV41 gene was not recognized in reference db no cdr seq could be inferred\n",
      "  f2 = lambda v : self._map_gene_to_reference_seq2(gene = v,\n",
      "C:\\Users\\arnod\\AppData\\Local\\Programs\\Python\\Python39\\lib\\site-packages\\tcrdist\\repertoire.py:508: UserWarning: TRAV24 gene was not recognized in reference db no cdr seq could be inferred\n",
      "  f2 = lambda v : self._map_gene_to_reference_seq2(gene = v,\n",
      "C:\\Users\\arnod\\AppData\\Local\\Programs\\Python\\Python39\\lib\\site-packages\\tcrdist\\repertoire.py:500: UserWarning: TRBV19 gene was not recognized in reference db no cdr seq could be inferred\n",
      "  f0 = lambda v : self._map_gene_to_reference_seq2(gene = v,\n",
      "C:\\Users\\arnod\\AppData\\Local\\Programs\\Python\\Python39\\lib\\site-packages\\tcrdist\\repertoire.py:500: UserWarning: TRBV27 gene was not recognized in reference db no cdr seq could be inferred\n",
      "  f0 = lambda v : self._map_gene_to_reference_seq2(gene = v,\n",
      "C:\\Users\\arnod\\AppData\\Local\\Programs\\Python\\Python39\\lib\\site-packages\\tcrdist\\repertoire.py:500: UserWarning: TRBV7-9 gene was not recognized in reference db no cdr seq could be inferred\n",
      "  f0 = lambda v : self._map_gene_to_reference_seq2(gene = v,\n",
      "C:\\Users\\arnod\\AppData\\Local\\Programs\\Python\\Python39\\lib\\site-packages\\tcrdist\\repertoire.py:500: UserWarning: TRBV12-3 gene was not recognized in reference db no cdr seq could be inferred\n",
      "  f0 = lambda v : self._map_gene_to_reference_seq2(gene = v,\n",
      "C:\\Users\\arnod\\AppData\\Local\\Programs\\Python\\Python39\\lib\\site-packages\\tcrdist\\repertoire.py:500: UserWarning: TRBV4-1 gene was not recognized in reference db no cdr seq could be inferred\n",
      "  f0 = lambda v : self._map_gene_to_reference_seq2(gene = v,\n",
      "C:\\Users\\arnod\\AppData\\Local\\Programs\\Python\\Python39\\lib\\site-packages\\tcrdist\\repertoire.py:500: UserWarning: TRBV6-6 gene was not recognized in reference db no cdr seq could be inferred\n",
      "  f0 = lambda v : self._map_gene_to_reference_seq2(gene = v,\n",
      "C:\\Users\\arnod\\AppData\\Local\\Programs\\Python\\Python39\\lib\\site-packages\\tcrdist\\repertoire.py:500: UserWarning: TRBV9 gene was not recognized in reference db no cdr seq could be inferred\n",
      "  f0 = lambda v : self._map_gene_to_reference_seq2(gene = v,\n",
      "C:\\Users\\arnod\\AppData\\Local\\Programs\\Python\\Python39\\lib\\site-packages\\tcrdist\\repertoire.py:500: UserWarning: TRBV7-2 gene was not recognized in reference db no cdr seq could be inferred\n",
      "  f0 = lambda v : self._map_gene_to_reference_seq2(gene = v,\n",
      "C:\\Users\\arnod\\AppData\\Local\\Programs\\Python\\Python39\\lib\\site-packages\\tcrdist\\repertoire.py:500: UserWarning: TRBV6-1 gene was not recognized in reference db no cdr seq could be inferred\n",
      "  f0 = lambda v : self._map_gene_to_reference_seq2(gene = v,\n",
      "C:\\Users\\arnod\\AppData\\Local\\Programs\\Python\\Python39\\lib\\site-packages\\tcrdist\\repertoire.py:500: UserWarning: TRBV6-5 gene was not recognized in reference db no cdr seq could be inferred\n",
      "  f0 = lambda v : self._map_gene_to_reference_seq2(gene = v,\n",
      "C:\\Users\\arnod\\AppData\\Local\\Programs\\Python\\Python39\\lib\\site-packages\\tcrdist\\repertoire.py:500: UserWarning: TRBV7-3 gene was not recognized in reference db no cdr seq could be inferred\n",
      "  f0 = lambda v : self._map_gene_to_reference_seq2(gene = v,\n",
      "C:\\Users\\arnod\\AppData\\Local\\Programs\\Python\\Python39\\lib\\site-packages\\tcrdist\\repertoire.py:500: UserWarning: TRBV4-3 gene was not recognized in reference db no cdr seq could be inferred\n",
      "  f0 = lambda v : self._map_gene_to_reference_seq2(gene = v,\n",
      "C:\\Users\\arnod\\AppData\\Local\\Programs\\Python\\Python39\\lib\\site-packages\\tcrdist\\repertoire.py:500: UserWarning: TRBV11-1 gene was not recognized in reference db no cdr seq could be inferred\n",
      "  f0 = lambda v : self._map_gene_to_reference_seq2(gene = v,\n",
      "C:\\Users\\arnod\\AppData\\Local\\Programs\\Python\\Python39\\lib\\site-packages\\tcrdist\\repertoire.py:500: UserWarning: TRBV20-1 gene was not recognized in reference db no cdr seq could be inferred\n",
      "  f0 = lambda v : self._map_gene_to_reference_seq2(gene = v,\n",
      "C:\\Users\\arnod\\AppData\\Local\\Programs\\Python\\Python39\\lib\\site-packages\\tcrdist\\repertoire.py:500: UserWarning: TRBV4-2 gene was not recognized in reference db no cdr seq could be inferred\n",
      "  f0 = lambda v : self._map_gene_to_reference_seq2(gene = v,\n",
      "C:\\Users\\arnod\\AppData\\Local\\Programs\\Python\\Python39\\lib\\site-packages\\tcrdist\\repertoire.py:500: UserWarning: TRBV11-2 gene was not recognized in reference db no cdr seq could be inferred\n",
      "  f0 = lambda v : self._map_gene_to_reference_seq2(gene = v,\n",
      "C:\\Users\\arnod\\AppData\\Local\\Programs\\Python\\Python39\\lib\\site-packages\\tcrdist\\repertoire.py:500: UserWarning: TRBV6-2 gene was not recognized in reference db no cdr seq could be inferred\n",
      "  f0 = lambda v : self._map_gene_to_reference_seq2(gene = v,\n",
      "C:\\Users\\arnod\\AppData\\Local\\Programs\\Python\\Python39\\lib\\site-packages\\tcrdist\\repertoire.py:500: UserWarning: TRBV7-6 gene was not recognized in reference db no cdr seq could be inferred\n",
      "  f0 = lambda v : self._map_gene_to_reference_seq2(gene = v,\n",
      "C:\\Users\\arnod\\AppData\\Local\\Programs\\Python\\Python39\\lib\\site-packages\\tcrdist\\repertoire.py:500: UserWarning: TRBV5-4 gene was not recognized in reference db no cdr seq could be inferred\n",
      "  f0 = lambda v : self._map_gene_to_reference_seq2(gene = v,\n",
      "C:\\Users\\arnod\\AppData\\Local\\Programs\\Python\\Python39\\lib\\site-packages\\tcrdist\\repertoire.py:500: UserWarning: TRBV14 gene was not recognized in reference db no cdr seq could be inferred\n",
      "  f0 = lambda v : self._map_gene_to_reference_seq2(gene = v,\n",
      "C:\\Users\\arnod\\AppData\\Local\\Programs\\Python\\Python39\\lib\\site-packages\\tcrdist\\repertoire.py:500: UserWarning: TRBV5-6 gene was not recognized in reference db no cdr seq could be inferred\n",
      "  f0 = lambda v : self._map_gene_to_reference_seq2(gene = v,\n",
      "C:\\Users\\arnod\\AppData\\Local\\Programs\\Python\\Python39\\lib\\site-packages\\tcrdist\\repertoire.py:500: UserWarning: TRBV2 gene was not recognized in reference db no cdr seq could be inferred\n",
      "  f0 = lambda v : self._map_gene_to_reference_seq2(gene = v,\n",
      "C:\\Users\\arnod\\AppData\\Local\\Programs\\Python\\Python39\\lib\\site-packages\\tcrdist\\repertoire.py:500: UserWarning: TRBV5-1 gene was not recognized in reference db no cdr seq could be inferred\n",
      "  f0 = lambda v : self._map_gene_to_reference_seq2(gene = v,\n",
      "C:\\Users\\arnod\\AppData\\Local\\Programs\\Python\\Python39\\lib\\site-packages\\tcrdist\\repertoire.py:500: UserWarning: TRBV21-1 gene was not recognized in reference db no cdr seq could be inferred\n",
      "  f0 = lambda v : self._map_gene_to_reference_seq2(gene = v,\n",
      "C:\\Users\\arnod\\AppData\\Local\\Programs\\Python\\Python39\\lib\\site-packages\\tcrdist\\repertoire.py:500: UserWarning: TRBV30 gene was not recognized in reference db no cdr seq could be inferred\n",
      "  f0 = lambda v : self._map_gene_to_reference_seq2(gene = v,\n",
      "C:\\Users\\arnod\\AppData\\Local\\Programs\\Python\\Python39\\lib\\site-packages\\tcrdist\\repertoire.py:500: UserWarning: TRBV25-1 gene was not recognized in reference db no cdr seq could be inferred\n",
      "  f0 = lambda v : self._map_gene_to_reference_seq2(gene = v,\n",
      "C:\\Users\\arnod\\AppData\\Local\\Programs\\Python\\Python39\\lib\\site-packages\\tcrdist\\repertoire.py:500: UserWarning: TRBV7-8 gene was not recognized in reference db no cdr seq could be inferred\n",
      "  f0 = lambda v : self._map_gene_to_reference_seq2(gene = v,\n",
      "C:\\Users\\arnod\\AppData\\Local\\Programs\\Python\\Python39\\lib\\site-packages\\tcrdist\\repertoire.py:504: UserWarning: TRBV19 gene was not recognized in reference db no cdr seq could be inferred\n",
      "  f1 = lambda v : self._map_gene_to_reference_seq2(gene = v,\n",
      "C:\\Users\\arnod\\AppData\\Local\\Programs\\Python\\Python39\\lib\\site-packages\\tcrdist\\repertoire.py:504: UserWarning: TRBV27 gene was not recognized in reference db no cdr seq could be inferred\n",
      "  f1 = lambda v : self._map_gene_to_reference_seq2(gene = v,\n",
      "C:\\Users\\arnod\\AppData\\Local\\Programs\\Python\\Python39\\lib\\site-packages\\tcrdist\\repertoire.py:504: UserWarning: TRBV7-9 gene was not recognized in reference db no cdr seq could be inferred\n",
      "  f1 = lambda v : self._map_gene_to_reference_seq2(gene = v,\n",
      "C:\\Users\\arnod\\AppData\\Local\\Programs\\Python\\Python39\\lib\\site-packages\\tcrdist\\repertoire.py:504: UserWarning: TRBV12-3 gene was not recognized in reference db no cdr seq could be inferred\n",
      "  f1 = lambda v : self._map_gene_to_reference_seq2(gene = v,\n",
      "C:\\Users\\arnod\\AppData\\Local\\Programs\\Python\\Python39\\lib\\site-packages\\tcrdist\\repertoire.py:504: UserWarning: TRBV4-1 gene was not recognized in reference db no cdr seq could be inferred\n",
      "  f1 = lambda v : self._map_gene_to_reference_seq2(gene = v,\n",
      "C:\\Users\\arnod\\AppData\\Local\\Programs\\Python\\Python39\\lib\\site-packages\\tcrdist\\repertoire.py:504: UserWarning: TRBV6-6 gene was not recognized in reference db no cdr seq could be inferred\n",
      "  f1 = lambda v : self._map_gene_to_reference_seq2(gene = v,\n",
      "C:\\Users\\arnod\\AppData\\Local\\Programs\\Python\\Python39\\lib\\site-packages\\tcrdist\\repertoire.py:504: UserWarning: TRBV9 gene was not recognized in reference db no cdr seq could be inferred\n",
      "  f1 = lambda v : self._map_gene_to_reference_seq2(gene = v,\n",
      "C:\\Users\\arnod\\AppData\\Local\\Programs\\Python\\Python39\\lib\\site-packages\\tcrdist\\repertoire.py:504: UserWarning: TRBV7-2 gene was not recognized in reference db no cdr seq could be inferred\n",
      "  f1 = lambda v : self._map_gene_to_reference_seq2(gene = v,\n",
      "C:\\Users\\arnod\\AppData\\Local\\Programs\\Python\\Python39\\lib\\site-packages\\tcrdist\\repertoire.py:504: UserWarning: TRBV6-1 gene was not recognized in reference db no cdr seq could be inferred\n",
      "  f1 = lambda v : self._map_gene_to_reference_seq2(gene = v,\n",
      "C:\\Users\\arnod\\AppData\\Local\\Programs\\Python\\Python39\\lib\\site-packages\\tcrdist\\repertoire.py:504: UserWarning: TRBV6-5 gene was not recognized in reference db no cdr seq could be inferred\n",
      "  f1 = lambda v : self._map_gene_to_reference_seq2(gene = v,\n",
      "C:\\Users\\arnod\\AppData\\Local\\Programs\\Python\\Python39\\lib\\site-packages\\tcrdist\\repertoire.py:504: UserWarning: TRBV7-3 gene was not recognized in reference db no cdr seq could be inferred\n",
      "  f1 = lambda v : self._map_gene_to_reference_seq2(gene = v,\n",
      "C:\\Users\\arnod\\AppData\\Local\\Programs\\Python\\Python39\\lib\\site-packages\\tcrdist\\repertoire.py:504: UserWarning: TRBV4-3 gene was not recognized in reference db no cdr seq could be inferred\n",
      "  f1 = lambda v : self._map_gene_to_reference_seq2(gene = v,\n",
      "C:\\Users\\arnod\\AppData\\Local\\Programs\\Python\\Python39\\lib\\site-packages\\tcrdist\\repertoire.py:504: UserWarning: TRBV11-1 gene was not recognized in reference db no cdr seq could be inferred\n",
      "  f1 = lambda v : self._map_gene_to_reference_seq2(gene = v,\n",
      "C:\\Users\\arnod\\AppData\\Local\\Programs\\Python\\Python39\\lib\\site-packages\\tcrdist\\repertoire.py:504: UserWarning: TRBV20-1 gene was not recognized in reference db no cdr seq could be inferred\n",
      "  f1 = lambda v : self._map_gene_to_reference_seq2(gene = v,\n",
      "C:\\Users\\arnod\\AppData\\Local\\Programs\\Python\\Python39\\lib\\site-packages\\tcrdist\\repertoire.py:504: UserWarning: TRBV4-2 gene was not recognized in reference db no cdr seq could be inferred\n",
      "  f1 = lambda v : self._map_gene_to_reference_seq2(gene = v,\n",
      "C:\\Users\\arnod\\AppData\\Local\\Programs\\Python\\Python39\\lib\\site-packages\\tcrdist\\repertoire.py:504: UserWarning: TRBV11-2 gene was not recognized in reference db no cdr seq could be inferred\n",
      "  f1 = lambda v : self._map_gene_to_reference_seq2(gene = v,\n",
      "C:\\Users\\arnod\\AppData\\Local\\Programs\\Python\\Python39\\lib\\site-packages\\tcrdist\\repertoire.py:504: UserWarning: TRBV6-2 gene was not recognized in reference db no cdr seq could be inferred\n",
      "  f1 = lambda v : self._map_gene_to_reference_seq2(gene = v,\n",
      "C:\\Users\\arnod\\AppData\\Local\\Programs\\Python\\Python39\\lib\\site-packages\\tcrdist\\repertoire.py:504: UserWarning: TRBV7-6 gene was not recognized in reference db no cdr seq could be inferred\n",
      "  f1 = lambda v : self._map_gene_to_reference_seq2(gene = v,\n",
      "C:\\Users\\arnod\\AppData\\Local\\Programs\\Python\\Python39\\lib\\site-packages\\tcrdist\\repertoire.py:504: UserWarning: TRBV5-4 gene was not recognized in reference db no cdr seq could be inferred\n",
      "  f1 = lambda v : self._map_gene_to_reference_seq2(gene = v,\n",
      "C:\\Users\\arnod\\AppData\\Local\\Programs\\Python\\Python39\\lib\\site-packages\\tcrdist\\repertoire.py:504: UserWarning: TRBV14 gene was not recognized in reference db no cdr seq could be inferred\n",
      "  f1 = lambda v : self._map_gene_to_reference_seq2(gene = v,\n",
      "C:\\Users\\arnod\\AppData\\Local\\Programs\\Python\\Python39\\lib\\site-packages\\tcrdist\\repertoire.py:504: UserWarning: TRBV5-6 gene was not recognized in reference db no cdr seq could be inferred\n",
      "  f1 = lambda v : self._map_gene_to_reference_seq2(gene = v,\n",
      "C:\\Users\\arnod\\AppData\\Local\\Programs\\Python\\Python39\\lib\\site-packages\\tcrdist\\repertoire.py:504: UserWarning: TRBV2 gene was not recognized in reference db no cdr seq could be inferred\n",
      "  f1 = lambda v : self._map_gene_to_reference_seq2(gene = v,\n",
      "C:\\Users\\arnod\\AppData\\Local\\Programs\\Python\\Python39\\lib\\site-packages\\tcrdist\\repertoire.py:504: UserWarning: TRBV5-1 gene was not recognized in reference db no cdr seq could be inferred\n",
      "  f1 = lambda v : self._map_gene_to_reference_seq2(gene = v,\n",
      "C:\\Users\\arnod\\AppData\\Local\\Programs\\Python\\Python39\\lib\\site-packages\\tcrdist\\repertoire.py:504: UserWarning: TRBV21-1 gene was not recognized in reference db no cdr seq could be inferred\n",
      "  f1 = lambda v : self._map_gene_to_reference_seq2(gene = v,\n",
      "C:\\Users\\arnod\\AppData\\Local\\Programs\\Python\\Python39\\lib\\site-packages\\tcrdist\\repertoire.py:504: UserWarning: TRBV30 gene was not recognized in reference db no cdr seq could be inferred\n",
      "  f1 = lambda v : self._map_gene_to_reference_seq2(gene = v,\n",
      "C:\\Users\\arnod\\AppData\\Local\\Programs\\Python\\Python39\\lib\\site-packages\\tcrdist\\repertoire.py:504: UserWarning: TRBV25-1 gene was not recognized in reference db no cdr seq could be inferred\n",
      "  f1 = lambda v : self._map_gene_to_reference_seq2(gene = v,\n",
      "C:\\Users\\arnod\\AppData\\Local\\Programs\\Python\\Python39\\lib\\site-packages\\tcrdist\\repertoire.py:504: UserWarning: TRBV7-8 gene was not recognized in reference db no cdr seq could be inferred\n",
      "  f1 = lambda v : self._map_gene_to_reference_seq2(gene = v,\n",
      "C:\\Users\\arnod\\AppData\\Local\\Programs\\Python\\Python39\\lib\\site-packages\\tcrdist\\repertoire.py:508: UserWarning: TRBV19 gene was not recognized in reference db no cdr seq could be inferred\n",
      "  f2 = lambda v : self._map_gene_to_reference_seq2(gene = v,\n",
      "C:\\Users\\arnod\\AppData\\Local\\Programs\\Python\\Python39\\lib\\site-packages\\tcrdist\\repertoire.py:508: UserWarning: TRBV27 gene was not recognized in reference db no cdr seq could be inferred\n",
      "  f2 = lambda v : self._map_gene_to_reference_seq2(gene = v,\n",
      "C:\\Users\\arnod\\AppData\\Local\\Programs\\Python\\Python39\\lib\\site-packages\\tcrdist\\repertoire.py:508: UserWarning: TRBV7-9 gene was not recognized in reference db no cdr seq could be inferred\n",
      "  f2 = lambda v : self._map_gene_to_reference_seq2(gene = v,\n",
      "C:\\Users\\arnod\\AppData\\Local\\Programs\\Python\\Python39\\lib\\site-packages\\tcrdist\\repertoire.py:508: UserWarning: TRBV12-3 gene was not recognized in reference db no cdr seq could be inferred\n",
      "  f2 = lambda v : self._map_gene_to_reference_seq2(gene = v,\n",
      "C:\\Users\\arnod\\AppData\\Local\\Programs\\Python\\Python39\\lib\\site-packages\\tcrdist\\repertoire.py:508: UserWarning: TRBV4-1 gene was not recognized in reference db no cdr seq could be inferred\n",
      "  f2 = lambda v : self._map_gene_to_reference_seq2(gene = v,\n",
      "C:\\Users\\arnod\\AppData\\Local\\Programs\\Python\\Python39\\lib\\site-packages\\tcrdist\\repertoire.py:508: UserWarning: TRBV6-6 gene was not recognized in reference db no cdr seq could be inferred\n",
      "  f2 = lambda v : self._map_gene_to_reference_seq2(gene = v,\n",
      "C:\\Users\\arnod\\AppData\\Local\\Programs\\Python\\Python39\\lib\\site-packages\\tcrdist\\repertoire.py:508: UserWarning: TRBV9 gene was not recognized in reference db no cdr seq could be inferred\n",
      "  f2 = lambda v : self._map_gene_to_reference_seq2(gene = v,\n",
      "C:\\Users\\arnod\\AppData\\Local\\Programs\\Python\\Python39\\lib\\site-packages\\tcrdist\\repertoire.py:508: UserWarning: TRBV7-2 gene was not recognized in reference db no cdr seq could be inferred\n",
      "  f2 = lambda v : self._map_gene_to_reference_seq2(gene = v,\n",
      "C:\\Users\\arnod\\AppData\\Local\\Programs\\Python\\Python39\\lib\\site-packages\\tcrdist\\repertoire.py:508: UserWarning: TRBV6-1 gene was not recognized in reference db no cdr seq could be inferred\n",
      "  f2 = lambda v : self._map_gene_to_reference_seq2(gene = v,\n",
      "C:\\Users\\arnod\\AppData\\Local\\Programs\\Python\\Python39\\lib\\site-packages\\tcrdist\\repertoire.py:508: UserWarning: TRBV6-5 gene was not recognized in reference db no cdr seq could be inferred\n",
      "  f2 = lambda v : self._map_gene_to_reference_seq2(gene = v,\n",
      "C:\\Users\\arnod\\AppData\\Local\\Programs\\Python\\Python39\\lib\\site-packages\\tcrdist\\repertoire.py:508: UserWarning: TRBV7-3 gene was not recognized in reference db no cdr seq could be inferred\n",
      "  f2 = lambda v : self._map_gene_to_reference_seq2(gene = v,\n",
      "C:\\Users\\arnod\\AppData\\Local\\Programs\\Python\\Python39\\lib\\site-packages\\tcrdist\\repertoire.py:508: UserWarning: TRBV4-3 gene was not recognized in reference db no cdr seq could be inferred\n",
      "  f2 = lambda v : self._map_gene_to_reference_seq2(gene = v,\n",
      "C:\\Users\\arnod\\AppData\\Local\\Programs\\Python\\Python39\\lib\\site-packages\\tcrdist\\repertoire.py:508: UserWarning: TRBV11-1 gene was not recognized in reference db no cdr seq could be inferred\n",
      "  f2 = lambda v : self._map_gene_to_reference_seq2(gene = v,\n",
      "C:\\Users\\arnod\\AppData\\Local\\Programs\\Python\\Python39\\lib\\site-packages\\tcrdist\\repertoire.py:508: UserWarning: TRBV20-1 gene was not recognized in reference db no cdr seq could be inferred\n",
      "  f2 = lambda v : self._map_gene_to_reference_seq2(gene = v,\n",
      "C:\\Users\\arnod\\AppData\\Local\\Programs\\Python\\Python39\\lib\\site-packages\\tcrdist\\repertoire.py:508: UserWarning: TRBV4-2 gene was not recognized in reference db no cdr seq could be inferred\n",
      "  f2 = lambda v : self._map_gene_to_reference_seq2(gene = v,\n",
      "C:\\Users\\arnod\\AppData\\Local\\Programs\\Python\\Python39\\lib\\site-packages\\tcrdist\\repertoire.py:508: UserWarning: TRBV11-2 gene was not recognized in reference db no cdr seq could be inferred\n",
      "  f2 = lambda v : self._map_gene_to_reference_seq2(gene = v,\n",
      "C:\\Users\\arnod\\AppData\\Local\\Programs\\Python\\Python39\\lib\\site-packages\\tcrdist\\repertoire.py:508: UserWarning: TRBV6-2 gene was not recognized in reference db no cdr seq could be inferred\n",
      "  f2 = lambda v : self._map_gene_to_reference_seq2(gene = v,\n",
      "C:\\Users\\arnod\\AppData\\Local\\Programs\\Python\\Python39\\lib\\site-packages\\tcrdist\\repertoire.py:508: UserWarning: TRBV7-6 gene was not recognized in reference db no cdr seq could be inferred\n",
      "  f2 = lambda v : self._map_gene_to_reference_seq2(gene = v,\n",
      "C:\\Users\\arnod\\AppData\\Local\\Programs\\Python\\Python39\\lib\\site-packages\\tcrdist\\repertoire.py:508: UserWarning: TRBV5-4 gene was not recognized in reference db no cdr seq could be inferred\n",
      "  f2 = lambda v : self._map_gene_to_reference_seq2(gene = v,\n",
      "C:\\Users\\arnod\\AppData\\Local\\Programs\\Python\\Python39\\lib\\site-packages\\tcrdist\\repertoire.py:508: UserWarning: TRBV14 gene was not recognized in reference db no cdr seq could be inferred\n",
      "  f2 = lambda v : self._map_gene_to_reference_seq2(gene = v,\n",
      "C:\\Users\\arnod\\AppData\\Local\\Programs\\Python\\Python39\\lib\\site-packages\\tcrdist\\repertoire.py:508: UserWarning: TRBV5-6 gene was not recognized in reference db no cdr seq could be inferred\n",
      "  f2 = lambda v : self._map_gene_to_reference_seq2(gene = v,\n",
      "C:\\Users\\arnod\\AppData\\Local\\Programs\\Python\\Python39\\lib\\site-packages\\tcrdist\\repertoire.py:508: UserWarning: TRBV2 gene was not recognized in reference db no cdr seq could be inferred\n",
      "  f2 = lambda v : self._map_gene_to_reference_seq2(gene = v,\n",
      "C:\\Users\\arnod\\AppData\\Local\\Programs\\Python\\Python39\\lib\\site-packages\\tcrdist\\repertoire.py:508: UserWarning: TRBV5-1 gene was not recognized in reference db no cdr seq could be inferred\n",
      "  f2 = lambda v : self._map_gene_to_reference_seq2(gene = v,\n",
      "C:\\Users\\arnod\\AppData\\Local\\Programs\\Python\\Python39\\lib\\site-packages\\tcrdist\\repertoire.py:508: UserWarning: TRBV21-1 gene was not recognized in reference db no cdr seq could be inferred\n",
      "  f2 = lambda v : self._map_gene_to_reference_seq2(gene = v,\n",
      "C:\\Users\\arnod\\AppData\\Local\\Programs\\Python\\Python39\\lib\\site-packages\\tcrdist\\repertoire.py:508: UserWarning: TRBV30 gene was not recognized in reference db no cdr seq could be inferred\n",
      "  f2 = lambda v : self._map_gene_to_reference_seq2(gene = v,\n",
      "C:\\Users\\arnod\\AppData\\Local\\Programs\\Python\\Python39\\lib\\site-packages\\tcrdist\\repertoire.py:508: UserWarning: TRBV25-1 gene was not recognized in reference db no cdr seq could be inferred\n",
      "  f2 = lambda v : self._map_gene_to_reference_seq2(gene = v,\n",
      "C:\\Users\\arnod\\AppData\\Local\\Programs\\Python\\Python39\\lib\\site-packages\\tcrdist\\repertoire.py:508: UserWarning: TRBV7-8 gene was not recognized in reference db no cdr seq could be inferred\n",
      "  f2 = lambda v : self._map_gene_to_reference_seq2(gene = v,\n"
     ]
    }
   ],
   "source": [
    "tr = TCRrep(cell_df = train_dataset,\n",
    "            organism = 'human',\n",
    "            chains = ['alpha','beta'],\n",
    "            db_file = 'alphabeta_gammadelta_db.tsv',\n",
    "            compute_distances = False)"
   ],
   "metadata": {
    "collapsed": false
   }
  },
  {
   "cell_type": "code",
   "execution_count": 32,
   "outputs": [
    {
     "data": {
      "text/plain": "             cdr3_a_aa         cdr3_b_aa     v_a_gene j_a_gene  v_b_gene  \\\n2     CAFMKQRGGGADGLTF   CASSISSGRGNEQFF     TRAV38-1   TRAJ45    TRBV19   \n3       CRNAGGTSYGKLTF  CASSSHQRTGVDEQFF       TRAV25   TRAJ52    TRBV27   \n12        CAGASNTGKLIF     CASSLGDNTEAFF       TRAV27   TRAJ37   TRBV7-9   \n13     CALDNVWDSGYALNF   CASSLVPIGTDTQYF        TRAV6   TRAJ41  TRBV12-3   \n14    CAYRSARIGTASKLTF  CASRRIGRGGNQPQHF  TRAV38-2DV8   TRAJ44    TRBV19   \n..                 ...               ...          ...      ...       ...   \n216     CIVRVAATNARLMF  CASSLGVRGYDEKLFF     TRAV26-1   TRAJ31   TRBV7-8   \n219      CALTGNYGQNFVF     CASSIRSSYEQYF       TRAV16   TRAJ26    TRBV19   \n221  CAFMTNAGGTSYGKLTF      CASSQGSYGYTF     TRAV38-1   TRAJ52    TRBV19   \n226     CAENTRAGNTPLVF   CASSPSSYKDNEQFF        TRAV5   TRAJ29     TRBV9   \n227       CAYTGSNYKLTF  CASSHRGGPGDTEAFF  TRAV38-2DV8   TRAJ53   TRBV7-9   \n\n    j_b_gene cdr1_a_aa cdr2_a_aa pmhc_a_aa cdr1_b_aa cdr2_b_aa pmhc_b_aa  \\\n2    TRBJ2-1      None      None      None      None      None      None   \n3    TRBJ2-1      None      None      None      None      None      None   \n12   TRBJ1-1      None      None      None      None      None      None   \n13   TRBJ2-3      None      None      None      None      None      None   \n14   TRBJ1-5      None      None      None      None      None      None   \n..       ...       ...       ...       ...       ...       ...       ...   \n216  TRBJ1-4      None      None      None      None      None      None   \n219  TRBJ2-7      None      None      None      None      None      None   \n221  TRBJ1-2      None      None      None      None      None      None   \n226  TRBJ2-1      None      None      None      None      None      None   \n227  TRBJ1-1      None      None      None      None      None      None   \n\n             cdr3_a_aa         cdr3_b_aa  \n2     CAFMKQRGGGADGLTF   CASSISSGRGNEQFF  \n3       CRNAGGTSYGKLTF  CASSSHQRTGVDEQFF  \n12        CAGASNTGKLIF     CASSLGDNTEAFF  \n13     CALDNVWDSGYALNF   CASSLVPIGTDTQYF  \n14    CAYRSARIGTASKLTF  CASRRIGRGGNQPQHF  \n..                 ...               ...  \n216     CIVRVAATNARLMF  CASSLGVRGYDEKLFF  \n219      CALTGNYGQNFVF     CASSIRSSYEQYF  \n221  CAFMTNAGGTSYGKLTF      CASSQGSYGYTF  \n226     CAENTRAGNTPLVF   CASSPSSYKDNEQFF  \n227       CAYTGSNYKLTF  CASSHRGGPGDTEAFF  \n\n[100 rows x 14 columns]",
      "text/html": "<div>\n<style scoped>\n    .dataframe tbody tr th:only-of-type {\n        vertical-align: middle;\n    }\n\n    .dataframe tbody tr th {\n        vertical-align: top;\n    }\n\n    .dataframe thead th {\n        text-align: right;\n    }\n</style>\n<table border=\"1\" class=\"dataframe\">\n  <thead>\n    <tr style=\"text-align: right;\">\n      <th></th>\n      <th>cdr3_a_aa</th>\n      <th>cdr3_b_aa</th>\n      <th>v_a_gene</th>\n      <th>j_a_gene</th>\n      <th>v_b_gene</th>\n      <th>j_b_gene</th>\n      <th>cdr1_a_aa</th>\n      <th>cdr2_a_aa</th>\n      <th>pmhc_a_aa</th>\n      <th>cdr1_b_aa</th>\n      <th>cdr2_b_aa</th>\n      <th>pmhc_b_aa</th>\n      <th>cdr3_a_aa</th>\n      <th>cdr3_b_aa</th>\n    </tr>\n  </thead>\n  <tbody>\n    <tr>\n      <th>2</th>\n      <td>CAFMKQRGGGADGLTF</td>\n      <td>CASSISSGRGNEQFF</td>\n      <td>TRAV38-1</td>\n      <td>TRAJ45</td>\n      <td>TRBV19</td>\n      <td>TRBJ2-1</td>\n      <td>None</td>\n      <td>None</td>\n      <td>None</td>\n      <td>None</td>\n      <td>None</td>\n      <td>None</td>\n      <td>CAFMKQRGGGADGLTF</td>\n      <td>CASSISSGRGNEQFF</td>\n    </tr>\n    <tr>\n      <th>3</th>\n      <td>CRNAGGTSYGKLTF</td>\n      <td>CASSSHQRTGVDEQFF</td>\n      <td>TRAV25</td>\n      <td>TRAJ52</td>\n      <td>TRBV27</td>\n      <td>TRBJ2-1</td>\n      <td>None</td>\n      <td>None</td>\n      <td>None</td>\n      <td>None</td>\n      <td>None</td>\n      <td>None</td>\n      <td>CRNAGGTSYGKLTF</td>\n      <td>CASSSHQRTGVDEQFF</td>\n    </tr>\n    <tr>\n      <th>12</th>\n      <td>CAGASNTGKLIF</td>\n      <td>CASSLGDNTEAFF</td>\n      <td>TRAV27</td>\n      <td>TRAJ37</td>\n      <td>TRBV7-9</td>\n      <td>TRBJ1-1</td>\n      <td>None</td>\n      <td>None</td>\n      <td>None</td>\n      <td>None</td>\n      <td>None</td>\n      <td>None</td>\n      <td>CAGASNTGKLIF</td>\n      <td>CASSLGDNTEAFF</td>\n    </tr>\n    <tr>\n      <th>13</th>\n      <td>CALDNVWDSGYALNF</td>\n      <td>CASSLVPIGTDTQYF</td>\n      <td>TRAV6</td>\n      <td>TRAJ41</td>\n      <td>TRBV12-3</td>\n      <td>TRBJ2-3</td>\n      <td>None</td>\n      <td>None</td>\n      <td>None</td>\n      <td>None</td>\n      <td>None</td>\n      <td>None</td>\n      <td>CALDNVWDSGYALNF</td>\n      <td>CASSLVPIGTDTQYF</td>\n    </tr>\n    <tr>\n      <th>14</th>\n      <td>CAYRSARIGTASKLTF</td>\n      <td>CASRRIGRGGNQPQHF</td>\n      <td>TRAV38-2DV8</td>\n      <td>TRAJ44</td>\n      <td>TRBV19</td>\n      <td>TRBJ1-5</td>\n      <td>None</td>\n      <td>None</td>\n      <td>None</td>\n      <td>None</td>\n      <td>None</td>\n      <td>None</td>\n      <td>CAYRSARIGTASKLTF</td>\n      <td>CASRRIGRGGNQPQHF</td>\n    </tr>\n    <tr>\n      <th>...</th>\n      <td>...</td>\n      <td>...</td>\n      <td>...</td>\n      <td>...</td>\n      <td>...</td>\n      <td>...</td>\n      <td>...</td>\n      <td>...</td>\n      <td>...</td>\n      <td>...</td>\n      <td>...</td>\n      <td>...</td>\n      <td>...</td>\n      <td>...</td>\n    </tr>\n    <tr>\n      <th>216</th>\n      <td>CIVRVAATNARLMF</td>\n      <td>CASSLGVRGYDEKLFF</td>\n      <td>TRAV26-1</td>\n      <td>TRAJ31</td>\n      <td>TRBV7-8</td>\n      <td>TRBJ1-4</td>\n      <td>None</td>\n      <td>None</td>\n      <td>None</td>\n      <td>None</td>\n      <td>None</td>\n      <td>None</td>\n      <td>CIVRVAATNARLMF</td>\n      <td>CASSLGVRGYDEKLFF</td>\n    </tr>\n    <tr>\n      <th>219</th>\n      <td>CALTGNYGQNFVF</td>\n      <td>CASSIRSSYEQYF</td>\n      <td>TRAV16</td>\n      <td>TRAJ26</td>\n      <td>TRBV19</td>\n      <td>TRBJ2-7</td>\n      <td>None</td>\n      <td>None</td>\n      <td>None</td>\n      <td>None</td>\n      <td>None</td>\n      <td>None</td>\n      <td>CALTGNYGQNFVF</td>\n      <td>CASSIRSSYEQYF</td>\n    </tr>\n    <tr>\n      <th>221</th>\n      <td>CAFMTNAGGTSYGKLTF</td>\n      <td>CASSQGSYGYTF</td>\n      <td>TRAV38-1</td>\n      <td>TRAJ52</td>\n      <td>TRBV19</td>\n      <td>TRBJ1-2</td>\n      <td>None</td>\n      <td>None</td>\n      <td>None</td>\n      <td>None</td>\n      <td>None</td>\n      <td>None</td>\n      <td>CAFMTNAGGTSYGKLTF</td>\n      <td>CASSQGSYGYTF</td>\n    </tr>\n    <tr>\n      <th>226</th>\n      <td>CAENTRAGNTPLVF</td>\n      <td>CASSPSSYKDNEQFF</td>\n      <td>TRAV5</td>\n      <td>TRAJ29</td>\n      <td>TRBV9</td>\n      <td>TRBJ2-1</td>\n      <td>None</td>\n      <td>None</td>\n      <td>None</td>\n      <td>None</td>\n      <td>None</td>\n      <td>None</td>\n      <td>CAENTRAGNTPLVF</td>\n      <td>CASSPSSYKDNEQFF</td>\n    </tr>\n    <tr>\n      <th>227</th>\n      <td>CAYTGSNYKLTF</td>\n      <td>CASSHRGGPGDTEAFF</td>\n      <td>TRAV38-2DV8</td>\n      <td>TRAJ53</td>\n      <td>TRBV7-9</td>\n      <td>TRBJ1-1</td>\n      <td>None</td>\n      <td>None</td>\n      <td>None</td>\n      <td>None</td>\n      <td>None</td>\n      <td>None</td>\n      <td>CAYTGSNYKLTF</td>\n      <td>CASSHRGGPGDTEAFF</td>\n    </tr>\n  </tbody>\n</table>\n<p>100 rows × 14 columns</p>\n</div>"
     },
     "execution_count": 32,
     "metadata": {},
     "output_type": "execute_result"
    }
   ],
   "source": [
    "tr.show_incomplete()"
   ],
   "metadata": {
    "collapsed": false
   }
  },
  {
   "cell_type": "markdown",
   "source": [
    "I can't get the library working, let's try implementing the tcrdist3 algorithm myself based on their implementation. This are code fragments of their implementation:"
   ],
   "metadata": {
    "collapsed": false
   }
  },
  {
   "cell_type": "markdown",
   "source": [
    "```python\n",
    "def compute_distances(self, df = None):\n",
    "    if df is None:\n",
    "        df = self.clone_df\n",
    "    if 'alpha' in self.chains:\n",
    "        pw_alpha  = _pws(\n",
    "            df = df,\n",
    "            metrics = self.metrics_a,\n",
    "            weights = self.weights_a,\n",
    "            kargs   = self.kargs_a,\n",
    "            cpu     = self.cpus,\n",
    "            store   = self.store_all_cdr)\n",
    "        self._assign_distance_attributes(d = pw_alpha, chain = 'alpha')\n",
    "    if 'beta' in self.chains:\n",
    "        # continues like this for all chains\n",
    "        pass\n",
    "```\n",
    "\n",
    "_pws performs pairwise distance calculation across a multiple\n",
    "    columns of a Pandas DataFrame.\n",
    "\n",
    "Sample values for the different parameters:\n",
    "\n",
    "```python\n",
    "def _initialize_chain_specific_attributes(self):\n",
    "    \"\"\"\n",
    "    Initialize pw object and default substitution matrix (smat) based on\n",
    "    chains arguments.\n",
    "\n",
    "    Naming of all objects have a standardized order\n",
    "        region_chain_molecular_object\n",
    "        (cdr3)_(a|b|d|g)_(aa|p)_(pw|smat|hmat)\n",
    "\n",
    "    \"\"\"\n",
    "    if \"alpha\" in self.chains:\n",
    "        self.cdr3_a_aa_smat = 'blosum62'\n",
    "        self.cdr2_a_aa_smat = 'blosum62'\n",
    "        self.cdr1_a_aa_smat = 'blosum62'\n",
    "        self.pmhc_a_aa_smat = 'blosum62'\n",
    "        self.index_cols.append(\"cdr3_a_aa\")\n",
    "        self.metrics_a = {\n",
    "            \"cdr3_a_aa\" : pw.metrics.nb_vector_tcrdist,\n",
    "            \"pmhc_a_aa\" : pw.metrics.nb_vector_tcrdist,\n",
    "            \"cdr2_a_aa\" : pw.metrics.nb_vector_tcrdist,\n",
    "            \"cdr1_a_aa\" : pw.metrics.nb_vector_tcrdist }\n",
    "        self.weights_a = {\n",
    "            \"cdr3_a_aa\" : 3,\n",
    "            \"pmhc_a_aa\" : 1,\n",
    "            \"cdr2_a_aa\" : 1,\n",
    "            \"cdr1_a_aa\" : 1}\n",
    "        self.kargs_a = {\n",
    "            \"cdr3_a_aa\" : {'use_numba': True, 'distance_matrix': pw.matrices.tcr_nb_distance_matrix, 'dist_weight': 1, 'gap_penalty':4, 'ntrim':3, 'ctrim':2, 'fixed_gappos':False},\n",
    "            \"pmhc_a_aa\" : {'use_numba': True, 'distance_matrix': pw.matrices.tcr_nb_distance_matrix, 'dist_weight': 1, 'gap_penalty':4, 'ntrim':0, 'ctrim':0, 'fixed_gappos':True},\n",
    "            \"cdr2_a_aa\" : {'use_numba': True, 'distance_matrix': pw.matrices.tcr_nb_distance_matrix, 'dist_weight': 1, 'gap_penalty':4, 'ntrim':0, 'ctrim':0, 'fixed_gappos':True},\n",
    "            \"cdr1_a_aa\" : {'use_numba': True, 'distance_matrix': pw.matrices.tcr_nb_distance_matrix, 'dist_weight': 1, 'gap_penalty':4, 'ntrim':0, 'ctrim':0, 'fixed_gappos':True}}\n",
    "\n",
    "```\n",
    "\n",
    "THe nb_vector_tcrdist function is defined as follows:\n",
    "```python\n",
    "def nb_vector_tcrdist(indices, seqs_mat, seqs_L, distance_matrix=tcr_nb_distance_matrix, dist_weight=3, gap_penalty=4, ntrim=3, ctrim=2, fixed_gappos=True):\n",
    "    \"\"\"Computes the tcrdist distance for sequences in seqs_mat indicated by pairs of indices.\n",
    "\n",
    "    Note: to use with non-CDR3 sequences set ntrim and ctrim to 0.\n",
    "\n",
    "    Note: this function is a wrapper of the numba function so that default arguments, and passing of\n",
    "    keyword arguments is supported.\n",
    "\n",
    "    Parameters\n",
    "    ----------\n",
    "    indices : np.ndarray [nseqs, 2]\n",
    "        Indices into seqs_mat indicating pairs of sequences to compare.\n",
    "    seqs_mat : np.ndarray dtype=int16 [nseqs, seq_length]\n",
    "        Created by pwsd.seqs2mat with padding to accomodate\n",
    "        sequences of different lengths (-1 padding)\n",
    "    seqs_L : np.ndarray [nseqs]\n",
    "        A vector containing the length of each sequence,\n",
    "        without the padding in seqs_mat\n",
    "    distance_matrix : np.ndarray [alphabet, alphabet] dtype=int32\n",
    "        A square distance matrix (NOT a similarity matrix).\n",
    "        Matrix must match the alphabet that was used to create\n",
    "        seqs_mat, where each AA is represented by an index into the alphabet.\n",
    "    dist_weight : int\n",
    "        Weight applied to the mismatch distances before summing with the gap penalties\n",
    "    gap_penalty : int\n",
    "        Distance penalty for the difference in the length of the two sequences\n",
    "    ntrim/ctrim : int\n",
    "        Positions trimmed off the N-terminus (0) and C-terminus (L-1) ends of the peptide sequence. These symbols will be ignored\n",
    "        in the distance calculation.\n",
    "    fixed_gappos : bool\n",
    "        If True, insert gaps at a fixed position after the cysteine residue statring the CDR3 (typically position 6).\n",
    "        If False, find the \"optimal\" position for inserting the gaps to make up the difference in length\n",
    "\n",
    "    Returns\n",
    "    -------\n",
    "    dists : np.ndarray, dtype=np.int16\n",
    "        Vector of distances with length equal to indices.shape[0]\"\"\"\n",
    "\n",
    "    return _nb_vector_tcrdist(indices, seqs_mat, seqs_L, distance_matrix, dist_weight, gap_penalty, ntrim, ctrim, fixed_gappos)\n",
    "```\n",
    "\n",
    "The _nb_vector_tcrdist function is defined as follows:\n",
    "```python\n",
    "@nb.jit(nopython=True, parallel=False, nogil=True)\n",
    "def _nb_vector_tcrdist(indices, seqs_mat, seqs_L, distance_matrix=tcr_nb_distance_matrix, dist_weight=3, gap_penalty=4, ntrim=3, ctrim=2, fixed_gappos=True):\n",
    "    \"\"\"This function works OK on its own. Wrapping it with the above python function was a workaround because\n",
    "    joblib and multiprocessing seem to have an issue retaining default arguments with numba functions.\"\"\"\n",
    "    assert seqs_mat.shape[0] == seqs_L.shape[0]\n",
    "\n",
    "    dist = np.zeros(indices.shape[0], dtype=np.int16)\n",
    "    for ind_i in nb.prange(indices.shape[0]):\n",
    "        query_i = indices[ind_i, 0]\n",
    "        seq_i = indices[ind_i, 1]\n",
    "        q_L = seqs_L[query_i]\n",
    "        s_L = seqs_L[seq_i]\n",
    "        if q_L == s_L:\n",
    "            \"\"\"No gaps: substitution distance\"\"\"\n",
    "            for i in range(ntrim, q_L - ctrim):\n",
    "                dist[ind_i] += distance_matrix[seqs_mat[query_i, i], seqs_mat[seq_i, i]] * dist_weight\n",
    "            continue\n",
    "\n",
    "        short_len = min(q_L, s_L)\n",
    "        len_diff = abs(q_L - s_L)\n",
    "        if fixed_gappos:\n",
    "            min_gappos = min(6, 3 + (short_len - 5) // 2)\n",
    "            max_gappos = min_gappos\n",
    "        else:\n",
    "            min_gappos = 5\n",
    "            max_gappos = short_len - 1 - 4\n",
    "            while min_gappos > max_gappos:\n",
    "                min_gappos -= 1\n",
    "                max_gappos += 1\n",
    "        min_dist = -1\n",
    "        # min_count = -1\n",
    "        for gappos in range(min_gappos, max_gappos + 1):\n",
    "            tmp_dist = 0\n",
    "            # tmp_count = 0\n",
    "            remainder = short_len - gappos\n",
    "            for n_i in range(ntrim, gappos):\n",
    "                \"\"\"n_i refers to position relative to N term\"\"\"\n",
    "                # print (n_i, shortseq[i], longseq[i], distance_matrix[shortseq[i]+longseq[i]])\n",
    "                tmp_dist += distance_matrix[seqs_mat[query_i, n_i], seqs_mat[seq_i, n_i]]\n",
    "                # tmp_count += 1\n",
    "            #print('sequence_distance_with_gappos1:', gappos, remainder, dist[seq_i])\n",
    "            for c_i in range(ctrim, remainder):\n",
    "                \"\"\"c_i refers to position relative to C term, counting upwards from C term\"\"\"\n",
    "                tmp_dist += distance_matrix[seqs_mat[query_i, q_L - 1 - c_i], seqs_mat[seq_i, s_L - 1 - c_i]]\n",
    "                # tmp_count += 1\n",
    "            #print('sequence_distance_with_gappos2:', gappos, remainder, dist[seq_i])\n",
    "            if tmp_dist < min_dist or min_dist == -1:\n",
    "                min_dist = tmp_dist\n",
    "                # min_count = tmp_count\n",
    "            if min_dist == 0:\n",
    "                break\n",
    "        dist[ind_i] = min_dist * dist_weight + len_diff * gap_penalty\n",
    "    return dist\n",
    "```"
   ],
   "metadata": {
    "collapsed": false
   }
  },
  {
   "cell_type": "code",
   "execution_count": 2,
   "outputs": [
    {
     "ename": "KeyboardInterrupt",
     "evalue": "",
     "output_type": "error",
     "traceback": [
      "\u001B[1;31m---------------------------------------------------------------------------\u001B[0m",
      "\u001B[1;31mKeyboardInterrupt\u001B[0m                         Traceback (most recent call last)",
      "\u001B[1;32m~\\AppData\\Local\\Temp/ipykernel_5836/572757269.py\u001B[0m in \u001B[0;36m<module>\u001B[1;34m\u001B[0m\n\u001B[0;32m      3\u001B[0m \u001B[1;33m\u001B[0m\u001B[0m\n\u001B[0;32m      4\u001B[0m \u001B[0mdf\u001B[0m \u001B[1;33m=\u001B[0m \u001B[0mpd\u001B[0m\u001B[1;33m.\u001B[0m\u001B[0mread_csv\u001B[0m\u001B[1;33m(\u001B[0m\u001B[1;34m\"data/dash.csv\"\u001B[0m\u001B[1;33m)\u001B[0m\u001B[1;33m.\u001B[0m\u001B[0msample\u001B[0m\u001B[1;33m(\u001B[0m\u001B[1;36m100\u001B[0m\u001B[1;33m)\u001B[0m\u001B[1;33m\u001B[0m\u001B[1;33m\u001B[0m\u001B[0m\n\u001B[1;32m----> 5\u001B[1;33m tr = TCRrep(cell_df = df,\n\u001B[0m\u001B[0;32m      6\u001B[0m             \u001B[0morganism\u001B[0m \u001B[1;33m=\u001B[0m \u001B[1;34m'mouse'\u001B[0m\u001B[1;33m,\u001B[0m\u001B[1;33m\u001B[0m\u001B[1;33m\u001B[0m\u001B[0m\n\u001B[0;32m      7\u001B[0m             \u001B[0mchains\u001B[0m \u001B[1;33m=\u001B[0m \u001B[1;33m[\u001B[0m\u001B[1;34m'alpha'\u001B[0m\u001B[1;33m,\u001B[0m\u001B[1;34m'beta'\u001B[0m\u001B[1;33m]\u001B[0m\u001B[1;33m,\u001B[0m\u001B[1;33m\u001B[0m\u001B[1;33m\u001B[0m\u001B[0m\n",
      "\u001B[1;32m~\\AppData\\Local\\Programs\\Python\\Python39\\lib\\site-packages\\tcrdist\\repertoire.py\u001B[0m in \u001B[0;36m__init__\u001B[1;34m(self, organism, chains, db_file, archive_name, blank, cell_df, clone_df, imgt_aligned, infer_all_genes, infer_cdrs, infer_index_cols, deduplicate, use_defaults, store_all_cdr, compute_distances, index_cols, cpus, df2, archive_result)\u001B[0m\n\u001B[0;32m    212\u001B[0m                     \"\\tSee https://tcrdist3.readthedocs.io/en/latest/sparsity.html?highlight=sparse for more info.\\n\")\n\u001B[0;32m    213\u001B[0m                 \u001B[1;32melse\u001B[0m\u001B[1;33m:\u001B[0m\u001B[1;33m\u001B[0m\u001B[1;33m\u001B[0m\u001B[0m\n\u001B[1;32m--> 214\u001B[1;33m                     \u001B[0mself\u001B[0m\u001B[1;33m.\u001B[0m\u001B[0mcompute_distances\u001B[0m\u001B[1;33m(\u001B[0m\u001B[1;33m)\u001B[0m\u001B[1;33m\u001B[0m\u001B[1;33m\u001B[0m\u001B[0m\n\u001B[0m\u001B[0;32m    215\u001B[0m \u001B[1;33m\u001B[0m\u001B[0m\n\u001B[0;32m    216\u001B[0m             \u001B[1;32mif\u001B[0m \u001B[0mself\u001B[0m\u001B[1;33m.\u001B[0m\u001B[0marchive_result\u001B[0m\u001B[1;33m:\u001B[0m\u001B[1;33m\u001B[0m\u001B[1;33m\u001B[0m\u001B[0m\n",
      "\u001B[1;32m~\\AppData\\Local\\Programs\\Python\\Python39\\lib\\site-packages\\tcrdist\\repertoire.py\u001B[0m in \u001B[0;36mcompute_distances\u001B[1;34m(self, df)\u001B[0m\n\u001B[0;32m    314\u001B[0m             \u001B[0mdf\u001B[0m \u001B[1;33m=\u001B[0m \u001B[0mself\u001B[0m\u001B[1;33m.\u001B[0m\u001B[0mclone_df\u001B[0m\u001B[1;33m\u001B[0m\u001B[1;33m\u001B[0m\u001B[0m\n\u001B[0;32m    315\u001B[0m         \u001B[1;32mif\u001B[0m \u001B[1;34m'alpha'\u001B[0m \u001B[1;32min\u001B[0m \u001B[0mself\u001B[0m\u001B[1;33m.\u001B[0m\u001B[0mchains\u001B[0m\u001B[1;33m:\u001B[0m\u001B[1;33m\u001B[0m\u001B[1;33m\u001B[0m\u001B[0m\n\u001B[1;32m--> 316\u001B[1;33m             pw_alpha  = _pws(\n\u001B[0m\u001B[0;32m    317\u001B[0m                 \u001B[0mdf\u001B[0m \u001B[1;33m=\u001B[0m \u001B[0mdf\u001B[0m\u001B[1;33m,\u001B[0m\u001B[1;33m\u001B[0m\u001B[1;33m\u001B[0m\u001B[0m\n\u001B[0;32m    318\u001B[0m                 \u001B[0mmetrics\u001B[0m \u001B[1;33m=\u001B[0m \u001B[0mself\u001B[0m\u001B[1;33m.\u001B[0m\u001B[0mmetrics_a\u001B[0m\u001B[1;33m,\u001B[0m\u001B[1;33m\u001B[0m\u001B[1;33m\u001B[0m\u001B[0m\n",
      "\u001B[1;32m~\\AppData\\Local\\Programs\\Python\\Python39\\lib\\site-packages\\tcrdist\\rep_funcs.py\u001B[0m in \u001B[0;36m_pws\u001B[1;34m(df, metrics, weights, kargs, df2, cpu, uniquify, store)\u001B[0m\n\u001B[0;32m    113\u001B[0m     \u001B[1;32mfor\u001B[0m \u001B[0mk\u001B[0m \u001B[1;32min\u001B[0m \u001B[0mmetric_keys\u001B[0m\u001B[1;33m:\u001B[0m\u001B[1;33m\u001B[0m\u001B[1;33m\u001B[0m\u001B[0m\n\u001B[0;32m    114\u001B[0m         \u001B[1;32mif\u001B[0m \u001B[0mdf2\u001B[0m \u001B[1;32mis\u001B[0m \u001B[1;32mNone\u001B[0m\u001B[1;33m:\u001B[0m\u001B[1;33m\u001B[0m\u001B[1;33m\u001B[0m\u001B[0m\n\u001B[1;32m--> 115\u001B[1;33m             \u001B[0mpw_mat\u001B[0m \u001B[1;33m=\u001B[0m \u001B[0m_pw\u001B[0m\u001B[1;33m(\u001B[0m\u001B[0mseqs1\u001B[0m \u001B[1;33m=\u001B[0m \u001B[0mdf\u001B[0m\u001B[1;33m[\u001B[0m\u001B[0mk\u001B[0m\u001B[1;33m]\u001B[0m\u001B[1;33m.\u001B[0m\u001B[0mvalues\u001B[0m\u001B[1;33m,\u001B[0m \u001B[0mmetric\u001B[0m \u001B[1;33m=\u001B[0m \u001B[0mmetrics\u001B[0m\u001B[1;33m[\u001B[0m\u001B[0mk\u001B[0m\u001B[1;33m]\u001B[0m\u001B[1;33m,\u001B[0m \u001B[0mncpus\u001B[0m \u001B[1;33m=\u001B[0m \u001B[0mcpu\u001B[0m\u001B[1;33m,\u001B[0m \u001B[0muniqify\u001B[0m\u001B[1;33m=\u001B[0m \u001B[0muniquify\u001B[0m\u001B[1;33m,\u001B[0m \u001B[1;33m**\u001B[0m\u001B[0mkargs\u001B[0m\u001B[1;33m[\u001B[0m\u001B[0mk\u001B[0m\u001B[1;33m]\u001B[0m\u001B[1;33m)\u001B[0m\u001B[1;33m\u001B[0m\u001B[1;33m\u001B[0m\u001B[0m\n\u001B[0m\u001B[0;32m    116\u001B[0m         \u001B[1;32melse\u001B[0m\u001B[1;33m:\u001B[0m\u001B[1;33m\u001B[0m\u001B[1;33m\u001B[0m\u001B[0m\n\u001B[0;32m    117\u001B[0m             \u001B[0mpw_mat\u001B[0m \u001B[1;33m=\u001B[0m \u001B[0m_pw\u001B[0m\u001B[1;33m(\u001B[0m\u001B[0mseqs1\u001B[0m \u001B[1;33m=\u001B[0m \u001B[0mdf\u001B[0m\u001B[1;33m[\u001B[0m\u001B[0mk\u001B[0m\u001B[1;33m]\u001B[0m\u001B[1;33m.\u001B[0m\u001B[0mvalues\u001B[0m\u001B[1;33m,\u001B[0m \u001B[0mseqs2\u001B[0m \u001B[1;33m=\u001B[0m \u001B[0mdf2\u001B[0m\u001B[1;33m[\u001B[0m\u001B[0mk\u001B[0m\u001B[1;33m]\u001B[0m\u001B[1;33m.\u001B[0m\u001B[0mvalues\u001B[0m\u001B[1;33m,\u001B[0m \u001B[0mmetric\u001B[0m \u001B[1;33m=\u001B[0m \u001B[0mmetrics\u001B[0m\u001B[1;33m[\u001B[0m\u001B[0mk\u001B[0m\u001B[1;33m]\u001B[0m\u001B[1;33m,\u001B[0m \u001B[0mncpus\u001B[0m \u001B[1;33m=\u001B[0m \u001B[0mcpu\u001B[0m\u001B[1;33m,\u001B[0m \u001B[0muniqify\u001B[0m\u001B[1;33m=\u001B[0m \u001B[0muniquify\u001B[0m\u001B[1;33m,\u001B[0m \u001B[1;33m**\u001B[0m\u001B[0mkargs\u001B[0m\u001B[1;33m[\u001B[0m\u001B[0mk\u001B[0m\u001B[1;33m]\u001B[0m\u001B[1;33m)\u001B[0m\u001B[1;33m\u001B[0m\u001B[1;33m\u001B[0m\u001B[0m\n",
      "\u001B[1;32m~\\AppData\\Local\\Programs\\Python\\Python39\\lib\\site-packages\\tcrdist\\rep_funcs.py\u001B[0m in \u001B[0;36m_pw\u001B[1;34m(metric, seqs1, seqs2, ncpus, uniqify, use_numba, **kwargs)\u001B[0m\n\u001B[0;32m    132\u001B[0m     \u001B[0mNo\u001B[0m \u001B[0mmatter\u001B[0m \u001B[0mwhat\u001B[0m\u001B[1;33m,\u001B[0m \u001B[0mit\u001B[0m \u001B[0mreturns\u001B[0m \u001B[0msquareform\u001B[0m \u001B[0mresults\u001B[0m\u001B[1;33m\u001B[0m\u001B[1;33m\u001B[0m\u001B[0m\n\u001B[0;32m    133\u001B[0m     \"\"\"\n\u001B[1;32m--> 134\u001B[1;33m     pw_mat = pw.apply_pairwise_rect(metric = metric, \n\u001B[0m\u001B[0;32m    135\u001B[0m                                     \u001B[0mseqs1\u001B[0m  \u001B[1;33m=\u001B[0m \u001B[0mseqs1\u001B[0m\u001B[1;33m,\u001B[0m\u001B[1;33m\u001B[0m\u001B[1;33m\u001B[0m\u001B[0m\n\u001B[0;32m    136\u001B[0m                                     \u001B[0mseqs2\u001B[0m  \u001B[1;33m=\u001B[0m \u001B[0mseqs2\u001B[0m\u001B[1;33m,\u001B[0m\u001B[1;33m\u001B[0m\u001B[1;33m\u001B[0m\u001B[0m\n",
      "\u001B[1;32m~\\AppData\\Local\\Programs\\Python\\Python39\\lib\\site-packages\\pwseqdist\\pairwise.py\u001B[0m in \u001B[0;36mapply_pairwise_rect\u001B[1;34m(metric, seqs1, seqs2, ncpus, use_numba, uniqify, reexpand, alphabet, *args, **kwargs)\u001B[0m\n\u001B[0;32m    165\u001B[0m             \"\"\"Second one here requires passing the standard metric, while the first requires\n\u001B[0;32m    166\u001B[0m             passing the \"vector\" metric. Speed is quite comparable\"\"\"\n\u001B[1;32m--> 167\u001B[1;33m             \u001B[0murect\u001B[0m \u001B[1;33m=\u001B[0m \u001B[0mmetric\u001B[0m\u001B[1;33m(\u001B[0m\u001B[0mpw_indices\u001B[0m\u001B[1;33m,\u001B[0m \u001B[0mseqs_mat\u001B[0m\u001B[1;33m,\u001B[0m \u001B[0mseqs_L\u001B[0m\u001B[1;33m,\u001B[0m \u001B[1;33m*\u001B[0m\u001B[0margs\u001B[0m\u001B[1;33m,\u001B[0m \u001B[1;33m**\u001B[0m\u001B[0mkwargs\u001B[0m\u001B[1;33m)\u001B[0m\u001B[1;33m\u001B[0m\u001B[1;33m\u001B[0m\u001B[0m\n\u001B[0m\u001B[0;32m    168\u001B[0m             \u001B[1;31m# urect = nb_distance_vec(seqs_mat, seqs_L, pw_indices, metric, *numba_args)\u001B[0m\u001B[1;33m\u001B[0m\u001B[1;33m\u001B[0m\u001B[0m\n\u001B[0;32m    169\u001B[0m     \u001B[1;32mif\u001B[0m \u001B[0mreexpand\u001B[0m\u001B[1;33m:\u001B[0m\u001B[1;33m\u001B[0m\u001B[1;33m\u001B[0m\u001B[0m\n",
      "\u001B[1;32m~\\AppData\\Local\\Programs\\Python\\Python39\\lib\\site-packages\\pwseqdist\\nb_metrics.py\u001B[0m in \u001B[0;36mnb_vector_tcrdist\u001B[1;34m(indices, seqs_mat, seqs_L, distance_matrix, dist_weight, gap_penalty, ntrim, ctrim, fixed_gappos)\u001B[0m\n\u001B[0;32m    237\u001B[0m         Vector of distances with length equal to indices.shape[0]\"\"\"\n\u001B[0;32m    238\u001B[0m \u001B[1;33m\u001B[0m\u001B[0m\n\u001B[1;32m--> 239\u001B[1;33m     \u001B[1;32mreturn\u001B[0m \u001B[0m_nb_vector_tcrdist\u001B[0m\u001B[1;33m(\u001B[0m\u001B[0mindices\u001B[0m\u001B[1;33m,\u001B[0m \u001B[0mseqs_mat\u001B[0m\u001B[1;33m,\u001B[0m \u001B[0mseqs_L\u001B[0m\u001B[1;33m,\u001B[0m \u001B[0mdistance_matrix\u001B[0m\u001B[1;33m,\u001B[0m \u001B[0mdist_weight\u001B[0m\u001B[1;33m,\u001B[0m \u001B[0mgap_penalty\u001B[0m\u001B[1;33m,\u001B[0m \u001B[0mntrim\u001B[0m\u001B[1;33m,\u001B[0m \u001B[0mctrim\u001B[0m\u001B[1;33m,\u001B[0m \u001B[0mfixed_gappos\u001B[0m\u001B[1;33m)\u001B[0m\u001B[1;33m\u001B[0m\u001B[1;33m\u001B[0m\u001B[0m\n\u001B[0m\u001B[0;32m    240\u001B[0m \u001B[1;33m\u001B[0m\u001B[0m\n\u001B[0;32m    241\u001B[0m \u001B[1;31m# @nb.jit(nopython=True, parallel=False, nogil=True)\u001B[0m\u001B[1;33m\u001B[0m\u001B[1;33m\u001B[0m\u001B[0m\n",
      "\u001B[1;32m~\\AppData\\Local\\Programs\\Python\\Python39\\lib\\site-packages\\pwseqdist\\nb_metrics.py\u001B[0m in \u001B[0;36m_nb_vector_tcrdist\u001B[1;34m(indices, seqs_mat, seqs_L, distance_matrix, dist_weight, gap_penalty, ntrim, ctrim, fixed_gappos)\u001B[0m\n\u001B[0;32m    246\u001B[0m \u001B[1;33m\u001B[0m\u001B[0m\n\u001B[0;32m    247\u001B[0m     \u001B[0mdist\u001B[0m \u001B[1;33m=\u001B[0m \u001B[0mnp\u001B[0m\u001B[1;33m.\u001B[0m\u001B[0mzeros\u001B[0m\u001B[1;33m(\u001B[0m\u001B[0mindices\u001B[0m\u001B[1;33m.\u001B[0m\u001B[0mshape\u001B[0m\u001B[1;33m[\u001B[0m\u001B[1;36m0\u001B[0m\u001B[1;33m]\u001B[0m\u001B[1;33m,\u001B[0m \u001B[0mdtype\u001B[0m\u001B[1;33m=\u001B[0m\u001B[0mnp\u001B[0m\u001B[1;33m.\u001B[0m\u001B[0mint16\u001B[0m\u001B[1;33m)\u001B[0m\u001B[1;33m\u001B[0m\u001B[1;33m\u001B[0m\u001B[0m\n\u001B[1;32m--> 248\u001B[1;33m     \u001B[1;32mfor\u001B[0m \u001B[0mind_i\u001B[0m \u001B[1;32min\u001B[0m \u001B[0mnb\u001B[0m\u001B[1;33m.\u001B[0m\u001B[0mprange\u001B[0m\u001B[1;33m(\u001B[0m\u001B[0mindices\u001B[0m\u001B[1;33m.\u001B[0m\u001B[0mshape\u001B[0m\u001B[1;33m[\u001B[0m\u001B[1;36m0\u001B[0m\u001B[1;33m]\u001B[0m\u001B[1;33m)\u001B[0m\u001B[1;33m:\u001B[0m\u001B[1;33m\u001B[0m\u001B[1;33m\u001B[0m\u001B[0m\n\u001B[0m\u001B[0;32m    249\u001B[0m         \u001B[0mquery_i\u001B[0m \u001B[1;33m=\u001B[0m \u001B[0mindices\u001B[0m\u001B[1;33m[\u001B[0m\u001B[0mind_i\u001B[0m\u001B[1;33m,\u001B[0m \u001B[1;36m0\u001B[0m\u001B[1;33m]\u001B[0m\u001B[1;33m\u001B[0m\u001B[1;33m\u001B[0m\u001B[0m\n\u001B[0;32m    250\u001B[0m         \u001B[0mseq_i\u001B[0m \u001B[1;33m=\u001B[0m \u001B[0mindices\u001B[0m\u001B[1;33m[\u001B[0m\u001B[0mind_i\u001B[0m\u001B[1;33m,\u001B[0m \u001B[1;36m1\u001B[0m\u001B[1;33m]\u001B[0m\u001B[1;33m\u001B[0m\u001B[1;33m\u001B[0m\u001B[0m\n",
      "\u001B[1;32m~\\AppData\\Local\\Programs\\Python\\Python39\\lib\\site-packages\\pwseqdist\\nb_metrics.py\u001B[0m in \u001B[0;36m_nb_vector_tcrdist\u001B[1;34m(indices, seqs_mat, seqs_L, distance_matrix, dist_weight, gap_penalty, ntrim, ctrim, fixed_gappos)\u001B[0m\n\u001B[0;32m    246\u001B[0m \u001B[1;33m\u001B[0m\u001B[0m\n\u001B[0;32m    247\u001B[0m     \u001B[0mdist\u001B[0m \u001B[1;33m=\u001B[0m \u001B[0mnp\u001B[0m\u001B[1;33m.\u001B[0m\u001B[0mzeros\u001B[0m\u001B[1;33m(\u001B[0m\u001B[0mindices\u001B[0m\u001B[1;33m.\u001B[0m\u001B[0mshape\u001B[0m\u001B[1;33m[\u001B[0m\u001B[1;36m0\u001B[0m\u001B[1;33m]\u001B[0m\u001B[1;33m,\u001B[0m \u001B[0mdtype\u001B[0m\u001B[1;33m=\u001B[0m\u001B[0mnp\u001B[0m\u001B[1;33m.\u001B[0m\u001B[0mint16\u001B[0m\u001B[1;33m)\u001B[0m\u001B[1;33m\u001B[0m\u001B[1;33m\u001B[0m\u001B[0m\n\u001B[1;32m--> 248\u001B[1;33m     \u001B[1;32mfor\u001B[0m \u001B[0mind_i\u001B[0m \u001B[1;32min\u001B[0m \u001B[0mnb\u001B[0m\u001B[1;33m.\u001B[0m\u001B[0mprange\u001B[0m\u001B[1;33m(\u001B[0m\u001B[0mindices\u001B[0m\u001B[1;33m.\u001B[0m\u001B[0mshape\u001B[0m\u001B[1;33m[\u001B[0m\u001B[1;36m0\u001B[0m\u001B[1;33m]\u001B[0m\u001B[1;33m)\u001B[0m\u001B[1;33m:\u001B[0m\u001B[1;33m\u001B[0m\u001B[1;33m\u001B[0m\u001B[0m\n\u001B[0m\u001B[0;32m    249\u001B[0m         \u001B[0mquery_i\u001B[0m \u001B[1;33m=\u001B[0m \u001B[0mindices\u001B[0m\u001B[1;33m[\u001B[0m\u001B[0mind_i\u001B[0m\u001B[1;33m,\u001B[0m \u001B[1;36m0\u001B[0m\u001B[1;33m]\u001B[0m\u001B[1;33m\u001B[0m\u001B[1;33m\u001B[0m\u001B[0m\n\u001B[0;32m    250\u001B[0m         \u001B[0mseq_i\u001B[0m \u001B[1;33m=\u001B[0m \u001B[0mindices\u001B[0m\u001B[1;33m[\u001B[0m\u001B[0mind_i\u001B[0m\u001B[1;33m,\u001B[0m \u001B[1;36m1\u001B[0m\u001B[1;33m]\u001B[0m\u001B[1;33m\u001B[0m\u001B[1;33m\u001B[0m\u001B[0m\n",
      "\u001B[1;32m_pydevd_bundle\\pydevd_cython_win32_39_64.pyx\u001B[0m in \u001B[0;36m_pydevd_bundle.pydevd_cython_win32_39_64.SafeCallWrapper.__call__\u001B[1;34m()\u001B[0m\n",
      "\u001B[1;32m_pydevd_bundle\\pydevd_cython_win32_39_64.pyx\u001B[0m in \u001B[0;36m_pydevd_bundle.pydevd_cython_win32_39_64.PyDBFrame.trace_dispatch\u001B[1;34m()\u001B[0m\n",
      "\u001B[1;32m_pydevd_bundle\\pydevd_cython_win32_39_64.pyx\u001B[0m in \u001B[0;36m_pydevd_bundle.pydevd_cython_win32_39_64.PyDBFrame.trace_dispatch\u001B[1;34m()\u001B[0m\n",
      "\u001B[1;32m_pydevd_bundle\\pydevd_cython_win32_39_64.pyx\u001B[0m in \u001B[0;36m_pydevd_bundle.pydevd_cython_win32_39_64.PyDBFrame.trace_dispatch\u001B[1;34m()\u001B[0m\n",
      "\u001B[1;32m_pydevd_bundle\\pydevd_cython_win32_39_64.pyx\u001B[0m in \u001B[0;36m_pydevd_bundle.pydevd_cython_win32_39_64.PyDBFrame.do_wait_suspend\u001B[1;34m()\u001B[0m\n",
      "\u001B[1;32mC:\\Program Files\\JetBrains\\PyCharm 2022.3.3\\plugins\\python\\helpers\\pydev\\pydevd.py\u001B[0m in \u001B[0;36mdo_wait_suspend\u001B[1;34m(self, thread, frame, event, arg, send_suspend_message, is_unhandled_exception)\u001B[0m\n\u001B[0;32m   1158\u001B[0m \u001B[1;33m\u001B[0m\u001B[0m\n\u001B[0;32m   1159\u001B[0m         \u001B[1;32mwith\u001B[0m \u001B[0mself\u001B[0m\u001B[1;33m.\u001B[0m\u001B[0m_threads_suspended_single_notification\u001B[0m\u001B[1;33m.\u001B[0m\u001B[0mnotify_thread_suspended\u001B[0m\u001B[1;33m(\u001B[0m\u001B[0mthread_id\u001B[0m\u001B[1;33m,\u001B[0m \u001B[0mstop_reason\u001B[0m\u001B[1;33m)\u001B[0m\u001B[1;33m:\u001B[0m\u001B[1;33m\u001B[0m\u001B[1;33m\u001B[0m\u001B[0m\n\u001B[1;32m-> 1160\u001B[1;33m             \u001B[0mself\u001B[0m\u001B[1;33m.\u001B[0m\u001B[0m_do_wait_suspend\u001B[0m\u001B[1;33m(\u001B[0m\u001B[0mthread\u001B[0m\u001B[1;33m,\u001B[0m \u001B[0mframe\u001B[0m\u001B[1;33m,\u001B[0m \u001B[0mevent\u001B[0m\u001B[1;33m,\u001B[0m \u001B[0marg\u001B[0m\u001B[1;33m,\u001B[0m \u001B[0msuspend_type\u001B[0m\u001B[1;33m,\u001B[0m \u001B[0mfrom_this_thread\u001B[0m\u001B[1;33m)\u001B[0m\u001B[1;33m\u001B[0m\u001B[1;33m\u001B[0m\u001B[0m\n\u001B[0m\u001B[0;32m   1161\u001B[0m \u001B[1;33m\u001B[0m\u001B[0m\n\u001B[0;32m   1162\u001B[0m     \u001B[1;32mdef\u001B[0m \u001B[0m_do_wait_suspend\u001B[0m\u001B[1;33m(\u001B[0m\u001B[0mself\u001B[0m\u001B[1;33m,\u001B[0m \u001B[0mthread\u001B[0m\u001B[1;33m,\u001B[0m \u001B[0mframe\u001B[0m\u001B[1;33m,\u001B[0m \u001B[0mevent\u001B[0m\u001B[1;33m,\u001B[0m \u001B[0marg\u001B[0m\u001B[1;33m,\u001B[0m \u001B[0msuspend_type\u001B[0m\u001B[1;33m,\u001B[0m \u001B[0mfrom_this_thread\u001B[0m\u001B[1;33m)\u001B[0m\u001B[1;33m:\u001B[0m\u001B[1;33m\u001B[0m\u001B[1;33m\u001B[0m\u001B[0m\n",
      "\u001B[1;32mC:\\Program Files\\JetBrains\\PyCharm 2022.3.3\\plugins\\python\\helpers\\pydev\\pydevd.py\u001B[0m in \u001B[0;36m_do_wait_suspend\u001B[1;34m(self, thread, frame, event, arg, suspend_type, from_this_thread)\u001B[0m\n\u001B[0;32m   1173\u001B[0m \u001B[1;33m\u001B[0m\u001B[0m\n\u001B[0;32m   1174\u001B[0m                 \u001B[0mself\u001B[0m\u001B[1;33m.\u001B[0m\u001B[0mprocess_internal_commands\u001B[0m\u001B[1;33m(\u001B[0m\u001B[1;33m)\u001B[0m\u001B[1;33m\u001B[0m\u001B[1;33m\u001B[0m\u001B[0m\n\u001B[1;32m-> 1175\u001B[1;33m                 \u001B[0mtime\u001B[0m\u001B[1;33m.\u001B[0m\u001B[0msleep\u001B[0m\u001B[1;33m(\u001B[0m\u001B[1;36m0.01\u001B[0m\u001B[1;33m)\u001B[0m\u001B[1;33m\u001B[0m\u001B[1;33m\u001B[0m\u001B[0m\n\u001B[0m\u001B[0;32m   1176\u001B[0m \u001B[1;33m\u001B[0m\u001B[0m\n\u001B[0;32m   1177\u001B[0m         \u001B[0mself\u001B[0m\u001B[1;33m.\u001B[0m\u001B[0mcancel_async_evaluation\u001B[0m\u001B[1;33m(\u001B[0m\u001B[0mget_current_thread_id\u001B[0m\u001B[1;33m(\u001B[0m\u001B[0mthread\u001B[0m\u001B[1;33m)\u001B[0m\u001B[1;33m,\u001B[0m \u001B[0mstr\u001B[0m\u001B[1;33m(\u001B[0m\u001B[0mid\u001B[0m\u001B[1;33m(\u001B[0m\u001B[0mframe\u001B[0m\u001B[1;33m)\u001B[0m\u001B[1;33m)\u001B[0m\u001B[1;33m)\u001B[0m\u001B[1;33m\u001B[0m\u001B[1;33m\u001B[0m\u001B[0m\n",
      "\u001B[1;31mKeyboardInterrupt\u001B[0m: "
     ]
    }
   ],
   "source": [
    "import pandas as pd\n",
    "from tcrdist.repertoire import TCRrep\n",
    "\n",
    "df = pd.read_csv(\"data/dash.csv\").sample(100)\n",
    "tr = TCRrep(cell_df = df,\n",
    "            organism = 'mouse',\n",
    "            chains = ['alpha','beta'],\n",
    "            db_file = 'alphabeta_gammadelta_db.tsv',\n",
    "            compute_distances = True)"
   ],
   "metadata": {
    "collapsed": false
   }
  },
  {
   "cell_type": "code",
   "execution_count": 5,
   "outputs": [
    {
     "data": {
      "text/plain": "array([[73, 48],\n       [73,  0],\n       [28, 21]], dtype=int16)"
     },
     "execution_count": 5,
     "metadata": {},
     "output_type": "execute_result"
    }
   ],
   "source": [
    "import pwseqdist as pwsd\n",
    "# Found this piece of code in the unitttest that demonstrates how I can use the distance function\n",
    "# (code modified to test more what I want)\n",
    "\n",
    "seqs_dot = ['CACADLGAYPDKLIF',\n",
    "         'CACDALLAYTDKLIF',\n",
    "         'CACDAV...LDKLIF',\n",
    "         'CACDDVTEVEGDKLIF',\n",
    "         'CACDFISPSNWGIQSGRNTDKLIF']\n",
    "\n",
    "seqs1 = ['CACADLGAYPDKLIF',\n",
    "         'CACDALLAYTDKLIF',\n",
    "         'CACDAV...LDKLIF',]\n",
    "\n",
    "seqs2 = ['CACDDVTEVEGDKLIF',\n",
    "            'CACDALLAYTDKLIF']\n",
    "\n",
    "# drect_dots2 = pwsd.apply_pairwise_rect(pwsd.metrics.nb_vector_tcrdist, seqs1=seqs_dot, seqs2=None, use_numba=True, ncpus=1, uniqify=False)\n",
    "drect_dots2 = pwsd.apply_pairwise_rect(pwsd.metrics.nb_vector_tcrdist, seqs1=seqs1, seqs2=seqs2, use_numba=True, ncpus=1, uniqify=False)\n",
    "\n",
    "drect_dots2"
   ],
   "metadata": {
    "collapsed": false
   }
  },
  {
   "cell_type": "code",
   "execution_count": 13,
   "outputs": [],
   "source": [
    "def calculate_distances(seq1, seq2):\n",
    "    drect_dots2 = pwsd.apply_pairwise_rect(pwsd.metrics.nb_vector_tcrdist, seqs1=[seq1], seqs2=[seq2], use_numba=True, ncpus=1, uniqify=False)\n",
    "    return drect_dots2[0][0]"
   ],
   "metadata": {
    "collapsed": false
   }
  },
  {
   "cell_type": "code",
   "execution_count": 14,
   "outputs": [
    {
     "data": {
      "text/plain": "73"
     },
     "execution_count": 14,
     "metadata": {},
     "output_type": "execute_result"
    }
   ],
   "source": [
    "calculate_distances(seqs1[0], seqs2[0])"
   ],
   "metadata": {
    "collapsed": false
   }
  },
  {
   "cell_type": "markdown",
   "source": [
    "We got a distance function. Let's try to modify our ProximityTree class to use this function instead of the default one."
   ],
   "metadata": {
    "collapsed": false
   }
  },
  {
   "cell_type": "code",
   "execution_count": 1,
   "outputs": [
    {
     "name": "stderr",
     "output_type": "stream",
     "text": [
      "Warning: loading library to link with numpy returned an error\n",
      "numpy.ndarray size changed, may indicate binary incompatibility. Expected 96 from C header, got 88 from PyObject\n"
     ]
    },
    {
     "name": "stdout",
     "output_type": "stream",
     "text": [
      "Parsing process finished in 0.0030014514923095703 seconds\n",
      "Parsing process finished in 0.0009992122650146484 seconds\n",
      "Training dataStructures ...\n"
     ]
    },
    {
     "name": "stderr",
     "output_type": "stream",
     "text": [
      "100%|██████████| 3/3 [00:03<00:00,  1.02s/it]"
     ]
    },
    {
     "name": "stdout",
     "output_type": "stream",
     "text": [
      "\n",
      "0.65\n"
     ]
    },
    {
     "name": "stderr",
     "output_type": "stream",
     "text": [
      "\n"
     ]
    }
   ],
   "source": [
    "import sys\n",
    "sys.path.append('Pforest-dtw')\n",
    "\n",
    "from trees import ProximityForest\n",
    "from core import FileReader\n",
    "from sklearn.model_selection import train_test_split\n",
    "from util import get_train_dataset, get_test_dataset\n",
    "from dataStructures import ListDataset\n",
    "import pandas as pd\n",
    "import time\n",
    "from util import readDataframeToListDataset\n",
    "\n",
    "\n",
    "train_df = get_train_dataset()\n",
    "# only keep the CDR3 columns\n",
    "train_df = train_df[['CDR3_alfa', 'CDR3_beta', 'reaction']]\n",
    "train_df.dropna(inplace=True) # TODO: remove this, distance function should handle this\n",
    "train_df = train_df.sample(100)\n",
    "\n",
    "train_df, val_df = train_test_split(train_df, test_size=0.2, random_state=42)\n",
    "\n",
    "train_dataset = readDataframeToListDataset(train_df, label_col_name='reaction')\n",
    "val_dataset = readDataframeToListDataset(val_df, label_col_name='reaction')\n",
    "\n",
    "Pforest = ProximityForest.ProximityForest(1, n_trees=3, n_candidates=5)  #todo: 100  trees instead of 3\n",
    "\n",
    "Pforest.train(train_dataset)\n",
    "results = Pforest.test(val_dataset)\n",
    "print(results.accuracy)"
   ],
   "metadata": {
    "collapsed": false
   }
  },
  {
   "cell_type": "markdown",
   "source": [
    "Running  it in a seperate file to profile the time (and see which functions should be optimized using numba) resulted in this:\n",
    "\n",
    "![](img/profile-dst.png)\n",
    "\n",
    "![](img/profile-dst-own.png)\n",
    "\n",
    "The distance measure is the most time consuming part. However, this function allows both a string and a float (since nan is a float), so we can't compile it with numba.\n",
    "\n",
    "Tried optimizing it with numba, but that didn't work (problems with determining types). Also tried without nopython=True.\n",
    "\n",
    "| type (3 trees, 1000 samples)                       | time (ms) |\n",
    "|----------------------------------------------------|-----------|\n",
    "| no-numba                                           | 55 945    |\n",
    "| numba on dist (no nopython, incl compilation time) | 102 280   |\n",
    "| with nopython                                      | error     |\n",
    "\n"
   ],
   "metadata": {
    "collapsed": false
   }
  },
  {
   "cell_type": "code",
   "execution_count": 1,
   "outputs": [
    {
     "name": "stderr",
     "output_type": "stream",
     "text": [
      "Warning: loading library to link with numpy returned an error\n",
      "numpy.ndarray size changed, may indicate binary incompatibility. Expected 96 from C header, got 88 from PyObject\n"
     ]
    },
    {
     "name": "stdout",
     "output_type": "stream",
     "text": [
      "Parsing process finished in 0.003032684326171875 seconds\n",
      "Parsing process finished in 0.0009672641754150391 seconds\n",
      "Training dataStructures ...\n"
     ]
    },
    {
     "name": "stderr",
     "output_type": "stream",
     "text": [
      "100%|██████████| 3/3 [00:02<00:00,  1.33it/s]"
     ]
    },
    {
     "name": "stdout",
     "output_type": "stream",
     "text": [
      "\n",
      "0.5\n"
     ]
    },
    {
     "name": "stderr",
     "output_type": "stream",
     "text": [
      "\n"
     ]
    }
   ],
   "source": [
    "import sys\n",
    "sys.path.append('Pforest-dtw')\n",
    "\n",
    "from trees import ProximityForest\n",
    "from core import FileReader\n",
    "from sklearn.model_selection import train_test_split\n",
    "from util import get_train_dataset, get_test_dataset\n",
    "from dataStructures import ListDataset\n",
    "import pandas as pd\n",
    "import time\n",
    "from util import readDataframeToListDataset\n",
    "from util import calculate_tcr_dist_multiple_chains\n",
    "\n",
    "\n",
    "train_df = get_train_dataset()\n",
    "# only keep the CDR3 columns\n",
    "train_df = train_df[['CDR3_alfa', 'CDR3_beta', 'reaction']]\n",
    "train_df = train_df.sample(100)\n",
    "\n",
    "train_df, val_df = train_test_split(train_df, test_size=0.2, random_state=42)\n",
    "\n",
    "train_dataset = readDataframeToListDataset(train_df, label_col_name='reaction')\n",
    "val_dataset = readDataframeToListDataset(val_df, label_col_name='reaction')\n",
    "\n",
    "Pforest = ProximityForest.ProximityForest(1, n_trees=3, n_candidates=5, distance_measure=calculate_tcr_dist_multiple_chains, distance_kwargs={\"nan_distance\": 5})  #todo: 100  trees instead of 3\n",
    "\n",
    "Pforest.train(train_dataset)\n",
    "results = Pforest.test(val_dataset)\n",
    "print(results.accuracy)"
   ],
   "metadata": {
    "collapsed": false
   }
  },
  {
   "cell_type": "code",
   "execution_count": 4,
   "outputs": [
    {
     "name": "stdout",
     "output_type": "stream",
     "text": [
      "Training time: 2.251663400000001 ( time.struct_time(tm_year=1970, tm_mon=1, tm_mday=1, tm_hour=1, tm_min=0, tm_sec=2, tm_wday=3, tm_yday=1, tm_isdst=0) )\n",
      "Correct(TP+TN): 10 incorrect(FP+FN) 10\n",
      "Accuracy: 0.5\n",
      "REPEAT: 1 , GILGFVFTL\n",
      ", accuracy 0.5\n",
      ", elapsed time train 2.251663400000001e-06\n",
      ", elapsed time test 8.107689999999934e-08\n",
      ", mean depth tree 11.666666666666666\n",
      "\n"
     ]
    }
   ],
   "source": [
    "%%time\n",
    "train_df = get_train_dataset()\n",
    "# only keep the CDR3 columns\n",
    "train_df = train_df[['CDR3_alfa', 'CDR3_beta', 'reaction']]\n",
    "# train_df = train_df.sample(1000)\n",
    "print(len(train_df))\n",
    "train_df, val_df = train_test_split(train_df, test_size=0.2, random_state=42)\n",
    "\n",
    "train_dataset = readDataframeToListDataset(train_df, label_col_name='reaction')\n",
    "val_dataset = readDataframeToListDataset(val_df, label_col_name='reaction')\n",
    "\n",
    "Pforest = ProximityForest.ProximityForest(1, n_trees=3, n_candidates=5, distance_measure=calculate_tcr_dist_multiple_chains, distance_kwargs={\"nan_distance\": 5})  #todo: 100  trees instead of 3\n",
    "\n",
    "Pforest.train(train_dataset)\n",
    "results = Pforest.test(val_dataset)\n",
    "print(results.accuracy)"
   ],
   "metadata": {
    "collapsed": false
   }
  },
  {
   "cell_type": "code",
   "execution_count": null,
   "outputs": [
    {
     "name": "stdout",
     "output_type": "stream",
     "text": [
      "Training dataStructures ...\n"
     ]
    },
    {
     "name": "stderr",
     "output_type": "stream",
     "text": [
      " 63%|██████▎   | 63/100 [2:40:17<1:37:24, 157.97s/it]"
     ]
    }
   ],
   "source": [
    "Pforest = ProximityForest.ProximityForest(1, n_trees=100, n_candidates=5, distance_measure=calculate_tcr_dist_multiple_chains, distance_kwargs={\"nan_distance\": 5})\n",
    "\n",
    "Pforest.train(train_dataset)\n",
    "results = Pforest.test(val_dataset)\n",
    "print(results.accuracy)"
   ],
   "metadata": {
    "collapsed": false
   }
  },
  {
   "cell_type": "code",
   "execution_count": null,
   "outputs": [
    {
     "name": "stderr",
     "output_type": "stream",
     "text": [
      "Warning: loading library to link with numpy returned an error\n",
      "numpy.ndarray size changed, may indicate binary incompatibility. Expected 96 from C header, got 88 from PyObject\n"
     ]
    },
    {
     "name": "stdout",
     "output_type": "stream",
     "text": [
      "Parsing process finished in 0.029998779296875 seconds\n",
      "Parsing process finished in 0.011998891830444336 seconds\n",
      "Training dataStructures ...\n"
     ]
    },
    {
     "name": "stderr",
     "output_type": "stream",
     "text": [
      "100%|██████████| 100/100 [23:04<00:00, 13.85s/it]\n"
     ]
    },
    {
     "name": "stdout",
     "output_type": "stream",
     "text": [
      "\n",
      "Training time: 1384.9100446 ( time.struct_time(tm_year=1970, tm_mon=1, tm_mday=1, tm_hour=1, tm_min=23, tm_sec=4, tm_wday=3, tm_yday=1, tm_isdst=0) )\n",
      "Correct(TP+TN): 134 incorrect(FP+FN) 66\n",
      "Accuracy: 0.67\n",
      "REPEAT: 1 , GILGFVFTL\n",
      ", accuracy 0.67\n",
      ", elapsed time train 0.0013849100446\n",
      ", elapsed time test 4.5883463200000275e-05\n",
      ", mean depth tree 21.3\n",
      "\n",
      "Training dataStructures ...\n"
     ]
    },
    {
     "name": "stderr",
     "output_type": "stream",
     "text": [
      " 39%|███▉      | 39/100 [08:27<13:38, 13.41s/it]"
     ]
    }
   ],
   "source": [],
   "metadata": {
    "collapsed": false,
    "pycharm": {
     "is_executing": true
    }
   }
  }
 ],
 "metadata": {
  "kernelspec": {
   "display_name": "Python 3",
   "language": "python",
   "name": "python3"
  },
  "language_info": {
   "codemirror_mode": {
    "name": "ipython",
    "version": 2
   },
   "file_extension": ".py",
   "mimetype": "text/x-python",
   "name": "python",
   "nbconvert_exporter": "python",
   "pygments_lexer": "ipython2",
   "version": "2.7.6"
  }
 },
 "nbformat": 4,
 "nbformat_minor": 0
}
