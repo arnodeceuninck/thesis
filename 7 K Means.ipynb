{
 "cells": [
  {
   "cell_type": "markdown",
   "metadata": {},
   "source": [
    "# K-Means\n",
    "One of the methods described in the paper was using K-Means. When imputing using K-Means, you take the k closest samples (based on a certain distance measure) and take the mean of the values of the features in those samples. This gives you a complete vector, which you can use your classifier on. Instead of imputation, it's also possible to use K-means immediately for predicting. You search the k-closest samples and let them vote for the class your test sample should be.\n",
    "\n",
    "## K-Means imputation\n",
    "Let's impute the missing values using K-Means and predict using a random forest classifier.\n",
    "\n",
    "Imputing must be done after get_features, because distance function often work better on numbers."
   ]
  },
  {
   "cell_type": "code",
   "execution_count": 1,
   "metadata": {},
   "outputs": [
    {
     "name": "stderr",
     "output_type": "stream",
     "text": [
      "C:\\Users\\arnod\\PycharmProjects\\thesis\\util\\classification.py:38: PerformanceWarning: DataFrame is highly fragmented.  This is usually the result of calling `frame.insert` many times, which has poor performance.  Consider joining all columns at once using pd.concat(axis=1) instead.  To get a de-fragmented frame, use `newframe = frame.copy()`\n",
      "  x_test[col] = np.nan  # TODO: NaN geven\n"
     ]
    }
   ],
   "source": [
    "# We're lucky, sklearn already has a KNNImputer built in: https://scikit-learn.org/stable/modules/generated/sklearn.impute.KNNImputer.html\n",
    "from sklearn.impute import KNNImputer\n",
    "from sklearn.ensemble import RandomForestClassifier\n",
    "from sklearn.model_selection import train_test_split\n",
    "\n",
    "from util import get_train_dataset, get_features, fix_test\n",
    "\n",
    "df = get_train_dataset()\n",
    "# df = df.sample(n=1000)\n",
    "df_train, df_test = train_test_split(df, test_size=0.2, random_state=42)\n",
    "\n",
    "x = get_features(df_train)\n",
    "y = df_train['reaction']\n",
    "\n",
    "x_test = get_features(df_test,test=True)\n",
    "y_test = df_test['reaction']\n",
    "\n",
    "x_test = fix_test(x_test, x.columns)\n",
    "\n",
    "imputer = KNNImputer(n_neighbors=5)\n",
    "\n",
    "x_imputed = imputer.fit_transform(x)\n",
    "x_test_imputed = imputer.transform(x_test)"
   ]
  },
  {
   "cell_type": "code",
   "execution_count": 2,
   "outputs": [
    {
     "data": {
      "text/plain": "RandomForestClassifier(random_state=42)",
      "text/html": "<style>#sk-container-id-1 {color: black;background-color: white;}#sk-container-id-1 pre{padding: 0;}#sk-container-id-1 div.sk-toggleable {background-color: white;}#sk-container-id-1 label.sk-toggleable__label {cursor: pointer;display: block;width: 100%;margin-bottom: 0;padding: 0.3em;box-sizing: border-box;text-align: center;}#sk-container-id-1 label.sk-toggleable__label-arrow:before {content: \"▸\";float: left;margin-right: 0.25em;color: #696969;}#sk-container-id-1 label.sk-toggleable__label-arrow:hover:before {color: black;}#sk-container-id-1 div.sk-estimator:hover label.sk-toggleable__label-arrow:before {color: black;}#sk-container-id-1 div.sk-toggleable__content {max-height: 0;max-width: 0;overflow: hidden;text-align: left;background-color: #f0f8ff;}#sk-container-id-1 div.sk-toggleable__content pre {margin: 0.2em;color: black;border-radius: 0.25em;background-color: #f0f8ff;}#sk-container-id-1 input.sk-toggleable__control:checked~div.sk-toggleable__content {max-height: 200px;max-width: 100%;overflow: auto;}#sk-container-id-1 input.sk-toggleable__control:checked~label.sk-toggleable__label-arrow:before {content: \"▾\";}#sk-container-id-1 div.sk-estimator input.sk-toggleable__control:checked~label.sk-toggleable__label {background-color: #d4ebff;}#sk-container-id-1 div.sk-label input.sk-toggleable__control:checked~label.sk-toggleable__label {background-color: #d4ebff;}#sk-container-id-1 input.sk-hidden--visually {border: 0;clip: rect(1px 1px 1px 1px);clip: rect(1px, 1px, 1px, 1px);height: 1px;margin: -1px;overflow: hidden;padding: 0;position: absolute;width: 1px;}#sk-container-id-1 div.sk-estimator {font-family: monospace;background-color: #f0f8ff;border: 1px dotted black;border-radius: 0.25em;box-sizing: border-box;margin-bottom: 0.5em;}#sk-container-id-1 div.sk-estimator:hover {background-color: #d4ebff;}#sk-container-id-1 div.sk-parallel-item::after {content: \"\";width: 100%;border-bottom: 1px solid gray;flex-grow: 1;}#sk-container-id-1 div.sk-label:hover label.sk-toggleable__label {background-color: #d4ebff;}#sk-container-id-1 div.sk-serial::before {content: \"\";position: absolute;border-left: 1px solid gray;box-sizing: border-box;top: 0;bottom: 0;left: 50%;z-index: 0;}#sk-container-id-1 div.sk-serial {display: flex;flex-direction: column;align-items: center;background-color: white;padding-right: 0.2em;padding-left: 0.2em;position: relative;}#sk-container-id-1 div.sk-item {position: relative;z-index: 1;}#sk-container-id-1 div.sk-parallel {display: flex;align-items: stretch;justify-content: center;background-color: white;position: relative;}#sk-container-id-1 div.sk-item::before, #sk-container-id-1 div.sk-parallel-item::before {content: \"\";position: absolute;border-left: 1px solid gray;box-sizing: border-box;top: 0;bottom: 0;left: 50%;z-index: -1;}#sk-container-id-1 div.sk-parallel-item {display: flex;flex-direction: column;z-index: 1;position: relative;background-color: white;}#sk-container-id-1 div.sk-parallel-item:first-child::after {align-self: flex-end;width: 50%;}#sk-container-id-1 div.sk-parallel-item:last-child::after {align-self: flex-start;width: 50%;}#sk-container-id-1 div.sk-parallel-item:only-child::after {width: 0;}#sk-container-id-1 div.sk-dashed-wrapped {border: 1px dashed gray;margin: 0 0.4em 0.5em 0.4em;box-sizing: border-box;padding-bottom: 0.4em;background-color: white;}#sk-container-id-1 div.sk-label label {font-family: monospace;font-weight: bold;display: inline-block;line-height: 1.2em;}#sk-container-id-1 div.sk-label-container {text-align: center;}#sk-container-id-1 div.sk-container {/* jupyter's `normalize.less` sets `[hidden] { display: none; }` but bootstrap.min.css set `[hidden] { display: none !important; }` so we also need the `!important` here to be able to override the default hidden behavior on the sphinx rendered scikit-learn.org. See: https://github.com/scikit-learn/scikit-learn/issues/21755 */display: inline-block !important;position: relative;}#sk-container-id-1 div.sk-text-repr-fallback {display: none;}</style><div id=\"sk-container-id-1\" class=\"sk-top-container\"><div class=\"sk-text-repr-fallback\"><pre>RandomForestClassifier(random_state=42)</pre><b>In a Jupyter environment, please rerun this cell to show the HTML representation or trust the notebook. <br />On GitHub, the HTML representation is unable to render, please try loading this page with nbviewer.org.</b></div><div class=\"sk-container\" hidden><div class=\"sk-item\"><div class=\"sk-estimator sk-toggleable\"><input class=\"sk-toggleable__control sk-hidden--visually\" id=\"sk-estimator-id-1\" type=\"checkbox\" checked><label for=\"sk-estimator-id-1\" class=\"sk-toggleable__label sk-toggleable__label-arrow\">RandomForestClassifier</label><div class=\"sk-toggleable__content\"><pre>RandomForestClassifier(random_state=42)</pre></div></div></div></div></div>"
     },
     "execution_count": 2,
     "metadata": {},
     "output_type": "execute_result"
    }
   ],
   "source": [
    "clf = RandomForestClassifier(random_state=42)\n",
    "clf.fit(x_imputed, y)"
   ],
   "metadata": {
    "collapsed": false
   }
  },
  {
   "cell_type": "code",
   "execution_count": 3,
   "outputs": [
    {
     "data": {
      "text/plain": "<Figure size 432x288 with 1 Axes>",
      "image/png": "[encoded data removed]"
     },
     "metadata": {
      "needs_background": "light"
     },
     "output_type": "display_data"
    },
    {
     "data": {
      "text/plain": "0.8821715138172759"
     },
     "execution_count": 3,
     "metadata": {},
     "output_type": "execute_result"
    }
   ],
   "source": [
    "from util import calculate_auc_and_plot\n",
    "y_pred = clf.predict_proba(x_test_imputed)[:, 1]\n",
    "calculate_auc_and_plot(y_test, y_pred)"
   ],
   "metadata": {
    "collapsed": false,
    "pycharm": {
     "name": "#%%y_pred = clf.predict(x_test)\n"
    }
   }
  },
  {
   "cell_type": "code",
   "execution_count": null,
   "outputs": [],
   "source": [
    "# Way to good accuracy, I noticed test=True wasn't set, so let's see what difference that makes\n",
    "# Doing this again to reset the one hot encoder (and not use the test version)\n",
    "x = get_features(df_train)\n",
    "y = df_train['reaction']\n",
    "\n",
    "\n",
    "x_test = get_features(df_test, test=True)\n",
    "y_test = df_test['reaction']\n",
    "\n",
    "x_test = fix_test(x_test, x.columns)\n",
    "\n",
    "x_test_imputed = imputer.transform(x_test)\n",
    "\n",
    "y_pred = clf.predict_proba(x_test_imputed)[:, 1]\n",
    "calculate_auc_and_plot(y_test, y_pred)"
   ],
   "metadata": {
    "collapsed": false
   }
  },
  {
   "cell_type": "markdown",
   "source": [
    "# K-Means prediction"
   ],
   "metadata": {
    "collapsed": false
   }
  },
  {
   "cell_type": "markdown",
   "source": [
    "## Imputed data\n",
    "Let's try it on the imputed data"
   ],
   "metadata": {
    "collapsed": false
   }
  },
  {
   "cell_type": "code",
   "execution_count": null,
   "outputs": [],
   "source": [
    "# For this, we can use the KNNClassifier from sklearn\n",
    "from sklearn.neighbors import KNeighborsClassifier\n",
    "\n",
    "clf = KNeighborsClassifier(n_neighbors=5)\n",
    "\n",
    "clf.fit(x_imputed, y)"
   ],
   "metadata": {
    "collapsed": false
   }
  },
  {
   "cell_type": "code",
   "execution_count": null,
   "outputs": [],
   "source": [
    "y_pred = clf.predict_proba(x_test_imputed)[:, 1]\n",
    "calculate_auc_and_plot(y_test, y_pred)"
   ],
   "metadata": {
    "collapsed": false
   }
  },
  {
   "cell_type": "markdown",
   "source": [
    "# Immediate prediction"
   ],
   "metadata": {
    "collapsed": false
   }
  },
  {
   "cell_type": "code",
   "execution_count": null,
   "outputs": [],
   "source": [
    "from sklearn.neighbors import KNeighborsClassifier\n",
    "\n",
    "df = get_train_dataset()\n",
    "# df = df.sample(n=1000)\n",
    "df_train, df_test = train_test_split(df, test_size=0.2, random_state=42)\n",
    "\n",
    "x = get_features(df_train)\n",
    "y = df_train['reaction']\n",
    "\n",
    "x_test = get_features(df_test, test=True)\n",
    "y_test = df_test['reaction']\n",
    "\n",
    "x_test = fix_test(x_test, x.columns)"
   ],
   "metadata": {
    "collapsed": false
   }
  },
  {
   "cell_type": "code",
   "execution_count": null,
   "outputs": [],
   "source": [
    "# For the classifier to work, we need to remove the Nan's, let's try filling them with 0\n",
    "x_zero_imputed = x.fillna(0)\n",
    "x_test_zero_imputed = x_test.fillna(0)"
   ],
   "metadata": {
    "collapsed": false
   }
  },
  {
   "cell_type": "code",
   "execution_count": null,
   "outputs": [],
   "source": [
    "clf = KNeighborsClassifier(n_neighbors=5)\n",
    "clf.fit(x_zero_imputed, y)"
   ],
   "metadata": {
    "collapsed": false
   }
  },
  {
   "cell_type": "code",
   "execution_count": null,
   "outputs": [],
   "source": [
    "y_pred = clf.predict_proba(x_test_zero_imputed)[:, 1]\n",
    "calculate_auc_and_plot(y_test, y_pred)"
   ],
   "metadata": {
    "collapsed": false
   }
  },
  {
   "cell_type": "code",
   "execution_count": null,
   "outputs": [],
   "source": [
    "# Let's try filling them with the mean\n",
    "from sklearn.impute import SimpleImputer\n",
    "import numpy as np\n",
    "imp_mean = SimpleImputer(missing_values=np.nan, strategy='mean')\n",
    "x_mean_imputed = imp_mean.fit_transform(x)\n",
    "x_test_mean_imputed = imp_mean.transform(x_test)"
   ],
   "metadata": {
    "collapsed": false
   }
  },
  {
   "cell_type": "code",
   "execution_count": null,
   "outputs": [],
   "source": [
    "clf = KNeighborsClassifier(n_neighbors=5)\n",
    "clf.fit(x_mean_imputed, y)"
   ],
   "metadata": {
    "collapsed": false
   }
  },
  {
   "cell_type": "code",
   "execution_count": null,
   "outputs": [],
   "source": [
    "y_pred = clf.predict_proba(x_test_mean_imputed)[:, 1]\n",
    "calculate_auc_and_plot(y_test, y_pred)"
   ],
   "metadata": {
    "collapsed": false
   }
  },
  {
   "cell_type": "code",
   "execution_count": null,
   "outputs": [],
   "source": [],
   "metadata": {
    "collapsed": false
   }
  },
  {
   "cell_type": "markdown",
   "source": [],
   "metadata": {
    "collapsed": false
   }
  },
  {
   "cell_type": "code",
   "execution_count": null,
   "outputs": [],
   "source": [],
   "metadata": {
    "collapsed": false
   }
  },
  {
   "cell_type": "markdown",
   "source": [
    "# Summary\n",
    "When first converting the dataset into feature and then imputing the missing values using a KNNImputer, we get (using random forest) an AUC of 0.837 (or 0.987 when generating features without Test=True). 0.837 is sligthly worse than the AUC I get when not using imputation and filling the NaN's with 0 (AUC=0.871).\n",
    "\n",
    "The KNeigborsClassifier didn't support missing values, so I tried different ways to impute then, to classify them afterwards with the KNeigborsClassifier. Imputing using KNNImputer gave an AUC of 0.75, zeros 0.811 and the mean 0.791."
   ],
   "metadata": {
    "collapsed": false
   }
  },
  {
   "cell_type": "markdown",
   "source": [
    "## After comment\n",
    "When generating the master overview\n",
    "I didn't try using different distance measure here. This is especially important since some distance based methods seem to work quite well for TCR classifications and the sklearn kneighborsclassifier supports custom distance measures.\n",
    "https://scikit-learn.org/stable/modules/generated/sklearn.neighbors.KNeighborsClassifier.html\n",
    "https://scikit-learn.org/stable/modules/generated/sklearn.metrics.pairwise.distance_metrics.html#sklearn.metrics.pairwise.distance_metrics\n",
    "https://scikit-learn.org/stable/modules/generated/sklearn.metrics.pairwise.nan_euclidean_distances.html\n",
    "https://scikit-learn.org/stable/modules/metrics.html#metrics\n",
    "\n",
    "Nvm, it doens't make sense to incorporate nan's here, since if the closest value is a nan, then it's still useless"
   ],
   "metadata": {
    "collapsed": false
   }
  },
  {
   "cell_type": "markdown",
   "source": [
    "## custom distance measures\n",
    "sklearn KNN implmentation doesn't support strings, so let's use our own model"
   ],
   "metadata": {
    "collapsed": false
   }
  },
  {
   "cell_type": "code",
   "execution_count": 93,
   "outputs": [],
   "source": [
    "from functools import lru_cache\n",
    "import numpy as np\n",
    "from collections import Counter\n",
    "from sklearn.metrics import pairwise_distances\n",
    "\n",
    "class KNNString:\n",
    "    def __init__(self, k, metric, metric_kwargs=None):\n",
    "        self.k = k\n",
    "        self.metric = metric\n",
    "        self.metric_kwargs = metric_kwargs if metric_kwargs is not None else {}\n",
    "\n",
    "    def fit(self, X, y):\n",
    "        self.X_train = X.reset_index(drop=True)\n",
    "        self.y_train = y.reset_index(drop=True)\n",
    "        self.classes_ = np.unique(y)\n",
    "\n",
    "    def predict(self, X):\n",
    "        y_pred = []\n",
    "        for i, row_to_predict in X.iterrows():\n",
    "            distances = []\n",
    "            for j, row_train in self.X_train.iterrows():\n",
    "                dist = self.metric(row_train, row_to_predict, **self.metric_kwargs)\n",
    "                distances.append(dist)\n",
    "            indices = np.argsort(distances)[:self.k]\n",
    "            k_nearest_labels = [self.y_train[i] for i in indices]\n",
    "            most_common = Counter(k_nearest_labels).most_common(1)\n",
    "            y_pred.append(most_common[0][0])\n",
    "        return np.array(y_pred)\n",
    "\n",
    "    def predict_proba(self, X):\n",
    "        y_pred_proba = []\n",
    "        for i, row_to_predict in X.iterrows():\n",
    "            distances = []\n",
    "            for j, row_train in self.X_train.iterrows():\n",
    "                dist = self.metric(row_train, row_to_predict, **self.metric_kwargs)\n",
    "                distances.append(dist)\n",
    "            indices = np.argsort(distances)[:self.k]\n",
    "            k_nearest_labels = [self.y_train[i] for i in indices]\n",
    "            label_counts = Counter(k_nearest_labels)\n",
    "            probabilities = [label_counts[label] / self.k for label in self.classes_]\n",
    "            y_pred_proba.append(probabilities)\n",
    "        return np.array(y_pred_proba)\n"
   ],
   "metadata": {
    "collapsed": false
   }
  },
  {
   "cell_type": "code",
   "execution_count": 94,
   "outputs": [],
   "source": [
    "def levenstein_distance(a, b):\n",
    "    @lru_cache(None)  # for memorization\n",
    "    def min_dist(s1, s2):\n",
    "\n",
    "        if s1 == len(a) or s2 == len(b):\n",
    "            return len(a) - s1 + len(b) - s2\n",
    "\n",
    "        # no change required\n",
    "        if a[s1] == b[s2]:\n",
    "            return min_dist(s1 + 1, s2 + 1)\n",
    "\n",
    "        return 1 + min(\n",
    "            min_dist(s1, s2 + 1),      # insert character\n",
    "            min_dist(s1 + 1, s2),      # delete character\n",
    "            min_dist(s1 + 1, s2 + 1),  # replace character\n",
    "        )\n",
    "\n",
    "    return min_dist(0, 0)"
   ],
   "metadata": {
    "collapsed": false
   }
  },
  {
   "cell_type": "code",
   "execution_count": 95,
   "outputs": [],
   "source": [
    "def multi_lev(a, b):\n",
    "    return np.mean([levenstein_distance(a_, b_) for a_, b_ in zip(a, b)])"
   ],
   "metadata": {
    "collapsed": false
   }
  },
  {
   "cell_type": "code",
   "execution_count": 96,
   "outputs": [
    {
     "data": {
      "text/plain": "            CDR3_alfa      TRAV    TRAJ         CDR3_beta      TRBV     TRBJ  \\\n4081  CAVNSYYNQGGKLIF  TRAV12-2  TRAJ23     CSVLQGSPYEQYF  TRBV29-1  TRBJ2-7   \n427   CVVSLNTGTASKLTF  TRAV12-1  TRAJ44     CASSSSAGSPLHF   TRBV6-5  TRBJ1-6   \n2656   CLVAAPRVGYALNF     TRAV4  TRAJ41      CASMWPSTEQFF     TRBV9  TRBJ2-1   \n1122     CLEGGTASKLTF    TRAV21  TRAJ44  CASGLIPGLGRETQYF  TRBV12-5  TRBJ2-5   \n2055    CAVPPGNDYKLSF  TRAV12-2  TRAJ20     CSVLGTPDYEQYF  TRBV29-1  TRBJ2-7   \n\n      reaction  \n4081         1  \n427          0  \n2656         0  \n1122         0  \n2055         0  ",
      "text/html": "<div>\n<style scoped>\n    .dataframe tbody tr th:only-of-type {\n        vertical-align: middle;\n    }\n\n    .dataframe tbody tr th {\n        vertical-align: top;\n    }\n\n    .dataframe thead th {\n        text-align: right;\n    }\n</style>\n<table border=\"1\" class=\"dataframe\">\n  <thead>\n    <tr style=\"text-align: right;\">\n      <th></th>\n      <th>CDR3_alfa</th>\n      <th>TRAV</th>\n      <th>TRAJ</th>\n      <th>CDR3_beta</th>\n      <th>TRBV</th>\n      <th>TRBJ</th>\n      <th>reaction</th>\n    </tr>\n  </thead>\n  <tbody>\n    <tr>\n      <th>4081</th>\n      <td>CAVNSYYNQGGKLIF</td>\n      <td>TRAV12-2</td>\n      <td>TRAJ23</td>\n      <td>CSVLQGSPYEQYF</td>\n      <td>TRBV29-1</td>\n      <td>TRBJ2-7</td>\n      <td>1</td>\n    </tr>\n    <tr>\n      <th>427</th>\n      <td>CVVSLNTGTASKLTF</td>\n      <td>TRAV12-1</td>\n      <td>TRAJ44</td>\n      <td>CASSSSAGSPLHF</td>\n      <td>TRBV6-5</td>\n      <td>TRBJ1-6</td>\n      <td>0</td>\n    </tr>\n    <tr>\n      <th>2656</th>\n      <td>CLVAAPRVGYALNF</td>\n      <td>TRAV4</td>\n      <td>TRAJ41</td>\n      <td>CASMWPSTEQFF</td>\n      <td>TRBV9</td>\n      <td>TRBJ2-1</td>\n      <td>0</td>\n    </tr>\n    <tr>\n      <th>1122</th>\n      <td>CLEGGTASKLTF</td>\n      <td>TRAV21</td>\n      <td>TRAJ44</td>\n      <td>CASGLIPGLGRETQYF</td>\n      <td>TRBV12-5</td>\n      <td>TRBJ2-5</td>\n      <td>0</td>\n    </tr>\n    <tr>\n      <th>2055</th>\n      <td>CAVPPGNDYKLSF</td>\n      <td>TRAV12-2</td>\n      <td>TRAJ20</td>\n      <td>CSVLGTPDYEQYF</td>\n      <td>TRBV29-1</td>\n      <td>TRBJ2-7</td>\n      <td>0</td>\n    </tr>\n  </tbody>\n</table>\n</div>"
     },
     "execution_count": 96,
     "metadata": {},
     "output_type": "execute_result"
    }
   ],
   "source": [
    "from util import get_train_dataset, get_features, fix_test, calculate_auc_and_plot\n",
    "from sklearn.model_selection import train_test_split\n",
    "\n",
    "df = get_train_dataset()\n",
    "df.dropna(inplace=True)\n",
    "df = df.sample(n=500)\n",
    "df_train, df_test = train_test_split(df, test_size=0.2, random_state=42)\n",
    "df_train.head()"
   ],
   "metadata": {
    "collapsed": false
   }
  },
  {
   "cell_type": "code",
   "execution_count": 97,
   "outputs": [],
   "source": [
    "x = df_train[['CDR3_alfa', 'CDR3_beta']]\n",
    "y = df_train['reaction']\n",
    "\n",
    "x_test = df_test[['CDR3_alfa', 'CDR3_beta']]\n",
    "y_test = df_test['reaction']"
   ],
   "metadata": {
    "collapsed": false
   }
  },
  {
   "cell_type": "code",
   "execution_count": 98,
   "outputs": [],
   "source": [
    "clf = KNNString(k=5, metric=multi_lev)\n",
    "clf.fit(x, y)"
   ],
   "metadata": {
    "collapsed": false
   }
  },
  {
   "cell_type": "code",
   "execution_count": 99,
   "outputs": [
    {
     "name": "stdout",
     "output_type": "stream",
     "text": [
      "0.82\n"
     ]
    }
   ],
   "source": [
    "y_pred = clf.predict(x_test)\n",
    "print(np.mean(y_pred == y_test))"
   ],
   "metadata": {
    "collapsed": false
   }
  },
  {
   "cell_type": "code",
   "execution_count": 100,
   "outputs": [
    {
     "data": {
      "text/plain": "<Figure size 432x288 with 1 Axes>",
      "image/png": "[encoded data removed]"
     },
     "metadata": {
      "needs_background": "light"
     },
     "output_type": "display_data"
    },
    {
     "data": {
      "text/plain": "0.890096618357488"
     },
     "execution_count": 100,
     "metadata": {},
     "output_type": "execute_result"
    }
   ],
   "source": [
    "y_preda = clf.predict_proba(x_test)[:, 1]\n",
    "calculate_auc_and_plot(y_test, y_preda)"
   ],
   "metadata": {
    "collapsed": false
   }
  },
  {
   "cell_type": "markdown",
   "source": [
    "### moved to util"
   ],
   "metadata": {
    "collapsed": false
   }
  },
  {
   "cell_type": "code",
   "execution_count": 19,
   "outputs": [
    {
     "data": {
      "text/plain": "            CDR3_alfa       TRAV    TRAJ            CDR3_beta      TRBV  \\\n5856              NaN        NaN     NaN  CASSYFRRLPGQVFYEQYF   TRBV6-2   \n6541  CAENMGGGSQGNLIF   TRAV13-2  TRAJ42        CASSDRSGNTIYF    TRBV19   \n7663  CAGAHGSSNTGKLIF     TRAV27  TRAJ37        CASSIRSAYEQYF    TRBV19   \n5678    CAMRERGNEKLTF  TRAV14DV4  TRAJ48         CASSLYQETQYF   TRBV7-8   \n4329              NaN        NaN     NaN    CASSGRQGGLLWETQYF  TRBV25-1   \n\n         TRBJ  reaction  \n5856  TRBJ2-7         1  \n6541  TRBJ1-3         1  \n7663  TRBJ2-7         1  \n5678  TRBJ2-5         0  \n4329  TRBJ2-5         0  ",
      "text/html": "<div>\n<style scoped>\n    .dataframe tbody tr th:only-of-type {\n        vertical-align: middle;\n    }\n\n    .dataframe tbody tr th {\n        vertical-align: top;\n    }\n\n    .dataframe thead th {\n        text-align: right;\n    }\n</style>\n<table border=\"1\" class=\"dataframe\">\n  <thead>\n    <tr style=\"text-align: right;\">\n      <th></th>\n      <th>CDR3_alfa</th>\n      <th>TRAV</th>\n      <th>TRAJ</th>\n      <th>CDR3_beta</th>\n      <th>TRBV</th>\n      <th>TRBJ</th>\n      <th>reaction</th>\n    </tr>\n  </thead>\n  <tbody>\n    <tr>\n      <th>5856</th>\n      <td>NaN</td>\n      <td>NaN</td>\n      <td>NaN</td>\n      <td>CASSYFRRLPGQVFYEQYF</td>\n      <td>TRBV6-2</td>\n      <td>TRBJ2-7</td>\n      <td>1</td>\n    </tr>\n    <tr>\n      <th>6541</th>\n      <td>CAENMGGGSQGNLIF</td>\n      <td>TRAV13-2</td>\n      <td>TRAJ42</td>\n      <td>CASSDRSGNTIYF</td>\n      <td>TRBV19</td>\n      <td>TRBJ1-3</td>\n      <td>1</td>\n    </tr>\n    <tr>\n      <th>7663</th>\n      <td>CAGAHGSSNTGKLIF</td>\n      <td>TRAV27</td>\n      <td>TRAJ37</td>\n      <td>CASSIRSAYEQYF</td>\n      <td>TRBV19</td>\n      <td>TRBJ2-7</td>\n      <td>1</td>\n    </tr>\n    <tr>\n      <th>5678</th>\n      <td>CAMRERGNEKLTF</td>\n      <td>TRAV14DV4</td>\n      <td>TRAJ48</td>\n      <td>CASSLYQETQYF</td>\n      <td>TRBV7-8</td>\n      <td>TRBJ2-5</td>\n      <td>0</td>\n    </tr>\n    <tr>\n      <th>4329</th>\n      <td>NaN</td>\n      <td>NaN</td>\n      <td>NaN</td>\n      <td>CASSGRQGGLLWETQYF</td>\n      <td>TRBV25-1</td>\n      <td>TRBJ2-5</td>\n      <td>0</td>\n    </tr>\n  </tbody>\n</table>\n</div>"
     },
     "execution_count": 19,
     "metadata": {},
     "output_type": "execute_result"
    }
   ],
   "source": [
    "from util import get_train_dataset, get_features, fix_test, calculate_auc_and_plot, KNNString, multi_lev\n",
    "from sklearn.model_selection import train_test_split\n",
    "\n",
    "df = get_train_dataset()\n",
    "df = df.sample(n=500)\n",
    "df_train, df_test = train_test_split(df, test_size=0.2, random_state=42)\n",
    "df_train.head()"
   ],
   "metadata": {
    "collapsed": false
   }
  },
  {
   "cell_type": "code",
   "execution_count": 20,
   "outputs": [],
   "source": [
    "x = df_train[['CDR3_alfa', 'CDR3_beta']]\n",
    "y = df_train['reaction']\n",
    "\n",
    "x_test = df_test[['CDR3_alfa', 'CDR3_beta']]\n",
    "y_test = df_test['reaction']"
   ],
   "metadata": {
    "collapsed": false
   }
  },
  {
   "cell_type": "code",
   "execution_count": 21,
   "outputs": [
    {
     "data": {
      "text/plain": "<Figure size 432x288 with 1 Axes>",
      "image/png": "[encoded data removed]"
     },
     "metadata": {
      "needs_background": "light"
     },
     "output_type": "display_data"
    },
    {
     "data": {
      "text/plain": "0.7035024154589371"
     },
     "execution_count": 21,
     "metadata": {},
     "output_type": "execute_result"
    }
   ],
   "source": [
    "clf = KNNString(k=5, metric=multi_lev, metric_kwargs={'nan_distance': 0})\n",
    "clf.fit(x, y)\n",
    "y_preda = clf.predict_proba(x_test)[:, 1]\n",
    "calculate_auc_and_plot(y_test, y_preda)"
   ],
   "metadata": {
    "collapsed": false
   }
  },
  {
   "cell_type": "code",
   "execution_count": 22,
   "outputs": [
    {
     "data": {
      "text/plain": "<Figure size 432x288 with 1 Axes>",
      "image/png": "[encoded data removed]"
     },
     "metadata": {
      "needs_background": "light"
     },
     "output_type": "display_data"
    },
    {
     "data": {
      "text/plain": "0.7727455716586152"
     },
     "execution_count": 22,
     "metadata": {},
     "output_type": "execute_result"
    }
   ],
   "source": [
    "clf = KNNString(k=5, metric=multi_lev, metric_kwargs={'nan_distance': 10000})\n",
    "clf.fit(x, y)\n",
    "y_preda = clf.predict_proba(x_test)[:, 1]\n",
    "calculate_auc_and_plot(y_test, y_preda)"
   ],
   "metadata": {
    "collapsed": false
   }
  },
  {
   "cell_type": "code",
   "execution_count": 23,
   "outputs": [],
   "source": [
    "import pandas as pd\n",
    "\n",
    "# drop nan's from x and y\n",
    "xy = pd.concat([x, y], axis=1)\n",
    "xy.dropna(inplace=True)\n",
    "x = xy[['CDR3_alfa', 'CDR3_beta']]\n",
    "y = xy['reaction']"
   ],
   "metadata": {
    "collapsed": false
   }
  },
  {
   "cell_type": "code",
   "execution_count": 24,
   "outputs": [
    {
     "data": {
      "text/plain": "<Figure size 432x288 with 1 Axes>",
      "image/png": "[encoded data removed]"
     },
     "metadata": {
      "needs_background": "light"
     },
     "output_type": "display_data"
    },
    {
     "data": {
      "text/plain": "0.8258856682769725"
     },
     "execution_count": 24,
     "metadata": {},
     "output_type": "execute_result"
    }
   ],
   "source": [
    "clf = KNNString(k=5, metric=multi_lev)\n",
    "clf.fit(x, y)\n",
    "y_preda = clf.predict_proba(x_test)[:, 1]\n",
    "calculate_auc_and_plot(y_test, y_preda)"
   ],
   "metadata": {
    "collapsed": false
   }
  },
  {
   "cell_type": "code",
   "execution_count": null,
   "outputs": [],
   "source": [],
   "metadata": {
    "collapsed": false
   }
  }
 ],
 "metadata": {
  "kernelspec": {
   "display_name": "Python 3 (ipykernel)",
   "language": "python",
   "name": "python3"
  },
  "language_info": {
   "codemirror_mode": {
    "name": "ipython",
    "version": 3
   },
   "file_extension": ".py",
   "mimetype": "text/x-python",
   "name": "python",
   "nbconvert_exporter": "python",
   "pygments_lexer": "ipython3",
   "version": "3.9.7"
  }
 },
 "nbformat": 4,
 "nbformat_minor": 1
}
