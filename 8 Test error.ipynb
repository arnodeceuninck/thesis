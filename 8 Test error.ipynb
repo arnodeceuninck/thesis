{
 "cells": [
  {
   "cell_type": "markdown",
   "metadata": {
    "pycharm": {
     "name": "#%% md\n"
    }
   },
   "source": [
    "# Test Error\n",
    "Here, I try to see what causes the get_features without test=True error."
   ]
  },
  {
   "cell_type": "code",
   "execution_count": 49,
   "metadata": {
    "pycharm": {
     "name": "#%%\n"
    }
   },
   "outputs": [],
   "source": [
    "from sklearn.model_selection import train_test_split\n",
    "from util import get_train_dataset, get_features, fix_test\n",
    "\n",
    "df = get_train_dataset()\n",
    "df = df.sample(n=1000)\n",
    "df_train, df_test = train_test_split(df, test_size=0.2, random_state=42)\n",
    "\n",
    "x = get_features(df_train)\n",
    "y = df_train['reaction']"
   ]
  },
  {
   "cell_type": "code",
   "execution_count": 50,
   "outputs": [
    {
     "name": "stderr",
     "output_type": "stream",
     "text": [
      "C:\\Users\\arnod\\PycharmProjects\\thesis\\util\\classification.py:32: PerformanceWarning: DataFrame is highly fragmented.  This is usually the result of calling `frame.insert` many times, which has poor performance.  Consider joining all columns at once using pd.concat(axis=1) instead.  To get a de-fragmented frame, use `newframe = frame.copy()`\n",
      "  x_test[col] = np.nan # TODO: NaN geven\n"
     ]
    }
   ],
   "source": [
    "x_test_temp = get_features(df_test)\n",
    "y_test = df_test['reaction']\n",
    "\n",
    "x_test = fix_test(x_test_temp.copy(), x.columns)"
   ],
   "metadata": {
    "collapsed": false,
    "pycharm": {
     "name": "#%%\n"
    }
   }
  },
  {
   "cell_type": "code",
   "execution_count": 51,
   "outputs": [],
   "source": [
    "# Doing this again to reset the one hot encoder (and not use the test version)\n",
    "x_t = get_features(df_train)\n",
    "y_t = df_train['reaction']\n",
    "\n",
    "x_test_temp_t = get_features(df_test, test=True)\n",
    "y_test_t = df_test['reaction']\n",
    "\n",
    "x_test_t = fix_test(x_test_temp_t.copy(), x.columns)"
   ],
   "metadata": {
    "collapsed": false,
    "pycharm": {
     "name": "#%%\n"
    }
   }
  },
  {
   "cell_type": "code",
   "execution_count": 52,
   "outputs": [],
   "source": [
    "# assert x_test_temp_t.equals(x_test_temp) # Those don't need to be equal, since the hot encoder might have introduced new columns, which get removed by fix_test\n",
    "\n",
    "# check if the columns are the same\n",
    "assert list(x_test_t.columns) == list(x_test.columns)"
   ],
   "metadata": {
    "collapsed": false,
    "pycharm": {
     "name": "#%%\n"
    }
   }
  },
  {
   "cell_type": "code",
   "execution_count": 53,
   "outputs": [
    {
     "data": {
      "text/plain": "['beta_J',\n 'beta_J=TRAJ10',\n 'beta_J=TRAJ11',\n 'beta_J=TRAJ11*01',\n 'beta_J=TRAJ12',\n 'beta_J=TRAJ13',\n 'beta_J=TRAJ13*01',\n 'beta_J=TRAJ15',\n 'beta_J=TRAJ16',\n 'beta_J=TRAJ17',\n 'beta_J=TRAJ18',\n 'beta_J=TRAJ18*01',\n 'beta_J=TRAJ20',\n 'beta_J=TRAJ21',\n 'beta_J=TRAJ21*01',\n 'beta_J=TRAJ22',\n 'beta_J=TRAJ22*01',\n 'beta_J=TRAJ23',\n 'beta_J=TRAJ23*01',\n 'beta_J=TRAJ24',\n 'beta_J=TRAJ25',\n 'beta_J=TRAJ26',\n 'beta_J=TRAJ26*01',\n 'beta_J=TRAJ27',\n 'beta_J=TRAJ27*01',\n 'beta_J=TRAJ28',\n 'beta_J=TRAJ28*01',\n 'beta_J=TRAJ29*01',\n 'beta_J=TRAJ3',\n 'beta_J=TRAJ30',\n 'beta_J=TRAJ30*01',\n 'beta_J=TRAJ31',\n 'beta_J=TRAJ31*01',\n 'beta_J=TRAJ32',\n 'beta_J=TRAJ32*01',\n 'beta_J=TRAJ33*01',\n 'beta_J=TRAJ34',\n 'beta_J=TRAJ34*01',\n 'beta_J=TRAJ36',\n 'beta_J=TRAJ36*01',\n 'beta_J=TRAJ37',\n 'beta_J=TRAJ37*01',\n 'beta_J=TRAJ38*01',\n 'beta_J=TRAJ39',\n 'beta_J=TRAJ4',\n 'beta_J=TRAJ40',\n 'beta_J=TRAJ40*01',\n 'beta_J=TRAJ41',\n 'beta_J=TRAJ42',\n 'beta_J=TRAJ42*01',\n 'beta_J=TRAJ43',\n 'beta_J=TRAJ43*01',\n 'beta_J=TRAJ44',\n 'beta_J=TRAJ44*01',\n 'beta_J=TRAJ45',\n 'beta_J=TRAJ45*01',\n 'beta_J=TRAJ46',\n 'beta_J=TRAJ46*01',\n 'beta_J=TRAJ47',\n 'beta_J=TRAJ48',\n 'beta_J=TRAJ49',\n 'beta_J=TRAJ49*01',\n 'beta_J=TRAJ5',\n 'beta_J=TRAJ52',\n 'beta_J=TRAJ52*01',\n 'beta_J=TRAJ53',\n 'beta_J=TRAJ54',\n 'beta_J=TRAJ54*01',\n 'beta_J=TRAJ57',\n 'beta_J=TRAJ58',\n 'beta_J=TRAJ6',\n 'beta_J=TRAJ6*01',\n 'beta_J=TRAJ7',\n 'beta_J=TRAJ8',\n 'beta_J=TRAJ8*01',\n 'beta_J=TRAJ9',\n 'beta_V',\n 'beta_V=TRAV1-1',\n 'beta_V=TRAV1-1*01',\n 'beta_V=TRAV1-2',\n 'beta_V=TRAV1-2*01',\n 'beta_V=TRAV10',\n 'beta_V=TRAV12-1',\n 'beta_V=TRAV12-1*01',\n 'beta_V=TRAV12-2',\n 'beta_V=TRAV12-2*01',\n 'beta_V=TRAV12-3',\n 'beta_V=TRAV12-3*01',\n 'beta_V=TRAV13-1',\n 'beta_V=TRAV13-1*01',\n 'beta_V=TRAV13-2',\n 'beta_V=TRAV13-2*01',\n 'beta_V=TRAV14/DV4*01',\n 'beta_V=TRAV14/DV4*02',\n 'beta_V=TRAV16',\n 'beta_V=TRAV16*01',\n 'beta_V=TRAV17',\n 'beta_V=TRAV17*01',\n 'beta_V=TRAV19',\n 'beta_V=TRAV19*01',\n 'beta_V=TRAV2',\n 'beta_V=TRAV20',\n 'beta_V=TRAV21',\n 'beta_V=TRAV21*01',\n 'beta_V=TRAV22',\n 'beta_V=TRAV22*01',\n 'beta_V=TRAV23/DV6*01',\n 'beta_V=TRAV23DV6',\n 'beta_V=TRAV24',\n 'beta_V=TRAV24*01',\n 'beta_V=TRAV25',\n 'beta_V=TRAV25*01',\n 'beta_V=TRAV26-1',\n 'beta_V=TRAV26-2',\n 'beta_V=TRAV26-2*01',\n 'beta_V=TRAV27',\n 'beta_V=TRAV27*01',\n 'beta_V=TRAV29/DV5*01',\n 'beta_V=TRAV29DV5',\n 'beta_V=TRAV3',\n 'beta_V=TRAV3*01',\n 'beta_V=TRAV30',\n 'beta_V=TRAV30*01',\n 'beta_V=TRAV35',\n 'beta_V=TRAV35*01',\n 'beta_V=TRAV36DV7',\n 'beta_V=TRAV38-1',\n 'beta_V=TRAV38-1*01',\n 'beta_V=TRAV38-2/DV8*01',\n 'beta_V=TRAV38-2DV8',\n 'beta_V=TRAV39',\n 'beta_V=TRAV39*01',\n 'beta_V=TRAV4',\n 'beta_V=TRAV4*01',\n 'beta_V=TRAV40*01',\n 'beta_V=TRAV41',\n 'beta_V=TRAV5',\n 'beta_V=TRAV5*01',\n 'beta_V=TRAV6*01',\n 'beta_V=TRAV8-1*01',\n 'beta_V=TRAV8-2*01',\n 'beta_V=TRAV8-3',\n 'beta_V=TRAV8-3*01',\n 'beta_V=TRAV8-4',\n 'beta_V=TRAV8-4*01',\n 'beta_V=TRAV8-6',\n 'beta_V=TRAV8-6*01',\n 'beta_V=TRAV9-2',\n 'beta_V=TRDV1',\n 'alfa_J=TRAJ10',\n 'alfa_J=TRAJ13',\n 'alfa_J=TRAJ13*01',\n 'alfa_J=TRAJ15',\n 'alfa_J=TRAJ17',\n 'alfa_J=TRAJ18',\n 'alfa_J=TRAJ18*01',\n 'alfa_J=TRAJ21*01',\n 'alfa_J=TRAJ22*01',\n 'alfa_J=TRAJ23',\n 'alfa_J=TRAJ23*01',\n 'alfa_J=TRAJ25',\n 'alfa_J=TRAJ26*01',\n 'alfa_J=TRAJ27*01',\n 'alfa_J=TRAJ28*01',\n 'alfa_J=TRAJ29*01',\n 'alfa_J=TRAJ3',\n 'alfa_J=TRAJ30*01',\n 'alfa_J=TRAJ31',\n 'alfa_J=TRAJ31*01',\n 'alfa_J=TRAJ33*01',\n 'alfa_J=TRAJ34*01',\n 'alfa_J=TRAJ37',\n 'alfa_J=TRAJ38*01',\n 'alfa_J=TRAJ4',\n 'alfa_J=TRAJ40*01',\n 'alfa_J=TRAJ43*01',\n 'alfa_J=TRAJ44',\n 'alfa_J=TRAJ44*01',\n 'alfa_J=TRAJ46',\n 'alfa_J=TRAJ46*01',\n 'alfa_J=TRAJ48',\n 'alfa_J=TRAJ5',\n 'alfa_J=TRAJ54*01',\n 'alfa_J=TRAJ57',\n 'alfa_J=TRAJ58',\n 'alfa_J=TRAJ8*01',\n 'alfa_V=TRAV1-1*01',\n 'alfa_V=TRAV1-2*01',\n 'alfa_V=TRAV10',\n 'alfa_V=TRAV12-1',\n 'alfa_V=TRAV12-1*01',\n 'alfa_V=TRAV12-2',\n 'alfa_V=TRAV12-2*01',\n 'alfa_V=TRAV12-3*01',\n 'alfa_V=TRAV14/DV4*02',\n 'alfa_V=TRAV16',\n 'alfa_V=TRAV19*01',\n 'alfa_V=TRAV2',\n 'alfa_V=TRAV20',\n 'alfa_V=TRAV21*01',\n 'alfa_V=TRAV22',\n 'alfa_V=TRAV22*01',\n 'alfa_V=TRAV23/DV6*01',\n 'alfa_V=TRAV24',\n 'alfa_V=TRAV26-2',\n 'alfa_V=TRAV26-2*01',\n 'alfa_V=TRAV29/DV5*01',\n 'alfa_V=TRAV30',\n 'alfa_V=TRAV35',\n 'alfa_V=TRAV36DV7',\n 'alfa_V=TRAV38-2/DV8*01',\n 'alfa_V=TRAV39',\n 'alfa_V=TRAV39*01',\n 'alfa_V=TRAV4*01',\n 'alfa_V=TRAV40*01',\n 'alfa_V=TRAV41',\n 'alfa_V=TRAV5*01',\n 'alfa_V=TRAV8-2*01',\n 'alfa_V=TRAV8-3*01']"
     },
     "execution_count": 53,
     "metadata": {},
     "output_type": "execute_result"
    }
   ],
   "source": [
    "# Get the columns in x_test_temp_t, which are not in x_test_temp\n",
    "[x for x in x_test_temp_t.columns if x not in x_test_temp.columns]"
   ],
   "metadata": {
    "collapsed": false,
    "pycharm": {
     "name": "#%%\n"
    }
   }
  },
  {
   "cell_type": "code",
   "execution_count": 54,
   "outputs": [
    {
     "data": {
      "text/plain": "['beta_J=TRBJ1-1',\n 'beta_J=TRBJ1-1*01',\n 'beta_J=TRBJ1-2',\n 'beta_J=TRBJ1-2*01',\n 'beta_J=TRBJ1-3',\n 'beta_J=TRBJ1-3*01',\n 'beta_J=TRBJ1-4',\n 'beta_J=TRBJ1-4*01',\n 'beta_J=TRBJ1-5',\n 'beta_J=TRBJ1-5*01',\n 'beta_J=TRBJ1-6',\n 'beta_J=TRBJ1-6*01',\n 'beta_J=TRBJ2-1',\n 'beta_J=TRBJ2-1*01',\n 'beta_J=TRBJ2-2',\n 'beta_J=TRBJ2-2*01',\n 'beta_J=TRBJ2-3',\n 'beta_J=TRBJ2-3*01',\n 'beta_J=TRBJ2-4',\n 'beta_J=TRBJ2-4*01',\n 'beta_J=TRBJ2-5',\n 'beta_J=TRBJ2-5*01',\n 'beta_J=TRBJ2-6*01',\n 'beta_J=TRBJ2-7',\n 'beta_J=TRBJ2-7*01',\n 'beta_V=TRBV10-1*01',\n 'beta_V=TRBV10-3',\n 'beta_V=TRBV11-1',\n 'beta_V=TRBV11-2',\n 'beta_V=TRBV11-2*01',\n 'beta_V=TRBV11-3',\n 'beta_V=TRBV12-3',\n 'beta_V=TRBV12-4',\n 'beta_V=TRBV12-5',\n 'beta_V=TRBV13',\n 'beta_V=TRBV14',\n 'beta_V=TRBV14*01',\n 'beta_V=TRBV15',\n 'beta_V=TRBV15*01',\n 'beta_V=TRBV18*01',\n 'beta_V=TRBV19',\n 'beta_V=TRBV19*01',\n 'beta_V=TRBV19*02',\n 'beta_V=TRBV2',\n 'beta_V=TRBV20-1',\n 'beta_V=TRBV20-1*01',\n 'beta_V=TRBV23-1',\n 'beta_V=TRBV24-1',\n 'beta_V=TRBV27',\n 'beta_V=TRBV27*01',\n 'beta_V=TRBV28',\n 'beta_V=TRBV29-1',\n 'beta_V=TRBV3-1',\n 'beta_V=TRBV4-1',\n 'beta_V=TRBV4-1*01',\n 'beta_V=TRBV4-2',\n 'beta_V=TRBV4-2*01',\n 'beta_V=TRBV4-3',\n 'beta_V=TRBV5-1',\n 'beta_V=TRBV5-4',\n 'beta_V=TRBV5-5',\n 'beta_V=TRBV5-6',\n 'beta_V=TRBV5-6*01',\n 'beta_V=TRBV6-2',\n 'beta_V=TRBV6-5',\n 'beta_V=TRBV6-5*01',\n 'beta_V=TRBV7-2',\n 'beta_V=TRBV7-2*01',\n 'beta_V=TRBV7-3',\n 'beta_V=TRBV7-6',\n 'beta_V=TRBV7-8',\n 'beta_V=TRBV7-9',\n 'beta_V=TRBV9',\n 'beta_V=TRBV9*01',\n 'alfa_J=TRAJ29',\n 'alfa_J=TRAJ41*01',\n 'alfa_J=TRAJ48*01',\n 'alfa_J=TRAJ50',\n 'alfa_J=TRAJ50*01',\n 'alfa_V=TRAV14DV4',\n 'alfa_V=TRAV20*01',\n 'alfa_V=TRAV26-1*01',\n 'alfa_V=TRAV6',\n 'alfa_V=TRAV8-2']"
     },
     "execution_count": 54,
     "metadata": {},
     "output_type": "execute_result"
    }
   ],
   "source": [
    "# Get the columns in x_test_temp, which are not in x_test_temp_t\n",
    "[x for x in x_test_temp.columns if x not in x_test_temp_t.columns]"
   ],
   "metadata": {
    "collapsed": false,
    "pycharm": {
     "name": "#%%\n"
    }
   }
  },
  {
   "cell_type": "code",
   "execution_count": 55,
   "outputs": [
    {
     "data": {
      "text/plain": "False"
     },
     "execution_count": 55,
     "metadata": {},
     "output_type": "execute_result"
    }
   ],
   "source": [
    "x_test.equals(x_test_t)"
   ],
   "metadata": {
    "collapsed": false,
    "pycharm": {
     "name": "#%%\n"
    }
   }
  },
  {
   "cell_type": "code",
   "execution_count": 56,
   "outputs": [],
   "source": [
    "import numpy as np\n",
    "# Problem probably is in the fix_test function, so let's take a closer look there\n",
    "def fix_test(x_test, train_columns):\n",
    "    # x_test.fillna(0, inplace=True)\n",
    "    for col in train_columns:\n",
    "        if col not in x_test.columns:\n",
    "            x_test[col] = np.nan # TODO: NaN geven\n",
    "    # remove all columns from x_test that are not in x\n",
    "    x_test = x_test[train_columns]\n",
    "    return x_test"
   ],
   "metadata": {
    "collapsed": false,
    "pycharm": {
     "name": "#%%\n"
    }
   }
  },
  {
   "cell_type": "code",
   "execution_count": 75,
   "outputs": [],
   "source": [
    "def fix_test_2(x_test, x_test_t, train_columns):\n",
    "    new_x_test_columns = []\n",
    "    new_x_test_t_columns = []\n",
    "    both_counter = 0\n",
    "    only_x_test_counter = 0\n",
    "    only_x_test_t_counter = 0\n",
    "    for col in train_columns:\n",
    "        in_x_test = col in x_test.columns\n",
    "        in_x_test_t = col in x_test_t.columns\n",
    "\n",
    "        if not in_x_test:\n",
    "            x_test[col] = np.nan\n",
    "            # print(f\"Added column {col} to x_test\")\n",
    "            new_x_test_columns.append(col)\n",
    "        if not in_x_test_t:\n",
    "            x_test_t[col] = np.nan\n",
    "            new_x_test_t_columns.append(col)\n",
    "            # print(f\"Added column {col} to x_test_t\")\n",
    "\n",
    "        if not in_x_test and not in_x_test_t:\n",
    "            both_counter += 1\n",
    "        elif not in_x_test:\n",
    "            only_x_test_counter += 1\n",
    "        elif not in_x_test_t:\n",
    "            only_x_test_t_counter += 1\n",
    "\n",
    "    print(f\"Added {both_counter} columns to both x_test and x_test_t\")\n",
    "    print(f\"Added {only_x_test_counter} columns to x_test only\")\n",
    "    print(f\"Added {only_x_test_t_counter} columns to x_test_t only\")\n",
    "\n",
    "    print(f\"New columns in x_test ({len(new_x_test_columns)})\") #: {new_x_test_columns}\")\n",
    "    print(f\"New columns in x_test_t ({len(new_x_test_t_columns)})\") #: {new_x_test_t_columns}\")\n",
    "\n",
    "    x_test = x_test[train_columns]\n",
    "    x_test_t = x_test_t[train_columns]\n",
    "\n",
    "    # assert x_test.equals(x_test_t)\n",
    "\n",
    "    return x_test, x_test_t"
   ],
   "metadata": {
    "collapsed": false,
    "pycharm": {
     "name": "#%%\n"
    }
   }
  },
  {
   "cell_type": "code",
   "execution_count": 76,
   "outputs": [
    {
     "name": "stdout",
     "output_type": "stream",
     "text": [
      "Added 152 columns to both x_test and x_test_t\n",
      "Added 70 columns to x_test only\n",
      "Added 72 columns to x_test_t only\n",
      "New columns in x_test (222)\n",
      "New columns in x_test_t (224)\n"
     ]
    },
    {
     "name": "stderr",
     "output_type": "stream",
     "text": [
      "C:\\Users\\arnod\\AppData\\Local\\Temp/ipykernel_63460/4115364047.py:16: PerformanceWarning: DataFrame is highly fragmented.  This is usually the result of calling `frame.insert` many times, which has poor performance.  Consider joining all columns at once using pd.concat(axis=1) instead.  To get a de-fragmented frame, use `newframe = frame.copy()`\n",
      "  x_test_t[col] = np.nan\n",
      "C:\\Users\\arnod\\AppData\\Local\\Temp/ipykernel_63460/4115364047.py:12: PerformanceWarning: DataFrame is highly fragmented.  This is usually the result of calling `frame.insert` many times, which has poor performance.  Consider joining all columns at once using pd.concat(axis=1) instead.  To get a de-fragmented frame, use `newframe = frame.copy()`\n",
      "  x_test[col] = np.nan\n"
     ]
    }
   ],
   "source": [
    "x_test_fixed, x_test_t_fixed = fix_test_2(x_test_temp.copy(), x_test_temp_t.copy(), x.columns)"
   ],
   "metadata": {
    "collapsed": false,
    "pycharm": {
     "name": "#%%\n"
    }
   }
  },
  {
   "cell_type": "code",
   "execution_count": 77,
   "outputs": [],
   "source": [
    "# are columns of x_test and x_test_t equal?\n",
    "assert list(x_test_fixed.columns) == list(x_test_t_fixed.columns)"
   ],
   "metadata": {
    "collapsed": false,
    "pycharm": {
     "name": "#%%\n"
    }
   }
  },
  {
   "cell_type": "code",
   "execution_count": 78,
   "outputs": [
    {
     "data": {
      "text/plain": "['beta_J=TRBJ1-1',\n 'beta_J=TRBJ1-1*01',\n 'beta_J=TRBJ1-2',\n 'beta_J=TRBJ1-2*01',\n 'beta_J=TRBJ1-3',\n 'beta_J=TRBJ1-3*01',\n 'beta_J=TRBJ1-4',\n 'beta_J=TRBJ1-4*01',\n 'beta_J=TRBJ1-5',\n 'beta_J=TRBJ1-5*01',\n 'beta_J=TRBJ1-6',\n 'beta_J=TRBJ1-6*01',\n 'beta_J=TRBJ2-1',\n 'beta_J=TRBJ2-1*01',\n 'beta_J=TRBJ2-2',\n 'beta_J=TRBJ2-2*01',\n 'beta_J=TRBJ2-3',\n 'beta_J=TRBJ2-3*01',\n 'beta_J=TRBJ2-4',\n 'beta_J=TRBJ2-4*01',\n 'beta_J=TRBJ2-5',\n 'beta_J=TRBJ2-5*01',\n 'beta_J=TRBJ2-6*01',\n 'beta_J=TRBJ2-7',\n 'beta_J=TRBJ2-7*01',\n 'beta_V=TRBV10-3',\n 'beta_V=TRBV11-1',\n 'beta_V=TRBV11-2',\n 'beta_V=TRBV11-2*01',\n 'beta_V=TRBV11-3',\n 'beta_V=TRBV12-3',\n 'beta_V=TRBV12-4',\n 'beta_V=TRBV12-5',\n 'beta_V=TRBV13',\n 'beta_V=TRBV14',\n 'beta_V=TRBV14*01',\n 'beta_V=TRBV15',\n 'beta_V=TRBV15*01',\n 'beta_V=TRBV19',\n 'beta_V=TRBV19*01',\n 'beta_V=TRBV19*02',\n 'beta_V=TRBV2',\n 'beta_V=TRBV20-1',\n 'beta_V=TRBV20-1*01',\n 'beta_V=TRBV23-1',\n 'beta_V=TRBV24-1',\n 'beta_V=TRBV27',\n 'beta_V=TRBV27*01',\n 'beta_V=TRBV28',\n 'beta_V=TRBV29-1',\n 'beta_V=TRBV3-1',\n 'beta_V=TRBV4-1',\n 'beta_V=TRBV4-1*01',\n 'beta_V=TRBV4-2',\n 'beta_V=TRBV4-2*01',\n 'beta_V=TRBV4-3',\n 'beta_V=TRBV5-1',\n 'beta_V=TRBV5-4',\n 'beta_V=TRBV5-5',\n 'beta_V=TRBV5-6',\n 'beta_V=TRBV5-6*01',\n 'beta_V=TRBV6-2',\n 'beta_V=TRBV6-5',\n 'beta_V=TRBV6-5*01',\n 'beta_V=TRBV7-2',\n 'beta_V=TRBV7-2*01',\n 'beta_V=TRBV7-3',\n 'beta_V=TRBV7-6',\n 'beta_V=TRBV7-8',\n 'beta_V=TRBV7-9',\n 'beta_V=TRBV9',\n 'beta_V=TRBV9*01',\n 'alfa_J=TRAJ10',\n 'alfa_J=TRAJ13',\n 'alfa_J=TRAJ13*01',\n 'alfa_J=TRAJ15',\n 'alfa_J=TRAJ17',\n 'alfa_J=TRAJ18',\n 'alfa_J=TRAJ18*01',\n 'alfa_J=TRAJ21*01',\n 'alfa_J=TRAJ22*01',\n 'alfa_J=TRAJ23',\n 'alfa_J=TRAJ23*01',\n 'alfa_J=TRAJ25',\n 'alfa_J=TRAJ26*01',\n 'alfa_J=TRAJ27*01',\n 'alfa_J=TRAJ28*01',\n 'alfa_J=TRAJ29*01',\n 'alfa_J=TRAJ3',\n 'alfa_J=TRAJ30*01',\n 'alfa_J=TRAJ31',\n 'alfa_J=TRAJ31*01',\n 'alfa_J=TRAJ33*01',\n 'alfa_J=TRAJ34*01',\n 'alfa_J=TRAJ37',\n 'alfa_J=TRAJ38*01',\n 'alfa_J=TRAJ4',\n 'alfa_J=TRAJ40*01',\n 'alfa_J=TRAJ43*01',\n 'alfa_J=TRAJ44',\n 'alfa_J=TRAJ44*01',\n 'alfa_J=TRAJ46',\n 'alfa_J=TRAJ46*01',\n 'alfa_J=TRAJ48',\n 'alfa_J=TRAJ5',\n 'alfa_J=TRAJ54*01',\n 'alfa_J=TRAJ57',\n 'alfa_J=TRAJ58',\n 'alfa_J=TRAJ8*01',\n 'alfa_V=TRAV1-1*01',\n 'alfa_V=TRAV1-2*01',\n 'alfa_V=TRAV10',\n 'alfa_V=TRAV12-1',\n 'alfa_V=TRAV12-1*01',\n 'alfa_V=TRAV12-2',\n 'alfa_V=TRAV12-2*01',\n 'alfa_V=TRAV12-3*01',\n 'alfa_V=TRAV14/DV4*02',\n 'alfa_V=TRAV16',\n 'alfa_V=TRAV19*01',\n 'alfa_V=TRAV2',\n 'alfa_V=TRAV20',\n 'alfa_V=TRAV21*01',\n 'alfa_V=TRAV22',\n 'alfa_V=TRAV22*01',\n 'alfa_V=TRAV23/DV6*01',\n 'alfa_V=TRAV24',\n 'alfa_V=TRAV26-2',\n 'alfa_V=TRAV26-2*01',\n 'alfa_V=TRAV29/DV5*01',\n 'alfa_V=TRAV30',\n 'alfa_V=TRAV35',\n 'alfa_V=TRAV36DV7',\n 'alfa_V=TRAV38-2/DV8*01',\n 'alfa_V=TRAV39',\n 'alfa_V=TRAV39*01',\n 'alfa_V=TRAV4*01',\n 'alfa_V=TRAV40*01',\n 'alfa_V=TRAV41',\n 'alfa_V=TRAV5*01',\n 'alfa_V=TRAV8-2*01',\n 'alfa_V=TRAV8-3*01']"
     },
     "execution_count": 78,
     "metadata": {},
     "output_type": "execute_result"
    }
   ],
   "source": [
    "# get the columns of which the values are not equal\n",
    "[x for x in x_test_fixed.columns if not x_test_fixed[x].equals(x_test_t_fixed[x])]"
   ],
   "metadata": {
    "collapsed": false,
    "pycharm": {
     "name": "#%%\n"
    }
   }
  },
  {
   "cell_type": "code",
   "execution_count": 79,
   "outputs": [],
   "source": [
    "import pandas as pd\n",
    "column = \"beta_J=TRBJ1-1\"\n",
    "\n",
    "column_x = x_test_fixed[column]\n",
    "column_x_t = x_test_t_fixed[column]\n",
    "\n",
    "# add them to one dataframee with header names \"x\" and \"x_t\"\n",
    "df = pd.DataFrame({f\"{column} (test=False)\": column_x, f\"{column}_t (test=True)\": column_x_t})"
   ],
   "metadata": {
    "collapsed": false,
    "pycharm": {
     "name": "#%%\n"
    }
   }
  },
  {
   "cell_type": "code",
   "execution_count": 80,
   "outputs": [
    {
     "data": {
      "text/plain": "     beta_J=TRBJ1-1 (test=False)  beta_J=TRBJ1-1_t (test=True)\n0                            0.0                           NaN\n1                            0.0                           NaN\n2                            0.0                           NaN\n3                            0.0                           NaN\n4                            0.0                           NaN\n..                           ...                           ...\n195                          0.0                           NaN\n196                          0.0                           NaN\n197                          0.0                           NaN\n198                          0.0                           NaN\n199                          0.0                           NaN\n\n[200 rows x 2 columns]",
      "text/html": "<div>\n<style scoped>\n    .dataframe tbody tr th:only-of-type {\n        vertical-align: middle;\n    }\n\n    .dataframe tbody tr th {\n        vertical-align: top;\n    }\n\n    .dataframe thead th {\n        text-align: right;\n    }\n</style>\n<table border=\"1\" class=\"dataframe\">\n  <thead>\n    <tr style=\"text-align: right;\">\n      <th></th>\n      <th>beta_J=TRBJ1-1 (test=False)</th>\n      <th>beta_J=TRBJ1-1_t (test=True)</th>\n    </tr>\n  </thead>\n  <tbody>\n    <tr>\n      <th>0</th>\n      <td>0.0</td>\n      <td>NaN</td>\n    </tr>\n    <tr>\n      <th>1</th>\n      <td>0.0</td>\n      <td>NaN</td>\n    </tr>\n    <tr>\n      <th>2</th>\n      <td>0.0</td>\n      <td>NaN</td>\n    </tr>\n    <tr>\n      <th>3</th>\n      <td>0.0</td>\n      <td>NaN</td>\n    </tr>\n    <tr>\n      <th>4</th>\n      <td>0.0</td>\n      <td>NaN</td>\n    </tr>\n    <tr>\n      <th>...</th>\n      <td>...</td>\n      <td>...</td>\n    </tr>\n    <tr>\n      <th>195</th>\n      <td>0.0</td>\n      <td>NaN</td>\n    </tr>\n    <tr>\n      <th>196</th>\n      <td>0.0</td>\n      <td>NaN</td>\n    </tr>\n    <tr>\n      <th>197</th>\n      <td>0.0</td>\n      <td>NaN</td>\n    </tr>\n    <tr>\n      <th>198</th>\n      <td>0.0</td>\n      <td>NaN</td>\n    </tr>\n    <tr>\n      <th>199</th>\n      <td>0.0</td>\n      <td>NaN</td>\n    </tr>\n  </tbody>\n</table>\n<p>200 rows × 2 columns</p>\n</div>"
     },
     "execution_count": 80,
     "metadata": {},
     "output_type": "execute_result"
    }
   ],
   "source": [
    "df"
   ],
   "metadata": {
    "collapsed": false,
    "pycharm": {
     "name": "#%%\n"
    }
   }
  },
  {
   "cell_type": "code",
   "execution_count": null,
   "outputs": [],
   "source": [
    "# with test=False, the values where assigned using the one hot encoder, however since they are still in the final dataframe, they must also be in the train columns, and thus would you expect the one hot encoder to also assign values to them in the test=True case"
   ],
   "metadata": {
    "collapsed": false,
    "pycharm": {
     "name": "#%%\n"
    }
   }
  },
  {
   "cell_type": "code",
   "execution_count": null,
   "outputs": [],
   "source": [
    "# maybe the onehotencoder only encodes the features containing different values in the train set (and thus won't get encoded if they are not in the test set)\n",
    "# parameter min_frequency to None or 0 should fix this, but this is the default value, so can't be the case"
   ],
   "metadata": {
    "collapsed": false,
    "pycharm": {
     "name": "#%%\n"
    }
   }
  },
  {
   "cell_type": "code",
   "execution_count": 105,
   "outputs": [
    {
     "name": "stdout",
     "output_type": "stream",
     "text": [
      "Encoder fitted\n"
     ]
    }
   ],
   "source": [
    "# Take a closer look at the one hot encoder\n",
    "from sklearn import feature_extraction\n",
    "import pandas as pd\n",
    "\n",
    "ONEHOT_ENCODER = feature_extraction.DictVectorizer(sparse=False)\n",
    "\n",
    "def onehot_encode(df, test=False):\n",
    "    # One hot encode the columns (creates a new column per unique value here and fills it with 1 or 0)\n",
    "    onehot_cols = ['TRBV', 'TRBJ'] # changed\n",
    "    if not test:\n",
    "        encodings = ONEHOT_ENCODER.fit_transform(df[onehot_cols].to_dict(orient='records'))\n",
    "        print(\"Encoder fitted\")\n",
    "    else:\n",
    "        encodings = ONEHOT_ENCODER.transform(df[onehot_cols].to_dict(orient='records'))\n",
    "        print(\"Only transformed\")\n",
    "    onehot_df = pd.DataFrame(encodings, columns=ONEHOT_ENCODER.get_feature_names_out())\n",
    "    return onehot_df\n",
    "\n",
    "train = onehot_encode(df_train).head() # reset the ONEHOT_ENCODER to the train columns"
   ],
   "metadata": {
    "collapsed": false,
    "pycharm": {
     "name": "#%%\n"
    }
   }
  },
  {
   "cell_type": "code",
   "execution_count": 106,
   "outputs": [
    {
     "name": "stdout",
     "output_type": "stream",
     "text": [
      "Only transformed\n"
     ]
    }
   ],
   "source": [
    "test_true = onehot_encode(df_test, test=True).head()"
   ],
   "metadata": {
    "collapsed": false,
    "pycharm": {
     "name": "#%%\n"
    }
   }
  },
  {
   "cell_type": "code",
   "execution_count": 107,
   "outputs": [
    {
     "name": "stdout",
     "output_type": "stream",
     "text": [
      "Encoder fitted\n"
     ]
    }
   ],
   "source": [
    "test_false = onehot_encode(df_test).head()"
   ],
   "metadata": {
    "collapsed": false,
    "pycharm": {
     "name": "#%%\n"
    }
   }
  },
  {
   "cell_type": "code",
   "execution_count": 108,
   "outputs": [
    {
     "data": {
      "text/plain": "False"
     },
     "execution_count": 108,
     "metadata": {},
     "output_type": "execute_result"
    }
   ],
   "source": [
    "test_true.equals(test_false)"
   ],
   "metadata": {
    "collapsed": false,
    "pycharm": {
     "name": "#%%\n"
    }
   }
  },
  {
   "cell_type": "code",
   "execution_count": 109,
   "outputs": [
    {
     "name": "stdout",
     "output_type": "stream",
     "text": [
      "Column TRBJ=TRBJ2-6 not in test_false\n",
      "Column TRBV=TRBV10-2 not in test_false\n",
      "Column TRBV=TRBV10-2*01 not in test_false\n",
      "Column TRBV=TRBV12-3*01 not in test_false\n",
      "Column TRBV=TRBV12-4*01 not in test_false\n",
      "Column TRBV=TRBV13*01 not in test_false\n",
      "Column TRBV=TRBV18 not in test_false\n",
      "Column TRBV=TRBV2*01 not in test_false\n",
      "Column TRBV=TRBV24-1*01 not in test_false\n",
      "Column TRBV=TRBV25-1 not in test_false\n",
      "Column TRBV=TRBV25-1*01 not in test_false\n",
      "Column TRBV=TRBV28*01 not in test_false\n",
      "Column TRBV=TRBV29-1*01 not in test_false\n",
      "Column TRBV=TRBV3-1*01 not in test_false\n",
      "Column TRBV=TRBV30 not in test_false\n",
      "Column TRBV=TRBV30*01 not in test_false\n",
      "Column TRBV=TRBV4-3*01 not in test_false\n",
      "Column TRBV=TRBV5-1*01 not in test_false\n",
      "Column TRBV=TRBV5-4*01 not in test_false\n",
      "Column TRBV=TRBV5-5*01 not in test_false\n",
      "Column TRBV=TRBV5-8 not in test_false\n",
      "Column TRBV=TRBV5-8*01 not in test_false\n",
      "Column TRBV=TRBV6-1 not in test_false\n",
      "Column TRBV=TRBV6-1*01 not in test_false\n",
      "Column TRBV=TRBV6-2*01 not in test_false\n",
      "Column TRBV=TRBV6-4 not in test_false\n",
      "Column TRBV=TRBV6-4*01 not in test_false\n",
      "Column TRBV=TRBV6-4*02 not in test_false\n",
      "Column TRBV=TRBV6-6 not in test_false\n",
      "Column TRBV=TRBV6-6*01 not in test_false\n",
      "Column TRBV=TRBV7-2*03 not in test_false\n",
      "Column TRBV=TRBV7-3*01 not in test_false\n",
      "Column TRBV=TRBV7-6*01 not in test_false\n",
      "Column TRBV=TRBV7-7 not in test_false\n",
      "Column TRBV=TRBV7-8*01 not in test_false\n",
      "Column TRBV=TRBV7-9*01 not in test_false\n"
     ]
    }
   ],
   "source": [
    "# all columns in train should also be in test_true and test_false\n",
    "for col in train.columns:\n",
    "    if col not in test_true.columns:\n",
    "        print(f\"Column {col} not in test_true\")\n",
    "    if col not in test_false.columns:\n",
    "        print(f\"Column {col} not in test_false\")"
   ],
   "metadata": {
    "collapsed": false,
    "pycharm": {
     "name": "#%%\n"
    }
   }
  },
  {
   "cell_type": "code",
   "execution_count": null,
   "outputs": [],
   "source": [
    "# Alright, some columns not in test_false, but that shouldn't be a problem, since test_false isn't allowed to be used\n",
    "# All columns of train are in test_true, so that's good"
   ],
   "metadata": {
    "collapsed": false,
    "pycharm": {
     "name": "#%%\n"
    }
   }
  },
  {
   "cell_type": "code",
   "execution_count": 110,
   "outputs": [
    {
     "data": {
      "text/plain": "   TRBJ=TRBJ1-1  TRBJ=TRBJ1-1*01  TRBJ=TRBJ1-2  TRBJ=TRBJ1-2*01  TRBJ=TRBJ1-3  \\\n0           0.0              0.0           0.0              0.0           0.0   \n1           0.0              0.0           0.0              0.0           0.0   \n2           0.0              0.0           0.0              0.0           0.0   \n3           0.0              0.0           0.0              0.0           0.0   \n4           0.0              0.0           0.0              0.0           0.0   \n\n   TRBJ=TRBJ1-3*01  TRBJ=TRBJ1-4  TRBJ=TRBJ1-4*01  TRBJ=TRBJ1-5  \\\n0              0.0           0.0              0.0           1.0   \n1              0.0           0.0              0.0           0.0   \n2              0.0           0.0              0.0           0.0   \n3              0.0           0.0              0.0           0.0   \n4              0.0           0.0              0.0           0.0   \n\n   TRBJ=TRBJ1-5*01  ...  TRBV=TRBV7-3*01  TRBV=TRBV7-6  TRBV=TRBV7-6*01  \\\n0              0.0  ...              0.0           0.0              0.0   \n1              0.0  ...              0.0           0.0              0.0   \n2              0.0  ...              0.0           0.0              0.0   \n3              0.0  ...              0.0           0.0              0.0   \n4              0.0  ...              0.0           0.0              0.0   \n\n   TRBV=TRBV7-7  TRBV=TRBV7-8  TRBV=TRBV7-8*01  TRBV=TRBV7-9  TRBV=TRBV7-9*01  \\\n0           0.0           0.0              0.0           0.0              0.0   \n1           0.0           0.0              0.0           0.0              0.0   \n2           0.0           0.0              0.0           0.0              0.0   \n3           0.0           0.0              0.0           0.0              0.0   \n4           0.0           0.0              0.0           0.0              0.0   \n\n   TRBV=TRBV9  TRBV=TRBV9*01  \n0         0.0            0.0  \n1         0.0            0.0  \n2         0.0            0.0  \n3         0.0            0.0  \n4         0.0            0.0  \n\n[5 rows x 108 columns]",
      "text/html": "<div>\n<style scoped>\n    .dataframe tbody tr th:only-of-type {\n        vertical-align: middle;\n    }\n\n    .dataframe tbody tr th {\n        vertical-align: top;\n    }\n\n    .dataframe thead th {\n        text-align: right;\n    }\n</style>\n<table border=\"1\" class=\"dataframe\">\n  <thead>\n    <tr style=\"text-align: right;\">\n      <th></th>\n      <th>TRBJ=TRBJ1-1</th>\n      <th>TRBJ=TRBJ1-1*01</th>\n      <th>TRBJ=TRBJ1-2</th>\n      <th>TRBJ=TRBJ1-2*01</th>\n      <th>TRBJ=TRBJ1-3</th>\n      <th>TRBJ=TRBJ1-3*01</th>\n      <th>TRBJ=TRBJ1-4</th>\n      <th>TRBJ=TRBJ1-4*01</th>\n      <th>TRBJ=TRBJ1-5</th>\n      <th>TRBJ=TRBJ1-5*01</th>\n      <th>...</th>\n      <th>TRBV=TRBV7-3*01</th>\n      <th>TRBV=TRBV7-6</th>\n      <th>TRBV=TRBV7-6*01</th>\n      <th>TRBV=TRBV7-7</th>\n      <th>TRBV=TRBV7-8</th>\n      <th>TRBV=TRBV7-8*01</th>\n      <th>TRBV=TRBV7-9</th>\n      <th>TRBV=TRBV7-9*01</th>\n      <th>TRBV=TRBV9</th>\n      <th>TRBV=TRBV9*01</th>\n    </tr>\n  </thead>\n  <tbody>\n    <tr>\n      <th>0</th>\n      <td>0.0</td>\n      <td>0.0</td>\n      <td>0.0</td>\n      <td>0.0</td>\n      <td>0.0</td>\n      <td>0.0</td>\n      <td>0.0</td>\n      <td>0.0</td>\n      <td>1.0</td>\n      <td>0.0</td>\n      <td>...</td>\n      <td>0.0</td>\n      <td>0.0</td>\n      <td>0.0</td>\n      <td>0.0</td>\n      <td>0.0</td>\n      <td>0.0</td>\n      <td>0.0</td>\n      <td>0.0</td>\n      <td>0.0</td>\n      <td>0.0</td>\n    </tr>\n    <tr>\n      <th>1</th>\n      <td>0.0</td>\n      <td>0.0</td>\n      <td>0.0</td>\n      <td>0.0</td>\n      <td>0.0</td>\n      <td>0.0</td>\n      <td>0.0</td>\n      <td>0.0</td>\n      <td>0.0</td>\n      <td>0.0</td>\n      <td>...</td>\n      <td>0.0</td>\n      <td>0.0</td>\n      <td>0.0</td>\n      <td>0.0</td>\n      <td>0.0</td>\n      <td>0.0</td>\n      <td>0.0</td>\n      <td>0.0</td>\n      <td>0.0</td>\n      <td>0.0</td>\n    </tr>\n    <tr>\n      <th>2</th>\n      <td>0.0</td>\n      <td>0.0</td>\n      <td>0.0</td>\n      <td>0.0</td>\n      <td>0.0</td>\n      <td>0.0</td>\n      <td>0.0</td>\n      <td>0.0</td>\n      <td>0.0</td>\n      <td>0.0</td>\n      <td>...</td>\n      <td>0.0</td>\n      <td>0.0</td>\n      <td>0.0</td>\n      <td>0.0</td>\n      <td>0.0</td>\n      <td>0.0</td>\n      <td>0.0</td>\n      <td>0.0</td>\n      <td>0.0</td>\n      <td>0.0</td>\n    </tr>\n    <tr>\n      <th>3</th>\n      <td>0.0</td>\n      <td>0.0</td>\n      <td>0.0</td>\n      <td>0.0</td>\n      <td>0.0</td>\n      <td>0.0</td>\n      <td>0.0</td>\n      <td>0.0</td>\n      <td>0.0</td>\n      <td>0.0</td>\n      <td>...</td>\n      <td>0.0</td>\n      <td>0.0</td>\n      <td>0.0</td>\n      <td>0.0</td>\n      <td>0.0</td>\n      <td>0.0</td>\n      <td>0.0</td>\n      <td>0.0</td>\n      <td>0.0</td>\n      <td>0.0</td>\n    </tr>\n    <tr>\n      <th>4</th>\n      <td>0.0</td>\n      <td>0.0</td>\n      <td>0.0</td>\n      <td>0.0</td>\n      <td>0.0</td>\n      <td>0.0</td>\n      <td>0.0</td>\n      <td>0.0</td>\n      <td>0.0</td>\n      <td>0.0</td>\n      <td>...</td>\n      <td>0.0</td>\n      <td>0.0</td>\n      <td>0.0</td>\n      <td>0.0</td>\n      <td>0.0</td>\n      <td>0.0</td>\n      <td>0.0</td>\n      <td>0.0</td>\n      <td>0.0</td>\n      <td>0.0</td>\n    </tr>\n  </tbody>\n</table>\n<p>5 rows × 108 columns</p>\n</div>"
     },
     "execution_count": 110,
     "metadata": {},
     "output_type": "execute_result"
    }
   ],
   "source": [
    "test_true_correct_columns = test_true[train.columns]\n",
    "test_true_correct_columns"
   ],
   "metadata": {
    "collapsed": false,
    "pycharm": {
     "name": "#%%\n"
    }
   }
  },
  {
   "cell_type": "code",
   "execution_count": null,
   "outputs": [],
   "source": [],
   "metadata": {
    "collapsed": false,
    "pycharm": {
     "name": "#%%\n"
    }
   }
  }
 ],
 "metadata": {
  "kernelspec": {
   "display_name": "Python 3 (ipykernel)",
   "language": "python",
   "name": "python3"
  },
  "language_info": {
   "codemirror_mode": {
    "name": "ipython",
    "version": 3
   },
   "file_extension": ".py",
   "mimetype": "text/x-python",
   "name": "python",
   "nbconvert_exporter": "python",
   "pygments_lexer": "ipython3",
   "version": "3.9.7"
  }
 },
 "nbformat": 4,
 "nbformat_minor": 1
}