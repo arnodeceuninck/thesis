{
 "cells": [
  {
   "cell_type": "markdown",
   "source": [
    "# Master overview\n",
    "This master overview contains all graphs used in the final thesis, to make sure everything was trained and tested on the same data."
   ],
   "metadata": {
    "collapsed": false
   }
  },
  {
   "cell_type": "code",
   "execution_count": 1,
   "outputs": [],
   "source": [
    "# utils\n",
    "from util import evaluate_no_cv, calculate_auc_and_plot, get_epitope_df, get_features, fix_test, \\\n",
    "    evaluate_seperate_chains, get_columns_starting_with, get_counts, plot_scores\n",
    "\n",
    "# distance measures\n",
    "from util import ProximityForestClassifier\n",
    "\n",
    "# distance functions\n",
    "from util import calculate_tcr_dist2, calculate_tcr_dist2_cached, calculate_tcr_dist_multiple_chains, \\\n",
    "    calculate_tcr_dist, multi_dist, levenstein_distance, multi_lev, calculate_approx_distance, nan_hamming\n",
    "from util import levenstein_distance\n",
    "from util import calculate_approx_distance_or\n",
    "from util import compose_all\n",
    "\n",
    "# sklearn\n",
    "from sklearn.model_selection import train_test_split\n",
    "from sklearn import impute\n",
    "from sklearn.experimental import enable_iterative_imputer\n",
    "from sklearn.pipeline import Pipeline\n",
    "\n",
    "# own models\n",
    "from CustomForest import RandomForest as CustomForest\n",
    "from util import ProximityForestClassifier, KNNString\n",
    "\n",
    "# other\n",
    "import numpy as np\n",
    "import pandas as pd\n",
    "from datetime import datetime\n",
    "import os\n",
    "\n",
    "# models\n",
    "from xgboost import XGBClassifier\n",
    "from sklearn.ensemble import HistGradientBoostingClassifier, RandomForestClassifier\n",
    "from lightgbm import LGBMClassifier\n",
    "from sklearn.neighbors import KNeighborsClassifier\n",
    "\n",
    "# warnings\n",
    "import warnings\n",
    "from pandas.errors import SettingWithCopyWarning\n",
    "\n",
    "warnings.filterwarnings(\"ignore\",\n",
    "                        category=UserWarning)  # hide: UserWarning: X has feature names, but RandomForestClassifier was fitted without feature names\n",
    "warnings.filterwarnings(\"ignore\", category=FutureWarning)\n",
    "warnings.filterwarnings(\"ignore\", category=SettingWithCopyWarning)"
   ],
   "metadata": {
    "collapsed": false
   }
  },
  {
   "cell_type": "code",
   "execution_count": 2,
   "outputs": [],
   "source": [
    "models_to_evaluate = []"
   ],
   "metadata": {
    "collapsed": false
   }
  },
  {
   "cell_type": "code",
   "execution_count": 3,
   "outputs": [],
   "source": [
    "# train/test data\n",
    "folds = 5\n",
    "epitope = \"GILGFVFTL\"\n",
    "species = \"HomoSapiens\"\n",
    "descr = \"imputation-constant-numbers\"\n",
    "\n",
    "dataset_size = 50  # typically 50, 100, 200, 500, 1000, 2000, 5000 or None (None = all data)\n",
    "\n",
    "data_per_fold = []\n",
    "df_size = 0\n",
    "\n",
    "\n",
    "def update_data_per_fold(dataset_size, epitope_=None):\n",
    "    global data_per_fold, df_size, epitope, species, folds\n",
    "\n",
    "    epitope = epitope_ if epitope_ is not None else epitope\n",
    "\n",
    "    df = get_epitope_df(epitope, species=species)\n",
    "\n",
    "    # for fixed test size (during the different size runs when sampling a few instances)\n",
    "    df, test = train_test_split(df, test_size=0.2, random_state=0)\n",
    "    test = test.sample(400, random_state=0)\n",
    "    # test.dropna(inplace=True)\n",
    "    # split test df into folds\n",
    "    # test_folds = np.array_split(test, folds)\n",
    "    # test = test.sample(100, random_state=0)\n",
    "\n",
    "    df = df.sample(dataset_size, random_state=0) if dataset_size is not None else df\n",
    "    df_size = len(df)\n",
    "\n",
    "    data_per_fold = []\n",
    "    for seed in range(folds):\n",
    "        fold_data = {\"seed\": seed,\n",
    "                     \"epitope\": epitope,\n",
    "                     \"species\": species,\n",
    "                     \"df_size\": df_size, }\n",
    "\n",
    "        train_with_nan, test_with_nan = train_test_split(df, test_size=0.2, random_state=seed)\n",
    "\n",
    "        # # for fixed test size (during the different size runs)\n",
    "        # test_with_nan = test_folds[seed] # actually no nan, but no problem\n",
    "        test_with_nan = test  # same test set for all folds\n",
    "\n",
    "        test = test_with_nan.dropna()\n",
    "\n",
    "        x_missing = train_with_nan.isna().any(axis=1)\n",
    "\n",
    "        # with nan in train set\n",
    "        x = get_features(train_with_nan)\n",
    "        y = train_with_nan['reaction']\n",
    "\n",
    "        # print the name of all columns in x that contain nan\n",
    "\n",
    "        x_missing_test = test_with_nan.isna().any(axis=1)\n",
    "        x_test = get_features(test, test=True)\n",
    "        x_test = fix_test(x_test, x.columns)\n",
    "        x_test_missing = x_test.isna().any(axis=1)\n",
    "\n",
    "        y_test = test['reaction']\n",
    "\n",
    "        alpha_only_count_pos, beta_only_count_pos, both_count_pos, non_count_pos = get_counts(train_with_nan)\n",
    "\n",
    "        assert len(x) == len(x_missing) == len(y)\n",
    "        assert len(x_test) == len(x_test_missing) == len(y_test)\n",
    "\n",
    "        fold_data[\"nan\"] = {\"x\": x, \"y\": y, \"x_test\": x_test, \"y_test\": y_test, 'x_missing': x_missing,\n",
    "                            'x_missing_test': x_missing_test, 'x_original': train_with_nan,\n",
    "                            'x_test_original': test,\n",
    "                            \"train_alpha_only\": alpha_only_count_pos, \"train_beta_only\": beta_only_count_pos,\n",
    "                            \"train_both\": both_count_pos, \"train_non\": non_count_pos, 'train_total': len(x),\n",
    "                            'test_total': len(x_test)}\n",
    "\n",
    "        # without nan in train set\n",
    "        train_without_nan = train_with_nan.dropna()\n",
    "        x = get_features(train_without_nan)\n",
    "        y = train_without_nan['reaction']\n",
    "\n",
    "        x_test = get_features(test, test=True)\n",
    "        x_test = fix_test(x_test, x.columns)\n",
    "        y_test = test['reaction']\n",
    "\n",
    "        assert len(x) == len(y)\n",
    "        assert len(x_test) == len(y_test)\n",
    "\n",
    "        fold_data[\"no_nan\"] = {\"x\": x, \"y\": y, \"x_test\": x_test, \"y_test\": y_test, 'train_total': len(x),\n",
    "                               'test_total': len(x_test), 'train_both': len(train_without_nan), 'train_non': 0,\n",
    "                               'x_original': train_without_nan, 'x_test_original': test,\n",
    "                               'train_alpha_only': 0, 'train_beta_only': 0}\n",
    "\n",
    "        data_per_fold.append(fold_data)\n",
    "\n",
    "    # print train and test size for seed 0 (nan and no_nan)\n",
    "    nan_data = data_per_fold[0][\"nan\"]\n",
    "    no_nan_data = data_per_fold[0][\"no_nan\"]\n",
    "    print(f\"Nan: train: {len(nan_data['x'])}, test: {len(nan_data['x_test'])}\")\n",
    "    print(f\"No Nan: train: {len(no_nan_data['x'])}, test: {len(no_nan_data['x_test'])}\")"
   ],
   "metadata": {
    "collapsed": false
   }
  },
  {
   "cell_type": "code",
   "execution_count": 4,
   "outputs": [],
   "source": [
    "def evaluate_model(model_description):\n",
    "    \"\"\"\n",
    "    model description is a dict with the following keys:\n",
    "    - name*: name of the model\n",
    "    - model*: the model\n",
    "    - imputer: the imputer to use\n",
    "    - chain: 'both', 'alpha', 'beta' or 'seperate'. In cas of 'seperate', model_alpha and model_beta must be defined instead of model\n",
    "    - drop_train_na: if True, all rows with nan in the train set are dropped\n",
    "    - missing_indicator: if True, a missing indicator is added as feature\n",
    "    - columns_to_use: list of columns to use (CDR, V, J)\n",
    "    - extract_features: if False, the original columns are used and no features are extracted\n",
    "    \"\"\"\n",
    "    global data_per_fold\n",
    "\n",
    "    assert \"name\" in model_description\n",
    "    assert \"model\" in model_description\n",
    "\n",
    "    scores = pd.DataFrame()\n",
    "\n",
    "    num_folds = len(data_per_fold)\n",
    "    for i in range(num_folds):\n",
    "\n",
    "        model_train_nan = not model_description.get(\"drop_train_na\", False)\n",
    "        data_name = \"nan\" if model_train_nan else \"no_nan\"\n",
    "\n",
    "        chain = model_description.get(\"chain\", \"both\")\n",
    "        assert chain in [\"both\", \"alpha\", \"beta\", \"seperate\"]\n",
    "\n",
    "        # get the precomputed dataset for this fold (either the version with nan or without nan\n",
    "        fold_data = data_per_fold[i]\n",
    "        fold_dataset = fold_data[data_name]\n",
    "        x = fold_dataset[\"x\"].copy()\n",
    "        y = fold_dataset[\"y\"].copy()\n",
    "        x_test = fold_dataset[\"x_test\"].copy()\n",
    "        y_test = fold_dataset[\"y_test\"].copy()\n",
    "\n",
    "        columns_to_use = model_description.get(\"columns_to_use\", None)\n",
    "\n",
    "        extract_features = model_description.get(\"extract_features\", True)\n",
    "\n",
    "        # set the columns_to_use if only specific gene features are used\n",
    "        gene_features = model_description.get(\"gene_features\", None)\n",
    "        if gene_features is not None:\n",
    "            assert gene_features in [\"FV\", \"F\", \"V\", \"F+V\", \"FV+F+V\"]  #, \"CDR_only\"]\n",
    "\n",
    "            column_map = {'F': ['V_family', 'J_family'],\n",
    "                          'V': ['V_version', 'J_version'],\n",
    "                          'FV': ['V', 'J']}\n",
    "            column_map['F+V'] = column_map['F'] + column_map['V']\n",
    "            column_map['FV+F+V'] = column_map['FV'] + column_map['F'] + column_map['V']\n",
    "            # add CDR3 to all\n",
    "            for key in column_map:\n",
    "                column_map[key].append('CDR3')\n",
    "\n",
    "            columns_to_use = column_map[gene_features]\n",
    "\n",
    "        # if there needs to be other columns or no features need to be extracted, the pre-computed features won't work\n",
    "        if columns_to_use is not None or not extract_features:\n",
    "            if columns_to_use is None:\n",
    "                columns_to_use = [\"CDR3\", \"V\", \"J\"]\n",
    "\n",
    "            # recreate train data\n",
    "            x_original = fold_dataset[\"x_original\"]\n",
    "            x_test_original = fold_dataset[\"x_test_original\"]\n",
    "\n",
    "            x = get_features(x_original, columns=columns_to_use, extract_features=extract_features)\n",
    "\n",
    "            x_test = get_features(x_test_original, columns=columns_to_use, test=True, extract_features=extract_features)\n",
    "            x_test = fix_test(x_test, x.columns)\n",
    "            x_test.dropna(inplace=True)\n",
    "\n",
    "        # add missing indicator if needed\n",
    "        missing_indicator = model_description.get(\"missing_indicator\", False)\n",
    "        if missing_indicator:\n",
    "            x_missing = fold_dataset[\"x_missing\"]\n",
    "            x_missing_test = fold_dataset[\"x_missing_test\"]\n",
    "            x[\"missing\"] = x_missing\n",
    "            x_test[\"missing\"] = x_missing_test\n",
    "\n",
    "        # get only alpha or beta chain if needed\n",
    "        if chain == \"alpha\" or chain == \"beta\":\n",
    "            x = get_columns_starting_with(x, f'{chain}_')\n",
    "            x_test = get_columns_starting_with(x_test, f'{chain}_')\n",
    "\n",
    "        model_imputer = model_description.get(\"imputer\", None)\n",
    "\n",
    "        separate_chains = chain == \"seperate\"\n",
    "\n",
    "        try:\n",
    "            if separate_chains:\n",
    "                model_alpha = model_description[\"model_alpha\"]\n",
    "                model_beta = model_description[\"model_beta\"]\n",
    "                auc = evaluate_seperate_chains(model_alpha, model_beta, x, y, x_test, y_test, model_imputer)\n",
    "            else:\n",
    "                model = model_description[\"model\"]\n",
    "                if model_imputer is not None:\n",
    "                    model = Pipeline([('imputer', model_imputer), ('model', model)])\n",
    "                    model_imputer = None\n",
    "                auc = evaluate_no_cv(model, x, y, x_test, y_test, model_imputer)\n",
    "\n",
    "            # add the scores to the dataframe\n",
    "            index = len(scores)\n",
    "            scores.loc[index, 'model'] = model_description['name']\n",
    "            scores.loc[index, 'auc'] = auc\n",
    "            scores.loc[index, 'model_train_nan'] = model_train_nan\n",
    "            scores.loc[index, 'imputer'] = model_imputer.__class__.__name__ if model_imputer is not None else None\n",
    "            scores.loc[index, 'chain'] = chain\n",
    "            scores.loc[index, 'group'] = model_description['group']\n",
    "\n",
    "            scores.loc[index, 'seed'] = fold_data[\"seed\"]\n",
    "            scores.loc[index, 'epitope'] = fold_data[\"epitope\"]\n",
    "            scores.loc[index, 'species'] = fold_data[\"species\"]\n",
    "\n",
    "            scores.loc[index, 'train_alpha_only'] = fold_dataset[\"train_alpha_only\"]\n",
    "            scores.loc[index, 'train_beta_only'] = fold_dataset[\"train_beta_only\"]\n",
    "            scores.loc[index, 'train_both'] = fold_dataset[\"train_both\"]\n",
    "            scores.loc[index, 'train_non'] = fold_dataset[\"train_non\"]\n",
    "            scores.loc[index, 'train_total'] = fold_dataset[\"train_total\"]\n",
    "            scores.loc[index, 'test_total'] = fold_dataset[\"test_total\"]\n",
    "            scores.loc[index, 'df_size'] = fold_data[\"df_size\"]\n",
    "\n",
    "            scores.loc[index, 'gene_features'] = gene_features\n",
    "            scores.loc[index, 'missing_indicator'] = missing_indicator\n",
    "\n",
    "            # print the row\n",
    "            # print(scores.loc[index])\n",
    "            # print(f\"AUC(m={model_description['name']}, s={seed}, train_na={int(model_train_nan)}): {auc}\")\n",
    "            print(auc)\n",
    "\n",
    "        except Exception as e:\n",
    "            print(f\"Error: {e}\")\n",
    "            raise e  # for debugging\n",
    "            continue\n",
    "\n",
    "    return scores"
   ],
   "metadata": {
    "collapsed": false
   }
  },
  {
   "cell_type": "code",
   "execution_count": 5,
   "outputs": [],
   "source": [
    "def evaluate_model_list(models_to_evaluate):\n",
    "    assert len(models_to_evaluate) > 0, \"No models to evaluate\"\n",
    "\n",
    "    start_time = datetime.now()\n",
    "    timestamp = start_time.strftime(\"%Y%m%d-%H%M%S\")\n",
    "    # create a directory in outputs to save the files to\n",
    "    global epitope, df_size, descr\n",
    "    output_dir = f\"outputs/model-evaluations-{timestamp}-{epitope}-{df_size}-{descr}\"\n",
    "    os.makedirs(output_dir, exist_ok=True)\n",
    "\n",
    "    output_log = f\"{output_dir}/log.txt\"\n",
    "    with open(output_log, 'w') as f:\n",
    "        f.write(f\"Started at {start_time}\\n\\n\")\n",
    "        f.write(f\"Models to evaluate: {len(models_to_evaluate)}\\n\\n\")\n",
    "        for i, model in enumerate(models_to_evaluate):\n",
    "            f.write(f\"{i + 1}/{len(models_to_evaluate)}: {model['name']}\\n\")\n",
    "            f.write(f\"{model}\\n\\n\")\n",
    "\n",
    "    scores = pd.DataFrame()\n",
    "    for i, model in enumerate(models_to_evaluate):\n",
    "        print(f\"\\nEvaluating model {i + 1}/{len(models_to_evaluate)}\")\n",
    "        print(model)\n",
    "        model_scores = evaluate_model(model)\n",
    "\n",
    "        model_scores['test_nr'] = i + 1\n",
    "        model_scores.to_csv(f\"{output_dir}/{i + 1}-{model['name']}.csv\")\n",
    "\n",
    "        scores = pd.concat([scores, model_scores])\n",
    "    # write to csv\n",
    "    end_time = datetime.now()\n",
    "\n",
    "    time_taken = end_time - start_time\n",
    "    timestamp = end_time.strftime(\"%Y%m%d-%H%M%S\")\n",
    "    scores.to_csv(f\"{output_dir}/scores-{timestamp}.csv\")\n",
    "\n",
    "    plot_scores(scores, \"All models\", output_file=f\"{output_dir}/all-models.png\", hue_group_diff=False)\n",
    "\n",
    "    # create a directory 'groups'\n",
    "    groups_dir = f\"{output_dir}/groups\"\n",
    "    os.makedirs(groups_dir, exist_ok=True)\n",
    "    # for each group in the scores, save a csv with the scores for that group\n",
    "    for group in scores['group'].unique():\n",
    "        group_scores = scores[scores['group'] == group]\n",
    "\n",
    "        # always add the baseline group\n",
    "        if group != 'baseline':\n",
    "            baseline_scores = scores[scores['group'] == 'baseline']\n",
    "            group_scores = pd.concat([baseline_scores, group_scores])\n",
    "\n",
    "        group_scores.to_csv(f\"{groups_dir}/{group}.csv\")\n",
    "        plot_scores(group_scores, group, output_file=f\"{groups_dir}/{group}.png\", hue_group_diff=False)\n",
    "\n",
    "    print(f'Finished evaluating {len(models_to_evaluate)} models at {timestamp} in {time_taken} seconds')\n",
    "\n",
    "    with open(output_log, 'a') as f:\n",
    "        f.write(f\"Finished at {end_time}\\n\")\n",
    "        f.write(f\"Time taken: {time_taken}\\n\")\n",
    "        f.write(f\"Saved scores to {output_dir}\\n\")\n",
    "        f.write(f\"Saved all scores to {output_dir}/scores-{timestamp}.csv\\n\")\n",
    "        f.write(f\"Saved group scores to {groups_dir}\\n\")\n",
    "        f.write(f\"Saved all group scores to {groups_dir}/all-models.png\\n\")\n",
    "        f.write(f\"Saved all models to {output_dir}/all-models.png\\n\")\n",
    "        f.write(f\"Saved log to {output_log}\\n\")\n",
    "\n",
    "    return scores, f\"{output_dir}/scores-{timestamp}.csv\""
   ],
   "metadata": {
    "collapsed": false
   }
  },
  {
   "cell_type": "code",
   "execution_count": 6,
   "outputs": [],
   "source": [
    "# imputers\n",
    "zero_imputer = impute.SimpleImputer(missing_values=np.nan, strategy='constant', fill_value=0)\n",
    "mean_imputer = impute.SimpleImputer(missing_values=np.nan, strategy='mean')\n",
    "most_freq_imputer = impute.SimpleImputer(missing_values=np.nan, strategy='most_frequent')\n",
    "median_imputer = impute.SimpleImputer(missing_values=np.nan, strategy='median')"
   ],
   "metadata": {
    "collapsed": false
   }
  },
  {
   "cell_type": "code",
   "execution_count": 7,
   "outputs": [
    {
     "name": "stdout",
     "output_type": "stream",
     "text": [
      "Couldn't find program: 'echo'\n"
     ]
    }
   ],
   "source": [
    "% % script echo skipping\n",
    "\n",
    "# baseline (random forest, nans dropped in train)\n",
    "baseline = {\n",
    "    'name': 'Random Forest (NaNs dropped in train)',\n",
    "    'model': RandomForestClassifier(random_state=0),\n",
    "    'drop_train_na': True,\n",
    "    'group': 'baseline',\n",
    "}\n",
    "models_to_evaluate.append(baseline)"
   ],
   "metadata": {
    "collapsed": false
   }
  },
  {
   "cell_type": "code",
   "execution_count": 8,
   "outputs": [
    {
     "name": "stdout",
     "output_type": "stream",
     "text": [
      "Couldn't find program: 'echo'\n"
     ]
    }
   ],
   "source": [
    "% % script echo skipping\n",
    "\n",
    "# random forest imputations\n",
    "rf_zero_imputed = {\n",
    "    'name': 'Random Forest (Zero imputed)',\n",
    "    'model': RandomForestClassifier(random_state=0),\n",
    "    'imputer': zero_imputer,\n",
    "    'group': 'rf_imputations'\n",
    "}\n",
    "\n",
    "rf_mean_imputed = {\n",
    "    'name': 'Random Forest (Mean imputed)',\n",
    "    'model': RandomForestClassifier(random_state=0),\n",
    "    'imputer': mean_imputer,\n",
    "    'group': 'rf_imputations'\n",
    "}\n",
    "\n",
    "rf_most_freq_imputed = {\n",
    "    'name': 'Random Forest (Most frequent imputed)',\n",
    "    'model': RandomForestClassifier(random_state=0),\n",
    "    'imputer': most_freq_imputer,\n",
    "    'group': 'rf_imputations'\n",
    "}\n",
    "\n",
    "rf_median_imputed = {\n",
    "    'name': 'Random Forest (Median imputed)',\n",
    "    'model': RandomForestClassifier(random_state=0),\n",
    "    'imputer': median_imputer,\n",
    "    'group': 'rf_imputations'\n",
    "}\n",
    "\n",
    "rf_imputation_models = [rf_zero_imputed, rf_mean_imputed, rf_most_freq_imputed, rf_median_imputed]\n",
    "models_to_evaluate.extend(rf_imputation_models)"
   ],
   "metadata": {
    "collapsed": false
   }
  },
  {
   "cell_type": "code",
   "execution_count": 9,
   "outputs": [
    {
     "name": "stdout",
     "output_type": "stream",
     "text": [
      "Couldn't find program: 'echo'\n"
     ]
    }
   ],
   "source": [
    "% % script echo skipping\n",
    "\n",
    "rf_impute_0 = {\n",
    "    'name': 'Random Forest (0 imputed)',\n",
    "    'model': RandomForestClassifier(random_state=0),\n",
    "    'imputer': zero_imputer,\n",
    "    'group': 'rf_imputations'\n",
    "}\n",
    "\n",
    "rf_impute_10 = {\n",
    "    'name': 'Random Forest (10 imputed)',\n",
    "    'model': RandomForestClassifier(random_state=0),\n",
    "    'imputer': impute.SimpleImputer(missing_values=np.nan, strategy='constant', fill_value=10),\n",
    "    'group': 'rf_imputations'\n",
    "}\n",
    "\n",
    "rf_impute_100 = {\n",
    "    'name': 'Random Forest (100 imputed)',\n",
    "    'model': RandomForestClassifier(random_state=0),\n",
    "    'imputer': impute.SimpleImputer(missing_values=np.nan, strategy='constant', fill_value=100),\n",
    "    'group': 'rf_imputations'\n",
    "}\n",
    "\n",
    "models_to_evaluate.extend([rf_impute_0, rf_impute_10, rf_impute_100])"
   ],
   "metadata": {
    "collapsed": false
   }
  },
  {
   "cell_type": "code",
   "execution_count": 10,
   "outputs": [
    {
     "name": "stdout",
     "output_type": "stream",
     "text": [
      "Couldn't find program: 'echo'\n"
     ]
    }
   ],
   "source": [
    "% % script echo skipping\n",
    "\n",
    "# knn imputers\n",
    "rf_knn_imputed_1 = {\n",
    "    'name': 'Random Forest (KNN imputed, k=1)',\n",
    "    'model': RandomForestClassifier(random_state=0),\n",
    "    'imputer': impute.KNNImputer(n_neighbors=1),\n",
    "    'group': 'rf_knn_imputations'\n",
    "}\n",
    "\n",
    "rf_knn_imputed_5 = {\n",
    "    'name': 'Random Forest (KNN imputed, k=5)',\n",
    "    'model': RandomForestClassifier(random_state=0),\n",
    "    'imputer': impute.KNNImputer(n_neighbors=5),\n",
    "    'group': 'rf_knn_imputations'\n",
    "}\n",
    "\n",
    "rf_knn_imputed_15 = {\n",
    "    'name': 'Random Forest (KNN imputed, k=10)',\n",
    "    'model': RandomForestClassifier(random_state=0),\n",
    "    'imputer': impute.KNNImputer(n_neighbors=10),\n",
    "    'group': 'rf_knn_imputations'\n",
    "}\n",
    "\n",
    "rf_knn_imputation_models = [rf_knn_imputed_1, rf_knn_imputed_5, rf_knn_imputed_15]\n",
    "models_to_evaluate.extend(rf_knn_imputation_models)"
   ],
   "metadata": {
    "collapsed": false
   }
  },
  {
   "cell_type": "code",
   "execution_count": 11,
   "outputs": [
    {
     "name": "stdout",
     "output_type": "stream",
     "text": [
      "Couldn't find program: 'echo'\n"
     ]
    }
   ],
   "source": [
    "% % script echo skipping\n",
    "\n",
    "# iterative imputations\n",
    "rf_iterative_imputed_1 = {\n",
    "    'name': 'Random Forest (Iterative imputed, max_iter=1)',\n",
    "    'model': RandomForestClassifier(random_state=0),\n",
    "    'imputer': impute.IterativeImputer(max_iter=1),\n",
    "    'group': 'rf_iterative_imputations'\n",
    "}\n",
    "\n",
    "rf_iterative_imputed_5 = {\n",
    "    'name': 'Random Forest (Iterative imputed, max_iter=5)',\n",
    "    'model': RandomForestClassifier(random_state=0),\n",
    "    'imputer': impute.IterativeImputer(max_iter=5),\n",
    "    'group': 'rf_iterative_imputations'\n",
    "}\n",
    "\n",
    "# rf_iterative_imputed_10 = {\n",
    "#     'name': 'Random Forest (Iterative imputed, max_iter=10)',\n",
    "#     'model': RandomForestClassifier(random_state=0),\n",
    "#     'imputer': impute.IterativeImputer(max_iter=10),\n",
    "#     'group': 'rf_iterative_imputations'\n",
    "# }\n",
    "#\n",
    "# rf_iterative_imputed_15 = {\n",
    "#     'name': 'Random Forest (Iterative imputed, max_iter=15)',\n",
    "#     'model': RandomForestClassifier(random_state=0),\n",
    "#     'imputer': impute.IterativeImputer(max_iter=15),\n",
    "#     'group': 'rf_iterative_imputations'\n",
    "# }\n",
    "\n",
    "# rf_iterative_imputation_models = [rf_iterative_imputed_1, rf_iterative_imputed_5, rf_iterative_imputed_10, rf_iterative_imputed_15]\n",
    "rf_iterative_imputation_models = [rf_iterative_imputed_1, rf_iterative_imputed_5]\n",
    "models_to_evaluate.extend(rf_iterative_imputation_models)"
   ],
   "metadata": {
    "collapsed": false
   }
  },
  {
   "cell_type": "code",
   "execution_count": 12,
   "outputs": [
    {
     "name": "stdout",
     "output_type": "stream",
     "text": [
      "Couldn't find program: 'echo'\n"
     ]
    }
   ],
   "source": [
    "% % script echo skipping\n",
    "\n",
    "from sklearn.neural_network import MLPRegressor\n",
    "from sklearn.neighbors import KNeighborsRegressor\n",
    "from sklearn.ensemble import RandomForestRegressor\n",
    "\n",
    "# iterative imputer with RandomForestRegressor, KNeighborsRegressor and MLP\n",
    "# max_iter=1\n",
    "\n",
    "rf_iterative_imputed_rfr = {\n",
    "    'name': 'RF (Iterative imputed, RandomForestRegressor, max_iter=1)',\n",
    "    'model': RandomForestClassifier(random_state=0),\n",
    "    'imputer': impute.IterativeImputer(max_iter=1, estimator=RandomForestRegressor(random_state=0)),\n",
    "    'group': 'rf_iterative_imputations'\n",
    "}\n",
    "\n",
    "rf_iterative_imputed_knr = {\n",
    "    'name': 'RF (Iterative imputed, KNeighborsRegressor, max_iter=1)',\n",
    "    'model': RandomForestClassifier(random_state=0),\n",
    "    'imputer': impute.IterativeImputer(max_iter=1, estimator=KNeighborsRegressor()),\n",
    "    'group': 'rf_iterative_imputations'\n",
    "}\n",
    "\n",
    "rf_iterative_imputed_mlp = {\n",
    "    'name': 'RF (Iterative imputed, MLPRegressor, max_iter=1)',\n",
    "    'model': RandomForestClassifier(random_state=0),\n",
    "    'imputer': impute.IterativeImputer(max_iter=1, estimator=MLPRegressor(random_state=0)),\n",
    "    'group': 'rf_iterative_imputations'\n",
    "}\n",
    "\n",
    "rf_iterative_imputation_models = [rf_iterative_imputed_rfr, rf_iterative_imputed_knr, rf_iterative_imputed_mlp]\n",
    "models_to_evaluate.extend(rf_iterative_imputation_models)"
   ],
   "metadata": {
    "collapsed": false
   }
  },
  {
   "cell_type": "code",
   "execution_count": 13,
   "outputs": [
    {
     "name": "stdout",
     "output_type": "stream",
     "text": [
      "Couldn't find program: 'echo'\n"
     ]
    }
   ],
   "source": [
    "% % script echo skipping\n",
    "\n",
    "# knn classifier\n",
    "knn_classifier_mean_imputed = {\n",
    "    'name': 'KNN Classifier (mean imputed)',\n",
    "    'model': KNeighborsClassifier(),\n",
    "    'group': 'knn',\n",
    "    'imputer': mean_imputer\n",
    "}\n",
    "\n",
    "knn_classifier_knn_imputed = {\n",
    "    'name': 'KNN Classifier (KNN imputed)',\n",
    "    'model': KNeighborsClassifier(),\n",
    "    'group': 'knn',\n",
    "    'imputer': impute.KNNImputer()\n",
    "}\n",
    "\n",
    "knn_models = [knn_classifier_mean_imputed, knn_classifier_knn_imputed]\n",
    "models_to_evaluate.extend(knn_models)"
   ],
   "metadata": {
    "collapsed": false
   }
  },
  {
   "cell_type": "code",
   "execution_count": 14,
   "outputs": [
    {
     "name": "stdout",
     "output_type": "stream",
     "text": [
      "Couldn't find program: 'echo'\n"
     ]
    }
   ],
   "source": [
    "% % script echo skipping\n",
    "\n",
    "# missing indicator imputations\n",
    "# same models as above, but with missing indicator\n",
    "rf_imputation_models_with_missing_indicator = []\n",
    "for model in rf_imputation_models:\n",
    "    model_with_missing_indicator = model.copy()\n",
    "    model_with_missing_indicator['name'] += \" (with missing indicator)\"\n",
    "    model_with_missing_indicator['missing_indicator'] = True\n",
    "    model_with_missing_indicator['group'] = 'rf_imputations_with_missing_indicator'\n",
    "    rf_imputation_models_with_missing_indicator.append(model_with_missing_indicator)\n",
    "\n",
    "models_to_evaluate.extend(rf_imputation_models_with_missing_indicator)"
   ],
   "metadata": {
    "collapsed": false
   }
  },
  {
   "cell_type": "code",
   "execution_count": 15,
   "outputs": [
    {
     "name": "stdout",
     "output_type": "stream",
     "text": [
      "Couldn't find program: 'echo'\n"
     ]
    }
   ],
   "source": [
    "% % script echo skipping\n",
    "\n",
    "# gradient boosting classifiers\n",
    "hist_gradient_boosting = {\n",
    "    'name': 'HistGradientBoosting',\n",
    "    'model': HistGradientBoostingClassifier(random_state=0),\n",
    "    'group': 'gradient_boosting'\n",
    "}\n",
    "\n",
    "xgboost = {\n",
    "    'name': 'XGBoost',\n",
    "    'model': XGBClassifier(random_state=0),\n",
    "    'group': 'gradient_boosting'\n",
    "}\n",
    "\n",
    "lightgbm = {\n",
    "    'name': 'LightGBM',\n",
    "    'model': LGBMClassifier(random_state=0),\n",
    "    'group': 'gradient_boosting'\n",
    "}\n",
    "\n",
    "gradient_boosting_models = [hist_gradient_boosting, xgboost, lightgbm]\n",
    "models_to_evaluate.extend(gradient_boosting_models)"
   ],
   "metadata": {
    "collapsed": false
   }
  },
  {
   "cell_type": "code",
   "execution_count": 16,
   "outputs": [
    {
     "name": "stdout",
     "output_type": "stream",
     "text": [
      "Couldn't find program: 'echo'\n"
     ]
    }
   ],
   "source": [
    "% % script echo skipping\n",
    "\n",
    "# gene features\n",
    "features_to_test = [\"FV\", \"F\", \"V\", \"F+V\", \"FV+F+V\"]\n",
    "gene_feature_models = []\n",
    "for features in features_to_test:\n",
    "    model = {\n",
    "        'name': f\"Random Forest ({features})\",\n",
    "        'model': RandomForestClassifier(random_state=0),\n",
    "        'gene_features': features,\n",
    "        'group': 'gene_features',\n",
    "        'imputer': mean_imputer,\n",
    "    }\n",
    "    gene_feature_models.append(model)\n",
    "\n",
    "models_to_evaluate.extend(gene_feature_models)"
   ],
   "metadata": {
    "collapsed": false
   }
  },
  {
   "cell_type": "code",
   "execution_count": 17,
   "outputs": [
    {
     "name": "stdout",
     "output_type": "stream",
     "text": [
      "Couldn't find program: 'echo'\n"
     ]
    }
   ],
   "source": [
    "% % script echo skipping\n",
    "\n",
    "# chain inputs\n",
    "both_chains = {\n",
    "    'name': 'Random Forest (both chains)',\n",
    "    'model': RandomForestClassifier(random_state=0),\n",
    "    'chain': 'both',\n",
    "    'group': 'chain_inputs',\n",
    "    'imputer': mean_imputer,\n",
    "}\n",
    "\n",
    "alpha_chain = {\n",
    "    'name': 'Random Forest (Alpha chain)',\n",
    "    'model': RandomForestClassifier(random_state=0),\n",
    "    'chain': 'alpha',\n",
    "    'group': 'chain_inputs',\n",
    "    'imputer': mean_imputer,\n",
    "}\n",
    "\n",
    "beta_chain = {\n",
    "    'name': 'Random Forest (Beta chain)',\n",
    "    'model': RandomForestClassifier(random_state=0),\n",
    "    'chain': 'beta',\n",
    "    'group': 'chain_inputs',\n",
    "    'imputer': mean_imputer,\n",
    "}\n",
    "\n",
    "seperate_chains = {\n",
    "    'name': 'Random Forest (Seperate chains)',\n",
    "    'model_alpha': RandomForestClassifier(random_state=0),\n",
    "    'model_beta': RandomForestClassifier(random_state=0),\n",
    "    'chain': 'seperate',\n",
    "    'group': 'chain_inputs',\n",
    "    'imputer': mean_imputer,\n",
    "}\n",
    "\n",
    "chain_input_models = [both_chains, alpha_chain, beta_chain, seperate_chains]\n",
    "models_to_evaluate.extend(chain_input_models)"
   ],
   "metadata": {
    "collapsed": false
   }
  },
  {
   "cell_type": "code",
   "execution_count": 18,
   "outputs": [
    {
     "name": "stdout",
     "output_type": "stream",
     "text": [
      "Couldn't find program: 'echo'\n"
     ]
    }
   ],
   "source": [
    "% % script echo skipping\n",
    "\n",
    "chain_input_without_nans = []\n",
    "for model in chain_input_models:\n",
    "    model_without_nans = model.copy()\n",
    "    model_without_nans['name'] += \" (without nans)\"\n",
    "    model_without_nans['drop_train_na'] = True\n",
    "    model_without_nans['imputer'] = None\n",
    "    chain_input_without_nans.append(model_without_nans)\n",
    "models_to_evaluate.extend(chain_input_without_nans)"
   ],
   "metadata": {
    "collapsed": false
   }
  },
  {
   "cell_type": "code",
   "execution_count": 19,
   "outputs": [
    {
     "name": "stdout",
     "output_type": "stream",
     "text": [
      "Couldn't find program: 'echo'\n"
     ]
    }
   ],
   "source": [
    "% % script echo skipping\n",
    "\n",
    "# WeightedRandomForest\n",
    "weighted_random_forest = {\n",
    "    'name': 'RandomForest (own impl., weighted)',\n",
    "    'model': CustomForest(weighted=True),  # doesn't support random state\n",
    "    'group': 'weighted_random_forest',\n",
    "}\n",
    "\n",
    "custom_random_forest = {\n",
    "    'name': 'RandomForest (own impl.)',\n",
    "    'model': CustomForest(weighted=False),\n",
    "    'group': 'weighted_random_forest',\n",
    "    'imputer': mean_imputer,\n",
    "}\n",
    "\n",
    "# # to check whether it's the same as non-weighted, which is indeed the case\n",
    "# weighted_random_forest_no_nan = {\n",
    "#     'name': 'RandomForest (own impl., weighted, no nan)',\n",
    "#     'model': CustomForest(weighted=True), # doesn't support random state\n",
    "#     'group': 'weighted_random_forest',\n",
    "#     'drop_train_na': True,\n",
    "# }\n",
    "\n",
    "custom_random_forest_no_nan = {\n",
    "    'name': 'RandomForest (own impl., no nan)',\n",
    "    'model': CustomForest(weighted=False),\n",
    "    'group': 'weighted_random_forest',\n",
    "    'drop_train_na': True,\n",
    "}\n",
    "\n",
    "weighted_random_forest_models = [weighted_random_forest, custom_random_forest, weighted_random_forest_no_nan,\n",
    "                                 custom_random_forest_no_nan]\n",
    "models_to_evaluate.extend(weighted_random_forest_models)"
   ],
   "metadata": {
    "collapsed": false
   }
  },
  {
   "cell_type": "code",
   "execution_count": 20,
   "outputs": [
    {
     "name": "stdout",
     "output_type": "stream",
     "text": [
      "Couldn't find program: 'echo'\n"
     ]
    }
   ],
   "source": [
    "% % script echo skipping\n",
    "\n",
    "# rf_cdr_only = {\n",
    "#     'name': 'RandomForest (only CDR3)',\n",
    "#     'model': RandomForestClassifier(random_state=0),\n",
    "#     'group': 'cdr_only',\n",
    "#     'columns_to_use': ['CDR3'],\n",
    "#     'imputer': mean_imputer,\n",
    "# }\n",
    "\n",
    "rf_cdr_only_no_nan = {\n",
    "    'name': 'RandomForest (only CDR3, no_nan)',\n",
    "    'model': RandomForestClassifier(random_state=0),\n",
    "    'group': 'cdr_only',\n",
    "    'columns_to_use': ['CDR3'],\n",
    "    'drop_train_na': True,\n",
    "}\n",
    "\n",
    "models_to_evaluate.extend([rf_cdr_only_no_nan])"
   ],
   "metadata": {
    "collapsed": false
   }
  },
  {
   "cell_type": "code",
   "execution_count": 21,
   "outputs": [
    {
     "name": "stdout",
     "output_type": "stream",
     "text": [
      "Couldn't find program: 'echo'\n"
     ]
    }
   ],
   "source": [
    "% % script echo skipping\n",
    "\n",
    "# knn classifier with different distance measures\n",
    "# knn classifier\n",
    "knn_tcr_dist_no_nan = {\n",
    "    'name': 'KNN (tcr_dist, no_nan, CDR3 only)',\n",
    "    'model': KNNString(k=5, metric=calculate_tcr_dist_multiple_chains),\n",
    "    'group': 'knn_metrics',\n",
    "    'extract_features': False,\n",
    "    'columns_to_use': ['CDR3'],\n",
    "    'drop_train_na': True,\n",
    "}\n",
    "\n",
    "knn_lev_dist_no_nan = {\n",
    "    'name': 'KNN (lev, no_nan, CDR3 only)',\n",
    "    'model': KNNString(k=5, metric=multi_lev),\n",
    "    'group': 'knn_metrics',\n",
    "    'extract_features': False,\n",
    "    'columns_to_use': ['CDR3'],\n",
    "    'drop_train_na': True,\n",
    "}\n",
    "\n",
    "knn_hamming_dist_no_nan = {\n",
    "    'name': 'KNN (hamming, no_nan, CDR3 only)',\n",
    "    'model': KNNString(k=5, metric=nan_hamming),\n",
    "    'group': 'knn_metrics',\n",
    "    'extract_features': False,\n",
    "    'columns_to_use': ['CDR3'],\n",
    "    'drop_train_na': True,\n",
    "}\n",
    "\n",
    "knn_tcrdist3_no_nan = {\n",
    "    'name': 'KNN (tcrdist3, no_nan, CDR3 only)',\n",
    "    'model': KNNString(k=5, metric=calculate_tcr_dist2_cached),\n",
    "    'group': 'knn_metrics',\n",
    "    'extract_features': False,\n",
    "    'drop_train_na': True,\n",
    "}\n",
    "\n",
    "models_to_evaluate.extend([knn_tcr_dist_no_nan, knn_lev_dist_no_nan, knn_hamming_dist_no_nan, knn_tcrdist3_no_nan])"
   ],
   "metadata": {
    "collapsed": false
   }
  },
  {
   "cell_type": "code",
   "execution_count": 22,
   "outputs": [
    {
     "name": "stdout",
     "output_type": "stream",
     "text": [
      "Couldn't find program: 'echo'\n"
     ]
    }
   ],
   "source": [
    "% % script echo skipping\n",
    "\n",
    "proximity_forest_no_nan = {\n",
    "    'name': 'ProximityForest (nan_dist=0, measure=tcr_dist)',\n",
    "    'model': ProximityForestClassifier(reduce_features=False, distance_measure=calculate_tcr_dist_multiple_chains),\n",
    "    'group': 'proximity_forest',\n",
    "    'extract_features': False,\n",
    "    'columns_to_use': ['CDR3'],\n",
    "    'drop_train_na': True,\n",
    "}\n",
    "\n",
    "proximity_forest_models = [proximity_forest_no_nan]\n",
    "\n",
    "models_to_evaluate.extend(proximity_forest_models)"
   ],
   "metadata": {
    "collapsed": false
   }
  },
  {
   "cell_type": "code",
   "execution_count": 23,
   "outputs": [
    {
     "name": "stdout",
     "output_type": "stream",
     "text": [
      "Couldn't find program: 'echo'\n"
     ]
    }
   ],
   "source": [
    "% % script echo skipping\n",
    "\n",
    "# More ProximityForest\n",
    "# proximity_forest_nan_150 = {\n",
    "#     'name': 'ProximityForest (nan_dist=150, measure=tcr_dist)',\n",
    "#     'model': ProximityForestClassifier(reduce_features=False, distance_measure=calculate_tcr_dist_multiple_chains,\n",
    "#                                       distance_kwargs={\"nan_distance\": 150}),\n",
    "#     'group': 'proximity_forest',\n",
    "#     'extract_features': False,\n",
    "#     'columns_to_use': ['CDR3'],\n",
    "# }\n",
    "\n",
    "\n",
    "# proximity_forest_tcr_dist2 = {\n",
    "#     'name': 'ProximityForest (nan_dist=0, measure=tcr_dist2)',\n",
    "#     'model': ProximityForestClassifier(reduce_features=False, distance_measure=calculate_tcr_dist2_cached),\n",
    "#     'group': 'proximity_forest',\n",
    "#     'extract_features': False,\n",
    "#     'columns_to_use': ['CDR3', 'V', 'J'],\n",
    "#     'drop_train_na': False,\n",
    "# }\n",
    "#\n",
    "# proximity_forest_no_nan_tcr_dist2 = {\n",
    "#     'name': 'ProximityForest (no_nan, measure=tcr_dist2)',\n",
    "#     'model': ProximityForestClassifier(reduce_features=False, distance_measure=calculate_tcr_dist2_cached),\n",
    "#     'group': 'proximity_forest',\n",
    "#     'extract_features': False,\n",
    "#     'columns_to_use': ['CDR3', 'V', 'J'],\n",
    "#     'drop_train_na': True,\n",
    "# }\n",
    "\n",
    "# proximity_forest_tcr_dist2_approx = {\n",
    "#     'name': 'ProximityForest (nan_dist, measure=tcr_approx)',\n",
    "#     'model': ProximityForestClassifier(reduce_features=False, distance_measure=calculate_approx_distance, distance_kwargs={'nan_distance': 0}),\n",
    "#     'group': 'proximity_forest',\n",
    "#     'extract_features': False,\n",
    "#     'columns_to_use': ['CDR3', 'V', 'J'],\n",
    "#     'drop_train_na': False,\n",
    "# }\n",
    "\n",
    "# proximity_forest_no_nan_tcr_dist2_approx = {\n",
    "#     'name': 'ProximityForest (no_nan, measure=tcr_approx)',\n",
    "#     'model': ProximityForestClassifier(reduce_features=False, distance_measure=calculate_approx_distance),\n",
    "#     'group': 'proximity_forest',\n",
    "#     'extract_features': False,\n",
    "#     'columns_to_use': ['CDR3', 'V', 'J'],\n",
    "#     'drop_train_na': True,\n",
    "# }\n",
    "\n",
    "# proximity_forest_lev = {\n",
    "#     'name': 'ProximityForest (nan_dist=0, measure=lev)',\n",
    "#     'model': ProximityForestClassifier(reduce_features=False, distance_measure=multi_lev),\n",
    "#     'group': 'proximity_forest',\n",
    "#     'extract_features': False,\n",
    "#     'columns_to_use': ['CDR3', 'V', 'J'],\n",
    "#     'drop_train_na': False,\n",
    "# }\n",
    "#\n",
    "# proximity_forest_no_nan_lev = {\n",
    "#     'name': 'ProximityForest (no_nan, measure=lev)',\n",
    "#     'model': ProximityForestClassifier(reduce_features=False, distance_measure=multi_lev),\n",
    "#     'group': 'proximity_forest',\n",
    "#     'extract_features': False,\n",
    "#     'columns_to_use': ['CDR3', 'V', 'J'],\n",
    "#     'drop_train_na': True,\n",
    "# }\n",
    "\n",
    "proximity_forest_hamm = {\n",
    "    'name': 'ProximityForest (nan_dist=0, measure=hamming, cdr_only)',\n",
    "    'model': ProximityForestClassifier(reduce_features=False, distance_measure=nan_hamming),\n",
    "    'group': 'proximity_forest',\n",
    "    'extract_features': False,\n",
    "    'columns_to_use': ['CDR3'],\n",
    "    'drop_train_na': False,\n",
    "}\n",
    "\n",
    "proximity_forest_no_nan_hamm = {\n",
    "    'name': 'ProximityForest (no_nan, measure=hamming, cdr_only)',\n",
    "    'model': ProximityForestClassifier(reduce_features=False, distance_measure=nan_hamming),\n",
    "    'group': 'proximity_forest',\n",
    "    'extract_features': False,\n",
    "    'columns_to_use': ['CDR3'],\n",
    "    'drop_train_na': True,\n",
    "}\n",
    "\n",
    "# models_to_evaluate.append(proximity_forest_nan_150)\n",
    "# models_to_evaluate.append(proximity_forest_tcr_dist2)\n",
    "# models_to_evaluate.append(proximity_forest_no_nan_tcr_dist2)\n",
    "# models_to_evaluate.append(proximity_forest_tcr_dist2_approx)\n",
    "# models_to_evaluate.append(proximity_forest_no_nan_tcr_dist2_approx)\n",
    "# models_to_evaluate.append(proximity_forest_lev)\n",
    "# models_to_evaluate.append(proximity_forest_no_nan_lev)\n",
    "models_to_evaluate.append(proximity_forest_hamm)\n",
    "models_to_evaluate.append(proximity_forest_no_nan_hamm)"
   ],
   "metadata": {
    "collapsed": false
   }
  },
  {
   "cell_type": "code",
   "execution_count": 24,
   "outputs": [],
   "source": [
    "% % script echo skipping\n",
    "\n",
    "from sklearn.neural_network import MLPClassifier\n",
    "\n",
    "# %%script echo skipping\n",
    "# mean imputation on a random forest, KNN classifier, proximity forest, MLP, histgradientboosting\n",
    "\n",
    "impute_rf = {\n",
    "    'name': 'RandomForest (mean imputed)',\n",
    "    'model': RandomForestClassifier(random_state=0),\n",
    "    'imputer': mean_imputer,\n",
    "    'group': 'mean_impute_models'\n",
    "}\n",
    "\n",
    "impute_knn = {\n",
    "    'name': 'KNN (mean imputed)',\n",
    "    'model': KNeighborsClassifier(),\n",
    "    'imputer': mean_imputer,\n",
    "    'group': 'mean_impute_models'\n",
    "}\n",
    "\n",
    "impute_proximity_forest = {\n",
    "    'name': 'ProximityForest (mean imputed)',\n",
    "    'model': ProximityForestClassifier(),\n",
    "    'imputer': mean_imputer,\n",
    "    'group': 'mean_impute_models',\n",
    "}\n",
    "\n",
    "impute_mlp = {\n",
    "    'name': 'MLP (mean imputed)',\n",
    "    'model': MLPClassifier(random_state=0),\n",
    "    'imputer': mean_imputer,\n",
    "    'group': 'mean_impute_models'\n",
    "}\n",
    "\n",
    "impute_hist_gradient_boosting = {\n",
    "    'name': 'HistGradientBoosting (mean imputed)',\n",
    "    'model': HistGradientBoostingClassifier(random_state=0),\n",
    "    'imputer': mean_imputer,\n",
    "    'group': 'mean_impute_models'\n",
    "}\n",
    "\n",
    "mean_imputed_classification_models = [\n",
    "    impute_rf,\n",
    "    impute_knn,\n",
    "    impute_proximity_forest,\n",
    "    impute_mlp,\n",
    "    impute_hist_gradient_boosting,\n",
    "]\n"
   ],
   "metadata": {
    "collapsed": false
   }
  },
  {
   "cell_type": "code",
   "execution_count": 29,
   "outputs": [],
   "source": [
    "% % script echo skipping\n",
    "\n",
    "# take all mean_imputed classification models, without nans\n",
    "\n",
    "mean_imputed_classification_models_no_nan = []\n",
    "for model in mean_imputed_classification_models:\n",
    "    new_model = model.copy()\n",
    "    new_model['name'] = new_model['name'].replace(\"mean imputed\", \"no nan\")\n",
    "    new_model['drop_train_na'] = True\n",
    "    # remove imputer from the dict\n",
    "    del new_model['imputer']\n",
    "    mean_imputed_classification_models_no_nan.append(new_model)\n",
    "\n",
    "models_to_evaluate.extend(mean_imputed_classification_models_no_nan)"
   ],
   "metadata": {
    "collapsed": false
   }
  },
  {
   "cell_type": "code",
   "execution_count": 30,
   "outputs": [
    {
     "name": "stdout",
     "output_type": "stream",
     "text": [
      "['RandomForest (no nan)', 'KNN (no nan)', 'ProximityForest (no nan)', 'MLP (no nan)', 'HistGradientBoosting (no nan)']\n",
      "### Dataset size: 50 ###\n"
     ]
    },
    {
     "name": "stderr",
     "output_type": "stream",
     "text": [
      "C:\\Users\\arnod\\PycharmProjects\\thesis\\util\\epitopes.py:6: DtypeWarning: Columns (20,29,30) have mixed types. Specify dtype option on import or set low_memory=False.\n",
      "  df_vdjdb = pd.read_csv('data/vdjdb-2022-03-30/vdjdb_full.txt', sep='\\t')\n"
     ]
    },
    {
     "name": "stdout",
     "output_type": "stream",
     "text": [
      "Number of negative samples changed from 47033 to 44205 (because of overlap with positive samples)\n",
      "Positive samples: alpha only: 2580, beta only: 3056, both: 2194, none: 0\n",
      "Negative samples (will be sampled to select same amount as positive): alpha only: 4499, beta only: 17510, both: 22196, none: 0\n",
      "Nan: train: 40, test: 108\n",
      "No Nan: train: 9, test: 108\n",
      "\n",
      "Evaluating model 1/5\n",
      "{'name': 'RandomForest (no nan)', 'model': RandomForestClassifier(random_state=0), 'group': 'mean_impute_models', 'drop_train_na': True}\n",
      "0.8567241379310344\n",
      "0.815862068965517\n",
      "0.8737931034482759\n",
      "0.8539655172413793\n",
      "0.8617241379310344\n",
      "\n",
      "Evaluating model 2/5\n",
      "{'name': 'KNN (no nan)', 'model': KNeighborsClassifier(), 'group': 'mean_impute_models', 'drop_train_na': True}\n",
      "0.6513793103448275\n",
      "0.4889655172413794\n",
      "0.6613793103448277\n",
      "0.4889655172413794\n",
      "0.6413793103448275\n",
      "\n",
      "Evaluating model 3/5\n",
      "{'name': 'ProximityForest (no nan)', 'model': <util.proximityforest.ProximityForestClassifier object at 0x000001A1EA87B340>, 'group': 'mean_impute_models', 'drop_train_na': True}\n"
     ]
    },
    {
     "name": "stderr",
     "output_type": "stream",
     "text": [
      "Fitting: 100%|██████████| 100/100 [00:00<00:00, 406.50it/s]\n",
      "Predicting: 100%|██████████| 100/100 [00:01<00:00, 79.59it/s]\n"
     ]
    },
    {
     "name": "stdout",
     "output_type": "stream",
     "text": [
      "0.7770689655172415\n"
     ]
    },
    {
     "name": "stderr",
     "output_type": "stream",
     "text": [
      "Fitting: 100%|██████████| 100/100 [00:00<00:00, 570.13it/s]\n",
      "Predicting: 100%|██████████| 100/100 [00:01<00:00, 96.69it/s]\n"
     ]
    },
    {
     "name": "stdout",
     "output_type": "stream",
     "text": [
      "0.6768965517241379\n"
     ]
    },
    {
     "name": "stderr",
     "output_type": "stream",
     "text": [
      "Fitting: 100%|██████████| 100/100 [00:00<00:00, 884.95it/s]\n",
      "Predicting: 100%|██████████| 100/100 [00:00<00:00, 122.25it/s]\n"
     ]
    },
    {
     "name": "stdout",
     "output_type": "stream",
     "text": [
      "0.7839655172413792\n"
     ]
    },
    {
     "name": "stderr",
     "output_type": "stream",
     "text": [
      "Fitting: 100%|██████████| 100/100 [00:00<00:00, 719.01it/s]\n",
      "Predicting: 100%|██████████| 100/100 [00:01<00:00, 93.27it/s]\n"
     ]
    },
    {
     "name": "stdout",
     "output_type": "stream",
     "text": [
      "0.7577586206896552\n"
     ]
    },
    {
     "name": "stderr",
     "output_type": "stream",
     "text": [
      "Fitting: 100%|██████████| 100/100 [00:00<00:00, 511.91it/s]\n",
      "Predicting: 100%|██████████| 100/100 [00:01<00:00, 70.80it/s]\n"
     ]
    },
    {
     "name": "stdout",
     "output_type": "stream",
     "text": [
      "0.7760344827586206\n",
      "\n",
      "Evaluating model 4/5\n",
      "{'name': 'MLP (no nan)', 'model': MLPClassifier(random_state=0), 'group': 'mean_impute_models', 'drop_train_na': True}\n",
      "0.7396551724137931\n",
      "0.598448275862069\n",
      "0.586551724137931\n",
      "0.47913793103448277\n",
      "0.6770689655172414\n",
      "\n",
      "Evaluating model 5/5\n",
      "{'name': 'HistGradientBoosting (no nan)', 'model': HistGradientBoostingClassifier(random_state=0), 'group': 'mean_impute_models', 'drop_train_na': True}\n",
      "0.5\n",
      "0.5\n",
      "0.5\n",
      "0.5\n",
      "0.5\n",
      "Baseline Random Forest (NaNs dropped in train) not found in scores, using RandomForest (no nan) instead\n",
      "Baseline Random Forest (NaNs dropped in train) not found in scores, using RandomForest (no nan) instead\n",
      "Finished evaluating 5 models at 20230614-165929 in 0:00:10.419774 seconds\n",
      "['outputs/model-evaluations-20230614-165919-GILGFVFTL-50-imputation-constant-numbers/scores-20230614-165929.csv']\n",
      "### Dataset size: 100 ###\n"
     ]
    },
    {
     "name": "stderr",
     "output_type": "stream",
     "text": [
      "C:\\Users\\arnod\\PycharmProjects\\thesis\\util\\epitopes.py:6: DtypeWarning: Columns (20,29,30) have mixed types. Specify dtype option on import or set low_memory=False.\n",
      "  df_vdjdb = pd.read_csv('data/vdjdb-2022-03-30/vdjdb_full.txt', sep='\\t')\n"
     ]
    },
    {
     "name": "stdout",
     "output_type": "stream",
     "text": [
      "Number of negative samples changed from 47033 to 44205 (because of overlap with positive samples)\n",
      "Positive samples: alpha only: 2580, beta only: 3056, both: 2194, none: 0\n",
      "Negative samples (will be sampled to select same amount as positive): alpha only: 4499, beta only: 17510, both: 22196, none: 0\n",
      "Nan: train: 80, test: 108\n",
      "No Nan: train: 18, test: 108\n",
      "\n",
      "Evaluating model 1/5\n",
      "{'name': 'RandomForest (no nan)', 'model': RandomForestClassifier(random_state=0), 'group': 'mean_impute_models', 'drop_train_na': True}\n",
      "0.9058620689655171\n",
      "0.8698275862068966\n",
      "0.8901724137931034\n",
      "0.8629310344827587\n",
      "0.8877586206896553\n",
      "\n",
      "Evaluating model 2/5\n",
      "{'name': 'KNN (no nan)', 'model': KNeighborsClassifier(), 'group': 'mean_impute_models', 'drop_train_na': True}\n",
      "0.7736206896551723\n",
      "0.796206896551724\n",
      "0.703448275862069\n",
      "0.703103448275862\n",
      "0.7170689655172414\n",
      "\n",
      "Evaluating model 3/5\n",
      "{'name': 'ProximityForest (no nan)', 'model': <util.proximityforest.ProximityForestClassifier object at 0x000001A1EA87B340>, 'group': 'mean_impute_models', 'drop_train_na': True}\n"
     ]
    },
    {
     "name": "stderr",
     "output_type": "stream",
     "text": [
      "Fitting: 100%|██████████| 100/100 [00:00<00:00, 174.89it/s]\n",
      "Predicting: 100%|██████████| 100/100 [00:01<00:00, 56.21it/s]\n"
     ]
    },
    {
     "name": "stdout",
     "output_type": "stream",
     "text": [
      "0.7486206896551725\n"
     ]
    },
    {
     "name": "stderr",
     "output_type": "stream",
     "text": [
      "Fitting: 100%|██████████| 100/100 [00:00<00:00, 267.26it/s]\n",
      "Predicting: 100%|██████████| 100/100 [00:01<00:00, 60.78it/s]\n"
     ]
    },
    {
     "name": "stdout",
     "output_type": "stream",
     "text": [
      "0.7601724137931034\n"
     ]
    },
    {
     "name": "stderr",
     "output_type": "stream",
     "text": [
      "Fitting: 100%|██████████| 100/100 [00:00<00:00, 117.50it/s]\n",
      "Predicting: 100%|██████████| 100/100 [00:02<00:00, 33.98it/s]\n"
     ]
    },
    {
     "name": "stdout",
     "output_type": "stream",
     "text": [
      "0.7239655172413793\n"
     ]
    },
    {
     "name": "stderr",
     "output_type": "stream",
     "text": [
      "Fitting: 100%|██████████| 100/100 [00:00<00:00, 155.13it/s]\n",
      "Predicting: 100%|██████████| 100/100 [00:02<00:00, 43.72it/s]\n"
     ]
    },
    {
     "name": "stdout",
     "output_type": "stream",
     "text": [
      "0.7096551724137932\n"
     ]
    },
    {
     "name": "stderr",
     "output_type": "stream",
     "text": [
      "Fitting: 100%|██████████| 100/100 [00:00<00:00, 124.82it/s]\n",
      "Predicting: 100%|██████████| 100/100 [00:02<00:00, 36.69it/s]\n"
     ]
    },
    {
     "name": "stdout",
     "output_type": "stream",
     "text": [
      "0.716551724137931\n",
      "\n",
      "Evaluating model 4/5\n",
      "{'name': 'MLP (no nan)', 'model': MLPClassifier(random_state=0), 'group': 'mean_impute_models', 'drop_train_na': True}\n",
      "0.7993103448275862\n",
      "0.8024137931034482\n",
      "0.6548275862068966\n",
      "0.8020689655172415\n",
      "0.6003448275862069\n",
      "\n",
      "Evaluating model 5/5\n",
      "{'name': 'HistGradientBoosting (no nan)', 'model': HistGradientBoostingClassifier(random_state=0), 'group': 'mean_impute_models', 'drop_train_na': True}\n",
      "0.5\n",
      "0.5\n",
      "0.5\n",
      "0.5\n",
      "0.5\n",
      "Baseline Random Forest (NaNs dropped in train) not found in scores, using RandomForest (no nan) instead\n",
      "Baseline Random Forest (NaNs dropped in train) not found in scores, using RandomForest (no nan) instead\n",
      "Finished evaluating 5 models at 20230614-170002 in 0:00:19.659293 seconds\n",
      "['outputs/model-evaluations-20230614-165919-GILGFVFTL-50-imputation-constant-numbers/scores-20230614-165929.csv', 'outputs/model-evaluations-20230614-165942-GILGFVFTL-100-imputation-constant-numbers/scores-20230614-170002.csv']\n",
      "### Dataset size: 200 ###\n"
     ]
    },
    {
     "name": "stderr",
     "output_type": "stream",
     "text": [
      "C:\\Users\\arnod\\PycharmProjects\\thesis\\util\\epitopes.py:6: DtypeWarning: Columns (20,29,30) have mixed types. Specify dtype option on import or set low_memory=False.\n",
      "  df_vdjdb = pd.read_csv('data/vdjdb-2022-03-30/vdjdb_full.txt', sep='\\t')\n"
     ]
    },
    {
     "name": "stdout",
     "output_type": "stream",
     "text": [
      "Number of negative samples changed from 47033 to 44205 (because of overlap with positive samples)\n",
      "Positive samples: alpha only: 2580, beta only: 3056, both: 2194, none: 0\n",
      "Negative samples (will be sampled to select same amount as positive): alpha only: 4499, beta only: 17510, both: 22196, none: 0\n",
      "Nan: train: 160, test: 108\n",
      "No Nan: train: 40, test: 108\n",
      "\n",
      "Evaluating model 1/5\n",
      "{'name': 'RandomForest (no nan)', 'model': RandomForestClassifier(random_state=0), 'group': 'mean_impute_models', 'drop_train_na': True}\n",
      "0.9098275862068965\n",
      "0.895\n",
      "0.8920689655172414\n",
      "0.8670689655172412\n",
      "0.8844827586206897\n",
      "\n",
      "Evaluating model 2/5\n",
      "{'name': 'KNN (no nan)', 'model': KNeighborsClassifier(), 'group': 'mean_impute_models', 'drop_train_na': True}\n",
      "0.8122413793103447\n",
      "0.8362068965517241\n",
      "0.8267241379310345\n",
      "0.8196551724137933\n",
      "0.8322413793103447\n",
      "\n",
      "Evaluating model 3/5\n",
      "{'name': 'ProximityForest (no nan)', 'model': <util.proximityforest.ProximityForestClassifier object at 0x000001A1EA87B340>, 'group': 'mean_impute_models', 'drop_train_na': True}\n"
     ]
    },
    {
     "name": "stderr",
     "output_type": "stream",
     "text": [
      "Fitting: 100%|██████████| 100/100 [00:02<00:00, 37.46it/s]\n",
      "Predicting: 100%|██████████| 100/100 [00:04<00:00, 21.24it/s]\n"
     ]
    },
    {
     "name": "stdout",
     "output_type": "stream",
     "text": [
      "0.7762068965517241\n"
     ]
    },
    {
     "name": "stderr",
     "output_type": "stream",
     "text": [
      "Fitting: 100%|██████████| 100/100 [00:02<00:00, 42.99it/s]\n",
      "Predicting: 100%|██████████| 100/100 [00:04<00:00, 23.66it/s]\n"
     ]
    },
    {
     "name": "stdout",
     "output_type": "stream",
     "text": [
      "0.8512068965517241\n"
     ]
    },
    {
     "name": "stderr",
     "output_type": "stream",
     "text": [
      "Fitting: 100%|██████████| 100/100 [00:02<00:00, 44.83it/s]\n",
      "Predicting: 100%|██████████| 100/100 [00:03<00:00, 27.28it/s]\n"
     ]
    },
    {
     "name": "stdout",
     "output_type": "stream",
     "text": [
      "0.7836206896551724\n"
     ]
    },
    {
     "name": "stderr",
     "output_type": "stream",
     "text": [
      "Fitting: 100%|██████████| 100/100 [00:01<00:00, 69.43it/s]\n",
      "Predicting: 100%|██████████| 100/100 [00:02<00:00, 36.42it/s]\n"
     ]
    },
    {
     "name": "stdout",
     "output_type": "stream",
     "text": [
      "0.7998275862068965\n"
     ]
    },
    {
     "name": "stderr",
     "output_type": "stream",
     "text": [
      "Fitting: 100%|██████████| 100/100 [00:01<00:00, 63.77it/s]\n",
      "Predicting: 100%|██████████| 100/100 [00:03<00:00, 31.88it/s]\n"
     ]
    },
    {
     "name": "stdout",
     "output_type": "stream",
     "text": [
      "0.8518965517241379\n",
      "\n",
      "Evaluating model 4/5\n",
      "{'name': 'MLP (no nan)', 'model': MLPClassifier(random_state=0), 'group': 'mean_impute_models', 'drop_train_na': True}\n",
      "0.8210344827586207\n",
      "0.7993103448275862\n",
      "0.7855172413793103\n",
      "0.8148275862068965\n",
      "0.7589655172413793\n",
      "\n",
      "Evaluating model 5/5\n",
      "{'name': 'HistGradientBoosting (no nan)', 'model': HistGradientBoostingClassifier(random_state=0), 'group': 'mean_impute_models', 'drop_train_na': True}\n",
      "0.8760344827586207\n",
      "0.7955172413793105\n",
      "0.8510344827586207\n",
      "0.5\n",
      "0.5\n",
      "Baseline Random Forest (NaNs dropped in train) not found in scores, using RandomForest (no nan) instead\n",
      "Baseline Random Forest (NaNs dropped in train) not found in scores, using RandomForest (no nan) instead\n",
      "Finished evaluating 5 models at 20230614-170101 in 0:00:40.231059 seconds\n",
      "['outputs/model-evaluations-20230614-165919-GILGFVFTL-50-imputation-constant-numbers/scores-20230614-165929.csv', 'outputs/model-evaluations-20230614-165942-GILGFVFTL-100-imputation-constant-numbers/scores-20230614-170002.csv', 'outputs/model-evaluations-20230614-170020-GILGFVFTL-200-imputation-constant-numbers/scores-20230614-170101.csv']\n",
      "### Dataset size: 500 ###\n"
     ]
    },
    {
     "name": "stderr",
     "output_type": "stream",
     "text": [
      "C:\\Users\\arnod\\PycharmProjects\\thesis\\util\\epitopes.py:6: DtypeWarning: Columns (20,29,30) have mixed types. Specify dtype option on import or set low_memory=False.\n",
      "  df_vdjdb = pd.read_csv('data/vdjdb-2022-03-30/vdjdb_full.txt', sep='\\t')\n"
     ]
    },
    {
     "name": "stdout",
     "output_type": "stream",
     "text": [
      "Number of negative samples changed from 47033 to 44205 (because of overlap with positive samples)\n",
      "Positive samples: alpha only: 2580, beta only: 3056, both: 2194, none: 0\n",
      "Negative samples (will be sampled to select same amount as positive): alpha only: 4499, beta only: 17510, both: 22196, none: 0\n",
      "Nan: train: 400, test: 108\n",
      "No Nan: train: 100, test: 108\n",
      "\n",
      "Evaluating model 1/5\n",
      "{'name': 'RandomForest (no nan)', 'model': RandomForestClassifier(random_state=0), 'group': 'mean_impute_models', 'drop_train_na': True}\n",
      "0.8832758620689654\n",
      "0.8863793103448276\n",
      "0.890344827586207\n",
      "0.8832758620689655\n",
      "0.8756896551724137\n",
      "\n",
      "Evaluating model 2/5\n",
      "{'name': 'KNN (no nan)', 'model': KNeighborsClassifier(), 'group': 'mean_impute_models', 'drop_train_na': True}\n",
      "0.8103448275862069\n",
      "0.8005172413793102\n",
      "0.8287931034482758\n",
      "0.8210344827586207\n",
      "0.8410344827586206\n",
      "\n",
      "Evaluating model 3/5\n",
      "{'name': 'ProximityForest (no nan)', 'model': <util.proximityforest.ProximityForestClassifier object at 0x000001A1EA87B340>, 'group': 'mean_impute_models', 'drop_train_na': True}\n"
     ]
    },
    {
     "name": "stderr",
     "output_type": "stream",
     "text": [
      "Fitting: 100%|██████████| 100/100 [00:03<00:00, 29.34it/s]\n",
      "Predicting: 100%|██████████| 100/100 [00:03<00:00, 32.58it/s]\n"
     ]
    },
    {
     "name": "stdout",
     "output_type": "stream",
     "text": [
      "0.8572413793103448\n"
     ]
    },
    {
     "name": "stderr",
     "output_type": "stream",
     "text": [
      "Fitting: 100%|██████████| 100/100 [00:03<00:00, 25.92it/s]\n",
      "Predicting: 100%|██████████| 100/100 [00:03<00:00, 25.40it/s]\n"
     ]
    },
    {
     "name": "stdout",
     "output_type": "stream",
     "text": [
      "0.8524137931034482\n"
     ]
    },
    {
     "name": "stderr",
     "output_type": "stream",
     "text": [
      "Fitting: 100%|██████████| 100/100 [00:03<00:00, 28.44it/s]\n",
      "Predicting: 100%|██████████| 100/100 [00:03<00:00, 30.44it/s]\n"
     ]
    },
    {
     "name": "stdout",
     "output_type": "stream",
     "text": [
      "0.856551724137931\n"
     ]
    },
    {
     "name": "stderr",
     "output_type": "stream",
     "text": [
      "Fitting: 100%|██████████| 100/100 [00:03<00:00, 26.57it/s]\n",
      "Predicting: 100%|██████████| 100/100 [00:03<00:00, 33.12it/s]\n"
     ]
    },
    {
     "name": "stdout",
     "output_type": "stream",
     "text": [
      "0.8510344827586206\n"
     ]
    },
    {
     "name": "stderr",
     "output_type": "stream",
     "text": [
      "Fitting: 100%|██████████| 100/100 [00:03<00:00, 32.87it/s]\n",
      "Predicting: 100%|██████████| 100/100 [00:04<00:00, 24.97it/s]\n"
     ]
    },
    {
     "name": "stdout",
     "output_type": "stream",
     "text": [
      "0.8622413793103448\n",
      "\n",
      "Evaluating model 4/5\n",
      "{'name': 'MLP (no nan)', 'model': MLPClassifier(random_state=0), 'group': 'mean_impute_models', 'drop_train_na': True}\n",
      "0.7779310344827585\n",
      "0.7758620689655172\n",
      "0.8220689655172414\n",
      "0.8162068965517242\n",
      "0.8196551724137932\n",
      "\n",
      "Evaluating model 5/5\n",
      "{'name': 'HistGradientBoosting (no nan)', 'model': HistGradientBoostingClassifier(random_state=0), 'group': 'mean_impute_models', 'drop_train_na': True}\n",
      "0.8751724137931034\n",
      "0.9086206896551724\n",
      "0.8851724137931035\n",
      "0.8948275862068965\n",
      "0.9113793103448276\n",
      "Baseline Random Forest (NaNs dropped in train) not found in scores, using RandomForest (no nan) instead\n",
      "Baseline Random Forest (NaNs dropped in train) not found in scores, using RandomForest (no nan) instead\n",
      "Finished evaluating 5 models at 20230614-170218 in 0:01:05.050767 seconds\n",
      "['outputs/model-evaluations-20230614-165919-GILGFVFTL-50-imputation-constant-numbers/scores-20230614-165929.csv', 'outputs/model-evaluations-20230614-165942-GILGFVFTL-100-imputation-constant-numbers/scores-20230614-170002.csv', 'outputs/model-evaluations-20230614-170020-GILGFVFTL-200-imputation-constant-numbers/scores-20230614-170101.csv', 'outputs/model-evaluations-20230614-170113-GILGFVFTL-500-imputation-constant-numbers/scores-20230614-170218.csv']\n",
      "### Dataset size: 1000 ###\n"
     ]
    },
    {
     "name": "stderr",
     "output_type": "stream",
     "text": [
      "C:\\Users\\arnod\\PycharmProjects\\thesis\\util\\epitopes.py:6: DtypeWarning: Columns (20,29,30) have mixed types. Specify dtype option on import or set low_memory=False.\n",
      "  df_vdjdb = pd.read_csv('data/vdjdb-2022-03-30/vdjdb_full.txt', sep='\\t')\n"
     ]
    },
    {
     "name": "stdout",
     "output_type": "stream",
     "text": [
      "Number of negative samples changed from 47033 to 44205 (because of overlap with positive samples)\n",
      "Positive samples: alpha only: 2580, beta only: 3056, both: 2194, none: 0\n",
      "Negative samples (will be sampled to select same amount as positive): alpha only: 4499, beta only: 17510, both: 22196, none: 0\n",
      "Nan: train: 800, test: 108\n",
      "No Nan: train: 192, test: 108\n",
      "\n",
      "Evaluating model 1/5\n",
      "{'name': 'RandomForest (no nan)', 'model': RandomForestClassifier(random_state=0), 'group': 'mean_impute_models', 'drop_train_na': True}\n",
      "0.891551724137931\n",
      "0.8837931034482758\n",
      "0.8979310344827586\n",
      "0.8932758620689655\n",
      "0.8758620689655172\n",
      "\n",
      "Evaluating model 2/5\n",
      "{'name': 'KNN (no nan)', 'model': KNeighborsClassifier(), 'group': 'mean_impute_models', 'drop_train_na': True}\n",
      "0.8368965517241379\n",
      "0.8468965517241378\n",
      "0.838448275862069\n",
      "0.8501724137931035\n",
      "0.8610344827586206\n",
      "\n",
      "Evaluating model 3/5\n",
      "{'name': 'ProximityForest (no nan)', 'model': <util.proximityforest.ProximityForestClassifier object at 0x000001A1EA87B340>, 'group': 'mean_impute_models', 'drop_train_na': True}\n"
     ]
    },
    {
     "name": "stderr",
     "output_type": "stream",
     "text": [
      "Fitting: 100%|██████████| 100/100 [00:05<00:00, 19.37it/s]\n",
      "Predicting: 100%|██████████| 100/100 [00:02<00:00, 38.26it/s]\n"
     ]
    },
    {
     "name": "stdout",
     "output_type": "stream",
     "text": [
      "0.8784482758620689\n"
     ]
    },
    {
     "name": "stderr",
     "output_type": "stream",
     "text": [
      "Fitting: 100%|██████████| 100/100 [00:05<00:00, 17.96it/s]\n",
      "Predicting: 100%|██████████| 100/100 [00:03<00:00, 25.19it/s]\n"
     ]
    },
    {
     "name": "stdout",
     "output_type": "stream",
     "text": [
      "0.8612068965517242\n"
     ]
    },
    {
     "name": "stderr",
     "output_type": "stream",
     "text": [
      "Fitting: 100%|██████████| 100/100 [00:06<00:00, 16.07it/s]\n",
      "Predicting: 100%|██████████| 100/100 [00:03<00:00, 33.21it/s]\n"
     ]
    },
    {
     "name": "stdout",
     "output_type": "stream",
     "text": [
      "0.8684482758620689\n"
     ]
    },
    {
     "name": "stderr",
     "output_type": "stream",
     "text": [
      "Fitting: 100%|██████████| 100/100 [00:06<00:00, 15.01it/s]\n",
      "Predicting: 100%|██████████| 100/100 [00:04<00:00, 20.31it/s]\n"
     ]
    },
    {
     "name": "stdout",
     "output_type": "stream",
     "text": [
      "0.863448275862069\n"
     ]
    },
    {
     "name": "stderr",
     "output_type": "stream",
     "text": [
      "Fitting: 100%|██████████| 100/100 [00:07<00:00, 12.86it/s]\n",
      "Predicting: 100%|██████████| 100/100 [00:04<00:00, 24.74it/s]\n"
     ]
    },
    {
     "name": "stdout",
     "output_type": "stream",
     "text": [
      "0.8708620689655173\n",
      "\n",
      "Evaluating model 4/5\n",
      "{'name': 'MLP (no nan)', 'model': MLPClassifier(random_state=0), 'group': 'mean_impute_models', 'drop_train_na': True}\n",
      "0.8603448275862068\n",
      "0.8772413793103448\n",
      "0.859655172413793\n",
      "0.8637931034482759\n",
      "0.823103448275862\n",
      "\n",
      "Evaluating model 5/5\n",
      "{'name': 'HistGradientBoosting (no nan)', 'model': HistGradientBoostingClassifier(random_state=0), 'group': 'mean_impute_models', 'drop_train_na': True}\n",
      "0.8958620689655172\n",
      "0.887241379310345\n",
      "0.9010344827586205\n",
      "0.8910344827586207\n",
      "0.8796551724137929\n",
      "Baseline Random Forest (NaNs dropped in train) not found in scores, using RandomForest (no nan) instead\n",
      "Baseline Random Forest (NaNs dropped in train) not found in scores, using RandomForest (no nan) instead\n",
      "Finished evaluating 5 models at 20230614-170418 in 0:01:40.989767 seconds\n",
      "['outputs/model-evaluations-20230614-165919-GILGFVFTL-50-imputation-constant-numbers/scores-20230614-165929.csv', 'outputs/model-evaluations-20230614-165942-GILGFVFTL-100-imputation-constant-numbers/scores-20230614-170002.csv', 'outputs/model-evaluations-20230614-170020-GILGFVFTL-200-imputation-constant-numbers/scores-20230614-170101.csv', 'outputs/model-evaluations-20230614-170113-GILGFVFTL-500-imputation-constant-numbers/scores-20230614-170218.csv', 'outputs/model-evaluations-20230614-170237-GILGFVFTL-1000-imputation-constant-numbers/scores-20230614-170418.csv']\n"
     ]
    },
    {
     "data": {
      "text/plain": "<Figure size 432x288 with 0 Axes>"
     },
     "metadata": {},
     "output_type": "display_data"
    }
   ],
   "source": [
    "print(list([m['name'] for m in models_to_evaluate]))\n",
    "outputs = []\n",
    "\n",
    "# dataset_size = [1000]\n",
    "# dataset_size = [50, 100, 200, 500, 1000, 2000, 5000, None]\n",
    "dataset_size = [50, 100, 200, 500, 1000]\n",
    "for dataset_size in dataset_size:\n",
    "    print(f\"### Dataset size: {dataset_size} ###\")\n",
    "    update_data_per_fold(dataset_size)\n",
    "    scores, output_csv = evaluate_model_list(models_to_evaluate)\n",
    "    outputs.append(output_csv)\n",
    "    print(outputs)\n",
    "    # plot_scores(scores, \"Model performance (AUC)\", baseline_name='RandomForest (0, inputed)', hue_group_diff=False)\n"
   ],
   "metadata": {
    "collapsed": false
   }
  },
  {
   "cell_type": "code",
   "execution_count": 10,
   "outputs": [],
   "source": [
    "models_to_evaluate = []"
   ],
   "metadata": {
    "collapsed": false
   }
  },
  {
   "cell_type": "code",
   "execution_count": 14,
   "outputs": [],
   "source": [
    "# distance functions\n",
    "# knn with tcrdist3\n",
    "\n",
    "knn_tcrdist3 = {\n",
    "    'name': 'KNN (tcrdist3, no_nan)',\n",
    "    'model': KNNString(metric=calculate_tcr_dist2_cached, k=5),\n",
    "    'group': 'knn',\n",
    "    'extract_features': False,\n",
    "    'drop_train_na': True,\n",
    "}\n",
    "\n",
    "# tcrdist values (from random observations) 0-400\n",
    "# typically 200-300\n",
    "\n",
    "knn_tcrdist3_nan_250 = {\n",
    "    'name': 'KNN (tcrdist3, nan_dist=200)',\n",
    "    'model': KNNString(metric=calculate_tcr_dist2_cached, k=5, metric_kwargs={'nan_distance': 250}),\n",
    "    'group': 'knn',\n",
    "    'extract_features': False,\n",
    "    'drop_train_na': False,\n",
    "}\n",
    "\n",
    "models_to_evaluate.append(knn_tcrdist3)\n",
    "models_to_evaluate.append(knn_tcrdist3_nan_250)"
   ],
   "metadata": {
    "collapsed": false
   }
  },
  {
   "cell_type": "code",
   "execution_count": 15,
   "outputs": [
    {
     "name": "stdout",
     "output_type": "stream",
     "text": [
      "['KNN (tcrdist3, no_nan)', 'KNN (tcrdist3, no_nan)', 'KNN (tcrdist3, nan_dist=0)', 'KNN (tcrdist3, nan_dist=100)', 'KNN (tcrdist3, nan_dist=200)', 'KNN (tcrdist3, nan_dist=400)']\n",
      "### Dataset size: 50 ###\n"
     ]
    },
    {
     "name": "stderr",
     "output_type": "stream",
     "text": [
      "C:\\Users\\arnod\\PycharmProjects\\thesis\\util\\epitopes.py:6: DtypeWarning: Columns (20,29,30) have mixed types. Specify dtype option on import or set low_memory=False.\n",
      "  df_vdjdb = pd.read_csv('data/vdjdb-2022-03-30/vdjdb_full.txt', sep='\\t')\n"
     ]
    },
    {
     "name": "stdout",
     "output_type": "stream",
     "text": [
      "Number of negative samples changed from 47033 to 44205 (because of overlap with positive samples)\n",
      "Positive samples: alpha only: 2580, beta only: 3056, both: 2194, none: 0\n",
      "Negative samples (will be sampled to select same amount as positive): alpha only: 4499, beta only: 17510, both: 22196, none: 0\n",
      "Nan: train: 40, test: 108\n",
      "No Nan: train: 9, test: 108\n",
      "\n",
      "Evaluating model 1/6\n",
      "{'name': 'KNN (tcrdist3, no_nan)', 'model': <util.knnstring.KNNString object at 0x000001F8B7E177F0>, 'group': 'knn', 'extract_features': False, 'drop_train_na': True}\n",
      "0.8051724137931033\n",
      "0.7525862068965516\n"
     ]
    },
    {
     "ename": "KeyboardInterrupt",
     "evalue": "",
     "output_type": "error",
     "traceback": [
      "\u001B[1;31m---------------------------------------------------------------------------\u001B[0m",
      "\u001B[1;31mKeyboardInterrupt\u001B[0m                         Traceback (most recent call last)",
      "\u001B[1;32m~\\AppData\\Local\\Temp/ipykernel_13528/758119246.py\u001B[0m in \u001B[0;36m<module>\u001B[1;34m\u001B[0m\n\u001B[0;32m      8\u001B[0m     \u001B[0mprint\u001B[0m\u001B[1;33m(\u001B[0m\u001B[1;34mf\"### Dataset size: {dataset_size} ###\"\u001B[0m\u001B[1;33m)\u001B[0m\u001B[1;33m\u001B[0m\u001B[1;33m\u001B[0m\u001B[0m\n\u001B[0;32m      9\u001B[0m     \u001B[0mupdate_data_per_fold\u001B[0m\u001B[1;33m(\u001B[0m\u001B[0mdataset_size\u001B[0m\u001B[1;33m)\u001B[0m\u001B[1;33m\u001B[0m\u001B[1;33m\u001B[0m\u001B[0m\n\u001B[1;32m---> 10\u001B[1;33m     \u001B[0mscores\u001B[0m\u001B[1;33m,\u001B[0m \u001B[0moutput_csv\u001B[0m \u001B[1;33m=\u001B[0m \u001B[0mevaluate_model_list\u001B[0m\u001B[1;33m(\u001B[0m\u001B[0mmodels_to_evaluate\u001B[0m\u001B[1;33m)\u001B[0m\u001B[1;33m\u001B[0m\u001B[1;33m\u001B[0m\u001B[0m\n\u001B[0m\u001B[0;32m     11\u001B[0m     \u001B[0moutputs\u001B[0m\u001B[1;33m.\u001B[0m\u001B[0mappend\u001B[0m\u001B[1;33m(\u001B[0m\u001B[0moutput_csv\u001B[0m\u001B[1;33m)\u001B[0m\u001B[1;33m\u001B[0m\u001B[1;33m\u001B[0m\u001B[0m\n\u001B[0;32m     12\u001B[0m     \u001B[0mprint\u001B[0m\u001B[1;33m(\u001B[0m\u001B[0moutputs\u001B[0m\u001B[1;33m)\u001B[0m\u001B[1;33m\u001B[0m\u001B[1;33m\u001B[0m\u001B[0m\n",
      "\u001B[1;32m~\\AppData\\Local\\Temp/ipykernel_13528/3714464165.py\u001B[0m in \u001B[0;36mevaluate_model_list\u001B[1;34m(models_to_evaluate)\u001B[0m\n\u001B[0;32m     22\u001B[0m         \u001B[0mprint\u001B[0m\u001B[1;33m(\u001B[0m\u001B[1;34mf\"\\nEvaluating model {i + 1}/{len(models_to_evaluate)}\"\u001B[0m\u001B[1;33m)\u001B[0m\u001B[1;33m\u001B[0m\u001B[1;33m\u001B[0m\u001B[0m\n\u001B[0;32m     23\u001B[0m         \u001B[0mprint\u001B[0m\u001B[1;33m(\u001B[0m\u001B[0mmodel\u001B[0m\u001B[1;33m)\u001B[0m\u001B[1;33m\u001B[0m\u001B[1;33m\u001B[0m\u001B[0m\n\u001B[1;32m---> 24\u001B[1;33m         \u001B[0mmodel_scores\u001B[0m \u001B[1;33m=\u001B[0m \u001B[0mevaluate_model\u001B[0m\u001B[1;33m(\u001B[0m\u001B[0mmodel\u001B[0m\u001B[1;33m)\u001B[0m\u001B[1;33m\u001B[0m\u001B[1;33m\u001B[0m\u001B[0m\n\u001B[0m\u001B[0;32m     25\u001B[0m \u001B[1;33m\u001B[0m\u001B[0m\n\u001B[0;32m     26\u001B[0m         \u001B[0mmodel_scores\u001B[0m\u001B[1;33m[\u001B[0m\u001B[1;34m'test_nr'\u001B[0m\u001B[1;33m]\u001B[0m \u001B[1;33m=\u001B[0m \u001B[0mi\u001B[0m \u001B[1;33m+\u001B[0m \u001B[1;36m1\u001B[0m\u001B[1;33m\u001B[0m\u001B[1;33m\u001B[0m\u001B[0m\n",
      "\u001B[1;32m~\\AppData\\Local\\Temp/ipykernel_13528/1035171886.py\u001B[0m in \u001B[0;36mevaluate_model\u001B[1;34m(model_description)\u001B[0m\n\u001B[0;32m     99\u001B[0m                     \u001B[0mmodel\u001B[0m \u001B[1;33m=\u001B[0m \u001B[0mPipeline\u001B[0m\u001B[1;33m(\u001B[0m\u001B[1;33m[\u001B[0m\u001B[1;33m(\u001B[0m\u001B[1;34m'imputer'\u001B[0m\u001B[1;33m,\u001B[0m \u001B[0mmodel_imputer\u001B[0m\u001B[1;33m)\u001B[0m\u001B[1;33m,\u001B[0m \u001B[1;33m(\u001B[0m\u001B[1;34m'model'\u001B[0m\u001B[1;33m,\u001B[0m \u001B[0mmodel\u001B[0m\u001B[1;33m)\u001B[0m\u001B[1;33m]\u001B[0m\u001B[1;33m)\u001B[0m\u001B[1;33m\u001B[0m\u001B[1;33m\u001B[0m\u001B[0m\n\u001B[0;32m    100\u001B[0m                     \u001B[0mmodel_imputer\u001B[0m \u001B[1;33m=\u001B[0m \u001B[1;32mNone\u001B[0m\u001B[1;33m\u001B[0m\u001B[1;33m\u001B[0m\u001B[0m\n\u001B[1;32m--> 101\u001B[1;33m                 \u001B[0mauc\u001B[0m \u001B[1;33m=\u001B[0m \u001B[0mevaluate_no_cv\u001B[0m\u001B[1;33m(\u001B[0m\u001B[0mmodel\u001B[0m\u001B[1;33m,\u001B[0m \u001B[0mx\u001B[0m\u001B[1;33m,\u001B[0m \u001B[0my\u001B[0m\u001B[1;33m,\u001B[0m \u001B[0mx_test\u001B[0m\u001B[1;33m,\u001B[0m \u001B[0my_test\u001B[0m\u001B[1;33m,\u001B[0m \u001B[0mmodel_imputer\u001B[0m\u001B[1;33m)\u001B[0m\u001B[1;33m\u001B[0m\u001B[1;33m\u001B[0m\u001B[0m\n\u001B[0m\u001B[0;32m    102\u001B[0m \u001B[1;33m\u001B[0m\u001B[0m\n\u001B[0;32m    103\u001B[0m             \u001B[1;31m# add the scores to the dataframe\u001B[0m\u001B[1;33m\u001B[0m\u001B[1;33m\u001B[0m\u001B[0m\n",
      "\u001B[1;32m~\\PycharmProjects\\thesis\\util\\classification.py\u001B[0m in \u001B[0;36mevaluate_no_cv\u001B[1;34m(clf, x, y, x_test, y_test, model_imputer)\u001B[0m\n\u001B[0;32m     84\u001B[0m \u001B[1;33m\u001B[0m\u001B[0m\n\u001B[0;32m     85\u001B[0m     \u001B[0mclf\u001B[0m\u001B[1;33m.\u001B[0m\u001B[0mfit\u001B[0m\u001B[1;33m(\u001B[0m\u001B[0mx\u001B[0m\u001B[1;33m,\u001B[0m \u001B[0my\u001B[0m\u001B[1;33m)\u001B[0m\u001B[1;33m\u001B[0m\u001B[1;33m\u001B[0m\u001B[0m\n\u001B[1;32m---> 86\u001B[1;33m     \u001B[0my_pred\u001B[0m \u001B[1;33m=\u001B[0m \u001B[0mclf\u001B[0m\u001B[1;33m.\u001B[0m\u001B[0mpredict_proba\u001B[0m\u001B[1;33m(\u001B[0m\u001B[0mx_test\u001B[0m\u001B[1;33m)\u001B[0m\u001B[1;33m[\u001B[0m\u001B[1;33m:\u001B[0m\u001B[1;33m,\u001B[0m \u001B[1;36m1\u001B[0m\u001B[1;33m]\u001B[0m\u001B[1;33m\u001B[0m\u001B[1;33m\u001B[0m\u001B[0m\n\u001B[0m\u001B[0;32m     87\u001B[0m     \u001B[1;32massert\u001B[0m \u001B[0mlen\u001B[0m\u001B[1;33m(\u001B[0m\u001B[0my_pred\u001B[0m\u001B[1;33m)\u001B[0m \u001B[1;33m==\u001B[0m \u001B[0mlen\u001B[0m\u001B[1;33m(\u001B[0m\u001B[0my_test\u001B[0m\u001B[1;33m)\u001B[0m\u001B[1;33m,\u001B[0m \u001B[1;34mf'Length of y_pred ({len(y_pred)}) and y_test ({len(y_test)}) not equal'\u001B[0m\u001B[1;33m\u001B[0m\u001B[1;33m\u001B[0m\u001B[0m\n\u001B[0;32m     88\u001B[0m     \u001B[0mfpr\u001B[0m\u001B[1;33m,\u001B[0m \u001B[0mtpr\u001B[0m\u001B[1;33m,\u001B[0m \u001B[0mthresholds\u001B[0m \u001B[1;33m=\u001B[0m \u001B[0mmetrics\u001B[0m\u001B[1;33m.\u001B[0m\u001B[0mroc_curve\u001B[0m\u001B[1;33m(\u001B[0m\u001B[0my_test\u001B[0m\u001B[1;33m,\u001B[0m \u001B[0my_pred\u001B[0m\u001B[1;33m,\u001B[0m \u001B[0mpos_label\u001B[0m\u001B[1;33m=\u001B[0m\u001B[1;36m1\u001B[0m\u001B[1;33m)\u001B[0m\u001B[1;33m\u001B[0m\u001B[1;33m\u001B[0m\u001B[0m\n",
      "\u001B[1;32m~\\PycharmProjects\\thesis\\util\\knnstring.py\u001B[0m in \u001B[0;36mpredict_proba\u001B[1;34m(self, X)\u001B[0m\n\u001B[0;32m     36\u001B[0m             \u001B[0mdistances\u001B[0m \u001B[1;33m=\u001B[0m \u001B[1;33m[\u001B[0m\u001B[1;33m]\u001B[0m\u001B[1;33m\u001B[0m\u001B[1;33m\u001B[0m\u001B[0m\n\u001B[0;32m     37\u001B[0m             \u001B[1;32mfor\u001B[0m \u001B[0mj\u001B[0m\u001B[1;33m,\u001B[0m \u001B[0mrow_train\u001B[0m \u001B[1;32min\u001B[0m \u001B[0mself\u001B[0m\u001B[1;33m.\u001B[0m\u001B[0mX_train\u001B[0m\u001B[1;33m.\u001B[0m\u001B[0miterrows\u001B[0m\u001B[1;33m(\u001B[0m\u001B[1;33m)\u001B[0m\u001B[1;33m:\u001B[0m\u001B[1;33m\u001B[0m\u001B[1;33m\u001B[0m\u001B[0m\n\u001B[1;32m---> 38\u001B[1;33m                 \u001B[0mdist\u001B[0m \u001B[1;33m=\u001B[0m \u001B[0mself\u001B[0m\u001B[1;33m.\u001B[0m\u001B[0mmetric\u001B[0m\u001B[1;33m(\u001B[0m\u001B[0mrow_train\u001B[0m\u001B[1;33m,\u001B[0m \u001B[0mrow_to_predict\u001B[0m\u001B[1;33m,\u001B[0m \u001B[1;33m**\u001B[0m\u001B[0mself\u001B[0m\u001B[1;33m.\u001B[0m\u001B[0mmetric_kwargs\u001B[0m\u001B[1;33m)\u001B[0m\u001B[1;33m\u001B[0m\u001B[1;33m\u001B[0m\u001B[0m\n\u001B[0m\u001B[0;32m     39\u001B[0m                 \u001B[0mdistances\u001B[0m\u001B[1;33m.\u001B[0m\u001B[0mappend\u001B[0m\u001B[1;33m(\u001B[0m\u001B[0mdist\u001B[0m\u001B[1;33m)\u001B[0m\u001B[1;33m\u001B[0m\u001B[1;33m\u001B[0m\u001B[0m\n\u001B[0;32m     40\u001B[0m             \u001B[0mindices\u001B[0m \u001B[1;33m=\u001B[0m \u001B[0mnp\u001B[0m\u001B[1;33m.\u001B[0m\u001B[0margsort\u001B[0m\u001B[1;33m(\u001B[0m\u001B[0mdistances\u001B[0m\u001B[1;33m)\u001B[0m\u001B[1;33m[\u001B[0m\u001B[1;33m:\u001B[0m\u001B[0mself\u001B[0m\u001B[1;33m.\u001B[0m\u001B[0mk\u001B[0m\u001B[1;33m]\u001B[0m\u001B[1;33m\u001B[0m\u001B[1;33m\u001B[0m\u001B[0m\n",
      "\u001B[1;32m~\\PycharmProjects\\thesis\\util\\distance.py\u001B[0m in \u001B[0;36mcalculate_tcr_dist2_cached\u001B[1;34m(seq1, seq2, nan_distance, organism)\u001B[0m\n\u001B[0;32m     90\u001B[0m         \u001B[1;32mreturn\u001B[0m \u001B[0mCACHE_DICT\u001B[0m\u001B[1;33m[\u001B[0m\u001B[0mid\u001B[0m\u001B[1;33m]\u001B[0m\u001B[1;33m\u001B[0m\u001B[1;33m\u001B[0m\u001B[0m\n\u001B[0;32m     91\u001B[0m     \u001B[1;32melse\u001B[0m\u001B[1;33m:\u001B[0m\u001B[1;33m\u001B[0m\u001B[1;33m\u001B[0m\u001B[0m\n\u001B[1;32m---> 92\u001B[1;33m         \u001B[0mres\u001B[0m \u001B[1;33m=\u001B[0m \u001B[0mcalculate_tcr_dist2\u001B[0m\u001B[1;33m(\u001B[0m\u001B[0mseq1\u001B[0m\u001B[1;33m,\u001B[0m \u001B[0mseq2\u001B[0m\u001B[1;33m,\u001B[0m \u001B[0mnan_distance\u001B[0m\u001B[1;33m=\u001B[0m\u001B[0mnan_distance\u001B[0m\u001B[1;33m,\u001B[0m \u001B[0morganism\u001B[0m\u001B[1;33m=\u001B[0m\u001B[0morganism\u001B[0m\u001B[1;33m)\u001B[0m\u001B[1;33m\u001B[0m\u001B[1;33m\u001B[0m\u001B[0m\n\u001B[0m\u001B[0;32m     93\u001B[0m         \u001B[0mCACHE_DICT\u001B[0m\u001B[1;33m[\u001B[0m\u001B[0mid\u001B[0m\u001B[1;33m]\u001B[0m \u001B[1;33m=\u001B[0m \u001B[0mres\u001B[0m\u001B[1;33m\u001B[0m\u001B[1;33m\u001B[0m\u001B[0m\n\u001B[0;32m     94\u001B[0m         \u001B[1;32mreturn\u001B[0m \u001B[0mres\u001B[0m\u001B[1;33m\u001B[0m\u001B[1;33m\u001B[0m\u001B[0m\n",
      "\u001B[1;32m~\\PycharmProjects\\thesis\\util\\distance.py\u001B[0m in \u001B[0;36mcalculate_tcr_dist2\u001B[1;34m(seq1, seq2, nan_distance, organism)\u001B[0m\n\u001B[0;32m     60\u001B[0m \u001B[1;33m\u001B[0m\u001B[0m\n\u001B[0;32m     61\u001B[0m     \u001B[1;31m# create a TCRrep object\u001B[0m\u001B[1;33m\u001B[0m\u001B[1;33m\u001B[0m\u001B[0m\n\u001B[1;32m---> 62\u001B[1;33m     tr = TCRrep(cell_df=df,\n\u001B[0m\u001B[0;32m     63\u001B[0m                 \u001B[0morganism\u001B[0m\u001B[1;33m=\u001B[0m\u001B[0morganism\u001B[0m\u001B[1;33m,\u001B[0m\u001B[1;33m\u001B[0m\u001B[1;33m\u001B[0m\u001B[0m\n\u001B[0;32m     64\u001B[0m                 \u001B[0mchains\u001B[0m\u001B[1;33m=\u001B[0m\u001B[1;33m[\u001B[0m\u001B[1;34m'alpha'\u001B[0m\u001B[1;33m,\u001B[0m \u001B[1;34m'beta'\u001B[0m\u001B[1;33m]\u001B[0m\u001B[1;33m,\u001B[0m\u001B[1;33m\u001B[0m\u001B[1;33m\u001B[0m\u001B[0m\n",
      "\u001B[1;32m~\\AppData\\Local\\Programs\\Python\\Python39\\lib\\site-packages\\tcrdist\\repertoire.py\u001B[0m in \u001B[0;36m__init__\u001B[1;34m(self, organism, chains, db_file, archive_name, blank, cell_df, clone_df, imgt_aligned, infer_all_genes, infer_cdrs, infer_index_cols, deduplicate, use_defaults, store_all_cdr, compute_distances, index_cols, cpus, df2, archive_result)\u001B[0m\n\u001B[0;32m    176\u001B[0m \u001B[1;33m\u001B[0m\u001B[0m\n\u001B[0;32m    177\u001B[0m             \u001B[1;32mif\u001B[0m \u001B[0minfer_all_genes\u001B[0m\u001B[1;33m:\u001B[0m\u001B[1;33m\u001B[0m\u001B[1;33m\u001B[0m\u001B[0m\n\u001B[1;32m--> 178\u001B[1;33m                 \u001B[0mself\u001B[0m\u001B[1;33m.\u001B[0m\u001B[0mall_genes\u001B[0m \u001B[1;33m=\u001B[0m \u001B[0mrepertoire_db\u001B[0m\u001B[1;33m.\u001B[0m\u001B[0mRefGeneSet\u001B[0m\u001B[1;33m(\u001B[0m\u001B[0mdb_file\u001B[0m\u001B[1;33m)\u001B[0m\u001B[1;33m.\u001B[0m\u001B[0mall_genes\u001B[0m\u001B[1;33m\u001B[0m\u001B[1;33m\u001B[0m\u001B[0m\n\u001B[0m\u001B[0;32m    179\u001B[0m \u001B[1;33m\u001B[0m\u001B[0m\n\u001B[0;32m    180\u001B[0m             \u001B[1;32mif\u001B[0m \u001B[0minfer_cdrs\u001B[0m\u001B[1;33m:\u001B[0m\u001B[1;33m\u001B[0m\u001B[1;33m\u001B[0m\u001B[0m\n",
      "\u001B[1;32m~\\AppData\\Local\\Programs\\Python\\Python39\\lib\\site-packages\\tcrdist\\repertoire_db.py\u001B[0m in \u001B[0;36m__init__\u001B[1;34m(self, db_file)\u001B[0m\n\u001B[0;32m     46\u001B[0m     \u001B[1;32mdef\u001B[0m \u001B[0m__init__\u001B[0m\u001B[1;33m(\u001B[0m\u001B[0mself\u001B[0m\u001B[1;33m,\u001B[0m \u001B[0mdb_file\u001B[0m\u001B[1;33m)\u001B[0m\u001B[1;33m:\u001B[0m\u001B[1;33m\u001B[0m\u001B[1;33m\u001B[0m\u001B[0m\n\u001B[0;32m     47\u001B[0m         \u001B[0mself\u001B[0m\u001B[1;33m.\u001B[0m\u001B[0mdb_file\u001B[0m \u001B[1;33m=\u001B[0m \u001B[0mdb_file\u001B[0m\u001B[1;33m\u001B[0m\u001B[1;33m\u001B[0m\u001B[0m\n\u001B[1;32m---> 48\u001B[1;33m         \u001B[0mself\u001B[0m\u001B[1;33m.\u001B[0m\u001B[0mall_genes\u001B[0m \u001B[1;33m=\u001B[0m \u001B[0mself\u001B[0m\u001B[1;33m.\u001B[0m\u001B[0mgenerate_all_genes\u001B[0m\u001B[1;33m(\u001B[0m\u001B[0mself\u001B[0m\u001B[1;33m.\u001B[0m\u001B[0mdb_file\u001B[0m\u001B[1;33m)\u001B[0m\u001B[1;33m\u001B[0m\u001B[1;33m\u001B[0m\u001B[0m\n\u001B[0m\u001B[0;32m     49\u001B[0m \u001B[1;33m\u001B[0m\u001B[0m\n\u001B[0;32m     50\u001B[0m     \u001B[1;32mdef\u001B[0m \u001B[0mgenerate_all_genes\u001B[0m\u001B[1;33m(\u001B[0m\u001B[0mself\u001B[0m\u001B[1;33m,\u001B[0m \u001B[0mdb_file\u001B[0m \u001B[1;33m=\u001B[0m \u001B[1;34m\"alphabeta_db.tsv\"\u001B[0m\u001B[1;33m)\u001B[0m\u001B[1;33m:\u001B[0m\u001B[1;33m\u001B[0m\u001B[1;33m\u001B[0m\u001B[0m\n",
      "\u001B[1;32m~\\AppData\\Local\\Programs\\Python\\Python39\\lib\\site-packages\\tcrdist\\repertoire_db.py\u001B[0m in \u001B[0;36mgenerate_all_genes\u001B[1;34m(self, db_file)\u001B[0m\n\u001B[0;32m     66\u001B[0m         \u001B[0mdb_df\u001B[0m \u001B[1;33m=\u001B[0m \u001B[0mpd\u001B[0m\u001B[1;33m.\u001B[0m\u001B[0mread_csv\u001B[0m\u001B[1;33m(\u001B[0m\u001B[0mdb_file\u001B[0m\u001B[1;33m,\u001B[0m \u001B[0mdelimiter\u001B[0m\u001B[1;33m=\u001B[0m\u001B[1;34m'\\t'\u001B[0m\u001B[1;33m)\u001B[0m\u001B[1;33m\u001B[0m\u001B[1;33m\u001B[0m\u001B[0m\n\u001B[0;32m     67\u001B[0m \u001B[1;33m\u001B[0m\u001B[0m\n\u001B[1;32m---> 68\u001B[1;33m         \u001B[1;32mfor\u001B[0m \u001B[0mrowi\u001B[0m\u001B[1;33m,\u001B[0m \u001B[0mrow\u001B[0m \u001B[1;32min\u001B[0m \u001B[0mdb_df\u001B[0m\u001B[1;33m.\u001B[0m\u001B[0miterrows\u001B[0m\u001B[1;33m(\u001B[0m\u001B[1;33m)\u001B[0m\u001B[1;33m:\u001B[0m\u001B[1;33m\u001B[0m\u001B[1;33m\u001B[0m\u001B[0m\n\u001B[0m\u001B[0;32m     69\u001B[0m             \u001B[0mg\u001B[0m \u001B[1;33m=\u001B[0m \u001B[0mTCRGene\u001B[0m\u001B[1;33m(\u001B[0m \u001B[0mrow\u001B[0m \u001B[1;33m)\u001B[0m\u001B[1;33m\u001B[0m\u001B[1;33m\u001B[0m\u001B[0m\n\u001B[0;32m     70\u001B[0m             \u001B[1;32mif\u001B[0m \u001B[0mg\u001B[0m\u001B[1;33m.\u001B[0m\u001B[0morganism\u001B[0m \u001B[1;32mnot\u001B[0m \u001B[1;32min\u001B[0m \u001B[0mall_genes\u001B[0m\u001B[1;33m:\u001B[0m\u001B[1;33m\u001B[0m\u001B[1;33m\u001B[0m\u001B[0m\n",
      "\u001B[1;32m~\\AppData\\Local\\Programs\\Python\\Python39\\lib\\site-packages\\pandas\\core\\frame.py\u001B[0m in \u001B[0;36miterrows\u001B[1;34m(self)\u001B[0m\n\u001B[0;32m   1408\u001B[0m         \u001B[0mklass\u001B[0m \u001B[1;33m=\u001B[0m \u001B[0mself\u001B[0m\u001B[1;33m.\u001B[0m\u001B[0m_constructor_sliced\u001B[0m\u001B[1;33m\u001B[0m\u001B[1;33m\u001B[0m\u001B[0m\n\u001B[0;32m   1409\u001B[0m         \u001B[1;32mfor\u001B[0m \u001B[0mk\u001B[0m\u001B[1;33m,\u001B[0m \u001B[0mv\u001B[0m \u001B[1;32min\u001B[0m \u001B[0mzip\u001B[0m\u001B[1;33m(\u001B[0m\u001B[0mself\u001B[0m\u001B[1;33m.\u001B[0m\u001B[0mindex\u001B[0m\u001B[1;33m,\u001B[0m \u001B[0mself\u001B[0m\u001B[1;33m.\u001B[0m\u001B[0mvalues\u001B[0m\u001B[1;33m)\u001B[0m\u001B[1;33m:\u001B[0m\u001B[1;33m\u001B[0m\u001B[1;33m\u001B[0m\u001B[0m\n\u001B[1;32m-> 1410\u001B[1;33m             \u001B[0ms\u001B[0m \u001B[1;33m=\u001B[0m \u001B[0mklass\u001B[0m\u001B[1;33m(\u001B[0m\u001B[0mv\u001B[0m\u001B[1;33m,\u001B[0m \u001B[0mindex\u001B[0m\u001B[1;33m=\u001B[0m\u001B[0mcolumns\u001B[0m\u001B[1;33m,\u001B[0m \u001B[0mname\u001B[0m\u001B[1;33m=\u001B[0m\u001B[0mk\u001B[0m\u001B[1;33m)\u001B[0m\u001B[1;33m.\u001B[0m\u001B[0m__finalize__\u001B[0m\u001B[1;33m(\u001B[0m\u001B[0mself\u001B[0m\u001B[1;33m)\u001B[0m\u001B[1;33m\u001B[0m\u001B[1;33m\u001B[0m\u001B[0m\n\u001B[0m\u001B[0;32m   1411\u001B[0m             \u001B[1;32myield\u001B[0m \u001B[0mk\u001B[0m\u001B[1;33m,\u001B[0m \u001B[0ms\u001B[0m\u001B[1;33m\u001B[0m\u001B[1;33m\u001B[0m\u001B[0m\n\u001B[0;32m   1412\u001B[0m \u001B[1;33m\u001B[0m\u001B[0m\n",
      "\u001B[1;32m~\\AppData\\Local\\Programs\\Python\\Python39\\lib\\site-packages\\pandas\\core\\series.py\u001B[0m in \u001B[0;36m__init__\u001B[1;34m(self, data, index, dtype, name, copy, fastpath)\u001B[0m\n\u001B[0;32m    472\u001B[0m                 \u001B[0mmanager\u001B[0m \u001B[1;33m=\u001B[0m \u001B[0mget_option\u001B[0m\u001B[1;33m(\u001B[0m\u001B[1;34m\"mode.data_manager\"\u001B[0m\u001B[1;33m)\u001B[0m\u001B[1;33m\u001B[0m\u001B[1;33m\u001B[0m\u001B[0m\n\u001B[0;32m    473\u001B[0m                 \u001B[1;32mif\u001B[0m \u001B[0mmanager\u001B[0m \u001B[1;33m==\u001B[0m \u001B[1;34m\"block\"\u001B[0m\u001B[1;33m:\u001B[0m\u001B[1;33m\u001B[0m\u001B[1;33m\u001B[0m\u001B[0m\n\u001B[1;32m--> 474\u001B[1;33m                     \u001B[0mdata\u001B[0m \u001B[1;33m=\u001B[0m \u001B[0mSingleBlockManager\u001B[0m\u001B[1;33m.\u001B[0m\u001B[0mfrom_array\u001B[0m\u001B[1;33m(\u001B[0m\u001B[0mdata\u001B[0m\u001B[1;33m,\u001B[0m \u001B[0mindex\u001B[0m\u001B[1;33m)\u001B[0m\u001B[1;33m\u001B[0m\u001B[1;33m\u001B[0m\u001B[0m\n\u001B[0m\u001B[0;32m    475\u001B[0m                 \u001B[1;32melif\u001B[0m \u001B[0mmanager\u001B[0m \u001B[1;33m==\u001B[0m \u001B[1;34m\"array\"\u001B[0m\u001B[1;33m:\u001B[0m\u001B[1;33m\u001B[0m\u001B[1;33m\u001B[0m\u001B[0m\n\u001B[0;32m    476\u001B[0m                     \u001B[0mdata\u001B[0m \u001B[1;33m=\u001B[0m \u001B[0mSingleArrayManager\u001B[0m\u001B[1;33m.\u001B[0m\u001B[0mfrom_array\u001B[0m\u001B[1;33m(\u001B[0m\u001B[0mdata\u001B[0m\u001B[1;33m,\u001B[0m \u001B[0mindex\u001B[0m\u001B[1;33m)\u001B[0m\u001B[1;33m\u001B[0m\u001B[1;33m\u001B[0m\u001B[0m\n",
      "\u001B[1;32m~\\AppData\\Local\\Programs\\Python\\Python39\\lib\\site-packages\\pandas\\core\\internals\\managers.py\u001B[0m in \u001B[0;36mfrom_array\u001B[1;34m(cls, array, index)\u001B[0m\n\u001B[0;32m   1934\u001B[0m         \u001B[0mConstructor\u001B[0m \u001B[1;32mfor\u001B[0m \u001B[1;32mif\u001B[0m \u001B[0mwe\u001B[0m \u001B[0mhave\u001B[0m \u001B[0man\u001B[0m \u001B[0marray\u001B[0m \u001B[0mthat\u001B[0m \u001B[1;32mis\u001B[0m \u001B[1;32mnot\u001B[0m \u001B[0myet\u001B[0m \u001B[0ma\u001B[0m \u001B[0mBlock\u001B[0m\u001B[1;33m.\u001B[0m\u001B[1;33m\u001B[0m\u001B[1;33m\u001B[0m\u001B[0m\n\u001B[0;32m   1935\u001B[0m         \"\"\"\n\u001B[1;32m-> 1936\u001B[1;33m         \u001B[0mblock\u001B[0m \u001B[1;33m=\u001B[0m \u001B[0mnew_block\u001B[0m\u001B[1;33m(\u001B[0m\u001B[0marray\u001B[0m\u001B[1;33m,\u001B[0m \u001B[0mplacement\u001B[0m\u001B[1;33m=\u001B[0m\u001B[0mslice\u001B[0m\u001B[1;33m(\u001B[0m\u001B[1;36m0\u001B[0m\u001B[1;33m,\u001B[0m \u001B[0mlen\u001B[0m\u001B[1;33m(\u001B[0m\u001B[0mindex\u001B[0m\u001B[1;33m)\u001B[0m\u001B[1;33m)\u001B[0m\u001B[1;33m,\u001B[0m \u001B[0mndim\u001B[0m\u001B[1;33m=\u001B[0m\u001B[1;36m1\u001B[0m\u001B[1;33m)\u001B[0m\u001B[1;33m\u001B[0m\u001B[1;33m\u001B[0m\u001B[0m\n\u001B[0m\u001B[0;32m   1937\u001B[0m         \u001B[1;32mreturn\u001B[0m \u001B[0mcls\u001B[0m\u001B[1;33m(\u001B[0m\u001B[0mblock\u001B[0m\u001B[1;33m,\u001B[0m \u001B[0mindex\u001B[0m\u001B[1;33m)\u001B[0m\u001B[1;33m\u001B[0m\u001B[1;33m\u001B[0m\u001B[0m\n\u001B[0;32m   1938\u001B[0m \u001B[1;33m\u001B[0m\u001B[0m\n",
      "\u001B[1;32m~\\AppData\\Local\\Programs\\Python\\Python39\\lib\\site-packages\\pandas\\core\\internals\\blocks.py\u001B[0m in \u001B[0;36mnew_block\u001B[1;34m(values, placement, ndim)\u001B[0m\n\u001B[0;32m   2174\u001B[0m \u001B[1;33m\u001B[0m\u001B[0m\n\u001B[0;32m   2175\u001B[0m     \u001B[1;32mif\u001B[0m \u001B[1;32mnot\u001B[0m \u001B[0misinstance\u001B[0m\u001B[1;33m(\u001B[0m\u001B[0mplacement\u001B[0m\u001B[1;33m,\u001B[0m \u001B[0mBlockPlacement\u001B[0m\u001B[1;33m)\u001B[0m\u001B[1;33m:\u001B[0m\u001B[1;33m\u001B[0m\u001B[1;33m\u001B[0m\u001B[0m\n\u001B[1;32m-> 2176\u001B[1;33m         \u001B[0mplacement\u001B[0m \u001B[1;33m=\u001B[0m \u001B[0mBlockPlacement\u001B[0m\u001B[1;33m(\u001B[0m\u001B[0mplacement\u001B[0m\u001B[1;33m)\u001B[0m\u001B[1;33m\u001B[0m\u001B[1;33m\u001B[0m\u001B[0m\n\u001B[0m\u001B[0;32m   2177\u001B[0m \u001B[1;33m\u001B[0m\u001B[0m\n\u001B[0;32m   2178\u001B[0m     \u001B[0mcheck_ndim\u001B[0m\u001B[1;33m(\u001B[0m\u001B[0mvalues\u001B[0m\u001B[1;33m,\u001B[0m \u001B[0mplacement\u001B[0m\u001B[1;33m,\u001B[0m \u001B[0mndim\u001B[0m\u001B[1;33m)\u001B[0m\u001B[1;33m\u001B[0m\u001B[1;33m\u001B[0m\u001B[0m\n",
      "\u001B[1;31mKeyboardInterrupt\u001B[0m: "
     ]
    }
   ],
   "source": [
    "print(list([m['name'] for m in models_to_evaluate]))\n",
    "outputs = []\n",
    "\n",
    "# dataset_size = [1000]\n",
    "# dataset_size = [50, 100, 200, 500, 1000, 2000, 5000, None]\n",
    "dataset_size = [50]  # takes too long for larger datasets\n",
    "for dataset_size in dataset_size:\n",
    "    print(f\"### Dataset size: {dataset_size} ###\")\n",
    "    update_data_per_fold(dataset_size)\n",
    "    scores, output_csv = evaluate_model_list(models_to_evaluate)\n",
    "    outputs.append(output_csv)\n",
    "    print(outputs)"
   ],
   "metadata": {
    "collapsed": false
   }
  },
  {
   "cell_type": "code",
   "execution_count": 7,
   "outputs": [],
   "source": [
    "models_to_evaluate = []\n",
    "\n",
    "# knn with tcrdist approx\n",
    "knn_tcrdist_approx = {\n",
    "    'name': 'KNN (tcrdist approx, no_nan)',\n",
    "    'model': KNNString(metric=calculate_approx_distance, k=5),\n",
    "    'group': 'knn',\n",
    "    'extract_features': False,\n",
    "    'drop_train_na': True,\n",
    "}\n",
    "\n",
    "knn_tcrdist_approx_nan_0 = {\n",
    "    'name': 'KNN (tcrdist approx, nan_dist=0)',\n",
    "    'model': KNNString(metric=calculate_approx_distance, k=5, metric_kwargs={'nan_distance': 0}),\n",
    "    'group': 'knn',\n",
    "    'extract_features': False,\n",
    "    'drop_train_na': False,\n",
    "}\n",
    "\n",
    "knn_tcrdist_approx_nan_100 = {\n",
    "    'name': 'KNN (tcrdist approx, nan_dist=100)',\n",
    "    'model': KNNString(metric=calculate_approx_distance, k=5, metric_kwargs={'nan_distance': 100}),\n",
    "    'group': 'knn',\n",
    "    'extract_features': False,\n",
    "    'drop_train_na': False,\n",
    "}\n",
    "\n",
    "knn_tcrdist_approx_nan_250 = {\n",
    "    'name': 'KNN (tcrdist approx, nan_dist=200)',\n",
    "    'model': KNNString(metric=calculate_approx_distance, k=5, metric_kwargs={'nan_distance': 250}),\n",
    "    'group': 'knn',\n",
    "    'extract_features': False,\n",
    "    'drop_train_na': False,\n",
    "}\n",
    "\n",
    "knn_tcrdist_approx_nan_400 = {\n",
    "    'name': 'KNN (tcrdist approx, nan_dist=400)',\n",
    "    'model': KNNString(metric=calculate_approx_distance, k=5, metric_kwargs={'nan_distance': 400}),\n",
    "    'group': 'knn',\n",
    "    'extract_features': False,\n",
    "    'drop_train_na': False,\n",
    "}\n",
    "\n",
    "# 0.7 and 0.7 is too low\n",
    "\n",
    "models_to_evaluate.append(knn_tcrdist_approx)\n",
    "models_to_evaluate.append(knn_tcrdist_approx_nan_0)\n",
    "models_to_evaluate.append(knn_tcrdist_approx_nan_100)\n",
    "models_to_evaluate.append(knn_tcrdist_approx_nan_250)\n",
    "models_to_evaluate.append(knn_tcrdist_approx_nan_400)"
   ],
   "metadata": {
    "collapsed": false
   }
  },
  {
   "cell_type": "code",
   "execution_count": 8,
   "outputs": [
    {
     "name": "stdout",
     "output_type": "stream",
     "text": [
      "['KNN (tcrdist approx, no_nan)', 'KNN (tcrdist approx, nan_dist=0)', 'KNN (tcrdist approx, nan_dist=100)', 'KNN (tcrdist approx, nan_dist=200)', 'KNN (tcrdist approx, nan_dist=400)']\n",
      "### Dataset size: 50 ###\n"
     ]
    },
    {
     "name": "stderr",
     "output_type": "stream",
     "text": [
      "C:\\Users\\arnod\\PycharmProjects\\thesis\\util\\epitopes.py:6: DtypeWarning: Columns (20,29,30) have mixed types. Specify dtype option on import or set low_memory=False.\n",
      "  df_vdjdb = pd.read_csv('data/vdjdb-2022-03-30/vdjdb_full.txt', sep='\\t')\n"
     ]
    },
    {
     "name": "stdout",
     "output_type": "stream",
     "text": [
      "Number of negative samples changed from 47033 to 44205 (because of overlap with positive samples)\n",
      "Positive samples: alpha only: 2580, beta only: 3056, both: 2194, none: 0\n",
      "Negative samples (will be sampled to select same amount as positive): alpha only: 4499, beta only: 17510, both: 22196, none: 0\n",
      "Nan: train: 40, test: 108\n",
      "No Nan: train: 9, test: 108\n",
      "\n",
      "Evaluating model 1/5\n",
      "{'name': 'KNN (tcrdist approx, no_nan)', 'model': <util.knnstring.KNNString object at 0x00000250728FE1F0>, 'group': 'knn', 'extract_features': False, 'drop_train_na': True}\n",
      "0.8051724137931034\n",
      "0.7165517241379311\n",
      "0.8455172413793104\n",
      "0.7948275862068965\n",
      "0.8015517241379311\n",
      "\n",
      "Evaluating model 2/5\n",
      "{'name': 'KNN (tcrdist approx, nan_dist=0)', 'model': <util.knnstring.KNNString object at 0x00000250728FE1C0>, 'group': 'knn', 'extract_features': False, 'drop_train_na': False}\n",
      "0.5\n",
      "0.5\n",
      "0.5\n",
      "0.3951724137931034\n",
      "0.5\n",
      "\n",
      "Evaluating model 3/5\n",
      "{'name': 'KNN (tcrdist approx, nan_dist=100)', 'model': <util.knnstring.KNNString object at 0x00000250728FE190>, 'group': 'knn', 'extract_features': False, 'drop_train_na': False}\n",
      "0.5\n",
      "0.5\n",
      "0.5\n",
      "0.3951724137931034\n",
      "0.5\n",
      "\n",
      "Evaluating model 4/5\n",
      "{'name': 'KNN (tcrdist approx, nan_dist=200)', 'model': <util.knnstring.KNNString object at 0x00000250728FE730>, 'group': 'knn', 'extract_features': False, 'drop_train_na': False}\n",
      "0.5\n",
      "0.5\n",
      "0.5\n",
      "0.3951724137931034\n",
      "0.5\n",
      "\n",
      "Evaluating model 5/5\n",
      "{'name': 'KNN (tcrdist approx, nan_dist=400)', 'model': <util.knnstring.KNNString object at 0x00000250728FE460>, 'group': 'knn', 'extract_features': False, 'drop_train_na': False}\n",
      "0.5\n",
      "0.5\n",
      "0.5\n",
      "0.3951724137931034\n",
      "0.5\n",
      "Baseline Random Forest (NaNs dropped in train) not found in scores, using KNN (tcrdist approx, no_nan) instead\n",
      "Baseline Random Forest (NaNs dropped in train) not found in scores, using KNN (tcrdist approx, no_nan) instead\n",
      "Finished evaluating 5 models at 20230614-233135 in 0:00:48.693575 seconds\n",
      "['outputs/model-evaluations-20230614-233047-GILGFVFTL-50-imputation-constant-numbers/scores-20230614-233135.csv']\n"
     ]
    },
    {
     "data": {
      "text/plain": "<Figure size 432x288 with 0 Axes>"
     },
     "metadata": {},
     "output_type": "display_data"
    }
   ],
   "source": [
    "print(list([m['name'] for m in models_to_evaluate]))\n",
    "outputs = []\n",
    "\n",
    "# dataset_size = [1000]\n",
    "# dataset_size = [50, 100, 200, 500, 1000, 2000, 5000, None]\n",
    "dataset_size = [50]  # takes too long for larger datasets\n",
    "for dataset_size in dataset_size:\n",
    "    print(f\"### Dataset size: {dataset_size} ###\")\n",
    "    update_data_per_fold(dataset_size)\n",
    "    scores, output_csv = evaluate_model_list(models_to_evaluate)\n",
    "    outputs.append(output_csv)\n",
    "    print(outputs)"
   ],
   "metadata": {
    "collapsed": false
   }
  },
  {
   "cell_type": "code",
   "execution_count": 8,
   "outputs": [
    {
     "name": "stdout",
     "output_type": "stream",
     "text": [
      "['KNN (levenstein, no_nan)', 'KNN (levenstein, nan_dist=0)', 'KNN (levenstein, nan_dist=2)', 'KNN (levenstein, nan_dist=7)', 'KNN (levenstein, nan_dist=12)']\n",
      "### Dataset size: 50 ###\n"
     ]
    },
    {
     "name": "stderr",
     "output_type": "stream",
     "text": [
      "C:\\Users\\arnod\\PycharmProjects\\thesis\\util\\epitopes.py:6: DtypeWarning: Columns (20,29,30) have mixed types. Specify dtype option on import or set low_memory=False.\n",
      "  df_vdjdb = pd.read_csv('data/vdjdb-2022-03-30/vdjdb_full.txt', sep='\\t')\n"
     ]
    },
    {
     "name": "stdout",
     "output_type": "stream",
     "text": [
      "Number of negative samples changed from 47033 to 44205 (because of overlap with positive samples)\n",
      "Positive samples: alpha only: 2580, beta only: 3056, both: 2194, none: 0\n",
      "Negative samples (will be sampled to select same amount as positive): alpha only: 4499, beta only: 17510, both: 22196, none: 0\n",
      "Nan: train: 40, test: 108\n",
      "No Nan: train: 9, test: 108\n",
      "\n",
      "Evaluating model 1/5\n",
      "{'name': 'KNN (levenstein, no_nan)', 'model': <util.knnstring.KNNString object at 0x0000014DF615D580>, 'group': 'knn', 'extract_features': False, 'drop_train_na': True}\n",
      "0.7931034482758621\n",
      "0.5325862068965517\n",
      "0.7941379310344828\n",
      "0.6424137931034481\n",
      "0.7591379310344827\n",
      "\n",
      "Evaluating model 2/5\n",
      "{'name': 'KNN (levenstein, nan_dist=0)', 'model': <util.knnstring.KNNString object at 0x0000014DF615D700>, 'group': 'knn', 'extract_features': False, 'drop_train_na': False}\n",
      "0.7227586206896551\n",
      "0.809655172413793\n",
      "0.8367241379310346\n",
      "0.8393103448275863\n",
      "0.6974137931034481\n",
      "\n",
      "Evaluating model 3/5\n",
      "{'name': 'KNN (levenstein, nan_dist=2)', 'model': <util.knnstring.KNNString object at 0x0000014DFBD8C7F0>, 'group': 'knn', 'extract_features': False, 'drop_train_na': False}\n",
      "0.8177586206896551\n",
      "0.8567241379310344\n",
      "0.8874137931034484\n",
      "0.891551724137931\n",
      "0.7787931034482758\n",
      "\n",
      "Evaluating model 4/5\n",
      "{'name': 'KNN (levenstein, nan_dist=7)', 'model': <util.knnstring.KNNString object at 0x0000014DFBD8C220>, 'group': 'knn', 'extract_features': False, 'drop_train_na': False}\n",
      "0.8051724137931034\n",
      "0.8043103448275861\n",
      "0.7617241379310344\n",
      "0.7620689655172413\n",
      "0.7943103448275862\n",
      "\n",
      "Evaluating model 5/5\n",
      "{'name': 'KNN (levenstein, nan_dist=12)', 'model': <util.knnstring.KNNString object at 0x0000014DFBD8C3A0>, 'group': 'knn', 'extract_features': False, 'drop_train_na': False}\n",
      "0.7882758620689655\n",
      "0.539655172413793\n",
      "0.7696551724137931\n",
      "0.6279310344827587\n",
      "0.716551724137931\n",
      "Baseline Random Forest (NaNs dropped in train) not found in scores, using KNN (levenstein, no_nan) instead\n",
      "Baseline Random Forest (NaNs dropped in train) not found in scores, using KNN (levenstein, no_nan) instead\n",
      "Finished evaluating 5 models at 20230614-235455 in 0:00:23.709780 seconds\n",
      "['outputs/model-evaluations-20230614-235431-GILGFVFTL-50-imputation-constant-numbers/scores-20230614-235455.csv']\n",
      "### Dataset size: 100 ###\n"
     ]
    },
    {
     "name": "stderr",
     "output_type": "stream",
     "text": [
      "C:\\Users\\arnod\\PycharmProjects\\thesis\\util\\epitopes.py:6: DtypeWarning: Columns (20,29,30) have mixed types. Specify dtype option on import or set low_memory=False.\n",
      "  df_vdjdb = pd.read_csv('data/vdjdb-2022-03-30/vdjdb_full.txt', sep='\\t')\n"
     ]
    },
    {
     "name": "stdout",
     "output_type": "stream",
     "text": [
      "Number of negative samples changed from 47033 to 44205 (because of overlap with positive samples)\n",
      "Positive samples: alpha only: 2580, beta only: 3056, both: 2194, none: 0\n",
      "Negative samples (will be sampled to select same amount as positive): alpha only: 4499, beta only: 17510, both: 22196, none: 0\n",
      "Nan: train: 80, test: 108\n",
      "No Nan: train: 18, test: 108\n",
      "\n",
      "Evaluating model 1/5\n",
      "{'name': 'KNN (levenstein, no_nan)', 'model': <util.knnstring.KNNString object at 0x0000014DF615D580>, 'group': 'knn', 'extract_features': False, 'drop_train_na': True}\n",
      "0.8675862068965519\n",
      "0.8232758620689654\n",
      "0.8172413793103449\n",
      "0.756896551724138\n",
      "0.8027586206896552\n",
      "\n",
      "Evaluating model 2/5\n",
      "{'name': 'KNN (levenstein, nan_dist=0)', 'model': <util.knnstring.KNNString object at 0x0000014DF615D700>, 'group': 'knn', 'extract_features': False, 'drop_train_na': False}\n",
      "0.913448275862069\n",
      "0.9027586206896552\n",
      "0.9124137931034483\n",
      "0.9324137931034482\n",
      "0.9291379310344827\n",
      "\n",
      "Evaluating model 3/5\n",
      "{'name': 'KNN (levenstein, nan_dist=2)', 'model': <util.knnstring.KNNString object at 0x0000014DFBD8C7F0>, 'group': 'knn', 'extract_features': False, 'drop_train_na': False}\n",
      "0.9237931034482758\n",
      "0.9058620689655172\n",
      "0.9093103448275862\n",
      "0.9294827586206897\n",
      "0.9403448275862069\n",
      "\n",
      "Evaluating model 4/5\n",
      "{'name': 'KNN (levenstein, nan_dist=7)', 'model': <util.knnstring.KNNString object at 0x0000014DFBD8C220>, 'group': 'knn', 'extract_features': False, 'drop_train_na': False}\n",
      "0.8703448275862069\n",
      "0.8603448275862069\n",
      "0.8289655172413792\n",
      "0.7663793103448275\n",
      "0.8227586206896552\n",
      "\n",
      "Evaluating model 5/5\n",
      "{'name': 'KNN (levenstein, nan_dist=12)', 'model': <util.knnstring.KNNString object at 0x0000014DFBD8C3A0>, 'group': 'knn', 'extract_features': False, 'drop_train_na': False}\n",
      "0.8627586206896551\n",
      "0.849655172413793\n",
      "0.8139655172413793\n",
      "0.7167241379310345\n",
      "0.8099999999999999\n",
      "Baseline Random Forest (NaNs dropped in train) not found in scores, using KNN (levenstein, no_nan) instead\n",
      "Baseline Random Forest (NaNs dropped in train) not found in scores, using KNN (levenstein, no_nan) instead\n",
      "Finished evaluating 5 models at 20230614-235548 in 0:00:48.993208 seconds\n",
      "['outputs/model-evaluations-20230614-235431-GILGFVFTL-50-imputation-constant-numbers/scores-20230614-235455.csv', 'outputs/model-evaluations-20230614-235459-GILGFVFTL-100-imputation-constant-numbers/scores-20230614-235548.csv']\n",
      "### Dataset size: 200 ###\n"
     ]
    },
    {
     "name": "stderr",
     "output_type": "stream",
     "text": [
      "C:\\Users\\arnod\\PycharmProjects\\thesis\\util\\epitopes.py:6: DtypeWarning: Columns (20,29,30) have mixed types. Specify dtype option on import or set low_memory=False.\n",
      "  df_vdjdb = pd.read_csv('data/vdjdb-2022-03-30/vdjdb_full.txt', sep='\\t')\n"
     ]
    },
    {
     "name": "stdout",
     "output_type": "stream",
     "text": [
      "Number of negative samples changed from 47033 to 44205 (because of overlap with positive samples)\n",
      "Positive samples: alpha only: 2580, beta only: 3056, both: 2194, none: 0\n",
      "Negative samples (will be sampled to select same amount as positive): alpha only: 4499, beta only: 17510, both: 22196, none: 0\n",
      "Nan: train: 160, test: 108\n",
      "No Nan: train: 40, test: 108\n",
      "\n",
      "Evaluating model 1/5\n",
      "{'name': 'KNN (levenstein, no_nan)', 'model': <util.knnstring.KNNString object at 0x0000014DF615D580>, 'group': 'knn', 'extract_features': False, 'drop_train_na': True}\n",
      "0.9125862068965517\n",
      "0.8977586206896552\n",
      "0.9012068965517241\n",
      "0.8956896551724137\n",
      "0.9065517241379311\n",
      "\n",
      "Evaluating model 2/5\n",
      "{'name': 'KNN (levenstein, nan_dist=0)', 'model': <util.knnstring.KNNString object at 0x0000014DF615D700>, 'group': 'knn', 'extract_features': False, 'drop_train_na': False}\n",
      "0.9172413793103449\n",
      "0.8991379310344828\n",
      "0.9206896551724139\n",
      "0.9077586206896552\n",
      "0.9298275862068965\n",
      "\n",
      "Evaluating model 3/5\n",
      "{'name': 'KNN (levenstein, nan_dist=2)', 'model': <util.knnstring.KNNString object at 0x0000014DFBD8C7F0>, 'group': 'knn', 'extract_features': False, 'drop_train_na': False}\n",
      "0.9236206896551723\n",
      "0.9203448275862068\n",
      "0.9332758620689655\n",
      "0.9012068965517241\n",
      "0.9593103448275861\n",
      "\n",
      "Evaluating model 4/5\n",
      "{'name': 'KNN (levenstein, nan_dist=7)', 'model': <util.knnstring.KNNString object at 0x0000014DFBD8C220>, 'group': 'knn', 'extract_features': False, 'drop_train_na': False}\n",
      "0.9034482758620689\n",
      "0.9013793103448277\n",
      "0.8993103448275862\n",
      "0.8944827586206897\n",
      "0.8620689655172413\n",
      "\n",
      "Evaluating model 5/5\n",
      "{'name': 'KNN (levenstein, nan_dist=12)', 'model': <util.knnstring.KNNString object at 0x0000014DFBD8C3A0>, 'group': 'knn', 'extract_features': False, 'drop_train_na': False}\n",
      "0.9184482758620689\n",
      "0.9039655172413793\n",
      "0.8972413793103448\n",
      "0.8770689655172413\n",
      "0.8755172413793103\n",
      "Baseline Random Forest (NaNs dropped in train) not found in scores, using KNN (levenstein, no_nan) instead\n",
      "Baseline Random Forest (NaNs dropped in train) not found in scores, using KNN (levenstein, no_nan) instead\n",
      "Finished evaluating 5 models at 20230614-235752 in 0:01:59.668341 seconds\n",
      "['outputs/model-evaluations-20230614-235431-GILGFVFTL-50-imputation-constant-numbers/scores-20230614-235455.csv', 'outputs/model-evaluations-20230614-235459-GILGFVFTL-100-imputation-constant-numbers/scores-20230614-235548.csv', 'outputs/model-evaluations-20230614-235553-GILGFVFTL-200-imputation-constant-numbers/scores-20230614-235752.csv']\n",
      "### Dataset size: 500 ###\n"
     ]
    },
    {
     "name": "stderr",
     "output_type": "stream",
     "text": [
      "C:\\Users\\arnod\\PycharmProjects\\thesis\\util\\epitopes.py:6: DtypeWarning: Columns (20,29,30) have mixed types. Specify dtype option on import or set low_memory=False.\n",
      "  df_vdjdb = pd.read_csv('data/vdjdb-2022-03-30/vdjdb_full.txt', sep='\\t')\n"
     ]
    },
    {
     "name": "stdout",
     "output_type": "stream",
     "text": [
      "Number of negative samples changed from 47033 to 44205 (because of overlap with positive samples)\n",
      "Positive samples: alpha only: 2580, beta only: 3056, both: 2194, none: 0\n",
      "Negative samples (will be sampled to select same amount as positive): alpha only: 4499, beta only: 17510, both: 22196, none: 0\n",
      "Nan: train: 400, test: 108\n",
      "No Nan: train: 100, test: 108\n",
      "\n",
      "Evaluating model 1/5\n",
      "{'name': 'KNN (levenstein, no_nan)', 'model': <util.knnstring.KNNString object at 0x0000014DF615D580>, 'group': 'knn', 'extract_features': False, 'drop_train_na': True}\n",
      "0.9127586206896552\n",
      "0.9191379310344827\n",
      "0.9241379310344826\n",
      "0.9149999999999999\n",
      "0.9391379310344826\n",
      "\n",
      "Evaluating model 2/5\n",
      "{'name': 'KNN (levenstein, nan_dist=0)', 'model': <util.knnstring.KNNString object at 0x0000014DF615D700>, 'group': 'knn', 'extract_features': False, 'drop_train_na': False}\n",
      "0.8863793103448276\n",
      "0.9187931034482759\n",
      "0.924655172413793\n",
      "0.9163793103448276\n",
      "0.896896551724138\n",
      "\n",
      "Evaluating model 3/5\n",
      "{'name': 'KNN (levenstein, nan_dist=2)', 'model': <util.knnstring.KNNString object at 0x0000014DFBD8C7F0>, 'group': 'knn', 'extract_features': False, 'drop_train_na': False}\n",
      "0.8917241379310343\n",
      "0.9039655172413792\n",
      "0.9086206896551724\n",
      "0.9125862068965517\n",
      "0.8956896551724137\n",
      "\n",
      "Evaluating model 4/5\n",
      "{'name': 'KNN (levenstein, nan_dist=7)', 'model': <util.knnstring.KNNString object at 0x0000014DFBD8C220>, 'group': 'knn', 'extract_features': False, 'drop_train_na': False}\n",
      "0.9181034482758621\n",
      "0.934655172413793\n",
      "0.9218965517241379\n",
      "0.9186206896551724\n",
      "0.9510344827586207\n",
      "\n",
      "Evaluating model 5/5\n",
      "{'name': 'KNN (levenstein, nan_dist=12)', 'model': <util.knnstring.KNNString object at 0x0000014DFBD8C3A0>, 'group': 'knn', 'extract_features': False, 'drop_train_na': False}\n",
      "0.9249999999999998\n",
      "0.9279310344827586\n",
      "0.9175862068965517\n",
      "0.9182758620689654\n",
      "0.9379310344827586\n",
      "Baseline Random Forest (NaNs dropped in train) not found in scores, using KNN (levenstein, no_nan) instead\n",
      "Baseline Random Forest (NaNs dropped in train) not found in scores, using KNN (levenstein, no_nan) instead\n",
      "Finished evaluating 5 models at 20230615-000234 in 0:04:35.902094 seconds\n",
      "['outputs/model-evaluations-20230614-235431-GILGFVFTL-50-imputation-constant-numbers/scores-20230614-235455.csv', 'outputs/model-evaluations-20230614-235459-GILGFVFTL-100-imputation-constant-numbers/scores-20230614-235548.csv', 'outputs/model-evaluations-20230614-235553-GILGFVFTL-200-imputation-constant-numbers/scores-20230614-235752.csv', 'outputs/model-evaluations-20230614-235758-GILGFVFTL-500-imputation-constant-numbers/scores-20230615-000234.csv']\n",
      "### Dataset size: 1000 ###\n"
     ]
    },
    {
     "name": "stderr",
     "output_type": "stream",
     "text": [
      "C:\\Users\\arnod\\PycharmProjects\\thesis\\util\\epitopes.py:6: DtypeWarning: Columns (20,29,30) have mixed types. Specify dtype option on import or set low_memory=False.\n",
      "  df_vdjdb = pd.read_csv('data/vdjdb-2022-03-30/vdjdb_full.txt', sep='\\t')\n"
     ]
    },
    {
     "name": "stdout",
     "output_type": "stream",
     "text": [
      "Number of negative samples changed from 47033 to 44205 (because of overlap with positive samples)\n",
      "Positive samples: alpha only: 2580, beta only: 3056, both: 2194, none: 0\n",
      "Negative samples (will be sampled to select same amount as positive): alpha only: 4499, beta only: 17510, both: 22196, none: 0\n",
      "Nan: train: 800, test: 108\n",
      "No Nan: train: 192, test: 108\n",
      "\n",
      "Evaluating model 1/5\n",
      "{'name': 'KNN (levenstein, no_nan)', 'model': <util.knnstring.KNNString object at 0x0000014DF615D580>, 'group': 'knn', 'extract_features': False, 'drop_train_na': True}\n",
      "0.9079310344827586\n",
      "0.906896551724138\n",
      "0.9010344827586206\n",
      "0.9070689655172414\n",
      "0.8913793103448275\n",
      "\n",
      "Evaluating model 2/5\n",
      "{'name': 'KNN (levenstein, nan_dist=0)', 'model': <util.knnstring.KNNString object at 0x0000014DF615D700>, 'group': 'knn', 'extract_features': False, 'drop_train_na': False}\n",
      "0.9074137931034483\n",
      "0.9424137931034482\n",
      "0.9070689655172414\n",
      "0.8843103448275862\n",
      "0.8958620689655172\n",
      "\n",
      "Evaluating model 3/5\n",
      "{'name': 'KNN (levenstein, nan_dist=2)', 'model': <util.knnstring.KNNString object at 0x0000014DFBD8C7F0>, 'group': 'knn', 'extract_features': False, 'drop_train_na': False}\n",
      "0.8789655172413793\n",
      "0.9162068965517242\n",
      "0.8941379310344828\n",
      "0.9041379310344828\n",
      "0.8913793103448276\n",
      "\n",
      "Evaluating model 4/5\n",
      "{'name': 'KNN (levenstein, nan_dist=7)', 'model': <util.knnstring.KNNString object at 0x0000014DFBD8C220>, 'group': 'knn', 'extract_features': False, 'drop_train_na': False}\n",
      "0.9037931034482758\n",
      "0.9093103448275862\n",
      "0.8986206896551724\n",
      "0.8999999999999999\n",
      "0.9001724137931033\n",
      "\n",
      "Evaluating model 5/5\n",
      "{'name': 'KNN (levenstein, nan_dist=12)', 'model': <util.knnstring.KNNString object at 0x0000014DFBD8C3A0>, 'group': 'knn', 'extract_features': False, 'drop_train_na': False}\n",
      "0.8955172413793103\n",
      "0.9077586206896551\n",
      "0.9051724137931034\n",
      "0.8991379310344827\n",
      "0.8991379310344828\n",
      "Baseline Random Forest (NaNs dropped in train) not found in scores, using KNN (levenstein, no_nan) instead\n",
      "Baseline Random Forest (NaNs dropped in train) not found in scores, using KNN (levenstein, no_nan) instead\n",
      "Finished evaluating 5 models at 20230615-001125 in 0:08:42.272045 seconds\n",
      "['outputs/model-evaluations-20230614-235431-GILGFVFTL-50-imputation-constant-numbers/scores-20230614-235455.csv', 'outputs/model-evaluations-20230614-235459-GILGFVFTL-100-imputation-constant-numbers/scores-20230614-235548.csv', 'outputs/model-evaluations-20230614-235553-GILGFVFTL-200-imputation-constant-numbers/scores-20230614-235752.csv', 'outputs/model-evaluations-20230614-235758-GILGFVFTL-500-imputation-constant-numbers/scores-20230615-000234.csv', 'outputs/model-evaluations-20230615-000242-GILGFVFTL-1000-imputation-constant-numbers/scores-20230615-001125.csv']\n"
     ]
    },
    {
     "data": {
      "text/plain": "<Figure size 432x288 with 1 Axes>",
      "image/png": "[encoded data removed]"
     },
     "metadata": {
      "needs_background": "light"
     },
     "output_type": "display_data"
    },
    {
     "name": "stdout",
     "output_type": "stream",
     "text": [
      "Baseline Random Forest (NaNs dropped in train) not found in scores, using KNN (levenstein, no_nan) instead\n"
     ]
    },
    {
     "data": {
      "text/plain": "<Figure size 432x288 with 1 Axes>",
      "image/png": "[encoded data removed]"
     },
     "metadata": {
      "needs_background": "light"
     },
     "output_type": "display_data"
    }
   ],
   "source": [
    "# levenstein distance (typically 0-14)\n",
    "\n",
    "models_to_evaluate = [\n",
    "\n",
    "    {'name': 'KNN (levenstein, no_nan)',\n",
    "     'model': KNNString(metric=multi_lev, k=5),\n",
    "     'group': 'knn',\n",
    "     'extract_features': False,\n",
    "     'drop_train_na': True},\n",
    "\n",
    "    {'name': 'KNN (levenstein, nan_dist=0)',\n",
    "     'model': KNNString(metric=multi_lev, k=5, metric_kwargs={'nan_distance': 0}),\n",
    "     'group': 'knn',\n",
    "     'extract_features': False,\n",
    "     'drop_train_na': False},\n",
    "\n",
    "    {'name': 'KNN (levenstein, nan_dist=2)',\n",
    "     'model': KNNString(metric=multi_lev, k=5, metric_kwargs={'nan_distance': 2}),\n",
    "     'group': 'knn',\n",
    "     'extract_features': False,\n",
    "     'drop_train_na': False},\n",
    "\n",
    "    {'name': 'KNN (levenstein, nan_dist=7)',\n",
    "     'model': KNNString(metric=multi_lev, k=5, metric_kwargs={'nan_distance': 7}),\n",
    "     'group': 'knn',\n",
    "     'extract_features': False,\n",
    "     'drop_train_na': False},\n",
    "\n",
    "    {'name': 'KNN (levenstein, nan_dist=12)',\n",
    "     'model': KNNString(metric=multi_lev, k=5, metric_kwargs={'nan_distance': 12}),\n",
    "     'group': 'knn',\n",
    "     'extract_features': False,\n",
    "     'drop_train_na': False},\n",
    "]\n",
    "\n",
    "print(list([m['name'] for m in models_to_evaluate]))\n",
    "outputs = []\n",
    "\n",
    "dataset_size = [50, 100, 200, 500, 1000]\n",
    "for dataset_size in dataset_size:\n",
    "    print(f\"### Dataset size: {dataset_size} ###\")\n",
    "    update_data_per_fold(dataset_size)\n",
    "    scores, output_csv = evaluate_model_list(models_to_evaluate)\n",
    "    outputs.append(output_csv)\n",
    "    print(outputs)\n",
    "\n",
    "title = \"KNN with levenshtein distance for different nan distances\"\n",
    "output = \"graphs/GILGFVFTL-knn-lev-nan-distances.png\"\n",
    "composed_df = compose_all(outputs, 'knn_lev')\n",
    "plot_scores(composed_df, title, wrap=True, x=\"df_size\", hue=\"model\", xlabel=\"Dataset size\", ylabel=\"AUC\",\n",
    "            output_file=output,\n",
    "            plot=True)"
   ],
   "metadata": {
    "collapsed": false
   }
  },
  {
   "cell_type": "code",
   "execution_count": null,
   "outputs": [],
   "source": [
    "# proximity forest, levenstein distance\n",
    "\n",
    "models_to_evaluate = [\n",
    "\n",
    "    {'name': 'ProximityForest (levenstein, no_nan)',\n",
    "     'model': KNNString(metric=multi_lev, k=5),\n",
    "     'group': 'knn',\n",
    "     'extract_features': False,\n",
    "     'drop_train_na': True},\n",
    "\n",
    "    {'name': 'ProximityForest (levenstein, nan_dist=7)',\n",
    "     'model': KNNString(metric=multi_lev, k=5, metric_kwargs={'nan_distance': 7}),\n",
    "     'group': 'knn',\n",
    "     'extract_features': False,\n",
    "     'drop_train_na': False},\n",
    "\n",
    "]\n",
    "\n",
    "print(list([m['name'] for m in models_to_evaluate]))\n",
    "outputs = []\n",
    "\n",
    "dataset_size = [50, 100, 200, 500, 1000]\n",
    "for dataset_size in dataset_size:\n",
    "    print(f\"### Dataset size: {dataset_size} ###\")\n",
    "    update_data_per_fold(dataset_size)\n",
    "    scores, output_csv = evaluate_model_list(models_to_evaluate)\n",
    "    outputs.append(output_csv)\n",
    "    print(outputs)\n",
    "\n",
    "title = \"ProximityForest with levenshtein distance for different nan distances\"\n",
    "output = \"graphs/GILGFVFTL-knn-lev-nan-distances.png\"\n",
    "composed_df = compose_all(outputs, 'knn_lev')\n",
    "plot_scores(composed_df, title, wrap=True, x=\"df_size\", hue=\"model\", xlabel=\"Dataset size\", ylabel=\"AUC\",\n",
    "            output_file=output,\n",
    "            plot=True)"
   ],
   "metadata": {
    "collapsed": false
   }
  },
  {
   "cell_type": "code",
   "execution_count": null,
   "outputs": [],
   "source": [
    "# proximity forest, different candidate_splits\n",
    "\n",
    "models_to_evaluate = [\n",
    "\n",
    "    {'name': 'ProximityForest (sqrt, lev, nd=7)',\n",
    "     'model': ProximityForestClassifier(distance_measure=multi_lev, sample_multiple_splits='sqrt',\n",
    "                                        distance_kwargs={'nan_distance': 7}),\n",
    "     'extract_features': False,\n",
    "     'drop_train_na': False},\n",
    "\n",
    "    {'name': 'ProximityForest (half, lev, nd=7)',\n",
    "     'model': ProximityForestClassifier(distance_measure=multi_lev, sample_multiple_splits='half',\n",
    "                                        distance_kwargs={'nan_distance': 7}),\n",
    "     'extract_features': False,\n",
    "     'drop_train_na': False},\n",
    "\n",
    "    {'name': 'ProximityForest (all, lev, nd=7)',\n",
    "     'model': ProximityForestClassifier(distance_measure=multi_lev, sample_multiple_splits='all',\n",
    "                                        distance_kwargs={'nan_distance': 7}),\n",
    "     'extract_features': False,\n",
    "     'drop_train_na': False},\n",
    "\n",
    "]\n",
    "\n",
    "print(list([m['name'] for m in models_to_evaluate]))\n",
    "outputs = []\n",
    "\n",
    "dataset_size = [50, 100, 200]\n",
    "for dataset_size in dataset_size:\n",
    "    print(f\"### Dataset size: {dataset_size} ###\")\n",
    "    update_data_per_fold(dataset_size)\n",
    "    scores, output_csv = evaluate_model_list(models_to_evaluate)\n",
    "    outputs.append(output_csv)\n",
    "    print(outputs)\n",
    "\n",
    "title = \"ProximityForest with different number of candidate splits\"\n",
    "output = \"graphs/GILGFVFTL-pf-candidate-splits.png\"\n",
    "composed_df = compose_all(outputs, 'pf_candidate_splits')\n",
    "plot_scores(composed_df, title, wrap=True, x=\"df_size\", hue=\"model\", xlabel=\"Dataset size\", ylabel=\"AUC\",\n",
    "            output_file=output,\n",
    "            plot=True)"
   ],
   "metadata": {
    "collapsed": false
   }
  },
  {
   "cell_type": "code",
   "execution_count": 11,
   "outputs": [
    {
     "name": "stdout",
     "output_type": "stream",
     "text": [
      "### Epitope: GILGFVFTL ###\n",
      "### Dataset size: 50 ###\n"
     ]
    },
    {
     "name": "stderr",
     "output_type": "stream",
     "text": [
      "C:\\Users\\arnod\\PycharmProjects\\thesis\\util\\epitopes.py:6: DtypeWarning: Columns (20,29,30) have mixed types. Specify dtype option on import or set low_memory=False.\n",
      "  df_vdjdb = pd.read_csv('data/vdjdb-2022-03-30/vdjdb_full.txt', sep='\\t')\n"
     ]
    },
    {
     "name": "stdout",
     "output_type": "stream",
     "text": [
      "Number of negative samples changed from 47033 to 44205 (because of overlap with positive samples)\n",
      "Positive samples: alpha only: 2580, beta only: 3056, both: 2194, none: 0\n",
      "Negative samples (will be sampled to select same amount as positive): alpha only: 4499, beta only: 17510, both: 22196, none: 0\n",
      "Nan: train: 40, test: 108\n",
      "No Nan: train: 9, test: 108\n",
      "\n",
      "Evaluating model 1/2\n",
      "{'name': 'RandomForest (No NaNs)', 'model': RandomForestClassifier(random_state=0), 'group': 'different_epitopes', 'drop_train_na': True}\n",
      "0.8567241379310344\n",
      "0.815862068965517\n",
      "0.8737931034482759\n",
      "0.8539655172413793\n",
      "0.8617241379310344\n",
      "\n",
      "Evaluating model 2/2\n",
      "{'name': 'RandomForest (Mean imputed)', 'model': RandomForestClassifier(random_state=0), 'imputer': SimpleImputer(), 'group': 'different_epitopes', 'drop_train_na': False}\n",
      "0.8825862068965518\n",
      "0.8725862068965516\n",
      "0.8877586206896552\n",
      "0.8886206896551724\n",
      "0.8879310344827587\n",
      "Baseline Random Forest (NaNs dropped in train) not found in scores, using RandomForest (No NaNs) instead\n",
      "Baseline Random Forest (NaNs dropped in train) not found in scores, using RandomForest (No NaNs) instead\n",
      "Finished evaluating 2 models at 20230615-003021 in 0:00:00.969001 seconds\n",
      "['outputs/model-evaluations-20230615-003020-GILGFVFTL-50-imputation-constant-numbers/scores-20230615-003021.csv']\n",
      "### Dataset size: 100 ###\n"
     ]
    },
    {
     "name": "stderr",
     "output_type": "stream",
     "text": [
      "C:\\Users\\arnod\\PycharmProjects\\thesis\\util\\epitopes.py:6: DtypeWarning: Columns (20,29,30) have mixed types. Specify dtype option on import or set low_memory=False.\n",
      "  df_vdjdb = pd.read_csv('data/vdjdb-2022-03-30/vdjdb_full.txt', sep='\\t')\n"
     ]
    },
    {
     "name": "stdout",
     "output_type": "stream",
     "text": [
      "Number of negative samples changed from 47033 to 44205 (because of overlap with positive samples)\n",
      "Positive samples: alpha only: 2580, beta only: 3056, both: 2194, none: 0\n",
      "Negative samples (will be sampled to select same amount as positive): alpha only: 4499, beta only: 17510, both: 22196, none: 0\n",
      "Nan: train: 80, test: 108\n",
      "No Nan: train: 18, test: 108\n",
      "\n",
      "Evaluating model 1/2\n",
      "{'name': 'RandomForest (No NaNs)', 'model': RandomForestClassifier(random_state=0), 'group': 'different_epitopes', 'drop_train_na': True}\n",
      "0.9058620689655171\n",
      "0.8698275862068966\n",
      "0.8901724137931034\n",
      "0.8629310344827587\n",
      "0.8877586206896553\n",
      "\n",
      "Evaluating model 2/2\n",
      "{'name': 'RandomForest (Mean imputed)', 'model': RandomForestClassifier(random_state=0), 'imputer': SimpleImputer(), 'group': 'different_epitopes', 'drop_train_na': False}\n",
      "0.9162068965517242\n",
      "0.8962068965517241\n",
      "0.9089655172413793\n",
      "0.8896551724137931\n",
      "0.8958620689655172\n",
      "Baseline Random Forest (NaNs dropped in train) not found in scores, using RandomForest (No NaNs) instead\n",
      "Baseline Random Forest (NaNs dropped in train) not found in scores, using RandomForest (No NaNs) instead\n",
      "Finished evaluating 2 models at 20230615-003026 in 0:00:01.069750 seconds\n",
      "['outputs/model-evaluations-20230615-003020-GILGFVFTL-50-imputation-constant-numbers/scores-20230615-003021.csv', 'outputs/model-evaluations-20230615-003025-GILGFVFTL-100-imputation-constant-numbers/scores-20230615-003026.csv']\n",
      "Finished GILGFVFTL\n",
      "['outputs/model-evaluations-20230615-003020-GILGFVFTL-50-imputation-constant-numbers/scores-20230615-003021.csv', 'outputs/model-evaluations-20230615-003025-GILGFVFTL-100-imputation-constant-numbers/scores-20230615-003026.csv']\n"
     ]
    },
    {
     "data": {
      "text/plain": "<Figure size 432x288 with 1 Axes>",
      "image/png": "[encoded data removed]"
     },
     "metadata": {
      "needs_background": "light"
     },
     "output_type": "display_data"
    },
    {
     "name": "stdout",
     "output_type": "stream",
     "text": [
      "Baseline Random Forest (NaNs dropped in train) not found in scores, using RandomForest (No NaNs) instead\n"
     ]
    },
    {
     "data": {
      "text/plain": "<Figure size 432x288 with 1 Axes>",
      "image/png": "[encoded data removed]"
     },
     "metadata": {
      "needs_background": "light"
     },
     "output_type": "display_data"
    }
   ],
   "source": [
    "epitopes = ['GILGFVFTL']\n",
    "\n",
    "models_to_evaluate = [\n",
    "\n",
    "    {'name': 'RandomForest (No NaNs)',\n",
    "     'model': RandomForestClassifier(random_state=0),\n",
    "     'group': 'different_epitopes',\n",
    "     'drop_train_na': True},\n",
    "\n",
    "    {'name': 'RandomForest (Mean imputed)',\n",
    "     'model': RandomForestClassifier(random_state=0),\n",
    "     'imputer': mean_imputer,\n",
    "      'group': 'different_epitopes',\n",
    "     'drop_train_na': False, }\n",
    "]\n",
    "\n",
    "df_sizes = [50, 100]\n",
    "outputs = []\n",
    "for epitope in epitopes:\n",
    "    print(f\"### Epitope: {epitope} ###\")\n",
    "    for df_size in df_sizes:\n",
    "        print(f\"### Dataset size: {df_size} ###\")\n",
    "        update_data_per_fold(df_size, epitope_=epitope)\n",
    "        scores, output_csv = evaluate_model_list(models_to_evaluate)\n",
    "        outputs.append(output_csv)\n",
    "        print(outputs)\n",
    "    print(f\"Finished {epitope}\")\n",
    "    print(outputs)\n",
    "\n",
    "title = \"RandomForest with different epitopes\"\n",
    "output = \"graphs/GILGFVFTL-rf-different-epitopes.png\"\n",
    "composed_df = compose_all(outputs, 'rf_different_epitopes')\n",
    "plot_scores(composed_df, title, wrap=True, x=\"epitope\", hue=\"model\", xlabel=\"Epitope\", ylabel=\"AUC\",\n",
    "            output_file=output,\n",
    "            plot=True)\n"
   ],
   "metadata": {
    "collapsed": false
   }
  },
  {
   "cell_type": "code",
   "execution_count": null,
   "outputs": [],
   "source": [],
   "metadata": {
    "collapsed": false
   }
  }
 ],
 "metadata": {
  "kernelspec": {
   "display_name": "Python 3",
   "language": "python",
   "name": "python3"
  },
  "language_info": {
   "codemirror_mode": {
    "name": "ipython",
    "version": 2
   },
   "file_extension": ".py",
   "mimetype": "text/x-python",
   "name": "python",
   "nbconvert_exporter": "python",
   "pygments_lexer": "ipython2",
   "version": "2.7.6"
  }
 },
 "nbformat": 4,
 "nbformat_minor": 0
}
