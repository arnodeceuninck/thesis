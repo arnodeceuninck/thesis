{
 "cells": [
  {
   "cell_type": "markdown",
   "source": [
    "# Master overview\n",
    "This master overview contains all graphs used in the final thesis, to make sure everything was trained and tested on the same data."
   ],
   "metadata": {
    "collapsed": false
   }
  },
  {
   "cell_type": "code",
   "execution_count": 47,
   "outputs": [],
   "source": [
    "# utils\n",
    "from util import evaluate_no_cv, calculate_auc_and_plot, get_epitope_df, get_features, fix_test, \\\n",
    "    evaluate_seperate_chains, get_columns_starting_with, get_counts, plot_scores\n",
    "\n",
    "# distance measures\n",
    "from util import ProximityForestClassifier\n",
    "\n",
    "# distance functions\n",
    "from util import calculate_tcr_dist2, calculate_tcr_dist2_cached, calculate_tcr_dist_multiple_chains, \\\n",
    "    calculate_tcr_dist, multi_dist, levenstein_distance, multi_lev, calculate_approx_distance, nan_hamming\n",
    "from util import levenstein_distance\n",
    "from util import calculate_approx_distance_or\n",
    "from util import compose_all\n",
    "\n",
    "# sklearn\n",
    "from sklearn.model_selection import train_test_split\n",
    "from sklearn import impute\n",
    "from sklearn.experimental import enable_iterative_imputer\n",
    "from sklearn.pipeline import Pipeline\n",
    "\n",
    "# own models\n",
    "from CustomForest import RandomForest as CustomForest\n",
    "from util import ProximityForestClassifier, KNNString\n",
    "\n",
    "# other\n",
    "import numpy as np\n",
    "import pandas as pd\n",
    "from datetime import datetime\n",
    "import os\n",
    "\n",
    "# models\n",
    "from xgboost import XGBClassifier\n",
    "from sklearn.ensemble import HistGradientBoostingClassifier, RandomForestClassifier\n",
    "from lightgbm import LGBMClassifier\n",
    "from sklearn.neighbors import KNeighborsClassifier\n",
    "\n",
    "# warnings\n",
    "import warnings\n",
    "from pandas.errors import SettingWithCopyWarning\n",
    "\n",
    "warnings.filterwarnings(\"ignore\",\n",
    "                        category=UserWarning)  # hide: UserWarning: X has feature names, but RandomForestClassifier was fitted without feature names\n",
    "warnings.filterwarnings(\"ignore\", category=FutureWarning)\n",
    "warnings.filterwarnings(\"ignore\", category=SettingWithCopyWarning)"
   ],
   "metadata": {
    "collapsed": false
   }
  },
  {
   "cell_type": "code",
   "execution_count": 48,
   "outputs": [],
   "source": [
    "models_to_evaluate = []"
   ],
   "metadata": {
    "collapsed": false
   }
  },
  {
   "cell_type": "code",
   "execution_count": 49,
   "outputs": [],
   "source": [
    "# train/test data\n",
    "folds = 5\n",
    "epitope = \"GILGFVFTL\"\n",
    "species = \"HomoSapiens\"\n",
    "descr = \"imputation-constant-numbers\"\n",
    "\n",
    "dataset_size = 50  # typically 50, 100, 200, 500, 1000, 2000, 5000 or None (None = all data)\n",
    "\n",
    "data_per_fold = []\n",
    "df_size = 0\n",
    "\n",
    "\n",
    "def update_data_per_fold(dataset_size, epitope_=None, fixed_test_size=True, max_samples=None):\n",
    "    global data_per_fold, df_size, epitope, species, folds\n",
    "\n",
    "    epitope = epitope_ if epitope_ is not None else epitope\n",
    "\n",
    "    df = get_epitope_df(epitope, species=species)\n",
    "\n",
    "    if fixed_test_size:\n",
    "        # for fixed test size (during the different size runs when sampling a few instances)\n",
    "        df, test = train_test_split(df, test_size=0.2, random_state=0)\n",
    "        test = test.sample(400, random_state=0)\n",
    "\n",
    "    if max_samples is not None and len(df) > max_samples:\n",
    "        df = df.sample(max_samples, random_state=0)\n",
    "\n",
    "    # test.dropna(inplace=True)\n",
    "    # split test df into folds\n",
    "    # test_folds = np.array_split(test, folds)\n",
    "    # test = test.sample(100, random_state=0)\n",
    "\n",
    "    df = df.sample(dataset_size, random_state=0) if dataset_size is not None else df\n",
    "    df_size = len(df)\n",
    "\n",
    "    data_per_fold = []\n",
    "    for seed in range(folds):\n",
    "        fold_data = {\"seed\": seed,\n",
    "                     \"epitope\": epitope,\n",
    "                     \"species\": species,\n",
    "                     \"df_size\": df_size, }\n",
    "\n",
    "        train_with_nan, test_with_nan = train_test_split(df, test_size=0.2, random_state=seed)\n",
    "\n",
    "        # # for fixed test size (during the different size runs)\n",
    "        # test_with_nan = test_folds[seed] # actually no nan, but no problem\n",
    "        if fixed_test_size:\n",
    "            test_with_nan = test  # same test set for all folds\n",
    "\n",
    "        test = test_with_nan.dropna()\n",
    "\n",
    "        x_missing = train_with_nan.isna().any(axis=1)\n",
    "\n",
    "        # with nan in train set\n",
    "        x = get_features(train_with_nan)\n",
    "        y = train_with_nan['reaction']\n",
    "\n",
    "        # print the name of all columns in x that contain nan\n",
    "\n",
    "        x_missing_test = test_with_nan.isna().any(axis=1)\n",
    "        x_test = get_features(test, test=True)\n",
    "        x_test = fix_test(x_test, x.columns)\n",
    "        x_test_missing = x_test.isna().any(axis=1)\n",
    "\n",
    "        y_test = test['reaction']\n",
    "\n",
    "        alpha_only_count_pos, beta_only_count_pos, both_count_pos, non_count_pos = get_counts(train_with_nan)\n",
    "\n",
    "        assert len(x) == len(x_missing) == len(y)\n",
    "        assert len(x_test) == len(x_test_missing) == len(y_test)\n",
    "\n",
    "        fold_data[\"nan\"] = {\"x\": x, \"y\": y, \"x_test\": x_test, \"y_test\": y_test, 'x_missing': x_missing,\n",
    "                            'x_missing_test': x_missing_test, 'x_original': train_with_nan,\n",
    "                            'x_test_original': test,\n",
    "                            \"train_alpha_only\": alpha_only_count_pos, \"train_beta_only\": beta_only_count_pos,\n",
    "                            \"train_both\": both_count_pos, \"train_non\": non_count_pos, 'train_total': len(x),\n",
    "                            'test_total': len(x_test)}\n",
    "\n",
    "        # without nan in train set\n",
    "        train_without_nan = train_with_nan.dropna()\n",
    "        x = get_features(train_without_nan)\n",
    "        y = train_without_nan['reaction']\n",
    "\n",
    "        x_test = get_features(test, test=True)\n",
    "        x_test = fix_test(x_test, x.columns)\n",
    "        y_test = test['reaction']\n",
    "\n",
    "        assert len(x) == len(y)\n",
    "        assert len(x_test) == len(y_test)\n",
    "\n",
    "        fold_data[\"no_nan\"] = {\"x\": x, \"y\": y, \"x_test\": x_test, \"y_test\": y_test, 'train_total': len(x),\n",
    "                               'test_total': len(x_test), 'train_both': len(train_without_nan), 'train_non': 0,\n",
    "                               'x_original': train_without_nan, 'x_test_original': test,\n",
    "                               'train_alpha_only': 0, 'train_beta_only': 0}\n",
    "\n",
    "        data_per_fold.append(fold_data)\n",
    "\n",
    "    # print train and test size for seed 0 (nan and no_nan)\n",
    "    nan_data = data_per_fold[0][\"nan\"]\n",
    "    no_nan_data = data_per_fold[0][\"no_nan\"]\n",
    "    print(f\"Nan: train: {len(nan_data['x'])}, test: {len(nan_data['x_test'])}\")\n",
    "    print(f\"No Nan: train: {len(no_nan_data['x'])}, test: {len(no_nan_data['x_test'])}\")"
   ],
   "metadata": {
    "collapsed": false
   }
  },
  {
   "cell_type": "code",
   "execution_count": 50,
   "outputs": [],
   "source": [
    "def evaluate_model(model_description):\n",
    "    \"\"\"\n",
    "    model description is a dict with the following keys:\n",
    "    - name*: name of the model\n",
    "    - model*: the model\n",
    "    - imputer: the imputer to use\n",
    "    - chain: 'both', 'alpha', 'beta' or 'seperate'. In cas of 'seperate', model_alpha and model_beta must be defined instead of model\n",
    "    - drop_train_na: if True, all rows with nan in the train set are dropped\n",
    "    - missing_indicator: if True, a missing indicator is added as feature\n",
    "    - columns_to_use: list of columns to use (CDR, V, J)\n",
    "    - extract_features: if False, the original columns are used and no features are extracted\n",
    "    \"\"\"\n",
    "    global data_per_fold\n",
    "\n",
    "    assert \"name\" in model_description\n",
    "    assert \"model\" in model_description\n",
    "\n",
    "    scores = pd.DataFrame()\n",
    "\n",
    "    num_folds = len(data_per_fold)\n",
    "    for i in range(num_folds):\n",
    "\n",
    "        model_train_nan = not model_description.get(\"drop_train_na\", False)\n",
    "        data_name = \"nan\" if model_train_nan else \"no_nan\"\n",
    "\n",
    "        chain = model_description.get(\"chain\", \"both\")\n",
    "        assert chain in [\"both\", \"alpha\", \"beta\", \"seperate\"]\n",
    "\n",
    "        # get the precomputed dataset for this fold (either the version with nan or without nan\n",
    "        fold_data = data_per_fold[i]\n",
    "        fold_dataset = fold_data[data_name]\n",
    "        x = fold_dataset[\"x\"].copy()\n",
    "        y = fold_dataset[\"y\"].copy()\n",
    "        x_test = fold_dataset[\"x_test\"].copy()\n",
    "        y_test = fold_dataset[\"y_test\"].copy()\n",
    "\n",
    "        columns_to_use = model_description.get(\"columns_to_use\", None)\n",
    "\n",
    "        extract_features = model_description.get(\"extract_features\", True)\n",
    "\n",
    "        # set the columns_to_use if only specific gene features are used\n",
    "        gene_features = model_description.get(\"gene_features\", None)\n",
    "        if gene_features is not None:\n",
    "            assert gene_features in [\"FV\", \"F\", \"V\", \"F+V\", \"FV+F+V\"]  #, \"CDR_only\"]\n",
    "\n",
    "            column_map = {'F': ['V_family', 'J_family'],\n",
    "                          'V': ['V_version', 'J_version'],\n",
    "                          'FV': ['V', 'J']}\n",
    "            column_map['F+V'] = column_map['F'] + column_map['V']\n",
    "            column_map['FV+F+V'] = column_map['FV'] + column_map['F'] + column_map['V']\n",
    "            # add CDR3 to all\n",
    "            for key in column_map:\n",
    "                column_map[key].append('CDR3')\n",
    "\n",
    "            columns_to_use = column_map[gene_features]\n",
    "\n",
    "        # if there needs to be other columns or no features need to be extracted, the pre-computed features won't work\n",
    "        if columns_to_use is not None or not extract_features:\n",
    "            if columns_to_use is None:\n",
    "                columns_to_use = [\"CDR3\", \"V\", \"J\"]\n",
    "\n",
    "            # recreate train data\n",
    "            x_original = fold_dataset[\"x_original\"]\n",
    "            x_test_original = fold_dataset[\"x_test_original\"]\n",
    "\n",
    "            x = get_features(x_original, columns=columns_to_use, extract_features=extract_features)\n",
    "\n",
    "            x_test = get_features(x_test_original, columns=columns_to_use, test=True, extract_features=extract_features)\n",
    "            x_test = fix_test(x_test, x.columns)\n",
    "            x_test.dropna(inplace=True)\n",
    "\n",
    "        # add missing indicator if needed\n",
    "        missing_indicator = model_description.get(\"missing_indicator\", False)\n",
    "        if missing_indicator:\n",
    "            x_missing = fold_dataset[\"x_missing\"]\n",
    "            x_missing_test = fold_dataset[\"x_missing_test\"]\n",
    "            x[\"missing\"] = x_missing\n",
    "            x_test[\"missing\"] = x_missing_test\n",
    "\n",
    "        # get only alpha or beta chain if needed\n",
    "        if chain == \"alpha\" or chain == \"beta\":\n",
    "            x = get_columns_starting_with(x, f'{chain}_')\n",
    "            x_test = get_columns_starting_with(x_test, f'{chain}_')\n",
    "\n",
    "        model_imputer = model_description.get(\"imputer\", None)\n",
    "\n",
    "        separate_chains = chain == \"seperate\"\n",
    "\n",
    "        try:\n",
    "            if separate_chains:\n",
    "                model_alpha = model_description[\"model_alpha\"]\n",
    "                model_beta = model_description[\"model_beta\"]\n",
    "                auc = evaluate_seperate_chains(model_alpha, model_beta, x, y, x_test, y_test, model_imputer)\n",
    "            else:\n",
    "                model = model_description[\"model\"]\n",
    "                if model_imputer is not None:\n",
    "                    model = Pipeline([('imputer', model_imputer), ('model', model)])\n",
    "                    model_imputer = None\n",
    "                auc = evaluate_no_cv(model, x, y, x_test, y_test, model_imputer)\n",
    "\n",
    "            # add the scores to the dataframe\n",
    "            index = len(scores)\n",
    "            scores.loc[index, 'model'] = model_description['name']\n",
    "            scores.loc[index, 'auc'] = auc\n",
    "            scores.loc[index, 'model_train_nan'] = model_train_nan\n",
    "            scores.loc[index, 'imputer'] = model_imputer.__class__.__name__ if model_imputer is not None else None\n",
    "            scores.loc[index, 'chain'] = chain\n",
    "            scores.loc[index, 'group'] = model_description['group']\n",
    "\n",
    "            scores.loc[index, 'seed'] = fold_data[\"seed\"]\n",
    "            scores.loc[index, 'epitope'] = fold_data[\"epitope\"]\n",
    "            scores.loc[index, 'species'] = fold_data[\"species\"]\n",
    "\n",
    "            scores.loc[index, 'train_alpha_only'] = fold_dataset[\"train_alpha_only\"]\n",
    "            scores.loc[index, 'train_beta_only'] = fold_dataset[\"train_beta_only\"]\n",
    "            scores.loc[index, 'train_both'] = fold_dataset[\"train_both\"]\n",
    "            scores.loc[index, 'train_non'] = fold_dataset[\"train_non\"]\n",
    "            scores.loc[index, 'train_total'] = fold_dataset[\"train_total\"]\n",
    "            scores.loc[index, 'test_total'] = fold_dataset[\"test_total\"]\n",
    "            scores.loc[index, 'df_size'] = fold_data[\"df_size\"]\n",
    "\n",
    "            scores.loc[index, 'gene_features'] = gene_features\n",
    "            scores.loc[index, 'missing_indicator'] = missing_indicator\n",
    "\n",
    "            # print the row\n",
    "            # print(scores.loc[index])\n",
    "            # print(f\"AUC(m={model_description['name']}, s={seed}, train_na={int(model_train_nan)}): {auc}\")\n",
    "            print(auc)\n",
    "\n",
    "        except Exception as e:\n",
    "            print(f\"Error: {e}\")\n",
    "            raise e  # for debugging\n",
    "            continue\n",
    "\n",
    "    return scores"
   ],
   "metadata": {
    "collapsed": false
   }
  },
  {
   "cell_type": "code",
   "execution_count": 51,
   "outputs": [],
   "source": [
    "def evaluate_model_list(models_to_evaluate):\n",
    "    assert len(models_to_evaluate) > 0, \"No models to evaluate\"\n",
    "\n",
    "    start_time = datetime.now()\n",
    "    timestamp = start_time.strftime(\"%Y%m%d-%H%M%S\")\n",
    "    # create a directory in outputs to save the files to\n",
    "    global epitope, df_size, descr\n",
    "    output_dir = f\"outputs/model-evaluations-{timestamp}-{epitope}-{df_size}-{descr}\"\n",
    "    os.makedirs(output_dir, exist_ok=True)\n",
    "\n",
    "    output_log = f\"{output_dir}/log.txt\"\n",
    "    with open(output_log, 'w') as f:\n",
    "        f.write(f\"Started at {start_time}\\n\\n\")\n",
    "        f.write(f\"Models to evaluate: {len(models_to_evaluate)}\\n\\n\")\n",
    "        for i, model in enumerate(models_to_evaluate):\n",
    "            f.write(f\"{i + 1}/{len(models_to_evaluate)}: {model['name']}\\n\")\n",
    "            f.write(f\"{model}\\n\\n\")\n",
    "\n",
    "    scores = pd.DataFrame()\n",
    "    for i, model in enumerate(models_to_evaluate):\n",
    "        print(f\"\\nEvaluating model {i + 1}/{len(models_to_evaluate)}\")\n",
    "        print(model)\n",
    "        model_scores = evaluate_model(model)\n",
    "\n",
    "        model_scores['test_nr'] = i + 1\n",
    "        model_scores.to_csv(f\"{output_dir}/{i + 1}-{model['name']}.csv\")\n",
    "\n",
    "        scores = pd.concat([scores, model_scores])\n",
    "    # write to csv\n",
    "    end_time = datetime.now()\n",
    "\n",
    "    time_taken = end_time - start_time\n",
    "    timestamp = end_time.strftime(\"%Y%m%d-%H%M%S\")\n",
    "    scores.to_csv(f\"{output_dir}/scores-{timestamp}.csv\")\n",
    "\n",
    "    plot_scores(scores, \"All models\", output_file=f\"{output_dir}/all-models.png\", hue_group_diff=False)\n",
    "\n",
    "    # create a directory 'groups'\n",
    "    groups_dir = f\"{output_dir}/groups\"\n",
    "    os.makedirs(groups_dir, exist_ok=True)\n",
    "    # for each group in the scores, save a csv with the scores for that group\n",
    "    for group in scores['group'].unique():\n",
    "        group_scores = scores[scores['group'] == group]\n",
    "\n",
    "        # always add the baseline group\n",
    "        if group != 'baseline':\n",
    "            baseline_scores = scores[scores['group'] == 'baseline']\n",
    "            group_scores = pd.concat([baseline_scores, group_scores])\n",
    "\n",
    "        group_scores.to_csv(f\"{groups_dir}/{group}.csv\")\n",
    "        plot_scores(group_scores, group, output_file=f\"{groups_dir}/{group}.png\", hue_group_diff=False)\n",
    "\n",
    "    print(f'Finished evaluating {len(models_to_evaluate)} models at {timestamp} in {time_taken} seconds')\n",
    "\n",
    "    with open(output_log, 'a') as f:\n",
    "        f.write(f\"Finished at {end_time}\\n\")\n",
    "        f.write(f\"Time taken: {time_taken}\\n\")\n",
    "        f.write(f\"Saved scores to {output_dir}\\n\")\n",
    "        f.write(f\"Saved all scores to {output_dir}/scores-{timestamp}.csv\\n\")\n",
    "        f.write(f\"Saved group scores to {groups_dir}\\n\")\n",
    "        f.write(f\"Saved all group scores to {groups_dir}/all-models.png\\n\")\n",
    "        f.write(f\"Saved all models to {output_dir}/all-models.png\\n\")\n",
    "        f.write(f\"Saved log to {output_log}\\n\")\n",
    "\n",
    "    return scores, f\"{output_dir}/scores-{timestamp}.csv\""
   ],
   "metadata": {
    "collapsed": false
   }
  },
  {
   "cell_type": "code",
   "execution_count": 52,
   "outputs": [],
   "source": [
    "# imputers\n",
    "zero_imputer = impute.SimpleImputer(missing_values=np.nan, strategy='constant', fill_value=0)\n",
    "mean_imputer = impute.SimpleImputer(missing_values=np.nan, strategy='mean')\n",
    "most_freq_imputer = impute.SimpleImputer(missing_values=np.nan, strategy='most_frequent')\n",
    "median_imputer = impute.SimpleImputer(missing_values=np.nan, strategy='median')"
   ],
   "metadata": {
    "collapsed": false
   }
  },
  {
   "cell_type": "code",
   "execution_count": 7,
   "outputs": [
    {
     "name": "stderr",
     "output_type": "stream",
     "text": [
      "UsageError: Line magic function `%` not found.\n"
     ]
    }
   ],
   "source": [
    "% % script echo skipping\n",
    "\n",
    "# baseline (random forest, nans dropped in train)\n",
    "baseline = {\n",
    "    'name': 'Random Forest (NaNs dropped in train)',\n",
    "    'model': RandomForestClassifier(random_state=0),\n",
    "    'drop_train_na': True,\n",
    "    'group': 'baseline',\n",
    "}\n",
    "models_to_evaluate.append(baseline)"
   ],
   "metadata": {
    "collapsed": false
   }
  },
  {
   "cell_type": "code",
   "execution_count": 8,
   "outputs": [
    {
     "name": "stdout",
     "output_type": "stream",
     "text": [
      "Couldn't find program: 'echo'\n"
     ]
    }
   ],
   "source": [
    "% % script echo skipping\n",
    "\n",
    "# random forest imputations\n",
    "rf_zero_imputed = {\n",
    "    'name': 'Random Forest (Zero imputed)',\n",
    "    'model': RandomForestClassifier(random_state=0),\n",
    "    'imputer': zero_imputer,\n",
    "    'group': 'rf_imputations'\n",
    "}\n",
    "\n",
    "rf_mean_imputed = {\n",
    "    'name': 'Random Forest (Mean imputed)',\n",
    "    'model': RandomForestClassifier(random_state=0),\n",
    "    'imputer': mean_imputer,\n",
    "    'group': 'rf_imputations'\n",
    "}\n",
    "\n",
    "rf_most_freq_imputed = {\n",
    "    'name': 'Random Forest (Most frequent imputed)',\n",
    "    'model': RandomForestClassifier(random_state=0),\n",
    "    'imputer': most_freq_imputer,\n",
    "    'group': 'rf_imputations'\n",
    "}\n",
    "\n",
    "rf_median_imputed = {\n",
    "    'name': 'Random Forest (Median imputed)',\n",
    "    'model': RandomForestClassifier(random_state=0),\n",
    "    'imputer': median_imputer,\n",
    "    'group': 'rf_imputations'\n",
    "}\n",
    "\n",
    "rf_imputation_models = [rf_zero_imputed, rf_mean_imputed, rf_most_freq_imputed, rf_median_imputed]\n",
    "models_to_evaluate.extend(rf_imputation_models)"
   ],
   "metadata": {
    "collapsed": false
   }
  },
  {
   "cell_type": "code",
   "execution_count": 9,
   "outputs": [
    {
     "name": "stdout",
     "output_type": "stream",
     "text": [
      "Couldn't find program: 'echo'\n"
     ]
    }
   ],
   "source": [
    "% % script echo skipping\n",
    "\n",
    "rf_impute_0 = {\n",
    "    'name': 'Random Forest (0 imputed)',\n",
    "    'model': RandomForestClassifier(random_state=0),\n",
    "    'imputer': zero_imputer,\n",
    "    'group': 'rf_imputations'\n",
    "}\n",
    "\n",
    "rf_impute_10 = {\n",
    "    'name': 'Random Forest (10 imputed)',\n",
    "    'model': RandomForestClassifier(random_state=0),\n",
    "    'imputer': impute.SimpleImputer(missing_values=np.nan, strategy='constant', fill_value=10),\n",
    "    'group': 'rf_imputations'\n",
    "}\n",
    "\n",
    "rf_impute_100 = {\n",
    "    'name': 'Random Forest (100 imputed)',\n",
    "    'model': RandomForestClassifier(random_state=0),\n",
    "    'imputer': impute.SimpleImputer(missing_values=np.nan, strategy='constant', fill_value=100),\n",
    "    'group': 'rf_imputations'\n",
    "}\n",
    "\n",
    "models_to_evaluate.extend([rf_impute_0, rf_impute_10, rf_impute_100])"
   ],
   "metadata": {
    "collapsed": false
   }
  },
  {
   "cell_type": "code",
   "execution_count": 10,
   "outputs": [
    {
     "name": "stdout",
     "output_type": "stream",
     "text": [
      "Couldn't find program: 'echo'\n"
     ]
    }
   ],
   "source": [
    "% % script echo skipping\n",
    "\n",
    "# knn imputers\n",
    "rf_knn_imputed_1 = {\n",
    "    'name': 'Random Forest (KNN imputed, k=1)',\n",
    "    'model': RandomForestClassifier(random_state=0),\n",
    "    'imputer': impute.KNNImputer(n_neighbors=1),\n",
    "    'group': 'rf_knn_imputations'\n",
    "}\n",
    "\n",
    "rf_knn_imputed_5 = {\n",
    "    'name': 'Random Forest (KNN imputed, k=5)',\n",
    "    'model': RandomForestClassifier(random_state=0),\n",
    "    'imputer': impute.KNNImputer(n_neighbors=5),\n",
    "    'group': 'rf_knn_imputations'\n",
    "}\n",
    "\n",
    "rf_knn_imputed_15 = {\n",
    "    'name': 'Random Forest (KNN imputed, k=10)',\n",
    "    'model': RandomForestClassifier(random_state=0),\n",
    "    'imputer': impute.KNNImputer(n_neighbors=10),\n",
    "    'group': 'rf_knn_imputations'\n",
    "}\n",
    "\n",
    "rf_knn_imputation_models = [rf_knn_imputed_1, rf_knn_imputed_5, rf_knn_imputed_15]\n",
    "models_to_evaluate.extend(rf_knn_imputation_models)"
   ],
   "metadata": {
    "collapsed": false
   }
  },
  {
   "cell_type": "code",
   "execution_count": 11,
   "outputs": [
    {
     "name": "stdout",
     "output_type": "stream",
     "text": [
      "Couldn't find program: 'echo'\n"
     ]
    }
   ],
   "source": [
    "% % script echo skipping\n",
    "\n",
    "# iterative imputations\n",
    "rf_iterative_imputed_1 = {\n",
    "    'name': 'Random Forest (Iterative imputed, max_iter=1)',\n",
    "    'model': RandomForestClassifier(random_state=0),\n",
    "    'imputer': impute.IterativeImputer(max_iter=1),\n",
    "    'group': 'rf_iterative_imputations'\n",
    "}\n",
    "\n",
    "rf_iterative_imputed_5 = {\n",
    "    'name': 'Random Forest (Iterative imputed, max_iter=5)',\n",
    "    'model': RandomForestClassifier(random_state=0),\n",
    "    'imputer': impute.IterativeImputer(max_iter=5),\n",
    "    'group': 'rf_iterative_imputations'\n",
    "}\n",
    "\n",
    "# rf_iterative_imputed_10 = {\n",
    "#     'name': 'Random Forest (Iterative imputed, max_iter=10)',\n",
    "#     'model': RandomForestClassifier(random_state=0),\n",
    "#     'imputer': impute.IterativeImputer(max_iter=10),\n",
    "#     'group': 'rf_iterative_imputations'\n",
    "# }\n",
    "#\n",
    "# rf_iterative_imputed_15 = {\n",
    "#     'name': 'Random Forest (Iterative imputed, max_iter=15)',\n",
    "#     'model': RandomForestClassifier(random_state=0),\n",
    "#     'imputer': impute.IterativeImputer(max_iter=15),\n",
    "#     'group': 'rf_iterative_imputations'\n",
    "# }\n",
    "\n",
    "# rf_iterative_imputation_models = [rf_iterative_imputed_1, rf_iterative_imputed_5, rf_iterative_imputed_10, rf_iterative_imputed_15]\n",
    "rf_iterative_imputation_models = [rf_iterative_imputed_1, rf_iterative_imputed_5]\n",
    "models_to_evaluate.extend(rf_iterative_imputation_models)"
   ],
   "metadata": {
    "collapsed": false
   }
  },
  {
   "cell_type": "code",
   "execution_count": 12,
   "outputs": [
    {
     "name": "stdout",
     "output_type": "stream",
     "text": [
      "Couldn't find program: 'echo'\n"
     ]
    }
   ],
   "source": [
    "% % script echo skipping\n",
    "\n",
    "from sklearn.neural_network import MLPRegressor\n",
    "from sklearn.neighbors import KNeighborsRegressor\n",
    "from sklearn.ensemble import RandomForestRegressor\n",
    "\n",
    "# iterative imputer with RandomForestRegressor, KNeighborsRegressor and MLP\n",
    "# max_iter=1\n",
    "\n",
    "rf_iterative_imputed_rfr = {\n",
    "    'name': 'RF (Iterative imputed, RandomForestRegressor, max_iter=1)',\n",
    "    'model': RandomForestClassifier(random_state=0),\n",
    "    'imputer': impute.IterativeImputer(max_iter=1, estimator=RandomForestRegressor(random_state=0)),\n",
    "    'group': 'rf_iterative_imputations'\n",
    "}\n",
    "\n",
    "rf_iterative_imputed_knr = {\n",
    "    'name': 'RF (Iterative imputed, KNeighborsRegressor, max_iter=1)',\n",
    "    'model': RandomForestClassifier(random_state=0),\n",
    "    'imputer': impute.IterativeImputer(max_iter=1, estimator=KNeighborsRegressor()),\n",
    "    'group': 'rf_iterative_imputations'\n",
    "}\n",
    "\n",
    "rf_iterative_imputed_mlp = {\n",
    "    'name': 'RF (Iterative imputed, MLPRegressor, max_iter=1)',\n",
    "    'model': RandomForestClassifier(random_state=0),\n",
    "    'imputer': impute.IterativeImputer(max_iter=1, estimator=MLPRegressor(random_state=0)),\n",
    "    'group': 'rf_iterative_imputations'\n",
    "}\n",
    "\n",
    "rf_iterative_imputation_models = [rf_iterative_imputed_rfr, rf_iterative_imputed_knr, rf_iterative_imputed_mlp]\n",
    "models_to_evaluate.extend(rf_iterative_imputation_models)"
   ],
   "metadata": {
    "collapsed": false
   }
  },
  {
   "cell_type": "code",
   "execution_count": 13,
   "outputs": [
    {
     "name": "stdout",
     "output_type": "stream",
     "text": [
      "Couldn't find program: 'echo'\n"
     ]
    }
   ],
   "source": [
    "% % script echo skipping\n",
    "\n",
    "# knn classifier\n",
    "knn_classifier_mean_imputed = {\n",
    "    'name': 'KNN Classifier (mean imputed)',\n",
    "    'model': KNeighborsClassifier(),\n",
    "    'group': 'knn',\n",
    "    'imputer': mean_imputer\n",
    "}\n",
    "\n",
    "knn_classifier_knn_imputed = {\n",
    "    'name': 'KNN Classifier (KNN imputed)',\n",
    "    'model': KNeighborsClassifier(),\n",
    "    'group': 'knn',\n",
    "    'imputer': impute.KNNImputer()\n",
    "}\n",
    "\n",
    "knn_models = [knn_classifier_mean_imputed, knn_classifier_knn_imputed]\n",
    "models_to_evaluate.extend(knn_models)"
   ],
   "metadata": {
    "collapsed": false
   }
  },
  {
   "cell_type": "code",
   "execution_count": 14,
   "outputs": [
    {
     "name": "stdout",
     "output_type": "stream",
     "text": [
      "Couldn't find program: 'echo'\n"
     ]
    }
   ],
   "source": [
    "% % script echo skipping\n",
    "\n",
    "# missing indicator imputations\n",
    "# same models as above, but with missing indicator\n",
    "rf_imputation_models_with_missing_indicator = []\n",
    "for model in rf_imputation_models:\n",
    "    model_with_missing_indicator = model.copy()\n",
    "    model_with_missing_indicator['name'] += \" (with missing indicator)\"\n",
    "    model_with_missing_indicator['missing_indicator'] = True\n",
    "    model_with_missing_indicator['group'] = 'rf_imputations_with_missing_indicator'\n",
    "    rf_imputation_models_with_missing_indicator.append(model_with_missing_indicator)\n",
    "\n",
    "models_to_evaluate.extend(rf_imputation_models_with_missing_indicator)"
   ],
   "metadata": {
    "collapsed": false
   }
  },
  {
   "cell_type": "code",
   "execution_count": 15,
   "outputs": [
    {
     "name": "stdout",
     "output_type": "stream",
     "text": [
      "Couldn't find program: 'echo'\n"
     ]
    }
   ],
   "source": [
    "% % script echo skipping\n",
    "\n",
    "# gradient boosting classifiers\n",
    "hist_gradient_boosting = {\n",
    "    'name': 'HistGradientBoosting',\n",
    "    'model': HistGradientBoostingClassifier(random_state=0),\n",
    "    'group': 'gradient_boosting'\n",
    "}\n",
    "\n",
    "xgboost = {\n",
    "    'name': 'XGBoost',\n",
    "    'model': XGBClassifier(random_state=0),\n",
    "    'group': 'gradient_boosting'\n",
    "}\n",
    "\n",
    "lightgbm = {\n",
    "    'name': 'LightGBM',\n",
    "    'model': LGBMClassifier(random_state=0),\n",
    "    'group': 'gradient_boosting'\n",
    "}\n",
    "\n",
    "gradient_boosting_models = [hist_gradient_boosting, xgboost, lightgbm]\n",
    "models_to_evaluate.extend(gradient_boosting_models)"
   ],
   "metadata": {
    "collapsed": false
   }
  },
  {
   "cell_type": "code",
   "execution_count": 53,
   "outputs": [
    {
     "name": "stdout",
     "output_type": "stream",
     "text": [
      "['Random Forest (FV)', 'Random Forest (F)', 'Random Forest (V)', 'Random Forest (F+V)', 'Random Forest (FV+F+V)']\n",
      "### Dataset size: 50 ###\n"
     ]
    },
    {
     "name": "stderr",
     "output_type": "stream",
     "text": [
      "C:\\Users\\arnod\\PycharmProjects\\thesis\\util\\epitopes.py:6: DtypeWarning: Columns (20,29,30) have mixed types. Specify dtype option on import or set low_memory=False.\n",
      "  df_vdjdb = pd.read_csv('data/vdjdb-2022-03-30/vdjdb_full.txt', sep='\\t')\n"
     ]
    },
    {
     "name": "stdout",
     "output_type": "stream",
     "text": [
      "Number of negative samples changed from 47033 to 44205 (because of overlap with positive samples)\n",
      "Positive samples: alpha only: 2580, beta only: 3056, both: 2194, none: 0\n",
      "Negative samples (will be sampled to select same amount as positive): alpha only: 4499, beta only: 17510, both: 22196, none: 0\n",
      "Nan: train: 40, test: 108\n",
      "No Nan: train: 9, test: 108\n",
      "\n",
      "Evaluating model 1/5\n",
      "{'name': 'Random Forest (FV)', 'model': RandomForestClassifier(random_state=0), 'gene_features': 'FV', 'group': 'gene_features', 'imputer': SimpleImputer()}\n",
      "0.8825862068965518\n",
      "0.8725862068965516\n",
      "0.8877586206896552\n",
      "0.8886206896551724\n",
      "0.8879310344827587\n",
      "\n",
      "Evaluating model 2/5\n",
      "{'name': 'Random Forest (F)', 'model': RandomForestClassifier(random_state=0), 'gene_features': 'F', 'group': 'gene_features', 'imputer': SimpleImputer()}\n",
      "0.8601724137931034\n",
      "0.9051724137931034\n",
      "0.895689655172414\n",
      "0.8946551724137931\n",
      "0.8972413793103448\n",
      "\n",
      "Evaluating model 3/5\n",
      "{'name': 'Random Forest (V)', 'model': RandomForestClassifier(random_state=0), 'gene_features': 'V', 'group': 'gene_features', 'imputer': SimpleImputer()}\n",
      "0.8496551724137931\n",
      "0.8706896551724138\n",
      "0.9043103448275861\n",
      "0.8877586206896552\n",
      "0.8958620689655172\n",
      "\n",
      "Evaluating model 4/5\n",
      "{'name': 'Random Forest (F+V)', 'model': RandomForestClassifier(random_state=0), 'gene_features': 'F+V', 'group': 'gene_features', 'imputer': SimpleImputer()}\n",
      "0.8551724137931034\n",
      "0.8463793103448275\n",
      "0.9001724137931034\n",
      "0.898103448275862\n",
      "0.8931034482758621\n",
      "\n",
      "Evaluating model 5/5\n",
      "{'name': 'Random Forest (FV+F+V)', 'model': RandomForestClassifier(random_state=0), 'gene_features': 'FV+F+V', 'group': 'gene_features', 'imputer': SimpleImputer()}\n",
      "0.8672413793103447\n",
      "0.8744827586206896\n",
      "0.9134482758620689\n",
      "0.8856896551724136\n",
      "0.8991379310344828\n",
      "Baseline Random Forest (NaNs dropped in train) not found in scores, using Random Forest (FV) instead\n",
      "Baseline Random Forest (NaNs dropped in train) not found in scores, using Random Forest (FV) instead\n",
      "Finished evaluating 5 models at 20230617-025948 in 0:00:08.934075 seconds\n",
      "['outputs/model-evaluations-20230617-025939-GILGFVFTL-50-imputation-constant-numbers/scores-20230617-025948.csv']\n",
      "### Dataset size: 100 ###\n"
     ]
    },
    {
     "name": "stderr",
     "output_type": "stream",
     "text": [
      "C:\\Users\\arnod\\PycharmProjects\\thesis\\util\\epitopes.py:6: DtypeWarning: Columns (20,29,30) have mixed types. Specify dtype option on import or set low_memory=False.\n",
      "  df_vdjdb = pd.read_csv('data/vdjdb-2022-03-30/vdjdb_full.txt', sep='\\t')\n"
     ]
    },
    {
     "name": "stdout",
     "output_type": "stream",
     "text": [
      "Number of negative samples changed from 47033 to 44205 (because of overlap with positive samples)\n",
      "Positive samples: alpha only: 2580, beta only: 3056, both: 2194, none: 0\n",
      "Negative samples (will be sampled to select same amount as positive): alpha only: 4499, beta only: 17510, both: 22196, none: 0\n",
      "Nan: train: 80, test: 108\n",
      "No Nan: train: 18, test: 108\n",
      "\n",
      "Evaluating model 1/5\n",
      "{'name': 'Random Forest (FV)', 'model': RandomForestClassifier(random_state=0), 'gene_features': 'FV', 'group': 'gene_features', 'imputer': SimpleImputer()}\n",
      "0.9162068965517242\n",
      "0.8962068965517241\n",
      "0.9089655172413793\n",
      "0.8896551724137931\n",
      "0.8958620689655172\n",
      "\n",
      "Evaluating model 2/5\n",
      "{'name': 'Random Forest (F)', 'model': RandomForestClassifier(random_state=0), 'gene_features': 'F', 'group': 'gene_features', 'imputer': SimpleImputer()}\n",
      "0.9172413793103448\n",
      "0.895\n",
      "0.9094827586206896\n",
      "0.8837931034482758\n",
      "0.9296551724137933\n",
      "\n",
      "Evaluating model 3/5\n",
      "{'name': 'Random Forest (V)', 'model': RandomForestClassifier(random_state=0), 'gene_features': 'V', 'group': 'gene_features', 'imputer': SimpleImputer()}\n",
      "0.9143103448275862\n",
      "0.9093103448275861\n",
      "0.9010344827586206\n",
      "0.8982758620689656\n",
      "0.8943103448275862\n",
      "\n",
      "Evaluating model 4/5\n",
      "{'name': 'Random Forest (F+V)', 'model': RandomForestClassifier(random_state=0), 'gene_features': 'F+V', 'group': 'gene_features', 'imputer': SimpleImputer()}\n",
      "0.9032758620689655\n",
      "0.8960344827586206\n",
      "0.908103448275862\n",
      "0.9013793103448274\n",
      "0.9132758620689655\n",
      "\n",
      "Evaluating model 5/5\n",
      "{'name': 'Random Forest (FV+F+V)', 'model': RandomForestClassifier(random_state=0), 'gene_features': 'FV+F+V', 'group': 'gene_features', 'imputer': SimpleImputer()}\n",
      "0.911896551724138\n",
      "0.8943103448275862\n",
      "0.9106896551724137\n",
      "0.8972413793103448\n",
      "0.9058620689655172\n",
      "Baseline Random Forest (NaNs dropped in train) not found in scores, using Random Forest (FV) instead\n",
      "Baseline Random Forest (NaNs dropped in train) not found in scores, using Random Forest (FV) instead\n",
      "Finished evaluating 5 models at 20230617-030002 in 0:00:10.312997 seconds\n",
      "['outputs/model-evaluations-20230617-025939-GILGFVFTL-50-imputation-constant-numbers/scores-20230617-025948.csv', 'outputs/model-evaluations-20230617-025952-GILGFVFTL-100-imputation-constant-numbers/scores-20230617-030002.csv']\n",
      "### Dataset size: 200 ###\n"
     ]
    },
    {
     "name": "stderr",
     "output_type": "stream",
     "text": [
      "C:\\Users\\arnod\\PycharmProjects\\thesis\\util\\epitopes.py:6: DtypeWarning: Columns (20,29,30) have mixed types. Specify dtype option on import or set low_memory=False.\n",
      "  df_vdjdb = pd.read_csv('data/vdjdb-2022-03-30/vdjdb_full.txt', sep='\\t')\n"
     ]
    },
    {
     "name": "stdout",
     "output_type": "stream",
     "text": [
      "Number of negative samples changed from 47033 to 44205 (because of overlap with positive samples)\n",
      "Positive samples: alpha only: 2580, beta only: 3056, both: 2194, none: 0\n",
      "Negative samples (will be sampled to select same amount as positive): alpha only: 4499, beta only: 17510, both: 22196, none: 0\n",
      "Nan: train: 160, test: 108\n",
      "No Nan: train: 40, test: 108\n",
      "\n",
      "Evaluating model 1/5\n",
      "{'name': 'Random Forest (FV)', 'model': RandomForestClassifier(random_state=0), 'gene_features': 'FV', 'group': 'gene_features', 'imputer': SimpleImputer()}\n",
      "0.9131034482758621\n",
      "0.9025862068965517\n",
      "0.8944827586206897\n",
      "0.891551724137931\n",
      "0.8955172413793102\n",
      "\n",
      "Evaluating model 2/5\n",
      "{'name': 'Random Forest (F)', 'model': RandomForestClassifier(random_state=0), 'gene_features': 'F', 'group': 'gene_features', 'imputer': SimpleImputer()}\n",
      "0.9108620689655171\n",
      "0.8898275862068966\n",
      "0.9175862068965517\n",
      "0.9039655172413794\n",
      "0.8993103448275862\n",
      "\n",
      "Evaluating model 3/5\n",
      "{'name': 'Random Forest (V)', 'model': RandomForestClassifier(random_state=0), 'gene_features': 'V', 'group': 'gene_features', 'imputer': SimpleImputer()}\n",
      "0.9110344827586206\n",
      "0.864655172413793\n",
      "0.914655172413793\n",
      "0.8955172413793103\n",
      "0.896206896551724\n",
      "\n",
      "Evaluating model 4/5\n",
      "{'name': 'Random Forest (F+V)', 'model': RandomForestClassifier(random_state=0), 'gene_features': 'F+V', 'group': 'gene_features', 'imputer': SimpleImputer()}\n",
      "0.9237931034482759\n",
      "0.8851724137931034\n",
      "0.9196551724137931\n",
      "0.8993103448275861\n",
      "0.9174137931034483\n",
      "\n",
      "Evaluating model 5/5\n",
      "{'name': 'Random Forest (FV+F+V)', 'model': RandomForestClassifier(random_state=0), 'gene_features': 'FV+F+V', 'group': 'gene_features', 'imputer': SimpleImputer()}\n",
      "0.9158620689655173\n",
      "0.9027586206896552\n",
      "0.9206896551724139\n",
      "0.9099999999999999\n",
      "0.8981034482758621\n",
      "Baseline Random Forest (NaNs dropped in train) not found in scores, using Random Forest (FV) instead\n",
      "Baseline Random Forest (NaNs dropped in train) not found in scores, using Random Forest (FV) instead\n",
      "Finished evaluating 5 models at 20230617-030020 in 0:00:14.119428 seconds\n",
      "['outputs/model-evaluations-20230617-025939-GILGFVFTL-50-imputation-constant-numbers/scores-20230617-025948.csv', 'outputs/model-evaluations-20230617-025952-GILGFVFTL-100-imputation-constant-numbers/scores-20230617-030002.csv', 'outputs/model-evaluations-20230617-030006-GILGFVFTL-200-imputation-constant-numbers/scores-20230617-030020.csv']\n",
      "### Dataset size: 500 ###\n"
     ]
    },
    {
     "name": "stderr",
     "output_type": "stream",
     "text": [
      "C:\\Users\\arnod\\PycharmProjects\\thesis\\util\\epitopes.py:6: DtypeWarning: Columns (20,29,30) have mixed types. Specify dtype option on import or set low_memory=False.\n",
      "  df_vdjdb = pd.read_csv('data/vdjdb-2022-03-30/vdjdb_full.txt', sep='\\t')\n"
     ]
    },
    {
     "name": "stdout",
     "output_type": "stream",
     "text": [
      "Number of negative samples changed from 47033 to 44205 (because of overlap with positive samples)\n",
      "Positive samples: alpha only: 2580, beta only: 3056, both: 2194, none: 0\n",
      "Negative samples (will be sampled to select same amount as positive): alpha only: 4499, beta only: 17510, both: 22196, none: 0\n",
      "Nan: train: 400, test: 108\n",
      "No Nan: train: 100, test: 108\n",
      "\n",
      "Evaluating model 1/5\n",
      "{'name': 'Random Forest (FV)', 'model': RandomForestClassifier(random_state=0), 'gene_features': 'FV', 'group': 'gene_features', 'imputer': SimpleImputer()}\n",
      "0.8901724137931034\n",
      "0.9074137931034483\n",
      "0.9079310344827586\n",
      "0.9005172413793102\n",
      "0.8851724137931035\n",
      "\n",
      "Evaluating model 2/5\n",
      "{'name': 'Random Forest (F)', 'model': RandomForestClassifier(random_state=0), 'gene_features': 'F', 'group': 'gene_features', 'imputer': SimpleImputer()}\n",
      "0.9332758620689654\n",
      "0.9194827586206895\n",
      "0.9232758620689656\n",
      "0.9020689655172414\n",
      "0.9267241379310345\n",
      "\n",
      "Evaluating model 3/5\n",
      "{'name': 'Random Forest (V)', 'model': RandomForestClassifier(random_state=0), 'gene_features': 'V', 'group': 'gene_features', 'imputer': SimpleImputer()}\n",
      "0.9008620689655173\n",
      "0.9113793103448277\n",
      "0.9206896551724136\n",
      "0.9005172413793103\n",
      "0.9124137931034483\n",
      "\n",
      "Evaluating model 4/5\n",
      "{'name': 'Random Forest (F+V)', 'model': RandomForestClassifier(random_state=0), 'gene_features': 'F+V', 'group': 'gene_features', 'imputer': SimpleImputer()}\n",
      "0.8998275862068964\n",
      "0.9043103448275863\n",
      "0.9179310344827587\n",
      "0.9048275862068966\n",
      "0.9072413793103448\n",
      "\n",
      "Evaluating model 5/5\n",
      "{'name': 'Random Forest (FV+F+V)', 'model': RandomForestClassifier(random_state=0), 'gene_features': 'FV+F+V', 'group': 'gene_features', 'imputer': SimpleImputer()}\n",
      "0.9208620689655171\n",
      "0.9072413793103449\n",
      "0.928448275862069\n",
      "0.8970689655172412\n",
      "0.9082758620689655\n",
      "Baseline Random Forest (NaNs dropped in train) not found in scores, using Random Forest (FV) instead\n",
      "Baseline Random Forest (NaNs dropped in train) not found in scores, using Random Forest (FV) instead\n",
      "Finished evaluating 5 models at 20230617-030050 in 0:00:22.818226 seconds\n",
      "['outputs/model-evaluations-20230617-025939-GILGFVFTL-50-imputation-constant-numbers/scores-20230617-025948.csv', 'outputs/model-evaluations-20230617-025952-GILGFVFTL-100-imputation-constant-numbers/scores-20230617-030002.csv', 'outputs/model-evaluations-20230617-030006-GILGFVFTL-200-imputation-constant-numbers/scores-20230617-030020.csv', 'outputs/model-evaluations-20230617-030027-GILGFVFTL-500-imputation-constant-numbers/scores-20230617-030050.csv']\n",
      "### Dataset size: 1000 ###\n"
     ]
    },
    {
     "name": "stderr",
     "output_type": "stream",
     "text": [
      "C:\\Users\\arnod\\PycharmProjects\\thesis\\util\\epitopes.py:6: DtypeWarning: Columns (20,29,30) have mixed types. Specify dtype option on import or set low_memory=False.\n",
      "  df_vdjdb = pd.read_csv('data/vdjdb-2022-03-30/vdjdb_full.txt', sep='\\t')\n"
     ]
    },
    {
     "name": "stdout",
     "output_type": "stream",
     "text": [
      "Number of negative samples changed from 47033 to 44205 (because of overlap with positive samples)\n",
      "Positive samples: alpha only: 2580, beta only: 3056, both: 2194, none: 0\n",
      "Negative samples (will be sampled to select same amount as positive): alpha only: 4499, beta only: 17510, both: 22196, none: 0\n",
      "Nan: train: 800, test: 108\n",
      "No Nan: train: 192, test: 108\n",
      "\n",
      "Evaluating model 1/5\n",
      "{'name': 'Random Forest (FV)', 'model': RandomForestClassifier(random_state=0), 'gene_features': 'FV', 'group': 'gene_features', 'imputer': SimpleImputer()}\n",
      "0.9168965517241381\n",
      "0.9110344827586206\n",
      "0.9163793103448276\n",
      "0.8953448275862068\n",
      "0.908103448275862\n",
      "\n",
      "Evaluating model 2/5\n",
      "{'name': 'Random Forest (F)', 'model': RandomForestClassifier(random_state=0), 'gene_features': 'F', 'group': 'gene_features', 'imputer': SimpleImputer()}\n",
      "0.9105172413793103\n",
      "0.8915517241379309\n",
      "0.9160344827586205\n",
      "0.9058620689655172\n",
      "0.9024137931034482\n",
      "\n",
      "Evaluating model 3/5\n",
      "{'name': 'Random Forest (V)', 'model': RandomForestClassifier(random_state=0), 'gene_features': 'V', 'group': 'gene_features', 'imputer': SimpleImputer()}\n",
      "0.9012068965517241\n",
      "0.8922413793103449\n",
      "0.9067241379310346\n",
      "0.9079310344827586\n",
      "0.8963793103448277\n",
      "\n",
      "Evaluating model 4/5\n",
      "{'name': 'Random Forest (F+V)', 'model': RandomForestClassifier(random_state=0), 'gene_features': 'F+V', 'group': 'gene_features', 'imputer': SimpleImputer()}\n",
      "0.9217241379310344\n",
      "0.9053448275862068\n",
      "0.915344827586207\n",
      "0.91\n",
      "0.9055172413793101\n",
      "\n",
      "Evaluating model 5/5\n",
      "{'name': 'Random Forest (FV+F+V)', 'model': RandomForestClassifier(random_state=0), 'gene_features': 'FV+F+V', 'group': 'gene_features', 'imputer': SimpleImputer()}\n",
      "0.913448275862069\n",
      "0.9048275862068966\n",
      "0.918448275862069\n",
      "0.9168965517241379\n",
      "0.9177586206896552\n",
      "Baseline Random Forest (NaNs dropped in train) not found in scores, using Random Forest (FV) instead\n",
      "Baseline Random Forest (NaNs dropped in train) not found in scores, using Random Forest (FV) instead\n",
      "Finished evaluating 5 models at 20230617-030142 in 0:00:44.123050 seconds\n",
      "['outputs/model-evaluations-20230617-025939-GILGFVFTL-50-imputation-constant-numbers/scores-20230617-025948.csv', 'outputs/model-evaluations-20230617-025952-GILGFVFTL-100-imputation-constant-numbers/scores-20230617-030002.csv', 'outputs/model-evaluations-20230617-030006-GILGFVFTL-200-imputation-constant-numbers/scores-20230617-030020.csv', 'outputs/model-evaluations-20230617-030027-GILGFVFTL-500-imputation-constant-numbers/scores-20230617-030050.csv', 'outputs/model-evaluations-20230617-030058-GILGFVFTL-1000-imputation-constant-numbers/scores-20230617-030142.csv']\n"
     ]
    },
    {
     "ename": "TypeError",
     "evalue": "plot_scores() missing 1 required positional argument: 'plot_title'",
     "output_type": "error",
     "traceback": [
      "\u001B[1;31m---------------------------------------------------------------------------\u001B[0m",
      "\u001B[1;31mTypeError\u001B[0m                                 Traceback (most recent call last)",
      "\u001B[1;32m~\\AppData\\Local\\Temp/ipykernel_28436/70524170.py\u001B[0m in \u001B[0;36m<module>\u001B[1;34m\u001B[0m\n\u001B[0;32m     30\u001B[0m     \u001B[0mprint\u001B[0m\u001B[1;33m(\u001B[0m\u001B[0moutputs\u001B[0m\u001B[1;33m)\u001B[0m\u001B[1;33m\u001B[0m\u001B[1;33m\u001B[0m\u001B[0m\n\u001B[0;32m     31\u001B[0m \u001B[1;33m\u001B[0m\u001B[0m\n\u001B[1;32m---> 32\u001B[1;33m \u001B[0mplot_scores\u001B[0m\u001B[1;33m(\u001B[0m\u001B[0mscores\u001B[0m\u001B[1;33m,\u001B[0m \u001B[0mx\u001B[0m\u001B[1;33m=\u001B[0m\u001B[1;34m\"gene_features\"\u001B[0m\u001B[1;33m,\u001B[0m \u001B[0mhue_group_diff\u001B[0m\u001B[1;33m=\u001B[0m\u001B[1;32mFalse\u001B[0m\u001B[1;33m)\u001B[0m\u001B[1;33m\u001B[0m\u001B[1;33m\u001B[0m\u001B[0m\n\u001B[0m\u001B[0;32m     33\u001B[0m \u001B[1;33m\u001B[0m\u001B[0m\n",
      "\u001B[1;31mTypeError\u001B[0m: plot_scores() missing 1 required positional argument: 'plot_title'"
     ]
    },
    {
     "data": {
      "text/plain": "<Figure size 432x288 with 0 Axes>"
     },
     "metadata": {},
     "output_type": "display_data"
    }
   ],
   "source": [
    "models_to_evaluate = []\n",
    "\n",
    "# gene features\n",
    "features_to_test = [\"FV\", \"F\", \"V\", \"F+V\", \"FV+F+V\"]\n",
    "gene_feature_models = []\n",
    "for features in features_to_test:\n",
    "    model = {\n",
    "        'name': f\"Random Forest ({features})\",\n",
    "        'model': RandomForestClassifier(random_state=0),\n",
    "        'gene_features': features,\n",
    "        'group': 'gene_features',\n",
    "        'imputer': mean_imputer,\n",
    "    }\n",
    "    gene_feature_models.append(model)\n",
    "\n",
    "\n",
    "models_to_evaluate.extend(gene_feature_models)\n",
    "\n",
    "print(list([m['name'] for m in models_to_evaluate]))\n",
    "outputs = []\n",
    "\n",
    "# dataset_size = [1000]\n",
    "# dataset_size = [50, 100, 200, 500, 1000, 2000, 5000, None]\n",
    "dataset_size = [50, 100, 200, 500, 1000]\n",
    "for dataset_size in dataset_size:\n",
    "    print(f\"### Dataset size: {dataset_size} ###\")\n",
    "    update_data_per_fold(dataset_size)\n",
    "    scores, output_csv = evaluate_model_list(models_to_evaluate)\n",
    "    outputs.append(output_csv)\n",
    "    print(outputs)\n",
    "\n",
    "plot_scores(scores, x=\"gene_features\", hue_group_diff=False)\n"
   ],
   "metadata": {
    "collapsed": false
   }
  },
  {
   "cell_type": "code",
   "execution_count": 54,
   "outputs": [
    {
     "name": "stdout",
     "output_type": "stream",
     "text": [
      "Baseline Random Forest (NaNs dropped in train) not found in scores, using Random Forest (FV) instead\n"
     ]
    },
    {
     "data": {
      "text/plain": "<Figure size 432x288 with 0 Axes>"
     },
     "metadata": {},
     "output_type": "display_data"
    }
   ],
   "source": [
    "output = \"graphs/gene_features.png\"\n",
    "plot_scores(scores, x=\"gene_features\", hue_group_diff=False, plot_title=\"Gene features\", output_file=output)\n"
   ],
   "metadata": {
    "collapsed": false
   }
  },
  {
   "cell_type": "code",
   "execution_count": 17,
   "outputs": [
    {
     "name": "stdout",
     "output_type": "stream",
     "text": [
      "Couldn't find program: 'echo'\n"
     ]
    }
   ],
   "source": [
    "% % script echo skipping\n",
    "\n",
    "# chain inputs\n",
    "both_chains = {\n",
    "    'name': 'Random Forest (both chains)',\n",
    "    'model': RandomForestClassifier(random_state=0),\n",
    "    'chain': 'both',\n",
    "    'group': 'chain_inputs',\n",
    "    'imputer': mean_imputer,\n",
    "}\n",
    "\n",
    "alpha_chain = {\n",
    "    'name': 'Random Forest (Alpha chain)',\n",
    "    'model': RandomForestClassifier(random_state=0),\n",
    "    'chain': 'alpha',\n",
    "    'group': 'chain_inputs',\n",
    "    'imputer': mean_imputer,\n",
    "}\n",
    "\n",
    "beta_chain = {\n",
    "    'name': 'Random Forest (Beta chain)',\n",
    "    'model': RandomForestClassifier(random_state=0),\n",
    "    'chain': 'beta',\n",
    "    'group': 'chain_inputs',\n",
    "    'imputer': mean_imputer,\n",
    "}\n",
    "\n",
    "seperate_chains = {\n",
    "    'name': 'Random Forest (Seperate chains)',\n",
    "    'model_alpha': RandomForestClassifier(random_state=0),\n",
    "    'model_beta': RandomForestClassifier(random_state=0),\n",
    "    'chain': 'seperate',\n",
    "    'group': 'chain_inputs',\n",
    "    'imputer': mean_imputer,\n",
    "}\n",
    "\n",
    "chain_input_models = [both_chains, alpha_chain, beta_chain, seperate_chains]\n",
    "models_to_evaluate.extend(chain_input_models)"
   ],
   "metadata": {
    "collapsed": false
   }
  },
  {
   "cell_type": "code",
   "execution_count": 18,
   "outputs": [
    {
     "name": "stdout",
     "output_type": "stream",
     "text": [
      "Couldn't find program: 'echo'\n"
     ]
    }
   ],
   "source": [
    "% % script echo skipping\n",
    "\n",
    "chain_input_without_nans = []\n",
    "for model in chain_input_models:\n",
    "    model_without_nans = model.copy()\n",
    "    model_without_nans['name'] += \" (without nans)\"\n",
    "    model_without_nans['drop_train_na'] = True\n",
    "    model_without_nans['imputer'] = None\n",
    "    chain_input_without_nans.append(model_without_nans)\n",
    "models_to_evaluate.extend(chain_input_without_nans)"
   ],
   "metadata": {
    "collapsed": false
   }
  },
  {
   "cell_type": "code",
   "execution_count": 19,
   "outputs": [
    {
     "name": "stdout",
     "output_type": "stream",
     "text": [
      "Couldn't find program: 'echo'\n"
     ]
    }
   ],
   "source": [
    "% % script echo skipping\n",
    "\n",
    "# WeightedRandomForest\n",
    "weighted_random_forest = {\n",
    "    'name': 'RandomForest (own impl., weighted)',\n",
    "    'model': CustomForest(weighted=True),  # doesn't support random state\n",
    "    'group': 'weighted_random_forest',\n",
    "}\n",
    "\n",
    "custom_random_forest = {\n",
    "    'name': 'RandomForest (own impl.)',\n",
    "    'model': CustomForest(weighted=False),\n",
    "    'group': 'weighted_random_forest',\n",
    "    'imputer': mean_imputer,\n",
    "}\n",
    "\n",
    "# # to check whether it's the same as non-weighted, which is indeed the case\n",
    "# weighted_random_forest_no_nan = {\n",
    "#     'name': 'RandomForest (own impl., weighted, no nan)',\n",
    "#     'model': CustomForest(weighted=True), # doesn't support random state\n",
    "#     'group': 'weighted_random_forest',\n",
    "#     'drop_train_na': True,\n",
    "# }\n",
    "\n",
    "custom_random_forest_no_nan = {\n",
    "    'name': 'RandomForest (own impl., no nan)',\n",
    "    'model': CustomForest(weighted=False),\n",
    "    'group': 'weighted_random_forest',\n",
    "    'drop_train_na': True,\n",
    "}\n",
    "\n",
    "weighted_random_forest_models = [weighted_random_forest, custom_random_forest, weighted_random_forest_no_nan,\n",
    "                                 custom_random_forest_no_nan]\n",
    "models_to_evaluate.extend(weighted_random_forest_models)"
   ],
   "metadata": {
    "collapsed": false
   }
  },
  {
   "cell_type": "code",
   "execution_count": 20,
   "outputs": [
    {
     "name": "stdout",
     "output_type": "stream",
     "text": [
      "Couldn't find program: 'echo'\n"
     ]
    }
   ],
   "source": [
    "% % script echo skipping\n",
    "\n",
    "# rf_cdr_only = {\n",
    "#     'name': 'RandomForest (only CDR3)',\n",
    "#     'model': RandomForestClassifier(random_state=0),\n",
    "#     'group': 'cdr_only',\n",
    "#     'columns_to_use': ['CDR3'],\n",
    "#     'imputer': mean_imputer,\n",
    "# }\n",
    "\n",
    "rf_cdr_only_no_nan = {\n",
    "    'name': 'RandomForest (only CDR3, no_nan)',\n",
    "    'model': RandomForestClassifier(random_state=0),\n",
    "    'group': 'cdr_only',\n",
    "    'columns_to_use': ['CDR3'],\n",
    "    'drop_train_na': True,\n",
    "}\n",
    "\n",
    "models_to_evaluate.extend([rf_cdr_only_no_nan])"
   ],
   "metadata": {
    "collapsed": false
   }
  },
  {
   "cell_type": "code",
   "execution_count": 21,
   "outputs": [
    {
     "name": "stdout",
     "output_type": "stream",
     "text": [
      "Couldn't find program: 'echo'\n"
     ]
    }
   ],
   "source": [
    "% % script echo skipping\n",
    "\n",
    "# knn classifier with different distance measures\n",
    "# knn classifier\n",
    "knn_tcr_dist_no_nan = {\n",
    "    'name': 'KNN (tcr_dist, no_nan, CDR3 only)',\n",
    "    'model': KNNString(k=5, metric=calculate_tcr_dist_multiple_chains),\n",
    "    'group': 'knn_metrics',\n",
    "    'extract_features': False,\n",
    "    'columns_to_use': ['CDR3'],\n",
    "    'drop_train_na': True,\n",
    "}\n",
    "\n",
    "knn_lev_dist_no_nan = {\n",
    "    'name': 'KNN (lev, no_nan, CDR3 only)',\n",
    "    'model': KNNString(k=5, metric=multi_lev),\n",
    "    'group': 'knn_metrics',\n",
    "    'extract_features': False,\n",
    "    'columns_to_use': ['CDR3'],\n",
    "    'drop_train_na': True,\n",
    "}\n",
    "\n",
    "knn_hamming_dist_no_nan = {\n",
    "    'name': 'KNN (hamming, no_nan, CDR3 only)',\n",
    "    'model': KNNString(k=5, metric=nan_hamming),\n",
    "    'group': 'knn_metrics',\n",
    "    'extract_features': False,\n",
    "    'columns_to_use': ['CDR3'],\n",
    "    'drop_train_na': True,\n",
    "}\n",
    "\n",
    "knn_tcrdist3_no_nan = {\n",
    "    'name': 'KNN (tcrdist3, no_nan, CDR3 only)',\n",
    "    'model': KNNString(k=5, metric=calculate_tcr_dist2_cached),\n",
    "    'group': 'knn_metrics',\n",
    "    'extract_features': False,\n",
    "    'drop_train_na': True,\n",
    "}\n",
    "\n",
    "models_to_evaluate.extend([knn_tcr_dist_no_nan, knn_lev_dist_no_nan, knn_hamming_dist_no_nan, knn_tcrdist3_no_nan])"
   ],
   "metadata": {
    "collapsed": false
   }
  },
  {
   "cell_type": "code",
   "execution_count": 22,
   "outputs": [
    {
     "name": "stdout",
     "output_type": "stream",
     "text": [
      "Couldn't find program: 'echo'\n"
     ]
    }
   ],
   "source": [
    "% % script echo skipping\n",
    "\n",
    "proximity_forest_no_nan = {\n",
    "    'name': 'ProximityForest (nan_dist=0, measure=tcr_dist)',\n",
    "    'model': ProximityForestClassifier(reduce_features=False, distance_measure=calculate_tcr_dist_multiple_chains),\n",
    "    'group': 'proximity_forest',\n",
    "    'extract_features': False,\n",
    "    'columns_to_use': ['CDR3'],\n",
    "    'drop_train_na': True,\n",
    "}\n",
    "\n",
    "proximity_forest_models = [proximity_forest_no_nan]\n",
    "\n",
    "models_to_evaluate.extend(proximity_forest_models)"
   ],
   "metadata": {
    "collapsed": false
   }
  },
  {
   "cell_type": "code",
   "execution_count": 23,
   "outputs": [
    {
     "name": "stdout",
     "output_type": "stream",
     "text": [
      "Couldn't find program: 'echo'\n"
     ]
    }
   ],
   "source": [
    "% % script echo skipping\n",
    "\n",
    "# More ProximityForest\n",
    "# proximity_forest_nan_150 = {\n",
    "#     'name': 'ProximityForest (nan_dist=150, measure=tcr_dist)',\n",
    "#     'model': ProximityForestClassifier(reduce_features=False, distance_measure=calculate_tcr_dist_multiple_chains,\n",
    "#                                       distance_kwargs={\"nan_distance\": 150}),\n",
    "#     'group': 'proximity_forest',\n",
    "#     'extract_features': False,\n",
    "#     'columns_to_use': ['CDR3'],\n",
    "# }\n",
    "\n",
    "\n",
    "# proximity_forest_tcr_dist2 = {\n",
    "#     'name': 'ProximityForest (nan_dist=0, measure=tcr_dist2)',\n",
    "#     'model': ProximityForestClassifier(reduce_features=False, distance_measure=calculate_tcr_dist2_cached),\n",
    "#     'group': 'proximity_forest',\n",
    "#     'extract_features': False,\n",
    "#     'columns_to_use': ['CDR3', 'V', 'J'],\n",
    "#     'drop_train_na': False,\n",
    "# }\n",
    "#\n",
    "# proximity_forest_no_nan_tcr_dist2 = {\n",
    "#     'name': 'ProximityForest (no_nan, measure=tcr_dist2)',\n",
    "#     'model': ProximityForestClassifier(reduce_features=False, distance_measure=calculate_tcr_dist2_cached),\n",
    "#     'group': 'proximity_forest',\n",
    "#     'extract_features': False,\n",
    "#     'columns_to_use': ['CDR3', 'V', 'J'],\n",
    "#     'drop_train_na': True,\n",
    "# }\n",
    "\n",
    "# proximity_forest_tcr_dist2_approx = {\n",
    "#     'name': 'ProximityForest (nan_dist, measure=tcr_approx)',\n",
    "#     'model': ProximityForestClassifier(reduce_features=False, distance_measure=calculate_approx_distance, distance_kwargs={'nan_distance': 0}),\n",
    "#     'group': 'proximity_forest',\n",
    "#     'extract_features': False,\n",
    "#     'columns_to_use': ['CDR3', 'V', 'J'],\n",
    "#     'drop_train_na': False,\n",
    "# }\n",
    "\n",
    "# proximity_forest_no_nan_tcr_dist2_approx = {\n",
    "#     'name': 'ProximityForest (no_nan, measure=tcr_approx)',\n",
    "#     'model': ProximityForestClassifier(reduce_features=False, distance_measure=calculate_approx_distance),\n",
    "#     'group': 'proximity_forest',\n",
    "#     'extract_features': False,\n",
    "#     'columns_to_use': ['CDR3', 'V', 'J'],\n",
    "#     'drop_train_na': True,\n",
    "# }\n",
    "\n",
    "# proximity_forest_lev = {\n",
    "#     'name': 'ProximityForest (nan_dist=0, measure=lev)',\n",
    "#     'model': ProximityForestClassifier(reduce_features=False, distance_measure=multi_lev),\n",
    "#     'group': 'proximity_forest',\n",
    "#     'extract_features': False,\n",
    "#     'columns_to_use': ['CDR3', 'V', 'J'],\n",
    "#     'drop_train_na': False,\n",
    "# }\n",
    "#\n",
    "# proximity_forest_no_nan_lev = {\n",
    "#     'name': 'ProximityForest (no_nan, measure=lev)',\n",
    "#     'model': ProximityForestClassifier(reduce_features=False, distance_measure=multi_lev),\n",
    "#     'group': 'proximity_forest',\n",
    "#     'extract_features': False,\n",
    "#     'columns_to_use': ['CDR3', 'V', 'J'],\n",
    "#     'drop_train_na': True,\n",
    "# }\n",
    "\n",
    "proximity_forest_hamm = {\n",
    "    'name': 'ProximityForest (nan_dist=0, measure=hamming, cdr_only)',\n",
    "    'model': ProximityForestClassifier(reduce_features=False, distance_measure=nan_hamming),\n",
    "    'group': 'proximity_forest',\n",
    "    'extract_features': False,\n",
    "    'columns_to_use': ['CDR3'],\n",
    "    'drop_train_na': False,\n",
    "}\n",
    "\n",
    "proximity_forest_no_nan_hamm = {\n",
    "    'name': 'ProximityForest (no_nan, measure=hamming, cdr_only)',\n",
    "    'model': ProximityForestClassifier(reduce_features=False, distance_measure=nan_hamming),\n",
    "    'group': 'proximity_forest',\n",
    "    'extract_features': False,\n",
    "    'columns_to_use': ['CDR3'],\n",
    "    'drop_train_na': True,\n",
    "}\n",
    "\n",
    "# models_to_evaluate.append(proximity_forest_nan_150)\n",
    "# models_to_evaluate.append(proximity_forest_tcr_dist2)\n",
    "# models_to_evaluate.append(proximity_forest_no_nan_tcr_dist2)\n",
    "# models_to_evaluate.append(proximity_forest_tcr_dist2_approx)\n",
    "# models_to_evaluate.append(proximity_forest_no_nan_tcr_dist2_approx)\n",
    "# models_to_evaluate.append(proximity_forest_lev)\n",
    "# models_to_evaluate.append(proximity_forest_no_nan_lev)\n",
    "models_to_evaluate.append(proximity_forest_hamm)\n",
    "models_to_evaluate.append(proximity_forest_no_nan_hamm)"
   ],
   "metadata": {
    "collapsed": false
   }
  },
  {
   "cell_type": "code",
   "execution_count": 24,
   "outputs": [],
   "source": [
    "% % script echo skipping\n",
    "\n",
    "from sklearn.neural_network import MLPClassifier\n",
    "\n",
    "# %%script echo skipping\n",
    "# mean imputation on a random forest, KNN classifier, proximity forest, MLP, histgradientboosting\n",
    "\n",
    "impute_rf = {\n",
    "    'name': 'RandomForest (mean imputed)',\n",
    "    'model': RandomForestClassifier(random_state=0),\n",
    "    'imputer': mean_imputer,\n",
    "    'group': 'mean_impute_models'\n",
    "}\n",
    "\n",
    "impute_knn = {\n",
    "    'name': 'KNN (mean imputed)',\n",
    "    'model': KNeighborsClassifier(),\n",
    "    'imputer': mean_imputer,\n",
    "    'group': 'mean_impute_models'\n",
    "}\n",
    "\n",
    "impute_proximity_forest = {\n",
    "    'name': 'ProximityForest (mean imputed)',\n",
    "    'model': ProximityForestClassifier(),\n",
    "    'imputer': mean_imputer,\n",
    "    'group': 'mean_impute_models',\n",
    "}\n",
    "\n",
    "impute_mlp = {\n",
    "    'name': 'MLP (mean imputed)',\n",
    "    'model': MLPClassifier(random_state=0),\n",
    "    'imputer': mean_imputer,\n",
    "    'group': 'mean_impute_models'\n",
    "}\n",
    "\n",
    "impute_hist_gradient_boosting = {\n",
    "    'name': 'HistGradientBoosting (mean imputed)',\n",
    "    'model': HistGradientBoostingClassifier(random_state=0),\n",
    "    'imputer': mean_imputer,\n",
    "    'group': 'mean_impute_models'\n",
    "}\n",
    "\n",
    "mean_imputed_classification_models = [\n",
    "    impute_rf,\n",
    "    impute_knn,\n",
    "    impute_proximity_forest,\n",
    "    impute_mlp,\n",
    "    impute_hist_gradient_boosting,\n",
    "]\n"
   ],
   "metadata": {
    "collapsed": false
   }
  },
  {
   "cell_type": "code",
   "execution_count": 29,
   "outputs": [],
   "source": [
    "% % script echo skipping\n",
    "\n",
    "# take all mean_imputed classification models, without nans\n",
    "\n",
    "mean_imputed_classification_models_no_nan = []\n",
    "for model in mean_imputed_classification_models:\n",
    "    new_model = model.copy()\n",
    "    new_model['name'] = new_model['name'].replace(\"mean imputed\", \"no nan\")\n",
    "    new_model['drop_train_na'] = True\n",
    "    # remove imputer from the dict\n",
    "    del new_model['imputer']\n",
    "    mean_imputed_classification_models_no_nan.append(new_model)\n",
    "\n",
    "models_to_evaluate.extend(mean_imputed_classification_models_no_nan)"
   ],
   "metadata": {
    "collapsed": false
   }
  },
  {
   "cell_type": "code",
   "execution_count": 30,
   "outputs": [
    {
     "name": "stdout",
     "output_type": "stream",
     "text": [
      "['RandomForest (no nan)', 'KNN (no nan)', 'ProximityForest (no nan)', 'MLP (no nan)', 'HistGradientBoosting (no nan)']\n",
      "### Dataset size: 50 ###\n"
     ]
    },
    {
     "name": "stderr",
     "output_type": "stream",
     "text": [
      "C:\\Users\\arnod\\PycharmProjects\\thesis\\util\\epitopes.py:6: DtypeWarning: Columns (20,29,30) have mixed types. Specify dtype option on import or set low_memory=False.\n",
      "  df_vdjdb = pd.read_csv('data/vdjdb-2022-03-30/vdjdb_full.txt', sep='\\t')\n"
     ]
    },
    {
     "name": "stdout",
     "output_type": "stream",
     "text": [
      "Number of negative samples changed from 47033 to 44205 (because of overlap with positive samples)\n",
      "Positive samples: alpha only: 2580, beta only: 3056, both: 2194, none: 0\n",
      "Negative samples (will be sampled to select same amount as positive): alpha only: 4499, beta only: 17510, both: 22196, none: 0\n",
      "Nan: train: 40, test: 108\n",
      "No Nan: train: 9, test: 108\n",
      "\n",
      "Evaluating model 1/5\n",
      "{'name': 'RandomForest (no nan)', 'model': RandomForestClassifier(random_state=0), 'group': 'mean_impute_models', 'drop_train_na': True}\n",
      "0.8567241379310344\n",
      "0.815862068965517\n",
      "0.8737931034482759\n",
      "0.8539655172413793\n",
      "0.8617241379310344\n",
      "\n",
      "Evaluating model 2/5\n",
      "{'name': 'KNN (no nan)', 'model': KNeighborsClassifier(), 'group': 'mean_impute_models', 'drop_train_na': True}\n",
      "0.6513793103448275\n",
      "0.4889655172413794\n",
      "0.6613793103448277\n",
      "0.4889655172413794\n",
      "0.6413793103448275\n",
      "\n",
      "Evaluating model 3/5\n",
      "{'name': 'ProximityForest (no nan)', 'model': <util.proximityforest.ProximityForestClassifier object at 0x000001A1EA87B340>, 'group': 'mean_impute_models', 'drop_train_na': True}\n"
     ]
    },
    {
     "name": "stderr",
     "output_type": "stream",
     "text": [
      "Fitting: 100%|██████████| 100/100 [00:00<00:00, 406.50it/s]\n",
      "Predicting: 100%|██████████| 100/100 [00:01<00:00, 79.59it/s]\n"
     ]
    },
    {
     "name": "stdout",
     "output_type": "stream",
     "text": [
      "0.7770689655172415\n"
     ]
    },
    {
     "name": "stderr",
     "output_type": "stream",
     "text": [
      "Fitting: 100%|██████████| 100/100 [00:00<00:00, 570.13it/s]\n",
      "Predicting: 100%|██████████| 100/100 [00:01<00:00, 96.69it/s]\n"
     ]
    },
    {
     "name": "stdout",
     "output_type": "stream",
     "text": [
      "0.6768965517241379\n"
     ]
    },
    {
     "name": "stderr",
     "output_type": "stream",
     "text": [
      "Fitting: 100%|██████████| 100/100 [00:00<00:00, 884.95it/s]\n",
      "Predicting: 100%|██████████| 100/100 [00:00<00:00, 122.25it/s]\n"
     ]
    },
    {
     "name": "stdout",
     "output_type": "stream",
     "text": [
      "0.7839655172413792\n"
     ]
    },
    {
     "name": "stderr",
     "output_type": "stream",
     "text": [
      "Fitting: 100%|██████████| 100/100 [00:00<00:00, 719.01it/s]\n",
      "Predicting: 100%|██████████| 100/100 [00:01<00:00, 93.27it/s]\n"
     ]
    },
    {
     "name": "stdout",
     "output_type": "stream",
     "text": [
      "0.7577586206896552\n"
     ]
    },
    {
     "name": "stderr",
     "output_type": "stream",
     "text": [
      "Fitting: 100%|██████████| 100/100 [00:00<00:00, 511.91it/s]\n",
      "Predicting: 100%|██████████| 100/100 [00:01<00:00, 70.80it/s]\n"
     ]
    },
    {
     "name": "stdout",
     "output_type": "stream",
     "text": [
      "0.7760344827586206\n",
      "\n",
      "Evaluating model 4/5\n",
      "{'name': 'MLP (no nan)', 'model': MLPClassifier(random_state=0), 'group': 'mean_impute_models', 'drop_train_na': True}\n",
      "0.7396551724137931\n",
      "0.598448275862069\n",
      "0.586551724137931\n",
      "0.47913793103448277\n",
      "0.6770689655172414\n",
      "\n",
      "Evaluating model 5/5\n",
      "{'name': 'HistGradientBoosting (no nan)', 'model': HistGradientBoostingClassifier(random_state=0), 'group': 'mean_impute_models', 'drop_train_na': True}\n",
      "0.5\n",
      "0.5\n",
      "0.5\n",
      "0.5\n",
      "0.5\n",
      "Baseline Random Forest (NaNs dropped in train) not found in scores, using RandomForest (no nan) instead\n",
      "Baseline Random Forest (NaNs dropped in train) not found in scores, using RandomForest (no nan) instead\n",
      "Finished evaluating 5 models at 20230614-165929 in 0:00:10.419774 seconds\n",
      "['outputs/model-evaluations-20230614-165919-GILGFVFTL-50-imputation-constant-numbers/scores-20230614-165929.csv']\n",
      "### Dataset size: 100 ###\n"
     ]
    },
    {
     "name": "stderr",
     "output_type": "stream",
     "text": [
      "C:\\Users\\arnod\\PycharmProjects\\thesis\\util\\epitopes.py:6: DtypeWarning: Columns (20,29,30) have mixed types. Specify dtype option on import or set low_memory=False.\n",
      "  df_vdjdb = pd.read_csv('data/vdjdb-2022-03-30/vdjdb_full.txt', sep='\\t')\n"
     ]
    },
    {
     "name": "stdout",
     "output_type": "stream",
     "text": [
      "Number of negative samples changed from 47033 to 44205 (because of overlap with positive samples)\n",
      "Positive samples: alpha only: 2580, beta only: 3056, both: 2194, none: 0\n",
      "Negative samples (will be sampled to select same amount as positive): alpha only: 4499, beta only: 17510, both: 22196, none: 0\n",
      "Nan: train: 80, test: 108\n",
      "No Nan: train: 18, test: 108\n",
      "\n",
      "Evaluating model 1/5\n",
      "{'name': 'RandomForest (no nan)', 'model': RandomForestClassifier(random_state=0), 'group': 'mean_impute_models', 'drop_train_na': True}\n",
      "0.9058620689655171\n",
      "0.8698275862068966\n",
      "0.8901724137931034\n",
      "0.8629310344827587\n",
      "0.8877586206896553\n",
      "\n",
      "Evaluating model 2/5\n",
      "{'name': 'KNN (no nan)', 'model': KNeighborsClassifier(), 'group': 'mean_impute_models', 'drop_train_na': True}\n",
      "0.7736206896551723\n",
      "0.796206896551724\n",
      "0.703448275862069\n",
      "0.703103448275862\n",
      "0.7170689655172414\n",
      "\n",
      "Evaluating model 3/5\n",
      "{'name': 'ProximityForest (no nan)', 'model': <util.proximityforest.ProximityForestClassifier object at 0x000001A1EA87B340>, 'group': 'mean_impute_models', 'drop_train_na': True}\n"
     ]
    },
    {
     "name": "stderr",
     "output_type": "stream",
     "text": [
      "Fitting: 100%|██████████| 100/100 [00:00<00:00, 174.89it/s]\n",
      "Predicting: 100%|██████████| 100/100 [00:01<00:00, 56.21it/s]\n"
     ]
    },
    {
     "name": "stdout",
     "output_type": "stream",
     "text": [
      "0.7486206896551725\n"
     ]
    },
    {
     "name": "stderr",
     "output_type": "stream",
     "text": [
      "Fitting: 100%|██████████| 100/100 [00:00<00:00, 267.26it/s]\n",
      "Predicting: 100%|██████████| 100/100 [00:01<00:00, 60.78it/s]\n"
     ]
    },
    {
     "name": "stdout",
     "output_type": "stream",
     "text": [
      "0.7601724137931034\n"
     ]
    },
    {
     "name": "stderr",
     "output_type": "stream",
     "text": [
      "Fitting: 100%|██████████| 100/100 [00:00<00:00, 117.50it/s]\n",
      "Predicting: 100%|██████████| 100/100 [00:02<00:00, 33.98it/s]\n"
     ]
    },
    {
     "name": "stdout",
     "output_type": "stream",
     "text": [
      "0.7239655172413793\n"
     ]
    },
    {
     "name": "stderr",
     "output_type": "stream",
     "text": [
      "Fitting: 100%|██████████| 100/100 [00:00<00:00, 155.13it/s]\n",
      "Predicting: 100%|██████████| 100/100 [00:02<00:00, 43.72it/s]\n"
     ]
    },
    {
     "name": "stdout",
     "output_type": "stream",
     "text": [
      "0.7096551724137932\n"
     ]
    },
    {
     "name": "stderr",
     "output_type": "stream",
     "text": [
      "Fitting: 100%|██████████| 100/100 [00:00<00:00, 124.82it/s]\n",
      "Predicting: 100%|██████████| 100/100 [00:02<00:00, 36.69it/s]\n"
     ]
    },
    {
     "name": "stdout",
     "output_type": "stream",
     "text": [
      "0.716551724137931\n",
      "\n",
      "Evaluating model 4/5\n",
      "{'name': 'MLP (no nan)', 'model': MLPClassifier(random_state=0), 'group': 'mean_impute_models', 'drop_train_na': True}\n",
      "0.7993103448275862\n",
      "0.8024137931034482\n",
      "0.6548275862068966\n",
      "0.8020689655172415\n",
      "0.6003448275862069\n",
      "\n",
      "Evaluating model 5/5\n",
      "{'name': 'HistGradientBoosting (no nan)', 'model': HistGradientBoostingClassifier(random_state=0), 'group': 'mean_impute_models', 'drop_train_na': True}\n",
      "0.5\n",
      "0.5\n",
      "0.5\n",
      "0.5\n",
      "0.5\n",
      "Baseline Random Forest (NaNs dropped in train) not found in scores, using RandomForest (no nan) instead\n",
      "Baseline Random Forest (NaNs dropped in train) not found in scores, using RandomForest (no nan) instead\n",
      "Finished evaluating 5 models at 20230614-170002 in 0:00:19.659293 seconds\n",
      "['outputs/model-evaluations-20230614-165919-GILGFVFTL-50-imputation-constant-numbers/scores-20230614-165929.csv', 'outputs/model-evaluations-20230614-165942-GILGFVFTL-100-imputation-constant-numbers/scores-20230614-170002.csv']\n",
      "### Dataset size: 200 ###\n"
     ]
    },
    {
     "name": "stderr",
     "output_type": "stream",
     "text": [
      "C:\\Users\\arnod\\PycharmProjects\\thesis\\util\\epitopes.py:6: DtypeWarning: Columns (20,29,30) have mixed types. Specify dtype option on import or set low_memory=False.\n",
      "  df_vdjdb = pd.read_csv('data/vdjdb-2022-03-30/vdjdb_full.txt', sep='\\t')\n"
     ]
    },
    {
     "name": "stdout",
     "output_type": "stream",
     "text": [
      "Number of negative samples changed from 47033 to 44205 (because of overlap with positive samples)\n",
      "Positive samples: alpha only: 2580, beta only: 3056, both: 2194, none: 0\n",
      "Negative samples (will be sampled to select same amount as positive): alpha only: 4499, beta only: 17510, both: 22196, none: 0\n",
      "Nan: train: 160, test: 108\n",
      "No Nan: train: 40, test: 108\n",
      "\n",
      "Evaluating model 1/5\n",
      "{'name': 'RandomForest (no nan)', 'model': RandomForestClassifier(random_state=0), 'group': 'mean_impute_models', 'drop_train_na': True}\n",
      "0.9098275862068965\n",
      "0.895\n",
      "0.8920689655172414\n",
      "0.8670689655172412\n",
      "0.8844827586206897\n",
      "\n",
      "Evaluating model 2/5\n",
      "{'name': 'KNN (no nan)', 'model': KNeighborsClassifier(), 'group': 'mean_impute_models', 'drop_train_na': True}\n",
      "0.8122413793103447\n",
      "0.8362068965517241\n",
      "0.8267241379310345\n",
      "0.8196551724137933\n",
      "0.8322413793103447\n",
      "\n",
      "Evaluating model 3/5\n",
      "{'name': 'ProximityForest (no nan)', 'model': <util.proximityforest.ProximityForestClassifier object at 0x000001A1EA87B340>, 'group': 'mean_impute_models', 'drop_train_na': True}\n"
     ]
    },
    {
     "name": "stderr",
     "output_type": "stream",
     "text": [
      "Fitting: 100%|██████████| 100/100 [00:02<00:00, 37.46it/s]\n",
      "Predicting: 100%|██████████| 100/100 [00:04<00:00, 21.24it/s]\n"
     ]
    },
    {
     "name": "stdout",
     "output_type": "stream",
     "text": [
      "0.7762068965517241\n"
     ]
    },
    {
     "name": "stderr",
     "output_type": "stream",
     "text": [
      "Fitting: 100%|██████████| 100/100 [00:02<00:00, 42.99it/s]\n",
      "Predicting: 100%|██████████| 100/100 [00:04<00:00, 23.66it/s]\n"
     ]
    },
    {
     "name": "stdout",
     "output_type": "stream",
     "text": [
      "0.8512068965517241\n"
     ]
    },
    {
     "name": "stderr",
     "output_type": "stream",
     "text": [
      "Fitting: 100%|██████████| 100/100 [00:02<00:00, 44.83it/s]\n",
      "Predicting: 100%|██████████| 100/100 [00:03<00:00, 27.28it/s]\n"
     ]
    },
    {
     "name": "stdout",
     "output_type": "stream",
     "text": [
      "0.7836206896551724\n"
     ]
    },
    {
     "name": "stderr",
     "output_type": "stream",
     "text": [
      "Fitting: 100%|██████████| 100/100 [00:01<00:00, 69.43it/s]\n",
      "Predicting: 100%|██████████| 100/100 [00:02<00:00, 36.42it/s]\n"
     ]
    },
    {
     "name": "stdout",
     "output_type": "stream",
     "text": [
      "0.7998275862068965\n"
     ]
    },
    {
     "name": "stderr",
     "output_type": "stream",
     "text": [
      "Fitting: 100%|██████████| 100/100 [00:01<00:00, 63.77it/s]\n",
      "Predicting: 100%|██████████| 100/100 [00:03<00:00, 31.88it/s]\n"
     ]
    },
    {
     "name": "stdout",
     "output_type": "stream",
     "text": [
      "0.8518965517241379\n",
      "\n",
      "Evaluating model 4/5\n",
      "{'name': 'MLP (no nan)', 'model': MLPClassifier(random_state=0), 'group': 'mean_impute_models', 'drop_train_na': True}\n",
      "0.8210344827586207\n",
      "0.7993103448275862\n",
      "0.7855172413793103\n",
      "0.8148275862068965\n",
      "0.7589655172413793\n",
      "\n",
      "Evaluating model 5/5\n",
      "{'name': 'HistGradientBoosting (no nan)', 'model': HistGradientBoostingClassifier(random_state=0), 'group': 'mean_impute_models', 'drop_train_na': True}\n",
      "0.8760344827586207\n",
      "0.7955172413793105\n",
      "0.8510344827586207\n",
      "0.5\n",
      "0.5\n",
      "Baseline Random Forest (NaNs dropped in train) not found in scores, using RandomForest (no nan) instead\n",
      "Baseline Random Forest (NaNs dropped in train) not found in scores, using RandomForest (no nan) instead\n",
      "Finished evaluating 5 models at 20230614-170101 in 0:00:40.231059 seconds\n",
      "['outputs/model-evaluations-20230614-165919-GILGFVFTL-50-imputation-constant-numbers/scores-20230614-165929.csv', 'outputs/model-evaluations-20230614-165942-GILGFVFTL-100-imputation-constant-numbers/scores-20230614-170002.csv', 'outputs/model-evaluations-20230614-170020-GILGFVFTL-200-imputation-constant-numbers/scores-20230614-170101.csv']\n",
      "### Dataset size: 500 ###\n"
     ]
    },
    {
     "name": "stderr",
     "output_type": "stream",
     "text": [
      "C:\\Users\\arnod\\PycharmProjects\\thesis\\util\\epitopes.py:6: DtypeWarning: Columns (20,29,30) have mixed types. Specify dtype option on import or set low_memory=False.\n",
      "  df_vdjdb = pd.read_csv('data/vdjdb-2022-03-30/vdjdb_full.txt', sep='\\t')\n"
     ]
    },
    {
     "name": "stdout",
     "output_type": "stream",
     "text": [
      "Number of negative samples changed from 47033 to 44205 (because of overlap with positive samples)\n",
      "Positive samples: alpha only: 2580, beta only: 3056, both: 2194, none: 0\n",
      "Negative samples (will be sampled to select same amount as positive): alpha only: 4499, beta only: 17510, both: 22196, none: 0\n",
      "Nan: train: 400, test: 108\n",
      "No Nan: train: 100, test: 108\n",
      "\n",
      "Evaluating model 1/5\n",
      "{'name': 'RandomForest (no nan)', 'model': RandomForestClassifier(random_state=0), 'group': 'mean_impute_models', 'drop_train_na': True}\n",
      "0.8832758620689654\n",
      "0.8863793103448276\n",
      "0.890344827586207\n",
      "0.8832758620689655\n",
      "0.8756896551724137\n",
      "\n",
      "Evaluating model 2/5\n",
      "{'name': 'KNN (no nan)', 'model': KNeighborsClassifier(), 'group': 'mean_impute_models', 'drop_train_na': True}\n",
      "0.8103448275862069\n",
      "0.8005172413793102\n",
      "0.8287931034482758\n",
      "0.8210344827586207\n",
      "0.8410344827586206\n",
      "\n",
      "Evaluating model 3/5\n",
      "{'name': 'ProximityForest (no nan)', 'model': <util.proximityforest.ProximityForestClassifier object at 0x000001A1EA87B340>, 'group': 'mean_impute_models', 'drop_train_na': True}\n"
     ]
    },
    {
     "name": "stderr",
     "output_type": "stream",
     "text": [
      "Fitting: 100%|██████████| 100/100 [00:03<00:00, 29.34it/s]\n",
      "Predicting: 100%|██████████| 100/100 [00:03<00:00, 32.58it/s]\n"
     ]
    },
    {
     "name": "stdout",
     "output_type": "stream",
     "text": [
      "0.8572413793103448\n"
     ]
    },
    {
     "name": "stderr",
     "output_type": "stream",
     "text": [
      "Fitting: 100%|██████████| 100/100 [00:03<00:00, 25.92it/s]\n",
      "Predicting: 100%|██████████| 100/100 [00:03<00:00, 25.40it/s]\n"
     ]
    },
    {
     "name": "stdout",
     "output_type": "stream",
     "text": [
      "0.8524137931034482\n"
     ]
    },
    {
     "name": "stderr",
     "output_type": "stream",
     "text": [
      "Fitting: 100%|██████████| 100/100 [00:03<00:00, 28.44it/s]\n",
      "Predicting: 100%|██████████| 100/100 [00:03<00:00, 30.44it/s]\n"
     ]
    },
    {
     "name": "stdout",
     "output_type": "stream",
     "text": [
      "0.856551724137931\n"
     ]
    },
    {
     "name": "stderr",
     "output_type": "stream",
     "text": [
      "Fitting: 100%|██████████| 100/100 [00:03<00:00, 26.57it/s]\n",
      "Predicting: 100%|██████████| 100/100 [00:03<00:00, 33.12it/s]\n"
     ]
    },
    {
     "name": "stdout",
     "output_type": "stream",
     "text": [
      "0.8510344827586206\n"
     ]
    },
    {
     "name": "stderr",
     "output_type": "stream",
     "text": [
      "Fitting: 100%|██████████| 100/100 [00:03<00:00, 32.87it/s]\n",
      "Predicting: 100%|██████████| 100/100 [00:04<00:00, 24.97it/s]\n"
     ]
    },
    {
     "name": "stdout",
     "output_type": "stream",
     "text": [
      "0.8622413793103448\n",
      "\n",
      "Evaluating model 4/5\n",
      "{'name': 'MLP (no nan)', 'model': MLPClassifier(random_state=0), 'group': 'mean_impute_models', 'drop_train_na': True}\n",
      "0.7779310344827585\n",
      "0.7758620689655172\n",
      "0.8220689655172414\n",
      "0.8162068965517242\n",
      "0.8196551724137932\n",
      "\n",
      "Evaluating model 5/5\n",
      "{'name': 'HistGradientBoosting (no nan)', 'model': HistGradientBoostingClassifier(random_state=0), 'group': 'mean_impute_models', 'drop_train_na': True}\n",
      "0.8751724137931034\n",
      "0.9086206896551724\n",
      "0.8851724137931035\n",
      "0.8948275862068965\n",
      "0.9113793103448276\n",
      "Baseline Random Forest (NaNs dropped in train) not found in scores, using RandomForest (no nan) instead\n",
      "Baseline Random Forest (NaNs dropped in train) not found in scores, using RandomForest (no nan) instead\n",
      "Finished evaluating 5 models at 20230614-170218 in 0:01:05.050767 seconds\n",
      "['outputs/model-evaluations-20230614-165919-GILGFVFTL-50-imputation-constant-numbers/scores-20230614-165929.csv', 'outputs/model-evaluations-20230614-165942-GILGFVFTL-100-imputation-constant-numbers/scores-20230614-170002.csv', 'outputs/model-evaluations-20230614-170020-GILGFVFTL-200-imputation-constant-numbers/scores-20230614-170101.csv', 'outputs/model-evaluations-20230614-170113-GILGFVFTL-500-imputation-constant-numbers/scores-20230614-170218.csv']\n",
      "### Dataset size: 1000 ###\n"
     ]
    },
    {
     "name": "stderr",
     "output_type": "stream",
     "text": [
      "C:\\Users\\arnod\\PycharmProjects\\thesis\\util\\epitopes.py:6: DtypeWarning: Columns (20,29,30) have mixed types. Specify dtype option on import or set low_memory=False.\n",
      "  df_vdjdb = pd.read_csv('data/vdjdb-2022-03-30/vdjdb_full.txt', sep='\\t')\n"
     ]
    },
    {
     "name": "stdout",
     "output_type": "stream",
     "text": [
      "Number of negative samples changed from 47033 to 44205 (because of overlap with positive samples)\n",
      "Positive samples: alpha only: 2580, beta only: 3056, both: 2194, none: 0\n",
      "Negative samples (will be sampled to select same amount as positive): alpha only: 4499, beta only: 17510, both: 22196, none: 0\n",
      "Nan: train: 800, test: 108\n",
      "No Nan: train: 192, test: 108\n",
      "\n",
      "Evaluating model 1/5\n",
      "{'name': 'RandomForest (no nan)', 'model': RandomForestClassifier(random_state=0), 'group': 'mean_impute_models', 'drop_train_na': True}\n",
      "0.891551724137931\n",
      "0.8837931034482758\n",
      "0.8979310344827586\n",
      "0.8932758620689655\n",
      "0.8758620689655172\n",
      "\n",
      "Evaluating model 2/5\n",
      "{'name': 'KNN (no nan)', 'model': KNeighborsClassifier(), 'group': 'mean_impute_models', 'drop_train_na': True}\n",
      "0.8368965517241379\n",
      "0.8468965517241378\n",
      "0.838448275862069\n",
      "0.8501724137931035\n",
      "0.8610344827586206\n",
      "\n",
      "Evaluating model 3/5\n",
      "{'name': 'ProximityForest (no nan)', 'model': <util.proximityforest.ProximityForestClassifier object at 0x000001A1EA87B340>, 'group': 'mean_impute_models', 'drop_train_na': True}\n"
     ]
    },
    {
     "name": "stderr",
     "output_type": "stream",
     "text": [
      "Fitting: 100%|██████████| 100/100 [00:05<00:00, 19.37it/s]\n",
      "Predicting: 100%|██████████| 100/100 [00:02<00:00, 38.26it/s]\n"
     ]
    },
    {
     "name": "stdout",
     "output_type": "stream",
     "text": [
      "0.8784482758620689\n"
     ]
    },
    {
     "name": "stderr",
     "output_type": "stream",
     "text": [
      "Fitting: 100%|██████████| 100/100 [00:05<00:00, 17.96it/s]\n",
      "Predicting: 100%|██████████| 100/100 [00:03<00:00, 25.19it/s]\n"
     ]
    },
    {
     "name": "stdout",
     "output_type": "stream",
     "text": [
      "0.8612068965517242\n"
     ]
    },
    {
     "name": "stderr",
     "output_type": "stream",
     "text": [
      "Fitting: 100%|██████████| 100/100 [00:06<00:00, 16.07it/s]\n",
      "Predicting: 100%|██████████| 100/100 [00:03<00:00, 33.21it/s]\n"
     ]
    },
    {
     "name": "stdout",
     "output_type": "stream",
     "text": [
      "0.8684482758620689\n"
     ]
    },
    {
     "name": "stderr",
     "output_type": "stream",
     "text": [
      "Fitting: 100%|██████████| 100/100 [00:06<00:00, 15.01it/s]\n",
      "Predicting: 100%|██████████| 100/100 [00:04<00:00, 20.31it/s]\n"
     ]
    },
    {
     "name": "stdout",
     "output_type": "stream",
     "text": [
      "0.863448275862069\n"
     ]
    },
    {
     "name": "stderr",
     "output_type": "stream",
     "text": [
      "Fitting: 100%|██████████| 100/100 [00:07<00:00, 12.86it/s]\n",
      "Predicting: 100%|██████████| 100/100 [00:04<00:00, 24.74it/s]\n"
     ]
    },
    {
     "name": "stdout",
     "output_type": "stream",
     "text": [
      "0.8708620689655173\n",
      "\n",
      "Evaluating model 4/5\n",
      "{'name': 'MLP (no nan)', 'model': MLPClassifier(random_state=0), 'group': 'mean_impute_models', 'drop_train_na': True}\n",
      "0.8603448275862068\n",
      "0.8772413793103448\n",
      "0.859655172413793\n",
      "0.8637931034482759\n",
      "0.823103448275862\n",
      "\n",
      "Evaluating model 5/5\n",
      "{'name': 'HistGradientBoosting (no nan)', 'model': HistGradientBoostingClassifier(random_state=0), 'group': 'mean_impute_models', 'drop_train_na': True}\n",
      "0.8958620689655172\n",
      "0.887241379310345\n",
      "0.9010344827586205\n",
      "0.8910344827586207\n",
      "0.8796551724137929\n",
      "Baseline Random Forest (NaNs dropped in train) not found in scores, using RandomForest (no nan) instead\n",
      "Baseline Random Forest (NaNs dropped in train) not found in scores, using RandomForest (no nan) instead\n",
      "Finished evaluating 5 models at 20230614-170418 in 0:01:40.989767 seconds\n",
      "['outputs/model-evaluations-20230614-165919-GILGFVFTL-50-imputation-constant-numbers/scores-20230614-165929.csv', 'outputs/model-evaluations-20230614-165942-GILGFVFTL-100-imputation-constant-numbers/scores-20230614-170002.csv', 'outputs/model-evaluations-20230614-170020-GILGFVFTL-200-imputation-constant-numbers/scores-20230614-170101.csv', 'outputs/model-evaluations-20230614-170113-GILGFVFTL-500-imputation-constant-numbers/scores-20230614-170218.csv', 'outputs/model-evaluations-20230614-170237-GILGFVFTL-1000-imputation-constant-numbers/scores-20230614-170418.csv']\n"
     ]
    },
    {
     "data": {
      "text/plain": "<Figure size 432x288 with 0 Axes>"
     },
     "metadata": {},
     "output_type": "display_data"
    }
   ],
   "source": [
    "print(list([m['name'] for m in models_to_evaluate]))\n",
    "outputs = []\n",
    "\n",
    "# dataset_size = [1000]\n",
    "# dataset_size = [50, 100, 200, 500, 1000, 2000, 5000, None]\n",
    "dataset_size = [50, 100, 200, 500, 1000]\n",
    "for dataset_size in dataset_size:\n",
    "    print(f\"### Dataset size: {dataset_size} ###\")\n",
    "    update_data_per_fold(dataset_size)\n",
    "    scores, output_csv = evaluate_model_list(models_to_evaluate)\n",
    "    outputs.append(output_csv)\n",
    "    print(outputs)\n",
    "    # plot_scores(scores, \"Model performance (AUC)\", baseline_name='RandomForest (0, inputed)', hue_group_diff=False)\n"
   ],
   "metadata": {
    "collapsed": false
   }
  },
  {
   "cell_type": "code",
   "execution_count": 7,
   "outputs": [],
   "source": [
    "models_to_evaluate = []"
   ],
   "metadata": {
    "collapsed": false
   }
  },
  {
   "cell_type": "code",
   "execution_count": 8,
   "outputs": [],
   "source": [
    "# distance functions\n",
    "# knn with tcrdist3\n",
    "\n",
    "knn_tcrdist3 = {\n",
    "    'name': 'KNN (tcrdist3, no_nan)',\n",
    "    'model': KNNString(metric=calculate_tcr_dist2_cached, k=5),\n",
    "    'group': 'knn',\n",
    "    'extract_features': False,\n",
    "    'drop_train_na': True,\n",
    "}\n",
    "\n",
    "# tcrdist values (from random observations) 0-400\n",
    "# typically 200-300\n",
    "\n",
    "knn_tcrdist3_nan_250 = {\n",
    "    'name': 'KNN (tcrdist3, nan_dist=200)',\n",
    "    'model': KNNString(metric=calculate_tcr_dist2_cached, k=5, metric_kwargs={'nan_distance': 250}),\n",
    "    'group': 'knn',\n",
    "    'extract_features': False,\n",
    "    'drop_train_na': False,\n",
    "}\n",
    "\n",
    "models_to_evaluate.append(knn_tcrdist3)\n",
    "models_to_evaluate.append(knn_tcrdist3_nan_250)"
   ],
   "metadata": {
    "collapsed": false
   }
  },
  {
   "cell_type": "code",
   "execution_count": 9,
   "outputs": [
    {
     "name": "stdout",
     "output_type": "stream",
     "text": [
      "['KNN (tcrdist3, no_nan)', 'KNN (tcrdist3, nan_dist=200)']\n",
      "### Dataset size: 50 ###\n"
     ]
    },
    {
     "name": "stderr",
     "output_type": "stream",
     "text": [
      "C:\\Users\\arnod\\PycharmProjects\\thesis\\util\\epitopes.py:6: DtypeWarning: Columns (20,29,30) have mixed types. Specify dtype option on import or set low_memory=False.\n",
      "  df_vdjdb = pd.read_csv('data/vdjdb-2022-03-30/vdjdb_full.txt', sep='\\t')\n"
     ]
    },
    {
     "name": "stdout",
     "output_type": "stream",
     "text": [
      "Number of negative samples changed from 47033 to 44205 (because of overlap with positive samples)\n",
      "Positive samples: alpha only: 2580, beta only: 3056, both: 2194, none: 0\n",
      "Negative samples (will be sampled to select same amount as positive): alpha only: 4499, beta only: 17510, both: 22196, none: 0\n",
      "Nan: train: 40, test: 108\n",
      "No Nan: train: 9, test: 108\n",
      "\n",
      "Evaluating model 1/2\n",
      "{'name': 'KNN (tcrdist3, no_nan)', 'model': <util.knnstring.KNNString object at 0x0000028CCC9A1A60>, 'group': 'knn', 'extract_features': False, 'drop_train_na': True}\n",
      "0.8051724137931033\n",
      "0.7525862068965516\n",
      "0.7708620689655172\n",
      "0.715\n",
      "0.7765517241379309\n",
      "\n",
      "Evaluating model 2/2\n",
      "{'name': 'KNN (tcrdist3, nan_dist=200)', 'model': <util.knnstring.KNNString object at 0x0000028CCC9A1A00>, 'group': 'knn', 'extract_features': False, 'drop_train_na': False}\n",
      "0.8951724137931034\n",
      "0.7658620689655171\n",
      "0.7953448275862068\n",
      "0.7906896551724137\n",
      "0.8841379310344827\n",
      "Baseline Random Forest (NaNs dropped in train) not found in scores, using KNN (tcrdist3, no_nan) instead\n",
      "Baseline Random Forest (NaNs dropped in train) not found in scores, using KNN (tcrdist3, no_nan) instead\n",
      "Finished evaluating 2 models at 20230615-013936 in 0:02:46.715703 seconds\n",
      "['outputs/model-evaluations-20230615-013650-GILGFVFTL-50-imputation-constant-numbers/scores-20230615-013936.csv']\n",
      "### Dataset size: 100 ###\n"
     ]
    },
    {
     "name": "stderr",
     "output_type": "stream",
     "text": [
      "C:\\Users\\arnod\\PycharmProjects\\thesis\\util\\epitopes.py:6: DtypeWarning: Columns (20,29,30) have mixed types. Specify dtype option on import or set low_memory=False.\n",
      "  df_vdjdb = pd.read_csv('data/vdjdb-2022-03-30/vdjdb_full.txt', sep='\\t')\n"
     ]
    },
    {
     "name": "stdout",
     "output_type": "stream",
     "text": [
      "Number of negative samples changed from 47033 to 44205 (because of overlap with positive samples)\n",
      "Positive samples: alpha only: 2580, beta only: 3056, both: 2194, none: 0\n",
      "Negative samples (will be sampled to select same amount as positive): alpha only: 4499, beta only: 17510, both: 22196, none: 0\n",
      "Nan: train: 80, test: 108\n",
      "No Nan: train: 18, test: 108\n",
      "\n",
      "Evaluating model 1/2\n",
      "{'name': 'KNN (tcrdist3, no_nan)', 'model': <util.knnstring.KNNString object at 0x0000028CCC9A1A60>, 'group': 'knn', 'extract_features': False, 'drop_train_na': True}\n",
      "0.8246551724137933\n",
      "0.8620689655172414\n",
      "0.8344827586206897\n",
      "0.8232758620689655\n",
      "0.8320689655172414\n",
      "\n",
      "Evaluating model 2/2\n",
      "{'name': 'KNN (tcrdist3, nan_dist=200)', 'model': <util.knnstring.KNNString object at 0x0000028CCC9A1A00>, 'group': 'knn', 'extract_features': False, 'drop_train_na': False}\n",
      "0.891551724137931\n",
      "0.8836206896551725\n",
      "0.8908620689655172\n",
      "0.8881034482758621\n",
      "0.8767241379310344\n",
      "Baseline Random Forest (NaNs dropped in train) not found in scores, using KNN (tcrdist3, no_nan) instead\n",
      "Baseline Random Forest (NaNs dropped in train) not found in scores, using KNN (tcrdist3, no_nan) instead\n",
      "Finished evaluating 2 models at 20230615-014313 in 0:03:32.506392 seconds\n",
      "['outputs/model-evaluations-20230615-013650-GILGFVFTL-50-imputation-constant-numbers/scores-20230615-013936.csv', 'outputs/model-evaluations-20230615-013940-GILGFVFTL-100-imputation-constant-numbers/scores-20230615-014313.csv']\n"
     ]
    },
    {
     "data": {
      "text/plain": "<Figure size 432x288 with 0 Axes>"
     },
     "metadata": {},
     "output_type": "display_data"
    }
   ],
   "source": [
    "print(list([m['name'] for m in models_to_evaluate]))\n",
    "outputs = []\n",
    "\n",
    "# dataset_size = [1000]\n",
    "# dataset_size = [50, 100, 200, 500, 1000, 2000, 5000, None]\n",
    "dataset_size = [50, 100]  # takes too long for larger datasets\n",
    "for dataset_size in dataset_size:\n",
    "    print(f\"### Dataset size: {dataset_size} ###\")\n",
    "    update_data_per_fold(dataset_size)\n",
    "    scores, output_csv = evaluate_model_list(models_to_evaluate)\n",
    "    outputs.append(output_csv)\n",
    "    print(outputs)"
   ],
   "metadata": {
    "collapsed": false
   }
  },
  {
   "cell_type": "code",
   "execution_count": 7,
   "outputs": [],
   "source": [
    "models_to_evaluate = []\n",
    "\n",
    "# knn with tcrdist approx\n",
    "knn_tcrdist_approx = {\n",
    "    'name': 'KNN (tcrdist approx, no_nan)',\n",
    "    'model': KNNString(metric=calculate_approx_distance, k=5),\n",
    "    'group': 'knn',\n",
    "    'extract_features': False,\n",
    "    'drop_train_na': True,\n",
    "}\n",
    "\n",
    "knn_tcrdist_approx_nan_0 = {\n",
    "    'name': 'KNN (tcrdist approx, nan_dist=0)',\n",
    "    'model': KNNString(metric=calculate_approx_distance, k=5, metric_kwargs={'nan_distance': 0}),\n",
    "    'group': 'knn',\n",
    "    'extract_features': False,\n",
    "    'drop_train_na': False,\n",
    "}\n",
    "\n",
    "knn_tcrdist_approx_nan_100 = {\n",
    "    'name': 'KNN (tcrdist approx, nan_dist=100)',\n",
    "    'model': KNNString(metric=calculate_approx_distance, k=5, metric_kwargs={'nan_distance': 100}),\n",
    "    'group': 'knn',\n",
    "    'extract_features': False,\n",
    "    'drop_train_na': False,\n",
    "}\n",
    "\n",
    "knn_tcrdist_approx_nan_250 = {\n",
    "    'name': 'KNN (tcrdist approx, nan_dist=200)',\n",
    "    'model': KNNString(metric=calculate_approx_distance, k=5, metric_kwargs={'nan_distance': 250}),\n",
    "    'group': 'knn',\n",
    "    'extract_features': False,\n",
    "    'drop_train_na': False,\n",
    "}\n",
    "\n",
    "knn_tcrdist_approx_nan_400 = {\n",
    "    'name': 'KNN (tcrdist approx, nan_dist=400)',\n",
    "    'model': KNNString(metric=calculate_approx_distance, k=5, metric_kwargs={'nan_distance': 400}),\n",
    "    'group': 'knn',\n",
    "    'extract_features': False,\n",
    "    'drop_train_na': False,\n",
    "}\n",
    "\n",
    "# 0.7 and 0.7 is too low\n",
    "\n",
    "models_to_evaluate.append(knn_tcrdist_approx)\n",
    "models_to_evaluate.append(knn_tcrdist_approx_nan_0)\n",
    "models_to_evaluate.append(knn_tcrdist_approx_nan_100)\n",
    "models_to_evaluate.append(knn_tcrdist_approx_nan_250)\n",
    "models_to_evaluate.append(knn_tcrdist_approx_nan_400)"
   ],
   "metadata": {
    "collapsed": false
   }
  },
  {
   "cell_type": "code",
   "execution_count": 8,
   "outputs": [
    {
     "name": "stdout",
     "output_type": "stream",
     "text": [
      "['KNN (tcrdist approx, no_nan)', 'KNN (tcrdist approx, nan_dist=0)', 'KNN (tcrdist approx, nan_dist=100)', 'KNN (tcrdist approx, nan_dist=200)', 'KNN (tcrdist approx, nan_dist=400)']\n",
      "### Dataset size: 50 ###\n"
     ]
    },
    {
     "name": "stderr",
     "output_type": "stream",
     "text": [
      "C:\\Users\\arnod\\PycharmProjects\\thesis\\util\\epitopes.py:6: DtypeWarning: Columns (20,29,30) have mixed types. Specify dtype option on import or set low_memory=False.\n",
      "  df_vdjdb = pd.read_csv('data/vdjdb-2022-03-30/vdjdb_full.txt', sep='\\t')\n"
     ]
    },
    {
     "name": "stdout",
     "output_type": "stream",
     "text": [
      "Number of negative samples changed from 47033 to 44205 (because of overlap with positive samples)\n",
      "Positive samples: alpha only: 2580, beta only: 3056, both: 2194, none: 0\n",
      "Negative samples (will be sampled to select same amount as positive): alpha only: 4499, beta only: 17510, both: 22196, none: 0\n",
      "Nan: train: 40, test: 108\n",
      "No Nan: train: 9, test: 108\n",
      "\n",
      "Evaluating model 1/5\n",
      "{'name': 'KNN (tcrdist approx, no_nan)', 'model': <util.knnstring.KNNString object at 0x00000250728FE1F0>, 'group': 'knn', 'extract_features': False, 'drop_train_na': True}\n",
      "0.8051724137931034\n",
      "0.7165517241379311\n",
      "0.8455172413793104\n",
      "0.7948275862068965\n",
      "0.8015517241379311\n",
      "\n",
      "Evaluating model 2/5\n",
      "{'name': 'KNN (tcrdist approx, nan_dist=0)', 'model': <util.knnstring.KNNString object at 0x00000250728FE1C0>, 'group': 'knn', 'extract_features': False, 'drop_train_na': False}\n",
      "0.5\n",
      "0.5\n",
      "0.5\n",
      "0.3951724137931034\n",
      "0.5\n",
      "\n",
      "Evaluating model 3/5\n",
      "{'name': 'KNN (tcrdist approx, nan_dist=100)', 'model': <util.knnstring.KNNString object at 0x00000250728FE190>, 'group': 'knn', 'extract_features': False, 'drop_train_na': False}\n",
      "0.5\n",
      "0.5\n",
      "0.5\n",
      "0.3951724137931034\n",
      "0.5\n",
      "\n",
      "Evaluating model 4/5\n",
      "{'name': 'KNN (tcrdist approx, nan_dist=200)', 'model': <util.knnstring.KNNString object at 0x00000250728FE730>, 'group': 'knn', 'extract_features': False, 'drop_train_na': False}\n",
      "0.5\n",
      "0.5\n",
      "0.5\n",
      "0.3951724137931034\n",
      "0.5\n",
      "\n",
      "Evaluating model 5/5\n",
      "{'name': 'KNN (tcrdist approx, nan_dist=400)', 'model': <util.knnstring.KNNString object at 0x00000250728FE460>, 'group': 'knn', 'extract_features': False, 'drop_train_na': False}\n",
      "0.5\n",
      "0.5\n",
      "0.5\n",
      "0.3951724137931034\n",
      "0.5\n",
      "Baseline Random Forest (NaNs dropped in train) not found in scores, using KNN (tcrdist approx, no_nan) instead\n",
      "Baseline Random Forest (NaNs dropped in train) not found in scores, using KNN (tcrdist approx, no_nan) instead\n",
      "Finished evaluating 5 models at 20230614-233135 in 0:00:48.693575 seconds\n",
      "['outputs/model-evaluations-20230614-233047-GILGFVFTL-50-imputation-constant-numbers/scores-20230614-233135.csv']\n"
     ]
    },
    {
     "data": {
      "text/plain": "<Figure size 432x288 with 0 Axes>"
     },
     "metadata": {},
     "output_type": "display_data"
    }
   ],
   "source": [
    "print(list([m['name'] for m in models_to_evaluate]))\n",
    "outputs = []\n",
    "\n",
    "# dataset_size = [1000]\n",
    "# dataset_size = [50, 100, 200, 500, 1000, 2000, 5000, None]\n",
    "dataset_size = [50]  # takes too long for larger datasets\n",
    "for dataset_size in dataset_size:\n",
    "    print(f\"### Dataset size: {dataset_size} ###\")\n",
    "    update_data_per_fold(dataset_size)\n",
    "    scores, output_csv = evaluate_model_list(models_to_evaluate)\n",
    "    outputs.append(output_csv)\n",
    "    print(outputs)"
   ],
   "metadata": {
    "collapsed": false
   }
  },
  {
   "cell_type": "code",
   "execution_count": 10,
   "outputs": [
    {
     "name": "stdout",
     "output_type": "stream",
     "text": [
      "['KNN (levenstein, no_nan)', 'KNN (levenstein, nan_dist=0)', 'KNN (levenstein, nan_dist=2)', 'KNN (levenstein, nan_dist=7)', 'KNN (levenstein, nan_dist=12)']\n",
      "### Dataset size: 50 ###\n"
     ]
    },
    {
     "name": "stderr",
     "output_type": "stream",
     "text": [
      "C:\\Users\\arnod\\PycharmProjects\\thesis\\util\\epitopes.py:6: DtypeWarning: Columns (20,29,30) have mixed types. Specify dtype option on import or set low_memory=False.\n",
      "  df_vdjdb = pd.read_csv('data/vdjdb-2022-03-30/vdjdb_full.txt', sep='\\t')\n"
     ]
    },
    {
     "name": "stdout",
     "output_type": "stream",
     "text": [
      "Number of negative samples changed from 47033 to 44205 (because of overlap with positive samples)\n",
      "Positive samples: alpha only: 2580, beta only: 3056, both: 2194, none: 0\n",
      "Negative samples (will be sampled to select same amount as positive): alpha only: 4499, beta only: 17510, both: 22196, none: 0\n",
      "Nan: train: 40, test: 108\n",
      "No Nan: train: 9, test: 108\n",
      "\n",
      "Evaluating model 1/5\n",
      "{'name': 'KNN (levenstein, no_nan)', 'model': <util.knnstring.KNNString object at 0x0000028CCEAFB100>, 'group': 'knn', 'extract_features': False, 'drop_train_na': True}\n",
      "0.7931034482758621\n",
      "0.5325862068965517\n",
      "0.7941379310344828\n",
      "0.6424137931034481\n",
      "0.7591379310344827\n",
      "\n",
      "Evaluating model 2/5\n",
      "{'name': 'KNN (levenstein, nan_dist=0)', 'model': <util.knnstring.KNNString object at 0x0000028CCEAFB670>, 'group': 'knn', 'extract_features': False, 'drop_train_na': False}\n",
      "0.7227586206896551\n",
      "0.809655172413793\n",
      "0.8367241379310346\n",
      "0.8393103448275863\n",
      "0.6974137931034481\n",
      "\n",
      "Evaluating model 3/5\n",
      "{'name': 'KNN (levenstein, nan_dist=2)', 'model': <util.knnstring.KNNString object at 0x0000028CCEAFB610>, 'group': 'knn', 'extract_features': False, 'drop_train_na': False}\n",
      "0.8177586206896551\n",
      "0.8567241379310344\n",
      "0.8874137931034484\n",
      "0.891551724137931\n",
      "0.7787931034482758\n",
      "\n",
      "Evaluating model 4/5\n",
      "{'name': 'KNN (levenstein, nan_dist=7)', 'model': <util.knnstring.KNNString object at 0x0000028CCEAFB490>, 'group': 'knn', 'extract_features': False, 'drop_train_na': False}\n",
      "0.8051724137931034\n",
      "0.8043103448275861\n",
      "0.7617241379310344\n",
      "0.7620689655172413\n",
      "0.7943103448275862\n",
      "\n",
      "Evaluating model 5/5\n",
      "{'name': 'KNN (levenstein, nan_dist=12)', 'model': <util.knnstring.KNNString object at 0x0000028CCEAFB4F0>, 'group': 'knn', 'extract_features': False, 'drop_train_na': False}\n",
      "0.7882758620689655\n",
      "0.539655172413793\n",
      "0.7696551724137931\n",
      "0.6279310344827587\n",
      "0.716551724137931\n",
      "Baseline Random Forest (NaNs dropped in train) not found in scores, using KNN (levenstein, no_nan) instead\n",
      "Baseline Random Forest (NaNs dropped in train) not found in scores, using KNN (levenstein, no_nan) instead\n",
      "Finished evaluating 5 models at 20230615-014340 in 0:00:23.818908 seconds\n",
      "['outputs/model-evaluations-20230615-014316-GILGFVFTL-50-imputation-constant-numbers/scores-20230615-014340.csv']\n",
      "### Dataset size: 100 ###\n"
     ]
    },
    {
     "name": "stderr",
     "output_type": "stream",
     "text": [
      "C:\\Users\\arnod\\PycharmProjects\\thesis\\util\\epitopes.py:6: DtypeWarning: Columns (20,29,30) have mixed types. Specify dtype option on import or set low_memory=False.\n",
      "  df_vdjdb = pd.read_csv('data/vdjdb-2022-03-30/vdjdb_full.txt', sep='\\t')\n"
     ]
    },
    {
     "name": "stdout",
     "output_type": "stream",
     "text": [
      "Number of negative samples changed from 47033 to 44205 (because of overlap with positive samples)\n",
      "Positive samples: alpha only: 2580, beta only: 3056, both: 2194, none: 0\n",
      "Negative samples (will be sampled to select same amount as positive): alpha only: 4499, beta only: 17510, both: 22196, none: 0\n",
      "Nan: train: 80, test: 108\n",
      "No Nan: train: 18, test: 108\n",
      "\n",
      "Evaluating model 1/5\n",
      "{'name': 'KNN (levenstein, no_nan)', 'model': <util.knnstring.KNNString object at 0x0000028CCEAFB100>, 'group': 'knn', 'extract_features': False, 'drop_train_na': True}\n",
      "0.8675862068965519\n",
      "0.8232758620689654\n",
      "0.8172413793103449\n",
      "0.756896551724138\n",
      "0.8027586206896552\n",
      "\n",
      "Evaluating model 2/5\n",
      "{'name': 'KNN (levenstein, nan_dist=0)', 'model': <util.knnstring.KNNString object at 0x0000028CCEAFB670>, 'group': 'knn', 'extract_features': False, 'drop_train_na': False}\n",
      "0.913448275862069\n",
      "0.9027586206896552\n",
      "0.9124137931034483\n",
      "0.9324137931034482\n",
      "0.9291379310344827\n",
      "\n",
      "Evaluating model 3/5\n",
      "{'name': 'KNN (levenstein, nan_dist=2)', 'model': <util.knnstring.KNNString object at 0x0000028CCEAFB610>, 'group': 'knn', 'extract_features': False, 'drop_train_na': False}\n",
      "0.9237931034482758\n",
      "0.9058620689655172\n",
      "0.9093103448275862\n",
      "0.9294827586206897\n",
      "0.9403448275862069\n",
      "\n",
      "Evaluating model 4/5\n",
      "{'name': 'KNN (levenstein, nan_dist=7)', 'model': <util.knnstring.KNNString object at 0x0000028CCEAFB490>, 'group': 'knn', 'extract_features': False, 'drop_train_na': False}\n",
      "0.8703448275862069\n",
      "0.8603448275862069\n",
      "0.8289655172413792\n",
      "0.7663793103448275\n",
      "0.8227586206896552\n",
      "\n",
      "Evaluating model 5/5\n",
      "{'name': 'KNN (levenstein, nan_dist=12)', 'model': <util.knnstring.KNNString object at 0x0000028CCEAFB4F0>, 'group': 'knn', 'extract_features': False, 'drop_train_na': False}\n",
      "0.8627586206896551\n",
      "0.849655172413793\n",
      "0.8139655172413793\n",
      "0.7167241379310345\n",
      "0.8099999999999999\n",
      "Baseline Random Forest (NaNs dropped in train) not found in scores, using KNN (levenstein, no_nan) instead\n",
      "Baseline Random Forest (NaNs dropped in train) not found in scores, using KNN (levenstein, no_nan) instead\n",
      "Finished evaluating 5 models at 20230615-014436 in 0:00:52.034832 seconds\n",
      "['outputs/model-evaluations-20230615-014316-GILGFVFTL-50-imputation-constant-numbers/scores-20230615-014340.csv', 'outputs/model-evaluations-20230615-014344-GILGFVFTL-100-imputation-constant-numbers/scores-20230615-014436.csv']\n",
      "### Dataset size: 200 ###\n"
     ]
    },
    {
     "name": "stderr",
     "output_type": "stream",
     "text": [
      "C:\\Users\\arnod\\PycharmProjects\\thesis\\util\\epitopes.py:6: DtypeWarning: Columns (20,29,30) have mixed types. Specify dtype option on import or set low_memory=False.\n",
      "  df_vdjdb = pd.read_csv('data/vdjdb-2022-03-30/vdjdb_full.txt', sep='\\t')\n"
     ]
    },
    {
     "name": "stdout",
     "output_type": "stream",
     "text": [
      "Number of negative samples changed from 47033 to 44205 (because of overlap with positive samples)\n",
      "Positive samples: alpha only: 2580, beta only: 3056, both: 2194, none: 0\n",
      "Negative samples (will be sampled to select same amount as positive): alpha only: 4499, beta only: 17510, both: 22196, none: 0\n",
      "Nan: train: 160, test: 108\n",
      "No Nan: train: 40, test: 108\n",
      "\n",
      "Evaluating model 1/5\n",
      "{'name': 'KNN (levenstein, no_nan)', 'model': <util.knnstring.KNNString object at 0x0000028CCEAFB100>, 'group': 'knn', 'extract_features': False, 'drop_train_na': True}\n",
      "0.9125862068965517\n",
      "0.8977586206896552\n",
      "0.9012068965517241\n",
      "0.8956896551724137\n",
      "0.9065517241379311\n",
      "\n",
      "Evaluating model 2/5\n",
      "{'name': 'KNN (levenstein, nan_dist=0)', 'model': <util.knnstring.KNNString object at 0x0000028CCEAFB670>, 'group': 'knn', 'extract_features': False, 'drop_train_na': False}\n",
      "0.9172413793103449\n",
      "0.8991379310344828\n",
      "0.9206896551724139\n",
      "0.9077586206896552\n",
      "0.9298275862068965\n",
      "\n",
      "Evaluating model 3/5\n",
      "{'name': 'KNN (levenstein, nan_dist=2)', 'model': <util.knnstring.KNNString object at 0x0000028CCEAFB610>, 'group': 'knn', 'extract_features': False, 'drop_train_na': False}\n",
      "0.9236206896551723\n",
      "0.9203448275862068\n",
      "0.9332758620689655\n",
      "0.9012068965517241\n",
      "0.9593103448275861\n",
      "\n",
      "Evaluating model 4/5\n",
      "{'name': 'KNN (levenstein, nan_dist=7)', 'model': <util.knnstring.KNNString object at 0x0000028CCEAFB490>, 'group': 'knn', 'extract_features': False, 'drop_train_na': False}\n",
      "0.9034482758620689\n",
      "0.9013793103448277\n",
      "0.8993103448275862\n",
      "0.8944827586206897\n",
      "0.8620689655172413\n",
      "\n",
      "Evaluating model 5/5\n",
      "{'name': 'KNN (levenstein, nan_dist=12)', 'model': <util.knnstring.KNNString object at 0x0000028CCEAFB4F0>, 'group': 'knn', 'extract_features': False, 'drop_train_na': False}\n",
      "0.9184482758620689\n",
      "0.9039655172413793\n",
      "0.8972413793103448\n",
      "0.8770689655172413\n",
      "0.8755172413793103\n",
      "Baseline Random Forest (NaNs dropped in train) not found in scores, using KNN (levenstein, no_nan) instead\n",
      "Baseline Random Forest (NaNs dropped in train) not found in scores, using KNN (levenstein, no_nan) instead\n",
      "Finished evaluating 5 models at 20230615-014625 in 0:01:45.299416 seconds\n",
      "['outputs/model-evaluations-20230615-014316-GILGFVFTL-50-imputation-constant-numbers/scores-20230615-014340.csv', 'outputs/model-evaluations-20230615-014344-GILGFVFTL-100-imputation-constant-numbers/scores-20230615-014436.csv', 'outputs/model-evaluations-20230615-014440-GILGFVFTL-200-imputation-constant-numbers/scores-20230615-014625.csv']\n",
      "### Dataset size: 500 ###\n"
     ]
    },
    {
     "name": "stderr",
     "output_type": "stream",
     "text": [
      "C:\\Users\\arnod\\PycharmProjects\\thesis\\util\\epitopes.py:6: DtypeWarning: Columns (20,29,30) have mixed types. Specify dtype option on import or set low_memory=False.\n",
      "  df_vdjdb = pd.read_csv('data/vdjdb-2022-03-30/vdjdb_full.txt', sep='\\t')\n"
     ]
    },
    {
     "name": "stdout",
     "output_type": "stream",
     "text": [
      "Number of negative samples changed from 47033 to 44205 (because of overlap with positive samples)\n",
      "Positive samples: alpha only: 2580, beta only: 3056, both: 2194, none: 0\n",
      "Negative samples (will be sampled to select same amount as positive): alpha only: 4499, beta only: 17510, both: 22196, none: 0\n",
      "Nan: train: 400, test: 108\n",
      "No Nan: train: 100, test: 108\n",
      "\n",
      "Evaluating model 1/5\n",
      "{'name': 'KNN (levenstein, no_nan)', 'model': <util.knnstring.KNNString object at 0x0000028CCEAFB100>, 'group': 'knn', 'extract_features': False, 'drop_train_na': True}\n",
      "0.9127586206896552\n",
      "0.9191379310344827\n",
      "0.9241379310344826\n",
      "0.9149999999999999\n",
      "0.9391379310344826\n",
      "\n",
      "Evaluating model 2/5\n",
      "{'name': 'KNN (levenstein, nan_dist=0)', 'model': <util.knnstring.KNNString object at 0x0000028CCEAFB670>, 'group': 'knn', 'extract_features': False, 'drop_train_na': False}\n",
      "0.8863793103448276\n",
      "0.9187931034482759\n",
      "0.924655172413793\n",
      "0.9163793103448276\n",
      "0.896896551724138\n",
      "\n",
      "Evaluating model 3/5\n",
      "{'name': 'KNN (levenstein, nan_dist=2)', 'model': <util.knnstring.KNNString object at 0x0000028CCEAFB610>, 'group': 'knn', 'extract_features': False, 'drop_train_na': False}\n",
      "0.8917241379310343\n",
      "0.9039655172413792\n",
      "0.9086206896551724\n",
      "0.9125862068965517\n",
      "0.8956896551724137\n",
      "\n",
      "Evaluating model 4/5\n",
      "{'name': 'KNN (levenstein, nan_dist=7)', 'model': <util.knnstring.KNNString object at 0x0000028CCEAFB490>, 'group': 'knn', 'extract_features': False, 'drop_train_na': False}\n",
      "0.9181034482758621\n",
      "0.934655172413793\n",
      "0.9218965517241379\n",
      "0.9186206896551724\n",
      "0.9510344827586207\n",
      "\n",
      "Evaluating model 5/5\n",
      "{'name': 'KNN (levenstein, nan_dist=12)', 'model': <util.knnstring.KNNString object at 0x0000028CCEAFB4F0>, 'group': 'knn', 'extract_features': False, 'drop_train_na': False}\n",
      "0.9249999999999998\n",
      "0.9279310344827586\n",
      "0.9175862068965517\n",
      "0.9182758620689654\n",
      "0.9379310344827586\n",
      "Baseline Random Forest (NaNs dropped in train) not found in scores, using KNN (levenstein, no_nan) instead\n",
      "Baseline Random Forest (NaNs dropped in train) not found in scores, using KNN (levenstein, no_nan) instead\n",
      "Finished evaluating 5 models at 20230615-015043 in 0:04:11.914229 seconds\n",
      "['outputs/model-evaluations-20230615-014316-GILGFVFTL-50-imputation-constant-numbers/scores-20230615-014340.csv', 'outputs/model-evaluations-20230615-014344-GILGFVFTL-100-imputation-constant-numbers/scores-20230615-014436.csv', 'outputs/model-evaluations-20230615-014440-GILGFVFTL-200-imputation-constant-numbers/scores-20230615-014625.csv', 'outputs/model-evaluations-20230615-014631-GILGFVFTL-500-imputation-constant-numbers/scores-20230615-015043.csv']\n",
      "### Dataset size: 1000 ###\n"
     ]
    },
    {
     "name": "stderr",
     "output_type": "stream",
     "text": [
      "C:\\Users\\arnod\\PycharmProjects\\thesis\\util\\epitopes.py:6: DtypeWarning: Columns (20,29,30) have mixed types. Specify dtype option on import or set low_memory=False.\n",
      "  df_vdjdb = pd.read_csv('data/vdjdb-2022-03-30/vdjdb_full.txt', sep='\\t')\n"
     ]
    },
    {
     "name": "stdout",
     "output_type": "stream",
     "text": [
      "Number of negative samples changed from 47033 to 44205 (because of overlap with positive samples)\n",
      "Positive samples: alpha only: 2580, beta only: 3056, both: 2194, none: 0\n",
      "Negative samples (will be sampled to select same amount as positive): alpha only: 4499, beta only: 17510, both: 22196, none: 0\n",
      "Nan: train: 800, test: 108\n",
      "No Nan: train: 192, test: 108\n",
      "\n",
      "Evaluating model 1/5\n",
      "{'name': 'KNN (levenstein, no_nan)', 'model': <util.knnstring.KNNString object at 0x0000028CCEAFB100>, 'group': 'knn', 'extract_features': False, 'drop_train_na': True}\n",
      "0.9079310344827586\n",
      "0.906896551724138\n",
      "0.9010344827586206\n",
      "0.9070689655172414\n",
      "0.8913793103448275\n",
      "\n",
      "Evaluating model 2/5\n",
      "{'name': 'KNN (levenstein, nan_dist=0)', 'model': <util.knnstring.KNNString object at 0x0000028CCEAFB670>, 'group': 'knn', 'extract_features': False, 'drop_train_na': False}\n",
      "0.9074137931034483\n",
      "0.9424137931034482\n",
      "0.9070689655172414\n",
      "0.8843103448275862\n",
      "0.8958620689655172\n",
      "\n",
      "Evaluating model 3/5\n",
      "{'name': 'KNN (levenstein, nan_dist=2)', 'model': <util.knnstring.KNNString object at 0x0000028CCEAFB610>, 'group': 'knn', 'extract_features': False, 'drop_train_na': False}\n",
      "0.8789655172413793\n",
      "0.9162068965517242\n",
      "0.8941379310344828\n",
      "0.9041379310344828\n",
      "0.8913793103448276\n",
      "\n",
      "Evaluating model 4/5\n",
      "{'name': 'KNN (levenstein, nan_dist=7)', 'model': <util.knnstring.KNNString object at 0x0000028CCEAFB490>, 'group': 'knn', 'extract_features': False, 'drop_train_na': False}\n",
      "0.9037931034482758\n",
      "0.9093103448275862\n",
      "0.8986206896551724\n",
      "0.8999999999999999\n",
      "0.9001724137931033\n",
      "\n",
      "Evaluating model 5/5\n",
      "{'name': 'KNN (levenstein, nan_dist=12)', 'model': <util.knnstring.KNNString object at 0x0000028CCEAFB4F0>, 'group': 'knn', 'extract_features': False, 'drop_train_na': False}\n",
      "0.8955172413793103\n",
      "0.9077586206896551\n",
      "0.9051724137931034\n",
      "0.8991379310344827\n",
      "0.8991379310344828\n",
      "Baseline Random Forest (NaNs dropped in train) not found in scores, using KNN (levenstein, no_nan) instead\n",
      "Baseline Random Forest (NaNs dropped in train) not found in scores, using KNN (levenstein, no_nan) instead\n",
      "Finished evaluating 5 models at 20230615-015907 in 0:08:16.615350 seconds\n",
      "['outputs/model-evaluations-20230615-014316-GILGFVFTL-50-imputation-constant-numbers/scores-20230615-014340.csv', 'outputs/model-evaluations-20230615-014344-GILGFVFTL-100-imputation-constant-numbers/scores-20230615-014436.csv', 'outputs/model-evaluations-20230615-014440-GILGFVFTL-200-imputation-constant-numbers/scores-20230615-014625.csv', 'outputs/model-evaluations-20230615-014631-GILGFVFTL-500-imputation-constant-numbers/scores-20230615-015043.csv', 'outputs/model-evaluations-20230615-015050-GILGFVFTL-1000-imputation-constant-numbers/scores-20230615-015907.csv']\n",
      "### Dataset size: 2000 ###\n"
     ]
    },
    {
     "name": "stderr",
     "output_type": "stream",
     "text": [
      "C:\\Users\\arnod\\PycharmProjects\\thesis\\util\\epitopes.py:6: DtypeWarning: Columns (20,29,30) have mixed types. Specify dtype option on import or set low_memory=False.\n",
      "  df_vdjdb = pd.read_csv('data/vdjdb-2022-03-30/vdjdb_full.txt', sep='\\t')\n"
     ]
    },
    {
     "name": "stdout",
     "output_type": "stream",
     "text": [
      "Number of negative samples changed from 47033 to 44205 (because of overlap with positive samples)\n",
      "Positive samples: alpha only: 2580, beta only: 3056, both: 2194, none: 0\n",
      "Negative samples (will be sampled to select same amount as positive): alpha only: 4499, beta only: 17510, both: 22196, none: 0\n",
      "Nan: train: 1600, test: 108\n",
      "No Nan: train: 432, test: 108\n",
      "\n",
      "Evaluating model 1/5\n",
      "{'name': 'KNN (levenstein, no_nan)', 'model': <util.knnstring.KNNString object at 0x0000028CCEAFB100>, 'group': 'knn', 'extract_features': False, 'drop_train_na': True}\n",
      "0.9094827586206896\n",
      "0.9098275862068964\n",
      "0.9167241379310345\n",
      "0.9267241379310345\n",
      "0.9103448275862068\n",
      "\n",
      "Evaluating model 2/5\n",
      "{'name': 'KNN (levenstein, nan_dist=0)', 'model': <util.knnstring.KNNString object at 0x0000028CCEAFB670>, 'group': 'knn', 'extract_features': False, 'drop_train_na': False}\n",
      "0.9167241379310345\n",
      "0.9041379310344827\n",
      "0.9317241379310344\n",
      "0.8718965517241379\n",
      "0.8929310344827586\n",
      "\n",
      "Evaluating model 3/5\n",
      "{'name': 'KNN (levenstein, nan_dist=2)', 'model': <util.knnstring.KNNString object at 0x0000028CCEAFB610>, 'group': 'knn', 'extract_features': False, 'drop_train_na': False}\n",
      "0.9134482758620689\n",
      "0.9055172413793103\n",
      "0.9072413793103449\n",
      "0.8844827586206896\n",
      "0.9260344827586208\n",
      "\n",
      "Evaluating model 4/5\n",
      "{'name': 'KNN (levenstein, nan_dist=7)', 'model': <util.knnstring.KNNString object at 0x0000028CCEAFB490>, 'group': 'knn', 'extract_features': False, 'drop_train_na': False}\n",
      "0.9199999999999999\n",
      "0.9072413793103448\n",
      "0.903448275862069\n",
      "0.9120689655172414\n",
      "0.9203448275862068\n",
      "\n",
      "Evaluating model 5/5\n",
      "{'name': 'KNN (levenstein, nan_dist=12)', 'model': <util.knnstring.KNNString object at 0x0000028CCEAFB4F0>, 'group': 'knn', 'extract_features': False, 'drop_train_na': False}\n",
      "0.911551724137931\n",
      "0.9289655172413793\n",
      "0.9239655172413793\n",
      "0.921551724137931\n",
      "0.9158620689655173\n",
      "Baseline Random Forest (NaNs dropped in train) not found in scores, using KNN (levenstein, no_nan) instead\n",
      "Baseline Random Forest (NaNs dropped in train) not found in scores, using KNN (levenstein, no_nan) instead\n",
      "Finished evaluating 5 models at 20230615-021733 in 0:18:14.491001 seconds\n",
      "['outputs/model-evaluations-20230615-014316-GILGFVFTL-50-imputation-constant-numbers/scores-20230615-014340.csv', 'outputs/model-evaluations-20230615-014344-GILGFVFTL-100-imputation-constant-numbers/scores-20230615-014436.csv', 'outputs/model-evaluations-20230615-014440-GILGFVFTL-200-imputation-constant-numbers/scores-20230615-014625.csv', 'outputs/model-evaluations-20230615-014631-GILGFVFTL-500-imputation-constant-numbers/scores-20230615-015043.csv', 'outputs/model-evaluations-20230615-015050-GILGFVFTL-1000-imputation-constant-numbers/scores-20230615-015907.csv', 'outputs/model-evaluations-20230615-015918-GILGFVFTL-2000-imputation-constant-numbers/scores-20230615-021733.csv']\n"
     ]
    },
    {
     "data": {
      "text/plain": "<Figure size 432x288 with 1 Axes>",
      "image/png": "[encoded data removed]"
     },
     "metadata": {
      "needs_background": "light"
     },
     "output_type": "display_data"
    },
    {
     "name": "stdout",
     "output_type": "stream",
     "text": [
      "Baseline Random Forest (NaNs dropped in train) not found in scores, using KNN (levenstein, no_nan) instead\n"
     ]
    },
    {
     "data": {
      "text/plain": "<Figure size 432x288 with 1 Axes>",
      "image/png": "[encoded data removed]"
     },
     "metadata": {
      "needs_background": "light"
     },
     "output_type": "display_data"
    }
   ],
   "source": [
    "# levenstein distance (typically 0-14)\n",
    "\n",
    "models_to_evaluate = [\n",
    "\n",
    "    {'name': 'KNN (levenstein, no_nan)',\n",
    "     'model': KNNString(metric=multi_lev, k=5),\n",
    "     'group': 'knn',\n",
    "     'extract_features': False,\n",
    "     'drop_train_na': True},\n",
    "\n",
    "    {'name': 'KNN (levenstein, nan_dist=0)',\n",
    "     'model': KNNString(metric=multi_lev, k=5, metric_kwargs={'nan_distance': 0}),\n",
    "     'group': 'knn',\n",
    "     'extract_features': False,\n",
    "     'drop_train_na': False},\n",
    "\n",
    "    {'name': 'KNN (levenstein, nan_dist=2)',\n",
    "     'model': KNNString(metric=multi_lev, k=5, metric_kwargs={'nan_distance': 2}),\n",
    "     'group': 'knn',\n",
    "     'extract_features': False,\n",
    "     'drop_train_na': False},\n",
    "\n",
    "    {'name': 'KNN (levenstein, nan_dist=7)',\n",
    "     'model': KNNString(metric=multi_lev, k=5, metric_kwargs={'nan_distance': 7}),\n",
    "     'group': 'knn',\n",
    "     'extract_features': False,\n",
    "     'drop_train_na': False},\n",
    "\n",
    "    {'name': 'KNN (levenstein, nan_dist=12)',\n",
    "     'model': KNNString(metric=multi_lev, k=5, metric_kwargs={'nan_distance': 12}),\n",
    "     'group': 'knn',\n",
    "     'extract_features': False,\n",
    "     'drop_train_na': False},\n",
    "]\n",
    "\n",
    "print(list([m['name'] for m in models_to_evaluate]))\n",
    "outputs = []\n",
    "\n",
    "dataset_size = [50, 100, 200, 500, 1000, 2000]\n",
    "for dataset_size in dataset_size:\n",
    "    print(f\"### Dataset size: {dataset_size} ###\")\n",
    "    update_data_per_fold(dataset_size)\n",
    "    scores, output_csv = evaluate_model_list(models_to_evaluate)\n",
    "    outputs.append(output_csv)\n",
    "    print(outputs)\n",
    "\n",
    "title = \"KNN with levenshtein distance for different nan distances\"\n",
    "output = \"graphs/GILGFVFTL-knn-lev-nan-distances.png\"\n",
    "composed_df = compose_all(outputs, 'knn_lev')\n",
    "plot_scores(composed_df, title, wrap=True, x=\"df_size\", hue=\"model\", xlabel=\"Dataset size\", ylabel=\"AUC\",\n",
    "            output_file=output,\n",
    "            plot=True)"
   ],
   "metadata": {
    "collapsed": false
   }
  },
  {
   "cell_type": "code",
   "execution_count": 11,
   "outputs": [
    {
     "name": "stdout",
     "output_type": "stream",
     "text": [
      "['ProximityForest (levenstein, no_nan)', 'ProximityForest (levenstein, nan_dist=7)']\n",
      "### Dataset size: 50 ###\n"
     ]
    },
    {
     "name": "stderr",
     "output_type": "stream",
     "text": [
      "C:\\Users\\arnod\\PycharmProjects\\thesis\\util\\epitopes.py:6: DtypeWarning: Columns (20,29,30) have mixed types. Specify dtype option on import or set low_memory=False.\n",
      "  df_vdjdb = pd.read_csv('data/vdjdb-2022-03-30/vdjdb_full.txt', sep='\\t')\n"
     ]
    },
    {
     "name": "stdout",
     "output_type": "stream",
     "text": [
      "Number of negative samples changed from 47033 to 44205 (because of overlap with positive samples)\n",
      "Positive samples: alpha only: 2580, beta only: 3056, both: 2194, none: 0\n",
      "Negative samples (will be sampled to select same amount as positive): alpha only: 4499, beta only: 17510, both: 22196, none: 0\n",
      "Nan: train: 40, test: 108\n",
      "No Nan: train: 9, test: 108\n",
      "\n",
      "Evaluating model 1/2\n",
      "{'name': 'ProximityForest (levenstein, no_nan)', 'model': <util.knnstring.KNNString object at 0x0000028CCD5AD430>, 'group': 'knn', 'extract_features': False, 'drop_train_na': True}\n",
      "0.7931034482758621\n",
      "0.5325862068965517\n",
      "0.7941379310344828\n",
      "0.6424137931034481\n",
      "0.7591379310344827\n",
      "\n",
      "Evaluating model 2/2\n",
      "{'name': 'ProximityForest (levenstein, nan_dist=7)', 'model': <util.knnstring.KNNString object at 0x0000028CCCD95970>, 'group': 'knn', 'extract_features': False, 'drop_train_na': False}\n",
      "0.8051724137931034\n",
      "0.8043103448275861\n",
      "0.7617241379310344\n",
      "0.7620689655172413\n",
      "0.7943103448275862\n",
      "Baseline Random Forest (NaNs dropped in train) not found in scores, using ProximityForest (levenstein, no_nan) instead\n",
      "Baseline Random Forest (NaNs dropped in train) not found in scores, using ProximityForest (levenstein, no_nan) instead\n",
      "Finished evaluating 2 models at 20230615-021745 in 0:00:07.509001 seconds\n",
      "['outputs/model-evaluations-20230615-021737-GILGFVFTL-50-imputation-constant-numbers/scores-20230615-021745.csv']\n",
      "### Dataset size: 100 ###\n"
     ]
    },
    {
     "name": "stderr",
     "output_type": "stream",
     "text": [
      "C:\\Users\\arnod\\PycharmProjects\\thesis\\util\\epitopes.py:6: DtypeWarning: Columns (20,29,30) have mixed types. Specify dtype option on import or set low_memory=False.\n",
      "  df_vdjdb = pd.read_csv('data/vdjdb-2022-03-30/vdjdb_full.txt', sep='\\t')\n"
     ]
    },
    {
     "name": "stdout",
     "output_type": "stream",
     "text": [
      "Number of negative samples changed from 47033 to 44205 (because of overlap with positive samples)\n",
      "Positive samples: alpha only: 2580, beta only: 3056, both: 2194, none: 0\n",
      "Negative samples (will be sampled to select same amount as positive): alpha only: 4499, beta only: 17510, both: 22196, none: 0\n",
      "Nan: train: 80, test: 108\n",
      "No Nan: train: 18, test: 108\n",
      "\n",
      "Evaluating model 1/2\n",
      "{'name': 'ProximityForest (levenstein, no_nan)', 'model': <util.knnstring.KNNString object at 0x0000028CCD5AD430>, 'group': 'knn', 'extract_features': False, 'drop_train_na': True}\n",
      "0.8675862068965519\n",
      "0.8232758620689654\n",
      "0.8172413793103449\n",
      "0.756896551724138\n",
      "0.8027586206896552\n",
      "\n",
      "Evaluating model 2/2\n",
      "{'name': 'ProximityForest (levenstein, nan_dist=7)', 'model': <util.knnstring.KNNString object at 0x0000028CCCD95970>, 'group': 'knn', 'extract_features': False, 'drop_train_na': False}\n",
      "0.8703448275862069\n",
      "0.8603448275862069\n",
      "0.8289655172413792\n",
      "0.7663793103448275\n",
      "0.8227586206896552\n",
      "Baseline Random Forest (NaNs dropped in train) not found in scores, using ProximityForest (levenstein, no_nan) instead\n",
      "Baseline Random Forest (NaNs dropped in train) not found in scores, using ProximityForest (levenstein, no_nan) instead\n",
      "Finished evaluating 2 models at 20230615-021804 in 0:00:15.787972 seconds\n",
      "['outputs/model-evaluations-20230615-021737-GILGFVFTL-50-imputation-constant-numbers/scores-20230615-021745.csv', 'outputs/model-evaluations-20230615-021749-GILGFVFTL-100-imputation-constant-numbers/scores-20230615-021804.csv']\n",
      "### Dataset size: 200 ###\n"
     ]
    },
    {
     "name": "stderr",
     "output_type": "stream",
     "text": [
      "C:\\Users\\arnod\\PycharmProjects\\thesis\\util\\epitopes.py:6: DtypeWarning: Columns (20,29,30) have mixed types. Specify dtype option on import or set low_memory=False.\n",
      "  df_vdjdb = pd.read_csv('data/vdjdb-2022-03-30/vdjdb_full.txt', sep='\\t')\n"
     ]
    },
    {
     "name": "stdout",
     "output_type": "stream",
     "text": [
      "Number of negative samples changed from 47033 to 44205 (because of overlap with positive samples)\n",
      "Positive samples: alpha only: 2580, beta only: 3056, both: 2194, none: 0\n",
      "Negative samples (will be sampled to select same amount as positive): alpha only: 4499, beta only: 17510, both: 22196, none: 0\n",
      "Nan: train: 160, test: 108\n",
      "No Nan: train: 40, test: 108\n",
      "\n",
      "Evaluating model 1/2\n",
      "{'name': 'ProximityForest (levenstein, no_nan)', 'model': <util.knnstring.KNNString object at 0x0000028CCD5AD430>, 'group': 'knn', 'extract_features': False, 'drop_train_na': True}\n",
      "0.9125862068965517\n",
      "0.8977586206896552\n",
      "0.9012068965517241\n",
      "0.8956896551724137\n",
      "0.9065517241379311\n",
      "\n",
      "Evaluating model 2/2\n",
      "{'name': 'ProximityForest (levenstein, nan_dist=7)', 'model': <util.knnstring.KNNString object at 0x0000028CCCD95970>, 'group': 'knn', 'extract_features': False, 'drop_train_na': False}\n",
      "0.9034482758620689\n",
      "0.9013793103448277\n",
      "0.8993103448275862\n",
      "0.8944827586206897\n",
      "0.8620689655172413\n",
      "Baseline Random Forest (NaNs dropped in train) not found in scores, using ProximityForest (levenstein, no_nan) instead\n",
      "Baseline Random Forest (NaNs dropped in train) not found in scores, using ProximityForest (levenstein, no_nan) instead\n",
      "Finished evaluating 2 models at 20230615-021842 in 0:00:32.984033 seconds\n",
      "['outputs/model-evaluations-20230615-021737-GILGFVFTL-50-imputation-constant-numbers/scores-20230615-021745.csv', 'outputs/model-evaluations-20230615-021749-GILGFVFTL-100-imputation-constant-numbers/scores-20230615-021804.csv', 'outputs/model-evaluations-20230615-021809-GILGFVFTL-200-imputation-constant-numbers/scores-20230615-021842.csv']\n",
      "### Dataset size: 500 ###\n"
     ]
    },
    {
     "name": "stderr",
     "output_type": "stream",
     "text": [
      "C:\\Users\\arnod\\PycharmProjects\\thesis\\util\\epitopes.py:6: DtypeWarning: Columns (20,29,30) have mixed types. Specify dtype option on import or set low_memory=False.\n",
      "  df_vdjdb = pd.read_csv('data/vdjdb-2022-03-30/vdjdb_full.txt', sep='\\t')\n"
     ]
    },
    {
     "name": "stdout",
     "output_type": "stream",
     "text": [
      "Number of negative samples changed from 47033 to 44205 (because of overlap with positive samples)\n",
      "Positive samples: alpha only: 2580, beta only: 3056, both: 2194, none: 0\n",
      "Negative samples (will be sampled to select same amount as positive): alpha only: 4499, beta only: 17510, both: 22196, none: 0\n",
      "Nan: train: 400, test: 108\n",
      "No Nan: train: 100, test: 108\n",
      "\n",
      "Evaluating model 1/2\n",
      "{'name': 'ProximityForest (levenstein, no_nan)', 'model': <util.knnstring.KNNString object at 0x0000028CCD5AD430>, 'group': 'knn', 'extract_features': False, 'drop_train_na': True}\n",
      "0.9127586206896552\n",
      "0.9191379310344827\n",
      "0.9241379310344826\n",
      "0.9149999999999999\n",
      "0.9391379310344826\n",
      "\n",
      "Evaluating model 2/2\n",
      "{'name': 'ProximityForest (levenstein, nan_dist=7)', 'model': <util.knnstring.KNNString object at 0x0000028CCCD95970>, 'group': 'knn', 'extract_features': False, 'drop_train_na': False}\n",
      "0.9181034482758621\n",
      "0.934655172413793\n",
      "0.9218965517241379\n",
      "0.9186206896551724\n",
      "0.9510344827586207\n",
      "Baseline Random Forest (NaNs dropped in train) not found in scores, using ProximityForest (levenstein, no_nan) instead\n",
      "Baseline Random Forest (NaNs dropped in train) not found in scores, using ProximityForest (levenstein, no_nan) instead\n",
      "Finished evaluating 2 models at 20230615-022008 in 0:01:20.845189 seconds\n",
      "['outputs/model-evaluations-20230615-021737-GILGFVFTL-50-imputation-constant-numbers/scores-20230615-021745.csv', 'outputs/model-evaluations-20230615-021749-GILGFVFTL-100-imputation-constant-numbers/scores-20230615-021804.csv', 'outputs/model-evaluations-20230615-021809-GILGFVFTL-200-imputation-constant-numbers/scores-20230615-021842.csv', 'outputs/model-evaluations-20230615-021847-GILGFVFTL-500-imputation-constant-numbers/scores-20230615-022008.csv']\n",
      "### Dataset size: 1000 ###\n"
     ]
    },
    {
     "name": "stderr",
     "output_type": "stream",
     "text": [
      "C:\\Users\\arnod\\PycharmProjects\\thesis\\util\\epitopes.py:6: DtypeWarning: Columns (20,29,30) have mixed types. Specify dtype option on import or set low_memory=False.\n",
      "  df_vdjdb = pd.read_csv('data/vdjdb-2022-03-30/vdjdb_full.txt', sep='\\t')\n"
     ]
    },
    {
     "name": "stdout",
     "output_type": "stream",
     "text": [
      "Number of negative samples changed from 47033 to 44205 (because of overlap with positive samples)\n",
      "Positive samples: alpha only: 2580, beta only: 3056, both: 2194, none: 0\n",
      "Negative samples (will be sampled to select same amount as positive): alpha only: 4499, beta only: 17510, both: 22196, none: 0\n",
      "Nan: train: 800, test: 108\n",
      "No Nan: train: 192, test: 108\n",
      "\n",
      "Evaluating model 1/2\n",
      "{'name': 'ProximityForest (levenstein, no_nan)', 'model': <util.knnstring.KNNString object at 0x0000028CCD5AD430>, 'group': 'knn', 'extract_features': False, 'drop_train_na': True}\n",
      "0.9079310344827586\n",
      "0.906896551724138\n",
      "0.9010344827586206\n",
      "0.9070689655172414\n",
      "0.8913793103448275\n",
      "\n",
      "Evaluating model 2/2\n",
      "{'name': 'ProximityForest (levenstein, nan_dist=7)', 'model': <util.knnstring.KNNString object at 0x0000028CCCD95970>, 'group': 'knn', 'extract_features': False, 'drop_train_na': False}\n",
      "0.9037931034482758\n",
      "0.9093103448275862\n",
      "0.8986206896551724\n",
      "0.8999999999999999\n",
      "0.9001724137931033\n",
      "Baseline Random Forest (NaNs dropped in train) not found in scores, using ProximityForest (levenstein, no_nan) instead\n",
      "Baseline Random Forest (NaNs dropped in train) not found in scores, using ProximityForest (levenstein, no_nan) instead\n",
      "Finished evaluating 2 models at 20230615-022254 in 0:02:38.827967 seconds\n",
      "['outputs/model-evaluations-20230615-021737-GILGFVFTL-50-imputation-constant-numbers/scores-20230615-021745.csv', 'outputs/model-evaluations-20230615-021749-GILGFVFTL-100-imputation-constant-numbers/scores-20230615-021804.csv', 'outputs/model-evaluations-20230615-021809-GILGFVFTL-200-imputation-constant-numbers/scores-20230615-021842.csv', 'outputs/model-evaluations-20230615-021847-GILGFVFTL-500-imputation-constant-numbers/scores-20230615-022008.csv', 'outputs/model-evaluations-20230615-022016-GILGFVFTL-1000-imputation-constant-numbers/scores-20230615-022254.csv']\n"
     ]
    },
    {
     "data": {
      "text/plain": "<Figure size 432x288 with 1 Axes>",
      "image/png": "[encoded data removed]"
     },
     "metadata": {
      "needs_background": "light"
     },
     "output_type": "display_data"
    },
    {
     "name": "stdout",
     "output_type": "stream",
     "text": [
      "Baseline Random Forest (NaNs dropped in train) not found in scores, using ProximityForest (levenstein, no_nan) instead\n"
     ]
    },
    {
     "data": {
      "text/plain": "<Figure size 432x288 with 1 Axes>",
      "image/png": "[encoded data removed]"
     },
     "metadata": {
      "needs_background": "light"
     },
     "output_type": "display_data"
    }
   ],
   "source": [
    "# proximity forest, levenstein distance\n",
    "\n",
    "models_to_evaluate = [\n",
    "\n",
    "    {'name': 'ProximityForest (levenstein, no_nan)',\n",
    "     'model': KNNString(metric=multi_lev, k=5),\n",
    "     'group': 'knn',\n",
    "     'extract_features': False,\n",
    "     'drop_train_na': True},\n",
    "\n",
    "    {'name': 'ProximityForest (levenstein, nan_dist=7)',\n",
    "     'model': KNNString(metric=multi_lev, k=5, metric_kwargs={'nan_distance': 7}),\n",
    "     'group': 'knn',\n",
    "     'extract_features': False,\n",
    "     'drop_train_na': False},\n",
    "\n",
    "]\n",
    "\n",
    "print(list([m['name'] for m in models_to_evaluate]))\n",
    "outputs = []\n",
    "\n",
    "dataset_size = [50, 100, 200, 500, 1000]\n",
    "for dataset_size in dataset_size:\n",
    "    print(f\"### Dataset size: {dataset_size} ###\")\n",
    "    update_data_per_fold(dataset_size)\n",
    "    scores, output_csv = evaluate_model_list(models_to_evaluate)\n",
    "    outputs.append(output_csv)\n",
    "    print(outputs)\n",
    "\n",
    "title = \"ProximityForest with levenshtein distance for different nan distances\"\n",
    "output = \"graphs/GILGFVFTL-knn-lev-nan-distances.png\"\n",
    "composed_df = compose_all(outputs, 'knn_lev')\n",
    "plot_scores(composed_df, title, wrap=True, x=\"df_size\", hue=\"model\", xlabel=\"Dataset size\", ylabel=\"AUC\",\n",
    "            output_file=output,\n",
    "            plot=True)"
   ],
   "metadata": {
    "collapsed": false
   }
  },
  {
   "cell_type": "code",
   "execution_count": 13,
   "outputs": [
    {
     "name": "stdout",
     "output_type": "stream",
     "text": [
      "['ProximityForest (sqrt, lev, nd=7)', 'ProximityForest (half, lev, nd=7)', 'ProximityForest (all, lev, nd=7)']\n",
      "### Dataset size: 50 ###\n"
     ]
    },
    {
     "name": "stderr",
     "output_type": "stream",
     "text": [
      "C:\\Users\\arnod\\PycharmProjects\\thesis\\util\\epitopes.py:6: DtypeWarning: Columns (20,29,30) have mixed types. Specify dtype option on import or set low_memory=False.\n",
      "  df_vdjdb = pd.read_csv('data/vdjdb-2022-03-30/vdjdb_full.txt', sep='\\t')\n"
     ]
    },
    {
     "name": "stdout",
     "output_type": "stream",
     "text": [
      "Number of negative samples changed from 47033 to 44205 (because of overlap with positive samples)\n",
      "Positive samples: alpha only: 2580, beta only: 3056, both: 2194, none: 0\n",
      "Negative samples (will be sampled to select same amount as positive): alpha only: 4499, beta only: 17510, both: 22196, none: 0\n",
      "Nan: train: 40, test: 108\n",
      "No Nan: train: 9, test: 108\n",
      "\n",
      "Evaluating model 1/3\n",
      "{'name': 'ProximityForest (sqrt, lev, nd=7)', 'model': <util.proximityforest.ProximityForestClassifier object at 0x0000028CCD6E87C0>, 'group': 'pf_candidate_splits', 'extract_features': False, 'drop_train_na': False}\n"
     ]
    },
    {
     "name": "stderr",
     "output_type": "stream",
     "text": [
      "Fitting: 100%|██████████| 100/100 [00:12<00:00,  7.70it/s]\n",
      "Predicting: 100%|██████████| 100/100 [00:15<00:00,  6.41it/s]\n"
     ]
    },
    {
     "name": "stdout",
     "output_type": "stream",
     "text": [
      "0.8722413793103448\n"
     ]
    },
    {
     "name": "stderr",
     "output_type": "stream",
     "text": [
      "Fitting: 100%|██████████| 100/100 [00:13<00:00,  7.28it/s]\n",
      "Predicting: 100%|██████████| 100/100 [00:15<00:00,  6.32it/s]\n"
     ]
    },
    {
     "name": "stdout",
     "output_type": "stream",
     "text": [
      "0.9068965517241379\n"
     ]
    },
    {
     "name": "stderr",
     "output_type": "stream",
     "text": [
      "Fitting: 100%|██████████| 100/100 [00:12<00:00,  8.01it/s]\n",
      "Predicting: 100%|██████████| 100/100 [00:19<00:00,  5.05it/s]\n"
     ]
    },
    {
     "name": "stdout",
     "output_type": "stream",
     "text": [
      "0.906551724137931\n"
     ]
    },
    {
     "name": "stderr",
     "output_type": "stream",
     "text": [
      "Fitting: 100%|██████████| 100/100 [00:14<00:00,  7.13it/s]\n",
      "Predicting: 100%|██████████| 100/100 [00:16<00:00,  6.19it/s]\n"
     ]
    },
    {
     "name": "stdout",
     "output_type": "stream",
     "text": [
      "0.9108620689655174\n"
     ]
    },
    {
     "name": "stderr",
     "output_type": "stream",
     "text": [
      "Fitting: 100%|██████████| 100/100 [00:14<00:00,  6.68it/s]\n",
      "Predicting: 100%|██████████| 100/100 [00:17<00:00,  5.70it/s]\n"
     ]
    },
    {
     "name": "stdout",
     "output_type": "stream",
     "text": [
      "0.8981034482758621\n",
      "\n",
      "Evaluating model 2/3\n",
      "{'name': 'ProximityForest (half, lev, nd=7)', 'model': <util.proximityforest.ProximityForestClassifier object at 0x0000028CCD6E8B50>, 'group': 'pf_candidate_splits', 'extract_features': False, 'drop_train_na': False}\n"
     ]
    },
    {
     "name": "stderr",
     "output_type": "stream",
     "text": [
      "Fitting: 100%|██████████| 100/100 [00:36<00:00,  2.71it/s]\n",
      "Predicting: 100%|██████████| 100/100 [00:15<00:00,  6.43it/s]\n"
     ]
    },
    {
     "name": "stdout",
     "output_type": "stream",
     "text": [
      "0.8855172413793103\n"
     ]
    },
    {
     "name": "stderr",
     "output_type": "stream",
     "text": [
      "Fitting: 100%|██████████| 100/100 [00:43<00:00,  2.29it/s]\n",
      "Predicting: 100%|██████████| 100/100 [00:16<00:00,  6.05it/s]\n"
     ]
    },
    {
     "name": "stdout",
     "output_type": "stream",
     "text": [
      "0.8789655172413794\n"
     ]
    },
    {
     "name": "stderr",
     "output_type": "stream",
     "text": [
      "Fitting: 100%|██████████| 100/100 [00:37<00:00,  2.69it/s]\n",
      "Predicting: 100%|██████████| 100/100 [00:13<00:00,  7.25it/s]\n"
     ]
    },
    {
     "name": "stdout",
     "output_type": "stream",
     "text": [
      "0.9048275862068965\n"
     ]
    },
    {
     "name": "stderr",
     "output_type": "stream",
     "text": [
      "Fitting: 100%|██████████| 100/100 [00:46<00:00,  2.17it/s]\n",
      "Predicting: 100%|██████████| 100/100 [00:16<00:00,  6.18it/s]\n"
     ]
    },
    {
     "name": "stdout",
     "output_type": "stream",
     "text": [
      "0.8987931034482759\n"
     ]
    },
    {
     "name": "stderr",
     "output_type": "stream",
     "text": [
      "Fitting: 100%|██████████| 100/100 [00:45<00:00,  2.21it/s]\n",
      "Predicting: 100%|██████████| 100/100 [00:16<00:00,  6.25it/s]\n"
     ]
    },
    {
     "name": "stdout",
     "output_type": "stream",
     "text": [
      "0.9067241379310345\n",
      "\n",
      "Evaluating model 3/3\n",
      "{'name': 'ProximityForest (all, lev, nd=7)', 'model': <util.proximityforest.ProximityForestClassifier object at 0x0000028CCD6E8280>, 'group': 'pf_candidate_splits', 'extract_features': False, 'drop_train_na': False}\n"
     ]
    },
    {
     "name": "stderr",
     "output_type": "stream",
     "text": [
      "Fitting: 100%|██████████| 100/100 [01:09<00:00,  1.44it/s]\n",
      "Predicting: 100%|██████████| 100/100 [00:15<00:00,  6.46it/s]\n"
     ]
    },
    {
     "name": "stdout",
     "output_type": "stream",
     "text": [
      "0.8893103448275862\n"
     ]
    },
    {
     "name": "stderr",
     "output_type": "stream",
     "text": [
      "Fitting: 100%|██████████| 100/100 [01:14<00:00,  1.34it/s]\n",
      "Predicting: 100%|██████████| 100/100 [00:13<00:00,  7.20it/s]\n"
     ]
    },
    {
     "name": "stdout",
     "output_type": "stream",
     "text": [
      "0.8939655172413793\n"
     ]
    },
    {
     "name": "stderr",
     "output_type": "stream",
     "text": [
      "Fitting: 100%|██████████| 100/100 [01:01<00:00,  1.63it/s]\n",
      "Predicting: 100%|██████████| 100/100 [00:13<00:00,  7.51it/s]\n"
     ]
    },
    {
     "name": "stdout",
     "output_type": "stream",
     "text": [
      "0.9048275862068966\n"
     ]
    },
    {
     "name": "stderr",
     "output_type": "stream",
     "text": [
      "Fitting: 100%|██████████| 100/100 [01:11<00:00,  1.40it/s]\n",
      "Predicting: 100%|██████████| 100/100 [00:13<00:00,  7.45it/s]\n"
     ]
    },
    {
     "name": "stdout",
     "output_type": "stream",
     "text": [
      "0.9024137931034484\n"
     ]
    },
    {
     "name": "stderr",
     "output_type": "stream",
     "text": [
      "Fitting: 100%|██████████| 100/100 [01:13<00:00,  1.36it/s]\n",
      "Predicting: 100%|██████████| 100/100 [00:14<00:00,  6.84it/s]\n"
     ]
    },
    {
     "name": "stdout",
     "output_type": "stream",
     "text": [
      "0.8979310344827586\n",
      "Baseline Random Forest (NaNs dropped in train) not found in scores, using ProximityForest (sqrt, lev, nd=7) instead\n",
      "Baseline Random Forest (NaNs dropped in train) not found in scores, using ProximityForest (sqrt, lev, nd=7) instead\n",
      "Finished evaluating 3 models at 20230615-090346 in 0:14:22.373898 seconds\n",
      "['outputs/model-evaluations-20230615-084924-GILGFVFTL-50-imputation-constant-numbers/scores-20230615-090346.csv']\n",
      "### Dataset size: 100 ###\n"
     ]
    },
    {
     "name": "stderr",
     "output_type": "stream",
     "text": [
      "C:\\Users\\arnod\\PycharmProjects\\thesis\\util\\epitopes.py:6: DtypeWarning: Columns (20,29,30) have mixed types. Specify dtype option on import or set low_memory=False.\n",
      "  df_vdjdb = pd.read_csv('data/vdjdb-2022-03-30/vdjdb_full.txt', sep='\\t')\n"
     ]
    },
    {
     "name": "stdout",
     "output_type": "stream",
     "text": [
      "Number of negative samples changed from 47033 to 44205 (because of overlap with positive samples)\n",
      "Positive samples: alpha only: 2580, beta only: 3056, both: 2194, none: 0\n",
      "Negative samples (will be sampled to select same amount as positive): alpha only: 4499, beta only: 17510, both: 22196, none: 0\n",
      "Nan: train: 80, test: 108\n",
      "No Nan: train: 18, test: 108\n",
      "\n",
      "Evaluating model 1/3\n",
      "{'name': 'ProximityForest (sqrt, lev, nd=7)', 'model': <util.proximityforest.ProximityForestClassifier object at 0x0000028CCD6E87C0>, 'group': 'pf_candidate_splits', 'extract_features': False, 'drop_train_na': False}\n"
     ]
    },
    {
     "name": "stderr",
     "output_type": "stream",
     "text": [
      "Fitting: 100%|██████████| 100/100 [00:37<00:00,  2.68it/s]\n",
      "Predicting: 100%|██████████| 100/100 [00:23<00:00,  4.29it/s]\n"
     ]
    },
    {
     "name": "stdout",
     "output_type": "stream",
     "text": [
      "0.9298275862068965\n"
     ]
    },
    {
     "name": "stderr",
     "output_type": "stream",
     "text": [
      "Fitting: 100%|██████████| 100/100 [00:37<00:00,  2.63it/s]\n",
      "Predicting: 100%|██████████| 100/100 [00:20<00:00,  4.91it/s]\n"
     ]
    },
    {
     "name": "stdout",
     "output_type": "stream",
     "text": [
      "0.9232758620689655\n"
     ]
    },
    {
     "name": "stderr",
     "output_type": "stream",
     "text": [
      "Fitting: 100%|██████████| 100/100 [00:34<00:00,  2.87it/s]\n",
      "Predicting: 100%|██████████| 100/100 [00:21<00:00,  4.70it/s]\n"
     ]
    },
    {
     "name": "stdout",
     "output_type": "stream",
     "text": [
      "0.9179310344827587\n"
     ]
    },
    {
     "name": "stderr",
     "output_type": "stream",
     "text": [
      "Fitting: 100%|██████████| 100/100 [00:39<00:00,  2.51it/s]\n",
      "Predicting: 100%|██████████| 100/100 [00:22<00:00,  4.39it/s]\n"
     ]
    },
    {
     "name": "stdout",
     "output_type": "stream",
     "text": [
      "0.9158620689655171\n"
     ]
    },
    {
     "name": "stderr",
     "output_type": "stream",
     "text": [
      "Fitting: 100%|██████████| 100/100 [00:39<00:00,  2.55it/s]\n",
      "Predicting: 100%|██████████| 100/100 [00:21<00:00,  4.69it/s]\n"
     ]
    },
    {
     "name": "stdout",
     "output_type": "stream",
     "text": [
      "0.9275862068965517\n",
      "\n",
      "Evaluating model 2/3\n",
      "{'name': 'ProximityForest (half, lev, nd=7)', 'model': <util.proximityforest.ProximityForestClassifier object at 0x0000028CCD6E8B50>, 'group': 'pf_candidate_splits', 'extract_features': False, 'drop_train_na': False}\n"
     ]
    },
    {
     "name": "stderr",
     "output_type": "stream",
     "text": [
      "Fitting: 100%|██████████| 100/100 [01:32<00:00,  1.08it/s]\n",
      "Predicting: 100%|██████████| 100/100 [00:21<00:00,  4.60it/s]\n"
     ]
    },
    {
     "name": "stdout",
     "output_type": "stream",
     "text": [
      "0.9344827586206896\n"
     ]
    },
    {
     "name": "stderr",
     "output_type": "stream",
     "text": [
      "Fitting: 100%|██████████| 100/100 [01:28<00:00,  1.13it/s]\n",
      "Predicting: 100%|██████████| 100/100 [00:21<00:00,  4.67it/s]\n"
     ]
    },
    {
     "name": "stdout",
     "output_type": "stream",
     "text": [
      "0.896551724137931\n"
     ]
    },
    {
     "name": "stderr",
     "output_type": "stream",
     "text": [
      "Fitting: 100%|██████████| 100/100 [01:28<00:00,  1.13it/s]\n",
      "Predicting: 100%|██████████| 100/100 [00:20<00:00,  4.95it/s]\n"
     ]
    },
    {
     "name": "stdout",
     "output_type": "stream",
     "text": [
      "0.9187931034482759\n"
     ]
    },
    {
     "name": "stderr",
     "output_type": "stream",
     "text": [
      "Fitting: 100%|██████████| 100/100 [01:33<00:00,  1.07it/s]\n",
      "Predicting: 100%|██████████| 100/100 [00:20<00:00,  4.76it/s]\n"
     ]
    },
    {
     "name": "stdout",
     "output_type": "stream",
     "text": [
      "0.9153448275862069\n"
     ]
    },
    {
     "name": "stderr",
     "output_type": "stream",
     "text": [
      "Fitting: 100%|██████████| 100/100 [01:33<00:00,  1.07it/s]\n",
      "Predicting: 100%|██████████| 100/100 [00:20<00:00,  4.76it/s]\n"
     ]
    },
    {
     "name": "stdout",
     "output_type": "stream",
     "text": [
      "0.9167241379310344\n",
      "\n",
      "Evaluating model 3/3\n",
      "{'name': 'ProximityForest (all, lev, nd=7)', 'model': <util.proximityforest.ProximityForestClassifier object at 0x0000028CCD6E8280>, 'group': 'pf_candidate_splits', 'extract_features': False, 'drop_train_na': False}\n"
     ]
    },
    {
     "name": "stderr",
     "output_type": "stream",
     "text": [
      "Fitting: 100%|██████████| 100/100 [03:00<00:00,  1.81s/it]\n",
      "Predicting: 100%|██████████| 100/100 [00:19<00:00,  5.19it/s]\n"
     ]
    },
    {
     "name": "stdout",
     "output_type": "stream",
     "text": [
      "0.936551724137931\n"
     ]
    },
    {
     "name": "stderr",
     "output_type": "stream",
     "text": [
      "Fitting: 100%|██████████| 100/100 [02:46<00:00,  1.67s/it]\n",
      "Predicting: 100%|██████████| 100/100 [00:19<00:00,  5.06it/s]\n"
     ]
    },
    {
     "name": "stdout",
     "output_type": "stream",
     "text": [
      "0.8891379310344826\n"
     ]
    },
    {
     "name": "stderr",
     "output_type": "stream",
     "text": [
      "Fitting: 100%|██████████| 100/100 [02:55<00:00,  1.75s/it]\n",
      "Predicting: 100%|██████████| 100/100 [00:20<00:00,  4.98it/s]\n"
     ]
    },
    {
     "name": "stdout",
     "output_type": "stream",
     "text": [
      "0.9177586206896551\n"
     ]
    },
    {
     "name": "stderr",
     "output_type": "stream",
     "text": [
      "Fitting: 100%|██████████| 100/100 [03:23<00:00,  2.04s/it]\n",
      "Predicting: 100%|██████████| 100/100 [00:24<00:00,  4.02it/s]\n"
     ]
    },
    {
     "name": "stdout",
     "output_type": "stream",
     "text": [
      "0.9151724137931034\n"
     ]
    },
    {
     "name": "stderr",
     "output_type": "stream",
     "text": [
      "Fitting: 100%|██████████| 100/100 [03:37<00:00,  2.17s/it]\n",
      "Predicting: 100%|██████████| 100/100 [00:28<00:00,  3.49it/s]\n"
     ]
    },
    {
     "name": "stdout",
     "output_type": "stream",
     "text": [
      "0.9174137931034482\n",
      "Baseline Random Forest (NaNs dropped in train) not found in scores, using ProximityForest (sqrt, lev, nd=7) instead\n",
      "Baseline Random Forest (NaNs dropped in train) not found in scores, using ProximityForest (sqrt, lev, nd=7) instead\n",
      "Finished evaluating 3 models at 20230615-093547 in 0:31:57.100446 seconds\n",
      "['outputs/model-evaluations-20230615-084924-GILGFVFTL-50-imputation-constant-numbers/scores-20230615-090346.csv', 'outputs/model-evaluations-20230615-090350-GILGFVFTL-100-imputation-constant-numbers/scores-20230615-093547.csv']\n",
      "### Dataset size: 200 ###\n"
     ]
    },
    {
     "name": "stderr",
     "output_type": "stream",
     "text": [
      "C:\\Users\\arnod\\PycharmProjects\\thesis\\util\\epitopes.py:6: DtypeWarning: Columns (20,29,30) have mixed types. Specify dtype option on import or set low_memory=False.\n",
      "  df_vdjdb = pd.read_csv('data/vdjdb-2022-03-30/vdjdb_full.txt', sep='\\t')\n"
     ]
    },
    {
     "name": "stdout",
     "output_type": "stream",
     "text": [
      "Number of negative samples changed from 47033 to 44205 (because of overlap with positive samples)\n",
      "Positive samples: alpha only: 2580, beta only: 3056, both: 2194, none: 0\n",
      "Negative samples (will be sampled to select same amount as positive): alpha only: 4499, beta only: 17510, both: 22196, none: 0\n",
      "Nan: train: 160, test: 108\n",
      "No Nan: train: 40, test: 108\n",
      "\n",
      "Evaluating model 1/3\n",
      "{'name': 'ProximityForest (sqrt, lev, nd=7)', 'model': <util.proximityforest.ProximityForestClassifier object at 0x0000028CCD6E87C0>, 'group': 'pf_candidate_splits', 'extract_features': False, 'drop_train_na': False}\n"
     ]
    },
    {
     "name": "stderr",
     "output_type": "stream",
     "text": [
      "Fitting: 100%|██████████| 100/100 [01:38<00:00,  1.01it/s]\n",
      "Predicting: 100%|██████████| 100/100 [00:31<00:00,  3.20it/s]\n"
     ]
    },
    {
     "name": "stdout",
     "output_type": "stream",
     "text": [
      "0.9308620689655172\n"
     ]
    },
    {
     "name": "stderr",
     "output_type": "stream",
     "text": [
      "Fitting: 100%|██████████| 100/100 [01:41<00:00,  1.01s/it]\n",
      "Predicting: 100%|██████████| 100/100 [00:26<00:00,  3.82it/s]\n"
     ]
    },
    {
     "name": "stdout",
     "output_type": "stream",
     "text": [
      "0.9167241379310345\n"
     ]
    },
    {
     "name": "stderr",
     "output_type": "stream",
     "text": [
      "Fitting: 100%|██████████| 100/100 [01:36<00:00,  1.03it/s]\n",
      "Predicting: 100%|██████████| 100/100 [00:26<00:00,  3.75it/s]\n"
     ]
    },
    {
     "name": "stdout",
     "output_type": "stream",
     "text": [
      "0.923103448275862\n"
     ]
    },
    {
     "name": "stderr",
     "output_type": "stream",
     "text": [
      "Fitting: 100%|██████████| 100/100 [01:31<00:00,  1.09it/s]\n",
      "Predicting: 100%|██████████| 100/100 [00:26<00:00,  3.80it/s]\n"
     ]
    },
    {
     "name": "stdout",
     "output_type": "stream",
     "text": [
      "0.9198275862068964\n"
     ]
    },
    {
     "name": "stderr",
     "output_type": "stream",
     "text": [
      "Fitting: 100%|██████████| 100/100 [01:36<00:00,  1.04it/s]\n",
      "Predicting: 100%|██████████| 100/100 [00:25<00:00,  3.87it/s]\n"
     ]
    },
    {
     "name": "stdout",
     "output_type": "stream",
     "text": [
      "0.92\n",
      "\n",
      "Evaluating model 2/3\n",
      "{'name': 'ProximityForest (half, lev, nd=7)', 'model': <util.proximityforest.ProximityForestClassifier object at 0x0000028CCD6E8B50>, 'group': 'pf_candidate_splits', 'extract_features': False, 'drop_train_na': False}\n"
     ]
    },
    {
     "name": "stderr",
     "output_type": "stream",
     "text": [
      "Fitting: 100%|██████████| 100/100 [04:37<00:00,  2.78s/it]\n",
      "Predicting: 100%|██████████| 100/100 [00:33<00:00,  2.97it/s]\n"
     ]
    },
    {
     "name": "stdout",
     "output_type": "stream",
     "text": [
      "0.9146551724137931\n"
     ]
    },
    {
     "name": "stderr",
     "output_type": "stream",
     "text": [
      "Fitting: 100%|██████████| 100/100 [06:33<00:00,  3.93s/it]\n",
      "Predicting: 100%|██████████| 100/100 [00:49<00:00,  2.03it/s]\n"
     ]
    },
    {
     "name": "stdout",
     "output_type": "stream",
     "text": [
      "0.8965517241379309\n"
     ]
    },
    {
     "name": "stderr",
     "output_type": "stream",
     "text": [
      "Fitting: 100%|██████████| 100/100 [05:30<00:00,  3.31s/it]\n",
      "Predicting: 100%|██████████| 100/100 [00:37<00:00,  2.69it/s]\n"
     ]
    },
    {
     "name": "stdout",
     "output_type": "stream",
     "text": [
      "0.923448275862069\n"
     ]
    },
    {
     "name": "stderr",
     "output_type": "stream",
     "text": [
      "Fitting: 100%|██████████| 100/100 [04:43<00:00,  2.84s/it]\n",
      "Predicting: 100%|██████████| 100/100 [00:30<00:00,  3.26it/s]\n"
     ]
    },
    {
     "name": "stdout",
     "output_type": "stream",
     "text": [
      "0.921206896551724\n"
     ]
    },
    {
     "name": "stderr",
     "output_type": "stream",
     "text": [
      "Fitting: 100%|██████████| 100/100 [05:19<00:00,  3.20s/it]\n",
      "Predicting: 100%|██████████| 100/100 [00:32<00:00,  3.09it/s]\n"
     ]
    },
    {
     "name": "stdout",
     "output_type": "stream",
     "text": [
      "0.9179310344827587\n",
      "\n",
      "Evaluating model 3/3\n",
      "{'name': 'ProximityForest (all, lev, nd=7)', 'model': <util.proximityforest.ProximityForestClassifier object at 0x0000028CCD6E8280>, 'group': 'pf_candidate_splits', 'extract_features': False, 'drop_train_na': False}\n"
     ]
    },
    {
     "name": "stderr",
     "output_type": "stream",
     "text": [
      "Fitting: 100%|██████████| 100/100 [10:30<00:00,  6.31s/it]\n",
      "Predicting: 100%|██████████| 100/100 [00:32<00:00,  3.11it/s]\n"
     ]
    },
    {
     "name": "stdout",
     "output_type": "stream",
     "text": [
      "0.9191379310344827\n"
     ]
    },
    {
     "name": "stderr",
     "output_type": "stream",
     "text": [
      "Fitting: 100%|██████████| 100/100 [10:25<00:00,  6.26s/it]\n",
      "Predicting: 100%|██████████| 100/100 [00:30<00:00,  3.23it/s]\n"
     ]
    },
    {
     "name": "stdout",
     "output_type": "stream",
     "text": [
      "0.9127586206896551\n"
     ]
    },
    {
     "name": "stderr",
     "output_type": "stream",
     "text": [
      "Fitting: 100%|██████████| 100/100 [10:09<00:00,  6.10s/it]\n",
      "Predicting: 100%|██████████| 100/100 [00:32<00:00,  3.05it/s]\n"
     ]
    },
    {
     "name": "stdout",
     "output_type": "stream",
     "text": [
      "0.9329310344827587\n"
     ]
    },
    {
     "name": "stderr",
     "output_type": "stream",
     "text": [
      "Fitting: 100%|██████████| 100/100 [10:14<00:00,  6.14s/it]\n",
      "Predicting: 100%|██████████| 100/100 [00:35<00:00,  2.81it/s]\n"
     ]
    },
    {
     "name": "stdout",
     "output_type": "stream",
     "text": [
      "0.9265517241379311\n"
     ]
    },
    {
     "name": "stderr",
     "output_type": "stream",
     "text": [
      "Fitting: 100%|██████████| 100/100 [10:17<00:00,  6.18s/it]\n",
      "Predicting: 100%|██████████| 100/100 [00:31<00:00,  3.14it/s]\n"
     ]
    },
    {
     "name": "stdout",
     "output_type": "stream",
     "text": [
      "0.9287931034482759\n",
      "Baseline Random Forest (NaNs dropped in train) not found in scores, using ProximityForest (sqrt, lev, nd=7) instead\n",
      "Baseline Random Forest (NaNs dropped in train) not found in scores, using ProximityForest (sqrt, lev, nd=7) instead\n",
      "Finished evaluating 3 models at 20230615-111025 in 1:34:31.609738 seconds\n",
      "['outputs/model-evaluations-20230615-084924-GILGFVFTL-50-imputation-constant-numbers/scores-20230615-090346.csv', 'outputs/model-evaluations-20230615-090350-GILGFVFTL-100-imputation-constant-numbers/scores-20230615-093547.csv', 'outputs/model-evaluations-20230615-093553-GILGFVFTL-200-imputation-constant-numbers/scores-20230615-111025.csv']\n"
     ]
    },
    {
     "data": {
      "text/plain": "<Figure size 432x288 with 1 Axes>",
      "image/png": "[encoded data removed]"
     },
     "metadata": {
      "needs_background": "light"
     },
     "output_type": "display_data"
    },
    {
     "name": "stdout",
     "output_type": "stream",
     "text": [
      "Baseline Random Forest (NaNs dropped in train) not found in scores, using ProximityForest (sqrt, lev, nd=7) instead\n"
     ]
    },
    {
     "data": {
      "text/plain": "<Figure size 432x288 with 1 Axes>",
      "image/png": "[encoded data removed]"
     },
     "metadata": {
      "needs_background": "light"
     },
     "output_type": "display_data"
    }
   ],
   "source": [
    "# proximity forest, different candidate_splits\n",
    "\n",
    "models_to_evaluate = [\n",
    "\n",
    "    {'name': 'ProximityForest (sqrt, lev, nd=7)',\n",
    "     'model': ProximityForestClassifier(distance_measure=multi_lev, sample_multiple_splits='sqrt',\n",
    "                                        distance_kwargs={'nan_distance': 7}),\n",
    "     'group': 'pf_candidate_splits',\n",
    "     'extract_features': False,\n",
    "     'drop_train_na': False},\n",
    "\n",
    "    {'name': 'ProximityForest (half, lev, nd=7)',\n",
    "     'model': ProximityForestClassifier(distance_measure=multi_lev, sample_multiple_splits='half',\n",
    "                                        distance_kwargs={'nan_distance': 7}),\n",
    "     'group': 'pf_candidate_splits',\n",
    "     'extract_features': False,\n",
    "     'drop_train_na': False},\n",
    "\n",
    "    {'name': 'ProximityForest (all, lev, nd=7)',\n",
    "     'model': ProximityForestClassifier(distance_measure=multi_lev, sample_multiple_splits='all',\n",
    "                                        distance_kwargs={'nan_distance': 7}),\n",
    "     'group': 'pf_candidate_splits',\n",
    "     'extract_features': False,\n",
    "     'drop_train_na': False},\n",
    "\n",
    "]\n",
    "\n",
    "print(list([m['name'] for m in models_to_evaluate]))\n",
    "outputs = []\n",
    "\n",
    "dataset_size = [50, 100, 200]\n",
    "for dataset_size in dataset_size:\n",
    "    print(f\"### Dataset size: {dataset_size} ###\")\n",
    "    update_data_per_fold(dataset_size)\n",
    "    scores, output_csv = evaluate_model_list(models_to_evaluate)\n",
    "    outputs.append(output_csv)\n",
    "    print(outputs)\n",
    "\n",
    "title = \"ProximityForest with different number of candidate splits\"\n",
    "output = \"graphs/GILGFVFTL-pf-candidate-splits.png\"\n",
    "composed_df = compose_all(outputs, 'pf_candidate_splits')\n",
    "plot_scores(composed_df, title, wrap=True, x=\"df_size\", hue=\"model\", xlabel=\"Dataset size\", ylabel=\"AUC\",\n",
    "            output_file=output,\n",
    "            plot=True)"
   ],
   "metadata": {
    "collapsed": false
   }
  },
  {
   "cell_type": "code",
   "execution_count": 14,
   "outputs": [
    {
     "name": "stdout",
     "output_type": "stream",
     "text": [
      "['ProximityForest (sqrt, tcrdist, nd=7)', 'ProximityForest (half, tcrdist, nd=7)', 'ProximityForest (all, tcrdist, nd=7)']\n",
      "### Dataset size: 50 ###\n"
     ]
    },
    {
     "name": "stderr",
     "output_type": "stream",
     "text": [
      "C:\\Users\\arnod\\PycharmProjects\\thesis\\util\\epitopes.py:6: DtypeWarning: Columns (20,29,30) have mixed types. Specify dtype option on import or set low_memory=False.\n",
      "  df_vdjdb = pd.read_csv('data/vdjdb-2022-03-30/vdjdb_full.txt', sep='\\t')\n"
     ]
    },
    {
     "name": "stdout",
     "output_type": "stream",
     "text": [
      "Number of negative samples changed from 47033 to 44205 (because of overlap with positive samples)\n",
      "Positive samples: alpha only: 2580, beta only: 3056, both: 2194, none: 0\n",
      "Negative samples (will be sampled to select same amount as positive): alpha only: 4499, beta only: 17510, both: 22196, none: 0\n",
      "Nan: train: 40, test: 108\n",
      "No Nan: train: 9, test: 108\n",
      "\n",
      "Evaluating model 1/3\n",
      "{'name': 'ProximityForest (sqrt, tcrdist, nd=7)', 'model': <util.proximityforest.ProximityForestClassifier object at 0x0000028CCDEAFDC0>, 'group': 'pf_candidate_splits', 'extract_features': False, 'drop_train_na': False}\n"
     ]
    },
    {
     "name": "stderr",
     "output_type": "stream",
     "text": [
      "Fitting:   0%|          | 0/100 [00:00<?, ?it/s]"
     ]
    },
    {
     "name": "stdout",
     "output_type": "stream",
     "text": [
      "Error: local variable 'df' referenced before assignment\n"
     ]
    },
    {
     "name": "stderr",
     "output_type": "stream",
     "text": [
      "\n"
     ]
    },
    {
     "ename": "UnboundLocalError",
     "evalue": "local variable 'df' referenced before assignment",
     "output_type": "error",
     "traceback": [
      "\u001B[1;31m---------------------------------------------------------------------------\u001B[0m",
      "\u001B[1;31mUnboundLocalError\u001B[0m                         Traceback (most recent call last)",
      "\u001B[1;32m~\\AppData\\Local\\Temp/ipykernel_19100/764248437.py\u001B[0m in \u001B[0;36m<module>\u001B[1;34m\u001B[0m\n\u001B[0;32m     35\u001B[0m     \u001B[0mprint\u001B[0m\u001B[1;33m(\u001B[0m\u001B[1;34mf\"### Dataset size: {dataset_size} ###\"\u001B[0m\u001B[1;33m)\u001B[0m\u001B[1;33m\u001B[0m\u001B[1;33m\u001B[0m\u001B[0m\n\u001B[0;32m     36\u001B[0m     \u001B[0mupdate_data_per_fold\u001B[0m\u001B[1;33m(\u001B[0m\u001B[0mdataset_size\u001B[0m\u001B[1;33m)\u001B[0m\u001B[1;33m\u001B[0m\u001B[1;33m\u001B[0m\u001B[0m\n\u001B[1;32m---> 37\u001B[1;33m     \u001B[0mscores\u001B[0m\u001B[1;33m,\u001B[0m \u001B[0moutput_csv\u001B[0m \u001B[1;33m=\u001B[0m \u001B[0mevaluate_model_list\u001B[0m\u001B[1;33m(\u001B[0m\u001B[0mmodels_to_evaluate\u001B[0m\u001B[1;33m)\u001B[0m\u001B[1;33m\u001B[0m\u001B[1;33m\u001B[0m\u001B[0m\n\u001B[0m\u001B[0;32m     38\u001B[0m     \u001B[0moutputs\u001B[0m\u001B[1;33m.\u001B[0m\u001B[0mappend\u001B[0m\u001B[1;33m(\u001B[0m\u001B[0moutput_csv\u001B[0m\u001B[1;33m)\u001B[0m\u001B[1;33m\u001B[0m\u001B[1;33m\u001B[0m\u001B[0m\n\u001B[0;32m     39\u001B[0m     \u001B[0mprint\u001B[0m\u001B[1;33m(\u001B[0m\u001B[0moutputs\u001B[0m\u001B[1;33m)\u001B[0m\u001B[1;33m\u001B[0m\u001B[1;33m\u001B[0m\u001B[0m\n",
      "\u001B[1;32m~\\AppData\\Local\\Temp/ipykernel_19100/1402276961.py\u001B[0m in \u001B[0;36mevaluate_model_list\u001B[1;34m(models_to_evaluate)\u001B[0m\n\u001B[0;32m     21\u001B[0m         \u001B[0mprint\u001B[0m\u001B[1;33m(\u001B[0m\u001B[1;34mf\"\\nEvaluating model {i + 1}/{len(models_to_evaluate)}\"\u001B[0m\u001B[1;33m)\u001B[0m\u001B[1;33m\u001B[0m\u001B[1;33m\u001B[0m\u001B[0m\n\u001B[0;32m     22\u001B[0m         \u001B[0mprint\u001B[0m\u001B[1;33m(\u001B[0m\u001B[0mmodel\u001B[0m\u001B[1;33m)\u001B[0m\u001B[1;33m\u001B[0m\u001B[1;33m\u001B[0m\u001B[0m\n\u001B[1;32m---> 23\u001B[1;33m         \u001B[0mmodel_scores\u001B[0m \u001B[1;33m=\u001B[0m \u001B[0mevaluate_model\u001B[0m\u001B[1;33m(\u001B[0m\u001B[0mmodel\u001B[0m\u001B[1;33m)\u001B[0m\u001B[1;33m\u001B[0m\u001B[1;33m\u001B[0m\u001B[0m\n\u001B[0m\u001B[0;32m     24\u001B[0m \u001B[1;33m\u001B[0m\u001B[0m\n\u001B[0;32m     25\u001B[0m         \u001B[0mmodel_scores\u001B[0m\u001B[1;33m[\u001B[0m\u001B[1;34m'test_nr'\u001B[0m\u001B[1;33m]\u001B[0m \u001B[1;33m=\u001B[0m \u001B[0mi\u001B[0m \u001B[1;33m+\u001B[0m \u001B[1;36m1\u001B[0m\u001B[1;33m\u001B[0m\u001B[1;33m\u001B[0m\u001B[0m\n",
      "\u001B[1;32m~\\AppData\\Local\\Temp/ipykernel_19100/1842881574.py\u001B[0m in \u001B[0;36mevaluate_model\u001B[1;34m(model_description)\u001B[0m\n\u001B[0;32m    130\u001B[0m         \u001B[1;32mexcept\u001B[0m \u001B[0mException\u001B[0m \u001B[1;32mas\u001B[0m \u001B[0me\u001B[0m\u001B[1;33m:\u001B[0m\u001B[1;33m\u001B[0m\u001B[1;33m\u001B[0m\u001B[0m\n\u001B[0;32m    131\u001B[0m             \u001B[0mprint\u001B[0m\u001B[1;33m(\u001B[0m\u001B[1;34mf\"Error: {e}\"\u001B[0m\u001B[1;33m)\u001B[0m\u001B[1;33m\u001B[0m\u001B[1;33m\u001B[0m\u001B[0m\n\u001B[1;32m--> 132\u001B[1;33m             \u001B[1;32mraise\u001B[0m \u001B[0me\u001B[0m  \u001B[1;31m# for debugging\u001B[0m\u001B[1;33m\u001B[0m\u001B[1;33m\u001B[0m\u001B[0m\n\u001B[0m\u001B[0;32m    133\u001B[0m             \u001B[1;32mcontinue\u001B[0m\u001B[1;33m\u001B[0m\u001B[1;33m\u001B[0m\u001B[0m\n\u001B[0;32m    134\u001B[0m \u001B[1;33m\u001B[0m\u001B[0m\n",
      "\u001B[1;32m~\\AppData\\Local\\Temp/ipykernel_19100/1842881574.py\u001B[0m in \u001B[0;36mevaluate_model\u001B[1;34m(model_description)\u001B[0m\n\u001B[0;32m     97\u001B[0m                     \u001B[0mmodel\u001B[0m \u001B[1;33m=\u001B[0m \u001B[0mPipeline\u001B[0m\u001B[1;33m(\u001B[0m\u001B[1;33m[\u001B[0m\u001B[1;33m(\u001B[0m\u001B[1;34m'imputer'\u001B[0m\u001B[1;33m,\u001B[0m \u001B[0mmodel_imputer\u001B[0m\u001B[1;33m)\u001B[0m\u001B[1;33m,\u001B[0m \u001B[1;33m(\u001B[0m\u001B[1;34m'model'\u001B[0m\u001B[1;33m,\u001B[0m \u001B[0mmodel\u001B[0m\u001B[1;33m)\u001B[0m\u001B[1;33m]\u001B[0m\u001B[1;33m)\u001B[0m\u001B[1;33m\u001B[0m\u001B[1;33m\u001B[0m\u001B[0m\n\u001B[0;32m     98\u001B[0m                     \u001B[0mmodel_imputer\u001B[0m \u001B[1;33m=\u001B[0m \u001B[1;32mNone\u001B[0m\u001B[1;33m\u001B[0m\u001B[1;33m\u001B[0m\u001B[0m\n\u001B[1;32m---> 99\u001B[1;33m                 \u001B[0mauc\u001B[0m \u001B[1;33m=\u001B[0m \u001B[0mevaluate_no_cv\u001B[0m\u001B[1;33m(\u001B[0m\u001B[0mmodel\u001B[0m\u001B[1;33m,\u001B[0m \u001B[0mx\u001B[0m\u001B[1;33m,\u001B[0m \u001B[0my\u001B[0m\u001B[1;33m,\u001B[0m \u001B[0mx_test\u001B[0m\u001B[1;33m,\u001B[0m \u001B[0my_test\u001B[0m\u001B[1;33m,\u001B[0m \u001B[0mmodel_imputer\u001B[0m\u001B[1;33m)\u001B[0m\u001B[1;33m\u001B[0m\u001B[1;33m\u001B[0m\u001B[0m\n\u001B[0m\u001B[0;32m    100\u001B[0m \u001B[1;33m\u001B[0m\u001B[0m\n\u001B[0;32m    101\u001B[0m             \u001B[1;31m# add the scores to the dataframe\u001B[0m\u001B[1;33m\u001B[0m\u001B[1;33m\u001B[0m\u001B[0m\n",
      "\u001B[1;32m~\\PycharmProjects\\thesis\\util\\classification.py\u001B[0m in \u001B[0;36mevaluate_no_cv\u001B[1;34m(clf, x, y, x_test, y_test, model_imputer)\u001B[0m\n\u001B[0;32m     83\u001B[0m         \u001B[0mx\u001B[0m \u001B[1;33m=\u001B[0m \u001B[0mmodel_imputer\u001B[0m\u001B[1;33m.\u001B[0m\u001B[0mfit_transform\u001B[0m\u001B[1;33m(\u001B[0m\u001B[0mx\u001B[0m\u001B[1;33m)\u001B[0m\u001B[1;33m\u001B[0m\u001B[1;33m\u001B[0m\u001B[0m\n\u001B[0;32m     84\u001B[0m \u001B[1;33m\u001B[0m\u001B[0m\n\u001B[1;32m---> 85\u001B[1;33m     \u001B[0mclf\u001B[0m\u001B[1;33m.\u001B[0m\u001B[0mfit\u001B[0m\u001B[1;33m(\u001B[0m\u001B[0mx\u001B[0m\u001B[1;33m,\u001B[0m \u001B[0my\u001B[0m\u001B[1;33m)\u001B[0m\u001B[1;33m\u001B[0m\u001B[1;33m\u001B[0m\u001B[0m\n\u001B[0m\u001B[0;32m     86\u001B[0m     \u001B[0my_pred\u001B[0m \u001B[1;33m=\u001B[0m \u001B[0mclf\u001B[0m\u001B[1;33m.\u001B[0m\u001B[0mpredict_proba\u001B[0m\u001B[1;33m(\u001B[0m\u001B[0mx_test\u001B[0m\u001B[1;33m)\u001B[0m\u001B[1;33m[\u001B[0m\u001B[1;33m:\u001B[0m\u001B[1;33m,\u001B[0m \u001B[1;36m1\u001B[0m\u001B[1;33m]\u001B[0m\u001B[1;33m\u001B[0m\u001B[1;33m\u001B[0m\u001B[0m\n\u001B[0;32m     87\u001B[0m     \u001B[1;32massert\u001B[0m \u001B[0mlen\u001B[0m\u001B[1;33m(\u001B[0m\u001B[0my_pred\u001B[0m\u001B[1;33m)\u001B[0m \u001B[1;33m==\u001B[0m \u001B[0mlen\u001B[0m\u001B[1;33m(\u001B[0m\u001B[0my_test\u001B[0m\u001B[1;33m)\u001B[0m\u001B[1;33m,\u001B[0m \u001B[1;34mf'Length of y_pred ({len(y_pred)}) and y_test ({len(y_test)}) not equal'\u001B[0m\u001B[1;33m\u001B[0m\u001B[1;33m\u001B[0m\u001B[0m\n",
      "\u001B[1;32m~\\PycharmProjects\\thesis\\util\\proximityforest.py\u001B[0m in \u001B[0;36mfit\u001B[1;34m(self, data_x, data_y, groups)\u001B[0m\n\u001B[0;32m    348\u001B[0m         \u001B[1;32melse\u001B[0m\u001B[1;33m:\u001B[0m\u001B[1;33m\u001B[0m\u001B[1;33m\u001B[0m\u001B[0m\n\u001B[0;32m    349\u001B[0m             \u001B[1;32mfor\u001B[0m \u001B[0mtree\u001B[0m \u001B[1;32min\u001B[0m \u001B[0mtqdm\u001B[0m\u001B[1;33m(\u001B[0m\u001B[0mrange\u001B[0m\u001B[1;33m(\u001B[0m\u001B[0mself\u001B[0m\u001B[1;33m.\u001B[0m\u001B[0mn_trees\u001B[0m\u001B[1;33m)\u001B[0m\u001B[1;33m,\u001B[0m \u001B[0mdisable\u001B[0m\u001B[1;33m=\u001B[0m\u001B[1;32mnot\u001B[0m \u001B[0mself\u001B[0m\u001B[1;33m.\u001B[0m\u001B[0mshow_progress\u001B[0m\u001B[1;33m,\u001B[0m \u001B[0mdesc\u001B[0m\u001B[1;33m=\u001B[0m\u001B[1;34m'Fitting'\u001B[0m\u001B[1;33m)\u001B[0m\u001B[1;33m:\u001B[0m\u001B[1;33m\u001B[0m\u001B[1;33m\u001B[0m\u001B[0m\n\u001B[1;32m--> 350\u001B[1;33m                 \u001B[0mself\u001B[0m\u001B[1;33m.\u001B[0m\u001B[0mtrees\u001B[0m\u001B[1;33m.\u001B[0m\u001B[0mappend\u001B[0m\u001B[1;33m(\u001B[0m\u001B[0mself\u001B[0m\u001B[1;33m.\u001B[0m\u001B[0mfit_tree\u001B[0m\u001B[1;33m(\u001B[0m\u001B[0mdata_x\u001B[0m\u001B[1;33m,\u001B[0m \u001B[0mdata_y\u001B[0m\u001B[1;33m,\u001B[0m \u001B[0mgroups\u001B[0m\u001B[1;33m)\u001B[0m\u001B[1;33m)\u001B[0m\u001B[1;33m\u001B[0m\u001B[1;33m\u001B[0m\u001B[0m\n\u001B[0m\u001B[0;32m    351\u001B[0m \u001B[1;33m\u001B[0m\u001B[0m\n\u001B[0;32m    352\u001B[0m         \u001B[0mself\u001B[0m\u001B[1;33m.\u001B[0m\u001B[0mclasses_\u001B[0m \u001B[1;33m=\u001B[0m \u001B[0mnp\u001B[0m\u001B[1;33m.\u001B[0m\u001B[0munique\u001B[0m\u001B[1;33m(\u001B[0m\u001B[0mdata_y\u001B[0m\u001B[1;33m)\u001B[0m\u001B[1;33m\u001B[0m\u001B[1;33m\u001B[0m\u001B[0m\n",
      "\u001B[1;32m~\\PycharmProjects\\thesis\\util\\proximityforest.py\u001B[0m in \u001B[0;36mfit_tree\u001B[1;34m(self, data_x, data_y, groups)\u001B[0m\n\u001B[0;32m    375\u001B[0m             \u001B[1;32massert\u001B[0m \u001B[0misinstance\u001B[0m\u001B[1;33m(\u001B[0m\u001B[0mself\u001B[0m\u001B[1;33m.\u001B[0m\u001B[0msample_multiple_splits\u001B[0m\u001B[1;33m,\u001B[0m \u001B[0mint\u001B[0m\u001B[1;33m)\u001B[0m\u001B[1;33m\u001B[0m\u001B[1;33m\u001B[0m\u001B[0m\n\u001B[0;32m    376\u001B[0m \u001B[1;33m\u001B[0m\u001B[0m\n\u001B[1;32m--> 377\u001B[1;33m         return ProximityTreeClassifier(num_features_to_keep=num_features_to_keep,\n\u001B[0m\u001B[0;32m    378\u001B[0m                                        \u001B[0msplits_to_sample\u001B[0m\u001B[1;33m=\u001B[0m\u001B[0mself\u001B[0m\u001B[1;33m.\u001B[0m\u001B[0msample_multiple_splits\u001B[0m\u001B[1;33m,\u001B[0m \u001B[0mmax_depth\u001B[0m\u001B[1;33m=\u001B[0m\u001B[0mself\u001B[0m\u001B[1;33m.\u001B[0m\u001B[0mmax_depth\u001B[0m\u001B[1;33m,\u001B[0m\u001B[1;33m\u001B[0m\u001B[1;33m\u001B[0m\u001B[0m\n\u001B[0;32m    379\u001B[0m                                        distance_measure=self.distance_measure, distance_kwargs=self.distance_kwargs) \\\n",
      "\u001B[1;32m~\\PycharmProjects\\thesis\\util\\proximityforest.py\u001B[0m in \u001B[0;36mfit\u001B[1;34m(self, data_x, data_y, groups)\u001B[0m\n\u001B[0;32m    144\u001B[0m         \u001B[1;31m# assert self.num_features_to_keep is None, 'Be sure the distance measure supports this!'\u001B[0m\u001B[1;33m\u001B[0m\u001B[1;33m\u001B[0m\u001B[0m\n\u001B[0;32m    145\u001B[0m \u001B[1;33m\u001B[0m\u001B[0m\n\u001B[1;32m--> 146\u001B[1;33m         self.root = get_node(data_x_reduced, data_y, groups, depth=0, max_depth=self.max_depth,\n\u001B[0m\u001B[0;32m    147\u001B[0m                              \u001B[0msplits_to_sample\u001B[0m\u001B[1;33m=\u001B[0m\u001B[0mself\u001B[0m\u001B[1;33m.\u001B[0m\u001B[0msplits_to_sample\u001B[0m\u001B[1;33m,\u001B[0m \u001B[0mdistance_measure\u001B[0m\u001B[1;33m=\u001B[0m\u001B[0mself\u001B[0m\u001B[1;33m.\u001B[0m\u001B[0mdistance_measure\u001B[0m\u001B[1;33m,\u001B[0m\u001B[1;33m\u001B[0m\u001B[1;33m\u001B[0m\u001B[0m\n\u001B[0;32m    148\u001B[0m                              distance_kwargs=self.distance_kwargs)\n",
      "\u001B[1;32m~\\PycharmProjects\\thesis\\util\\proximityforest.py\u001B[0m in \u001B[0;36mget_node\u001B[1;34m(data_x, data_y, groups, depth, max_depth, splits_to_sample, distance_measure, distance_kwargs)\u001B[0m\n\u001B[0;32m    192\u001B[0m         \u001B[1;32mreturn\u001B[0m \u001B[0mLeafNode\u001B[0m\u001B[1;33m(\u001B[0m\u001B[0mclass_label\u001B[0m\u001B[1;33m)\u001B[0m\u001B[1;33m\u001B[0m\u001B[1;33m\u001B[0m\u001B[0m\n\u001B[0;32m    193\u001B[0m     \u001B[1;32melse\u001B[0m\u001B[1;33m:\u001B[0m\u001B[1;33m\u001B[0m\u001B[1;33m\u001B[0m\u001B[0m\n\u001B[1;32m--> 194\u001B[1;33m         \u001B[1;32mreturn\u001B[0m \u001B[0mInternalNode\u001B[0m\u001B[1;33m(\u001B[0m\u001B[0mdata_x\u001B[0m\u001B[1;33m,\u001B[0m \u001B[0mdata_y\u001B[0m\u001B[1;33m,\u001B[0m \u001B[0mgroups\u001B[0m\u001B[1;33m,\u001B[0m \u001B[0mdepth\u001B[0m\u001B[1;33m,\u001B[0m \u001B[0mmax_depth\u001B[0m\u001B[1;33m,\u001B[0m \u001B[0msplits_to_sample\u001B[0m\u001B[1;33m,\u001B[0m \u001B[0mdistance_measure\u001B[0m\u001B[1;33m,\u001B[0m \u001B[0mdistance_kwargs\u001B[0m\u001B[1;33m)\u001B[0m\u001B[1;33m\u001B[0m\u001B[1;33m\u001B[0m\u001B[0m\n\u001B[0m\u001B[0;32m    195\u001B[0m \u001B[1;33m\u001B[0m\u001B[0m\n\u001B[0;32m    196\u001B[0m \u001B[1;33m\u001B[0m\u001B[0m\n",
      "\u001B[1;32m~\\PycharmProjects\\thesis\\util\\proximityforest.py\u001B[0m in \u001B[0;36m__init__\u001B[1;34m(self, data_x, data_y, groups, depth, max_depth, splits_to_sample, distance_measure, distance_kwargs)\u001B[0m\n\u001B[0;32m     51\u001B[0m         \u001B[0mself\u001B[0m\u001B[1;33m.\u001B[0m\u001B[0mbranches\u001B[0m \u001B[1;33m=\u001B[0m \u001B[1;33m[\u001B[0m\u001B[1;33m]\u001B[0m  \u001B[1;31m# Contains internal nodes or leaf nodes\u001B[0m\u001B[1;33m\u001B[0m\u001B[1;33m\u001B[0m\u001B[0m\n\u001B[0;32m     52\u001B[0m \u001B[1;33m\u001B[0m\u001B[0m\n\u001B[1;32m---> 53\u001B[1;33m         \u001B[0mexemplars\u001B[0m\u001B[1;33m,\u001B[0m \u001B[0mclosest_exemplars\u001B[0m \u001B[1;33m=\u001B[0m \u001B[0mget_split\u001B[0m\u001B[1;33m(\u001B[0m\u001B[0mdata_x\u001B[0m\u001B[1;33m,\u001B[0m \u001B[0mdata_y\u001B[0m\u001B[1;33m,\u001B[0m \u001B[0mgroups\u001B[0m\u001B[1;33m,\u001B[0m \u001B[0msplits_to_sample\u001B[0m\u001B[1;33m,\u001B[0m \u001B[0mself\u001B[0m\u001B[1;33m.\u001B[0m\u001B[0mmeasure\u001B[0m\u001B[1;33m)\u001B[0m\u001B[1;33m\u001B[0m\u001B[1;33m\u001B[0m\u001B[0m\n\u001B[0m\u001B[0;32m     54\u001B[0m \u001B[1;33m\u001B[0m\u001B[0m\n\u001B[0;32m     55\u001B[0m         \u001B[1;32mfor\u001B[0m \u001B[0mi\u001B[0m\u001B[1;33m,\u001B[0m \u001B[0mexemplar\u001B[0m \u001B[1;32min\u001B[0m \u001B[0menumerate\u001B[0m\u001B[1;33m(\u001B[0m\u001B[0mexemplars\u001B[0m\u001B[1;33m)\u001B[0m\u001B[1;33m:\u001B[0m\u001B[1;33m\u001B[0m\u001B[1;33m\u001B[0m\u001B[0m\n",
      "\u001B[1;32m~\\PycharmProjects\\thesis\\util\\proximityforest.py\u001B[0m in \u001B[0;36mget_split\u001B[1;34m(data_x, data_y, groups, splits_to_sample, distance_measure)\u001B[0m\n\u001B[0;32m    276\u001B[0m         \u001B[0mexemplars\u001B[0m \u001B[1;33m=\u001B[0m \u001B[0mget_single_split\u001B[0m\u001B[1;33m(\u001B[0m\u001B[0mdata_x\u001B[0m\u001B[1;33m,\u001B[0m \u001B[0mdata_y\u001B[0m\u001B[1;33m,\u001B[0m \u001B[0mgroups\u001B[0m\u001B[1;33m)\u001B[0m\u001B[1;33m\u001B[0m\u001B[1;33m\u001B[0m\u001B[0m\n\u001B[0;32m    277\u001B[0m \u001B[1;33m\u001B[0m\u001B[0m\n\u001B[1;32m--> 278\u001B[1;33m         \u001B[0mclosest_exemplars\u001B[0m \u001B[1;33m=\u001B[0m \u001B[0mget_closest_exemplars\u001B[0m\u001B[1;33m(\u001B[0m\u001B[0mexemplars\u001B[0m\u001B[1;33m,\u001B[0m \u001B[0mdata_x\u001B[0m\u001B[1;33m,\u001B[0m \u001B[0mdistance_measure\u001B[0m\u001B[1;33m)\u001B[0m\u001B[1;33m\u001B[0m\u001B[1;33m\u001B[0m\u001B[0m\n\u001B[0m\u001B[0;32m    279\u001B[0m         \u001B[0mdata_splits\u001B[0m \u001B[1;33m=\u001B[0m \u001B[1;33m[\u001B[0m\u001B[1;33m]\u001B[0m\u001B[1;33m\u001B[0m\u001B[1;33m\u001B[0m\u001B[0m\n\u001B[0;32m    280\u001B[0m         \u001B[1;31m# empty_split = False\u001B[0m\u001B[1;33m\u001B[0m\u001B[1;33m\u001B[0m\u001B[0m\n",
      "\u001B[1;32m~\\PycharmProjects\\thesis\\util\\proximityforest.py\u001B[0m in \u001B[0;36mget_closest_exemplars\u001B[1;34m(exemplars, data, measure)\u001B[0m\n\u001B[0;32m    310\u001B[0m \u001B[1;32mdef\u001B[0m \u001B[0mget_closest_exemplars\u001B[0m\u001B[1;33m(\u001B[0m\u001B[0mexemplars\u001B[0m\u001B[1;33m,\u001B[0m \u001B[0mdata\u001B[0m\u001B[1;33m,\u001B[0m \u001B[0mmeasure\u001B[0m\u001B[1;33m)\u001B[0m\u001B[1;33m:\u001B[0m\u001B[1;33m\u001B[0m\u001B[1;33m\u001B[0m\u001B[0m\n\u001B[0;32m    311\u001B[0m     \u001B[1;31m# Return the index of the exemplar that is closest to the data point\u001B[0m\u001B[1;33m\u001B[0m\u001B[1;33m\u001B[0m\u001B[0m\n\u001B[1;32m--> 312\u001B[1;33m     \u001B[0mdistances\u001B[0m \u001B[1;33m=\u001B[0m \u001B[1;33m[\u001B[0m\u001B[0mget_distance_to_exemplars\u001B[0m\u001B[1;33m(\u001B[0m\u001B[0mdata_row\u001B[0m\u001B[1;33m,\u001B[0m \u001B[0mexemplars\u001B[0m\u001B[1;33m,\u001B[0m \u001B[0mmeasure\u001B[0m\u001B[1;33m)\u001B[0m \u001B[1;32mfor\u001B[0m \u001B[0mdata_row\u001B[0m \u001B[1;32min\u001B[0m \u001B[0mdata\u001B[0m\u001B[1;33m]\u001B[0m\u001B[1;33m\u001B[0m\u001B[1;33m\u001B[0m\u001B[0m\n\u001B[0m\u001B[0;32m    313\u001B[0m     \u001B[0mclosest_exemplar_indices\u001B[0m \u001B[1;33m=\u001B[0m \u001B[0mnp\u001B[0m\u001B[1;33m.\u001B[0m\u001B[0margmin\u001B[0m\u001B[1;33m(\u001B[0m\u001B[0mdistances\u001B[0m\u001B[1;33m,\u001B[0m \u001B[0maxis\u001B[0m\u001B[1;33m=\u001B[0m\u001B[1;36m1\u001B[0m\u001B[1;33m)\u001B[0m\u001B[1;33m\u001B[0m\u001B[1;33m\u001B[0m\u001B[0m\n\u001B[0;32m    314\u001B[0m     \u001B[1;32massert\u001B[0m \u001B[0mlen\u001B[0m\u001B[1;33m(\u001B[0m\u001B[0mclosest_exemplar_indices\u001B[0m\u001B[1;33m)\u001B[0m \u001B[1;33m==\u001B[0m \u001B[0mlen\u001B[0m\u001B[1;33m(\u001B[0m\u001B[0mdata\u001B[0m\u001B[1;33m)\u001B[0m\u001B[1;33m\u001B[0m\u001B[1;33m\u001B[0m\u001B[0m\n",
      "\u001B[1;32m~\\PycharmProjects\\thesis\\util\\proximityforest.py\u001B[0m in \u001B[0;36m<listcomp>\u001B[1;34m(.0)\u001B[0m\n\u001B[0;32m    310\u001B[0m \u001B[1;32mdef\u001B[0m \u001B[0mget_closest_exemplars\u001B[0m\u001B[1;33m(\u001B[0m\u001B[0mexemplars\u001B[0m\u001B[1;33m,\u001B[0m \u001B[0mdata\u001B[0m\u001B[1;33m,\u001B[0m \u001B[0mmeasure\u001B[0m\u001B[1;33m)\u001B[0m\u001B[1;33m:\u001B[0m\u001B[1;33m\u001B[0m\u001B[1;33m\u001B[0m\u001B[0m\n\u001B[0;32m    311\u001B[0m     \u001B[1;31m# Return the index of the exemplar that is closest to the data point\u001B[0m\u001B[1;33m\u001B[0m\u001B[1;33m\u001B[0m\u001B[0m\n\u001B[1;32m--> 312\u001B[1;33m     \u001B[0mdistances\u001B[0m \u001B[1;33m=\u001B[0m \u001B[1;33m[\u001B[0m\u001B[0mget_distance_to_exemplars\u001B[0m\u001B[1;33m(\u001B[0m\u001B[0mdata_row\u001B[0m\u001B[1;33m,\u001B[0m \u001B[0mexemplars\u001B[0m\u001B[1;33m,\u001B[0m \u001B[0mmeasure\u001B[0m\u001B[1;33m)\u001B[0m \u001B[1;32mfor\u001B[0m \u001B[0mdata_row\u001B[0m \u001B[1;32min\u001B[0m \u001B[0mdata\u001B[0m\u001B[1;33m]\u001B[0m\u001B[1;33m\u001B[0m\u001B[1;33m\u001B[0m\u001B[0m\n\u001B[0m\u001B[0;32m    313\u001B[0m     \u001B[0mclosest_exemplar_indices\u001B[0m \u001B[1;33m=\u001B[0m \u001B[0mnp\u001B[0m\u001B[1;33m.\u001B[0m\u001B[0margmin\u001B[0m\u001B[1;33m(\u001B[0m\u001B[0mdistances\u001B[0m\u001B[1;33m,\u001B[0m \u001B[0maxis\u001B[0m\u001B[1;33m=\u001B[0m\u001B[1;36m1\u001B[0m\u001B[1;33m)\u001B[0m\u001B[1;33m\u001B[0m\u001B[1;33m\u001B[0m\u001B[0m\n\u001B[0;32m    314\u001B[0m     \u001B[1;32massert\u001B[0m \u001B[0mlen\u001B[0m\u001B[1;33m(\u001B[0m\u001B[0mclosest_exemplar_indices\u001B[0m\u001B[1;33m)\u001B[0m \u001B[1;33m==\u001B[0m \u001B[0mlen\u001B[0m\u001B[1;33m(\u001B[0m\u001B[0mdata\u001B[0m\u001B[1;33m)\u001B[0m\u001B[1;33m\u001B[0m\u001B[1;33m\u001B[0m\u001B[0m\n",
      "\u001B[1;32m~\\PycharmProjects\\thesis\\util\\proximityforest.py\u001B[0m in \u001B[0;36mget_distance_to_exemplars\u001B[1;34m(data_x_row, exemplars, measure)\u001B[0m\n\u001B[0;32m    305\u001B[0m \u001B[1;33m\u001B[0m\u001B[0m\n\u001B[0;32m    306\u001B[0m \u001B[1;32mdef\u001B[0m \u001B[0mget_distance_to_exemplars\u001B[0m\u001B[1;33m(\u001B[0m\u001B[0mdata_x_row\u001B[0m\u001B[1;33m,\u001B[0m \u001B[0mexemplars\u001B[0m\u001B[1;33m,\u001B[0m \u001B[0mmeasure\u001B[0m\u001B[1;33m)\u001B[0m\u001B[1;33m:\u001B[0m\u001B[1;33m\u001B[0m\u001B[1;33m\u001B[0m\u001B[0m\n\u001B[1;32m--> 307\u001B[1;33m     \u001B[1;32mreturn\u001B[0m \u001B[1;33m[\u001B[0m\u001B[0mmeasure\u001B[0m\u001B[1;33m(\u001B[0m\u001B[0mdata_x_row\u001B[0m\u001B[1;33m,\u001B[0m \u001B[0mexemplar\u001B[0m\u001B[1;33m)\u001B[0m \u001B[1;32mfor\u001B[0m \u001B[0mexemplar\u001B[0m \u001B[1;32min\u001B[0m \u001B[0mexemplars\u001B[0m\u001B[1;33m]\u001B[0m\u001B[1;33m\u001B[0m\u001B[1;33m\u001B[0m\u001B[0m\n\u001B[0m\u001B[0;32m    308\u001B[0m \u001B[1;33m\u001B[0m\u001B[0m\n\u001B[0;32m    309\u001B[0m \u001B[1;33m\u001B[0m\u001B[0m\n",
      "\u001B[1;32m~\\PycharmProjects\\thesis\\util\\proximityforest.py\u001B[0m in \u001B[0;36m<listcomp>\u001B[1;34m(.0)\u001B[0m\n\u001B[0;32m    305\u001B[0m \u001B[1;33m\u001B[0m\u001B[0m\n\u001B[0;32m    306\u001B[0m \u001B[1;32mdef\u001B[0m \u001B[0mget_distance_to_exemplars\u001B[0m\u001B[1;33m(\u001B[0m\u001B[0mdata_x_row\u001B[0m\u001B[1;33m,\u001B[0m \u001B[0mexemplars\u001B[0m\u001B[1;33m,\u001B[0m \u001B[0mmeasure\u001B[0m\u001B[1;33m)\u001B[0m\u001B[1;33m:\u001B[0m\u001B[1;33m\u001B[0m\u001B[1;33m\u001B[0m\u001B[0m\n\u001B[1;32m--> 307\u001B[1;33m     \u001B[1;32mreturn\u001B[0m \u001B[1;33m[\u001B[0m\u001B[0mmeasure\u001B[0m\u001B[1;33m(\u001B[0m\u001B[0mdata_x_row\u001B[0m\u001B[1;33m,\u001B[0m \u001B[0mexemplar\u001B[0m\u001B[1;33m)\u001B[0m \u001B[1;32mfor\u001B[0m \u001B[0mexemplar\u001B[0m \u001B[1;32min\u001B[0m \u001B[0mexemplars\u001B[0m\u001B[1;33m]\u001B[0m\u001B[1;33m\u001B[0m\u001B[1;33m\u001B[0m\u001B[0m\n\u001B[0m\u001B[0;32m    308\u001B[0m \u001B[1;33m\u001B[0m\u001B[0m\n\u001B[0;32m    309\u001B[0m \u001B[1;33m\u001B[0m\u001B[0m\n",
      "\u001B[1;32m~\\PycharmProjects\\thesis\\util\\proximityforest.py\u001B[0m in \u001B[0;36m<lambda>\u001B[1;34m(x, y)\u001B[0m\n\u001B[0;32m     48\u001B[0m         \u001B[0mdepth\u001B[0m \u001B[1;33m+=\u001B[0m \u001B[1;36m1\u001B[0m\u001B[1;33m\u001B[0m\u001B[1;33m\u001B[0m\u001B[0m\n\u001B[0;32m     49\u001B[0m \u001B[1;33m\u001B[0m\u001B[0m\n\u001B[1;32m---> 50\u001B[1;33m         \u001B[0mself\u001B[0m\u001B[1;33m.\u001B[0m\u001B[0mmeasure\u001B[0m \u001B[1;33m=\u001B[0m \u001B[1;32mlambda\u001B[0m \u001B[0mx\u001B[0m\u001B[1;33m,\u001B[0m \u001B[0my\u001B[0m\u001B[1;33m:\u001B[0m \u001B[0mdistance_measure\u001B[0m\u001B[1;33m(\u001B[0m\u001B[0mx\u001B[0m\u001B[1;33m,\u001B[0m \u001B[0my\u001B[0m\u001B[1;33m,\u001B[0m \u001B[1;33m**\u001B[0m\u001B[0mdistance_kwargs\u001B[0m\u001B[1;33m)\u001B[0m\u001B[1;33m\u001B[0m\u001B[1;33m\u001B[0m\u001B[0m\n\u001B[0m\u001B[0;32m     51\u001B[0m         \u001B[0mself\u001B[0m\u001B[1;33m.\u001B[0m\u001B[0mbranches\u001B[0m \u001B[1;33m=\u001B[0m \u001B[1;33m[\u001B[0m\u001B[1;33m]\u001B[0m  \u001B[1;31m# Contains internal nodes or leaf nodes\u001B[0m\u001B[1;33m\u001B[0m\u001B[1;33m\u001B[0m\u001B[0m\n\u001B[0;32m     52\u001B[0m \u001B[1;33m\u001B[0m\u001B[0m\n",
      "\u001B[1;32m~\\PycharmProjects\\thesis\\util\\distance.py\u001B[0m in \u001B[0;36mcalculate_tcr_dist2_cached\u001B[1;34m(seq1, seq2, nan_distance, organism)\u001B[0m\n\u001B[0;32m     92\u001B[0m         \u001B[1;32mreturn\u001B[0m \u001B[0mCACHE_DICT\u001B[0m\u001B[1;33m[\u001B[0m\u001B[0mid\u001B[0m\u001B[1;33m]\u001B[0m\u001B[1;33m\u001B[0m\u001B[1;33m\u001B[0m\u001B[0m\n\u001B[0;32m     93\u001B[0m     \u001B[1;32melse\u001B[0m\u001B[1;33m:\u001B[0m\u001B[1;33m\u001B[0m\u001B[1;33m\u001B[0m\u001B[0m\n\u001B[1;32m---> 94\u001B[1;33m         \u001B[0mres\u001B[0m \u001B[1;33m=\u001B[0m \u001B[0mcalculate_tcr_dist2\u001B[0m\u001B[1;33m(\u001B[0m\u001B[0mseq1\u001B[0m\u001B[1;33m,\u001B[0m \u001B[0mseq2\u001B[0m\u001B[1;33m,\u001B[0m \u001B[0mnan_distance\u001B[0m\u001B[1;33m=\u001B[0m\u001B[0mnan_distance\u001B[0m\u001B[1;33m,\u001B[0m \u001B[0morganism\u001B[0m\u001B[1;33m=\u001B[0m\u001B[0morganism\u001B[0m\u001B[1;33m)\u001B[0m\u001B[1;33m\u001B[0m\u001B[1;33m\u001B[0m\u001B[0m\n\u001B[0m\u001B[0;32m     95\u001B[0m         \u001B[0mCACHE_DICT\u001B[0m\u001B[1;33m[\u001B[0m\u001B[0mid\u001B[0m\u001B[1;33m]\u001B[0m \u001B[1;33m=\u001B[0m \u001B[0mres\u001B[0m\u001B[1;33m\u001B[0m\u001B[1;33m\u001B[0m\u001B[0m\n\u001B[0;32m     96\u001B[0m         \u001B[1;32mreturn\u001B[0m \u001B[0mres\u001B[0m\u001B[1;33m\u001B[0m\u001B[1;33m\u001B[0m\u001B[0m\n",
      "\u001B[1;32m~\\PycharmProjects\\thesis\\util\\distance.py\u001B[0m in \u001B[0;36mcalculate_tcr_dist2\u001B[1;34m(seq1, seq2, nan_distance, organism)\u001B[0m\n\u001B[0;32m     56\u001B[0m \u001B[1;33m\u001B[0m\u001B[0m\n\u001B[0;32m     57\u001B[0m     \u001B[1;31m# contains the df a nan value?\u001B[0m\u001B[1;33m\u001B[0m\u001B[1;33m\u001B[0m\u001B[0m\n\u001B[1;32m---> 58\u001B[1;33m     \u001B[1;32mif\u001B[0m \u001B[0mdf\u001B[0m\u001B[1;33m.\u001B[0m\u001B[0misnull\u001B[0m\u001B[1;33m(\u001B[0m\u001B[1;33m)\u001B[0m\u001B[1;33m.\u001B[0m\u001B[0mvalues\u001B[0m\u001B[1;33m.\u001B[0m\u001B[0many\u001B[0m\u001B[1;33m(\u001B[0m\u001B[1;33m)\u001B[0m\u001B[1;33m:\u001B[0m\u001B[1;33m\u001B[0m\u001B[1;33m\u001B[0m\u001B[0m\n\u001B[0m\u001B[0;32m     59\u001B[0m         \u001B[1;32mreturn\u001B[0m \u001B[0mnan_distance\u001B[0m\u001B[1;33m\u001B[0m\u001B[1;33m\u001B[0m\u001B[0m\n\u001B[0;32m     60\u001B[0m \u001B[1;33m\u001B[0m\u001B[0m\n",
      "\u001B[1;31mUnboundLocalError\u001B[0m: local variable 'df' referenced before assignment"
     ]
    }
   ],
   "source": [
    "# proximity forest, different candidate_splits, tcrdist\n",
    "\n",
    "# proximity forest, different candidate_splits\n",
    "\n",
    "models_to_evaluate = [\n",
    "\n",
    "    {'name': 'ProximityForest (sqrt, tcrdist, nd=7)',\n",
    "     'model': ProximityForestClassifier(distance_measure=calculate_tcr_dist2_cached, sample_multiple_splits='sqrt',\n",
    "                                        distance_kwargs={'nan_distance': 7}),\n",
    "     'group': 'pf_candidate_splits',\n",
    "     'extract_features': False,\n",
    "     'drop_train_na': False},\n",
    "\n",
    "    {'name': 'ProximityForest (half, tcrdist, nd=7)',\n",
    "     'model': ProximityForestClassifier(distance_measure=calculate_tcr_dist2_cached, sample_multiple_splits='half',\n",
    "                                        distance_kwargs={'nan_distance': 7}),\n",
    "     'group': 'pf_candidate_splits',\n",
    "     'extract_features': False,\n",
    "     'drop_train_na': False},\n",
    "\n",
    "    {'name': 'ProximityForest (all, tcrdist, nd=7)',\n",
    "     'model': ProximityForestClassifier(distance_measure=calculate_tcr_dist2_cached, sample_multiple_splits='all',\n",
    "                                        distance_kwargs={'nan_distance': 7}),\n",
    "     'group': 'pf_candidate_splits',\n",
    "     'extract_features': False,\n",
    "     'drop_train_na': False},\n",
    "\n",
    "]\n",
    "\n",
    "print(list([m['name'] for m in models_to_evaluate]))\n",
    "outputs = []\n",
    "\n",
    "dataset_size = [50, 100, 200]\n",
    "for dataset_size in dataset_size:\n",
    "    print(f\"### Dataset size: {dataset_size} ###\")\n",
    "    update_data_per_fold(dataset_size)\n",
    "    scores, output_csv = evaluate_model_list(models_to_evaluate)\n",
    "    outputs.append(output_csv)\n",
    "    print(outputs)\n",
    "\n",
    "title = \"ProximityForest with different number of candidate splits\"\n",
    "output = \"graphs/GILGFVFTL-pf-candidate-splits.png\"\n",
    "composed_df = compose_all(outputs, 'pf_candidate_splits')\n",
    "plot_scores(composed_df, title, wrap=True, x=\"df_size\", hue=\"model\", xlabel=\"Dataset size\", ylabel=\"AUC\",\n",
    "            output_file=output,\n",
    "            plot=True)"
   ],
   "metadata": {
    "collapsed": false
   }
  },
  {
   "cell_type": "code",
   "execution_count": 9,
   "outputs": [
    {
     "name": "stdout",
     "output_type": "stream",
     "text": [
      "['Random Forest (both chains, no_nan)', 'Random Forest (both chains, mean imputed)', 'Random Forest (Seperate chains, no_nan)', 'Random Forest (Seperate chains)']\n",
      "### Dataset size: 50 ###\n"
     ]
    },
    {
     "name": "stderr",
     "output_type": "stream",
     "text": [
      "C:\\Users\\arnod\\PycharmProjects\\thesis\\util\\epitopes.py:6: DtypeWarning: Columns (20,29,30) have mixed types. Specify dtype option on import or set low_memory=False.\n",
      "  df_vdjdb = pd.read_csv('data/vdjdb-2022-03-30/vdjdb_full.txt', sep='\\t')\n"
     ]
    },
    {
     "name": "stdout",
     "output_type": "stream",
     "text": [
      "Number of negative samples changed from 47033 to 44205 (because of overlap with positive samples)\n",
      "Positive samples: alpha only: 2580, beta only: 3056, both: 2194, none: 0\n",
      "Negative samples (will be sampled to select same amount as positive): alpha only: 4499, beta only: 17510, both: 22196, none: 0\n",
      "Nan: train: 40, test: 108\n",
      "No Nan: train: 9, test: 108\n",
      "\n",
      "Evaluating model 1/4\n",
      "{'name': 'Random Forest (both chains, no_nan)', 'model': RandomForestClassifier(random_state=0), 'chain': 'both', 'group': 'chain_inputs', 'drop_train_na': True}\n",
      "0.8567241379310344\n",
      "0.815862068965517\n",
      "0.8737931034482759\n",
      "0.8539655172413793\n",
      "0.8617241379310344\n",
      "\n",
      "Evaluating model 2/4\n",
      "{'name': 'Random Forest (both chains, mean imputed)', 'model': RandomForestClassifier(random_state=0), 'chain': 'both', 'group': 'chain_inputs', 'imputer': SimpleImputer()}\n",
      "0.8825862068965518\n",
      "0.8725862068965516\n",
      "0.8877586206896552\n",
      "0.8886206896551724\n",
      "0.8879310344827587\n",
      "\n",
      "Evaluating model 3/4\n",
      "{'name': 'Random Forest (Seperate chains, no_nan)', 'model': None, 'model_alpha': RandomForestClassifier(random_state=0), 'model_beta': RandomForestClassifier(random_state=0), 'chain': 'seperate', 'group': 'chain_inputs', 'drop_train_na': True}\n",
      "0.8396551724137931\n",
      "0.8691379310344827\n",
      "0.8772413793103448\n",
      "0.8591379310344827\n",
      "0.8568965517241379\n",
      "\n",
      "Evaluating model 4/4\n",
      "{'name': 'Random Forest (Seperate chains)', 'model_alpha': RandomForestClassifier(random_state=0), 'model': None, 'model_beta': RandomForestClassifier(random_state=0), 'chain': 'seperate', 'group': 'chain_inputs', 'imputer': SimpleImputer()}\n",
      "0.8689655172413793\n",
      "0.8731034482758621\n",
      "0.8996551724137932\n",
      "0.8941379310344827\n",
      "0.9037931034482758\n",
      "Baseline Random Forest (NaNs dropped in train) not found in scores, using Random Forest (both chains, no_nan) instead\n",
      "Baseline Random Forest (NaNs dropped in train) not found in scores, using Random Forest (both chains, no_nan) instead\n",
      "Finished evaluating 4 models at 20230616-060535 in 0:00:03.644125 seconds\n",
      "['outputs/model-evaluations-20230616-060531-GILGFVFTL-50-imputation-constant-numbers/scores-20230616-060535.csv']\n",
      "### Dataset size: 100 ###\n"
     ]
    },
    {
     "name": "stderr",
     "output_type": "stream",
     "text": [
      "C:\\Users\\arnod\\PycharmProjects\\thesis\\util\\epitopes.py:6: DtypeWarning: Columns (20,29,30) have mixed types. Specify dtype option on import or set low_memory=False.\n",
      "  df_vdjdb = pd.read_csv('data/vdjdb-2022-03-30/vdjdb_full.txt', sep='\\t')\n"
     ]
    },
    {
     "name": "stdout",
     "output_type": "stream",
     "text": [
      "Number of negative samples changed from 47033 to 44205 (because of overlap with positive samples)\n",
      "Positive samples: alpha only: 2580, beta only: 3056, both: 2194, none: 0\n",
      "Negative samples (will be sampled to select same amount as positive): alpha only: 4499, beta only: 17510, both: 22196, none: 0\n",
      "Nan: train: 80, test: 108\n",
      "No Nan: train: 18, test: 108\n",
      "\n",
      "Evaluating model 1/4\n",
      "{'name': 'Random Forest (both chains, no_nan)', 'model': RandomForestClassifier(random_state=0), 'chain': 'both', 'group': 'chain_inputs', 'drop_train_na': True}\n",
      "0.9058620689655171\n",
      "0.8698275862068966\n",
      "0.8901724137931034\n",
      "0.8629310344827587\n",
      "0.8877586206896553\n",
      "\n",
      "Evaluating model 2/4\n",
      "{'name': 'Random Forest (both chains, mean imputed)', 'model': RandomForestClassifier(random_state=0), 'chain': 'both', 'group': 'chain_inputs', 'imputer': SimpleImputer()}\n",
      "0.9162068965517242\n",
      "0.8962068965517241\n",
      "0.9089655172413793\n",
      "0.8896551724137931\n",
      "0.8958620689655172\n",
      "\n",
      "Evaluating model 3/4\n",
      "{'name': 'Random Forest (Seperate chains, no_nan)', 'model': None, 'model_alpha': RandomForestClassifier(random_state=0), 'model_beta': RandomForestClassifier(random_state=0), 'chain': 'seperate', 'group': 'chain_inputs', 'drop_train_na': True}\n",
      "0.9058620689655172\n",
      "0.8781034482758621\n",
      "0.8984482758620689\n",
      "0.846896551724138\n",
      "0.8846551724137931\n",
      "\n",
      "Evaluating model 4/4\n",
      "{'name': 'Random Forest (Seperate chains)', 'model_alpha': RandomForestClassifier(random_state=0), 'model': None, 'model_beta': RandomForestClassifier(random_state=0), 'chain': 'seperate', 'group': 'chain_inputs', 'imputer': SimpleImputer()}\n",
      "0.916551724137931\n",
      "0.8886206896551723\n",
      "0.9127586206896552\n",
      "0.9010344827586206\n",
      "0.9134482758620689\n",
      "Baseline Random Forest (NaNs dropped in train) not found in scores, using Random Forest (both chains, no_nan) instead\n",
      "Baseline Random Forest (NaNs dropped in train) not found in scores, using Random Forest (both chains, no_nan) instead\n",
      "Finished evaluating 4 models at 20230616-060544 in 0:00:05.044708 seconds\n",
      "['outputs/model-evaluations-20230616-060531-GILGFVFTL-50-imputation-constant-numbers/scores-20230616-060535.csv', 'outputs/model-evaluations-20230616-060539-GILGFVFTL-100-imputation-constant-numbers/scores-20230616-060544.csv']\n",
      "### Dataset size: 200 ###\n"
     ]
    },
    {
     "name": "stderr",
     "output_type": "stream",
     "text": [
      "C:\\Users\\arnod\\PycharmProjects\\thesis\\util\\epitopes.py:6: DtypeWarning: Columns (20,29,30) have mixed types. Specify dtype option on import or set low_memory=False.\n",
      "  df_vdjdb = pd.read_csv('data/vdjdb-2022-03-30/vdjdb_full.txt', sep='\\t')\n"
     ]
    },
    {
     "name": "stdout",
     "output_type": "stream",
     "text": [
      "Number of negative samples changed from 47033 to 44205 (because of overlap with positive samples)\n",
      "Positive samples: alpha only: 2580, beta only: 3056, both: 2194, none: 0\n",
      "Negative samples (will be sampled to select same amount as positive): alpha only: 4499, beta only: 17510, both: 22196, none: 0\n",
      "Nan: train: 160, test: 108\n",
      "No Nan: train: 40, test: 108\n",
      "\n",
      "Evaluating model 1/4\n",
      "{'name': 'Random Forest (both chains, no_nan)', 'model': RandomForestClassifier(random_state=0), 'chain': 'both', 'group': 'chain_inputs', 'drop_train_na': True}\n",
      "0.9098275862068965\n",
      "0.895\n",
      "0.8920689655172414\n",
      "0.8670689655172412\n",
      "0.8844827586206897\n",
      "\n",
      "Evaluating model 2/4\n",
      "{'name': 'Random Forest (both chains, mean imputed)', 'model': RandomForestClassifier(random_state=0), 'chain': 'both', 'group': 'chain_inputs', 'imputer': SimpleImputer()}\n",
      "0.9131034482758621\n",
      "0.9025862068965517\n",
      "0.8944827586206897\n",
      "0.891551724137931\n",
      "0.8955172413793102\n",
      "\n",
      "Evaluating model 3/4\n",
      "{'name': 'Random Forest (Seperate chains, no_nan)', 'model': None, 'model_alpha': RandomForestClassifier(random_state=0), 'model_beta': RandomForestClassifier(random_state=0), 'chain': 'seperate', 'group': 'chain_inputs', 'drop_train_na': True}\n",
      "0.9048275862068965\n",
      "0.9067241379310345\n",
      "0.9108620689655172\n",
      "0.8774137931034482\n",
      "0.8981034482758621\n",
      "\n",
      "Evaluating model 4/4\n",
      "{'name': 'Random Forest (Seperate chains)', 'model_alpha': RandomForestClassifier(random_state=0), 'model': None, 'model_beta': RandomForestClassifier(random_state=0), 'chain': 'seperate', 'group': 'chain_inputs', 'imputer': SimpleImputer()}\n",
      "0.9143103448275861\n",
      "0.908103448275862\n",
      "0.9356896551724139\n",
      "0.9168965517241379\n",
      "0.9148275862068965\n",
      "Baseline Random Forest (NaNs dropped in train) not found in scores, using Random Forest (both chains, no_nan) instead\n",
      "Baseline Random Forest (NaNs dropped in train) not found in scores, using Random Forest (both chains, no_nan) instead\n",
      "Finished evaluating 4 models at 20230616-060600 in 0:00:07.047842 seconds\n",
      "['outputs/model-evaluations-20230616-060531-GILGFVFTL-50-imputation-constant-numbers/scores-20230616-060535.csv', 'outputs/model-evaluations-20230616-060539-GILGFVFTL-100-imputation-constant-numbers/scores-20230616-060544.csv', 'outputs/model-evaluations-20230616-060553-GILGFVFTL-200-imputation-constant-numbers/scores-20230616-060600.csv']\n",
      "### Dataset size: 500 ###\n"
     ]
    },
    {
     "name": "stderr",
     "output_type": "stream",
     "text": [
      "C:\\Users\\arnod\\PycharmProjects\\thesis\\util\\epitopes.py:6: DtypeWarning: Columns (20,29,30) have mixed types. Specify dtype option on import or set low_memory=False.\n",
      "  df_vdjdb = pd.read_csv('data/vdjdb-2022-03-30/vdjdb_full.txt', sep='\\t')\n"
     ]
    },
    {
     "name": "stdout",
     "output_type": "stream",
     "text": [
      "Number of negative samples changed from 47033 to 44205 (because of overlap with positive samples)\n",
      "Positive samples: alpha only: 2580, beta only: 3056, both: 2194, none: 0\n",
      "Negative samples (will be sampled to select same amount as positive): alpha only: 4499, beta only: 17510, both: 22196, none: 0\n",
      "Nan: train: 400, test: 108\n",
      "No Nan: train: 100, test: 108\n",
      "\n",
      "Evaluating model 1/4\n",
      "{'name': 'Random Forest (both chains, no_nan)', 'model': RandomForestClassifier(random_state=0), 'chain': 'both', 'group': 'chain_inputs', 'drop_train_na': True}\n",
      "0.8832758620689654\n",
      "0.8863793103448276\n",
      "0.890344827586207\n",
      "0.8832758620689655\n",
      "0.8756896551724137\n",
      "\n",
      "Evaluating model 2/4\n",
      "{'name': 'Random Forest (both chains, mean imputed)', 'model': RandomForestClassifier(random_state=0), 'chain': 'both', 'group': 'chain_inputs', 'imputer': SimpleImputer()}\n",
      "0.8901724137931034\n",
      "0.9074137931034483\n",
      "0.9079310344827586\n",
      "0.9005172413793102\n",
      "0.8851724137931035\n",
      "\n",
      "Evaluating model 3/4\n",
      "{'name': 'Random Forest (Seperate chains, no_nan)', 'model': None, 'model_alpha': RandomForestClassifier(random_state=0), 'model_beta': RandomForestClassifier(random_state=0), 'chain': 'seperate', 'group': 'chain_inputs', 'drop_train_na': True}\n",
      "0.9113793103448276\n",
      "0.9051724137931035\n",
      "0.9241379310344828\n",
      "0.9137931034482759\n",
      "0.9103448275862069\n",
      "\n",
      "Evaluating model 4/4\n",
      "{'name': 'Random Forest (Seperate chains)', 'model_alpha': RandomForestClassifier(random_state=0), 'model': None, 'model_beta': RandomForestClassifier(random_state=0), 'chain': 'seperate', 'group': 'chain_inputs', 'imputer': SimpleImputer()}\n",
      "0.9282758620689656\n",
      "0.9144827586206896\n",
      "0.9401724137931035\n",
      "0.9120689655172414\n",
      "0.9386206896551724\n",
      "Baseline Random Forest (NaNs dropped in train) not found in scores, using Random Forest (both chains, no_nan) instead\n",
      "Baseline Random Forest (NaNs dropped in train) not found in scores, using Random Forest (both chains, no_nan) instead\n",
      "Finished evaluating 4 models at 20230616-060625 in 0:00:14.125766 seconds\n",
      "['outputs/model-evaluations-20230616-060531-GILGFVFTL-50-imputation-constant-numbers/scores-20230616-060535.csv', 'outputs/model-evaluations-20230616-060539-GILGFVFTL-100-imputation-constant-numbers/scores-20230616-060544.csv', 'outputs/model-evaluations-20230616-060553-GILGFVFTL-200-imputation-constant-numbers/scores-20230616-060600.csv', 'outputs/model-evaluations-20230616-060610-GILGFVFTL-500-imputation-constant-numbers/scores-20230616-060625.csv']\n",
      "### Dataset size: 1000 ###\n"
     ]
    },
    {
     "name": "stderr",
     "output_type": "stream",
     "text": [
      "C:\\Users\\arnod\\PycharmProjects\\thesis\\util\\epitopes.py:6: DtypeWarning: Columns (20,29,30) have mixed types. Specify dtype option on import or set low_memory=False.\n",
      "  df_vdjdb = pd.read_csv('data/vdjdb-2022-03-30/vdjdb_full.txt', sep='\\t')\n"
     ]
    },
    {
     "name": "stdout",
     "output_type": "stream",
     "text": [
      "Number of negative samples changed from 47033 to 44205 (because of overlap with positive samples)\n",
      "Positive samples: alpha only: 2580, beta only: 3056, both: 2194, none: 0\n",
      "Negative samples (will be sampled to select same amount as positive): alpha only: 4499, beta only: 17510, both: 22196, none: 0\n",
      "Nan: train: 800, test: 108\n",
      "No Nan: train: 192, test: 108\n",
      "\n",
      "Evaluating model 1/4\n",
      "{'name': 'Random Forest (both chains, no_nan)', 'model': RandomForestClassifier(random_state=0), 'chain': 'both', 'group': 'chain_inputs', 'drop_train_na': True}\n",
      "0.891551724137931\n",
      "0.8837931034482758\n",
      "0.8979310344827586\n",
      "0.8932758620689655\n",
      "0.8758620689655172\n",
      "\n",
      "Evaluating model 2/4\n",
      "{'name': 'Random Forest (both chains, mean imputed)', 'model': RandomForestClassifier(random_state=0), 'chain': 'both', 'group': 'chain_inputs', 'imputer': SimpleImputer()}\n",
      "0.9168965517241381\n",
      "0.9110344827586206\n",
      "0.9163793103448276\n",
      "0.8953448275862068\n",
      "0.908103448275862\n",
      "\n",
      "Evaluating model 3/4\n",
      "{'name': 'Random Forest (Seperate chains, no_nan)', 'model': None, 'model_alpha': RandomForestClassifier(random_state=0), 'model_beta': RandomForestClassifier(random_state=0), 'chain': 'seperate', 'group': 'chain_inputs', 'drop_train_na': True}\n",
      "0.9177586206896551\n",
      "0.9056896551724137\n",
      "0.9298275862068965\n",
      "0.913448275862069\n",
      "0.9108620689655172\n",
      "\n",
      "Evaluating model 4/4\n",
      "{'name': 'Random Forest (Seperate chains)', 'model_alpha': RandomForestClassifier(random_state=0), 'model': None, 'model_beta': RandomForestClassifier(random_state=0), 'chain': 'seperate', 'group': 'chain_inputs', 'imputer': SimpleImputer()}\n",
      "0.945344827586207\n",
      "0.956206896551724\n",
      "0.9318965517241381\n",
      "0.9413793103448276\n",
      "0.9370689655172415\n",
      "Baseline Random Forest (NaNs dropped in train) not found in scores, using Random Forest (both chains, no_nan) instead\n",
      "Baseline Random Forest (NaNs dropped in train) not found in scores, using Random Forest (both chains, no_nan) instead\n",
      "Finished evaluating 4 models at 20230616-060708 in 0:00:31.982974 seconds\n",
      "['outputs/model-evaluations-20230616-060531-GILGFVFTL-50-imputation-constant-numbers/scores-20230616-060535.csv', 'outputs/model-evaluations-20230616-060539-GILGFVFTL-100-imputation-constant-numbers/scores-20230616-060544.csv', 'outputs/model-evaluations-20230616-060553-GILGFVFTL-200-imputation-constant-numbers/scores-20230616-060600.csv', 'outputs/model-evaluations-20230616-060610-GILGFVFTL-500-imputation-constant-numbers/scores-20230616-060625.csv', 'outputs/model-evaluations-20230616-060636-GILGFVFTL-1000-imputation-constant-numbers/scores-20230616-060708.csv']\n"
     ]
    },
    {
     "data": {
      "text/plain": "<Figure size 432x288 with 1 Axes>",
      "image/png": "[encoded data removed]"
     },
     "metadata": {},
     "output_type": "display_data"
    },
    {
     "name": "stdout",
     "output_type": "stream",
     "text": [
      "Baseline Random Forest (NaNs dropped in train) not found in scores, using Random Forest (both chains, no_nan) instead\n"
     ]
    },
    {
     "data": {
      "text/plain": "<Figure size 432x288 with 1 Axes>",
      "image/png": "[encoded data removed]"
     },
     "metadata": {},
     "output_type": "display_data"
    }
   ],
   "source": [
    "# seperate chains with or without nan\n",
    "\n",
    "models_to_evaluate = [\n",
    "    {\n",
    "        'name': 'Random Forest (both chains, no_nan)',\n",
    "        'model': RandomForestClassifier(random_state=0),\n",
    "        'chain': 'both',\n",
    "        'group': 'chain_inputs',\n",
    "        'drop_train_na': True\n",
    "    },\n",
    "\n",
    "    {\n",
    "        'name': 'Random Forest (both chains, mean imputed)',\n",
    "        'model': RandomForestClassifier(random_state=0),\n",
    "        'chain': 'both',\n",
    "        'group': 'chain_inputs',\n",
    "        'imputer': mean_imputer,\n",
    "    },\n",
    "\n",
    "    {\n",
    "        'name': 'Random Forest (Seperate chains, no_nan)',\n",
    "        'model': None,\n",
    "        'model_alpha': RandomForestClassifier(random_state=0),\n",
    "        'model_beta': RandomForestClassifier(random_state=0),\n",
    "        'chain': 'seperate',\n",
    "        'group': 'chain_inputs',\n",
    "        'drop_train_na': True\n",
    "    },\n",
    "\n",
    "    {\n",
    "        'name': 'Random Forest (Seperate chains)',\n",
    "        'model_alpha': RandomForestClassifier(random_state=0),\n",
    "        'model': None,\n",
    "        'model_beta': RandomForestClassifier(random_state=0),\n",
    "        'chain': 'seperate',\n",
    "        'group': 'chain_inputs',\n",
    "        'imputer': mean_imputer,\n",
    "    },\n",
    "\n",
    "]\n",
    "\n",
    "print(list([m['name'] for m in models_to_evaluate]))\n",
    "outputs = []\n",
    "\n",
    "dataset_size = [50, 100, 200, 500, 1000]\n",
    "for dataset_size in dataset_size:\n",
    "    print(f\"### Dataset size: {dataset_size} ###\")\n",
    "    update_data_per_fold(dataset_size)\n",
    "    scores, output_csv = evaluate_model_list(models_to_evaluate)\n",
    "    outputs.append(output_csv)\n",
    "    print(outputs)\n",
    "\n",
    "title = \"ProximityForest with different number of candidate splits\"\n",
    "output = \"graphs/GILGFVFTL-pf-candidate-splits.png\"\n",
    "composed_df = compose_all(outputs, 'pf_candidate_splits')\n",
    "plot_scores(composed_df, title, wrap=True, x=\"df_size\", hue=\"model\", xlabel=\"Dataset size\", ylabel=\"AUC\",\n",
    "            output_file=output,\n",
    "            plot=True)"
   ],
   "metadata": {
    "collapsed": false
   }
  },
  {
   "cell_type": "code",
   "execution_count": 10,
   "outputs": [
    {
     "name": "stdout",
     "output_type": "stream",
     "text": [
      "['Random Forest (0 imputed)', 'Random Forest (10 imputed)', 'Random Forest (100 imputed)', 'Random Forest (1000 imputed)']\n",
      "### Dataset size: 50 ###\n"
     ]
    },
    {
     "name": "stderr",
     "output_type": "stream",
     "text": [
      "C:\\Users\\arnod\\PycharmProjects\\thesis\\util\\epitopes.py:6: DtypeWarning: Columns (20,29,30) have mixed types. Specify dtype option on import or set low_memory=False.\n",
      "  df_vdjdb = pd.read_csv('data/vdjdb-2022-03-30/vdjdb_full.txt', sep='\\t')\n"
     ]
    },
    {
     "name": "stdout",
     "output_type": "stream",
     "text": [
      "Number of negative samples changed from 47033 to 44205 (because of overlap with positive samples)\n",
      "Positive samples: alpha only: 2580, beta only: 3056, both: 2194, none: 0\n",
      "Negative samples (will be sampled to select same amount as positive): alpha only: 4499, beta only: 17510, both: 22196, none: 0\n",
      "Nan: train: 40, test: 108\n",
      "No Nan: train: 9, test: 108\n",
      "\n",
      "Evaluating model 1/4\n",
      "{'name': 'Random Forest (0 imputed)', 'model': RandomForestClassifier(random_state=0), 'imputer': SimpleImputer(fill_value=0, strategy='constant'), 'group': 'rf_imputations'}\n",
      "0.8649999999999998\n",
      "0.8875862068965518\n",
      "0.8701724137931035\n",
      "0.8910344827586207\n",
      "0.891551724137931\n",
      "\n",
      "Evaluating model 2/4\n",
      "{'name': 'Random Forest (10 imputed)', 'model': RandomForestClassifier(random_state=0), 'imputer': SimpleImputer(fill_value=10, strategy='constant'), 'group': 'rf_imputations'}\n",
      "0.887758620689655\n",
      "0.8741379310344827\n",
      "0.8794827586206896\n",
      "0.896551724137931\n",
      "0.8863793103448276\n",
      "\n",
      "Evaluating model 3/4\n",
      "{'name': 'Random Forest (100 imputed)', 'model': RandomForestClassifier(random_state=0), 'imputer': SimpleImputer(fill_value=100, strategy='constant'), 'group': 'rf_imputations'}\n",
      "0.8744827586206896\n",
      "0.8836206896551724\n",
      "0.8817241379310344\n",
      "0.8941379310344827\n",
      "0.879655172413793\n",
      "\n",
      "Evaluating model 4/4\n",
      "{'name': 'Random Forest (1000 imputed)', 'model': RandomForestClassifier(random_state=0), 'imputer': SimpleImputer(fill_value=1000, strategy='constant'), 'group': 'rf_imputations'}\n",
      "0.8701724137931034\n",
      "0.8810344827586207\n",
      "0.8922413793103448\n",
      "0.9029310344827587\n",
      "0.8820689655172413\n",
      "Baseline Random Forest (NaNs dropped in train) not found in scores, using Random Forest (0 imputed) instead\n",
      "Baseline Random Forest (NaNs dropped in train) not found in scores, using Random Forest (0 imputed) instead\n",
      "Finished evaluating 4 models at 20230616-231016 in 0:00:02.167939 seconds\n",
      "['outputs/model-evaluations-20230616-231013-GILGFVFTL-50-imputation-constant-numbers/scores-20230616-231016.csv']\n",
      "### Dataset size: 100 ###\n"
     ]
    },
    {
     "name": "stderr",
     "output_type": "stream",
     "text": [
      "C:\\Users\\arnod\\PycharmProjects\\thesis\\util\\epitopes.py:6: DtypeWarning: Columns (20,29,30) have mixed types. Specify dtype option on import or set low_memory=False.\n",
      "  df_vdjdb = pd.read_csv('data/vdjdb-2022-03-30/vdjdb_full.txt', sep='\\t')\n"
     ]
    },
    {
     "name": "stdout",
     "output_type": "stream",
     "text": [
      "Number of negative samples changed from 47033 to 44205 (because of overlap with positive samples)\n",
      "Positive samples: alpha only: 2580, beta only: 3056, both: 2194, none: 0\n",
      "Negative samples (will be sampled to select same amount as positive): alpha only: 4499, beta only: 17510, both: 22196, none: 0\n",
      "Nan: train: 80, test: 108\n",
      "No Nan: train: 18, test: 108\n",
      "\n",
      "Evaluating model 1/4\n",
      "{'name': 'Random Forest (0 imputed)', 'model': RandomForestClassifier(random_state=0), 'imputer': SimpleImputer(fill_value=0, strategy='constant'), 'group': 'rf_imputations'}\n",
      "0.9124137931034483\n",
      "0.8893103448275862\n",
      "0.9158620689655173\n",
      "0.9072413793103448\n",
      "0.9272413793103448\n",
      "\n",
      "Evaluating model 2/4\n",
      "{'name': 'Random Forest (10 imputed)', 'model': RandomForestClassifier(random_state=0), 'imputer': SimpleImputer(fill_value=10, strategy='constant'), 'group': 'rf_imputations'}\n",
      "0.9024137931034483\n",
      "0.8986206896551724\n",
      "0.9167241379310345\n",
      "0.888103448275862\n",
      "0.9155172413793105\n",
      "\n",
      "Evaluating model 3/4\n",
      "{'name': 'Random Forest (100 imputed)', 'model': RandomForestClassifier(random_state=0), 'imputer': SimpleImputer(fill_value=100, strategy='constant'), 'group': 'rf_imputations'}\n",
      "0.9020689655172415\n",
      "0.9075862068965518\n",
      "0.9239655172413793\n",
      "0.8908620689655172\n",
      "0.9193103448275862\n",
      "\n",
      "Evaluating model 4/4\n",
      "{'name': 'Random Forest (1000 imputed)', 'model': RandomForestClassifier(random_state=0), 'imputer': SimpleImputer(fill_value=1000, strategy='constant'), 'group': 'rf_imputations'}\n",
      "0.9139655172413793\n",
      "0.9062068965517242\n",
      "0.9110344827586206\n",
      "0.8908620689655172\n",
      "0.9237931034482759\n",
      "Baseline Random Forest (NaNs dropped in train) not found in scores, using Random Forest (0 imputed) instead\n",
      "Baseline Random Forest (NaNs dropped in train) not found in scores, using Random Forest (0 imputed) instead\n",
      "Finished evaluating 4 models at 20230616-231022 in 0:00:02.414457 seconds\n",
      "['outputs/model-evaluations-20230616-231013-GILGFVFTL-50-imputation-constant-numbers/scores-20230616-231016.csv', 'outputs/model-evaluations-20230616-231019-GILGFVFTL-100-imputation-constant-numbers/scores-20230616-231022.csv']\n",
      "### Dataset size: 200 ###\n"
     ]
    },
    {
     "name": "stderr",
     "output_type": "stream",
     "text": [
      "C:\\Users\\arnod\\PycharmProjects\\thesis\\util\\epitopes.py:6: DtypeWarning: Columns (20,29,30) have mixed types. Specify dtype option on import or set low_memory=False.\n",
      "  df_vdjdb = pd.read_csv('data/vdjdb-2022-03-30/vdjdb_full.txt', sep='\\t')\n"
     ]
    },
    {
     "name": "stdout",
     "output_type": "stream",
     "text": [
      "Number of negative samples changed from 47033 to 44205 (because of overlap with positive samples)\n",
      "Positive samples: alpha only: 2580, beta only: 3056, both: 2194, none: 0\n",
      "Negative samples (will be sampled to select same amount as positive): alpha only: 4499, beta only: 17510, both: 22196, none: 0\n",
      "Nan: train: 160, test: 108\n",
      "No Nan: train: 40, test: 108\n",
      "\n",
      "Evaluating model 1/4\n",
      "{'name': 'Random Forest (0 imputed)', 'model': RandomForestClassifier(random_state=0), 'imputer': SimpleImputer(fill_value=0, strategy='constant'), 'group': 'rf_imputations'}\n",
      "0.9182758620689655\n",
      "0.8901724137931034\n",
      "0.9374137931034481\n",
      "0.8763793103448276\n",
      "0.8977586206896551\n",
      "\n",
      "Evaluating model 2/4\n",
      "{'name': 'Random Forest (10 imputed)', 'model': RandomForestClassifier(random_state=0), 'imputer': SimpleImputer(fill_value=10, strategy='constant'), 'group': 'rf_imputations'}\n",
      "0.9148275862068964\n",
      "0.8736206896551724\n",
      "0.906206896551724\n",
      "0.9048275862068966\n",
      "0.8746551724137932\n",
      "\n",
      "Evaluating model 3/4\n",
      "{'name': 'Random Forest (100 imputed)', 'model': RandomForestClassifier(random_state=0), 'imputer': SimpleImputer(fill_value=100, strategy='constant'), 'group': 'rf_imputations'}\n",
      "0.8960344827586206\n",
      "0.8946551724137931\n",
      "0.8953448275862069\n",
      "0.8896551724137931\n",
      "0.8705172413793103\n",
      "\n",
      "Evaluating model 4/4\n",
      "{'name': 'Random Forest (1000 imputed)', 'model': RandomForestClassifier(random_state=0), 'imputer': SimpleImputer(fill_value=1000, strategy='constant'), 'group': 'rf_imputations'}\n",
      "0.8989655172413794\n",
      "0.8908620689655172\n",
      "0.9201724137931034\n",
      "0.8993103448275862\n",
      "0.8831034482758621\n",
      "Baseline Random Forest (NaNs dropped in train) not found in scores, using Random Forest (0 imputed) instead\n",
      "Baseline Random Forest (NaNs dropped in train) not found in scores, using Random Forest (0 imputed) instead\n",
      "Finished evaluating 4 models at 20230616-231029 in 0:00:03.100397 seconds\n",
      "['outputs/model-evaluations-20230616-231013-GILGFVFTL-50-imputation-constant-numbers/scores-20230616-231016.csv', 'outputs/model-evaluations-20230616-231019-GILGFVFTL-100-imputation-constant-numbers/scores-20230616-231022.csv', 'outputs/model-evaluations-20230616-231026-GILGFVFTL-200-imputation-constant-numbers/scores-20230616-231029.csv']\n",
      "### Dataset size: 500 ###\n"
     ]
    },
    {
     "name": "stderr",
     "output_type": "stream",
     "text": [
      "C:\\Users\\arnod\\PycharmProjects\\thesis\\util\\epitopes.py:6: DtypeWarning: Columns (20,29,30) have mixed types. Specify dtype option on import or set low_memory=False.\n",
      "  df_vdjdb = pd.read_csv('data/vdjdb-2022-03-30/vdjdb_full.txt', sep='\\t')\n"
     ]
    },
    {
     "name": "stdout",
     "output_type": "stream",
     "text": [
      "Number of negative samples changed from 47033 to 44205 (because of overlap with positive samples)\n",
      "Positive samples: alpha only: 2580, beta only: 3056, both: 2194, none: 0\n",
      "Negative samples (will be sampled to select same amount as positive): alpha only: 4499, beta only: 17510, both: 22196, none: 0\n",
      "Nan: train: 400, test: 108\n",
      "No Nan: train: 100, test: 108\n",
      "\n",
      "Evaluating model 1/4\n",
      "{'name': 'Random Forest (0 imputed)', 'model': RandomForestClassifier(random_state=0), 'imputer': SimpleImputer(fill_value=0, strategy='constant'), 'group': 'rf_imputations'}\n",
      "0.91\n",
      "0.9222413793103449\n",
      "0.9246551724137931\n",
      "0.9125862068965518\n",
      "0.9125862068965516\n",
      "\n",
      "Evaluating model 2/4\n",
      "{'name': 'Random Forest (10 imputed)', 'model': RandomForestClassifier(random_state=0), 'imputer': SimpleImputer(fill_value=10, strategy='constant'), 'group': 'rf_imputations'}\n",
      "0.8965517241379308\n",
      "0.9058620689655172\n",
      "0.9208620689655174\n",
      "0.8996551724137931\n",
      "0.9017241379310345\n",
      "\n",
      "Evaluating model 3/4\n",
      "{'name': 'Random Forest (100 imputed)', 'model': RandomForestClassifier(random_state=0), 'imputer': SimpleImputer(fill_value=100, strategy='constant'), 'group': 'rf_imputations'}\n",
      "0.9051724137931033\n",
      "0.9082758620689655\n",
      "0.9215517241379311\n",
      "0.8905172413793104\n",
      "0.9089655172413793\n",
      "\n",
      "Evaluating model 4/4\n",
      "{'name': 'Random Forest (1000 imputed)', 'model': RandomForestClassifier(random_state=0), 'imputer': SimpleImputer(fill_value=1000, strategy='constant'), 'group': 'rf_imputations'}\n",
      "0.8996551724137931\n",
      "0.9177586206896552\n",
      "0.9163793103448274\n",
      "0.8843103448275862\n",
      "0.916206896551724\n",
      "Baseline Random Forest (NaNs dropped in train) not found in scores, using Random Forest (0 imputed) instead\n",
      "Baseline Random Forest (NaNs dropped in train) not found in scores, using Random Forest (0 imputed) instead\n",
      "Finished evaluating 4 models at 20230616-231042 in 0:00:06.627411 seconds\n",
      "['outputs/model-evaluations-20230616-231013-GILGFVFTL-50-imputation-constant-numbers/scores-20230616-231016.csv', 'outputs/model-evaluations-20230616-231019-GILGFVFTL-100-imputation-constant-numbers/scores-20230616-231022.csv', 'outputs/model-evaluations-20230616-231026-GILGFVFTL-200-imputation-constant-numbers/scores-20230616-231029.csv', 'outputs/model-evaluations-20230616-231035-GILGFVFTL-500-imputation-constant-numbers/scores-20230616-231042.csv']\n",
      "### Dataset size: 1000 ###\n"
     ]
    },
    {
     "name": "stderr",
     "output_type": "stream",
     "text": [
      "C:\\Users\\arnod\\PycharmProjects\\thesis\\util\\epitopes.py:6: DtypeWarning: Columns (20,29,30) have mixed types. Specify dtype option on import or set low_memory=False.\n",
      "  df_vdjdb = pd.read_csv('data/vdjdb-2022-03-30/vdjdb_full.txt', sep='\\t')\n"
     ]
    },
    {
     "name": "stdout",
     "output_type": "stream",
     "text": [
      "Number of negative samples changed from 47033 to 44205 (because of overlap with positive samples)\n",
      "Positive samples: alpha only: 2580, beta only: 3056, both: 2194, none: 0\n",
      "Negative samples (will be sampled to select same amount as positive): alpha only: 4499, beta only: 17510, both: 22196, none: 0\n",
      "Nan: train: 800, test: 108\n",
      "No Nan: train: 192, test: 108\n",
      "\n",
      "Evaluating model 1/4\n",
      "{'name': 'Random Forest (0 imputed)', 'model': RandomForestClassifier(random_state=0), 'imputer': SimpleImputer(fill_value=0, strategy='constant'), 'group': 'rf_imputations'}\n",
      "0.9062068965517243\n",
      "0.8993103448275863\n",
      "0.9155172413793105\n",
      "0.9103448275862068\n",
      "0.9101724137931035\n",
      "\n",
      "Evaluating model 2/4\n",
      "{'name': 'Random Forest (10 imputed)', 'model': RandomForestClassifier(random_state=0), 'imputer': SimpleImputer(fill_value=10, strategy='constant'), 'group': 'rf_imputations'}\n",
      "0.8956896551724138\n",
      "0.8975862068965517\n",
      "0.8994827586206896\n",
      "0.8924137931034484\n",
      "0.8893103448275861\n",
      "\n",
      "Evaluating model 3/4\n",
      "{'name': 'Random Forest (100 imputed)', 'model': RandomForestClassifier(random_state=0), 'imputer': SimpleImputer(fill_value=100, strategy='constant'), 'group': 'rf_imputations'}\n",
      "0.9037931034482758\n",
      "0.8917241379310346\n",
      "0.9091379310344828\n",
      "0.8877586206896553\n",
      "0.8794827586206897\n",
      "\n",
      "Evaluating model 4/4\n",
      "{'name': 'Random Forest (1000 imputed)', 'model': RandomForestClassifier(random_state=0), 'imputer': SimpleImputer(fill_value=1000, strategy='constant'), 'group': 'rf_imputations'}\n",
      "0.9055172413793103\n",
      "0.8963793103448274\n",
      "0.8987931034482758\n",
      "0.896896551724138\n",
      "0.8975862068965518\n",
      "Baseline Random Forest (NaNs dropped in train) not found in scores, using Random Forest (0 imputed) instead\n",
      "Baseline Random Forest (NaNs dropped in train) not found in scores, using Random Forest (0 imputed) instead\n",
      "Finished evaluating 4 models at 20230616-231106 in 0:00:16.392947 seconds\n",
      "['outputs/model-evaluations-20230616-231013-GILGFVFTL-50-imputation-constant-numbers/scores-20230616-231016.csv', 'outputs/model-evaluations-20230616-231019-GILGFVFTL-100-imputation-constant-numbers/scores-20230616-231022.csv', 'outputs/model-evaluations-20230616-231026-GILGFVFTL-200-imputation-constant-numbers/scores-20230616-231029.csv', 'outputs/model-evaluations-20230616-231035-GILGFVFTL-500-imputation-constant-numbers/scores-20230616-231042.csv', 'outputs/model-evaluations-20230616-231049-GILGFVFTL-1000-imputation-constant-numbers/scores-20230616-231106.csv']\n",
      "### Dataset size: 2000 ###\n"
     ]
    },
    {
     "name": "stderr",
     "output_type": "stream",
     "text": [
      "C:\\Users\\arnod\\PycharmProjects\\thesis\\util\\epitopes.py:6: DtypeWarning: Columns (20,29,30) have mixed types. Specify dtype option on import or set low_memory=False.\n",
      "  df_vdjdb = pd.read_csv('data/vdjdb-2022-03-30/vdjdb_full.txt', sep='\\t')\n"
     ]
    },
    {
     "name": "stdout",
     "output_type": "stream",
     "text": [
      "Number of negative samples changed from 47033 to 44205 (because of overlap with positive samples)\n",
      "Positive samples: alpha only: 2580, beta only: 3056, both: 2194, none: 0\n",
      "Negative samples (will be sampled to select same amount as positive): alpha only: 4499, beta only: 17510, both: 22196, none: 0\n",
      "Nan: train: 1600, test: 108\n",
      "No Nan: train: 432, test: 108\n",
      "\n",
      "Evaluating model 1/4\n",
      "{'name': 'Random Forest (0 imputed)', 'model': RandomForestClassifier(random_state=0), 'imputer': SimpleImputer(fill_value=0, strategy='constant'), 'group': 'rf_imputations'}\n",
      "0.898448275862069\n",
      "0.9143103448275862\n",
      "0.906551724137931\n",
      "0.9070689655172414\n",
      "0.903103448275862\n",
      "\n",
      "Evaluating model 2/4\n",
      "{'name': 'Random Forest (10 imputed)', 'model': RandomForestClassifier(random_state=0), 'imputer': SimpleImputer(fill_value=10, strategy='constant'), 'group': 'rf_imputations'}\n",
      "0.9031034482758621\n",
      "0.9091379310344827\n",
      "0.9141379310344828\n",
      "0.9236206896551724\n",
      "0.9056896551724138\n",
      "\n",
      "Evaluating model 3/4\n",
      "{'name': 'Random Forest (100 imputed)', 'model': RandomForestClassifier(random_state=0), 'imputer': SimpleImputer(fill_value=100, strategy='constant'), 'group': 'rf_imputations'}\n",
      "0.9077586206896551\n",
      "0.9112068965517242\n",
      "0.9141379310344828\n",
      "0.9187931034482758\n",
      "0.9106896551724137\n",
      "\n",
      "Evaluating model 4/4\n",
      "{'name': 'Random Forest (1000 imputed)', 'model': RandomForestClassifier(random_state=0), 'imputer': SimpleImputer(fill_value=1000, strategy='constant'), 'group': 'rf_imputations'}\n",
      "0.9048275862068966\n",
      "0.9106896551724138\n",
      "0.9168965517241378\n",
      "0.9213793103448276\n",
      "0.9127586206896553\n",
      "Baseline Random Forest (NaNs dropped in train) not found in scores, using Random Forest (0 imputed) instead\n",
      "Baseline Random Forest (NaNs dropped in train) not found in scores, using Random Forest (0 imputed) instead\n",
      "Finished evaluating 4 models at 20230616-231209 in 0:00:51.752299 seconds\n",
      "['outputs/model-evaluations-20230616-231013-GILGFVFTL-50-imputation-constant-numbers/scores-20230616-231016.csv', 'outputs/model-evaluations-20230616-231019-GILGFVFTL-100-imputation-constant-numbers/scores-20230616-231022.csv', 'outputs/model-evaluations-20230616-231026-GILGFVFTL-200-imputation-constant-numbers/scores-20230616-231029.csv', 'outputs/model-evaluations-20230616-231035-GILGFVFTL-500-imputation-constant-numbers/scores-20230616-231042.csv', 'outputs/model-evaluations-20230616-231049-GILGFVFTL-1000-imputation-constant-numbers/scores-20230616-231106.csv', 'outputs/model-evaluations-20230616-231117-GILGFVFTL-2000-imputation-constant-numbers/scores-20230616-231209.csv']\n"
     ]
    },
    {
     "data": {
      "text/plain": "<Figure size 432x288 with 1 Axes>",
      "image/png": "[encoded data removed]"
     },
     "metadata": {},
     "output_type": "display_data"
    },
    {
     "name": "stdout",
     "output_type": "stream",
     "text": [
      "Baseline Random Forest (NaNs dropped in train) not found in scores, using Random Forest (0 imputed) instead\n"
     ]
    },
    {
     "data": {
      "text/plain": "<Figure size 432x288 with 1 Axes>",
      "image/png": "[encoded data removed]"
     },
     "metadata": {},
     "output_type": "display_data"
    }
   ],
   "source": [
    "models_to_evaluate = [\n",
    "    {\n",
    "        'name': 'Random Forest (0 imputed)',\n",
    "        'model': RandomForestClassifier(random_state=0),\n",
    "        'imputer': zero_imputer,\n",
    "        'group': 'rf_imputations'\n",
    "    },\n",
    "\n",
    "    {\n",
    "        'name': 'Random Forest (10 imputed)',\n",
    "        'model': RandomForestClassifier(random_state=0),\n",
    "        'imputer': impute.SimpleImputer(missing_values=np.nan, strategy='constant', fill_value=10),\n",
    "        'group': 'rf_imputations'\n",
    "    },\n",
    "\n",
    "    {\n",
    "        'name': 'Random Forest (100 imputed)',\n",
    "        'model': RandomForestClassifier(random_state=0),\n",
    "        'imputer': impute.SimpleImputer(missing_values=np.nan, strategy='constant', fill_value=100),\n",
    "        'group': 'rf_imputations'\n",
    "    },\n",
    "\n",
    "    {\n",
    "        'name': 'Random Forest (1000 imputed)',\n",
    "        'model': RandomForestClassifier(random_state=0),\n",
    "        'imputer': impute.SimpleImputer(missing_values=np.nan, strategy='constant', fill_value=1000),\n",
    "        'group': 'rf_imputations'\n",
    "    }\n",
    "]\n",
    "\n",
    "print(list([m['name'] for m in models_to_evaluate]))\n",
    "outputs = []\n",
    "\n",
    "dataset_size = [50, 100, 200, 500, 1000, 2000]\n",
    "for dataset_size in dataset_size:\n",
    "    print(f\"### Dataset size: {dataset_size} ###\")\n",
    "    update_data_per_fold(dataset_size)\n",
    "    scores, output_csv = evaluate_model_list(models_to_evaluate)\n",
    "    outputs.append(output_csv)\n",
    "    print(outputs)\n",
    "\n",
    "title = \"Different constant imputation values for a randomforest\"\n",
    "output = \"graphs/GILGFVFTL-rf-c-imputations-0-10-100-1000.png\"\n",
    "composed_df = compose_all(outputs, 'pf_candidate_splits')\n",
    "plot_scores(composed_df, title, wrap=True, x=\"df_size\", hue=\"model\", xlabel=\"Dataset size\", ylabel=\"AUC\",\n",
    "            output_file=output,\n",
    "            plot=True)"
   ],
   "metadata": {
    "collapsed": false
   }
  },
  {
   "cell_type": "code",
   "execution_count": 25,
   "outputs": [
    {
     "name": "stdout",
     "output_type": "stream",
     "text": [
      "### Epitope: GILGFVFTL ###\n"
     ]
    },
    {
     "name": "stderr",
     "output_type": "stream",
     "text": [
      "C:\\Users\\arnod\\PycharmProjects\\thesis\\util\\epitopes.py:6: DtypeWarning: Columns (20,29,30) have mixed types. Specify dtype option on import or set low_memory=False.\n",
      "  df_vdjdb = pd.read_csv('data/vdjdb-2022-03-30/vdjdb_full.txt', sep='\\t')\n"
     ]
    },
    {
     "name": "stdout",
     "output_type": "stream",
     "text": [
      "Number of negative samples changed from 47033 to 44205 (because of overlap with positive samples)\n",
      "Positive samples: alpha only: 2580, beta only: 3056, both: 2194, none: 0\n",
      "Negative samples (will be sampled to select same amount as positive): alpha only: 4499, beta only: 17510, both: 22196, none: 0\n",
      "Nan: train: 1200, test: 76\n",
      "No Nan: train: 321, test: 76\n",
      "\n",
      "Evaluating model 1/4\n",
      "{'name': 'Random Forest (Seperate chains)', 'model_alpha': RandomForestClassifier(random_state=0), 'model': None, 'model_beta': RandomForestClassifier(random_state=0), 'chain': 'seperate', 'group': 'chain_inputs', 'imputer': SimpleImputer()}\n",
      "0.9009866102889359\n",
      "0.8984480431848854\n",
      "0.8944980147475894\n",
      "0.9361344537815126\n",
      "0.9149425287356322\n",
      "\n",
      "Evaluating model 2/4\n",
      "{'name': 'Random Forest (both chains, no_nan)', 'model': RandomForestClassifier(random_state=0), 'chain': 'both', 'group': 'chain_inputs', 'drop_train_na': True}\n",
      "0.8872445384073291\n",
      "0.9190283400809716\n",
      "0.8794668179239933\n",
      "0.9365546218487395\n",
      "0.9340996168582376\n",
      "\n",
      "Evaluating model 3/4\n",
      "{'name': 'Random Forest (both chains, mean imputed)', 'model': RandomForestClassifier(random_state=0), 'chain': 'both', 'group': 'chain_inputs', 'imputer': SimpleImputer()}\n",
      "0.8872445384073292\n",
      "0.928812415654521\n",
      "0.894781622234827\n",
      "0.923109243697479\n",
      "0.9164750957854406\n",
      "\n",
      "Evaluating model 4/4\n",
      "{'name': 'Random Forest (Seperate chains, no_nan)', 'model': None, 'model_alpha': RandomForestClassifier(random_state=0), 'model_beta': RandomForestClassifier(random_state=0), 'chain': 'seperate', 'group': 'chain_inputs', 'drop_train_na': True}\n",
      "0.8999295278365045\n",
      "0.9213900134952766\n",
      "0.8865570051049347\n",
      "0.9163865546218488\n",
      "0.9356321839080459\n",
      "Baseline Random Forest (NaNs dropped in train) not found in scores, using Random Forest (Seperate chains) instead\n",
      "Baseline Random Forest (NaNs dropped in train) not found in scores, using Random Forest (Seperate chains) instead\n",
      "Finished evaluating 4 models at 20230616-070559 in 0:00:44.264946 seconds\n",
      "['outputs/model-evaluations-20230616-070514-GILGFVFTL-1500-imputation-constant-numbers/scores-20230616-070559.csv']\n",
      "Finished GILGFVFTL\n",
      "['outputs/model-evaluations-20230616-070514-GILGFVFTL-1500-imputation-constant-numbers/scores-20230616-070559.csv']\n",
      "### Epitope: NLVPMVATV ###\n"
     ]
    },
    {
     "name": "stderr",
     "output_type": "stream",
     "text": [
      "C:\\Users\\arnod\\PycharmProjects\\thesis\\util\\epitopes.py:6: DtypeWarning: Columns (20,29,30) have mixed types. Specify dtype option on import or set low_memory=False.\n",
      "  df_vdjdb = pd.read_csv('data/vdjdb-2022-03-30/vdjdb_full.txt', sep='\\t')\n"
     ]
    },
    {
     "name": "stdout",
     "output_type": "stream",
     "text": [
      "Number of negative samples changed from 47471 to 46335 (because of overlap with positive samples)\n",
      "Positive samples: alpha only: 2158, beta only: 4667, both: 567, none: 0\n",
      "Negative samples (will be sampled to select same amount as positive): alpha only: 4935, beta only: 15899, both: 25501, none: 0\n",
      "Nan: train: 1200, test: 27\n",
      "No Nan: train: 87, test: 27\n",
      "\n",
      "Evaluating model 1/4\n",
      "{'name': 'Random Forest (Seperate chains)', 'model_alpha': RandomForestClassifier(random_state=0), 'model': None, 'model_beta': RandomForestClassifier(random_state=0), 'chain': 'seperate', 'group': 'chain_inputs', 'imputer': SimpleImputer()}\n",
      "0.5294117647058824\n",
      "0.7666666666666666\n",
      "0.6479289940828402\n",
      "0.6333333333333333\n",
      "0.47928994082840237\n",
      "\n",
      "Evaluating model 2/4\n",
      "{'name': 'Random Forest (both chains, no_nan)', 'model': RandomForestClassifier(random_state=0), 'chain': 'both', 'group': 'chain_inputs', 'drop_train_na': True}\n",
      "0.6411764705882352\n",
      "0.7375\n",
      "0.636094674556213\n",
      "0.37222222222222223\n",
      "0.5473372781065089\n",
      "\n",
      "Evaluating model 3/4\n",
      "{'name': 'Random Forest (both chains, mean imputed)', 'model': RandomForestClassifier(random_state=0), 'chain': 'both', 'group': 'chain_inputs', 'imputer': SimpleImputer()}\n",
      "0.6470588235294117\n",
      "0.7208333333333334\n",
      "0.5384615384615384\n",
      "0.4666666666666666\n",
      "0.42603550295857984\n",
      "\n",
      "Evaluating model 4/4\n",
      "{'name': 'Random Forest (Seperate chains, no_nan)', 'model': None, 'model_alpha': RandomForestClassifier(random_state=0), 'model_beta': RandomForestClassifier(random_state=0), 'chain': 'seperate', 'group': 'chain_inputs', 'drop_train_na': True}\n",
      "0.6411764705882352\n",
      "0.7749999999999999\n",
      "0.591715976331361\n",
      "0.4111111111111111\n",
      "0.46745562130177515\n",
      "Baseline Random Forest (NaNs dropped in train) not found in scores, using Random Forest (Seperate chains) instead\n",
      "Baseline Random Forest (NaNs dropped in train) not found in scores, using Random Forest (Seperate chains) instead\n",
      "Finished evaluating 4 models at 20230616-070727 in 0:01:19.631764 seconds\n",
      "['outputs/model-evaluations-20230616-070514-GILGFVFTL-1500-imputation-constant-numbers/scores-20230616-070559.csv', 'outputs/model-evaluations-20230616-070607-NLVPMVATV-1500-imputation-constant-numbers/scores-20230616-070727.csv']\n",
      "Finished NLVPMVATV\n",
      "['outputs/model-evaluations-20230616-070514-GILGFVFTL-1500-imputation-constant-numbers/scores-20230616-070559.csv', 'outputs/model-evaluations-20230616-070607-NLVPMVATV-1500-imputation-constant-numbers/scores-20230616-070727.csv']\n",
      "### Epitope: PKYVKQNTLKLAT ###\n"
     ]
    },
    {
     "name": "stderr",
     "output_type": "stream",
     "text": [
      "C:\\Users\\arnod\\PycharmProjects\\thesis\\util\\epitopes.py:6: DtypeWarning: Columns (20,29,30) have mixed types. Specify dtype option on import or set low_memory=False.\n",
      "  df_vdjdb = pd.read_csv('data/vdjdb-2022-03-30/vdjdb_full.txt', sep='\\t')\n"
     ]
    },
    {
     "name": "stdout",
     "output_type": "stream",
     "text": [
      "Number of negative samples changed from 54349 to 54195 (because of overlap with positive samples)\n",
      "Positive samples: alpha only: 95, beta only: 349, both: 70, none: 0\n",
      "Negative samples (will be sampled to select same amount as positive): alpha only: 7039, beta only: 20304, both: 26852, none: 0\n",
      "Nan: train: 822, test: 27\n",
      "No Nan: train: 102, test: 27\n",
      "\n",
      "Evaluating model 1/4\n",
      "{'name': 'Random Forest (Seperate chains)', 'model_alpha': RandomForestClassifier(random_state=0), 'model': None, 'model_beta': RandomForestClassifier(random_state=0), 'chain': 'seperate', 'group': 'chain_inputs', 'imputer': SimpleImputer()}\n",
      "0.7006172839506173\n",
      "0.6775147928994083\n",
      "0.7058823529411765\n",
      "0.5177777777777778\n",
      "0.7303030303030303\n",
      "\n",
      "Evaluating model 2/4\n",
      "{'name': 'Random Forest (both chains, no_nan)', 'model': RandomForestClassifier(random_state=0), 'chain': 'both', 'group': 'chain_inputs', 'drop_train_na': True}\n",
      "0.6358024691358024\n",
      "0.6153846153846154\n",
      "0.5909090909090909\n",
      "0.6888888888888889\n",
      "0.6424242424242425\n",
      "\n",
      "Evaluating model 3/4\n",
      "{'name': 'Random Forest (both chains, mean imputed)', 'model': RandomForestClassifier(random_state=0), 'chain': 'both', 'group': 'chain_inputs', 'imputer': SimpleImputer()}\n",
      "0.6882716049382716\n",
      "0.6834319526627218\n",
      "0.641711229946524\n",
      "0.5977777777777777\n",
      "0.6484848484848484\n",
      "\n",
      "Evaluating model 4/4\n",
      "{'name': 'Random Forest (Seperate chains, no_nan)', 'model': None, 'model_alpha': RandomForestClassifier(random_state=0), 'model_beta': RandomForestClassifier(random_state=0), 'chain': 'seperate', 'group': 'chain_inputs', 'drop_train_na': True}\n",
      "0.5925925925925926\n",
      "0.7100591715976331\n",
      "0.5294117647058822\n",
      "0.7044444444444444\n",
      "0.5515151515151515\n",
      "Baseline Random Forest (NaNs dropped in train) not found in scores, using Random Forest (Seperate chains) instead\n",
      "Baseline Random Forest (NaNs dropped in train) not found in scores, using Random Forest (Seperate chains) instead\n",
      "Finished evaluating 4 models at 20230616-070808 in 0:00:34.454090 seconds\n",
      "['outputs/model-evaluations-20230616-070514-GILGFVFTL-1500-imputation-constant-numbers/scores-20230616-070559.csv', 'outputs/model-evaluations-20230616-070607-NLVPMVATV-1500-imputation-constant-numbers/scores-20230616-070727.csv', 'outputs/model-evaluations-20230616-070733-PKYVKQNTLKLAT-1028-imputation-constant-numbers/scores-20230616-070808.csv']\n",
      "Finished PKYVKQNTLKLAT\n",
      "['outputs/model-evaluations-20230616-070514-GILGFVFTL-1500-imputation-constant-numbers/scores-20230616-070559.csv', 'outputs/model-evaluations-20230616-070607-NLVPMVATV-1500-imputation-constant-numbers/scores-20230616-070727.csv', 'outputs/model-evaluations-20230616-070733-PKYVKQNTLKLAT-1028-imputation-constant-numbers/scores-20230616-070808.csv']\n",
      "### Epitope: CINGVCWTV ###\n"
     ]
    },
    {
     "name": "stderr",
     "output_type": "stream",
     "text": [
      "C:\\Users\\arnod\\PycharmProjects\\thesis\\util\\epitopes.py:6: DtypeWarning: Columns (20,29,30) have mixed types. Specify dtype option on import or set low_memory=False.\n",
      "  df_vdjdb = pd.read_csv('data/vdjdb-2022-03-30/vdjdb_full.txt', sep='\\t')\n"
     ]
    },
    {
     "name": "stdout",
     "output_type": "stream",
     "text": [
      "Number of negative samples changed from 54429 to 54301 (because of overlap with positive samples)\n",
      "Positive samples: alpha only: 8, beta only: 181, both: 245, none: 0\n",
      "Negative samples (will be sampled to select same amount as positive): alpha only: 7146, beta only: 20484, both: 26671, none: 0\n",
      "Nan: train: 694, test: 105\n",
      "No Nan: train: 364, test: 105\n",
      "\n",
      "Evaluating model 1/4\n",
      "{'name': 'Random Forest (Seperate chains)', 'model_alpha': RandomForestClassifier(random_state=0), 'model': None, 'model_beta': RandomForestClassifier(random_state=0), 'chain': 'seperate', 'group': 'chain_inputs', 'imputer': SimpleImputer()}\n",
      "0.9424231057764441\n",
      "0.9276442307692309\n",
      "0.8654336734693877\n",
      "0.9364583333333333\n",
      "0.8698899371069182\n",
      "\n",
      "Evaluating model 2/4\n",
      "{'name': 'Random Forest (both chains, no_nan)', 'model': RandomForestClassifier(random_state=0), 'chain': 'both', 'group': 'chain_inputs', 'drop_train_na': True}\n",
      "0.8990997749437359\n",
      "0.8653846153846154\n",
      "0.8403486394557823\n",
      "0.9233333333333333\n",
      "0.8592767295597484\n",
      "\n",
      "Evaluating model 3/4\n",
      "{'name': 'Random Forest (both chains, mean imputed)', 'model': RandomForestClassifier(random_state=0), 'chain': 'both', 'group': 'chain_inputs', 'imputer': SimpleImputer()}\n",
      "0.8835333833458365\n",
      "0.911298076923077\n",
      "0.8463010204081632\n",
      "0.9179166666666667\n",
      "0.8742138364779874\n",
      "\n",
      "Evaluating model 4/4\n",
      "{'name': 'Random Forest (Seperate chains, no_nan)', 'model': None, 'model_alpha': RandomForestClassifier(random_state=0), 'model_beta': RandomForestClassifier(random_state=0), 'chain': 'seperate', 'group': 'chain_inputs', 'drop_train_na': True}\n",
      "0.9456114028507128\n",
      "0.8725961538461539\n",
      "0.8411989795918366\n",
      "0.9314583333333333\n",
      "0.8620283018867925\n",
      "Baseline Random Forest (NaNs dropped in train) not found in scores, using Random Forest (Seperate chains) instead\n",
      "Baseline Random Forest (NaNs dropped in train) not found in scores, using Random Forest (Seperate chains) instead\n",
      "Finished evaluating 4 models at 20230616-070839 in 0:00:21.255333 seconds\n",
      "['outputs/model-evaluations-20230616-070514-GILGFVFTL-1500-imputation-constant-numbers/scores-20230616-070559.csv', 'outputs/model-evaluations-20230616-070607-NLVPMVATV-1500-imputation-constant-numbers/scores-20230616-070727.csv', 'outputs/model-evaluations-20230616-070733-PKYVKQNTLKLAT-1028-imputation-constant-numbers/scores-20230616-070808.csv', 'outputs/model-evaluations-20230616-070818-CINGVCWTV-868-imputation-constant-numbers/scores-20230616-070839.csv']\n",
      "Finished CINGVCWTV\n",
      "['outputs/model-evaluations-20230616-070514-GILGFVFTL-1500-imputation-constant-numbers/scores-20230616-070559.csv', 'outputs/model-evaluations-20230616-070607-NLVPMVATV-1500-imputation-constant-numbers/scores-20230616-070727.csv', 'outputs/model-evaluations-20230616-070733-PKYVKQNTLKLAT-1028-imputation-constant-numbers/scores-20230616-070808.csv', 'outputs/model-evaluations-20230616-070818-CINGVCWTV-868-imputation-constant-numbers/scores-20230616-070839.csv']\n"
     ]
    },
    {
     "data": {
      "text/plain": "<Figure size 432x288 with 1 Axes>",
      "image/png": "[encoded data removed]"
     },
     "metadata": {},
     "output_type": "display_data"
    },
    {
     "name": "stdout",
     "output_type": "stream",
     "text": [
      "Baseline Random Forest (NaNs dropped in train) not found in scores, using Random Forest (Seperate chains) instead\n"
     ]
    },
    {
     "data": {
      "text/plain": "<Figure size 432x288 with 1 Axes>",
      "image/png": "[encoded data removed]"
     },
     "metadata": {},
     "output_type": "display_data"
    }
   ],
   "source": [
    "epitopes = [\n",
    "    'GILGFVFTL',  # 1/3 van alles\n",
    "    'NLVPMVATV',  # 2/5 alpha, 1/10 beta, 6/10 both\n",
    "    # 'LLLGIGILV', # 2/3 alpha, 1/3 beta, 0 both -> 0 both dus droppen gaat ni\n",
    "    'PKYVKQNTLKLAT',  # 3/5 beta, 1/10 alfa, 1/10 both\n",
    "    'CINGVCWTV'  # 3/5 beta, 2/5both (en heel klein beetje alpha)\n",
    "]\n",
    "\n",
    "models_to_evaluate = [\n",
    "    {\n",
    "        'name': 'Random Forest (Seperate chains)',\n",
    "        'model_alpha': RandomForestClassifier(random_state=0),\n",
    "        'model': None,\n",
    "        'model_beta': RandomForestClassifier(random_state=0),\n",
    "        'chain': 'seperate',\n",
    "        'group': 'chain_inputs',\n",
    "        'imputer': mean_imputer,\n",
    "    },\n",
    "    {\n",
    "        'name': 'Random Forest (both chains, no_nan)',\n",
    "        'model': RandomForestClassifier(random_state=0),\n",
    "        'chain': 'both',\n",
    "        'group': 'chain_inputs',\n",
    "        'drop_train_na': True\n",
    "    },\n",
    "\n",
    "    {\n",
    "        'name': 'Random Forest (both chains, mean imputed)',\n",
    "        'model': RandomForestClassifier(random_state=0),\n",
    "        'chain': 'both',\n",
    "        'group': 'chain_inputs',\n",
    "        'imputer': mean_imputer,\n",
    "    },\n",
    "\n",
    "    {\n",
    "        'name': 'Random Forest (Seperate chains, no_nan)',\n",
    "        'model': None,\n",
    "        'model_alpha': RandomForestClassifier(random_state=0),\n",
    "        'model_beta': RandomForestClassifier(random_state=0),\n",
    "        'chain': 'seperate',\n",
    "        'group': 'chain_inputs',\n",
    "        'drop_train_na': True\n",
    "    },\n",
    "\n",
    "]\n",
    "\n",
    "outputs = []\n",
    "for epitope in epitopes:\n",
    "    print(f\"### Epitope: {epitope} ###\")\n",
    "    update_data_per_fold(None, epitope_=epitope, fixed_test_size=False, max_samples=1500)\n",
    "    scores, output_csv = evaluate_model_list(models_to_evaluate)\n",
    "    outputs.append(output_csv)\n",
    "    print(outputs)\n",
    "    print(f\"Finished {epitope}\")\n",
    "    print(outputs)\n",
    "\n",
    "title = \"RandomForest with different epitopes\"\n",
    "output = \"graphs/GILGFVFTL-rf-different-epitopes.png\"\n",
    "composed_df = compose_all(outputs, 'rf_different_epitopes')\n",
    "plot_scores(composed_df, title, wrap=True, x=\"epitope\", hue=\"model\", xlabel=\"Epitope\", ylabel=\"AUC\",\n",
    "            output_file=output,\n",
    "            plot=True)\n"
   ],
   "metadata": {
    "collapsed": false
   }
  },
  {
   "cell_type": "code",
   "execution_count": 38,
   "outputs": [
    {
     "name": "stderr",
     "output_type": "stream",
     "text": [
      "C:\\Users\\arnod\\PycharmProjects\\thesis\\util\\epitopes.py:6: DtypeWarning: Columns (20,29,30) have mixed types. Specify dtype option on import or set low_memory=False.\n",
      "  df_vdjdb = pd.read_csv('data/vdjdb-2022-03-30/vdjdb_full.txt', sep='\\t')\n"
     ]
    },
    {
     "name": "stdout",
     "output_type": "stream",
     "text": [
      "Found 27 epitopes\n"
     ]
    },
    {
     "data": {
      "text/plain": "array(['NLVPMVATV', 'TPRVTGGGAM', 'ELAGIGILTV', 'YSEHPTFTSQY',\n       'PKYVKQNTLKLAT', 'GILGFVFTL', 'GLCTLVAML', 'SSLENFRAYV',\n       'ASNENMETM', 'YLQPRTFLL', 'LLWNGPMAV', 'CINGVCWTV', 'RAKFKQLL',\n       'AVFDRKSDAK', 'IVTDFSVIK', 'SSPPMFRV', 'KSKRTPMGF', 'ATDALMTGF',\n       'KLGGALQAK', 'RLRAEAQVK', 'HGIRNASFI', 'LSLRNPILV', 'SSYRRPVGI',\n       'DATYQRTRALVR', 'LTDEMIAQY', 'TTDPSFLGRY', 'SPRWYFYYL'],\n      dtype=object)"
     },
     "execution_count": 38,
     "metadata": {},
     "output_type": "execute_result"
    }
   ],
   "source": [
    "from util import get_vdjdb\n",
    "\n",
    "vdjdb = get_vdjdb()\n",
    "# epitopes with more than 100 samples, with at least 5 samples not containing nans\n",
    "epitopes = vdjdb.groupby('epitope').filter(lambda x: len(x) > 100 and len(x.dropna()) > 20).epitope.unique()\n",
    "print(f\"Found {len(epitopes)} epitopes\")\n",
    "epitopes"
   ],
   "metadata": {
    "collapsed": false
   }
  },
  {
   "cell_type": "code",
   "execution_count": 39,
   "outputs": [
    {
     "name": "stdout",
     "output_type": "stream",
     "text": [
      "### Epitope: NLVPMVATV ###\n"
     ]
    },
    {
     "name": "stderr",
     "output_type": "stream",
     "text": [
      "C:\\Users\\arnod\\PycharmProjects\\thesis\\util\\epitopes.py:6: DtypeWarning: Columns (20,29,30) have mixed types. Specify dtype option on import or set low_memory=False.\n",
      "  df_vdjdb = pd.read_csv('data/vdjdb-2022-03-30/vdjdb_full.txt', sep='\\t')\n"
     ]
    },
    {
     "name": "stdout",
     "output_type": "stream",
     "text": [
      "Number of negative samples changed from 47471 to 46335 (because of overlap with positive samples)\n",
      "Positive samples: alpha only: 2158, beta only: 4667, both: 567, none: 0\n",
      "Negative samples (will be sampled to select same amount as positive): alpha only: 4935, beta only: 15899, both: 25501, none: 0\n",
      "Evaluating NLVPMVATV, drop_train_nan=True, seperate_chains=False, seed=0\n",
      "0.611764705882353\n",
      "Evaluating NLVPMVATV, drop_train_nan=False, seperate_chains=False, seed=0\n",
      "0.5647058823529412\n",
      "Evaluating NLVPMVATV, drop_train_nan=True, seperate_chains=True, seed=0\n",
      "0.6676470588235295\n",
      "Evaluating NLVPMVATV, drop_train_nan=False, seperate_chains=True, seed=0\n",
      "0.5735294117647058\n",
      "Evaluating NLVPMVATV, drop_train_nan=True, seperate_chains=False, seed=1\n",
      "0.6166666666666667\n",
      "Evaluating NLVPMVATV, drop_train_nan=False, seperate_chains=False, seed=1\n",
      "0.625\n",
      "Evaluating NLVPMVATV, drop_train_nan=True, seperate_chains=True, seed=1\n",
      "0.6\n",
      "Evaluating NLVPMVATV, drop_train_nan=False, seperate_chains=True, seed=1\n",
      "0.6041666666666666\n",
      "Evaluating NLVPMVATV, drop_train_nan=True, seperate_chains=False, seed=2\n",
      "0.6064814814814815\n",
      "Evaluating NLVPMVATV, drop_train_nan=False, seperate_chains=False, seed=2\n",
      "0.7314814814814815\n",
      "Evaluating NLVPMVATV, drop_train_nan=True, seperate_chains=True, seed=2\n",
      "0.7314814814814814\n",
      "Evaluating NLVPMVATV, drop_train_nan=False, seperate_chains=True, seed=2\n",
      "0.8657407407407408\n",
      "Evaluating NLVPMVATV, drop_train_nan=True, seperate_chains=False, seed=3\n",
      "0.5470588235294117\n",
      "Evaluating NLVPMVATV, drop_train_nan=False, seperate_chains=False, seed=3\n",
      "0.4588235294117647\n",
      "Evaluating NLVPMVATV, drop_train_nan=True, seperate_chains=True, seed=3\n",
      "0.48823529411764705\n",
      "Evaluating NLVPMVATV, drop_train_nan=False, seperate_chains=True, seed=3\n",
      "0.4647058823529412\n",
      "Evaluating NLVPMVATV, drop_train_nan=True, seperate_chains=False, seed=4\n",
      "0.5512820512820512\n",
      "Evaluating NLVPMVATV, drop_train_nan=False, seperate_chains=False, seed=4\n",
      "0.594017094017094\n",
      "Evaluating NLVPMVATV, drop_train_nan=True, seperate_chains=True, seed=4\n",
      "0.641025641025641\n",
      "Evaluating NLVPMVATV, drop_train_nan=False, seperate_chains=True, seed=4\n",
      "0.5769230769230769\n",
      "### Epitope: TPRVTGGGAM ###\n"
     ]
    },
    {
     "name": "stderr",
     "output_type": "stream",
     "text": [
      "C:\\Users\\arnod\\PycharmProjects\\thesis\\util\\epitopes.py:6: DtypeWarning: Columns (20,29,30) have mixed types. Specify dtype option on import or set low_memory=False.\n",
      "  df_vdjdb = pd.read_csv('data/vdjdb-2022-03-30/vdjdb_full.txt', sep='\\t')\n"
     ]
    },
    {
     "name": "stdout",
     "output_type": "stream",
     "text": [
      "Number of negative samples changed from 54494 to 54396 (because of overlap with positive samples)\n",
      "Positive samples: alpha only: 4, beta only: 302, both: 63, none: 0\n",
      "Negative samples (will be sampled to select same amount as positive): alpha only: 7168, beta only: 20337, both: 26891, none: 0\n",
      "Evaluating TPRVTGGGAM, drop_train_nan=True, seperate_chains=False, seed=0\n",
      "0.8290598290598291\n",
      "Evaluating TPRVTGGGAM, drop_train_nan=False, seperate_chains=False, seed=0\n",
      "0.9401709401709402\n",
      "Evaluating TPRVTGGGAM, drop_train_nan=True, seperate_chains=True, seed=0\n",
      "0.9145299145299145\n",
      "Evaluating TPRVTGGGAM, drop_train_nan=False, seperate_chains=True, seed=0\n",
      "0.9829059829059829\n",
      "Evaluating TPRVTGGGAM, drop_train_nan=True, seperate_chains=False, seed=1\n",
      "0.8484848484848485\n",
      "Evaluating TPRVTGGGAM, drop_train_nan=False, seperate_chains=False, seed=1\n",
      "0.9848484848484849\n",
      "Evaluating TPRVTGGGAM, drop_train_nan=True, seperate_chains=True, seed=1\n",
      "0.890909090909091\n",
      "Evaluating TPRVTGGGAM, drop_train_nan=False, seperate_chains=True, seed=1\n",
      "0.9636363636363636\n",
      "Evaluating TPRVTGGGAM, drop_train_nan=True, seperate_chains=False, seed=2\n",
      "0.834375\n",
      "Evaluating TPRVTGGGAM, drop_train_nan=False, seperate_chains=False, seed=2\n",
      "0.9343750000000001\n",
      "Evaluating TPRVTGGGAM, drop_train_nan=True, seperate_chains=True, seed=2\n",
      "0.8875000000000001\n",
      "Evaluating TPRVTGGGAM, drop_train_nan=False, seperate_chains=True, seed=2\n",
      "0.9437499999999999\n",
      "Evaluating TPRVTGGGAM, drop_train_nan=True, seperate_chains=False, seed=3\n",
      "0.9015151515151515\n",
      "Evaluating TPRVTGGGAM, drop_train_nan=False, seperate_chains=False, seed=3\n",
      "1.0\n",
      "Evaluating TPRVTGGGAM, drop_train_nan=True, seperate_chains=True, seed=3\n",
      "0.8939393939393939\n",
      "Evaluating TPRVTGGGAM, drop_train_nan=False, seperate_chains=True, seed=3\n",
      "0.9696969696969696\n",
      "Evaluating TPRVTGGGAM, drop_train_nan=True, seperate_chains=False, seed=4\n",
      "0.9674556213017752\n",
      "Evaluating TPRVTGGGAM, drop_train_nan=False, seperate_chains=False, seed=4\n",
      "1.0\n",
      "Evaluating TPRVTGGGAM, drop_train_nan=True, seperate_chains=True, seed=4\n",
      "0.9881656804733727\n",
      "Evaluating TPRVTGGGAM, drop_train_nan=False, seperate_chains=True, seed=4\n",
      "1.0\n",
      "### Epitope: ELAGIGILTV ###\n"
     ]
    },
    {
     "name": "stderr",
     "output_type": "stream",
     "text": [
      "C:\\Users\\arnod\\PycharmProjects\\thesis\\util\\epitopes.py:6: DtypeWarning: Columns (20,29,30) have mixed types. Specify dtype option on import or set low_memory=False.\n",
      "  df_vdjdb = pd.read_csv('data/vdjdb-2022-03-30/vdjdb_full.txt', sep='\\t')\n"
     ]
    },
    {
     "name": "stdout",
     "output_type": "stream",
     "text": [
      "Number of negative samples changed from 52579 to 51537 (because of overlap with positive samples)\n",
      "Positive samples: alpha only: 2, beta only: 1879, both: 403, none: 0\n",
      "Negative samples (will be sampled to select same amount as positive): alpha only: 7083, beta only: 18668, both: 25786, none: 0\n",
      "Evaluating ELAGIGILTV, drop_train_nan=True, seperate_chains=False, seed=0\n",
      "0.8085553997194951\n",
      "Evaluating ELAGIGILTV, drop_train_nan=False, seperate_chains=False, seed=0\n",
      "0.8127629733520336\n",
      "Evaluating ELAGIGILTV, drop_train_nan=True, seperate_chains=True, seed=0\n",
      "0.8267882187938289\n",
      "Evaluating ELAGIGILTV, drop_train_nan=False, seperate_chains=True, seed=0\n",
      "0.8401122019635344\n",
      "Evaluating ELAGIGILTV, drop_train_nan=True, seperate_chains=False, seed=1\n",
      "0.9157754010695187\n",
      "Evaluating ELAGIGILTV, drop_train_nan=False, seperate_chains=False, seed=1\n",
      "0.9425133689839573\n",
      "Evaluating ELAGIGILTV, drop_train_nan=True, seperate_chains=True, seed=1\n",
      "0.9385026737967914\n",
      "Evaluating ELAGIGILTV, drop_train_nan=False, seperate_chains=True, seed=1\n",
      "0.9244652406417112\n",
      "Evaluating ELAGIGILTV, drop_train_nan=True, seperate_chains=False, seed=2\n",
      "0.9195402298850575\n",
      "Evaluating ELAGIGILTV, drop_train_nan=False, seperate_chains=False, seed=2\n",
      "0.9287356321839081\n",
      "Evaluating ELAGIGILTV, drop_train_nan=True, seperate_chains=True, seed=2\n",
      "0.904022988505747\n",
      "Evaluating ELAGIGILTV, drop_train_nan=False, seperate_chains=True, seed=2\n",
      "0.9310344827586207\n",
      "Evaluating ELAGIGILTV, drop_train_nan=True, seperate_chains=False, seed=3\n",
      "0.9086538461538461\n",
      "Evaluating ELAGIGILTV, drop_train_nan=False, seperate_chains=False, seed=3\n",
      "0.9423076923076923\n",
      "Evaluating ELAGIGILTV, drop_train_nan=True, seperate_chains=True, seed=3\n",
      "0.9048076923076923\n",
      "Evaluating ELAGIGILTV, drop_train_nan=False, seperate_chains=True, seed=3\n",
      "0.9221153846153847\n",
      "Evaluating ELAGIGILTV, drop_train_nan=True, seperate_chains=False, seed=4\n",
      "0.9269949066213922\n",
      "Evaluating ELAGIGILTV, drop_train_nan=False, seperate_chains=False, seed=4\n",
      "0.9151103565365026\n",
      "Evaluating ELAGIGILTV, drop_train_nan=True, seperate_chains=True, seed=4\n",
      "0.9176570458404074\n",
      "Evaluating ELAGIGILTV, drop_train_nan=False, seperate_chains=True, seed=4\n",
      "0.9185059422750425\n",
      "### Epitope: YSEHPTFTSQY ###\n"
     ]
    },
    {
     "name": "stderr",
     "output_type": "stream",
     "text": [
      "C:\\Users\\arnod\\PycharmProjects\\thesis\\util\\epitopes.py:6: DtypeWarning: Columns (20,29,30) have mixed types. Specify dtype option on import or set low_memory=False.\n",
      "  df_vdjdb = pd.read_csv('data/vdjdb-2022-03-30/vdjdb_full.txt', sep='\\t')\n"
     ]
    },
    {
     "name": "stdout",
     "output_type": "stream",
     "text": [
      "Number of negative samples changed from 54730 to 54714 (because of overlap with positive samples)\n",
      "Positive samples: alpha only: 0, beta only: 111, both: 22, none: 0\n",
      "Negative samples (will be sampled to select same amount as positive): alpha only: 7166, beta only: 20559, both: 26989, none: 0\n",
      "Evaluating YSEHPTFTSQY, drop_train_nan=True, seperate_chains=False, seed=0\n",
      "0.84375\n",
      "Evaluating YSEHPTFTSQY, drop_train_nan=False, seperate_chains=False, seed=0\n",
      "1.0\n",
      "Evaluating YSEHPTFTSQY, drop_train_nan=True, seperate_chains=True, seed=0\n",
      "0.90625\n",
      "Evaluating YSEHPTFTSQY, drop_train_nan=False, seperate_chains=True, seed=0\n",
      "0.96875\n",
      "Evaluating YSEHPTFTSQY, drop_train_nan=True, seperate_chains=False, seed=1\n",
      "0.6\n",
      "Evaluating YSEHPTFTSQY, drop_train_nan=False, seperate_chains=False, seed=1\n",
      "0.78\n",
      "Evaluating YSEHPTFTSQY, drop_train_nan=True, seperate_chains=True, seed=1\n",
      "0.64\n",
      "Evaluating YSEHPTFTSQY, drop_train_nan=False, seperate_chains=True, seed=1\n",
      "0.64\n",
      "Evaluating YSEHPTFTSQY, drop_train_nan=True, seperate_chains=False, seed=2\n",
      "0.5\n",
      "Evaluating YSEHPTFTSQY, drop_train_nan=False, seperate_chains=False, seed=2\n",
      "1.0\n",
      "Evaluating YSEHPTFTSQY, drop_train_nan=True, seperate_chains=True, seed=2\n",
      "0.5\n",
      "Evaluating YSEHPTFTSQY, drop_train_nan=False, seperate_chains=True, seed=2\n",
      "0.5\n",
      "Evaluating YSEHPTFTSQY, drop_train_nan=True, seperate_chains=False, seed=3\n",
      "0.6\n",
      "Evaluating YSEHPTFTSQY, drop_train_nan=False, seperate_chains=False, seed=3\n",
      "0.6\n",
      "Evaluating YSEHPTFTSQY, drop_train_nan=True, seperate_chains=True, seed=3\n",
      "1.0\n",
      "Evaluating YSEHPTFTSQY, drop_train_nan=False, seperate_chains=True, seed=3\n",
      "1.0\n",
      "Evaluating YSEHPTFTSQY, drop_train_nan=True, seperate_chains=False, seed=4\n",
      "0.75\n",
      "Evaluating YSEHPTFTSQY, drop_train_nan=False, seperate_chains=False, seed=4\n",
      "1.0\n",
      "Evaluating YSEHPTFTSQY, drop_train_nan=True, seperate_chains=True, seed=4\n",
      "0.5\n",
      "Evaluating YSEHPTFTSQY, drop_train_nan=False, seperate_chains=True, seed=4\n",
      "0.75\n",
      "### Epitope: PKYVKQNTLKLAT ###\n"
     ]
    },
    {
     "name": "stderr",
     "output_type": "stream",
     "text": [
      "C:\\Users\\arnod\\PycharmProjects\\thesis\\util\\epitopes.py:6: DtypeWarning: Columns (20,29,30) have mixed types. Specify dtype option on import or set low_memory=False.\n",
      "  df_vdjdb = pd.read_csv('data/vdjdb-2022-03-30/vdjdb_full.txt', sep='\\t')\n"
     ]
    },
    {
     "name": "stdout",
     "output_type": "stream",
     "text": [
      "Number of negative samples changed from 54349 to 54195 (because of overlap with positive samples)\n",
      "Positive samples: alpha only: 95, beta only: 349, both: 70, none: 0\n",
      "Negative samples (will be sampled to select same amount as positive): alpha only: 7039, beta only: 20304, both: 26852, none: 0\n",
      "Evaluating PKYVKQNTLKLAT, drop_train_nan=True, seperate_chains=False, seed=0\n",
      "0.6141975308641976\n",
      "Evaluating PKYVKQNTLKLAT, drop_train_nan=False, seperate_chains=False, seed=0\n",
      "0.7253086419753088\n",
      "Evaluating PKYVKQNTLKLAT, drop_train_nan=True, seperate_chains=True, seed=0\n",
      "0.654320987654321\n",
      "Evaluating PKYVKQNTLKLAT, drop_train_nan=False, seperate_chains=True, seed=0\n",
      "0.7037037037037037\n",
      "Evaluating PKYVKQNTLKLAT, drop_train_nan=True, seperate_chains=False, seed=1\n",
      "0.5946745562130178\n",
      "Evaluating PKYVKQNTLKLAT, drop_train_nan=False, seperate_chains=False, seed=1\n",
      "0.5857988165680473\n",
      "Evaluating PKYVKQNTLKLAT, drop_train_nan=True, seperate_chains=True, seed=1\n",
      "0.742603550295858\n",
      "Evaluating PKYVKQNTLKLAT, drop_train_nan=False, seperate_chains=True, seed=1\n",
      "0.6745562130177515\n",
      "Evaluating PKYVKQNTLKLAT, drop_train_nan=True, seperate_chains=False, seed=2\n",
      "0.43315508021390375\n",
      "Evaluating PKYVKQNTLKLAT, drop_train_nan=False, seperate_chains=False, seed=2\n",
      "0.5989304812834224\n",
      "Evaluating PKYVKQNTLKLAT, drop_train_nan=True, seperate_chains=True, seed=2\n",
      "0.5481283422459893\n",
      "Evaluating PKYVKQNTLKLAT, drop_train_nan=False, seperate_chains=True, seed=2\n",
      "0.6737967914438503\n",
      "Evaluating PKYVKQNTLKLAT, drop_train_nan=True, seperate_chains=False, seed=3\n",
      "0.6822222222222222\n",
      "Evaluating PKYVKQNTLKLAT, drop_train_nan=False, seperate_chains=False, seed=3\n",
      "0.5333333333333333\n",
      "Evaluating PKYVKQNTLKLAT, drop_train_nan=True, seperate_chains=True, seed=3\n",
      "0.6688888888888889\n",
      "Evaluating PKYVKQNTLKLAT, drop_train_nan=False, seperate_chains=True, seed=3\n",
      "0.4955555555555556\n",
      "Evaluating PKYVKQNTLKLAT, drop_train_nan=True, seperate_chains=False, seed=4\n",
      "0.6121212121212121\n",
      "Evaluating PKYVKQNTLKLAT, drop_train_nan=False, seperate_chains=False, seed=4\n",
      "0.6666666666666666\n",
      "Evaluating PKYVKQNTLKLAT, drop_train_nan=True, seperate_chains=True, seed=4\n",
      "0.6151515151515152\n",
      "Evaluating PKYVKQNTLKLAT, drop_train_nan=False, seperate_chains=True, seed=4\n",
      "0.6818181818181819\n",
      "### Epitope: GILGFVFTL ###\n"
     ]
    },
    {
     "name": "stderr",
     "output_type": "stream",
     "text": [
      "C:\\Users\\arnod\\PycharmProjects\\thesis\\util\\epitopes.py:6: DtypeWarning: Columns (20,29,30) have mixed types. Specify dtype option on import or set low_memory=False.\n",
      "  df_vdjdb = pd.read_csv('data/vdjdb-2022-03-30/vdjdb_full.txt', sep='\\t')\n"
     ]
    },
    {
     "name": "stdout",
     "output_type": "stream",
     "text": [
      "Number of negative samples changed from 47033 to 44205 (because of overlap with positive samples)\n",
      "Positive samples: alpha only: 2580, beta only: 3056, both: 2194, none: 0\n",
      "Negative samples (will be sampled to select same amount as positive): alpha only: 4499, beta only: 17510, both: 22196, none: 0\n",
      "Evaluating GILGFVFTL, drop_train_nan=True, seperate_chains=False, seed=0\n",
      "0.9023960535588442\n",
      "Evaluating GILGFVFTL, drop_train_nan=False, seperate_chains=False, seed=0\n",
      "0.8960535588442566\n",
      "Evaluating GILGFVFTL, drop_train_nan=True, seperate_chains=True, seed=0\n",
      "0.9045102184637068\n",
      "Evaluating GILGFVFTL, drop_train_nan=False, seperate_chains=True, seed=0\n",
      "0.8928823114869627\n",
      "Evaluating GILGFVFTL, drop_train_nan=True, seperate_chains=False, seed=1\n",
      "0.9034598214285715\n",
      "Evaluating GILGFVFTL, drop_train_nan=False, seperate_chains=False, seed=1\n",
      "0.8911830357142857\n",
      "Evaluating GILGFVFTL, drop_train_nan=True, seperate_chains=True, seed=1\n",
      "0.9213169642857145\n",
      "Evaluating GILGFVFTL, drop_train_nan=False, seperate_chains=True, seed=1\n",
      "0.9185267857142856\n",
      "Evaluating GILGFVFTL, drop_train_nan=True, seperate_chains=False, seed=2\n",
      "0.9102631578947368\n",
      "Evaluating GILGFVFTL, drop_train_nan=False, seperate_chains=False, seed=2\n",
      "0.9144736842105262\n",
      "Evaluating GILGFVFTL, drop_train_nan=True, seperate_chains=True, seed=2\n",
      "0.9168421052631578\n",
      "Evaluating GILGFVFTL, drop_train_nan=False, seperate_chains=True, seed=2\n",
      "0.9310526315789474\n",
      "Evaluating GILGFVFTL, drop_train_nan=True, seperate_chains=False, seed=3\n",
      "0.9130434782608697\n",
      "Evaluating GILGFVFTL, drop_train_nan=False, seperate_chains=False, seed=3\n",
      "0.9128303495311169\n",
      "Evaluating GILGFVFTL, drop_train_nan=True, seperate_chains=True, seed=3\n",
      "0.9232736572890026\n",
      "Evaluating GILGFVFTL, drop_train_nan=False, seperate_chains=True, seed=3\n",
      "0.9328644501278773\n",
      "Evaluating GILGFVFTL, drop_train_nan=True, seperate_chains=False, seed=4\n",
      "0.8891774891774892\n",
      "Evaluating GILGFVFTL, drop_train_nan=False, seperate_chains=False, seed=4\n",
      "0.9077922077922077\n",
      "Evaluating GILGFVFTL, drop_train_nan=True, seperate_chains=True, seed=4\n",
      "0.925974025974026\n",
      "Evaluating GILGFVFTL, drop_train_nan=False, seperate_chains=True, seed=4\n",
      "0.9484848484848485\n",
      "### Epitope: GLCTLVAML ###\n"
     ]
    },
    {
     "name": "stderr",
     "output_type": "stream",
     "text": [
      "C:\\Users\\arnod\\PycharmProjects\\thesis\\util\\epitopes.py:6: DtypeWarning: Columns (20,29,30) have mixed types. Specify dtype option on import or set low_memory=False.\n",
      "  df_vdjdb = pd.read_csv('data/vdjdb-2022-03-30/vdjdb_full.txt', sep='\\t')\n"
     ]
    },
    {
     "name": "stdout",
     "output_type": "stream",
     "text": [
      "Number of negative samples changed from 53400 to 51774 (because of overlap with positive samples)\n",
      "Positive samples: alpha only: 42, beta only: 1040, both: 381, none: 0\n",
      "Negative samples (will be sampled to select same amount as positive): alpha only: 7109, beta only: 19444, both: 25221, none: 0\n",
      "Evaluating GLCTLVAML, drop_train_nan=True, seperate_chains=False, seed=0\n",
      "0.9182209469153515\n",
      "Evaluating GLCTLVAML, drop_train_nan=False, seperate_chains=False, seed=0\n",
      "0.8891678622668578\n",
      "Evaluating GLCTLVAML, drop_train_nan=True, seperate_chains=True, seed=0\n",
      "0.9512195121951219\n",
      "Evaluating GLCTLVAML, drop_train_nan=False, seperate_chains=True, seed=0\n",
      "0.9418938307030129\n",
      "Evaluating GLCTLVAML, drop_train_nan=True, seperate_chains=False, seed=1\n",
      "0.890926640926641\n",
      "Evaluating GLCTLVAML, drop_train_nan=False, seperate_chains=False, seed=1\n",
      "0.9475546975546976\n",
      "Evaluating GLCTLVAML, drop_train_nan=True, seperate_chains=True, seed=1\n",
      "0.9099099099099098\n",
      "Evaluating GLCTLVAML, drop_train_nan=False, seperate_chains=True, seed=1\n",
      "0.9247104247104247\n",
      "Evaluating GLCTLVAML, drop_train_nan=True, seperate_chains=False, seed=2\n",
      "0.9174465240641712\n",
      "Evaluating GLCTLVAML, drop_train_nan=False, seperate_chains=False, seed=2\n",
      "0.8910427807486632\n",
      "Evaluating GLCTLVAML, drop_train_nan=True, seperate_chains=True, seed=2\n",
      "0.9512032085561497\n",
      "Evaluating GLCTLVAML, drop_train_nan=False, seperate_chains=True, seed=2\n",
      "0.9515374331550803\n",
      "Evaluating GLCTLVAML, drop_train_nan=True, seperate_chains=False, seed=3\n",
      "0.8555555555555555\n",
      "Evaluating GLCTLVAML, drop_train_nan=False, seperate_chains=False, seed=3\n",
      "0.8614197530864198\n",
      "Evaluating GLCTLVAML, drop_train_nan=True, seperate_chains=True, seed=3\n",
      "0.8774691358024691\n",
      "Evaluating GLCTLVAML, drop_train_nan=False, seperate_chains=True, seed=3\n",
      "0.8904320987654322\n",
      "Evaluating GLCTLVAML, drop_train_nan=True, seperate_chains=False, seed=4\n",
      "0.8830532212885154\n",
      "Evaluating GLCTLVAML, drop_train_nan=False, seperate_chains=False, seed=4\n",
      "0.9107142857142858\n",
      "Evaluating GLCTLVAML, drop_train_nan=True, seperate_chains=True, seed=4\n",
      "0.9418767507002801\n",
      "Evaluating GLCTLVAML, drop_train_nan=False, seperate_chains=True, seed=4\n",
      "0.9492296918767505\n",
      "### Epitope: SSLENFRAYV ###\n"
     ]
    },
    {
     "name": "stderr",
     "output_type": "stream",
     "text": [
      "C:\\Users\\arnod\\PycharmProjects\\thesis\\util\\epitopes.py:6: DtypeWarning: Columns (20,29,30) have mixed types. Specify dtype option on import or set low_memory=False.\n",
      "  df_vdjdb = pd.read_csv('data/vdjdb-2022-03-30/vdjdb_full.txt', sep='\\t')\n"
     ]
    },
    {
     "name": "stdout",
     "output_type": "stream",
     "text": [
      "Positive samples: alpha only: 0, beta only: 0, both: 0, none: 0\n",
      "Negative samples (will be sampled to select same amount as positive): alpha only: 7176, beta only: 20671, both: 27016, none: 0\n",
      "Epitope SSLENFRAYV throwed an error: not enough values to unpack (expected 2, got 0)\n",
      "### Epitope: ASNENMETM ###\n"
     ]
    },
    {
     "name": "stderr",
     "output_type": "stream",
     "text": [
      "C:\\Users\\arnod\\PycharmProjects\\thesis\\util\\epitopes.py:6: DtypeWarning: Columns (20,29,30) have mixed types. Specify dtype option on import or set low_memory=False.\n",
      "  df_vdjdb = pd.read_csv('data/vdjdb-2022-03-30/vdjdb_full.txt', sep='\\t')\n"
     ]
    },
    {
     "name": "stdout",
     "output_type": "stream",
     "text": [
      "Positive samples: alpha only: 0, beta only: 0, both: 0, none: 0\n",
      "Negative samples (will be sampled to select same amount as positive): alpha only: 7176, beta only: 20671, both: 27016, none: 0\n",
      "Epitope ASNENMETM throwed an error: not enough values to unpack (expected 2, got 0)\n",
      "### Epitope: YLQPRTFLL ###\n"
     ]
    },
    {
     "name": "stderr",
     "output_type": "stream",
     "text": [
      "C:\\Users\\arnod\\PycharmProjects\\thesis\\util\\epitopes.py:6: DtypeWarning: Columns (20,29,30) have mixed types. Specify dtype option on import or set low_memory=False.\n",
      "  df_vdjdb = pd.read_csv('data/vdjdb-2022-03-30/vdjdb_full.txt', sep='\\t')\n"
     ]
    },
    {
     "name": "stdout",
     "output_type": "stream",
     "text": [
      "Number of negative samples changed from 53537 to 53182 (because of overlap with positive samples)\n",
      "Positive samples: alpha only: 418, beta only: 551, both: 357, none: 0\n",
      "Negative samples (will be sampled to select same amount as positive): alpha only: 6727, beta only: 20102, both: 26353, none: 0\n",
      "Evaluating YLQPRTFLL, drop_train_nan=True, seperate_chains=False, seed=0\n",
      "0.8742498636115659\n",
      "Evaluating YLQPRTFLL, drop_train_nan=False, seperate_chains=False, seed=0\n",
      "0.8617021276595744\n",
      "Evaluating YLQPRTFLL, drop_train_nan=True, seperate_chains=True, seed=0\n",
      "0.8420621931260229\n",
      "Evaluating YLQPRTFLL, drop_train_nan=False, seperate_chains=True, seed=0\n",
      "0.8671576650300055\n",
      "Evaluating YLQPRTFLL, drop_train_nan=True, seperate_chains=False, seed=1\n",
      "0.8435975609756098\n",
      "Evaluating YLQPRTFLL, drop_train_nan=False, seperate_chains=False, seed=1\n",
      "0.8378048780487805\n",
      "Evaluating YLQPRTFLL, drop_train_nan=True, seperate_chains=True, seed=1\n",
      "0.8679878048780488\n",
      "Evaluating YLQPRTFLL, drop_train_nan=False, seperate_chains=True, seed=1\n",
      "0.8798780487804878\n",
      "Evaluating YLQPRTFLL, drop_train_nan=True, seperate_chains=False, seed=2\n",
      "0.8679245283018868\n",
      "Evaluating YLQPRTFLL, drop_train_nan=False, seperate_chains=False, seed=2\n",
      "0.8692722371967655\n",
      "Evaluating YLQPRTFLL, drop_train_nan=True, seperate_chains=True, seed=2\n",
      "0.8955525606469001\n",
      "Evaluating YLQPRTFLL, drop_train_nan=False, seperate_chains=True, seed=2\n",
      "0.8836477987421384\n",
      "Evaluating YLQPRTFLL, drop_train_nan=True, seperate_chains=False, seed=3\n",
      "0.8332236842105263\n",
      "Evaluating YLQPRTFLL, drop_train_nan=False, seperate_chains=False, seed=3\n",
      "0.8203947368421053\n",
      "Evaluating YLQPRTFLL, drop_train_nan=True, seperate_chains=True, seed=3\n",
      "0.831578947368421\n",
      "Evaluating YLQPRTFLL, drop_train_nan=False, seperate_chains=True, seed=3\n",
      "0.8164473684210527\n",
      "Evaluating YLQPRTFLL, drop_train_nan=True, seperate_chains=False, seed=4\n",
      "0.814375\n",
      "Evaluating YLQPRTFLL, drop_train_nan=False, seperate_chains=False, seed=4\n",
      "0.824375\n",
      "Evaluating YLQPRTFLL, drop_train_nan=True, seperate_chains=True, seed=4\n",
      "0.818125\n",
      "Evaluating YLQPRTFLL, drop_train_nan=False, seperate_chains=True, seed=4\n",
      "0.7909375000000001\n",
      "### Epitope: LLWNGPMAV ###\n"
     ]
    },
    {
     "name": "stderr",
     "output_type": "stream",
     "text": [
      "C:\\Users\\arnod\\PycharmProjects\\thesis\\util\\epitopes.py:6: DtypeWarning: Columns (20,29,30) have mixed types. Specify dtype option on import or set low_memory=False.\n",
      "  df_vdjdb = pd.read_csv('data/vdjdb-2022-03-30/vdjdb_full.txt', sep='\\t')\n"
     ]
    },
    {
     "name": "stdout",
     "output_type": "stream",
     "text": [
      "Number of negative samples changed from 54321 to 54039 (because of overlap with positive samples)\n",
      "Positive samples: alpha only: 86, beta only: 209, both: 247, none: 0\n",
      "Negative samples (will be sampled to select same amount as positive): alpha only: 7051, beta only: 20439, both: 26549, none: 0\n",
      "Evaluating LLWNGPMAV, drop_train_nan=True, seperate_chains=False, seed=0\n",
      "0.8412393162393162\n",
      "Evaluating LLWNGPMAV, drop_train_nan=False, seperate_chains=False, seed=0\n",
      "0.861965811965812\n",
      "Evaluating LLWNGPMAV, drop_train_nan=True, seperate_chains=True, seed=0\n",
      "0.8777777777777779\n",
      "Evaluating LLWNGPMAV, drop_train_nan=False, seperate_chains=True, seed=0\n",
      "0.8767094017094017\n",
      "Evaluating LLWNGPMAV, drop_train_nan=True, seperate_chains=False, seed=1\n",
      "0.8616352201257861\n",
      "Evaluating LLWNGPMAV, drop_train_nan=False, seperate_chains=False, seed=1\n",
      "0.8492812219227313\n",
      "Evaluating LLWNGPMAV, drop_train_nan=True, seperate_chains=True, seed=1\n",
      "0.8769092542677448\n",
      "Evaluating LLWNGPMAV, drop_train_nan=False, seperate_chains=True, seed=1\n",
      "0.874438454627134\n",
      "Evaluating LLWNGPMAV, drop_train_nan=True, seperate_chains=False, seed=2\n",
      "0.8778420835055807\n",
      "Evaluating LLWNGPMAV, drop_train_nan=False, seperate_chains=False, seed=2\n",
      "0.8840429929723024\n",
      "Evaluating LLWNGPMAV, drop_train_nan=True, seperate_chains=True, seed=2\n",
      "0.8856965688300952\n",
      "Evaluating LLWNGPMAV, drop_train_nan=False, seperate_chains=True, seed=2\n",
      "0.8875568416701116\n",
      "Evaluating LLWNGPMAV, drop_train_nan=True, seperate_chains=False, seed=3\n",
      "0.8106060606060607\n",
      "Evaluating LLWNGPMAV, drop_train_nan=False, seperate_chains=False, seed=3\n",
      "0.817929292929293\n",
      "Evaluating LLWNGPMAV, drop_train_nan=True, seperate_chains=True, seed=3\n",
      "0.8244949494949494\n",
      "Evaluating LLWNGPMAV, drop_train_nan=False, seperate_chains=True, seed=3\n",
      "0.8434343434343434\n",
      "Evaluating LLWNGPMAV, drop_train_nan=True, seperate_chains=False, seed=4\n",
      "0.8671328671328671\n",
      "Evaluating LLWNGPMAV, drop_train_nan=False, seperate_chains=False, seed=4\n",
      "0.8562937062937063\n",
      "Evaluating LLWNGPMAV, drop_train_nan=True, seperate_chains=True, seed=4\n",
      "0.9048951048951049\n",
      "Evaluating LLWNGPMAV, drop_train_nan=False, seperate_chains=True, seed=4\n",
      "0.9117132867132867\n",
      "### Epitope: CINGVCWTV ###\n"
     ]
    },
    {
     "name": "stderr",
     "output_type": "stream",
     "text": [
      "C:\\Users\\arnod\\PycharmProjects\\thesis\\util\\epitopes.py:6: DtypeWarning: Columns (20,29,30) have mixed types. Specify dtype option on import or set low_memory=False.\n",
      "  df_vdjdb = pd.read_csv('data/vdjdb-2022-03-30/vdjdb_full.txt', sep='\\t')\n"
     ]
    },
    {
     "name": "stdout",
     "output_type": "stream",
     "text": [
      "Number of negative samples changed from 54429 to 54301 (because of overlap with positive samples)\n",
      "Positive samples: alpha only: 8, beta only: 181, both: 245, none: 0\n",
      "Negative samples (will be sampled to select same amount as positive): alpha only: 7146, beta only: 20484, both: 26671, none: 0\n",
      "Evaluating CINGVCWTV, drop_train_nan=True, seperate_chains=False, seed=0\n",
      "0.9056639159789948\n",
      "Evaluating CINGVCWTV, drop_train_nan=False, seperate_chains=False, seed=0\n",
      "0.9009752438109528\n",
      "Evaluating CINGVCWTV, drop_train_nan=True, seperate_chains=True, seed=0\n",
      "0.9407351837959491\n",
      "Evaluating CINGVCWTV, drop_train_nan=False, seperate_chains=True, seed=0\n",
      "0.9367966991747937\n",
      "Evaluating CINGVCWTV, drop_train_nan=True, seperate_chains=False, seed=1\n",
      "0.8747596153846154\n",
      "Evaluating CINGVCWTV, drop_train_nan=False, seperate_chains=False, seed=1\n",
      "0.8932692307692308\n",
      "Evaluating CINGVCWTV, drop_train_nan=True, seperate_chains=True, seed=1\n",
      "0.8786057692307692\n",
      "Evaluating CINGVCWTV, drop_train_nan=False, seperate_chains=True, seed=1\n",
      "0.904326923076923\n",
      "Evaluating CINGVCWTV, drop_train_nan=True, seperate_chains=False, seed=2\n",
      "0.8439625850340136\n",
      "Evaluating CINGVCWTV, drop_train_nan=False, seperate_chains=False, seed=2\n",
      "0.8322704081632651\n",
      "Evaluating CINGVCWTV, drop_train_nan=True, seperate_chains=True, seed=2\n",
      "0.859268707482993\n",
      "Evaluating CINGVCWTV, drop_train_nan=False, seperate_chains=True, seed=2\n",
      "0.8707482993197279\n",
      "Evaluating CINGVCWTV, drop_train_nan=True, seperate_chains=False, seed=3\n",
      "0.9079166666666666\n",
      "Evaluating CINGVCWTV, drop_train_nan=False, seperate_chains=False, seed=3\n",
      "0.896875\n",
      "Evaluating CINGVCWTV, drop_train_nan=True, seperate_chains=True, seed=3\n",
      "0.934375\n",
      "Evaluating CINGVCWTV, drop_train_nan=False, seperate_chains=True, seed=3\n",
      "0.9381250000000001\n",
      "Evaluating CINGVCWTV, drop_train_nan=True, seperate_chains=False, seed=4\n",
      "0.8549528301886793\n",
      "Evaluating CINGVCWTV, drop_train_nan=False, seperate_chains=False, seed=4\n",
      "0.8575078616352202\n",
      "Evaluating CINGVCWTV, drop_train_nan=True, seperate_chains=True, seed=4\n",
      "0.8616352201257862\n",
      "Evaluating CINGVCWTV, drop_train_nan=False, seperate_chains=True, seed=4\n",
      "0.8691037735849055\n",
      "### Epitope: RAKFKQLL ###\n"
     ]
    },
    {
     "name": "stderr",
     "output_type": "stream",
     "text": [
      "C:\\Users\\arnod\\PycharmProjects\\thesis\\util\\epitopes.py:6: DtypeWarning: Columns (20,29,30) have mixed types. Specify dtype option on import or set low_memory=False.\n",
      "  df_vdjdb = pd.read_csv('data/vdjdb-2022-03-30/vdjdb_full.txt', sep='\\t')\n"
     ]
    },
    {
     "name": "stdout",
     "output_type": "stream",
     "text": [
      "Number of negative samples changed from 53365 to 50800 (because of overlap with positive samples)\n",
      "Positive samples: alpha only: 0, beta only: 263, both: 1235, none: 0\n",
      "Negative samples (will be sampled to select same amount as positive): alpha only: 7076, beta only: 20288, both: 23436, none: 0\n",
      "Evaluating RAKFKQLL, drop_train_nan=True, seperate_chains=False, seed=0\n",
      "0.854091956967213\n",
      "Evaluating RAKFKQLL, drop_train_nan=False, seperate_chains=False, seed=0\n",
      "0.8535796618852459\n",
      "Evaluating RAKFKQLL, drop_train_nan=True, seperate_chains=True, seed=0\n",
      "0.888671875\n",
      "Evaluating RAKFKQLL, drop_train_nan=False, seperate_chains=True, seed=0\n",
      "0.8799948770491802\n",
      "Evaluating RAKFKQLL, drop_train_nan=True, seperate_chains=False, seed=1\n",
      "0.8919667590027701\n",
      "Evaluating RAKFKQLL, drop_train_nan=False, seperate_chains=False, seed=1\n",
      "0.8863606384382009\n",
      "Evaluating RAKFKQLL, drop_train_nan=True, seperate_chains=True, seed=1\n",
      "0.9256364595699775\n",
      "Evaluating RAKFKQLL, drop_train_nan=False, seperate_chains=True, seed=1\n",
      "0.9180846853977048\n",
      "Evaluating RAKFKQLL, drop_train_nan=True, seperate_chains=False, seed=2\n",
      "0.9102431275037989\n",
      "Evaluating RAKFKQLL, drop_train_nan=False, seperate_chains=False, seed=2\n",
      "0.8917668186213565\n",
      "Evaluating RAKFKQLL, drop_train_nan=True, seperate_chains=True, seed=2\n",
      "0.9113827876778561\n",
      "Evaluating RAKFKQLL, drop_train_nan=False, seperate_chains=True, seed=2\n",
      "0.9216742644011603\n",
      "Evaluating RAKFKQLL, drop_train_nan=True, seperate_chains=False, seed=3\n",
      "0.8510451739618405\n",
      "Evaluating RAKFKQLL, drop_train_nan=False, seperate_chains=False, seed=3\n",
      "0.8753507295173962\n",
      "Evaluating RAKFKQLL, drop_train_nan=True, seperate_chains=True, seed=3\n",
      "0.8863636363636364\n",
      "Evaluating RAKFKQLL, drop_train_nan=False, seperate_chains=True, seed=3\n",
      "0.8913089225589227\n",
      "Evaluating RAKFKQLL, drop_train_nan=True, seperate_chains=False, seed=4\n",
      "0.855434039644566\n",
      "Evaluating RAKFKQLL, drop_train_nan=False, seperate_chains=False, seed=4\n",
      "0.8485987696514011\n",
      "Evaluating RAKFKQLL, drop_train_nan=True, seperate_chains=True, seed=4\n",
      "0.898462064251538\n",
      "Evaluating RAKFKQLL, drop_train_nan=False, seperate_chains=True, seed=4\n",
      "0.9029733424470267\n",
      "### Epitope: AVFDRKSDAK ###\n"
     ]
    },
    {
     "name": "stderr",
     "output_type": "stream",
     "text": [
      "C:\\Users\\arnod\\PycharmProjects\\thesis\\util\\epitopes.py:6: DtypeWarning: Columns (20,29,30) have mixed types. Specify dtype option on import or set low_memory=False.\n",
      "  df_vdjdb = pd.read_csv('data/vdjdb-2022-03-30/vdjdb_full.txt', sep='\\t')\n"
     ]
    },
    {
     "name": "stdout",
     "output_type": "stream",
     "text": [
      "Number of negative samples changed from 53081 to 48044 (because of overlap with positive samples)\n",
      "Positive samples: alpha only: 0, beta only: 18, both: 1764, none: 0\n",
      "Negative samples (will be sampled to select same amount as positive): alpha only: 7053, beta only: 20523, both: 20468, none: 0\n",
      "Evaluating AVFDRKSDAK, drop_train_nan=True, seperate_chains=False, seed=0\n",
      "0.5511220162942494\n",
      "Evaluating AVFDRKSDAK, drop_train_nan=False, seperate_chains=False, seed=0\n",
      "0.5828052789556434\n",
      "Evaluating AVFDRKSDAK, drop_train_nan=True, seperate_chains=True, seed=0\n",
      "0.5762304064033541\n",
      "Evaluating AVFDRKSDAK, drop_train_nan=False, seperate_chains=True, seed=0\n",
      "0.6110105293248845\n",
      "Evaluating AVFDRKSDAK, drop_train_nan=True, seperate_chains=False, seed=1\n",
      "0.5886944181646169\n",
      "Evaluating AVFDRKSDAK, drop_train_nan=False, seperate_chains=False, seed=1\n",
      "0.5668401135288553\n",
      "Evaluating AVFDRKSDAK, drop_train_nan=True, seperate_chains=True, seed=1\n",
      "0.5661305581835383\n",
      "Evaluating AVFDRKSDAK, drop_train_nan=False, seperate_chains=True, seed=1\n",
      "0.5673131504257333\n",
      "Evaluating AVFDRKSDAK, drop_train_nan=True, seperate_chains=False, seed=2\n",
      "0.6053449493760301\n",
      "Evaluating AVFDRKSDAK, drop_train_nan=False, seperate_chains=False, seed=2\n",
      "0.6243936896632918\n",
      "Evaluating AVFDRKSDAK, drop_train_nan=True, seperate_chains=True, seed=2\n",
      "0.6572404049917588\n",
      "Evaluating AVFDRKSDAK, drop_train_nan=False, seperate_chains=True, seed=2\n",
      "0.6437014363079822\n",
      "Evaluating AVFDRKSDAK, drop_train_nan=True, seperate_chains=False, seed=3\n",
      "0.6006362201617675\n",
      "Evaluating AVFDRKSDAK, drop_train_nan=False, seperate_chains=False, seed=3\n",
      "0.60628329058986\n",
      "Evaluating AVFDRKSDAK, drop_train_nan=True, seperate_chains=True, seed=3\n",
      "0.6060120339317419\n",
      "Evaluating AVFDRKSDAK, drop_train_nan=False, seperate_chains=True, seed=3\n",
      "0.5967893075557309\n",
      "Evaluating AVFDRKSDAK, drop_train_nan=True, seperate_chains=False, seed=4\n",
      "0.56554936611602\n",
      "Evaluating AVFDRKSDAK, drop_train_nan=False, seperate_chains=False, seed=4\n",
      "0.5824049174029966\n",
      "Evaluating AVFDRKSDAK, drop_train_nan=True, seperate_chains=True, seed=4\n",
      "0.6143872454859778\n",
      "Evaluating AVFDRKSDAK, drop_train_nan=False, seperate_chains=True, seed=4\n",
      "0.6034623511333078\n",
      "### Epitope: IVTDFSVIK ###\n"
     ]
    },
    {
     "name": "stderr",
     "output_type": "stream",
     "text": [
      "C:\\Users\\arnod\\PycharmProjects\\thesis\\util\\epitopes.py:6: DtypeWarning: Columns (20,29,30) have mixed types. Specify dtype option on import or set low_memory=False.\n",
      "  df_vdjdb = pd.read_csv('data/vdjdb-2022-03-30/vdjdb_full.txt', sep='\\t')\n"
     ]
    },
    {
     "name": "stdout",
     "output_type": "stream",
     "text": [
      "Number of negative samples changed from 54106 to 50393 (because of overlap with positive samples)\n",
      "Positive samples: alpha only: 0, beta only: 28, both: 729, none: 0\n",
      "Negative samples (will be sampled to select same amount as positive): alpha only: 7100, beta only: 20558, both: 22735, none: 0\n",
      "Evaluating IVTDFSVIK, drop_train_nan=True, seperate_chains=False, seed=0\n",
      "0.73222109016811\n",
      "Evaluating IVTDFSVIK, drop_train_nan=False, seperate_chains=False, seed=0\n",
      "0.7400407539480387\n",
      "Evaluating IVTDFSVIK, drop_train_nan=True, seperate_chains=True, seed=0\n",
      "0.7685685175751401\n",
      "Evaluating IVTDFSVIK, drop_train_nan=False, seperate_chains=True, seed=0\n",
      "0.7529801324503311\n",
      "Evaluating IVTDFSVIK, drop_train_nan=True, seperate_chains=False, seed=1\n",
      "0.7612545018007203\n",
      "Evaluating IVTDFSVIK, drop_train_nan=False, seperate_chains=False, seed=1\n",
      "0.7487745098039217\n",
      "Evaluating IVTDFSVIK, drop_train_nan=True, seperate_chains=True, seed=1\n",
      "0.7940926370548219\n",
      "Evaluating IVTDFSVIK, drop_train_nan=False, seperate_chains=True, seed=1\n",
      "0.7889155662264907\n",
      "Evaluating IVTDFSVIK, drop_train_nan=True, seperate_chains=False, seed=2\n",
      "0.7740889285006933\n",
      "Evaluating IVTDFSVIK, drop_train_nan=False, seperate_chains=False, seed=2\n",
      "0.7657456922162804\n",
      "Evaluating IVTDFSVIK, drop_train_nan=True, seperate_chains=True, seed=2\n",
      "0.763492770845712\n",
      "Evaluating IVTDFSVIK, drop_train_nan=False, seperate_chains=True, seed=2\n",
      "0.7498514557338087\n",
      "Evaluating IVTDFSVIK, drop_train_nan=True, seperate_chains=False, seed=3\n",
      "0.746550704641766\n",
      "Evaluating IVTDFSVIK, drop_train_nan=False, seperate_chains=False, seed=3\n",
      "0.7623435498176803\n",
      "Evaluating IVTDFSVIK, drop_train_nan=True, seperate_chains=True, seed=3\n",
      "0.7605203508426136\n",
      "Evaluating IVTDFSVIK, drop_train_nan=False, seperate_chains=True, seed=3\n",
      "0.7646102296245196\n",
      "Evaluating IVTDFSVIK, drop_train_nan=True, seperate_chains=False, seed=4\n",
      "0.7569617775167621\n",
      "Evaluating IVTDFSVIK, drop_train_nan=False, seperate_chains=False, seed=4\n",
      "0.762638868497039\n",
      "Evaluating IVTDFSVIK, drop_train_nan=True, seperate_chains=True, seed=4\n",
      "0.7752899721039495\n",
      "Evaluating IVTDFSVIK, drop_train_nan=False, seperate_chains=True, seed=4\n",
      "0.7718396711202467\n",
      "### Epitope: SSPPMFRV ###\n"
     ]
    },
    {
     "name": "stderr",
     "output_type": "stream",
     "text": [
      "C:\\Users\\arnod\\PycharmProjects\\thesis\\util\\epitopes.py:6: DtypeWarning: Columns (20,29,30) have mixed types. Specify dtype option on import or set low_memory=False.\n",
      "  df_vdjdb = pd.read_csv('data/vdjdb-2022-03-30/vdjdb_full.txt', sep='\\t')\n"
     ]
    },
    {
     "name": "stdout",
     "output_type": "stream",
     "text": [
      "Positive samples: alpha only: 0, beta only: 0, both: 0, none: 0\n",
      "Negative samples (will be sampled to select same amount as positive): alpha only: 7176, beta only: 20671, both: 27016, none: 0\n",
      "Epitope SSPPMFRV throwed an error: not enough values to unpack (expected 2, got 0)\n",
      "### Epitope: KSKRTPMGF ###\n"
     ]
    },
    {
     "name": "stderr",
     "output_type": "stream",
     "text": [
      "C:\\Users\\arnod\\PycharmProjects\\thesis\\util\\epitopes.py:6: DtypeWarning: Columns (20,29,30) have mixed types. Specify dtype option on import or set low_memory=False.\n",
      "  df_vdjdb = pd.read_csv('data/vdjdb-2022-03-30/vdjdb_full.txt', sep='\\t')\n"
     ]
    },
    {
     "name": "stdout",
     "output_type": "stream",
     "text": [
      "Number of negative samples changed from 54689 to 54650 (because of overlap with positive samples)\n",
      "Positive samples: alpha only: 4, beta only: 44, both: 126, none: 0\n",
      "Negative samples (will be sampled to select same amount as positive): alpha only: 7168, beta only: 20620, both: 26862, none: 0\n",
      "Evaluating KSKRTPMGF, drop_train_nan=True, seperate_chains=False, seed=0\n",
      "0.9201183431952663\n",
      "Evaluating KSKRTPMGF, drop_train_nan=False, seperate_chains=False, seed=0\n",
      "0.9068047337278107\n",
      "Evaluating KSKRTPMGF, drop_train_nan=True, seperate_chains=True, seed=0\n",
      "0.9215976331360947\n",
      "Evaluating KSKRTPMGF, drop_train_nan=False, seperate_chains=True, seed=0\n",
      "0.9460059171597633\n",
      "Evaluating KSKRTPMGF, drop_train_nan=True, seperate_chains=False, seed=1\n",
      "0.8483245149911818\n",
      "Evaluating KSKRTPMGF, drop_train_nan=False, seperate_chains=False, seed=1\n",
      "0.9047619047619048\n",
      "Evaluating KSKRTPMGF, drop_train_nan=True, seperate_chains=True, seed=1\n",
      "0.8765432098765432\n",
      "Evaluating KSKRTPMGF, drop_train_nan=False, seperate_chains=True, seed=1\n",
      "0.9365079365079365\n",
      "Evaluating KSKRTPMGF, drop_train_nan=True, seperate_chains=False, seed=2\n",
      "0.8444816053511706\n",
      "Evaluating KSKRTPMGF, drop_train_nan=False, seperate_chains=False, seed=2\n",
      "0.8319397993311035\n",
      "Evaluating KSKRTPMGF, drop_train_nan=True, seperate_chains=True, seed=2\n",
      "0.8645484949832776\n",
      "Evaluating KSKRTPMGF, drop_train_nan=False, seperate_chains=True, seed=2\n",
      "0.8754180602006689\n",
      "Evaluating KSKRTPMGF, drop_train_nan=True, seperate_chains=False, seed=3\n",
      "0.8628787878787879\n",
      "Evaluating KSKRTPMGF, drop_train_nan=False, seperate_chains=False, seed=3\n",
      "0.893939393939394\n",
      "Evaluating KSKRTPMGF, drop_train_nan=True, seperate_chains=True, seed=3\n",
      "0.9151515151515152\n",
      "Evaluating KSKRTPMGF, drop_train_nan=False, seperate_chains=True, seed=3\n",
      "0.9212121212121211\n",
      "Evaluating KSKRTPMGF, drop_train_nan=True, seperate_chains=False, seed=4\n",
      "0.8208333333333333\n",
      "Evaluating KSKRTPMGF, drop_train_nan=False, seperate_chains=False, seed=4\n",
      "0.84375\n",
      "Evaluating KSKRTPMGF, drop_train_nan=True, seperate_chains=True, seed=4\n",
      "0.8645833333333334\n",
      "Evaluating KSKRTPMGF, drop_train_nan=False, seperate_chains=True, seed=4\n",
      "0.9052083333333334\n",
      "### Epitope: ATDALMTGF ###\n"
     ]
    },
    {
     "name": "stderr",
     "output_type": "stream",
     "text": [
      "C:\\Users\\arnod\\PycharmProjects\\thesis\\util\\epitopes.py:6: DtypeWarning: Columns (20,29,30) have mixed types. Specify dtype option on import or set low_memory=False.\n",
      "  df_vdjdb = pd.read_csv('data/vdjdb-2022-03-30/vdjdb_full.txt', sep='\\t')\n"
     ]
    },
    {
     "name": "stdout",
     "output_type": "stream",
     "text": [
      "Number of negative samples changed from 54686 to 54649 (because of overlap with positive samples)\n",
      "Positive samples: alpha only: 13, beta only: 31, both: 133, none: 0\n",
      "Negative samples (will be sampled to select same amount as positive): alpha only: 7156, beta only: 20630, both: 26863, none: 0\n",
      "Evaluating ATDALMTGF, drop_train_nan=True, seperate_chains=False, seed=0\n",
      "0.8365217391304347\n",
      "Evaluating ATDALMTGF, drop_train_nan=False, seperate_chains=False, seed=0\n",
      "0.8695652173913043\n",
      "Evaluating ATDALMTGF, drop_train_nan=True, seperate_chains=True, seed=0\n",
      "0.9\n",
      "Evaluating ATDALMTGF, drop_train_nan=False, seperate_chains=True, seed=0\n",
      "0.951304347826087\n",
      "Evaluating ATDALMTGF, drop_train_nan=True, seperate_chains=False, seed=1\n",
      "0.8105263157894737\n",
      "Evaluating ATDALMTGF, drop_train_nan=False, seperate_chains=False, seed=1\n",
      "0.8236842105263158\n",
      "Evaluating ATDALMTGF, drop_train_nan=True, seperate_chains=True, seed=1\n",
      "0.8649122807017543\n",
      "Evaluating ATDALMTGF, drop_train_nan=False, seperate_chains=True, seed=1\n",
      "0.8780701754385966\n",
      "Evaluating ATDALMTGF, drop_train_nan=True, seperate_chains=False, seed=2\n",
      "0.9069602272727273\n",
      "Evaluating ATDALMTGF, drop_train_nan=False, seperate_chains=False, seed=2\n",
      "0.9190340909090908\n",
      "Evaluating ATDALMTGF, drop_train_nan=True, seperate_chains=True, seed=2\n",
      "0.9126420454545454\n",
      "Evaluating ATDALMTGF, drop_train_nan=False, seperate_chains=True, seed=2\n",
      "0.9161931818181819\n",
      "Evaluating ATDALMTGF, drop_train_nan=True, seperate_chains=False, seed=3\n",
      "0.8947772657450077\n",
      "Evaluating ATDALMTGF, drop_train_nan=False, seperate_chains=False, seed=3\n",
      "0.9400921658986175\n",
      "Evaluating ATDALMTGF, drop_train_nan=True, seperate_chains=True, seed=3\n",
      "0.9247311827956989\n",
      "Evaluating ATDALMTGF, drop_train_nan=False, seperate_chains=True, seed=3\n",
      "0.9784946236559139\n",
      "Evaluating ATDALMTGF, drop_train_nan=True, seperate_chains=False, seed=4\n",
      "0.8856332703213611\n",
      "Evaluating ATDALMTGF, drop_train_nan=False, seperate_chains=False, seed=4\n",
      "0.9045368620037808\n",
      "Evaluating ATDALMTGF, drop_train_nan=True, seperate_chains=True, seed=4\n",
      "0.8960302457466919\n",
      "Evaluating ATDALMTGF, drop_train_nan=False, seperate_chains=True, seed=4\n",
      "0.9035916824196597\n",
      "### Epitope: KLGGALQAK ###\n"
     ]
    },
    {
     "name": "stderr",
     "output_type": "stream",
     "text": [
      "C:\\Users\\arnod\\PycharmProjects\\thesis\\util\\epitopes.py:6: DtypeWarning: Columns (20,29,30) have mixed types. Specify dtype option on import or set low_memory=False.\n",
      "  df_vdjdb = pd.read_csv('data/vdjdb-2022-03-30/vdjdb_full.txt', sep='\\t')\n"
     ]
    },
    {
     "name": "stdout",
     "output_type": "stream",
     "text": [
      "Number of negative samples changed from 40889 to 35633 (because of overlap with positive samples)\n",
      "Positive samples: alpha only: 0, beta only: 0, both: 13974, none: 0\n",
      "Negative samples (will be sampled to select same amount as positive): alpha only: 6557, beta only: 20386, both: 8690, none: 0\n",
      "Evaluating KLGGALQAK, drop_train_nan=True, seperate_chains=False, seed=0\n",
      "Epitope KLGGALQAK throwed an error: index 1 is out of bounds for axis 1 with size 1\n",
      "### Epitope: RLRAEAQVK ###\n"
     ]
    },
    {
     "name": "stderr",
     "output_type": "stream",
     "text": [
      "C:\\Users\\arnod\\PycharmProjects\\thesis\\util\\epitopes.py:6: DtypeWarning: Columns (20,29,30) have mixed types. Specify dtype option on import or set low_memory=False.\n",
      "  df_vdjdb = pd.read_csv('data/vdjdb-2022-03-30/vdjdb_full.txt', sep='\\t')\n"
     ]
    },
    {
     "name": "stdout",
     "output_type": "stream",
     "text": [
      "Number of negative samples changed from 54432 to 52058 (because of overlap with positive samples)\n",
      "Positive samples: alpha only: 0, beta only: 0, both: 431, none: 0\n",
      "Negative samples (will be sampled to select same amount as positive): alpha only: 7145, beta only: 20661, both: 24252, none: 0\n",
      "Evaluating RLRAEAQVK, drop_train_nan=True, seperate_chains=False, seed=0\n",
      "0.590870786516854\n",
      "Evaluating RLRAEAQVK, drop_train_nan=False, seperate_chains=False, seed=0\n",
      "0.532935393258427\n",
      "Evaluating RLRAEAQVK, drop_train_nan=True, seperate_chains=True, seed=0\n",
      "0.5770365168539326\n",
      "Evaluating RLRAEAQVK, drop_train_nan=False, seperate_chains=True, seed=0\n",
      "0.5857443820224719\n",
      "Evaluating RLRAEAQVK, drop_train_nan=True, seperate_chains=False, seed=1\n",
      "0.6177777777777778\n",
      "Evaluating RLRAEAQVK, drop_train_nan=False, seperate_chains=False, seed=1\n",
      "0.6237275985663082\n",
      "Evaluating RLRAEAQVK, drop_train_nan=True, seperate_chains=True, seed=1\n",
      "0.6162007168458782\n",
      "Evaluating RLRAEAQVK, drop_train_nan=False, seperate_chains=True, seed=1\n",
      "0.6139068100358421\n",
      "Evaluating RLRAEAQVK, drop_train_nan=True, seperate_chains=False, seed=2\n",
      "0.5319792566983579\n",
      "Evaluating RLRAEAQVK, drop_train_nan=False, seperate_chains=False, seed=2\n",
      "0.5664073753961395\n",
      "Evaluating RLRAEAQVK, drop_train_nan=True, seperate_chains=True, seed=2\n",
      "0.6197781619129935\n",
      "Evaluating RLRAEAQVK, drop_train_nan=False, seperate_chains=True, seed=2\n",
      "0.622154998559493\n",
      "Evaluating RLRAEAQVK, drop_train_nan=True, seperate_chains=False, seed=3\n",
      "0.6079317269076305\n",
      "Evaluating RLRAEAQVK, drop_train_nan=False, seperate_chains=False, seed=3\n",
      "0.6390562248995983\n",
      "Evaluating RLRAEAQVK, drop_train_nan=True, seperate_chains=True, seed=3\n",
      "0.6628657487091222\n",
      "Evaluating RLRAEAQVK, drop_train_nan=False, seperate_chains=True, seed=3\n",
      "0.6737664945496271\n",
      "Evaluating RLRAEAQVK, drop_train_nan=True, seperate_chains=False, seed=4\n",
      "0.5806630600638092\n",
      "Evaluating RLRAEAQVK, drop_train_nan=False, seperate_chains=False, seed=4\n",
      "0.6457899847412956\n",
      "Evaluating RLRAEAQVK, drop_train_nan=True, seperate_chains=True, seed=4\n",
      "0.7019004022749341\n",
      "Evaluating RLRAEAQVK, drop_train_nan=False, seperate_chains=True, seed=4\n",
      "0.6782494104591483\n",
      "### Epitope: HGIRNASFI ###\n"
     ]
    },
    {
     "name": "stderr",
     "output_type": "stream",
     "text": [
      "C:\\Users\\arnod\\PycharmProjects\\thesis\\util\\epitopes.py:6: DtypeWarning: Columns (20,29,30) have mixed types. Specify dtype option on import or set low_memory=False.\n",
      "  df_vdjdb = pd.read_csv('data/vdjdb-2022-03-30/vdjdb_full.txt', sep='\\t')\n"
     ]
    },
    {
     "name": "stdout",
     "output_type": "stream",
     "text": [
      "Positive samples: alpha only: 0, beta only: 0, both: 0, none: 0\n",
      "Negative samples (will be sampled to select same amount as positive): alpha only: 7176, beta only: 20671, both: 27016, none: 0\n",
      "Epitope HGIRNASFI throwed an error: not enough values to unpack (expected 2, got 0)\n",
      "### Epitope: LSLRNPILV ###\n"
     ]
    },
    {
     "name": "stderr",
     "output_type": "stream",
     "text": [
      "C:\\Users\\arnod\\PycharmProjects\\thesis\\util\\epitopes.py:6: DtypeWarning: Columns (20,29,30) have mixed types. Specify dtype option on import or set low_memory=False.\n",
      "  df_vdjdb = pd.read_csv('data/vdjdb-2022-03-30/vdjdb_full.txt', sep='\\t')\n"
     ]
    },
    {
     "name": "stdout",
     "output_type": "stream",
     "text": [
      "Positive samples: alpha only: 0, beta only: 0, both: 0, none: 0\n",
      "Negative samples (will be sampled to select same amount as positive): alpha only: 7176, beta only: 20671, both: 27016, none: 0\n",
      "Epitope LSLRNPILV throwed an error: not enough values to unpack (expected 2, got 0)\n",
      "### Epitope: SSYRRPVGI ###\n"
     ]
    },
    {
     "name": "stderr",
     "output_type": "stream",
     "text": [
      "C:\\Users\\arnod\\PycharmProjects\\thesis\\util\\epitopes.py:6: DtypeWarning: Columns (20,29,30) have mixed types. Specify dtype option on import or set low_memory=False.\n",
      "  df_vdjdb = pd.read_csv('data/vdjdb-2022-03-30/vdjdb_full.txt', sep='\\t')\n"
     ]
    },
    {
     "name": "stdout",
     "output_type": "stream",
     "text": [
      "Positive samples: alpha only: 0, beta only: 0, both: 0, none: 0\n",
      "Negative samples (will be sampled to select same amount as positive): alpha only: 7176, beta only: 20671, both: 27016, none: 0\n",
      "Epitope SSYRRPVGI throwed an error: not enough values to unpack (expected 2, got 0)\n",
      "### Epitope: DATYQRTRALVR ###\n"
     ]
    },
    {
     "name": "stderr",
     "output_type": "stream",
     "text": [
      "C:\\Users\\arnod\\PycharmProjects\\thesis\\util\\epitopes.py:6: DtypeWarning: Columns (20,29,30) have mixed types. Specify dtype option on import or set low_memory=False.\n",
      "  df_vdjdb = pd.read_csv('data/vdjdb-2022-03-30/vdjdb_full.txt', sep='\\t')\n"
     ]
    },
    {
     "name": "stdout",
     "output_type": "stream",
     "text": [
      "Number of negative samples changed from 54721 to 54654 (because of overlap with positive samples)\n",
      "Positive samples: alpha only: 13, beta only: 20, both: 109, none: 0\n",
      "Negative samples (will be sampled to select same amount as positive): alpha only: 7155, beta only: 20650, both: 26849, none: 0\n",
      "Evaluating DATYQRTRALVR, drop_train_nan=True, seperate_chains=False, seed=0\n",
      "0.7825484764542936\n",
      "Evaluating DATYQRTRALVR, drop_train_nan=False, seperate_chains=False, seed=0\n",
      "0.8047091412742382\n",
      "Evaluating DATYQRTRALVR, drop_train_nan=True, seperate_chains=True, seed=0\n",
      "0.8060941828254848\n",
      "Evaluating DATYQRTRALVR, drop_train_nan=False, seperate_chains=True, seed=0\n",
      "0.8296398891966759\n",
      "Evaluating DATYQRTRALVR, drop_train_nan=True, seperate_chains=False, seed=1\n",
      "0.8\n",
      "Evaluating DATYQRTRALVR, drop_train_nan=False, seperate_chains=False, seed=1\n",
      "0.8105263157894737\n",
      "Evaluating DATYQRTRALVR, drop_train_nan=True, seperate_chains=True, seed=1\n",
      "0.8157894736842105\n",
      "Evaluating DATYQRTRALVR, drop_train_nan=False, seperate_chains=True, seed=1\n",
      "0.8368421052631579\n",
      "Evaluating DATYQRTRALVR, drop_train_nan=True, seperate_chains=False, seed=2\n",
      "0.8139130434782608\n",
      "Evaluating DATYQRTRALVR, drop_train_nan=False, seperate_chains=False, seed=2\n",
      "0.7808695652173914\n",
      "Evaluating DATYQRTRALVR, drop_train_nan=True, seperate_chains=True, seed=2\n",
      "0.8060869565217391\n",
      "Evaluating DATYQRTRALVR, drop_train_nan=False, seperate_chains=True, seed=2\n",
      "0.8347826086956521\n",
      "Evaluating DATYQRTRALVR, drop_train_nan=True, seperate_chains=False, seed=3\n",
      "0.863970588235294\n",
      "Evaluating DATYQRTRALVR, drop_train_nan=False, seperate_chains=False, seed=3\n",
      "0.8480392156862745\n",
      "Evaluating DATYQRTRALVR, drop_train_nan=True, seperate_chains=True, seed=3\n",
      "0.8590686274509803\n",
      "Evaluating DATYQRTRALVR, drop_train_nan=False, seperate_chains=True, seed=3\n",
      "0.8590686274509806\n",
      "Evaluating DATYQRTRALVR, drop_train_nan=True, seperate_chains=False, seed=4\n",
      "0.7968749999999999\n",
      "Evaluating DATYQRTRALVR, drop_train_nan=False, seperate_chains=False, seed=4\n",
      "0.8413461538461539\n",
      "Evaluating DATYQRTRALVR, drop_train_nan=True, seperate_chains=True, seed=4\n",
      "0.783653846153846\n",
      "Evaluating DATYQRTRALVR, drop_train_nan=False, seperate_chains=True, seed=4\n",
      "0.8185096153846154\n",
      "### Epitope: LTDEMIAQY ###\n"
     ]
    },
    {
     "name": "stderr",
     "output_type": "stream",
     "text": [
      "C:\\Users\\arnod\\PycharmProjects\\thesis\\util\\epitopes.py:6: DtypeWarning: Columns (20,29,30) have mixed types. Specify dtype option on import or set low_memory=False.\n",
      "  df_vdjdb = pd.read_csv('data/vdjdb-2022-03-30/vdjdb_full.txt', sep='\\t')\n"
     ]
    },
    {
     "name": "stdout",
     "output_type": "stream",
     "text": [
      "Number of negative samples changed from 54728 to 54674 (because of overlap with positive samples)\n",
      "Positive samples: alpha only: 0, beta only: 0, both: 135, none: 0\n",
      "Negative samples (will be sampled to select same amount as positive): alpha only: 7164, beta only: 20670, both: 26840, none: 0\n",
      "Evaluating LTDEMIAQY, drop_train_nan=True, seperate_chains=False, seed=0\n",
      "0.7592592592592592\n",
      "Evaluating LTDEMIAQY, drop_train_nan=False, seperate_chains=False, seed=0\n",
      "0.7492283950617283\n",
      "Evaluating LTDEMIAQY, drop_train_nan=True, seperate_chains=True, seed=0\n",
      "0.7577160493827161\n",
      "Evaluating LTDEMIAQY, drop_train_nan=False, seperate_chains=True, seed=0\n",
      "0.7631172839506173\n",
      "Evaluating LTDEMIAQY, drop_train_nan=True, seperate_chains=False, seed=1\n",
      "0.6564516129032257\n",
      "Evaluating LTDEMIAQY, drop_train_nan=False, seperate_chains=False, seed=1\n",
      "0.5693548387096774\n",
      "Evaluating LTDEMIAQY, drop_train_nan=True, seperate_chains=True, seed=1\n",
      "0.7040322580645162\n",
      "Evaluating LTDEMIAQY, drop_train_nan=False, seperate_chains=True, seed=1\n",
      "0.75\n",
      "Evaluating LTDEMIAQY, drop_train_nan=True, seperate_chains=False, seed=2\n",
      "0.657190635451505\n",
      "Evaluating LTDEMIAQY, drop_train_nan=False, seperate_chains=False, seed=2\n",
      "0.7332775919732442\n",
      "Evaluating LTDEMIAQY, drop_train_nan=True, seperate_chains=True, seed=2\n",
      "0.6755852842809364\n",
      "Evaluating LTDEMIAQY, drop_train_nan=False, seperate_chains=True, seed=2\n",
      "0.6454849498327759\n",
      "Evaluating LTDEMIAQY, drop_train_nan=True, seperate_chains=False, seed=3\n",
      "0.7307692307692308\n",
      "Evaluating LTDEMIAQY, drop_train_nan=False, seperate_chains=False, seed=3\n",
      "0.7661538461538462\n",
      "Evaluating LTDEMIAQY, drop_train_nan=True, seperate_chains=True, seed=3\n",
      "0.73\n",
      "Evaluating LTDEMIAQY, drop_train_nan=False, seperate_chains=True, seed=3\n",
      "0.74\n",
      "Evaluating LTDEMIAQY, drop_train_nan=True, seperate_chains=False, seed=4\n",
      "0.7250000000000001\n",
      "Evaluating LTDEMIAQY, drop_train_nan=False, seperate_chains=False, seed=4\n",
      "0.7530303030303029\n",
      "Evaluating LTDEMIAQY, drop_train_nan=True, seperate_chains=True, seed=4\n",
      "0.7833333333333333\n",
      "Evaluating LTDEMIAQY, drop_train_nan=False, seperate_chains=True, seed=4\n",
      "0.7825757575757576\n",
      "### Epitope: TTDPSFLGRY ###\n"
     ]
    },
    {
     "name": "stderr",
     "output_type": "stream",
     "text": [
      "C:\\Users\\arnod\\PycharmProjects\\thesis\\util\\epitopes.py:6: DtypeWarning: Columns (20,29,30) have mixed types. Specify dtype option on import or set low_memory=False.\n",
      "  df_vdjdb = pd.read_csv('data/vdjdb-2022-03-30/vdjdb_full.txt', sep='\\t')\n"
     ]
    },
    {
     "name": "stdout",
     "output_type": "stream",
     "text": [
      "Number of negative samples changed from 54609 to 54423 (because of overlap with positive samples)\n",
      "Positive samples: alpha only: 0, beta only: 0, both: 254, none: 0\n",
      "Negative samples (will be sampled to select same amount as positive): alpha only: 7137, beta only: 20647, both: 26639, none: 0\n",
      "Evaluating TTDPSFLGRY, drop_train_nan=True, seperate_chains=False, seed=0\n",
      "0.6031583264971287\n",
      "Evaluating TTDPSFLGRY, drop_train_nan=False, seperate_chains=False, seed=0\n",
      "0.6066447908121411\n",
      "Evaluating TTDPSFLGRY, drop_train_nan=True, seperate_chains=True, seed=0\n",
      "0.663453650533224\n",
      "Evaluating TTDPSFLGRY, drop_train_nan=False, seperate_chains=True, seed=0\n",
      "0.6882690730106644\n",
      "Evaluating TTDPSFLGRY, drop_train_nan=True, seperate_chains=False, seed=1\n",
      "0.7436170212765957\n",
      "Evaluating TTDPSFLGRY, drop_train_nan=False, seperate_chains=False, seed=1\n",
      "0.6627659574468084\n",
      "Evaluating TTDPSFLGRY, drop_train_nan=True, seperate_chains=True, seed=1\n",
      "0.6902127659574468\n",
      "Evaluating TTDPSFLGRY, drop_train_nan=False, seperate_chains=True, seed=1\n",
      "0.7131914893617022\n",
      "Evaluating TTDPSFLGRY, drop_train_nan=True, seperate_chains=False, seed=2\n",
      "0.6977030352748154\n",
      "Evaluating TTDPSFLGRY, drop_train_nan=False, seperate_chains=False, seed=2\n",
      "0.7266201804757998\n",
      "Evaluating TTDPSFLGRY, drop_train_nan=True, seperate_chains=True, seed=2\n",
      "0.735233798195242\n",
      "Evaluating TTDPSFLGRY, drop_train_nan=False, seperate_chains=True, seed=2\n",
      "0.7645611156685809\n",
      "Evaluating TTDPSFLGRY, drop_train_nan=True, seperate_chains=False, seed=3\n",
      "0.6176726009552758\n",
      "Evaluating TTDPSFLGRY, drop_train_nan=False, seperate_chains=False, seed=3\n",
      "0.6812852800694745\n",
      "Evaluating TTDPSFLGRY, drop_train_nan=True, seperate_chains=True, seed=3\n",
      "0.6830221450282241\n",
      "Evaluating TTDPSFLGRY, drop_train_nan=False, seperate_chains=True, seed=3\n",
      "0.6982197134172817\n",
      "Evaluating TTDPSFLGRY, drop_train_nan=True, seperate_chains=False, seed=4\n",
      "0.6741666666666667\n",
      "Evaluating TTDPSFLGRY, drop_train_nan=False, seperate_chains=False, seed=4\n",
      "0.6735416666666667\n",
      "Evaluating TTDPSFLGRY, drop_train_nan=True, seperate_chains=True, seed=4\n",
      "0.703125\n",
      "Evaluating TTDPSFLGRY, drop_train_nan=False, seperate_chains=True, seed=4\n",
      "0.7420833333333333\n",
      "### Epitope: SPRWYFYYL ###\n"
     ]
    },
    {
     "name": "stderr",
     "output_type": "stream",
     "text": [
      "C:\\Users\\arnod\\PycharmProjects\\thesis\\util\\epitopes.py:6: DtypeWarning: Columns (20,29,30) have mixed types. Specify dtype option on import or set low_memory=False.\n",
      "  df_vdjdb = pd.read_csv('data/vdjdb-2022-03-30/vdjdb_full.txt', sep='\\t')\n"
     ]
    },
    {
     "name": "stdout",
     "output_type": "stream",
     "text": [
      "Number of negative samples changed from 54554 to 54498 (because of overlap with positive samples)\n",
      "Positive samples: alpha only: 18, beta only: 97, both: 194, none: 0\n",
      "Negative samples (will be sampled to select same amount as positive): alpha only: 7152, beta only: 20566, both: 26780, none: 0\n",
      "Evaluating SPRWYFYYL, drop_train_nan=True, seperate_chains=False, seed=0\n",
      "0.8524305555555556\n",
      "Evaluating SPRWYFYYL, drop_train_nan=False, seperate_chains=False, seed=0\n",
      "0.8098958333333333\n",
      "Evaluating SPRWYFYYL, drop_train_nan=True, seperate_chains=True, seed=0\n",
      "0.8984375\n",
      "Evaluating SPRWYFYYL, drop_train_nan=False, seperate_chains=True, seed=0\n",
      "0.8650173611111112\n",
      "Evaluating SPRWYFYYL, drop_train_nan=True, seperate_chains=False, seed=1\n",
      "0.7693877551020408\n",
      "Evaluating SPRWYFYYL, drop_train_nan=False, seperate_chains=False, seed=1\n",
      "0.7731292517006803\n",
      "Evaluating SPRWYFYYL, drop_train_nan=True, seperate_chains=True, seed=1\n",
      "0.7877551020408163\n",
      "Evaluating SPRWYFYYL, drop_train_nan=False, seperate_chains=True, seed=1\n",
      "0.8289115646258503\n",
      "Evaluating SPRWYFYYL, drop_train_nan=True, seperate_chains=False, seed=2\n",
      "0.8271692745376956\n",
      "Evaluating SPRWYFYYL, drop_train_nan=False, seperate_chains=False, seed=2\n",
      "0.8104551920341394\n",
      "Evaluating SPRWYFYYL, drop_train_nan=True, seperate_chains=True, seed=2\n",
      "0.8502844950213372\n",
      "Evaluating SPRWYFYYL, drop_train_nan=False, seperate_chains=True, seed=2\n",
      "0.8520625889046942\n",
      "Evaluating SPRWYFYYL, drop_train_nan=True, seperate_chains=False, seed=3\n",
      "0.7517094017094017\n",
      "Evaluating SPRWYFYYL, drop_train_nan=False, seperate_chains=False, seed=3\n",
      "0.8038461538461539\n",
      "Evaluating SPRWYFYYL, drop_train_nan=True, seperate_chains=True, seed=3\n",
      "0.8722222222222222\n",
      "Evaluating SPRWYFYYL, drop_train_nan=False, seperate_chains=True, seed=3\n",
      "0.8948717948717948\n",
      "Evaluating SPRWYFYYL, drop_train_nan=True, seperate_chains=False, seed=4\n",
      "0.8181089743589745\n",
      "Evaluating SPRWYFYYL, drop_train_nan=False, seperate_chains=False, seed=4\n",
      "0.8485576923076923\n",
      "Evaluating SPRWYFYYL, drop_train_nan=True, seperate_chains=True, seed=4\n",
      "0.8329326923076923\n",
      "Evaluating SPRWYFYYL, drop_train_nan=False, seperate_chains=True, seed=4\n",
      "0.8766025641025641\n"
     ]
    }
   ],
   "source": [
    "\n",
    "# epitopes = [\n",
    "#     'GILGFVFTL', # 1/3 van alles\n",
    "#     'NLVPMVATV',  # 2/5 alpha, 1/10 beta, 6/10 both\n",
    "#     # 'LLLGIGILV', # 2/3 alpha, 1/3 beta, 0 both -> 0 both dus droppen gaat ni\n",
    "#     'PKYVKQNTLKLAT', # 3/5 beta, 1/10 alfa, 1/10 both\n",
    "#     'CINGVCWTV' # 3/5 beta, 2/5both (en heel klein beetje alpha)\n",
    "# ]\n",
    "\n",
    "results = []\n",
    "\n",
    "\n",
    "def train_diff_epitope(df, epitope, drop_train_nan, seperate_chains, seed):\n",
    "    print(f\"Evaluating {epitope}, drop_train_nan={drop_train_nan}, seperate_chains={seperate_chains}, seed={seed}\")\n",
    "\n",
    "    ## Creating the dataframe\n",
    "    if len(df) > 1500:\n",
    "        df_new = df.sample(1500, random_state=seed)\n",
    "    else:\n",
    "        df_new = df\n",
    "\n",
    "    df_train, df_test = train_test_split(df_new, test_size=0.2, random_state=seed)\n",
    "\n",
    "    test = df_test.dropna()\n",
    "\n",
    "    if drop_train_nan:\n",
    "        df_train = df_train.dropna()\n",
    "\n",
    "    # with nan in train set\n",
    "    x = get_features(df_train)\n",
    "    y = df_train['reaction']\n",
    "\n",
    "    x_test = get_features(test, test=True)\n",
    "    x_test = fix_test(x_test, x.columns)\n",
    "\n",
    "    y_test = test['reaction']\n",
    "\n",
    "    alpha_only_count_pos, beta_only_count_pos, both_count_pos, non_count_pos = get_counts(df_train)\n",
    "\n",
    "    mean_imputer = impute.SimpleImputer(strategy='mean')\n",
    "\n",
    "    ## Training the model\n",
    "    if seperate_chains:\n",
    "        model_alpha = RandomForestClassifier()\n",
    "        model_beta = RandomForestClassifier()\n",
    "\n",
    "        auc = evaluate_seperate_chains(model_alpha, model_beta, x, y, x_test, y_test, imputer=mean_imputer)\n",
    "    else:\n",
    "        model = RandomForestClassifier()\n",
    "        model = Pipeline([('imputer', mean_imputer), ('model', model)])\n",
    "        model_imputer = None\n",
    "        auc = evaluate_no_cv(model, x, y, x_test, y_test, model_imputer)\n",
    "\n",
    "    print(auc)\n",
    "\n",
    "    # Log the results\n",
    "    model_name = \"Random Forest (\"\n",
    "    if seperate_chains:\n",
    "        model_name += \"Seperate chains, \"\n",
    "    else:\n",
    "        model_name += \"Both chains, \"\n",
    "    if drop_train_nan:\n",
    "        model_name += \"no nan in train)\"\n",
    "    else:\n",
    "        model_name += \"nan in train)\"\n",
    "\n",
    "    total_count = alpha_only_count_pos + beta_only_count_pos + both_count_pos + non_count_pos\n",
    "    a_frac, b_frac, both_frac, non_frac = alpha_only_count_pos / total_count, beta_only_count_pos / total_count, both_count_pos / total_count, non_count_pos / total_count\n",
    "\n",
    "    results.append({\n",
    "        'epitope': epitope,\n",
    "        'drop_train_nan': drop_train_nan,\n",
    "        'serperate_chains': seperate_chains,\n",
    "        'seed': seed,\n",
    "        'auc': auc,\n",
    "        'alpha_only_count_pos': alpha_only_count_pos,\n",
    "        'beta_only_count_pos': beta_only_count_pos,\n",
    "        'both_count_pos': both_count_pos,\n",
    "        'non_count_pos': non_count_pos,\n",
    "        'model': model_name,\n",
    "        'a_frac': a_frac,\n",
    "        'b_frac': b_frac,\n",
    "        'both_frac': both_frac,\n",
    "        'non_frac': non_frac\n",
    "    })\n",
    "\n",
    "\n",
    "folds = 5\n",
    "for epitope in epitopes:\n",
    "    print(f\"### Epitope: {epitope} ###\")\n",
    "\n",
    "    try:\n",
    "        df = get_epitope_df(epitope, species=species)\n",
    "\n",
    "        for seed in range(folds):\n",
    "            train_diff_epitope(df, epitope, drop_train_nan=True, seperate_chains=False, seed=seed)\n",
    "            train_diff_epitope(df, epitope, drop_train_nan=False, seperate_chains=False, seed=seed)\n",
    "            train_diff_epitope(df, epitope, drop_train_nan=True, seperate_chains=True, seed=seed)\n",
    "            train_diff_epitope(df, epitope, drop_train_nan=False, seperate_chains=True, seed=seed)\n",
    "    except Exception as e:\n",
    "        print(f\"Epitope {epitope} throwed an error: {e}\")"
   ],
   "metadata": {
    "collapsed": false
   }
  },
  {
   "cell_type": "code",
   "execution_count": 40,
   "outputs": [
    {
     "name": "stdout",
     "output_type": "stream",
     "text": [
      "Saved to outputs/rf_different_epitopes_20230616-133238.csv\n"
     ]
    }
   ],
   "source": [
    "import time\n",
    "\n",
    "# create a dataframe from the results\n",
    "df = pd.DataFrame(results)\n",
    "timestr = time.strftime(\"%Y%m%d-%H%M%S\")\n",
    "df.to_csv(f\"outputs/rf_different_epitopes_{timestr}.csv\")\n",
    "print(f\"Saved to outputs/rf_different_epitopes_{timestr}.csv\")"
   ],
   "metadata": {
    "collapsed": false
   }
  },
  {
   "cell_type": "code",
   "execution_count": 30,
   "outputs": [],
   "source": [
    "# load the dataframe\n",
    "df = pd.read_csv(\"outputs/rf_different_epitopes_20230616-133238.csv\")"
   ],
   "metadata": {
    "collapsed": false
   }
  },
  {
   "cell_type": "code",
   "execution_count": 31,
   "outputs": [
    {
     "data": {
      "text/plain": "<Figure size 432x288 with 1 Axes>",
      "image/png": "[encoded data removed]"
     },
     "metadata": {},
     "output_type": "display_data"
    },
    {
     "name": "stdout",
     "output_type": "stream",
     "text": [
      "Baseline Random Forest (NaNs dropped in train) not found in scores, using Random Forest (Both chains, no nan in train) instead\n"
     ]
    },
    {
     "data": {
      "text/plain": "<Figure size 432x288 with 1 Axes>",
      "image/png": "[encoded data removed]"
     },
     "metadata": {},
     "output_type": "display_data"
    }
   ],
   "source": [
    "# plot the results\n",
    "title = \"RandomForest with different epitopes\"\n",
    "output = \"graphs/rf-different-epitopes.png\"\n",
    "plot_scores(df, title, wrap=True, x=\"epitope\", hue=\"model\", xlabel=\"Epitope\", ylabel=\"AUC\",\n",
    "            output_file=output,\n",
    "            plot=True)"
   ],
   "metadata": {
    "collapsed": false
   }
  },
  {
   "cell_type": "code",
   "execution_count": 32,
   "outputs": [
    {
     "data": {
      "text/plain": "   Unnamed: 0    epitope  drop_train_nan  serperate_chains  seed       auc  \\\n0           0  NLVPMVATV            True             False     0  0.611765   \n1           1  NLVPMVATV           False             False     0  0.564706   \n2           2  NLVPMVATV            True              True     0  0.667647   \n3           3  NLVPMVATV           False              True     0  0.573529   \n4           4  NLVPMVATV            True             False     1  0.616667   \n\n   alpha_only_count_pos  beta_only_count_pos  both_count_pos  non_count_pos  \\\n0                     0                    0              87              0   \n1                   364                  746              90              0   \n2                     0                    0              87              0   \n3                   364                  746              90              0   \n4                     0                    0              85              0   \n\n                                              model    a_frac    b_frac  \\\n0      Random Forest (Both chains, no nan in train)  0.000000  0.000000   \n1         Random Forest (Both chains, nan in train)  0.303333  0.621667   \n2  Random Forest (Seperate chains, no nan in train)  0.000000  0.000000   \n3     Random Forest (Seperate chains, nan in train)  0.303333  0.621667   \n4      Random Forest (Both chains, no nan in train)  0.000000  0.000000   \n\n   both_frac  non_frac  improvement_hue  \n0      1.000       0.0         0.025114  \n1      0.075       0.0        -0.021945  \n2      1.000       0.0         0.080996  \n3      0.075       0.0        -0.013121  \n4      1.000       0.0         0.030016  ",
      "text/html": "<div>\n<style scoped>\n    .dataframe tbody tr th:only-of-type {\n        vertical-align: middle;\n    }\n\n    .dataframe tbody tr th {\n        vertical-align: top;\n    }\n\n    .dataframe thead th {\n        text-align: right;\n    }\n</style>\n<table border=\"1\" class=\"dataframe\">\n  <thead>\n    <tr style=\"text-align: right;\">\n      <th></th>\n      <th>Unnamed: 0</th>\n      <th>epitope</th>\n      <th>drop_train_nan</th>\n      <th>serperate_chains</th>\n      <th>seed</th>\n      <th>auc</th>\n      <th>alpha_only_count_pos</th>\n      <th>beta_only_count_pos</th>\n      <th>both_count_pos</th>\n      <th>non_count_pos</th>\n      <th>model</th>\n      <th>a_frac</th>\n      <th>b_frac</th>\n      <th>both_frac</th>\n      <th>non_frac</th>\n      <th>improvement_hue</th>\n    </tr>\n  </thead>\n  <tbody>\n    <tr>\n      <th>0</th>\n      <td>0</td>\n      <td>NLVPMVATV</td>\n      <td>True</td>\n      <td>False</td>\n      <td>0</td>\n      <td>0.611765</td>\n      <td>0</td>\n      <td>0</td>\n      <td>87</td>\n      <td>0</td>\n      <td>Random Forest (Both chains, no nan in train)</td>\n      <td>0.000000</td>\n      <td>0.000000</td>\n      <td>1.000</td>\n      <td>0.0</td>\n      <td>0.025114</td>\n    </tr>\n    <tr>\n      <th>1</th>\n      <td>1</td>\n      <td>NLVPMVATV</td>\n      <td>False</td>\n      <td>False</td>\n      <td>0</td>\n      <td>0.564706</td>\n      <td>364</td>\n      <td>746</td>\n      <td>90</td>\n      <td>0</td>\n      <td>Random Forest (Both chains, nan in train)</td>\n      <td>0.303333</td>\n      <td>0.621667</td>\n      <td>0.075</td>\n      <td>0.0</td>\n      <td>-0.021945</td>\n    </tr>\n    <tr>\n      <th>2</th>\n      <td>2</td>\n      <td>NLVPMVATV</td>\n      <td>True</td>\n      <td>True</td>\n      <td>0</td>\n      <td>0.667647</td>\n      <td>0</td>\n      <td>0</td>\n      <td>87</td>\n      <td>0</td>\n      <td>Random Forest (Seperate chains, no nan in train)</td>\n      <td>0.000000</td>\n      <td>0.000000</td>\n      <td>1.000</td>\n      <td>0.0</td>\n      <td>0.080996</td>\n    </tr>\n    <tr>\n      <th>3</th>\n      <td>3</td>\n      <td>NLVPMVATV</td>\n      <td>False</td>\n      <td>True</td>\n      <td>0</td>\n      <td>0.573529</td>\n      <td>364</td>\n      <td>746</td>\n      <td>90</td>\n      <td>0</td>\n      <td>Random Forest (Seperate chains, nan in train)</td>\n      <td>0.303333</td>\n      <td>0.621667</td>\n      <td>0.075</td>\n      <td>0.0</td>\n      <td>-0.013121</td>\n    </tr>\n    <tr>\n      <th>4</th>\n      <td>4</td>\n      <td>NLVPMVATV</td>\n      <td>True</td>\n      <td>False</td>\n      <td>1</td>\n      <td>0.616667</td>\n      <td>0</td>\n      <td>0</td>\n      <td>85</td>\n      <td>0</td>\n      <td>Random Forest (Both chains, no nan in train)</td>\n      <td>0.000000</td>\n      <td>0.000000</td>\n      <td>1.000</td>\n      <td>0.0</td>\n      <td>0.030016</td>\n    </tr>\n  </tbody>\n</table>\n</div>"
     },
     "execution_count": 32,
     "metadata": {},
     "output_type": "execute_result"
    }
   ],
   "source": [
    "df.head()"
   ],
   "metadata": {
    "collapsed": false
   }
  },
  {
   "cell_type": "code",
   "execution_count": 33,
   "outputs": [],
   "source": [
    "# only look at serperate_chains=False\n",
    "df_rf = df[df.serperate_chains == False].copy()\n",
    "# Create a table with the means\n",
    "df_rf_means = df_rf.groupby(['epitope', 'drop_train_nan']).mean().reset_index()"
   ],
   "metadata": {
    "collapsed": false
   }
  },
  {
   "cell_type": "code",
   "execution_count": 34,
   "outputs": [
    {
     "data": {
      "text/plain": "          epitope  drop_train_nan  Unnamed: 0  serperate_chains  seed  \\\n0       ATDALMTGF           False       289.0               0.0   2.0   \n2      AVFDRKSDAK           False       229.0               0.0   2.0   \n4       CINGVCWTV           False       189.0               0.0   2.0   \n6    DATYQRTRALVR           False       329.0               0.0   2.0   \n8      ELAGIGILTV           False        49.0               0.0   2.0   \n10      GILGFVFTL           False       109.0               0.0   2.0   \n12      GLCTLVAML           False       129.0               0.0   2.0   \n14      IVTDFSVIK           False       249.0               0.0   2.0   \n16      KSKRTPMGF           False       269.0               0.0   2.0   \n18      LLWNGPMAV           False       169.0               0.0   2.0   \n20      LTDEMIAQY           False       349.0               0.0   2.0   \n22      NLVPMVATV           False         9.0               0.0   2.0   \n24  PKYVKQNTLKLAT           False        89.0               0.0   2.0   \n26       RAKFKQLL           False       209.0               0.0   2.0   \n28      RLRAEAQVK           False       309.0               0.0   2.0   \n30      SPRWYFYYL           False       389.0               0.0   2.0   \n32     TPRVTGGGAM           False        29.0               0.0   2.0   \n34     TTDPSFLGRY           False       369.0               0.0   2.0   \n36      YLQPRTFLL           False       149.0               0.0   2.0   \n38    YSEHPTFTSQY           False        69.0               0.0   2.0   \n\n         auc  alpha_only_count_pos  beta_only_count_pos  both_count_pos  \\\n0   0.891383                  20.2                 47.4           215.4   \n2   0.592545                   0.0                 10.4          1189.6   \n4   0.876180                  12.8                294.0           387.2   \n6   0.817098                  20.6                 33.2           173.2   \n8   0.908286                   0.6               1003.6           195.8   \n10  0.904467                 410.2                456.2           333.6   \n12  0.899980                  36.4                857.4           306.2   \n14  0.755909                   0.0                 43.0          1157.0   \n16  0.876239                   6.4                 70.0           201.6   \n18  0.853903                 136.6                336.4           394.0   \n20  0.714209                   0.0                  0.0           216.0   \n22  0.594806                 351.2                764.4            84.4   \n24  0.622008                 153.4                559.0           109.6   \n26  0.871131                   0.0                214.6           985.4   \n28  0.601583                   0.0                  0.0           689.0   \n30  0.809177                  27.4                153.8           312.8   \n32  0.971879                   6.8                481.0           102.2   \n34  0.670172                   0.0                  0.0           406.0   \n36  0.842710                 389.8                493.2           317.0   \n38  0.876000                   0.0                175.4            36.6   \n\n    non_count_pos    a_frac    b_frac  both_frac  non_frac  improvement_hue  \\\n0             0.0  0.071378  0.167491   0.761131       0.0         0.024499   \n2             0.0  0.000000  0.008667   0.991333       0.0         0.010276   \n4             0.0  0.018444  0.423631   0.557925       0.0        -0.001272   \n6             0.0  0.090749  0.146256   0.762996       0.0         0.005637   \n8             0.0  0.000500  0.836333   0.163167       0.0         0.012382   \n10            0.0  0.341833  0.380167   0.278000       0.0         0.000799   \n12            0.0  0.030333  0.714500   0.255167       0.0         0.006939   \n14            0.0  0.000000  0.035833   0.964167       0.0         0.001693   \n16            0.0  0.023022  0.251799   0.725180       0.0         0.016912   \n18            0.0  0.157555  0.388005   0.454441       0.0         0.002211   \n20            0.0  0.000000  0.000000   1.000000       0.0         0.008475   \n22            0.0  0.292667  0.637000   0.070333       0.0         0.008155   \n24            0.0  0.186618  0.680049   0.133333       0.0         0.034733   \n26            0.0  0.000000  0.178833   0.821167       0.0        -0.001425   \n28            0.0  0.000000  0.000000   1.000000       0.0         0.015739   \n30            0.0  0.055466  0.311336   0.633198       0.0         0.005416   \n32            0.0  0.011525  0.815254   0.173220       0.0         0.095701   \n34            0.0  0.000000  0.000000   1.000000       0.0         0.002908   \n36            0.0  0.324833  0.411000   0.264167       0.0        -0.003964   \n38            0.0  0.000000  0.827358   0.172642       0.0         0.217250   \n\n    auc_improvement  \n0          0.024499  \n2          0.010276  \n4         -0.001272  \n6          0.005637  \n8          0.012382  \n10         0.000799  \n12         0.006939  \n14         0.001693  \n16         0.016912  \n18         0.002211  \n20         0.008475  \n22         0.008155  \n24         0.034733  \n26        -0.001425  \n28         0.015739  \n30         0.005416  \n32         0.095701  \n34         0.002908  \n36        -0.003964  \n38         0.217250  ",
      "text/html": "<div>\n<style scoped>\n    .dataframe tbody tr th:only-of-type {\n        vertical-align: middle;\n    }\n\n    .dataframe tbody tr th {\n        vertical-align: top;\n    }\n\n    .dataframe thead th {\n        text-align: right;\n    }\n</style>\n<table border=\"1\" class=\"dataframe\">\n  <thead>\n    <tr style=\"text-align: right;\">\n      <th></th>\n      <th>epitope</th>\n      <th>drop_train_nan</th>\n      <th>Unnamed: 0</th>\n      <th>serperate_chains</th>\n      <th>seed</th>\n      <th>auc</th>\n      <th>alpha_only_count_pos</th>\n      <th>beta_only_count_pos</th>\n      <th>both_count_pos</th>\n      <th>non_count_pos</th>\n      <th>a_frac</th>\n      <th>b_frac</th>\n      <th>both_frac</th>\n      <th>non_frac</th>\n      <th>improvement_hue</th>\n      <th>auc_improvement</th>\n    </tr>\n  </thead>\n  <tbody>\n    <tr>\n      <th>0</th>\n      <td>ATDALMTGF</td>\n      <td>False</td>\n      <td>289.0</td>\n      <td>0.0</td>\n      <td>2.0</td>\n      <td>0.891383</td>\n      <td>20.2</td>\n      <td>47.4</td>\n      <td>215.4</td>\n      <td>0.0</td>\n      <td>0.071378</td>\n      <td>0.167491</td>\n      <td>0.761131</td>\n      <td>0.0</td>\n      <td>0.024499</td>\n      <td>0.024499</td>\n    </tr>\n    <tr>\n      <th>2</th>\n      <td>AVFDRKSDAK</td>\n      <td>False</td>\n      <td>229.0</td>\n      <td>0.0</td>\n      <td>2.0</td>\n      <td>0.592545</td>\n      <td>0.0</td>\n      <td>10.4</td>\n      <td>1189.6</td>\n      <td>0.0</td>\n      <td>0.000000</td>\n      <td>0.008667</td>\n      <td>0.991333</td>\n      <td>0.0</td>\n      <td>0.010276</td>\n      <td>0.010276</td>\n    </tr>\n    <tr>\n      <th>4</th>\n      <td>CINGVCWTV</td>\n      <td>False</td>\n      <td>189.0</td>\n      <td>0.0</td>\n      <td>2.0</td>\n      <td>0.876180</td>\n      <td>12.8</td>\n      <td>294.0</td>\n      <td>387.2</td>\n      <td>0.0</td>\n      <td>0.018444</td>\n      <td>0.423631</td>\n      <td>0.557925</td>\n      <td>0.0</td>\n      <td>-0.001272</td>\n      <td>-0.001272</td>\n    </tr>\n    <tr>\n      <th>6</th>\n      <td>DATYQRTRALVR</td>\n      <td>False</td>\n      <td>329.0</td>\n      <td>0.0</td>\n      <td>2.0</td>\n      <td>0.817098</td>\n      <td>20.6</td>\n      <td>33.2</td>\n      <td>173.2</td>\n      <td>0.0</td>\n      <td>0.090749</td>\n      <td>0.146256</td>\n      <td>0.762996</td>\n      <td>0.0</td>\n      <td>0.005637</td>\n      <td>0.005637</td>\n    </tr>\n    <tr>\n      <th>8</th>\n      <td>ELAGIGILTV</td>\n      <td>False</td>\n      <td>49.0</td>\n      <td>0.0</td>\n      <td>2.0</td>\n      <td>0.908286</td>\n      <td>0.6</td>\n      <td>1003.6</td>\n      <td>195.8</td>\n      <td>0.0</td>\n      <td>0.000500</td>\n      <td>0.836333</td>\n      <td>0.163167</td>\n      <td>0.0</td>\n      <td>0.012382</td>\n      <td>0.012382</td>\n    </tr>\n    <tr>\n      <th>10</th>\n      <td>GILGFVFTL</td>\n      <td>False</td>\n      <td>109.0</td>\n      <td>0.0</td>\n      <td>2.0</td>\n      <td>0.904467</td>\n      <td>410.2</td>\n      <td>456.2</td>\n      <td>333.6</td>\n      <td>0.0</td>\n      <td>0.341833</td>\n      <td>0.380167</td>\n      <td>0.278000</td>\n      <td>0.0</td>\n      <td>0.000799</td>\n      <td>0.000799</td>\n    </tr>\n    <tr>\n      <th>12</th>\n      <td>GLCTLVAML</td>\n      <td>False</td>\n      <td>129.0</td>\n      <td>0.0</td>\n      <td>2.0</td>\n      <td>0.899980</td>\n      <td>36.4</td>\n      <td>857.4</td>\n      <td>306.2</td>\n      <td>0.0</td>\n      <td>0.030333</td>\n      <td>0.714500</td>\n      <td>0.255167</td>\n      <td>0.0</td>\n      <td>0.006939</td>\n      <td>0.006939</td>\n    </tr>\n    <tr>\n      <th>14</th>\n      <td>IVTDFSVIK</td>\n      <td>False</td>\n      <td>249.0</td>\n      <td>0.0</td>\n      <td>2.0</td>\n      <td>0.755909</td>\n      <td>0.0</td>\n      <td>43.0</td>\n      <td>1157.0</td>\n      <td>0.0</td>\n      <td>0.000000</td>\n      <td>0.035833</td>\n      <td>0.964167</td>\n      <td>0.0</td>\n      <td>0.001693</td>\n      <td>0.001693</td>\n    </tr>\n    <tr>\n      <th>16</th>\n      <td>KSKRTPMGF</td>\n      <td>False</td>\n      <td>269.0</td>\n      <td>0.0</td>\n      <td>2.0</td>\n      <td>0.876239</td>\n      <td>6.4</td>\n      <td>70.0</td>\n      <td>201.6</td>\n      <td>0.0</td>\n      <td>0.023022</td>\n      <td>0.251799</td>\n      <td>0.725180</td>\n      <td>0.0</td>\n      <td>0.016912</td>\n      <td>0.016912</td>\n    </tr>\n    <tr>\n      <th>18</th>\n      <td>LLWNGPMAV</td>\n      <td>False</td>\n      <td>169.0</td>\n      <td>0.0</td>\n      <td>2.0</td>\n      <td>0.853903</td>\n      <td>136.6</td>\n      <td>336.4</td>\n      <td>394.0</td>\n      <td>0.0</td>\n      <td>0.157555</td>\n      <td>0.388005</td>\n      <td>0.454441</td>\n      <td>0.0</td>\n      <td>0.002211</td>\n      <td>0.002211</td>\n    </tr>\n    <tr>\n      <th>20</th>\n      <td>LTDEMIAQY</td>\n      <td>False</td>\n      <td>349.0</td>\n      <td>0.0</td>\n      <td>2.0</td>\n      <td>0.714209</td>\n      <td>0.0</td>\n      <td>0.0</td>\n      <td>216.0</td>\n      <td>0.0</td>\n      <td>0.000000</td>\n      <td>0.000000</td>\n      <td>1.000000</td>\n      <td>0.0</td>\n      <td>0.008475</td>\n      <td>0.008475</td>\n    </tr>\n    <tr>\n      <th>22</th>\n      <td>NLVPMVATV</td>\n      <td>False</td>\n      <td>9.0</td>\n      <td>0.0</td>\n      <td>2.0</td>\n      <td>0.594806</td>\n      <td>351.2</td>\n      <td>764.4</td>\n      <td>84.4</td>\n      <td>0.0</td>\n      <td>0.292667</td>\n      <td>0.637000</td>\n      <td>0.070333</td>\n      <td>0.0</td>\n      <td>0.008155</td>\n      <td>0.008155</td>\n    </tr>\n    <tr>\n      <th>24</th>\n      <td>PKYVKQNTLKLAT</td>\n      <td>False</td>\n      <td>89.0</td>\n      <td>0.0</td>\n      <td>2.0</td>\n      <td>0.622008</td>\n      <td>153.4</td>\n      <td>559.0</td>\n      <td>109.6</td>\n      <td>0.0</td>\n      <td>0.186618</td>\n      <td>0.680049</td>\n      <td>0.133333</td>\n      <td>0.0</td>\n      <td>0.034733</td>\n      <td>0.034733</td>\n    </tr>\n    <tr>\n      <th>26</th>\n      <td>RAKFKQLL</td>\n      <td>False</td>\n      <td>209.0</td>\n      <td>0.0</td>\n      <td>2.0</td>\n      <td>0.871131</td>\n      <td>0.0</td>\n      <td>214.6</td>\n      <td>985.4</td>\n      <td>0.0</td>\n      <td>0.000000</td>\n      <td>0.178833</td>\n      <td>0.821167</td>\n      <td>0.0</td>\n      <td>-0.001425</td>\n      <td>-0.001425</td>\n    </tr>\n    <tr>\n      <th>28</th>\n      <td>RLRAEAQVK</td>\n      <td>False</td>\n      <td>309.0</td>\n      <td>0.0</td>\n      <td>2.0</td>\n      <td>0.601583</td>\n      <td>0.0</td>\n      <td>0.0</td>\n      <td>689.0</td>\n      <td>0.0</td>\n      <td>0.000000</td>\n      <td>0.000000</td>\n      <td>1.000000</td>\n      <td>0.0</td>\n      <td>0.015739</td>\n      <td>0.015739</td>\n    </tr>\n    <tr>\n      <th>30</th>\n      <td>SPRWYFYYL</td>\n      <td>False</td>\n      <td>389.0</td>\n      <td>0.0</td>\n      <td>2.0</td>\n      <td>0.809177</td>\n      <td>27.4</td>\n      <td>153.8</td>\n      <td>312.8</td>\n      <td>0.0</td>\n      <td>0.055466</td>\n      <td>0.311336</td>\n      <td>0.633198</td>\n      <td>0.0</td>\n      <td>0.005416</td>\n      <td>0.005416</td>\n    </tr>\n    <tr>\n      <th>32</th>\n      <td>TPRVTGGGAM</td>\n      <td>False</td>\n      <td>29.0</td>\n      <td>0.0</td>\n      <td>2.0</td>\n      <td>0.971879</td>\n      <td>6.8</td>\n      <td>481.0</td>\n      <td>102.2</td>\n      <td>0.0</td>\n      <td>0.011525</td>\n      <td>0.815254</td>\n      <td>0.173220</td>\n      <td>0.0</td>\n      <td>0.095701</td>\n      <td>0.095701</td>\n    </tr>\n    <tr>\n      <th>34</th>\n      <td>TTDPSFLGRY</td>\n      <td>False</td>\n      <td>369.0</td>\n      <td>0.0</td>\n      <td>2.0</td>\n      <td>0.670172</td>\n      <td>0.0</td>\n      <td>0.0</td>\n      <td>406.0</td>\n      <td>0.0</td>\n      <td>0.000000</td>\n      <td>0.000000</td>\n      <td>1.000000</td>\n      <td>0.0</td>\n      <td>0.002908</td>\n      <td>0.002908</td>\n    </tr>\n    <tr>\n      <th>36</th>\n      <td>YLQPRTFLL</td>\n      <td>False</td>\n      <td>149.0</td>\n      <td>0.0</td>\n      <td>2.0</td>\n      <td>0.842710</td>\n      <td>389.8</td>\n      <td>493.2</td>\n      <td>317.0</td>\n      <td>0.0</td>\n      <td>0.324833</td>\n      <td>0.411000</td>\n      <td>0.264167</td>\n      <td>0.0</td>\n      <td>-0.003964</td>\n      <td>-0.003964</td>\n    </tr>\n    <tr>\n      <th>38</th>\n      <td>YSEHPTFTSQY</td>\n      <td>False</td>\n      <td>69.0</td>\n      <td>0.0</td>\n      <td>2.0</td>\n      <td>0.876000</td>\n      <td>0.0</td>\n      <td>175.4</td>\n      <td>36.6</td>\n      <td>0.0</td>\n      <td>0.000000</td>\n      <td>0.827358</td>\n      <td>0.172642</td>\n      <td>0.0</td>\n      <td>0.217250</td>\n      <td>0.217250</td>\n    </tr>\n  </tbody>\n</table>\n</div>"
     },
     "execution_count": 34,
     "metadata": {},
     "output_type": "execute_result"
    }
   ],
   "source": [
    "# create a dataframe containing the improvements in auc (which is the drop_train_nan=False - drop_train_nan=True)\n",
    "df_rf_improvements = df_rf_means[df_rf_means.drop_train_nan == False].copy()\n",
    "df_rf_improvements['auc_improvement'] = df_rf_improvements['auc'] - df_rf_means[df_rf_means.drop_train_nan == True][\n",
    "    'auc'].values\n",
    "df_rf_improvements"
   ],
   "metadata": {
    "collapsed": false
   }
  },
  {
   "cell_type": "code",
   "execution_count": 34,
   "outputs": [],
   "source": [],
   "metadata": {
    "collapsed": false
   }
  },
  {
   "cell_type": "code",
   "execution_count": 35,
   "outputs": [
    {
     "data": {
      "text/plain": "<Figure size 432x288 with 1 Axes>",
      "image/png": "[encoded data removed]"
     },
     "metadata": {},
     "output_type": "display_data"
    },
    {
     "data": {
      "text/plain": "<Figure size 432x288 with 0 Axes>"
     },
     "metadata": {},
     "output_type": "display_data"
    }
   ],
   "source": [
    "from matplotlib.ticker import PercentFormatter\n",
    "# plot the improvements\n",
    "import seaborn as sns\n",
    "import matplotlib.pyplot as plt\n",
    "# title = \"RandomForest with different epitopes\"\n",
    "#\n",
    "# output = \"graphs/rf-different-epitopes-improvements.png\"\n",
    "for x in ['auc_improvement']: #, 'auc', 'a_frac', 'b_frac', 'both_frac']:\n",
    "    sns.barplot(data=df_rf_improvements, x=x, y=\"auc_improvement\")\n",
    "    # rotate xticklabels 90 degrees\n",
    "    plt.xticks(rotation=90)\n",
    "    # make percentages from xticks\n",
    "    # plt.gca().yaxis.set_major_formatter(PercentFormatter(1))\n",
    "    # change the x ticks to the epitope names with their original auc (drop train nan = True) between brackets\n",
    "    plt.xticks(range(len(df_rf_improvements)), [f\"{epitope} (auc={auc:.0%}, paired={both:.0%})\" for epitope, auc, both in\n",
    "                                                zip(df_rf_improvements['epitope'], df_rf_improvements['auc'],\n",
    "                                                    df_rf_improvements['both_frac'])])\n",
    "    # write to file\n",
    "    plt.savefig(f\"graphs/rf-different-epitopes-both-chains-improvements.png\", bbox_inches='tight')\n",
    "    plt.show()\n",
    "    plt.clf()"
   ],
   "metadata": {
    "collapsed": false
   }
  },
  {
   "cell_type": "code",
   "execution_count": 38,
   "outputs": [
    {
     "name": "stdout",
     "output_type": "stream",
     "text": [
      "\\begin{tabular}{llllllr}\n",
      "\\toprule\n",
      "      epitope & auc & auc\\_improvement & a\\_frac & b\\_frac & both\\_frac &  total\\_samples \\\\\n",
      "\\midrule\n",
      "    ATDALMTGF & 89\\% &           2.45\\% &     7\\% &    17\\% &       76\\% &          283.0 \\\\\n",
      "   AVFDRKSDAK & 59\\% &           1.03\\% &     0\\% &     1\\% &       99\\% &         1200.0 \\\\\n",
      "    CINGVCWTV & 88\\% &          -0.13\\% &     2\\% &    42\\% &       56\\% &          694.0 \\\\\n",
      " DATYQRTRALVR & 82\\% &           0.56\\% &     9\\% &    15\\% &       76\\% &          227.0 \\\\\n",
      "   ELAGIGILTV & 91\\% &           1.24\\% &     0\\% &    84\\% &       16\\% &         1200.0 \\\\\n",
      "    GILGFVFTL & 90\\% &           0.08\\% &    34\\% &    38\\% &       28\\% &         1200.0 \\\\\n",
      "    GLCTLVAML & 90\\% &           0.69\\% &     3\\% &    71\\% &       26\\% &         1200.0 \\\\\n",
      "    IVTDFSVIK & 76\\% &           0.17\\% &     0\\% &     4\\% &       96\\% &         1200.0 \\\\\n",
      "    KSKRTPMGF & 88\\% &           1.69\\% &     2\\% &    25\\% &       73\\% &          278.0 \\\\\n",
      "    LLWNGPMAV & 85\\% &           0.22\\% &    16\\% &    39\\% &       45\\% &          867.0 \\\\\n",
      "    LTDEMIAQY & 71\\% &           0.85\\% &     0\\% &     0\\% &      100\\% &          216.0 \\\\\n",
      "    NLVPMVATV & 59\\% &           0.82\\% &    29\\% &    64\\% &        7\\% &         1200.0 \\\\\n",
      "PKYVKQNTLKLAT & 62\\% &           3.47\\% &    19\\% &    68\\% &       13\\% &          822.0 \\\\\n",
      "     RAKFKQLL & 87\\% &          -0.14\\% &     0\\% &    18\\% &       82\\% &         1200.0 \\\\\n",
      "    RLRAEAQVK & 60\\% &           1.57\\% &     0\\% &     0\\% &      100\\% &          689.0 \\\\\n",
      "    SPRWYFYYL & 81\\% &           0.54\\% &     6\\% &    31\\% &       63\\% &          494.0 \\\\\n",
      "   TPRVTGGGAM & 97\\% &           9.57\\% &     1\\% &    82\\% &       17\\% &          590.0 \\\\\n",
      "   TTDPSFLGRY & 67\\% &           0.29\\% &     0\\% &     0\\% &      100\\% &          406.0 \\\\\n",
      "    YLQPRTFLL & 84\\% &          -0.40\\% &    32\\% &    41\\% &       26\\% &         1200.0 \\\\\n",
      "  YSEHPTFTSQY & 88\\% &          21.72\\% &     0\\% &    83\\% &       17\\% &          212.0 \\\\\n",
      "\\bottomrule\n",
      "\\end{tabular}\n",
      "\n"
     ]
    }
   ],
   "source": [
    "# create a dataframe with columns Epitope, Total samples, AUC both chains only, AUC with missing data, AUC improvement, Alpha only proprtion, Beta only proportion, Both proportion\n",
    "\n",
    "df_rf_improvements['total_samples'] = df_rf_improvements['alpha_only_count_pos'] + df_rf_improvements[\n",
    "    'beta_only_count_pos'] + df_rf_improvements['both_count_pos']\n",
    "overview_df = df_rf_improvements[['epitope', 'auc', 'auc_improvement', 'a_frac', 'b_frac', 'both_frac', 'total_samples']].copy()\n",
    "\n",
    "overview_df['auc'] = overview_df['auc'].apply(lambda x: f\"{x:.0%}\")\n",
    "overview_df['auc_improvement'] = overview_df['auc_improvement'].apply(lambda x: f\"{x:.2%}\")\n",
    "overview_df['a_frac'] = overview_df['a_frac'].apply(lambda x: f\"{x:.0%}\")\n",
    "overview_df['b_frac'] = overview_df['b_frac'].apply(lambda x: f\"{x:.0%}\")\n",
    "overview_df['both_frac'] = overview_df['both_frac'].apply(lambda x: f\"{x:.0%}\")\n",
    "\n",
    "# print latex table\n",
    "print(overview_df.to_latex(index=False))"
   ],
   "metadata": {
    "collapsed": false
   }
  },
  {
   "cell_type": "markdown",
   "source": [
    "# Single chain improved with missing data\n",
    "\n"
   ],
   "metadata": {
    "collapsed": false
   }
  },
  {
   "cell_type": "code",
   "execution_count": 12,
   "outputs": [
    {
     "name": "stderr",
     "output_type": "stream",
     "text": [
      "C:\\Users\\arnod\\PycharmProjects\\thesis\\util\\epitopes.py:6: DtypeWarning: Columns (20,29,30) have mixed types. Specify dtype option on import or set low_memory=False.\n",
      "  df_vdjdb = pd.read_csv('data/vdjdb-2022-03-30/vdjdb_full.txt', sep='\\t')\n"
     ]
    },
    {
     "name": "stdout",
     "output_type": "stream",
     "text": [
      "Found 57 epitopes\n",
      "### Epitope: FLKEKGGL ###\n",
      "### Epitope: LLQTGIHVRVSQPSL ###\n"
     ]
    },
    {
     "name": "stderr",
     "output_type": "stream",
     "text": [
      "C:\\Users\\arnod\\PycharmProjects\\thesis\\util\\epitopes.py:6: DtypeWarning: Columns (20,29,30) have mixed types. Specify dtype option on import or set low_memory=False.\n",
      "  df_vdjdb = pd.read_csv('data/vdjdb-2022-03-30/vdjdb_full.txt', sep='\\t')\n"
     ]
    },
    {
     "name": "stdout",
     "output_type": "stream",
     "text": [
      "Number of negative samples changed from 54552 to 54540 (because of overlap with positive samples)\n",
      "Positive samples: alpha only: 0, beta only: 311, both: 0, none: 0\n",
      "Negative samples (will be sampled to select same amount as positive): alpha only: 7176, beta only: 20353, both: 27011, none: 0\n",
      "Evaluating LLQTGIHVRVSQPSL, drop_train_nan=True, seperate_chains=False, seed=0\n",
      "Epitope LLQTGIHVRVSQPSL throwed an error: Column alpha_J=TRAJ34 not in test set\n",
      "### Epitope: NLVPMVATV ###\n"
     ]
    },
    {
     "name": "stderr",
     "output_type": "stream",
     "text": [
      "C:\\Users\\arnod\\PycharmProjects\\thesis\\util\\epitopes.py:6: DtypeWarning: Columns (20,29,30) have mixed types. Specify dtype option on import or set low_memory=False.\n",
      "  df_vdjdb = pd.read_csv('data/vdjdb-2022-03-30/vdjdb_full.txt', sep='\\t')\n"
     ]
    },
    {
     "name": "stdout",
     "output_type": "stream",
     "text": [
      "Number of negative samples changed from 47471 to 46335 (because of overlap with positive samples)\n",
      "Positive samples: alpha only: 2158, beta only: 4667, both: 567, none: 0\n",
      "Negative samples (will be sampled to select same amount as positive): alpha only: 4935, beta only: 15899, both: 25501, none: 0\n",
      "Evaluating NLVPMVATV, drop_train_nan=True, seperate_chains=False, seed=0\n",
      "0.6176470588235293\n",
      "Evaluating NLVPMVATV, drop_train_nan=False, seperate_chains=False, seed=0\n",
      "0.611764705882353\n",
      "Evaluating NLVPMVATV, drop_train_nan=True, seperate_chains=False, seed=1\n",
      "0.5875\n",
      "Evaluating NLVPMVATV, drop_train_nan=False, seperate_chains=False, seed=1\n",
      "0.7416666666666667\n",
      "Evaluating NLVPMVATV, drop_train_nan=True, seperate_chains=False, seed=2\n",
      "0.40740740740740744\n",
      "Evaluating NLVPMVATV, drop_train_nan=False, seperate_chains=False, seed=2\n",
      "0.75\n",
      "Evaluating NLVPMVATV, drop_train_nan=True, seperate_chains=False, seed=3\n",
      "0.538235294117647\n",
      "Evaluating NLVPMVATV, drop_train_nan=False, seperate_chains=False, seed=3\n",
      "0.5058823529411764\n",
      "Evaluating NLVPMVATV, drop_train_nan=True, seperate_chains=False, seed=4\n",
      "0.4871794871794871\n",
      "Evaluating NLVPMVATV, drop_train_nan=False, seperate_chains=False, seed=4\n",
      "0.5512820512820513\n",
      "### Epitope: TPRVTGGGAM ###\n"
     ]
    },
    {
     "name": "stderr",
     "output_type": "stream",
     "text": [
      "C:\\Users\\arnod\\PycharmProjects\\thesis\\util\\epitopes.py:6: DtypeWarning: Columns (20,29,30) have mixed types. Specify dtype option on import or set low_memory=False.\n",
      "  df_vdjdb = pd.read_csv('data/vdjdb-2022-03-30/vdjdb_full.txt', sep='\\t')\n"
     ]
    },
    {
     "name": "stdout",
     "output_type": "stream",
     "text": [
      "Number of negative samples changed from 54494 to 54396 (because of overlap with positive samples)\n",
      "Positive samples: alpha only: 4, beta only: 302, both: 63, none: 0\n",
      "Negative samples (will be sampled to select same amount as positive): alpha only: 7168, beta only: 20337, both: 26891, none: 0\n",
      "Evaluating TPRVTGGGAM, drop_train_nan=True, seperate_chains=False, seed=0\n",
      "0.5256410256410257\n",
      "Evaluating TPRVTGGGAM, drop_train_nan=False, seperate_chains=False, seed=0\n",
      "0.9658119658119658\n",
      "Evaluating TPRVTGGGAM, drop_train_nan=True, seperate_chains=False, seed=1\n",
      "0.24848484848484848\n",
      "Evaluating TPRVTGGGAM, drop_train_nan=False, seperate_chains=False, seed=1\n",
      "0.9515151515151515\n",
      "Evaluating TPRVTGGGAM, drop_train_nan=True, seperate_chains=False, seed=2\n",
      "0.559375\n",
      "Evaluating TPRVTGGGAM, drop_train_nan=False, seperate_chains=False, seed=2\n",
      "0.875\n",
      "Evaluating TPRVTGGGAM, drop_train_nan=True, seperate_chains=False, seed=3\n",
      "0.712121212121212\n",
      "Evaluating TPRVTGGGAM, drop_train_nan=False, seperate_chains=False, seed=3\n",
      "1.0\n",
      "Evaluating TPRVTGGGAM, drop_train_nan=True, seperate_chains=False, seed=4\n",
      "0.955621301775148\n",
      "Evaluating TPRVTGGGAM, drop_train_nan=False, seperate_chains=False, seed=4\n",
      "1.0\n",
      "### Epitope: RLQSLQTYV ###\n"
     ]
    },
    {
     "name": "stderr",
     "output_type": "stream",
     "text": [
      "C:\\Users\\arnod\\PycharmProjects\\thesis\\util\\epitopes.py:6: DtypeWarning: Columns (20,29,30) have mixed types. Specify dtype option on import or set low_memory=False.\n",
      "  df_vdjdb = pd.read_csv('data/vdjdb-2022-03-30/vdjdb_full.txt', sep='\\t')\n"
     ]
    },
    {
     "name": "stdout",
     "output_type": "stream",
     "text": [
      "Number of negative samples changed from 54713 to 54682 (because of overlap with positive samples)\n",
      "Positive samples: alpha only: 54, beta only: 93, both: 3, none: 0\n",
      "Negative samples (will be sampled to select same amount as positive): alpha only: 7111, beta only: 20574, both: 26997, none: 0\n",
      "Evaluating RLQSLQTYV, drop_train_nan=True, seperate_chains=False, seed=0\n",
      "Both chains failed:\n",
      "Found array with 0 sample(s) (shape=(0, 380)) while a minimum of 1 is required by RandomForestClassifier.\n",
      "Found array with 0 sample(s) (shape=(0, 414)) while a minimum of 1 is required by RandomForestClassifier.\n",
      "Epitope RLQSLQTYV throwed an error: Found array with 0 sample(s) (shape=(0, 380)) while a minimum of 1 is required by RandomForestClassifier.\n",
      "### Epitope: ELAGIGILTV ###\n"
     ]
    },
    {
     "name": "stderr",
     "output_type": "stream",
     "text": [
      "C:\\Users\\arnod\\PycharmProjects\\thesis\\util\\epitopes.py:6: DtypeWarning: Columns (20,29,30) have mixed types. Specify dtype option on import or set low_memory=False.\n",
      "  df_vdjdb = pd.read_csv('data/vdjdb-2022-03-30/vdjdb_full.txt', sep='\\t')\n"
     ]
    },
    {
     "name": "stdout",
     "output_type": "stream",
     "text": [
      "Number of negative samples changed from 52579 to 51537 (because of overlap with positive samples)\n",
      "Positive samples: alpha only: 2, beta only: 1879, both: 403, none: 0\n",
      "Negative samples (will be sampled to select same amount as positive): alpha only: 7083, beta only: 18668, both: 25786, none: 0\n",
      "Evaluating ELAGIGILTV, drop_train_nan=True, seperate_chains=False, seed=0\n",
      "0.5834502103786815\n",
      "Evaluating ELAGIGILTV, drop_train_nan=False, seperate_chains=False, seed=0\n",
      "0.847124824684432\n",
      "Evaluating ELAGIGILTV, drop_train_nan=True, seperate_chains=False, seed=1\n",
      "0.5414438502673797\n",
      "Evaluating ELAGIGILTV, drop_train_nan=False, seperate_chains=False, seed=1\n",
      "0.9271390374331551\n",
      "Evaluating ELAGIGILTV, drop_train_nan=True, seperate_chains=False, seed=2\n",
      "0.6666666666666666\n",
      "Evaluating ELAGIGILTV, drop_train_nan=False, seperate_chains=False, seed=2\n",
      "0.9040229885057471\n",
      "Evaluating ELAGIGILTV, drop_train_nan=True, seperate_chains=False, seed=3\n",
      "0.5875\n",
      "Evaluating ELAGIGILTV, drop_train_nan=False, seperate_chains=False, seed=3\n",
      "0.9038461538461539\n",
      "Evaluating ELAGIGILTV, drop_train_nan=True, seperate_chains=False, seed=4\n",
      "0.5084889643463497\n",
      "Evaluating ELAGIGILTV, drop_train_nan=False, seperate_chains=False, seed=4\n",
      "0.9431239388794568\n",
      "### Epitope: YVLDHLIVV ###\n"
     ]
    },
    {
     "name": "stderr",
     "output_type": "stream",
     "text": [
      "C:\\Users\\arnod\\PycharmProjects\\thesis\\util\\epitopes.py:6: DtypeWarning: Columns (20,29,30) have mixed types. Specify dtype option on import or set low_memory=False.\n",
      "  df_vdjdb = pd.read_csv('data/vdjdb-2022-03-30/vdjdb_full.txt', sep='\\t')\n"
     ]
    },
    {
     "name": "stdout",
     "output_type": "stream",
     "text": [
      "Number of negative samples changed from 54755 to 54524 (because of overlap with positive samples)\n",
      "Positive samples: alpha only: 0, beta only: 97, both: 11, none: 0\n",
      "Negative samples (will be sampled to select same amount as positive): alpha only: 7168, beta only: 20498, both: 26858, none: 0\n",
      "Evaluating YVLDHLIVV, drop_train_nan=True, seperate_chains=False, seed=0\n",
      "Both chains failed:\n",
      "Found array with 0 sample(s) (shape=(0, 252)) while a minimum of 1 is required by RandomForestClassifier.\n",
      "Found array with 0 sample(s) (shape=(0, 413)) while a minimum of 1 is required by RandomForestClassifier.\n",
      "Epitope YVLDHLIVV throwed an error: Found array with 0 sample(s) (shape=(0, 252)) while a minimum of 1 is required by RandomForestClassifier.\n",
      "### Epitope: KRWIILGLNK ###\n"
     ]
    },
    {
     "name": "stderr",
     "output_type": "stream",
     "text": [
      "C:\\Users\\arnod\\PycharmProjects\\thesis\\util\\epitopes.py:6: DtypeWarning: Columns (20,29,30) have mixed types. Specify dtype option on import or set low_memory=False.\n",
      "  df_vdjdb = pd.read_csv('data/vdjdb-2022-03-30/vdjdb_full.txt', sep='\\t')\n"
     ]
    },
    {
     "name": "stdout",
     "output_type": "stream",
     "text": [
      "Number of negative samples changed from 54263 to 54199 (because of overlap with positive samples)\n",
      "Positive samples: alpha only: 5, beta only: 594, both: 1, none: 0\n",
      "Negative samples (will be sampled to select same amount as positive): alpha only: 7165, beta only: 20031, both: 27003, none: 0\n",
      "Evaluating KRWIILGLNK, drop_train_nan=True, seperate_chains=False, seed=0\n",
      "Epitope KRWIILGLNK throwed an error: Column alpha_J=TRAJ11*01 not in test set\n",
      "### Epitope: YSEHPTFTSQY ###\n"
     ]
    },
    {
     "name": "stderr",
     "output_type": "stream",
     "text": [
      "C:\\Users\\arnod\\PycharmProjects\\thesis\\util\\epitopes.py:6: DtypeWarning: Columns (20,29,30) have mixed types. Specify dtype option on import or set low_memory=False.\n",
      "  df_vdjdb = pd.read_csv('data/vdjdb-2022-03-30/vdjdb_full.txt', sep='\\t')\n"
     ]
    },
    {
     "name": "stdout",
     "output_type": "stream",
     "text": [
      "Number of negative samples changed from 54730 to 54714 (because of overlap with positive samples)\n",
      "Positive samples: alpha only: 0, beta only: 111, both: 22, none: 0\n",
      "Negative samples (will be sampled to select same amount as positive): alpha only: 7166, beta only: 20559, both: 26989, none: 0\n",
      "Evaluating YSEHPTFTSQY, drop_train_nan=True, seperate_chains=False, seed=0\n",
      "Both chains failed:\n",
      "Found array with 0 sample(s) (shape=(0, 318)) while a minimum of 1 is required by RandomForestClassifier.\n",
      "Found array with 0 sample(s) (shape=(0, 409)) while a minimum of 1 is required by RandomForestClassifier.\n",
      "Epitope YSEHPTFTSQY throwed an error: Found array with 0 sample(s) (shape=(0, 318)) while a minimum of 1 is required by RandomForestClassifier.\n",
      "### Epitope: IPSINVHHY ###\n"
     ]
    },
    {
     "name": "stderr",
     "output_type": "stream",
     "text": [
      "C:\\Users\\arnod\\PycharmProjects\\thesis\\util\\epitopes.py:6: DtypeWarning: Columns (20,29,30) have mixed types. Specify dtype option on import or set low_memory=False.\n",
      "  df_vdjdb = pd.read_csv('data/vdjdb-2022-03-30/vdjdb_full.txt', sep='\\t')\n"
     ]
    },
    {
     "name": "stdout",
     "output_type": "stream",
     "text": [
      "Number of negative samples changed from 54749 to 54718 (because of overlap with positive samples)\n",
      "Positive samples: alpha only: 11, beta only: 93, both: 10, none: 0\n",
      "Negative samples (will be sampled to select same amount as positive): alpha only: 7165, beta only: 20577, both: 26976, none: 0\n",
      "Evaluating IPSINVHHY, drop_train_nan=True, seperate_chains=False, seed=0\n",
      "Both chains failed:\n",
      "Found array with 0 sample(s) (shape=(0, 297)) while a minimum of 1 is required by RandomForestClassifier.\n",
      "Found array with 0 sample(s) (shape=(0, 429)) while a minimum of 1 is required by RandomForestClassifier.\n",
      "Epitope IPSINVHHY throwed an error: Found array with 0 sample(s) (shape=(0, 297)) while a minimum of 1 is required by RandomForestClassifier.\n",
      "### Epitope: PKYVKQNTLKLAT ###\n"
     ]
    },
    {
     "name": "stderr",
     "output_type": "stream",
     "text": [
      "C:\\Users\\arnod\\PycharmProjects\\thesis\\util\\epitopes.py:6: DtypeWarning: Columns (20,29,30) have mixed types. Specify dtype option on import or set low_memory=False.\n",
      "  df_vdjdb = pd.read_csv('data/vdjdb-2022-03-30/vdjdb_full.txt', sep='\\t')\n"
     ]
    },
    {
     "name": "stdout",
     "output_type": "stream",
     "text": [
      "Number of negative samples changed from 54349 to 54195 (because of overlap with positive samples)\n",
      "Positive samples: alpha only: 95, beta only: 349, both: 70, none: 0\n",
      "Negative samples (will be sampled to select same amount as positive): alpha only: 7039, beta only: 20304, both: 26852, none: 0\n",
      "Evaluating PKYVKQNTLKLAT, drop_train_nan=True, seperate_chains=False, seed=0\n",
      "Both chains failed:\n",
      "index 1 is out of bounds for axis 1 with size 1\n",
      "index 1 is out of bounds for axis 1 with size 1\n",
      "Epitope PKYVKQNTLKLAT throwed an error: index 1 is out of bounds for axis 1 with size 1\n",
      "### Epitope: GILGFVFTL ###\n"
     ]
    },
    {
     "name": "stderr",
     "output_type": "stream",
     "text": [
      "C:\\Users\\arnod\\PycharmProjects\\thesis\\util\\epitopes.py:6: DtypeWarning: Columns (20,29,30) have mixed types. Specify dtype option on import or set low_memory=False.\n",
      "  df_vdjdb = pd.read_csv('data/vdjdb-2022-03-30/vdjdb_full.txt', sep='\\t')\n"
     ]
    },
    {
     "name": "stdout",
     "output_type": "stream",
     "text": [
      "Number of negative samples changed from 47033 to 44205 (because of overlap with positive samples)\n",
      "Positive samples: alpha only: 2580, beta only: 3056, both: 2194, none: 0\n",
      "Negative samples (will be sampled to select same amount as positive): alpha only: 4499, beta only: 17510, both: 22196, none: 0\n",
      "Evaluating GILGFVFTL, drop_train_nan=True, seperate_chains=False, seed=0\n",
      "Both chains failed:\n",
      "index 1 is out of bounds for axis 1 with size 1\n",
      "index 1 is out of bounds for axis 1 with size 1\n",
      "Epitope GILGFVFTL throwed an error: index 1 is out of bounds for axis 1 with size 1\n",
      "### Epitope: KAFSPEVIPMF ###\n"
     ]
    },
    {
     "name": "stderr",
     "output_type": "stream",
     "text": [
      "C:\\Users\\arnod\\PycharmProjects\\thesis\\util\\epitopes.py:6: DtypeWarning: Columns (20,29,30) have mixed types. Specify dtype option on import or set low_memory=False.\n",
      "  df_vdjdb = pd.read_csv('data/vdjdb-2022-03-30/vdjdb_full.txt', sep='\\t')\n"
     ]
    },
    {
     "name": "stdout",
     "output_type": "stream",
     "text": [
      "Number of negative samples changed from 54515 to 54490 (because of overlap with positive samples)\n",
      "Positive samples: alpha only: 32, beta only: 315, both: 1, none: 0\n",
      "Negative samples (will be sampled to select same amount as positive): alpha only: 7144, beta only: 20344, both: 27002, none: 0\n",
      "Evaluating KAFSPEVIPMF, drop_train_nan=True, seperate_chains=False, seed=0\n",
      "Epitope KAFSPEVIPMF throwed an error: Column alpha_J=TRAJ10*01 not in test set\n",
      "### Epitope: GLCTLVAML ###\n"
     ]
    },
    {
     "name": "stderr",
     "output_type": "stream",
     "text": [
      "C:\\Users\\arnod\\PycharmProjects\\thesis\\util\\epitopes.py:6: DtypeWarning: Columns (20,29,30) have mixed types. Specify dtype option on import or set low_memory=False.\n",
      "  df_vdjdb = pd.read_csv('data/vdjdb-2022-03-30/vdjdb_full.txt', sep='\\t')\n"
     ]
    },
    {
     "name": "stdout",
     "output_type": "stream",
     "text": [
      "Number of negative samples changed from 53400 to 51774 (because of overlap with positive samples)\n",
      "Positive samples: alpha only: 42, beta only: 1040, both: 381, none: 0\n",
      "Negative samples (will be sampled to select same amount as positive): alpha only: 7109, beta only: 19444, both: 25221, none: 0\n",
      "Evaluating GLCTLVAML, drop_train_nan=True, seperate_chains=False, seed=0\n",
      "Both chains failed:\n",
      "index 1 is out of bounds for axis 1 with size 1\n",
      "index 1 is out of bounds for axis 1 with size 1\n",
      "Epitope GLCTLVAML throwed an error: index 1 is out of bounds for axis 1 with size 1\n",
      "### Epitope: SSLENFRAYV ###\n"
     ]
    },
    {
     "name": "stderr",
     "output_type": "stream",
     "text": [
      "C:\\Users\\arnod\\PycharmProjects\\thesis\\util\\epitopes.py:6: DtypeWarning: Columns (20,29,30) have mixed types. Specify dtype option on import or set low_memory=False.\n",
      "  df_vdjdb = pd.read_csv('data/vdjdb-2022-03-30/vdjdb_full.txt', sep='\\t')\n"
     ]
    },
    {
     "name": "stdout",
     "output_type": "stream",
     "text": [
      "Positive samples: alpha only: 0, beta only: 0, both: 0, none: 0\n",
      "Negative samples (will be sampled to select same amount as positive): alpha only: 7176, beta only: 20671, both: 27016, none: 0\n",
      "Epitope SSLENFRAYV throwed an error: not enough values to unpack (expected 2, got 0)\n",
      "### Epitope: ASNENMETM ###\n"
     ]
    },
    {
     "name": "stderr",
     "output_type": "stream",
     "text": [
      "C:\\Users\\arnod\\PycharmProjects\\thesis\\util\\epitopes.py:6: DtypeWarning: Columns (20,29,30) have mixed types. Specify dtype option on import or set low_memory=False.\n",
      "  df_vdjdb = pd.read_csv('data/vdjdb-2022-03-30/vdjdb_full.txt', sep='\\t')\n"
     ]
    },
    {
     "name": "stdout",
     "output_type": "stream",
     "text": [
      "Positive samples: alpha only: 0, beta only: 0, both: 0, none: 0\n",
      "Negative samples (will be sampled to select same amount as positive): alpha only: 7176, beta only: 20671, both: 27016, none: 0\n",
      "Epitope ASNENMETM throwed an error: not enough values to unpack (expected 2, got 0)\n",
      "### Epitope: GTSGSPIVNR ###\n"
     ]
    },
    {
     "name": "stderr",
     "output_type": "stream",
     "text": [
      "C:\\Users\\arnod\\PycharmProjects\\thesis\\util\\epitopes.py:6: DtypeWarning: Columns (20,29,30) have mixed types. Specify dtype option on import or set low_memory=False.\n",
      "  df_vdjdb = pd.read_csv('data/vdjdb-2022-03-30/vdjdb_full.txt', sep='\\t')\n"
     ]
    },
    {
     "name": "stdout",
     "output_type": "stream",
     "text": [
      "Number of negative samples changed from 54685 to 54566 (because of overlap with positive samples)\n",
      "Positive samples: alpha only: 0, beta only: 174, both: 4, none: 0\n",
      "Negative samples (will be sampled to select same amount as positive): alpha only: 7176, beta only: 20396, both: 26994, none: 0\n",
      "Evaluating GTSGSPIVNR, drop_train_nan=True, seperate_chains=False, seed=0\n",
      "Both chains failed:\n",
      "Found array with 0 sample(s) (shape=(0, 169)) while a minimum of 1 is required by RandomForestClassifier.\n",
      "Found array with 0 sample(s) (shape=(0, 412)) while a minimum of 1 is required by RandomForestClassifier.\n",
      "Epitope GTSGSPIVNR throwed an error: Found array with 0 sample(s) (shape=(0, 169)) while a minimum of 1 is required by RandomForestClassifier.\n",
      "### Epitope: GTSGSPIINR ###\n"
     ]
    },
    {
     "name": "stderr",
     "output_type": "stream",
     "text": [
      "C:\\Users\\arnod\\PycharmProjects\\thesis\\util\\epitopes.py:6: DtypeWarning: Columns (20,29,30) have mixed types. Specify dtype option on import or set low_memory=False.\n",
      "  df_vdjdb = pd.read_csv('data/vdjdb-2022-03-30/vdjdb_full.txt', sep='\\t')\n"
     ]
    },
    {
     "name": "stdout",
     "output_type": "stream",
     "text": [
      "Number of negative samples changed from 54688 to 54556 (because of overlap with positive samples)\n",
      "Positive samples: alpha only: 0, beta only: 171, both: 4, none: 0\n",
      "Negative samples (will be sampled to select same amount as positive): alpha only: 7176, beta only: 20382, both: 26998, none: 0\n",
      "Evaluating GTSGSPIINR, drop_train_nan=True, seperate_chains=False, seed=0\n",
      "Both chains failed:\n",
      "Found array with 0 sample(s) (shape=(0, 154)) while a minimum of 1 is required by RandomForestClassifier.\n",
      "Found array with 0 sample(s) (shape=(0, 425)) while a minimum of 1 is required by RandomForestClassifier.\n",
      "Epitope GTSGSPIINR throwed an error: Found array with 0 sample(s) (shape=(0, 154)) while a minimum of 1 is required by RandomForestClassifier.\n",
      "### Epitope: SQLLNAKYL ###\n"
     ]
    },
    {
     "name": "stderr",
     "output_type": "stream",
     "text": [
      "C:\\Users\\arnod\\PycharmProjects\\thesis\\util\\epitopes.py:6: DtypeWarning: Columns (20,29,30) have mixed types. Specify dtype option on import or set low_memory=False.\n",
      "  df_vdjdb = pd.read_csv('data/vdjdb-2022-03-30/vdjdb_full.txt', sep='\\t')\n"
     ]
    },
    {
     "name": "stdout",
     "output_type": "stream",
     "text": [
      "Positive samples: alpha only: 0, beta only: 0, both: 0, none: 0\n",
      "Negative samples (will be sampled to select same amount as positive): alpha only: 7176, beta only: 20671, both: 27016, none: 0\n",
      "Epitope SQLLNAKYL throwed an error: not enough values to unpack (expected 2, got 0)\n",
      "### Epitope: YLQPRTFLL ###\n"
     ]
    },
    {
     "name": "stderr",
     "output_type": "stream",
     "text": [
      "C:\\Users\\arnod\\PycharmProjects\\thesis\\util\\epitopes.py:6: DtypeWarning: Columns (20,29,30) have mixed types. Specify dtype option on import or set low_memory=False.\n",
      "  df_vdjdb = pd.read_csv('data/vdjdb-2022-03-30/vdjdb_full.txt', sep='\\t')\n"
     ]
    },
    {
     "name": "stdout",
     "output_type": "stream",
     "text": [
      "Number of negative samples changed from 53537 to 53182 (because of overlap with positive samples)\n",
      "Positive samples: alpha only: 418, beta only: 551, both: 357, none: 0\n",
      "Negative samples (will be sampled to select same amount as positive): alpha only: 6727, beta only: 20102, both: 26353, none: 0\n",
      "Evaluating YLQPRTFLL, drop_train_nan=True, seperate_chains=False, seed=0\n",
      "Both chains failed:\n",
      "index 1 is out of bounds for axis 1 with size 1\n",
      "index 1 is out of bounds for axis 1 with size 1\n",
      "Epitope YLQPRTFLL throwed an error: index 1 is out of bounds for axis 1 with size 1\n",
      "### Epitope: TPQDLNTML ###\n"
     ]
    },
    {
     "name": "stderr",
     "output_type": "stream",
     "text": [
      "C:\\Users\\arnod\\PycharmProjects\\thesis\\util\\epitopes.py:6: DtypeWarning: Columns (20,29,30) have mixed types. Specify dtype option on import or set low_memory=False.\n",
      "  df_vdjdb = pd.read_csv('data/vdjdb-2022-03-30/vdjdb_full.txt', sep='\\t')\n"
     ]
    },
    {
     "name": "stdout",
     "output_type": "stream",
     "text": [
      "Number of negative samples changed from 54737 to 54731 (because of overlap with positive samples)\n",
      "Positive samples: alpha only: 0, beta only: 124, both: 2, none: 0\n",
      "Negative samples (will be sampled to select same amount as positive): alpha only: 7176, beta only: 20545, both: 27010, none: 0\n",
      "Evaluating TPQDLNTML, drop_train_nan=True, seperate_chains=False, seed=0\n",
      "Both chains failed:\n",
      "Found array with 0 sample(s) (shape=(0, 140)) while a minimum of 1 is required by RandomForestClassifier.\n",
      "Found array with 0 sample(s) (shape=(0, 409)) while a minimum of 1 is required by RandomForestClassifier.\n",
      "Epitope TPQDLNTML throwed an error: Found array with 0 sample(s) (shape=(0, 140)) while a minimum of 1 is required by RandomForestClassifier.\n",
      "### Epitope: LLWNGPMAV ###\n"
     ]
    },
    {
     "name": "stderr",
     "output_type": "stream",
     "text": [
      "C:\\Users\\arnod\\PycharmProjects\\thesis\\util\\epitopes.py:6: DtypeWarning: Columns (20,29,30) have mixed types. Specify dtype option on import or set low_memory=False.\n",
      "  df_vdjdb = pd.read_csv('data/vdjdb-2022-03-30/vdjdb_full.txt', sep='\\t')\n"
     ]
    },
    {
     "name": "stdout",
     "output_type": "stream",
     "text": [
      "Number of negative samples changed from 54321 to 54039 (because of overlap with positive samples)\n",
      "Positive samples: alpha only: 86, beta only: 209, both: 247, none: 0\n",
      "Negative samples (will be sampled to select same amount as positive): alpha only: 7051, beta only: 20439, both: 26549, none: 0\n",
      "Evaluating LLWNGPMAV, drop_train_nan=True, seperate_chains=False, seed=0\n",
      "Both chains failed:\n",
      "index 1 is out of bounds for axis 1 with size 1\n",
      "index 1 is out of bounds for axis 1 with size 1\n",
      "Epitope LLWNGPMAV throwed an error: index 1 is out of bounds for axis 1 with size 1\n",
      "### Epitope: LLLGIGILV ###\n"
     ]
    },
    {
     "name": "stderr",
     "output_type": "stream",
     "text": [
      "C:\\Users\\arnod\\PycharmProjects\\thesis\\util\\epitopes.py:6: DtypeWarning: Columns (20,29,30) have mixed types. Specify dtype option on import or set low_memory=False.\n",
      "  df_vdjdb = pd.read_csv('data/vdjdb-2022-03-30/vdjdb_full.txt', sep='\\t')\n"
     ]
    },
    {
     "name": "stdout",
     "output_type": "stream",
     "text": [
      "Number of negative samples changed from 54212 to 53736 (because of overlap with positive samples)\n",
      "Positive samples: alpha only: 417, beta only: 234, both: 0, none: 0\n",
      "Negative samples (will be sampled to select same amount as positive): alpha only: 6717, beta only: 20436, both: 26583, none: 0\n",
      "Evaluating LLLGIGILV, drop_train_nan=True, seperate_chains=False, seed=0\n",
      "Epitope LLLGIGILV throwed an error: Column alpha_J=TRAJ10*01 not in test set\n",
      "### Epitope: NEGVKAAW ###\n"
     ]
    },
    {
     "name": "stderr",
     "output_type": "stream",
     "text": [
      "C:\\Users\\arnod\\PycharmProjects\\thesis\\util\\epitopes.py:6: DtypeWarning: Columns (20,29,30) have mixed types. Specify dtype option on import or set low_memory=False.\n",
      "  df_vdjdb = pd.read_csv('data/vdjdb-2022-03-30/vdjdb_full.txt', sep='\\t')\n"
     ]
    },
    {
     "name": "stdout",
     "output_type": "stream",
     "text": [
      "Number of negative samples changed from 54251 to 54200 (because of overlap with positive samples)\n",
      "Positive samples: alpha only: 312, beta only: 300, both: 0, none: 0\n",
      "Negative samples (will be sampled to select same amount as positive): alpha only: 6851, beta only: 20366, both: 26983, none: 0\n",
      "Evaluating NEGVKAAW, drop_train_nan=True, seperate_chains=False, seed=0\n",
      "Epitope NEGVKAAW throwed an error: Column alpha_J=TRAJ10*01 not in test set\n",
      "### Epitope: EIYKRWII ###\n"
     ]
    },
    {
     "name": "stderr",
     "output_type": "stream",
     "text": [
      "C:\\Users\\arnod\\PycharmProjects\\thesis\\util\\epitopes.py:6: DtypeWarning: Columns (20,29,30) have mixed types. Specify dtype option on import or set low_memory=False.\n",
      "  df_vdjdb = pd.read_csv('data/vdjdb-2022-03-30/vdjdb_full.txt', sep='\\t')\n"
     ]
    },
    {
     "name": "stdout",
     "output_type": "stream",
     "text": [
      "Number of negative samples changed from 54682 to 54676 (because of overlap with positive samples)\n",
      "Positive samples: alpha only: 0, beta only: 181, both: 0, none: 0\n",
      "Negative samples (will be sampled to select same amount as positive): alpha only: 7176, beta only: 20486, both: 27014, none: 0\n",
      "Evaluating EIYKRWII, drop_train_nan=True, seperate_chains=False, seed=0\n",
      "Epitope EIYKRWII throwed an error: Column alpha_CDR3_length not in test set\n",
      "### Epitope: CINGVCWTV ###\n"
     ]
    },
    {
     "name": "stderr",
     "output_type": "stream",
     "text": [
      "C:\\Users\\arnod\\PycharmProjects\\thesis\\util\\epitopes.py:6: DtypeWarning: Columns (20,29,30) have mixed types. Specify dtype option on import or set low_memory=False.\n",
      "  df_vdjdb = pd.read_csv('data/vdjdb-2022-03-30/vdjdb_full.txt', sep='\\t')\n"
     ]
    },
    {
     "name": "stdout",
     "output_type": "stream",
     "text": [
      "Number of negative samples changed from 54429 to 54301 (because of overlap with positive samples)\n",
      "Positive samples: alpha only: 8, beta only: 181, both: 245, none: 0\n",
      "Negative samples (will be sampled to select same amount as positive): alpha only: 7146, beta only: 20484, both: 26671, none: 0\n",
      "Evaluating CINGVCWTV, drop_train_nan=True, seperate_chains=False, seed=0\n",
      "Both chains failed:\n",
      "index 1 is out of bounds for axis 1 with size 1\n",
      "index 1 is out of bounds for axis 1 with size 1\n",
      "Epitope CINGVCWTV throwed an error: index 1 is out of bounds for axis 1 with size 1\n",
      "### Epitope: RAKFKQLL ###\n"
     ]
    },
    {
     "name": "stderr",
     "output_type": "stream",
     "text": [
      "C:\\Users\\arnod\\PycharmProjects\\thesis\\util\\epitopes.py:6: DtypeWarning: Columns (20,29,30) have mixed types. Specify dtype option on import or set low_memory=False.\n",
      "  df_vdjdb = pd.read_csv('data/vdjdb-2022-03-30/vdjdb_full.txt', sep='\\t')\n"
     ]
    },
    {
     "name": "stdout",
     "output_type": "stream",
     "text": [
      "Number of negative samples changed from 53365 to 50800 (because of overlap with positive samples)\n",
      "Positive samples: alpha only: 0, beta only: 263, both: 1235, none: 0\n",
      "Negative samples (will be sampled to select same amount as positive): alpha only: 7076, beta only: 20288, both: 23436, none: 0\n",
      "Evaluating RAKFKQLL, drop_train_nan=True, seperate_chains=False, seed=0\n",
      "Both chains failed:\n",
      "index 1 is out of bounds for axis 1 with size 1\n",
      "index 1 is out of bounds for axis 1 with size 1\n",
      "Epitope RAKFKQLL throwed an error: index 1 is out of bounds for axis 1 with size 1\n",
      "### Epitope: AVFDRKSDAK ###\n"
     ]
    },
    {
     "name": "stderr",
     "output_type": "stream",
     "text": [
      "C:\\Users\\arnod\\PycharmProjects\\thesis\\util\\epitopes.py:6: DtypeWarning: Columns (20,29,30) have mixed types. Specify dtype option on import or set low_memory=False.\n",
      "  df_vdjdb = pd.read_csv('data/vdjdb-2022-03-30/vdjdb_full.txt', sep='\\t')\n"
     ]
    },
    {
     "name": "stdout",
     "output_type": "stream",
     "text": [
      "Number of negative samples changed from 53081 to 48044 (because of overlap with positive samples)\n",
      "Positive samples: alpha only: 0, beta only: 18, both: 1764, none: 0\n",
      "Negative samples (will be sampled to select same amount as positive): alpha only: 7053, beta only: 20523, both: 20468, none: 0\n",
      "Evaluating AVFDRKSDAK, drop_train_nan=True, seperate_chains=False, seed=0\n",
      "Both chains failed:\n",
      "index 1 is out of bounds for axis 1 with size 1\n",
      "index 1 is out of bounds for axis 1 with size 1\n",
      "Epitope AVFDRKSDAK throwed an error: index 1 is out of bounds for axis 1 with size 1\n",
      "### Epitope: IVTDFSVIK ###\n"
     ]
    },
    {
     "name": "stderr",
     "output_type": "stream",
     "text": [
      "C:\\Users\\arnod\\PycharmProjects\\thesis\\util\\epitopes.py:6: DtypeWarning: Columns (20,29,30) have mixed types. Specify dtype option on import or set low_memory=False.\n",
      "  df_vdjdb = pd.read_csv('data/vdjdb-2022-03-30/vdjdb_full.txt', sep='\\t')\n"
     ]
    },
    {
     "name": "stdout",
     "output_type": "stream",
     "text": [
      "Number of negative samples changed from 54106 to 50393 (because of overlap with positive samples)\n",
      "Positive samples: alpha only: 0, beta only: 28, both: 729, none: 0\n",
      "Negative samples (will be sampled to select same amount as positive): alpha only: 7100, beta only: 20558, both: 22735, none: 0\n",
      "Evaluating IVTDFSVIK, drop_train_nan=True, seperate_chains=False, seed=0\n",
      "Both chains failed:\n",
      "index 1 is out of bounds for axis 1 with size 1\n",
      "index 1 is out of bounds for axis 1 with size 1\n",
      "Epitope IVTDFSVIK throwed an error: index 1 is out of bounds for axis 1 with size 1\n",
      "### Epitope: VTEHDTLLY ###\n"
     ]
    },
    {
     "name": "stderr",
     "output_type": "stream",
     "text": [
      "C:\\Users\\arnod\\PycharmProjects\\thesis\\util\\epitopes.py:6: DtypeWarning: Columns (20,29,30) have mixed types. Specify dtype option on import or set low_memory=False.\n",
      "  df_vdjdb = pd.read_csv('data/vdjdb-2022-03-30/vdjdb_full.txt', sep='\\t')\n"
     ]
    },
    {
     "name": "stdout",
     "output_type": "stream",
     "text": [
      "Number of negative samples changed from 54659 to 54594 (because of overlap with positive samples)\n",
      "Positive samples: alpha only: 0, beta only: 203, both: 1, none: 0\n",
      "Negative samples (will be sampled to select same amount as positive): alpha only: 7176, beta only: 20463, both: 26955, none: 0\n",
      "Evaluating VTEHDTLLY, drop_train_nan=True, seperate_chains=False, seed=0\n",
      "Epitope VTEHDTLLY throwed an error: Column alpha_J=TRAJ22*01 not in test set\n",
      "### Epitope: LPRRSGAAGA ###\n"
     ]
    },
    {
     "name": "stderr",
     "output_type": "stream",
     "text": [
      "C:\\Users\\arnod\\PycharmProjects\\thesis\\util\\epitopes.py:6: DtypeWarning: Columns (20,29,30) have mixed types. Specify dtype option on import or set low_memory=False.\n",
      "  df_vdjdb = pd.read_csv('data/vdjdb-2022-03-30/vdjdb_full.txt', sep='\\t')\n"
     ]
    },
    {
     "name": "stdout",
     "output_type": "stream",
     "text": [
      "Number of negative samples changed from 54703 to 54667 (because of overlap with positive samples)\n",
      "Positive samples: alpha only: 0, beta only: 160, both: 0, none: 0\n",
      "Negative samples (will be sampled to select same amount as positive): alpha only: 7176, beta only: 20487, both: 27004, none: 0\n",
      "Evaluating LPRRSGAAGA, drop_train_nan=True, seperate_chains=False, seed=0\n",
      "Epitope LPRRSGAAGA throwed an error: Column alpha_CDR3_length not in test set\n",
      "### Epitope: SSPPMFRV ###\n"
     ]
    },
    {
     "name": "stderr",
     "output_type": "stream",
     "text": [
      "C:\\Users\\arnod\\PycharmProjects\\thesis\\util\\epitopes.py:6: DtypeWarning: Columns (20,29,30) have mixed types. Specify dtype option on import or set low_memory=False.\n",
      "  df_vdjdb = pd.read_csv('data/vdjdb-2022-03-30/vdjdb_full.txt', sep='\\t')\n"
     ]
    },
    {
     "name": "stdout",
     "output_type": "stream",
     "text": [
      "Positive samples: alpha only: 0, beta only: 0, both: 0, none: 0\n",
      "Negative samples (will be sampled to select same amount as positive): alpha only: 7176, beta only: 20671, both: 27016, none: 0\n",
      "Epitope SSPPMFRV throwed an error: not enough values to unpack (expected 2, got 0)\n",
      "### Epitope: RALEYKNL ###\n"
     ]
    },
    {
     "name": "stderr",
     "output_type": "stream",
     "text": [
      "C:\\Users\\arnod\\PycharmProjects\\thesis\\util\\epitopes.py:6: DtypeWarning: Columns (20,29,30) have mixed types. Specify dtype option on import or set low_memory=False.\n",
      "  df_vdjdb = pd.read_csv('data/vdjdb-2022-03-30/vdjdb_full.txt', sep='\\t')\n"
     ]
    },
    {
     "name": "stdout",
     "output_type": "stream",
     "text": [
      "Positive samples: alpha only: 0, beta only: 0, both: 0, none: 0\n",
      "Negative samples (will be sampled to select same amount as positive): alpha only: 7176, beta only: 20671, both: 27016, none: 0\n",
      "Epitope RALEYKNL throwed an error: not enough values to unpack (expected 2, got 0)\n",
      "### Epitope: ARMILMTHF ###\n"
     ]
    },
    {
     "name": "stderr",
     "output_type": "stream",
     "text": [
      "C:\\Users\\arnod\\PycharmProjects\\thesis\\util\\epitopes.py:6: DtypeWarning: Columns (20,29,30) have mixed types. Specify dtype option on import or set low_memory=False.\n",
      "  df_vdjdb = pd.read_csv('data/vdjdb-2022-03-30/vdjdb_full.txt', sep='\\t')\n"
     ]
    },
    {
     "name": "stdout",
     "output_type": "stream",
     "text": [
      "Number of negative samples changed from 54725 to 54724 (because of overlap with positive samples)\n",
      "Positive samples: alpha only: 0, beta only: 138, both: 0, none: 0\n",
      "Negative samples (will be sampled to select same amount as positive): alpha only: 7176, beta only: 20532, both: 27016, none: 0\n",
      "Evaluating ARMILMTHF, drop_train_nan=True, seperate_chains=False, seed=0\n",
      "Epitope ARMILMTHF throwed an error: Column alpha_CDR3_length not in test set\n",
      "### Epitope: ATDALMTGY ###\n"
     ]
    },
    {
     "name": "stderr",
     "output_type": "stream",
     "text": [
      "C:\\Users\\arnod\\PycharmProjects\\thesis\\util\\epitopes.py:6: DtypeWarning: Columns (20,29,30) have mixed types. Specify dtype option on import or set low_memory=False.\n",
      "  df_vdjdb = pd.read_csv('data/vdjdb-2022-03-30/vdjdb_full.txt', sep='\\t')\n"
     ]
    },
    {
     "name": "stdout",
     "output_type": "stream",
     "text": [
      "Number of negative samples changed from 54656 to 54650 (because of overlap with positive samples)\n",
      "Positive samples: alpha only: 0, beta only: 207, both: 0, none: 0\n",
      "Negative samples (will be sampled to select same amount as positive): alpha only: 7176, beta only: 20464, both: 27010, none: 0\n",
      "Evaluating ATDALMTGY, drop_train_nan=True, seperate_chains=False, seed=0\n",
      "Epitope ATDALMTGY throwed an error: Column alpha_CDR3_length not in test set\n",
      "### Epitope: KSKRTPMGF ###\n"
     ]
    },
    {
     "name": "stderr",
     "output_type": "stream",
     "text": [
      "C:\\Users\\arnod\\PycharmProjects\\thesis\\util\\epitopes.py:6: DtypeWarning: Columns (20,29,30) have mixed types. Specify dtype option on import or set low_memory=False.\n",
      "  df_vdjdb = pd.read_csv('data/vdjdb-2022-03-30/vdjdb_full.txt', sep='\\t')\n"
     ]
    },
    {
     "name": "stdout",
     "output_type": "stream",
     "text": [
      "Number of negative samples changed from 54689 to 54650 (because of overlap with positive samples)\n",
      "Positive samples: alpha only: 4, beta only: 44, both: 126, none: 0\n",
      "Negative samples (will be sampled to select same amount as positive): alpha only: 7168, beta only: 20620, both: 26862, none: 0\n",
      "Evaluating KSKRTPMGF, drop_train_nan=True, seperate_chains=False, seed=0\n",
      "Both chains failed:\n",
      "Found array with 0 sample(s) (shape=(0, 484)) while a minimum of 1 is required by RandomForestClassifier.\n",
      "Found array with 0 sample(s) (shape=(0, 420)) while a minimum of 1 is required by RandomForestClassifier.\n",
      "Epitope KSKRTPMGF throwed an error: Found array with 0 sample(s) (shape=(0, 484)) while a minimum of 1 is required by RandomForestClassifier.\n",
      "### Epitope: ATDALMTGF ###\n"
     ]
    },
    {
     "name": "stderr",
     "output_type": "stream",
     "text": [
      "C:\\Users\\arnod\\PycharmProjects\\thesis\\util\\epitopes.py:6: DtypeWarning: Columns (20,29,30) have mixed types. Specify dtype option on import or set low_memory=False.\n",
      "  df_vdjdb = pd.read_csv('data/vdjdb-2022-03-30/vdjdb_full.txt', sep='\\t')\n"
     ]
    },
    {
     "name": "stdout",
     "output_type": "stream",
     "text": [
      "Number of negative samples changed from 54686 to 54649 (because of overlap with positive samples)\n",
      "Positive samples: alpha only: 13, beta only: 31, both: 133, none: 0\n",
      "Negative samples (will be sampled to select same amount as positive): alpha only: 7156, beta only: 20630, both: 26863, none: 0\n",
      "Evaluating ATDALMTGF, drop_train_nan=True, seperate_chains=False, seed=0\n",
      "Both chains failed:\n",
      "Found array with 0 sample(s) (shape=(0, 437)) while a minimum of 1 is required by RandomForestClassifier.\n",
      "Found array with 0 sample(s) (shape=(0, 418)) while a minimum of 1 is required by RandomForestClassifier.\n",
      "Epitope ATDALMTGF throwed an error: Found array with 0 sample(s) (shape=(0, 437)) while a minimum of 1 is required by RandomForestClassifier.\n",
      "### Epitope: FRDYVDRFYKTLRAEQASQE ###\n"
     ]
    },
    {
     "name": "stderr",
     "output_type": "stream",
     "text": [
      "C:\\Users\\arnod\\PycharmProjects\\thesis\\util\\epitopes.py:6: DtypeWarning: Columns (20,29,30) have mixed types. Specify dtype option on import or set low_memory=False.\n",
      "  df_vdjdb = pd.read_csv('data/vdjdb-2022-03-30/vdjdb_full.txt', sep='\\t')\n"
     ]
    },
    {
     "name": "stdout",
     "output_type": "stream",
     "text": [
      "Number of negative samples changed from 54083 to 54057 (because of overlap with positive samples)\n",
      "Positive samples: alpha only: 285, beta only: 495, both: 0, none: 0\n",
      "Negative samples (will be sampled to select same amount as positive): alpha only: 6886, beta only: 20172, both: 26999, none: 0\n",
      "Evaluating FRDYVDRFYKTLRAEQASQE, drop_train_nan=True, seperate_chains=False, seed=0\n",
      "Epitope FRDYVDRFYKTLRAEQASQE throwed an error: Column alpha_J=TRAJ10*01 not in test set\n",
      "### Epitope: KLGGALQAK ###\n"
     ]
    },
    {
     "name": "stderr",
     "output_type": "stream",
     "text": [
      "C:\\Users\\arnod\\PycharmProjects\\thesis\\util\\epitopes.py:6: DtypeWarning: Columns (20,29,30) have mixed types. Specify dtype option on import or set low_memory=False.\n",
      "  df_vdjdb = pd.read_csv('data/vdjdb-2022-03-30/vdjdb_full.txt', sep='\\t')\n"
     ]
    },
    {
     "name": "stdout",
     "output_type": "stream",
     "text": [
      "Number of negative samples changed from 40889 to 35633 (because of overlap with positive samples)\n",
      "Positive samples: alpha only: 0, beta only: 0, both: 13974, none: 0\n",
      "Negative samples (will be sampled to select same amount as positive): alpha only: 6557, beta only: 20386, both: 8690, none: 0\n",
      "Evaluating KLGGALQAK, drop_train_nan=True, seperate_chains=False, seed=0\n",
      "Both chains failed:\n",
      "Found array with 0 sample(s) (shape=(0, 530)) while a minimum of 1 is required by RandomForestClassifier.\n",
      "Found array with 0 sample(s) (shape=(0, 498)) while a minimum of 1 is required by RandomForestClassifier.\n",
      "Epitope KLGGALQAK throwed an error: Found array with 0 sample(s) (shape=(0, 530)) while a minimum of 1 is required by RandomForestClassifier.\n",
      "### Epitope: RLRAEAQVK ###\n"
     ]
    },
    {
     "name": "stderr",
     "output_type": "stream",
     "text": [
      "C:\\Users\\arnod\\PycharmProjects\\thesis\\util\\epitopes.py:6: DtypeWarning: Columns (20,29,30) have mixed types. Specify dtype option on import or set low_memory=False.\n",
      "  df_vdjdb = pd.read_csv('data/vdjdb-2022-03-30/vdjdb_full.txt', sep='\\t')\n"
     ]
    },
    {
     "name": "stdout",
     "output_type": "stream",
     "text": [
      "Number of negative samples changed from 54432 to 52058 (because of overlap with positive samples)\n",
      "Positive samples: alpha only: 0, beta only: 0, both: 431, none: 0\n",
      "Negative samples (will be sampled to select same amount as positive): alpha only: 7145, beta only: 20661, both: 24252, none: 0\n",
      "Evaluating RLRAEAQVK, drop_train_nan=True, seperate_chains=False, seed=0\n",
      "Both chains failed:\n",
      "Found array with 0 sample(s) (shape=(0, 523)) while a minimum of 1 is required by RandomForestClassifier.\n",
      "Found array with 0 sample(s) (shape=(0, 474)) while a minimum of 1 is required by RandomForestClassifier.\n",
      "Epitope RLRAEAQVK throwed an error: Found array with 0 sample(s) (shape=(0, 523)) while a minimum of 1 is required by RandomForestClassifier.\n",
      "### Epitope: HGIRNASFI ###\n"
     ]
    },
    {
     "name": "stderr",
     "output_type": "stream",
     "text": [
      "C:\\Users\\arnod\\PycharmProjects\\thesis\\util\\epitopes.py:6: DtypeWarning: Columns (20,29,30) have mixed types. Specify dtype option on import or set low_memory=False.\n",
      "  df_vdjdb = pd.read_csv('data/vdjdb-2022-03-30/vdjdb_full.txt', sep='\\t')\n"
     ]
    },
    {
     "name": "stdout",
     "output_type": "stream",
     "text": [
      "Positive samples: alpha only: 0, beta only: 0, both: 0, none: 0\n",
      "Negative samples (will be sampled to select same amount as positive): alpha only: 7176, beta only: 20671, both: 27016, none: 0\n",
      "Epitope HGIRNASFI throwed an error: not enough values to unpack (expected 2, got 0)\n",
      "### Epitope: LSLRNPILV ###\n"
     ]
    },
    {
     "name": "stderr",
     "output_type": "stream",
     "text": [
      "C:\\Users\\arnod\\PycharmProjects\\thesis\\util\\epitopes.py:6: DtypeWarning: Columns (20,29,30) have mixed types. Specify dtype option on import or set low_memory=False.\n",
      "  df_vdjdb = pd.read_csv('data/vdjdb-2022-03-30/vdjdb_full.txt', sep='\\t')\n"
     ]
    },
    {
     "name": "stdout",
     "output_type": "stream",
     "text": [
      "Positive samples: alpha only: 0, beta only: 0, both: 0, none: 0\n",
      "Negative samples (will be sampled to select same amount as positive): alpha only: 7176, beta only: 20671, both: 27016, none: 0\n",
      "Epitope LSLRNPILV throwed an error: not enough values to unpack (expected 2, got 0)\n",
      "### Epitope: SSYRRPVGI ###\n"
     ]
    },
    {
     "name": "stderr",
     "output_type": "stream",
     "text": [
      "C:\\Users\\arnod\\PycharmProjects\\thesis\\util\\epitopes.py:6: DtypeWarning: Columns (20,29,30) have mixed types. Specify dtype option on import or set low_memory=False.\n",
      "  df_vdjdb = pd.read_csv('data/vdjdb-2022-03-30/vdjdb_full.txt', sep='\\t')\n"
     ]
    },
    {
     "name": "stdout",
     "output_type": "stream",
     "text": [
      "Positive samples: alpha only: 0, beta only: 0, both: 0, none: 0\n",
      "Negative samples (will be sampled to select same amount as positive): alpha only: 7176, beta only: 20671, both: 27016, none: 0\n",
      "Epitope SSYRRPVGI throwed an error: not enough values to unpack (expected 2, got 0)\n",
      "### Epitope: DATYQRTRALVR ###\n"
     ]
    },
    {
     "name": "stderr",
     "output_type": "stream",
     "text": [
      "C:\\Users\\arnod\\PycharmProjects\\thesis\\util\\epitopes.py:6: DtypeWarning: Columns (20,29,30) have mixed types. Specify dtype option on import or set low_memory=False.\n",
      "  df_vdjdb = pd.read_csv('data/vdjdb-2022-03-30/vdjdb_full.txt', sep='\\t')\n"
     ]
    },
    {
     "name": "stdout",
     "output_type": "stream",
     "text": [
      "Number of negative samples changed from 54721 to 54654 (because of overlap with positive samples)\n",
      "Positive samples: alpha only: 13, beta only: 20, both: 109, none: 0\n",
      "Negative samples (will be sampled to select same amount as positive): alpha only: 7155, beta only: 20650, both: 26849, none: 0\n",
      "Evaluating DATYQRTRALVR, drop_train_nan=True, seperate_chains=False, seed=0\n",
      "Both chains failed:\n",
      "Found array with 0 sample(s) (shape=(0, 466)) while a minimum of 1 is required by RandomForestClassifier.\n",
      "Found array with 0 sample(s) (shape=(0, 446)) while a minimum of 1 is required by RandomForestClassifier.\n",
      "Epitope DATYQRTRALVR throwed an error: Found array with 0 sample(s) (shape=(0, 466)) while a minimum of 1 is required by RandomForestClassifier.\n",
      "### Epitope: LTDEMIAQY ###\n"
     ]
    },
    {
     "name": "stderr",
     "output_type": "stream",
     "text": [
      "C:\\Users\\arnod\\PycharmProjects\\thesis\\util\\epitopes.py:6: DtypeWarning: Columns (20,29,30) have mixed types. Specify dtype option on import or set low_memory=False.\n",
      "  df_vdjdb = pd.read_csv('data/vdjdb-2022-03-30/vdjdb_full.txt', sep='\\t')\n"
     ]
    },
    {
     "name": "stdout",
     "output_type": "stream",
     "text": [
      "Number of negative samples changed from 54728 to 54674 (because of overlap with positive samples)\n",
      "Positive samples: alpha only: 0, beta only: 0, both: 135, none: 0\n",
      "Negative samples (will be sampled to select same amount as positive): alpha only: 7164, beta only: 20670, both: 26840, none: 0\n",
      "Evaluating LTDEMIAQY, drop_train_nan=True, seperate_chains=False, seed=0\n",
      "Both chains failed:\n",
      "Found array with 0 sample(s) (shape=(0, 478)) while a minimum of 1 is required by RandomForestClassifier.\n",
      "Found array with 0 sample(s) (shape=(0, 441)) while a minimum of 1 is required by RandomForestClassifier.\n",
      "Epitope LTDEMIAQY throwed an error: Found array with 0 sample(s) (shape=(0, 478)) while a minimum of 1 is required by RandomForestClassifier.\n",
      "### Epitope: TTDPSFLGRY ###\n"
     ]
    },
    {
     "name": "stderr",
     "output_type": "stream",
     "text": [
      "C:\\Users\\arnod\\PycharmProjects\\thesis\\util\\epitopes.py:6: DtypeWarning: Columns (20,29,30) have mixed types. Specify dtype option on import or set low_memory=False.\n",
      "  df_vdjdb = pd.read_csv('data/vdjdb-2022-03-30/vdjdb_full.txt', sep='\\t')\n"
     ]
    },
    {
     "name": "stdout",
     "output_type": "stream",
     "text": [
      "Number of negative samples changed from 54609 to 54423 (because of overlap with positive samples)\n",
      "Positive samples: alpha only: 0, beta only: 0, both: 254, none: 0\n",
      "Negative samples (will be sampled to select same amount as positive): alpha only: 7137, beta only: 20647, both: 26639, none: 0\n",
      "Evaluating TTDPSFLGRY, drop_train_nan=True, seperate_chains=False, seed=0\n",
      "Both chains failed:\n",
      "Found array with 0 sample(s) (shape=(0, 482)) while a minimum of 1 is required by RandomForestClassifier.\n",
      "Found array with 0 sample(s) (shape=(0, 435)) while a minimum of 1 is required by RandomForestClassifier.\n",
      "Epitope TTDPSFLGRY throwed an error: Found array with 0 sample(s) (shape=(0, 482)) while a minimum of 1 is required by RandomForestClassifier.\n",
      "### Epitope: DPFRLLQNSQVFS ###\n"
     ]
    },
    {
     "name": "stderr",
     "output_type": "stream",
     "text": [
      "C:\\Users\\arnod\\PycharmProjects\\thesis\\util\\epitopes.py:6: DtypeWarning: Columns (20,29,30) have mixed types. Specify dtype option on import or set low_memory=False.\n",
      "  df_vdjdb = pd.read_csv('data/vdjdb-2022-03-30/vdjdb_full.txt', sep='\\t')\n"
     ]
    },
    {
     "name": "stdout",
     "output_type": "stream",
     "text": [
      "Number of negative samples changed from 54713 to 54641 (because of overlap with positive samples)\n",
      "Positive samples: alpha only: 44, beta only: 106, both: 0, none: 0\n",
      "Negative samples (will be sampled to select same amount as positive): alpha only: 7125, beta only: 20516, both: 27000, none: 0\n",
      "Evaluating DPFRLLQNSQVFS, drop_train_nan=True, seperate_chains=False, seed=0\n",
      "Epitope DPFRLLQNSQVFS throwed an error: Column alpha_J=TRAJ13*01 not in test set\n",
      "### Epitope: GLIYNRMGAVTTEV ###\n"
     ]
    },
    {
     "name": "stderr",
     "output_type": "stream",
     "text": [
      "C:\\Users\\arnod\\PycharmProjects\\thesis\\util\\epitopes.py:6: DtypeWarning: Columns (20,29,30) have mixed types. Specify dtype option on import or set low_memory=False.\n",
      "  df_vdjdb = pd.read_csv('data/vdjdb-2022-03-30/vdjdb_full.txt', sep='\\t')\n"
     ]
    },
    {
     "name": "stdout",
     "output_type": "stream",
     "text": [
      "Number of negative samples changed from 54610 to 54377 (because of overlap with positive samples)\n",
      "Positive samples: alpha only: 132, beta only: 121, both: 0, none: 0\n",
      "Negative samples (will be sampled to select same amount as positive): alpha only: 7014, beta only: 20502, both: 26861, none: 0\n",
      "Evaluating GLIYNRMGAVTTEV, drop_train_nan=True, seperate_chains=False, seed=0\n",
      "Epitope GLIYNRMGAVTTEV throwed an error: Column alpha_J=TRAJ10*01 not in test set\n",
      "### Epitope: QARQMVQAMRTIGTHP ###\n"
     ]
    },
    {
     "name": "stderr",
     "output_type": "stream",
     "text": [
      "C:\\Users\\arnod\\PycharmProjects\\thesis\\util\\epitopes.py:6: DtypeWarning: Columns (20,29,30) have mixed types. Specify dtype option on import or set low_memory=False.\n",
      "  df_vdjdb = pd.read_csv('data/vdjdb-2022-03-30/vdjdb_full.txt', sep='\\t')\n"
     ]
    },
    {
     "name": "stdout",
     "output_type": "stream",
     "text": [
      "Number of negative samples changed from 54617 to 54540 (because of overlap with positive samples)\n",
      "Positive samples: alpha only: 114, beta only: 132, both: 0, none: 0\n",
      "Negative samples (will be sampled to select same amount as positive): alpha only: 7041, beta only: 20526, both: 26973, none: 0\n",
      "Evaluating QARQMVQAMRTIGTHP, drop_train_nan=True, seperate_chains=False, seed=0\n",
      "Epitope QARQMVQAMRTIGTHP throwed an error: Column alpha_J=TRAJ10*01 not in test set\n",
      "### Epitope: SGPLKAEIAQRLED ###\n"
     ]
    },
    {
     "name": "stderr",
     "output_type": "stream",
     "text": [
      "C:\\Users\\arnod\\PycharmProjects\\thesis\\util\\epitopes.py:6: DtypeWarning: Columns (20,29,30) have mixed types. Specify dtype option on import or set low_memory=False.\n",
      "  df_vdjdb = pd.read_csv('data/vdjdb-2022-03-30/vdjdb_full.txt', sep='\\t')\n"
     ]
    },
    {
     "name": "stdout",
     "output_type": "stream",
     "text": [
      "Number of negative samples changed from 54723 to 54700 (because of overlap with positive samples)\n",
      "Positive samples: alpha only: 75, beta only: 65, both: 0, none: 0\n",
      "Negative samples (will be sampled to select same amount as positive): alpha only: 7095, beta only: 20599, both: 27006, none: 0\n",
      "Evaluating SGPLKAEIAQRLED, drop_train_nan=True, seperate_chains=False, seed=0\n",
      "Epitope SGPLKAEIAQRLED throwed an error: Column alpha_J=TRAJ10*01 not in test set\n",
      "### Epitope: GMFNMLSTVLGVS ###\n"
     ]
    },
    {
     "name": "stderr",
     "output_type": "stream",
     "text": [
      "C:\\Users\\arnod\\PycharmProjects\\thesis\\util\\epitopes.py:6: DtypeWarning: Columns (20,29,30) have mixed types. Specify dtype option on import or set low_memory=False.\n",
      "  df_vdjdb = pd.read_csv('data/vdjdb-2022-03-30/vdjdb_full.txt', sep='\\t')\n"
     ]
    },
    {
     "name": "stdout",
     "output_type": "stream",
     "text": [
      "Number of negative samples changed from 54752 to 54700 (because of overlap with positive samples)\n",
      "Positive samples: alpha only: 80, beta only: 31, both: 0, none: 0\n",
      "Negative samples (will be sampled to select same amount as positive): alpha only: 7073, beta only: 20636, both: 26991, none: 0\n",
      "Evaluating GMFNMLSTVLGVS, drop_train_nan=True, seperate_chains=False, seed=0\n",
      "Epitope GMFNMLSTVLGVS throwed an error: Column alpha_J=TRAJ10*01 not in test set\n",
      "### Epitope: SFHSLHLLF ###\n"
     ]
    },
    {
     "name": "stderr",
     "output_type": "stream",
     "text": [
      "C:\\Users\\arnod\\PycharmProjects\\thesis\\util\\epitopes.py:6: DtypeWarning: Columns (20,29,30) have mixed types. Specify dtype option on import or set low_memory=False.\n",
      "  df_vdjdb = pd.read_csv('data/vdjdb-2022-03-30/vdjdb_full.txt', sep='\\t')\n"
     ]
    },
    {
     "name": "stdout",
     "output_type": "stream",
     "text": [
      "Number of negative samples changed from 54723 to 54721 (because of overlap with positive samples)\n",
      "Positive samples: alpha only: 0, beta only: 140, both: 0, none: 0\n",
      "Negative samples (will be sampled to select same amount as positive): alpha only: 7176, beta only: 20529, both: 27016, none: 0\n",
      "Evaluating SFHSLHLLF, drop_train_nan=True, seperate_chains=False, seed=0\n",
      "Epitope SFHSLHLLF throwed an error: Column alpha_CDR3_length not in test set\n",
      "### Epitope: SPRWYFYYL ###\n"
     ]
    },
    {
     "name": "stderr",
     "output_type": "stream",
     "text": [
      "C:\\Users\\arnod\\PycharmProjects\\thesis\\util\\epitopes.py:6: DtypeWarning: Columns (20,29,30) have mixed types. Specify dtype option on import or set low_memory=False.\n",
      "  df_vdjdb = pd.read_csv('data/vdjdb-2022-03-30/vdjdb_full.txt', sep='\\t')\n"
     ]
    },
    {
     "name": "stdout",
     "output_type": "stream",
     "text": [
      "Number of negative samples changed from 54554 to 54498 (because of overlap with positive samples)\n",
      "Positive samples: alpha only: 18, beta only: 97, both: 194, none: 0\n",
      "Negative samples (will be sampled to select same amount as positive): alpha only: 7152, beta only: 20566, both: 26780, none: 0\n",
      "Evaluating SPRWYFYYL, drop_train_nan=True, seperate_chains=False, seed=0\n",
      "Both chains failed:\n",
      "Found array with 0 sample(s) (shape=(0, 465)) while a minimum of 1 is required by RandomForestClassifier.\n",
      "Found array with 0 sample(s) (shape=(0, 453)) while a minimum of 1 is required by RandomForestClassifier.\n",
      "Epitope SPRWYFYYL throwed an error: Found array with 0 sample(s) (shape=(0, 465)) while a minimum of 1 is required by RandomForestClassifier.\n",
      "### Epitope: CTPYDINQM ###\n"
     ]
    },
    {
     "name": "stderr",
     "output_type": "stream",
     "text": [
      "C:\\Users\\arnod\\PycharmProjects\\thesis\\util\\epitopes.py:6: DtypeWarning: Columns (20,29,30) have mixed types. Specify dtype option on import or set low_memory=False.\n",
      "  df_vdjdb = pd.read_csv('data/vdjdb-2022-03-30/vdjdb_full.txt', sep='\\t')\n"
     ]
    },
    {
     "name": "stdout",
     "output_type": "stream",
     "text": [
      "Positive samples: alpha only: 0, beta only: 0, both: 0, none: 0\n",
      "Negative samples (will be sampled to select same amount as positive): alpha only: 7176, beta only: 20671, both: 27016, none: 0\n",
      "Epitope CTPYDINQM throwed an error: not enough values to unpack (expected 2, got 0)\n",
      "### Epitope: STPESANL ###\n"
     ]
    },
    {
     "name": "stderr",
     "output_type": "stream",
     "text": [
      "C:\\Users\\arnod\\PycharmProjects\\thesis\\util\\epitopes.py:6: DtypeWarning: Columns (20,29,30) have mixed types. Specify dtype option on import or set low_memory=False.\n",
      "  df_vdjdb = pd.read_csv('data/vdjdb-2022-03-30/vdjdb_full.txt', sep='\\t')\n"
     ]
    },
    {
     "name": "stdout",
     "output_type": "stream",
     "text": [
      "Positive samples: alpha only: 0, beta only: 0, both: 0, none: 0\n",
      "Negative samples (will be sampled to select same amount as positive): alpha only: 7176, beta only: 20671, both: 27016, none: 0\n",
      "Epitope STPESANL throwed an error: not enough values to unpack (expected 2, got 0)\n",
      "### Epitope: TTPESANL ###\n"
     ]
    },
    {
     "name": "stderr",
     "output_type": "stream",
     "text": [
      "C:\\Users\\arnod\\PycharmProjects\\thesis\\util\\epitopes.py:6: DtypeWarning: Columns (20,29,30) have mixed types. Specify dtype option on import or set low_memory=False.\n",
      "  df_vdjdb = pd.read_csv('data/vdjdb-2022-03-30/vdjdb_full.txt', sep='\\t')\n"
     ]
    },
    {
     "name": "stdout",
     "output_type": "stream",
     "text": [
      "Positive samples: alpha only: 0, beta only: 0, both: 0, none: 0\n",
      "Negative samples (will be sampled to select same amount as positive): alpha only: 7176, beta only: 20671, both: 27016, none: 0\n",
      "Epitope TTPESANL throwed an error: not enough values to unpack (expected 2, got 0)\n",
      "### Epitope: NLSALGIFST ###\n"
     ]
    },
    {
     "name": "stderr",
     "output_type": "stream",
     "text": [
      "C:\\Users\\arnod\\PycharmProjects\\thesis\\util\\epitopes.py:6: DtypeWarning: Columns (20,29,30) have mixed types. Specify dtype option on import or set low_memory=False.\n",
      "  df_vdjdb = pd.read_csv('data/vdjdb-2022-03-30/vdjdb_full.txt', sep='\\t')\n"
     ]
    },
    {
     "name": "stdout",
     "output_type": "stream",
     "text": [
      "Number of negative samples changed from 54709 to 54691 (because of overlap with positive samples)\n",
      "Positive samples: alpha only: 0, beta only: 154, both: 0, none: 0\n",
      "Negative samples (will be sampled to select same amount as positive): alpha only: 7176, beta only: 20501, both: 27014, none: 0\n",
      "Evaluating NLSALGIFST, drop_train_nan=True, seperate_chains=False, seed=0\n",
      "Epitope NLSALGIFST throwed an error: Column alpha_J=TRAJ45 not in test set\n"
     ]
    }
   ],
   "source": [
    "from util import get_vdjdb\n",
    "\n",
    "vdjdb = get_vdjdb()\n",
    "# epitopes with more than 100 samples, with at least 5 samples not containing nans\n",
    "epitopes = vdjdb.groupby('epitope').filter(lambda x: len(x) > 100).epitope.unique()\n",
    "print(f\"Found {len(epitopes)} epitopes\")\n",
    "epitopes\n",
    "\n",
    "# epitopes = [\n",
    "#     'GILGFVFTL', # 1/3 van alles\n",
    "#     'NLVPMVATV',  # 2/5 alpha, 1/10 beta, 6/10 both\n",
    "#     # 'LLLGIGILV', # 2/3 alpha, 1/3 beta, 0 both -> 0 both dus droppen gaat ni\n",
    "#     'PKYVKQNTLKLAT', # 3/5 beta, 1/10 alfa, 1/10 both\n",
    "#     'CINGVCWTV' # 3/5 beta, 2/5both (en heel klein beetje alpha)\n",
    "# ]\n",
    "\n",
    "results = []\n",
    "\n",
    "\n",
    "def train_diff_epitope(df, epitope, drop_train_nan, seed, seperate_chains=False):\n",
    "    print(f\"Evaluating {epitope}, drop_train_nan={drop_train_nan}, seperate_chains={seperate_chains}, seed={seed}\")\n",
    "    assert not seperate_chains # not supported here\n",
    "\n",
    "    # Creating the dataframe\n",
    "    if len(df) > 1500:\n",
    "        df_new = df.sample(1500, random_state=seed)\n",
    "    else:\n",
    "        df_new = df\n",
    "\n",
    "    df_train, df_test = train_test_split(df_new, test_size=0.2, random_state=seed)\n",
    "\n",
    "    test = df_test.dropna()\n",
    "\n",
    "    # with nan in train set\n",
    "    x = get_features(df_train)\n",
    "    y = df_train['reaction']\n",
    "\n",
    "    x_test = get_features(test, test=True)\n",
    "    x_test = fix_test(x_test, x.columns)\n",
    "\n",
    "    if drop_train_nan:\n",
    "        x_alpha = x[x.columns[x.columns.str.startswith('alpha')]]\n",
    "        x_beta = x[x.columns[x.columns.str.startswith('beta')]]\n",
    "\n",
    "        xy_alpha = pd.concat([x_alpha, y], axis=1)\n",
    "        xy_beta = pd.concat([x_beta, y], axis=1)\n",
    "\n",
    "        xy_alpha = xy_alpha.dropna()\n",
    "        xy_beta = xy_beta.dropna()\n",
    "\n",
    "        x_alpha = xy_alpha.drop('reaction', axis=1)\n",
    "        x_beta = xy_beta.drop('reaction', axis=1)\n",
    "\n",
    "        y_alpha = xy_alpha['reaction']\n",
    "        y_beta = xy_beta['reaction']\n",
    "\n",
    "\n",
    "    if drop_train_nan:\n",
    "        x_test_alpha = x_test[x_test.columns[x_test.columns.str.startswith('alpha')]]\n",
    "        x_test_beta = x_test[x_test.columns[x_test.columns.str.startswith('beta')]]\n",
    "\n",
    "\n",
    "    y_test = test['reaction']\n",
    "\n",
    "    alpha_only_count_pos, beta_only_count_pos, both_count_pos, non_count_pos = get_counts(df_train)\n",
    "\n",
    "    mean_imputer = impute.SimpleImputer(strategy='mean')\n",
    "\n",
    "    ## Training the model\n",
    "    if not drop_train_nan:\n",
    "        model = RandomForestClassifier()\n",
    "        model = Pipeline([('imputer', mean_imputer), ('model', model)])\n",
    "        model_imputer = None\n",
    "        auc = evaluate_no_cv(model, x, y, x_test, y_test, model_imputer)\n",
    "        best_auc = auc\n",
    "    else:\n",
    "        model_alpha = RandomForestClassifier()\n",
    "        model_beta = RandomForestClassifier()\n",
    "        model_imputer = None\n",
    "        exceptions = []\n",
    "        try:\n",
    "            auc_alpha = evaluate_no_cv(model_alpha, x_alpha, y_alpha, x_test_alpha, y_test, model_imputer)\n",
    "        except Exception as e:\n",
    "            # probably no alpha data\n",
    "            auc_alpha = 0\n",
    "            exceptions.append(e)\n",
    "        try:\n",
    "            auc_beta = evaluate_no_cv(model_beta, x_beta, y_beta, x_test_beta, y_test, model_imputer)\n",
    "        except Exception as e:\n",
    "            # probably no beta data\n",
    "            auc_beta = 0\n",
    "            exceptions.append(e)\n",
    "        if len(exceptions) == 2:\n",
    "            print(f\"Both chains failed:\")\n",
    "            for e in exceptions:\n",
    "                print(e)\n",
    "            raise exceptions[0]\n",
    "        best_auc = max(auc_alpha, auc_beta)\n",
    "\n",
    "    print(best_auc)\n",
    "\n",
    "    # Log the results\n",
    "    model_name = \"Random Forest (\"\n",
    "    if drop_train_nan:\n",
    "        model_name += \"both chains (with missing))\"\n",
    "    else:\n",
    "        model_name += \"single chain (no missing))\"\n",
    "\n",
    "    total_count = alpha_only_count_pos + beta_only_count_pos + both_count_pos + non_count_pos\n",
    "    a_frac, b_frac, both_frac, non_frac = alpha_only_count_pos / total_count, beta_only_count_pos / total_count, both_count_pos / total_count, non_count_pos / total_count\n",
    "\n",
    "    result_dict = {\n",
    "        'epitope': epitope,\n",
    "        'drop_train_nan': drop_train_nan,\n",
    "        'seed': seed,\n",
    "        'auc': best_auc,\n",
    "        'alpha_only_count_pos': alpha_only_count_pos,\n",
    "        'beta_only_count_pos': beta_only_count_pos,\n",
    "        'both_count_pos': both_count_pos,\n",
    "        'non_count_pos': non_count_pos,\n",
    "        'model': model_name,\n",
    "        'a_frac': a_frac,\n",
    "        'b_frac': b_frac,\n",
    "        'both_frac': both_frac,\n",
    "        'non_frac': non_frac\n",
    "    }\n",
    "\n",
    "    if drop_train_nan:\n",
    "        result_dict['auc_alpha'] = auc_alpha\n",
    "        result_dict['auc_beta'] = auc_beta\n",
    "    else:\n",
    "        result_dict['auc_alpha'] = None\n",
    "        result_dict['auc_beta'] = None\n",
    "\n",
    "    results.append(result_dict)\n",
    "\n",
    "\n",
    "folds = 5\n",
    "for epitope in epitopes:\n",
    "    print(f\"### Epitope: {epitope} ###\")\n",
    "    if epitope == \"FLKEKGGL\":\n",
    "        continue\n",
    "\n",
    "    try:\n",
    "        df = get_epitope_df(epitope, species=species)\n",
    "\n",
    "        for seed in range(folds):\n",
    "            train_diff_epitope(df, epitope, drop_train_nan=True, seperate_chains=False, seed=seed)\n",
    "            train_diff_epitope(df, epitope, drop_train_nan=False, seperate_chains=False, seed=seed)\n",
    "\n",
    "    except Exception as e:\n",
    "        print(f\"Epitope {epitope} throwed an error: {e}\")\n",
    "        # raise e"
   ],
   "metadata": {
    "collapsed": false
   }
  },
  {
   "cell_type": "code",
   "execution_count": 14,
   "outputs": [
    {
     "data": {
      "text/plain": "       epitope  drop_train_nan  seed       auc  alpha_only_count_pos  \\\n0    NLVPMVATV            True     0  0.617647                   364   \n1    NLVPMVATV           False     0  0.611765                   364   \n2    NLVPMVATV            True     1  0.587500                   334   \n3    NLVPMVATV           False     1  0.741667                   334   \n4    NLVPMVATV            True     2  0.407407                   342   \n5    NLVPMVATV           False     2  0.750000                   342   \n6    NLVPMVATV            True     3  0.538235                   345   \n7    NLVPMVATV           False     3  0.505882                   345   \n8    NLVPMVATV            True     4  0.487179                   371   \n9    NLVPMVATV           False     4  0.551282                   371   \n10  TPRVTGGGAM            True     0  0.525641                     8   \n11  TPRVTGGGAM           False     0  0.965812                     8   \n12  TPRVTGGGAM            True     1  0.248485                     7   \n13  TPRVTGGGAM           False     1  0.951515                     7   \n14  TPRVTGGGAM            True     2  0.559375                     6   \n15  TPRVTGGGAM           False     2  0.875000                     6   \n16  TPRVTGGGAM            True     3  0.712121                     6   \n17  TPRVTGGGAM           False     3  1.000000                     6   \n18  TPRVTGGGAM            True     4  0.955621                     7   \n19  TPRVTGGGAM           False     4  1.000000                     7   \n20  ELAGIGILTV            True     0  0.583450                     0   \n21  ELAGIGILTV           False     0  0.847125                     0   \n22  ELAGIGILTV            True     1  0.541444                     1   \n23  ELAGIGILTV           False     1  0.927139                     1   \n24  ELAGIGILTV            True     2  0.666667                     1   \n25  ELAGIGILTV           False     2  0.904023                     1   \n26  ELAGIGILTV            True     3  0.587500                     0   \n27  ELAGIGILTV           False     3  0.903846                     0   \n28  ELAGIGILTV            True     4  0.508489                     1   \n29  ELAGIGILTV           False     4  0.943124                     1   \n\n    beta_only_count_pos  both_count_pos  non_count_pos  \\\n0                   746              90              0   \n1                   746              90              0   \n2                   780              86              0   \n3                   780              86              0   \n4                   776              82              0   \n5                   776              82              0   \n6                   769              86              0   \n7                   769              86              0   \n8                   751              78              0   \n9                   751              78              0   \n10                  479             103              0   \n11                  479             103              0   \n12                  483             100              0   \n13                  483             100              0   \n14                  484             100              0   \n15                  484             100              0   \n16                  475             109              0   \n17                  475             109              0   \n18                  484              99              0   \n19                  484              99              0   \n20                 1014             186              0   \n21                 1014             186              0   \n22                 1001             198              0   \n23                 1001             198              0   \n24                  994             205              0   \n25                  994             205              0   \n26                  997             203              0   \n27                  997             203              0   \n28                 1012             187              0   \n29                 1012             187              0   \n\n                                         model    a_frac    b_frac  both_frac  \\\n0   Random Forest (both chains (with missing))  0.303333  0.621667   0.075000   \n1    Random Forest (single chain (no missing))  0.303333  0.621667   0.075000   \n2   Random Forest (both chains (with missing))  0.278333  0.650000   0.071667   \n3    Random Forest (single chain (no missing))  0.278333  0.650000   0.071667   \n4   Random Forest (both chains (with missing))  0.285000  0.646667   0.068333   \n5    Random Forest (single chain (no missing))  0.285000  0.646667   0.068333   \n6   Random Forest (both chains (with missing))  0.287500  0.640833   0.071667   \n7    Random Forest (single chain (no missing))  0.287500  0.640833   0.071667   \n8   Random Forest (both chains (with missing))  0.309167  0.625833   0.065000   \n9    Random Forest (single chain (no missing))  0.309167  0.625833   0.065000   \n10  Random Forest (both chains (with missing))  0.013559  0.811864   0.174576   \n11   Random Forest (single chain (no missing))  0.013559  0.811864   0.174576   \n12  Random Forest (both chains (with missing))  0.011864  0.818644   0.169492   \n13   Random Forest (single chain (no missing))  0.011864  0.818644   0.169492   \n14  Random Forest (both chains (with missing))  0.010169  0.820339   0.169492   \n15   Random Forest (single chain (no missing))  0.010169  0.820339   0.169492   \n16  Random Forest (both chains (with missing))  0.010169  0.805085   0.184746   \n17   Random Forest (single chain (no missing))  0.010169  0.805085   0.184746   \n18  Random Forest (both chains (with missing))  0.011864  0.820339   0.167797   \n19   Random Forest (single chain (no missing))  0.011864  0.820339   0.167797   \n20  Random Forest (both chains (with missing))  0.000000  0.845000   0.155000   \n21   Random Forest (single chain (no missing))  0.000000  0.845000   0.155000   \n22  Random Forest (both chains (with missing))  0.000833  0.834167   0.165000   \n23   Random Forest (single chain (no missing))  0.000833  0.834167   0.165000   \n24  Random Forest (both chains (with missing))  0.000833  0.828333   0.170833   \n25   Random Forest (single chain (no missing))  0.000833  0.828333   0.170833   \n26  Random Forest (both chains (with missing))  0.000000  0.830833   0.169167   \n27   Random Forest (single chain (no missing))  0.000000  0.830833   0.169167   \n28  Random Forest (both chains (with missing))  0.000833  0.843333   0.155833   \n29   Random Forest (single chain (no missing))  0.000833  0.843333   0.155833   \n\n    non_frac  auc_alpha  auc_beta  \n0        0.0   0.617647  0.329412  \n1        0.0        NaN       NaN  \n2        0.0   0.587500  0.404167  \n3        0.0        NaN       NaN  \n4        0.0   0.365741  0.407407  \n5        0.0        NaN       NaN  \n6        0.0   0.538235  0.264706  \n7        0.0        NaN       NaN  \n8        0.0   0.000000  0.487179  \n9        0.0        NaN       NaN  \n10       0.0   0.525641  0.410256  \n11       0.0        NaN       NaN  \n12       0.0   0.151515  0.248485  \n13       0.0        NaN       NaN  \n14       0.0   0.140625  0.559375  \n15       0.0        NaN       NaN  \n16       0.0   0.712121  0.636364  \n17       0.0        NaN       NaN  \n18       0.0   0.955621  0.375740  \n19       0.0        NaN       NaN  \n20       0.0   0.514025  0.583450  \n21       0.0        NaN       NaN  \n22       0.0   0.534091  0.541444  \n23       0.0        NaN       NaN  \n24       0.0   0.565517  0.666667  \n25       0.0        NaN       NaN  \n26       0.0   0.578846  0.587500  \n27       0.0        NaN       NaN  \n28       0.0   0.465195  0.508489  \n29       0.0        NaN       NaN  ",
      "text/html": "<div>\n<style scoped>\n    .dataframe tbody tr th:only-of-type {\n        vertical-align: middle;\n    }\n\n    .dataframe tbody tr th {\n        vertical-align: top;\n    }\n\n    .dataframe thead th {\n        text-align: right;\n    }\n</style>\n<table border=\"1\" class=\"dataframe\">\n  <thead>\n    <tr style=\"text-align: right;\">\n      <th></th>\n      <th>epitope</th>\n      <th>drop_train_nan</th>\n      <th>seed</th>\n      <th>auc</th>\n      <th>alpha_only_count_pos</th>\n      <th>beta_only_count_pos</th>\n      <th>both_count_pos</th>\n      <th>non_count_pos</th>\n      <th>model</th>\n      <th>a_frac</th>\n      <th>b_frac</th>\n      <th>both_frac</th>\n      <th>non_frac</th>\n      <th>auc_alpha</th>\n      <th>auc_beta</th>\n    </tr>\n  </thead>\n  <tbody>\n    <tr>\n      <th>0</th>\n      <td>NLVPMVATV</td>\n      <td>True</td>\n      <td>0</td>\n      <td>0.617647</td>\n      <td>364</td>\n      <td>746</td>\n      <td>90</td>\n      <td>0</td>\n      <td>Random Forest (both chains (with missing))</td>\n      <td>0.303333</td>\n      <td>0.621667</td>\n      <td>0.075000</td>\n      <td>0.0</td>\n      <td>0.617647</td>\n      <td>0.329412</td>\n    </tr>\n    <tr>\n      <th>1</th>\n      <td>NLVPMVATV</td>\n      <td>False</td>\n      <td>0</td>\n      <td>0.611765</td>\n      <td>364</td>\n      <td>746</td>\n      <td>90</td>\n      <td>0</td>\n      <td>Random Forest (single chain (no missing))</td>\n      <td>0.303333</td>\n      <td>0.621667</td>\n      <td>0.075000</td>\n      <td>0.0</td>\n      <td>NaN</td>\n      <td>NaN</td>\n    </tr>\n    <tr>\n      <th>2</th>\n      <td>NLVPMVATV</td>\n      <td>True</td>\n      <td>1</td>\n      <td>0.587500</td>\n      <td>334</td>\n      <td>780</td>\n      <td>86</td>\n      <td>0</td>\n      <td>Random Forest (both chains (with missing))</td>\n      <td>0.278333</td>\n      <td>0.650000</td>\n      <td>0.071667</td>\n      <td>0.0</td>\n      <td>0.587500</td>\n      <td>0.404167</td>\n    </tr>\n    <tr>\n      <th>3</th>\n      <td>NLVPMVATV</td>\n      <td>False</td>\n      <td>1</td>\n      <td>0.741667</td>\n      <td>334</td>\n      <td>780</td>\n      <td>86</td>\n      <td>0</td>\n      <td>Random Forest (single chain (no missing))</td>\n      <td>0.278333</td>\n      <td>0.650000</td>\n      <td>0.071667</td>\n      <td>0.0</td>\n      <td>NaN</td>\n      <td>NaN</td>\n    </tr>\n    <tr>\n      <th>4</th>\n      <td>NLVPMVATV</td>\n      <td>True</td>\n      <td>2</td>\n      <td>0.407407</td>\n      <td>342</td>\n      <td>776</td>\n      <td>82</td>\n      <td>0</td>\n      <td>Random Forest (both chains (with missing))</td>\n      <td>0.285000</td>\n      <td>0.646667</td>\n      <td>0.068333</td>\n      <td>0.0</td>\n      <td>0.365741</td>\n      <td>0.407407</td>\n    </tr>\n    <tr>\n      <th>5</th>\n      <td>NLVPMVATV</td>\n      <td>False</td>\n      <td>2</td>\n      <td>0.750000</td>\n      <td>342</td>\n      <td>776</td>\n      <td>82</td>\n      <td>0</td>\n      <td>Random Forest (single chain (no missing))</td>\n      <td>0.285000</td>\n      <td>0.646667</td>\n      <td>0.068333</td>\n      <td>0.0</td>\n      <td>NaN</td>\n      <td>NaN</td>\n    </tr>\n    <tr>\n      <th>6</th>\n      <td>NLVPMVATV</td>\n      <td>True</td>\n      <td>3</td>\n      <td>0.538235</td>\n      <td>345</td>\n      <td>769</td>\n      <td>86</td>\n      <td>0</td>\n      <td>Random Forest (both chains (with missing))</td>\n      <td>0.287500</td>\n      <td>0.640833</td>\n      <td>0.071667</td>\n      <td>0.0</td>\n      <td>0.538235</td>\n      <td>0.264706</td>\n    </tr>\n    <tr>\n      <th>7</th>\n      <td>NLVPMVATV</td>\n      <td>False</td>\n      <td>3</td>\n      <td>0.505882</td>\n      <td>345</td>\n      <td>769</td>\n      <td>86</td>\n      <td>0</td>\n      <td>Random Forest (single chain (no missing))</td>\n      <td>0.287500</td>\n      <td>0.640833</td>\n      <td>0.071667</td>\n      <td>0.0</td>\n      <td>NaN</td>\n      <td>NaN</td>\n    </tr>\n    <tr>\n      <th>8</th>\n      <td>NLVPMVATV</td>\n      <td>True</td>\n      <td>4</td>\n      <td>0.487179</td>\n      <td>371</td>\n      <td>751</td>\n      <td>78</td>\n      <td>0</td>\n      <td>Random Forest (both chains (with missing))</td>\n      <td>0.309167</td>\n      <td>0.625833</td>\n      <td>0.065000</td>\n      <td>0.0</td>\n      <td>0.000000</td>\n      <td>0.487179</td>\n    </tr>\n    <tr>\n      <th>9</th>\n      <td>NLVPMVATV</td>\n      <td>False</td>\n      <td>4</td>\n      <td>0.551282</td>\n      <td>371</td>\n      <td>751</td>\n      <td>78</td>\n      <td>0</td>\n      <td>Random Forest (single chain (no missing))</td>\n      <td>0.309167</td>\n      <td>0.625833</td>\n      <td>0.065000</td>\n      <td>0.0</td>\n      <td>NaN</td>\n      <td>NaN</td>\n    </tr>\n    <tr>\n      <th>10</th>\n      <td>TPRVTGGGAM</td>\n      <td>True</td>\n      <td>0</td>\n      <td>0.525641</td>\n      <td>8</td>\n      <td>479</td>\n      <td>103</td>\n      <td>0</td>\n      <td>Random Forest (both chains (with missing))</td>\n      <td>0.013559</td>\n      <td>0.811864</td>\n      <td>0.174576</td>\n      <td>0.0</td>\n      <td>0.525641</td>\n      <td>0.410256</td>\n    </tr>\n    <tr>\n      <th>11</th>\n      <td>TPRVTGGGAM</td>\n      <td>False</td>\n      <td>0</td>\n      <td>0.965812</td>\n      <td>8</td>\n      <td>479</td>\n      <td>103</td>\n      <td>0</td>\n      <td>Random Forest (single chain (no missing))</td>\n      <td>0.013559</td>\n      <td>0.811864</td>\n      <td>0.174576</td>\n      <td>0.0</td>\n      <td>NaN</td>\n      <td>NaN</td>\n    </tr>\n    <tr>\n      <th>12</th>\n      <td>TPRVTGGGAM</td>\n      <td>True</td>\n      <td>1</td>\n      <td>0.248485</td>\n      <td>7</td>\n      <td>483</td>\n      <td>100</td>\n      <td>0</td>\n      <td>Random Forest (both chains (with missing))</td>\n      <td>0.011864</td>\n      <td>0.818644</td>\n      <td>0.169492</td>\n      <td>0.0</td>\n      <td>0.151515</td>\n      <td>0.248485</td>\n    </tr>\n    <tr>\n      <th>13</th>\n      <td>TPRVTGGGAM</td>\n      <td>False</td>\n      <td>1</td>\n      <td>0.951515</td>\n      <td>7</td>\n      <td>483</td>\n      <td>100</td>\n      <td>0</td>\n      <td>Random Forest (single chain (no missing))</td>\n      <td>0.011864</td>\n      <td>0.818644</td>\n      <td>0.169492</td>\n      <td>0.0</td>\n      <td>NaN</td>\n      <td>NaN</td>\n    </tr>\n    <tr>\n      <th>14</th>\n      <td>TPRVTGGGAM</td>\n      <td>True</td>\n      <td>2</td>\n      <td>0.559375</td>\n      <td>6</td>\n      <td>484</td>\n      <td>100</td>\n      <td>0</td>\n      <td>Random Forest (both chains (with missing))</td>\n      <td>0.010169</td>\n      <td>0.820339</td>\n      <td>0.169492</td>\n      <td>0.0</td>\n      <td>0.140625</td>\n      <td>0.559375</td>\n    </tr>\n    <tr>\n      <th>15</th>\n      <td>TPRVTGGGAM</td>\n      <td>False</td>\n      <td>2</td>\n      <td>0.875000</td>\n      <td>6</td>\n      <td>484</td>\n      <td>100</td>\n      <td>0</td>\n      <td>Random Forest (single chain (no missing))</td>\n      <td>0.010169</td>\n      <td>0.820339</td>\n      <td>0.169492</td>\n      <td>0.0</td>\n      <td>NaN</td>\n      <td>NaN</td>\n    </tr>\n    <tr>\n      <th>16</th>\n      <td>TPRVTGGGAM</td>\n      <td>True</td>\n      <td>3</td>\n      <td>0.712121</td>\n      <td>6</td>\n      <td>475</td>\n      <td>109</td>\n      <td>0</td>\n      <td>Random Forest (both chains (with missing))</td>\n      <td>0.010169</td>\n      <td>0.805085</td>\n      <td>0.184746</td>\n      <td>0.0</td>\n      <td>0.712121</td>\n      <td>0.636364</td>\n    </tr>\n    <tr>\n      <th>17</th>\n      <td>TPRVTGGGAM</td>\n      <td>False</td>\n      <td>3</td>\n      <td>1.000000</td>\n      <td>6</td>\n      <td>475</td>\n      <td>109</td>\n      <td>0</td>\n      <td>Random Forest (single chain (no missing))</td>\n      <td>0.010169</td>\n      <td>0.805085</td>\n      <td>0.184746</td>\n      <td>0.0</td>\n      <td>NaN</td>\n      <td>NaN</td>\n    </tr>\n    <tr>\n      <th>18</th>\n      <td>TPRVTGGGAM</td>\n      <td>True</td>\n      <td>4</td>\n      <td>0.955621</td>\n      <td>7</td>\n      <td>484</td>\n      <td>99</td>\n      <td>0</td>\n      <td>Random Forest (both chains (with missing))</td>\n      <td>0.011864</td>\n      <td>0.820339</td>\n      <td>0.167797</td>\n      <td>0.0</td>\n      <td>0.955621</td>\n      <td>0.375740</td>\n    </tr>\n    <tr>\n      <th>19</th>\n      <td>TPRVTGGGAM</td>\n      <td>False</td>\n      <td>4</td>\n      <td>1.000000</td>\n      <td>7</td>\n      <td>484</td>\n      <td>99</td>\n      <td>0</td>\n      <td>Random Forest (single chain (no missing))</td>\n      <td>0.011864</td>\n      <td>0.820339</td>\n      <td>0.167797</td>\n      <td>0.0</td>\n      <td>NaN</td>\n      <td>NaN</td>\n    </tr>\n    <tr>\n      <th>20</th>\n      <td>ELAGIGILTV</td>\n      <td>True</td>\n      <td>0</td>\n      <td>0.583450</td>\n      <td>0</td>\n      <td>1014</td>\n      <td>186</td>\n      <td>0</td>\n      <td>Random Forest (both chains (with missing))</td>\n      <td>0.000000</td>\n      <td>0.845000</td>\n      <td>0.155000</td>\n      <td>0.0</td>\n      <td>0.514025</td>\n      <td>0.583450</td>\n    </tr>\n    <tr>\n      <th>21</th>\n      <td>ELAGIGILTV</td>\n      <td>False</td>\n      <td>0</td>\n      <td>0.847125</td>\n      <td>0</td>\n      <td>1014</td>\n      <td>186</td>\n      <td>0</td>\n      <td>Random Forest (single chain (no missing))</td>\n      <td>0.000000</td>\n      <td>0.845000</td>\n      <td>0.155000</td>\n      <td>0.0</td>\n      <td>NaN</td>\n      <td>NaN</td>\n    </tr>\n    <tr>\n      <th>22</th>\n      <td>ELAGIGILTV</td>\n      <td>True</td>\n      <td>1</td>\n      <td>0.541444</td>\n      <td>1</td>\n      <td>1001</td>\n      <td>198</td>\n      <td>0</td>\n      <td>Random Forest (both chains (with missing))</td>\n      <td>0.000833</td>\n      <td>0.834167</td>\n      <td>0.165000</td>\n      <td>0.0</td>\n      <td>0.534091</td>\n      <td>0.541444</td>\n    </tr>\n    <tr>\n      <th>23</th>\n      <td>ELAGIGILTV</td>\n      <td>False</td>\n      <td>1</td>\n      <td>0.927139</td>\n      <td>1</td>\n      <td>1001</td>\n      <td>198</td>\n      <td>0</td>\n      <td>Random Forest (single chain (no missing))</td>\n      <td>0.000833</td>\n      <td>0.834167</td>\n      <td>0.165000</td>\n      <td>0.0</td>\n      <td>NaN</td>\n      <td>NaN</td>\n    </tr>\n    <tr>\n      <th>24</th>\n      <td>ELAGIGILTV</td>\n      <td>True</td>\n      <td>2</td>\n      <td>0.666667</td>\n      <td>1</td>\n      <td>994</td>\n      <td>205</td>\n      <td>0</td>\n      <td>Random Forest (both chains (with missing))</td>\n      <td>0.000833</td>\n      <td>0.828333</td>\n      <td>0.170833</td>\n      <td>0.0</td>\n      <td>0.565517</td>\n      <td>0.666667</td>\n    </tr>\n    <tr>\n      <th>25</th>\n      <td>ELAGIGILTV</td>\n      <td>False</td>\n      <td>2</td>\n      <td>0.904023</td>\n      <td>1</td>\n      <td>994</td>\n      <td>205</td>\n      <td>0</td>\n      <td>Random Forest (single chain (no missing))</td>\n      <td>0.000833</td>\n      <td>0.828333</td>\n      <td>0.170833</td>\n      <td>0.0</td>\n      <td>NaN</td>\n      <td>NaN</td>\n    </tr>\n    <tr>\n      <th>26</th>\n      <td>ELAGIGILTV</td>\n      <td>True</td>\n      <td>3</td>\n      <td>0.587500</td>\n      <td>0</td>\n      <td>997</td>\n      <td>203</td>\n      <td>0</td>\n      <td>Random Forest (both chains (with missing))</td>\n      <td>0.000000</td>\n      <td>0.830833</td>\n      <td>0.169167</td>\n      <td>0.0</td>\n      <td>0.578846</td>\n      <td>0.587500</td>\n    </tr>\n    <tr>\n      <th>27</th>\n      <td>ELAGIGILTV</td>\n      <td>False</td>\n      <td>3</td>\n      <td>0.903846</td>\n      <td>0</td>\n      <td>997</td>\n      <td>203</td>\n      <td>0</td>\n      <td>Random Forest (single chain (no missing))</td>\n      <td>0.000000</td>\n      <td>0.830833</td>\n      <td>0.169167</td>\n      <td>0.0</td>\n      <td>NaN</td>\n      <td>NaN</td>\n    </tr>\n    <tr>\n      <th>28</th>\n      <td>ELAGIGILTV</td>\n      <td>True</td>\n      <td>4</td>\n      <td>0.508489</td>\n      <td>1</td>\n      <td>1012</td>\n      <td>187</td>\n      <td>0</td>\n      <td>Random Forest (both chains (with missing))</td>\n      <td>0.000833</td>\n      <td>0.843333</td>\n      <td>0.155833</td>\n      <td>0.0</td>\n      <td>0.465195</td>\n      <td>0.508489</td>\n    </tr>\n    <tr>\n      <th>29</th>\n      <td>ELAGIGILTV</td>\n      <td>False</td>\n      <td>4</td>\n      <td>0.943124</td>\n      <td>1</td>\n      <td>1012</td>\n      <td>187</td>\n      <td>0</td>\n      <td>Random Forest (single chain (no missing))</td>\n      <td>0.000833</td>\n      <td>0.843333</td>\n      <td>0.155833</td>\n      <td>0.0</td>\n      <td>NaN</td>\n      <td>NaN</td>\n    </tr>\n  </tbody>\n</table>\n</div>"
     },
     "execution_count": 14,
     "metadata": {},
     "output_type": "execute_result"
    }
   ],
   "source": [
    "df = pd.DataFrame(results)\n",
    "df.to_csv(f\"outputs/epitope_results_single_chain_combine_miss_{species}.csv\", index=False)\n",
    "df"
   ],
   "metadata": {
    "collapsed": false
   }
  },
  {
   "cell_type": "code",
   "execution_count": 39,
   "outputs": [],
   "source": [
    "# read the results\n",
    "df = pd.read_csv(f\"outputs/epitope_results_single_chain_combine_miss_{species}.csv\")"
   ],
   "metadata": {
    "collapsed": false
   }
  },
  {
   "cell_type": "code",
   "execution_count": 40,
   "outputs": [
    {
     "data": {
      "text/plain": "<Figure size 432x288 with 1 Axes>",
      "image/png": "[encoded data removed]"
     },
     "metadata": {},
     "output_type": "display_data"
    },
    {
     "name": "stdout",
     "output_type": "stream",
     "text": [
      "Baseline Random Forest (NaNs dropped in train) not found in scores, using Random Forest (both chains (with missing)) instead\n"
     ]
    },
    {
     "data": {
      "text/plain": "<Figure size 432x288 with 1 Axes>",
      "image/png": "[encoded data removed]"
     },
     "metadata": {},
     "output_type": "display_data"
    }
   ],
   "source": [
    "# plot the results\n",
    "title = \"RandomForest with different epitopes\"\n",
    "output = \"graphs/rf-different-epitopes-single-chain.png\"\n",
    "plot_scores(df, title, wrap=True, x=\"epitope\", hue=\"model\", xlabel=\"Epitope\", ylabel=\"AUC\",\n",
    "            output_file=output,\n",
    "            plot=True)"
   ],
   "metadata": {
    "collapsed": false
   }
  },
  {
   "cell_type": "code",
   "execution_count": 41,
   "outputs": [
    {
     "data": {
      "text/plain": "      epitope  drop_train_nan  seed       auc  alpha_only_count_pos  \\\n0  ELAGIGILTV           False   2.0  0.905051                   0.6   \n1  ELAGIGILTV            True   2.0  0.577510                   0.6   \n2   NLVPMVATV           False   2.0  0.632119                 351.2   \n3   NLVPMVATV            True   2.0  0.527594                 351.2   \n4  TPRVTGGGAM           False   2.0  0.958465                   6.8   \n5  TPRVTGGGAM            True   2.0  0.600249                   6.8   \n\n   beta_only_count_pos  both_count_pos  non_count_pos    a_frac    b_frac  \\\n0               1003.6           195.8            0.0  0.000500  0.836333   \n1               1003.6           195.8            0.0  0.000500  0.836333   \n2                764.4            84.4            0.0  0.292667  0.637000   \n3                764.4            84.4            0.0  0.292667  0.637000   \n4                481.0           102.2            0.0  0.011525  0.815254   \n5                481.0           102.2            0.0  0.011525  0.815254   \n\n   both_frac  non_frac  auc_alpha  auc_beta  improvement_hue  \n0   0.163167       0.0        NaN       NaN     3.275415e-01  \n1   0.163167       0.0   0.531535  0.577510     0.000000e+00  \n2   0.070333       0.0        NaN       NaN     1.045253e-01  \n3   0.070333       0.0   0.421825  0.378574     1.110223e-17  \n4   0.173220       0.0        NaN       NaN     3.582167e-01  \n5   0.173220       0.0   0.497105  0.446044     4.440892e-17  ",
      "text/html": "<div>\n<style scoped>\n    .dataframe tbody tr th:only-of-type {\n        vertical-align: middle;\n    }\n\n    .dataframe tbody tr th {\n        vertical-align: top;\n    }\n\n    .dataframe thead th {\n        text-align: right;\n    }\n</style>\n<table border=\"1\" class=\"dataframe\">\n  <thead>\n    <tr style=\"text-align: right;\">\n      <th></th>\n      <th>epitope</th>\n      <th>drop_train_nan</th>\n      <th>seed</th>\n      <th>auc</th>\n      <th>alpha_only_count_pos</th>\n      <th>beta_only_count_pos</th>\n      <th>both_count_pos</th>\n      <th>non_count_pos</th>\n      <th>a_frac</th>\n      <th>b_frac</th>\n      <th>both_frac</th>\n      <th>non_frac</th>\n      <th>auc_alpha</th>\n      <th>auc_beta</th>\n      <th>improvement_hue</th>\n    </tr>\n  </thead>\n  <tbody>\n    <tr>\n      <th>0</th>\n      <td>ELAGIGILTV</td>\n      <td>False</td>\n      <td>2.0</td>\n      <td>0.905051</td>\n      <td>0.6</td>\n      <td>1003.6</td>\n      <td>195.8</td>\n      <td>0.0</td>\n      <td>0.000500</td>\n      <td>0.836333</td>\n      <td>0.163167</td>\n      <td>0.0</td>\n      <td>NaN</td>\n      <td>NaN</td>\n      <td>3.275415e-01</td>\n    </tr>\n    <tr>\n      <th>1</th>\n      <td>ELAGIGILTV</td>\n      <td>True</td>\n      <td>2.0</td>\n      <td>0.577510</td>\n      <td>0.6</td>\n      <td>1003.6</td>\n      <td>195.8</td>\n      <td>0.0</td>\n      <td>0.000500</td>\n      <td>0.836333</td>\n      <td>0.163167</td>\n      <td>0.0</td>\n      <td>0.531535</td>\n      <td>0.577510</td>\n      <td>0.000000e+00</td>\n    </tr>\n    <tr>\n      <th>2</th>\n      <td>NLVPMVATV</td>\n      <td>False</td>\n      <td>2.0</td>\n      <td>0.632119</td>\n      <td>351.2</td>\n      <td>764.4</td>\n      <td>84.4</td>\n      <td>0.0</td>\n      <td>0.292667</td>\n      <td>0.637000</td>\n      <td>0.070333</td>\n      <td>0.0</td>\n      <td>NaN</td>\n      <td>NaN</td>\n      <td>1.045253e-01</td>\n    </tr>\n    <tr>\n      <th>3</th>\n      <td>NLVPMVATV</td>\n      <td>True</td>\n      <td>2.0</td>\n      <td>0.527594</td>\n      <td>351.2</td>\n      <td>764.4</td>\n      <td>84.4</td>\n      <td>0.0</td>\n      <td>0.292667</td>\n      <td>0.637000</td>\n      <td>0.070333</td>\n      <td>0.0</td>\n      <td>0.421825</td>\n      <td>0.378574</td>\n      <td>1.110223e-17</td>\n    </tr>\n    <tr>\n      <th>4</th>\n      <td>TPRVTGGGAM</td>\n      <td>False</td>\n      <td>2.0</td>\n      <td>0.958465</td>\n      <td>6.8</td>\n      <td>481.0</td>\n      <td>102.2</td>\n      <td>0.0</td>\n      <td>0.011525</td>\n      <td>0.815254</td>\n      <td>0.173220</td>\n      <td>0.0</td>\n      <td>NaN</td>\n      <td>NaN</td>\n      <td>3.582167e-01</td>\n    </tr>\n    <tr>\n      <th>5</th>\n      <td>TPRVTGGGAM</td>\n      <td>True</td>\n      <td>2.0</td>\n      <td>0.600249</td>\n      <td>6.8</td>\n      <td>481.0</td>\n      <td>102.2</td>\n      <td>0.0</td>\n      <td>0.011525</td>\n      <td>0.815254</td>\n      <td>0.173220</td>\n      <td>0.0</td>\n      <td>0.497105</td>\n      <td>0.446044</td>\n      <td>4.440892e-17</td>\n    </tr>\n  </tbody>\n</table>\n</div>"
     },
     "execution_count": 41,
     "metadata": {},
     "output_type": "execute_result"
    }
   ],
   "source": [
    "# mean values per epitope\n",
    "df.groupby(['epitope', 'drop_train_nan']).mean().reset_index()"
   ],
   "metadata": {
    "collapsed": false
   }
  },
  {
   "cell_type": "code",
   "execution_count": 42,
   "outputs": [
    {
     "data": {
      "text/plain": "      epitope  drop_train_nan  seed       auc  alpha_only_count_pos  \\\n0  ELAGIGILTV           False   2.0  0.905051                   0.6   \n2   NLVPMVATV           False   2.0  0.632119                 351.2   \n4  TPRVTGGGAM           False   2.0  0.958465                   6.8   \n\n   beta_only_count_pos  both_count_pos  non_count_pos    a_frac    b_frac  \\\n0               1003.6           195.8            0.0  0.000500  0.836333   \n2                764.4            84.4            0.0  0.292667  0.637000   \n4                481.0           102.2            0.0  0.011525  0.815254   \n\n   both_frac  non_frac  auc_alpha  auc_beta  improvement_hue  auc_improvement  \n0   0.163167       0.0        NaN       NaN         0.327541         0.327541  \n2   0.070333       0.0        NaN       NaN         0.104525         0.104525  \n4   0.173220       0.0        NaN       NaN         0.358217         0.358217  ",
      "text/html": "<div>\n<style scoped>\n    .dataframe tbody tr th:only-of-type {\n        vertical-align: middle;\n    }\n\n    .dataframe tbody tr th {\n        vertical-align: top;\n    }\n\n    .dataframe thead th {\n        text-align: right;\n    }\n</style>\n<table border=\"1\" class=\"dataframe\">\n  <thead>\n    <tr style=\"text-align: right;\">\n      <th></th>\n      <th>epitope</th>\n      <th>drop_train_nan</th>\n      <th>seed</th>\n      <th>auc</th>\n      <th>alpha_only_count_pos</th>\n      <th>beta_only_count_pos</th>\n      <th>both_count_pos</th>\n      <th>non_count_pos</th>\n      <th>a_frac</th>\n      <th>b_frac</th>\n      <th>both_frac</th>\n      <th>non_frac</th>\n      <th>auc_alpha</th>\n      <th>auc_beta</th>\n      <th>improvement_hue</th>\n      <th>auc_improvement</th>\n    </tr>\n  </thead>\n  <tbody>\n    <tr>\n      <th>0</th>\n      <td>ELAGIGILTV</td>\n      <td>False</td>\n      <td>2.0</td>\n      <td>0.905051</td>\n      <td>0.6</td>\n      <td>1003.6</td>\n      <td>195.8</td>\n      <td>0.0</td>\n      <td>0.000500</td>\n      <td>0.836333</td>\n      <td>0.163167</td>\n      <td>0.0</td>\n      <td>NaN</td>\n      <td>NaN</td>\n      <td>0.327541</td>\n      <td>0.327541</td>\n    </tr>\n    <tr>\n      <th>2</th>\n      <td>NLVPMVATV</td>\n      <td>False</td>\n      <td>2.0</td>\n      <td>0.632119</td>\n      <td>351.2</td>\n      <td>764.4</td>\n      <td>84.4</td>\n      <td>0.0</td>\n      <td>0.292667</td>\n      <td>0.637000</td>\n      <td>0.070333</td>\n      <td>0.0</td>\n      <td>NaN</td>\n      <td>NaN</td>\n      <td>0.104525</td>\n      <td>0.104525</td>\n    </tr>\n    <tr>\n      <th>4</th>\n      <td>TPRVTGGGAM</td>\n      <td>False</td>\n      <td>2.0</td>\n      <td>0.958465</td>\n      <td>6.8</td>\n      <td>481.0</td>\n      <td>102.2</td>\n      <td>0.0</td>\n      <td>0.011525</td>\n      <td>0.815254</td>\n      <td>0.173220</td>\n      <td>0.0</td>\n      <td>NaN</td>\n      <td>NaN</td>\n      <td>0.358217</td>\n      <td>0.358217</td>\n    </tr>\n  </tbody>\n</table>\n</div>"
     },
     "execution_count": 42,
     "metadata": {},
     "output_type": "execute_result"
    }
   ],
   "source": [
    "df_rf = df\n",
    "# Create a table with the means\n",
    "df_rf_means = df_rf.groupby(['epitope', 'drop_train_nan']).mean().reset_index()\n",
    "# create a dataframe containing the improvements in auc (which is the drop_train_nan=False - drop_train_nan=True)\n",
    "df_rf_improvements = df_rf_means[df_rf_means.drop_train_nan == False].copy()\n",
    "df_rf_improvements['auc_improvement'] = df_rf_improvements['auc'] - df_rf_means[df_rf_means.drop_train_nan == True][\n",
    "    'auc'].values\n",
    "df_rf_improvements"
   ],
   "metadata": {
    "collapsed": false
   }
  },
  {
   "cell_type": "code",
   "execution_count": 45,
   "outputs": [
    {
     "name": "stdout",
     "output_type": "stream",
     "text": [
      "\\begin{table}[]\n",
      "\\centering\n",
      "\\begin{tabular}{|l|l|l|l|l|}\n",
      "\\hline\n",
      "\\textbf{Epitope} & \\textbf{Alpha only} & \\textbf{Beta only} & \\textbf{Both} & \\textbf{Total} \\\\ \\hline\n",
      "ELAGIGILTV & 0.6 (0%) & 1003.6 (84%) & 195.8 (16%) & 1200.0 \\\\ \\hline\n",
      "NLVPMVATV & 351.2 (29%) & 764.4 (64%) & 84.4 (7%) & 1200.0 \\\\ \\hline\n",
      "TPRVTGGGAM & 6.8 (1%) & 481.0 (82%) & 102.2 (17%) & 590.0 \\\\ \\hline\n",
      "\\end{tabular}\n",
      "\\caption{Distribution of missing data in the different selected epitopes.}\n",
      "\\label{table:diff_epitope}\n",
      "\\end{table}\n"
     ]
    }
   ],
   "source": [
    "# based on df_rf_improvement, create a latex table\n",
    "table = \"\\\\begin{table}[]\\n\\\\centering\\n\\\\begin{tabular}{|l|l|l|l|l|}\\n\\\\hline\\n\\\\textbf{Epitope} & \\\\textbf{Alpha only} & \\\\textbf{Beta only} & \\\\textbf{Both} & \\\\textbf{Total} \\\\\\\\ \\\\hline\\n\"\n",
    "for index, row in df_rf_improvements.iterrows():\n",
    "    table += f\"{row['epitope']} & {row['alpha_only_count_pos']} ({row['a_frac']:.0%}) & {row['beta_only_count_pos']} ({row['b_frac']:.0%}) & {row['both_count_pos']} ({row['both_frac']:.0%}) & {row['alpha_only_count_pos'] + row['beta_only_count_pos'] + row['both_count_pos']} \\\\\\\\ \\\\hline\\n\"\n",
    "table += \"\\\\end{tabular}\\n\\\\caption{Distribution of missing data in the different selected epitopes.}\\n\\\\label{table:diff_epitope}\\n\\\\end{table}\"\n",
    "print(table)"
   ],
   "metadata": {
    "collapsed": false
   }
  },
  {
   "cell_type": "code",
   "execution_count": 29,
   "outputs": [
    {
     "data": {
      "text/plain": "<Figure size 432x288 with 1 Axes>",
      "image/png": "[encoded data removed]"
     },
     "metadata": {},
     "output_type": "display_data"
    },
    {
     "data": {
      "text/plain": "<Figure size 432x288 with 0 Axes>"
     },
     "metadata": {},
     "output_type": "display_data"
    }
   ],
   "source": [
    "\n",
    "from matplotlib.ticker import PercentFormatter\n",
    "# plot the improvements\n",
    "import seaborn as sns\n",
    "import matplotlib.pyplot as plt\n",
    "from util import wrap_labels\n",
    "\n",
    "# title = \"RandomForest with different epitopes\"\n",
    "#\n",
    "# output = \"graphs/rf-different-epitopes-improvements.png\"\n",
    "for x in ['auc_improvement']:\n",
    "    plot = sns.barplot(data=df_rf_improvements, x=x, y=\"auc_improvement\")\n",
    "    # rotate xticklabels 90 degrees\n",
    "    plt.xticks(rotation=0)\n",
    "    # wrap the xticklabels\n",
    "    # make percentages from xticks\n",
    "    # plt.gca().yaxis.set_major_formatter(PercentFormatter(1))\n",
    "    # change the x ticks to the epitope names with their original auc (drop train nan = True) between brackets\n",
    "    plt.xticks(range(len(df_rf_improvements)),\n",
    "               [f\"{epitope} (auc={auc:.0%}, paired={both:.0%}, beta={beta:.0%})\" for epitope, auc, both, beta in\n",
    "                zip(df_rf_improvements['epitope'], df_rf_improvements['auc'],\n",
    "                    df_rf_improvements['both_frac'],\n",
    "                    df_rf_improvements['b_frac'])])\n",
    "\n",
    "    wrap_labels(plot, 11)\n",
    "    # save the plot\n",
    "    plt.savefig(\"graphs/diff-epi-chains.png\", bbox_inches='tight')\n",
    "    plt.show()\n",
    "    plt.clf()"
   ],
   "metadata": {
    "collapsed": false
   }
  },
  {
   "cell_type": "code",
   "execution_count": null,
   "outputs": [],
   "source": [],
   "metadata": {
    "collapsed": false
   }
  }
 ],
 "metadata": {
  "kernelspec": {
   "display_name": "Python 3",
   "language": "python",
   "name": "python3"
  },
  "language_info": {
   "codemirror_mode": {
    "name": "ipython",
    "version": 2
   },
   "file_extension": ".py",
   "mimetype": "text/x-python",
   "name": "python",
   "nbconvert_exporter": "python",
   "pygments_lexer": "ipython2",
   "version": "2.7.6"
  }
 },
 "nbformat": 4,
 "nbformat_minor": 0
}
