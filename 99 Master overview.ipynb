{
 "cells": [
  {
   "cell_type": "markdown",
   "source": [
    "# Master overview\n",
    "This master overview contains all graphs used in the final thesis, to make sure everything was trained and tested on the same data."
   ],
   "metadata": {
    "collapsed": false
   }
  },
  {
   "cell_type": "code",
   "execution_count": 1,
   "outputs": [],
   "source": [
    "# utils\n",
    "from util import evaluate_no_cv, calculate_auc_and_plot, get_epitope_df, get_features, fix_test, \\\n",
    "    evaluate_seperate_chains, get_columns_starting_with, get_counts, plot_scores\n",
    "\n",
    "# distance measures\n",
    "from util import ProximityForestClassifier, calculate_tcr_dist2, calculate_tcr_dist2_cached, calculate_tcr_dist_multiple_chains, calculate_tcr_dist, multi_dist, levenstein_distance, multi_lev, calculate_approx_distance\n",
    "\n",
    "# sklearn\n",
    "from sklearn.model_selection import train_test_split\n",
    "from sklearn import impute\n",
    "from sklearn.experimental import enable_iterative_imputer\n",
    "from sklearn.pipeline import Pipeline\n",
    "\n",
    "# own models\n",
    "from CustomForest import RandomForest as CustomForest\n",
    "from util import ProximityForestClassifier, KNNString\n",
    "\n",
    "# other\n",
    "import numpy as np\n",
    "import pandas as pd\n",
    "from datetime import datetime\n",
    "import os\n",
    "\n",
    "# models\n",
    "from xgboost import XGBClassifier\n",
    "from sklearn.ensemble import HistGradientBoostingClassifier, RandomForestClassifier\n",
    "from lightgbm import LGBMClassifier\n",
    "from sklearn.neighbors import KNeighborsClassifier\n",
    "\n",
    "# warnings\n",
    "import warnings\n",
    "from pandas.errors import SettingWithCopyWarning\n",
    "\n",
    "warnings.filterwarnings(\"ignore\",\n",
    "                        category=UserWarning)  # hide: UserWarning: X has feature names, but RandomForestClassifier was fitted without feature names\n",
    "warnings.filterwarnings(\"ignore\", category=FutureWarning)\n",
    "warnings.filterwarnings(\"ignore\", category=SettingWithCopyWarning)"
   ],
   "metadata": {
    "collapsed": false
   }
  },
  {
   "cell_type": "code",
   "execution_count": 2,
   "outputs": [],
   "source": [
    "models_to_evaluate = []"
   ],
   "metadata": {
    "collapsed": false
   }
  },
  {
   "cell_type": "code",
   "execution_count": 3,
   "outputs": [],
   "source": [
    "# train/test data\n",
    "folds = 5\n",
    "epitope = \"GILGFVFTL\"\n",
    "species = \"HomoSapiens\"\n",
    "descr = \"distance-models-cdr-tcr-dist2\"\n",
    "\n",
    "dataset_size = 50 # typically 50, 100, 200, 500, 1000, 2000, 5000 or None (None = all data)\n",
    "\n",
    "\n",
    "data_per_fold = []\n",
    "df_size = 0\n",
    "\n",
    "def update_data_per_fold(dataset_size, epitope_=None):\n",
    "    global data_per_fold, df_size, epitope, species, folds\n",
    "\n",
    "    epitope = epitope_ if epitope_ is not None else epitope\n",
    "\n",
    "    df = get_epitope_df(epitope, species=species)\n",
    "\n",
    "    # for fixed test size (during the different size runs when sampling a few instances)\n",
    "    df, test = train_test_split(df, test_size=0.2, random_state=0)\n",
    "    test = test.sample(400, random_state=0)\n",
    "    # test.dropna(inplace=True)\n",
    "    # split test df into folds\n",
    "    # test_folds = np.array_split(test, folds)\n",
    "    # test = test.sample(100, random_state=0)\n",
    "\n",
    "\n",
    "    df = df.sample(dataset_size, random_state=0) if dataset_size is not None else df\n",
    "    df_size = len(df)\n",
    "\n",
    "    data_per_fold = []\n",
    "    for seed in range(folds):\n",
    "        fold_data = {\"seed\": seed,\n",
    "                     \"epitope\": epitope,\n",
    "                     \"species\": species,\n",
    "                     \"df_size\": df_size,}\n",
    "\n",
    "        train_with_nan, test_with_nan = train_test_split(df, test_size=0.2, random_state=seed)\n",
    "\n",
    "        # # for fixed test size (during the different size runs)\n",
    "        # test_with_nan = test_folds[seed] # actually no nan, but no problem\n",
    "        test_with_nan = test # same test set for all folds\n",
    "\n",
    "\n",
    "        test = test_with_nan.dropna()\n",
    "\n",
    "        x_missing = train_with_nan.isna().any(axis=1)\n",
    "\n",
    "        # with nan in train set\n",
    "        x = get_features(train_with_nan)\n",
    "        y = train_with_nan['reaction']\n",
    "\n",
    "        # print the name of all columns in x that contain nan\n",
    "\n",
    "\n",
    "\n",
    "        x_missing_test = test_with_nan.isna().any(axis=1)\n",
    "        x_test = get_features(test, test=True)\n",
    "        x_test = fix_test(x_test, x.columns)\n",
    "        x_test_missing = x_test.isna().any(axis=1)\n",
    "\n",
    "        y_test = test['reaction']\n",
    "\n",
    "        alpha_only_count_pos, beta_only_count_pos, both_count_pos, non_count_pos = get_counts(train_with_nan)\n",
    "\n",
    "        assert len(x) == len(x_missing) == len(y)\n",
    "        assert len(x_test) == len(x_test_missing) == len(y_test)\n",
    "\n",
    "        fold_data[\"nan\"] = {\"x\": x, \"y\": y, \"x_test\": x_test, \"y_test\": y_test, 'x_missing': x_missing,\n",
    "                            'x_missing_test': x_missing_test, 'x_original': train_with_nan,\n",
    "                            'x_test_original': test,\n",
    "                            \"train_alpha_only\": alpha_only_count_pos, \"train_beta_only\": beta_only_count_pos,\n",
    "                            \"train_both\": both_count_pos, \"train_non\": non_count_pos, 'train_total': len(x),\n",
    "                            'test_total': len(x_test)}\n",
    "\n",
    "        # without nan in train set\n",
    "        train_without_nan = train_with_nan.dropna()\n",
    "        x = get_features(train_without_nan)\n",
    "        y = train_without_nan['reaction']\n",
    "\n",
    "        x_test = get_features(test, test=True)\n",
    "        x_test = fix_test(x_test, x.columns)\n",
    "        y_test = test['reaction']\n",
    "\n",
    "        assert len(x) == len(y)\n",
    "        assert len(x_test) == len(y_test)\n",
    "\n",
    "        fold_data[\"no_nan\"] = {\"x\": x, \"y\": y, \"x_test\": x_test, \"y_test\": y_test, 'train_total': len(x),\n",
    "                               'test_total': len(x_test), 'train_both': len(train_without_nan), 'train_non': 0, 'x_original': train_without_nan, 'x_test_original': test,\n",
    "                               'train_alpha_only': 0, 'train_beta_only': 0}\n",
    "\n",
    "        data_per_fold.append(fold_data)\n",
    "\n",
    "\n",
    "    # print train and test size for seed 0 (nan and no_nan)\n",
    "    nan_data = data_per_fold[0][\"nan\"]\n",
    "    no_nan_data = data_per_fold[0][\"no_nan\"]\n",
    "    print(f\"Nan: train: {len(nan_data['x'])}, test: {len(nan_data['x_test'])}\")\n",
    "    print(f\"No Nan: train: {len(no_nan_data['x'])}, test: {len(no_nan_data['x_test'])}\")"
   ],
   "metadata": {
    "collapsed": false
   }
  },
  {
   "cell_type": "code",
   "execution_count": 4,
   "outputs": [],
   "source": [
    "def evaluate_model(model_description):\n",
    "    \"\"\"\n",
    "    model description is a dict with the following keys:\n",
    "    - name*: name of the model\n",
    "    - model*: the model\n",
    "    - imputer: the imputer to use\n",
    "    - chain: 'both', 'alpha', 'beta' or 'seperate'. In cas of 'seperate', model_alpha and model_beta must be defined instead of model\n",
    "    - drop_train_na: if True, all rows with nan in the train set are dropped\n",
    "    - missing_indicator: if True, a missing indicator is added as feature\n",
    "    - columns_to_use: list of columns to use (CDR, V, J)\n",
    "    - extract_features: if False, the original columns are used and no features are extracted\n",
    "    \"\"\"\n",
    "    global data_per_fold\n",
    "\n",
    "    assert \"name\" in model_description\n",
    "    assert \"model\" in model_description\n",
    "\n",
    "    scores = pd.DataFrame()\n",
    "\n",
    "    num_folds = len(data_per_fold)\n",
    "    for i in range(num_folds):\n",
    "\n",
    "        model_train_nan = not model_description.get(\"drop_train_na\", False)\n",
    "        data_name = \"nan\" if model_train_nan else \"no_nan\"\n",
    "\n",
    "        chain = model_description.get(\"chain\", \"both\")\n",
    "        assert chain in [\"both\", \"alpha\", \"beta\", \"seperate\"]\n",
    "\n",
    "        # get the precomputed dataset for this fold (either the version with nan or without nan\n",
    "        fold_data = data_per_fold[i]\n",
    "        fold_dataset = fold_data[data_name]\n",
    "        x = fold_dataset[\"x\"].copy()\n",
    "        y = fold_dataset[\"y\"].copy()\n",
    "        x_test = fold_dataset[\"x_test\"].copy()\n",
    "        y_test = fold_dataset[\"y_test\"].copy()\n",
    "\n",
    "        columns_to_use = model_description.get(\"columns_to_use\", None)\n",
    "\n",
    "        extract_features = model_description.get(\"extract_features\", True)\n",
    "\n",
    "        # set the columns_to_use if only specific gene features are used\n",
    "        gene_features = model_description.get(\"gene_features\", None)\n",
    "        if gene_features is not None:\n",
    "            assert gene_features in [\"FV\", \"F\", \"V\", \"F+V\", \"FV+F+V\"] #, \"CDR_only\"]\n",
    "\n",
    "            column_map = {'F': ['V_family', 'J_family'],\n",
    "                          'V': ['V_version', 'J_version'],\n",
    "                          'FV': ['V', 'J']}\n",
    "            column_map['F+V'] = column_map['F'] + column_map['V']\n",
    "            column_map['FV+F+V'] = column_map['FV'] + column_map['F'] + column_map['V']\n",
    "            # add CDR3 to all\n",
    "            for key in column_map:\n",
    "                column_map[key].append('CDR3')\n",
    "\n",
    "            columns_to_use = column_map[gene_features]\n",
    "\n",
    "\n",
    "        # if there needs to be other columns or no features need to be extracted, the pre-computed features won't work\n",
    "        if columns_to_use is None or not extract_features:\n",
    "            if columns_to_use is None:\n",
    "                columns_to_use = [\"CDR3\", \"V\", \"J\"]\n",
    "\n",
    "            # recreate train data\n",
    "            x_original = fold_dataset[\"x_original\"]\n",
    "            x_test_original = fold_dataset[\"x_test_original\"]\n",
    "\n",
    "            x = get_features(x_original, columns=columns_to_use, extract_features=extract_features)\n",
    "\n",
    "            x_test = get_features(x_test_original, columns=columns_to_use, test=True, extract_features=extract_features)\n",
    "            x_test = fix_test(x_test, x.columns)\n",
    "            x_test.dropna(inplace=True)\n",
    "\n",
    "\n",
    "        # add missing indicator if needed\n",
    "        missing_indicator = model_description.get(\"missing_indicator\", False)\n",
    "        if missing_indicator:\n",
    "            x_missing = fold_dataset[\"x_missing\"]\n",
    "            x_missing_test = fold_dataset[\"x_missing_test\"]\n",
    "            x[\"missing\"] = x_missing\n",
    "            x_test[\"missing\"] = x_missing_test\n",
    "\n",
    "        # get only alpha or beta chain if needed\n",
    "        if chain == \"alpha\" or chain == \"beta\":\n",
    "            x = get_columns_starting_with(x, f'{chain}_')\n",
    "            x_test = get_columns_starting_with(x_test, f'{chain}_')\n",
    "\n",
    "        model_imputer = model_description.get(\"imputer\", None)\n",
    "\n",
    "        separate_chains = chain == \"seperate\"\n",
    "\n",
    "        try:\n",
    "            if separate_chains:\n",
    "                model_alpha = model_description[\"model_alpha\"]\n",
    "                model_beta = model_description[\"model_beta\"]\n",
    "                auc = evaluate_seperate_chains(model_alpha, model_beta, x, y, x_test, y_test, model_imputer)\n",
    "            else:\n",
    "                model = model_description[\"model\"]\n",
    "                if model_imputer is not None:\n",
    "                    model = Pipeline([('imputer', model_imputer), ('model', model)])\n",
    "                    model_imputer = None\n",
    "                auc = evaluate_no_cv(model, x, y, x_test, y_test, model_imputer)\n",
    "\n",
    "            # add the scores to the dataframe\n",
    "            index = len(scores)\n",
    "            scores.loc[index, 'model'] = model_description['name']\n",
    "            scores.loc[index, 'auc'] = auc\n",
    "            scores.loc[index, 'model_train_nan'] = model_train_nan\n",
    "            scores.loc[index, 'imputer'] = model_imputer.__class__.__name__ if model_imputer is not None else None\n",
    "            scores.loc[index, 'chain'] = chain\n",
    "            scores.loc[index, 'group'] = model_description['group']\n",
    "\n",
    "            scores.loc[index, 'seed'] = fold_data[\"seed\"]\n",
    "            scores.loc[index, 'epitope'] = fold_data[\"epitope\"]\n",
    "            scores.loc[index, 'species'] = fold_data[\"species\"]\n",
    "\n",
    "            scores.loc[index, 'train_alpha_only'] = fold_dataset[\"train_alpha_only\"]\n",
    "            scores.loc[index, 'train_beta_only'] = fold_dataset[\"train_beta_only\"]\n",
    "            scores.loc[index, 'train_both'] = fold_dataset[\"train_both\"]\n",
    "            scores.loc[index, 'train_non'] = fold_dataset[\"train_non\"]\n",
    "            scores.loc[index, 'train_total'] = fold_dataset[\"train_total\"]\n",
    "            scores.loc[index, 'test_total'] = fold_dataset[\"test_total\"]\n",
    "            scores.loc[index, 'df_size'] = fold_data[\"df_size\"]\n",
    "\n",
    "            scores.loc[index, 'gene_features'] = gene_features\n",
    "            scores.loc[index, 'missing_indicator'] = missing_indicator\n",
    "\n",
    "\n",
    "            # print the row\n",
    "            # print(scores.loc[index])\n",
    "            # print(f\"AUC(m={model_description['name']}, s={seed}, train_na={int(model_train_nan)}): {auc}\")\n",
    "            print(auc)\n",
    "\n",
    "        except Exception as e:\n",
    "            print(f\"Error: {e}\")\n",
    "            raise e # for debugging\n",
    "            continue\n",
    "\n",
    "    return scores"
   ],
   "metadata": {
    "collapsed": false
   }
  },
  {
   "cell_type": "code",
   "execution_count": 5,
   "outputs": [],
   "source": [
    "def evaluate_model_list(models_to_evaluate):\n",
    "    assert len(models_to_evaluate) > 0, \"No models to evaluate\"\n",
    "\n",
    "    start_time = datetime.now()\n",
    "    timestamp = start_time.strftime(\"%Y%m%d-%H%M%S\")\n",
    "    # create a directory in outputs to save the files to\n",
    "    global epitope, df_size, descr\n",
    "    output_dir = f\"outputs/model-evaluations-{timestamp}-{epitope}-{df_size}-{descr}\"\n",
    "    os.makedirs(output_dir, exist_ok=True)\n",
    "\n",
    "    output_log = f\"{output_dir}/log.txt\"\n",
    "    with open(output_log, 'w') as f:\n",
    "        f.write(f\"Started at {start_time}\\n\\n\")\n",
    "        f.write(f\"Models to evaluate: {len(models_to_evaluate)}\\n\\n\")\n",
    "        for i, model in enumerate(models_to_evaluate):\n",
    "            f.write(f\"{i + 1}/{len(models_to_evaluate)}: {model['name']}\\n\")\n",
    "            f.write(f\"{model}\\n\\n\")\n",
    "\n",
    "\n",
    "    scores = pd.DataFrame()\n",
    "    for i, model in enumerate(models_to_evaluate):\n",
    "        print(f\"\\nEvaluating model {i + 1}/{len(models_to_evaluate)}\")\n",
    "        print(model)\n",
    "        model_scores = evaluate_model(model)\n",
    "\n",
    "        model_scores['test_nr'] = i + 1\n",
    "        model_scores.to_csv(f\"{output_dir}/{i + 1}-{model['name']}.csv\")\n",
    "\n",
    "        scores = pd.concat([scores, model_scores])\n",
    "    # write to csv\n",
    "    end_time = datetime.now()\n",
    "\n",
    "    time_taken = end_time - start_time\n",
    "    timestamp = end_time.strftime(\"%Y%m%d-%H%M%S\")\n",
    "    scores.to_csv(f\"{output_dir}/scores-{timestamp}.csv\")\n",
    "\n",
    "    plot_scores(scores, \"All models\", output_file=f\"{output_dir}/all-models.png\")\n",
    "\n",
    "    # create a directory 'groups'\n",
    "    groups_dir = f\"{output_dir}/groups\"\n",
    "    os.makedirs(groups_dir, exist_ok=True)\n",
    "    # for each group in the scores, save a csv with the scores for that group\n",
    "    for group in scores['group'].unique():\n",
    "        group_scores = scores[scores['group'] == group]\n",
    "\n",
    "        # always add the baseline group\n",
    "        if group != 'baseline':\n",
    "            baseline_scores = scores[scores['group'] == 'baseline']\n",
    "            group_scores = pd.concat([baseline_scores, group_scores])\n",
    "\n",
    "        group_scores.to_csv(f\"{groups_dir}/{group}.csv\")\n",
    "        plot_scores(group_scores, group, output_file=f\"{groups_dir}/{group}.png\")\n",
    "\n",
    "\n",
    "\n",
    "    print(f'Finished evaluating {len(models_to_evaluate)} models at {timestamp} in {time_taken} seconds')\n",
    "\n",
    "    with open(output_log, 'a') as f:\n",
    "        f.write(f\"Finished at {end_time}\\n\")\n",
    "        f.write(f\"Time taken: {time_taken}\\n\")\n",
    "        f.write(f\"Saved scores to {output_dir}\\n\")\n",
    "        f.write(f\"Saved all scores to {output_dir}/scores-{timestamp}.csv\\n\")\n",
    "        f.write(f\"Saved group scores to {groups_dir}\\n\")\n",
    "        f.write(f\"Saved all group scores to {groups_dir}/all-models.png\\n\")\n",
    "        f.write(f\"Saved all models to {output_dir}/all-models.png\\n\")\n",
    "        f.write(f\"Saved log to {output_log}\\n\")\n",
    "\n",
    "    return scores"
   ],
   "metadata": {
    "collapsed": false
   }
  },
  {
   "cell_type": "code",
   "execution_count": 6,
   "outputs": [],
   "source": [
    "# imputers\n",
    "zero_imputer = impute.SimpleImputer(missing_values=np.nan, strategy='constant', fill_value=0)\n",
    "mean_imputer = impute.SimpleImputer(missing_values=np.nan, strategy='mean')\n",
    "most_freq_imputer = impute.SimpleImputer(missing_values=np.nan, strategy='most_frequent')\n",
    "median_imputer = impute.SimpleImputer(missing_values=np.nan, strategy='median')"
   ],
   "metadata": {
    "collapsed": false
   }
  },
  {
   "cell_type": "code",
   "execution_count": 7,
   "outputs": [
    {
     "name": "stdout",
     "output_type": "stream",
     "text": [
      "Couldn't find program: 'echo'\n"
     ]
    }
   ],
   "source": [
    "%%script echo skipping\n",
    "\n",
    "# baseline (random forest, nans dropped in train)\n",
    "baseline = {\n",
    "    'name': 'Random Forest (NaNs dropped in train)',\n",
    "    'model': RandomForestClassifier(random_state=0),\n",
    "    'drop_train_na': True,\n",
    "    'group': 'baseline',\n",
    "}\n",
    "models_to_evaluate.append(baseline)"
   ],
   "metadata": {
    "collapsed": false
   }
  },
  {
   "cell_type": "code",
   "execution_count": 8,
   "outputs": [
    {
     "name": "stdout",
     "output_type": "stream",
     "text": [
      "Couldn't find program: 'echo'\n"
     ]
    }
   ],
   "source": [
    "%%script echo skipping\n",
    "\n",
    "# random forest imputations\n",
    "rf_zero_imputed = {\n",
    "    'name': 'Random Forest (Zero imputed)',\n",
    "    'model': RandomForestClassifier(random_state=0),\n",
    "    'imputer': zero_imputer,\n",
    "    'group': 'rf_imputations'\n",
    "}\n",
    "\n",
    "rf_mean_imputed = {\n",
    "    'name': 'Random Forest (Mean imputed)',\n",
    "    'model': RandomForestClassifier(random_state=0),\n",
    "    'imputer': mean_imputer,\n",
    "    'group': 'rf_imputations'\n",
    "}\n",
    "\n",
    "rf_most_freq_imputed = {\n",
    "    'name': 'Random Forest (Most frequent imputed)',\n",
    "    'model': RandomForestClassifier(random_state=0),\n",
    "    'imputer': most_freq_imputer,\n",
    "    'group': 'rf_imputations'\n",
    "}\n",
    "\n",
    "rf_median_imputed = {\n",
    "    'name': 'Random Forest (Median imputed)',\n",
    "    'model': RandomForestClassifier(random_state=0),\n",
    "    'imputer': median_imputer,\n",
    "    'group': 'rf_imputations'\n",
    "}\n",
    "\n",
    "rf_imputation_models = [rf_zero_imputed, rf_mean_imputed, rf_most_freq_imputed, rf_median_imputed]\n",
    "models_to_evaluate.extend(rf_imputation_models)"
   ],
   "metadata": {
    "collapsed": false
   }
  },
  {
   "cell_type": "code",
   "execution_count": 9,
   "outputs": [
    {
     "name": "stdout",
     "output_type": "stream",
     "text": [
      "Couldn't find program: 'echo'\n"
     ]
    }
   ],
   "source": [
    "%%script echo skipping\n",
    "\n",
    "# knn imputers\n",
    "rf_knn_imputed_1 = {\n",
    "    'name': 'Random Forest (KNN imputed, k=1)',\n",
    "    'model': RandomForestClassifier(random_state=0),\n",
    "    'imputer': impute.KNNImputer(n_neighbors=1),\n",
    "    'group': 'rf_knn_imputations'\n",
    "}\n",
    "\n",
    "rf_knn_imputed_5 = {\n",
    "    'name': 'Random Forest (KNN imputed, k=5)',\n",
    "    'model': RandomForestClassifier(random_state=0),\n",
    "    'imputer': impute.KNNImputer(n_neighbors=5),\n",
    "    'group': 'rf_knn_imputations'\n",
    "}\n",
    "\n",
    "rf_knn_imputed_15 = {\n",
    "    'name': 'Random Forest (KNN imputed, k=10)',\n",
    "    'model': RandomForestClassifier(random_state=0),\n",
    "    'imputer': impute.KNNImputer(n_neighbors=10),\n",
    "    'group': 'rf_knn_imputations'\n",
    "}\n",
    "\n",
    "rf_knn_imputation_models = [rf_knn_imputed_1, rf_knn_imputed_5, rf_knn_imputed_15]\n",
    "models_to_evaluate.extend(rf_knn_imputation_models)"
   ],
   "metadata": {
    "collapsed": false
   }
  },
  {
   "cell_type": "code",
   "execution_count": 10,
   "outputs": [
    {
     "name": "stdout",
     "output_type": "stream",
     "text": [
      "Couldn't find program: 'echo'\n"
     ]
    }
   ],
   "source": [
    "%%script echo skipping\n",
    "\n",
    "# iterative imputations\n",
    "rf_iterative_imputed_1 = {\n",
    "    'name': 'Random Forest (Iterative imputed, max_iter=1)',\n",
    "    'model': RandomForestClassifier(random_state=0),\n",
    "    'imputer': impute.IterativeImputer(max_iter=1),\n",
    "    'group': 'rf_iterative_imputations'\n",
    "}\n",
    "\n",
    "rf_iterative_imputed_5 = {\n",
    "    'name': 'Random Forest (Iterative imputed, max_iter=5)',\n",
    "    'model': RandomForestClassifier(random_state=0),\n",
    "    'imputer': impute.IterativeImputer(max_iter=5),\n",
    "    'group': 'rf_iterative_imputations'\n",
    "}\n",
    "\n",
    "# rf_iterative_imputed_10 = {\n",
    "#     'name': 'Random Forest (Iterative imputed, max_iter=10)',\n",
    "#     'model': RandomForestClassifier(random_state=0),\n",
    "#     'imputer': impute.IterativeImputer(max_iter=10),\n",
    "#     'group': 'rf_iterative_imputations'\n",
    "# }\n",
    "#\n",
    "# rf_iterative_imputed_15 = {\n",
    "#     'name': 'Random Forest (Iterative imputed, max_iter=15)',\n",
    "#     'model': RandomForestClassifier(random_state=0),\n",
    "#     'imputer': impute.IterativeImputer(max_iter=15),\n",
    "#     'group': 'rf_iterative_imputations'\n",
    "# }\n",
    "\n",
    "# rf_iterative_imputation_models = [rf_iterative_imputed_1, rf_iterative_imputed_5, rf_iterative_imputed_10, rf_iterative_imputed_15]\n",
    "rf_iterative_imputation_models = [rf_iterative_imputed_1, rf_iterative_imputed_5]\n",
    "models_to_evaluate.extend(rf_iterative_imputation_models)"
   ],
   "metadata": {
    "collapsed": false
   }
  },
  {
   "cell_type": "code",
   "execution_count": 11,
   "outputs": [
    {
     "name": "stdout",
     "output_type": "stream",
     "text": [
      "Couldn't find program: 'echo'\n"
     ]
    }
   ],
   "source": [
    "%%script echo skipping\n",
    "\n",
    "# knn classifier\n",
    "knn_classifier_mean_imputed = {\n",
    "    'name': 'KNN Classifier (mean imputed)',\n",
    "    'model': KNeighborsClassifier(),\n",
    "    'group': 'knn',\n",
    "    'imputer': mean_imputer\n",
    "}\n",
    "\n",
    "knn_classifier_knn_imputed = {\n",
    "    'name': 'KNN Classifier (KNN imputed)',\n",
    "    'model': KNeighborsClassifier(),\n",
    "    'group': 'knn',\n",
    "    'imputer': impute.KNNImputer()\n",
    "}\n",
    "\n",
    "knn_models = [knn_classifier_mean_imputed, knn_classifier_knn_imputed]\n",
    "models_to_evaluate.extend(knn_models)"
   ],
   "metadata": {
    "collapsed": false
   }
  },
  {
   "cell_type": "code",
   "execution_count": 12,
   "outputs": [
    {
     "name": "stdout",
     "output_type": "stream",
     "text": [
      "Couldn't find program: 'echo'\n"
     ]
    }
   ],
   "source": [
    "%%script echo skipping\n",
    "\n",
    "# missing indicator imputations\n",
    "# same models as above, but with missing indicator\n",
    "rf_imputation_models_with_missing_indicator = []\n",
    "for model in rf_imputation_models:\n",
    "    model_with_missing_indicator = model.copy()\n",
    "    model_with_missing_indicator['name'] += \" (with missing indicator)\"\n",
    "    model_with_missing_indicator['missing_indicator'] = True\n",
    "    model_with_missing_indicator['group'] = 'rf_imputations_with_missing_indicator'\n",
    "    rf_imputation_models_with_missing_indicator.append(model_with_missing_indicator)\n",
    "\n",
    "models_to_evaluate.extend(rf_imputation_models_with_missing_indicator)"
   ],
   "metadata": {
    "collapsed": false
   }
  },
  {
   "cell_type": "code",
   "execution_count": 13,
   "outputs": [
    {
     "name": "stdout",
     "output_type": "stream",
     "text": [
      "Couldn't find program: 'echo'\n"
     ]
    }
   ],
   "source": [
    "%%script echo skipping\n",
    "\n",
    "# gradient boosting classifiers\n",
    "hist_gradient_boosting = {\n",
    "    'name': 'HistGradientBoosting',\n",
    "    'model': HistGradientBoostingClassifier(random_state=0),\n",
    "    'group': 'gradient_boosting'\n",
    "}\n",
    "\n",
    "xgboost = {\n",
    "    'name': 'XGBoost',\n",
    "    'model': XGBClassifier(random_state=0),\n",
    "    'group': 'gradient_boosting'\n",
    "}\n",
    "\n",
    "lightgbm = {\n",
    "    'name': 'LightGBM',\n",
    "    'model': LGBMClassifier(random_state=0),\n",
    "    'group': 'gradient_boosting'\n",
    "}\n",
    "\n",
    "gradient_boosting_models = [hist_gradient_boosting, xgboost, lightgbm]\n",
    "models_to_evaluate.extend(gradient_boosting_models)"
   ],
   "metadata": {
    "collapsed": false
   }
  },
  {
   "cell_type": "code",
   "execution_count": 14,
   "outputs": [
    {
     "name": "stdout",
     "output_type": "stream",
     "text": [
      "Couldn't find program: 'echo'\n"
     ]
    }
   ],
   "source": [
    "%%script echo skipping\n",
    "\n",
    "# gene features\n",
    "features_to_test = [\"FV\", \"F\", \"V\", \"F+V\", \"FV+F+V\"]\n",
    "gene_feature_models = []\n",
    "for features in features_to_test:\n",
    "    model = {\n",
    "        'name': f\"Random Forest ({features})\",\n",
    "        'model': RandomForestClassifier(random_state=0),\n",
    "        'gene_features': features,\n",
    "        'group': 'gene_features',\n",
    "        'imputer': mean_imputer,\n",
    "    }\n",
    "    gene_feature_models.append(model)\n",
    "\n",
    "models_to_evaluate.extend(gene_feature_models)"
   ],
   "metadata": {
    "collapsed": false
   }
  },
  {
   "cell_type": "code",
   "execution_count": 15,
   "outputs": [
    {
     "name": "stdout",
     "output_type": "stream",
     "text": [
      "Couldn't find program: 'echo'\n"
     ]
    }
   ],
   "source": [
    "%%script echo skipping\n",
    "\n",
    "# chain inputs\n",
    "both_chains = {\n",
    "    'name': 'Random Forest (both chains)',\n",
    "    'model': RandomForestClassifier(random_state=0),\n",
    "    'chain': 'both',\n",
    "    'group': 'chain_inputs',\n",
    "    'imputer': mean_imputer,\n",
    "}\n",
    "\n",
    "alpha_chain = {\n",
    "    'name': 'Random Forest (Alpha chain)',\n",
    "    'model': RandomForestClassifier(random_state=0),\n",
    "    'chain': 'alpha',\n",
    "    'group': 'chain_inputs',\n",
    "    'imputer': mean_imputer,\n",
    "}\n",
    "\n",
    "beta_chain = {\n",
    "    'name': 'Random Forest (Beta chain)',\n",
    "    'model': RandomForestClassifier(random_state=0),\n",
    "    'chain': 'beta',\n",
    "    'group': 'chain_inputs',\n",
    "    'imputer': mean_imputer,\n",
    "}\n",
    "\n",
    "seperate_chains = {\n",
    "    'name': 'Random Forest (Seperate chains)',\n",
    "    'model_alpha': RandomForestClassifier(random_state=0),\n",
    "    'model_beta': RandomForestClassifier(random_state=0),\n",
    "    'chain': 'seperate',\n",
    "    'group': 'chain_inputs',\n",
    "    'imputer': mean_imputer,\n",
    "}\n",
    "\n",
    "chain_input_models = [both_chains, alpha_chain, beta_chain, seperate_chains]\n",
    "models_to_evaluate.extend(chain_input_models)"
   ],
   "metadata": {
    "collapsed": false
   }
  },
  {
   "cell_type": "code",
   "execution_count": 16,
   "outputs": [
    {
     "name": "stdout",
     "output_type": "stream",
     "text": [
      "Couldn't find program: 'echo'\n"
     ]
    }
   ],
   "source": [
    "%%script echo skipping\n",
    "\n",
    "chain_input_without_nans = []\n",
    "for model in chain_input_models:\n",
    "    model_without_nans = model.copy()\n",
    "    model_without_nans['name'] += \" (without nans)\"\n",
    "    model_without_nans['drop_train_na'] = True\n",
    "    model_without_nans['imputer'] = None\n",
    "    chain_input_without_nans.append(model_without_nans)\n",
    "models_to_evaluate.extend(chain_input_without_nans)"
   ],
   "metadata": {
    "collapsed": false
   }
  },
  {
   "cell_type": "code",
   "execution_count": 17,
   "outputs": [
    {
     "name": "stdout",
     "output_type": "stream",
     "text": [
      "Couldn't find program: 'echo'\n"
     ]
    }
   ],
   "source": [
    "%%script echo skipping\n",
    "\n",
    "# WeightedRandomForest\n",
    "weighted_random_forest = {\n",
    "    'name': 'RandomForest (own impl., weighted)',\n",
    "    'model': CustomForest(weighted=True), # doesn't support random state\n",
    "    'group': 'weighted_random_forest',\n",
    "}\n",
    "\n",
    "custom_random_forest = {\n",
    "    'name': 'RandomForest (own impl.)',\n",
    "    'model': CustomForest(weighted=False),\n",
    "    'group': 'weighted_random_forest',\n",
    "    'imputer': mean_imputer,\n",
    "}\n",
    "\n",
    "# # to check whether it's the same as non-weighted, which is indeed the case\n",
    "# weighted_random_forest_no_nan = {\n",
    "#     'name': 'RandomForest (own impl., weighted, no nan)',\n",
    "#     'model': CustomForest(weighted=True), # doesn't support random state\n",
    "#     'group': 'weighted_random_forest',\n",
    "#     'drop_train_na': True,\n",
    "# }\n",
    "\n",
    "custom_random_forest_no_nan = {\n",
    "    'name': 'RandomForest (own impl., no nan)',\n",
    "    'model': CustomForest(weighted=False),\n",
    "    'group': 'weighted_random_forest',\n",
    "    'drop_train_na': True,\n",
    "}\n",
    "\n",
    "weighted_random_forest_models = [weighted_random_forest, custom_random_forest, weighted_random_forest_no_nan, custom_random_forest_no_nan]\n",
    "models_to_evaluate.extend(weighted_random_forest_models)"
   ],
   "metadata": {
    "collapsed": false
   }
  },
  {
   "cell_type": "code",
   "execution_count": 18,
   "outputs": [
    {
     "name": "stdout",
     "output_type": "stream",
     "text": [
      "Couldn't find program: 'echo'\n"
     ]
    }
   ],
   "source": [
    "%%script echo skipping\n",
    "\n",
    "rf_cdr_only = {\n",
    "    'name': 'RandomForest (only CDR3)',\n",
    "    'model': RandomForestClassifier(random_state=0),\n",
    "    'group': 'cdr_only',\n",
    "    'columns_to_use': ['CDR3'],\n",
    "    'imputer': mean_imputer,\n",
    "}\n",
    "\n",
    "rf_cdr_only_no_nan = {\n",
    "    'name': 'RandomForest (only CDR3, no nan)',\n",
    "    'model': RandomForestClassifier(random_state=0),\n",
    "    'group': 'cdr_only',\n",
    "    'columns_to_use': ['CDR3'],\n",
    "    'drop_train_na': True,\n",
    "}\n",
    "\n",
    "models_to_evaluate.extend([rf_cdr_only, rf_cdr_only_no_nan])"
   ],
   "metadata": {
    "collapsed": false
   }
  },
  {
   "cell_type": "code",
   "execution_count": 19,
   "outputs": [
    {
     "name": "stdout",
     "output_type": "stream",
     "text": [
      "Couldn't find program: 'echo'\n"
     ]
    }
   ],
   "source": [
    "%%script echo skipping\n",
    "\n",
    "# knn classifier with different distance measures\n",
    "# knn classifier\n",
    "knn_tcr_dist_no_nan = {\n",
    "    'name': 'KNN (tcr_dist, nan_dist=10000, CDR3 only)',\n",
    "    'model':  KNNString(k=5, metric=calculate_tcr_dist_multiple_chains),\n",
    "    'group': 'knn_metrics',\n",
    "    'extract_features': False,\n",
    "    'columns_to_use': ['CDR3'],\n",
    "    'drop_train_na': True,\n",
    "}\n",
    "\n",
    "knn_tcr_dist_0 = {\n",
    "    'name': 'KNN (tcr_dist, nan_dist=0, CDR3 only)',\n",
    "    'model':  KNNString(k=5, metric=calculate_tcr_dist_multiple_chains, metric_kwargs={'nan_distance': 0}),\n",
    "    'group': 'knn_metrics',\n",
    "    'extract_features': False,\n",
    "    'columns_to_use': ['CDR3']\n",
    "}\n",
    "\n",
    "knn_lev_dist_no_nan = {\n",
    "    'name': 'KNN (lev, CDR3 only, no nan)',\n",
    "    'model':  KNNString(k=5, metric=multi_lev),\n",
    "    'group': 'knn_metrics',\n",
    "    'extract_features': False,\n",
    "    'columns_to_use': ['CDR3'],\n",
    "    'drop_train_na': True,\n",
    "}\n",
    "\n",
    "knn_lev_dist_0 = {\n",
    "    'name': 'KNN (multi_tcr_dist, nan_dist=0, CDR3 only)',\n",
    "    'model':  KNNString(k=5, metric=multi_lev, metric_kwargs={'nan_distance': 0}),\n",
    "    'group': 'knn_metrics',\n",
    "    'extract_features': False,\n",
    "    'columns_to_use': ['CDR3']\n",
    "}\n",
    "\n",
    "models_to_evaluate.extend([knn_tcr_dist_no_nan, knn_tcr_dist_0, knn_lev_dist_no_nan, knn_lev_dist_0])"
   ],
   "metadata": {
    "collapsed": false
   }
  },
  {
   "cell_type": "code",
   "execution_count": 20,
   "outputs": [
    {
     "name": "stdout",
     "output_type": "stream",
     "text": [
      "Couldn't find program: 'echo'\n"
     ]
    }
   ],
   "source": [
    "%%script echo skipping\n",
    "\n",
    "proximity_forest_no_nan = {\n",
    "    'name': 'ProximityForest (nan_dist=0, measure=tcr_dist)',\n",
    "    'model': ProximityForestClassifier(reduce_features=False, distance_measure=calculate_tcr_dist_multiple_chains),\n",
    "    'group': 'proximity_forest',\n",
    "    'extract_features': False,\n",
    "    'columns_to_use': ['CDR3'],\n",
    "    'drop_train_na': True,\n",
    "}\n",
    "\n",
    "proximity_forest_models = [proximity_forest_no_nan]\n",
    "\n",
    "models_to_evaluate.extend(proximity_forest_models)"
   ],
   "metadata": {
    "collapsed": false
   }
  },
  {
   "cell_type": "code",
   "execution_count": 36,
   "outputs": [],
   "source": [
    "# %%script echo skipping\n",
    "\n",
    "# More ProximityForest\n",
    "# proximity_forest_nan_150 = {\n",
    "#     'name': 'ProximityForest (nan_dist=150, measure=tcr_dist)',\n",
    "#     'model': ProximityForestClassifier(reduce_features=False, distance_measure=calculate_tcr_dist_multiple_chains,\n",
    "#                                       distance_kwargs={\"nan_distance\": 150}),\n",
    "#     'group': 'proximity_forest',\n",
    "#     'extract_features': False,\n",
    "#     'columns_to_use': ['CDR3'],\n",
    "# }\n",
    "\n",
    "\n",
    "proximity_forest_tcr_dist2 = {\n",
    "    'name': 'ProximityForest (nan_dist=0, measure=tcr_dist2)',\n",
    "    'model': ProximityForestClassifier(reduce_features=False, distance_measure=calculate_tcr_dist2_cached),\n",
    "    'group': 'proximity_forest',\n",
    "    'extract_features': False,\n",
    "    'columns_to_use': ['CDR3', 'V', 'J'],\n",
    "    'drop_train_na': False,\n",
    "}\n",
    "\n",
    "proximity_forest_no_nan_tcr_dist2 = {\n",
    "    'name': 'ProximityForest (no_nan, measure=tcr_dist2)',\n",
    "    'model': ProximityForestClassifier(reduce_features=False, distance_measure=calculate_tcr_dist2_cached),\n",
    "    'group': 'proximity_forest',\n",
    "    'extract_features': False,\n",
    "    'columns_to_use': ['CDR3', 'V', 'J'],\n",
    "    'drop_train_na': True,\n",
    "}\n",
    "\n",
    "# proximity_forest_tcr_dist2_approx = {\n",
    "#     'name': 'ProximityForest (nan_dist, measure=tcr_approx)',\n",
    "#     'model': ProximityForestClassifier(reduce_features=False, distance_measure=calculate_approx_distance, distance_kwargs={'nan_distance': 0}),\n",
    "#     'group': 'proximity_forest',\n",
    "#     'extract_features': False,\n",
    "#     'columns_to_use': ['CDR3', 'V', 'J'],\n",
    "#     'drop_train_na': False,\n",
    "# }\n",
    "\n",
    "# proximity_forest_no_nan_tcr_dist2_approx = {\n",
    "#     'name': 'ProximityForest (no_nan, measure=tcr_approx)',\n",
    "#     'model': ProximityForestClassifier(reduce_features=False, distance_measure=calculate_approx_distance),\n",
    "#     'group': 'proximity_forest',\n",
    "#     'extract_features': False,\n",
    "#     'columns_to_use': ['CDR3', 'V', 'J'],\n",
    "#     'drop_train_na': True,\n",
    "# }\n",
    "\n",
    "# proximity_forest_lev = {\n",
    "#     'name': 'ProximityForest (nan_dist=0, measure=lev)',\n",
    "#     'model': ProximityForestClassifier(reduce_features=False, distance_measure=multi_lev),\n",
    "#     'group': 'proximity_forest',\n",
    "#     'extract_features': False,\n",
    "#     'columns_to_use': ['CDR3', 'V', 'J'],\n",
    "#     'drop_train_na': False,\n",
    "# }\n",
    "#\n",
    "# proximity_forest_no_nan_lev = {\n",
    "#     'name': 'ProximityForest (no_nan, measure=lev)',\n",
    "#     'model': ProximityForestClassifier(reduce_features=False, distance_measure=multi_lev),\n",
    "#     'group': 'proximity_forest',\n",
    "#     'extract_features': False,\n",
    "#     'columns_to_use': ['CDR3', 'V', 'J'],\n",
    "#     'drop_train_na': True,\n",
    "# }\n",
    "\n",
    "# models_to_evaluate.append(proximity_forest_nan_150)\n",
    "models_to_evaluate.append(proximity_forest_tcr_dist2)\n",
    "models_to_evaluate.append(proximity_forest_no_nan_tcr_dist2)\n",
    "# models_to_evaluate.append(proximity_forest_tcr_dist2_approx)\n",
    "# models_to_evaluate.append(proximity_forest_no_nan_tcr_dist2_approx)\n",
    "# models_to_evaluate.append(proximity_forest_lev)\n",
    "# models_to_evaluate.append(proximity_forest_no_nan_lev)"
   ],
   "metadata": {
    "collapsed": false
   }
  },
  {
   "cell_type": "code",
   "execution_count": 37,
   "outputs": [
    {
     "name": "stdout",
     "output_type": "stream",
     "text": [
      "### Dataset size: 50 ###\n"
     ]
    },
    {
     "name": "stderr",
     "output_type": "stream",
     "text": [
      "C:\\Users\\arnod\\PycharmProjects\\thesis\\util\\epitopes.py:6: DtypeWarning: Columns (20,29,30) have mixed types. Specify dtype option on import or set low_memory=False.\n",
      "  df_vdjdb = pd.read_csv('data/vdjdb-2022-03-30/vdjdb_full.txt', sep='\\t')\n"
     ]
    },
    {
     "name": "stdout",
     "output_type": "stream",
     "text": [
      "Number of negative samples changed from 47033 to 44205 (because of overlap with positive samples)\n",
      "Positive samples: alpha only: 2580, beta only: 3056, both: 2194, none: 0\n",
      "Negative samples (will be sampled to select same amount as positive): alpha only: 4499, beta only: 17510, both: 22196, none: 0\n",
      "Nan: train: 40, test: 108\n",
      "No Nan: train: 9, test: 108\n",
      "\n",
      "Evaluating model 1/2\n",
      "{'name': 'ProximityForest (nan_dist=0, measure=tcr_dist2)', 'model': <util.proximityforest.ProximityForestClassifier object at 0x0000026427BCB7C0>, 'group': 'proximity_forest', 'extract_features': False, 'columns_to_use': ['CDR3', 'V', 'J'], 'drop_train_na': False}\n"
     ]
    },
    {
     "name": "stderr",
     "output_type": "stream",
     "text": [
      "Fitting: 100%|██████████| 100/100 [00:08<00:00, 11.22it/s]\n",
      "Predicting: 100%|██████████| 100/100 [00:02<00:00, 39.94it/s]\n"
     ]
    },
    {
     "name": "stdout",
     "output_type": "stream",
     "text": [
      "0.8874137931034483\n"
     ]
    },
    {
     "name": "stderr",
     "output_type": "stream",
     "text": [
      "Fitting: 100%|██████████| 100/100 [00:07<00:00, 13.04it/s]\n",
      "Predicting: 100%|██████████| 100/100 [00:02<00:00, 37.01it/s]\n"
     ]
    },
    {
     "name": "stdout",
     "output_type": "stream",
     "text": [
      "0.8805172413793103\n"
     ]
    },
    {
     "name": "stderr",
     "output_type": "stream",
     "text": [
      "Fitting: 100%|██████████| 100/100 [00:07<00:00, 12.50it/s]\n",
      "Predicting: 100%|██████████| 100/100 [00:01<00:00, 52.91it/s]\n"
     ]
    },
    {
     "name": "stdout",
     "output_type": "stream",
     "text": [
      "0.8820689655172413\n"
     ]
    },
    {
     "name": "stderr",
     "output_type": "stream",
     "text": [
      "Fitting: 100%|██████████| 100/100 [00:07<00:00, 12.60it/s]\n",
      "Predicting: 100%|██████████| 100/100 [00:01<00:00, 53.05it/s]\n"
     ]
    },
    {
     "name": "stdout",
     "output_type": "stream",
     "text": [
      "0.9201724137931035\n"
     ]
    },
    {
     "name": "stderr",
     "output_type": "stream",
     "text": [
      "Fitting: 100%|██████████| 100/100 [00:07<00:00, 12.92it/s]\n",
      "Predicting: 100%|██████████| 100/100 [00:02<00:00, 39.12it/s]\n"
     ]
    },
    {
     "name": "stdout",
     "output_type": "stream",
     "text": [
      "0.8824137931034483\n",
      "\n",
      "Evaluating model 2/2\n",
      "{'name': 'ProximityForest (no_nan, measure=tcr_dist2)', 'model': <util.proximityforest.ProximityForestClassifier object at 0x0000026427BCB4F0>, 'group': 'proximity_forest', 'extract_features': False, 'columns_to_use': ['CDR3', 'V', 'J'], 'drop_train_na': True}\n"
     ]
    },
    {
     "name": "stderr",
     "output_type": "stream",
     "text": [
      "Fitting: 100%|██████████| 100/100 [00:00<00:00, 364.93it/s]\n",
      "Predicting: 100%|██████████| 100/100 [00:02<00:00, 46.40it/s]\n"
     ]
    },
    {
     "name": "stdout",
     "output_type": "stream",
     "text": [
      "0.8763793103448275\n"
     ]
    },
    {
     "name": "stderr",
     "output_type": "stream",
     "text": [
      "Fitting: 100%|██████████| 100/100 [00:00<00:00, 640.90it/s]\n",
      "Predicting: 100%|██████████| 100/100 [00:01<00:00, 55.37it/s]\n"
     ]
    },
    {
     "name": "stdout",
     "output_type": "stream",
     "text": [
      "0.8684482758620691\n"
     ]
    },
    {
     "name": "stderr",
     "output_type": "stream",
     "text": [
      "Fitting: 100%|██████████| 100/100 [00:00<00:00, 581.38it/s]\n",
      "Predicting: 100%|██████████| 100/100 [00:01<00:00, 63.25it/s]\n"
     ]
    },
    {
     "name": "stdout",
     "output_type": "stream",
     "text": [
      "0.8860344827586206\n"
     ]
    },
    {
     "name": "stderr",
     "output_type": "stream",
     "text": [
      "Fitting: 100%|██████████| 100/100 [00:00<00:00, 729.93it/s]\n",
      "Predicting: 100%|██████████| 100/100 [00:01<00:00, 72.15it/s]\n"
     ]
    },
    {
     "name": "stdout",
     "output_type": "stream",
     "text": [
      "0.8901724137931033\n"
     ]
    },
    {
     "name": "stderr",
     "output_type": "stream",
     "text": [
      "Fitting: 100%|██████████| 100/100 [00:00<00:00, 473.97it/s]\n",
      "Predicting: 100%|██████████| 100/100 [00:01<00:00, 51.79it/s]\n"
     ]
    },
    {
     "name": "stdout",
     "output_type": "stream",
     "text": [
      "0.8848275862068966\n",
      "Finished evaluating 2 models at 20230523-225704 in 0:01:01.839783 seconds\n"
     ]
    },
    {
     "data": {
      "text/plain": "<Figure size 432x288 with 1 Axes>",
      "image/png": "[encoded data removed]"
     },
     "metadata": {},
     "output_type": "display_data"
    },
    {
     "data": {
      "text/plain": "<Figure size 432x288 with 1 Axes>",
      "image/png": "[encoded data removed]"
     },
     "metadata": {},
     "output_type": "display_data"
    },
    {
     "name": "stdout",
     "output_type": "stream",
     "text": [
      "### Dataset size: 100 ###\n"
     ]
    },
    {
     "name": "stderr",
     "output_type": "stream",
     "text": [
      "C:\\Users\\arnod\\PycharmProjects\\thesis\\util\\epitopes.py:6: DtypeWarning: Columns (20,29,30) have mixed types. Specify dtype option on import or set low_memory=False.\n",
      "  df_vdjdb = pd.read_csv('data/vdjdb-2022-03-30/vdjdb_full.txt', sep='\\t')\n"
     ]
    },
    {
     "name": "stdout",
     "output_type": "stream",
     "text": [
      "Number of negative samples changed from 47033 to 44205 (because of overlap with positive samples)\n",
      "Positive samples: alpha only: 2580, beta only: 3056, both: 2194, none: 0\n",
      "Negative samples (will be sampled to select same amount as positive): alpha only: 4499, beta only: 17510, both: 22196, none: 0\n",
      "Nan: train: 80, test: 108\n",
      "No Nan: train: 18, test: 108\n",
      "\n",
      "Evaluating model 1/2\n",
      "{'name': 'ProximityForest (nan_dist=0, measure=tcr_dist2)', 'model': <util.proximityforest.ProximityForestClassifier object at 0x0000026427BCB7C0>, 'group': 'proximity_forest', 'extract_features': False, 'columns_to_use': ['CDR3', 'V', 'J'], 'drop_train_na': False}\n"
     ]
    },
    {
     "name": "stderr",
     "output_type": "stream",
     "text": [
      "Fitting: 100%|██████████| 100/100 [00:15<00:00,  6.34it/s]\n",
      "Predicting: 100%|██████████| 100/100 [00:04<00:00, 21.92it/s]\n"
     ]
    },
    {
     "name": "stdout",
     "output_type": "stream",
     "text": [
      "0.8848275862068965\n"
     ]
    },
    {
     "name": "stderr",
     "output_type": "stream",
     "text": [
      "Fitting: 100%|██████████| 100/100 [00:15<00:00,  6.57it/s]\n",
      "Predicting: 100%|██████████| 100/100 [00:04<00:00, 22.55it/s]\n"
     ]
    },
    {
     "name": "stdout",
     "output_type": "stream",
     "text": [
      "0.863448275862069\n"
     ]
    },
    {
     "name": "stderr",
     "output_type": "stream",
     "text": [
      "Fitting: 100%|██████████| 100/100 [00:11<00:00,  8.75it/s]\n",
      "Predicting: 100%|██████████| 100/100 [00:02<00:00, 36.56it/s]\n"
     ]
    },
    {
     "name": "stdout",
     "output_type": "stream",
     "text": [
      "0.8929310344827586\n"
     ]
    },
    {
     "name": "stderr",
     "output_type": "stream",
     "text": [
      "Fitting: 100%|██████████| 100/100 [00:11<00:00,  9.05it/s]\n",
      "Predicting: 100%|██████████| 100/100 [00:03<00:00, 31.66it/s]\n"
     ]
    },
    {
     "name": "stdout",
     "output_type": "stream",
     "text": [
      "0.8448275862068967\n"
     ]
    },
    {
     "name": "stderr",
     "output_type": "stream",
     "text": [
      "Fitting: 100%|██████████| 100/100 [00:11<00:00,  8.89it/s]\n",
      "Predicting: 100%|██████████| 100/100 [00:03<00:00, 28.63it/s]\n"
     ]
    },
    {
     "name": "stdout",
     "output_type": "stream",
     "text": [
      "0.8718965517241379\n",
      "\n",
      "Evaluating model 2/2\n",
      "{'name': 'ProximityForest (no_nan, measure=tcr_dist2)', 'model': <util.proximityforest.ProximityForestClassifier object at 0x0000026427BCB4F0>, 'group': 'proximity_forest', 'extract_features': False, 'columns_to_use': ['CDR3', 'V', 'J'], 'drop_train_na': True}\n"
     ]
    },
    {
     "name": "stderr",
     "output_type": "stream",
     "text": [
      "Fitting: 100%|██████████| 100/100 [00:00<00:00, 145.14it/s]\n",
      "Predicting: 100%|██████████| 100/100 [00:03<00:00, 33.12it/s]\n"
     ]
    },
    {
     "name": "stdout",
     "output_type": "stream",
     "text": [
      "0.888103448275862\n"
     ]
    },
    {
     "name": "stderr",
     "output_type": "stream",
     "text": [
      "Fitting: 100%|██████████| 100/100 [00:00<00:00, 184.84it/s]\n",
      "Predicting: 100%|██████████| 100/100 [00:02<00:00, 35.47it/s]\n"
     ]
    },
    {
     "name": "stdout",
     "output_type": "stream",
     "text": [
      "0.8620689655172413\n"
     ]
    },
    {
     "name": "stderr",
     "output_type": "stream",
     "text": [
      "Fitting: 100%|██████████| 100/100 [00:00<00:00, 191.94it/s]\n",
      "Predicting: 100%|██████████| 100/100 [00:02<00:00, 39.18it/s]\n"
     ]
    },
    {
     "name": "stdout",
     "output_type": "stream",
     "text": [
      "0.8893103448275861\n"
     ]
    },
    {
     "name": "stderr",
     "output_type": "stream",
     "text": [
      "Fitting: 100%|██████████| 100/100 [00:00<00:00, 181.48it/s]\n",
      "Predicting: 100%|██████████| 100/100 [00:02<00:00, 37.44it/s]\n"
     ]
    },
    {
     "name": "stdout",
     "output_type": "stream",
     "text": [
      "0.8425862068965518\n"
     ]
    },
    {
     "name": "stderr",
     "output_type": "stream",
     "text": [
      "Fitting: 100%|██████████| 100/100 [00:00<00:00, 136.61it/s]\n",
      "Predicting: 100%|██████████| 100/100 [00:03<00:00, 32.25it/s]\n"
     ]
    },
    {
     "name": "stdout",
     "output_type": "stream",
     "text": [
      "0.8725862068965516\n",
      "Finished evaluating 2 models at 20230523-225851 in 0:01:40.481610 seconds\n"
     ]
    },
    {
     "data": {
      "text/plain": "<Figure size 432x288 with 1 Axes>",
      "image/png": "[encoded data removed]"
     },
     "metadata": {},
     "output_type": "display_data"
    },
    {
     "data": {
      "text/plain": "<Figure size 432x288 with 1 Axes>",
      "image/png": "[encoded data removed]"
     },
     "metadata": {},
     "output_type": "display_data"
    },
    {
     "name": "stdout",
     "output_type": "stream",
     "text": [
      "### Dataset size: 200 ###\n"
     ]
    },
    {
     "name": "stderr",
     "output_type": "stream",
     "text": [
      "C:\\Users\\arnod\\PycharmProjects\\thesis\\util\\epitopes.py:6: DtypeWarning: Columns (20,29,30) have mixed types. Specify dtype option on import or set low_memory=False.\n",
      "  df_vdjdb = pd.read_csv('data/vdjdb-2022-03-30/vdjdb_full.txt', sep='\\t')\n"
     ]
    },
    {
     "name": "stdout",
     "output_type": "stream",
     "text": [
      "Number of negative samples changed from 47033 to 44205 (because of overlap with positive samples)\n",
      "Positive samples: alpha only: 2580, beta only: 3056, both: 2194, none: 0\n",
      "Negative samples (will be sampled to select same amount as positive): alpha only: 4499, beta only: 17510, both: 22196, none: 0\n",
      "Nan: train: 160, test: 108\n",
      "No Nan: train: 40, test: 108\n",
      "\n",
      "Evaluating model 1/2\n",
      "{'name': 'ProximityForest (nan_dist=0, measure=tcr_dist2)', 'model': <util.proximityforest.ProximityForestClassifier object at 0x0000026427BCB7C0>, 'group': 'proximity_forest', 'extract_features': False, 'columns_to_use': ['CDR3', 'V', 'J'], 'drop_train_na': False}\n"
     ]
    },
    {
     "name": "stderr",
     "output_type": "stream",
     "text": [
      "Fitting: 100%|██████████| 100/100 [00:23<00:00,  4.30it/s]\n",
      "Predicting: 100%|██████████| 100/100 [00:03<00:00, 25.45it/s]\n"
     ]
    },
    {
     "name": "stdout",
     "output_type": "stream",
     "text": [
      "0.8949999999999999\n"
     ]
    },
    {
     "name": "stderr",
     "output_type": "stream",
     "text": [
      "Fitting: 100%|██████████| 100/100 [00:23<00:00,  4.26it/s]\n",
      "Predicting: 100%|██████████| 100/100 [00:03<00:00, 25.50it/s]\n"
     ]
    },
    {
     "name": "stdout",
     "output_type": "stream",
     "text": [
      "0.8993103448275862\n"
     ]
    },
    {
     "name": "stderr",
     "output_type": "stream",
     "text": [
      "Fitting: 100%|██████████| 100/100 [00:23<00:00,  4.33it/s]\n",
      "Predicting: 100%|██████████| 100/100 [00:03<00:00, 25.03it/s]\n"
     ]
    },
    {
     "name": "stdout",
     "output_type": "stream",
     "text": [
      "0.8970689655172414\n"
     ]
    },
    {
     "name": "stderr",
     "output_type": "stream",
     "text": [
      "Fitting: 100%|██████████| 100/100 [00:23<00:00,  4.32it/s]\n",
      "Predicting: 100%|██████████| 100/100 [00:03<00:00, 25.03it/s]\n"
     ]
    },
    {
     "name": "stdout",
     "output_type": "stream",
     "text": [
      "0.911206896551724\n"
     ]
    },
    {
     "name": "stderr",
     "output_type": "stream",
     "text": [
      "Fitting: 100%|██████████| 100/100 [00:23<00:00,  4.33it/s]\n",
      "Predicting: 100%|██████████| 100/100 [00:04<00:00, 24.10it/s]\n"
     ]
    },
    {
     "name": "stdout",
     "output_type": "stream",
     "text": [
      "0.881896551724138\n",
      "\n",
      "Evaluating model 2/2\n",
      "{'name': 'ProximityForest (no_nan, measure=tcr_dist2)', 'model': <util.proximityforest.ProximityForestClassifier object at 0x0000026427BCB4F0>, 'group': 'proximity_forest', 'extract_features': False, 'columns_to_use': ['CDR3', 'V', 'J'], 'drop_train_na': True}\n"
     ]
    },
    {
     "name": "stderr",
     "output_type": "stream",
     "text": [
      "Fitting: 100%|██████████| 100/100 [00:01<00:00, 52.06it/s]\n",
      "Predicting: 100%|██████████| 100/100 [00:03<00:00, 25.50it/s]\n"
     ]
    },
    {
     "name": "stdout",
     "output_type": "stream",
     "text": [
      "0.9125862068965517\n"
     ]
    },
    {
     "name": "stderr",
     "output_type": "stream",
     "text": [
      "Fitting: 100%|██████████| 100/100 [00:01<00:00, 53.91it/s]\n",
      "Predicting: 100%|██████████| 100/100 [00:03<00:00, 26.43it/s]\n"
     ]
    },
    {
     "name": "stdout",
     "output_type": "stream",
     "text": [
      "0.9039655172413792\n"
     ]
    },
    {
     "name": "stderr",
     "output_type": "stream",
     "text": [
      "Fitting: 100%|██████████| 100/100 [00:01<00:00, 51.28it/s]\n",
      "Predicting: 100%|██████████| 100/100 [00:03<00:00, 26.13it/s]\n"
     ]
    },
    {
     "name": "stdout",
     "output_type": "stream",
     "text": [
      "0.8981034482758621\n"
     ]
    },
    {
     "name": "stderr",
     "output_type": "stream",
     "text": [
      "Fitting: 100%|██████████| 100/100 [00:01<00:00, 61.50it/s]\n",
      "Predicting: 100%|██████████| 100/100 [00:03<00:00, 26.61it/s]\n"
     ]
    },
    {
     "name": "stdout",
     "output_type": "stream",
     "text": [
      "0.918103448275862\n"
     ]
    },
    {
     "name": "stderr",
     "output_type": "stream",
     "text": [
      "Fitting: 100%|██████████| 100/100 [00:01<00:00, 54.73it/s]\n",
      "Predicting: 100%|██████████| 100/100 [00:04<00:00, 24.78it/s]\n"
     ]
    },
    {
     "name": "stdout",
     "output_type": "stream",
     "text": [
      "0.9127586206896552\n",
      "Finished evaluating 2 models at 20230523-230141 in 0:02:44.763964 seconds\n"
     ]
    },
    {
     "data": {
      "text/plain": "<Figure size 432x288 with 1 Axes>",
      "image/png": "[encoded data removed]"
     },
     "metadata": {},
     "output_type": "display_data"
    },
    {
     "data": {
      "text/plain": "<Figure size 432x288 with 1 Axes>",
      "image/png": "[encoded data removed]"
     },
     "metadata": {},
     "output_type": "display_data"
    },
    {
     "name": "stdout",
     "output_type": "stream",
     "text": [
      "### Dataset size: 500 ###\n"
     ]
    },
    {
     "name": "stderr",
     "output_type": "stream",
     "text": [
      "C:\\Users\\arnod\\PycharmProjects\\thesis\\util\\epitopes.py:6: DtypeWarning: Columns (20,29,30) have mixed types. Specify dtype option on import or set low_memory=False.\n",
      "  df_vdjdb = pd.read_csv('data/vdjdb-2022-03-30/vdjdb_full.txt', sep='\\t')\n"
     ]
    },
    {
     "name": "stdout",
     "output_type": "stream",
     "text": [
      "Number of negative samples changed from 47033 to 44205 (because of overlap with positive samples)\n",
      "Positive samples: alpha only: 2580, beta only: 3056, both: 2194, none: 0\n",
      "Negative samples (will be sampled to select same amount as positive): alpha only: 4499, beta only: 17510, both: 22196, none: 0\n",
      "Nan: train: 400, test: 108\n",
      "No Nan: train: 100, test: 108\n",
      "\n",
      "Evaluating model 1/2\n",
      "{'name': 'ProximityForest (nan_dist=0, measure=tcr_dist2)', 'model': <util.proximityforest.ProximityForestClassifier object at 0x0000026427BCB7C0>, 'group': 'proximity_forest', 'extract_features': False, 'columns_to_use': ['CDR3', 'V', 'J'], 'drop_train_na': False}\n"
     ]
    },
    {
     "name": "stderr",
     "output_type": "stream",
     "text": [
      "Fitting: 100%|██████████| 100/100 [01:00<00:00,  1.67it/s]\n",
      "Predicting: 100%|██████████| 100/100 [00:05<00:00, 16.99it/s]\n"
     ]
    },
    {
     "name": "stdout",
     "output_type": "stream",
     "text": [
      "0.8998275862068965\n"
     ]
    },
    {
     "name": "stderr",
     "output_type": "stream",
     "text": [
      "Fitting: 100%|██████████| 100/100 [07:46<00:00,  4.66s/it]\n",
      "Predicting: 100%|██████████| 100/100 [03:58<00:00,  2.38s/it]\n"
     ]
    },
    {
     "name": "stdout",
     "output_type": "stream",
     "text": [
      "0.8994827586206896\n"
     ]
    },
    {
     "name": "stderr",
     "output_type": "stream",
     "text": [
      "Fitting: 100%|██████████| 100/100 [04:12<00:00,  2.52s/it]\n",
      "Predicting: 100%|██████████| 100/100 [01:02<00:00,  1.61it/s]\n"
     ]
    },
    {
     "name": "stdout",
     "output_type": "stream",
     "text": [
      "0.8939655172413792\n"
     ]
    },
    {
     "name": "stderr",
     "output_type": "stream",
     "text": [
      "Fitting: 100%|██████████| 100/100 [02:19<00:00,  1.40s/it]\n",
      "Predicting: 100%|██████████| 100/100 [00:24<00:00,  4.06it/s]\n"
     ]
    },
    {
     "name": "stdout",
     "output_type": "stream",
     "text": [
      "0.8982758620689655\n"
     ]
    },
    {
     "name": "stderr",
     "output_type": "stream",
     "text": [
      "Fitting: 100%|██████████| 100/100 [01:34<00:00,  1.06it/s]\n",
      "Predicting: 100%|██████████| 100/100 [00:04<00:00, 21.81it/s]\n"
     ]
    },
    {
     "name": "stdout",
     "output_type": "stream",
     "text": [
      "0.8903448275862069\n",
      "\n",
      "Evaluating model 2/2\n",
      "{'name': 'ProximityForest (no_nan, measure=tcr_dist2)', 'model': <util.proximityforest.ProximityForestClassifier object at 0x0000026427BCB4F0>, 'group': 'proximity_forest', 'extract_features': False, 'columns_to_use': ['CDR3', 'V', 'J'], 'drop_train_na': True}\n"
     ]
    },
    {
     "name": "stderr",
     "output_type": "stream",
     "text": [
      "Fitting: 100%|██████████| 100/100 [00:05<00:00, 17.26it/s]\n",
      "Predicting: 100%|██████████| 100/100 [00:04<00:00, 20.27it/s]\n"
     ]
    },
    {
     "name": "stdout",
     "output_type": "stream",
     "text": [
      "0.9127586206896551\n"
     ]
    },
    {
     "name": "stderr",
     "output_type": "stream",
     "text": [
      "Fitting: 100%|██████████| 100/100 [00:06<00:00, 16.59it/s]\n",
      "Predicting: 100%|██████████| 100/100 [00:04<00:00, 21.07it/s]\n"
     ]
    },
    {
     "name": "stdout",
     "output_type": "stream",
     "text": [
      "0.9218965517241379\n"
     ]
    },
    {
     "name": "stderr",
     "output_type": "stream",
     "text": [
      "Fitting: 100%|██████████| 100/100 [00:05<00:00, 17.21it/s]\n",
      "Predicting: 100%|██████████| 100/100 [00:04<00:00, 21.02it/s]\n"
     ]
    },
    {
     "name": "stdout",
     "output_type": "stream",
     "text": [
      "0.9087931034482758\n"
     ]
    },
    {
     "name": "stderr",
     "output_type": "stream",
     "text": [
      "Fitting: 100%|██████████| 100/100 [00:06<00:00, 16.11it/s]\n",
      "Predicting: 100%|██████████| 100/100 [00:04<00:00, 21.22it/s]\n"
     ]
    },
    {
     "name": "stdout",
     "output_type": "stream",
     "text": [
      "0.8998275862068965\n"
     ]
    },
    {
     "name": "stderr",
     "output_type": "stream",
     "text": [
      "Fitting: 100%|██████████| 100/100 [00:05<00:00, 17.57it/s]\n",
      "Predicting: 100%|██████████| 100/100 [00:04<00:00, 21.58it/s]\n"
     ]
    },
    {
     "name": "stdout",
     "output_type": "stream",
     "text": [
      "0.8970689655172412\n",
      "Finished evaluating 2 models at 20230523-232509 in 0:23:21.928784 seconds\n"
     ]
    },
    {
     "data": {
      "text/plain": "<Figure size 432x288 with 1 Axes>",
      "image/png": "[encoded data removed]"
     },
     "metadata": {},
     "output_type": "display_data"
    },
    {
     "data": {
      "text/plain": "<Figure size 432x288 with 1 Axes>",
      "image/png": "[encoded data removed]"
     },
     "metadata": {},
     "output_type": "display_data"
    },
    {
     "name": "stdout",
     "output_type": "stream",
     "text": [
      "### Dataset size: 1000 ###\n"
     ]
    },
    {
     "name": "stderr",
     "output_type": "stream",
     "text": [
      "C:\\Users\\arnod\\PycharmProjects\\thesis\\util\\epitopes.py:6: DtypeWarning: Columns (20,29,30) have mixed types. Specify dtype option on import or set low_memory=False.\n",
      "  df_vdjdb = pd.read_csv('data/vdjdb-2022-03-30/vdjdb_full.txt', sep='\\t')\n"
     ]
    },
    {
     "name": "stdout",
     "output_type": "stream",
     "text": [
      "Number of negative samples changed from 47033 to 44205 (because of overlap with positive samples)\n",
      "Positive samples: alpha only: 2580, beta only: 3056, both: 2194, none: 0\n",
      "Negative samples (will be sampled to select same amount as positive): alpha only: 4499, beta only: 17510, both: 22196, none: 0\n",
      "Nan: train: 800, test: 108\n",
      "No Nan: train: 192, test: 108\n",
      "\n",
      "Evaluating model 1/2\n",
      "{'name': 'ProximityForest (nan_dist=0, measure=tcr_dist2)', 'model': <util.proximityforest.ProximityForestClassifier object at 0x0000026427BCB7C0>, 'group': 'proximity_forest', 'extract_features': False, 'columns_to_use': ['CDR3', 'V', 'J'], 'drop_train_na': False}\n"
     ]
    },
    {
     "name": "stderr",
     "output_type": "stream",
     "text": [
      "Fitting: 100%|██████████| 100/100 [1:10:06<00:00, 42.07s/it] \n",
      "Predicting: 100%|██████████| 100/100 [23:02<00:00, 13.83s/it] \n"
     ]
    },
    {
     "name": "stdout",
     "output_type": "stream",
     "text": [
      "0.9084482758620689\n"
     ]
    },
    {
     "name": "stderr",
     "output_type": "stream",
     "text": [
      "Fitting: 100%|██████████| 100/100 [33:46<00:00, 20.26s/it] \n",
      "Predicting: 100%|██████████| 100/100 [07:12<00:00,  4.33s/it]\n"
     ]
    },
    {
     "name": "stdout",
     "output_type": "stream",
     "text": [
      "0.8998275862068965\n"
     ]
    },
    {
     "name": "stderr",
     "output_type": "stream",
     "text": [
      "Fitting: 100%|██████████| 100/100 [08:41<00:00,  5.22s/it]\n",
      "Predicting: 100%|██████████| 100/100 [00:55<00:00,  1.79it/s]\n"
     ]
    },
    {
     "name": "stdout",
     "output_type": "stream",
     "text": [
      "0.896551724137931\n"
     ]
    },
    {
     "name": "stderr",
     "output_type": "stream",
     "text": [
      "Fitting: 100%|██████████| 100/100 [05:20<00:00,  3.20s/it]\n",
      "Predicting: 100%|██████████| 100/100 [00:22<00:00,  4.48it/s]\n"
     ]
    },
    {
     "name": "stdout",
     "output_type": "stream",
     "text": [
      "0.9105172413793102\n"
     ]
    },
    {
     "name": "stderr",
     "output_type": "stream",
     "text": [
      "Fitting: 100%|██████████| 100/100 [04:06<00:00,  2.46s/it]\n",
      "Predicting: 100%|██████████| 100/100 [00:21<00:00,  4.60it/s]\n"
     ]
    },
    {
     "name": "stdout",
     "output_type": "stream",
     "text": [
      "0.9015517241379312\n",
      "\n",
      "Evaluating model 2/2\n",
      "{'name': 'ProximityForest (no_nan, measure=tcr_dist2)', 'model': <util.proximityforest.ProximityForestClassifier object at 0x0000026427BCB4F0>, 'group': 'proximity_forest', 'extract_features': False, 'columns_to_use': ['CDR3', 'V', 'J'], 'drop_train_na': True}\n"
     ]
    },
    {
     "name": "stderr",
     "output_type": "stream",
     "text": [
      "Fitting: 100%|██████████| 100/100 [00:11<00:00,  8.92it/s]\n",
      "Predicting: 100%|██████████| 100/100 [00:05<00:00, 18.29it/s]\n"
     ]
    },
    {
     "name": "stdout",
     "output_type": "stream",
     "text": [
      "0.9098275862068964\n"
     ]
    },
    {
     "name": "stderr",
     "output_type": "stream",
     "text": [
      "Fitting: 100%|██████████| 100/100 [00:13<00:00,  7.42it/s]\n",
      "Predicting: 100%|██████████| 100/100 [00:06<00:00, 16.14it/s]\n"
     ]
    },
    {
     "name": "stdout",
     "output_type": "stream",
     "text": [
      "0.9027586206896552\n"
     ]
    },
    {
     "name": "stderr",
     "output_type": "stream",
     "text": [
      "Fitting: 100%|██████████| 100/100 [00:12<00:00,  8.26it/s]\n",
      "Predicting: 100%|██████████| 100/100 [00:05<00:00, 19.85it/s]\n"
     ]
    },
    {
     "name": "stdout",
     "output_type": "stream",
     "text": [
      "0.9144827586206896\n"
     ]
    },
    {
     "name": "stderr",
     "output_type": "stream",
     "text": [
      "Fitting: 100%|██████████| 100/100 [00:11<00:00,  8.65it/s]\n",
      "Predicting: 100%|██████████| 100/100 [00:05<00:00, 19.89it/s]\n"
     ]
    },
    {
     "name": "stdout",
     "output_type": "stream",
     "text": [
      "0.9074137931034484\n"
     ]
    },
    {
     "name": "stderr",
     "output_type": "stream",
     "text": [
      "Fitting: 100%|██████████| 100/100 [00:11<00:00,  8.54it/s]\n",
      "Predicting: 100%|██████████| 100/100 [00:05<00:00, 16.75it/s]\n"
     ]
    },
    {
     "name": "stdout",
     "output_type": "stream",
     "text": [
      "0.9082758620689655\n",
      "Finished evaluating 2 models at 20230524-020042 in 2:35:24.875660 seconds\n"
     ]
    },
    {
     "data": {
      "text/plain": "<Figure size 432x288 with 1 Axes>",
      "image/png": "[encoded data removed]"
     },
     "metadata": {},
     "output_type": "display_data"
    },
    {
     "data": {
      "text/plain": "<Figure size 432x288 with 1 Axes>",
      "image/png": "[encoded data removed]"
     },
     "metadata": {},
     "output_type": "display_data"
    },
    {
     "name": "stdout",
     "output_type": "stream",
     "text": [
      "### Dataset size: 2000 ###\n"
     ]
    },
    {
     "name": "stderr",
     "output_type": "stream",
     "text": [
      "C:\\Users\\arnod\\PycharmProjects\\thesis\\util\\epitopes.py:6: DtypeWarning: Columns (20,29,30) have mixed types. Specify dtype option on import or set low_memory=False.\n",
      "  df_vdjdb = pd.read_csv('data/vdjdb-2022-03-30/vdjdb_full.txt', sep='\\t')\n"
     ]
    },
    {
     "name": "stdout",
     "output_type": "stream",
     "text": [
      "Number of negative samples changed from 47033 to 44205 (because of overlap with positive samples)\n",
      "Positive samples: alpha only: 2580, beta only: 3056, both: 2194, none: 0\n",
      "Negative samples (will be sampled to select same amount as positive): alpha only: 4499, beta only: 17510, both: 22196, none: 0\n",
      "Nan: train: 1600, test: 108\n",
      "No Nan: train: 432, test: 108\n",
      "\n",
      "Evaluating model 1/2\n",
      "{'name': 'ProximityForest (nan_dist=0, measure=tcr_dist2)', 'model': <util.proximityforest.ProximityForestClassifier object at 0x0000026427BCB7C0>, 'group': 'proximity_forest', 'extract_features': False, 'columns_to_use': ['CDR3', 'V', 'J'], 'drop_train_na': False}\n"
     ]
    },
    {
     "name": "stderr",
     "output_type": "stream",
     "text": [
      "Fitting: 100%|██████████| 100/100 [6:24:00<00:00, 230.40s/it]  \n",
      "Predicting:   1%|          | 1/100 [01:39<2:44:15, 99.55s/it]\n"
     ]
    },
    {
     "ename": "KeyboardInterrupt",
     "evalue": "",
     "output_type": "error",
     "traceback": [
      "\u001B[1;31m---------------------------------------------------------------------------\u001B[0m",
      "\u001B[1;31mKeyboardInterrupt\u001B[0m                         Traceback (most recent call last)",
      "\u001B[1;32m~\\AppData\\Local\\Temp/ipykernel_11972/3903716309.py\u001B[0m in \u001B[0;36m<module>\u001B[1;34m\u001B[0m\n\u001B[0;32m      2\u001B[0m     \u001B[0mprint\u001B[0m\u001B[1;33m(\u001B[0m\u001B[1;34mf\"### Dataset size: {dataset_size} ###\"\u001B[0m\u001B[1;33m)\u001B[0m\u001B[1;33m\u001B[0m\u001B[1;33m\u001B[0m\u001B[0m\n\u001B[0;32m      3\u001B[0m     \u001B[0mupdate_data_per_fold\u001B[0m\u001B[1;33m(\u001B[0m\u001B[0mdataset_size\u001B[0m\u001B[1;33m)\u001B[0m\u001B[1;33m\u001B[0m\u001B[1;33m\u001B[0m\u001B[0m\n\u001B[1;32m----> 4\u001B[1;33m     \u001B[0mscores\u001B[0m \u001B[1;33m=\u001B[0m \u001B[0mevaluate_model_list\u001B[0m\u001B[1;33m(\u001B[0m\u001B[0mmodels_to_evaluate\u001B[0m\u001B[1;33m)\u001B[0m\u001B[1;33m\u001B[0m\u001B[1;33m\u001B[0m\u001B[0m\n\u001B[0m\u001B[0;32m      5\u001B[0m     \u001B[0mplot_scores\u001B[0m\u001B[1;33m(\u001B[0m\u001B[0mscores\u001B[0m\u001B[1;33m,\u001B[0m \u001B[1;34m\"Model performance (AUC)\"\u001B[0m\u001B[1;33m,\u001B[0m \u001B[0mbaseline_name\u001B[0m\u001B[1;33m=\u001B[0m\u001B[1;34m'RandomForest (only CDR3)'\u001B[0m\u001B[1;33m)\u001B[0m\u001B[1;33m\u001B[0m\u001B[1;33m\u001B[0m\u001B[0m\n",
      "\u001B[1;32m~\\AppData\\Local\\Temp/ipykernel_11972/2460594785.py\u001B[0m in \u001B[0;36mevaluate_model_list\u001B[1;34m(models_to_evaluate)\u001B[0m\n\u001B[0;32m     22\u001B[0m         \u001B[0mprint\u001B[0m\u001B[1;33m(\u001B[0m\u001B[1;34mf\"\\nEvaluating model {i + 1}/{len(models_to_evaluate)}\"\u001B[0m\u001B[1;33m)\u001B[0m\u001B[1;33m\u001B[0m\u001B[1;33m\u001B[0m\u001B[0m\n\u001B[0;32m     23\u001B[0m         \u001B[0mprint\u001B[0m\u001B[1;33m(\u001B[0m\u001B[0mmodel\u001B[0m\u001B[1;33m)\u001B[0m\u001B[1;33m\u001B[0m\u001B[1;33m\u001B[0m\u001B[0m\n\u001B[1;32m---> 24\u001B[1;33m         \u001B[0mmodel_scores\u001B[0m \u001B[1;33m=\u001B[0m \u001B[0mevaluate_model\u001B[0m\u001B[1;33m(\u001B[0m\u001B[0mmodel\u001B[0m\u001B[1;33m)\u001B[0m\u001B[1;33m\u001B[0m\u001B[1;33m\u001B[0m\u001B[0m\n\u001B[0m\u001B[0;32m     25\u001B[0m \u001B[1;33m\u001B[0m\u001B[0m\n\u001B[0;32m     26\u001B[0m         \u001B[0mmodel_scores\u001B[0m\u001B[1;33m[\u001B[0m\u001B[1;34m'test_nr'\u001B[0m\u001B[1;33m]\u001B[0m \u001B[1;33m=\u001B[0m \u001B[0mi\u001B[0m \u001B[1;33m+\u001B[0m \u001B[1;36m1\u001B[0m\u001B[1;33m\u001B[0m\u001B[1;33m\u001B[0m\u001B[0m\n",
      "\u001B[1;32m~\\AppData\\Local\\Temp/ipykernel_11972/3281882135.py\u001B[0m in \u001B[0;36mevaluate_model\u001B[1;34m(model_description)\u001B[0m\n\u001B[0;32m     99\u001B[0m                     \u001B[0mmodel\u001B[0m \u001B[1;33m=\u001B[0m \u001B[0mPipeline\u001B[0m\u001B[1;33m(\u001B[0m\u001B[1;33m[\u001B[0m\u001B[1;33m(\u001B[0m\u001B[1;34m'imputer'\u001B[0m\u001B[1;33m,\u001B[0m \u001B[0mmodel_imputer\u001B[0m\u001B[1;33m)\u001B[0m\u001B[1;33m,\u001B[0m \u001B[1;33m(\u001B[0m\u001B[1;34m'model'\u001B[0m\u001B[1;33m,\u001B[0m \u001B[0mmodel\u001B[0m\u001B[1;33m)\u001B[0m\u001B[1;33m]\u001B[0m\u001B[1;33m)\u001B[0m\u001B[1;33m\u001B[0m\u001B[1;33m\u001B[0m\u001B[0m\n\u001B[0;32m    100\u001B[0m                     \u001B[0mmodel_imputer\u001B[0m \u001B[1;33m=\u001B[0m \u001B[1;32mNone\u001B[0m\u001B[1;33m\u001B[0m\u001B[1;33m\u001B[0m\u001B[0m\n\u001B[1;32m--> 101\u001B[1;33m                 \u001B[0mauc\u001B[0m \u001B[1;33m=\u001B[0m \u001B[0mevaluate_no_cv\u001B[0m\u001B[1;33m(\u001B[0m\u001B[0mmodel\u001B[0m\u001B[1;33m,\u001B[0m \u001B[0mx\u001B[0m\u001B[1;33m,\u001B[0m \u001B[0my\u001B[0m\u001B[1;33m,\u001B[0m \u001B[0mx_test\u001B[0m\u001B[1;33m,\u001B[0m \u001B[0my_test\u001B[0m\u001B[1;33m,\u001B[0m \u001B[0mmodel_imputer\u001B[0m\u001B[1;33m)\u001B[0m\u001B[1;33m\u001B[0m\u001B[1;33m\u001B[0m\u001B[0m\n\u001B[0m\u001B[0;32m    102\u001B[0m \u001B[1;33m\u001B[0m\u001B[0m\n\u001B[0;32m    103\u001B[0m             \u001B[1;31m# add the scores to the dataframe\u001B[0m\u001B[1;33m\u001B[0m\u001B[1;33m\u001B[0m\u001B[0m\n",
      "\u001B[1;32m~\\PycharmProjects\\thesis\\util\\classification.py\u001B[0m in \u001B[0;36mevaluate_no_cv\u001B[1;34m(clf, x, y, x_test, y_test, model_imputer)\u001B[0m\n\u001B[0;32m     84\u001B[0m \u001B[1;33m\u001B[0m\u001B[0m\n\u001B[0;32m     85\u001B[0m     \u001B[0mclf\u001B[0m\u001B[1;33m.\u001B[0m\u001B[0mfit\u001B[0m\u001B[1;33m(\u001B[0m\u001B[0mx\u001B[0m\u001B[1;33m,\u001B[0m \u001B[0my\u001B[0m\u001B[1;33m)\u001B[0m\u001B[1;33m\u001B[0m\u001B[1;33m\u001B[0m\u001B[0m\n\u001B[1;32m---> 86\u001B[1;33m     \u001B[0my_pred\u001B[0m \u001B[1;33m=\u001B[0m \u001B[0mclf\u001B[0m\u001B[1;33m.\u001B[0m\u001B[0mpredict_proba\u001B[0m\u001B[1;33m(\u001B[0m\u001B[0mx_test\u001B[0m\u001B[1;33m)\u001B[0m\u001B[1;33m[\u001B[0m\u001B[1;33m:\u001B[0m\u001B[1;33m,\u001B[0m \u001B[1;36m1\u001B[0m\u001B[1;33m]\u001B[0m\u001B[1;33m\u001B[0m\u001B[1;33m\u001B[0m\u001B[0m\n\u001B[0m\u001B[0;32m     87\u001B[0m     \u001B[1;32massert\u001B[0m \u001B[0mlen\u001B[0m\u001B[1;33m(\u001B[0m\u001B[0my_pred\u001B[0m\u001B[1;33m)\u001B[0m \u001B[1;33m==\u001B[0m \u001B[0mlen\u001B[0m\u001B[1;33m(\u001B[0m\u001B[0my_test\u001B[0m\u001B[1;33m)\u001B[0m\u001B[1;33m,\u001B[0m \u001B[1;34mf'Length of y_pred ({len(y_pred)}) and y_test ({len(y_test)}) not equal'\u001B[0m\u001B[1;33m\u001B[0m\u001B[1;33m\u001B[0m\u001B[0m\n\u001B[0;32m     88\u001B[0m     \u001B[0mfpr\u001B[0m\u001B[1;33m,\u001B[0m \u001B[0mtpr\u001B[0m\u001B[1;33m,\u001B[0m \u001B[0mthresholds\u001B[0m \u001B[1;33m=\u001B[0m \u001B[0mmetrics\u001B[0m\u001B[1;33m.\u001B[0m\u001B[0mroc_curve\u001B[0m\u001B[1;33m(\u001B[0m\u001B[0my_test\u001B[0m\u001B[1;33m,\u001B[0m \u001B[0my_pred\u001B[0m\u001B[1;33m,\u001B[0m \u001B[0mpos_label\u001B[0m\u001B[1;33m=\u001B[0m\u001B[1;36m1\u001B[0m\u001B[1;33m)\u001B[0m\u001B[1;33m\u001B[0m\u001B[1;33m\u001B[0m\u001B[0m\n",
      "\u001B[1;32m~\\PycharmProjects\\thesis\\util\\proximityforest.py\u001B[0m in \u001B[0;36mpredict_proba\u001B[1;34m(self, data)\u001B[0m\n\u001B[0;32m    410\u001B[0m \u001B[1;33m\u001B[0m\u001B[0m\n\u001B[0;32m    411\u001B[0m     \u001B[1;32mdef\u001B[0m \u001B[0mpredict_proba\u001B[0m\u001B[1;33m(\u001B[0m\u001B[0mself\u001B[0m\u001B[1;33m,\u001B[0m \u001B[0mdata\u001B[0m\u001B[1;33m)\u001B[0m\u001B[1;33m:\u001B[0m\u001B[1;33m\u001B[0m\u001B[1;33m\u001B[0m\u001B[0m\n\u001B[1;32m--> 412\u001B[1;33m         \u001B[0mtree_predictions\u001B[0m \u001B[1;33m=\u001B[0m \u001B[0mself\u001B[0m\u001B[1;33m.\u001B[0m\u001B[0mget_predictions\u001B[0m\u001B[1;33m(\u001B[0m\u001B[0mdata\u001B[0m\u001B[1;33m)\u001B[0m\u001B[1;33m\u001B[0m\u001B[1;33m\u001B[0m\u001B[0m\n\u001B[0m\u001B[0;32m    413\u001B[0m         \u001B[0mmeans\u001B[0m \u001B[1;33m=\u001B[0m \u001B[0mnp\u001B[0m\u001B[1;33m.\u001B[0m\u001B[0mmean\u001B[0m\u001B[1;33m(\u001B[0m\u001B[0mtree_predictions\u001B[0m\u001B[1;33m,\u001B[0m \u001B[0maxis\u001B[0m\u001B[1;33m=\u001B[0m\u001B[1;36m0\u001B[0m\u001B[1;33m)\u001B[0m\u001B[1;33m\u001B[0m\u001B[1;33m\u001B[0m\u001B[0m\n\u001B[0;32m    414\u001B[0m         \u001B[1;31m# expand to 2d array\u001B[0m\u001B[1;33m\u001B[0m\u001B[1;33m\u001B[0m\u001B[0m\n",
      "\u001B[1;32m~\\PycharmProjects\\thesis\\util\\proximityforest.py\u001B[0m in \u001B[0;36mget_predictions\u001B[1;34m(self, data)\u001B[0m\n\u001B[0;32m    395\u001B[0m             \u001B[0mpredictions\u001B[0m \u001B[1;33m=\u001B[0m \u001B[1;33m[\u001B[0m\u001B[1;33m]\u001B[0m\u001B[1;33m\u001B[0m\u001B[1;33m\u001B[0m\u001B[0m\n\u001B[0;32m    396\u001B[0m             \u001B[1;32mfor\u001B[0m \u001B[0mtree\u001B[0m \u001B[1;32min\u001B[0m \u001B[0mtqdm\u001B[0m\u001B[1;33m(\u001B[0m\u001B[0mself\u001B[0m\u001B[1;33m.\u001B[0m\u001B[0mtrees\u001B[0m\u001B[1;33m,\u001B[0m \u001B[0mdisable\u001B[0m\u001B[1;33m=\u001B[0m\u001B[1;32mnot\u001B[0m \u001B[0mself\u001B[0m\u001B[1;33m.\u001B[0m\u001B[0mshow_progress\u001B[0m\u001B[1;33m,\u001B[0m \u001B[0mdesc\u001B[0m\u001B[1;33m=\u001B[0m\u001B[1;34m'Predicting'\u001B[0m\u001B[1;33m)\u001B[0m\u001B[1;33m:\u001B[0m\u001B[1;33m\u001B[0m\u001B[1;33m\u001B[0m\u001B[0m\n\u001B[1;32m--> 397\u001B[1;33m                 \u001B[0mpredictions\u001B[0m\u001B[1;33m.\u001B[0m\u001B[0mappend\u001B[0m\u001B[1;33m(\u001B[0m\u001B[0mtree\u001B[0m\u001B[1;33m.\u001B[0m\u001B[0mpredict\u001B[0m\u001B[1;33m(\u001B[0m\u001B[0mdata\u001B[0m\u001B[1;33m)\u001B[0m\u001B[1;33m)\u001B[0m\u001B[1;33m\u001B[0m\u001B[1;33m\u001B[0m\u001B[0m\n\u001B[0m\u001B[0;32m    398\u001B[0m \u001B[1;33m\u001B[0m\u001B[0m\n\u001B[0;32m    399\u001B[0m         \u001B[1;32mreturn\u001B[0m \u001B[0mpredictions\u001B[0m\u001B[1;33m\u001B[0m\u001B[1;33m\u001B[0m\u001B[0m\n",
      "\u001B[1;32m~\\PycharmProjects\\thesis\\util\\proximityforest.py\u001B[0m in \u001B[0;36mpredict\u001B[1;34m(self, data)\u001B[0m\n\u001B[0;32m    161\u001B[0m                    1] == self.num_features, \"The number of features in the data must match the number of features in the training data\"\n\u001B[0;32m    162\u001B[0m         \u001B[0mdata_reduced\u001B[0m \u001B[1;33m=\u001B[0m \u001B[0msubsample_features\u001B[0m\u001B[1;33m(\u001B[0m\u001B[0mdata\u001B[0m\u001B[1;33m,\u001B[0m \u001B[0mself\u001B[0m\u001B[1;33m.\u001B[0m\u001B[0mfeatures_to_use_indices\u001B[0m\u001B[1;33m)\u001B[0m\u001B[1;33m\u001B[0m\u001B[1;33m\u001B[0m\u001B[0m\n\u001B[1;32m--> 163\u001B[1;33m         \u001B[0mpredictions\u001B[0m \u001B[1;33m=\u001B[0m \u001B[0mnp\u001B[0m\u001B[1;33m.\u001B[0m\u001B[0mapply_along_axis\u001B[0m\u001B[1;33m(\u001B[0m\u001B[0mself\u001B[0m\u001B[1;33m.\u001B[0m\u001B[0mroot\u001B[0m\u001B[1;33m.\u001B[0m\u001B[0mpredict\u001B[0m\u001B[1;33m,\u001B[0m \u001B[1;36m1\u001B[0m\u001B[1;33m,\u001B[0m \u001B[0mdata_reduced\u001B[0m\u001B[1;33m)\u001B[0m\u001B[1;33m\u001B[0m\u001B[1;33m\u001B[0m\u001B[0m\n\u001B[0m\u001B[0;32m    164\u001B[0m         \u001B[1;32massert\u001B[0m \u001B[0mpredictions\u001B[0m\u001B[1;33m.\u001B[0m\u001B[0mshape\u001B[0m\u001B[1;33m[\u001B[0m\u001B[1;36m0\u001B[0m\u001B[1;33m]\u001B[0m \u001B[1;33m==\u001B[0m \u001B[0mdata\u001B[0m\u001B[1;33m.\u001B[0m\u001B[0mshape\u001B[0m\u001B[1;33m[\u001B[0m\u001B[1;36m0\u001B[0m\u001B[1;33m]\u001B[0m\u001B[1;33m,\u001B[0m \u001B[1;34m\"The number of predictions must match the number of data points\"\u001B[0m\u001B[1;33m\u001B[0m\u001B[1;33m\u001B[0m\u001B[0m\n\u001B[0;32m    165\u001B[0m         \u001B[1;32mreturn\u001B[0m \u001B[0mpredictions\u001B[0m\u001B[1;33m\u001B[0m\u001B[1;33m\u001B[0m\u001B[0m\n",
      "\u001B[1;32m<__array_function__ internals>\u001B[0m in \u001B[0;36mapply_along_axis\u001B[1;34m(*args, **kwargs)\u001B[0m\n",
      "\u001B[1;32m~\\AppData\\Roaming\\Python\\Python39\\site-packages\\numpy\\lib\\shape_base.py\u001B[0m in \u001B[0;36mapply_along_axis\u001B[1;34m(func1d, axis, arr, *args, **kwargs)\u001B[0m\n\u001B[0;32m    400\u001B[0m     \u001B[0mbuff\u001B[0m\u001B[1;33m[\u001B[0m\u001B[0mind0\u001B[0m\u001B[1;33m]\u001B[0m \u001B[1;33m=\u001B[0m \u001B[0mres\u001B[0m\u001B[1;33m\u001B[0m\u001B[1;33m\u001B[0m\u001B[0m\n\u001B[0;32m    401\u001B[0m     \u001B[1;32mfor\u001B[0m \u001B[0mind\u001B[0m \u001B[1;32min\u001B[0m \u001B[0minds\u001B[0m\u001B[1;33m:\u001B[0m\u001B[1;33m\u001B[0m\u001B[1;33m\u001B[0m\u001B[0m\n\u001B[1;32m--> 402\u001B[1;33m         \u001B[0mbuff\u001B[0m\u001B[1;33m[\u001B[0m\u001B[0mind\u001B[0m\u001B[1;33m]\u001B[0m \u001B[1;33m=\u001B[0m \u001B[0masanyarray\u001B[0m\u001B[1;33m(\u001B[0m\u001B[0mfunc1d\u001B[0m\u001B[1;33m(\u001B[0m\u001B[0minarr_view\u001B[0m\u001B[1;33m[\u001B[0m\u001B[0mind\u001B[0m\u001B[1;33m]\u001B[0m\u001B[1;33m,\u001B[0m \u001B[1;33m*\u001B[0m\u001B[0margs\u001B[0m\u001B[1;33m,\u001B[0m \u001B[1;33m**\u001B[0m\u001B[0mkwargs\u001B[0m\u001B[1;33m)\u001B[0m\u001B[1;33m)\u001B[0m\u001B[1;33m\u001B[0m\u001B[1;33m\u001B[0m\u001B[0m\n\u001B[0m\u001B[0;32m    403\u001B[0m \u001B[1;33m\u001B[0m\u001B[0m\n\u001B[0;32m    404\u001B[0m     \u001B[1;32mif\u001B[0m \u001B[1;32mnot\u001B[0m \u001B[0misinstance\u001B[0m\u001B[1;33m(\u001B[0m\u001B[0mres\u001B[0m\u001B[1;33m,\u001B[0m \u001B[0mmatrix\u001B[0m\u001B[1;33m)\u001B[0m\u001B[1;33m:\u001B[0m\u001B[1;33m\u001B[0m\u001B[1;33m\u001B[0m\u001B[0m\n",
      "\u001B[1;32m~\\PycharmProjects\\thesis\\util\\proximityforest.py\u001B[0m in \u001B[0;36mpredict\u001B[1;34m(self, data)\u001B[0m\n\u001B[0;32m     80\u001B[0m         \u001B[0mbranch\u001B[0m \u001B[1;33m=\u001B[0m \u001B[0mself\u001B[0m\u001B[1;33m.\u001B[0m\u001B[0mbranches\u001B[0m\u001B[1;33m[\u001B[0m\u001B[0mclosest_exemplar\u001B[0m\u001B[1;33m]\u001B[0m\u001B[1;33m\u001B[0m\u001B[1;33m\u001B[0m\u001B[0m\n\u001B[0;32m     81\u001B[0m         \u001B[1;31m# print(f\"Taking branch {branch.class_label} after comparing {data} with {self.branches[0].exemplar} (d={exemplar_distance[0]}) and {self.branches[1].exemplar} (d={exemplar_distance[1]})\")\u001B[0m\u001B[1;33m\u001B[0m\u001B[1;33m\u001B[0m\u001B[0m\n\u001B[1;32m---> 82\u001B[1;33m         \u001B[1;32mreturn\u001B[0m \u001B[0mbranch\u001B[0m\u001B[1;33m.\u001B[0m\u001B[0msubtree\u001B[0m\u001B[1;33m.\u001B[0m\u001B[0mpredict\u001B[0m\u001B[1;33m(\u001B[0m\u001B[0mdata\u001B[0m\u001B[1;33m)\u001B[0m\u001B[1;33m\u001B[0m\u001B[1;33m\u001B[0m\u001B[0m\n\u001B[0m\u001B[0;32m     83\u001B[0m \u001B[1;33m\u001B[0m\u001B[0m\n\u001B[0;32m     84\u001B[0m     \u001B[1;32mdef\u001B[0m \u001B[0mprint\u001B[0m\u001B[1;33m(\u001B[0m\u001B[0mself\u001B[0m\u001B[1;33m,\u001B[0m \u001B[0mdepth\u001B[0m\u001B[1;33m)\u001B[0m\u001B[1;33m:\u001B[0m\u001B[1;33m\u001B[0m\u001B[1;33m\u001B[0m\u001B[0m\n",
      "\u001B[1;32m~\\PycharmProjects\\thesis\\util\\proximityforest.py\u001B[0m in \u001B[0;36mpredict\u001B[1;34m(self, data)\u001B[0m\n\u001B[0;32m     80\u001B[0m         \u001B[0mbranch\u001B[0m \u001B[1;33m=\u001B[0m \u001B[0mself\u001B[0m\u001B[1;33m.\u001B[0m\u001B[0mbranches\u001B[0m\u001B[1;33m[\u001B[0m\u001B[0mclosest_exemplar\u001B[0m\u001B[1;33m]\u001B[0m\u001B[1;33m\u001B[0m\u001B[1;33m\u001B[0m\u001B[0m\n\u001B[0;32m     81\u001B[0m         \u001B[1;31m# print(f\"Taking branch {branch.class_label} after comparing {data} with {self.branches[0].exemplar} (d={exemplar_distance[0]}) and {self.branches[1].exemplar} (d={exemplar_distance[1]})\")\u001B[0m\u001B[1;33m\u001B[0m\u001B[1;33m\u001B[0m\u001B[0m\n\u001B[1;32m---> 82\u001B[1;33m         \u001B[1;32mreturn\u001B[0m \u001B[0mbranch\u001B[0m\u001B[1;33m.\u001B[0m\u001B[0msubtree\u001B[0m\u001B[1;33m.\u001B[0m\u001B[0mpredict\u001B[0m\u001B[1;33m(\u001B[0m\u001B[0mdata\u001B[0m\u001B[1;33m)\u001B[0m\u001B[1;33m\u001B[0m\u001B[1;33m\u001B[0m\u001B[0m\n\u001B[0m\u001B[0;32m     83\u001B[0m \u001B[1;33m\u001B[0m\u001B[0m\n\u001B[0;32m     84\u001B[0m     \u001B[1;32mdef\u001B[0m \u001B[0mprint\u001B[0m\u001B[1;33m(\u001B[0m\u001B[0mself\u001B[0m\u001B[1;33m,\u001B[0m \u001B[0mdepth\u001B[0m\u001B[1;33m)\u001B[0m\u001B[1;33m:\u001B[0m\u001B[1;33m\u001B[0m\u001B[1;33m\u001B[0m\u001B[0m\n",
      "\u001B[1;32m~\\PycharmProjects\\thesis\\util\\proximityforest.py\u001B[0m in \u001B[0;36mpredict\u001B[1;34m(self, data)\u001B[0m\n\u001B[0;32m     80\u001B[0m         \u001B[0mbranch\u001B[0m \u001B[1;33m=\u001B[0m \u001B[0mself\u001B[0m\u001B[1;33m.\u001B[0m\u001B[0mbranches\u001B[0m\u001B[1;33m[\u001B[0m\u001B[0mclosest_exemplar\u001B[0m\u001B[1;33m]\u001B[0m\u001B[1;33m\u001B[0m\u001B[1;33m\u001B[0m\u001B[0m\n\u001B[0;32m     81\u001B[0m         \u001B[1;31m# print(f\"Taking branch {branch.class_label} after comparing {data} with {self.branches[0].exemplar} (d={exemplar_distance[0]}) and {self.branches[1].exemplar} (d={exemplar_distance[1]})\")\u001B[0m\u001B[1;33m\u001B[0m\u001B[1;33m\u001B[0m\u001B[0m\n\u001B[1;32m---> 82\u001B[1;33m         \u001B[1;32mreturn\u001B[0m \u001B[0mbranch\u001B[0m\u001B[1;33m.\u001B[0m\u001B[0msubtree\u001B[0m\u001B[1;33m.\u001B[0m\u001B[0mpredict\u001B[0m\u001B[1;33m(\u001B[0m\u001B[0mdata\u001B[0m\u001B[1;33m)\u001B[0m\u001B[1;33m\u001B[0m\u001B[1;33m\u001B[0m\u001B[0m\n\u001B[0m\u001B[0;32m     83\u001B[0m \u001B[1;33m\u001B[0m\u001B[0m\n\u001B[0;32m     84\u001B[0m     \u001B[1;32mdef\u001B[0m \u001B[0mprint\u001B[0m\u001B[1;33m(\u001B[0m\u001B[0mself\u001B[0m\u001B[1;33m,\u001B[0m \u001B[0mdepth\u001B[0m\u001B[1;33m)\u001B[0m\u001B[1;33m:\u001B[0m\u001B[1;33m\u001B[0m\u001B[1;33m\u001B[0m\u001B[0m\n",
      "\u001B[1;32m~\\PycharmProjects\\thesis\\util\\proximityforest.py\u001B[0m in \u001B[0;36mpredict\u001B[1;34m(self, data)\u001B[0m\n\u001B[0;32m     74\u001B[0m \u001B[1;33m\u001B[0m\u001B[0m\n\u001B[0;32m     75\u001B[0m         \u001B[1;31m# Return the label of the closest subtree to the data point\u001B[0m\u001B[1;33m\u001B[0m\u001B[1;33m\u001B[0m\u001B[0m\n\u001B[1;32m---> 76\u001B[1;33m         \u001B[0mexemplar_distance\u001B[0m \u001B[1;33m=\u001B[0m \u001B[1;33m[\u001B[0m\u001B[0mself\u001B[0m\u001B[1;33m.\u001B[0m\u001B[0mmeasure\u001B[0m\u001B[1;33m(\u001B[0m\u001B[0mdata\u001B[0m\u001B[1;33m,\u001B[0m \u001B[0mbranch\u001B[0m\u001B[1;33m.\u001B[0m\u001B[0mexemplar\u001B[0m\u001B[1;33m)\u001B[0m \u001B[1;32mfor\u001B[0m \u001B[0mbranch\u001B[0m \u001B[1;32min\u001B[0m \u001B[0mself\u001B[0m\u001B[1;33m.\u001B[0m\u001B[0mbranches\u001B[0m\u001B[1;33m]\u001B[0m\u001B[1;33m\u001B[0m\u001B[1;33m\u001B[0m\u001B[0m\n\u001B[0m\u001B[0;32m     77\u001B[0m         \u001B[1;31m# get the index of the closest exemplar (lowest number)\u001B[0m\u001B[1;33m\u001B[0m\u001B[1;33m\u001B[0m\u001B[0m\n\u001B[0;32m     78\u001B[0m         \u001B[0mclosest_exemplar\u001B[0m \u001B[1;33m=\u001B[0m \u001B[0mnp\u001B[0m\u001B[1;33m.\u001B[0m\u001B[0margmin\u001B[0m\u001B[1;33m(\u001B[0m\u001B[0mexemplar_distance\u001B[0m\u001B[1;33m)\u001B[0m\u001B[1;33m\u001B[0m\u001B[1;33m\u001B[0m\u001B[0m\n",
      "\u001B[1;32m~\\PycharmProjects\\thesis\\util\\proximityforest.py\u001B[0m in \u001B[0;36m<listcomp>\u001B[1;34m(.0)\u001B[0m\n\u001B[0;32m     74\u001B[0m \u001B[1;33m\u001B[0m\u001B[0m\n\u001B[0;32m     75\u001B[0m         \u001B[1;31m# Return the label of the closest subtree to the data point\u001B[0m\u001B[1;33m\u001B[0m\u001B[1;33m\u001B[0m\u001B[0m\n\u001B[1;32m---> 76\u001B[1;33m         \u001B[0mexemplar_distance\u001B[0m \u001B[1;33m=\u001B[0m \u001B[1;33m[\u001B[0m\u001B[0mself\u001B[0m\u001B[1;33m.\u001B[0m\u001B[0mmeasure\u001B[0m\u001B[1;33m(\u001B[0m\u001B[0mdata\u001B[0m\u001B[1;33m,\u001B[0m \u001B[0mbranch\u001B[0m\u001B[1;33m.\u001B[0m\u001B[0mexemplar\u001B[0m\u001B[1;33m)\u001B[0m \u001B[1;32mfor\u001B[0m \u001B[0mbranch\u001B[0m \u001B[1;32min\u001B[0m \u001B[0mself\u001B[0m\u001B[1;33m.\u001B[0m\u001B[0mbranches\u001B[0m\u001B[1;33m]\u001B[0m\u001B[1;33m\u001B[0m\u001B[1;33m\u001B[0m\u001B[0m\n\u001B[0m\u001B[0;32m     77\u001B[0m         \u001B[1;31m# get the index of the closest exemplar (lowest number)\u001B[0m\u001B[1;33m\u001B[0m\u001B[1;33m\u001B[0m\u001B[0m\n\u001B[0;32m     78\u001B[0m         \u001B[0mclosest_exemplar\u001B[0m \u001B[1;33m=\u001B[0m \u001B[0mnp\u001B[0m\u001B[1;33m.\u001B[0m\u001B[0margmin\u001B[0m\u001B[1;33m(\u001B[0m\u001B[0mexemplar_distance\u001B[0m\u001B[1;33m)\u001B[0m\u001B[1;33m\u001B[0m\u001B[1;33m\u001B[0m\u001B[0m\n",
      "\u001B[1;32m~\\PycharmProjects\\thesis\\util\\proximityforest.py\u001B[0m in \u001B[0;36m<lambda>\u001B[1;34m(x, y)\u001B[0m\n\u001B[0;32m     48\u001B[0m         \u001B[0mdepth\u001B[0m \u001B[1;33m+=\u001B[0m \u001B[1;36m1\u001B[0m\u001B[1;33m\u001B[0m\u001B[1;33m\u001B[0m\u001B[0m\n\u001B[0;32m     49\u001B[0m \u001B[1;33m\u001B[0m\u001B[0m\n\u001B[1;32m---> 50\u001B[1;33m         \u001B[0mself\u001B[0m\u001B[1;33m.\u001B[0m\u001B[0mmeasure\u001B[0m \u001B[1;33m=\u001B[0m \u001B[1;32mlambda\u001B[0m \u001B[0mx\u001B[0m\u001B[1;33m,\u001B[0m \u001B[0my\u001B[0m\u001B[1;33m:\u001B[0m \u001B[0mdistance_measure\u001B[0m\u001B[1;33m(\u001B[0m\u001B[0mx\u001B[0m\u001B[1;33m,\u001B[0m \u001B[0my\u001B[0m\u001B[1;33m,\u001B[0m \u001B[1;33m**\u001B[0m\u001B[0mdistance_kwargs\u001B[0m\u001B[1;33m)\u001B[0m\u001B[1;33m\u001B[0m\u001B[1;33m\u001B[0m\u001B[0m\n\u001B[0m\u001B[0;32m     51\u001B[0m         \u001B[0mself\u001B[0m\u001B[1;33m.\u001B[0m\u001B[0mbranches\u001B[0m \u001B[1;33m=\u001B[0m \u001B[1;33m[\u001B[0m\u001B[1;33m]\u001B[0m  \u001B[1;31m# Contains internal nodes or leaf nodes\u001B[0m\u001B[1;33m\u001B[0m\u001B[1;33m\u001B[0m\u001B[0m\n\u001B[0;32m     52\u001B[0m \u001B[1;33m\u001B[0m\u001B[0m\n",
      "\u001B[1;32m~\\PycharmProjects\\thesis\\util\\distance.py\u001B[0m in \u001B[0;36mcalculate_tcr_dist2_cached\u001B[1;34m(seq1, seq2, nan_distance, organism)\u001B[0m\n\u001B[0;32m     74\u001B[0m         \u001B[1;32mreturn\u001B[0m \u001B[0mCACHE_DICT\u001B[0m\u001B[1;33m[\u001B[0m\u001B[0mid\u001B[0m\u001B[1;33m]\u001B[0m\u001B[1;33m\u001B[0m\u001B[1;33m\u001B[0m\u001B[0m\n\u001B[0;32m     75\u001B[0m     \u001B[1;32melse\u001B[0m\u001B[1;33m:\u001B[0m\u001B[1;33m\u001B[0m\u001B[1;33m\u001B[0m\u001B[0m\n\u001B[1;32m---> 76\u001B[1;33m         \u001B[0mres\u001B[0m \u001B[1;33m=\u001B[0m \u001B[0mcalculate_tcr_dist2\u001B[0m\u001B[1;33m(\u001B[0m\u001B[0mseq1\u001B[0m\u001B[1;33m,\u001B[0m \u001B[0mseq2\u001B[0m\u001B[1;33m,\u001B[0m \u001B[0mnan_distance\u001B[0m\u001B[1;33m=\u001B[0m\u001B[0mnan_distance\u001B[0m\u001B[1;33m,\u001B[0m \u001B[0morganism\u001B[0m\u001B[1;33m=\u001B[0m\u001B[0morganism\u001B[0m\u001B[1;33m)\u001B[0m\u001B[1;33m\u001B[0m\u001B[1;33m\u001B[0m\u001B[0m\n\u001B[0m\u001B[0;32m     77\u001B[0m         \u001B[0mCACHE_DICT\u001B[0m\u001B[1;33m[\u001B[0m\u001B[0mid\u001B[0m\u001B[1;33m]\u001B[0m \u001B[1;33m=\u001B[0m \u001B[0mres\u001B[0m\u001B[1;33m\u001B[0m\u001B[1;33m\u001B[0m\u001B[0m\n\u001B[0;32m     78\u001B[0m         \u001B[1;32mreturn\u001B[0m \u001B[0mres\u001B[0m\u001B[1;33m\u001B[0m\u001B[1;33m\u001B[0m\u001B[0m\n",
      "\u001B[1;32m~\\PycharmProjects\\thesis\\util\\distance.py\u001B[0m in \u001B[0;36mcalculate_tcr_dist2\u001B[1;34m(seq1, seq2, nan_distance, organism)\u001B[0m\n\u001B[0;32m     47\u001B[0m \u001B[1;33m\u001B[0m\u001B[0m\n\u001B[0;32m     48\u001B[0m     \u001B[1;31m# create a TCRrep object\u001B[0m\u001B[1;33m\u001B[0m\u001B[1;33m\u001B[0m\u001B[0m\n\u001B[1;32m---> 49\u001B[1;33m     tr = TCRrep(cell_df=df,\n\u001B[0m\u001B[0;32m     50\u001B[0m                 \u001B[0morganism\u001B[0m\u001B[1;33m=\u001B[0m\u001B[0morganism\u001B[0m\u001B[1;33m,\u001B[0m\u001B[1;33m\u001B[0m\u001B[1;33m\u001B[0m\u001B[0m\n\u001B[0;32m     51\u001B[0m                 \u001B[0mchains\u001B[0m\u001B[1;33m=\u001B[0m\u001B[1;33m[\u001B[0m\u001B[1;34m'alpha'\u001B[0m\u001B[1;33m,\u001B[0m \u001B[1;34m'beta'\u001B[0m\u001B[1;33m]\u001B[0m\u001B[1;33m,\u001B[0m\u001B[1;33m\u001B[0m\u001B[1;33m\u001B[0m\u001B[0m\n",
      "\u001B[1;32m~\\AppData\\Local\\Programs\\Python\\Python39\\lib\\site-packages\\tcrdist\\repertoire.py\u001B[0m in \u001B[0;36m__init__\u001B[1;34m(self, organism, chains, db_file, archive_name, blank, cell_df, clone_df, imgt_aligned, infer_all_genes, infer_cdrs, infer_index_cols, deduplicate, use_defaults, store_all_cdr, compute_distances, index_cols, cpus, df2, archive_result)\u001B[0m\n\u001B[0;32m    176\u001B[0m \u001B[1;33m\u001B[0m\u001B[0m\n\u001B[0;32m    177\u001B[0m             \u001B[1;32mif\u001B[0m \u001B[0minfer_all_genes\u001B[0m\u001B[1;33m:\u001B[0m\u001B[1;33m\u001B[0m\u001B[1;33m\u001B[0m\u001B[0m\n\u001B[1;32m--> 178\u001B[1;33m                 \u001B[0mself\u001B[0m\u001B[1;33m.\u001B[0m\u001B[0mall_genes\u001B[0m \u001B[1;33m=\u001B[0m \u001B[0mrepertoire_db\u001B[0m\u001B[1;33m.\u001B[0m\u001B[0mRefGeneSet\u001B[0m\u001B[1;33m(\u001B[0m\u001B[0mdb_file\u001B[0m\u001B[1;33m)\u001B[0m\u001B[1;33m.\u001B[0m\u001B[0mall_genes\u001B[0m\u001B[1;33m\u001B[0m\u001B[1;33m\u001B[0m\u001B[0m\n\u001B[0m\u001B[0;32m    179\u001B[0m \u001B[1;33m\u001B[0m\u001B[0m\n\u001B[0;32m    180\u001B[0m             \u001B[1;32mif\u001B[0m \u001B[0minfer_cdrs\u001B[0m\u001B[1;33m:\u001B[0m\u001B[1;33m\u001B[0m\u001B[1;33m\u001B[0m\u001B[0m\n",
      "\u001B[1;32m~\\AppData\\Local\\Programs\\Python\\Python39\\lib\\site-packages\\tcrdist\\repertoire_db.py\u001B[0m in \u001B[0;36m__init__\u001B[1;34m(self, db_file)\u001B[0m\n\u001B[0;32m     46\u001B[0m     \u001B[1;32mdef\u001B[0m \u001B[0m__init__\u001B[0m\u001B[1;33m(\u001B[0m\u001B[0mself\u001B[0m\u001B[1;33m,\u001B[0m \u001B[0mdb_file\u001B[0m\u001B[1;33m)\u001B[0m\u001B[1;33m:\u001B[0m\u001B[1;33m\u001B[0m\u001B[1;33m\u001B[0m\u001B[0m\n\u001B[0;32m     47\u001B[0m         \u001B[0mself\u001B[0m\u001B[1;33m.\u001B[0m\u001B[0mdb_file\u001B[0m \u001B[1;33m=\u001B[0m \u001B[0mdb_file\u001B[0m\u001B[1;33m\u001B[0m\u001B[1;33m\u001B[0m\u001B[0m\n\u001B[1;32m---> 48\u001B[1;33m         \u001B[0mself\u001B[0m\u001B[1;33m.\u001B[0m\u001B[0mall_genes\u001B[0m \u001B[1;33m=\u001B[0m \u001B[0mself\u001B[0m\u001B[1;33m.\u001B[0m\u001B[0mgenerate_all_genes\u001B[0m\u001B[1;33m(\u001B[0m\u001B[0mself\u001B[0m\u001B[1;33m.\u001B[0m\u001B[0mdb_file\u001B[0m\u001B[1;33m)\u001B[0m\u001B[1;33m\u001B[0m\u001B[1;33m\u001B[0m\u001B[0m\n\u001B[0m\u001B[0;32m     49\u001B[0m \u001B[1;33m\u001B[0m\u001B[0m\n\u001B[0;32m     50\u001B[0m     \u001B[1;32mdef\u001B[0m \u001B[0mgenerate_all_genes\u001B[0m\u001B[1;33m(\u001B[0m\u001B[0mself\u001B[0m\u001B[1;33m,\u001B[0m \u001B[0mdb_file\u001B[0m \u001B[1;33m=\u001B[0m \u001B[1;34m\"alphabeta_db.tsv\"\u001B[0m\u001B[1;33m)\u001B[0m\u001B[1;33m:\u001B[0m\u001B[1;33m\u001B[0m\u001B[1;33m\u001B[0m\u001B[0m\n",
      "\u001B[1;32m~\\AppData\\Local\\Programs\\Python\\Python39\\lib\\site-packages\\tcrdist\\repertoire_db.py\u001B[0m in \u001B[0;36mgenerate_all_genes\u001B[1;34m(self, db_file)\u001B[0m\n\u001B[0;32m     67\u001B[0m \u001B[1;33m\u001B[0m\u001B[0m\n\u001B[0;32m     68\u001B[0m         \u001B[1;32mfor\u001B[0m \u001B[0mrowi\u001B[0m\u001B[1;33m,\u001B[0m \u001B[0mrow\u001B[0m \u001B[1;32min\u001B[0m \u001B[0mdb_df\u001B[0m\u001B[1;33m.\u001B[0m\u001B[0miterrows\u001B[0m\u001B[1;33m(\u001B[0m\u001B[1;33m)\u001B[0m\u001B[1;33m:\u001B[0m\u001B[1;33m\u001B[0m\u001B[1;33m\u001B[0m\u001B[0m\n\u001B[1;32m---> 69\u001B[1;33m             \u001B[0mg\u001B[0m \u001B[1;33m=\u001B[0m \u001B[0mTCRGene\u001B[0m\u001B[1;33m(\u001B[0m \u001B[0mrow\u001B[0m \u001B[1;33m)\u001B[0m\u001B[1;33m\u001B[0m\u001B[1;33m\u001B[0m\u001B[0m\n\u001B[0m\u001B[0;32m     70\u001B[0m             \u001B[1;32mif\u001B[0m \u001B[0mg\u001B[0m\u001B[1;33m.\u001B[0m\u001B[0morganism\u001B[0m \u001B[1;32mnot\u001B[0m \u001B[1;32min\u001B[0m \u001B[0mall_genes\u001B[0m\u001B[1;33m:\u001B[0m\u001B[1;33m\u001B[0m\u001B[1;33m\u001B[0m\u001B[0m\n\u001B[0;32m     71\u001B[0m                 \u001B[0mall_genes\u001B[0m\u001B[1;33m[\u001B[0m\u001B[0mg\u001B[0m\u001B[1;33m.\u001B[0m\u001B[0morganism\u001B[0m\u001B[1;33m]\u001B[0m \u001B[1;33m=\u001B[0m \u001B[0mOrderedDict\u001B[0m\u001B[1;33m(\u001B[0m\u001B[1;33m)\u001B[0m \u001B[1;31m# map from id to TCR_Gene objects\u001B[0m\u001B[1;33m\u001B[0m\u001B[1;33m\u001B[0m\u001B[0m\n",
      "\u001B[1;32m~\\AppData\\Local\\Programs\\Python\\Python39\\lib\\site-packages\\tcrdist\\repertoire_db.py\u001B[0m in \u001B[0;36m__init__\u001B[1;34m(self, l)\u001B[0m\n\u001B[0;32m    140\u001B[0m         \u001B[0mself\u001B[0m\u001B[1;33m.\u001B[0m\u001B[0mmm1_rep\u001B[0m  \u001B[1;33m=\u001B[0m \u001B[0ml\u001B[0m\u001B[1;33m[\u001B[0m\u001B[1;34m'id'\u001B[0m\u001B[1;33m]\u001B[0m \u001B[1;31m# THIS IS PROBABLY NOT ACCURATE SEE LINES 171 of all genes\u001B[0m\u001B[1;33m\u001B[0m\u001B[1;33m\u001B[0m\u001B[0m\n\u001B[0;32m    141\u001B[0m         \u001B[0mself\u001B[0m\u001B[1;33m.\u001B[0m\u001B[0mnucseq_offset\u001B[0m \u001B[1;33m=\u001B[0m \u001B[0mself\u001B[0m\u001B[1;33m.\u001B[0m\u001B[0mframe\u001B[0m \u001B[1;33m-\u001B[0m \u001B[1;36m1\u001B[0m \u001B[1;31m## 0, 1 or 2 (0-indexed for python)\u001B[0m\u001B[1;33m\u001B[0m\u001B[1;33m\u001B[0m\u001B[0m\n\u001B[1;32m--> 142\u001B[1;33m         \u001B[0mself\u001B[0m\u001B[1;33m.\u001B[0m\u001B[0mprotseq\u001B[0m \u001B[1;33m=\u001B[0m \u001B[0mtranslation\u001B[0m\u001B[1;33m.\u001B[0m\u001B[0mget_translation\u001B[0m\u001B[1;33m(\u001B[0m \u001B[0mself\u001B[0m\u001B[1;33m.\u001B[0m\u001B[0mnucseq\u001B[0m\u001B[1;33m,\u001B[0m \u001B[0mself\u001B[0m\u001B[1;33m.\u001B[0m\u001B[0mframe\u001B[0m \u001B[1;33m)\u001B[0m\u001B[1;33m[\u001B[0m\u001B[1;36m0\u001B[0m\u001B[1;33m]\u001B[0m\u001B[1;33m\u001B[0m\u001B[1;33m\u001B[0m\u001B[0m\n\u001B[0m\u001B[0;32m    143\u001B[0m \u001B[1;33m\u001B[0m\u001B[0m\n\u001B[0;32m    144\u001B[0m         \u001B[1;32mif\u001B[0m \u001B[0mpd\u001B[0m\u001B[1;33m.\u001B[0m\u001B[0misnull\u001B[0m\u001B[1;33m(\u001B[0m\u001B[0ml\u001B[0m\u001B[1;33m[\u001B[0m\u001B[1;34m'cdrs'\u001B[0m\u001B[1;33m]\u001B[0m\u001B[1;33m)\u001B[0m\u001B[1;33m:\u001B[0m\u001B[1;33m\u001B[0m\u001B[1;33m\u001B[0m\u001B[0m\n",
      "\u001B[1;32m~\\AppData\\Local\\Programs\\Python\\Python39\\lib\\site-packages\\tcrdist\\translation.py\u001B[0m in \u001B[0;36mget_translation\u001B[1;34m(seq, frame)\u001B[0m\n\u001B[0;32m    242\u001B[0m         \u001B[0mseq\u001B[0m \u001B[1;33m=\u001B[0m \u001B[0mreverse_complement\u001B[0m\u001B[1;33m(\u001B[0m \u001B[0mseq\u001B[0m \u001B[1;33m)\u001B[0m\u001B[1;33m\u001B[0m\u001B[1;33m\u001B[0m\u001B[0m\n\u001B[0;32m    243\u001B[0m     \u001B[0moffset\u001B[0m \u001B[1;33m=\u001B[0m \u001B[0mnp\u001B[0m\u001B[1;33m.\u001B[0m\u001B[0mabs\u001B[0m\u001B[1;33m(\u001B[0m\u001B[0mframe\u001B[0m\u001B[1;33m)\u001B[0m \u001B[1;33m-\u001B[0m \u001B[1;36m1\u001B[0m\u001B[1;33m\u001B[0m\u001B[1;33m\u001B[0m\u001B[0m\n\u001B[1;32m--> 244\u001B[1;33m     \u001B[1;32massert\u001B[0m \u001B[0moffset\u001B[0m \u001B[1;32min\u001B[0m \u001B[0mrange\u001B[0m\u001B[1;33m(\u001B[0m\u001B[1;36m3\u001B[0m\u001B[1;33m)\u001B[0m\u001B[1;33m\u001B[0m\u001B[1;33m\u001B[0m\u001B[0m\n\u001B[0m\u001B[0;32m    245\u001B[0m     \u001B[0mseq\u001B[0m \u001B[1;33m=\u001B[0m \u001B[0mseq\u001B[0m\u001B[1;33m[\u001B[0m\u001B[0moffset\u001B[0m\u001B[1;33m:\u001B[0m\u001B[1;33m]\u001B[0m\u001B[1;33m.\u001B[0m\u001B[0mlower\u001B[0m\u001B[1;33m(\u001B[0m\u001B[1;33m)\u001B[0m\u001B[1;33m\u001B[0m\u001B[1;33m\u001B[0m\u001B[0m\n\u001B[0;32m    246\u001B[0m     \u001B[0mnaa\u001B[0m \u001B[1;33m=\u001B[0m \u001B[0mlen\u001B[0m\u001B[1;33m(\u001B[0m\u001B[0mseq\u001B[0m\u001B[1;33m)\u001B[0m\u001B[1;33m//\u001B[0m\u001B[1;36m3\u001B[0m\u001B[1;33m\u001B[0m\u001B[1;33m\u001B[0m\u001B[0m\n",
      "\u001B[1;31mKeyboardInterrupt\u001B[0m: "
     ]
    }
   ],
   "source": [
    "for dataset_size in [50, 100, 200, 500, 1000, 2000, 5000, None]:\n",
    "    print(f\"### Dataset size: {dataset_size} ###\")\n",
    "    update_data_per_fold(dataset_size)\n",
    "    scores = evaluate_model_list(models_to_evaluate)\n",
    "    plot_scores(scores, \"Model performance (AUC)\", baseline_name='RandomForest (only CDR3)')"
   ],
   "metadata": {
    "collapsed": false
   }
  },
  {
   "cell_type": "code",
   "execution_count": 35,
   "outputs": [],
   "source": [
    "models_to_evaluate = []"
   ],
   "metadata": {
    "collapsed": false
   }
  },
  {
   "cell_type": "code",
   "execution_count": null,
   "outputs": [],
   "source": [],
   "metadata": {
    "collapsed": false
   }
  }
 ],
 "metadata": {
  "kernelspec": {
   "display_name": "Python 3",
   "language": "python",
   "name": "python3"
  },
  "language_info": {
   "codemirror_mode": {
    "name": "ipython",
    "version": 2
   },
   "file_extension": ".py",
   "mimetype": "text/x-python",
   "name": "python",
   "nbconvert_exporter": "python",
   "pygments_lexer": "ipython2",
   "version": "2.7.6"
  }
 },
 "nbformat": 4,
 "nbformat_minor": 0
}
