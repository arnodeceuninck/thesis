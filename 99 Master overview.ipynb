{
 "cells": [
  {
   "cell_type": "markdown",
   "source": [
    "# Master overview\n",
    "This master overview contains all graphs used in the final thesis, to make sure everything was trained and tested on the same data."
   ],
   "metadata": {
    "collapsed": false
   }
  },
  {
   "cell_type": "code",
   "execution_count": 22,
   "outputs": [],
   "source": [
    "# utils\n",
    "from util import evaluate_no_cv, calculate_auc_and_plot, get_epitope_df, get_features, fix_test, \\\n",
    "    evaluate_seperate_chains, get_columns_starting_with, get_counts, plot_scores\n",
    "\n",
    "# distance measures\n",
    "from util import ProximityForestClassifier, calculate_tcr_dist2, calculate_tcr_dist2_cached, calculate_tcr_dist_multiple_chains, calculate_tcr_dist, multi_dist, levenstein_distance, multi_lev, calculate_approx_distance, nan_hamming\n",
    "\n",
    "# sklearn\n",
    "from sklearn.model_selection import train_test_split\n",
    "from sklearn import impute\n",
    "from sklearn.experimental import enable_iterative_imputer\n",
    "from sklearn.pipeline import Pipeline\n",
    "\n",
    "# own models\n",
    "from CustomForest import RandomForest as CustomForest\n",
    "from util import ProximityForestClassifier, KNNString\n",
    "\n",
    "# other\n",
    "import numpy as np\n",
    "import pandas as pd\n",
    "from datetime import datetime\n",
    "import os\n",
    "\n",
    "# models\n",
    "from xgboost import XGBClassifier\n",
    "from sklearn.ensemble import HistGradientBoostingClassifier, RandomForestClassifier\n",
    "from lightgbm import LGBMClassifier\n",
    "from sklearn.neighbors import KNeighborsClassifier\n",
    "\n",
    "# warnings\n",
    "import warnings\n",
    "from pandas.errors import SettingWithCopyWarning\n",
    "\n",
    "warnings.filterwarnings(\"ignore\",\n",
    "                        category=UserWarning)  # hide: UserWarning: X has feature names, but RandomForestClassifier was fitted without feature names\n",
    "warnings.filterwarnings(\"ignore\", category=FutureWarning)\n",
    "warnings.filterwarnings(\"ignore\", category=SettingWithCopyWarning)"
   ],
   "metadata": {
    "collapsed": false
   }
  },
  {
   "cell_type": "code",
   "execution_count": 23,
   "outputs": [],
   "source": [
    "models_to_evaluate = []"
   ],
   "metadata": {
    "collapsed": false
   }
  },
  {
   "cell_type": "code",
   "execution_count": 24,
   "outputs": [],
   "source": [
    "# train/test data\n",
    "folds = 5\n",
    "epitope = \"GILGFVFTL\"\n",
    "species = \"HomoSapiens\"\n",
    "descr = \"distance-models-cdr-hamming\"\n",
    "\n",
    "dataset_size = 50 # typically 50, 100, 200, 500, 1000, 2000, 5000 or None (None = all data)\n",
    "\n",
    "\n",
    "data_per_fold = []\n",
    "df_size = 0\n",
    "\n",
    "def update_data_per_fold(dataset_size, epitope_=None):\n",
    "    global data_per_fold, df_size, epitope, species, folds\n",
    "\n",
    "    epitope = epitope_ if epitope_ is not None else epitope\n",
    "\n",
    "    df = get_epitope_df(epitope, species=species)\n",
    "\n",
    "    # for fixed test size (during the different size runs when sampling a few instances)\n",
    "    df, test = train_test_split(df, test_size=0.2, random_state=0)\n",
    "    test = test.sample(400, random_state=0)\n",
    "    # test.dropna(inplace=True)\n",
    "    # split test df into folds\n",
    "    # test_folds = np.array_split(test, folds)\n",
    "    # test = test.sample(100, random_state=0)\n",
    "\n",
    "\n",
    "    df = df.sample(dataset_size, random_state=0) if dataset_size is not None else df\n",
    "    df_size = len(df)\n",
    "\n",
    "    data_per_fold = []\n",
    "    for seed in range(folds):\n",
    "        fold_data = {\"seed\": seed,\n",
    "                     \"epitope\": epitope,\n",
    "                     \"species\": species,\n",
    "                     \"df_size\": df_size,}\n",
    "\n",
    "        train_with_nan, test_with_nan = train_test_split(df, test_size=0.2, random_state=seed)\n",
    "\n",
    "        # # for fixed test size (during the different size runs)\n",
    "        # test_with_nan = test_folds[seed] # actually no nan, but no problem\n",
    "        test_with_nan = test # same test set for all folds\n",
    "\n",
    "\n",
    "        test = test_with_nan.dropna()\n",
    "\n",
    "        x_missing = train_with_nan.isna().any(axis=1)\n",
    "\n",
    "        # with nan in train set\n",
    "        x = get_features(train_with_nan)\n",
    "        y = train_with_nan['reaction']\n",
    "\n",
    "        # print the name of all columns in x that contain nan\n",
    "\n",
    "\n",
    "\n",
    "        x_missing_test = test_with_nan.isna().any(axis=1)\n",
    "        x_test = get_features(test, test=True)\n",
    "        x_test = fix_test(x_test, x.columns)\n",
    "        x_test_missing = x_test.isna().any(axis=1)\n",
    "\n",
    "        y_test = test['reaction']\n",
    "\n",
    "        alpha_only_count_pos, beta_only_count_pos, both_count_pos, non_count_pos = get_counts(train_with_nan)\n",
    "\n",
    "        assert len(x) == len(x_missing) == len(y)\n",
    "        assert len(x_test) == len(x_test_missing) == len(y_test)\n",
    "\n",
    "        fold_data[\"nan\"] = {\"x\": x, \"y\": y, \"x_test\": x_test, \"y_test\": y_test, 'x_missing': x_missing,\n",
    "                            'x_missing_test': x_missing_test, 'x_original': train_with_nan,\n",
    "                            'x_test_original': test,\n",
    "                            \"train_alpha_only\": alpha_only_count_pos, \"train_beta_only\": beta_only_count_pos,\n",
    "                            \"train_both\": both_count_pos, \"train_non\": non_count_pos, 'train_total': len(x),\n",
    "                            'test_total': len(x_test)}\n",
    "\n",
    "        # without nan in train set\n",
    "        train_without_nan = train_with_nan.dropna()\n",
    "        x = get_features(train_without_nan)\n",
    "        y = train_without_nan['reaction']\n",
    "\n",
    "        x_test = get_features(test, test=True)\n",
    "        x_test = fix_test(x_test, x.columns)\n",
    "        y_test = test['reaction']\n",
    "\n",
    "        assert len(x) == len(y)\n",
    "        assert len(x_test) == len(y_test)\n",
    "\n",
    "        fold_data[\"no_nan\"] = {\"x\": x, \"y\": y, \"x_test\": x_test, \"y_test\": y_test, 'train_total': len(x),\n",
    "                               'test_total': len(x_test), 'train_both': len(train_without_nan), 'train_non': 0, 'x_original': train_without_nan, 'x_test_original': test,\n",
    "                               'train_alpha_only': 0, 'train_beta_only': 0}\n",
    "\n",
    "        data_per_fold.append(fold_data)\n",
    "\n",
    "\n",
    "    # print train and test size for seed 0 (nan and no_nan)\n",
    "    nan_data = data_per_fold[0][\"nan\"]\n",
    "    no_nan_data = data_per_fold[0][\"no_nan\"]\n",
    "    print(f\"Nan: train: {len(nan_data['x'])}, test: {len(nan_data['x_test'])}\")\n",
    "    print(f\"No Nan: train: {len(no_nan_data['x'])}, test: {len(no_nan_data['x_test'])}\")"
   ],
   "metadata": {
    "collapsed": false
   }
  },
  {
   "cell_type": "code",
   "execution_count": 25,
   "outputs": [],
   "source": [
    "def evaluate_model(model_description):\n",
    "    \"\"\"\n",
    "    model description is a dict with the following keys:\n",
    "    - name*: name of the model\n",
    "    - model*: the model\n",
    "    - imputer: the imputer to use\n",
    "    - chain: 'both', 'alpha', 'beta' or 'seperate'. In cas of 'seperate', model_alpha and model_beta must be defined instead of model\n",
    "    - drop_train_na: if True, all rows with nan in the train set are dropped\n",
    "    - missing_indicator: if True, a missing indicator is added as feature\n",
    "    - columns_to_use: list of columns to use (CDR, V, J)\n",
    "    - extract_features: if False, the original columns are used and no features are extracted\n",
    "    \"\"\"\n",
    "    global data_per_fold\n",
    "\n",
    "    assert \"name\" in model_description\n",
    "    assert \"model\" in model_description\n",
    "\n",
    "    scores = pd.DataFrame()\n",
    "\n",
    "    num_folds = len(data_per_fold)\n",
    "    for i in range(num_folds):\n",
    "\n",
    "        model_train_nan = not model_description.get(\"drop_train_na\", False)\n",
    "        data_name = \"nan\" if model_train_nan else \"no_nan\"\n",
    "\n",
    "        chain = model_description.get(\"chain\", \"both\")\n",
    "        assert chain in [\"both\", \"alpha\", \"beta\", \"seperate\"]\n",
    "\n",
    "        # get the precomputed dataset for this fold (either the version with nan or without nan\n",
    "        fold_data = data_per_fold[i]\n",
    "        fold_dataset = fold_data[data_name]\n",
    "        x = fold_dataset[\"x\"].copy()\n",
    "        y = fold_dataset[\"y\"].copy()\n",
    "        x_test = fold_dataset[\"x_test\"].copy()\n",
    "        y_test = fold_dataset[\"y_test\"].copy()\n",
    "\n",
    "        columns_to_use = model_description.get(\"columns_to_use\", None)\n",
    "\n",
    "        extract_features = model_description.get(\"extract_features\", True)\n",
    "\n",
    "        # set the columns_to_use if only specific gene features are used\n",
    "        gene_features = model_description.get(\"gene_features\", None)\n",
    "        if gene_features is not None:\n",
    "            assert gene_features in [\"FV\", \"F\", \"V\", \"F+V\", \"FV+F+V\"] #, \"CDR_only\"]\n",
    "\n",
    "            column_map = {'F': ['V_family', 'J_family'],\n",
    "                          'V': ['V_version', 'J_version'],\n",
    "                          'FV': ['V', 'J']}\n",
    "            column_map['F+V'] = column_map['F'] + column_map['V']\n",
    "            column_map['FV+F+V'] = column_map['FV'] + column_map['F'] + column_map['V']\n",
    "            # add CDR3 to all\n",
    "            for key in column_map:\n",
    "                column_map[key].append('CDR3')\n",
    "\n",
    "            columns_to_use = column_map[gene_features]\n",
    "\n",
    "\n",
    "        # if there needs to be other columns or no features need to be extracted, the pre-computed features won't work\n",
    "        if columns_to_use is None or not extract_features:\n",
    "            if columns_to_use is None:\n",
    "                columns_to_use = [\"CDR3\", \"V\", \"J\"]\n",
    "\n",
    "            # recreate train data\n",
    "            x_original = fold_dataset[\"x_original\"]\n",
    "            x_test_original = fold_dataset[\"x_test_original\"]\n",
    "\n",
    "            x = get_features(x_original, columns=columns_to_use, extract_features=extract_features)\n",
    "\n",
    "            x_test = get_features(x_test_original, columns=columns_to_use, test=True, extract_features=extract_features)\n",
    "            x_test = fix_test(x_test, x.columns)\n",
    "            x_test.dropna(inplace=True)\n",
    "\n",
    "\n",
    "        # add missing indicator if needed\n",
    "        missing_indicator = model_description.get(\"missing_indicator\", False)\n",
    "        if missing_indicator:\n",
    "            x_missing = fold_dataset[\"x_missing\"]\n",
    "            x_missing_test = fold_dataset[\"x_missing_test\"]\n",
    "            x[\"missing\"] = x_missing\n",
    "            x_test[\"missing\"] = x_missing_test\n",
    "\n",
    "        # get only alpha or beta chain if needed\n",
    "        if chain == \"alpha\" or chain == \"beta\":\n",
    "            x = get_columns_starting_with(x, f'{chain}_')\n",
    "            x_test = get_columns_starting_with(x_test, f'{chain}_')\n",
    "\n",
    "        model_imputer = model_description.get(\"imputer\", None)\n",
    "\n",
    "        separate_chains = chain == \"seperate\"\n",
    "\n",
    "        try:\n",
    "            if separate_chains:\n",
    "                model_alpha = model_description[\"model_alpha\"]\n",
    "                model_beta = model_description[\"model_beta\"]\n",
    "                auc = evaluate_seperate_chains(model_alpha, model_beta, x, y, x_test, y_test, model_imputer)\n",
    "            else:\n",
    "                model = model_description[\"model\"]\n",
    "                if model_imputer is not None:\n",
    "                    model = Pipeline([('imputer', model_imputer), ('model', model)])\n",
    "                    model_imputer = None\n",
    "                auc = evaluate_no_cv(model, x, y, x_test, y_test, model_imputer)\n",
    "\n",
    "            # add the scores to the dataframe\n",
    "            index = len(scores)\n",
    "            scores.loc[index, 'model'] = model_description['name']\n",
    "            scores.loc[index, 'auc'] = auc\n",
    "            scores.loc[index, 'model_train_nan'] = model_train_nan\n",
    "            scores.loc[index, 'imputer'] = model_imputer.__class__.__name__ if model_imputer is not None else None\n",
    "            scores.loc[index, 'chain'] = chain\n",
    "            scores.loc[index, 'group'] = model_description['group']\n",
    "\n",
    "            scores.loc[index, 'seed'] = fold_data[\"seed\"]\n",
    "            scores.loc[index, 'epitope'] = fold_data[\"epitope\"]\n",
    "            scores.loc[index, 'species'] = fold_data[\"species\"]\n",
    "\n",
    "            scores.loc[index, 'train_alpha_only'] = fold_dataset[\"train_alpha_only\"]\n",
    "            scores.loc[index, 'train_beta_only'] = fold_dataset[\"train_beta_only\"]\n",
    "            scores.loc[index, 'train_both'] = fold_dataset[\"train_both\"]\n",
    "            scores.loc[index, 'train_non'] = fold_dataset[\"train_non\"]\n",
    "            scores.loc[index, 'train_total'] = fold_dataset[\"train_total\"]\n",
    "            scores.loc[index, 'test_total'] = fold_dataset[\"test_total\"]\n",
    "            scores.loc[index, 'df_size'] = fold_data[\"df_size\"]\n",
    "\n",
    "            scores.loc[index, 'gene_features'] = gene_features\n",
    "            scores.loc[index, 'missing_indicator'] = missing_indicator\n",
    "\n",
    "\n",
    "            # print the row\n",
    "            # print(scores.loc[index])\n",
    "            # print(f\"AUC(m={model_description['name']}, s={seed}, train_na={int(model_train_nan)}): {auc}\")\n",
    "            print(auc)\n",
    "\n",
    "        except Exception as e:\n",
    "            print(f\"Error: {e}\")\n",
    "            raise e # for debugging\n",
    "            continue\n",
    "\n",
    "    return scores"
   ],
   "metadata": {
    "collapsed": false
   }
  },
  {
   "cell_type": "code",
   "execution_count": 26,
   "outputs": [],
   "source": [
    "def evaluate_model_list(models_to_evaluate):\n",
    "    assert len(models_to_evaluate) > 0, \"No models to evaluate\"\n",
    "\n",
    "    start_time = datetime.now()\n",
    "    timestamp = start_time.strftime(\"%Y%m%d-%H%M%S\")\n",
    "    # create a directory in outputs to save the files to\n",
    "    global epitope, df_size, descr\n",
    "    output_dir = f\"outputs/model-evaluations-{timestamp}-{epitope}-{df_size}-{descr}\"\n",
    "    os.makedirs(output_dir, exist_ok=True)\n",
    "\n",
    "    output_log = f\"{output_dir}/log.txt\"\n",
    "    with open(output_log, 'w') as f:\n",
    "        f.write(f\"Started at {start_time}\\n\\n\")\n",
    "        f.write(f\"Models to evaluate: {len(models_to_evaluate)}\\n\\n\")\n",
    "        for i, model in enumerate(models_to_evaluate):\n",
    "            f.write(f\"{i + 1}/{len(models_to_evaluate)}: {model['name']}\\n\")\n",
    "            f.write(f\"{model}\\n\\n\")\n",
    "\n",
    "\n",
    "    scores = pd.DataFrame()\n",
    "    for i, model in enumerate(models_to_evaluate):\n",
    "        print(f\"\\nEvaluating model {i + 1}/{len(models_to_evaluate)}\")\n",
    "        print(model)\n",
    "        model_scores = evaluate_model(model)\n",
    "\n",
    "        model_scores['test_nr'] = i + 1\n",
    "        model_scores.to_csv(f\"{output_dir}/{i + 1}-{model['name']}.csv\")\n",
    "\n",
    "        scores = pd.concat([scores, model_scores])\n",
    "    # write to csv\n",
    "    end_time = datetime.now()\n",
    "\n",
    "    time_taken = end_time - start_time\n",
    "    timestamp = end_time.strftime(\"%Y%m%d-%H%M%S\")\n",
    "    scores.to_csv(f\"{output_dir}/scores-{timestamp}.csv\")\n",
    "\n",
    "    plot_scores(scores, \"All models\", output_file=f\"{output_dir}/all-models.png\")\n",
    "\n",
    "    # create a directory 'groups'\n",
    "    groups_dir = f\"{output_dir}/groups\"\n",
    "    os.makedirs(groups_dir, exist_ok=True)\n",
    "    # for each group in the scores, save a csv with the scores for that group\n",
    "    for group in scores['group'].unique():\n",
    "        group_scores = scores[scores['group'] == group]\n",
    "\n",
    "        # always add the baseline group\n",
    "        if group != 'baseline':\n",
    "            baseline_scores = scores[scores['group'] == 'baseline']\n",
    "            group_scores = pd.concat([baseline_scores, group_scores])\n",
    "\n",
    "        group_scores.to_csv(f\"{groups_dir}/{group}.csv\")\n",
    "        plot_scores(group_scores, group, output_file=f\"{groups_dir}/{group}.png\")\n",
    "\n",
    "\n",
    "\n",
    "    print(f'Finished evaluating {len(models_to_evaluate)} models at {timestamp} in {time_taken} seconds')\n",
    "\n",
    "    with open(output_log, 'a') as f:\n",
    "        f.write(f\"Finished at {end_time}\\n\")\n",
    "        f.write(f\"Time taken: {time_taken}\\n\")\n",
    "        f.write(f\"Saved scores to {output_dir}\\n\")\n",
    "        f.write(f\"Saved all scores to {output_dir}/scores-{timestamp}.csv\\n\")\n",
    "        f.write(f\"Saved group scores to {groups_dir}\\n\")\n",
    "        f.write(f\"Saved all group scores to {groups_dir}/all-models.png\\n\")\n",
    "        f.write(f\"Saved all models to {output_dir}/all-models.png\\n\")\n",
    "        f.write(f\"Saved log to {output_log}\\n\")\n",
    "\n",
    "    return scores"
   ],
   "metadata": {
    "collapsed": false
   }
  },
  {
   "cell_type": "code",
   "execution_count": 27,
   "outputs": [],
   "source": [
    "# imputers\n",
    "zero_imputer = impute.SimpleImputer(missing_values=np.nan, strategy='constant', fill_value=0)\n",
    "mean_imputer = impute.SimpleImputer(missing_values=np.nan, strategy='mean')\n",
    "most_freq_imputer = impute.SimpleImputer(missing_values=np.nan, strategy='most_frequent')\n",
    "median_imputer = impute.SimpleImputer(missing_values=np.nan, strategy='median')"
   ],
   "metadata": {
    "collapsed": false
   }
  },
  {
   "cell_type": "code",
   "execution_count": 28,
   "outputs": [
    {
     "name": "stdout",
     "output_type": "stream",
     "text": [
      "Couldn't find program: 'echo'\n"
     ]
    }
   ],
   "source": [
    "%%script echo skipping\n",
    "\n",
    "# baseline (random forest, nans dropped in train)\n",
    "baseline = {\n",
    "    'name': 'Random Forest (NaNs dropped in train)',\n",
    "    'model': RandomForestClassifier(random_state=0),\n",
    "    'drop_train_na': True,\n",
    "    'group': 'baseline',\n",
    "}\n",
    "models_to_evaluate.append(baseline)"
   ],
   "metadata": {
    "collapsed": false
   }
  },
  {
   "cell_type": "code",
   "execution_count": 29,
   "outputs": [
    {
     "name": "stdout",
     "output_type": "stream",
     "text": [
      "Couldn't find program: 'echo'\n"
     ]
    }
   ],
   "source": [
    "%%script echo skipping\n",
    "\n",
    "# random forest imputations\n",
    "rf_zero_imputed = {\n",
    "    'name': 'Random Forest (Zero imputed)',\n",
    "    'model': RandomForestClassifier(random_state=0),\n",
    "    'imputer': zero_imputer,\n",
    "    'group': 'rf_imputations'\n",
    "}\n",
    "\n",
    "rf_mean_imputed = {\n",
    "    'name': 'Random Forest (Mean imputed)',\n",
    "    'model': RandomForestClassifier(random_state=0),\n",
    "    'imputer': mean_imputer,\n",
    "    'group': 'rf_imputations'\n",
    "}\n",
    "\n",
    "rf_most_freq_imputed = {\n",
    "    'name': 'Random Forest (Most frequent imputed)',\n",
    "    'model': RandomForestClassifier(random_state=0),\n",
    "    'imputer': most_freq_imputer,\n",
    "    'group': 'rf_imputations'\n",
    "}\n",
    "\n",
    "rf_median_imputed = {\n",
    "    'name': 'Random Forest (Median imputed)',\n",
    "    'model': RandomForestClassifier(random_state=0),\n",
    "    'imputer': median_imputer,\n",
    "    'group': 'rf_imputations'\n",
    "}\n",
    "\n",
    "rf_imputation_models = [rf_zero_imputed, rf_mean_imputed, rf_most_freq_imputed, rf_median_imputed]\n",
    "models_to_evaluate.extend(rf_imputation_models)"
   ],
   "metadata": {
    "collapsed": false
   }
  },
  {
   "cell_type": "code",
   "execution_count": 30,
   "outputs": [
    {
     "name": "stdout",
     "output_type": "stream",
     "text": [
      "Couldn't find program: 'echo'\n"
     ]
    }
   ],
   "source": [
    "%%script echo skipping\n",
    "\n",
    "# knn imputers\n",
    "rf_knn_imputed_1 = {\n",
    "    'name': 'Random Forest (KNN imputed, k=1)',\n",
    "    'model': RandomForestClassifier(random_state=0),\n",
    "    'imputer': impute.KNNImputer(n_neighbors=1),\n",
    "    'group': 'rf_knn_imputations'\n",
    "}\n",
    "\n",
    "rf_knn_imputed_5 = {\n",
    "    'name': 'Random Forest (KNN imputed, k=5)',\n",
    "    'model': RandomForestClassifier(random_state=0),\n",
    "    'imputer': impute.KNNImputer(n_neighbors=5),\n",
    "    'group': 'rf_knn_imputations'\n",
    "}\n",
    "\n",
    "rf_knn_imputed_15 = {\n",
    "    'name': 'Random Forest (KNN imputed, k=10)',\n",
    "    'model': RandomForestClassifier(random_state=0),\n",
    "    'imputer': impute.KNNImputer(n_neighbors=10),\n",
    "    'group': 'rf_knn_imputations'\n",
    "}\n",
    "\n",
    "rf_knn_imputation_models = [rf_knn_imputed_1, rf_knn_imputed_5, rf_knn_imputed_15]\n",
    "models_to_evaluate.extend(rf_knn_imputation_models)"
   ],
   "metadata": {
    "collapsed": false
   }
  },
  {
   "cell_type": "code",
   "execution_count": 31,
   "outputs": [
    {
     "name": "stdout",
     "output_type": "stream",
     "text": [
      "Couldn't find program: 'echo'\n"
     ]
    }
   ],
   "source": [
    "%%script echo skipping\n",
    "\n",
    "# iterative imputations\n",
    "rf_iterative_imputed_1 = {\n",
    "    'name': 'Random Forest (Iterative imputed, max_iter=1)',\n",
    "    'model': RandomForestClassifier(random_state=0),\n",
    "    'imputer': impute.IterativeImputer(max_iter=1),\n",
    "    'group': 'rf_iterative_imputations'\n",
    "}\n",
    "\n",
    "rf_iterative_imputed_5 = {\n",
    "    'name': 'Random Forest (Iterative imputed, max_iter=5)',\n",
    "    'model': RandomForestClassifier(random_state=0),\n",
    "    'imputer': impute.IterativeImputer(max_iter=5),\n",
    "    'group': 'rf_iterative_imputations'\n",
    "}\n",
    "\n",
    "# rf_iterative_imputed_10 = {\n",
    "#     'name': 'Random Forest (Iterative imputed, max_iter=10)',\n",
    "#     'model': RandomForestClassifier(random_state=0),\n",
    "#     'imputer': impute.IterativeImputer(max_iter=10),\n",
    "#     'group': 'rf_iterative_imputations'\n",
    "# }\n",
    "#\n",
    "# rf_iterative_imputed_15 = {\n",
    "#     'name': 'Random Forest (Iterative imputed, max_iter=15)',\n",
    "#     'model': RandomForestClassifier(random_state=0),\n",
    "#     'imputer': impute.IterativeImputer(max_iter=15),\n",
    "#     'group': 'rf_iterative_imputations'\n",
    "# }\n",
    "\n",
    "# rf_iterative_imputation_models = [rf_iterative_imputed_1, rf_iterative_imputed_5, rf_iterative_imputed_10, rf_iterative_imputed_15]\n",
    "rf_iterative_imputation_models = [rf_iterative_imputed_1, rf_iterative_imputed_5]\n",
    "models_to_evaluate.extend(rf_iterative_imputation_models)"
   ],
   "metadata": {
    "collapsed": false
   }
  },
  {
   "cell_type": "code",
   "execution_count": 32,
   "outputs": [
    {
     "name": "stdout",
     "output_type": "stream",
     "text": [
      "Couldn't find program: 'echo'\n"
     ]
    }
   ],
   "source": [
    "%%script echo skipping\n",
    "\n",
    "# knn classifier\n",
    "knn_classifier_mean_imputed = {\n",
    "    'name': 'KNN Classifier (mean imputed)',\n",
    "    'model': KNeighborsClassifier(),\n",
    "    'group': 'knn',\n",
    "    'imputer': mean_imputer\n",
    "}\n",
    "\n",
    "knn_classifier_knn_imputed = {\n",
    "    'name': 'KNN Classifier (KNN imputed)',\n",
    "    'model': KNeighborsClassifier(),\n",
    "    'group': 'knn',\n",
    "    'imputer': impute.KNNImputer()\n",
    "}\n",
    "\n",
    "knn_models = [knn_classifier_mean_imputed, knn_classifier_knn_imputed]\n",
    "models_to_evaluate.extend(knn_models)"
   ],
   "metadata": {
    "collapsed": false
   }
  },
  {
   "cell_type": "code",
   "execution_count": 33,
   "outputs": [
    {
     "name": "stdout",
     "output_type": "stream",
     "text": [
      "Couldn't find program: 'echo'\n"
     ]
    }
   ],
   "source": [
    "%%script echo skipping\n",
    "\n",
    "# missing indicator imputations\n",
    "# same models as above, but with missing indicator\n",
    "rf_imputation_models_with_missing_indicator = []\n",
    "for model in rf_imputation_models:\n",
    "    model_with_missing_indicator = model.copy()\n",
    "    model_with_missing_indicator['name'] += \" (with missing indicator)\"\n",
    "    model_with_missing_indicator['missing_indicator'] = True\n",
    "    model_with_missing_indicator['group'] = 'rf_imputations_with_missing_indicator'\n",
    "    rf_imputation_models_with_missing_indicator.append(model_with_missing_indicator)\n",
    "\n",
    "models_to_evaluate.extend(rf_imputation_models_with_missing_indicator)"
   ],
   "metadata": {
    "collapsed": false
   }
  },
  {
   "cell_type": "code",
   "execution_count": 34,
   "outputs": [
    {
     "name": "stdout",
     "output_type": "stream",
     "text": [
      "Couldn't find program: 'echo'\n"
     ]
    }
   ],
   "source": [
    "%%script echo skipping\n",
    "\n",
    "# gradient boosting classifiers\n",
    "hist_gradient_boosting = {\n",
    "    'name': 'HistGradientBoosting',\n",
    "    'model': HistGradientBoostingClassifier(random_state=0),\n",
    "    'group': 'gradient_boosting'\n",
    "}\n",
    "\n",
    "xgboost = {\n",
    "    'name': 'XGBoost',\n",
    "    'model': XGBClassifier(random_state=0),\n",
    "    'group': 'gradient_boosting'\n",
    "}\n",
    "\n",
    "lightgbm = {\n",
    "    'name': 'LightGBM',\n",
    "    'model': LGBMClassifier(random_state=0),\n",
    "    'group': 'gradient_boosting'\n",
    "}\n",
    "\n",
    "gradient_boosting_models = [hist_gradient_boosting, xgboost, lightgbm]\n",
    "models_to_evaluate.extend(gradient_boosting_models)"
   ],
   "metadata": {
    "collapsed": false
   }
  },
  {
   "cell_type": "code",
   "execution_count": 35,
   "outputs": [
    {
     "name": "stdout",
     "output_type": "stream",
     "text": [
      "Couldn't find program: 'echo'\n"
     ]
    }
   ],
   "source": [
    "%%script echo skipping\n",
    "\n",
    "# gene features\n",
    "features_to_test = [\"FV\", \"F\", \"V\", \"F+V\", \"FV+F+V\"]\n",
    "gene_feature_models = []\n",
    "for features in features_to_test:\n",
    "    model = {\n",
    "        'name': f\"Random Forest ({features})\",\n",
    "        'model': RandomForestClassifier(random_state=0),\n",
    "        'gene_features': features,\n",
    "        'group': 'gene_features',\n",
    "        'imputer': mean_imputer,\n",
    "    }\n",
    "    gene_feature_models.append(model)\n",
    "\n",
    "models_to_evaluate.extend(gene_feature_models)"
   ],
   "metadata": {
    "collapsed": false
   }
  },
  {
   "cell_type": "code",
   "execution_count": 36,
   "outputs": [
    {
     "name": "stdout",
     "output_type": "stream",
     "text": [
      "Couldn't find program: 'echo'\n"
     ]
    }
   ],
   "source": [
    "%%script echo skipping\n",
    "\n",
    "# chain inputs\n",
    "both_chains = {\n",
    "    'name': 'Random Forest (both chains)',\n",
    "    'model': RandomForestClassifier(random_state=0),\n",
    "    'chain': 'both',\n",
    "    'group': 'chain_inputs',\n",
    "    'imputer': mean_imputer,\n",
    "}\n",
    "\n",
    "alpha_chain = {\n",
    "    'name': 'Random Forest (Alpha chain)',\n",
    "    'model': RandomForestClassifier(random_state=0),\n",
    "    'chain': 'alpha',\n",
    "    'group': 'chain_inputs',\n",
    "    'imputer': mean_imputer,\n",
    "}\n",
    "\n",
    "beta_chain = {\n",
    "    'name': 'Random Forest (Beta chain)',\n",
    "    'model': RandomForestClassifier(random_state=0),\n",
    "    'chain': 'beta',\n",
    "    'group': 'chain_inputs',\n",
    "    'imputer': mean_imputer,\n",
    "}\n",
    "\n",
    "seperate_chains = {\n",
    "    'name': 'Random Forest (Seperate chains)',\n",
    "    'model_alpha': RandomForestClassifier(random_state=0),\n",
    "    'model_beta': RandomForestClassifier(random_state=0),\n",
    "    'chain': 'seperate',\n",
    "    'group': 'chain_inputs',\n",
    "    'imputer': mean_imputer,\n",
    "}\n",
    "\n",
    "chain_input_models = [both_chains, alpha_chain, beta_chain, seperate_chains]\n",
    "models_to_evaluate.extend(chain_input_models)"
   ],
   "metadata": {
    "collapsed": false
   }
  },
  {
   "cell_type": "code",
   "execution_count": 37,
   "outputs": [
    {
     "name": "stdout",
     "output_type": "stream",
     "text": [
      "Couldn't find program: 'echo'\n"
     ]
    }
   ],
   "source": [
    "%%script echo skipping\n",
    "\n",
    "chain_input_without_nans = []\n",
    "for model in chain_input_models:\n",
    "    model_without_nans = model.copy()\n",
    "    model_without_nans['name'] += \" (without nans)\"\n",
    "    model_without_nans['drop_train_na'] = True\n",
    "    model_without_nans['imputer'] = None\n",
    "    chain_input_without_nans.append(model_without_nans)\n",
    "models_to_evaluate.extend(chain_input_without_nans)"
   ],
   "metadata": {
    "collapsed": false
   }
  },
  {
   "cell_type": "code",
   "execution_count": 38,
   "outputs": [
    {
     "name": "stdout",
     "output_type": "stream",
     "text": [
      "Couldn't find program: 'echo'\n"
     ]
    }
   ],
   "source": [
    "%%script echo skipping\n",
    "\n",
    "# WeightedRandomForest\n",
    "weighted_random_forest = {\n",
    "    'name': 'RandomForest (own impl., weighted)',\n",
    "    'model': CustomForest(weighted=True), # doesn't support random state\n",
    "    'group': 'weighted_random_forest',\n",
    "}\n",
    "\n",
    "custom_random_forest = {\n",
    "    'name': 'RandomForest (own impl.)',\n",
    "    'model': CustomForest(weighted=False),\n",
    "    'group': 'weighted_random_forest',\n",
    "    'imputer': mean_imputer,\n",
    "}\n",
    "\n",
    "# # to check whether it's the same as non-weighted, which is indeed the case\n",
    "# weighted_random_forest_no_nan = {\n",
    "#     'name': 'RandomForest (own impl., weighted, no nan)',\n",
    "#     'model': CustomForest(weighted=True), # doesn't support random state\n",
    "#     'group': 'weighted_random_forest',\n",
    "#     'drop_train_na': True,\n",
    "# }\n",
    "\n",
    "custom_random_forest_no_nan = {\n",
    "    'name': 'RandomForest (own impl., no nan)',\n",
    "    'model': CustomForest(weighted=False),\n",
    "    'group': 'weighted_random_forest',\n",
    "    'drop_train_na': True,\n",
    "}\n",
    "\n",
    "weighted_random_forest_models = [weighted_random_forest, custom_random_forest, weighted_random_forest_no_nan, custom_random_forest_no_nan]\n",
    "models_to_evaluate.extend(weighted_random_forest_models)"
   ],
   "metadata": {
    "collapsed": false
   }
  },
  {
   "cell_type": "code",
   "execution_count": 39,
   "outputs": [
    {
     "name": "stdout",
     "output_type": "stream",
     "text": [
      "Couldn't find program: 'echo'\n"
     ]
    }
   ],
   "source": [
    "%%script echo skipping\n",
    "\n",
    "rf_cdr_only = {\n",
    "    'name': 'RandomForest (only CDR3)',\n",
    "    'model': RandomForestClassifier(random_state=0),\n",
    "    'group': 'cdr_only',\n",
    "    'columns_to_use': ['CDR3'],\n",
    "    'imputer': mean_imputer,\n",
    "}\n",
    "\n",
    "rf_cdr_only_no_nan = {\n",
    "    'name': 'RandomForest (only CDR3, no nan)',\n",
    "    'model': RandomForestClassifier(random_state=0),\n",
    "    'group': 'cdr_only',\n",
    "    'columns_to_use': ['CDR3'],\n",
    "    'drop_train_na': True,\n",
    "}\n",
    "\n",
    "models_to_evaluate.extend([rf_cdr_only, rf_cdr_only_no_nan])"
   ],
   "metadata": {
    "collapsed": false
   }
  },
  {
   "cell_type": "code",
   "execution_count": 40,
   "outputs": [
    {
     "name": "stdout",
     "output_type": "stream",
     "text": [
      "Couldn't find program: 'echo'\n"
     ]
    }
   ],
   "source": [
    "%%script echo skipping\n",
    "\n",
    "# knn classifier with different distance measures\n",
    "# knn classifier\n",
    "knn_tcr_dist_no_nan = {\n",
    "    'name': 'KNN (tcr_dist, nan_dist=10000, CDR3 only)',\n",
    "    'model':  KNNString(k=5, metric=calculate_tcr_dist_multiple_chains),\n",
    "    'group': 'knn_metrics',\n",
    "    'extract_features': False,\n",
    "    'columns_to_use': ['CDR3'],\n",
    "    'drop_train_na': True,\n",
    "}\n",
    "\n",
    "knn_tcr_dist_0 = {\n",
    "    'name': 'KNN (tcr_dist, nan_dist=0, CDR3 only)',\n",
    "    'model':  KNNString(k=5, metric=calculate_tcr_dist_multiple_chains, metric_kwargs={'nan_distance': 0}),\n",
    "    'group': 'knn_metrics',\n",
    "    'extract_features': False,\n",
    "    'columns_to_use': ['CDR3']\n",
    "}\n",
    "\n",
    "knn_lev_dist_no_nan = {\n",
    "    'name': 'KNN (lev, CDR3 only, no nan)',\n",
    "    'model':  KNNString(k=5, metric=multi_lev),\n",
    "    'group': 'knn_metrics',\n",
    "    'extract_features': False,\n",
    "    'columns_to_use': ['CDR3'],\n",
    "    'drop_train_na': True,\n",
    "}\n",
    "\n",
    "knn_lev_dist_0 = {\n",
    "    'name': 'KNN (multi_tcr_dist, nan_dist=0, CDR3 only)',\n",
    "    'model':  KNNString(k=5, metric=multi_lev, metric_kwargs={'nan_distance': 0}),\n",
    "    'group': 'knn_metrics',\n",
    "    'extract_features': False,\n",
    "    'columns_to_use': ['CDR3']\n",
    "}\n",
    "\n",
    "models_to_evaluate.extend([knn_tcr_dist_no_nan, knn_tcr_dist_0, knn_lev_dist_no_nan, knn_lev_dist_0])"
   ],
   "metadata": {
    "collapsed": false
   }
  },
  {
   "cell_type": "code",
   "execution_count": 41,
   "outputs": [
    {
     "name": "stdout",
     "output_type": "stream",
     "text": [
      "Couldn't find program: 'echo'\n"
     ]
    }
   ],
   "source": [
    "%%script echo skipping\n",
    "\n",
    "proximity_forest_no_nan = {\n",
    "    'name': 'ProximityForest (nan_dist=0, measure=tcr_dist)',\n",
    "    'model': ProximityForestClassifier(reduce_features=False, distance_measure=calculate_tcr_dist_multiple_chains),\n",
    "    'group': 'proximity_forest',\n",
    "    'extract_features': False,\n",
    "    'columns_to_use': ['CDR3'],\n",
    "    'drop_train_na': True,\n",
    "}\n",
    "\n",
    "proximity_forest_models = [proximity_forest_no_nan]\n",
    "\n",
    "models_to_evaluate.extend(proximity_forest_models)"
   ],
   "metadata": {
    "collapsed": false
   }
  },
  {
   "cell_type": "code",
   "execution_count": 42,
   "outputs": [],
   "source": [
    "# %%script echo skipping\n",
    "\n",
    "# More ProximityForest\n",
    "# proximity_forest_nan_150 = {\n",
    "#     'name': 'ProximityForest (nan_dist=150, measure=tcr_dist)',\n",
    "#     'model': ProximityForestClassifier(reduce_features=False, distance_measure=calculate_tcr_dist_multiple_chains,\n",
    "#                                       distance_kwargs={\"nan_distance\": 150}),\n",
    "#     'group': 'proximity_forest',\n",
    "#     'extract_features': False,\n",
    "#     'columns_to_use': ['CDR3'],\n",
    "# }\n",
    "\n",
    "\n",
    "# proximity_forest_tcr_dist2 = {\n",
    "#     'name': 'ProximityForest (nan_dist=0, measure=tcr_dist2)',\n",
    "#     'model': ProximityForestClassifier(reduce_features=False, distance_measure=calculate_tcr_dist2_cached),\n",
    "#     'group': 'proximity_forest',\n",
    "#     'extract_features': False,\n",
    "#     'columns_to_use': ['CDR3', 'V', 'J'],\n",
    "#     'drop_train_na': False,\n",
    "# }\n",
    "#\n",
    "# proximity_forest_no_nan_tcr_dist2 = {\n",
    "#     'name': 'ProximityForest (no_nan, measure=tcr_dist2)',\n",
    "#     'model': ProximityForestClassifier(reduce_features=False, distance_measure=calculate_tcr_dist2_cached),\n",
    "#     'group': 'proximity_forest',\n",
    "#     'extract_features': False,\n",
    "#     'columns_to_use': ['CDR3', 'V', 'J'],\n",
    "#     'drop_train_na': True,\n",
    "# }\n",
    "\n",
    "# proximity_forest_tcr_dist2_approx = {\n",
    "#     'name': 'ProximityForest (nan_dist, measure=tcr_approx)',\n",
    "#     'model': ProximityForestClassifier(reduce_features=False, distance_measure=calculate_approx_distance, distance_kwargs={'nan_distance': 0}),\n",
    "#     'group': 'proximity_forest',\n",
    "#     'extract_features': False,\n",
    "#     'columns_to_use': ['CDR3', 'V', 'J'],\n",
    "#     'drop_train_na': False,\n",
    "# }\n",
    "\n",
    "# proximity_forest_no_nan_tcr_dist2_approx = {\n",
    "#     'name': 'ProximityForest (no_nan, measure=tcr_approx)',\n",
    "#     'model': ProximityForestClassifier(reduce_features=False, distance_measure=calculate_approx_distance),\n",
    "#     'group': 'proximity_forest',\n",
    "#     'extract_features': False,\n",
    "#     'columns_to_use': ['CDR3', 'V', 'J'],\n",
    "#     'drop_train_na': True,\n",
    "# }\n",
    "\n",
    "# proximity_forest_lev = {\n",
    "#     'name': 'ProximityForest (nan_dist=0, measure=lev)',\n",
    "#     'model': ProximityForestClassifier(reduce_features=False, distance_measure=multi_lev),\n",
    "#     'group': 'proximity_forest',\n",
    "#     'extract_features': False,\n",
    "#     'columns_to_use': ['CDR3', 'V', 'J'],\n",
    "#     'drop_train_na': False,\n",
    "# }\n",
    "#\n",
    "# proximity_forest_no_nan_lev = {\n",
    "#     'name': 'ProximityForest (no_nan, measure=lev)',\n",
    "#     'model': ProximityForestClassifier(reduce_features=False, distance_measure=multi_lev),\n",
    "#     'group': 'proximity_forest',\n",
    "#     'extract_features': False,\n",
    "#     'columns_to_use': ['CDR3', 'V', 'J'],\n",
    "#     'drop_train_na': True,\n",
    "# }\n",
    "\n",
    "proximity_forest_hamm = {\n",
    "    'name': 'ProximityForest (nan_dist=0, measure=hamming, cdr_only)',\n",
    "    'model': ProximityForestClassifier(reduce_features=False, distance_measure=nan_hamming),\n",
    "    'group': 'proximity_forest',\n",
    "    'extract_features': False,\n",
    "    'columns_to_use': ['CDR3'],\n",
    "    'drop_train_na': False,\n",
    "}\n",
    "\n",
    "proximity_forest_no_nan_hamm = {\n",
    "    'name': 'ProximityForest (no_nan, measure=hamming, cdr_only)',\n",
    "    'model': ProximityForestClassifier(reduce_features=False, distance_measure=nan_hamming),\n",
    "    'group': 'proximity_forest',\n",
    "    'extract_features': False,\n",
    "    'columns_to_use': ['CDR3'],\n",
    "    'drop_train_na': True,\n",
    "}\n",
    "\n",
    "# models_to_evaluate.append(proximity_forest_nan_150)\n",
    "# models_to_evaluate.append(proximity_forest_tcr_dist2)\n",
    "# models_to_evaluate.append(proximity_forest_no_nan_tcr_dist2)\n",
    "# models_to_evaluate.append(proximity_forest_tcr_dist2_approx)\n",
    "# models_to_evaluate.append(proximity_forest_no_nan_tcr_dist2_approx)\n",
    "# models_to_evaluate.append(proximity_forest_lev)\n",
    "# models_to_evaluate.append(proximity_forest_no_nan_lev)\n",
    "models_to_evaluate.append(proximity_forest_hamm)\n",
    "models_to_evaluate.append(proximity_forest_no_nan_hamm)"
   ],
   "metadata": {
    "collapsed": false
   }
  },
  {
   "cell_type": "code",
   "execution_count": 43,
   "outputs": [
    {
     "name": "stdout",
     "output_type": "stream",
     "text": [
      "### Dataset size: 50 ###\n"
     ]
    },
    {
     "name": "stderr",
     "output_type": "stream",
     "text": [
      "C:\\Users\\arnod\\PycharmProjects\\thesis\\util\\epitopes.py:6: DtypeWarning: Columns (20,29,30) have mixed types. Specify dtype option on import or set low_memory=False.\n",
      "  df_vdjdb = pd.read_csv('data/vdjdb-2022-03-30/vdjdb_full.txt', sep='\\t')\n"
     ]
    },
    {
     "name": "stdout",
     "output_type": "stream",
     "text": [
      "Number of negative samples changed from 47033 to 44205 (because of overlap with positive samples)\n",
      "Positive samples: alpha only: 2580, beta only: 3056, both: 2194, none: 0\n",
      "Negative samples (will be sampled to select same amount as positive): alpha only: 4499, beta only: 17510, both: 22196, none: 0\n",
      "Nan: train: 40, test: 108\n",
      "No Nan: train: 9, test: 108\n",
      "\n",
      "Evaluating model 1/2\n",
      "{'name': 'ProximityForest (nan_dist=0, measure=hamming, cdr_only)', 'model': <util.proximityforest.ProximityForestClassifier object at 0x00000246AFE384C0>, 'group': 'proximity_forest', 'extract_features': False, 'columns_to_use': ['CDR3'], 'drop_train_na': False}\n"
     ]
    },
    {
     "name": "stderr",
     "output_type": "stream",
     "text": [
      "Fitting: 100%|██████████| 100/100 [00:00<00:00, 185.73it/s]\n",
      "Predicting: 100%|██████████| 100/100 [00:00<00:00, 165.21it/s]\n"
     ]
    },
    {
     "name": "stdout",
     "output_type": "stream",
     "text": [
      "0.64\n"
     ]
    },
    {
     "name": "stderr",
     "output_type": "stream",
     "text": [
      "Fitting: 100%|██████████| 100/100 [00:00<00:00, 187.64it/s]\n",
      "Predicting: 100%|██████████| 100/100 [00:00<00:00, 152.64it/s]\n"
     ]
    },
    {
     "name": "stdout",
     "output_type": "stream",
     "text": [
      "0.56\n"
     ]
    },
    {
     "name": "stderr",
     "output_type": "stream",
     "text": [
      "Fitting: 100%|██████████| 100/100 [00:00<00:00, 182.65it/s]\n",
      "Predicting: 100%|██████████| 100/100 [00:00<00:00, 145.57it/s]\n"
     ]
    },
    {
     "name": "stdout",
     "output_type": "stream",
     "text": [
      "0.63\n"
     ]
    },
    {
     "name": "stderr",
     "output_type": "stream",
     "text": [
      "Fitting: 100%|██████████| 100/100 [00:00<00:00, 185.04it/s]\n",
      "Predicting: 100%|██████████| 100/100 [00:00<00:00, 145.46it/s]\n"
     ]
    },
    {
     "name": "stdout",
     "output_type": "stream",
     "text": [
      "0.56\n"
     ]
    },
    {
     "name": "stderr",
     "output_type": "stream",
     "text": [
      "Fitting: 100%|██████████| 100/100 [00:00<00:00, 187.80it/s]\n",
      "Predicting: 100%|██████████| 100/100 [00:00<00:00, 162.60it/s]\n"
     ]
    },
    {
     "name": "stdout",
     "output_type": "stream",
     "text": [
      "0.5700000000000001\n",
      "\n",
      "Evaluating model 2/2\n",
      "{'name': 'ProximityForest (no_nan, measure=hamming, cdr_only)', 'model': <util.proximityforest.ProximityForestClassifier object at 0x00000246AFE38370>, 'group': 'proximity_forest', 'extract_features': False, 'columns_to_use': ['CDR3'], 'drop_train_na': True}\n"
     ]
    },
    {
     "name": "stderr",
     "output_type": "stream",
     "text": [
      "Fitting: 100%|██████████| 100/100 [00:00<00:00, 1110.42it/s]\n",
      "Predicting: 100%|██████████| 100/100 [00:00<00:00, 206.65it/s]\n"
     ]
    },
    {
     "name": "stdout",
     "output_type": "stream",
     "text": [
      "0.62\n"
     ]
    },
    {
     "name": "stderr",
     "output_type": "stream",
     "text": [
      "Fitting: 100%|██████████| 100/100 [00:00<00:00, 1941.10it/s]\n",
      "Predicting: 100%|██████████| 100/100 [00:00<00:00, 290.58it/s]\n"
     ]
    },
    {
     "name": "stdout",
     "output_type": "stream",
     "text": [
      "0.55\n"
     ]
    },
    {
     "name": "stderr",
     "output_type": "stream",
     "text": [
      "Fitting: 100%|██████████| 100/100 [00:00<00:00, 1715.53it/s]\n",
      "Predicting: 100%|██████████| 100/100 [00:00<00:00, 297.90it/s]\n"
     ]
    },
    {
     "name": "stdout",
     "output_type": "stream",
     "text": [
      "0.62\n"
     ]
    },
    {
     "name": "stderr",
     "output_type": "stream",
     "text": [
      "Fitting: 100%|██████████| 100/100 [00:00<00:00, 1622.88it/s]\n",
      "Predicting: 100%|██████████| 100/100 [00:00<00:00, 299.90it/s]\n"
     ]
    },
    {
     "name": "stdout",
     "output_type": "stream",
     "text": [
      "0.55\n"
     ]
    },
    {
     "name": "stderr",
     "output_type": "stream",
     "text": [
      "Fitting: 100%|██████████| 100/100 [00:00<00:00, 1319.46it/s]\n",
      "Predicting: 100%|██████████| 100/100 [00:00<00:00, 231.21it/s]\n"
     ]
    },
    {
     "name": "stdout",
     "output_type": "stream",
     "text": [
      "0.55\n",
      "Finished evaluating 2 models at 20230527-081411 in 0:00:08.390450 seconds\n"
     ]
    },
    {
     "data": {
      "text/plain": "<Figure size 432x288 with 1 Axes>",
      "image/png": "[encoded data removed]"
     },
     "metadata": {
      "needs_background": "light"
     },
     "output_type": "display_data"
    },
    {
     "data": {
      "text/plain": "<Figure size 432x288 with 1 Axes>",
      "image/png": "[encoded data removed]"
     },
     "metadata": {
      "needs_background": "light"
     },
     "output_type": "display_data"
    },
    {
     "name": "stdout",
     "output_type": "stream",
     "text": [
      "### Dataset size: 100 ###\n"
     ]
    },
    {
     "name": "stderr",
     "output_type": "stream",
     "text": [
      "C:\\Users\\arnod\\PycharmProjects\\thesis\\util\\epitopes.py:6: DtypeWarning: Columns (20,29,30) have mixed types. Specify dtype option on import or set low_memory=False.\n",
      "  df_vdjdb = pd.read_csv('data/vdjdb-2022-03-30/vdjdb_full.txt', sep='\\t')\n"
     ]
    },
    {
     "name": "stdout",
     "output_type": "stream",
     "text": [
      "Number of negative samples changed from 47033 to 44205 (because of overlap with positive samples)\n",
      "Positive samples: alpha only: 2580, beta only: 3056, both: 2194, none: 0\n",
      "Negative samples (will be sampled to select same amount as positive): alpha only: 4499, beta only: 17510, both: 22196, none: 0\n",
      "Nan: train: 80, test: 108\n",
      "No Nan: train: 18, test: 108\n",
      "\n",
      "Evaluating model 1/2\n",
      "{'name': 'ProximityForest (nan_dist=0, measure=hamming, cdr_only)', 'model': <util.proximityforest.ProximityForestClassifier object at 0x00000246AFE384C0>, 'group': 'proximity_forest', 'extract_features': False, 'columns_to_use': ['CDR3'], 'drop_train_na': False}\n"
     ]
    },
    {
     "name": "stderr",
     "output_type": "stream",
     "text": [
      "Fitting: 100%|██████████| 100/100 [00:00<00:00, 110.23it/s]\n",
      "Predicting: 100%|██████████| 100/100 [00:00<00:00, 141.07it/s]\n"
     ]
    },
    {
     "name": "stdout",
     "output_type": "stream",
     "text": [
      "0.6799999999999999\n"
     ]
    },
    {
     "name": "stderr",
     "output_type": "stream",
     "text": [
      "Fitting: 100%|██████████| 100/100 [00:00<00:00, 107.26it/s]\n",
      "Predicting: 100%|██████████| 100/100 [00:00<00:00, 157.07it/s]\n"
     ]
    },
    {
     "name": "stdout",
     "output_type": "stream",
     "text": [
      "0.65\n"
     ]
    },
    {
     "name": "stderr",
     "output_type": "stream",
     "text": [
      "Fitting: 100%|██████████| 100/100 [00:00<00:00, 105.57it/s]\n",
      "Predicting: 100%|██████████| 100/100 [00:00<00:00, 149.74it/s]\n"
     ]
    },
    {
     "name": "stdout",
     "output_type": "stream",
     "text": [
      "0.6799999999999999\n"
     ]
    },
    {
     "name": "stderr",
     "output_type": "stream",
     "text": [
      "Fitting: 100%|██████████| 100/100 [00:00<00:00, 107.56it/s]\n",
      "Predicting: 100%|██████████| 100/100 [00:00<00:00, 162.51it/s]\n"
     ]
    },
    {
     "name": "stdout",
     "output_type": "stream",
     "text": [
      "0.67\n"
     ]
    },
    {
     "name": "stderr",
     "output_type": "stream",
     "text": [
      "Fitting: 100%|██████████| 100/100 [00:00<00:00, 108.74it/s]\n",
      "Predicting: 100%|██████████| 100/100 [00:00<00:00, 157.80it/s]\n"
     ]
    },
    {
     "name": "stdout",
     "output_type": "stream",
     "text": [
      "0.67\n",
      "\n",
      "Evaluating model 2/2\n",
      "{'name': 'ProximityForest (no_nan, measure=hamming, cdr_only)', 'model': <util.proximityforest.ProximityForestClassifier object at 0x00000246AFE38370>, 'group': 'proximity_forest', 'extract_features': False, 'columns_to_use': ['CDR3'], 'drop_train_na': True}\n"
     ]
    },
    {
     "name": "stderr",
     "output_type": "stream",
     "text": [
      "Fitting: 100%|██████████| 100/100 [00:00<00:00, 454.26it/s]\n",
      "Predicting: 100%|██████████| 100/100 [00:00<00:00, 160.72it/s]\n"
     ]
    },
    {
     "name": "stdout",
     "output_type": "stream",
     "text": [
      "0.64\n"
     ]
    },
    {
     "name": "stderr",
     "output_type": "stream",
     "text": [
      "Fitting: 100%|██████████| 100/100 [00:00<00:00, 838.84it/s]\n",
      "Predicting: 100%|██████████| 100/100 [00:00<00:00, 189.41it/s]\n"
     ]
    },
    {
     "name": "stdout",
     "output_type": "stream",
     "text": [
      "0.62\n"
     ]
    },
    {
     "name": "stderr",
     "output_type": "stream",
     "text": [
      "Fitting: 100%|██████████| 100/100 [00:00<00:00, 757.30it/s]\n",
      "Predicting: 100%|██████████| 100/100 [00:00<00:00, 156.81it/s]\n"
     ]
    },
    {
     "name": "stdout",
     "output_type": "stream",
     "text": [
      "0.64\n"
     ]
    },
    {
     "name": "stderr",
     "output_type": "stream",
     "text": [
      "Fitting: 100%|██████████| 100/100 [00:00<00:00, 792.88it/s]\n",
      "Predicting: 100%|██████████| 100/100 [00:00<00:00, 183.87it/s]\n"
     ]
    },
    {
     "name": "stdout",
     "output_type": "stream",
     "text": [
      "0.63\n"
     ]
    },
    {
     "name": "stderr",
     "output_type": "stream",
     "text": [
      "Fitting: 100%|██████████| 100/100 [00:00<00:00, 691.22it/s]\n",
      "Predicting: 100%|██████████| 100/100 [00:00<00:00, 171.24it/s]\n"
     ]
    },
    {
     "name": "stdout",
     "output_type": "stream",
     "text": [
      "0.64\n",
      "Finished evaluating 2 models at 20230527-081427 in 0:00:11.735580 seconds\n"
     ]
    },
    {
     "data": {
      "text/plain": "<Figure size 432x288 with 1 Axes>",
      "image/png": "[encoded data removed]"
     },
     "metadata": {
      "needs_background": "light"
     },
     "output_type": "display_data"
    },
    {
     "data": {
      "text/plain": "<Figure size 432x288 with 1 Axes>",
      "image/png": "[encoded data removed]"
     },
     "metadata": {
      "needs_background": "light"
     },
     "output_type": "display_data"
    },
    {
     "name": "stdout",
     "output_type": "stream",
     "text": [
      "### Dataset size: 200 ###\n"
     ]
    },
    {
     "name": "stderr",
     "output_type": "stream",
     "text": [
      "C:\\Users\\arnod\\PycharmProjects\\thesis\\util\\epitopes.py:6: DtypeWarning: Columns (20,29,30) have mixed types. Specify dtype option on import or set low_memory=False.\n",
      "  df_vdjdb = pd.read_csv('data/vdjdb-2022-03-30/vdjdb_full.txt', sep='\\t')\n"
     ]
    },
    {
     "name": "stdout",
     "output_type": "stream",
     "text": [
      "Number of negative samples changed from 47033 to 44205 (because of overlap with positive samples)\n",
      "Positive samples: alpha only: 2580, beta only: 3056, both: 2194, none: 0\n",
      "Negative samples (will be sampled to select same amount as positive): alpha only: 4499, beta only: 17510, both: 22196, none: 0\n",
      "Nan: train: 160, test: 108\n",
      "No Nan: train: 40, test: 108\n",
      "\n",
      "Evaluating model 1/2\n",
      "{'name': 'ProximityForest (nan_dist=0, measure=hamming, cdr_only)', 'model': <util.proximityforest.ProximityForestClassifier object at 0x00000246AFE384C0>, 'group': 'proximity_forest', 'extract_features': False, 'columns_to_use': ['CDR3'], 'drop_train_na': False}\n"
     ]
    },
    {
     "name": "stderr",
     "output_type": "stream",
     "text": [
      "Fitting: 100%|██████████| 100/100 [00:01<00:00, 62.17it/s]\n",
      "Predicting: 100%|██████████| 100/100 [00:00<00:00, 155.90it/s]\n"
     ]
    },
    {
     "name": "stdout",
     "output_type": "stream",
     "text": [
      "0.71\n"
     ]
    },
    {
     "name": "stderr",
     "output_type": "stream",
     "text": [
      "Fitting: 100%|██████████| 100/100 [00:01<00:00, 57.74it/s]\n",
      "Predicting: 100%|██████████| 100/100 [00:00<00:00, 157.36it/s]\n"
     ]
    },
    {
     "name": "stdout",
     "output_type": "stream",
     "text": [
      "0.71\n"
     ]
    },
    {
     "name": "stderr",
     "output_type": "stream",
     "text": [
      "Fitting: 100%|██████████| 100/100 [00:01<00:00, 62.39it/s]\n",
      "Predicting: 100%|██████████| 100/100 [00:00<00:00, 169.20it/s]\n"
     ]
    },
    {
     "name": "stdout",
     "output_type": "stream",
     "text": [
      "0.7\n"
     ]
    },
    {
     "name": "stderr",
     "output_type": "stream",
     "text": [
      "Fitting: 100%|██████████| 100/100 [00:01<00:00, 61.56it/s]\n",
      "Predicting: 100%|██████████| 100/100 [00:00<00:00, 164.76it/s]\n"
     ]
    },
    {
     "name": "stdout",
     "output_type": "stream",
     "text": [
      "0.71\n"
     ]
    },
    {
     "name": "stderr",
     "output_type": "stream",
     "text": [
      "Fitting: 100%|██████████| 100/100 [00:01<00:00, 62.38it/s]\n",
      "Predicting: 100%|██████████| 100/100 [00:00<00:00, 169.53it/s]\n"
     ]
    },
    {
     "name": "stdout",
     "output_type": "stream",
     "text": [
      "0.72\n",
      "\n",
      "Evaluating model 2/2\n",
      "{'name': 'ProximityForest (no_nan, measure=hamming, cdr_only)', 'model': <util.proximityforest.ProximityForestClassifier object at 0x00000246AFE38370>, 'group': 'proximity_forest', 'extract_features': False, 'columns_to_use': ['CDR3'], 'drop_train_na': True}\n"
     ]
    },
    {
     "name": "stderr",
     "output_type": "stream",
     "text": [
      "Fitting: 100%|██████████| 100/100 [00:00<00:00, 426.49it/s]\n",
      "Predicting: 100%|██████████| 100/100 [00:00<00:00, 160.63it/s]\n"
     ]
    },
    {
     "name": "stdout",
     "output_type": "stream",
     "text": [
      "0.66\n"
     ]
    },
    {
     "name": "stderr",
     "output_type": "stream",
     "text": [
      "Fitting: 100%|██████████| 100/100 [00:00<00:00, 437.63it/s]\n",
      "Predicting: 100%|██████████| 100/100 [00:00<00:00, 155.76it/s]\n"
     ]
    },
    {
     "name": "stdout",
     "output_type": "stream",
     "text": [
      "0.67\n"
     ]
    },
    {
     "name": "stderr",
     "output_type": "stream",
     "text": [
      "Fitting: 100%|██████████| 100/100 [00:00<00:00, 441.48it/s]\n",
      "Predicting: 100%|██████████| 100/100 [00:00<00:00, 162.73it/s]\n"
     ]
    },
    {
     "name": "stdout",
     "output_type": "stream",
     "text": [
      "0.61\n"
     ]
    },
    {
     "name": "stderr",
     "output_type": "stream",
     "text": [
      "Fitting: 100%|██████████| 100/100 [00:00<00:00, 469.49it/s]\n",
      "Predicting: 100%|██████████| 100/100 [00:00<00:00, 169.80it/s]\n"
     ]
    },
    {
     "name": "stdout",
     "output_type": "stream",
     "text": [
      "0.64\n"
     ]
    },
    {
     "name": "stderr",
     "output_type": "stream",
     "text": [
      "Fitting: 100%|██████████| 100/100 [00:00<00:00, 461.32it/s]\n",
      "Predicting: 100%|██████████| 100/100 [00:00<00:00, 160.86it/s]\n"
     ]
    },
    {
     "name": "stdout",
     "output_type": "stream",
     "text": [
      "0.6799999999999999\n",
      "Finished evaluating 2 models at 20230527-081448 in 0:00:15.623248 seconds\n"
     ]
    },
    {
     "data": {
      "text/plain": "<Figure size 432x288 with 1 Axes>",
      "image/png": "[encoded data removed]"
     },
     "metadata": {
      "needs_background": "light"
     },
     "output_type": "display_data"
    },
    {
     "data": {
      "text/plain": "<Figure size 432x288 with 1 Axes>",
      "image/png": "[encoded data removed]"
     },
     "metadata": {
      "needs_background": "light"
     },
     "output_type": "display_data"
    },
    {
     "name": "stdout",
     "output_type": "stream",
     "text": [
      "### Dataset size: 500 ###\n"
     ]
    },
    {
     "name": "stderr",
     "output_type": "stream",
     "text": [
      "C:\\Users\\arnod\\PycharmProjects\\thesis\\util\\epitopes.py:6: DtypeWarning: Columns (20,29,30) have mixed types. Specify dtype option on import or set low_memory=False.\n",
      "  df_vdjdb = pd.read_csv('data/vdjdb-2022-03-30/vdjdb_full.txt', sep='\\t')\n"
     ]
    },
    {
     "name": "stdout",
     "output_type": "stream",
     "text": [
      "Number of negative samples changed from 47033 to 44205 (because of overlap with positive samples)\n",
      "Positive samples: alpha only: 2580, beta only: 3056, both: 2194, none: 0\n",
      "Negative samples (will be sampled to select same amount as positive): alpha only: 4499, beta only: 17510, both: 22196, none: 0\n",
      "Nan: train: 400, test: 108\n",
      "No Nan: train: 100, test: 108\n",
      "\n",
      "Evaluating model 1/2\n",
      "{'name': 'ProximityForest (nan_dist=0, measure=hamming, cdr_only)', 'model': <util.proximityforest.ProximityForestClassifier object at 0x00000246AFE384C0>, 'group': 'proximity_forest', 'extract_features': False, 'columns_to_use': ['CDR3'], 'drop_train_na': False}\n"
     ]
    },
    {
     "name": "stderr",
     "output_type": "stream",
     "text": [
      "Fitting: 100%|██████████| 100/100 [00:03<00:00, 26.57it/s]\n",
      "Predicting: 100%|██████████| 100/100 [00:00<00:00, 176.42it/s]\n"
     ]
    },
    {
     "name": "stdout",
     "output_type": "stream",
     "text": [
      "0.75\n"
     ]
    },
    {
     "name": "stderr",
     "output_type": "stream",
     "text": [
      "Fitting: 100%|██████████| 100/100 [00:03<00:00, 26.57it/s]\n",
      "Predicting: 100%|██████████| 100/100 [00:00<00:00, 142.29it/s]\n"
     ]
    },
    {
     "name": "stdout",
     "output_type": "stream",
     "text": [
      "0.76\n"
     ]
    },
    {
     "name": "stderr",
     "output_type": "stream",
     "text": [
      "Fitting: 100%|██████████| 100/100 [00:04<00:00, 24.54it/s]\n",
      "Predicting: 100%|██████████| 100/100 [00:00<00:00, 155.57it/s]\n"
     ]
    },
    {
     "name": "stdout",
     "output_type": "stream",
     "text": [
      "0.78\n"
     ]
    },
    {
     "name": "stderr",
     "output_type": "stream",
     "text": [
      "Fitting: 100%|██████████| 100/100 [00:04<00:00, 24.02it/s]\n",
      "Predicting: 100%|██████████| 100/100 [00:00<00:00, 149.93it/s]\n"
     ]
    },
    {
     "name": "stdout",
     "output_type": "stream",
     "text": [
      "0.73\n"
     ]
    },
    {
     "name": "stderr",
     "output_type": "stream",
     "text": [
      "Fitting: 100%|██████████| 100/100 [00:04<00:00, 21.48it/s]\n",
      "Predicting: 100%|██████████| 100/100 [00:00<00:00, 136.12it/s]\n"
     ]
    },
    {
     "name": "stdout",
     "output_type": "stream",
     "text": [
      "0.76\n",
      "\n",
      "Evaluating model 2/2\n",
      "{'name': 'ProximityForest (no_nan, measure=hamming, cdr_only)', 'model': <util.proximityforest.ProximityForestClassifier object at 0x00000246AFE38370>, 'group': 'proximity_forest', 'extract_features': False, 'columns_to_use': ['CDR3'], 'drop_train_na': True}\n"
     ]
    },
    {
     "name": "stderr",
     "output_type": "stream",
     "text": [
      "Fitting: 100%|██████████| 100/100 [00:00<00:00, 195.70it/s]\n",
      "Predicting: 100%|██████████| 100/100 [00:00<00:00, 128.45it/s]\n"
     ]
    },
    {
     "name": "stdout",
     "output_type": "stream",
     "text": [
      "0.73\n"
     ]
    },
    {
     "name": "stderr",
     "output_type": "stream",
     "text": [
      "Fitting: 100%|██████████| 100/100 [00:00<00:00, 115.63it/s]\n",
      "Predicting: 100%|██████████| 100/100 [00:00<00:00, 127.49it/s]\n"
     ]
    },
    {
     "name": "stdout",
     "output_type": "stream",
     "text": [
      "0.76\n"
     ]
    },
    {
     "name": "stderr",
     "output_type": "stream",
     "text": [
      "Fitting: 100%|██████████| 100/100 [00:00<00:00, 200.61it/s]\n",
      "Predicting: 100%|██████████| 100/100 [00:00<00:00, 132.11it/s]\n"
     ]
    },
    {
     "name": "stdout",
     "output_type": "stream",
     "text": [
      "0.74\n"
     ]
    },
    {
     "name": "stderr",
     "output_type": "stream",
     "text": [
      "Fitting: 100%|██████████| 100/100 [00:00<00:00, 181.48it/s]\n",
      "Predicting: 100%|██████████| 100/100 [00:00<00:00, 134.53it/s]\n"
     ]
    },
    {
     "name": "stdout",
     "output_type": "stream",
     "text": [
      "0.71\n"
     ]
    },
    {
     "name": "stderr",
     "output_type": "stream",
     "text": [
      "Fitting: 100%|██████████| 100/100 [00:00<00:00, 202.01it/s]\n",
      "Predicting: 100%|██████████| 100/100 [00:00<00:00, 149.05it/s]\n"
     ]
    },
    {
     "name": "stdout",
     "output_type": "stream",
     "text": [
      "0.74\n",
      "Finished evaluating 2 models at 20230527-081524 in 0:00:30.616387 seconds\n"
     ]
    },
    {
     "data": {
      "text/plain": "<Figure size 432x288 with 1 Axes>",
      "image/png": "[encoded data removed]"
     },
     "metadata": {
      "needs_background": "light"
     },
     "output_type": "display_data"
    },
    {
     "data": {
      "text/plain": "<Figure size 432x288 with 1 Axes>",
      "image/png": "[encoded data removed]"
     },
     "metadata": {
      "needs_background": "light"
     },
     "output_type": "display_data"
    },
    {
     "name": "stdout",
     "output_type": "stream",
     "text": [
      "### Dataset size: 1000 ###\n"
     ]
    },
    {
     "name": "stderr",
     "output_type": "stream",
     "text": [
      "C:\\Users\\arnod\\PycharmProjects\\thesis\\util\\epitopes.py:6: DtypeWarning: Columns (20,29,30) have mixed types. Specify dtype option on import or set low_memory=False.\n",
      "  df_vdjdb = pd.read_csv('data/vdjdb-2022-03-30/vdjdb_full.txt', sep='\\t')\n"
     ]
    },
    {
     "name": "stdout",
     "output_type": "stream",
     "text": [
      "Number of negative samples changed from 47033 to 44205 (because of overlap with positive samples)\n",
      "Positive samples: alpha only: 2580, beta only: 3056, both: 2194, none: 0\n",
      "Negative samples (will be sampled to select same amount as positive): alpha only: 4499, beta only: 17510, both: 22196, none: 0\n",
      "Nan: train: 800, test: 108\n",
      "No Nan: train: 192, test: 108\n",
      "\n",
      "Evaluating model 1/2\n",
      "{'name': 'ProximityForest (nan_dist=0, measure=hamming, cdr_only)', 'model': <util.proximityforest.ProximityForestClassifier object at 0x00000246AFE384C0>, 'group': 'proximity_forest', 'extract_features': False, 'columns_to_use': ['CDR3'], 'drop_train_na': False}\n"
     ]
    },
    {
     "name": "stderr",
     "output_type": "stream",
     "text": [
      "Fitting: 100%|██████████| 100/100 [00:08<00:00, 12.45it/s]\n",
      "Predicting: 100%|██████████| 100/100 [00:00<00:00, 162.20it/s]\n"
     ]
    },
    {
     "name": "stdout",
     "output_type": "stream",
     "text": [
      "0.76\n"
     ]
    },
    {
     "name": "stderr",
     "output_type": "stream",
     "text": [
      "Fitting: 100%|██████████| 100/100 [00:07<00:00, 13.79it/s]\n",
      "Predicting: 100%|██████████| 100/100 [00:00<00:00, 178.69it/s]\n"
     ]
    },
    {
     "name": "stdout",
     "output_type": "stream",
     "text": [
      "0.78\n"
     ]
    },
    {
     "name": "stderr",
     "output_type": "stream",
     "text": [
      "Fitting: 100%|██████████| 100/100 [00:07<00:00, 13.81it/s]\n",
      "Predicting: 100%|██████████| 100/100 [00:00<00:00, 181.08it/s]\n"
     ]
    },
    {
     "name": "stdout",
     "output_type": "stream",
     "text": [
      "0.8200000000000001\n"
     ]
    },
    {
     "name": "stderr",
     "output_type": "stream",
     "text": [
      "Fitting: 100%|██████████| 100/100 [00:07<00:00, 13.92it/s]\n",
      "Predicting: 100%|██████████| 100/100 [00:00<00:00, 166.70it/s]\n"
     ]
    },
    {
     "name": "stdout",
     "output_type": "stream",
     "text": [
      "0.8\n"
     ]
    },
    {
     "name": "stderr",
     "output_type": "stream",
     "text": [
      "Fitting: 100%|██████████| 100/100 [00:07<00:00, 13.97it/s]\n",
      "Predicting: 100%|██████████| 100/100 [00:00<00:00, 171.08it/s]\n"
     ]
    },
    {
     "name": "stdout",
     "output_type": "stream",
     "text": [
      "0.79\n",
      "\n",
      "Evaluating model 2/2\n",
      "{'name': 'ProximityForest (no_nan, measure=hamming, cdr_only)', 'model': <util.proximityforest.ProximityForestClassifier object at 0x00000246AFE38370>, 'group': 'proximity_forest', 'extract_features': False, 'columns_to_use': ['CDR3'], 'drop_train_na': True}\n"
     ]
    },
    {
     "name": "stderr",
     "output_type": "stream",
     "text": [
      "Fitting: 100%|██████████| 100/100 [00:00<00:00, 138.56it/s]\n",
      "Predicting: 100%|██████████| 100/100 [00:00<00:00, 176.07it/s]\n"
     ]
    },
    {
     "name": "stdout",
     "output_type": "stream",
     "text": [
      "0.75\n"
     ]
    },
    {
     "name": "stderr",
     "output_type": "stream",
     "text": [
      "Fitting: 100%|██████████| 100/100 [00:00<00:00, 124.73it/s]\n",
      "Predicting: 100%|██████████| 100/100 [00:00<00:00, 176.39it/s]\n"
     ]
    },
    {
     "name": "stdout",
     "output_type": "stream",
     "text": [
      "0.79\n"
     ]
    },
    {
     "name": "stderr",
     "output_type": "stream",
     "text": [
      "Fitting: 100%|██████████| 100/100 [00:00<00:00, 128.44it/s]\n",
      "Predicting: 100%|██████████| 100/100 [00:00<00:00, 167.77it/s]\n"
     ]
    },
    {
     "name": "stdout",
     "output_type": "stream",
     "text": [
      "0.79\n"
     ]
    },
    {
     "name": "stderr",
     "output_type": "stream",
     "text": [
      "Fitting: 100%|██████████| 100/100 [00:00<00:00, 130.25it/s]\n",
      "Predicting: 100%|██████████| 100/100 [00:00<00:00, 167.22it/s]\n"
     ]
    },
    {
     "name": "stdout",
     "output_type": "stream",
     "text": [
      "0.8\n"
     ]
    },
    {
     "name": "stderr",
     "output_type": "stream",
     "text": [
      "Fitting: 100%|██████████| 100/100 [00:00<00:00, 124.48it/s]\n",
      "Predicting: 100%|██████████| 100/100 [00:00<00:00, 181.56it/s]\n"
     ]
    },
    {
     "name": "stdout",
     "output_type": "stream",
     "text": [
      "0.79\n",
      "Finished evaluating 2 models at 20230527-081622 in 0:00:46.781909 seconds\n"
     ]
    },
    {
     "data": {
      "text/plain": "<Figure size 432x288 with 1 Axes>",
      "image/png": "[encoded data removed]"
     },
     "metadata": {
      "needs_background": "light"
     },
     "output_type": "display_data"
    },
    {
     "data": {
      "text/plain": "<Figure size 432x288 with 1 Axes>",
      "image/png": "[encoded data removed]"
     },
     "metadata": {
      "needs_background": "light"
     },
     "output_type": "display_data"
    },
    {
     "name": "stdout",
     "output_type": "stream",
     "text": [
      "### Dataset size: 2000 ###\n"
     ]
    },
    {
     "name": "stderr",
     "output_type": "stream",
     "text": [
      "C:\\Users\\arnod\\PycharmProjects\\thesis\\util\\epitopes.py:6: DtypeWarning: Columns (20,29,30) have mixed types. Specify dtype option on import or set low_memory=False.\n",
      "  df_vdjdb = pd.read_csv('data/vdjdb-2022-03-30/vdjdb_full.txt', sep='\\t')\n"
     ]
    },
    {
     "name": "stdout",
     "output_type": "stream",
     "text": [
      "Number of negative samples changed from 47033 to 44205 (because of overlap with positive samples)\n",
      "Positive samples: alpha only: 2580, beta only: 3056, both: 2194, none: 0\n",
      "Negative samples (will be sampled to select same amount as positive): alpha only: 4499, beta only: 17510, both: 22196, none: 0\n",
      "Nan: train: 1600, test: 108\n",
      "No Nan: train: 432, test: 108\n",
      "\n",
      "Evaluating model 1/2\n",
      "{'name': 'ProximityForest (nan_dist=0, measure=hamming, cdr_only)', 'model': <util.proximityforest.ProximityForestClassifier object at 0x00000246AFE384C0>, 'group': 'proximity_forest', 'extract_features': False, 'columns_to_use': ['CDR3'], 'drop_train_na': False}\n"
     ]
    },
    {
     "name": "stderr",
     "output_type": "stream",
     "text": [
      "Fitting: 100%|██████████| 100/100 [00:14<00:00,  6.86it/s]\n",
      "Predicting: 100%|██████████| 100/100 [00:00<00:00, 172.74it/s]\n"
     ]
    },
    {
     "name": "stdout",
     "output_type": "stream",
     "text": [
      "0.85\n"
     ]
    },
    {
     "name": "stderr",
     "output_type": "stream",
     "text": [
      "Fitting: 100%|██████████| 100/100 [00:14<00:00,  6.90it/s]\n",
      "Predicting: 100%|██████████| 100/100 [00:00<00:00, 162.69it/s]\n"
     ]
    },
    {
     "name": "stdout",
     "output_type": "stream",
     "text": [
      "0.8\n"
     ]
    },
    {
     "name": "stderr",
     "output_type": "stream",
     "text": [
      "Fitting: 100%|██████████| 100/100 [00:15<00:00,  6.64it/s]\n",
      "Predicting: 100%|██████████| 100/100 [00:00<00:00, 160.51it/s]\n"
     ]
    },
    {
     "name": "stdout",
     "output_type": "stream",
     "text": [
      "0.8300000000000001\n"
     ]
    },
    {
     "name": "stderr",
     "output_type": "stream",
     "text": [
      "Fitting: 100%|██████████| 100/100 [00:15<00:00,  6.36it/s]\n",
      "Predicting: 100%|██████████| 100/100 [00:00<00:00, 158.05it/s]\n"
     ]
    },
    {
     "name": "stdout",
     "output_type": "stream",
     "text": [
      "0.8400000000000001\n"
     ]
    },
    {
     "name": "stderr",
     "output_type": "stream",
     "text": [
      "Fitting: 100%|██████████| 100/100 [00:14<00:00,  6.84it/s]\n",
      "Predicting: 100%|██████████| 100/100 [00:00<00:00, 166.73it/s]\n"
     ]
    },
    {
     "name": "stdout",
     "output_type": "stream",
     "text": [
      "0.8300000000000001\n",
      "\n",
      "Evaluating model 2/2\n",
      "{'name': 'ProximityForest (no_nan, measure=hamming, cdr_only)', 'model': <util.proximityforest.ProximityForestClassifier object at 0x00000246AFE38370>, 'group': 'proximity_forest', 'extract_features': False, 'columns_to_use': ['CDR3'], 'drop_train_na': True}\n"
     ]
    },
    {
     "name": "stderr",
     "output_type": "stream",
     "text": [
      "Fitting: 100%|██████████| 100/100 [00:01<00:00, 63.84it/s]\n",
      "Predicting: 100%|██████████| 100/100 [00:00<00:00, 166.35it/s]\n"
     ]
    },
    {
     "name": "stdout",
     "output_type": "stream",
     "text": [
      "0.8400000000000001\n"
     ]
    },
    {
     "name": "stderr",
     "output_type": "stream",
     "text": [
      "Fitting: 100%|██████████| 100/100 [00:01<00:00, 59.42it/s]\n",
      "Predicting: 100%|██████████| 100/100 [00:00<00:00, 151.57it/s]\n"
     ]
    },
    {
     "name": "stdout",
     "output_type": "stream",
     "text": [
      "0.87\n"
     ]
    },
    {
     "name": "stderr",
     "output_type": "stream",
     "text": [
      "Fitting: 100%|██████████| 100/100 [00:01<00:00, 62.48it/s]\n",
      "Predicting: 100%|██████████| 100/100 [00:00<00:00, 175.35it/s]\n"
     ]
    },
    {
     "name": "stdout",
     "output_type": "stream",
     "text": [
      "0.85\n"
     ]
    },
    {
     "name": "stderr",
     "output_type": "stream",
     "text": [
      "Fitting: 100%|██████████| 100/100 [00:01<00:00, 63.69it/s]\n",
      "Predicting: 100%|██████████| 100/100 [00:00<00:00, 152.33it/s]\n"
     ]
    },
    {
     "name": "stdout",
     "output_type": "stream",
     "text": [
      "0.87\n"
     ]
    },
    {
     "name": "stderr",
     "output_type": "stream",
     "text": [
      "Fitting: 100%|██████████| 100/100 [00:01<00:00, 63.65it/s]\n",
      "Predicting: 100%|██████████| 100/100 [00:00<00:00, 143.82it/s]\n"
     ]
    },
    {
     "name": "stdout",
     "output_type": "stream",
     "text": [
      "0.85\n",
      "Finished evaluating 2 models at 20230527-081804 in 0:01:28.938197 seconds\n"
     ]
    },
    {
     "data": {
      "text/plain": "<Figure size 432x288 with 1 Axes>",
      "image/png": "[encoded data removed]"
     },
     "metadata": {
      "needs_background": "light"
     },
     "output_type": "display_data"
    },
    {
     "data": {
      "text/plain": "<Figure size 432x288 with 1 Axes>",
      "image/png": "[encoded data removed]"
     },
     "metadata": {
      "needs_background": "light"
     },
     "output_type": "display_data"
    },
    {
     "name": "stdout",
     "output_type": "stream",
     "text": [
      "### Dataset size: 5000 ###\n"
     ]
    },
    {
     "name": "stderr",
     "output_type": "stream",
     "text": [
      "C:\\Users\\arnod\\PycharmProjects\\thesis\\util\\epitopes.py:6: DtypeWarning: Columns (20,29,30) have mixed types. Specify dtype option on import or set low_memory=False.\n",
      "  df_vdjdb = pd.read_csv('data/vdjdb-2022-03-30/vdjdb_full.txt', sep='\\t')\n"
     ]
    },
    {
     "name": "stdout",
     "output_type": "stream",
     "text": [
      "Number of negative samples changed from 47033 to 44205 (because of overlap with positive samples)\n",
      "Positive samples: alpha only: 2580, beta only: 3056, both: 2194, none: 0\n",
      "Negative samples (will be sampled to select same amount as positive): alpha only: 4499, beta only: 17510, both: 22196, none: 0\n",
      "Nan: train: 4000, test: 108\n",
      "No Nan: train: 1102, test: 108\n",
      "\n",
      "Evaluating model 1/2\n",
      "{'name': 'ProximityForest (nan_dist=0, measure=hamming, cdr_only)', 'model': <util.proximityforest.ProximityForestClassifier object at 0x00000246AFE384C0>, 'group': 'proximity_forest', 'extract_features': False, 'columns_to_use': ['CDR3'], 'drop_train_na': False}\n"
     ]
    },
    {
     "name": "stderr",
     "output_type": "stream",
     "text": [
      "Fitting: 100%|██████████| 100/100 [00:36<00:00,  2.70it/s]\n",
      "Predicting: 100%|██████████| 100/100 [00:00<00:00, 185.16it/s]\n"
     ]
    },
    {
     "name": "stdout",
     "output_type": "stream",
     "text": [
      "0.9\n"
     ]
    },
    {
     "name": "stderr",
     "output_type": "stream",
     "text": [
      "Fitting: 100%|██████████| 100/100 [00:37<00:00,  2.68it/s]\n",
      "Predicting: 100%|██████████| 100/100 [00:00<00:00, 177.99it/s]\n"
     ]
    },
    {
     "name": "stdout",
     "output_type": "stream",
     "text": [
      "0.9\n"
     ]
    },
    {
     "name": "stderr",
     "output_type": "stream",
     "text": [
      "Fitting: 100%|██████████| 100/100 [00:38<00:00,  2.62it/s]\n",
      "Predicting: 100%|██████████| 100/100 [00:00<00:00, 142.02it/s]\n"
     ]
    },
    {
     "name": "stdout",
     "output_type": "stream",
     "text": [
      "0.9099999999999999\n"
     ]
    },
    {
     "name": "stderr",
     "output_type": "stream",
     "text": [
      "Fitting: 100%|██████████| 100/100 [00:36<00:00,  2.72it/s]\n",
      "Predicting: 100%|██████████| 100/100 [00:00<00:00, 177.38it/s]\n"
     ]
    },
    {
     "name": "stdout",
     "output_type": "stream",
     "text": [
      "0.9099999999999999\n"
     ]
    },
    {
     "name": "stderr",
     "output_type": "stream",
     "text": [
      "Fitting: 100%|██████████| 100/100 [00:37<00:00,  2.70it/s]\n",
      "Predicting: 100%|██████████| 100/100 [00:00<00:00, 179.04it/s]\n"
     ]
    },
    {
     "name": "stdout",
     "output_type": "stream",
     "text": [
      "0.9\n",
      "\n",
      "Evaluating model 2/2\n",
      "{'name': 'ProximityForest (no_nan, measure=hamming, cdr_only)', 'model': <util.proximityforest.ProximityForestClassifier object at 0x00000246AFE38370>, 'group': 'proximity_forest', 'extract_features': False, 'columns_to_use': ['CDR3'], 'drop_train_na': True}\n"
     ]
    },
    {
     "name": "stderr",
     "output_type": "stream",
     "text": [
      "Fitting: 100%|██████████| 100/100 [00:04<00:00, 24.30it/s]\n",
      "Predicting: 100%|██████████| 100/100 [00:00<00:00, 161.50it/s]\n"
     ]
    },
    {
     "name": "stdout",
     "output_type": "stream",
     "text": [
      "0.9199999999999999\n"
     ]
    },
    {
     "name": "stderr",
     "output_type": "stream",
     "text": [
      "Fitting: 100%|██████████| 100/100 [00:03<00:00, 25.94it/s]\n",
      "Predicting: 100%|██████████| 100/100 [00:00<00:00, 141.32it/s]\n"
     ]
    },
    {
     "name": "stdout",
     "output_type": "stream",
     "text": [
      "0.9199999999999999\n"
     ]
    },
    {
     "name": "stderr",
     "output_type": "stream",
     "text": [
      "Fitting: 100%|██████████| 100/100 [00:04<00:00, 23.74it/s]\n",
      "Predicting: 100%|██████████| 100/100 [00:00<00:00, 165.39it/s]\n"
     ]
    },
    {
     "name": "stdout",
     "output_type": "stream",
     "text": [
      "0.9299999999999999\n"
     ]
    },
    {
     "name": "stderr",
     "output_type": "stream",
     "text": [
      "Fitting: 100%|██████████| 100/100 [00:04<00:00, 24.45it/s]\n",
      "Predicting: 100%|██████████| 100/100 [00:00<00:00, 154.54it/s]\n"
     ]
    },
    {
     "name": "stdout",
     "output_type": "stream",
     "text": [
      "0.9199999999999999\n"
     ]
    },
    {
     "name": "stderr",
     "output_type": "stream",
     "text": [
      "Fitting: 100%|██████████| 100/100 [00:04<00:00, 24.53it/s]\n",
      "Predicting: 100%|██████████| 100/100 [00:00<00:00, 164.64it/s]\n"
     ]
    },
    {
     "name": "stdout",
     "output_type": "stream",
     "text": [
      "0.9199999999999999\n",
      "Finished evaluating 2 models at 20230527-082204 in 0:03:33.158156 seconds\n"
     ]
    },
    {
     "data": {
      "text/plain": "<Figure size 432x288 with 1 Axes>",
      "image/png": "[encoded data removed]"
     },
     "metadata": {
      "needs_background": "light"
     },
     "output_type": "display_data"
    },
    {
     "data": {
      "text/plain": "<Figure size 432x288 with 1 Axes>",
      "image/png": "[encoded data removed]"
     },
     "metadata": {
      "needs_background": "light"
     },
     "output_type": "display_data"
    },
    {
     "name": "stdout",
     "output_type": "stream",
     "text": [
      "### Dataset size: None ###\n"
     ]
    },
    {
     "name": "stderr",
     "output_type": "stream",
     "text": [
      "C:\\Users\\arnod\\PycharmProjects\\thesis\\util\\epitopes.py:6: DtypeWarning: Columns (20,29,30) have mixed types. Specify dtype option on import or set low_memory=False.\n",
      "  df_vdjdb = pd.read_csv('data/vdjdb-2022-03-30/vdjdb_full.txt', sep='\\t')\n"
     ]
    },
    {
     "name": "stdout",
     "output_type": "stream",
     "text": [
      "Number of negative samples changed from 47033 to 44205 (because of overlap with positive samples)\n",
      "Positive samples: alpha only: 2580, beta only: 3056, both: 2194, none: 0\n",
      "Negative samples (will be sampled to select same amount as positive): alpha only: 4499, beta only: 17510, both: 22196, none: 0\n",
      "Nan: train: 10022, test: 108\n",
      "No Nan: train: 2762, test: 108\n",
      "\n",
      "Evaluating model 1/2\n",
      "{'name': 'ProximityForest (nan_dist=0, measure=hamming, cdr_only)', 'model': <util.proximityforest.ProximityForestClassifier object at 0x00000246AFE384C0>, 'group': 'proximity_forest', 'extract_features': False, 'columns_to_use': ['CDR3'], 'drop_train_na': False}\n"
     ]
    },
    {
     "name": "stderr",
     "output_type": "stream",
     "text": [
      "Fitting: 100%|██████████| 100/100 [01:39<00:00,  1.01it/s]\n",
      "Predicting: 100%|██████████| 100/100 [00:00<00:00, 147.14it/s]\n"
     ]
    },
    {
     "name": "stdout",
     "output_type": "stream",
     "text": [
      "0.95\n"
     ]
    },
    {
     "name": "stderr",
     "output_type": "stream",
     "text": [
      "Fitting: 100%|██████████| 100/100 [01:35<00:00,  1.04it/s]\n",
      "Predicting: 100%|██████████| 100/100 [00:00<00:00, 170.34it/s]\n"
     ]
    },
    {
     "name": "stdout",
     "output_type": "stream",
     "text": [
      "0.9299999999999999\n"
     ]
    },
    {
     "name": "stderr",
     "output_type": "stream",
     "text": [
      "Fitting: 100%|██████████| 100/100 [01:35<00:00,  1.05it/s]\n",
      "Predicting: 100%|██████████| 100/100 [00:00<00:00, 173.48it/s]\n"
     ]
    },
    {
     "name": "stdout",
     "output_type": "stream",
     "text": [
      "0.9099999999999999\n"
     ]
    },
    {
     "name": "stderr",
     "output_type": "stream",
     "text": [
      "Fitting: 100%|██████████| 100/100 [01:35<00:00,  1.04it/s]\n",
      "Predicting: 100%|██████████| 100/100 [00:00<00:00, 168.24it/s]\n"
     ]
    },
    {
     "name": "stdout",
     "output_type": "stream",
     "text": [
      "0.89\n"
     ]
    },
    {
     "name": "stderr",
     "output_type": "stream",
     "text": [
      "Fitting: 100%|██████████| 100/100 [01:35<00:00,  1.05it/s]\n",
      "Predicting: 100%|██████████| 100/100 [00:00<00:00, 168.46it/s]\n"
     ]
    },
    {
     "name": "stdout",
     "output_type": "stream",
     "text": [
      "0.9299999999999999\n",
      "\n",
      "Evaluating model 2/2\n",
      "{'name': 'ProximityForest (no_nan, measure=hamming, cdr_only)', 'model': <util.proximityforest.ProximityForestClassifier object at 0x00000246AFE38370>, 'group': 'proximity_forest', 'extract_features': False, 'columns_to_use': ['CDR3'], 'drop_train_na': True}\n"
     ]
    },
    {
     "name": "stderr",
     "output_type": "stream",
     "text": [
      "Fitting: 100%|██████████| 100/100 [00:10<00:00,  9.77it/s]\n",
      "Predicting: 100%|██████████| 100/100 [00:00<00:00, 167.47it/s]\n"
     ]
    },
    {
     "name": "stdout",
     "output_type": "stream",
     "text": [
      "0.9099999999999999\n"
     ]
    },
    {
     "name": "stderr",
     "output_type": "stream",
     "text": [
      "Fitting: 100%|██████████| 100/100 [00:10<00:00,  9.96it/s]\n",
      "Predicting: 100%|██████████| 100/100 [00:00<00:00, 154.17it/s]\n"
     ]
    },
    {
     "name": "stdout",
     "output_type": "stream",
     "text": [
      "0.95\n"
     ]
    },
    {
     "name": "stderr",
     "output_type": "stream",
     "text": [
      "Fitting: 100%|██████████| 100/100 [00:11<00:00,  8.68it/s]\n",
      "Predicting: 100%|██████████| 100/100 [00:00<00:00, 142.11it/s]\n"
     ]
    },
    {
     "name": "stdout",
     "output_type": "stream",
     "text": [
      "0.9099999999999999\n"
     ]
    },
    {
     "name": "stderr",
     "output_type": "stream",
     "text": [
      "Fitting: 100%|██████████| 100/100 [00:11<00:00,  8.72it/s]\n",
      "Predicting: 100%|██████████| 100/100 [00:00<00:00, 150.77it/s]\n"
     ]
    },
    {
     "name": "stdout",
     "output_type": "stream",
     "text": [
      "0.9099999999999999\n"
     ]
    },
    {
     "name": "stderr",
     "output_type": "stream",
     "text": [
      "Fitting: 100%|██████████| 100/100 [00:10<00:00,  9.61it/s]\n",
      "Predicting: 100%|██████████| 100/100 [00:00<00:00, 165.82it/s]\n"
     ]
    },
    {
     "name": "stdout",
     "output_type": "stream",
     "text": [
      "0.9099999999999999\n",
      "Finished evaluating 2 models at 20230527-083206 in 0:09:02.543560 seconds\n"
     ]
    },
    {
     "data": {
      "text/plain": "<Figure size 432x288 with 1 Axes>",
      "image/png": "[encoded data removed]"
     },
     "metadata": {
      "needs_background": "light"
     },
     "output_type": "display_data"
    },
    {
     "data": {
      "text/plain": "<Figure size 432x288 with 1 Axes>",
      "image/png": "[encoded data removed]"
     },
     "metadata": {
      "needs_background": "light"
     },
     "output_type": "display_data"
    }
   ],
   "source": [
    "for dataset_size in [50, 100, 200, 500, 1000, 2000, 5000, None]:\n",
    "    print(f\"### Dataset size: {dataset_size} ###\")\n",
    "    update_data_per_fold(dataset_size)\n",
    "    scores = evaluate_model_list(models_to_evaluate)\n",
    "    plot_scores(scores, \"Model performance (AUC)\", baseline_name='RandomForest (only CDR3)')"
   ],
   "metadata": {
    "collapsed": false
   }
  },
  {
   "cell_type": "code",
   "execution_count": 44,
   "outputs": [],
   "source": [
    "models_to_evaluate = []"
   ],
   "metadata": {
    "collapsed": false
   }
  },
  {
   "cell_type": "code",
   "execution_count": 44,
   "outputs": [],
   "source": [],
   "metadata": {
    "collapsed": false
   }
  }
 ],
 "metadata": {
  "kernelspec": {
   "display_name": "Python 3",
   "language": "python",
   "name": "python3"
  },
  "language_info": {
   "codemirror_mode": {
    "name": "ipython",
    "version": 2
   },
   "file_extension": ".py",
   "mimetype": "text/x-python",
   "name": "python",
   "nbconvert_exporter": "python",
   "pygments_lexer": "ipython2",
   "version": "2.7.6"
  }
 },
 "nbformat": 4,
 "nbformat_minor": 0
}
