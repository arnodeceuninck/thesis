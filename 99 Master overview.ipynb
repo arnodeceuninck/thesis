{
 "cells": [
  {
   "cell_type": "markdown",
   "source": [
    "# Master overview\n",
    "This master overview contains all graphs used in the final thesis, to make sure everything was trained and tested on the same data."
   ],
   "metadata": {
    "collapsed": false
   }
  },
  {
   "cell_type": "code",
   "execution_count": 38,
   "outputs": [],
   "source": [
    "# utils\n",
    "from util import evaluate_no_cv, calculate_auc_and_plot, get_epitope_df, get_features, fix_test, \\\n",
    "    evaluate_seperate_chains, get_columns_starting_with, get_counts, plot_scores\n",
    "\n",
    "# sklearn\n",
    "from sklearn.model_selection import train_test_split\n",
    "from sklearn import impute\n",
    "from sklearn.experimental import enable_iterative_imputer\n",
    "from sklearn.pipeline import Pipeline\n",
    "\n",
    "# weighted_rf\n",
    "from CustomForest import RandomForest as CustomForest\n",
    "\n",
    "# other\n",
    "import numpy as np\n",
    "import pandas as pd\n",
    "from datetime import datetime\n",
    "import os\n",
    "\n",
    "# models\n",
    "from xgboost import XGBClassifier\n",
    "from sklearn.ensemble import HistGradientBoostingClassifier, RandomForestClassifier\n",
    "from lightgbm import LGBMClassifier\n",
    "from sklearn.neighbors import KNeighborsClassifier\n",
    "\n",
    "# warnings\n",
    "import warnings\n",
    "from pandas.errors import SettingWithCopyWarning\n",
    "\n",
    "warnings.filterwarnings(\"ignore\",\n",
    "                        category=UserWarning)  # hide: UserWarning: X has feature names, but RandomForestClassifier was fitted without feature names\n",
    "warnings.filterwarnings(\"ignore\", category=FutureWarning)\n",
    "warnings.filterwarnings(\"ignore\", category=SettingWithCopyWarning)"
   ],
   "metadata": {
    "collapsed": false
   }
  },
  {
   "cell_type": "code",
   "execution_count": 39,
   "outputs": [],
   "source": [
    "models_to_evaluate = []"
   ],
   "metadata": {
    "collapsed": false
   }
  },
  {
   "cell_type": "code",
   "execution_count": 40,
   "outputs": [],
   "source": [
    "# train/test data\n",
    "folds = 5\n",
    "epitope = \"GILGFVFTL\"\n",
    "species = \"HomoSapiens\"\n",
    "descr = \"weighted-rf\"\n",
    "\n",
    "dataset_size = 50 # typically 50, 100, 200, 500, 1000, 2000, 5000 or None (None = all data)\n",
    "\n",
    "\n",
    "data_per_fold = []\n",
    "df_size = 0\n",
    "\n",
    "def update_data_per_fold(dataset_size, epitope_=None):\n",
    "    global data_per_fold, df_size, epitope, species, folds\n",
    "\n",
    "    epitope = epitope_ if epitope_ is not None else epitope\n",
    "\n",
    "    df = get_epitope_df(epitope, species=species)\n",
    "\n",
    "    # for fixed test size (during the different size runs when sampling a few instances)\n",
    "    df, test = train_test_split(df, test_size=0.2, random_state=0)\n",
    "    test = test.sample(400, random_state=0)\n",
    "    # test.dropna(inplace=True)\n",
    "    # split test df into folds\n",
    "    # test_folds = np.array_split(test, folds)\n",
    "    # test = test.sample(100, random_state=0)\n",
    "\n",
    "\n",
    "    df = df.sample(dataset_size, random_state=0) if dataset_size is not None else df\n",
    "    df_size = len(df)\n",
    "\n",
    "    data_per_fold = []\n",
    "    for seed in range(folds):\n",
    "        fold_data = {\"seed\": seed,\n",
    "                     \"epitope\": epitope,\n",
    "                     \"species\": species,\n",
    "                     \"df_size\": df_size,}\n",
    "\n",
    "        train_with_nan, test_with_nan = train_test_split(df, test_size=0.2, random_state=seed)\n",
    "\n",
    "        # # for fixed test size (during the different size runs)\n",
    "        # test_with_nan = test_folds[seed] # actually no nan, but no problem\n",
    "        test_with_nan = test # same test set for all folds\n",
    "\n",
    "\n",
    "        test = test_with_nan.dropna()\n",
    "\n",
    "        x_missing = train_with_nan.isna().any(axis=1)\n",
    "\n",
    "        # with nan in train set\n",
    "        x = get_features(train_with_nan)\n",
    "        y = train_with_nan['reaction']\n",
    "\n",
    "        # print the name of all columns in x that contain nan\n",
    "\n",
    "\n",
    "\n",
    "        x_missing_test = test_with_nan.isna().any(axis=1)\n",
    "        x_test = get_features(test, test=True)\n",
    "        x_test = fix_test(x_test, x.columns)\n",
    "        x_test_missing = x_test.isna().any(axis=1)\n",
    "\n",
    "        y_test = test['reaction']\n",
    "\n",
    "        alpha_only_count_pos, beta_only_count_pos, both_count_pos, non_count_pos = get_counts(train_with_nan)\n",
    "\n",
    "        fold_data[\"nan\"] = {\"x\": x, \"y\": y, \"x_test\": x_test, \"y_test\": y_test, 'x_missing': x_missing,\n",
    "                            'x_missing_test': x_missing_test, 'x_original': train_with_nan,\n",
    "                            'x_test_original': test,\n",
    "                            \"train_alpha_only\": alpha_only_count_pos, \"train_beta_only\": beta_only_count_pos,\n",
    "                            \"train_both\": both_count_pos, \"train_non\": non_count_pos, 'train_total': len(x),\n",
    "                            'test_total': len(x_test)}\n",
    "\n",
    "        # without nan in train set\n",
    "        train_without_nan = train_with_nan.dropna()\n",
    "        x = get_features(train_without_nan)\n",
    "        y = train_without_nan['reaction']\n",
    "\n",
    "        x_test = get_features(test, test=True)\n",
    "        x_test = fix_test(x_test, x.columns)\n",
    "        y_test = test['reaction']\n",
    "\n",
    "        fold_data[\"no_nan\"] = {\"x\": x, \"y\": y, \"x_test\": x_test, \"y_test\": y_test, 'train_total': len(x),\n",
    "                               'test_total': len(x_test), 'train_both': len(train_without_nan), 'train_non': 0, 'x_original': train_without_nan, 'x_test_original': test,\n",
    "                               'train_alpha_only': 0, 'train_beta_only': 0}\n",
    "\n",
    "        data_per_fold.append(fold_data)\n",
    "\n",
    "\n",
    "    # print train and test size for seed 0 (nan and no_nan)\n",
    "    nan_data = data_per_fold[0][\"nan\"]\n",
    "    no_nan_data = data_per_fold[0][\"no_nan\"]\n",
    "    print(f\"Nan: train: {len(nan_data['x'])}, test: {len(nan_data['x_test'])}\")\n",
    "    print(f\"No Nan: train: {len(no_nan_data['x'])}, test: {len(no_nan_data['x_test'])}\")"
   ],
   "metadata": {
    "collapsed": false
   }
  },
  {
   "cell_type": "code",
   "execution_count": 41,
   "outputs": [],
   "source": [
    "def evaluate_model(model_description):\n",
    "    \"\"\"\"\n",
    "    model description is a dict with the following keys:\n",
    "    - name*: name of the model\n",
    "    - model*: the model\n",
    "    - imputer: the imputer to use\n",
    "    - chain: 'both', 'alpha', 'beta' or 'seperate'. In cas of 'seperate', model_alpha and model_beta must be defined instead of model\n",
    "    - drop_train_na: if True, all rows with nan in the train set are dropped\n",
    "    - missing_indicator: if True, a missing indicator is added as feature\n",
    "    \"\"\"\n",
    "    global data_per_fold\n",
    "\n",
    "    scores = pd.DataFrame()\n",
    "\n",
    "    num_folds = len(data_per_fold)\n",
    "    for i in range(num_folds):\n",
    "\n",
    "        model_train_nan = not model_description.get(\"drop_train_na\", False)\n",
    "        data_name = \"nan\" if model_train_nan else \"no_nan\"\n",
    "\n",
    "        chain = model_description.get(\"chain\", \"both\")\n",
    "        assert chain in [\"both\", \"alpha\", \"beta\", \"seperate\"]\n",
    "\n",
    "        fold_data = data_per_fold[i]\n",
    "        fold_dataset = fold_data[data_name]\n",
    "        x = fold_dataset[\"x\"].copy()\n",
    "        y = fold_dataset[\"y\"].copy()\n",
    "        x_test = fold_dataset[\"x_test\"].copy()\n",
    "        y_test = fold_dataset[\"y_test\"].copy()\n",
    "\n",
    "        gene_features = model_description.get(\"gene_features\", \"FV\")\n",
    "        assert gene_features in [\"FV\", \"F\", \"V\", \"F+V\", \"FV+F+V\"] #, \"CDR_only\"]\n",
    "        if gene_features != \"FV\":\n",
    "            # recreate train data\n",
    "            x_original = fold_dataset[\"x_original\"]\n",
    "            x_test_original = fold_dataset[\"x_test_original\"]\n",
    "\n",
    "            column_map = {'F': ['V_family', 'J_family'],\n",
    "                          'V': ['V_version', 'J_version'],\n",
    "                          'FV': ['V', 'J']}\n",
    "            column_map['F+V'] = column_map['F'] + column_map['V']\n",
    "            column_map['FV+F+V'] = column_map['FV'] + column_map['F'] + column_map['V']\n",
    "            # add CDR3 to all\n",
    "            for key in column_map:\n",
    "                column_map[key].append('CDR3')\n",
    "\n",
    "            columns_to_use = column_map[gene_features]\n",
    "\n",
    "            x = get_features(x_original, columns=columns_to_use)\n",
    "            x.fillna(0, inplace=True)\n",
    "\n",
    "            x_test = get_features(x_test_original, columns=columns_to_use, test=True)\n",
    "            x_test = fix_test(x_test, x.columns)\n",
    "            x_test.fillna(0, inplace=True)\n",
    "\n",
    "\n",
    "        missing_indicator = model_description.get(\"missing_indicator\", False)\n",
    "        if missing_indicator:\n",
    "            x_missing = fold_dataset[\"x_missing\"]\n",
    "            x_missing_test = fold_dataset[\"x_missing_test\"]\n",
    "            x[\"missing\"] = x_missing\n",
    "            x_test[\"missing\"] = x_missing_test\n",
    "\n",
    "        if chain == \"alpha\" or chain == \"beta\":\n",
    "            x = get_columns_starting_with(x, f'{chain}_')\n",
    "            x_test = get_columns_starting_with(x_test, f'{chain}_')\n",
    "\n",
    "        model_imputer = model_description.get(\"imputer\", None)\n",
    "\n",
    "        separate_chains = chain == \"seperate\"\n",
    "\n",
    "        try:\n",
    "            if separate_chains:\n",
    "                model_alpha = model_description[\"model_alpha\"]\n",
    "                model_beta = model_description[\"model_beta\"]\n",
    "                auc = evaluate_seperate_chains(model_alpha, model_beta, x, y, x_test, y_test, model_imputer)\n",
    "            else:\n",
    "                model = model_description[\"model\"]\n",
    "                if model_imputer is not None:\n",
    "                    model = Pipeline([('imputer', model_imputer), ('model', model)])\n",
    "                    model_imputer = None\n",
    "                auc = evaluate_no_cv(model, x, y, x_test, y_test, model_imputer)\n",
    "\n",
    "            index = len(scores)\n",
    "            scores.loc[index, 'model'] = model_description['name']\n",
    "            scores.loc[index, 'auc'] = auc\n",
    "            scores.loc[index, 'model_train_nan'] = model_train_nan\n",
    "            scores.loc[index, 'imputer'] = model_imputer.__class__.__name__ if model_imputer is not None else None\n",
    "            scores.loc[index, 'chain'] = chain\n",
    "            scores.loc[index, 'group'] = model_description['group']\n",
    "\n",
    "            scores.loc[index, 'seed'] = fold_data[\"seed\"]\n",
    "            scores.loc[index, 'epitope'] = fold_data[\"epitope\"]\n",
    "            scores.loc[index, 'species'] = fold_data[\"species\"]\n",
    "\n",
    "            scores.loc[index, 'train_alpha_only'] = fold_dataset[\"train_alpha_only\"]\n",
    "            scores.loc[index, 'train_beta_only'] = fold_dataset[\"train_beta_only\"]\n",
    "            scores.loc[index, 'train_both'] = fold_dataset[\"train_both\"]\n",
    "            scores.loc[index, 'train_non'] = fold_dataset[\"train_non\"]\n",
    "            scores.loc[index, 'train_total'] = fold_dataset[\"train_total\"]\n",
    "            scores.loc[index, 'test_total'] = fold_dataset[\"test_total\"]\n",
    "            scores.loc[index, 'df_size'] = fold_data[\"df_size\"]\n",
    "\n",
    "            scores.loc[index, 'gene_features'] = gene_features\n",
    "            scores.loc[index, 'missing_indicator'] = missing_indicator\n",
    "\n",
    "\n",
    "            # print the row\n",
    "            # print(scores.loc[index])\n",
    "            # print(f\"AUC(m={model_description['name']}, s={seed}, train_na={int(model_train_nan)}): {auc}\")\n",
    "            print(auc)\n",
    "\n",
    "        except Exception as e:\n",
    "            print(f\"Error: {e}\")\n",
    "            # raise e\n",
    "            continue\n",
    "\n",
    "    return scores"
   ],
   "metadata": {
    "collapsed": false
   }
  },
  {
   "cell_type": "code",
   "execution_count": 42,
   "outputs": [],
   "source": [
    "def evaluate_model_list(models_to_evaluate):\n",
    "    assert len(models_to_evaluate) > 0, \"No models to evaluate\"\n",
    "\n",
    "    start_time = datetime.now()\n",
    "    timestamp = start_time.strftime(\"%Y%m%d-%H%M%S\")\n",
    "    # create a directory in outputs to save the files to\n",
    "    global epitope, df_size, descr\n",
    "    output_dir = f\"outputs/model-evaluations-{timestamp}-{epitope}-{df_size}-{descr}\"\n",
    "    os.makedirs(output_dir, exist_ok=True)\n",
    "\n",
    "    output_log = f\"{output_dir}/log.txt\"\n",
    "    with open(output_log, 'w') as f:\n",
    "        f.write(f\"Started at {start_time}\\n\\n\")\n",
    "        f.write(f\"Models to evaluate: {len(models_to_evaluate)}\\n\\n\")\n",
    "        for i, model in enumerate(models_to_evaluate):\n",
    "            f.write(f\"{i + 1}/{len(models_to_evaluate)}: {model['name']}\\n\")\n",
    "            f.write(f\"{model}\\n\\n\")\n",
    "\n",
    "\n",
    "    scores = pd.DataFrame()\n",
    "    for i, model in enumerate(models_to_evaluate):\n",
    "        print(f\"\\nEvaluating model {i + 1}/{len(models_to_evaluate)}\")\n",
    "        print(model)\n",
    "        model_scores = evaluate_model(model)\n",
    "\n",
    "        model_scores['test_nr'] = i + 1\n",
    "        model_scores.to_csv(f\"{output_dir}/{i + 1}-{model['name']}.csv\")\n",
    "\n",
    "        scores = pd.concat([scores, model_scores])\n",
    "    # write to csv\n",
    "    end_time = datetime.now()\n",
    "\n",
    "    time_taken = end_time - start_time\n",
    "    timestamp = end_time.strftime(\"%Y%m%d-%H%M%S\")\n",
    "    scores.to_csv(f\"{output_dir}/scores-{timestamp}.csv\")\n",
    "\n",
    "    plot_scores(scores, \"All models\", output_file=f\"{output_dir}/all-models.png\")\n",
    "\n",
    "    # create a directory 'groups'\n",
    "    groups_dir = f\"{output_dir}/groups\"\n",
    "    os.makedirs(groups_dir, exist_ok=True)\n",
    "    # for each group in the scores, save a csv with the scores for that group\n",
    "    for group in scores['group'].unique():\n",
    "        group_scores = scores[scores['group'] == group]\n",
    "\n",
    "        # always add the baseline group\n",
    "        if group != 'baseline':\n",
    "            baseline_scores = scores[scores['group'] == 'baseline']\n",
    "            group_scores = pd.concat([baseline_scores, group_scores])\n",
    "\n",
    "        group_scores.to_csv(f\"{groups_dir}/{group}.csv\")\n",
    "        plot_scores(group_scores, group, output_file=f\"{groups_dir}/{group}.png\")\n",
    "\n",
    "\n",
    "\n",
    "    print(f'Finished evaluating {len(models_to_evaluate)} models at {timestamp} in {time_taken} seconds')\n",
    "\n",
    "    with open(output_log, 'a') as f:\n",
    "        f.write(f\"Finished at {end_time}\\n\")\n",
    "        f.write(f\"Time taken: {time_taken}\\n\")\n",
    "        f.write(f\"Saved scores to {output_dir}\\n\")\n",
    "        f.write(f\"Saved all scores to {output_dir}/scores-{timestamp}.csv\\n\")\n",
    "        f.write(f\"Saved group scores to {groups_dir}\\n\")\n",
    "        f.write(f\"Saved all group scores to {groups_dir}/all-models.png\\n\")\n",
    "        f.write(f\"Saved all models to {output_dir}/all-models.png\\n\")\n",
    "        f.write(f\"Saved log to {output_log}\\n\")\n",
    "\n",
    "    return scores"
   ],
   "metadata": {
    "collapsed": false
   }
  },
  {
   "cell_type": "code",
   "execution_count": 43,
   "outputs": [],
   "source": [
    "# imputers\n",
    "zero_imputer = impute.SimpleImputer(missing_values=np.nan, strategy='constant', fill_value=0)\n",
    "mean_imputer = impute.SimpleImputer(missing_values=np.nan, strategy='mean')\n",
    "most_freq_imputer = impute.SimpleImputer(missing_values=np.nan, strategy='most_frequent')\n",
    "median_imputer = impute.SimpleImputer(missing_values=np.nan, strategy='median')"
   ],
   "metadata": {
    "collapsed": false
   }
  },
  {
   "cell_type": "code",
   "execution_count": 44,
   "outputs": [
    {
     "name": "stdout",
     "output_type": "stream",
     "text": [
      "Couldn't find program: 'echo'\n"
     ]
    }
   ],
   "source": [
    "%%script echo skipping\n",
    "\n",
    "# baseline (random forest, nans dropped in train)\n",
    "baseline = {\n",
    "    'name': 'Random Forest (NaNs dropped in train)',\n",
    "    'model': RandomForestClassifier(random_state=0),\n",
    "    'drop_train_na': True,\n",
    "    'group': 'baseline',\n",
    "}\n",
    "models_to_evaluate.append(baseline)"
   ],
   "metadata": {
    "collapsed": false
   }
  },
  {
   "cell_type": "code",
   "execution_count": 45,
   "outputs": [
    {
     "name": "stdout",
     "output_type": "stream",
     "text": [
      "Couldn't find program: 'echo'\n"
     ]
    }
   ],
   "source": [
    "%%script echo skipping\n",
    "\n",
    "# random forest imputations\n",
    "rf_zero_imputed = {\n",
    "    'name': 'Random Forest (Zero imputed)',\n",
    "    'model': RandomForestClassifier(random_state=0),\n",
    "    'imputer': zero_imputer,\n",
    "    'group': 'rf_imputations'\n",
    "}\n",
    "\n",
    "rf_mean_imputed = {\n",
    "    'name': 'Random Forest (Mean imputed)',\n",
    "    'model': RandomForestClassifier(random_state=0),\n",
    "    'imputer': mean_imputer,\n",
    "    'group': 'rf_imputations'\n",
    "}\n",
    "\n",
    "rf_most_freq_imputed = {\n",
    "    'name': 'Random Forest (Most frequent imputed)',\n",
    "    'model': RandomForestClassifier(random_state=0),\n",
    "    'imputer': most_freq_imputer,\n",
    "    'group': 'rf_imputations'\n",
    "}\n",
    "\n",
    "rf_median_imputed = {\n",
    "    'name': 'Random Forest (Median imputed)',\n",
    "    'model': RandomForestClassifier(random_state=0),\n",
    "    'imputer': median_imputer,\n",
    "    'group': 'rf_imputations'\n",
    "}\n",
    "\n",
    "rf_imputation_models = [rf_zero_imputed, rf_mean_imputed, rf_most_freq_imputed, rf_median_imputed]\n",
    "models_to_evaluate.extend(rf_imputation_models)"
   ],
   "metadata": {
    "collapsed": false
   }
  },
  {
   "cell_type": "code",
   "execution_count": 46,
   "outputs": [
    {
     "name": "stdout",
     "output_type": "stream",
     "text": [
      "Couldn't find program: 'echo'\n"
     ]
    }
   ],
   "source": [
    "%%script echo skipping\n",
    "\n",
    "# knn imputers\n",
    "rf_knn_imputed_1 = {\n",
    "    'name': 'Random Forest (KNN imputed, k=1)',\n",
    "    'model': RandomForestClassifier(random_state=0),\n",
    "    'imputer': impute.KNNImputer(n_neighbors=1),\n",
    "    'group': 'rf_knn_imputations'\n",
    "}\n",
    "\n",
    "rf_knn_imputed_5 = {\n",
    "    'name': 'Random Forest (KNN imputed, k=5)',\n",
    "    'model': RandomForestClassifier(random_state=0),\n",
    "    'imputer': impute.KNNImputer(n_neighbors=5),\n",
    "    'group': 'rf_knn_imputations'\n",
    "}\n",
    "\n",
    "rf_knn_imputed_15 = {\n",
    "    'name': 'Random Forest (KNN imputed, k=10)',\n",
    "    'model': RandomForestClassifier(random_state=0),\n",
    "    'imputer': impute.KNNImputer(n_neighbors=10),\n",
    "    'group': 'rf_knn_imputations'\n",
    "}\n",
    "\n",
    "rf_knn_imputation_models = [rf_knn_imputed_1, rf_knn_imputed_5, rf_knn_imputed_15]\n",
    "models_to_evaluate.extend(rf_knn_imputation_models)"
   ],
   "metadata": {
    "collapsed": false
   }
  },
  {
   "cell_type": "code",
   "execution_count": 47,
   "outputs": [
    {
     "name": "stdout",
     "output_type": "stream",
     "text": [
      "Couldn't find program: 'echo'\n"
     ]
    }
   ],
   "source": [
    "%%script echo skipping\n",
    "\n",
    "# iterative imputations\n",
    "rf_iterative_imputed_1 = {\n",
    "    'name': 'Random Forest (Iterative imputed, max_iter=1)',\n",
    "    'model': RandomForestClassifier(random_state=0),\n",
    "    'imputer': impute.IterativeImputer(max_iter=1),\n",
    "    'group': 'rf_iterative_imputations'\n",
    "}\n",
    "\n",
    "rf_iterative_imputed_5 = {\n",
    "    'name': 'Random Forest (Iterative imputed, max_iter=5)',\n",
    "    'model': RandomForestClassifier(random_state=0),\n",
    "    'imputer': impute.IterativeImputer(max_iter=5),\n",
    "    'group': 'rf_iterative_imputations'\n",
    "}\n",
    "\n",
    "# rf_iterative_imputed_10 = {\n",
    "#     'name': 'Random Forest (Iterative imputed, max_iter=10)',\n",
    "#     'model': RandomForestClassifier(random_state=0),\n",
    "#     'imputer': impute.IterativeImputer(max_iter=10),\n",
    "#     'group': 'rf_iterative_imputations'\n",
    "# }\n",
    "#\n",
    "# rf_iterative_imputed_15 = {\n",
    "#     'name': 'Random Forest (Iterative imputed, max_iter=15)',\n",
    "#     'model': RandomForestClassifier(random_state=0),\n",
    "#     'imputer': impute.IterativeImputer(max_iter=15),\n",
    "#     'group': 'rf_iterative_imputations'\n",
    "# }\n",
    "\n",
    "# rf_iterative_imputation_models = [rf_iterative_imputed_1, rf_iterative_imputed_5, rf_iterative_imputed_10, rf_iterative_imputed_15]\n",
    "rf_iterative_imputation_models = [rf_iterative_imputed_1, rf_iterative_imputed_5]\n",
    "models_to_evaluate.extend(rf_iterative_imputation_models)"
   ],
   "metadata": {
    "collapsed": false
   }
  },
  {
   "cell_type": "code",
   "execution_count": 48,
   "outputs": [
    {
     "name": "stdout",
     "output_type": "stream",
     "text": [
      "Couldn't find program: 'echo'\n"
     ]
    }
   ],
   "source": [
    "%%script echo skipping\n",
    "\n",
    "# knn classifier\n",
    "knn_classifier_mean_imputed = {\n",
    "    'name': 'KNN Classifier (mean imputed)',\n",
    "    'model': KNeighborsClassifier(),\n",
    "    'group': 'knn',\n",
    "    'imputer': mean_imputer\n",
    "}\n",
    "\n",
    "knn_classifier_knn_imputed = {\n",
    "    'name': 'KNN Classifier (KNN imputed)',\n",
    "    'model': KNeighborsClassifier(),\n",
    "    'group': 'knn',\n",
    "    'imputer': impute.KNNImputer()\n",
    "}\n",
    "\n",
    "knn_models = [knn_classifier_mean_imputed, knn_classifier_knn_imputed]\n",
    "models_to_evaluate.extend(knn_models)"
   ],
   "metadata": {
    "collapsed": false
   }
  },
  {
   "cell_type": "code",
   "execution_count": 49,
   "outputs": [
    {
     "name": "stdout",
     "output_type": "stream",
     "text": [
      "Couldn't find program: 'echo'\n"
     ]
    }
   ],
   "source": [
    "%%script echo skipping\n",
    "\n",
    "# missing indicator imputations\n",
    "# same models as above, but with missing indicator\n",
    "rf_imputation_models_with_missing_indicator = []\n",
    "for model in rf_imputation_models:\n",
    "    model_with_missing_indicator = model.copy()\n",
    "    model_with_missing_indicator['name'] += \" (with missing indicator)\"\n",
    "    model_with_missing_indicator['missing_indicator'] = True\n",
    "    model_with_missing_indicator['group'] = 'rf_imputations_with_missing_indicator'\n",
    "    rf_imputation_models_with_missing_indicator.append(model_with_missing_indicator)\n",
    "\n",
    "models_to_evaluate.extend(rf_imputation_models_with_missing_indicator)"
   ],
   "metadata": {
    "collapsed": false
   }
  },
  {
   "cell_type": "code",
   "execution_count": 50,
   "outputs": [
    {
     "name": "stdout",
     "output_type": "stream",
     "text": [
      "Couldn't find program: 'echo'\n"
     ]
    }
   ],
   "source": [
    "%%script echo skipping\n",
    "\n",
    "# gradient boosting classifiers\n",
    "hist_gradient_boosting = {\n",
    "    'name': 'HistGradientBoosting',\n",
    "    'model': HistGradientBoostingClassifier(random_state=0),\n",
    "    'group': 'gradient_boosting'\n",
    "}\n",
    "\n",
    "xgboost = {\n",
    "    'name': 'XGBoost',\n",
    "    'model': XGBClassifier(random_state=0),\n",
    "    'group': 'gradient_boosting'\n",
    "}\n",
    "\n",
    "lightgbm = {\n",
    "    'name': 'LightGBM',\n",
    "    'model': LGBMClassifier(random_state=0),\n",
    "    'group': 'gradient_boosting'\n",
    "}\n",
    "\n",
    "gradient_boosting_models = [hist_gradient_boosting, xgboost, lightgbm]\n",
    "models_to_evaluate.extend(gradient_boosting_models)"
   ],
   "metadata": {
    "collapsed": false
   }
  },
  {
   "cell_type": "code",
   "execution_count": 51,
   "outputs": [
    {
     "name": "stdout",
     "output_type": "stream",
     "text": [
      "Couldn't find program: 'echo'\n"
     ]
    }
   ],
   "source": [
    "%%script echo skipping\n",
    "\n",
    "# gene features\n",
    "features_to_test = [\"FV\", \"F\", \"V\", \"F+V\", \"FV+F+V\"]\n",
    "gene_feature_models = []\n",
    "for features in features_to_test:\n",
    "    model = {\n",
    "        'name': f\"Random Forest ({features})\",\n",
    "        'model': RandomForestClassifier(random_state=0),\n",
    "        'gene_features': features,\n",
    "        'group': 'gene_features',\n",
    "        'imputer': mean_imputer,\n",
    "    }\n",
    "    gene_feature_models.append(model)\n",
    "\n",
    "models_to_evaluate.extend(gene_feature_models)"
   ],
   "metadata": {
    "collapsed": false
   }
  },
  {
   "cell_type": "code",
   "execution_count": 52,
   "outputs": [
    {
     "name": "stdout",
     "output_type": "stream",
     "text": [
      "Couldn't find program: 'echo'\n"
     ]
    }
   ],
   "source": [
    "%%script echo skipping\n",
    "\n",
    "# chain inputs\n",
    "both_chains = {\n",
    "    'name': 'Random Forest (both chains)',\n",
    "    'model': RandomForestClassifier(random_state=0),\n",
    "    'chain': 'both',\n",
    "    'group': 'chain_inputs',\n",
    "    'imputer': mean_imputer,\n",
    "}\n",
    "\n",
    "alpha_chain = {\n",
    "    'name': 'Random Forest (Alpha chain)',\n",
    "    'model': RandomForestClassifier(random_state=0),\n",
    "    'chain': 'alpha',\n",
    "    'group': 'chain_inputs',\n",
    "    'imputer': mean_imputer,\n",
    "}\n",
    "\n",
    "beta_chain = {\n",
    "    'name': 'Random Forest (Beta chain)',\n",
    "    'model': RandomForestClassifier(random_state=0),\n",
    "    'chain': 'beta',\n",
    "    'group': 'chain_inputs',\n",
    "    'imputer': mean_imputer,\n",
    "}\n",
    "\n",
    "seperate_chains = {\n",
    "    'name': 'Random Forest (Seperate chains)',\n",
    "    'model_alpha': RandomForestClassifier(random_state=0),\n",
    "    'model_beta': RandomForestClassifier(random_state=0),\n",
    "    'chain': 'seperate',\n",
    "    'group': 'chain_inputs',\n",
    "    'imputer': mean_imputer,\n",
    "}\n",
    "\n",
    "chain_input_models = [both_chains, alpha_chain, beta_chain, seperate_chains]\n",
    "models_to_evaluate.extend(chain_input_models)"
   ],
   "metadata": {
    "collapsed": false
   }
  },
  {
   "cell_type": "code",
   "execution_count": 53,
   "outputs": [
    {
     "name": "stdout",
     "output_type": "stream",
     "text": [
      "Couldn't find program: 'echo'\n"
     ]
    }
   ],
   "source": [
    "%%script echo skipping\n",
    "\n",
    "chain_input_without_nans = []\n",
    "for model in chain_input_models:\n",
    "    model_without_nans = model.copy()\n",
    "    model_without_nans['name'] += \" (without nans)\"\n",
    "    model_without_nans['drop_train_na'] = True\n",
    "    model_without_nans['imputer'] = None\n",
    "    chain_input_without_nans.append(model_without_nans)\n",
    "models_to_evaluate.extend(chain_input_without_nans)"
   ],
   "metadata": {
    "collapsed": false
   }
  },
  {
   "cell_type": "code",
   "execution_count": 59,
   "outputs": [],
   "source": [
    "# %%script echo skipping\n",
    "\n",
    "# WeightedRandomForest\n",
    "weighted_random_forest = {\n",
    "    'name': 'RandomForest (own impl., weighted)',\n",
    "    'model': CustomForest(weighted=True), # doesn't support random state\n",
    "    'group': 'weighted_random_forest',\n",
    "}\n",
    "\n",
    "custom_random_forest = {\n",
    "    'name': 'RandomForest (own impl.)',\n",
    "    'model': CustomForest(weighted=False),\n",
    "    'group': 'weighted_random_forest',\n",
    "    'imputer': mean_imputer,\n",
    "}\n",
    "\n",
    "# # to check whether it's the same as non-weighted, which is indeed the case\n",
    "# weighted_random_forest_no_nan = {\n",
    "#     'name': 'RandomForest (own impl., weighted, no nan)',\n",
    "#     'model': CustomForest(weighted=True), # doesn't support random state\n",
    "#     'group': 'weighted_random_forest',\n",
    "#     'drop_train_na': True,\n",
    "# }\n",
    "\n",
    "custom_random_forest_no_nan = {\n",
    "    'name': 'RandomForest (own impl., no nan)',\n",
    "    'model': CustomForest(weighted=False),\n",
    "    'group': 'weighted_random_forest',\n",
    "    'drop_train_na': True,\n",
    "}\n",
    "\n",
    "weighted_random_forest_models = [weighted_random_forest, custom_random_forest, weighted_random_forest_no_nan, custom_random_forest_no_nan]\n",
    "models_to_evaluate.extend(weighted_random_forest_models)"
   ],
   "metadata": {
    "collapsed": false
   }
  },
  {
   "cell_type": "code",
   "execution_count": 55,
   "outputs": [
    {
     "name": "stderr",
     "output_type": "stream",
     "text": [
      "C:\\Users\\arnod\\PycharmProjects\\thesis\\util\\epitopes.py:6: DtypeWarning: Columns (20,29,30) have mixed types. Specify dtype option on import or set low_memory=False.\n",
      "  df_vdjdb = pd.read_csv('data/vdjdb-2022-03-30/vdjdb_full.txt', sep='\\t')\n"
     ]
    },
    {
     "name": "stdout",
     "output_type": "stream",
     "text": [
      "Number of negative samples changed from 47033 to 44205 (because of overlap with positive samples)\n",
      "Positive samples: alpha only: 2580, beta only: 3056, both: 2194, none: 0\n",
      "Negative samples (will be sampled to select same amount as positive): alpha only: 4499, beta only: 17510, both: 22196, none: 0\n",
      "Nan: train: 40, test: 108\n",
      "No Nan: train: 9, test: 108\n",
      "\n",
      "Evaluating model 1/4\n",
      "{'name': 'RandomForest (own impl., weighted)', 'model': <CustomForest.random_forest.RandomForest object at 0x0000016F14AEC970>, 'group': 'weighted_random_forest'}\n"
     ]
    },
    {
     "name": "stderr",
     "output_type": "stream",
     "text": [
      "100%|██████████| 100/100 [00:37<00:00,  2.64it/s]\n"
     ]
    },
    {
     "name": "stdout",
     "output_type": "stream",
     "text": [
      "0.8706896551724137\n"
     ]
    },
    {
     "name": "stderr",
     "output_type": "stream",
     "text": [
      "100%|██████████| 100/100 [00:42<00:00,  2.37it/s]\n"
     ]
    },
    {
     "name": "stdout",
     "output_type": "stream",
     "text": [
      "0.8886206896551724\n"
     ]
    },
    {
     "name": "stderr",
     "output_type": "stream",
     "text": [
      "100%|██████████| 100/100 [00:56<00:00,  1.76it/s]\n"
     ]
    },
    {
     "name": "stdout",
     "output_type": "stream",
     "text": [
      "0.8844827586206897\n"
     ]
    },
    {
     "name": "stderr",
     "output_type": "stream",
     "text": [
      "100%|██████████| 100/100 [00:44<00:00,  2.24it/s]\n"
     ]
    },
    {
     "name": "stdout",
     "output_type": "stream",
     "text": [
      "0.8732758620689655\n"
     ]
    },
    {
     "name": "stderr",
     "output_type": "stream",
     "text": [
      "100%|██████████| 100/100 [00:47<00:00,  2.09it/s]\n"
     ]
    },
    {
     "name": "stdout",
     "output_type": "stream",
     "text": [
      "0.8941379310344828\n",
      "\n",
      "Evaluating model 2/4\n",
      "{'name': 'RandomForest (own impl.)', 'model': <CustomForest.random_forest.RandomForest object at 0x0000016F1444D580>, 'group': 'weighted_random_forest', 'imputer': SimpleImputer()}\n"
     ]
    },
    {
     "name": "stderr",
     "output_type": "stream",
     "text": [
      "100%|██████████| 100/100 [00:05<00:00, 17.96it/s]\n"
     ]
    },
    {
     "name": "stdout",
     "output_type": "stream",
     "text": [
      "0.8855172413793103\n"
     ]
    },
    {
     "name": "stderr",
     "output_type": "stream",
     "text": [
      "100%|██████████| 100/100 [00:04<00:00, 20.95it/s]\n"
     ]
    },
    {
     "name": "stdout",
     "output_type": "stream",
     "text": [
      "0.8779310344827587\n"
     ]
    },
    {
     "name": "stderr",
     "output_type": "stream",
     "text": [
      "100%|██████████| 100/100 [00:04<00:00, 22.96it/s]\n"
     ]
    },
    {
     "name": "stdout",
     "output_type": "stream",
     "text": [
      "0.9055172413793103\n"
     ]
    },
    {
     "name": "stderr",
     "output_type": "stream",
     "text": [
      "100%|██████████| 100/100 [00:04<00:00, 24.11it/s]\n"
     ]
    },
    {
     "name": "stdout",
     "output_type": "stream",
     "text": [
      "0.8944827586206896\n"
     ]
    },
    {
     "name": "stderr",
     "output_type": "stream",
     "text": [
      "100%|██████████| 100/100 [00:04<00:00, 22.06it/s]\n"
     ]
    },
    {
     "name": "stdout",
     "output_type": "stream",
     "text": [
      "0.8837931034482759\n",
      "\n",
      "Evaluating model 3/4\n",
      "{'name': 'RandomForest (own impl., weighted, no nan)', 'model': <CustomForest.random_forest.RandomForest object at 0x0000016F1450ECD0>, 'group': 'weighted_random_forest', 'drop_train_na': True}\n"
     ]
    },
    {
     "name": "stderr",
     "output_type": "stream",
     "text": [
      "100%|██████████| 100/100 [00:01<00:00, 84.17it/s]\n"
     ]
    },
    {
     "name": "stdout",
     "output_type": "stream",
     "text": [
      "0.8310344827586207\n"
     ]
    },
    {
     "name": "stderr",
     "output_type": "stream",
     "text": [
      "100%|██████████| 100/100 [00:00<00:00, 102.67it/s]\n"
     ]
    },
    {
     "name": "stdout",
     "output_type": "stream",
     "text": [
      "0.7763793103448277\n"
     ]
    },
    {
     "name": "stderr",
     "output_type": "stream",
     "text": [
      "100%|██████████| 100/100 [00:00<00:00, 105.26it/s]\n"
     ]
    },
    {
     "name": "stdout",
     "output_type": "stream",
     "text": [
      "0.8639655172413793\n"
     ]
    },
    {
     "name": "stderr",
     "output_type": "stream",
     "text": [
      "100%|██████████| 100/100 [00:00<00:00, 108.23it/s]\n"
     ]
    },
    {
     "name": "stdout",
     "output_type": "stream",
     "text": [
      "0.837758620689655\n"
     ]
    },
    {
     "name": "stderr",
     "output_type": "stream",
     "text": [
      "100%|██████████| 100/100 [00:01<00:00, 88.50it/s]\n"
     ]
    },
    {
     "name": "stdout",
     "output_type": "stream",
     "text": [
      "0.8351724137931033\n",
      "\n",
      "Evaluating model 4/4\n",
      "{'name': 'RandomForest (own impl., no nan)', 'model': <CustomForest.random_forest.RandomForest object at 0x0000016F144F7B50>, 'group': 'weighted_random_forest', 'drop_train_na': True}\n"
     ]
    },
    {
     "name": "stderr",
     "output_type": "stream",
     "text": [
      "100%|██████████| 100/100 [00:00<00:00, 230.95it/s]\n"
     ]
    },
    {
     "name": "stdout",
     "output_type": "stream",
     "text": [
      "0.8593103448275863\n"
     ]
    },
    {
     "name": "stderr",
     "output_type": "stream",
     "text": [
      "100%|██████████| 100/100 [00:00<00:00, 257.61it/s]\n"
     ]
    },
    {
     "name": "stdout",
     "output_type": "stream",
     "text": [
      "0.7368965517241379\n"
     ]
    },
    {
     "name": "stderr",
     "output_type": "stream",
     "text": [
      "100%|██████████| 100/100 [00:00<00:00, 326.77it/s]\n"
     ]
    },
    {
     "name": "stdout",
     "output_type": "stream",
     "text": [
      "0.8787931034482759\n"
     ]
    },
    {
     "name": "stderr",
     "output_type": "stream",
     "text": [
      "100%|██████████| 100/100 [00:00<00:00, 297.59it/s]\n"
     ]
    },
    {
     "name": "stdout",
     "output_type": "stream",
     "text": [
      "0.8694827586206896\n"
     ]
    },
    {
     "name": "stderr",
     "output_type": "stream",
     "text": [
      "100%|██████████| 100/100 [00:00<00:00, 242.70it/s]\n"
     ]
    },
    {
     "name": "stdout",
     "output_type": "stream",
     "text": [
      "0.8862068965517242\n",
      "Finished evaluating 4 models at 20230522-204407 in 0:04:20.933195 seconds\n"
     ]
    },
    {
     "data": {
      "text/plain": "<Figure size 432x288 with 1 Axes>",
      "image/png": "[encoded data removed]"
     },
     "metadata": {},
     "output_type": "display_data"
    },
    {
     "data": {
      "text/plain": "<Figure size 432x288 with 1 Axes>",
      "image/png": "[encoded data removed]"
     },
     "metadata": {},
     "output_type": "display_data"
    }
   ],
   "source": [
    "update_data_per_fold(50)\n",
    "scores = evaluate_model_list(models_to_evaluate)\n",
    "plot_scores(scores, \"Model performance (AUC)\")"
   ],
   "metadata": {
    "collapsed": false
   }
  },
  {
   "cell_type": "code",
   "execution_count": 56,
   "outputs": [
    {
     "name": "stderr",
     "output_type": "stream",
     "text": [
      "C:\\Users\\arnod\\PycharmProjects\\thesis\\util\\epitopes.py:6: DtypeWarning: Columns (20,29,30) have mixed types. Specify dtype option on import or set low_memory=False.\n",
      "  df_vdjdb = pd.read_csv('data/vdjdb-2022-03-30/vdjdb_full.txt', sep='\\t')\n"
     ]
    },
    {
     "name": "stdout",
     "output_type": "stream",
     "text": [
      "Number of negative samples changed from 47033 to 44205 (because of overlap with positive samples)\n",
      "Positive samples: alpha only: 2580, beta only: 3056, both: 2194, none: 0\n",
      "Negative samples (will be sampled to select same amount as positive): alpha only: 4499, beta only: 17510, both: 22196, none: 0\n",
      "Nan: train: 80, test: 108\n",
      "No Nan: train: 18, test: 108\n",
      "\n",
      "Evaluating model 1/4\n",
      "{'name': 'RandomForest (own impl., weighted)', 'model': <CustomForest.random_forest.RandomForest object at 0x0000016F14AEC970>, 'group': 'weighted_random_forest'}\n"
     ]
    },
    {
     "name": "stderr",
     "output_type": "stream",
     "text": [
      "100%|██████████| 100/100 [01:09<00:00,  1.45it/s]\n"
     ]
    },
    {
     "name": "stdout",
     "output_type": "stream",
     "text": [
      "0.9353448275862069\n"
     ]
    },
    {
     "name": "stderr",
     "output_type": "stream",
     "text": [
      "100%|██████████| 100/100 [01:06<00:00,  1.50it/s]\n"
     ]
    },
    {
     "name": "stdout",
     "output_type": "stream",
     "text": [
      "0.9153448275862069\n"
     ]
    },
    {
     "name": "stderr",
     "output_type": "stream",
     "text": [
      "100%|██████████| 100/100 [01:16<00:00,  1.30it/s]\n"
     ]
    },
    {
     "name": "stdout",
     "output_type": "stream",
     "text": [
      "0.9046551724137931\n"
     ]
    },
    {
     "name": "stderr",
     "output_type": "stream",
     "text": [
      "100%|██████████| 100/100 [01:06<00:00,  1.51it/s]\n"
     ]
    },
    {
     "name": "stdout",
     "output_type": "stream",
     "text": [
      "0.9122413793103448\n"
     ]
    },
    {
     "name": "stderr",
     "output_type": "stream",
     "text": [
      "100%|██████████| 100/100 [01:13<00:00,  1.36it/s]\n"
     ]
    },
    {
     "name": "stdout",
     "output_type": "stream",
     "text": [
      "0.9212068965517242\n",
      "\n",
      "Evaluating model 2/4\n",
      "{'name': 'RandomForest (own impl.)', 'model': <CustomForest.random_forest.RandomForest object at 0x0000016F1444D580>, 'group': 'weighted_random_forest', 'imputer': SimpleImputer()}\n"
     ]
    },
    {
     "name": "stderr",
     "output_type": "stream",
     "text": [
      "100%|██████████| 100/100 [00:07<00:00, 12.96it/s]\n"
     ]
    },
    {
     "name": "stdout",
     "output_type": "stream",
     "text": [
      "0.9044827586206895\n"
     ]
    },
    {
     "name": "stderr",
     "output_type": "stream",
     "text": [
      "100%|██████████| 100/100 [00:07<00:00, 12.60it/s]\n"
     ]
    },
    {
     "name": "stdout",
     "output_type": "stream",
     "text": [
      "0.896896551724138\n"
     ]
    },
    {
     "name": "stderr",
     "output_type": "stream",
     "text": [
      "100%|██████████| 100/100 [00:08<00:00, 12.27it/s]\n"
     ]
    },
    {
     "name": "stdout",
     "output_type": "stream",
     "text": [
      "0.8991379310344827\n"
     ]
    },
    {
     "name": "stderr",
     "output_type": "stream",
     "text": [
      "100%|██████████| 100/100 [00:08<00:00, 11.81it/s]\n"
     ]
    },
    {
     "name": "stdout",
     "output_type": "stream",
     "text": [
      "0.8822413793103447\n"
     ]
    },
    {
     "name": "stderr",
     "output_type": "stream",
     "text": [
      "100%|██████████| 100/100 [00:08<00:00, 12.25it/s]\n"
     ]
    },
    {
     "name": "stdout",
     "output_type": "stream",
     "text": [
      "0.911206896551724\n",
      "\n",
      "Evaluating model 3/4\n",
      "{'name': 'RandomForest (own impl., weighted, no nan)', 'model': <CustomForest.random_forest.RandomForest object at 0x0000016F1450ECD0>, 'group': 'weighted_random_forest', 'drop_train_na': True}\n"
     ]
    },
    {
     "name": "stderr",
     "output_type": "stream",
     "text": [
      "100%|██████████| 100/100 [00:02<00:00, 40.18it/s]\n"
     ]
    },
    {
     "name": "stdout",
     "output_type": "stream",
     "text": [
      "0.8931034482758622\n"
     ]
    },
    {
     "name": "stderr",
     "output_type": "stream",
     "text": [
      "100%|██████████| 100/100 [00:01<00:00, 50.35it/s]\n"
     ]
    },
    {
     "name": "stdout",
     "output_type": "stream",
     "text": [
      "0.8760344827586207\n"
     ]
    },
    {
     "name": "stderr",
     "output_type": "stream",
     "text": [
      "100%|██████████| 100/100 [00:02<00:00, 47.06it/s]\n"
     ]
    },
    {
     "name": "stdout",
     "output_type": "stream",
     "text": [
      "0.8903448275862069\n"
     ]
    },
    {
     "name": "stderr",
     "output_type": "stream",
     "text": [
      "100%|██████████| 100/100 [00:02<00:00, 42.88it/s]\n"
     ]
    },
    {
     "name": "stdout",
     "output_type": "stream",
     "text": [
      "0.8431034482758619\n"
     ]
    },
    {
     "name": "stderr",
     "output_type": "stream",
     "text": [
      "100%|██████████| 100/100 [00:02<00:00, 38.94it/s]\n"
     ]
    },
    {
     "name": "stdout",
     "output_type": "stream",
     "text": [
      "0.8962068965517241\n",
      "\n",
      "Evaluating model 4/4\n",
      "{'name': 'RandomForest (own impl., no nan)', 'model': <CustomForest.random_forest.RandomForest object at 0x0000016F144F7B50>, 'group': 'weighted_random_forest', 'drop_train_na': True}\n"
     ]
    },
    {
     "name": "stderr",
     "output_type": "stream",
     "text": [
      "100%|██████████| 100/100 [00:00<00:00, 106.83it/s]\n"
     ]
    },
    {
     "name": "stdout",
     "output_type": "stream",
     "text": [
      "0.8894827586206897\n"
     ]
    },
    {
     "name": "stderr",
     "output_type": "stream",
     "text": [
      "100%|██████████| 100/100 [00:00<00:00, 126.81it/s]\n"
     ]
    },
    {
     "name": "stdout",
     "output_type": "stream",
     "text": [
      "0.8796551724137931\n"
     ]
    },
    {
     "name": "stderr",
     "output_type": "stream",
     "text": [
      "100%|██████████| 100/100 [00:00<00:00, 127.15it/s]\n"
     ]
    },
    {
     "name": "stdout",
     "output_type": "stream",
     "text": [
      "0.8794827586206896\n"
     ]
    },
    {
     "name": "stderr",
     "output_type": "stream",
     "text": [
      "100%|██████████| 100/100 [00:00<00:00, 108.98it/s]\n"
     ]
    },
    {
     "name": "stdout",
     "output_type": "stream",
     "text": [
      "0.8265517241379309\n"
     ]
    },
    {
     "name": "stderr",
     "output_type": "stream",
     "text": [
      "100%|██████████| 100/100 [00:00<00:00, 101.63it/s]\n"
     ]
    },
    {
     "name": "stdout",
     "output_type": "stream",
     "text": [
      "0.8870689655172413\n",
      "Finished evaluating 4 models at 20230522-205100 in 0:06:49.275763 seconds\n"
     ]
    },
    {
     "data": {
      "text/plain": "<Figure size 432x288 with 1 Axes>",
      "image/png": "[encoded data removed]"
     },
     "metadata": {},
     "output_type": "display_data"
    },
    {
     "data": {
      "text/plain": "<Figure size 432x288 with 1 Axes>",
      "image/png": "[encoded data removed]"
     },
     "metadata": {},
     "output_type": "display_data"
    }
   ],
   "source": [
    "update_data_per_fold(100)\n",
    "scores = evaluate_model_list(models_to_evaluate)\n",
    "plot_scores(scores, \"Model performance (AUC)\")"
   ],
   "metadata": {
    "collapsed": false
   }
  },
  {
   "cell_type": "code",
   "execution_count": 57,
   "outputs": [
    {
     "name": "stderr",
     "output_type": "stream",
     "text": [
      "C:\\Users\\arnod\\PycharmProjects\\thesis\\util\\epitopes.py:6: DtypeWarning: Columns (20,29,30) have mixed types. Specify dtype option on import or set low_memory=False.\n",
      "  df_vdjdb = pd.read_csv('data/vdjdb-2022-03-30/vdjdb_full.txt', sep='\\t')\n"
     ]
    },
    {
     "name": "stdout",
     "output_type": "stream",
     "text": [
      "Number of negative samples changed from 47033 to 44205 (because of overlap with positive samples)\n",
      "Positive samples: alpha only: 2580, beta only: 3056, both: 2194, none: 0\n",
      "Negative samples (will be sampled to select same amount as positive): alpha only: 4499, beta only: 17510, both: 22196, none: 0\n",
      "Nan: train: 160, test: 108\n",
      "No Nan: train: 40, test: 108\n",
      "\n",
      "Evaluating model 1/4\n",
      "{'name': 'RandomForest (own impl., weighted)', 'model': <CustomForest.random_forest.RandomForest object at 0x0000016F14AEC970>, 'group': 'weighted_random_forest'}\n"
     ]
    },
    {
     "name": "stderr",
     "output_type": "stream",
     "text": [
      "100%|██████████| 100/100 [03:16<00:00,  1.97s/it]\n"
     ]
    },
    {
     "name": "stdout",
     "output_type": "stream",
     "text": [
      "0.9151724137931034\n"
     ]
    },
    {
     "name": "stderr",
     "output_type": "stream",
     "text": [
      "100%|██████████| 100/100 [03:53<00:00,  2.33s/it]\n"
     ]
    },
    {
     "name": "stdout",
     "output_type": "stream",
     "text": [
      "0.8924137931034484\n"
     ]
    },
    {
     "name": "stderr",
     "output_type": "stream",
     "text": [
      "100%|██████████| 100/100 [03:41<00:00,  2.21s/it]\n"
     ]
    },
    {
     "name": "stdout",
     "output_type": "stream",
     "text": [
      "0.9172413793103449\n"
     ]
    },
    {
     "name": "stderr",
     "output_type": "stream",
     "text": [
      "100%|██████████| 100/100 [03:50<00:00,  2.30s/it]\n"
     ]
    },
    {
     "name": "stdout",
     "output_type": "stream",
     "text": [
      "0.9020689655172414\n"
     ]
    },
    {
     "name": "stderr",
     "output_type": "stream",
     "text": [
      "100%|██████████| 100/100 [03:18<00:00,  1.99s/it]\n"
     ]
    },
    {
     "name": "stdout",
     "output_type": "stream",
     "text": [
      "0.8818965517241378\n",
      "\n",
      "Evaluating model 2/4\n",
      "{'name': 'RandomForest (own impl.)', 'model': <CustomForest.random_forest.RandomForest object at 0x0000016F1444D580>, 'group': 'weighted_random_forest', 'imputer': SimpleImputer()}\n"
     ]
    },
    {
     "name": "stderr",
     "output_type": "stream",
     "text": [
      "100%|██████████| 100/100 [00:16<00:00,  6.02it/s]\n"
     ]
    },
    {
     "name": "stdout",
     "output_type": "stream",
     "text": [
      "0.9110344827586206\n"
     ]
    },
    {
     "name": "stderr",
     "output_type": "stream",
     "text": [
      "100%|██████████| 100/100 [00:17<00:00,  5.64it/s]\n"
     ]
    },
    {
     "name": "stdout",
     "output_type": "stream",
     "text": [
      "0.9060344827586206\n"
     ]
    },
    {
     "name": "stderr",
     "output_type": "stream",
     "text": [
      "100%|██████████| 100/100 [00:17<00:00,  5.81it/s]\n"
     ]
    },
    {
     "name": "stdout",
     "output_type": "stream",
     "text": [
      "0.9253448275862068\n"
     ]
    },
    {
     "name": "stderr",
     "output_type": "stream",
     "text": [
      "100%|██████████| 100/100 [00:17<00:00,  5.72it/s]\n"
     ]
    },
    {
     "name": "stdout",
     "output_type": "stream",
     "text": [
      "0.8843103448275862\n"
     ]
    },
    {
     "name": "stderr",
     "output_type": "stream",
     "text": [
      "100%|██████████| 100/100 [00:16<00:00,  6.23it/s]\n"
     ]
    },
    {
     "name": "stdout",
     "output_type": "stream",
     "text": [
      "0.8986206896551724\n",
      "\n",
      "Evaluating model 3/4\n",
      "{'name': 'RandomForest (own impl., weighted, no nan)', 'model': <CustomForest.random_forest.RandomForest object at 0x0000016F1450ECD0>, 'group': 'weighted_random_forest', 'drop_train_na': True}\n"
     ]
    },
    {
     "name": "stderr",
     "output_type": "stream",
     "text": [
      "100%|██████████| 100/100 [00:06<00:00, 16.01it/s]\n"
     ]
    },
    {
     "name": "stdout",
     "output_type": "stream",
     "text": [
      "0.8901724137931035\n"
     ]
    },
    {
     "name": "stderr",
     "output_type": "stream",
     "text": [
      "100%|██████████| 100/100 [00:06<00:00, 14.62it/s]\n"
     ]
    },
    {
     "name": "stdout",
     "output_type": "stream",
     "text": [
      "0.9167241379310345\n"
     ]
    },
    {
     "name": "stderr",
     "output_type": "stream",
     "text": [
      "100%|██████████| 100/100 [00:06<00:00, 14.93it/s]\n"
     ]
    },
    {
     "name": "stdout",
     "output_type": "stream",
     "text": [
      "0.9034482758620689\n"
     ]
    },
    {
     "name": "stderr",
     "output_type": "stream",
     "text": [
      "100%|██████████| 100/100 [00:05<00:00, 17.23it/s]\n"
     ]
    },
    {
     "name": "stdout",
     "output_type": "stream",
     "text": [
      "0.8955172413793102\n"
     ]
    },
    {
     "name": "stderr",
     "output_type": "stream",
     "text": [
      "100%|██████████| 100/100 [00:05<00:00, 17.33it/s]\n"
     ]
    },
    {
     "name": "stdout",
     "output_type": "stream",
     "text": [
      "0.8755172413793103\n",
      "\n",
      "Evaluating model 4/4\n",
      "{'name': 'RandomForest (own impl., no nan)', 'model': <CustomForest.random_forest.RandomForest object at 0x0000016F144F7B50>, 'group': 'weighted_random_forest', 'drop_train_na': True}\n"
     ]
    },
    {
     "name": "stderr",
     "output_type": "stream",
     "text": [
      "100%|██████████| 100/100 [00:02<00:00, 46.40it/s]\n"
     ]
    },
    {
     "name": "stdout",
     "output_type": "stream",
     "text": [
      "0.8824137931034483\n"
     ]
    },
    {
     "name": "stderr",
     "output_type": "stream",
     "text": [
      "100%|██████████| 100/100 [00:02<00:00, 43.11it/s]\n"
     ]
    },
    {
     "name": "stdout",
     "output_type": "stream",
     "text": [
      "0.9046551724137929\n"
     ]
    },
    {
     "name": "stderr",
     "output_type": "stream",
     "text": [
      "100%|██████████| 100/100 [00:02<00:00, 41.84it/s]\n"
     ]
    },
    {
     "name": "stdout",
     "output_type": "stream",
     "text": [
      "0.8982758620689655\n"
     ]
    },
    {
     "name": "stderr",
     "output_type": "stream",
     "text": [
      "100%|██████████| 100/100 [00:02<00:00, 49.14it/s]\n"
     ]
    },
    {
     "name": "stdout",
     "output_type": "stream",
     "text": [
      "0.8693103448275863\n"
     ]
    },
    {
     "name": "stderr",
     "output_type": "stream",
     "text": [
      "100%|██████████| 100/100 [00:02<00:00, 45.70it/s]\n"
     ]
    },
    {
     "name": "stdout",
     "output_type": "stream",
     "text": [
      "0.8970689655172414\n",
      "Finished evaluating 4 models at 20230522-211114 in 0:20:09.249499 seconds\n"
     ]
    },
    {
     "data": {
      "text/plain": "<Figure size 432x288 with 1 Axes>",
      "image/png": "[encoded data removed]"
     },
     "metadata": {},
     "output_type": "display_data"
    },
    {
     "data": {
      "text/plain": "<Figure size 432x288 with 1 Axes>",
      "image/png": "[encoded data removed]"
     },
     "metadata": {},
     "output_type": "display_data"
    }
   ],
   "source": [
    "update_data_per_fold(200)\n",
    "scores = evaluate_model_list(models_to_evaluate)\n",
    "plot_scores(scores, \"Model performance (AUC)\")"
   ],
   "metadata": {
    "collapsed": false
   }
  },
  {
   "cell_type": "code",
   "execution_count": null,
   "outputs": [
    {
     "name": "stderr",
     "output_type": "stream",
     "text": [
      "C:\\Users\\arnod\\PycharmProjects\\thesis\\util\\epitopes.py:6: DtypeWarning: Columns (20,29,30) have mixed types. Specify dtype option on import or set low_memory=False.\n",
      "  df_vdjdb = pd.read_csv('data/vdjdb-2022-03-30/vdjdb_full.txt', sep='\\t')\n"
     ]
    },
    {
     "name": "stdout",
     "output_type": "stream",
     "text": [
      "Number of negative samples changed from 47033 to 44205 (because of overlap with positive samples)\n",
      "Positive samples: alpha only: 2580, beta only: 3056, both: 2194, none: 0\n",
      "Negative samples (will be sampled to select same amount as positive): alpha only: 4499, beta only: 17510, both: 22196, none: 0\n",
      "Nan: train: 400, test: 108\n",
      "No Nan: train: 100, test: 108\n",
      "\n",
      "Evaluating model 1/4\n",
      "{'name': 'RandomForest (own impl., weighted)', 'model': <CustomForest.random_forest.RandomForest object at 0x0000016F14519610>, 'group': 'weighted_random_forest'}\n"
     ]
    },
    {
     "name": "stderr",
     "output_type": "stream",
     "text": [
      "100%|██████████| 100/100 [21:20<00:00, 12.81s/it]\n"
     ]
    },
    {
     "name": "stdout",
     "output_type": "stream",
     "text": [
      "0.9229310344827587\n"
     ]
    },
    {
     "name": "stderr",
     "output_type": "stream",
     "text": [
      "100%|██████████| 100/100 [17:34<00:00, 10.55s/it]\n"
     ]
    },
    {
     "name": "stdout",
     "output_type": "stream",
     "text": [
      "0.905\n"
     ]
    },
    {
     "name": "stderr",
     "output_type": "stream",
     "text": [
      "  2%|▏         | 2/100 [00:17<14:26,  8.84s/it]"
     ]
    }
   ],
   "source": [
    "update_data_per_fold(500)\n",
    "scores = evaluate_model_list(models_to_evaluate)\n",
    "plot_scores(scores, \"Model performance (AUC)\")"
   ],
   "metadata": {
    "collapsed": false,
    "pycharm": {
     "is_executing": true
    }
   }
  },
  {
   "cell_type": "code",
   "execution_count": null,
   "outputs": [],
   "source": [
    "update_data_per_fold(1000)\n",
    "scores = evaluate_model_list(models_to_evaluate)\n",
    "plot_scores(scores, \"Model performance (AUC)\")"
   ],
   "metadata": {
    "collapsed": false,
    "pycharm": {
     "is_executing": true
    }
   }
  },
  {
   "cell_type": "code",
   "execution_count": null,
   "outputs": [],
   "source": [
    "update_data_per_fold(2000)\n",
    "scores = evaluate_model_list(models_to_evaluate)\n",
    "plot_scores(scores, \"Model performance (AUC)\")"
   ],
   "metadata": {
    "collapsed": false,
    "pycharm": {
     "is_executing": true
    }
   }
  },
  {
   "cell_type": "code",
   "execution_count": null,
   "outputs": [],
   "source": [
    "update_data_per_fold(5000)\n",
    "scores = evaluate_model_list(models_to_evaluate)\n",
    "plot_scores(scores, \"Model performance (AUC)\")"
   ],
   "metadata": {
    "collapsed": false,
    "pycharm": {
     "is_executing": true
    }
   }
  },
  {
   "cell_type": "code",
   "execution_count": null,
   "outputs": [],
   "source": [
    "update_data_per_fold(None)\n",
    "scores = evaluate_model_list(models_to_evaluate)\n",
    "plot_scores(scores, \"Model performance (AUC)\")"
   ],
   "metadata": {
    "collapsed": false,
    "pycharm": {
     "is_executing": true
    }
   }
  },
  {
   "cell_type": "code",
   "execution_count": null,
   "outputs": [],
   "source": [],
   "metadata": {
    "collapsed": false
   }
  }
 ],
 "metadata": {
  "kernelspec": {
   "display_name": "Python 3",
   "language": "python",
   "name": "python3"
  },
  "language_info": {
   "codemirror_mode": {
    "name": "ipython",
    "version": 2
   },
   "file_extension": ".py",
   "mimetype": "text/x-python",
   "name": "python",
   "nbconvert_exporter": "python",
   "pygments_lexer": "ipython2",
   "version": "2.7.6"
  }
 },
 "nbformat": 4,
 "nbformat_minor": 0
}
