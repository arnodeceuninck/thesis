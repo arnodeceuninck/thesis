{
 "cells": [
  {
   "cell_type": "markdown",
   "metadata": {
    "pycharm": {
     "name": "#%% md\n"
    }
   },
   "source": [
    "# Overview\n",
    "I'll try to keep an up to date overview here of all methods I've tried so far.\n",
    "\n",
    "## Table\n",
    "Training set always contains NaNs (might be imputed), unless stated otherwise in the Notes column.\n",
    "\n",
    "### Test set containing NaNs\n",
    "(+/-x) where x is twice the standard deviation. If x is a question mark, cross validation wasn't used.\n",
    "Note: about 60% of the rows contain NaNs.\n",
    "\n",
    "| Method                                                                           | ROC               | Parameters       | Notes                                                                             | Notebook |\n",
    "|----------------------------------------------------------------------------------|-------------------|------------------|-----------------------------------------------------------------------------------|----------|\n",
    "| Random Forest                                                                    | 0.872 (+/- 0.020) |                  | If no imputation method metioned, then it's zero-imputed                          | 10, 111  |\n",
    "| HistGradient                                                                     | 0.892 (+/- 0.011) |                  |                                                                                   | 10       |\n",
    "| Random Forest (alpha-chain only)                                                 | 0.736 (+/-?)      | n_estimators=200 | Graph contains straight line (because of a lot of rows with the same value (NaN)) | 5        |\n",
    "| Random Forest (beta-chain only)                                                  | 0.858 (+/-?)      | n_estimators=200 |                                                                                   | 5        |\n",
    "| Random Forest (alpha and beta seperate RF models, combined with arithmetic mean) | 0.897 (+/-?)      | n_estimators=200 |                                                                                   | 5        |\n",
    "| Random Forest (alpha and beta seperate RF models, combined with maximum)         | 0.890 (+/-?)      | n_estimators=200 |                                                                                   | 5        |\n",
    "| Random Forest (alpha and beta seperate RF models, combined with minimum)         | 0.845 (+/-?)      | n_estimators=200 |                                                                                   | 5        |\n",
    "| Random Forest (alpha and beta seperate RF models, combined with multiplication)  | 0.889 (+/-?)      | n_estimators=200 |                                                                                   | 5        |\n",
    "| Random Forest (K-Means imputed)                                                  | 0.883 (+/-?)      |                  |                                                                                   | 7        |\n",
    "| KNeighbors (K-Means imputed)                                                     | 0.781 (+/-?)      | n_neighbors=5    | Kinked ROC graph                                                                  | 7        |\n",
    "| KNeighbors (Zero imputed)                                                        | 0.810 (+/-?)      | n_neighbors=5    | Kinked ROC graph                                                                  | 7        |\n",
    "| KNeighbors (Mean imputed)                                                        | 0.807 (+/-?)      | n_neighbors=5    | Kinked ROC graph                                                                  | 7        |\n",
    "| Random Forest (Mean imputed)                                                     | 0.870 (+/-0.021)  |                  |                                                                                   | 11       |\n",
    "| Random Forest (Most frequent imputed)                                            | 0.871 (+/-0.018)  |                  |                                                                                   | 11       |\n",
    "| Random Forest (Median imputed)                                                   | 0.869 (+/-0.019)  |                  |                                                                                   | 11       |\n",
    "| Random Forest (Missing indicator, zero imputed)                                  | 0.874 (+/-0.016)  |                  |                                                                                   | 11       |\n",
    "\n",
    "### Test set without NaNs\n",
    "NaN's not dropped in train data unless mentioned otherwise. One model on both chains together, unless mentioned otherwise.\n",
    "\n",
    "| Method                                                                           | ROC              | Parameters       | Notes                          | Notebook |\n",
    "|----------------------------------------------------------------------------------|------------------|------------------|--------------------------------|----------|\n",
    "| Random Forest (alpha-chain only)                                                 | 0.864 (+/-?)     | n_estimators=200 | NaNs also dropped in train set | 5        |\n",
    "| Random Forest (beta-chain only)                                                  | 0.907 (+/-?)     | n_estimators=200 | NaNs also dropped in train set | 5        |\n",
    "| Random Forest (alpha and beta seperate RF models, combined with arithmetic mean) | 0.934 (+/-?)     | n_estimators=200 | NaNs also dropped in train set | 5        |\n",
    "| Random Forest (both-chains)                                                      | 0.926 (+/-?)     | n_estimators=200 | NaNs also dropped in train set | 5        |\n",
    "| Random Forest (alpha-chain only)                                                 | 0.899 (+/-?)     | n_estimators=200 |                                | 5        |\n",
    "| Random Forest (beta-chain only)                                                  | 0.933 (+/-?)     | n_estimators=200 |                                | 5        |\n",
    "| Random Forest (alpha and beta seperate RF models, combined with arithmetic mean) | 0.963 (+/-?)     | n_estimators=200 |                                | 5        |\n",
    "| Random Forest (both-chains)                                                      | 0.949 (+/-?)     | n_estimators=200 |                                | 5        |\n",
    "| Random Forest (zero imputed)                                                     | 0.950 (+/-?)     |                  |                                | 11       |\n",
    "| Random Forest (seperate models (mean combined), zero imputed)                    | 0.961 (+/-?)     |                  |                                | 11       |\n",
    "| Random Forest (mean imputed)                                                     | 0.948 (+/-?)     |                  |                                | 11       |\n",
    "| Random Forest (seperate models (mean combined), mean imputed)                    | 0.963 (+/-?)     |                  |                                | 11       |\n",
    "| Random Forest (most freq imputed)                                                | 0.948 (+/-?)     |                  |                                | 11       |\n",
    "| Random Forest (seperate models (mean combined), most freq imputed)               | 0.960 (+/-?)     |                  |                                | 11       |\n",
    "| Random Forest (median imputed)                                                   | 0.950 (+/-?)     |                  |                                | 11       |\n",
    "| Random Forest (seperate models (mean combined), median imputed)                  | 0.966 (+/-?)     |                  |                                | 11       |\n",
    "| Random Forest (missing indicator, zero imputed)                                  | 0.953 (+/-?)     |                  |                                | 11       |\n",
    "| HistGradient                                                                     | 0.891 (+/-0.013) |                  |                                | 10       |\n",
    "| HistGradient (seperate chains)                                                   | 0.968 (+/-?)     |                  |                                | 10       |\n",
    "\n",
    "\n",
    "## Separatly\n",
    "In notebook 5, we've trained a model (Random Forest) on the alpha-chain and a different model (also Random Forest) on the beta-chain."
   ]
  },
  {
   "cell_type": "markdown",
   "source": [
    "## Data and Features"
   ],
   "metadata": {
    "collapsed": false,
    "pycharm": {
     "name": "#%% md\n"
    }
   }
  },
  {
   "cell_type": "code",
   "execution_count": 1,
   "metadata": {
    "pycharm": {
     "name": "#%%\n"
    }
   },
   "outputs": [],
   "source": [
    "from sklearn.model_selection import train_test_split, cross_val_score, KFold\n",
    "from util import get_train_dataset, get_features, fix_test\n",
    "import numpy as np\n",
    "\n",
    "df = get_train_dataset()\n",
    "# df = df.sample(n=1000)\n",
    "\n",
    "df_reaction_column = df['reaction']\n",
    "df_features = get_features(df)\n",
    "\n",
    "df_features.reset_index(drop=True, inplace=True)\n",
    "df_reaction_column.reset_index(drop=True, inplace=True)\n",
    "\n",
    "assert df_features.shape[0] == df_reaction_column.shape[0]\n",
    "assert np.isnan(df_reaction_column).sum().sum() == 0\n",
    "\n",
    "# add the reaction column to the features (will be dropped later on)\n",
    "df_features['reaction'] = df_reaction_column"
   ]
  },
  {
   "cell_type": "code",
   "execution_count": 2,
   "outputs": [],
   "source": [
    "y = df_features['reaction']\n",
    "x = df_features.drop(['reaction'], axis=1)\n",
    "\n",
    "assert 'reaction' not in x.columns\n",
    "assert np.isnan(y).sum() == 0"
   ],
   "metadata": {
    "collapsed": false,
    "pycharm": {
     "name": "#%%\n"
    }
   }
  },
  {
   "cell_type": "markdown",
   "source": [
    "## Edited data\n",
    "Some models require the data to be edited in a certain way. This is done here."
   ],
   "metadata": {
    "collapsed": false,
    "pycharm": {
     "name": "#%% md\n"
    }
   }
  },
  {
   "cell_type": "code",
   "execution_count": 3,
   "outputs": [],
   "source": [
    "# replace nan values with 0\n",
    "x_zero_filled = x.fillna(0)\n",
    "assert np.isnan(x_zero_filled).sum().sum() == 0"
   ],
   "metadata": {
    "collapsed": false,
    "pycharm": {
     "name": "#%%\n"
    }
   }
  },
  {
   "cell_type": "markdown",
   "source": [
    "## Util"
   ],
   "metadata": {
    "collapsed": false,
    "pycharm": {
     "name": "#%% md\n"
    }
   }
  },
  {
   "cell_type": "code",
   "execution_count": 4,
   "outputs": [],
   "source": [
    "def evaluate(clf):\n",
    "    kf = KFold(n_splits=5, shuffle=True, random_state=42)\n",
    "    scores = cross_val_score(clf, x_zero_filled, y, cv=kf, scoring='roc_auc')\n",
    "    print(scores)\n",
    "    print(f\"ROC: {scores.mean():.3f} (+/- {scores.std() * 2:.3f})\")"
   ],
   "metadata": {
    "collapsed": false,
    "pycharm": {
     "name": "#%%\n"
    }
   }
  },
  {
   "cell_type": "markdown",
   "source": [
    "## Random Forest"
   ],
   "metadata": {
    "collapsed": false,
    "pycharm": {
     "name": "#%% md\n"
    }
   }
  },
  {
   "cell_type": "code",
   "execution_count": 5,
   "outputs": [
    {
     "name": "stdout",
     "output_type": "stream",
     "text": [
      "[0.88498462 0.88172472 0.85801867 0.87094258 0.86453068]\n",
      "ROC: 0.872 (+/- 0.020)\n"
     ]
    }
   ],
   "source": [
    "from sklearn.ensemble import RandomForestClassifier\n",
    "clf = RandomForestClassifier(random_state=0)\n",
    "evaluate(clf)"
   ],
   "metadata": {
    "collapsed": false,
    "pycharm": {
     "name": "#%%\n"
    }
   }
  },
  {
   "cell_type": "markdown",
   "source": [
    "## Hist Gradient Boosting"
   ],
   "metadata": {
    "collapsed": false,
    "pycharm": {
     "name": "#%% md\n"
    }
   }
  },
  {
   "cell_type": "code",
   "execution_count": 6,
   "outputs": [
    {
     "name": "stdout",
     "output_type": "stream",
     "text": [
      "[0.89563107 0.89998001 0.88828785 0.89254687 0.88447752]\n",
      "ROC: 0.892 (+/- 0.011)\n"
     ]
    }
   ],
   "source": [
    "from sklearn.ensemble import HistGradientBoostingClassifier\n",
    "clf = HistGradientBoostingClassifier(random_state=0)\n",
    "evaluate(clf)"
   ],
   "metadata": {
    "collapsed": false,
    "pycharm": {
     "name": "#%%\n"
    }
   }
  },
  {
   "cell_type": "markdown",
   "source": [
    "# Test without NaNs"
   ],
   "metadata": {
    "collapsed": false,
    "pycharm": {
     "name": "#%% md\n"
    }
   }
  },
  {
   "cell_type": "code",
   "execution_count": 3,
   "outputs": [
    {
     "name": "stderr",
     "output_type": "stream",
     "text": [
      "C:\\Users\\arnod\\PycharmProjects\\thesis\\util\\classification.py:37: PerformanceWarning: DataFrame is highly fragmented.  This is usually the result of calling `frame.insert` many times, which has poor performance.  Consider joining all columns at once using pd.concat(axis=1) instead.  To get a de-fragmented frame, use `newframe = frame.copy()`\n",
      "  x_test[col] = np.nan  # TODO: NaN geven\n"
     ]
    }
   ],
   "source": [
    "from sklearn.model_selection import train_test_split\n",
    "from util import get_train_dataset, get_features, fix_test, evaluate, calculate_auc_and_plot, get_columns_starting_with\n",
    "\n",
    "df = get_train_dataset()\n",
    "# df = df.sample(n=1000) # for faster debugging\n",
    "\n",
    "train, test = train_test_split(df, test_size=0.2, random_state=42)\n",
    "\n",
    "test.dropna(inplace=True)\n",
    "x = get_features(train)\n",
    "y = train['reaction']\n",
    "x_test = get_features(test, test=True)\n",
    "x_test = fix_test(x_test, x.columns)\n",
    "y_test = test['reaction']"
   ],
   "metadata": {
    "collapsed": false,
    "pycharm": {
     "name": "#%%\n"
    }
   }
  },
  {
   "cell_type": "code",
   "execution_count": 8,
   "outputs": [],
   "source": [
    "cv_x = get_features(df)\n",
    "cv_y = df['reaction']"
   ],
   "metadata": {
    "collapsed": false,
    "pycharm": {
     "name": "#%%\n"
    }
   }
  },
  {
   "cell_type": "code",
   "execution_count": 4,
   "outputs": [],
   "source": [
    "def evaluate_seperate_chains(clf1, clf2):\n",
    "    # Keep only the columns starting with 'alfa_'\n",
    "    x_alpha = get_columns_starting_with(x, 'alfa_')\n",
    "    x_beta = get_columns_starting_with(x, 'beta_')\n",
    "\n",
    "    clf1.fit(x_alpha, y)\n",
    "    clf2.fit(x_beta, y)\n",
    "\n",
    "    x_test_alpha = get_columns_starting_with(x_test, 'alfa_')\n",
    "    x_test_beta = get_columns_starting_with(x_test, 'beta_')\n",
    "\n",
    "    x_test_alpha = fix_test(x_test_alpha, x_alpha.columns)\n",
    "    x_test_beta = fix_test(x_test_beta, x_beta.columns)\n",
    "\n",
    "    y_pred1 = clf1.predict_proba(x_test_alpha)[:, 1]\n",
    "    y_pred2 = clf2.predict_proba(x_test_beta)[:, 1]\n",
    "\n",
    "    y_pred = (y_pred1 + y_pred2) / 2\n",
    "    auc = calculate_auc_and_plot(y_test, y_pred)\n",
    "\n",
    "    print(f'AUC: {auc:.3f}')"
   ],
   "metadata": {
    "collapsed": false,
    "pycharm": {
     "name": "#%%\n"
    }
   }
  },
  {
   "cell_type": "markdown",
   "source": [
    "## Hist Gradient Boosting"
   ],
   "metadata": {
    "collapsed": false,
    "pycharm": {
     "name": "#%% md\n"
    }
   }
  },
  {
   "cell_type": "code",
   "execution_count": 5,
   "outputs": [],
   "source": [
    "from sklearn.ensemble import HistGradientBoostingClassifier\n",
    "clf = HistGradientBoostingClassifier(random_state=0)"
   ],
   "metadata": {
    "collapsed": false,
    "pycharm": {
     "name": "#%%\n"
    }
   }
  },
  {
   "cell_type": "code",
   "execution_count": 6,
   "outputs": [
    {
     "name": "stdout",
     "output_type": "stream",
     "text": [
      "[0.87931909 0.87896632 0.8853386  0.8901665  0.88618256]\n",
      "ROC: 0.884 (+/- 0.009)\n"
     ]
    }
   ],
   "source": [
    "evaluate(clf, x, y)"
   ],
   "metadata": {
    "collapsed": false,
    "pycharm": {
     "name": "#%%\n"
    }
   }
  },
  {
   "cell_type": "code",
   "execution_count": 9,
   "outputs": [
    {
     "name": "stdout",
     "output_type": "stream",
     "text": [
      "[0.89843189 0.89649854 0.88177803 0.89522621 0.88509522]\n",
      "ROC: 0.891 (+/- 0.013)\n"
     ]
    }
   ],
   "source": [
    "evaluate(clf, cv_x, cv_y)"
   ],
   "metadata": {
    "collapsed": false,
    "pycharm": {
     "name": "#%%\n"
    }
   }
  },
  {
   "cell_type": "code",
   "execution_count": 7,
   "outputs": [
    {
     "data": {
      "text/plain": "<Figure size 432x288 with 1 Axes>",
      "image/png": "[encoded data removed]"
     },
     "metadata": {},
     "output_type": "display_data"
    },
    {
     "name": "stdout",
     "output_type": "stream",
     "text": [
      "AUC: 0.968\n"
     ]
    }
   ],
   "source": [
    "clf2 = HistGradientBoostingClassifier(random_state=0)\n",
    "evaluate_seperate_chains(clf, clf2)"
   ],
   "metadata": {
    "collapsed": false,
    "pycharm": {
     "name": "#%%\n"
    }
   }
  },
  {
   "cell_type": "markdown",
   "source": [
    "gen family en soort opsplitsen\n",
    "histgradient op test zonder nan -> OK\n",
    "andere imputations bij RF -> OK\n",
    "Kijken meer datasets? uitleggen hoe je da zelf moet doenvdjdbgithub link, lijst met rleases, latest 30/3, zip, vdjdb-full, column antign epitope, kan je doen voo randere pitopen,  een dataset die ik best verwijder, gewoon erin latn\n",
    "datasets voor epitope werken, elke andere epitope kan werken voor een negative (cross reactieve er wel uithalen)"
   ],
   "metadata": {
    "collapsed": false,
    "pycharm": {
     "name": "#%% md\n"
    }
   }
  }
 ],
 "metadata": {
  "kernelspec": {
   "display_name": "Python 3 (ipykernel)",
   "language": "python",
   "name": "python3"
  },
  "language_info": {
   "codemirror_mode": {
    "name": "ipython",
    "version": 3
   },
   "file_extension": ".py",
   "mimetype": "text/x-python",
   "name": "python",
   "nbconvert_exporter": "python",
   "pygments_lexer": "ipython3",
   "version": "3.9.7"
  }
 },
 "nbformat": 4,
 "nbformat_minor": 1
}