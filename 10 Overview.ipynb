{
 "cells": [
  {
   "cell_type": "markdown",
   "metadata": {
    "pycharm": {
     "name": "#%% md\n"
    }
   },
   "source": [
    "# Overview\n",
    "I'll try to keep an up to date overview here of all methods I've tried so far.\n",
    "\n",
    "## Table\n",
    "PERFECT DATA PROBLEM STILL\n",
    "Training set always contains NaNs (might be imputed), unless stated otherwise in the Notes column.\n",
    "\n",
    "### Test set containing NaNs\n",
    "(+/-x) where x is twice the standard deviation. If x is a question mark, cross validation wasn't used.\n",
    "Note: about 60% of the rows contain NaNs.\n",
    "\n",
    "| Method                                                                           | ROC              | Parameters                    | Notes                                                                             | Notebook |\n",
    "|----------------------------------------------------------------------------------|------------------|-------------------------------|-----------------------------------------------------------------------------------|----------|\n",
    "| Random Forest                                                                    | 0.999 (+/-0.001) |  |                                                                                   | 9        |\n",
    "| HistGradient                                                                     | 1.000 (+/-0.000) |  |                                                                                   | 9        |\n",
    "| Random Forest (alpha-chain only)                                                 | 0.767 (+/-?)     | n_estimators=200              | Graph contains straight line (because of a lot of rows with the same value (NaN)) | 5        |\n",
    "| Random Forest (beta-chain only)                                                  | 1.000 (+/-?)     | n_estimators=200              |                                                                                   | 5        |\n",
    "| Random Forest (alpha and beta seperate RF models, combined with arithmetic mean) | 1.000 (+/-?)     | n_estimators=200              |                                                                                   | 5        |\n",
    "| Random Forest (alpha and beta seperate RF models, combined with maximum)         | 0.995 (+/-?)     | n_estimators=200              |                                                                                   | 5        |\n",
    "| Random Forest (alpha and beta seperate RF models, combined with minimum)         | 0.998 (+/-?)     | n_estimators=200              |                                                                                   | 5        |\n",
    "| Random Forest (alpha and beta seperate RF models, combined with multiplication)  | 1.000 (+/-?)     | n_estimators=200              |                                                                                   | 5        |\n",
    "| Random Forest (K-Means imputed)                                                  | 0.996 (+/-?)     |                               |                                                                                   | 7        |\n",
    "| KNeighbors (K-Means imputed)                                                     | 0.752 (+/-?)     | n_neighbors=5                 | Kinked ROC graph                                                                  | 7        |\n",
    "| KNeighbors (Zero imputed)                                                        | 0.782 (+/-?)     | n_neighbors=5                 | Kinked ROC graph                                                                  | 7        |\n",
    "| KNeighbors (Mean imputed)                                                        | 0.778 (+/-?)     | n_neighbors=5                 | Kinked ROC graph                                                                  | 7        |\n",
    "\n",
    "### Test set without NaNs\n",
    "| Method                                                                           | ROC          | Parameters       | Notes                          | Notebook |\n",
    "|----------------------------------------------------------------------------------|--------------|------------------|--------------------------------|----------|\n",
    "| Random Forest (alpha-chain only)                                                 | 0.981 (+/-?) | n_estimators=200 | NaNs also dropped in train set | 5        |\n",
    "| Random Forest (beta-chain only)                                                  | 0.999 (+/-?) | n_estimators=200 | NaNs also dropped in train set | 5        |\n",
    "| Random Forest (alpha and beta seperate RF models, combined with arithmetic mean) | 1.000 (+/-?) | n_estimators=200 | NaNs also dropped in train set | 5        |\n",
    "| Random Forest (both-chains)                                                      | 0.998 (+/-?) | n_estimators=200 | NaNs also dropped in train set | 5        |\n",
    "| Random Forest (alpha-chain only)                                                 | 0.987 (+/-?) | n_estimators=200 | NaNs not dropped in train set  | 5        |\n",
    "| Random Forest (beta-chain only)                                                  | 1.000 (+/-?) | n_estimators=200 | NaNs not dropped in train set  | 5        |\n",
    "| Random Forest (alpha and beta seperate RF models, combined with arithmetic mean) | 1.000 (+/-?) | n_estimators=200 | NaNs not dropped in train set  | 5        |\n",
    "| Random Forest (both-chains)                                                      | 0.999 (+/-?) | n_estimators=200 | NaNs not dropped in train set  | 5        |\n",
    "\n",
    "## Separatly\n",
    "In notebook 5, we've trained a model (Random Forest) on the alpha-chain and a different model (also Random Forest) on the beta-chain."
   ]
  },
  {
   "cell_type": "markdown",
   "source": [
    "## Data and Features"
   ],
   "metadata": {
    "collapsed": false,
    "pycharm": {
     "name": "#%% md\n"
    }
   }
  },
  {
   "cell_type": "code",
   "execution_count": 27,
   "metadata": {
    "pycharm": {
     "name": "#%%\n"
    }
   },
   "outputs": [],
   "source": [
    "from sklearn.model_selection import train_test_split, cross_val_score, KFold\n",
    "from util import get_train_dataset, get_features, fix_test\n",
    "import numpy as np\n",
    "\n",
    "df = get_train_dataset()\n",
    "# df = df.sample(n=1000)\n",
    "\n",
    "df_reaction_column = df['reaction']\n",
    "df_features = get_features(df)\n",
    "\n",
    "df_features.reset_index(drop=True, inplace=True)\n",
    "df_reaction_column.reset_index(drop=True, inplace=True)\n",
    "\n",
    "assert df_features.shape[0] == df_reaction_column.shape[0]\n",
    "assert np.isnan(df_reaction_column).sum().sum() == 0\n",
    "\n",
    "# add the reaction column to the features (will be dropped later on)\n",
    "df_features['reaction'] = df_reaction_column"
   ]
  },
  {
   "cell_type": "code",
   "execution_count": 28,
   "outputs": [],
   "source": [
    "y = df_features['reaction']\n",
    "x = df_features.drop(['reaction'], axis=1)\n",
    "\n",
    "assert 'reaction' not in x.columns\n",
    "assert np.isnan(y).sum() == 0"
   ],
   "metadata": {
    "collapsed": false,
    "pycharm": {
     "name": "#%%\n"
    }
   }
  },
  {
   "cell_type": "markdown",
   "source": [
    "## Edited data\n",
    "Some models require the data to be edited in a certain way. This is done here."
   ],
   "metadata": {
    "collapsed": false,
    "pycharm": {
     "name": "#%% md\n"
    }
   }
  },
  {
   "cell_type": "code",
   "execution_count": 29,
   "outputs": [],
   "source": [
    "# replace nan values with 0\n",
    "x_zero_filled = x.fillna(0)\n",
    "assert np.isnan(x_zero_filled).sum().sum() == 0"
   ],
   "metadata": {
    "collapsed": false,
    "pycharm": {
     "name": "#%%\n"
    }
   }
  },
  {
   "cell_type": "markdown",
   "source": [
    "## Util"
   ],
   "metadata": {
    "collapsed": false,
    "pycharm": {
     "name": "#%% md\n"
    }
   }
  },
  {
   "cell_type": "code",
   "execution_count": 30,
   "outputs": [],
   "source": [
    "def evaluate(clf):\n",
    "    kf = KFold(n_splits=5, shuffle=True, random_state=42)\n",
    "    scores = cross_val_score(clf, x_zero_filled, y, cv=kf, scoring='roc_auc')\n",
    "    print(scores)\n",
    "    print(f\"ROC: {scores.mean():.3f} (+/- {scores.std() * 2:.3f})\")"
   ],
   "metadata": {
    "collapsed": false,
    "pycharm": {
     "name": "#%%\n"
    }
   }
  },
  {
   "cell_type": "markdown",
   "source": [
    "## Random Forest"
   ],
   "metadata": {
    "collapsed": false,
    "pycharm": {
     "name": "#%% md\n"
    }
   }
  },
  {
   "cell_type": "code",
   "execution_count": null,
   "outputs": [],
   "source": [
    "from sklearn.ensemble import RandomForestClassifier\n",
    "clf = RandomForestClassifier(random_state=0)\n",
    "evaluate(clf)"
   ],
   "metadata": {
    "collapsed": false,
    "pycharm": {
     "name": "#%%\n",
     "is_executing": true
    }
   }
  },
  {
   "cell_type": "markdown",
   "source": [
    "## Hist Gradient Boosting"
   ],
   "metadata": {
    "collapsed": false,
    "pycharm": {
     "name": "#%% md\n"
    }
   }
  },
  {
   "cell_type": "code",
   "execution_count": null,
   "outputs": [],
   "source": [
    "from sklearn.ensemble import HistGradientBoostingClassifier\n",
    "clf = HistGradientBoostingClassifier(random_state=0)\n",
    "evaluate(clf)"
   ],
   "metadata": {
    "collapsed": false,
    "pycharm": {
     "name": "#%%\n",
     "is_executing": true
    }
   }
  }
 ],
 "metadata": {
  "kernelspec": {
   "display_name": "Python 3 (ipykernel)",
   "language": "python",
   "name": "python3"
  },
  "language_info": {
   "codemirror_mode": {
    "name": "ipython",
    "version": 3
   },
   "file_extension": ".py",
   "mimetype": "text/x-python",
   "name": "python",
   "nbconvert_exporter": "python",
   "pygments_lexer": "ipython3",
   "version": "3.9.7"
  }
 },
 "nbformat": 4,
 "nbformat_minor": 1
}