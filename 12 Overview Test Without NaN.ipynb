{
 "cells": [
  {
   "cell_type": "markdown",
   "source": [
    "# Overview Test Without NaN\n",
    "Overview from test sets without NaN in it.\n",
    "\n",
    "## Overview\n",
    "\n",
    "| Model                              | AUC   | Note | Notebook |\n",
    "|------------------------------------|-------|------|----------|\n",
    "| Random Forest (Zero imputed)       | 0.950 |      | 12       |\n",
    "| Random Forest (Mean imputed)       | 0.944 |      | 12       |\n",
    "| Random Forest (MissForest imputed) |       |      |          |\n",
    "| GradientBoosting                   | 0.950 |      | 13       |\n",
    "| HistGradientBoosting               | 0.968 |      | 12       |\n",
    "| XGBoost                            | 0.962 |      | 12       |"
   ],
   "metadata": {
    "collapsed": false,
    "pycharm": {
     "name": "#%% md\n"
    }
   }
  },
  {
   "cell_type": "markdown",
   "source": [
    "## Data"
   ],
   "metadata": {
    "collapsed": false,
    "pycharm": {
     "name": "#%% md\n"
    }
   }
  },
  {
   "cell_type": "code",
   "execution_count": 10,
   "outputs": [
    {
     "name": "stderr",
     "output_type": "stream",
     "text": [
      "C:\\Users\\arnod\\PycharmProjects\\thesis\\util\\classification.py:38: PerformanceWarning: DataFrame is highly fragmented.  This is usually the result of calling `frame.insert` many times, which has poor performance.  Consider joining all columns at once using pd.concat(axis=1) instead.  To get a de-fragmented frame, use `newframe = frame.copy()`\n",
      "  x_test[col] = np.nan  # TODO: NaN geven\n"
     ]
    }
   ],
   "source": [
    "from sklearn.model_selection import train_test_split\n",
    "from util import get_train_dataset, get_features, fix_test, evaluate_no_cv, calculate_auc_and_plot,\n",
    "    get_columns_starting_with\n",
    "import numpy as np\n",
    "\n",
    "df = get_train_dataset()\n",
    "# df = df.sample(n=1000) # for faster debugging\n",
    "\n",
    "train, test = train_test_split(df, test_size=0.2, random_state=42)\n",
    "\n",
    "test.dropna(inplace=True)\n",
    "x = get_features(train)\n",
    "y = train['reaction']\n",
    "\n",
    "x_test = get_features(test, test=True)\n",
    "x_test = fix_test(x_test, x.columns)\n",
    "y_test = test['reaction']"
   ],
   "metadata": {
    "collapsed": false,
    "pycharm": {
     "name": "#%%\n"
    }
   }
  },
  {
   "cell_type": "markdown",
   "source": [
    "## Imputations"
   ],
   "metadata": {
    "collapsed": false,
    "pycharm": {
     "name": "#%% md\n"
    }
   }
  },
  {
   "cell_type": "code",
   "execution_count": 11,
   "outputs": [],
   "source": [
    "from sklearn import impute"
   ],
   "metadata": {
    "collapsed": false,
    "pycharm": {
     "name": "#%%\n"
    }
   }
  },
  {
   "cell_type": "markdown",
   "source": [
    "### Zero"
   ],
   "metadata": {
    "collapsed": false,
    "pycharm": {
     "name": "#%% md\n"
    }
   }
  },
  {
   "cell_type": "code",
   "execution_count": 12,
   "outputs": [],
   "source": [
    "zero_imputer = impute.SimpleImputer(missing_values=np.nan, strategy='constant', fill_value=0)\n",
    "x_zero_imputed = zero_imputer.fit_transform(x)\n",
    "x_test_zero_imputed = zero_imputer.transform(x_test)"
   ],
   "metadata": {
    "collapsed": false,
    "pycharm": {
     "name": "#%%\n"
    }
   }
  },
  {
   "cell_type": "markdown",
   "source": [
    "### Mean"
   ],
   "metadata": {
    "collapsed": false,
    "pycharm": {
     "name": "#%% md\n"
    }
   }
  },
  {
   "cell_type": "code",
   "execution_count": 13,
   "outputs": [],
   "source": [
    "mean_imputer = impute.SimpleImputer(missing_values=np.nan, strategy='mean')\n",
    "x_mean_imputed = mean_imputer.fit_transform(x)\n",
    "x_test_mean_imputed = mean_imputer.transform(x_test)"
   ],
   "metadata": {
    "collapsed": false,
    "pycharm": {
     "name": "#%%\n"
    }
   }
  },
  {
   "cell_type": "markdown",
   "source": [
    "### MissForest\n",
    "An iterative RF imputation method https://towardsdatascience.com/missforest-the-best-missing-data-imputation-algorithm-4d01182aed3"
   ],
   "metadata": {
    "collapsed": false,
    "pycharm": {
     "name": "#%% md\n"
    }
   }
  },
  {
   "cell_type": "code",
   "execution_count": 14,
   "outputs": [],
   "source": [
    "# Fix neigbors base import\n",
    "\n",
    "# Thank you AMLoucas from https://gist.github.com/betterdatascience/c455473d7445c0e7e279efe31a896e17 !!\n",
    "# Whoever is having the issue with ModuleNotFoundError: No module named 'sklearn.neighbors.base'. this is because when importing missingpy it tries to import automatically 'sklearn.neighbors.base' however in the new versions of sklearn it has been renamed to 'sklearn.neighbors._base' so we have to manually import it to work. The code snippet below does the job. You run the snippet before the import\n",
    "#\n",
    "# import sys\n",
    "# import sklearn.neighbors._base\n",
    "# sys.modules['sklearn.neighbors.base'] = sklearn.neighbors._base"
   ],
   "metadata": {
    "collapsed": false,
    "pycharm": {
     "name": "#%%\n"
    }
   }
  },
  {
   "cell_type": "code",
   "execution_count": 15,
   "outputs": [],
   "source": [
    "# Drop columns that have all rows missing (is required by missforest)\n",
    "# x_no_empty_columns = x.drop(columns=x.columns[x.isnull().all()])"
   ],
   "metadata": {
    "collapsed": false,
    "pycharm": {
     "name": "#%%\n"
    }
   }
  },
  {
   "cell_type": "code",
   "execution_count": 16,
   "outputs": [],
   "source": [
    "# from missingpy import MissForest\n",
    "# miss_forest_imputer = MissForest()\n",
    "# x_miss_forest_imputed = miss_forest_imputer.fit_transform(x_no_empty_columns)\n",
    "# x_test_miss_forest_imputed = miss_forest_imputer.transform(x_test)"
   ],
   "metadata": {
    "collapsed": false,
    "pycharm": {
     "name": "#%%\n"
    }
   }
  },
  {
   "cell_type": "markdown",
   "source": [
    "## Random Forest"
   ],
   "metadata": {
    "collapsed": false,
    "pycharm": {
     "name": "#%% md\n"
    }
   }
  },
  {
   "cell_type": "code",
   "execution_count": 17,
   "outputs": [],
   "source": [
    "from sklearn.ensemble import RandomForestClassifier\n",
    "\n",
    "clf = RandomForestClassifier(random_state=0)"
   ],
   "metadata": {
    "collapsed": false,
    "pycharm": {
     "name": "#%%\n"
    }
   }
  },
  {
   "cell_type": "markdown",
   "source": [
    "### Zero imputed"
   ],
   "metadata": {
    "collapsed": false,
    "pycharm": {
     "name": "#%% md\n"
    }
   }
  },
  {
   "cell_type": "code",
   "execution_count": 18,
   "outputs": [
    {
     "name": "stdout",
     "output_type": "stream",
     "text": [
      "ROC AUC: 0.950\n"
     ]
    }
   ],
   "source": [
    "evaluate_no_cv(clf, x_zero_imputed, y, x_test_zero_imputed, y_test)"
   ],
   "metadata": {
    "collapsed": false,
    "pycharm": {
     "name": "#%%\n"
    }
   }
  },
  {
   "cell_type": "markdown",
   "source": [
    "### Mean imputed"
   ],
   "metadata": {
    "collapsed": false,
    "pycharm": {
     "name": "#%% md\n"
    }
   }
  },
  {
   "cell_type": "code",
   "execution_count": 19,
   "outputs": [
    {
     "name": "stdout",
     "output_type": "stream",
     "text": [
      "ROC AUC: 0.944\n"
     ]
    }
   ],
   "source": [
    "evaluate_no_cv(clf, x_mean_imputed, y, x_test_mean_imputed, y_test)"
   ],
   "metadata": {
    "collapsed": false,
    "pycharm": {
     "name": "#%%\n"
    }
   }
  },
  {
   "cell_type": "markdown",
   "source": [
    "### MissForest imputed"
   ],
   "metadata": {
    "collapsed": false,
    "pycharm": {
     "name": "#%% md\n"
    }
   }
  },
  {
   "cell_type": "code",
   "execution_count": 20,
   "outputs": [],
   "source": [
    "# evaluate_no_cv(clf, x_miss_forest_imputed, y, x_test_miss_forest_imputed, y_test)"
   ],
   "metadata": {
    "collapsed": false,
    "pycharm": {
     "name": "#%%\n"
    }
   }
  },
  {
   "cell_type": "markdown",
   "source": [
    "## GradientBoosting"
   ],
   "metadata": {
    "collapsed": false,
    "pycharm": {
     "name": "#%% md\n"
    }
   }
  },
  {
   "cell_type": "code",
   "execution_count": 25,
   "outputs": [],
   "source": [
    "from sklearn.ensemble import GradientBoostingClassifier\n",
    "\n",
    "clf = GradientBoostingClassifier(random_state=0)"
   ],
   "metadata": {
    "collapsed": false,
    "pycharm": {
     "name": "#%%\n"
    }
   }
  },
  {
   "cell_type": "code",
   "execution_count": 26,
   "outputs": [
    {
     "name": "stdout",
     "output_type": "stream",
     "text": [
      "ROC AUC: 0.958\n"
     ]
    }
   ],
   "source": [
    "evaluate_no_cv(clf, x_zero_imputed, y, x_test_zero_imputed, y_test)"
   ],
   "metadata": {
    "collapsed": false,
    "pycharm": {
     "name": "#%%\n"
    }
   }
  },
  {
   "cell_type": "markdown",
   "source": [
    "## HistGradientBoosting"
   ],
   "metadata": {
    "collapsed": false,
    "pycharm": {
     "name": "#%% md\n"
    }
   }
  },
  {
   "cell_type": "code",
   "execution_count": 21,
   "outputs": [],
   "source": [
    "from sklearn.ensemble import HistGradientBoostingClassifier\n",
    "\n",
    "clf = HistGradientBoostingClassifier(random_state=0)"
   ],
   "metadata": {
    "collapsed": false,
    "pycharm": {
     "name": "#%%\n"
    }
   }
  },
  {
   "cell_type": "code",
   "execution_count": 22,
   "outputs": [
    {
     "name": "stdout",
     "output_type": "stream",
     "text": [
      "ROC AUC: 0.968\n"
     ]
    }
   ],
   "source": [
    "evaluate_no_cv(clf, x, y, x_test, y_test)"
   ],
   "metadata": {
    "collapsed": false,
    "pycharm": {
     "name": "#%%\n"
    }
   }
  },
  {
   "cell_type": "markdown",
   "source": [
    "## XGBoost"
   ],
   "metadata": {
    "collapsed": false,
    "pycharm": {
     "name": "#%% md\n"
    }
   },
   "outputs": []
  },
  {
   "cell_type": "code",
   "execution_count": 23,
   "outputs": [],
   "source": [
    "from xgboost import XGBClassifier\n",
    "\n",
    "clf = XGBClassifier(random_state=0)"
   ],
   "metadata": {
    "collapsed": false,
    "pycharm": {
     "name": "#%%\n"
    }
   }
  },
  {
   "cell_type": "code",
   "execution_count": 24,
   "outputs": [
    {
     "name": "stdout",
     "output_type": "stream",
     "text": [
      "ROC AUC: 0.962\n"
     ]
    }
   ],
   "source": [
    "evaluate_no_cv(clf, x, y, x_test, y_test)"
   ],
   "metadata": {
    "collapsed": false,
    "pycharm": {
     "name": "#%%\n"
    }
   }
  },
  {
   "cell_type": "code",
   "execution_count": 12,
   "outputs": [
    {
     "name": "stderr",
     "output_type": "stream",
     "text": [
      "C:\\Users\\arnod\\PycharmProjects\\thesis\\util\\classification.py:38: PerformanceWarning: DataFrame is highly fragmented.  This is usually the result of calling `frame.insert` many times, which has poor performance.  Consider joining all columns at once using pd.concat(axis=1) instead.  To get a de-fragmented frame, use `newframe = frame.copy()`\n",
      "  x_test[col] = 0 #np.nan  # TODO: NaN of 0? currently kept it at 0 to make clear it's not because the chain was missing\n",
      "C:\\Users\\arnod\\AppData\\Roaming\\Python\\Python39\\site-packages\\sklearn\\base.py:443: UserWarning: X has feature names, but RandomForestClassifier was fitted without feature names\n",
      "  warnings.warn(\n"
     ]
    },
    {
     "name": "stdout",
     "output_type": "stream",
     "text": [
      "ROC AUC: 0.944\n"
     ]
    },
    {
     "name": "stderr",
     "output_type": "stream",
     "text": [
      "C:\\Users\\arnod\\PycharmProjects\\thesis\\util\\classification.py:38: PerformanceWarning: DataFrame is highly fragmented.  This is usually the result of calling `frame.insert` many times, which has poor performance.  Consider joining all columns at once using pd.concat(axis=1) instead.  To get a de-fragmented frame, use `newframe = frame.copy()`\n",
      "  x_test[col] = 0 #np.nan  # TODO: NaN of 0? currently kept it at 0 to make clear it's not because the chain was missing\n",
      "C:\\Users\\arnod\\AppData\\Roaming\\Python\\Python39\\site-packages\\sklearn\\base.py:443: UserWarning: X has feature names, but RandomForestClassifier was fitted without feature names\n",
      "  warnings.warn(\n"
     ]
    },
    {
     "name": "stdout",
     "output_type": "stream",
     "text": [
      "ROC AUC: 0.926\n"
     ]
    },
    {
     "name": "stderr",
     "output_type": "stream",
     "text": [
      "C:\\Users\\arnod\\PycharmProjects\\thesis\\util\\classification.py:38: PerformanceWarning: DataFrame is highly fragmented.  This is usually the result of calling `frame.insert` many times, which has poor performance.  Consider joining all columns at once using pd.concat(axis=1) instead.  To get a de-fragmented frame, use `newframe = frame.copy()`\n",
      "  x_test[col] = 0 #np.nan  # TODO: NaN of 0? currently kept it at 0 to make clear it's not because the chain was missing\n",
      "C:\\Users\\arnod\\AppData\\Roaming\\Python\\Python39\\site-packages\\sklearn\\base.py:443: UserWarning: X has feature names, but RandomForestClassifier was fitted without feature names\n",
      "  warnings.warn(\n"
     ]
    },
    {
     "name": "stdout",
     "output_type": "stream",
     "text": [
      "ROC AUC: 0.943\n"
     ]
    },
    {
     "name": "stderr",
     "output_type": "stream",
     "text": [
      "C:\\Users\\arnod\\PycharmProjects\\thesis\\util\\classification.py:38: PerformanceWarning: DataFrame is highly fragmented.  This is usually the result of calling `frame.insert` many times, which has poor performance.  Consider joining all columns at once using pd.concat(axis=1) instead.  To get a de-fragmented frame, use `newframe = frame.copy()`\n",
      "  x_test[col] = 0 #np.nan  # TODO: NaN of 0? currently kept it at 0 to make clear it's not because the chain was missing\n",
      "C:\\Users\\arnod\\AppData\\Roaming\\Python\\Python39\\site-packages\\sklearn\\base.py:443: UserWarning: X has feature names, but RandomForestClassifier was fitted without feature names\n",
      "  warnings.warn(\n"
     ]
    },
    {
     "name": "stdout",
     "output_type": "stream",
     "text": [
      "ROC AUC: 0.934\n"
     ]
    },
    {
     "name": "stderr",
     "output_type": "stream",
     "text": [
      "C:\\Users\\arnod\\PycharmProjects\\thesis\\util\\classification.py:38: PerformanceWarning: DataFrame is highly fragmented.  This is usually the result of calling `frame.insert` many times, which has poor performance.  Consider joining all columns at once using pd.concat(axis=1) instead.  To get a de-fragmented frame, use `newframe = frame.copy()`\n",
      "  x_test[col] = 0 #np.nan  # TODO: NaN of 0? currently kept it at 0 to make clear it's not because the chain was missing\n",
      "C:\\Users\\arnod\\AppData\\Roaming\\Python\\Python39\\site-packages\\sklearn\\base.py:443: UserWarning: X has feature names, but RandomForestClassifier was fitted without feature names\n",
      "  warnings.warn(\n"
     ]
    },
    {
     "name": "stdout",
     "output_type": "stream",
     "text": [
      "ROC AUC: 0.943\n"
     ]
    },
    {
     "name": "stderr",
     "output_type": "stream",
     "text": [
      "C:\\Users\\arnod\\PycharmProjects\\thesis\\util\\classification.py:38: PerformanceWarning: DataFrame is highly fragmented.  This is usually the result of calling `frame.insert` many times, which has poor performance.  Consider joining all columns at once using pd.concat(axis=1) instead.  To get a de-fragmented frame, use `newframe = frame.copy()`\n",
      "  x_test[col] = 0 #np.nan  # TODO: NaN of 0? currently kept it at 0 to make clear it's not because the chain was missing\n",
      "C:\\Users\\arnod\\AppData\\Roaming\\Python\\Python39\\site-packages\\sklearn\\base.py:443: UserWarning: X has feature names, but RandomForestClassifier was fitted without feature names\n",
      "  warnings.warn(\n"
     ]
    },
    {
     "name": "stdout",
     "output_type": "stream",
     "text": [
      "ROC AUC: 0.942\n"
     ]
    },
    {
     "name": "stderr",
     "output_type": "stream",
     "text": [
      "C:\\Users\\arnod\\PycharmProjects\\thesis\\util\\classification.py:38: PerformanceWarning: DataFrame is highly fragmented.  This is usually the result of calling `frame.insert` many times, which has poor performance.  Consider joining all columns at once using pd.concat(axis=1) instead.  To get a de-fragmented frame, use `newframe = frame.copy()`\n",
      "  x_test[col] = 0 #np.nan  # TODO: NaN of 0? currently kept it at 0 to make clear it's not because the chain was missing\n",
      "C:\\Users\\arnod\\AppData\\Roaming\\Python\\Python39\\site-packages\\sklearn\\base.py:443: UserWarning: X has feature names, but RandomForestClassifier was fitted without feature names\n",
      "  warnings.warn(\n"
     ]
    },
    {
     "name": "stdout",
     "output_type": "stream",
     "text": [
      "ROC AUC: 0.928\n"
     ]
    },
    {
     "name": "stderr",
     "output_type": "stream",
     "text": [
      "C:\\Users\\arnod\\PycharmProjects\\thesis\\util\\classification.py:38: PerformanceWarning: DataFrame is highly fragmented.  This is usually the result of calling `frame.insert` many times, which has poor performance.  Consider joining all columns at once using pd.concat(axis=1) instead.  To get a de-fragmented frame, use `newframe = frame.copy()`\n",
      "  x_test[col] = 0 #np.nan  # TODO: NaN of 0? currently kept it at 0 to make clear it's not because the chain was missing\n",
      "C:\\Users\\arnod\\AppData\\Roaming\\Python\\Python39\\site-packages\\sklearn\\base.py:443: UserWarning: X has feature names, but RandomForestClassifier was fitted without feature names\n",
      "  warnings.warn(\n"
     ]
    },
    {
     "name": "stdout",
     "output_type": "stream",
     "text": [
      "ROC AUC: 0.938\n"
     ]
    },
    {
     "name": "stderr",
     "output_type": "stream",
     "text": [
      "C:\\Users\\arnod\\PycharmProjects\\thesis\\util\\classification.py:38: PerformanceWarning: DataFrame is highly fragmented.  This is usually the result of calling `frame.insert` many times, which has poor performance.  Consider joining all columns at once using pd.concat(axis=1) instead.  To get a de-fragmented frame, use `newframe = frame.copy()`\n",
      "  x_test[col] = 0 #np.nan  # TODO: NaN of 0? currently kept it at 0 to make clear it's not because the chain was missing\n",
      "C:\\Users\\arnod\\AppData\\Roaming\\Python\\Python39\\site-packages\\sklearn\\base.py:443: UserWarning: X has feature names, but RandomForestClassifier was fitted without feature names\n",
      "  warnings.warn(\n"
     ]
    },
    {
     "name": "stdout",
     "output_type": "stream",
     "text": [
      "ROC AUC: 0.935\n"
     ]
    },
    {
     "name": "stderr",
     "output_type": "stream",
     "text": [
      "C:\\Users\\arnod\\PycharmProjects\\thesis\\util\\classification.py:38: PerformanceWarning: DataFrame is highly fragmented.  This is usually the result of calling `frame.insert` many times, which has poor performance.  Consider joining all columns at once using pd.concat(axis=1) instead.  To get a de-fragmented frame, use `newframe = frame.copy()`\n",
      "  x_test[col] = 0 #np.nan  # TODO: NaN of 0? currently kept it at 0 to make clear it's not because the chain was missing\n",
      "C:\\Users\\arnod\\AppData\\Roaming\\Python\\Python39\\site-packages\\sklearn\\base.py:443: UserWarning: X has feature names, but RandomForestClassifier was fitted without feature names\n",
      "  warnings.warn(\n"
     ]
    },
    {
     "name": "stdout",
     "output_type": "stream",
     "text": [
      "ROC AUC: 0.938\n"
     ]
    },
    {
     "name": "stderr",
     "output_type": "stream",
     "text": [
      "C:\\Users\\arnod\\PycharmProjects\\thesis\\util\\classification.py:38: PerformanceWarning: DataFrame is highly fragmented.  This is usually the result of calling `frame.insert` many times, which has poor performance.  Consider joining all columns at once using pd.concat(axis=1) instead.  To get a de-fragmented frame, use `newframe = frame.copy()`\n",
      "  x_test[col] = 0 #np.nan  # TODO: NaN of 0? currently kept it at 0 to make clear it's not because the chain was missing\n"
     ]
    },
    {
     "name": "stdout",
     "output_type": "stream",
     "text": [
      "ROC AUC: 0.966\n"
     ]
    },
    {
     "name": "stderr",
     "output_type": "stream",
     "text": [
      "C:\\Users\\arnod\\PycharmProjects\\thesis\\util\\classification.py:38: PerformanceWarning: DataFrame is highly fragmented.  This is usually the result of calling `frame.insert` many times, which has poor performance.  Consider joining all columns at once using pd.concat(axis=1) instead.  To get a de-fragmented frame, use `newframe = frame.copy()`\n",
      "  x_test[col] = 0 #np.nan  # TODO: NaN of 0? currently kept it at 0 to make clear it's not because the chain was missing\n"
     ]
    },
    {
     "name": "stdout",
     "output_type": "stream",
     "text": [
      "ROC AUC: 0.955\n"
     ]
    },
    {
     "name": "stderr",
     "output_type": "stream",
     "text": [
      "C:\\Users\\arnod\\PycharmProjects\\thesis\\util\\classification.py:38: PerformanceWarning: DataFrame is highly fragmented.  This is usually the result of calling `frame.insert` many times, which has poor performance.  Consider joining all columns at once using pd.concat(axis=1) instead.  To get a de-fragmented frame, use `newframe = frame.copy()`\n",
      "  x_test[col] = 0 #np.nan  # TODO: NaN of 0? currently kept it at 0 to make clear it's not because the chain was missing\n"
     ]
    },
    {
     "name": "stdout",
     "output_type": "stream",
     "text": [
      "ROC AUC: 0.958\n"
     ]
    },
    {
     "name": "stderr",
     "output_type": "stream",
     "text": [
      "C:\\Users\\arnod\\PycharmProjects\\thesis\\util\\classification.py:38: PerformanceWarning: DataFrame is highly fragmented.  This is usually the result of calling `frame.insert` many times, which has poor performance.  Consider joining all columns at once using pd.concat(axis=1) instead.  To get a de-fragmented frame, use `newframe = frame.copy()`\n",
      "  x_test[col] = 0 #np.nan  # TODO: NaN of 0? currently kept it at 0 to make clear it's not because the chain was missing\n"
     ]
    },
    {
     "name": "stdout",
     "output_type": "stream",
     "text": [
      "ROC AUC: 0.960\n"
     ]
    },
    {
     "name": "stderr",
     "output_type": "stream",
     "text": [
      "C:\\Users\\arnod\\PycharmProjects\\thesis\\util\\classification.py:38: PerformanceWarning: DataFrame is highly fragmented.  This is usually the result of calling `frame.insert` many times, which has poor performance.  Consider joining all columns at once using pd.concat(axis=1) instead.  To get a de-fragmented frame, use `newframe = frame.copy()`\n",
      "  x_test[col] = 0 #np.nan  # TODO: NaN of 0? currently kept it at 0 to make clear it's not because the chain was missing\n"
     ]
    },
    {
     "name": "stdout",
     "output_type": "stream",
     "text": [
      "ROC AUC: 0.961\n"
     ]
    },
    {
     "name": "stderr",
     "output_type": "stream",
     "text": [
      "C:\\Users\\arnod\\PycharmProjects\\thesis\\util\\classification.py:38: PerformanceWarning: DataFrame is highly fragmented.  This is usually the result of calling `frame.insert` many times, which has poor performance.  Consider joining all columns at once using pd.concat(axis=1) instead.  To get a de-fragmented frame, use `newframe = frame.copy()`\n",
      "  x_test[col] = 0 #np.nan  # TODO: NaN of 0? currently kept it at 0 to make clear it's not because the chain was missing\n"
     ]
    },
    {
     "name": "stdout",
     "output_type": "stream",
     "text": [
      "ROC AUC: 0.960\n"
     ]
    },
    {
     "name": "stderr",
     "output_type": "stream",
     "text": [
      "C:\\Users\\arnod\\PycharmProjects\\thesis\\util\\classification.py:38: PerformanceWarning: DataFrame is highly fragmented.  This is usually the result of calling `frame.insert` many times, which has poor performance.  Consider joining all columns at once using pd.concat(axis=1) instead.  To get a de-fragmented frame, use `newframe = frame.copy()`\n",
      "  x_test[col] = 0 #np.nan  # TODO: NaN of 0? currently kept it at 0 to make clear it's not because the chain was missing\n"
     ]
    },
    {
     "name": "stdout",
     "output_type": "stream",
     "text": [
      "ROC AUC: 0.946\n"
     ]
    },
    {
     "name": "stderr",
     "output_type": "stream",
     "text": [
      "C:\\Users\\arnod\\PycharmProjects\\thesis\\util\\classification.py:38: PerformanceWarning: DataFrame is highly fragmented.  This is usually the result of calling `frame.insert` many times, which has poor performance.  Consider joining all columns at once using pd.concat(axis=1) instead.  To get a de-fragmented frame, use `newframe = frame.copy()`\n",
      "  x_test[col] = 0 #np.nan  # TODO: NaN of 0? currently kept it at 0 to make clear it's not because the chain was missing\n"
     ]
    },
    {
     "name": "stdout",
     "output_type": "stream",
     "text": [
      "ROC AUC: 0.955\n"
     ]
    },
    {
     "name": "stderr",
     "output_type": "stream",
     "text": [
      "C:\\Users\\arnod\\PycharmProjects\\thesis\\util\\classification.py:38: PerformanceWarning: DataFrame is highly fragmented.  This is usually the result of calling `frame.insert` many times, which has poor performance.  Consider joining all columns at once using pd.concat(axis=1) instead.  To get a de-fragmented frame, use `newframe = frame.copy()`\n",
      "  x_test[col] = 0 #np.nan  # TODO: NaN of 0? currently kept it at 0 to make clear it's not because the chain was missing\n"
     ]
    },
    {
     "name": "stdout",
     "output_type": "stream",
     "text": [
      "ROC AUC: 0.955\n"
     ]
    },
    {
     "name": "stderr",
     "output_type": "stream",
     "text": [
      "C:\\Users\\arnod\\PycharmProjects\\thesis\\util\\classification.py:38: PerformanceWarning: DataFrame is highly fragmented.  This is usually the result of calling `frame.insert` many times, which has poor performance.  Consider joining all columns at once using pd.concat(axis=1) instead.  To get a de-fragmented frame, use `newframe = frame.copy()`\n",
      "  x_test[col] = 0 #np.nan  # TODO: NaN of 0? currently kept it at 0 to make clear it's not because the chain was missing\n"
     ]
    },
    {
     "name": "stdout",
     "output_type": "stream",
     "text": [
      "ROC AUC: 0.963\n"
     ]
    },
    {
     "data": {
      "text/plain": "                           model       auc\n0   Random Forest (Zero imputed)  0.944350\n1   Random Forest (Zero imputed)  0.925876\n2   Random Forest (Zero imputed)  0.942943\n3   Random Forest (Zero imputed)  0.933994\n4   Random Forest (Zero imputed)  0.942932\n5   Random Forest (Mean imputed)  0.942306\n6   Random Forest (Mean imputed)  0.927782\n7   Random Forest (Mean imputed)  0.938048\n8   Random Forest (Mean imputed)  0.934903\n9   Random Forest (Mean imputed)  0.938083\n10          HistGradientBoosting  0.965947\n11          HistGradientBoosting  0.955128\n12          HistGradientBoosting  0.958180\n13          HistGradientBoosting  0.959893\n14          HistGradientBoosting  0.960571\n15                       XGBoost  0.959560\n16                       XGBoost  0.945581\n17                       XGBoost  0.955415\n18                       XGBoost  0.954736\n19                       XGBoost  0.962763",
      "text/html": "<div>\n<style scoped>\n    .dataframe tbody tr th:only-of-type {\n        vertical-align: middle;\n    }\n\n    .dataframe tbody tr th {\n        vertical-align: top;\n    }\n\n    .dataframe thead th {\n        text-align: right;\n    }\n</style>\n<table border=\"1\" class=\"dataframe\">\n  <thead>\n    <tr style=\"text-align: right;\">\n      <th></th>\n      <th>model</th>\n      <th>auc</th>\n    </tr>\n  </thead>\n  <tbody>\n    <tr>\n      <th>0</th>\n      <td>Random Forest (Zero imputed)</td>\n      <td>0.944350</td>\n    </tr>\n    <tr>\n      <th>1</th>\n      <td>Random Forest (Zero imputed)</td>\n      <td>0.925876</td>\n    </tr>\n    <tr>\n      <th>2</th>\n      <td>Random Forest (Zero imputed)</td>\n      <td>0.942943</td>\n    </tr>\n    <tr>\n      <th>3</th>\n      <td>Random Forest (Zero imputed)</td>\n      <td>0.933994</td>\n    </tr>\n    <tr>\n      <th>4</th>\n      <td>Random Forest (Zero imputed)</td>\n      <td>0.942932</td>\n    </tr>\n    <tr>\n      <th>5</th>\n      <td>Random Forest (Mean imputed)</td>\n      <td>0.942306</td>\n    </tr>\n    <tr>\n      <th>6</th>\n      <td>Random Forest (Mean imputed)</td>\n      <td>0.927782</td>\n    </tr>\n    <tr>\n      <th>7</th>\n      <td>Random Forest (Mean imputed)</td>\n      <td>0.938048</td>\n    </tr>\n    <tr>\n      <th>8</th>\n      <td>Random Forest (Mean imputed)</td>\n      <td>0.934903</td>\n    </tr>\n    <tr>\n      <th>9</th>\n      <td>Random Forest (Mean imputed)</td>\n      <td>0.938083</td>\n    </tr>\n    <tr>\n      <th>10</th>\n      <td>HistGradientBoosting</td>\n      <td>0.965947</td>\n    </tr>\n    <tr>\n      <th>11</th>\n      <td>HistGradientBoosting</td>\n      <td>0.955128</td>\n    </tr>\n    <tr>\n      <th>12</th>\n      <td>HistGradientBoosting</td>\n      <td>0.958180</td>\n    </tr>\n    <tr>\n      <th>13</th>\n      <td>HistGradientBoosting</td>\n      <td>0.959893</td>\n    </tr>\n    <tr>\n      <th>14</th>\n      <td>HistGradientBoosting</td>\n      <td>0.960571</td>\n    </tr>\n    <tr>\n      <th>15</th>\n      <td>XGBoost</td>\n      <td>0.959560</td>\n    </tr>\n    <tr>\n      <th>16</th>\n      <td>XGBoost</td>\n      <td>0.945581</td>\n    </tr>\n    <tr>\n      <th>17</th>\n      <td>XGBoost</td>\n      <td>0.955415</td>\n    </tr>\n    <tr>\n      <th>18</th>\n      <td>XGBoost</td>\n      <td>0.954736</td>\n    </tr>\n    <tr>\n      <th>19</th>\n      <td>XGBoost</td>\n      <td>0.962763</td>\n    </tr>\n  </tbody>\n</table>\n</div>"
     },
     "execution_count": 12,
     "metadata": {},
     "output_type": "execute_result"
    }
   ],
   "source": [
    "from util import evaluate_no_cv, calculate_auc_and_plot\n",
    "from sklearn.model_selection import train_test_split\n",
    "from util import get_train_dataset, get_features, fix_test\n",
    "from sklearn import impute\n",
    "import numpy as np\n",
    "import pandas as pd\n",
    "from xgboost import XGBClassifier\n",
    "from sklearn.ensemble import HistGradientBoostingClassifier, RandomForestClassifier\n",
    "\n",
    "zero_imputer = impute.SimpleImputer(missing_values=np.nan, strategy='constant', fill_value=0)\n",
    "mean_imputer = impute.SimpleImputer(missing_values=np.nan, strategy='mean')\n",
    "\n",
    "models_to_evaluate = [\n",
    "    {\n",
    "        'name': 'Random Forest (Zero imputed)',\n",
    "        'model': RandomForestClassifier(random_state=0),\n",
    "        'imputer': zero_imputer,\n",
    "    },\n",
    "    {\n",
    "        'name': 'Random Forest (Mean imputed)',\n",
    "        'model': RandomForestClassifier(random_state=0),\n",
    "        'imputer': mean_imputer,\n",
    "    },\n",
    "    {\n",
    "        'name': 'HistGradientBoosting',\n",
    "        'model': HistGradientBoostingClassifier(random_state=0),\n",
    "    },\n",
    "    {\n",
    "        'name': 'XGBoost',\n",
    "        'model': XGBClassifier(random_state=0),\n",
    "    },\n",
    "]\n",
    "\n",
    "folds = 5\n",
    "\n",
    "df = get_train_dataset()\n",
    "\n",
    "\n",
    "# df = df.sample(n=100) # for faster debugging\n",
    "\n",
    "def get_train_test(df, seed):\n",
    "    train, test = train_test_split(df, test_size=0.2, random_state=seed)\n",
    "\n",
    "    test.dropna(inplace=True)\n",
    "    x = get_features(train)\n",
    "    y = train['reaction']\n",
    "\n",
    "    x_test = get_features(test, test=True)\n",
    "    x_test = fix_test(x_test, x.columns)\n",
    "    y_test = test['reaction']\n",
    "\n",
    "    return x, y, x_test, y_test\n",
    "\n",
    "\n",
    "scores = pd.DataFrame()\n",
    "for model in models_to_evaluate:\n",
    "    for seed in range(folds):\n",
    "\n",
    "        x, y, x_test, y_test = get_train_test(df, seed)\n",
    "\n",
    "        if 'imputer' in model:\n",
    "            x = model['imputer'].fit_transform(x)\n",
    "            # x_test = model['imputer'].transform(x_test)\n",
    "\n",
    "        auc = evaluate_no_cv(model['model'], x, y, x_test, y_test)\n",
    "        scores = scores.append({\n",
    "            'model': model['name'],\n",
    "            'auc': auc,\n",
    "        }, ignore_index=True)\n",
    "\n",
    "scores"
   ],
   "metadata": {
    "collapsed": false,
    "pycharm": {
     "name": "#%%\n"
    }
   }
  },
  {
   "cell_type": "code",
   "execution_count": 13,
   "outputs": [
    {
     "data": {
      "text/plain": "                           model       auc  improvement\n0   Random Forest (Zero imputed)  0.944350     0.006331\n1   Random Forest (Zero imputed)  0.925876    -0.012143\n2   Random Forest (Zero imputed)  0.942943     0.004924\n3   Random Forest (Zero imputed)  0.933994    -0.004025\n4   Random Forest (Zero imputed)  0.942932     0.004913\n5   Random Forest (Mean imputed)  0.942306     0.004287\n6   Random Forest (Mean imputed)  0.927782    -0.010237\n7   Random Forest (Mean imputed)  0.938048     0.000029\n8   Random Forest (Mean imputed)  0.934903    -0.003116\n9   Random Forest (Mean imputed)  0.938083     0.000064\n10          HistGradientBoosting  0.965947     0.027928\n11          HistGradientBoosting  0.955128     0.017109\n12          HistGradientBoosting  0.958180     0.020161\n13          HistGradientBoosting  0.959893     0.021874\n14          HistGradientBoosting  0.960571     0.022552\n15                       XGBoost  0.959560     0.021541\n16                       XGBoost  0.945581     0.007562\n17                       XGBoost  0.955415     0.017396\n18                       XGBoost  0.954736     0.016717\n19                       XGBoost  0.962763     0.024744",
      "text/html": "<div>\n<style scoped>\n    .dataframe tbody tr th:only-of-type {\n        vertical-align: middle;\n    }\n\n    .dataframe tbody tr th {\n        vertical-align: top;\n    }\n\n    .dataframe thead th {\n        text-align: right;\n    }\n</style>\n<table border=\"1\" class=\"dataframe\">\n  <thead>\n    <tr style=\"text-align: right;\">\n      <th></th>\n      <th>model</th>\n      <th>auc</th>\n      <th>improvement</th>\n    </tr>\n  </thead>\n  <tbody>\n    <tr>\n      <th>0</th>\n      <td>Random Forest (Zero imputed)</td>\n      <td>0.944350</td>\n      <td>0.006331</td>\n    </tr>\n    <tr>\n      <th>1</th>\n      <td>Random Forest (Zero imputed)</td>\n      <td>0.925876</td>\n      <td>-0.012143</td>\n    </tr>\n    <tr>\n      <th>2</th>\n      <td>Random Forest (Zero imputed)</td>\n      <td>0.942943</td>\n      <td>0.004924</td>\n    </tr>\n    <tr>\n      <th>3</th>\n      <td>Random Forest (Zero imputed)</td>\n      <td>0.933994</td>\n      <td>-0.004025</td>\n    </tr>\n    <tr>\n      <th>4</th>\n      <td>Random Forest (Zero imputed)</td>\n      <td>0.942932</td>\n      <td>0.004913</td>\n    </tr>\n    <tr>\n      <th>5</th>\n      <td>Random Forest (Mean imputed)</td>\n      <td>0.942306</td>\n      <td>0.004287</td>\n    </tr>\n    <tr>\n      <th>6</th>\n      <td>Random Forest (Mean imputed)</td>\n      <td>0.927782</td>\n      <td>-0.010237</td>\n    </tr>\n    <tr>\n      <th>7</th>\n      <td>Random Forest (Mean imputed)</td>\n      <td>0.938048</td>\n      <td>0.000029</td>\n    </tr>\n    <tr>\n      <th>8</th>\n      <td>Random Forest (Mean imputed)</td>\n      <td>0.934903</td>\n      <td>-0.003116</td>\n    </tr>\n    <tr>\n      <th>9</th>\n      <td>Random Forest (Mean imputed)</td>\n      <td>0.938083</td>\n      <td>0.000064</td>\n    </tr>\n    <tr>\n      <th>10</th>\n      <td>HistGradientBoosting</td>\n      <td>0.965947</td>\n      <td>0.027928</td>\n    </tr>\n    <tr>\n      <th>11</th>\n      <td>HistGradientBoosting</td>\n      <td>0.955128</td>\n      <td>0.017109</td>\n    </tr>\n    <tr>\n      <th>12</th>\n      <td>HistGradientBoosting</td>\n      <td>0.958180</td>\n      <td>0.020161</td>\n    </tr>\n    <tr>\n      <th>13</th>\n      <td>HistGradientBoosting</td>\n      <td>0.959893</td>\n      <td>0.021874</td>\n    </tr>\n    <tr>\n      <th>14</th>\n      <td>HistGradientBoosting</td>\n      <td>0.960571</td>\n      <td>0.022552</td>\n    </tr>\n    <tr>\n      <th>15</th>\n      <td>XGBoost</td>\n      <td>0.959560</td>\n      <td>0.021541</td>\n    </tr>\n    <tr>\n      <th>16</th>\n      <td>XGBoost</td>\n      <td>0.945581</td>\n      <td>0.007562</td>\n    </tr>\n    <tr>\n      <th>17</th>\n      <td>XGBoost</td>\n      <td>0.955415</td>\n      <td>0.017396</td>\n    </tr>\n    <tr>\n      <th>18</th>\n      <td>XGBoost</td>\n      <td>0.954736</td>\n      <td>0.016717</td>\n    </tr>\n    <tr>\n      <th>19</th>\n      <td>XGBoost</td>\n      <td>0.962763</td>\n      <td>0.024744</td>\n    </tr>\n  </tbody>\n</table>\n</div>"
     },
     "execution_count": 13,
     "metadata": {},
     "output_type": "execute_result"
    }
   ],
   "source": [
    "baseline = scores[(scores['model'] == 'Random Forest (Zero imputed)')]['auc'].mean()\n",
    "scores[\"improvement\"] = scores[\"auc\"] - baseline\n",
    "scores"
   ],
   "metadata": {
    "collapsed": false,
    "pycharm": {
     "name": "#%%\n"
    }
   }
  },
  {
   "cell_type": "code",
   "execution_count": 14,
   "outputs": [
    {
     "data": {
      "text/plain": "<Figure size 432x288 with 1 Axes>",
      "image/png": "[encoded data removed]"
     },
     "metadata": {},
     "output_type": "display_data"
    }
   ],
   "source": [
    "import seaborn as sns\n",
    "\n",
    "plot = sns.barplot(x=\"model\", y=\"auc\", data=scores, ci=\"sd\")\n",
    "# plot.set_xticklabels(plot.get_xticklabels(), rotation=90)\n",
    "pass"
   ],
   "metadata": {
    "collapsed": false,
    "pycharm": {
     "name": "#%%\n"
    }
   }
  },
  {
   "cell_type": "code",
   "execution_count": 15,
   "outputs": [
    {
     "name": "stderr",
     "output_type": "stream",
     "text": [
      "C:\\Users\\arnod\\AppData\\Local\\Temp/ipykernel_20120/936369140.py:7: UserWarning: FixedFormatter should only be used together with FixedLocator\n",
      "  plot.set_yticklabels([f\"{baseline + y:.2f}\" for y in y_ticks])\n"
     ]
    },
    {
     "data": {
      "text/plain": "<Figure size 432x288 with 1 Axes>",
      "image/png": "[encoded data removed]"
     },
     "metadata": {},
     "output_type": "display_data"
    }
   ],
   "source": [
    "plot = sns.barplot(x=\"model\", y=\"improvement\", data=scores, ci=\"sd\")\n",
    "\n",
    "plot.set_xticklabels(plot.get_xticklabels(), rotation=45)\n",
    "\n",
    "plot.axhline(0, color=\"k\", clip_on=False)\n",
    "y_ticks = plot.get_yticks()\n",
    "plot.set_yticklabels([f\"{baseline + y:.2f}\" for y in y_ticks])\n",
    "pass"
   ],
   "metadata": {
    "collapsed": false,
    "pycharm": {
     "name": "#%%\n"
    }
   }
  },
  {
   "cell_type": "code",
   "execution_count": null,
   "outputs": [],
   "source": [],
   "metadata": {
    "collapsed": false,
    "pycharm": {
     "name": "#%%\n"
    }
   }
  }
 ],
 "metadata": {
  "kernelspec": {
   "display_name": "Python 3",
   "language": "python",
   "name": "python3"
  },
  "language_info": {
   "codemirror_mode": {
    "name": "ipython",
    "version": 2
   },
   "file_extension": ".py",
   "mimetype": "text/x-python",
   "name": "python",
   "nbconvert_exporter": "python",
   "pygments_lexer": "ipython2",
   "version": "2.7.6"
  }
 },
 "nbformat": 4,
 "nbformat_minor": 0
}
