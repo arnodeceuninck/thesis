{
 "cells": [
  {
   "cell_type": "markdown",
   "source": [
    "# Different epitopes\n",
    "Up to now, we've worked with Influenza A virus (GILGFVFTL). Let's take a look at the performance in different epitopes.\n",
    "\n",
    "We're working with the [vdjdb-db](https://github.com/antigenomics/vdjdb-db/releases) dataset."
   ],
   "metadata": {
    "collapsed": false,
    "pycharm": {
     "name": "#%% md\n"
    }
   }
  },
  {
   "cell_type": "code",
   "execution_count": null,
   "outputs": [],
   "source": [
    "# Load the dataset\n",
    "import pandas as pd\n",
    "import numpy as np\n",
    "import matplotlib.pyplot as plt\n",
    "\n",
    "df_vdjdb = pd.read_csv('data/vdjdb-2022-03-30/vdjdb.txt', sep='\\t')\n",
    "df_vdjdb.head()\n",
    "# sample 10 items\n"
   ],
   "metadata": {
    "collapsed": false,
    "pycharm": {
     "name": "#%%\n"
    }
   }
  },
  {
   "cell_type": "code",
   "execution_count": null,
   "outputs": [],
   "source": [
    "#  Print random\n",
    "df_vdjdb.sample(10)"
   ],
   "metadata": {
    "collapsed": false,
    "pycharm": {
     "name": "#%%\n"
    }
   }
  },
  {
   "cell_type": "code",
   "execution_count": null,
   "outputs": [],
   "source": [
    "# Get the number of unique antigen.epitope\n",
    "epitopes = df_vdjdb['antigen.epitope'].unique()\n",
    "print(f'Number of unique epitopes: {len(epitopes)}')"
   ],
   "metadata": {
    "collapsed": false,
    "pycharm": {
     "name": "#%%\n"
    }
   }
  },
  {
   "cell_type": "code",
   "execution_count": null,
   "outputs": [],
   "source": [
    "# Get the top 10 epitopes\n",
    "epitope_counts = df_vdjdb['antigen.epitope'].value_counts()\n",
    "epitope_counts.head(10)"
   ],
   "metadata": {
    "collapsed": false,
    "pycharm": {
     "name": "#%%\n"
    }
   }
  },
  {
   "cell_type": "code",
   "execution_count": null,
   "outputs": [],
   "source": [
    "complex_id_counts = df_vdjdb['complex.id'].value_counts()\n",
    "complex_id_counts.head(10)"
   ],
   "metadata": {
    "collapsed": false,
    "pycharm": {
     "name": "#%%\n"
    }
   }
  },
  {
   "cell_type": "markdown",
   "source": [
    "Except for 0, they all occur at most twice, so I guess same complex means the alpha and beta belong together."
   ],
   "metadata": {
    "collapsed": false,
    "pycharm": {
     "name": "#%% md\n"
    }
   }
  },
  {
   "cell_type": "code",
   "execution_count": null,
   "outputs": [],
   "source": [
    "top_10_epitopes = epitope_counts.index[:10]"
   ],
   "metadata": {
    "collapsed": false,
    "pycharm": {
     "name": "#%%\n"
    }
   }
  },
  {
   "cell_type": "code",
   "execution_count": null,
   "outputs": [],
   "source": [
    "epitope = \"KLGGALQAK\""
   ],
   "metadata": {
    "collapsed": false,
    "pycharm": {
     "name": "#%%\n"
    }
   }
  },
  {
   "cell_type": "code",
   "execution_count": null,
   "outputs": [],
   "source": [
    "import pandas as pd\n",
    "test_data = {\"cid\": [1, 1, 2, 3],\n",
    "             \"type\": [\"A\", \"B\", \"B\", \"A\"],\n",
    "             \"v\": [1, 2, 3, 4]}\n",
    "test_df = pd.DataFrame(test_data)\n",
    "test_df"
   ],
   "metadata": {
    "collapsed": false,
    "pycharm": {
     "name": "#%%\n"
    }
   }
  },
  {
   "cell_type": "code",
   "execution_count": null,
   "outputs": [],
   "source": [
    "test_df_a = test_df[test_df[\"type\"] == \"A\"]\n",
    "test_df_b = test_df[test_df[\"type\"] == \"B\"]\n",
    "\n",
    "# df_new = test_df_a.join(test_df_b, on=\"cid\", how=\"outer\", lsuffix=\"_A\", rsuffix=\"_B\")\n",
    "df_new = test_df_a.merge(test_df_b, on=\"cid\", how=\"outer\", suffixes=(\"_A\", \"_B\"))\n",
    "df_new"
   ],
   "metadata": {
    "collapsed": false,
    "pycharm": {
     "name": "#%%\n"
    }
   }
  },
  {
   "cell_type": "code",
   "execution_count": null,
   "outputs": [],
   "source": [
    "df_vdjdb_cid_0 = df_vdjdb[df_vdjdb[\"complex.id\"] == 0]\n",
    "df_vdjdb_no_cid_0 = df_vdjdb.drop(df_vdjdb[df_vdjdb[\"complex.id\"] == 0].index)\n",
    "\n",
    "df_tra = df_vdjdb_no_cid_0[df_vdjdb_no_cid_0[\"gene\"] == \"TRA\"]\n",
    "df_trb = df_vdjdb_no_cid_0[df_vdjdb_no_cid_0[\"gene\"] == \"TRB\"]\n",
    "\n",
    "df_new = df_tra.merge(df_trb, on=\"complex.id\", how=\"outer\", suffixes=(\"_alfa\", \"_beta\"))\n",
    "df_new.head()"
   ],
   "metadata": {
    "collapsed": false,
    "pycharm": {
     "name": "#%%\n"
    }
   }
  },
  {
   "cell_type": "code",
   "execution_count": null,
   "outputs": [],
   "source": [
    "Gemiddelde bij random forest\n",
    "Onehot encode family en/of geheel, niet version\n",
    "Nearesgt neighbors van 5 betas, daarvoor gemiddelde alfas\n",
    "RF tree alle takken en gemiddelde, eerst gewone in Python\n",
    "Diff epitope: vdjdb_full bevat al gecombineerd, niet zelf incompleet maken. Dat er een verschil is tussen complete incompleet maken zeker vermelden in thesis"
   ],
   "metadata": {
    "collapsed": false,
    "pycharm": {
     "name": "#%%\n"
    }
   }
  },
  {
   "cell_type": "markdown",
   "source": [
    "Except for 0, they all occur at most twice, so I guess same complex means the alpha and beta belong together."
   ],
   "metadata": {
    "collapsed": false,
    "pycharm": {
     "name": "#%% md\n"
    }
   }
  },
  {
   "cell_type": "code",
   "execution_count": 30,
   "outputs": [],
   "source": [
    "top_10_epitopes = epitope_counts.index[:10]"
   ],
   "metadata": {
    "collapsed": false,
    "pycharm": {
     "name": "#%%\n"
    }
   }
  },
  {
   "cell_type": "code",
   "execution_count": 31,
   "outputs": [],
   "source": [
    "epitope = \"KLGGALQAK\""
   ],
   "metadata": {
    "collapsed": false,
    "pycharm": {
     "name": "#%%\n"
    }
   }
  },
  {
   "cell_type": "code",
   "execution_count": 32,
   "outputs": [
    {
     "data": {
      "text/plain": "   cid type  v\n0    1    A  1\n1    1    B  2\n2    2    B  3\n3    3    A  4",
      "text/html": "<div>\n<style scoped>\n    .dataframe tbody tr th:only-of-type {\n        vertical-align: middle;\n    }\n\n    .dataframe tbody tr th {\n        vertical-align: top;\n    }\n\n    .dataframe thead th {\n        text-align: right;\n    }\n</style>\n<table border=\"1\" class=\"dataframe\">\n  <thead>\n    <tr style=\"text-align: right;\">\n      <th></th>\n      <th>cid</th>\n      <th>type</th>\n      <th>v</th>\n    </tr>\n  </thead>\n  <tbody>\n    <tr>\n      <th>0</th>\n      <td>1</td>\n      <td>A</td>\n      <td>1</td>\n    </tr>\n    <tr>\n      <th>1</th>\n      <td>1</td>\n      <td>B</td>\n      <td>2</td>\n    </tr>\n    <tr>\n      <th>2</th>\n      <td>2</td>\n      <td>B</td>\n      <td>3</td>\n    </tr>\n    <tr>\n      <th>3</th>\n      <td>3</td>\n      <td>A</td>\n      <td>4</td>\n    </tr>\n  </tbody>\n</table>\n</div>"
     },
     "execution_count": 32,
     "metadata": {},
     "output_type": "execute_result"
    }
   ],
   "source": [
    "import pandas as pd\n",
    "test_data = {\"cid\": [1, 1, 2, 3],\n",
    "             \"type\": [\"A\", \"B\", \"B\", \"A\"],\n",
    "             \"v\": [1, 2, 3, 4]}\n",
    "test_df = pd.DataFrame(test_data)\n",
    "test_df"
   ],
   "metadata": {
    "collapsed": false,
    "pycharm": {
     "name": "#%%\n"
    }
   }
  },
  {
   "cell_type": "code",
   "execution_count": 33,
   "outputs": [
    {
     "data": {
      "text/plain": "   cid type_A  v_A type_B  v_B\n0    1      A  1.0      B  2.0\n1    3      A  4.0    NaN  NaN\n2    2    NaN  NaN      B  3.0",
      "text/html": "<div>\n<style scoped>\n    .dataframe tbody tr th:only-of-type {\n        vertical-align: middle;\n    }\n\n    .dataframe tbody tr th {\n        vertical-align: top;\n    }\n\n    .dataframe thead th {\n        text-align: right;\n    }\n</style>\n<table border=\"1\" class=\"dataframe\">\n  <thead>\n    <tr style=\"text-align: right;\">\n      <th></th>\n      <th>cid</th>\n      <th>type_A</th>\n      <th>v_A</th>\n      <th>type_B</th>\n      <th>v_B</th>\n    </tr>\n  </thead>\n  <tbody>\n    <tr>\n      <th>0</th>\n      <td>1</td>\n      <td>A</td>\n      <td>1.0</td>\n      <td>B</td>\n      <td>2.0</td>\n    </tr>\n    <tr>\n      <th>1</th>\n      <td>3</td>\n      <td>A</td>\n      <td>4.0</td>\n      <td>NaN</td>\n      <td>NaN</td>\n    </tr>\n    <tr>\n      <th>2</th>\n      <td>2</td>\n      <td>NaN</td>\n      <td>NaN</td>\n      <td>B</td>\n      <td>3.0</td>\n    </tr>\n  </tbody>\n</table>\n</div>"
     },
     "execution_count": 33,
     "metadata": {},
     "output_type": "execute_result"
    }
   ],
   "source": [
    "test_df_a = test_df[test_df[\"type\"] == \"A\"]\n",
    "test_df_b = test_df[test_df[\"type\"] == \"B\"]\n",
    "\n",
    "# df_new = test_df_a.join(test_df_b, on=\"cid\", how=\"outer\", lsuffix=\"_A\", rsuffix=\"_B\")\n",
    "df_new = test_df_a.merge(test_df_b, on=\"cid\", how=\"outer\", suffixes=(\"_A\", \"_B\"))\n",
    "df_new"
   ],
   "metadata": {
    "collapsed": false,
    "pycharm": {
     "name": "#%%\n"
    }
   }
  },
  {
   "cell_type": "code",
   "execution_count": 35,
   "outputs": [
    {
     "data": {
      "text/plain": "   complex.id gene_alfa       cdr3_alfa      v.segm_alfa j.segm_alfa  \\\n0           1       TRA   CIVRAPGRADMRF      TRAV26-1*01   TRAJ43*01   \n1           2       TRA  CAVPSGAGSYQLTF        TRAV20*01   TRAJ28*01   \n2           3       TRA     CAVKASGSRLT         TRAV2*01         NaN   \n3           4       TRA   CAYRPPGTYKYIF  TRAV38-2/DV8*01   TRAJ40*01   \n4           5       TRA   CIVRAPGRADMRF      TRAV26-1*01   TRAJ43*01   \n\n  species_alfa mhc.a_alfa mhc.b_alfa mhc.class_alfa antigen.epitope_alfa  ...  \\\n0  HomoSapiens   HLA-B*08        B2M           MHCI             FLKEKGGL  ...   \n1  HomoSapiens   HLA-B*08        B2M           MHCI             FLKEKGGL  ...   \n2  HomoSapiens   HLA-B*08        B2M           MHCI             FLKEKGGL  ...   \n3  HomoSapiens   HLA-B*08        B2M           MHCI             FLKEKGGL  ...   \n4  HomoSapiens   HLA-B*08        B2M           MHCI             FLKEQGGL  ...   \n\n  antigen.species_beta reference.id_beta  \\\n0                HIV-1     PMID:15596521   \n1                HIV-1     PMID:15596521   \n2                HIV-1     PMID:15596521   \n3                HIV-1     PMID:15596521   \n4                HIV-1     PMID:15596521   \n\n                                         method_beta  \\\n0  {\"frequency\": \"\", \"identification\": \"tetramer-...   \n1  {\"frequency\": \"\", \"identification\": \"tetramer-...   \n2  {\"frequency\": \"\", \"identification\": \"tetramer-...   \n3  {\"frequency\": \"\", \"identification\": \"tetramer-...   \n4  {\"frequency\": \"\", \"identification\": \"tetramer-...   \n\n                                           meta_beta  \\\n0  {\"cell.subset\": \"CD8+\", \"clone.id\": \"\", \"donor...   \n1  {\"cell.subset\": \"CD8+\", \"clone.id\": \"\", \"donor...   \n2  {\"cell.subset\": \"CD8+\", \"clone.id\": \"\", \"donor...   \n3  {\"cell.subset\": \"CD8+\", \"clone.id\": \"\", \"donor...   \n4  {\"cell.subset\": \"CD8+\", \"clone.id\": \"\", \"donor...   \n\n                                        cdr3fix_beta vdjdb.score_beta  \\\n0  {\"cdr3\": \"CASSYLPGQGDHYSNQPQHF\", \"cdr3_old\": \"...                2   \n1  {\"cdr3\": \"CASSFEPGQGFYSNQPQHF\", \"cdr3_old\": \"C...                2   \n2  {\"cdr3\": \"CASSYEPGQVSHYSNQPQHF\", \"cdr3_old\": \"...                2   \n3  {\"cdr3\": \"CASSALASLNEQFF\", \"cdr3_old\": \"CASSAL...                2   \n4  {\"cdr3\": \"CASSYLPGQGDHYSNQPQHF\", \"cdr3_old\": \"...                2   \n\n   web.method_beta web.method.seq_beta web.cdr3fix.nc_beta  \\\n0             sort              sanger                  no   \n1             sort              sanger                  no   \n2             sort              sanger                  no   \n3             sort              sanger                  no   \n4             sort              sanger                  no   \n\n  web.cdr3fix.unmp_beta  \n0                    no  \n1                    no  \n2                    no  \n3                    no  \n4                    no  \n\n[5 rows x 41 columns]",
      "text/html": "<div>\n<style scoped>\n    .dataframe tbody tr th:only-of-type {\n        vertical-align: middle;\n    }\n\n    .dataframe tbody tr th {\n        vertical-align: top;\n    }\n\n    .dataframe thead th {\n        text-align: right;\n    }\n</style>\n<table border=\"1\" class=\"dataframe\">\n  <thead>\n    <tr style=\"text-align: right;\">\n      <th></th>\n      <th>complex.id</th>\n      <th>gene_alfa</th>\n      <th>cdr3_alfa</th>\n      <th>v.segm_alfa</th>\n      <th>j.segm_alfa</th>\n      <th>species_alfa</th>\n      <th>mhc.a_alfa</th>\n      <th>mhc.b_alfa</th>\n      <th>mhc.class_alfa</th>\n      <th>antigen.epitope_alfa</th>\n      <th>...</th>\n      <th>antigen.species_beta</th>\n      <th>reference.id_beta</th>\n      <th>method_beta</th>\n      <th>meta_beta</th>\n      <th>cdr3fix_beta</th>\n      <th>vdjdb.score_beta</th>\n      <th>web.method_beta</th>\n      <th>web.method.seq_beta</th>\n      <th>web.cdr3fix.nc_beta</th>\n      <th>web.cdr3fix.unmp_beta</th>\n    </tr>\n  </thead>\n  <tbody>\n    <tr>\n      <th>0</th>\n      <td>1</td>\n      <td>TRA</td>\n      <td>CIVRAPGRADMRF</td>\n      <td>TRAV26-1*01</td>\n      <td>TRAJ43*01</td>\n      <td>HomoSapiens</td>\n      <td>HLA-B*08</td>\n      <td>B2M</td>\n      <td>MHCI</td>\n      <td>FLKEKGGL</td>\n      <td>...</td>\n      <td>HIV-1</td>\n      <td>PMID:15596521</td>\n      <td>{\"frequency\": \"\", \"identification\": \"tetramer-...</td>\n      <td>{\"cell.subset\": \"CD8+\", \"clone.id\": \"\", \"donor...</td>\n      <td>{\"cdr3\": \"CASSYLPGQGDHYSNQPQHF\", \"cdr3_old\": \"...</td>\n      <td>2</td>\n      <td>sort</td>\n      <td>sanger</td>\n      <td>no</td>\n      <td>no</td>\n    </tr>\n    <tr>\n      <th>1</th>\n      <td>2</td>\n      <td>TRA</td>\n      <td>CAVPSGAGSYQLTF</td>\n      <td>TRAV20*01</td>\n      <td>TRAJ28*01</td>\n      <td>HomoSapiens</td>\n      <td>HLA-B*08</td>\n      <td>B2M</td>\n      <td>MHCI</td>\n      <td>FLKEKGGL</td>\n      <td>...</td>\n      <td>HIV-1</td>\n      <td>PMID:15596521</td>\n      <td>{\"frequency\": \"\", \"identification\": \"tetramer-...</td>\n      <td>{\"cell.subset\": \"CD8+\", \"clone.id\": \"\", \"donor...</td>\n      <td>{\"cdr3\": \"CASSFEPGQGFYSNQPQHF\", \"cdr3_old\": \"C...</td>\n      <td>2</td>\n      <td>sort</td>\n      <td>sanger</td>\n      <td>no</td>\n      <td>no</td>\n    </tr>\n    <tr>\n      <th>2</th>\n      <td>3</td>\n      <td>TRA</td>\n      <td>CAVKASGSRLT</td>\n      <td>TRAV2*01</td>\n      <td>NaN</td>\n      <td>HomoSapiens</td>\n      <td>HLA-B*08</td>\n      <td>B2M</td>\n      <td>MHCI</td>\n      <td>FLKEKGGL</td>\n      <td>...</td>\n      <td>HIV-1</td>\n      <td>PMID:15596521</td>\n      <td>{\"frequency\": \"\", \"identification\": \"tetramer-...</td>\n      <td>{\"cell.subset\": \"CD8+\", \"clone.id\": \"\", \"donor...</td>\n      <td>{\"cdr3\": \"CASSYEPGQVSHYSNQPQHF\", \"cdr3_old\": \"...</td>\n      <td>2</td>\n      <td>sort</td>\n      <td>sanger</td>\n      <td>no</td>\n      <td>no</td>\n    </tr>\n    <tr>\n      <th>3</th>\n      <td>4</td>\n      <td>TRA</td>\n      <td>CAYRPPGTYKYIF</td>\n      <td>TRAV38-2/DV8*01</td>\n      <td>TRAJ40*01</td>\n      <td>HomoSapiens</td>\n      <td>HLA-B*08</td>\n      <td>B2M</td>\n      <td>MHCI</td>\n      <td>FLKEKGGL</td>\n      <td>...</td>\n      <td>HIV-1</td>\n      <td>PMID:15596521</td>\n      <td>{\"frequency\": \"\", \"identification\": \"tetramer-...</td>\n      <td>{\"cell.subset\": \"CD8+\", \"clone.id\": \"\", \"donor...</td>\n      <td>{\"cdr3\": \"CASSALASLNEQFF\", \"cdr3_old\": \"CASSAL...</td>\n      <td>2</td>\n      <td>sort</td>\n      <td>sanger</td>\n      <td>no</td>\n      <td>no</td>\n    </tr>\n    <tr>\n      <th>4</th>\n      <td>5</td>\n      <td>TRA</td>\n      <td>CIVRAPGRADMRF</td>\n      <td>TRAV26-1*01</td>\n      <td>TRAJ43*01</td>\n      <td>HomoSapiens</td>\n      <td>HLA-B*08</td>\n      <td>B2M</td>\n      <td>MHCI</td>\n      <td>FLKEQGGL</td>\n      <td>...</td>\n      <td>HIV-1</td>\n      <td>PMID:15596521</td>\n      <td>{\"frequency\": \"\", \"identification\": \"tetramer-...</td>\n      <td>{\"cell.subset\": \"CD8+\", \"clone.id\": \"\", \"donor...</td>\n      <td>{\"cdr3\": \"CASSYLPGQGDHYSNQPQHF\", \"cdr3_old\": \"...</td>\n      <td>2</td>\n      <td>sort</td>\n      <td>sanger</td>\n      <td>no</td>\n      <td>no</td>\n    </tr>\n  </tbody>\n</table>\n<p>5 rows × 41 columns</p>\n</div>"
     },
     "execution_count": 35,
     "metadata": {},
     "output_type": "execute_result"
    }
   ],
   "source": [
    "df_vdjdb_cid_0 = df_vdjdb[df_vdjdb[\"complex.id\"] == 0]\n",
    "df_vdjdb_no_cid_0 = df_vdjdb.drop(df_vdjdb[df_vdjdb[\"complex.id\"] == 0].index)\n",
    "\n",
    "df_tra = df_vdjdb_no_cid_0[df_vdjdb_no_cid_0[\"gene\"] == \"TRA\"]\n",
    "df_trb = df_vdjdb_no_cid_0[df_vdjdb_no_cid_0[\"gene\"] == \"TRB\"]\n",
    "\n",
    "df_new = df_tra.merge(df_trb, on=\"complex.id\", how=\"outer\", suffixes=(\"_alfa\", \"_beta\"))\n",
    "df_new.head()"
   ],
   "metadata": {
    "collapsed": false,
    "pycharm": {
     "name": "#%%\n"
    }
   }
  },
  {
   "cell_type": "markdown",
   "source": [
    "Gemiddelde bij random forest\n",
    "Onehot encode family en/of geheel, niet version -> OK (Notebook 15 overzicht van resultaten, beste mss wel nog standard gebruiken in de data notebook)\n",
    "Nearesgt neighbors van 5 betas, daarvoor gemiddelde alfas -> OK (resultaten ni echt een verbetering eigenlijk)\n",
    "RF tree alle takken en gemiddelde, eerst gewone in Python\n",
    "Diff epitope: vdjdb_full bevat al gecombineerd, niet zelf incompleet maken. Dat er een verschil is tussen complete incompleet maken zeker vermelden in thesis"
   ],
   "metadata": {
    "collapsed": false,
    "pycharm": {
     "name": "#%% md\n"
    }
   }
  }
 ],
 "metadata": {
  "kernelspec": {
   "display_name": "Python 3",
   "language": "python",
   "name": "python3"
  },
  "language_info": {
   "codemirror_mode": {
    "name": "ipython",
    "version": 2
   },
   "file_extension": ".py",
   "mimetype": "text/x-python",
   "name": "python",
   "nbconvert_exporter": "python",
   "pygments_lexer": "ipython2",
   "version": "2.7.6"
  }
 },
 "nbformat": 4,
 "nbformat_minor": 0
}