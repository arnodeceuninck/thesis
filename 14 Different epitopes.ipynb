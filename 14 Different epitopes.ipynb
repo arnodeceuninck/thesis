{
 "cells": [
  {
   "cell_type": "markdown",
   "source": [
    "# Different epitopes\n",
    "Up to now, we've worked with Influenza A virus (GILGFVFTL). Let's take a look at the performance in different epitopes.\n",
    "\n",
    "We're working with the [vdjdb-db](https://github.com/antigenomics/vdjdb-db/releases) dataset."
   ],
   "metadata": {
    "collapsed": false,
    "pycharm": {
     "name": "#%% md\n"
    }
   }
  },
  {
   "cell_type": "code",
   "execution_count": 1,
   "outputs": [
    {
     "data": {
      "text/plain": "   complex.id gene                  cdr3       v.segm      j.segm  \\\n0           1  TRA         CIVRAPGRADMRF  TRAV26-1*01   TRAJ43*01   \n1           1  TRB  CASSYLPGQGDHYSNQPQHF    TRBV13*01  TRBJ1-5*01   \n2           0  TRB   CASSFEAGQGFFSNQPQHF    TRBV13*01  TRBJ1-5*01   \n3           2  TRA        CAVPSGAGSYQLTF    TRAV20*01   TRAJ28*01   \n4           2  TRB   CASSFEPGQGFYSNQPQHF    TRBV13*01  TRBJ1-5*01   \n\n       species     mhc.a mhc.b mhc.class antigen.epitope  ... antigen.species  \\\n0  HomoSapiens  HLA-B*08   B2M      MHCI        FLKEKGGL  ...           HIV-1   \n1  HomoSapiens  HLA-B*08   B2M      MHCI        FLKEKGGL  ...           HIV-1   \n2  HomoSapiens  HLA-B*08   B2M      MHCI        FLKEKGGL  ...           HIV-1   \n3  HomoSapiens  HLA-B*08   B2M      MHCI        FLKEKGGL  ...           HIV-1   \n4  HomoSapiens  HLA-B*08   B2M      MHCI        FLKEKGGL  ...           HIV-1   \n\n    reference.id                                             method  \\\n0  PMID:15596521  {\"frequency\": \"\", \"identification\": \"tetramer-...   \n1  PMID:15596521  {\"frequency\": \"\", \"identification\": \"tetramer-...   \n2  PMID:15596521  {\"frequency\": \"\", \"identification\": \"tetramer-...   \n3  PMID:15596521  {\"frequency\": \"\", \"identification\": \"tetramer-...   \n4  PMID:15596521  {\"frequency\": \"\", \"identification\": \"tetramer-...   \n\n                                                meta  \\\n0  {\"cell.subset\": \"CD8+\", \"clone.id\": \"\", \"donor...   \n1  {\"cell.subset\": \"CD8+\", \"clone.id\": \"\", \"donor...   \n2  {\"cell.subset\": \"CD8+\", \"clone.id\": \"\", \"donor...   \n3  {\"cell.subset\": \"CD8+\", \"clone.id\": \"\", \"donor...   \n4  {\"cell.subset\": \"CD8+\", \"clone.id\": \"\", \"donor...   \n\n                                             cdr3fix vdjdb.score  web.method  \\\n0  {\"cdr3\": \"CIVRAPGRADMRF\", \"cdr3_old\": \"CIVRAPG...           2        sort   \n1  {\"cdr3\": \"CASSYLPGQGDHYSNQPQHF\", \"cdr3_old\": \"...           2        sort   \n2  {\"cdr3\": \"CASSFEAGQGFFSNQPQHF\", \"cdr3_old\": \"C...           2        sort   \n3  {\"cdr3\": \"CAVPSGAGSYQLTF\", \"cdr3_old\": \"CAVPSG...           2        sort   \n4  {\"cdr3\": \"CASSFEPGQGFYSNQPQHF\", \"cdr3_old\": \"C...           2        sort   \n\n  web.method.seq web.cdr3fix.nc web.cdr3fix.unmp  \n0         sanger             no               no  \n1         sanger             no               no  \n2         sanger             no               no  \n3         sanger             no               no  \n4         sanger             no               no  \n\n[5 rows x 21 columns]",
      "text/html": "<div>\n<style scoped>\n    .dataframe tbody tr th:only-of-type {\n        vertical-align: middle;\n    }\n\n    .dataframe tbody tr th {\n        vertical-align: top;\n    }\n\n    .dataframe thead th {\n        text-align: right;\n    }\n</style>\n<table border=\"1\" class=\"dataframe\">\n  <thead>\n    <tr style=\"text-align: right;\">\n      <th></th>\n      <th>complex.id</th>\n      <th>gene</th>\n      <th>cdr3</th>\n      <th>v.segm</th>\n      <th>j.segm</th>\n      <th>species</th>\n      <th>mhc.a</th>\n      <th>mhc.b</th>\n      <th>mhc.class</th>\n      <th>antigen.epitope</th>\n      <th>...</th>\n      <th>antigen.species</th>\n      <th>reference.id</th>\n      <th>method</th>\n      <th>meta</th>\n      <th>cdr3fix</th>\n      <th>vdjdb.score</th>\n      <th>web.method</th>\n      <th>web.method.seq</th>\n      <th>web.cdr3fix.nc</th>\n      <th>web.cdr3fix.unmp</th>\n    </tr>\n  </thead>\n  <tbody>\n    <tr>\n      <th>0</th>\n      <td>1</td>\n      <td>TRA</td>\n      <td>CIVRAPGRADMRF</td>\n      <td>TRAV26-1*01</td>\n      <td>TRAJ43*01</td>\n      <td>HomoSapiens</td>\n      <td>HLA-B*08</td>\n      <td>B2M</td>\n      <td>MHCI</td>\n      <td>FLKEKGGL</td>\n      <td>...</td>\n      <td>HIV-1</td>\n      <td>PMID:15596521</td>\n      <td>{\"frequency\": \"\", \"identification\": \"tetramer-...</td>\n      <td>{\"cell.subset\": \"CD8+\", \"clone.id\": \"\", \"donor...</td>\n      <td>{\"cdr3\": \"CIVRAPGRADMRF\", \"cdr3_old\": \"CIVRAPG...</td>\n      <td>2</td>\n      <td>sort</td>\n      <td>sanger</td>\n      <td>no</td>\n      <td>no</td>\n    </tr>\n    <tr>\n      <th>1</th>\n      <td>1</td>\n      <td>TRB</td>\n      <td>CASSYLPGQGDHYSNQPQHF</td>\n      <td>TRBV13*01</td>\n      <td>TRBJ1-5*01</td>\n      <td>HomoSapiens</td>\n      <td>HLA-B*08</td>\n      <td>B2M</td>\n      <td>MHCI</td>\n      <td>FLKEKGGL</td>\n      <td>...</td>\n      <td>HIV-1</td>\n      <td>PMID:15596521</td>\n      <td>{\"frequency\": \"\", \"identification\": \"tetramer-...</td>\n      <td>{\"cell.subset\": \"CD8+\", \"clone.id\": \"\", \"donor...</td>\n      <td>{\"cdr3\": \"CASSYLPGQGDHYSNQPQHF\", \"cdr3_old\": \"...</td>\n      <td>2</td>\n      <td>sort</td>\n      <td>sanger</td>\n      <td>no</td>\n      <td>no</td>\n    </tr>\n    <tr>\n      <th>2</th>\n      <td>0</td>\n      <td>TRB</td>\n      <td>CASSFEAGQGFFSNQPQHF</td>\n      <td>TRBV13*01</td>\n      <td>TRBJ1-5*01</td>\n      <td>HomoSapiens</td>\n      <td>HLA-B*08</td>\n      <td>B2M</td>\n      <td>MHCI</td>\n      <td>FLKEKGGL</td>\n      <td>...</td>\n      <td>HIV-1</td>\n      <td>PMID:15596521</td>\n      <td>{\"frequency\": \"\", \"identification\": \"tetramer-...</td>\n      <td>{\"cell.subset\": \"CD8+\", \"clone.id\": \"\", \"donor...</td>\n      <td>{\"cdr3\": \"CASSFEAGQGFFSNQPQHF\", \"cdr3_old\": \"C...</td>\n      <td>2</td>\n      <td>sort</td>\n      <td>sanger</td>\n      <td>no</td>\n      <td>no</td>\n    </tr>\n    <tr>\n      <th>3</th>\n      <td>2</td>\n      <td>TRA</td>\n      <td>CAVPSGAGSYQLTF</td>\n      <td>TRAV20*01</td>\n      <td>TRAJ28*01</td>\n      <td>HomoSapiens</td>\n      <td>HLA-B*08</td>\n      <td>B2M</td>\n      <td>MHCI</td>\n      <td>FLKEKGGL</td>\n      <td>...</td>\n      <td>HIV-1</td>\n      <td>PMID:15596521</td>\n      <td>{\"frequency\": \"\", \"identification\": \"tetramer-...</td>\n      <td>{\"cell.subset\": \"CD8+\", \"clone.id\": \"\", \"donor...</td>\n      <td>{\"cdr3\": \"CAVPSGAGSYQLTF\", \"cdr3_old\": \"CAVPSG...</td>\n      <td>2</td>\n      <td>sort</td>\n      <td>sanger</td>\n      <td>no</td>\n      <td>no</td>\n    </tr>\n    <tr>\n      <th>4</th>\n      <td>2</td>\n      <td>TRB</td>\n      <td>CASSFEPGQGFYSNQPQHF</td>\n      <td>TRBV13*01</td>\n      <td>TRBJ1-5*01</td>\n      <td>HomoSapiens</td>\n      <td>HLA-B*08</td>\n      <td>B2M</td>\n      <td>MHCI</td>\n      <td>FLKEKGGL</td>\n      <td>...</td>\n      <td>HIV-1</td>\n      <td>PMID:15596521</td>\n      <td>{\"frequency\": \"\", \"identification\": \"tetramer-...</td>\n      <td>{\"cell.subset\": \"CD8+\", \"clone.id\": \"\", \"donor...</td>\n      <td>{\"cdr3\": \"CASSFEPGQGFYSNQPQHF\", \"cdr3_old\": \"C...</td>\n      <td>2</td>\n      <td>sort</td>\n      <td>sanger</td>\n      <td>no</td>\n      <td>no</td>\n    </tr>\n  </tbody>\n</table>\n<p>5 rows × 21 columns</p>\n</div>"
     },
     "execution_count": 1,
     "metadata": {},
     "output_type": "execute_result"
    }
   ],
   "source": [
    "# Load the dataset\n",
    "import pandas as pd\n",
    "import numpy as np\n",
    "import matplotlib.pyplot as plt\n",
    "\n",
    "df_vdjdb = pd.read_csv('data/vdjdb-2022-03-30/vdjdb.txt', sep='\\t')\n",
    "df_vdjdb.head()\n",
    "# sample 10 items\n"
   ],
   "metadata": {
    "collapsed": false,
    "pycharm": {
     "name": "#%%\n"
    }
   }
  },
  {
   "cell_type": "code",
   "execution_count": 2,
   "outputs": [
    {
     "data": {
      "text/plain": "       complex.id gene                cdr3           v.segm      j.segm  \\\n4247            0  TRB     CASSIEAGGTDTQYF       TRBV5-1*01  TRBJ2-3*01   \n43882       11523  TRB      CASSLGDYYNEQFF        TRBV27*01  TRBJ2-1*01   \n66218       22691  TRB  CASSQEAPGQGDTGELFF       TRBV4-3*01  TRBJ2-2*01   \n54487       16826  TRA    CAMRGPISGGYNKLIF    TRAV14/DV4*01    TRAJ4*01   \n85894       28341  TRA          CVVRFNDMRF       TRAV8-2*01   TRAJ43*01   \n84088       27591  TRA     CAGPIEGWSQGNLIF        TRAV25*01   TRAJ42*01   \n15081           0  TRA       CAYMDGTASKLTF  TRAV38-2/DV8*01   TRAJ44*01   \n38173        8669  TRA    CALSESGSSNTGKLIF        TRAV19*01   TRAJ37*01   \n55819       17492  TRA        CAVSETTDKLIF       TRAV8-6*01   TRAJ34*01   \n75621       25946  TRA      CAALFTGGGNKLTF        TRAV21*01   TRAJ10*01   \n\n           species        mhc.a mhc.b mhc.class antigen.epitope  ...  \\\n4247   HomoSapiens     HLA-A*02   B2M      MHCI       LLLGIGILV  ...   \n43882  HomoSapiens  HLA-A*11:01   B2M      MHCI      AVFDRKSDAK  ...   \n66218  HomoSapiens  HLA-A*03:01   B2M      MHCI       KLGGALQAK  ...   \n54487  HomoSapiens  HLA-A*03:01   B2M      MHCI       KLGGALQAK  ...   \n85894  HomoSapiens  HLA-A*02:01   B2M      MHCI       GLFKDCSKV  ...   \n84088  HomoSapiens  HLA-A*02:01   B2M      MHCI       GILGFVFTL  ...   \n15081  HomoSapiens     HLA-A*02   B2M      MHCI       GILGFVFTL  ...   \n38173  HomoSapiens  HLA-A*03:01   B2M      MHCI       KLGGALQAK  ...   \n55819  HomoSapiens  HLA-A*03:01   B2M      MHCI       KLGGALQAK  ...   \n75621  HomoSapiens  HLA-A*01:01   B2M      MHCI       LTDEMIAQY  ...   \n\n      antigen.species                                       reference.id  \\\n4247      HomoSapiens  https://github.com/antigenomics/vdjdb-db/issue...   \n43882             EBV  https://www.10xgenomics.com/resources/applicat...   \n66218             CMV  https://www.10xgenomics.com/resources/applicat...   \n54487             CMV  https://www.10xgenomics.com/resources/applicat...   \n85894      SARS-CoV-2                                      PMID:34793243   \n84088      InfluenzaA                                      PMID:34793243   \n15081      InfluenzaA                                      PMID:28423320   \n38173             CMV  https://www.10xgenomics.com/resources/applicat...   \n55819             CMV  https://www.10xgenomics.com/resources/applicat...   \n75621      SARS-CoV-2  https://github.com/antigenomics/vdjdb-db/issue...   \n\n                                                  method  \\\n4247   {\"frequency\": \"0.23%\", \"identification\": \"tetr...   \n43882  {\"frequency\": \"1/25584\", \"identification\": \"de...   \n66218  {\"frequency\": \"1/4761\", \"identification\": \"dex...   \n54487  {\"frequency\": \"1/25584\", \"identification\": \"de...   \n85894  {\"frequency\": \"\", \"identification\": \"tetramer-...   \n84088  {\"frequency\": \"\", \"identification\": \"tetramer-...   \n15081  {\"frequency\": \"0.0002%\", \"identification\": \"an...   \n38173  {\"frequency\": \"1/33921\", \"identification\": \"de...   \n55819  {\"frequency\": \"1/25584\", \"identification\": \"de...   \n75621  {\"frequency\": \"\", \"identification\": \"dextramer...   \n\n                                                    meta  \\\n4247   {\"cell.subset\": \"\", \"clone.id\": \"\", \"donor.MHC...   \n43882  {\"cell.subset\": \"\", \"clone.id\": \"\", \"donor.MHC...   \n66218  {\"cell.subset\": \"\", \"clone.id\": \"\", \"donor.MHC...   \n54487  {\"cell.subset\": \"\", \"clone.id\": \"\", \"donor.MHC...   \n85894  {\"cell.subset\": \"CD8+\", \"clone.id\": \"\", \"donor...   \n84088  {\"cell.subset\": \"CD8+\", \"clone.id\": \"\", \"donor...   \n15081  {\"cell.subset\": \"CD8+\", \"clone.id\": \"\", \"donor...   \n38173  {\"cell.subset\": \"\", \"clone.id\": \"\", \"donor.MHC...   \n55819  {\"cell.subset\": \"\", \"clone.id\": \"\", \"donor.MHC...   \n75621  {\"cell.subset\": \"CD8+\", \"clone.id\": \"\", \"donor...   \n\n                                                 cdr3fix vdjdb.score  \\\n4247   {\"cdr3\": \"CASSIEAGGTDTQYF\", \"cdr3_old\": \"CASSI...           0   \n43882  {\"cdr3\": \"CASSLGDYYNEQFF\", \"cdr3_old\": \"CASSLG...           0   \n66218  {\"cdr3\": \"CASSQEAPGQGDTGELFF\", \"cdr3_old\": \"CA...           0   \n54487  {\"cdr3\": \"CAMRGPISGGYNKLIF\", \"cdr3_old\": \"CAMR...           0   \n85894  {\"cdr3\": \"CVVRFNDMRF\", \"cdr3_old\": \"CVVRFNDMRF...           0   \n84088  {\"cdr3\": \"CAGPIEGWSQGNLIF\", \"cdr3_old\": \"CAGPI...           0   \n15081  {\"cdr3\": \"CAYMDGTASKLTF\", \"cdr3_old\": \"CAYMDGT...           0   \n38173  {\"cdr3\": \"CALSESGSSNTGKLIF\", \"cdr3_old\": \"CALS...           0   \n55819  {\"cdr3\": \"CAVSETTDKLIF\", \"cdr3_old\": \"CAVSETTD...           0   \n75621  {\"cdr3\": \"CAALFTGGGNKLTF\", \"cdr3_old\": \"CAALFT...           0   \n\n       web.method web.method.seq web.cdr3fix.nc web.cdr3fix.unmp  \n4247         sort       amplicon             no               no  \n43882        sort     singlecell             no               no  \n66218        sort     singlecell             no               no  \n54487        sort     singlecell             no               no  \n85894        sort     singlecell             no               no  \n84088        sort     singlecell             no               no  \n15081        sort       amplicon             no               no  \n38173        sort     singlecell             no               no  \n55819        sort     singlecell             no               no  \n75621        sort     singlecell             no               no  \n\n[10 rows x 21 columns]",
      "text/html": "<div>\n<style scoped>\n    .dataframe tbody tr th:only-of-type {\n        vertical-align: middle;\n    }\n\n    .dataframe tbody tr th {\n        vertical-align: top;\n    }\n\n    .dataframe thead th {\n        text-align: right;\n    }\n</style>\n<table border=\"1\" class=\"dataframe\">\n  <thead>\n    <tr style=\"text-align: right;\">\n      <th></th>\n      <th>complex.id</th>\n      <th>gene</th>\n      <th>cdr3</th>\n      <th>v.segm</th>\n      <th>j.segm</th>\n      <th>species</th>\n      <th>mhc.a</th>\n      <th>mhc.b</th>\n      <th>mhc.class</th>\n      <th>antigen.epitope</th>\n      <th>...</th>\n      <th>antigen.species</th>\n      <th>reference.id</th>\n      <th>method</th>\n      <th>meta</th>\n      <th>cdr3fix</th>\n      <th>vdjdb.score</th>\n      <th>web.method</th>\n      <th>web.method.seq</th>\n      <th>web.cdr3fix.nc</th>\n      <th>web.cdr3fix.unmp</th>\n    </tr>\n  </thead>\n  <tbody>\n    <tr>\n      <th>4247</th>\n      <td>0</td>\n      <td>TRB</td>\n      <td>CASSIEAGGTDTQYF</td>\n      <td>TRBV5-1*01</td>\n      <td>TRBJ2-3*01</td>\n      <td>HomoSapiens</td>\n      <td>HLA-A*02</td>\n      <td>B2M</td>\n      <td>MHCI</td>\n      <td>LLLGIGILV</td>\n      <td>...</td>\n      <td>HomoSapiens</td>\n      <td>https://github.com/antigenomics/vdjdb-db/issue...</td>\n      <td>{\"frequency\": \"0.23%\", \"identification\": \"tetr...</td>\n      <td>{\"cell.subset\": \"\", \"clone.id\": \"\", \"donor.MHC...</td>\n      <td>{\"cdr3\": \"CASSIEAGGTDTQYF\", \"cdr3_old\": \"CASSI...</td>\n      <td>0</td>\n      <td>sort</td>\n      <td>amplicon</td>\n      <td>no</td>\n      <td>no</td>\n    </tr>\n    <tr>\n      <th>43882</th>\n      <td>11523</td>\n      <td>TRB</td>\n      <td>CASSLGDYYNEQFF</td>\n      <td>TRBV27*01</td>\n      <td>TRBJ2-1*01</td>\n      <td>HomoSapiens</td>\n      <td>HLA-A*11:01</td>\n      <td>B2M</td>\n      <td>MHCI</td>\n      <td>AVFDRKSDAK</td>\n      <td>...</td>\n      <td>EBV</td>\n      <td>https://www.10xgenomics.com/resources/applicat...</td>\n      <td>{\"frequency\": \"1/25584\", \"identification\": \"de...</td>\n      <td>{\"cell.subset\": \"\", \"clone.id\": \"\", \"donor.MHC...</td>\n      <td>{\"cdr3\": \"CASSLGDYYNEQFF\", \"cdr3_old\": \"CASSLG...</td>\n      <td>0</td>\n      <td>sort</td>\n      <td>singlecell</td>\n      <td>no</td>\n      <td>no</td>\n    </tr>\n    <tr>\n      <th>66218</th>\n      <td>22691</td>\n      <td>TRB</td>\n      <td>CASSQEAPGQGDTGELFF</td>\n      <td>TRBV4-3*01</td>\n      <td>TRBJ2-2*01</td>\n      <td>HomoSapiens</td>\n      <td>HLA-A*03:01</td>\n      <td>B2M</td>\n      <td>MHCI</td>\n      <td>KLGGALQAK</td>\n      <td>...</td>\n      <td>CMV</td>\n      <td>https://www.10xgenomics.com/resources/applicat...</td>\n      <td>{\"frequency\": \"1/4761\", \"identification\": \"dex...</td>\n      <td>{\"cell.subset\": \"\", \"clone.id\": \"\", \"donor.MHC...</td>\n      <td>{\"cdr3\": \"CASSQEAPGQGDTGELFF\", \"cdr3_old\": \"CA...</td>\n      <td>0</td>\n      <td>sort</td>\n      <td>singlecell</td>\n      <td>no</td>\n      <td>no</td>\n    </tr>\n    <tr>\n      <th>54487</th>\n      <td>16826</td>\n      <td>TRA</td>\n      <td>CAMRGPISGGYNKLIF</td>\n      <td>TRAV14/DV4*01</td>\n      <td>TRAJ4*01</td>\n      <td>HomoSapiens</td>\n      <td>HLA-A*03:01</td>\n      <td>B2M</td>\n      <td>MHCI</td>\n      <td>KLGGALQAK</td>\n      <td>...</td>\n      <td>CMV</td>\n      <td>https://www.10xgenomics.com/resources/applicat...</td>\n      <td>{\"frequency\": \"1/25584\", \"identification\": \"de...</td>\n      <td>{\"cell.subset\": \"\", \"clone.id\": \"\", \"donor.MHC...</td>\n      <td>{\"cdr3\": \"CAMRGPISGGYNKLIF\", \"cdr3_old\": \"CAMR...</td>\n      <td>0</td>\n      <td>sort</td>\n      <td>singlecell</td>\n      <td>no</td>\n      <td>no</td>\n    </tr>\n    <tr>\n      <th>85894</th>\n      <td>28341</td>\n      <td>TRA</td>\n      <td>CVVRFNDMRF</td>\n      <td>TRAV8-2*01</td>\n      <td>TRAJ43*01</td>\n      <td>HomoSapiens</td>\n      <td>HLA-A*02:01</td>\n      <td>B2M</td>\n      <td>MHCI</td>\n      <td>GLFKDCSKV</td>\n      <td>...</td>\n      <td>SARS-CoV-2</td>\n      <td>PMID:34793243</td>\n      <td>{\"frequency\": \"\", \"identification\": \"tetramer-...</td>\n      <td>{\"cell.subset\": \"CD8+\", \"clone.id\": \"\", \"donor...</td>\n      <td>{\"cdr3\": \"CVVRFNDMRF\", \"cdr3_old\": \"CVVRFNDMRF...</td>\n      <td>0</td>\n      <td>sort</td>\n      <td>singlecell</td>\n      <td>no</td>\n      <td>no</td>\n    </tr>\n    <tr>\n      <th>84088</th>\n      <td>27591</td>\n      <td>TRA</td>\n      <td>CAGPIEGWSQGNLIF</td>\n      <td>TRAV25*01</td>\n      <td>TRAJ42*01</td>\n      <td>HomoSapiens</td>\n      <td>HLA-A*02:01</td>\n      <td>B2M</td>\n      <td>MHCI</td>\n      <td>GILGFVFTL</td>\n      <td>...</td>\n      <td>InfluenzaA</td>\n      <td>PMID:34793243</td>\n      <td>{\"frequency\": \"\", \"identification\": \"tetramer-...</td>\n      <td>{\"cell.subset\": \"CD8+\", \"clone.id\": \"\", \"donor...</td>\n      <td>{\"cdr3\": \"CAGPIEGWSQGNLIF\", \"cdr3_old\": \"CAGPI...</td>\n      <td>0</td>\n      <td>sort</td>\n      <td>singlecell</td>\n      <td>no</td>\n      <td>no</td>\n    </tr>\n    <tr>\n      <th>15081</th>\n      <td>0</td>\n      <td>TRA</td>\n      <td>CAYMDGTASKLTF</td>\n      <td>TRAV38-2/DV8*01</td>\n      <td>TRAJ44*01</td>\n      <td>HomoSapiens</td>\n      <td>HLA-A*02</td>\n      <td>B2M</td>\n      <td>MHCI</td>\n      <td>GILGFVFTL</td>\n      <td>...</td>\n      <td>InfluenzaA</td>\n      <td>PMID:28423320</td>\n      <td>{\"frequency\": \"0.0002%\", \"identification\": \"an...</td>\n      <td>{\"cell.subset\": \"CD8+\", \"clone.id\": \"\", \"donor...</td>\n      <td>{\"cdr3\": \"CAYMDGTASKLTF\", \"cdr3_old\": \"CAYMDGT...</td>\n      <td>0</td>\n      <td>sort</td>\n      <td>amplicon</td>\n      <td>no</td>\n      <td>no</td>\n    </tr>\n    <tr>\n      <th>38173</th>\n      <td>8669</td>\n      <td>TRA</td>\n      <td>CALSESGSSNTGKLIF</td>\n      <td>TRAV19*01</td>\n      <td>TRAJ37*01</td>\n      <td>HomoSapiens</td>\n      <td>HLA-A*03:01</td>\n      <td>B2M</td>\n      <td>MHCI</td>\n      <td>KLGGALQAK</td>\n      <td>...</td>\n      <td>CMV</td>\n      <td>https://www.10xgenomics.com/resources/applicat...</td>\n      <td>{\"frequency\": \"1/33921\", \"identification\": \"de...</td>\n      <td>{\"cell.subset\": \"\", \"clone.id\": \"\", \"donor.MHC...</td>\n      <td>{\"cdr3\": \"CALSESGSSNTGKLIF\", \"cdr3_old\": \"CALS...</td>\n      <td>0</td>\n      <td>sort</td>\n      <td>singlecell</td>\n      <td>no</td>\n      <td>no</td>\n    </tr>\n    <tr>\n      <th>55819</th>\n      <td>17492</td>\n      <td>TRA</td>\n      <td>CAVSETTDKLIF</td>\n      <td>TRAV8-6*01</td>\n      <td>TRAJ34*01</td>\n      <td>HomoSapiens</td>\n      <td>HLA-A*03:01</td>\n      <td>B2M</td>\n      <td>MHCI</td>\n      <td>KLGGALQAK</td>\n      <td>...</td>\n      <td>CMV</td>\n      <td>https://www.10xgenomics.com/resources/applicat...</td>\n      <td>{\"frequency\": \"1/25584\", \"identification\": \"de...</td>\n      <td>{\"cell.subset\": \"\", \"clone.id\": \"\", \"donor.MHC...</td>\n      <td>{\"cdr3\": \"CAVSETTDKLIF\", \"cdr3_old\": \"CAVSETTD...</td>\n      <td>0</td>\n      <td>sort</td>\n      <td>singlecell</td>\n      <td>no</td>\n      <td>no</td>\n    </tr>\n    <tr>\n      <th>75621</th>\n      <td>25946</td>\n      <td>TRA</td>\n      <td>CAALFTGGGNKLTF</td>\n      <td>TRAV21*01</td>\n      <td>TRAJ10*01</td>\n      <td>HomoSapiens</td>\n      <td>HLA-A*01:01</td>\n      <td>B2M</td>\n      <td>MHCI</td>\n      <td>LTDEMIAQY</td>\n      <td>...</td>\n      <td>SARS-CoV-2</td>\n      <td>https://github.com/antigenomics/vdjdb-db/issue...</td>\n      <td>{\"frequency\": \"\", \"identification\": \"dextramer...</td>\n      <td>{\"cell.subset\": \"CD8+\", \"clone.id\": \"\", \"donor...</td>\n      <td>{\"cdr3\": \"CAALFTGGGNKLTF\", \"cdr3_old\": \"CAALFT...</td>\n      <td>0</td>\n      <td>sort</td>\n      <td>singlecell</td>\n      <td>no</td>\n      <td>no</td>\n    </tr>\n  </tbody>\n</table>\n<p>10 rows × 21 columns</p>\n</div>"
     },
     "execution_count": 2,
     "metadata": {},
     "output_type": "execute_result"
    }
   ],
   "source": [
    "#  Print random\n",
    "df_vdjdb.sample(10)"
   ],
   "metadata": {
    "collapsed": false,
    "pycharm": {
     "name": "#%%\n"
    }
   }
  },
  {
   "cell_type": "code",
   "execution_count": 3,
   "outputs": [
    {
     "name": "stdout",
     "output_type": "stream",
     "text": [
      "Number of unique epitopes: 1150\n"
     ]
    }
   ],
   "source": [
    "# Get the number of unique antigen.epitope\n",
    "epitopes = df_vdjdb['antigen.epitope'].unique()\n",
    "print(f'Number of unique epitopes: {len(epitopes)}')"
   ],
   "metadata": {
    "collapsed": false,
    "pycharm": {
     "name": "#%%\n"
    }
   }
  },
  {
   "cell_type": "code",
   "execution_count": 4,
   "outputs": [
    {
     "data": {
      "text/plain": "KLGGALQAK     27948\nGILGFVFTL     10024\nNLVPMVATV      7959\nAVFDRKSDAK     3546\nRAKFKQLL       2733\nELAGIGILTV     2687\nGLCTLVAML      1844\nYLQPRTFLL      1683\nIVTDFSVIK      1486\nSSYRRPVGI      1322\nName: antigen.epitope, dtype: int64"
     },
     "execution_count": 4,
     "metadata": {},
     "output_type": "execute_result"
    }
   ],
   "source": [
    "# Get the top 10 epitopes\n",
    "epitope_counts = df_vdjdb['antigen.epitope'].value_counts()\n",
    "epitope_counts.head(10)"
   ],
   "metadata": {
    "collapsed": false,
    "pycharm": {
     "name": "#%%\n"
    }
   }
  },
  {
   "cell_type": "code",
   "execution_count": 5,
   "outputs": [
    {
     "data": {
      "text/plain": "0        30789\n19521        2\n19519        2\n19518        2\n19517        2\n19516        2\n19515        2\n19514        2\n19513        2\n19512        2\nName: complex.id, dtype: int64"
     },
     "execution_count": 5,
     "metadata": {},
     "output_type": "execute_result"
    }
   ],
   "source": [
    "complex_id_counts = df_vdjdb['complex.id'].value_counts()\n",
    "complex_id_counts.head(10)"
   ],
   "metadata": {
    "collapsed": false,
    "pycharm": {
     "name": "#%%\n"
    }
   }
  },
  {
   "cell_type": "markdown",
   "source": [
    "Except for 0, they all occur at most twice, so I guess same complex means the alpha and beta belong together."
   ],
   "metadata": {
    "collapsed": false,
    "pycharm": {
     "name": "#%% md\n"
    }
   }
  },
  {
   "cell_type": "code",
   "execution_count": 6,
   "outputs": [],
   "source": [
    "top_10_epitopes = epitope_counts.index[:10]"
   ],
   "metadata": {
    "collapsed": false,
    "pycharm": {
     "name": "#%%\n"
    }
   }
  },
  {
   "cell_type": "code",
   "execution_count": 7,
   "outputs": [],
   "source": [
    "epitope = \"KLGGALQAK\""
   ],
   "metadata": {
    "collapsed": false,
    "pycharm": {
     "name": "#%%\n"
    }
   }
  },
  {
   "cell_type": "code",
   "execution_count": 8,
   "outputs": [
    {
     "data": {
      "text/plain": "   cid type  v\n0    1    A  1\n1    1    B  2\n2    2    B  3\n3    3    A  4",
      "text/html": "<div>\n<style scoped>\n    .dataframe tbody tr th:only-of-type {\n        vertical-align: middle;\n    }\n\n    .dataframe tbody tr th {\n        vertical-align: top;\n    }\n\n    .dataframe thead th {\n        text-align: right;\n    }\n</style>\n<table border=\"1\" class=\"dataframe\">\n  <thead>\n    <tr style=\"text-align: right;\">\n      <th></th>\n      <th>cid</th>\n      <th>type</th>\n      <th>v</th>\n    </tr>\n  </thead>\n  <tbody>\n    <tr>\n      <th>0</th>\n      <td>1</td>\n      <td>A</td>\n      <td>1</td>\n    </tr>\n    <tr>\n      <th>1</th>\n      <td>1</td>\n      <td>B</td>\n      <td>2</td>\n    </tr>\n    <tr>\n      <th>2</th>\n      <td>2</td>\n      <td>B</td>\n      <td>3</td>\n    </tr>\n    <tr>\n      <th>3</th>\n      <td>3</td>\n      <td>A</td>\n      <td>4</td>\n    </tr>\n  </tbody>\n</table>\n</div>"
     },
     "execution_count": 8,
     "metadata": {},
     "output_type": "execute_result"
    }
   ],
   "source": [
    "import pandas as pd\n",
    "\n",
    "test_data = {\"cid\": [1, 1, 2, 3],\n",
    "             \"type\": [\"A\", \"B\", \"B\", \"A\"],\n",
    "             \"v\": [1, 2, 3, 4]}\n",
    "test_df = pd.DataFrame(test_data)\n",
    "test_df"
   ],
   "metadata": {
    "collapsed": false,
    "pycharm": {
     "name": "#%%\n"
    }
   }
  },
  {
   "cell_type": "code",
   "execution_count": 9,
   "outputs": [
    {
     "data": {
      "text/plain": "   cid type_A  v_A type_B  v_B\n0    1      A  1.0      B  2.0\n1    3      A  4.0    NaN  NaN\n2    2    NaN  NaN      B  3.0",
      "text/html": "<div>\n<style scoped>\n    .dataframe tbody tr th:only-of-type {\n        vertical-align: middle;\n    }\n\n    .dataframe tbody tr th {\n        vertical-align: top;\n    }\n\n    .dataframe thead th {\n        text-align: right;\n    }\n</style>\n<table border=\"1\" class=\"dataframe\">\n  <thead>\n    <tr style=\"text-align: right;\">\n      <th></th>\n      <th>cid</th>\n      <th>type_A</th>\n      <th>v_A</th>\n      <th>type_B</th>\n      <th>v_B</th>\n    </tr>\n  </thead>\n  <tbody>\n    <tr>\n      <th>0</th>\n      <td>1</td>\n      <td>A</td>\n      <td>1.0</td>\n      <td>B</td>\n      <td>2.0</td>\n    </tr>\n    <tr>\n      <th>1</th>\n      <td>3</td>\n      <td>A</td>\n      <td>4.0</td>\n      <td>NaN</td>\n      <td>NaN</td>\n    </tr>\n    <tr>\n      <th>2</th>\n      <td>2</td>\n      <td>NaN</td>\n      <td>NaN</td>\n      <td>B</td>\n      <td>3.0</td>\n    </tr>\n  </tbody>\n</table>\n</div>"
     },
     "execution_count": 9,
     "metadata": {},
     "output_type": "execute_result"
    }
   ],
   "source": [
    "test_df_a = test_df[test_df[\"type\"] == \"A\"]\n",
    "test_df_b = test_df[test_df[\"type\"] == \"B\"]\n",
    "\n",
    "# df_new = test_df_a.join(test_df_b, on=\"cid\", how=\"outer\", lsuffix=\"_A\", rsuffix=\"_B\")\n",
    "df_new = test_df_a.merge(test_df_b, on=\"cid\", how=\"outer\", suffixes=(\"_A\", \"_B\"))\n",
    "df_new"
   ],
   "metadata": {
    "collapsed": false,
    "pycharm": {
     "name": "#%%\n"
    }
   }
  },
  {
   "cell_type": "code",
   "execution_count": 10,
   "outputs": [
    {
     "data": {
      "text/plain": "   complex.id gene_alfa       cdr3_alfa      v.segm_alfa j.segm_alfa  \\\n0           1       TRA   CIVRAPGRADMRF      TRAV26-1*01   TRAJ43*01   \n1           2       TRA  CAVPSGAGSYQLTF        TRAV20*01   TRAJ28*01   \n2           3       TRA     CAVKASGSRLT         TRAV2*01         NaN   \n3           4       TRA   CAYRPPGTYKYIF  TRAV38-2/DV8*01   TRAJ40*01   \n4           5       TRA   CIVRAPGRADMRF      TRAV26-1*01   TRAJ43*01   \n\n  species_alfa mhc.a_alfa mhc.b_alfa mhc.class_alfa antigen.epitope_alfa  ...  \\\n0  HomoSapiens   HLA-B*08        B2M           MHCI             FLKEKGGL  ...   \n1  HomoSapiens   HLA-B*08        B2M           MHCI             FLKEKGGL  ...   \n2  HomoSapiens   HLA-B*08        B2M           MHCI             FLKEKGGL  ...   \n3  HomoSapiens   HLA-B*08        B2M           MHCI             FLKEKGGL  ...   \n4  HomoSapiens   HLA-B*08        B2M           MHCI             FLKEQGGL  ...   \n\n  antigen.species_beta reference.id_beta  \\\n0                HIV-1     PMID:15596521   \n1                HIV-1     PMID:15596521   \n2                HIV-1     PMID:15596521   \n3                HIV-1     PMID:15596521   \n4                HIV-1     PMID:15596521   \n\n                                         method_beta  \\\n0  {\"frequency\": \"\", \"identification\": \"tetramer-...   \n1  {\"frequency\": \"\", \"identification\": \"tetramer-...   \n2  {\"frequency\": \"\", \"identification\": \"tetramer-...   \n3  {\"frequency\": \"\", \"identification\": \"tetramer-...   \n4  {\"frequency\": \"\", \"identification\": \"tetramer-...   \n\n                                           meta_beta  \\\n0  {\"cell.subset\": \"CD8+\", \"clone.id\": \"\", \"donor...   \n1  {\"cell.subset\": \"CD8+\", \"clone.id\": \"\", \"donor...   \n2  {\"cell.subset\": \"CD8+\", \"clone.id\": \"\", \"donor...   \n3  {\"cell.subset\": \"CD8+\", \"clone.id\": \"\", \"donor...   \n4  {\"cell.subset\": \"CD8+\", \"clone.id\": \"\", \"donor...   \n\n                                        cdr3fix_beta vdjdb.score_beta  \\\n0  {\"cdr3\": \"CASSYLPGQGDHYSNQPQHF\", \"cdr3_old\": \"...                2   \n1  {\"cdr3\": \"CASSFEPGQGFYSNQPQHF\", \"cdr3_old\": \"C...                2   \n2  {\"cdr3\": \"CASSYEPGQVSHYSNQPQHF\", \"cdr3_old\": \"...                2   \n3  {\"cdr3\": \"CASSALASLNEQFF\", \"cdr3_old\": \"CASSAL...                2   \n4  {\"cdr3\": \"CASSYLPGQGDHYSNQPQHF\", \"cdr3_old\": \"...                2   \n\n   web.method_beta web.method.seq_beta web.cdr3fix.nc_beta  \\\n0             sort              sanger                  no   \n1             sort              sanger                  no   \n2             sort              sanger                  no   \n3             sort              sanger                  no   \n4             sort              sanger                  no   \n\n  web.cdr3fix.unmp_beta  \n0                    no  \n1                    no  \n2                    no  \n3                    no  \n4                    no  \n\n[5 rows x 41 columns]",
      "text/html": "<div>\n<style scoped>\n    .dataframe tbody tr th:only-of-type {\n        vertical-align: middle;\n    }\n\n    .dataframe tbody tr th {\n        vertical-align: top;\n    }\n\n    .dataframe thead th {\n        text-align: right;\n    }\n</style>\n<table border=\"1\" class=\"dataframe\">\n  <thead>\n    <tr style=\"text-align: right;\">\n      <th></th>\n      <th>complex.id</th>\n      <th>gene_alfa</th>\n      <th>cdr3_alfa</th>\n      <th>v.segm_alfa</th>\n      <th>j.segm_alfa</th>\n      <th>species_alfa</th>\n      <th>mhc.a_alfa</th>\n      <th>mhc.b_alfa</th>\n      <th>mhc.class_alfa</th>\n      <th>antigen.epitope_alfa</th>\n      <th>...</th>\n      <th>antigen.species_beta</th>\n      <th>reference.id_beta</th>\n      <th>method_beta</th>\n      <th>meta_beta</th>\n      <th>cdr3fix_beta</th>\n      <th>vdjdb.score_beta</th>\n      <th>web.method_beta</th>\n      <th>web.method.seq_beta</th>\n      <th>web.cdr3fix.nc_beta</th>\n      <th>web.cdr3fix.unmp_beta</th>\n    </tr>\n  </thead>\n  <tbody>\n    <tr>\n      <th>0</th>\n      <td>1</td>\n      <td>TRA</td>\n      <td>CIVRAPGRADMRF</td>\n      <td>TRAV26-1*01</td>\n      <td>TRAJ43*01</td>\n      <td>HomoSapiens</td>\n      <td>HLA-B*08</td>\n      <td>B2M</td>\n      <td>MHCI</td>\n      <td>FLKEKGGL</td>\n      <td>...</td>\n      <td>HIV-1</td>\n      <td>PMID:15596521</td>\n      <td>{\"frequency\": \"\", \"identification\": \"tetramer-...</td>\n      <td>{\"cell.subset\": \"CD8+\", \"clone.id\": \"\", \"donor...</td>\n      <td>{\"cdr3\": \"CASSYLPGQGDHYSNQPQHF\", \"cdr3_old\": \"...</td>\n      <td>2</td>\n      <td>sort</td>\n      <td>sanger</td>\n      <td>no</td>\n      <td>no</td>\n    </tr>\n    <tr>\n      <th>1</th>\n      <td>2</td>\n      <td>TRA</td>\n      <td>CAVPSGAGSYQLTF</td>\n      <td>TRAV20*01</td>\n      <td>TRAJ28*01</td>\n      <td>HomoSapiens</td>\n      <td>HLA-B*08</td>\n      <td>B2M</td>\n      <td>MHCI</td>\n      <td>FLKEKGGL</td>\n      <td>...</td>\n      <td>HIV-1</td>\n      <td>PMID:15596521</td>\n      <td>{\"frequency\": \"\", \"identification\": \"tetramer-...</td>\n      <td>{\"cell.subset\": \"CD8+\", \"clone.id\": \"\", \"donor...</td>\n      <td>{\"cdr3\": \"CASSFEPGQGFYSNQPQHF\", \"cdr3_old\": \"C...</td>\n      <td>2</td>\n      <td>sort</td>\n      <td>sanger</td>\n      <td>no</td>\n      <td>no</td>\n    </tr>\n    <tr>\n      <th>2</th>\n      <td>3</td>\n      <td>TRA</td>\n      <td>CAVKASGSRLT</td>\n      <td>TRAV2*01</td>\n      <td>NaN</td>\n      <td>HomoSapiens</td>\n      <td>HLA-B*08</td>\n      <td>B2M</td>\n      <td>MHCI</td>\n      <td>FLKEKGGL</td>\n      <td>...</td>\n      <td>HIV-1</td>\n      <td>PMID:15596521</td>\n      <td>{\"frequency\": \"\", \"identification\": \"tetramer-...</td>\n      <td>{\"cell.subset\": \"CD8+\", \"clone.id\": \"\", \"donor...</td>\n      <td>{\"cdr3\": \"CASSYEPGQVSHYSNQPQHF\", \"cdr3_old\": \"...</td>\n      <td>2</td>\n      <td>sort</td>\n      <td>sanger</td>\n      <td>no</td>\n      <td>no</td>\n    </tr>\n    <tr>\n      <th>3</th>\n      <td>4</td>\n      <td>TRA</td>\n      <td>CAYRPPGTYKYIF</td>\n      <td>TRAV38-2/DV8*01</td>\n      <td>TRAJ40*01</td>\n      <td>HomoSapiens</td>\n      <td>HLA-B*08</td>\n      <td>B2M</td>\n      <td>MHCI</td>\n      <td>FLKEKGGL</td>\n      <td>...</td>\n      <td>HIV-1</td>\n      <td>PMID:15596521</td>\n      <td>{\"frequency\": \"\", \"identification\": \"tetramer-...</td>\n      <td>{\"cell.subset\": \"CD8+\", \"clone.id\": \"\", \"donor...</td>\n      <td>{\"cdr3\": \"CASSALASLNEQFF\", \"cdr3_old\": \"CASSAL...</td>\n      <td>2</td>\n      <td>sort</td>\n      <td>sanger</td>\n      <td>no</td>\n      <td>no</td>\n    </tr>\n    <tr>\n      <th>4</th>\n      <td>5</td>\n      <td>TRA</td>\n      <td>CIVRAPGRADMRF</td>\n      <td>TRAV26-1*01</td>\n      <td>TRAJ43*01</td>\n      <td>HomoSapiens</td>\n      <td>HLA-B*08</td>\n      <td>B2M</td>\n      <td>MHCI</td>\n      <td>FLKEQGGL</td>\n      <td>...</td>\n      <td>HIV-1</td>\n      <td>PMID:15596521</td>\n      <td>{\"frequency\": \"\", \"identification\": \"tetramer-...</td>\n      <td>{\"cell.subset\": \"CD8+\", \"clone.id\": \"\", \"donor...</td>\n      <td>{\"cdr3\": \"CASSYLPGQGDHYSNQPQHF\", \"cdr3_old\": \"...</td>\n      <td>2</td>\n      <td>sort</td>\n      <td>sanger</td>\n      <td>no</td>\n      <td>no</td>\n    </tr>\n  </tbody>\n</table>\n<p>5 rows × 41 columns</p>\n</div>"
     },
     "execution_count": 10,
     "metadata": {},
     "output_type": "execute_result"
    }
   ],
   "source": [
    "df_vdjdb_cid_0 = df_vdjdb[df_vdjdb[\"complex.id\"] == 0]\n",
    "df_vdjdb_no_cid_0 = df_vdjdb.drop(df_vdjdb[df_vdjdb[\"complex.id\"] == 0].index)\n",
    "\n",
    "df_tra = df_vdjdb_no_cid_0[df_vdjdb_no_cid_0[\"gene\"] == \"TRA\"]\n",
    "df_trb = df_vdjdb_no_cid_0[df_vdjdb_no_cid_0[\"gene\"] == \"TRB\"]\n",
    "\n",
    "df_new = df_tra.merge(df_trb, on=\"complex.id\", how=\"outer\", suffixes=(\"_alfa\", \"_beta\"))\n",
    "df_new.head()"
   ],
   "metadata": {
    "collapsed": false,
    "pycharm": {
     "name": "#%%\n"
    }
   }
  },
  {
   "cell_type": "markdown",
   "source": [
    "Gemiddelde\n",
    "bij\n",
    "random\n",
    "forest\n",
    "Onehot\n",
    "encode\n",
    "family\n",
    "en / of\n",
    "geheel, niet\n",
    "version\n",
    "Nearesgt\n",
    "neighbors\n",
    "van\n",
    "5\n",
    "betas, daarvoor\n",
    "gemiddelde\n",
    "alfas\n",
    "RF\n",
    "tree\n",
    "alle\n",
    "takken\n",
    "en\n",
    "gemiddelde, eerst\n",
    "gewone in Python\n",
    "Diff\n",
    "epitope: vdjdb_full\n",
    "bevat\n",
    "al\n",
    "gecombineerd, niet\n",
    "zelf\n",
    "incompleet\n",
    "maken.Dat\n",
    "er\n",
    "een\n",
    "verschil is tussen\n",
    "complete\n",
    "incompleet\n",
    "maken\n",
    "zeker\n",
    "vermelden in thesis\n",
    "\n",
    "Gemiddelde bij random forest Onehot encode family en / of geheel, niet version Nearesgt neighbors van 5 betas, daarvoor gemiddelde alfas RF tree alle takken en gemiddelde, eerst gewone in Python Diff epitope: vdjdb_full bevat al gecombineerd, niet zelf incompleet maken.Dat er een verschil is tussen complete incompleet maken zeker vermelden in thesis"
   ],
   "metadata": {
    "collapsed": false,
    "pycharm": {
     "name": "#%% md\n"
    }
   }
  },
  {
   "cell_type": "markdown",
   "source": [
    "Except for 0, they all occur at most twice, so I guess same complex means the alpha and beta belong together."
   ],
   "metadata": {
    "collapsed": false,
    "pycharm": {
     "name": "#%% md\n"
    }
   }
  },
  {
   "cell_type": "code",
   "execution_count": null,
   "outputs": [],
   "source": [
    "top_10_epitopes = epitope_counts.index[:10]"
   ],
   "metadata": {
    "collapsed": false,
    "pycharm": {
     "name": "#%%\n"
    }
   }
  },
  {
   "cell_type": "code",
   "execution_count": null,
   "outputs": [],
   "source": [
    "epitope = \"KLGGALQAK\""
   ],
   "metadata": {
    "collapsed": false,
    "pycharm": {
     "name": "#%%\n"
    }
   }
  },
  {
   "cell_type": "code",
   "execution_count": null,
   "outputs": [],
   "source": [
    "import pandas as pd\n",
    "\n",
    "test_data = {\"cid\": [1, 1, 2, 3],\n",
    "             \"type\": [\"A\", \"B\", \"B\", \"A\"],\n",
    "             \"v\": [1, 2, 3, 4]}\n",
    "test_df = pd.DataFrame(test_data)\n",
    "test_df"
   ],
   "metadata": {
    "collapsed": false,
    "pycharm": {
     "name": "#%%\n"
    }
   }
  },
  {
   "cell_type": "code",
   "execution_count": null,
   "outputs": [],
   "source": [
    "test_df_a = test_df[test_df[\"type\"] == \"A\"]\n",
    "test_df_b = test_df[test_df[\"type\"] == \"B\"]\n",
    "\n",
    "# df_new = test_df_a.join(test_df_b, on=\"cid\", how=\"outer\", lsuffix=\"_A\", rsuffix=\"_B\")\n",
    "df_new = test_df_a.merge(test_df_b, on=\"cid\", how=\"outer\", suffixes=(\"_A\", \"_B\"))\n",
    "df_new"
   ],
   "metadata": {
    "collapsed": false,
    "pycharm": {
     "name": "#%%\n"
    }
   }
  },
  {
   "cell_type": "code",
   "execution_count": null,
   "outputs": [],
   "source": [
    "df_vdjdb_cid_0 = df_vdjdb[df_vdjdb[\"complex.id\"] == 0]\n",
    "df_vdjdb_no_cid_0 = df_vdjdb.drop(df_vdjdb[df_vdjdb[\"complex.id\"] == 0].index)\n",
    "\n",
    "df_tra = df_vdjdb_no_cid_0[df_vdjdb_no_cid_0[\"gene\"] == \"TRA\"]\n",
    "df_trb = df_vdjdb_no_cid_0[df_vdjdb_no_cid_0[\"gene\"] == \"TRB\"]\n",
    "\n",
    "df_new = df_tra.merge(df_trb, on=\"complex.id\", how=\"outer\", suffixes=(\"_alfa\", \"_beta\"))\n",
    "df_new.head()"
   ],
   "metadata": {
    "collapsed": false,
    "pycharm": {
     "name": "#%%\n"
    }
   }
  },
  {
   "cell_type": "markdown",
   "source": [
    "Gemiddelde bij random forest\n",
    "Onehot encode family en/of geheel, niet version -> OK (Notebook 15 overzicht van resultaten, beste mss wel nog standard gebruiken in de data.py? Resultaten zijn geensignificant verschil)\n",
    "Nearesgt neighbors van 5 betas, daarvoor gemiddelde alfas -> OK (resultaten ni echt een verbetering eigenlijk)\n",
    "RF tree alle takken en gemiddelde, eerst gewone in Python\n",
    "Diff epitope: vdjdb_full bevat al gecombineerd, niet zelf incompleet maken. Dat er een verschil is tussen complete incompleet maken zeker vermelden in thesis"
   ],
   "metadata": {
    "collapsed": false,
    "pycharm": {
     "name": "#%% md\n"
    }
   }
  },
  {
   "cell_type": "markdown",
   "source": [],
   "metadata": {
    "collapsed": false,
    "pycharm": {
     "name": "#%% md\n"
    }
   }
  },
  {
   "cell_type": "markdown",
   "source": [
    "Appearently I don't need to combine the datasets myself, vdjdb_full already contains the combined data, so let's continue with that."
   ],
   "metadata": {
    "collapsed": false,
    "pycharm": {
     "name": "#%% md\n"
    }
   }
  },
  {
   "cell_type": "code",
   "execution_count": 1,
   "outputs": [
    {
     "name": "stderr",
     "output_type": "stream",
     "text": [
      "C:\\Users\\arnod\\AppData\\Local\\Programs\\Python\\Python39\\lib\\site-packages\\IPython\\core\\interactiveshell.py:3457: DtypeWarning: Columns (20,29,30) have mixed types.Specify dtype option on import or set low_memory=False.\n",
      "  exec(code_obj, self.user_global_ns, self.user_ns)\n"
     ]
    },
    {
     "data": {
      "text/plain": "       cdr3.alpha          v.alpha    j.alpha             cdr3.beta  \\\n0   CIVRAPGRADMRF      TRAV26-1*01  TRAJ43*01  CASSYLPGQGDHYSNQPQHF   \n1             NaN              NaN        NaN   CASSFEAGQGFFSNQPQHF   \n2  CAVPSGAGSYQLTF        TRAV20*01  TRAJ28*01   CASSFEPGQGFYSNQPQHF   \n3     CAVKASGSRLT         TRAV2*01        NaN  CASSYEPGQVSHYSNQPQHF   \n4   CAYRPPGTYKYIF  TRAV38-2/DV8*01  TRAJ40*01        CASSALASLNEQFF   \n\n      v.beta d.beta      j.beta      species     mhc.a mhc.b  ...  \\\n0  TRBV13*01    NaN  TRBJ1-5*01  HomoSapiens  HLA-B*08   B2M  ...   \n1  TRBV13*01    NaN  TRBJ1-5*01  HomoSapiens  HLA-B*08   B2M  ...   \n2  TRBV13*01    NaN  TRBJ1-5*01  HomoSapiens  HLA-B*08   B2M  ...   \n3  TRBV13*01    NaN  TRBJ1-5*01  HomoSapiens  HLA-B*08   B2M  ...   \n4  TRBV14*01    NaN  TRBJ2-1*01  HomoSapiens  HLA-B*08   B2M  ...   \n\n  meta.replica.id meta.clone.id meta.epitope.id meta.tissue  \\\n0             NaN           NaN             NaN        PBMC   \n1             NaN           NaN             NaN        PBMC   \n2             NaN           NaN             NaN        PBMC   \n3             NaN           NaN             NaN        PBMC   \n4             NaN           NaN             NaN        PBMC   \n\n                                      meta.donor.MHC meta.donor.MHC.method  \\\n0  HLA-A*02:01,HLA-A*24:02;HLA-B*08:01,HLA-B*5701...                   NaN   \n1  HLA-A*01:01,HLA-A*02:01;HLA-B*08:01,HLA-B*57:0...                   NaN   \n2  HLA-A*02,HLA-A*24:02;HLA-B*08:01,HLA-B*15;HLA-...                   NaN   \n3  HLA-A*01:01,HLA-A*02:01;HLA-B*08:01,HLA-B*57:0...                   NaN   \n4  HLA-A*01:01,HLA-A*02:01;HLA-B*08:01,HLA-B*57:0...                   NaN   \n\n  meta.structure.id                                      cdr3fix.alpha  \\\n0               NaN  {\"cdr3\": \"CIVRAPGRADMRF\", \"cdr3_old\": \"CIVRAPG...   \n1               NaN                                                NaN   \n2               NaN  {\"cdr3\": \"CAVPSGAGSYQLTF\", \"cdr3_old\": \"CAVPSG...   \n3               NaN  {\"cdr3\": \"CAVKASGSRLT\", \"cdr3_old\": \"CAVKASGSR...   \n4               NaN  {\"cdr3\": \"CAYRPPGTYKYIF\", \"cdr3_old\": \"CAYRPPG...   \n\n                                        cdr3fix.beta vdjdb.score  \n0  {\"cdr3\": \"CASSYLPGQGDHYSNQPQHF\", \"cdr3_old\": \"...           2  \n1  {\"cdr3\": \"CASSFEAGQGFFSNQPQHF\", \"cdr3_old\": \"C...           2  \n2  {\"cdr3\": \"CASSFEPGQGFYSNQPQHF\", \"cdr3_old\": \"C...           2  \n3  {\"cdr3\": \"CASSYEPGQVSHYSNQPQHF\", \"cdr3_old\": \"...           2  \n4  {\"cdr3\": \"CASSALASLNEQFF\", \"cdr3_old\": \"CASSAL...           2  \n\n[5 rows x 34 columns]",
      "text/html": "<div>\n<style scoped>\n    .dataframe tbody tr th:only-of-type {\n        vertical-align: middle;\n    }\n\n    .dataframe tbody tr th {\n        vertical-align: top;\n    }\n\n    .dataframe thead th {\n        text-align: right;\n    }\n</style>\n<table border=\"1\" class=\"dataframe\">\n  <thead>\n    <tr style=\"text-align: right;\">\n      <th></th>\n      <th>cdr3.alpha</th>\n      <th>v.alpha</th>\n      <th>j.alpha</th>\n      <th>cdr3.beta</th>\n      <th>v.beta</th>\n      <th>d.beta</th>\n      <th>j.beta</th>\n      <th>species</th>\n      <th>mhc.a</th>\n      <th>mhc.b</th>\n      <th>...</th>\n      <th>meta.replica.id</th>\n      <th>meta.clone.id</th>\n      <th>meta.epitope.id</th>\n      <th>meta.tissue</th>\n      <th>meta.donor.MHC</th>\n      <th>meta.donor.MHC.method</th>\n      <th>meta.structure.id</th>\n      <th>cdr3fix.alpha</th>\n      <th>cdr3fix.beta</th>\n      <th>vdjdb.score</th>\n    </tr>\n  </thead>\n  <tbody>\n    <tr>\n      <th>0</th>\n      <td>CIVRAPGRADMRF</td>\n      <td>TRAV26-1*01</td>\n      <td>TRAJ43*01</td>\n      <td>CASSYLPGQGDHYSNQPQHF</td>\n      <td>TRBV13*01</td>\n      <td>NaN</td>\n      <td>TRBJ1-5*01</td>\n      <td>HomoSapiens</td>\n      <td>HLA-B*08</td>\n      <td>B2M</td>\n      <td>...</td>\n      <td>NaN</td>\n      <td>NaN</td>\n      <td>NaN</td>\n      <td>PBMC</td>\n      <td>HLA-A*02:01,HLA-A*24:02;HLA-B*08:01,HLA-B*5701...</td>\n      <td>NaN</td>\n      <td>NaN</td>\n      <td>{\"cdr3\": \"CIVRAPGRADMRF\", \"cdr3_old\": \"CIVRAPG...</td>\n      <td>{\"cdr3\": \"CASSYLPGQGDHYSNQPQHF\", \"cdr3_old\": \"...</td>\n      <td>2</td>\n    </tr>\n    <tr>\n      <th>1</th>\n      <td>NaN</td>\n      <td>NaN</td>\n      <td>NaN</td>\n      <td>CASSFEAGQGFFSNQPQHF</td>\n      <td>TRBV13*01</td>\n      <td>NaN</td>\n      <td>TRBJ1-5*01</td>\n      <td>HomoSapiens</td>\n      <td>HLA-B*08</td>\n      <td>B2M</td>\n      <td>...</td>\n      <td>NaN</td>\n      <td>NaN</td>\n      <td>NaN</td>\n      <td>PBMC</td>\n      <td>HLA-A*01:01,HLA-A*02:01;HLA-B*08:01,HLA-B*57:0...</td>\n      <td>NaN</td>\n      <td>NaN</td>\n      <td>NaN</td>\n      <td>{\"cdr3\": \"CASSFEAGQGFFSNQPQHF\", \"cdr3_old\": \"C...</td>\n      <td>2</td>\n    </tr>\n    <tr>\n      <th>2</th>\n      <td>CAVPSGAGSYQLTF</td>\n      <td>TRAV20*01</td>\n      <td>TRAJ28*01</td>\n      <td>CASSFEPGQGFYSNQPQHF</td>\n      <td>TRBV13*01</td>\n      <td>NaN</td>\n      <td>TRBJ1-5*01</td>\n      <td>HomoSapiens</td>\n      <td>HLA-B*08</td>\n      <td>B2M</td>\n      <td>...</td>\n      <td>NaN</td>\n      <td>NaN</td>\n      <td>NaN</td>\n      <td>PBMC</td>\n      <td>HLA-A*02,HLA-A*24:02;HLA-B*08:01,HLA-B*15;HLA-...</td>\n      <td>NaN</td>\n      <td>NaN</td>\n      <td>{\"cdr3\": \"CAVPSGAGSYQLTF\", \"cdr3_old\": \"CAVPSG...</td>\n      <td>{\"cdr3\": \"CASSFEPGQGFYSNQPQHF\", \"cdr3_old\": \"C...</td>\n      <td>2</td>\n    </tr>\n    <tr>\n      <th>3</th>\n      <td>CAVKASGSRLT</td>\n      <td>TRAV2*01</td>\n      <td>NaN</td>\n      <td>CASSYEPGQVSHYSNQPQHF</td>\n      <td>TRBV13*01</td>\n      <td>NaN</td>\n      <td>TRBJ1-5*01</td>\n      <td>HomoSapiens</td>\n      <td>HLA-B*08</td>\n      <td>B2M</td>\n      <td>...</td>\n      <td>NaN</td>\n      <td>NaN</td>\n      <td>NaN</td>\n      <td>PBMC</td>\n      <td>HLA-A*01:01,HLA-A*02:01;HLA-B*08:01,HLA-B*57:0...</td>\n      <td>NaN</td>\n      <td>NaN</td>\n      <td>{\"cdr3\": \"CAVKASGSRLT\", \"cdr3_old\": \"CAVKASGSR...</td>\n      <td>{\"cdr3\": \"CASSYEPGQVSHYSNQPQHF\", \"cdr3_old\": \"...</td>\n      <td>2</td>\n    </tr>\n    <tr>\n      <th>4</th>\n      <td>CAYRPPGTYKYIF</td>\n      <td>TRAV38-2/DV8*01</td>\n      <td>TRAJ40*01</td>\n      <td>CASSALASLNEQFF</td>\n      <td>TRBV14*01</td>\n      <td>NaN</td>\n      <td>TRBJ2-1*01</td>\n      <td>HomoSapiens</td>\n      <td>HLA-B*08</td>\n      <td>B2M</td>\n      <td>...</td>\n      <td>NaN</td>\n      <td>NaN</td>\n      <td>NaN</td>\n      <td>PBMC</td>\n      <td>HLA-A*01:01,HLA-A*02:01;HLA-B*08:01,HLA-B*57:0...</td>\n      <td>NaN</td>\n      <td>NaN</td>\n      <td>{\"cdr3\": \"CAYRPPGTYKYIF\", \"cdr3_old\": \"CAYRPPG...</td>\n      <td>{\"cdr3\": \"CASSALASLNEQFF\", \"cdr3_old\": \"CASSAL...</td>\n      <td>2</td>\n    </tr>\n  </tbody>\n</table>\n<p>5 rows × 34 columns</p>\n</div>"
     },
     "execution_count": 1,
     "metadata": {},
     "output_type": "execute_result"
    }
   ],
   "source": [
    "import pandas as pd\n",
    "\n",
    "df_vdjdb = pd.read_csv('data/vdjdb-2022-03-30/vdjdb_full.txt', sep='\\t')\n",
    "df_vdjdb.head()"
   ],
   "metadata": {
    "collapsed": false,
    "pycharm": {
     "name": "#%%\n"
    }
   }
  },
  {
   "cell_type": "code",
   "execution_count": 2,
   "outputs": [
    {
     "data": {
      "text/plain": "    epitope       CDR3_alfa             TRAV       TRAJ             CDR3_beta  \\\n0  FLKEKGGL   CIVRAPGRADMRF      TRAV26-1*01  TRAJ43*01  CASSYLPGQGDHYSNQPQHF   \n1  FLKEKGGL             NaN              NaN        NaN   CASSFEAGQGFFSNQPQHF   \n2  FLKEKGGL  CAVPSGAGSYQLTF        TRAV20*01  TRAJ28*01   CASSFEPGQGFYSNQPQHF   \n3  FLKEKGGL     CAVKASGSRLT         TRAV2*01        NaN  CASSYEPGQVSHYSNQPQHF   \n4  FLKEKGGL   CAYRPPGTYKYIF  TRAV38-2/DV8*01  TRAJ40*01        CASSALASLNEQFF   \n\n        TRBV        TRBJ  \n0  TRBV13*01  TRBJ1-5*01  \n1  TRBV13*01  TRBJ1-5*01  \n2  TRBV13*01  TRBJ1-5*01  \n3  TRBV13*01  TRBJ1-5*01  \n4  TRBV14*01  TRBJ2-1*01  ",
      "text/html": "<div>\n<style scoped>\n    .dataframe tbody tr th:only-of-type {\n        vertical-align: middle;\n    }\n\n    .dataframe tbody tr th {\n        vertical-align: top;\n    }\n\n    .dataframe thead th {\n        text-align: right;\n    }\n</style>\n<table border=\"1\" class=\"dataframe\">\n  <thead>\n    <tr style=\"text-align: right;\">\n      <th></th>\n      <th>epitope</th>\n      <th>CDR3_alfa</th>\n      <th>TRAV</th>\n      <th>TRAJ</th>\n      <th>CDR3_beta</th>\n      <th>TRBV</th>\n      <th>TRBJ</th>\n    </tr>\n  </thead>\n  <tbody>\n    <tr>\n      <th>0</th>\n      <td>FLKEKGGL</td>\n      <td>CIVRAPGRADMRF</td>\n      <td>TRAV26-1*01</td>\n      <td>TRAJ43*01</td>\n      <td>CASSYLPGQGDHYSNQPQHF</td>\n      <td>TRBV13*01</td>\n      <td>TRBJ1-5*01</td>\n    </tr>\n    <tr>\n      <th>1</th>\n      <td>FLKEKGGL</td>\n      <td>NaN</td>\n      <td>NaN</td>\n      <td>NaN</td>\n      <td>CASSFEAGQGFFSNQPQHF</td>\n      <td>TRBV13*01</td>\n      <td>TRBJ1-5*01</td>\n    </tr>\n    <tr>\n      <th>2</th>\n      <td>FLKEKGGL</td>\n      <td>CAVPSGAGSYQLTF</td>\n      <td>TRAV20*01</td>\n      <td>TRAJ28*01</td>\n      <td>CASSFEPGQGFYSNQPQHF</td>\n      <td>TRBV13*01</td>\n      <td>TRBJ1-5*01</td>\n    </tr>\n    <tr>\n      <th>3</th>\n      <td>FLKEKGGL</td>\n      <td>CAVKASGSRLT</td>\n      <td>TRAV2*01</td>\n      <td>NaN</td>\n      <td>CASSYEPGQVSHYSNQPQHF</td>\n      <td>TRBV13*01</td>\n      <td>TRBJ1-5*01</td>\n    </tr>\n    <tr>\n      <th>4</th>\n      <td>FLKEKGGL</td>\n      <td>CAYRPPGTYKYIF</td>\n      <td>TRAV38-2/DV8*01</td>\n      <td>TRAJ40*01</td>\n      <td>CASSALASLNEQFF</td>\n      <td>TRBV14*01</td>\n      <td>TRBJ2-1*01</td>\n    </tr>\n  </tbody>\n</table>\n</div>"
     },
     "execution_count": 2,
     "metadata": {},
     "output_type": "execute_result"
    }
   ],
   "source": [
    "rename_columns = {\n",
    "    'antigen.epitope': 'epitope',\n",
    "    'cdr3.alpha': 'CDR3_alfa',\n",
    "    'v.alpha': 'TRAV',\n",
    "    'j.alpha': 'TRAJ',\n",
    "    'cdr3.beta': 'CDR3_beta',\n",
    "    'v.beta': 'TRBV',\n",
    "    'j.beta': 'TRBJ',\n",
    "}\n",
    "\n",
    "df_vdjdb = df_vdjdb.rename(columns=rename_columns)\n",
    "df_vdjdb = df_vdjdb[rename_columns.values()]\n",
    "df_vdjdb.head()"
   ],
   "metadata": {
    "collapsed": false,
    "pycharm": {
     "name": "#%%\n"
    }
   }
  },
  {
   "cell_type": "code",
   "execution_count": 3,
   "outputs": [
    {
     "name": "stdout",
     "output_type": "stream",
     "text": [
      "Number of unique epitopes: 1150\n"
     ]
    },
    {
     "data": {
      "text/plain": "KLGGALQAK     13974\nGILGFVFTL      7830\nNLVPMVATV      7392\nELAGIGILTV     2284\nAVFDRKSDAK     1782\nRAKFKQLL       1498\nGLCTLVAML      1463\nYLQPRTFLL      1326\nTTPESANL        960\nCTPYDINQM       847\nName: epitope, dtype: int64"
     },
     "execution_count": 3,
     "metadata": {},
     "output_type": "execute_result"
    }
   ],
   "source": [
    "# Get the number of unique antigen.epitope\n",
    "epitopes = df_vdjdb['epitope'].unique()\n",
    "print(f'Number of unique epitopes: {len(epitopes)}')\n",
    "\n",
    "# Get the top 10 most occuring epitopes\n",
    "epitope_counts = df_vdjdb['epitope'].value_counts()\n",
    "most_occuring_epitopes = epitope_counts.head(10)\n",
    "most_occuring_epitopes"
   ],
   "metadata": {
    "collapsed": false,
    "pycharm": {
     "name": "#%%\n"
    }
   }
  },
  {
   "cell_type": "code",
   "execution_count": 4,
   "outputs": [],
   "source": [
    "current_epitope = \"KLGGALQAK\"\n",
    "# Need to try another epitope, since with this epitope, I get:\n",
    "#  Positive samples: alpha only: 0, beta only: 0, both: 13974, none: 0\n",
    "#  Negative samples: alpha only: 6712, beta only: 23171, both: 10904, none: 0\n",
    "# So there aren't enough negative complete samples to get the same distributions\n",
    "# A possible solution would be to drop some positive samples,\n",
    "#  however, I didn't do that, since there are no missing samples, so this epitope is irrelevant for the thesis\n",
    "\n",
    "# heeft problemnin dataset, wel als negatief"
   ],
   "metadata": {
    "collapsed": false,
    "pycharm": {
     "name": "#%%\n"
    }
   }
  },
  {
   "cell_type": "code",
   "execution_count": 5,
   "outputs": [],
   "source": [
    "current_epitope = \"GILGFVFTL\"\n",
    "\n",
    "positive_samples = df_vdjdb[df_vdjdb['epitope'] == current_epitope]\n",
    "negative_samples = df_vdjdb[df_vdjdb['epitope'] != current_epitope]\n",
    "\n",
    "\n",
    "# Remove items from negative_samples that are in positive_samples\n",
    "def remove_items_occuring_in_other_column(df1, column_to_remove, df2, column_to_check):\n",
    "    \"\"\"Remove all items from column_to_remove that occur in column_to_check\"\"\"\n",
    "    items_to_remove = df2[column_to_check].unique()\n",
    "\n",
    "    # remove NaN values\n",
    "    items_to_remove = items_to_remove[~pd.isnull(items_to_remove)]\n",
    "\n",
    "    df = df1[~df1[column_to_remove].isin(items_to_remove)]\n",
    "    return df\n",
    "\n",
    "\n",
    "def remove_negative_positive_cdr3_overlap(negative_samples, positive_samples):\n",
    "    previous_len = len(negative_samples)\n",
    "\n",
    "    negative_samples = remove_items_occuring_in_other_column(negative_samples, 'CDR3_alfa', positive_samples,\n",
    "                                                             'CDR3_alfa')\n",
    "    negative_samples = remove_items_occuring_in_other_column(negative_samples, 'CDR3_beta', positive_samples,\n",
    "                                                             'CDR3_beta')\n",
    "\n",
    "    # TOASK: Are the options below possible (Number of negative samples changed from 52225 to 24444 for GIL)\n",
    "    # negative_samples = remove_items_occuring_in_other_column(negative_samples, 'CDR3_alfa', positive_samples,\n",
    "    #                                                          'CDR3_beta')\n",
    "    # negative_samples = remove_items_occuring_in_other_column(negative_samples, 'CDR3_beta', positive_samples,\n",
    "    #                                                          'CDR3_alfa')\n",
    "\n",
    "    if len(negative_samples) != previous_len:\n",
    "        print(f'Number of negative samples changed from {previous_len} to {len(negative_samples)}')\n",
    "\n",
    "    return negative_samples"
   ],
   "metadata": {
    "collapsed": false,
    "pycharm": {
     "name": "#%%\n"
    }
   }
  },
  {
   "cell_type": "code",
   "execution_count": 11,
   "outputs": [
    {
     "name": "stdout",
     "output_type": "stream",
     "text": [
      "Number of negative samples changed from 52225 to 49395\n"
     ]
    }
   ],
   "source": [
    "negative_samples = remove_negative_positive_cdr3_overlap(negative_samples, positive_samples)"
   ],
   "metadata": {
    "collapsed": false,
    "pycharm": {
     "name": "#%%\n"
    }
   }
  },
  {
   "cell_type": "code",
   "execution_count": 6,
   "outputs": [],
   "source": [
    "# get the counts of positive dataset containing alpha, beta and both (so the number of columns where it's not NaN)\n",
    "def filter_df(df, alpha_not_nan, beta_not_nan):\n",
    "    alpha_condition = df['CDR3_alfa'].notna() if alpha_not_nan else df['CDR3_alfa'].isna()\n",
    "    beta_condition = df['CDR3_beta'].notna() if beta_not_nan else df['CDR3_beta'].isna()\n",
    "    return df[alpha_condition & beta_condition]\n",
    "\n",
    "\n",
    "def get_counts(positive_samples):\n",
    "    alpha_only_count_pos = len(filter_df(positive_samples, alpha_not_nan=True, beta_not_nan=False))\n",
    "    beta_only_count_pos = len(filter_df(positive_samples, alpha_not_nan=False, beta_not_nan=True))\n",
    "    both_count_pos = len(filter_df(positive_samples, alpha_not_nan=True, beta_not_nan=True))\n",
    "    non_count_pos = len(filter_df(positive_samples, alpha_not_nan=False, beta_not_nan=False))\n",
    "    return alpha_only_count_pos, beta_only_count_pos, both_count_pos, non_count_pos"
   ],
   "metadata": {
    "collapsed": false,
    "pycharm": {
     "name": "#%%\n"
    }
   }
  },
  {
   "cell_type": "code",
   "execution_count": 13,
   "outputs": [
    {
     "name": "stdout",
     "output_type": "stream",
     "text": [
      "Positive samples: alpha only: 2580, beta only: 3056, both: 2194, none: 0\n"
     ]
    }
   ],
   "source": [
    "alpha_only_count_pos, beta_only_count_pos, both_count_pos, non_count_pos = get_counts(positive_samples)\n",
    "print(\n",
    "    f'Positive samples: alpha only: {alpha_only_count_pos}, beta only: {beta_only_count_pos}, both: {both_count_pos}, none: {non_count_pos}')"
   ],
   "metadata": {
    "collapsed": false,
    "pycharm": {
     "name": "#%%\n"
    }
   }
  },
  {
   "cell_type": "code",
   "execution_count": 7,
   "outputs": [],
   "source": [
    "def get_negative_subsets(negative_samples):\n",
    "    negative_alpha_only = filter_df(negative_samples, alpha_not_nan=True, beta_not_nan=False)\n",
    "    negative_beta_only = filter_df(negative_samples, alpha_not_nan=False, beta_not_nan=True)\n",
    "    negative_both = filter_df(negative_samples, alpha_not_nan=True, beta_not_nan=True)\n",
    "    negative_none = filter_df(negative_samples, alpha_not_nan=False, beta_not_nan=False)\n",
    "    return negative_alpha_only, negative_beta_only, negative_both, negative_none\n"
   ],
   "metadata": {
    "collapsed": false,
    "pycharm": {
     "name": "#%%\n"
    }
   }
  },
  {
   "cell_type": "code",
   "execution_count": null,
   "outputs": [],
   "source": [
    "\n",
    "negative_alpha_only, negative_beta_only, negative_both, negative_none = get_negative_subsets(negative_samples)\n",
    "\n",
    "print(\n",
    "    f'Negative samples: alpha only: {len(negative_alpha_only)}, beta only: {len(negative_beta_only)}, both: {len(negative_both)}, none: {len(negative_none)}')"
   ],
   "metadata": {
    "collapsed": false,
    "pycharm": {
     "name": "#%%\n"
    }
   }
  },
  {
   "cell_type": "code",
   "execution_count": 8,
   "outputs": [],
   "source": [
    "# Create a custom exception for when there are not enough samples\n",
    "class NotEnoughSamplesException(Exception):\n",
    "    pass\n",
    "\n",
    "\n",
    "def get_negative_df(negative_alpha_only, negative_beta_only, negative_both, negative_none,\n",
    "                    alpha_only_count_pos, beta_only_count_pos, both_count_pos, non_count_pos):\n",
    "    try:\n",
    "        # Sample the negative samples to the same size as the positive samples\n",
    "        negative_df_alpha_only = negative_alpha_only.sample(n=alpha_only_count_pos, random_state=42)\n",
    "        negative_df_beta_only = negative_beta_only.sample(n=beta_only_count_pos, random_state=42)\n",
    "        negative_df_both = negative_both.sample(n=both_count_pos, random_state=42)\n",
    "        negative_df_none = negative_none.sample(n=non_count_pos, random_state=42)\n",
    "    except ValueError:\n",
    "        print('Not enough negative samples to sample from')\n",
    "        raise NotEnoughSamplesException()\n",
    "\n",
    "    negative_df = pd.concat([negative_df_alpha_only, negative_df_beta_only, negative_df_both, negative_df_none])\n",
    "    return negative_df"
   ],
   "metadata": {
    "collapsed": false,
    "pycharm": {
     "name": "#%%\n"
    }
   }
  },
  {
   "cell_type": "code",
   "execution_count": 16,
   "outputs": [],
   "source": [
    "negative_df = get_negative_df(negative_alpha_only, negative_beta_only, negative_both, negative_none,\n",
    "                              alpha_only_count_pos, beta_only_count_pos, both_count_pos, non_count_pos)"
   ],
   "metadata": {
    "collapsed": false,
    "pycharm": {
     "name": "#%%\n"
    }
   }
  },
  {
   "cell_type": "code",
   "execution_count": null,
   "outputs": [],
   "source": [
    "def combine_and_shuffle(positive_samples, negative_df):\n",
    "    # Combine positive_samples and negative_df and shuffle\n",
    "    df = pd.concat([positive_samples, negative_df])\n",
    "    df['reaction'] = df['epitope'].apply(lambda x: 1 if x == current_epitope else 0)\n",
    "    df = df.drop(columns=['epitope'])\n",
    "    df = df.sample(frac=1, random_state=42)\n",
    "    return df\n"
   ],
   "metadata": {
    "collapsed": false,
    "pycharm": {
     "name": "#%%\n"
    }
   }
  },
  {
   "cell_type": "code",
   "execution_count": null,
   "outputs": [],
   "source": [
    "df = combine_and_shuffle(positive_samples, negative_df)"
   ],
   "metadata": {
    "collapsed": false,
    "pycharm": {
     "name": "#%%\n"
    }
   }
  },
  {
   "cell_type": "code",
   "execution_count": 13,
   "outputs": [],
   "source": [
    "from util import split_gene_in_columns"
   ],
   "metadata": {
    "collapsed": false,
    "pycharm": {
     "name": "#%%\n"
    }
   }
  },
  {
   "cell_type": "code",
   "execution_count": null,
   "outputs": [],
   "source": [
    "split_gene_in_columns(df)\n",
    "df.head()"
   ],
   "metadata": {
    "collapsed": false,
    "pycharm": {
     "name": "#%%\n"
    }
   }
  },
  {
   "cell_type": "code",
   "execution_count": 19,
   "outputs": [],
   "source": [
    "from sklearn.model_selection import train_test_split\n",
    "\n",
    "train, test = train_test_split(df, test_size=0.2, random_state=42)\n",
    "test = test.dropna()"
   ],
   "metadata": {
    "collapsed": false,
    "pycharm": {
     "name": "#%%\n"
    }
   }
  },
  {
   "cell_type": "code",
   "execution_count": 20,
   "outputs": [
    {
     "data": {
      "text/plain": "           CDR3_alfa         TRAV       TRAJ        CDR3_beta       TRBV  \\\n52011            NaN          NaN        NaN  CASSWDRGDGDTQYF  TRBV28*01   \n24482  CAVSSDNTGKLIF   TRAV8-6*01  TRAJ37*01    CASSIRSNYEQYF  TRBV19*01   \n15023            NaN          NaN        NaN     CASSIGAWGYTF  TRBV19*01   \n21905     CARDDRKLIW    TRAV24*01  TRAJ38*01              NaN        NaN   \n7594    CAETYNFNKFYF  TRAV13-2*01  TRAJ21*01              NaN        NaN   \n\n             TRBJ  reaction TRAJ_family TRAJ_version TRAV_family TRAV_version  \\\n52011  TRBJ2-3*01         0         NaN          NaN         NaN          NaN   \n24482  TRBJ2-7*01         1      TRAJ37            1       TRAV8            6   \n15023  TRBJ1-2*01         1         NaN          NaN         NaN          NaN   \n21905         NaN         0      TRAJ38            1      TRAV24            1   \n7594          NaN         0      TRAJ21            1      TRAV13            2   \n\n      TRBV_family TRBV_version TRBJ_family TRBJ_version  \n52011      TRBV28            1       TRBJ2            3  \n24482      TRBV19            1       TRBJ2            7  \n15023      TRBV19            1       TRBJ1            2  \n21905         NaN          NaN         NaN          NaN  \n7594          NaN          NaN         NaN          NaN  ",
      "text/html": "<div>\n<style scoped>\n    .dataframe tbody tr th:only-of-type {\n        vertical-align: middle;\n    }\n\n    .dataframe tbody tr th {\n        vertical-align: top;\n    }\n\n    .dataframe thead th {\n        text-align: right;\n    }\n</style>\n<table border=\"1\" class=\"dataframe\">\n  <thead>\n    <tr style=\"text-align: right;\">\n      <th></th>\n      <th>CDR3_alfa</th>\n      <th>TRAV</th>\n      <th>TRAJ</th>\n      <th>CDR3_beta</th>\n      <th>TRBV</th>\n      <th>TRBJ</th>\n      <th>reaction</th>\n      <th>TRAJ_family</th>\n      <th>TRAJ_version</th>\n      <th>TRAV_family</th>\n      <th>TRAV_version</th>\n      <th>TRBV_family</th>\n      <th>TRBV_version</th>\n      <th>TRBJ_family</th>\n      <th>TRBJ_version</th>\n    </tr>\n  </thead>\n  <tbody>\n    <tr>\n      <th>52011</th>\n      <td>NaN</td>\n      <td>NaN</td>\n      <td>NaN</td>\n      <td>CASSWDRGDGDTQYF</td>\n      <td>TRBV28*01</td>\n      <td>TRBJ2-3*01</td>\n      <td>0</td>\n      <td>NaN</td>\n      <td>NaN</td>\n      <td>NaN</td>\n      <td>NaN</td>\n      <td>TRBV28</td>\n      <td>1</td>\n      <td>TRBJ2</td>\n      <td>3</td>\n    </tr>\n    <tr>\n      <th>24482</th>\n      <td>CAVSSDNTGKLIF</td>\n      <td>TRAV8-6*01</td>\n      <td>TRAJ37*01</td>\n      <td>CASSIRSNYEQYF</td>\n      <td>TRBV19*01</td>\n      <td>TRBJ2-7*01</td>\n      <td>1</td>\n      <td>TRAJ37</td>\n      <td>1</td>\n      <td>TRAV8</td>\n      <td>6</td>\n      <td>TRBV19</td>\n      <td>1</td>\n      <td>TRBJ2</td>\n      <td>7</td>\n    </tr>\n    <tr>\n      <th>15023</th>\n      <td>NaN</td>\n      <td>NaN</td>\n      <td>NaN</td>\n      <td>CASSIGAWGYTF</td>\n      <td>TRBV19*01</td>\n      <td>TRBJ1-2*01</td>\n      <td>1</td>\n      <td>NaN</td>\n      <td>NaN</td>\n      <td>NaN</td>\n      <td>NaN</td>\n      <td>TRBV19</td>\n      <td>1</td>\n      <td>TRBJ1</td>\n      <td>2</td>\n    </tr>\n    <tr>\n      <th>21905</th>\n      <td>CARDDRKLIW</td>\n      <td>TRAV24*01</td>\n      <td>TRAJ38*01</td>\n      <td>NaN</td>\n      <td>NaN</td>\n      <td>NaN</td>\n      <td>0</td>\n      <td>TRAJ38</td>\n      <td>1</td>\n      <td>TRAV24</td>\n      <td>1</td>\n      <td>NaN</td>\n      <td>NaN</td>\n      <td>NaN</td>\n      <td>NaN</td>\n    </tr>\n    <tr>\n      <th>7594</th>\n      <td>CAETYNFNKFYF</td>\n      <td>TRAV13-2*01</td>\n      <td>TRAJ21*01</td>\n      <td>NaN</td>\n      <td>NaN</td>\n      <td>NaN</td>\n      <td>0</td>\n      <td>TRAJ21</td>\n      <td>1</td>\n      <td>TRAV13</td>\n      <td>2</td>\n      <td>NaN</td>\n      <td>NaN</td>\n      <td>NaN</td>\n      <td>NaN</td>\n    </tr>\n  </tbody>\n</table>\n</div>"
     },
     "execution_count": 20,
     "metadata": {},
     "output_type": "execute_result"
    }
   ],
   "source": [
    "train.head()"
   ],
   "metadata": {
    "collapsed": false,
    "pycharm": {
     "name": "#%%\n"
    }
   }
  },
  {
   "cell_type": "code",
   "execution_count": 21,
   "outputs": [
    {
     "name": "stderr",
     "output_type": "stream",
     "text": [
      "C:\\Users\\arnod\\PycharmProjects\\thesis\\util\\classification.py:38: PerformanceWarning: DataFrame is highly fragmented.  This is usually the result of calling `frame.insert` many times, which has poor performance.  Consider joining all columns at once using pd.concat(axis=1) instead.  To get a de-fragmented frame, use `newframe = frame.copy()`\n",
      "  x_test[col] = 0 #np.nan  # TODO: NaN of 0? currently kept it at 0 to make clear it's not because the chain was missing\n"
     ]
    }
   ],
   "source": [
    "from util import get_features, fix_test\n",
    "\n",
    "train_y = train['reaction']\n",
    "test_y = test['reaction']\n",
    "train_x = get_features(train)\n",
    "test_x = get_features(test, test=True)\n",
    "test_x = fix_test(test_x, train_x.columns)"
   ],
   "metadata": {
    "collapsed": false,
    "pycharm": {
     "name": "#%%\n"
    }
   }
  },
  {
   "cell_type": "code",
   "execution_count": 22,
   "outputs": [
    {
     "name": "stdout",
     "output_type": "stream",
     "text": [
      "ROC AUC: 0.924\n"
     ]
    },
    {
     "data": {
      "text/plain": "0.9238734875527328"
     },
     "execution_count": 22,
     "metadata": {},
     "output_type": "execute_result"
    }
   ],
   "source": [
    "from util import evaluate_no_cv\n",
    "from sklearn.ensemble import HistGradientBoostingClassifier\n",
    "\n",
    "clf = HistGradientBoostingClassifier(random_state=42)\n",
    "evaluate_no_cv(clf, train_x, train_y, test_x, test_y)"
   ],
   "metadata": {
    "collapsed": false,
    "pycharm": {
     "name": "#%%\n"
    }
   }
  },
  {
   "cell_type": "code",
   "execution_count": 10,
   "outputs": [],
   "source": [
    "def get_epitope_df(epitope, silent=False):\n",
    "    positive_samples = df_vdjdb[df_vdjdb['epitope'] == epitope]\n",
    "    negative_samples = df_vdjdb[df_vdjdb['epitope'] != epitope]\n",
    "\n",
    "    negative_samples = remove_negative_positive_cdr3_overlap(negative_samples, positive_samples)\n",
    "\n",
    "    alpha_only_count_pos, beta_only_count_pos, both_count_pos, non_count_pos = get_counts(positive_samples)\n",
    "    print(\n",
    "        f'Positive samples: alpha only: {alpha_only_count_pos}, beta only: {beta_only_count_pos}, both: {both_count_pos}, none: {non_count_pos}') if not silent else None\n",
    "\n",
    "    negative_alpha_only, negative_beta_only, negative_both, negative_none = get_negative_subsets(negative_samples)\n",
    "    print(\n",
    "        f'Negative samples: alpha only: {len(negative_alpha_only)}, beta only: {len(negative_beta_only)}, both: {len(negative_both)}, none: {len(negative_none)}') if not silent else None\n",
    "\n",
    "    negative_df = get_negative_df(negative_alpha_only, negative_beta_only, negative_both, negative_none,\n",
    "                                  alpha_only_count_pos, beta_only_count_pos, both_count_pos, non_count_pos)\n",
    "\n",
    "    df = combine_and_shuffle(positive_samples, negative_df)\n",
    "\n",
    "    split_gene_in_columns(df)\n",
    "\n",
    "    return df"
   ],
   "metadata": {
    "collapsed": false,
    "pycharm": {
     "name": "#%%\n"
    }
   }
  },
  {
   "cell_type": "code",
   "execution_count": 24,
   "outputs": [
    {
     "name": "stdout",
     "output_type": "stream",
     "text": [
      "\n",
      "Evaluating eptiope KLGGALQAK...\n",
      "Number of negative samples changed from 46081 to 40787\n",
      "Not enough negative samples to sample from\n",
      "Error creating dataframe for epitope KLGGALQAK\n",
      "Number of negative samples changed from 46081 to 40787\n",
      "Not enough negative samples to sample from\n",
      "Error creating dataframe for epitope KLGGALQAK\n",
      "Number of negative samples changed from 46081 to 40787\n",
      "Not enough negative samples to sample from\n",
      "Error creating dataframe for epitope KLGGALQAK\n",
      "Number of negative samples changed from 46081 to 40787\n",
      "Not enough negative samples to sample from\n",
      "Error creating dataframe for epitope KLGGALQAK\n",
      "Number of negative samples changed from 46081 to 40787\n",
      "Not enough negative samples to sample from\n",
      "Error creating dataframe for epitope KLGGALQAK\n",
      "\n",
      "Evaluating eptiope GILGFVFTL...\n",
      "Number of negative samples changed from 52225 to 49395\n",
      "Warning: error splitting gene TRAV15-2/DV6-2*01, fixed to TRAV15-2\n",
      "Warning: error splitting gene TRAV15D-2/DV6D-2*01, fixed to TRAV15D-2\n",
      "Epitope has 15660 samples\n"
     ]
    },
    {
     "name": "stderr",
     "output_type": "stream",
     "text": [
      "C:\\Users\\arnod\\PycharmProjects\\thesis\\util\\classification.py:38: PerformanceWarning: DataFrame is highly fragmented.  This is usually the result of calling `frame.insert` many times, which has poor performance.  Consider joining all columns at once using pd.concat(axis=1) instead.  To get a de-fragmented frame, use `newframe = frame.copy()`\n",
      "  x_test[col] = 0 #np.nan  # TODO: NaN of 0? currently kept it at 0 to make clear it's not because the chain was missing\n"
     ]
    },
    {
     "name": "stdout",
     "output_type": "stream",
     "text": [
      "ROC AUC: 0.927\n",
      "Number of negative samples changed from 52225 to 49395\n",
      "Warning: error splitting gene TRAV15-2/DV6-2*01, fixed to TRAV15-2\n",
      "Warning: error splitting gene TRAV15D-2/DV6D-2*01, fixed to TRAV15D-2\n",
      "Epitope has 15660 samples\n"
     ]
    },
    {
     "name": "stderr",
     "output_type": "stream",
     "text": [
      "C:\\Users\\arnod\\PycharmProjects\\thesis\\util\\classification.py:38: PerformanceWarning: DataFrame is highly fragmented.  This is usually the result of calling `frame.insert` many times, which has poor performance.  Consider joining all columns at once using pd.concat(axis=1) instead.  To get a de-fragmented frame, use `newframe = frame.copy()`\n",
      "  x_test[col] = 0 #np.nan  # TODO: NaN of 0? currently kept it at 0 to make clear it's not because the chain was missing\n"
     ]
    },
    {
     "name": "stdout",
     "output_type": "stream",
     "text": [
      "ROC AUC: 0.925\n",
      "Number of negative samples changed from 52225 to 49395\n",
      "Warning: error splitting gene TRAV15-2/DV6-2*01, fixed to TRAV15-2\n",
      "Warning: error splitting gene TRAV15D-2/DV6D-2*01, fixed to TRAV15D-2\n",
      "Epitope has 15660 samples\n"
     ]
    },
    {
     "name": "stderr",
     "output_type": "stream",
     "text": [
      "C:\\Users\\arnod\\PycharmProjects\\thesis\\util\\classification.py:38: PerformanceWarning: DataFrame is highly fragmented.  This is usually the result of calling `frame.insert` many times, which has poor performance.  Consider joining all columns at once using pd.concat(axis=1) instead.  To get a de-fragmented frame, use `newframe = frame.copy()`\n",
      "  x_test[col] = 0 #np.nan  # TODO: NaN of 0? currently kept it at 0 to make clear it's not because the chain was missing\n"
     ]
    },
    {
     "name": "stdout",
     "output_type": "stream",
     "text": [
      "ROC AUC: 0.940\n",
      "Number of negative samples changed from 52225 to 49395\n",
      "Warning: error splitting gene TRAV15-2/DV6-2*01, fixed to TRAV15-2\n",
      "Warning: error splitting gene TRAV15D-2/DV6D-2*01, fixed to TRAV15D-2\n",
      "Epitope has 15660 samples\n"
     ]
    },
    {
     "name": "stderr",
     "output_type": "stream",
     "text": [
      "C:\\Users\\arnod\\PycharmProjects\\thesis\\util\\classification.py:38: PerformanceWarning: DataFrame is highly fragmented.  This is usually the result of calling `frame.insert` many times, which has poor performance.  Consider joining all columns at once using pd.concat(axis=1) instead.  To get a de-fragmented frame, use `newframe = frame.copy()`\n",
      "  x_test[col] = 0 #np.nan  # TODO: NaN of 0? currently kept it at 0 to make clear it's not because the chain was missing\n"
     ]
    },
    {
     "name": "stdout",
     "output_type": "stream",
     "text": [
      "ROC AUC: 0.939\n",
      "Number of negative samples changed from 52225 to 49395\n",
      "Warning: error splitting gene TRAV15-2/DV6-2*01, fixed to TRAV15-2\n",
      "Warning: error splitting gene TRAV15D-2/DV6D-2*01, fixed to TRAV15D-2\n"
     ]
    },
    {
     "name": "stderr",
     "output_type": "stream",
     "text": [
      "C:\\Users\\arnod\\PycharmProjects\\thesis\\util\\classification.py:38: PerformanceWarning: DataFrame is highly fragmented.  This is usually the result of calling `frame.insert` many times, which has poor performance.  Consider joining all columns at once using pd.concat(axis=1) instead.  To get a de-fragmented frame, use `newframe = frame.copy()`\n",
      "  x_test[col] = 0 #np.nan  # TODO: NaN of 0? currently kept it at 0 to make clear it's not because the chain was missing\n"
     ]
    },
    {
     "name": "stdout",
     "output_type": "stream",
     "text": [
      "Epitope has 15660 samples\n",
      "ROC AUC: 0.925\n",
      "\n",
      "Evaluating eptiope NLVPMVATV...\n",
      "Number of negative samples changed from 52663 to 51517\n"
     ]
    },
    {
     "name": "stderr",
     "output_type": "stream",
     "text": [
      "C:\\Users\\arnod\\PycharmProjects\\thesis\\util\\classification.py:38: PerformanceWarning: DataFrame is highly fragmented.  This is usually the result of calling `frame.insert` many times, which has poor performance.  Consider joining all columns at once using pd.concat(axis=1) instead.  To get a de-fragmented frame, use `newframe = frame.copy()`\n",
      "  x_test[col] = 0 #np.nan  # TODO: NaN of 0? currently kept it at 0 to make clear it's not because the chain was missing\n"
     ]
    },
    {
     "name": "stdout",
     "output_type": "stream",
     "text": [
      "Epitope has 14784 samples\n",
      "ROC AUC: 0.827\n",
      "Number of negative samples changed from 52663 to 51517\n",
      "Epitope has 14784 samples\n"
     ]
    },
    {
     "name": "stderr",
     "output_type": "stream",
     "text": [
      "C:\\Users\\arnod\\PycharmProjects\\thesis\\util\\classification.py:38: PerformanceWarning: DataFrame is highly fragmented.  This is usually the result of calling `frame.insert` many times, which has poor performance.  Consider joining all columns at once using pd.concat(axis=1) instead.  To get a de-fragmented frame, use `newframe = frame.copy()`\n",
      "  x_test[col] = 0 #np.nan  # TODO: NaN of 0? currently kept it at 0 to make clear it's not because the chain was missing\n"
     ]
    },
    {
     "name": "stdout",
     "output_type": "stream",
     "text": [
      "ROC AUC: 0.877\n",
      "Number of negative samples changed from 52663 to 51517\n",
      "Epitope has 14784 samples\n"
     ]
    },
    {
     "name": "stderr",
     "output_type": "stream",
     "text": [
      "C:\\Users\\arnod\\PycharmProjects\\thesis\\util\\classification.py:38: PerformanceWarning: DataFrame is highly fragmented.  This is usually the result of calling `frame.insert` many times, which has poor performance.  Consider joining all columns at once using pd.concat(axis=1) instead.  To get a de-fragmented frame, use `newframe = frame.copy()`\n",
      "  x_test[col] = 0 #np.nan  # TODO: NaN of 0? currently kept it at 0 to make clear it's not because the chain was missing\n"
     ]
    },
    {
     "name": "stdout",
     "output_type": "stream",
     "text": [
      "ROC AUC: 0.918\n",
      "Number of negative samples changed from 52663 to 51517\n",
      "Epitope has 14784 samples\n"
     ]
    },
    {
     "name": "stderr",
     "output_type": "stream",
     "text": [
      "C:\\Users\\arnod\\PycharmProjects\\thesis\\util\\classification.py:38: PerformanceWarning: DataFrame is highly fragmented.  This is usually the result of calling `frame.insert` many times, which has poor performance.  Consider joining all columns at once using pd.concat(axis=1) instead.  To get a de-fragmented frame, use `newframe = frame.copy()`\n",
      "  x_test[col] = 0 #np.nan  # TODO: NaN of 0? currently kept it at 0 to make clear it's not because the chain was missing\n"
     ]
    },
    {
     "name": "stdout",
     "output_type": "stream",
     "text": [
      "ROC AUC: 0.894\n",
      "Number of negative samples changed from 52663 to 51517\n",
      "Epitope has 14784 samples\n"
     ]
    },
    {
     "name": "stderr",
     "output_type": "stream",
     "text": [
      "C:\\Users\\arnod\\PycharmProjects\\thesis\\util\\classification.py:38: PerformanceWarning: DataFrame is highly fragmented.  This is usually the result of calling `frame.insert` many times, which has poor performance.  Consider joining all columns at once using pd.concat(axis=1) instead.  To get a de-fragmented frame, use `newframe = frame.copy()`\n",
      "  x_test[col] = 0 #np.nan  # TODO: NaN of 0? currently kept it at 0 to make clear it's not because the chain was missing\n"
     ]
    },
    {
     "name": "stdout",
     "output_type": "stream",
     "text": [
      "ROC AUC: 0.848\n",
      "\n",
      "Evaluating eptiope ELAGIGILTV...\n",
      "Number of negative samples changed from 57771 to 56727\n",
      "Epitope has 4568 samples\n"
     ]
    },
    {
     "name": "stderr",
     "output_type": "stream",
     "text": [
      "C:\\Users\\arnod\\PycharmProjects\\thesis\\util\\classification.py:38: PerformanceWarning: DataFrame is highly fragmented.  This is usually the result of calling `frame.insert` many times, which has poor performance.  Consider joining all columns at once using pd.concat(axis=1) instead.  To get a de-fragmented frame, use `newframe = frame.copy()`\n",
      "  x_test[col] = 0 #np.nan  # TODO: NaN of 0? currently kept it at 0 to make clear it's not because the chain was missing\n"
     ]
    },
    {
     "name": "stdout",
     "output_type": "stream",
     "text": [
      "ROC AUC: 0.901\n",
      "Number of negative samples changed from 57771 to 56727\n",
      "Epitope has 4568 samples\n"
     ]
    },
    {
     "name": "stderr",
     "output_type": "stream",
     "text": [
      "C:\\Users\\arnod\\PycharmProjects\\thesis\\util\\classification.py:38: PerformanceWarning: DataFrame is highly fragmented.  This is usually the result of calling `frame.insert` many times, which has poor performance.  Consider joining all columns at once using pd.concat(axis=1) instead.  To get a de-fragmented frame, use `newframe = frame.copy()`\n",
      "  x_test[col] = 0 #np.nan  # TODO: NaN of 0? currently kept it at 0 to make clear it's not because the chain was missing\n"
     ]
    },
    {
     "name": "stdout",
     "output_type": "stream",
     "text": [
      "ROC AUC: 1.000\n",
      "Number of negative samples changed from 57771 to 56727\n",
      "Epitope has 4568 samples\n"
     ]
    },
    {
     "name": "stderr",
     "output_type": "stream",
     "text": [
      "C:\\Users\\arnod\\PycharmProjects\\thesis\\util\\classification.py:38: PerformanceWarning: DataFrame is highly fragmented.  This is usually the result of calling `frame.insert` many times, which has poor performance.  Consider joining all columns at once using pd.concat(axis=1) instead.  To get a de-fragmented frame, use `newframe = frame.copy()`\n",
      "  x_test[col] = 0 #np.nan  # TODO: NaN of 0? currently kept it at 0 to make clear it's not because the chain was missing\n"
     ]
    },
    {
     "name": "stdout",
     "output_type": "stream",
     "text": [
      "ROC AUC: 0.859\n",
      "Number of negative samples changed from 57771 to 56727\n",
      "Epitope has 4568 samples\n"
     ]
    },
    {
     "name": "stderr",
     "output_type": "stream",
     "text": [
      "C:\\Users\\arnod\\PycharmProjects\\thesis\\util\\classification.py:38: PerformanceWarning: DataFrame is highly fragmented.  This is usually the result of calling `frame.insert` many times, which has poor performance.  Consider joining all columns at once using pd.concat(axis=1) instead.  To get a de-fragmented frame, use `newframe = frame.copy()`\n",
      "  x_test[col] = 0 #np.nan  # TODO: NaN of 0? currently kept it at 0 to make clear it's not because the chain was missing\n"
     ]
    },
    {
     "name": "stdout",
     "output_type": "stream",
     "text": [
      "ROC AUC: 0.957\n",
      "Number of negative samples changed from 57771 to 56727\n",
      "Epitope has 4568 samples\n"
     ]
    },
    {
     "name": "stderr",
     "output_type": "stream",
     "text": [
      "C:\\Users\\arnod\\PycharmProjects\\thesis\\util\\classification.py:38: PerformanceWarning: DataFrame is highly fragmented.  This is usually the result of calling `frame.insert` many times, which has poor performance.  Consider joining all columns at once using pd.concat(axis=1) instead.  To get a de-fragmented frame, use `newframe = frame.copy()`\n",
      "  x_test[col] = 0 #np.nan  # TODO: NaN of 0? currently kept it at 0 to make clear it's not because the chain was missing\n"
     ]
    },
    {
     "name": "stdout",
     "output_type": "stream",
     "text": [
      "ROC AUC: 0.911\n",
      "\n",
      "Evaluating eptiope AVFDRKSDAK...\n",
      "Number of negative samples changed from 58273 to 53227\n",
      "Warning: error splitting gene TRAV15-1/DV6-1*01, fixed to TRAV15-1\n",
      "Epitope has 3564 samples\n"
     ]
    },
    {
     "name": "stderr",
     "output_type": "stream",
     "text": [
      "C:\\Users\\arnod\\PycharmProjects\\thesis\\util\\classification.py:38: PerformanceWarning: DataFrame is highly fragmented.  This is usually the result of calling `frame.insert` many times, which has poor performance.  Consider joining all columns at once using pd.concat(axis=1) instead.  To get a de-fragmented frame, use `newframe = frame.copy()`\n",
      "  x_test[col] = 0 #np.nan  # TODO: NaN of 0? currently kept it at 0 to make clear it's not because the chain was missing\n"
     ]
    },
    {
     "name": "stdout",
     "output_type": "stream",
     "text": [
      "ROC AUC: 0.906\n",
      "Number of negative samples changed from 58273 to 53227\n",
      "Warning: error splitting gene TRAV15-1/DV6-1*01, fixed to TRAV15-1\n",
      "Epitope has 3564 samples\n"
     ]
    },
    {
     "name": "stderr",
     "output_type": "stream",
     "text": [
      "C:\\Users\\arnod\\PycharmProjects\\thesis\\util\\classification.py:38: PerformanceWarning: DataFrame is highly fragmented.  This is usually the result of calling `frame.insert` many times, which has poor performance.  Consider joining all columns at once using pd.concat(axis=1) instead.  To get a de-fragmented frame, use `newframe = frame.copy()`\n",
      "  x_test[col] = 0 #np.nan  # TODO: NaN of 0? currently kept it at 0 to make clear it's not because the chain was missing\n"
     ]
    },
    {
     "name": "stdout",
     "output_type": "stream",
     "text": [
      "ROC AUC: 0.930\n",
      "Number of negative samples changed from 58273 to 53227\n",
      "Warning: error splitting gene TRAV15-1/DV6-1*01, fixed to TRAV15-1\n",
      "Epitope has 3564 samples\n"
     ]
    },
    {
     "name": "stderr",
     "output_type": "stream",
     "text": [
      "C:\\Users\\arnod\\PycharmProjects\\thesis\\util\\classification.py:38: PerformanceWarning: DataFrame is highly fragmented.  This is usually the result of calling `frame.insert` many times, which has poor performance.  Consider joining all columns at once using pd.concat(axis=1) instead.  To get a de-fragmented frame, use `newframe = frame.copy()`\n",
      "  x_test[col] = 0 #np.nan  # TODO: NaN of 0? currently kept it at 0 to make clear it's not because the chain was missing\n"
     ]
    },
    {
     "name": "stdout",
     "output_type": "stream",
     "text": [
      "ROC AUC: 0.894\n",
      "Number of negative samples changed from 58273 to 53227\n",
      "Warning: error splitting gene TRAV15-1/DV6-1*01, fixed to TRAV15-1\n",
      "Epitope has 3564 samples\n"
     ]
    },
    {
     "name": "stderr",
     "output_type": "stream",
     "text": [
      "C:\\Users\\arnod\\PycharmProjects\\thesis\\util\\classification.py:38: PerformanceWarning: DataFrame is highly fragmented.  This is usually the result of calling `frame.insert` many times, which has poor performance.  Consider joining all columns at once using pd.concat(axis=1) instead.  To get a de-fragmented frame, use `newframe = frame.copy()`\n",
      "  x_test[col] = 0 #np.nan  # TODO: NaN of 0? currently kept it at 0 to make clear it's not because the chain was missing\n"
     ]
    },
    {
     "name": "stdout",
     "output_type": "stream",
     "text": [
      "ROC AUC: 0.875\n",
      "Number of negative samples changed from 58273 to 53227\n",
      "Warning: error splitting gene TRAV15-1/DV6-1*01, fixed to TRAV15-1\n",
      "Epitope has 3564 samples\n"
     ]
    },
    {
     "name": "stderr",
     "output_type": "stream",
     "text": [
      "C:\\Users\\arnod\\PycharmProjects\\thesis\\util\\classification.py:38: PerformanceWarning: DataFrame is highly fragmented.  This is usually the result of calling `frame.insert` many times, which has poor performance.  Consider joining all columns at once using pd.concat(axis=1) instead.  To get a de-fragmented frame, use `newframe = frame.copy()`\n",
      "  x_test[col] = 0 #np.nan  # TODO: NaN of 0? currently kept it at 0 to make clear it's not because the chain was missing\n"
     ]
    },
    {
     "name": "stdout",
     "output_type": "stream",
     "text": [
      "ROC AUC: 0.889\n",
      "\n",
      "Evaluating eptiope RAKFKQLL...\n",
      "Number of negative samples changed from 58557 to 55990\n",
      "Epitope has 2996 samples\n"
     ]
    },
    {
     "name": "stderr",
     "output_type": "stream",
     "text": [
      "C:\\Users\\arnod\\PycharmProjects\\thesis\\util\\classification.py:38: PerformanceWarning: DataFrame is highly fragmented.  This is usually the result of calling `frame.insert` many times, which has poor performance.  Consider joining all columns at once using pd.concat(axis=1) instead.  To get a de-fragmented frame, use `newframe = frame.copy()`\n",
      "  x_test[col] = 0 #np.nan  # TODO: NaN of 0? currently kept it at 0 to make clear it's not because the chain was missing\n"
     ]
    },
    {
     "name": "stdout",
     "output_type": "stream",
     "text": [
      "ROC AUC: 0.846\n",
      "Number of negative samples changed from 58557 to 55990\n",
      "Epitope has 2996 samples\n"
     ]
    },
    {
     "name": "stderr",
     "output_type": "stream",
     "text": [
      "C:\\Users\\arnod\\PycharmProjects\\thesis\\util\\classification.py:38: PerformanceWarning: DataFrame is highly fragmented.  This is usually the result of calling `frame.insert` many times, which has poor performance.  Consider joining all columns at once using pd.concat(axis=1) instead.  To get a de-fragmented frame, use `newframe = frame.copy()`\n",
      "  x_test[col] = 0 #np.nan  # TODO: NaN of 0? currently kept it at 0 to make clear it's not because the chain was missing\n"
     ]
    },
    {
     "name": "stdout",
     "output_type": "stream",
     "text": [
      "ROC AUC: 0.897\n",
      "Number of negative samples changed from 58557 to 55990\n",
      "Epitope has 2996 samples\n"
     ]
    },
    {
     "name": "stderr",
     "output_type": "stream",
     "text": [
      "C:\\Users\\arnod\\PycharmProjects\\thesis\\util\\classification.py:38: PerformanceWarning: DataFrame is highly fragmented.  This is usually the result of calling `frame.insert` many times, which has poor performance.  Consider joining all columns at once using pd.concat(axis=1) instead.  To get a de-fragmented frame, use `newframe = frame.copy()`\n",
      "  x_test[col] = 0 #np.nan  # TODO: NaN of 0? currently kept it at 0 to make clear it's not because the chain was missing\n"
     ]
    },
    {
     "name": "stdout",
     "output_type": "stream",
     "text": [
      "ROC AUC: 0.948\n",
      "Number of negative samples changed from 58557 to 55990\n",
      "Epitope has 2996 samples\n",
      "ROC AUC: 0.949\n",
      "Number of negative samples changed from 58557 to 55990\n",
      "Epitope has 2996 samples\n"
     ]
    },
    {
     "name": "stderr",
     "output_type": "stream",
     "text": [
      "C:\\Users\\arnod\\PycharmProjects\\thesis\\util\\classification.py:38: PerformanceWarning: DataFrame is highly fragmented.  This is usually the result of calling `frame.insert` many times, which has poor performance.  Consider joining all columns at once using pd.concat(axis=1) instead.  To get a de-fragmented frame, use `newframe = frame.copy()`\n",
      "  x_test[col] = 0 #np.nan  # TODO: NaN of 0? currently kept it at 0 to make clear it's not because the chain was missing\n"
     ]
    },
    {
     "name": "stdout",
     "output_type": "stream",
     "text": [
      "ROC AUC: 0.880\n",
      "\n",
      "Evaluating eptiope GLCTLVAML...\n",
      "Number of negative samples changed from 58592 to 56960\n",
      "Epitope has 2926 samples\n"
     ]
    },
    {
     "name": "stderr",
     "output_type": "stream",
     "text": [
      "C:\\Users\\arnod\\PycharmProjects\\thesis\\util\\classification.py:38: PerformanceWarning: DataFrame is highly fragmented.  This is usually the result of calling `frame.insert` many times, which has poor performance.  Consider joining all columns at once using pd.concat(axis=1) instead.  To get a de-fragmented frame, use `newframe = frame.copy()`\n",
      "  x_test[col] = 0 #np.nan  # TODO: NaN of 0? currently kept it at 0 to make clear it's not because the chain was missing\n"
     ]
    },
    {
     "name": "stdout",
     "output_type": "stream",
     "text": [
      "ROC AUC: 0.866\n",
      "Number of negative samples changed from 58592 to 56960\n",
      "Epitope has 2926 samples\n"
     ]
    },
    {
     "name": "stderr",
     "output_type": "stream",
     "text": [
      "C:\\Users\\arnod\\PycharmProjects\\thesis\\util\\classification.py:38: PerformanceWarning: DataFrame is highly fragmented.  This is usually the result of calling `frame.insert` many times, which has poor performance.  Consider joining all columns at once using pd.concat(axis=1) instead.  To get a de-fragmented frame, use `newframe = frame.copy()`\n",
      "  x_test[col] = 0 #np.nan  # TODO: NaN of 0? currently kept it at 0 to make clear it's not because the chain was missing\n"
     ]
    },
    {
     "name": "stdout",
     "output_type": "stream",
     "text": [
      "ROC AUC: 0.871\n",
      "Number of negative samples changed from 58592 to 56960\n",
      "Epitope has 2926 samples\n"
     ]
    },
    {
     "name": "stderr",
     "output_type": "stream",
     "text": [
      "C:\\Users\\arnod\\PycharmProjects\\thesis\\util\\classification.py:38: PerformanceWarning: DataFrame is highly fragmented.  This is usually the result of calling `frame.insert` many times, which has poor performance.  Consider joining all columns at once using pd.concat(axis=1) instead.  To get a de-fragmented frame, use `newframe = frame.copy()`\n",
      "  x_test[col] = 0 #np.nan  # TODO: NaN of 0? currently kept it at 0 to make clear it's not because the chain was missing\n"
     ]
    },
    {
     "name": "stdout",
     "output_type": "stream",
     "text": [
      "ROC AUC: 0.844\n",
      "Number of negative samples changed from 58592 to 56960\n",
      "Epitope has 2926 samples\n"
     ]
    },
    {
     "name": "stderr",
     "output_type": "stream",
     "text": [
      "C:\\Users\\arnod\\PycharmProjects\\thesis\\util\\classification.py:38: PerformanceWarning: DataFrame is highly fragmented.  This is usually the result of calling `frame.insert` many times, which has poor performance.  Consider joining all columns at once using pd.concat(axis=1) instead.  To get a de-fragmented frame, use `newframe = frame.copy()`\n",
      "  x_test[col] = 0 #np.nan  # TODO: NaN of 0? currently kept it at 0 to make clear it's not because the chain was missing\n"
     ]
    },
    {
     "name": "stdout",
     "output_type": "stream",
     "text": [
      "ROC AUC: 0.990\n",
      "Number of negative samples changed from 58592 to 56960\n",
      "Epitope has 2926 samples\n"
     ]
    },
    {
     "name": "stderr",
     "output_type": "stream",
     "text": [
      "C:\\Users\\arnod\\PycharmProjects\\thesis\\util\\classification.py:38: PerformanceWarning: DataFrame is highly fragmented.  This is usually the result of calling `frame.insert` many times, which has poor performance.  Consider joining all columns at once using pd.concat(axis=1) instead.  To get a de-fragmented frame, use `newframe = frame.copy()`\n",
      "  x_test[col] = 0 #np.nan  # TODO: NaN of 0? currently kept it at 0 to make clear it's not because the chain was missing\n"
     ]
    },
    {
     "name": "stdout",
     "output_type": "stream",
     "text": [
      "ROC AUC: 0.834\n",
      "\n",
      "Evaluating eptiope YLQPRTFLL...\n",
      "Number of negative samples changed from 58729 to 58366\n",
      "Epitope has 2652 samples\n"
     ]
    },
    {
     "name": "stderr",
     "output_type": "stream",
     "text": [
      "C:\\Users\\arnod\\PycharmProjects\\thesis\\util\\classification.py:38: PerformanceWarning: DataFrame is highly fragmented.  This is usually the result of calling `frame.insert` many times, which has poor performance.  Consider joining all columns at once using pd.concat(axis=1) instead.  To get a de-fragmented frame, use `newframe = frame.copy()`\n",
      "  x_test[col] = 0 #np.nan  # TODO: NaN of 0? currently kept it at 0 to make clear it's not because the chain was missing\n"
     ]
    },
    {
     "name": "stdout",
     "output_type": "stream",
     "text": [
      "ROC AUC: 0.850\n",
      "Number of negative samples changed from 58729 to 58366\n",
      "Epitope has 2652 samples\n"
     ]
    },
    {
     "name": "stderr",
     "output_type": "stream",
     "text": [
      "C:\\Users\\arnod\\PycharmProjects\\thesis\\util\\classification.py:38: PerformanceWarning: DataFrame is highly fragmented.  This is usually the result of calling `frame.insert` many times, which has poor performance.  Consider joining all columns at once using pd.concat(axis=1) instead.  To get a de-fragmented frame, use `newframe = frame.copy()`\n",
      "  x_test[col] = 0 #np.nan  # TODO: NaN of 0? currently kept it at 0 to make clear it's not because the chain was missing\n"
     ]
    },
    {
     "name": "stdout",
     "output_type": "stream",
     "text": [
      "ROC AUC: 0.957\n",
      "Number of negative samples changed from 58729 to 58366\n",
      "Epitope has 2652 samples\n"
     ]
    },
    {
     "name": "stderr",
     "output_type": "stream",
     "text": [
      "C:\\Users\\arnod\\PycharmProjects\\thesis\\util\\classification.py:38: PerformanceWarning: DataFrame is highly fragmented.  This is usually the result of calling `frame.insert` many times, which has poor performance.  Consider joining all columns at once using pd.concat(axis=1) instead.  To get a de-fragmented frame, use `newframe = frame.copy()`\n",
      "  x_test[col] = 0 #np.nan  # TODO: NaN of 0? currently kept it at 0 to make clear it's not because the chain was missing\n"
     ]
    },
    {
     "name": "stdout",
     "output_type": "stream",
     "text": [
      "ROC AUC: 0.896\n",
      "Number of negative samples changed from 58729 to 58366\n",
      "Epitope has 2652 samples\n"
     ]
    },
    {
     "name": "stderr",
     "output_type": "stream",
     "text": [
      "C:\\Users\\arnod\\PycharmProjects\\thesis\\util\\classification.py:38: PerformanceWarning: DataFrame is highly fragmented.  This is usually the result of calling `frame.insert` many times, which has poor performance.  Consider joining all columns at once using pd.concat(axis=1) instead.  To get a de-fragmented frame, use `newframe = frame.copy()`\n",
      "  x_test[col] = 0 #np.nan  # TODO: NaN of 0? currently kept it at 0 to make clear it's not because the chain was missing\n"
     ]
    },
    {
     "name": "stdout",
     "output_type": "stream",
     "text": [
      "ROC AUC: 0.921\n",
      "Number of negative samples changed from 58729 to 58366\n",
      "Epitope has 2652 samples\n"
     ]
    },
    {
     "name": "stderr",
     "output_type": "stream",
     "text": [
      "C:\\Users\\arnod\\PycharmProjects\\thesis\\util\\classification.py:38: PerformanceWarning: DataFrame is highly fragmented.  This is usually the result of calling `frame.insert` many times, which has poor performance.  Consider joining all columns at once using pd.concat(axis=1) instead.  To get a de-fragmented frame, use `newframe = frame.copy()`\n",
      "  x_test[col] = 0 #np.nan  # TODO: NaN of 0? currently kept it at 0 to make clear it's not because the chain was missing\n"
     ]
    },
    {
     "name": "stdout",
     "output_type": "stream",
     "text": [
      "ROC AUC: 0.949\n",
      "\n",
      "Evaluating eptiope TTPESANL...\n",
      "Number of negative samples changed from 59095 to 58992\n",
      "Epitope has 1920 samples\n",
      "Error evaluating epitope TTPESANL: Sample sequence X is empty.\n",
      "\n",
      "Evaluating eptiope CTPYDINQM...\n",
      "Number of negative samples changed from 59208 to 59206\n",
      "Epitope has 1694 samples\n",
      "Error evaluating epitope CTPYDINQM: Sample sequence X is empty.\n"
     ]
    },
    {
     "data": {
      "text/plain": "{'KLGGALQAK': [],\n 'GILGFVFTL': [0.9266650037415815,\n  0.9251343312224141,\n  0.940011423455132,\n  0.9393050615595075,\n  0.9249483945638297],\n 'NLVPMVATV': [0.8268608414239482,\n  0.8774542992552471,\n  0.9177409453652547,\n  0.8938144329896908,\n  0.8480902777777778],\n 'ELAGIGILTV': [0.9010791366906475,\n  1.0,\n  0.8585131894484412,\n  0.9565637065637065,\n  0.9107142857142857],\n 'AVFDRKSDAK': [0.9058162267839688,\n  0.9297302937033753,\n  0.8942094662638469,\n  0.8754820936639118,\n  0.8885083713850837],\n 'RAKFKQLL': [0.8462873931623931,\n  0.8971547125074095,\n  0.9482456140350878,\n  0.9494736842105262,\n  0.8801859799713877],\n 'GLCTLVAML': [0.8661270236612703,\n  0.8707191780821918,\n  0.8438095238095239,\n  0.990234375,\n  0.834108527131783],\n 'YLQPRTFLL': [0.850328947368421,\n  0.9571428571428571,\n  0.8958333333333333,\n  0.9211678832116789,\n  0.9490586932447398],\n 'TTPESANL': [],\n 'CTPYDINQM': []}"
     },
     "execution_count": 24,
     "metadata": {},
     "output_type": "execute_result"
    }
   ],
   "source": [
    "scores = dict()\n",
    "for epitope in most_occuring_epitopes.index:\n",
    "    try:\n",
    "        print(f'\\nEvaluating eptiope {epitope}...')\n",
    "\n",
    "        try:\n",
    "            df = get_epitope_df(epitope, silent=True)\n",
    "            print(f'Epitope has {len(df)} samples')\n",
    "        except NotEnoughSamplesException:\n",
    "            print(f'Error creating dataframe for epitope {epitope}')\n",
    "            continue\n",
    "\n",
    "        scores[epitope] = []\n",
    "        for seed in range(5):\n",
    "            train, test = train_test_split(df, test_size=0.2, random_state=seed)\n",
    "            test = test.dropna()\n",
    "\n",
    "            train_y = train['reaction']\n",
    "            test_y = test['reaction']\n",
    "            train_x = get_features(train)\n",
    "            test_x = get_features(test, test=True)\n",
    "            test_x = fix_test(test_x, train_x.columns)\n",
    "\n",
    "            clf = HistGradientBoostingClassifier(random_state=42)\n",
    "            score = evaluate_no_cv(clf, train_x, train_y, test_x, test_y)\n",
    "            scores[epitope].append(score)\n",
    "\n",
    "    except Exception as e:\n",
    "        print(f'Error evaluating epitope {epitope}: {e}')\n",
    "        continue\n",
    "\n",
    "scores"
   ],
   "metadata": {
    "collapsed": false,
    "pycharm": {
     "name": "#%%\n"
    }
   }
  },
  {
   "cell_type": "code",
   "execution_count": 25,
   "outputs": [],
   "source": [
    "# scores = {'GILGFVFTL': 0.9238734875527328,\n",
    "#  'NLVPMVATV': 0.8530805687203792,\n",
    "#  'ELAGIGILTV': 0.842857142857143,\n",
    "#  'AVFDRKSDAK': 0.849768875192604,\n",
    "#  'RAKFKQLL': 0.8561259411362081,\n",
    "#  'GLCTLVAML': 0.9473039215686274,\n",
    "#  'YLQPRTFLL': 0.9874015748031496}"
   ],
   "metadata": {
    "collapsed": false,
    "pycharm": {
     "name": "#%%\n"
    }
   }
  },
  {
   "cell_type": "code",
   "execution_count": null,
   "outputs": [],
   "source": [
    "# scores = {'KLGGALQAK': [],\n",
    "#  'GILGFVFTL': [0.9266650037415815,\n",
    "#   0.9251343312224141,\n",
    "#   0.940011423455132,\n",
    "#   0.9393050615595075,\n",
    "#   0.9249483945638297],\n",
    "#  'NLVPMVATV': [0.8268608414239482,\n",
    "#   0.8774542992552471,\n",
    "#   0.9177409453652547,\n",
    "#   0.8938144329896908,\n",
    "#   0.8480902777777778],\n",
    "#  'ELAGIGILTV': [0.9010791366906475,\n",
    "#   1.0,\n",
    "#   0.8585131894484412,\n",
    "#   0.9565637065637065,\n",
    "#   0.9107142857142857],\n",
    "#  'AVFDRKSDAK': [0.9058162267839688,\n",
    "#   0.9297302937033753,\n",
    "#   0.8942094662638469,\n",
    "#   0.8754820936639118,\n",
    "#   0.8885083713850837],\n",
    "#  'RAKFKQLL': [0.8462873931623931,\n",
    "#   0.8971547125074095,\n",
    "#   0.9482456140350878,\n",
    "#   0.9494736842105262,\n",
    "#   0.8801859799713877],\n",
    "#  'GLCTLVAML': [0.8661270236612703,\n",
    "#   0.8707191780821918,\n",
    "#   0.8438095238095239,\n",
    "#   0.990234375,\n",
    "#   0.834108527131783],\n",
    "#  'YLQPRTFLL': [0.850328947368421,\n",
    "#   0.9571428571428571,\n",
    "#   0.8958333333333333,\n",
    "#   0.9211678832116789,\n",
    "#   0.9490586932447398],\n",
    "#  'TTPESANL': [],\n",
    "#  'CTPYDINQM': []}"
   ],
   "metadata": {
    "collapsed": false,
    "pycharm": {
     "name": "#%%\n"
    }
   }
  },
  {
   "cell_type": "code",
   "execution_count": 31,
   "outputs": [
    {
     "data": {
      "text/plain": "        model     score  improvement\n0   GILGFVFTL  0.926665    -0.004548\n1   GILGFVFTL  0.925134    -0.006079\n2   GILGFVFTL  0.940011     0.008799\n3   GILGFVFTL  0.939305     0.008092\n4   GILGFVFTL  0.924948    -0.006264\n0   NLVPMVATV  0.826861    -0.104352\n1   NLVPMVATV  0.877454    -0.053759\n2   NLVPMVATV  0.917741    -0.013472\n3   NLVPMVATV  0.893814    -0.037398\n4   NLVPMVATV  0.848090    -0.083123\n0  ELAGIGILTV  0.901079    -0.030134\n1  ELAGIGILTV  1.000000     0.068787\n2  ELAGIGILTV  0.858513    -0.072700\n3  ELAGIGILTV  0.956564     0.025351\n4  ELAGIGILTV  0.910714    -0.020499\n0  AVFDRKSDAK  0.905816    -0.025397\n1  AVFDRKSDAK  0.929730    -0.001483\n2  AVFDRKSDAK  0.894209    -0.037003\n3  AVFDRKSDAK  0.875482    -0.055731\n4  AVFDRKSDAK  0.888508    -0.042704\n0    RAKFKQLL  0.846287    -0.084925\n1    RAKFKQLL  0.897155    -0.034058\n2    RAKFKQLL  0.948246     0.017033\n3    RAKFKQLL  0.949474     0.018261\n4    RAKFKQLL  0.880186    -0.051027\n0   GLCTLVAML  0.866127    -0.065086\n1   GLCTLVAML  0.870719    -0.060494\n2   GLCTLVAML  0.843810    -0.087403\n3   GLCTLVAML  0.990234     0.059022\n4   GLCTLVAML  0.834109    -0.097104\n0   YLQPRTFLL  0.850329    -0.080884\n1   YLQPRTFLL  0.957143     0.025930\n2   YLQPRTFLL  0.895833    -0.035380\n3   YLQPRTFLL  0.921168    -0.010045\n4   YLQPRTFLL  0.949059     0.017846",
      "text/html": "<div>\n<style scoped>\n    .dataframe tbody tr th:only-of-type {\n        vertical-align: middle;\n    }\n\n    .dataframe tbody tr th {\n        vertical-align: top;\n    }\n\n    .dataframe thead th {\n        text-align: right;\n    }\n</style>\n<table border=\"1\" class=\"dataframe\">\n  <thead>\n    <tr style=\"text-align: right;\">\n      <th></th>\n      <th>model</th>\n      <th>score</th>\n      <th>improvement</th>\n    </tr>\n  </thead>\n  <tbody>\n    <tr>\n      <th>0</th>\n      <td>GILGFVFTL</td>\n      <td>0.926665</td>\n      <td>-0.004548</td>\n    </tr>\n    <tr>\n      <th>1</th>\n      <td>GILGFVFTL</td>\n      <td>0.925134</td>\n      <td>-0.006079</td>\n    </tr>\n    <tr>\n      <th>2</th>\n      <td>GILGFVFTL</td>\n      <td>0.940011</td>\n      <td>0.008799</td>\n    </tr>\n    <tr>\n      <th>3</th>\n      <td>GILGFVFTL</td>\n      <td>0.939305</td>\n      <td>0.008092</td>\n    </tr>\n    <tr>\n      <th>4</th>\n      <td>GILGFVFTL</td>\n      <td>0.924948</td>\n      <td>-0.006264</td>\n    </tr>\n    <tr>\n      <th>0</th>\n      <td>NLVPMVATV</td>\n      <td>0.826861</td>\n      <td>-0.104352</td>\n    </tr>\n    <tr>\n      <th>1</th>\n      <td>NLVPMVATV</td>\n      <td>0.877454</td>\n      <td>-0.053759</td>\n    </tr>\n    <tr>\n      <th>2</th>\n      <td>NLVPMVATV</td>\n      <td>0.917741</td>\n      <td>-0.013472</td>\n    </tr>\n    <tr>\n      <th>3</th>\n      <td>NLVPMVATV</td>\n      <td>0.893814</td>\n      <td>-0.037398</td>\n    </tr>\n    <tr>\n      <th>4</th>\n      <td>NLVPMVATV</td>\n      <td>0.848090</td>\n      <td>-0.083123</td>\n    </tr>\n    <tr>\n      <th>0</th>\n      <td>ELAGIGILTV</td>\n      <td>0.901079</td>\n      <td>-0.030134</td>\n    </tr>\n    <tr>\n      <th>1</th>\n      <td>ELAGIGILTV</td>\n      <td>1.000000</td>\n      <td>0.068787</td>\n    </tr>\n    <tr>\n      <th>2</th>\n      <td>ELAGIGILTV</td>\n      <td>0.858513</td>\n      <td>-0.072700</td>\n    </tr>\n    <tr>\n      <th>3</th>\n      <td>ELAGIGILTV</td>\n      <td>0.956564</td>\n      <td>0.025351</td>\n    </tr>\n    <tr>\n      <th>4</th>\n      <td>ELAGIGILTV</td>\n      <td>0.910714</td>\n      <td>-0.020499</td>\n    </tr>\n    <tr>\n      <th>0</th>\n      <td>AVFDRKSDAK</td>\n      <td>0.905816</td>\n      <td>-0.025397</td>\n    </tr>\n    <tr>\n      <th>1</th>\n      <td>AVFDRKSDAK</td>\n      <td>0.929730</td>\n      <td>-0.001483</td>\n    </tr>\n    <tr>\n      <th>2</th>\n      <td>AVFDRKSDAK</td>\n      <td>0.894209</td>\n      <td>-0.037003</td>\n    </tr>\n    <tr>\n      <th>3</th>\n      <td>AVFDRKSDAK</td>\n      <td>0.875482</td>\n      <td>-0.055731</td>\n    </tr>\n    <tr>\n      <th>4</th>\n      <td>AVFDRKSDAK</td>\n      <td>0.888508</td>\n      <td>-0.042704</td>\n    </tr>\n    <tr>\n      <th>0</th>\n      <td>RAKFKQLL</td>\n      <td>0.846287</td>\n      <td>-0.084925</td>\n    </tr>\n    <tr>\n      <th>1</th>\n      <td>RAKFKQLL</td>\n      <td>0.897155</td>\n      <td>-0.034058</td>\n    </tr>\n    <tr>\n      <th>2</th>\n      <td>RAKFKQLL</td>\n      <td>0.948246</td>\n      <td>0.017033</td>\n    </tr>\n    <tr>\n      <th>3</th>\n      <td>RAKFKQLL</td>\n      <td>0.949474</td>\n      <td>0.018261</td>\n    </tr>\n    <tr>\n      <th>4</th>\n      <td>RAKFKQLL</td>\n      <td>0.880186</td>\n      <td>-0.051027</td>\n    </tr>\n    <tr>\n      <th>0</th>\n      <td>GLCTLVAML</td>\n      <td>0.866127</td>\n      <td>-0.065086</td>\n    </tr>\n    <tr>\n      <th>1</th>\n      <td>GLCTLVAML</td>\n      <td>0.870719</td>\n      <td>-0.060494</td>\n    </tr>\n    <tr>\n      <th>2</th>\n      <td>GLCTLVAML</td>\n      <td>0.843810</td>\n      <td>-0.087403</td>\n    </tr>\n    <tr>\n      <th>3</th>\n      <td>GLCTLVAML</td>\n      <td>0.990234</td>\n      <td>0.059022</td>\n    </tr>\n    <tr>\n      <th>4</th>\n      <td>GLCTLVAML</td>\n      <td>0.834109</td>\n      <td>-0.097104</td>\n    </tr>\n    <tr>\n      <th>0</th>\n      <td>YLQPRTFLL</td>\n      <td>0.850329</td>\n      <td>-0.080884</td>\n    </tr>\n    <tr>\n      <th>1</th>\n      <td>YLQPRTFLL</td>\n      <td>0.957143</td>\n      <td>0.025930</td>\n    </tr>\n    <tr>\n      <th>2</th>\n      <td>YLQPRTFLL</td>\n      <td>0.895833</td>\n      <td>-0.035380</td>\n    </tr>\n    <tr>\n      <th>3</th>\n      <td>YLQPRTFLL</td>\n      <td>0.921168</td>\n      <td>-0.010045</td>\n    </tr>\n    <tr>\n      <th>4</th>\n      <td>YLQPRTFLL</td>\n      <td>0.949059</td>\n      <td>0.017846</td>\n    </tr>\n  </tbody>\n</table>\n</div>"
     },
     "execution_count": 31,
     "metadata": {},
     "output_type": "execute_result"
    }
   ],
   "source": [
    "import numpy as np\n",
    "\n",
    "scores_df = pd.DataFrame()\n",
    "for key, value in scores.items():\n",
    "    # add a row for each value\n",
    "    scores_df = scores_df.append(pd.DataFrame({\"model\": key, \"score\": value}))\n",
    "baseline = np.mean(scores['GILGFVFTL'])\n",
    "scores_df[\"improvement\"] = scores_df[\"score\"] - baseline\n",
    "scores_df"
   ],
   "metadata": {
    "collapsed": false,
    "pycharm": {
     "name": "#%%\n"
    }
   }
  },
  {
   "cell_type": "code",
   "execution_count": 38,
   "outputs": [
    {
     "data": {
      "text/plain": "<Figure size 432x288 with 1 Axes>",
      "image/png": "[encoded data removed]"
     },
     "metadata": {
      "needs_background": "light"
     },
     "output_type": "display_data"
    }
   ],
   "source": [
    "import seaborn as sns\n",
    "\n",
    "plot = sns.barplot(x=\"model\", y=\"score\", data=scores_df, ci=\"sd\")\n",
    "plot.set_xticklabels(plot.get_xticklabels(), rotation=90)\n",
    "pass"
   ],
   "metadata": {
    "collapsed": false,
    "pycharm": {
     "name": "#%%\n"
    }
   }
  },
  {
   "cell_type": "code",
   "execution_count": 36,
   "outputs": [
    {
     "name": "stderr",
     "output_type": "stream",
     "text": [
      "C:\\Users\\arnod\\AppData\\Local\\Temp/ipykernel_28280/1925603719.py:7: UserWarning: FixedFormatter should only be used together with FixedLocator\n",
      "  plot.set_yticklabels([f\"{baseline+y:.2f}\" for y in y_ticks])\n"
     ]
    },
    {
     "data": {
      "text/plain": "<Figure size 432x288 with 1 Axes>",
      "image/png": "[encoded data removed]"
     },
     "metadata": {
      "needs_background": "light"
     },
     "output_type": "display_data"
    }
   ],
   "source": [
    "plot = sns.barplot(x=\"model\", y=\"improvement\", data=scores_df, ci=\"sd\")\n",
    "\n",
    "plot.set_xticklabels(plot.get_xticklabels(), rotation=90)\n",
    "\n",
    "plot.axhline(0, color=\"k\", clip_on=False)\n",
    "y_ticks = plot.get_yticks()\n",
    "plot.set_yticklabels([f\"{baseline + y:.2f}\" for y in y_ticks])\n",
    "pass"
   ],
   "metadata": {
    "collapsed": false,
    "pycharm": {
     "name": "#%%\n"
    }
   }
  },
  {
   "cell_type": "markdown",
   "source": [
    "The more occuring epitopes obviously have the advantage of having a lot more train data to work with. Let's try to reduce all number of samples to the same YLQPRTFLL has (2652)."
   ],
   "metadata": {
    "collapsed": false,
    "pycharm": {
     "name": "#%% md\n"
    }
   }
  },
  {
   "cell_type": "code",
   "execution_count": 23,
   "outputs": [],
   "source": [
    "%%capture\n",
    "from util import split_gene_in_columns, get_features, fix_test, evaluate_no_cv\n",
    "from sklearn.model_selection import train_test_split\n",
    "from sklearn.ensemble import HistGradientBoostingClassifier\n",
    "\n",
    "scores = pd.DataFrame()\n",
    "for epitope in most_occuring_epitopes.index:\n",
    "    try:\n",
    "        print(f'\\nEvaluating eptiope {epitope}...')\n",
    "\n",
    "        try:\n",
    "            df = get_epitope_df(epitope, silent=True)\n",
    "            print(f'Epitope has {len(df)} samples')\n",
    "        except NotEnoughSamplesException:\n",
    "            print(f'Error creating dataframe for epitope {epitope}')\n",
    "            continue\n",
    "\n",
    "        for seed in range(5):\n",
    "            reduced_df = df.sample(n=2652, random_state=seed)\n",
    "            train, test = train_test_split(reduced_df, test_size=0.2, random_state=seed)\n",
    "            test = test.dropna()\n",
    "\n",
    "            train_y = train['reaction']\n",
    "            test_y = test['reaction']\n",
    "            train_x = get_features(train)\n",
    "            test_x = get_features(test, test=True)\n",
    "            test_x = fix_test(test_x, train_x.columns)\n",
    "\n",
    "            clf = HistGradientBoostingClassifier(random_state=42)\n",
    "            score = evaluate_no_cv(clf, train_x, train_y, test_x, test_y)\n",
    "            scores = scores.append({\"model\": epitope, \"score\": score}, ignore_index=True)\n",
    "        # break\n",
    "    except Exception as e:\n",
    "        print(f'Error evaluating epitope {epitope}: {e}')\n",
    "        continue"
   ],
   "metadata": {
    "collapsed": false,
    "pycharm": {
     "name": "#%%\n"
    }
   }
  },
  {
   "cell_type": "code",
   "execution_count": 24,
   "outputs": [
    {
     "data": {
      "text/plain": "         model     score\n0    GILGFVFTL  0.932960\n1    GILGFVFTL  0.919277\n2    GILGFVFTL  0.912002\n3    GILGFVFTL  0.918175\n4    GILGFVFTL  0.870393\n5    NLVPMVATV  1.000000\n6    NLVPMVATV       NaN\n7    NLVPMVATV  0.544444\n8    NLVPMVATV  1.000000\n9    NLVPMVATV  0.233333\n10  ELAGIGILTV  0.992958\n11  ELAGIGILTV  0.978261\n12  ELAGIGILTV  0.880399\n13  ELAGIGILTV  1.000000\n14  ELAGIGILTV  0.990625\n15  AVFDRKSDAK  0.870331\n16  AVFDRKSDAK  0.919618\n17  AVFDRKSDAK  0.960076\n18  AVFDRKSDAK  0.833528\n19  AVFDRKSDAK  0.857908\n20    RAKFKQLL  0.826029\n21    RAKFKQLL  0.999206\n22    RAKFKQLL  0.919839\n23    RAKFKQLL  0.903009\n24    RAKFKQLL  0.906770\n25   GLCTLVAML  0.976543\n26   GLCTLVAML  0.837179\n27   GLCTLVAML  0.892086\n28   GLCTLVAML  0.837363\n29   GLCTLVAML  1.000000\n30   YLQPRTFLL  0.993555\n31   YLQPRTFLL  0.976137\n32   YLQPRTFLL  0.983251\n33   YLQPRTFLL  0.933178\n34   YLQPRTFLL  0.898089",
      "text/html": "<div>\n<style scoped>\n    .dataframe tbody tr th:only-of-type {\n        vertical-align: middle;\n    }\n\n    .dataframe tbody tr th {\n        vertical-align: top;\n    }\n\n    .dataframe thead th {\n        text-align: right;\n    }\n</style>\n<table border=\"1\" class=\"dataframe\">\n  <thead>\n    <tr style=\"text-align: right;\">\n      <th></th>\n      <th>model</th>\n      <th>score</th>\n    </tr>\n  </thead>\n  <tbody>\n    <tr>\n      <th>0</th>\n      <td>GILGFVFTL</td>\n      <td>0.932960</td>\n    </tr>\n    <tr>\n      <th>1</th>\n      <td>GILGFVFTL</td>\n      <td>0.919277</td>\n    </tr>\n    <tr>\n      <th>2</th>\n      <td>GILGFVFTL</td>\n      <td>0.912002</td>\n    </tr>\n    <tr>\n      <th>3</th>\n      <td>GILGFVFTL</td>\n      <td>0.918175</td>\n    </tr>\n    <tr>\n      <th>4</th>\n      <td>GILGFVFTL</td>\n      <td>0.870393</td>\n    </tr>\n    <tr>\n      <th>5</th>\n      <td>NLVPMVATV</td>\n      <td>1.000000</td>\n    </tr>\n    <tr>\n      <th>6</th>\n      <td>NLVPMVATV</td>\n      <td>NaN</td>\n    </tr>\n    <tr>\n      <th>7</th>\n      <td>NLVPMVATV</td>\n      <td>0.544444</td>\n    </tr>\n    <tr>\n      <th>8</th>\n      <td>NLVPMVATV</td>\n      <td>1.000000</td>\n    </tr>\n    <tr>\n      <th>9</th>\n      <td>NLVPMVATV</td>\n      <td>0.233333</td>\n    </tr>\n    <tr>\n      <th>10</th>\n      <td>ELAGIGILTV</td>\n      <td>0.992958</td>\n    </tr>\n    <tr>\n      <th>11</th>\n      <td>ELAGIGILTV</td>\n      <td>0.978261</td>\n    </tr>\n    <tr>\n      <th>12</th>\n      <td>ELAGIGILTV</td>\n      <td>0.880399</td>\n    </tr>\n    <tr>\n      <th>13</th>\n      <td>ELAGIGILTV</td>\n      <td>1.000000</td>\n    </tr>\n    <tr>\n      <th>14</th>\n      <td>ELAGIGILTV</td>\n      <td>0.990625</td>\n    </tr>\n    <tr>\n      <th>15</th>\n      <td>AVFDRKSDAK</td>\n      <td>0.870331</td>\n    </tr>\n    <tr>\n      <th>16</th>\n      <td>AVFDRKSDAK</td>\n      <td>0.919618</td>\n    </tr>\n    <tr>\n      <th>17</th>\n      <td>AVFDRKSDAK</td>\n      <td>0.960076</td>\n    </tr>\n    <tr>\n      <th>18</th>\n      <td>AVFDRKSDAK</td>\n      <td>0.833528</td>\n    </tr>\n    <tr>\n      <th>19</th>\n      <td>AVFDRKSDAK</td>\n      <td>0.857908</td>\n    </tr>\n    <tr>\n      <th>20</th>\n      <td>RAKFKQLL</td>\n      <td>0.826029</td>\n    </tr>\n    <tr>\n      <th>21</th>\n      <td>RAKFKQLL</td>\n      <td>0.999206</td>\n    </tr>\n    <tr>\n      <th>22</th>\n      <td>RAKFKQLL</td>\n      <td>0.919839</td>\n    </tr>\n    <tr>\n      <th>23</th>\n      <td>RAKFKQLL</td>\n      <td>0.903009</td>\n    </tr>\n    <tr>\n      <th>24</th>\n      <td>RAKFKQLL</td>\n      <td>0.906770</td>\n    </tr>\n    <tr>\n      <th>25</th>\n      <td>GLCTLVAML</td>\n      <td>0.976543</td>\n    </tr>\n    <tr>\n      <th>26</th>\n      <td>GLCTLVAML</td>\n      <td>0.837179</td>\n    </tr>\n    <tr>\n      <th>27</th>\n      <td>GLCTLVAML</td>\n      <td>0.892086</td>\n    </tr>\n    <tr>\n      <th>28</th>\n      <td>GLCTLVAML</td>\n      <td>0.837363</td>\n    </tr>\n    <tr>\n      <th>29</th>\n      <td>GLCTLVAML</td>\n      <td>1.000000</td>\n    </tr>\n    <tr>\n      <th>30</th>\n      <td>YLQPRTFLL</td>\n      <td>0.993555</td>\n    </tr>\n    <tr>\n      <th>31</th>\n      <td>YLQPRTFLL</td>\n      <td>0.976137</td>\n    </tr>\n    <tr>\n      <th>32</th>\n      <td>YLQPRTFLL</td>\n      <td>0.983251</td>\n    </tr>\n    <tr>\n      <th>33</th>\n      <td>YLQPRTFLL</td>\n      <td>0.933178</td>\n    </tr>\n    <tr>\n      <th>34</th>\n      <td>YLQPRTFLL</td>\n      <td>0.898089</td>\n    </tr>\n  </tbody>\n</table>\n</div>"
     },
     "execution_count": 24,
     "metadata": {},
     "output_type": "execute_result"
    }
   ],
   "source": [
    "scores"
   ],
   "metadata": {
    "collapsed": false,
    "pycharm": {
     "name": "#%%\n"
    }
   }
  },
  {
   "cell_type": "code",
   "execution_count": 25,
   "outputs": [
    {
     "data": {
      "text/plain": "         model     score  improvement\n0    GILGFVFTL  0.932960     0.022398\n1    GILGFVFTL  0.919277     0.008715\n2    GILGFVFTL  0.912002     0.001441\n3    GILGFVFTL  0.918175     0.007614\n4    GILGFVFTL  0.870393    -0.040168\n5    NLVPMVATV  1.000000     0.089439\n6    NLVPMVATV       NaN          NaN\n7    NLVPMVATV  0.544444    -0.366117\n8    NLVPMVATV  1.000000     0.089439\n9    NLVPMVATV  0.233333    -0.677228\n10  ELAGIGILTV  0.992958     0.082396\n11  ELAGIGILTV  0.978261     0.067699\n12  ELAGIGILTV  0.880399    -0.030163\n13  ELAGIGILTV  1.000000     0.089439\n14  ELAGIGILTV  0.990625     0.080064\n15  AVFDRKSDAK  0.870331    -0.040230\n16  AVFDRKSDAK  0.919618     0.009056\n17  AVFDRKSDAK  0.960076     0.049515\n18  AVFDRKSDAK  0.833528    -0.077034\n19  AVFDRKSDAK  0.857908    -0.052653\n20    RAKFKQLL  0.826029    -0.084533\n21    RAKFKQLL  0.999206     0.088645\n22    RAKFKQLL  0.919839     0.009278\n23    RAKFKQLL  0.903009    -0.007553\n24    RAKFKQLL  0.906770    -0.003792\n25   GLCTLVAML  0.976543     0.065982\n26   GLCTLVAML  0.837179    -0.073382\n27   GLCTLVAML  0.892086    -0.018475\n28   GLCTLVAML  0.837363    -0.073199\n29   GLCTLVAML  1.000000     0.089439\n30   YLQPRTFLL  0.993555     0.082994\n31   YLQPRTFLL  0.976137     0.065576\n32   YLQPRTFLL  0.983251     0.072690\n33   YLQPRTFLL  0.933178     0.022617\n34   YLQPRTFLL  0.898089    -0.012472",
      "text/html": "<div>\n<style scoped>\n    .dataframe tbody tr th:only-of-type {\n        vertical-align: middle;\n    }\n\n    .dataframe tbody tr th {\n        vertical-align: top;\n    }\n\n    .dataframe thead th {\n        text-align: right;\n    }\n</style>\n<table border=\"1\" class=\"dataframe\">\n  <thead>\n    <tr style=\"text-align: right;\">\n      <th></th>\n      <th>model</th>\n      <th>score</th>\n      <th>improvement</th>\n    </tr>\n  </thead>\n  <tbody>\n    <tr>\n      <th>0</th>\n      <td>GILGFVFTL</td>\n      <td>0.932960</td>\n      <td>0.022398</td>\n    </tr>\n    <tr>\n      <th>1</th>\n      <td>GILGFVFTL</td>\n      <td>0.919277</td>\n      <td>0.008715</td>\n    </tr>\n    <tr>\n      <th>2</th>\n      <td>GILGFVFTL</td>\n      <td>0.912002</td>\n      <td>0.001441</td>\n    </tr>\n    <tr>\n      <th>3</th>\n      <td>GILGFVFTL</td>\n      <td>0.918175</td>\n      <td>0.007614</td>\n    </tr>\n    <tr>\n      <th>4</th>\n      <td>GILGFVFTL</td>\n      <td>0.870393</td>\n      <td>-0.040168</td>\n    </tr>\n    <tr>\n      <th>5</th>\n      <td>NLVPMVATV</td>\n      <td>1.000000</td>\n      <td>0.089439</td>\n    </tr>\n    <tr>\n      <th>6</th>\n      <td>NLVPMVATV</td>\n      <td>NaN</td>\n      <td>NaN</td>\n    </tr>\n    <tr>\n      <th>7</th>\n      <td>NLVPMVATV</td>\n      <td>0.544444</td>\n      <td>-0.366117</td>\n    </tr>\n    <tr>\n      <th>8</th>\n      <td>NLVPMVATV</td>\n      <td>1.000000</td>\n      <td>0.089439</td>\n    </tr>\n    <tr>\n      <th>9</th>\n      <td>NLVPMVATV</td>\n      <td>0.233333</td>\n      <td>-0.677228</td>\n    </tr>\n    <tr>\n      <th>10</th>\n      <td>ELAGIGILTV</td>\n      <td>0.992958</td>\n      <td>0.082396</td>\n    </tr>\n    <tr>\n      <th>11</th>\n      <td>ELAGIGILTV</td>\n      <td>0.978261</td>\n      <td>0.067699</td>\n    </tr>\n    <tr>\n      <th>12</th>\n      <td>ELAGIGILTV</td>\n      <td>0.880399</td>\n      <td>-0.030163</td>\n    </tr>\n    <tr>\n      <th>13</th>\n      <td>ELAGIGILTV</td>\n      <td>1.000000</td>\n      <td>0.089439</td>\n    </tr>\n    <tr>\n      <th>14</th>\n      <td>ELAGIGILTV</td>\n      <td>0.990625</td>\n      <td>0.080064</td>\n    </tr>\n    <tr>\n      <th>15</th>\n      <td>AVFDRKSDAK</td>\n      <td>0.870331</td>\n      <td>-0.040230</td>\n    </tr>\n    <tr>\n      <th>16</th>\n      <td>AVFDRKSDAK</td>\n      <td>0.919618</td>\n      <td>0.009056</td>\n    </tr>\n    <tr>\n      <th>17</th>\n      <td>AVFDRKSDAK</td>\n      <td>0.960076</td>\n      <td>0.049515</td>\n    </tr>\n    <tr>\n      <th>18</th>\n      <td>AVFDRKSDAK</td>\n      <td>0.833528</td>\n      <td>-0.077034</td>\n    </tr>\n    <tr>\n      <th>19</th>\n      <td>AVFDRKSDAK</td>\n      <td>0.857908</td>\n      <td>-0.052653</td>\n    </tr>\n    <tr>\n      <th>20</th>\n      <td>RAKFKQLL</td>\n      <td>0.826029</td>\n      <td>-0.084533</td>\n    </tr>\n    <tr>\n      <th>21</th>\n      <td>RAKFKQLL</td>\n      <td>0.999206</td>\n      <td>0.088645</td>\n    </tr>\n    <tr>\n      <th>22</th>\n      <td>RAKFKQLL</td>\n      <td>0.919839</td>\n      <td>0.009278</td>\n    </tr>\n    <tr>\n      <th>23</th>\n      <td>RAKFKQLL</td>\n      <td>0.903009</td>\n      <td>-0.007553</td>\n    </tr>\n    <tr>\n      <th>24</th>\n      <td>RAKFKQLL</td>\n      <td>0.906770</td>\n      <td>-0.003792</td>\n    </tr>\n    <tr>\n      <th>25</th>\n      <td>GLCTLVAML</td>\n      <td>0.976543</td>\n      <td>0.065982</td>\n    </tr>\n    <tr>\n      <th>26</th>\n      <td>GLCTLVAML</td>\n      <td>0.837179</td>\n      <td>-0.073382</td>\n    </tr>\n    <tr>\n      <th>27</th>\n      <td>GLCTLVAML</td>\n      <td>0.892086</td>\n      <td>-0.018475</td>\n    </tr>\n    <tr>\n      <th>28</th>\n      <td>GLCTLVAML</td>\n      <td>0.837363</td>\n      <td>-0.073199</td>\n    </tr>\n    <tr>\n      <th>29</th>\n      <td>GLCTLVAML</td>\n      <td>1.000000</td>\n      <td>0.089439</td>\n    </tr>\n    <tr>\n      <th>30</th>\n      <td>YLQPRTFLL</td>\n      <td>0.993555</td>\n      <td>0.082994</td>\n    </tr>\n    <tr>\n      <th>31</th>\n      <td>YLQPRTFLL</td>\n      <td>0.976137</td>\n      <td>0.065576</td>\n    </tr>\n    <tr>\n      <th>32</th>\n      <td>YLQPRTFLL</td>\n      <td>0.983251</td>\n      <td>0.072690</td>\n    </tr>\n    <tr>\n      <th>33</th>\n      <td>YLQPRTFLL</td>\n      <td>0.933178</td>\n      <td>0.022617</td>\n    </tr>\n    <tr>\n      <th>34</th>\n      <td>YLQPRTFLL</td>\n      <td>0.898089</td>\n      <td>-0.012472</td>\n    </tr>\n  </tbody>\n</table>\n</div>"
     },
     "execution_count": 25,
     "metadata": {},
     "output_type": "execute_result"
    }
   ],
   "source": [
    "# Take the mean of the values in the dataframe where epitope is GILGFVFTL\n",
    "baseline = scores[scores['model'] == 'GILGFVFTL']['score'].mean()\n",
    "scores[\"improvement\"] = scores[\"score\"] - baseline\n",
    "scores"
   ],
   "metadata": {
    "collapsed": false,
    "pycharm": {
     "name": "#%%\n"
    }
   }
  },
  {
   "cell_type": "code",
   "execution_count": 27,
   "outputs": [
    {
     "data": {
      "text/plain": "<Figure size 432x288 with 1 Axes>",
      "image/png": "[encoded data removed]"
     },
     "metadata": {},
     "output_type": "display_data"
    }
   ],
   "source": [
    "import seaborn as sns\n",
    "plot = sns.barplot(x=\"model\", y=\"score\", data=scores, ci=\"sd\")\n",
    "plot.set_xticklabels(plot.get_xticklabels(), rotation=90)\n",
    "pass"
   ],
   "metadata": {
    "collapsed": false,
    "pycharm": {
     "name": "#%%\n"
    }
   }
  },
  {
   "cell_type": "code",
   "execution_count": 28,
   "outputs": [
    {
     "name": "stderr",
     "output_type": "stream",
     "text": [
      "C:\\Users\\arnod\\AppData\\Local\\Temp/ipykernel_14732/3001143889.py:7: UserWarning: FixedFormatter should only be used together with FixedLocator\n",
      "  plot.set_yticklabels([f\"{baseline + y:.2f}\" for y in y_ticks])\n"
     ]
    },
    {
     "data": {
      "text/plain": "<Figure size 432x288 with 1 Axes>",
      "image/png": "[encoded data removed]"
     },
     "metadata": {},
     "output_type": "display_data"
    }
   ],
   "source": [
    "plot = sns.barplot(x=\"model\", y=\"improvement\", data=scores, ci=\"sd\")\n",
    "\n",
    "plot.set_xticklabels(plot.get_xticklabels(), rotation=90)\n",
    "\n",
    "plot.axhline(0, color=\"k\", clip_on=False)\n",
    "y_ticks = plot.get_yticks()\n",
    "plot.set_yticklabels([f\"{baseline + y:.2f}\" for y in y_ticks])\n",
    "pass"
   ],
   "metadata": {
    "collapsed": false,
    "pycharm": {
     "name": "#%%\n"
    }
   }
  },
  {
   "cell_type": "code",
   "execution_count": null,
   "outputs": [],
   "source": [
    "TODO: verschil train met missing data en zonder missing data, clf die zo goed op alle ept"
   ],
   "metadata": {
    "collapsed": false,
    "pycharm": {
     "name": "#%%\n"
    }
   }
  },
  {
   "cell_type": "code",
   "execution_count": null,
   "outputs": [],
   "source": [
    "ook kijken naar degene met veel nan data en minder"
   ],
   "metadata": {
    "collapsed": false,
    "pycharm": {
     "name": "#%%\n"
    }
   }
  }
 ],
 "metadata": {
  "kernelspec": {
   "display_name": "Python 3",
   "language": "python",
   "name": "python3"
  },
  "language_info": {
   "codemirror_mode": {
    "name": "ipython",
    "version": 2
   },
   "file_extension": ".py",
   "mimetype": "text/x-python",
   "name": "python",
   "nbconvert_exporter": "python",
   "pygments_lexer": "ipython2",
   "version": "2.7.6"
  }
 },
 "nbformat": 4,
 "nbformat_minor": 0
}