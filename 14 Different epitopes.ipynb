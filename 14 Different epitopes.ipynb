{
 "cells": [
  {
   "cell_type": "markdown",
   "source": [
    "# Different epitopes\n",
    "Up to now, we've worked with Influenza A virus (GILGFVFTL). Let's take a look at the performance in different epitopes.\n",
    "\n",
    "We're working with the [vdjdb-db](https://github.com/antigenomics/vdjdb-db/releases) dataset."
   ],
   "metadata": {
    "collapsed": false
   }
  },
  {
   "cell_type": "code",
   "execution_count": 25,
   "outputs": [
    {
     "data": {
      "text/plain": "   complex.id gene                  cdr3       v.segm      j.segm  \\\n0           1  TRA         CIVRAPGRADMRF  TRAV26-1*01   TRAJ43*01   \n1           1  TRB  CASSYLPGQGDHYSNQPQHF    TRBV13*01  TRBJ1-5*01   \n2           0  TRB   CASSFEAGQGFFSNQPQHF    TRBV13*01  TRBJ1-5*01   \n3           2  TRA        CAVPSGAGSYQLTF    TRAV20*01   TRAJ28*01   \n4           2  TRB   CASSFEPGQGFYSNQPQHF    TRBV13*01  TRBJ1-5*01   \n\n       species     mhc.a mhc.b mhc.class antigen.epitope  ... antigen.species  \\\n0  HomoSapiens  HLA-B*08   B2M      MHCI        FLKEKGGL  ...           HIV-1   \n1  HomoSapiens  HLA-B*08   B2M      MHCI        FLKEKGGL  ...           HIV-1   \n2  HomoSapiens  HLA-B*08   B2M      MHCI        FLKEKGGL  ...           HIV-1   \n3  HomoSapiens  HLA-B*08   B2M      MHCI        FLKEKGGL  ...           HIV-1   \n4  HomoSapiens  HLA-B*08   B2M      MHCI        FLKEKGGL  ...           HIV-1   \n\n    reference.id                                             method  \\\n0  PMID:15596521  {\"frequency\": \"\", \"identification\": \"tetramer-...   \n1  PMID:15596521  {\"frequency\": \"\", \"identification\": \"tetramer-...   \n2  PMID:15596521  {\"frequency\": \"\", \"identification\": \"tetramer-...   \n3  PMID:15596521  {\"frequency\": \"\", \"identification\": \"tetramer-...   \n4  PMID:15596521  {\"frequency\": \"\", \"identification\": \"tetramer-...   \n\n                                                meta  \\\n0  {\"cell.subset\": \"CD8+\", \"clone.id\": \"\", \"donor...   \n1  {\"cell.subset\": \"CD8+\", \"clone.id\": \"\", \"donor...   \n2  {\"cell.subset\": \"CD8+\", \"clone.id\": \"\", \"donor...   \n3  {\"cell.subset\": \"CD8+\", \"clone.id\": \"\", \"donor...   \n4  {\"cell.subset\": \"CD8+\", \"clone.id\": \"\", \"donor...   \n\n                                             cdr3fix vdjdb.score  web.method  \\\n0  {\"cdr3\": \"CIVRAPGRADMRF\", \"cdr3_old\": \"CIVRAPG...           2        sort   \n1  {\"cdr3\": \"CASSYLPGQGDHYSNQPQHF\", \"cdr3_old\": \"...           2        sort   \n2  {\"cdr3\": \"CASSFEAGQGFFSNQPQHF\", \"cdr3_old\": \"C...           2        sort   \n3  {\"cdr3\": \"CAVPSGAGSYQLTF\", \"cdr3_old\": \"CAVPSG...           2        sort   \n4  {\"cdr3\": \"CASSFEPGQGFYSNQPQHF\", \"cdr3_old\": \"C...           2        sort   \n\n  web.method.seq web.cdr3fix.nc web.cdr3fix.unmp  \n0         sanger             no               no  \n1         sanger             no               no  \n2         sanger             no               no  \n3         sanger             no               no  \n4         sanger             no               no  \n\n[5 rows x 21 columns]",
      "text/html": "<div>\n<style scoped>\n    .dataframe tbody tr th:only-of-type {\n        vertical-align: middle;\n    }\n\n    .dataframe tbody tr th {\n        vertical-align: top;\n    }\n\n    .dataframe thead th {\n        text-align: right;\n    }\n</style>\n<table border=\"1\" class=\"dataframe\">\n  <thead>\n    <tr style=\"text-align: right;\">\n      <th></th>\n      <th>complex.id</th>\n      <th>gene</th>\n      <th>cdr3</th>\n      <th>v.segm</th>\n      <th>j.segm</th>\n      <th>species</th>\n      <th>mhc.a</th>\n      <th>mhc.b</th>\n      <th>mhc.class</th>\n      <th>antigen.epitope</th>\n      <th>...</th>\n      <th>antigen.species</th>\n      <th>reference.id</th>\n      <th>method</th>\n      <th>meta</th>\n      <th>cdr3fix</th>\n      <th>vdjdb.score</th>\n      <th>web.method</th>\n      <th>web.method.seq</th>\n      <th>web.cdr3fix.nc</th>\n      <th>web.cdr3fix.unmp</th>\n    </tr>\n  </thead>\n  <tbody>\n    <tr>\n      <th>0</th>\n      <td>1</td>\n      <td>TRA</td>\n      <td>CIVRAPGRADMRF</td>\n      <td>TRAV26-1*01</td>\n      <td>TRAJ43*01</td>\n      <td>HomoSapiens</td>\n      <td>HLA-B*08</td>\n      <td>B2M</td>\n      <td>MHCI</td>\n      <td>FLKEKGGL</td>\n      <td>...</td>\n      <td>HIV-1</td>\n      <td>PMID:15596521</td>\n      <td>{\"frequency\": \"\", \"identification\": \"tetramer-...</td>\n      <td>{\"cell.subset\": \"CD8+\", \"clone.id\": \"\", \"donor...</td>\n      <td>{\"cdr3\": \"CIVRAPGRADMRF\", \"cdr3_old\": \"CIVRAPG...</td>\n      <td>2</td>\n      <td>sort</td>\n      <td>sanger</td>\n      <td>no</td>\n      <td>no</td>\n    </tr>\n    <tr>\n      <th>1</th>\n      <td>1</td>\n      <td>TRB</td>\n      <td>CASSYLPGQGDHYSNQPQHF</td>\n      <td>TRBV13*01</td>\n      <td>TRBJ1-5*01</td>\n      <td>HomoSapiens</td>\n      <td>HLA-B*08</td>\n      <td>B2M</td>\n      <td>MHCI</td>\n      <td>FLKEKGGL</td>\n      <td>...</td>\n      <td>HIV-1</td>\n      <td>PMID:15596521</td>\n      <td>{\"frequency\": \"\", \"identification\": \"tetramer-...</td>\n      <td>{\"cell.subset\": \"CD8+\", \"clone.id\": \"\", \"donor...</td>\n      <td>{\"cdr3\": \"CASSYLPGQGDHYSNQPQHF\", \"cdr3_old\": \"...</td>\n      <td>2</td>\n      <td>sort</td>\n      <td>sanger</td>\n      <td>no</td>\n      <td>no</td>\n    </tr>\n    <tr>\n      <th>2</th>\n      <td>0</td>\n      <td>TRB</td>\n      <td>CASSFEAGQGFFSNQPQHF</td>\n      <td>TRBV13*01</td>\n      <td>TRBJ1-5*01</td>\n      <td>HomoSapiens</td>\n      <td>HLA-B*08</td>\n      <td>B2M</td>\n      <td>MHCI</td>\n      <td>FLKEKGGL</td>\n      <td>...</td>\n      <td>HIV-1</td>\n      <td>PMID:15596521</td>\n      <td>{\"frequency\": \"\", \"identification\": \"tetramer-...</td>\n      <td>{\"cell.subset\": \"CD8+\", \"clone.id\": \"\", \"donor...</td>\n      <td>{\"cdr3\": \"CASSFEAGQGFFSNQPQHF\", \"cdr3_old\": \"C...</td>\n      <td>2</td>\n      <td>sort</td>\n      <td>sanger</td>\n      <td>no</td>\n      <td>no</td>\n    </tr>\n    <tr>\n      <th>3</th>\n      <td>2</td>\n      <td>TRA</td>\n      <td>CAVPSGAGSYQLTF</td>\n      <td>TRAV20*01</td>\n      <td>TRAJ28*01</td>\n      <td>HomoSapiens</td>\n      <td>HLA-B*08</td>\n      <td>B2M</td>\n      <td>MHCI</td>\n      <td>FLKEKGGL</td>\n      <td>...</td>\n      <td>HIV-1</td>\n      <td>PMID:15596521</td>\n      <td>{\"frequency\": \"\", \"identification\": \"tetramer-...</td>\n      <td>{\"cell.subset\": \"CD8+\", \"clone.id\": \"\", \"donor...</td>\n      <td>{\"cdr3\": \"CAVPSGAGSYQLTF\", \"cdr3_old\": \"CAVPSG...</td>\n      <td>2</td>\n      <td>sort</td>\n      <td>sanger</td>\n      <td>no</td>\n      <td>no</td>\n    </tr>\n    <tr>\n      <th>4</th>\n      <td>2</td>\n      <td>TRB</td>\n      <td>CASSFEPGQGFYSNQPQHF</td>\n      <td>TRBV13*01</td>\n      <td>TRBJ1-5*01</td>\n      <td>HomoSapiens</td>\n      <td>HLA-B*08</td>\n      <td>B2M</td>\n      <td>MHCI</td>\n      <td>FLKEKGGL</td>\n      <td>...</td>\n      <td>HIV-1</td>\n      <td>PMID:15596521</td>\n      <td>{\"frequency\": \"\", \"identification\": \"tetramer-...</td>\n      <td>{\"cell.subset\": \"CD8+\", \"clone.id\": \"\", \"donor...</td>\n      <td>{\"cdr3\": \"CASSFEPGQGFYSNQPQHF\", \"cdr3_old\": \"C...</td>\n      <td>2</td>\n      <td>sort</td>\n      <td>sanger</td>\n      <td>no</td>\n      <td>no</td>\n    </tr>\n  </tbody>\n</table>\n<p>5 rows × 21 columns</p>\n</div>"
     },
     "execution_count": 25,
     "metadata": {},
     "output_type": "execute_result"
    }
   ],
   "source": [
    "# Load the dataset\n",
    "import pandas as pd\n",
    "import numpy as np\n",
    "import matplotlib.pyplot as plt\n",
    "\n",
    "df_vdjdb = pd.read_csv('data/vdjdb-2022-03-30/vdjdb.txt', sep='\\t')\n",
    "df_vdjdb.head()"
   ],
   "metadata": {
    "collapsed": false
   }
  },
  {
   "cell_type": "code",
   "execution_count": 26,
   "outputs": [
    {
     "data": {
      "text/plain": "       complex.id gene                cdr3         v.segm      j.segm  \\\n63871       21518  TRA     CAARALGTGNTPLVF  TRAV29/DV5*01   TRAJ29*01   \n9353            0  TRB    CSVRTGTRSFSGELFF    TRBV29-1*01  TRBJ2-2*01   \n9503            0  TRB    CASSDQSLGPDTEAFF      TRBV27*01  TRBJ1-1*01   \n38500        8832  TRB  CASSPVTGGGSGANVLTF     TRBV7-9*01  TRBJ2-6*01   \n4957            0  TRB       CASSFPDTHEQYF      TRBV27*01  TRBJ2-7*01   \n27197        3181  TRA        CAVSTGFQKLVF    TRAV12-2*01    TRAJ8*01   \n71963       25396  TRA       CDLVETGGYKVVF     TRAV6-4*03   TRAJ12*01   \n39425        9295  TRA        CAQEAGSYQLTF     TRAV8-3*01   TRAJ28*01   \n24170           0  TRA        CATETSNYQLIW      TRAV17*01   TRAJ33*01   \n82448           0  TRB      CASRTTGGNQPQYF      TRBV13*01  TRBJ1-5*01   \n\n             species        mhc.a mhc.b mhc.class antigen.epitope  ...  \\\n63871    HomoSapiens  HLA-A*03:01   B2M      MHCI       KLGGALQAK  ...   \n9353     HomoSapiens     HLA-A*02   B2M      MHCI       NLVPMVATV  ...   \n9503     HomoSapiens     HLA-A*02   B2M      MHCI       NLVPMVATV  ...   \n38500    HomoSapiens  HLA-A*03:01   B2M      MHCI       KLGGALQAK  ...   \n4957     HomoSapiens     HLA-A*02   B2M      MHCI       RLQSLQTYV  ...   \n27197    HomoSapiens  HLA-A*02:01   B2M      MHCI      ELAGIGILTV  ...   \n71963    MusMusculus        H-2Kb   B2M      MHCI        SSPPMFRV  ...   \n39425    HomoSapiens  HLA-A*03:01   B2M      MHCI       KLGGALQAK  ...   \n24170    HomoSapiens  HLA-B*35:01   B2M      MHCI       IPSINVHHY  ...   \n82448  MacacaMulatta    Mamu-A*01   B2M      MHCI        TTPESANL  ...   \n\n      antigen.species                                       reference.id  \\\n63871             CMV  https://www.10xgenomics.com/resources/applicat...   \n9353              CMV                                      PMID:28423320   \n9503              CMV                                      PMID:28423320   \n38500             CMV  https://www.10xgenomics.com/resources/applicat...   \n4957       SARS-CoV-2  https://github.com/antigenomics/vdjdb-db/issue...   \n27197     HomoSapiens  https://www.10xgenomics.com/resources/applicat...   \n71963            MCMV                                      PMID:28636592   \n39425             CMV  https://www.10xgenomics.com/resources/applicat...   \n24170             CMV                                      PMID:17459926   \n82448             SIV                                      PMID:15589168   \n\n                                                  method  \\\n63871  {\"frequency\": \"1/25584\", \"identification\": \"de...   \n9353   {\"frequency\": \"0.0680%\", \"identification\": \"an...   \n9503   {\"frequency\": \"0.0252%\", \"identification\": \"an...   \n38500  {\"frequency\": \"1/33921\", \"identification\": \"de...   \n4957   {\"frequency\": \"0.0146948\", \"identification\": \"...   \n27197  {\"frequency\": \"1/11684\", \"identification\": \"de...   \n71963  {\"frequency\": \"1/94\", \"identification\": \"tetra...   \n39425  {\"frequency\": \"2/33921\", \"identification\": \"de...   \n24170  {\"frequency\": \"3/11\", \"identification\": \"tetra...   \n82448  {\"frequency\": \"1/100\", \"identification\": \"tetr...   \n\n                                                    meta  \\\n63871  {\"cell.subset\": \"\", \"clone.id\": \"\", \"donor.MHC...   \n9353   {\"cell.subset\": \"CD8+\", \"clone.id\": \"\", \"donor...   \n9503   {\"cell.subset\": \"CD8+\", \"clone.id\": \"\", \"donor...   \n38500  {\"cell.subset\": \"\", \"clone.id\": \"\", \"donor.MHC...   \n4957   {\"cell.subset\": \"\", \"clone.id\": \"\", \"donor.MHC...   \n27197  {\"cell.subset\": \"\", \"clone.id\": \"\", \"donor.MHC...   \n71963  {\"cell.subset\": \"CD8+\", \"clone.id\": \"\", \"donor...   \n39425  {\"cell.subset\": \"\", \"clone.id\": \"\", \"donor.MHC...   \n24170  {\"cell.subset\": \"\", \"clone.id\": \"\", \"donor.MHC...   \n82448  {\"cell.subset\": \"\", \"clone.id\": \"\", \"donor.MHC...   \n\n                                                 cdr3fix vdjdb.score  \\\n63871  {\"cdr3\": \"CAARALGTGNTPLVF\", \"cdr3_old\": \"CAARA...           0   \n9353   {\"cdr3\": \"CSVRTGTRSFSGELFF\", \"cdr3_old\": \"CSVR...           0   \n9503   {\"cdr3\": \"CASSDQSLGPDTEAFF\", \"cdr3_old\": \"CASS...           0   \n38500  {\"cdr3\": \"CASSPVTGGGSGANVLTF\", \"cdr3_old\": \"CA...           0   \n4957   {\"cdr3\": \"CASSFPDTHEQYF\", \"cdr3_old\": \"CASSFPD...           0   \n27197  {\"cdr3\": \"CAVSTGFQKLVF\", \"cdr3_old\": \"CAVSTGFQ...           0   \n71963  {\"cdr3\": \"CDLVETGGYKVVF\", \"cdr3_old\": \"CDLVETG...           0   \n39425  {\"cdr3\": \"CAQEAGSYQLTF\", \"cdr3_old\": \"CAQEAGSY...           0   \n24170  {\"cdr3\": \"CATETSNYQLIW\", \"cdr3_old\": \"CATETSNY...           1   \n82448  {\"cdr3\": \"CASRTTGGNQPQYF\", \"cdr3_old\": \"CASRTT...           0   \n\n       web.method web.method.seq web.cdr3fix.nc web.cdr3fix.unmp  \n63871        sort     singlecell             no               no  \n9353         sort       amplicon             no               no  \n9503         sort       amplicon             no               no  \n38500        sort     singlecell             no               no  \n4957         sort       amplicon             no               no  \n27197        sort     singlecell             no               no  \n71963        sort     singlecell             no              yes  \n39425        sort     singlecell             no               no  \n24170        sort         sanger             no               no  \n82448        sort         sanger             no               no  \n\n[10 rows x 21 columns]",
      "text/html": "<div>\n<style scoped>\n    .dataframe tbody tr th:only-of-type {\n        vertical-align: middle;\n    }\n\n    .dataframe tbody tr th {\n        vertical-align: top;\n    }\n\n    .dataframe thead th {\n        text-align: right;\n    }\n</style>\n<table border=\"1\" class=\"dataframe\">\n  <thead>\n    <tr style=\"text-align: right;\">\n      <th></th>\n      <th>complex.id</th>\n      <th>gene</th>\n      <th>cdr3</th>\n      <th>v.segm</th>\n      <th>j.segm</th>\n      <th>species</th>\n      <th>mhc.a</th>\n      <th>mhc.b</th>\n      <th>mhc.class</th>\n      <th>antigen.epitope</th>\n      <th>...</th>\n      <th>antigen.species</th>\n      <th>reference.id</th>\n      <th>method</th>\n      <th>meta</th>\n      <th>cdr3fix</th>\n      <th>vdjdb.score</th>\n      <th>web.method</th>\n      <th>web.method.seq</th>\n      <th>web.cdr3fix.nc</th>\n      <th>web.cdr3fix.unmp</th>\n    </tr>\n  </thead>\n  <tbody>\n    <tr>\n      <th>63871</th>\n      <td>21518</td>\n      <td>TRA</td>\n      <td>CAARALGTGNTPLVF</td>\n      <td>TRAV29/DV5*01</td>\n      <td>TRAJ29*01</td>\n      <td>HomoSapiens</td>\n      <td>HLA-A*03:01</td>\n      <td>B2M</td>\n      <td>MHCI</td>\n      <td>KLGGALQAK</td>\n      <td>...</td>\n      <td>CMV</td>\n      <td>https://www.10xgenomics.com/resources/applicat...</td>\n      <td>{\"frequency\": \"1/25584\", \"identification\": \"de...</td>\n      <td>{\"cell.subset\": \"\", \"clone.id\": \"\", \"donor.MHC...</td>\n      <td>{\"cdr3\": \"CAARALGTGNTPLVF\", \"cdr3_old\": \"CAARA...</td>\n      <td>0</td>\n      <td>sort</td>\n      <td>singlecell</td>\n      <td>no</td>\n      <td>no</td>\n    </tr>\n    <tr>\n      <th>9353</th>\n      <td>0</td>\n      <td>TRB</td>\n      <td>CSVRTGTRSFSGELFF</td>\n      <td>TRBV29-1*01</td>\n      <td>TRBJ2-2*01</td>\n      <td>HomoSapiens</td>\n      <td>HLA-A*02</td>\n      <td>B2M</td>\n      <td>MHCI</td>\n      <td>NLVPMVATV</td>\n      <td>...</td>\n      <td>CMV</td>\n      <td>PMID:28423320</td>\n      <td>{\"frequency\": \"0.0680%\", \"identification\": \"an...</td>\n      <td>{\"cell.subset\": \"CD8+\", \"clone.id\": \"\", \"donor...</td>\n      <td>{\"cdr3\": \"CSVRTGTRSFSGELFF\", \"cdr3_old\": \"CSVR...</td>\n      <td>0</td>\n      <td>sort</td>\n      <td>amplicon</td>\n      <td>no</td>\n      <td>no</td>\n    </tr>\n    <tr>\n      <th>9503</th>\n      <td>0</td>\n      <td>TRB</td>\n      <td>CASSDQSLGPDTEAFF</td>\n      <td>TRBV27*01</td>\n      <td>TRBJ1-1*01</td>\n      <td>HomoSapiens</td>\n      <td>HLA-A*02</td>\n      <td>B2M</td>\n      <td>MHCI</td>\n      <td>NLVPMVATV</td>\n      <td>...</td>\n      <td>CMV</td>\n      <td>PMID:28423320</td>\n      <td>{\"frequency\": \"0.0252%\", \"identification\": \"an...</td>\n      <td>{\"cell.subset\": \"CD8+\", \"clone.id\": \"\", \"donor...</td>\n      <td>{\"cdr3\": \"CASSDQSLGPDTEAFF\", \"cdr3_old\": \"CASS...</td>\n      <td>0</td>\n      <td>sort</td>\n      <td>amplicon</td>\n      <td>no</td>\n      <td>no</td>\n    </tr>\n    <tr>\n      <th>38500</th>\n      <td>8832</td>\n      <td>TRB</td>\n      <td>CASSPVTGGGSGANVLTF</td>\n      <td>TRBV7-9*01</td>\n      <td>TRBJ2-6*01</td>\n      <td>HomoSapiens</td>\n      <td>HLA-A*03:01</td>\n      <td>B2M</td>\n      <td>MHCI</td>\n      <td>KLGGALQAK</td>\n      <td>...</td>\n      <td>CMV</td>\n      <td>https://www.10xgenomics.com/resources/applicat...</td>\n      <td>{\"frequency\": \"1/33921\", \"identification\": \"de...</td>\n      <td>{\"cell.subset\": \"\", \"clone.id\": \"\", \"donor.MHC...</td>\n      <td>{\"cdr3\": \"CASSPVTGGGSGANVLTF\", \"cdr3_old\": \"CA...</td>\n      <td>0</td>\n      <td>sort</td>\n      <td>singlecell</td>\n      <td>no</td>\n      <td>no</td>\n    </tr>\n    <tr>\n      <th>4957</th>\n      <td>0</td>\n      <td>TRB</td>\n      <td>CASSFPDTHEQYF</td>\n      <td>TRBV27*01</td>\n      <td>TRBJ2-7*01</td>\n      <td>HomoSapiens</td>\n      <td>HLA-A*02</td>\n      <td>B2M</td>\n      <td>MHCI</td>\n      <td>RLQSLQTYV</td>\n      <td>...</td>\n      <td>SARS-CoV-2</td>\n      <td>https://github.com/antigenomics/vdjdb-db/issue...</td>\n      <td>{\"frequency\": \"0.0146948\", \"identification\": \"...</td>\n      <td>{\"cell.subset\": \"\", \"clone.id\": \"\", \"donor.MHC...</td>\n      <td>{\"cdr3\": \"CASSFPDTHEQYF\", \"cdr3_old\": \"CASSFPD...</td>\n      <td>0</td>\n      <td>sort</td>\n      <td>amplicon</td>\n      <td>no</td>\n      <td>no</td>\n    </tr>\n    <tr>\n      <th>27197</th>\n      <td>3181</td>\n      <td>TRA</td>\n      <td>CAVSTGFQKLVF</td>\n      <td>TRAV12-2*01</td>\n      <td>TRAJ8*01</td>\n      <td>HomoSapiens</td>\n      <td>HLA-A*02:01</td>\n      <td>B2M</td>\n      <td>MHCI</td>\n      <td>ELAGIGILTV</td>\n      <td>...</td>\n      <td>HomoSapiens</td>\n      <td>https://www.10xgenomics.com/resources/applicat...</td>\n      <td>{\"frequency\": \"1/11684\", \"identification\": \"de...</td>\n      <td>{\"cell.subset\": \"\", \"clone.id\": \"\", \"donor.MHC...</td>\n      <td>{\"cdr3\": \"CAVSTGFQKLVF\", \"cdr3_old\": \"CAVSTGFQ...</td>\n      <td>0</td>\n      <td>sort</td>\n      <td>singlecell</td>\n      <td>no</td>\n      <td>no</td>\n    </tr>\n    <tr>\n      <th>71963</th>\n      <td>25396</td>\n      <td>TRA</td>\n      <td>CDLVETGGYKVVF</td>\n      <td>TRAV6-4*03</td>\n      <td>TRAJ12*01</td>\n      <td>MusMusculus</td>\n      <td>H-2Kb</td>\n      <td>B2M</td>\n      <td>MHCI</td>\n      <td>SSPPMFRV</td>\n      <td>...</td>\n      <td>MCMV</td>\n      <td>PMID:28636592</td>\n      <td>{\"frequency\": \"1/94\", \"identification\": \"tetra...</td>\n      <td>{\"cell.subset\": \"CD8+\", \"clone.id\": \"\", \"donor...</td>\n      <td>{\"cdr3\": \"CDLVETGGYKVVF\", \"cdr3_old\": \"CDLVETG...</td>\n      <td>0</td>\n      <td>sort</td>\n      <td>singlecell</td>\n      <td>no</td>\n      <td>yes</td>\n    </tr>\n    <tr>\n      <th>39425</th>\n      <td>9295</td>\n      <td>TRA</td>\n      <td>CAQEAGSYQLTF</td>\n      <td>TRAV8-3*01</td>\n      <td>TRAJ28*01</td>\n      <td>HomoSapiens</td>\n      <td>HLA-A*03:01</td>\n      <td>B2M</td>\n      <td>MHCI</td>\n      <td>KLGGALQAK</td>\n      <td>...</td>\n      <td>CMV</td>\n      <td>https://www.10xgenomics.com/resources/applicat...</td>\n      <td>{\"frequency\": \"2/33921\", \"identification\": \"de...</td>\n      <td>{\"cell.subset\": \"\", \"clone.id\": \"\", \"donor.MHC...</td>\n      <td>{\"cdr3\": \"CAQEAGSYQLTF\", \"cdr3_old\": \"CAQEAGSY...</td>\n      <td>0</td>\n      <td>sort</td>\n      <td>singlecell</td>\n      <td>no</td>\n      <td>no</td>\n    </tr>\n    <tr>\n      <th>24170</th>\n      <td>0</td>\n      <td>TRA</td>\n      <td>CATETSNYQLIW</td>\n      <td>TRAV17*01</td>\n      <td>TRAJ33*01</td>\n      <td>HomoSapiens</td>\n      <td>HLA-B*35:01</td>\n      <td>B2M</td>\n      <td>MHCI</td>\n      <td>IPSINVHHY</td>\n      <td>...</td>\n      <td>CMV</td>\n      <td>PMID:17459926</td>\n      <td>{\"frequency\": \"3/11\", \"identification\": \"tetra...</td>\n      <td>{\"cell.subset\": \"\", \"clone.id\": \"\", \"donor.MHC...</td>\n      <td>{\"cdr3\": \"CATETSNYQLIW\", \"cdr3_old\": \"CATETSNY...</td>\n      <td>1</td>\n      <td>sort</td>\n      <td>sanger</td>\n      <td>no</td>\n      <td>no</td>\n    </tr>\n    <tr>\n      <th>82448</th>\n      <td>0</td>\n      <td>TRB</td>\n      <td>CASRTTGGNQPQYF</td>\n      <td>TRBV13*01</td>\n      <td>TRBJ1-5*01</td>\n      <td>MacacaMulatta</td>\n      <td>Mamu-A*01</td>\n      <td>B2M</td>\n      <td>MHCI</td>\n      <td>TTPESANL</td>\n      <td>...</td>\n      <td>SIV</td>\n      <td>PMID:15589168</td>\n      <td>{\"frequency\": \"1/100\", \"identification\": \"tetr...</td>\n      <td>{\"cell.subset\": \"\", \"clone.id\": \"\", \"donor.MHC...</td>\n      <td>{\"cdr3\": \"CASRTTGGNQPQYF\", \"cdr3_old\": \"CASRTT...</td>\n      <td>0</td>\n      <td>sort</td>\n      <td>sanger</td>\n      <td>no</td>\n      <td>no</td>\n    </tr>\n  </tbody>\n</table>\n<p>10 rows × 21 columns</p>\n</div>"
     },
     "execution_count": 26,
     "metadata": {},
     "output_type": "execute_result"
    }
   ],
   "source": [
    "#  Print random\n",
    "df_vdjdb.sample(10)"
   ],
   "metadata": {
    "collapsed": false
   }
  },
  {
   "cell_type": "code",
   "execution_count": 27,
   "outputs": [
    {
     "name": "stdout",
     "output_type": "stream",
     "text": [
      "Number of unique epitopes: 1150\n"
     ]
    }
   ],
   "source": [
    "# Get the number of unique antigen.epitope\n",
    "epitopes = df_vdjdb['antigen.epitope'].unique()\n",
    "print(f'Number of unique epitopes: {len(epitopes)}')"
   ],
   "metadata": {
    "collapsed": false
   }
  },
  {
   "cell_type": "code",
   "execution_count": 28,
   "outputs": [
    {
     "data": {
      "text/plain": "KLGGALQAK     27948\nGILGFVFTL     10024\nNLVPMVATV      7959\nAVFDRKSDAK     3546\nRAKFKQLL       2733\nELAGIGILTV     2687\nGLCTLVAML      1844\nYLQPRTFLL      1683\nIVTDFSVIK      1486\nSSYRRPVGI      1322\nName: antigen.epitope, dtype: int64"
     },
     "execution_count": 28,
     "metadata": {},
     "output_type": "execute_result"
    }
   ],
   "source": [
    "# Get the top 10 epitopes\n",
    "epitope_counts = df_vdjdb['antigen.epitope'].value_counts()\n",
    "epitope_counts.head(10)"
   ],
   "metadata": {
    "collapsed": false
   }
  },
  {
   "cell_type": "code",
   "execution_count": 29,
   "outputs": [
    {
     "data": {
      "text/plain": "0        30789\n19521        2\n19519        2\n19518        2\n19517        2\n19516        2\n19515        2\n19514        2\n19513        2\n19512        2\nName: complex.id, dtype: int64"
     },
     "execution_count": 29,
     "metadata": {},
     "output_type": "execute_result"
    }
   ],
   "source": [
    "complex_id_counts = df_vdjdb['complex.id'].value_counts()\n",
    "complex_id_counts.head(10)"
   ],
   "metadata": {
    "collapsed": false
   }
  },
  {
   "cell_type": "markdown",
   "source": [
    "Except for 0, they all occur at most twice, so I guess same complex means the alpha and beta belong together."
   ],
   "metadata": {
    "collapsed": false
   }
  },
  {
   "cell_type": "code",
   "execution_count": 30,
   "outputs": [],
   "source": [
    "top_10_epitopes = epitope_counts.index[:10]"
   ],
   "metadata": {
    "collapsed": false
   }
  },
  {
   "cell_type": "code",
   "execution_count": 31,
   "outputs": [],
   "source": [
    "epitope = \"KLGGALQAK\""
   ],
   "metadata": {
    "collapsed": false
   }
  },
  {
   "cell_type": "code",
   "execution_count": 32,
   "outputs": [
    {
     "data": {
      "text/plain": "   cid type  v\n0    1    A  1\n1    1    B  2\n2    2    B  3\n3    3    A  4",
      "text/html": "<div>\n<style scoped>\n    .dataframe tbody tr th:only-of-type {\n        vertical-align: middle;\n    }\n\n    .dataframe tbody tr th {\n        vertical-align: top;\n    }\n\n    .dataframe thead th {\n        text-align: right;\n    }\n</style>\n<table border=\"1\" class=\"dataframe\">\n  <thead>\n    <tr style=\"text-align: right;\">\n      <th></th>\n      <th>cid</th>\n      <th>type</th>\n      <th>v</th>\n    </tr>\n  </thead>\n  <tbody>\n    <tr>\n      <th>0</th>\n      <td>1</td>\n      <td>A</td>\n      <td>1</td>\n    </tr>\n    <tr>\n      <th>1</th>\n      <td>1</td>\n      <td>B</td>\n      <td>2</td>\n    </tr>\n    <tr>\n      <th>2</th>\n      <td>2</td>\n      <td>B</td>\n      <td>3</td>\n    </tr>\n    <tr>\n      <th>3</th>\n      <td>3</td>\n      <td>A</td>\n      <td>4</td>\n    </tr>\n  </tbody>\n</table>\n</div>"
     },
     "execution_count": 32,
     "metadata": {},
     "output_type": "execute_result"
    }
   ],
   "source": [
    "import pandas as pd\n",
    "test_data = {\"cid\": [1, 1, 2, 3],\n",
    "             \"type\": [\"A\", \"B\", \"B\", \"A\"],\n",
    "             \"v\": [1, 2, 3, 4]}\n",
    "test_df = pd.DataFrame(test_data)\n",
    "test_df"
   ],
   "metadata": {
    "collapsed": false
   }
  },
  {
   "cell_type": "code",
   "execution_count": 33,
   "outputs": [
    {
     "data": {
      "text/plain": "   cid type_A  v_A type_B  v_B\n0    1      A  1.0      B  2.0\n1    3      A  4.0    NaN  NaN\n2    2    NaN  NaN      B  3.0",
      "text/html": "<div>\n<style scoped>\n    .dataframe tbody tr th:only-of-type {\n        vertical-align: middle;\n    }\n\n    .dataframe tbody tr th {\n        vertical-align: top;\n    }\n\n    .dataframe thead th {\n        text-align: right;\n    }\n</style>\n<table border=\"1\" class=\"dataframe\">\n  <thead>\n    <tr style=\"text-align: right;\">\n      <th></th>\n      <th>cid</th>\n      <th>type_A</th>\n      <th>v_A</th>\n      <th>type_B</th>\n      <th>v_B</th>\n    </tr>\n  </thead>\n  <tbody>\n    <tr>\n      <th>0</th>\n      <td>1</td>\n      <td>A</td>\n      <td>1.0</td>\n      <td>B</td>\n      <td>2.0</td>\n    </tr>\n    <tr>\n      <th>1</th>\n      <td>3</td>\n      <td>A</td>\n      <td>4.0</td>\n      <td>NaN</td>\n      <td>NaN</td>\n    </tr>\n    <tr>\n      <th>2</th>\n      <td>2</td>\n      <td>NaN</td>\n      <td>NaN</td>\n      <td>B</td>\n      <td>3.0</td>\n    </tr>\n  </tbody>\n</table>\n</div>"
     },
     "execution_count": 33,
     "metadata": {},
     "output_type": "execute_result"
    }
   ],
   "source": [
    "test_df_a = test_df[test_df[\"type\"] == \"A\"]\n",
    "test_df_b = test_df[test_df[\"type\"] == \"B\"]\n",
    "\n",
    "# df_new = test_df_a.join(test_df_b, on=\"cid\", how=\"outer\", lsuffix=\"_A\", rsuffix=\"_B\")\n",
    "df_new = test_df_a.merge(test_df_b, on=\"cid\", how=\"outer\", suffixes=(\"_A\", \"_B\"))\n",
    "df_new"
   ],
   "metadata": {
    "collapsed": false
   }
  },
  {
   "cell_type": "code",
   "execution_count": 35,
   "outputs": [
    {
     "data": {
      "text/plain": "   complex.id gene_alfa       cdr3_alfa      v.segm_alfa j.segm_alfa  \\\n0           1       TRA   CIVRAPGRADMRF      TRAV26-1*01   TRAJ43*01   \n1           2       TRA  CAVPSGAGSYQLTF        TRAV20*01   TRAJ28*01   \n2           3       TRA     CAVKASGSRLT         TRAV2*01         NaN   \n3           4       TRA   CAYRPPGTYKYIF  TRAV38-2/DV8*01   TRAJ40*01   \n4           5       TRA   CIVRAPGRADMRF      TRAV26-1*01   TRAJ43*01   \n\n  species_alfa mhc.a_alfa mhc.b_alfa mhc.class_alfa antigen.epitope_alfa  ...  \\\n0  HomoSapiens   HLA-B*08        B2M           MHCI             FLKEKGGL  ...   \n1  HomoSapiens   HLA-B*08        B2M           MHCI             FLKEKGGL  ...   \n2  HomoSapiens   HLA-B*08        B2M           MHCI             FLKEKGGL  ...   \n3  HomoSapiens   HLA-B*08        B2M           MHCI             FLKEKGGL  ...   \n4  HomoSapiens   HLA-B*08        B2M           MHCI             FLKEQGGL  ...   \n\n  antigen.species_beta reference.id_beta  \\\n0                HIV-1     PMID:15596521   \n1                HIV-1     PMID:15596521   \n2                HIV-1     PMID:15596521   \n3                HIV-1     PMID:15596521   \n4                HIV-1     PMID:15596521   \n\n                                         method_beta  \\\n0  {\"frequency\": \"\", \"identification\": \"tetramer-...   \n1  {\"frequency\": \"\", \"identification\": \"tetramer-...   \n2  {\"frequency\": \"\", \"identification\": \"tetramer-...   \n3  {\"frequency\": \"\", \"identification\": \"tetramer-...   \n4  {\"frequency\": \"\", \"identification\": \"tetramer-...   \n\n                                           meta_beta  \\\n0  {\"cell.subset\": \"CD8+\", \"clone.id\": \"\", \"donor...   \n1  {\"cell.subset\": \"CD8+\", \"clone.id\": \"\", \"donor...   \n2  {\"cell.subset\": \"CD8+\", \"clone.id\": \"\", \"donor...   \n3  {\"cell.subset\": \"CD8+\", \"clone.id\": \"\", \"donor...   \n4  {\"cell.subset\": \"CD8+\", \"clone.id\": \"\", \"donor...   \n\n                                        cdr3fix_beta vdjdb.score_beta  \\\n0  {\"cdr3\": \"CASSYLPGQGDHYSNQPQHF\", \"cdr3_old\": \"...                2   \n1  {\"cdr3\": \"CASSFEPGQGFYSNQPQHF\", \"cdr3_old\": \"C...                2   \n2  {\"cdr3\": \"CASSYEPGQVSHYSNQPQHF\", \"cdr3_old\": \"...                2   \n3  {\"cdr3\": \"CASSALASLNEQFF\", \"cdr3_old\": \"CASSAL...                2   \n4  {\"cdr3\": \"CASSYLPGQGDHYSNQPQHF\", \"cdr3_old\": \"...                2   \n\n   web.method_beta web.method.seq_beta web.cdr3fix.nc_beta  \\\n0             sort              sanger                  no   \n1             sort              sanger                  no   \n2             sort              sanger                  no   \n3             sort              sanger                  no   \n4             sort              sanger                  no   \n\n  web.cdr3fix.unmp_beta  \n0                    no  \n1                    no  \n2                    no  \n3                    no  \n4                    no  \n\n[5 rows x 41 columns]",
      "text/html": "<div>\n<style scoped>\n    .dataframe tbody tr th:only-of-type {\n        vertical-align: middle;\n    }\n\n    .dataframe tbody tr th {\n        vertical-align: top;\n    }\n\n    .dataframe thead th {\n        text-align: right;\n    }\n</style>\n<table border=\"1\" class=\"dataframe\">\n  <thead>\n    <tr style=\"text-align: right;\">\n      <th></th>\n      <th>complex.id</th>\n      <th>gene_alfa</th>\n      <th>cdr3_alfa</th>\n      <th>v.segm_alfa</th>\n      <th>j.segm_alfa</th>\n      <th>species_alfa</th>\n      <th>mhc.a_alfa</th>\n      <th>mhc.b_alfa</th>\n      <th>mhc.class_alfa</th>\n      <th>antigen.epitope_alfa</th>\n      <th>...</th>\n      <th>antigen.species_beta</th>\n      <th>reference.id_beta</th>\n      <th>method_beta</th>\n      <th>meta_beta</th>\n      <th>cdr3fix_beta</th>\n      <th>vdjdb.score_beta</th>\n      <th>web.method_beta</th>\n      <th>web.method.seq_beta</th>\n      <th>web.cdr3fix.nc_beta</th>\n      <th>web.cdr3fix.unmp_beta</th>\n    </tr>\n  </thead>\n  <tbody>\n    <tr>\n      <th>0</th>\n      <td>1</td>\n      <td>TRA</td>\n      <td>CIVRAPGRADMRF</td>\n      <td>TRAV26-1*01</td>\n      <td>TRAJ43*01</td>\n      <td>HomoSapiens</td>\n      <td>HLA-B*08</td>\n      <td>B2M</td>\n      <td>MHCI</td>\n      <td>FLKEKGGL</td>\n      <td>...</td>\n      <td>HIV-1</td>\n      <td>PMID:15596521</td>\n      <td>{\"frequency\": \"\", \"identification\": \"tetramer-...</td>\n      <td>{\"cell.subset\": \"CD8+\", \"clone.id\": \"\", \"donor...</td>\n      <td>{\"cdr3\": \"CASSYLPGQGDHYSNQPQHF\", \"cdr3_old\": \"...</td>\n      <td>2</td>\n      <td>sort</td>\n      <td>sanger</td>\n      <td>no</td>\n      <td>no</td>\n    </tr>\n    <tr>\n      <th>1</th>\n      <td>2</td>\n      <td>TRA</td>\n      <td>CAVPSGAGSYQLTF</td>\n      <td>TRAV20*01</td>\n      <td>TRAJ28*01</td>\n      <td>HomoSapiens</td>\n      <td>HLA-B*08</td>\n      <td>B2M</td>\n      <td>MHCI</td>\n      <td>FLKEKGGL</td>\n      <td>...</td>\n      <td>HIV-1</td>\n      <td>PMID:15596521</td>\n      <td>{\"frequency\": \"\", \"identification\": \"tetramer-...</td>\n      <td>{\"cell.subset\": \"CD8+\", \"clone.id\": \"\", \"donor...</td>\n      <td>{\"cdr3\": \"CASSFEPGQGFYSNQPQHF\", \"cdr3_old\": \"C...</td>\n      <td>2</td>\n      <td>sort</td>\n      <td>sanger</td>\n      <td>no</td>\n      <td>no</td>\n    </tr>\n    <tr>\n      <th>2</th>\n      <td>3</td>\n      <td>TRA</td>\n      <td>CAVKASGSRLT</td>\n      <td>TRAV2*01</td>\n      <td>NaN</td>\n      <td>HomoSapiens</td>\n      <td>HLA-B*08</td>\n      <td>B2M</td>\n      <td>MHCI</td>\n      <td>FLKEKGGL</td>\n      <td>...</td>\n      <td>HIV-1</td>\n      <td>PMID:15596521</td>\n      <td>{\"frequency\": \"\", \"identification\": \"tetramer-...</td>\n      <td>{\"cell.subset\": \"CD8+\", \"clone.id\": \"\", \"donor...</td>\n      <td>{\"cdr3\": \"CASSYEPGQVSHYSNQPQHF\", \"cdr3_old\": \"...</td>\n      <td>2</td>\n      <td>sort</td>\n      <td>sanger</td>\n      <td>no</td>\n      <td>no</td>\n    </tr>\n    <tr>\n      <th>3</th>\n      <td>4</td>\n      <td>TRA</td>\n      <td>CAYRPPGTYKYIF</td>\n      <td>TRAV38-2/DV8*01</td>\n      <td>TRAJ40*01</td>\n      <td>HomoSapiens</td>\n      <td>HLA-B*08</td>\n      <td>B2M</td>\n      <td>MHCI</td>\n      <td>FLKEKGGL</td>\n      <td>...</td>\n      <td>HIV-1</td>\n      <td>PMID:15596521</td>\n      <td>{\"frequency\": \"\", \"identification\": \"tetramer-...</td>\n      <td>{\"cell.subset\": \"CD8+\", \"clone.id\": \"\", \"donor...</td>\n      <td>{\"cdr3\": \"CASSALASLNEQFF\", \"cdr3_old\": \"CASSAL...</td>\n      <td>2</td>\n      <td>sort</td>\n      <td>sanger</td>\n      <td>no</td>\n      <td>no</td>\n    </tr>\n    <tr>\n      <th>4</th>\n      <td>5</td>\n      <td>TRA</td>\n      <td>CIVRAPGRADMRF</td>\n      <td>TRAV26-1*01</td>\n      <td>TRAJ43*01</td>\n      <td>HomoSapiens</td>\n      <td>HLA-B*08</td>\n      <td>B2M</td>\n      <td>MHCI</td>\n      <td>FLKEQGGL</td>\n      <td>...</td>\n      <td>HIV-1</td>\n      <td>PMID:15596521</td>\n      <td>{\"frequency\": \"\", \"identification\": \"tetramer-...</td>\n      <td>{\"cell.subset\": \"CD8+\", \"clone.id\": \"\", \"donor...</td>\n      <td>{\"cdr3\": \"CASSYLPGQGDHYSNQPQHF\", \"cdr3_old\": \"...</td>\n      <td>2</td>\n      <td>sort</td>\n      <td>sanger</td>\n      <td>no</td>\n      <td>no</td>\n    </tr>\n  </tbody>\n</table>\n<p>5 rows × 41 columns</p>\n</div>"
     },
     "execution_count": 35,
     "metadata": {},
     "output_type": "execute_result"
    }
   ],
   "source": [
    "df_vdjdb_cid_0 = df_vdjdb[df_vdjdb[\"complex.id\"] == 0]\n",
    "df_vdjdb_no_cid_0 = df_vdjdb.drop(df_vdjdb[df_vdjdb[\"complex.id\"] == 0].index)\n",
    "\n",
    "df_tra = df_vdjdb_no_cid_0[df_vdjdb_no_cid_0[\"gene\"] == \"TRA\"]\n",
    "df_trb = df_vdjdb_no_cid_0[df_vdjdb_no_cid_0[\"gene\"] == \"TRB\"]\n",
    "\n",
    "df_new = df_tra.merge(df_trb, on=\"complex.id\", how=\"outer\", suffixes=(\"_alfa\", \"_beta\"))\n",
    "df_new.head()"
   ],
   "metadata": {
    "collapsed": false
   }
  },
  {
   "cell_type": "code",
   "execution_count": null,
   "outputs": [],
   "source": [],
   "metadata": {
    "collapsed": false
   }
  }
 ],
 "metadata": {
  "kernelspec": {
   "display_name": "Python 3",
   "language": "python",
   "name": "python3"
  },
  "language_info": {
   "codemirror_mode": {
    "name": "ipython",
    "version": 2
   },
   "file_extension": ".py",
   "mimetype": "text/x-python",
   "name": "python",
   "nbconvert_exporter": "python",
   "pygments_lexer": "ipython2",
   "version": "2.7.6"
  }
 },
 "nbformat": 4,
 "nbformat_minor": 0
}
