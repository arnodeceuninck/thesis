{
 "cells": [
  {
   "cell_type": "markdown",
   "source": [
    "# Features"
   ],
   "metadata": {
    "collapsed": false,
    "pycharm": {
     "name": "#%% md\n"
    }
   }
  },
  {
   "cell_type": "code",
   "execution_count": 22,
   "outputs": [
    {
     "data": {
      "text/plain": "         CDR3_alfa       TRAV       TRAJ          CDR3_beta        TRBV  \\\n0              NaN        NaN        NaN    CASSLTSWGNNEQFF     TRBV5-5   \n1              NaN        NaN        NaN  CASSLEATGGTYNEQFF     TRBV5-1   \n2              NaN        NaN        NaN   CASSSPRRGIQETQYF  TRBV5-1*01   \n3  CAGPGGSSNTGKLIF  TRAV35*01  TRAJ37*01      CASSLIYPGELFF   TRBV27*01   \n4              NaN        NaN        NaN   CASSFEAGATYNEQFF     TRBV7-6   \n\n         TRBJ  reaction  \n0     TRBJ2-1         0  \n1     TRBJ2-1         0  \n2  TRBJ2-5*01         1  \n3  TRBJ2-2*01         1  \n4     TRBJ2-1         0  ",
      "text/html": "<div>\n<style scoped>\n    .dataframe tbody tr th:only-of-type {\n        vertical-align: middle;\n    }\n\n    .dataframe tbody tr th {\n        vertical-align: top;\n    }\n\n    .dataframe thead th {\n        text-align: right;\n    }\n</style>\n<table border=\"1\" class=\"dataframe\">\n  <thead>\n    <tr style=\"text-align: right;\">\n      <th></th>\n      <th>CDR3_alfa</th>\n      <th>TRAV</th>\n      <th>TRAJ</th>\n      <th>CDR3_beta</th>\n      <th>TRBV</th>\n      <th>TRBJ</th>\n      <th>reaction</th>\n    </tr>\n  </thead>\n  <tbody>\n    <tr>\n      <th>0</th>\n      <td>NaN</td>\n      <td>NaN</td>\n      <td>NaN</td>\n      <td>CASSLTSWGNNEQFF</td>\n      <td>TRBV5-5</td>\n      <td>TRBJ2-1</td>\n      <td>0</td>\n    </tr>\n    <tr>\n      <th>1</th>\n      <td>NaN</td>\n      <td>NaN</td>\n      <td>NaN</td>\n      <td>CASSLEATGGTYNEQFF</td>\n      <td>TRBV5-1</td>\n      <td>TRBJ2-1</td>\n      <td>0</td>\n    </tr>\n    <tr>\n      <th>2</th>\n      <td>NaN</td>\n      <td>NaN</td>\n      <td>NaN</td>\n      <td>CASSSPRRGIQETQYF</td>\n      <td>TRBV5-1*01</td>\n      <td>TRBJ2-5*01</td>\n      <td>1</td>\n    </tr>\n    <tr>\n      <th>3</th>\n      <td>CAGPGGSSNTGKLIF</td>\n      <td>TRAV35*01</td>\n      <td>TRAJ37*01</td>\n      <td>CASSLIYPGELFF</td>\n      <td>TRBV27*01</td>\n      <td>TRBJ2-2*01</td>\n      <td>1</td>\n    </tr>\n    <tr>\n      <th>4</th>\n      <td>NaN</td>\n      <td>NaN</td>\n      <td>NaN</td>\n      <td>CASSFEAGATYNEQFF</td>\n      <td>TRBV7-6</td>\n      <td>TRBJ2-1</td>\n      <td>0</td>\n    </tr>\n  </tbody>\n</table>\n</div>"
     },
     "execution_count": 22,
     "metadata": {},
     "output_type": "execute_result"
    }
   ],
   "source": [
    "import numpy as np\n",
    "\n",
    "from util import get_train_dataset\n",
    "\n",
    "df = get_train_dataset()\n",
    "df.head()"
   ],
   "metadata": {
    "collapsed": false,
    "pycharm": {
     "name": "#%%\n"
    }
   }
  },
  {
   "cell_type": "code",
   "execution_count": 23,
   "outputs": [],
   "source": [
    "feature_functions = []"
   ],
   "metadata": {
    "collapsed": false,
    "pycharm": {
     "name": "#%%\n"
    }
   }
  },
  {
   "cell_type": "code",
   "execution_count": 24,
   "outputs": [],
   "source": [
    "test_df = df[['CDR3_beta', 'TRBV', 'TRBJ']].rename(columns={'CDR3_beta': 'CDR3', 'TRBV': 'V', 'TRBJ': 'J'})"
   ],
   "metadata": {
    "collapsed": false,
    "pycharm": {
     "name": "#%%\n"
    }
   }
  },
  {
   "cell_type": "markdown",
   "source": [
    "# One-hot encoding"
   ],
   "metadata": {
    "collapsed": false,
    "pycharm": {
     "name": "#%% md\n"
    }
   }
  },
  {
   "cell_type": "code",
   "execution_count": 25,
   "outputs": [
    {
     "data": {
      "text/plain": "     J  J=TRBJ1-1  J=TRBJ1-1*01  J=TRBJ1-2  J=TRBJ1-2*01  J=TRBJ1-3  \\\n0  0.0        0.0           0.0        0.0           0.0        0.0   \n1  0.0        0.0           0.0        0.0           0.0        0.0   \n2  0.0        0.0           0.0        0.0           0.0        0.0   \n3  0.0        0.0           0.0        0.0           0.0        0.0   \n4  0.0        0.0           0.0        0.0           0.0        0.0   \n\n   J=TRBJ1-3*01  J=TRBJ1-4  J=TRBJ1-4*01  J=TRBJ1-5  ...  V=TRBV7-6*01  \\\n0           0.0        0.0           0.0        0.0  ...           0.0   \n1           0.0        0.0           0.0        0.0  ...           0.0   \n2           0.0        0.0           0.0        0.0  ...           0.0   \n3           0.0        0.0           0.0        0.0  ...           0.0   \n4           0.0        0.0           0.0        0.0  ...           0.0   \n\n   V=TRBV7-7  V=TRBV7-7*01  V=TRBV7-8  V=TRBV7-8*01  V=TRBV7-9  V=TRBV7-9*01  \\\n0        0.0           0.0        0.0           0.0        0.0           0.0   \n1        0.0           0.0        0.0           0.0        0.0           0.0   \n2        0.0           0.0        0.0           0.0        0.0           0.0   \n3        0.0           0.0        0.0           0.0        0.0           0.0   \n4        0.0           0.0        0.0           0.0        0.0           0.0   \n\n   V=TRBV7-9*03  V=TRBV9  V=TRBV9*01  \n0           0.0      0.0         0.0  \n1           0.0      0.0         0.0  \n2           0.0      0.0         0.0  \n3           0.0      0.0         0.0  \n4           0.0      0.0         0.0  \n\n[5 rows x 133 columns]",
      "text/html": "<div>\n<style scoped>\n    .dataframe tbody tr th:only-of-type {\n        vertical-align: middle;\n    }\n\n    .dataframe tbody tr th {\n        vertical-align: top;\n    }\n\n    .dataframe thead th {\n        text-align: right;\n    }\n</style>\n<table border=\"1\" class=\"dataframe\">\n  <thead>\n    <tr style=\"text-align: right;\">\n      <th></th>\n      <th>J</th>\n      <th>J=TRBJ1-1</th>\n      <th>J=TRBJ1-1*01</th>\n      <th>J=TRBJ1-2</th>\n      <th>J=TRBJ1-2*01</th>\n      <th>J=TRBJ1-3</th>\n      <th>J=TRBJ1-3*01</th>\n      <th>J=TRBJ1-4</th>\n      <th>J=TRBJ1-4*01</th>\n      <th>J=TRBJ1-5</th>\n      <th>...</th>\n      <th>V=TRBV7-6*01</th>\n      <th>V=TRBV7-7</th>\n      <th>V=TRBV7-7*01</th>\n      <th>V=TRBV7-8</th>\n      <th>V=TRBV7-8*01</th>\n      <th>V=TRBV7-9</th>\n      <th>V=TRBV7-9*01</th>\n      <th>V=TRBV7-9*03</th>\n      <th>V=TRBV9</th>\n      <th>V=TRBV9*01</th>\n    </tr>\n  </thead>\n  <tbody>\n    <tr>\n      <th>0</th>\n      <td>0.0</td>\n      <td>0.0</td>\n      <td>0.0</td>\n      <td>0.0</td>\n      <td>0.0</td>\n      <td>0.0</td>\n      <td>0.0</td>\n      <td>0.0</td>\n      <td>0.0</td>\n      <td>0.0</td>\n      <td>...</td>\n      <td>0.0</td>\n      <td>0.0</td>\n      <td>0.0</td>\n      <td>0.0</td>\n      <td>0.0</td>\n      <td>0.0</td>\n      <td>0.0</td>\n      <td>0.0</td>\n      <td>0.0</td>\n      <td>0.0</td>\n    </tr>\n    <tr>\n      <th>1</th>\n      <td>0.0</td>\n      <td>0.0</td>\n      <td>0.0</td>\n      <td>0.0</td>\n      <td>0.0</td>\n      <td>0.0</td>\n      <td>0.0</td>\n      <td>0.0</td>\n      <td>0.0</td>\n      <td>0.0</td>\n      <td>...</td>\n      <td>0.0</td>\n      <td>0.0</td>\n      <td>0.0</td>\n      <td>0.0</td>\n      <td>0.0</td>\n      <td>0.0</td>\n      <td>0.0</td>\n      <td>0.0</td>\n      <td>0.0</td>\n      <td>0.0</td>\n    </tr>\n    <tr>\n      <th>2</th>\n      <td>0.0</td>\n      <td>0.0</td>\n      <td>0.0</td>\n      <td>0.0</td>\n      <td>0.0</td>\n      <td>0.0</td>\n      <td>0.0</td>\n      <td>0.0</td>\n      <td>0.0</td>\n      <td>0.0</td>\n      <td>...</td>\n      <td>0.0</td>\n      <td>0.0</td>\n      <td>0.0</td>\n      <td>0.0</td>\n      <td>0.0</td>\n      <td>0.0</td>\n      <td>0.0</td>\n      <td>0.0</td>\n      <td>0.0</td>\n      <td>0.0</td>\n    </tr>\n    <tr>\n      <th>3</th>\n      <td>0.0</td>\n      <td>0.0</td>\n      <td>0.0</td>\n      <td>0.0</td>\n      <td>0.0</td>\n      <td>0.0</td>\n      <td>0.0</td>\n      <td>0.0</td>\n      <td>0.0</td>\n      <td>0.0</td>\n      <td>...</td>\n      <td>0.0</td>\n      <td>0.0</td>\n      <td>0.0</td>\n      <td>0.0</td>\n      <td>0.0</td>\n      <td>0.0</td>\n      <td>0.0</td>\n      <td>0.0</td>\n      <td>0.0</td>\n      <td>0.0</td>\n    </tr>\n    <tr>\n      <th>4</th>\n      <td>0.0</td>\n      <td>0.0</td>\n      <td>0.0</td>\n      <td>0.0</td>\n      <td>0.0</td>\n      <td>0.0</td>\n      <td>0.0</td>\n      <td>0.0</td>\n      <td>0.0</td>\n      <td>0.0</td>\n      <td>...</td>\n      <td>0.0</td>\n      <td>0.0</td>\n      <td>0.0</td>\n      <td>0.0</td>\n      <td>0.0</td>\n      <td>0.0</td>\n      <td>0.0</td>\n      <td>0.0</td>\n      <td>0.0</td>\n      <td>0.0</td>\n    </tr>\n  </tbody>\n</table>\n<p>5 rows × 133 columns</p>\n</div>"
     },
     "execution_count": 25,
     "metadata": {},
     "output_type": "execute_result"
    }
   ],
   "source": [
    "from sklearn import feature_extraction\n",
    "import pandas as pd\n",
    "\n",
    "ONEHOT_ENCODER = feature_extraction.DictVectorizer(sparse=False)\n",
    "\n",
    "def onehot_encode(df, test=False):\n",
    "    # One hot encode the columns (creates a new column per unique value here and fills it with 1 or 0)\n",
    "    onehot_cols = ['V', 'J']\n",
    "    if not test:\n",
    "        encodings = ONEHOT_ENCODER.fit_transform(df[onehot_cols].to_dict(orient='records'))\n",
    "    else:\n",
    "        encodings = ONEHOT_ENCODER.transform(df[onehot_cols].to_dict(orient='records'))\n",
    "    onehot_df = pd.DataFrame(encodings, columns=ONEHOT_ENCODER.get_feature_names_out())\n",
    "    return onehot_df\n",
    "\n",
    "\n",
    "feature_functions.append(onehot_encode)\n",
    "\n",
    "onehot_encode(test_df).head()"
   ],
   "metadata": {
    "collapsed": false,
    "pycharm": {
     "name": "#%%\n"
    }
   }
  },
  {
   "cell_type": "markdown",
   "source": [
    "# sequence length"
   ],
   "metadata": {
    "collapsed": false,
    "pycharm": {
     "name": "#%% md\n"
    }
   }
  },
  {
   "cell_type": "code",
   "execution_count": 26,
   "outputs": [
    {
     "data": {
      "text/plain": "   CDR3_length\n0           15\n1           17\n2           16\n3           13\n4           16",
      "text/html": "<div>\n<style scoped>\n    .dataframe tbody tr th:only-of-type {\n        vertical-align: middle;\n    }\n\n    .dataframe tbody tr th {\n        vertical-align: top;\n    }\n\n    .dataframe thead th {\n        text-align: right;\n    }\n</style>\n<table border=\"1\" class=\"dataframe\">\n  <thead>\n    <tr style=\"text-align: right;\">\n      <th></th>\n      <th>CDR3_length</th>\n    </tr>\n  </thead>\n  <tbody>\n    <tr>\n      <th>0</th>\n      <td>15</td>\n    </tr>\n    <tr>\n      <th>1</th>\n      <td>17</td>\n    </tr>\n    <tr>\n      <th>2</th>\n      <td>16</td>\n    </tr>\n    <tr>\n      <th>3</th>\n      <td>13</td>\n    </tr>\n    <tr>\n      <th>4</th>\n      <td>16</td>\n    </tr>\n  </tbody>\n</table>\n</div>"
     },
     "execution_count": 26,
     "metadata": {},
     "output_type": "execute_result"
    }
   ],
   "source": [
    "from pyteomics import parser\n",
    "\n",
    "\n",
    "def get_length(sequence):\n",
    "    if not isinstance(sequence, str):\n",
    "        # It's probably NaN\n",
    "        return 0\n",
    "    else:\n",
    "        return parser.length(sequence)\n",
    "\n",
    "\n",
    "def cdr3_length(df):\n",
    "    return df['CDR3'].apply(get_length).to_frame('CDR3_length')\n",
    "\n",
    "\n",
    "feature_functions.append(cdr3_length)\n",
    "\n",
    "cdr3_length(test_df).head()"
   ],
   "metadata": {
    "collapsed": false,
    "pycharm": {
     "name": "#%%\n"
    }
   }
  },
  {
   "cell_type": "markdown",
   "source": [
    "# Number of occurences of each amino acid"
   ],
   "metadata": {
    "collapsed": false,
    "pycharm": {
     "name": "#%% md\n"
    }
   }
  },
  {
   "cell_type": "code",
   "execution_count": 27,
   "outputs": [
    {
     "data": {
      "text/plain": "   C_count  A_count  S_count  L_count  T_count  W_count  G_count  N_count  \\\n0      1.0      1.0      3.0      1.0      1.0      1.0      1.0      2.0   \n1      1.0      2.0      2.0      1.0      2.0      0.0      2.0      1.0   \n2      1.0      1.0      3.0      0.0      1.0      0.0      1.0      0.0   \n3      1.0      1.0      2.0      2.0      0.0      0.0      1.0      0.0   \n4      1.0      3.0      2.0      0.0      1.0      0.0      1.0      1.0   \n\n   E_count  Q_count  F_count  Y_count  P_count  R_count  I_count  D_count  \\\n0      1.0      1.0      2.0      0.0      0.0      0.0      0.0      0.0   \n1      2.0      1.0      2.0      1.0      0.0      0.0      0.0      0.0   \n2      1.0      2.0      1.0      1.0      1.0      2.0      1.0      0.0   \n3      1.0      0.0      2.0      1.0      1.0      0.0      1.0      0.0   \n4      2.0      1.0      3.0      1.0      0.0      0.0      0.0      0.0   \n\n   V_count  K_count  H_count  M_count  \n0      0.0      0.0      0.0      0.0  \n1      0.0      0.0      0.0      0.0  \n2      0.0      0.0      0.0      0.0  \n3      0.0      0.0      0.0      0.0  \n4      0.0      0.0      0.0      0.0  ",
      "text/html": "<div>\n<style scoped>\n    .dataframe tbody tr th:only-of-type {\n        vertical-align: middle;\n    }\n\n    .dataframe tbody tr th {\n        vertical-align: top;\n    }\n\n    .dataframe thead th {\n        text-align: right;\n    }\n</style>\n<table border=\"1\" class=\"dataframe\">\n  <thead>\n    <tr style=\"text-align: right;\">\n      <th></th>\n      <th>C_count</th>\n      <th>A_count</th>\n      <th>S_count</th>\n      <th>L_count</th>\n      <th>T_count</th>\n      <th>W_count</th>\n      <th>G_count</th>\n      <th>N_count</th>\n      <th>E_count</th>\n      <th>Q_count</th>\n      <th>F_count</th>\n      <th>Y_count</th>\n      <th>P_count</th>\n      <th>R_count</th>\n      <th>I_count</th>\n      <th>D_count</th>\n      <th>V_count</th>\n      <th>K_count</th>\n      <th>H_count</th>\n      <th>M_count</th>\n    </tr>\n  </thead>\n  <tbody>\n    <tr>\n      <th>0</th>\n      <td>1.0</td>\n      <td>1.0</td>\n      <td>3.0</td>\n      <td>1.0</td>\n      <td>1.0</td>\n      <td>1.0</td>\n      <td>1.0</td>\n      <td>2.0</td>\n      <td>1.0</td>\n      <td>1.0</td>\n      <td>2.0</td>\n      <td>0.0</td>\n      <td>0.0</td>\n      <td>0.0</td>\n      <td>0.0</td>\n      <td>0.0</td>\n      <td>0.0</td>\n      <td>0.0</td>\n      <td>0.0</td>\n      <td>0.0</td>\n    </tr>\n    <tr>\n      <th>1</th>\n      <td>1.0</td>\n      <td>2.0</td>\n      <td>2.0</td>\n      <td>1.0</td>\n      <td>2.0</td>\n      <td>0.0</td>\n      <td>2.0</td>\n      <td>1.0</td>\n      <td>2.0</td>\n      <td>1.0</td>\n      <td>2.0</td>\n      <td>1.0</td>\n      <td>0.0</td>\n      <td>0.0</td>\n      <td>0.0</td>\n      <td>0.0</td>\n      <td>0.0</td>\n      <td>0.0</td>\n      <td>0.0</td>\n      <td>0.0</td>\n    </tr>\n    <tr>\n      <th>2</th>\n      <td>1.0</td>\n      <td>1.0</td>\n      <td>3.0</td>\n      <td>0.0</td>\n      <td>1.0</td>\n      <td>0.0</td>\n      <td>1.0</td>\n      <td>0.0</td>\n      <td>1.0</td>\n      <td>2.0</td>\n      <td>1.0</td>\n      <td>1.0</td>\n      <td>1.0</td>\n      <td>2.0</td>\n      <td>1.0</td>\n      <td>0.0</td>\n      <td>0.0</td>\n      <td>0.0</td>\n      <td>0.0</td>\n      <td>0.0</td>\n    </tr>\n    <tr>\n      <th>3</th>\n      <td>1.0</td>\n      <td>1.0</td>\n      <td>2.0</td>\n      <td>2.0</td>\n      <td>0.0</td>\n      <td>0.0</td>\n      <td>1.0</td>\n      <td>0.0</td>\n      <td>1.0</td>\n      <td>0.0</td>\n      <td>2.0</td>\n      <td>1.0</td>\n      <td>1.0</td>\n      <td>0.0</td>\n      <td>1.0</td>\n      <td>0.0</td>\n      <td>0.0</td>\n      <td>0.0</td>\n      <td>0.0</td>\n      <td>0.0</td>\n    </tr>\n    <tr>\n      <th>4</th>\n      <td>1.0</td>\n      <td>3.0</td>\n      <td>2.0</td>\n      <td>0.0</td>\n      <td>1.0</td>\n      <td>0.0</td>\n      <td>1.0</td>\n      <td>1.0</td>\n      <td>2.0</td>\n      <td>1.0</td>\n      <td>3.0</td>\n      <td>1.0</td>\n      <td>0.0</td>\n      <td>0.0</td>\n      <td>0.0</td>\n      <td>0.0</td>\n      <td>0.0</td>\n      <td>0.0</td>\n      <td>0.0</td>\n      <td>0.0</td>\n    </tr>\n  </tbody>\n</table>\n</div>"
     },
     "execution_count": 27,
     "metadata": {},
     "output_type": "execute_result"
    }
   ],
   "source": [
    "def get_amino_acid_composition(sequence):\n",
    "    if not isinstance(sequence, str):\n",
    "        # It's probably NaN\n",
    "        return {}  # {aa: 0 for aa in parser.amino_acids}\n",
    "    else:\n",
    "        composition = parser.amino_acid_composition(sequence)\n",
    "        return composition\n",
    "\n",
    "\n",
    "def aa_occurances(df):\n",
    "    composition = [get_amino_acid_composition(sequence) for sequence in df['CDR3']]\n",
    "    aa_alfa_counts = pd.DataFrame.from_records(composition).fillna(0)\n",
    "    aa_alfa_counts.columns = [f'{column}_count' for column in aa_alfa_counts.columns]\n",
    "    return aa_alfa_counts\n",
    "\n",
    "\n",
    "feature_functions.append(aa_occurances)\n",
    "\n",
    "aa_occurances(test_df).head()"
   ],
   "metadata": {
    "collapsed": false,
    "pycharm": {
     "name": "#%%\n"
    }
   }
  },
  {
   "cell_type": "markdown",
   "source": [
    "# Average physicochemical properties"
   ],
   "metadata": {
    "collapsed": false,
    "pycharm": {
     "name": "#%% md\n"
    }
   }
  },
  {
   "cell_type": "code",
   "execution_count": 28,
   "outputs": [
    {
     "data": {
      "text/plain": "     basicity  hydrophobicity  helicity  mutation_stability\n0  210.340000       -0.165333  1.055333           21.333333\n1  209.888235       -0.261765  1.074118           20.176471\n2  213.637500       -1.021875  1.010625           18.250000\n3  209.830769        1.012308  1.083077           24.384615\n4  210.162500        0.021250  1.077500           19.750000",
      "text/html": "<div>\n<style scoped>\n    .dataframe tbody tr th:only-of-type {\n        vertical-align: middle;\n    }\n\n    .dataframe tbody tr th {\n        vertical-align: top;\n    }\n\n    .dataframe thead th {\n        text-align: right;\n    }\n</style>\n<table border=\"1\" class=\"dataframe\">\n  <thead>\n    <tr style=\"text-align: right;\">\n      <th></th>\n      <th>basicity</th>\n      <th>hydrophobicity</th>\n      <th>helicity</th>\n      <th>mutation_stability</th>\n    </tr>\n  </thead>\n  <tbody>\n    <tr>\n      <th>0</th>\n      <td>210.340000</td>\n      <td>-0.165333</td>\n      <td>1.055333</td>\n      <td>21.333333</td>\n    </tr>\n    <tr>\n      <th>1</th>\n      <td>209.888235</td>\n      <td>-0.261765</td>\n      <td>1.074118</td>\n      <td>20.176471</td>\n    </tr>\n    <tr>\n      <th>2</th>\n      <td>213.637500</td>\n      <td>-1.021875</td>\n      <td>1.010625</td>\n      <td>18.250000</td>\n    </tr>\n    <tr>\n      <th>3</th>\n      <td>209.830769</td>\n      <td>1.012308</td>\n      <td>1.083077</td>\n      <td>24.384615</td>\n    </tr>\n    <tr>\n      <th>4</th>\n      <td>210.162500</td>\n      <td>0.021250</td>\n      <td>1.077500</td>\n      <td>19.750000</td>\n    </tr>\n  </tbody>\n</table>\n</div>"
     },
     "execution_count": 28,
     "metadata": {},
     "output_type": "execute_result"
    }
   ],
   "source": [
    "from util import PHYSCHEM_PROPERTIES\n",
    "\n",
    "\n",
    "def get_property(sequence, prop_lookup):\n",
    "    if not isinstance(sequence, str):\n",
    "        # It's probably NaN\n",
    "        return 0\n",
    "    else:\n",
    "        return np.mean(list(prop_lookup[aa] for aa in sequence))\n",
    "\n",
    "\n",
    "def physchem_properties(df):\n",
    "    physchem_df = pd.DataFrame()\n",
    "    for prop_name, prop_lookup in PHYSCHEM_PROPERTIES.items():\n",
    "        physchem_df[prop_name] = df['CDR3'].apply(get_property, args=(prop_lookup,))\n",
    "    return physchem_df\n",
    "\n",
    "\n",
    "feature_functions.append(physchem_properties)\n",
    "\n",
    "physchem_properties(test_df).head()"
   ],
   "metadata": {
    "collapsed": false,
    "pycharm": {
     "name": "#%%\n"
    }
   }
  },
  {
   "cell_type": "markdown",
   "source": [
    "# peptide mass"
   ],
   "metadata": {
    "collapsed": false,
    "pycharm": {
     "name": "#%% md\n"
    }
   }
  },
  {
   "cell_type": "code",
   "execution_count": 29,
   "outputs": [
    {
     "data": {
      "text/plain": "   peptide_mass\n0   1689.709321\n1   1823.767230\n2   1828.852631\n3   1445.690089\n4   1770.719551",
      "text/html": "<div>\n<style scoped>\n    .dataframe tbody tr th:only-of-type {\n        vertical-align: middle;\n    }\n\n    .dataframe tbody tr th {\n        vertical-align: top;\n    }\n\n    .dataframe thead th {\n        text-align: right;\n    }\n</style>\n<table border=\"1\" class=\"dataframe\">\n  <thead>\n    <tr style=\"text-align: right;\">\n      <th></th>\n      <th>peptide_mass</th>\n    </tr>\n  </thead>\n  <tbody>\n    <tr>\n      <th>0</th>\n      <td>1689.709321</td>\n    </tr>\n    <tr>\n      <th>1</th>\n      <td>1823.767230</td>\n    </tr>\n    <tr>\n      <th>2</th>\n      <td>1828.852631</td>\n    </tr>\n    <tr>\n      <th>3</th>\n      <td>1445.690089</td>\n    </tr>\n    <tr>\n      <th>4</th>\n      <td>1770.719551</td>\n    </tr>\n  </tbody>\n</table>\n</div>"
     },
     "execution_count": 29,
     "metadata": {},
     "output_type": "execute_result"
    }
   ],
   "source": [
    "from pyteomics import mass\n",
    "\n",
    "\n",
    "def get_mass(sequence):\n",
    "    if not isinstance(sequence, str):\n",
    "        # It's probably NaN\n",
    "        return 0\n",
    "    else:\n",
    "        return mass.fast_mass(sequence)\n",
    "\n",
    "def peptide_mass(df):\n",
    "    return df['CDR3'].apply(get_mass).to_frame('peptide_mass')\n",
    "\n",
    "feature_functions.append(peptide_mass)\n",
    "\n",
    "peptide_mass(test_df).head()"
   ],
   "metadata": {
    "collapsed": false,
    "pycharm": {
     "name": "#%%\n"
    }
   }
  },
  {
   "cell_type": "markdown",
   "source": [
    "# pI"
   ],
   "metadata": {
    "collapsed": false,
    "pycharm": {
     "name": "#%% md\n"
    }
   }
  },
  {
   "cell_type": "code",
   "execution_count": 30,
   "outputs": [
    {
     "data": {
      "text/plain": "         pi\n0  3.298340\n1  3.127441\n2  8.842285\n3  3.298340\n4  3.127441",
      "text/html": "<div>\n<style scoped>\n    .dataframe tbody tr th:only-of-type {\n        vertical-align: middle;\n    }\n\n    .dataframe tbody tr th {\n        vertical-align: top;\n    }\n\n    .dataframe thead th {\n        text-align: right;\n    }\n</style>\n<table border=\"1\" class=\"dataframe\">\n  <thead>\n    <tr style=\"text-align: right;\">\n      <th></th>\n      <th>pi</th>\n    </tr>\n  </thead>\n  <tbody>\n    <tr>\n      <th>0</th>\n      <td>3.298340</td>\n    </tr>\n    <tr>\n      <th>1</th>\n      <td>3.127441</td>\n    </tr>\n    <tr>\n      <th>2</th>\n      <td>8.842285</td>\n    </tr>\n    <tr>\n      <th>3</th>\n      <td>3.298340</td>\n    </tr>\n    <tr>\n      <th>4</th>\n      <td>3.127441</td>\n    </tr>\n  </tbody>\n</table>\n</div>"
     },
     "execution_count": 30,
     "metadata": {},
     "output_type": "execute_result"
    }
   ],
   "source": [
    "from pyteomics import electrochem\n",
    "\n",
    "\n",
    "def get_pi(sequence):\n",
    "    if not isinstance(sequence, str):\n",
    "        return 0\n",
    "    else:\n",
    "        return electrochem.pI(sequence)\n",
    "\n",
    "\n",
    "def pi_feature(df):\n",
    "    return df['CDR3'].apply(get_pi).to_frame('pi')\n",
    "\n",
    "feature_functions.append(pi_feature)\n",
    "\n",
    "pi_feature(test_df).head()"
   ],
   "metadata": {
    "collapsed": false,
    "pycharm": {
     "name": "#%%\n"
    }
   }
  },
  {
   "cell_type": "markdown",
   "source": [
    "# Positional features (i.e. localized at  specific amino acid position)\n"
   ],
   "metadata": {
    "collapsed": false,
    "pycharm": {
     "name": "#%% md\n"
    }
   }
  },
  {
   "cell_type": "code",
   "execution_count": 31,
   "outputs": [
    {
     "data": {
      "text/plain": "   pos_-7_C  pos_-6_A  pos_-5_S  pos_-4_S  pos_-3_L  pos_-2_T  pos_-1_S  \\\n0       1.0       1.0       1.0       1.0       1.0       1.0       1.0   \n1       0.0       0.0       1.0       0.0       0.0       0.0       0.0   \n2       0.0       0.0       1.0       1.0       0.0       0.0       0.0   \n3       0.0       0.0       0.0       1.0       0.0       0.0       0.0   \n4       0.0       0.0       1.0       0.0       0.0       0.0       0.0   \n\n   pos_0_W  pos_1_G  pos_2_N  ...  pos_13_pI  pos_14_pI  pos_15_pI  pos_16_pI  \\\n0      1.0      1.0      1.0  ...        0.0        0.0        0.0        0.0   \n1      0.0      1.0      0.0  ...        0.0        0.0        0.0        0.0   \n2      0.0      1.0      0.0  ...        0.0        0.0        0.0        0.0   \n3      0.0      0.0      0.0  ...        0.0        0.0        0.0        0.0   \n4      0.0      0.0      0.0  ...        0.0        0.0        0.0        0.0   \n\n   pos_-19_pI  pos_-18_pI  pos_-17_pI  pos_17_pI  pos_18_pI  pos_19_pI  \n0         0.0         0.0         0.0        0.0        0.0        0.0  \n1         0.0         0.0         0.0        0.0        0.0        0.0  \n2         0.0         0.0         0.0        0.0        0.0        0.0  \n3         0.0         0.0         0.0        0.0        0.0        0.0  \n4         0.0         0.0         0.0        0.0        0.0        0.0  \n\n[5 rows x 581 columns]",
      "text/html": "<div>\n<style scoped>\n    .dataframe tbody tr th:only-of-type {\n        vertical-align: middle;\n    }\n\n    .dataframe tbody tr th {\n        vertical-align: top;\n    }\n\n    .dataframe thead th {\n        text-align: right;\n    }\n</style>\n<table border=\"1\" class=\"dataframe\">\n  <thead>\n    <tr style=\"text-align: right;\">\n      <th></th>\n      <th>pos_-7_C</th>\n      <th>pos_-6_A</th>\n      <th>pos_-5_S</th>\n      <th>pos_-4_S</th>\n      <th>pos_-3_L</th>\n      <th>pos_-2_T</th>\n      <th>pos_-1_S</th>\n      <th>pos_0_W</th>\n      <th>pos_1_G</th>\n      <th>pos_2_N</th>\n      <th>...</th>\n      <th>pos_13_pI</th>\n      <th>pos_14_pI</th>\n      <th>pos_15_pI</th>\n      <th>pos_16_pI</th>\n      <th>pos_-19_pI</th>\n      <th>pos_-18_pI</th>\n      <th>pos_-17_pI</th>\n      <th>pos_17_pI</th>\n      <th>pos_18_pI</th>\n      <th>pos_19_pI</th>\n    </tr>\n  </thead>\n  <tbody>\n    <tr>\n      <th>0</th>\n      <td>1.0</td>\n      <td>1.0</td>\n      <td>1.0</td>\n      <td>1.0</td>\n      <td>1.0</td>\n      <td>1.0</td>\n      <td>1.0</td>\n      <td>1.0</td>\n      <td>1.0</td>\n      <td>1.0</td>\n      <td>...</td>\n      <td>0.0</td>\n      <td>0.0</td>\n      <td>0.0</td>\n      <td>0.0</td>\n      <td>0.0</td>\n      <td>0.0</td>\n      <td>0.0</td>\n      <td>0.0</td>\n      <td>0.0</td>\n      <td>0.0</td>\n    </tr>\n    <tr>\n      <th>1</th>\n      <td>0.0</td>\n      <td>0.0</td>\n      <td>1.0</td>\n      <td>0.0</td>\n      <td>0.0</td>\n      <td>0.0</td>\n      <td>0.0</td>\n      <td>0.0</td>\n      <td>1.0</td>\n      <td>0.0</td>\n      <td>...</td>\n      <td>0.0</td>\n      <td>0.0</td>\n      <td>0.0</td>\n      <td>0.0</td>\n      <td>0.0</td>\n      <td>0.0</td>\n      <td>0.0</td>\n      <td>0.0</td>\n      <td>0.0</td>\n      <td>0.0</td>\n    </tr>\n    <tr>\n      <th>2</th>\n      <td>0.0</td>\n      <td>0.0</td>\n      <td>1.0</td>\n      <td>1.0</td>\n      <td>0.0</td>\n      <td>0.0</td>\n      <td>0.0</td>\n      <td>0.0</td>\n      <td>1.0</td>\n      <td>0.0</td>\n      <td>...</td>\n      <td>0.0</td>\n      <td>0.0</td>\n      <td>0.0</td>\n      <td>0.0</td>\n      <td>0.0</td>\n      <td>0.0</td>\n      <td>0.0</td>\n      <td>0.0</td>\n      <td>0.0</td>\n      <td>0.0</td>\n    </tr>\n    <tr>\n      <th>3</th>\n      <td>0.0</td>\n      <td>0.0</td>\n      <td>0.0</td>\n      <td>1.0</td>\n      <td>0.0</td>\n      <td>0.0</td>\n      <td>0.0</td>\n      <td>0.0</td>\n      <td>0.0</td>\n      <td>0.0</td>\n      <td>...</td>\n      <td>0.0</td>\n      <td>0.0</td>\n      <td>0.0</td>\n      <td>0.0</td>\n      <td>0.0</td>\n      <td>0.0</td>\n      <td>0.0</td>\n      <td>0.0</td>\n      <td>0.0</td>\n      <td>0.0</td>\n    </tr>\n    <tr>\n      <th>4</th>\n      <td>0.0</td>\n      <td>0.0</td>\n      <td>1.0</td>\n      <td>0.0</td>\n      <td>0.0</td>\n      <td>0.0</td>\n      <td>0.0</td>\n      <td>0.0</td>\n      <td>0.0</td>\n      <td>0.0</td>\n      <td>...</td>\n      <td>0.0</td>\n      <td>0.0</td>\n      <td>0.0</td>\n      <td>0.0</td>\n      <td>0.0</td>\n      <td>0.0</td>\n      <td>0.0</td>\n      <td>0.0</td>\n      <td>0.0</td>\n      <td>0.0</td>\n    </tr>\n  </tbody>\n</table>\n<p>5 rows × 581 columns</p>\n</div>"
     },
     "execution_count": 31,
     "metadata": {},
     "output_type": "execute_result"
    }
   ],
   "source": [
    "from util import get_basicity, get_hydrophobicity, get_helicity, get_mutation_stability\n",
    "\n",
    "def pos_features(df):\n",
    "    features_list = []\n",
    "    pos_aa, pos_basicity, pos_hydro, pos_helicity, pos_mutation, pos_pI = [[] for _ in range(6)]\n",
    "\n",
    "    for sequence in df['CDR3']:\n",
    "        if not isinstance(sequence, str):\n",
    "            continue\n",
    "\n",
    "        length = get_length(sequence)\n",
    "\n",
    "        start_pos = -1 * (length // 2)\n",
    "\n",
    "        # Ranges are averaged around 0, so if mod 2 = 1, we need to include 0, else not\n",
    "        if length % 2 == 1:\n",
    "            pos_range = list(range(start_pos, start_pos + length))\n",
    "        else:\n",
    "            pos_range = list(range(start_pos, 0)) + list(range(1, start_pos + length + 1))\n",
    "\n",
    "        # bool 1 or 0 if amino acid is present at position\n",
    "        pos_aa.append({f'pos_{pos}_{aa}': 1 for pos, aa in zip(pos_range, sequence)})\n",
    "\n",
    "        pos_basicity.append({f'pos_{pos}_basicity': get_basicity(aa) for pos, aa in zip(pos_range, sequence)})\n",
    "        pos_hydro.append({f'pos_{pos}_hydrophobicity': get_hydrophobicity(aa) for pos, aa in zip(pos_range, sequence)})\n",
    "        pos_helicity.append({f'pos_{pos}_helicity': get_helicity(aa) for pos, aa in zip(pos_range, sequence)})\n",
    "        pos_mutation.append({f'pos_{pos}_mutation_stability': get_mutation_stability(aa) for pos, aa in zip(pos_range, sequence)})\n",
    "\n",
    "        pos_pI.append({f'pos_{pos}_pI': electrochem.pI(aa) for pos, aa in zip(pos_range, sequence)})\n",
    "\n",
    "    features_list.append(pd.DataFrame.from_records(pos_aa).fillna(0))\n",
    "    features_list.append(pd.DataFrame.from_records(pos_basicity).fillna(0))\n",
    "    features_list.append(pd.DataFrame.from_records(pos_hydro).fillna(0))\n",
    "    features_list.append(pd.DataFrame.from_records(pos_helicity).fillna(0))\n",
    "    features_list.append(pd.DataFrame.from_records(pos_mutation).fillna(0))\n",
    "    features_list.append(pd.DataFrame.from_records(pos_pI).fillna(0))\n",
    "\n",
    "    return pd.concat(features_list, axis=1)\n",
    "\n",
    "feature_functions.append(pos_features)\n",
    "\n",
    "pos_features(test_df).head()"
   ],
   "metadata": {
    "collapsed": false,
    "pycharm": {
     "name": "#%%\n"
    }
   }
  },
  {
   "cell_type": "markdown",
   "source": [
    "# Combine all features"
   ],
   "metadata": {
    "collapsed": false,
    "pycharm": {
     "name": "#%% md\n"
    }
   },
   "execution_count": 31
  },
  {
   "cell_type": "code",
   "execution_count": 32,
   "outputs": [],
   "source": [
    "def get_sequence_features(df):\n",
    "    features_list = []\n",
    "    for feature_function in feature_functions:\n",
    "        features_list.append(feature_function(df))\n",
    "    return pd.concat(features_list, axis=1)"
   ],
   "metadata": {
    "collapsed": false,
    "pycharm": {
     "name": "#%%\n"
    }
   }
  },
  {
   "cell_type": "code",
   "execution_count": 33,
   "outputs": [],
   "source": [
    "def get_features(df):\n",
    "    beta_renamed = df[['CDR3_beta', 'TRBV', 'TRBJ']].rename(columns={'CDR3_beta': 'CDR3', 'TRBV': 'V', 'TRBJ': 'J'})\n",
    "    beta_features = get_sequence_features(beta_renamed).add_prefix('beta_')\n",
    "\n",
    "    alpha_renamed = df[['CDR3_alfa', 'TRAV', 'TRAJ']].rename(columns={'CDR3_alfa': 'CDR3', 'TRAV': 'V', 'TRAJ': 'J'})\n",
    "    alpha_features = get_sequence_features(alpha_renamed).add_prefix('alfa_')\n",
    "\n",
    "    return pd.concat([beta_features, alpha_features], axis=1)"
   ],
   "metadata": {
    "collapsed": false,
    "pycharm": {
     "name": "#%%\n"
    }
   }
  },
  {
   "cell_type": "code",
   "execution_count": 34,
   "outputs": [
    {
     "data": {
      "text/plain": "   beta_J  beta_J=TRBJ1-1  beta_J=TRBJ1-1*01  beta_J=TRBJ1-2  \\\n0     0.0             0.0                0.0             0.0   \n1     0.0             0.0                0.0             0.0   \n2     0.0             0.0                0.0             0.0   \n3     0.0             0.0                0.0             0.0   \n4     0.0             0.0                0.0             0.0   \n\n   beta_J=TRBJ1-2*01  beta_J=TRBJ1-3  beta_J=TRBJ1-3*01  beta_J=TRBJ1-4  \\\n0                0.0             0.0                0.0             0.0   \n1                0.0             0.0                0.0             0.0   \n2                0.0             0.0                0.0             0.0   \n3                0.0             0.0                0.0             0.0   \n4                0.0             0.0                0.0             0.0   \n\n   beta_J=TRBJ1-4*01  beta_J=TRBJ1-5  ...  alfa_pos_-9_pI  alfa_pos_-8_pI  \\\n0                0.0             0.0  ...             0.0             0.0   \n1                0.0             0.0  ...             0.0             0.0   \n2                0.0             0.0  ...             0.0             0.0   \n3                0.0             0.0  ...             0.0             0.0   \n4                0.0             0.0  ...             0.0             0.0   \n\n   alfa_pos_8_pI  alfa_pos_9_pI  alfa_pos_-10_pI  alfa_pos_10_pI  \\\n0            0.0            0.0              0.0             0.0   \n1            0.0            0.0              0.0             0.0   \n2            0.0            0.0              0.0             0.0   \n3            0.0            0.0              0.0             0.0   \n4            0.0            0.0              0.0             0.0   \n\n   alfa_pos_-11_pI  alfa_pos_11_pI  alfa_pos_-12_pI  alfa_pos_12_pI  \n0              0.0             0.0              0.0             0.0  \n1              0.0             0.0              0.0             0.0  \n2              0.0             0.0              0.0             0.0  \n3              0.0             0.0              0.0             0.0  \n4              0.0             0.0              0.0             0.0  \n\n[5 rows x 1411 columns]",
      "text/html": "<div>\n<style scoped>\n    .dataframe tbody tr th:only-of-type {\n        vertical-align: middle;\n    }\n\n    .dataframe tbody tr th {\n        vertical-align: top;\n    }\n\n    .dataframe thead th {\n        text-align: right;\n    }\n</style>\n<table border=\"1\" class=\"dataframe\">\n  <thead>\n    <tr style=\"text-align: right;\">\n      <th></th>\n      <th>beta_J</th>\n      <th>beta_J=TRBJ1-1</th>\n      <th>beta_J=TRBJ1-1*01</th>\n      <th>beta_J=TRBJ1-2</th>\n      <th>beta_J=TRBJ1-2*01</th>\n      <th>beta_J=TRBJ1-3</th>\n      <th>beta_J=TRBJ1-3*01</th>\n      <th>beta_J=TRBJ1-4</th>\n      <th>beta_J=TRBJ1-4*01</th>\n      <th>beta_J=TRBJ1-5</th>\n      <th>...</th>\n      <th>alfa_pos_-9_pI</th>\n      <th>alfa_pos_-8_pI</th>\n      <th>alfa_pos_8_pI</th>\n      <th>alfa_pos_9_pI</th>\n      <th>alfa_pos_-10_pI</th>\n      <th>alfa_pos_10_pI</th>\n      <th>alfa_pos_-11_pI</th>\n      <th>alfa_pos_11_pI</th>\n      <th>alfa_pos_-12_pI</th>\n      <th>alfa_pos_12_pI</th>\n    </tr>\n  </thead>\n  <tbody>\n    <tr>\n      <th>0</th>\n      <td>0.0</td>\n      <td>0.0</td>\n      <td>0.0</td>\n      <td>0.0</td>\n      <td>0.0</td>\n      <td>0.0</td>\n      <td>0.0</td>\n      <td>0.0</td>\n      <td>0.0</td>\n      <td>0.0</td>\n      <td>...</td>\n      <td>0.0</td>\n      <td>0.0</td>\n      <td>0.0</td>\n      <td>0.0</td>\n      <td>0.0</td>\n      <td>0.0</td>\n      <td>0.0</td>\n      <td>0.0</td>\n      <td>0.0</td>\n      <td>0.0</td>\n    </tr>\n    <tr>\n      <th>1</th>\n      <td>0.0</td>\n      <td>0.0</td>\n      <td>0.0</td>\n      <td>0.0</td>\n      <td>0.0</td>\n      <td>0.0</td>\n      <td>0.0</td>\n      <td>0.0</td>\n      <td>0.0</td>\n      <td>0.0</td>\n      <td>...</td>\n      <td>0.0</td>\n      <td>0.0</td>\n      <td>0.0</td>\n      <td>0.0</td>\n      <td>0.0</td>\n      <td>0.0</td>\n      <td>0.0</td>\n      <td>0.0</td>\n      <td>0.0</td>\n      <td>0.0</td>\n    </tr>\n    <tr>\n      <th>2</th>\n      <td>0.0</td>\n      <td>0.0</td>\n      <td>0.0</td>\n      <td>0.0</td>\n      <td>0.0</td>\n      <td>0.0</td>\n      <td>0.0</td>\n      <td>0.0</td>\n      <td>0.0</td>\n      <td>0.0</td>\n      <td>...</td>\n      <td>0.0</td>\n      <td>0.0</td>\n      <td>0.0</td>\n      <td>0.0</td>\n      <td>0.0</td>\n      <td>0.0</td>\n      <td>0.0</td>\n      <td>0.0</td>\n      <td>0.0</td>\n      <td>0.0</td>\n    </tr>\n    <tr>\n      <th>3</th>\n      <td>0.0</td>\n      <td>0.0</td>\n      <td>0.0</td>\n      <td>0.0</td>\n      <td>0.0</td>\n      <td>0.0</td>\n      <td>0.0</td>\n      <td>0.0</td>\n      <td>0.0</td>\n      <td>0.0</td>\n      <td>...</td>\n      <td>0.0</td>\n      <td>0.0</td>\n      <td>0.0</td>\n      <td>0.0</td>\n      <td>0.0</td>\n      <td>0.0</td>\n      <td>0.0</td>\n      <td>0.0</td>\n      <td>0.0</td>\n      <td>0.0</td>\n    </tr>\n    <tr>\n      <th>4</th>\n      <td>0.0</td>\n      <td>0.0</td>\n      <td>0.0</td>\n      <td>0.0</td>\n      <td>0.0</td>\n      <td>0.0</td>\n      <td>0.0</td>\n      <td>0.0</td>\n      <td>0.0</td>\n      <td>0.0</td>\n      <td>...</td>\n      <td>0.0</td>\n      <td>0.0</td>\n      <td>0.0</td>\n      <td>0.0</td>\n      <td>0.0</td>\n      <td>0.0</td>\n      <td>0.0</td>\n      <td>0.0</td>\n      <td>0.0</td>\n      <td>0.0</td>\n    </tr>\n  </tbody>\n</table>\n<p>5 rows × 1411 columns</p>\n</div>"
     },
     "execution_count": 34,
     "metadata": {},
     "output_type": "execute_result"
    }
   ],
   "source": [
    "features = get_features(df)\n",
    "features.head()"
   ],
   "metadata": {
    "collapsed": false,
    "pycharm": {
     "name": "#%%\n"
    }
   }
  },
  {
   "cell_type": "code",
   "execution_count": 35,
   "outputs": [
    {
     "data": {
      "text/plain": "         CDR3_alfa       TRAV       TRAJ          CDR3_beta        TRBV  \\\n0              NaN        NaN        NaN    CASSLTSWGNNEQFF     TRBV5-5   \n1              NaN        NaN        NaN  CASSLEATGGTYNEQFF     TRBV5-1   \n2              NaN        NaN        NaN   CASSSPRRGIQETQYF  TRBV5-1*01   \n3  CAGPGGSSNTGKLIF  TRAV35*01  TRAJ37*01      CASSLIYPGELFF   TRBV27*01   \n4              NaN        NaN        NaN   CASSFEAGATYNEQFF     TRBV7-6   \n\n         TRBJ  reaction  beta_J  beta_J=TRBJ1-1  beta_J=TRBJ1-1*01  ...  \\\n0     TRBJ2-1         0     0.0             0.0                0.0  ...   \n1     TRBJ2-1         0     0.0             0.0                0.0  ...   \n2  TRBJ2-5*01         1     0.0             0.0                0.0  ...   \n3  TRBJ2-2*01         1     0.0             0.0                0.0  ...   \n4     TRBJ2-1         0     0.0             0.0                0.0  ...   \n\n   alfa_pos_-9_pI  alfa_pos_-8_pI  alfa_pos_8_pI  alfa_pos_9_pI  \\\n0             0.0             0.0            0.0            0.0   \n1             0.0             0.0            0.0            0.0   \n2             0.0             0.0            0.0            0.0   \n3             0.0             0.0            0.0            0.0   \n4             0.0             0.0            0.0            0.0   \n\n   alfa_pos_-10_pI  alfa_pos_10_pI  alfa_pos_-11_pI  alfa_pos_11_pI  \\\n0              0.0             0.0              0.0             0.0   \n1              0.0             0.0              0.0             0.0   \n2              0.0             0.0              0.0             0.0   \n3              0.0             0.0              0.0             0.0   \n4              0.0             0.0              0.0             0.0   \n\n   alfa_pos_-12_pI  alfa_pos_12_pI  \n0              0.0             0.0  \n1              0.0             0.0  \n2              0.0             0.0  \n3              0.0             0.0  \n4              0.0             0.0  \n\n[5 rows x 1418 columns]",
      "text/html": "<div>\n<style scoped>\n    .dataframe tbody tr th:only-of-type {\n        vertical-align: middle;\n    }\n\n    .dataframe tbody tr th {\n        vertical-align: top;\n    }\n\n    .dataframe thead th {\n        text-align: right;\n    }\n</style>\n<table border=\"1\" class=\"dataframe\">\n  <thead>\n    <tr style=\"text-align: right;\">\n      <th></th>\n      <th>CDR3_alfa</th>\n      <th>TRAV</th>\n      <th>TRAJ</th>\n      <th>CDR3_beta</th>\n      <th>TRBV</th>\n      <th>TRBJ</th>\n      <th>reaction</th>\n      <th>beta_J</th>\n      <th>beta_J=TRBJ1-1</th>\n      <th>beta_J=TRBJ1-1*01</th>\n      <th>...</th>\n      <th>alfa_pos_-9_pI</th>\n      <th>alfa_pos_-8_pI</th>\n      <th>alfa_pos_8_pI</th>\n      <th>alfa_pos_9_pI</th>\n      <th>alfa_pos_-10_pI</th>\n      <th>alfa_pos_10_pI</th>\n      <th>alfa_pos_-11_pI</th>\n      <th>alfa_pos_11_pI</th>\n      <th>alfa_pos_-12_pI</th>\n      <th>alfa_pos_12_pI</th>\n    </tr>\n  </thead>\n  <tbody>\n    <tr>\n      <th>0</th>\n      <td>NaN</td>\n      <td>NaN</td>\n      <td>NaN</td>\n      <td>CASSLTSWGNNEQFF</td>\n      <td>TRBV5-5</td>\n      <td>TRBJ2-1</td>\n      <td>0</td>\n      <td>0.0</td>\n      <td>0.0</td>\n      <td>0.0</td>\n      <td>...</td>\n      <td>0.0</td>\n      <td>0.0</td>\n      <td>0.0</td>\n      <td>0.0</td>\n      <td>0.0</td>\n      <td>0.0</td>\n      <td>0.0</td>\n      <td>0.0</td>\n      <td>0.0</td>\n      <td>0.0</td>\n    </tr>\n    <tr>\n      <th>1</th>\n      <td>NaN</td>\n      <td>NaN</td>\n      <td>NaN</td>\n      <td>CASSLEATGGTYNEQFF</td>\n      <td>TRBV5-1</td>\n      <td>TRBJ2-1</td>\n      <td>0</td>\n      <td>0.0</td>\n      <td>0.0</td>\n      <td>0.0</td>\n      <td>...</td>\n      <td>0.0</td>\n      <td>0.0</td>\n      <td>0.0</td>\n      <td>0.0</td>\n      <td>0.0</td>\n      <td>0.0</td>\n      <td>0.0</td>\n      <td>0.0</td>\n      <td>0.0</td>\n      <td>0.0</td>\n    </tr>\n    <tr>\n      <th>2</th>\n      <td>NaN</td>\n      <td>NaN</td>\n      <td>NaN</td>\n      <td>CASSSPRRGIQETQYF</td>\n      <td>TRBV5-1*01</td>\n      <td>TRBJ2-5*01</td>\n      <td>1</td>\n      <td>0.0</td>\n      <td>0.0</td>\n      <td>0.0</td>\n      <td>...</td>\n      <td>0.0</td>\n      <td>0.0</td>\n      <td>0.0</td>\n      <td>0.0</td>\n      <td>0.0</td>\n      <td>0.0</td>\n      <td>0.0</td>\n      <td>0.0</td>\n      <td>0.0</td>\n      <td>0.0</td>\n    </tr>\n    <tr>\n      <th>3</th>\n      <td>CAGPGGSSNTGKLIF</td>\n      <td>TRAV35*01</td>\n      <td>TRAJ37*01</td>\n      <td>CASSLIYPGELFF</td>\n      <td>TRBV27*01</td>\n      <td>TRBJ2-2*01</td>\n      <td>1</td>\n      <td>0.0</td>\n      <td>0.0</td>\n      <td>0.0</td>\n      <td>...</td>\n      <td>0.0</td>\n      <td>0.0</td>\n      <td>0.0</td>\n      <td>0.0</td>\n      <td>0.0</td>\n      <td>0.0</td>\n      <td>0.0</td>\n      <td>0.0</td>\n      <td>0.0</td>\n      <td>0.0</td>\n    </tr>\n    <tr>\n      <th>4</th>\n      <td>NaN</td>\n      <td>NaN</td>\n      <td>NaN</td>\n      <td>CASSFEAGATYNEQFF</td>\n      <td>TRBV7-6</td>\n      <td>TRBJ2-1</td>\n      <td>0</td>\n      <td>0.0</td>\n      <td>0.0</td>\n      <td>0.0</td>\n      <td>...</td>\n      <td>0.0</td>\n      <td>0.0</td>\n      <td>0.0</td>\n      <td>0.0</td>\n      <td>0.0</td>\n      <td>0.0</td>\n      <td>0.0</td>\n      <td>0.0</td>\n      <td>0.0</td>\n      <td>0.0</td>\n    </tr>\n  </tbody>\n</table>\n<p>5 rows × 1418 columns</p>\n</div>"
     },
     "execution_count": 35,
     "metadata": {},
     "output_type": "execute_result"
    }
   ],
   "source": [
    "everything = pd.concat([df, features], axis=1)\n",
    "everything.head()"
   ],
   "metadata": {
    "collapsed": false,
    "pycharm": {
     "name": "#%%\n"
    }
   }
  },
  {
   "cell_type": "markdown",
   "source": [
    "# Summary\n",
    "I implemented features based on the features in tcrexmodel.ipynb (under reference code). This consist of a one hot encoder (which is different when training (fit and transform) and testing  (transform only)), the sequence length, number of occurences of each amino acid, the average of some physicochemical properties, the peptide mass, pI, and some positional features.\n",
    "\n",
    "Some of the features might create new (unseen) columns (e.g. the positional features), which is why we still need a fix_test function, which drops/create columns to match the columns of the training set."
   ],
   "metadata": {
    "collapsed": false,
    "pycharm": {
     "name": "#%% md\n"
    }
   }
  }
 ],
 "metadata": {
  "kernelspec": {
   "display_name": "Python 3",
   "language": "python",
   "name": "python3"
  },
  "language_info": {
   "codemirror_mode": {
    "name": "ipython",
    "version": 2
   },
   "file_extension": ".py",
   "mimetype": "text/x-python",
   "name": "python",
   "nbconvert_exporter": "python",
   "pygments_lexer": "ipython2",
   "version": "2.7.6"
  }
 },
 "nbformat": 4,
 "nbformat_minor": 0
}