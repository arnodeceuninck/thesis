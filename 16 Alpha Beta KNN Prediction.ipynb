{
 "cells": [
  {
   "cell_type": "markdown",
   "source": [
    "# Alpha Beta KNN Prediction\n",
    "Up to now, I've used standard imputation methods, which are for general cases. However, we have a specific imputation case: either alpha or beta is missing entirely. So we can train a model to predict the alpha rows based on the beta rows and vice versa."
   ],
   "metadata": {
    "collapsed": false,
    "pycharm": {
     "name": "#%% md\n"
    }
   }
  },
  {
   "cell_type": "markdown",
   "source": [
    "Let's start by taking a look at the possible missing combinations."
   ],
   "metadata": {
    "collapsed": false,
    "pycharm": {
     "name": "#%% md\n"
    }
   }
  },
  {
   "cell_type": "code",
   "execution_count": 1,
   "outputs": [
    {
     "data": {
      "text/plain": "           CDR3_alfa      TRAV    TRAJ         CDR3_beta    TRBV     TRBJ  \\\n2580    CAGGGSQGNLIF    TRAV27  TRAJ42     CASSTRSAYEQYF  TRBV19  TRBJ2-7   \n478              NaN       NaN     NaN    CASSLMEGHTEAFF  TRBV27  TRBJ1-1   \n1352     CAPEGGQNFVF  TRAV13-1  TRAJ26     CASSIRSGETQYF  TRBV19  TRBJ2-5   \n3322   CALSEMVNARLMF    TRAV19  TRAJ31  CASSIGASGSRETQYF  TRBV19  TRBJ2-5   \n7396  CASVGMDSSYKLIF  TRAV12-2  TRAJ12     CASSTRSGTEAFF  TRBV19  TRBJ1-1   \n\n      reaction TRAJ_family  TRAJ_version TRAV_family TRAV_version TRBV_family  \\\n2580         1      TRAJ42           1.0      TRAV27            1      TRBV19   \n478          0         NaN           NaN         NaN          NaN      TRBV27   \n1352         1      TRAJ26           1.0      TRAV13            1      TRBV19   \n3322         0      TRAJ31           1.0      TRAV19            1      TRBV19   \n7396         1      TRAJ12           1.0      TRAV12            2      TRBV19   \n\n      TRBV_version TRBJ_family  TRBJ_version  \n2580           1.0       TRBJ2           7.0  \n478            1.0       TRBJ1           1.0  \n1352           1.0       TRBJ2           5.0  \n3322           1.0       TRBJ2           5.0  \n7396           1.0       TRBJ1           1.0  ",
      "text/html": "<div>\n<style scoped>\n    .dataframe tbody tr th:only-of-type {\n        vertical-align: middle;\n    }\n\n    .dataframe tbody tr th {\n        vertical-align: top;\n    }\n\n    .dataframe thead th {\n        text-align: right;\n    }\n</style>\n<table border=\"1\" class=\"dataframe\">\n  <thead>\n    <tr style=\"text-align: right;\">\n      <th></th>\n      <th>CDR3_alfa</th>\n      <th>TRAV</th>\n      <th>TRAJ</th>\n      <th>CDR3_beta</th>\n      <th>TRBV</th>\n      <th>TRBJ</th>\n      <th>reaction</th>\n      <th>TRAJ_family</th>\n      <th>TRAJ_version</th>\n      <th>TRAV_family</th>\n      <th>TRAV_version</th>\n      <th>TRBV_family</th>\n      <th>TRBV_version</th>\n      <th>TRBJ_family</th>\n      <th>TRBJ_version</th>\n    </tr>\n  </thead>\n  <tbody>\n    <tr>\n      <th>2580</th>\n      <td>CAGGGSQGNLIF</td>\n      <td>TRAV27</td>\n      <td>TRAJ42</td>\n      <td>CASSTRSAYEQYF</td>\n      <td>TRBV19</td>\n      <td>TRBJ2-7</td>\n      <td>1</td>\n      <td>TRAJ42</td>\n      <td>1.0</td>\n      <td>TRAV27</td>\n      <td>1</td>\n      <td>TRBV19</td>\n      <td>1.0</td>\n      <td>TRBJ2</td>\n      <td>7.0</td>\n    </tr>\n    <tr>\n      <th>478</th>\n      <td>NaN</td>\n      <td>NaN</td>\n      <td>NaN</td>\n      <td>CASSLMEGHTEAFF</td>\n      <td>TRBV27</td>\n      <td>TRBJ1-1</td>\n      <td>0</td>\n      <td>NaN</td>\n      <td>NaN</td>\n      <td>NaN</td>\n      <td>NaN</td>\n      <td>TRBV27</td>\n      <td>1.0</td>\n      <td>TRBJ1</td>\n      <td>1.0</td>\n    </tr>\n    <tr>\n      <th>1352</th>\n      <td>CAPEGGQNFVF</td>\n      <td>TRAV13-1</td>\n      <td>TRAJ26</td>\n      <td>CASSIRSGETQYF</td>\n      <td>TRBV19</td>\n      <td>TRBJ2-5</td>\n      <td>1</td>\n      <td>TRAJ26</td>\n      <td>1.0</td>\n      <td>TRAV13</td>\n      <td>1</td>\n      <td>TRBV19</td>\n      <td>1.0</td>\n      <td>TRBJ2</td>\n      <td>5.0</td>\n    </tr>\n    <tr>\n      <th>3322</th>\n      <td>CALSEMVNARLMF</td>\n      <td>TRAV19</td>\n      <td>TRAJ31</td>\n      <td>CASSIGASGSRETQYF</td>\n      <td>TRBV19</td>\n      <td>TRBJ2-5</td>\n      <td>0</td>\n      <td>TRAJ31</td>\n      <td>1.0</td>\n      <td>TRAV19</td>\n      <td>1</td>\n      <td>TRBV19</td>\n      <td>1.0</td>\n      <td>TRBJ2</td>\n      <td>5.0</td>\n    </tr>\n    <tr>\n      <th>7396</th>\n      <td>CASVGMDSSYKLIF</td>\n      <td>TRAV12-2</td>\n      <td>TRAJ12</td>\n      <td>CASSTRSGTEAFF</td>\n      <td>TRBV19</td>\n      <td>TRBJ1-1</td>\n      <td>1</td>\n      <td>TRAJ12</td>\n      <td>1.0</td>\n      <td>TRAV12</td>\n      <td>2</td>\n      <td>TRBV19</td>\n      <td>1.0</td>\n      <td>TRBJ1</td>\n      <td>1.0</td>\n    </tr>\n  </tbody>\n</table>\n</div>"
     },
     "execution_count": 1,
     "metadata": {},
     "output_type": "execute_result"
    }
   ],
   "source": [
    "from util import get_train_dataset, get_features\n",
    "from sklearn.model_selection import train_test_split\n",
    "\n",
    "df = get_train_dataset()\n",
    "df, df_test = train_test_split(df, test_size=0.2, random_state=42)\n",
    "df.head()"
   ],
   "metadata": {
    "collapsed": false,
    "pycharm": {
     "name": "#%%\n"
    }
   }
  },
  {
   "cell_type": "code",
   "execution_count": 2,
   "outputs": [
    {
     "data": {
      "text/plain": "     CDR3_alfa TRAV TRAJ          CDR3_beta      TRBV     TRBJ  reaction  \\\n478        NaN  NaN  NaN     CASSLMEGHTEAFF    TRBV27  TRBJ1-1         0   \n7059       NaN  NaN  NaN    CSVERSGVQTDTQYF  TRBV29-1  TRBJ2-3         1   \n4871       NaN  NaN  NaN  CASSGPSGTGLDSPLHF   TRBV6-1  TRBJ1-6         0   \n7962       NaN  NaN  NaN     CASSAGQHNYEQYF   TRBV5-5  TRBJ2-7         0   \n1033       NaN  NaN  NaN     CASSINSGWGEQFF    TRBV19  TRBJ2-1         1   \n\n     TRAJ_family  TRAJ_version TRAV_family TRAV_version TRBV_family  \\\n478          NaN           NaN         NaN          NaN      TRBV27   \n7059         NaN           NaN         NaN          NaN      TRBV29   \n4871         NaN           NaN         NaN          NaN       TRBV6   \n7962         NaN           NaN         NaN          NaN       TRBV5   \n1033         NaN           NaN         NaN          NaN      TRBV19   \n\n      TRBV_version TRBJ_family  TRBJ_version  \n478            1.0       TRBJ1           1.0  \n7059           1.0       TRBJ2           3.0  \n4871           1.0       TRBJ1           6.0  \n7962           5.0       TRBJ2           7.0  \n1033           1.0       TRBJ2           1.0  ",
      "text/html": "<div>\n<style scoped>\n    .dataframe tbody tr th:only-of-type {\n        vertical-align: middle;\n    }\n\n    .dataframe tbody tr th {\n        vertical-align: top;\n    }\n\n    .dataframe thead th {\n        text-align: right;\n    }\n</style>\n<table border=\"1\" class=\"dataframe\">\n  <thead>\n    <tr style=\"text-align: right;\">\n      <th></th>\n      <th>CDR3_alfa</th>\n      <th>TRAV</th>\n      <th>TRAJ</th>\n      <th>CDR3_beta</th>\n      <th>TRBV</th>\n      <th>TRBJ</th>\n      <th>reaction</th>\n      <th>TRAJ_family</th>\n      <th>TRAJ_version</th>\n      <th>TRAV_family</th>\n      <th>TRAV_version</th>\n      <th>TRBV_family</th>\n      <th>TRBV_version</th>\n      <th>TRBJ_family</th>\n      <th>TRBJ_version</th>\n    </tr>\n  </thead>\n  <tbody>\n    <tr>\n      <th>478</th>\n      <td>NaN</td>\n      <td>NaN</td>\n      <td>NaN</td>\n      <td>CASSLMEGHTEAFF</td>\n      <td>TRBV27</td>\n      <td>TRBJ1-1</td>\n      <td>0</td>\n      <td>NaN</td>\n      <td>NaN</td>\n      <td>NaN</td>\n      <td>NaN</td>\n      <td>TRBV27</td>\n      <td>1.0</td>\n      <td>TRBJ1</td>\n      <td>1.0</td>\n    </tr>\n    <tr>\n      <th>7059</th>\n      <td>NaN</td>\n      <td>NaN</td>\n      <td>NaN</td>\n      <td>CSVERSGVQTDTQYF</td>\n      <td>TRBV29-1</td>\n      <td>TRBJ2-3</td>\n      <td>1</td>\n      <td>NaN</td>\n      <td>NaN</td>\n      <td>NaN</td>\n      <td>NaN</td>\n      <td>TRBV29</td>\n      <td>1.0</td>\n      <td>TRBJ2</td>\n      <td>3.0</td>\n    </tr>\n    <tr>\n      <th>4871</th>\n      <td>NaN</td>\n      <td>NaN</td>\n      <td>NaN</td>\n      <td>CASSGPSGTGLDSPLHF</td>\n      <td>TRBV6-1</td>\n      <td>TRBJ1-6</td>\n      <td>0</td>\n      <td>NaN</td>\n      <td>NaN</td>\n      <td>NaN</td>\n      <td>NaN</td>\n      <td>TRBV6</td>\n      <td>1.0</td>\n      <td>TRBJ1</td>\n      <td>6.0</td>\n    </tr>\n    <tr>\n      <th>7962</th>\n      <td>NaN</td>\n      <td>NaN</td>\n      <td>NaN</td>\n      <td>CASSAGQHNYEQYF</td>\n      <td>TRBV5-5</td>\n      <td>TRBJ2-7</td>\n      <td>0</td>\n      <td>NaN</td>\n      <td>NaN</td>\n      <td>NaN</td>\n      <td>NaN</td>\n      <td>TRBV5</td>\n      <td>5.0</td>\n      <td>TRBJ2</td>\n      <td>7.0</td>\n    </tr>\n    <tr>\n      <th>1033</th>\n      <td>NaN</td>\n      <td>NaN</td>\n      <td>NaN</td>\n      <td>CASSINSGWGEQFF</td>\n      <td>TRBV19</td>\n      <td>TRBJ2-1</td>\n      <td>1</td>\n      <td>NaN</td>\n      <td>NaN</td>\n      <td>NaN</td>\n      <td>NaN</td>\n      <td>TRBV19</td>\n      <td>1.0</td>\n      <td>TRBJ2</td>\n      <td>1.0</td>\n    </tr>\n  </tbody>\n</table>\n</div>"
     },
     "execution_count": 2,
     "metadata": {},
     "output_type": "execute_result"
    }
   ],
   "source": [
    "# Either alpha is missing, which means CDR3_alfa, TRAV and TRAJ (and there family and version) are missing\n",
    "df[df['CDR3_alfa'].isna()].head()"
   ],
   "metadata": {
    "collapsed": false,
    "pycharm": {
     "name": "#%%\n"
    }
   }
  },
  {
   "cell_type": "code",
   "execution_count": 3,
   "outputs": [
    {
     "data": {
      "text/plain": "            CDR3_alfa       TRAV    TRAJ CDR3_beta TRBV TRBJ  reaction  \\\n3995       CIVENNDMRF   TRAV26-1  TRAJ43       NaN  NaN  NaN         0   \n1325  CAASEGRGGYNKLIF  TRAV29DV5   TRAJ4       NaN  NaN  NaN         0   \n7777  CAMSGDGGSQGNLIF   TRAV12-3  TRAJ42       NaN  NaN  NaN         1   \n\n     TRAJ_family  TRAJ_version TRAV_family TRAV_version TRBV_family  \\\n3995      TRAJ43           1.0      TRAV26            1         NaN   \n1325       TRAJ4           1.0   TRAV29DV5            1         NaN   \n7777      TRAJ42           1.0      TRAV12            3         NaN   \n\n      TRBV_version TRBJ_family  TRBJ_version  \n3995           NaN         NaN           NaN  \n1325           NaN         NaN           NaN  \n7777           NaN         NaN           NaN  ",
      "text/html": "<div>\n<style scoped>\n    .dataframe tbody tr th:only-of-type {\n        vertical-align: middle;\n    }\n\n    .dataframe tbody tr th {\n        vertical-align: top;\n    }\n\n    .dataframe thead th {\n        text-align: right;\n    }\n</style>\n<table border=\"1\" class=\"dataframe\">\n  <thead>\n    <tr style=\"text-align: right;\">\n      <th></th>\n      <th>CDR3_alfa</th>\n      <th>TRAV</th>\n      <th>TRAJ</th>\n      <th>CDR3_beta</th>\n      <th>TRBV</th>\n      <th>TRBJ</th>\n      <th>reaction</th>\n      <th>TRAJ_family</th>\n      <th>TRAJ_version</th>\n      <th>TRAV_family</th>\n      <th>TRAV_version</th>\n      <th>TRBV_family</th>\n      <th>TRBV_version</th>\n      <th>TRBJ_family</th>\n      <th>TRBJ_version</th>\n    </tr>\n  </thead>\n  <tbody>\n    <tr>\n      <th>3995</th>\n      <td>CIVENNDMRF</td>\n      <td>TRAV26-1</td>\n      <td>TRAJ43</td>\n      <td>NaN</td>\n      <td>NaN</td>\n      <td>NaN</td>\n      <td>0</td>\n      <td>TRAJ43</td>\n      <td>1.0</td>\n      <td>TRAV26</td>\n      <td>1</td>\n      <td>NaN</td>\n      <td>NaN</td>\n      <td>NaN</td>\n      <td>NaN</td>\n    </tr>\n    <tr>\n      <th>1325</th>\n      <td>CAASEGRGGYNKLIF</td>\n      <td>TRAV29DV5</td>\n      <td>TRAJ4</td>\n      <td>NaN</td>\n      <td>NaN</td>\n      <td>NaN</td>\n      <td>0</td>\n      <td>TRAJ4</td>\n      <td>1.0</td>\n      <td>TRAV29DV5</td>\n      <td>1</td>\n      <td>NaN</td>\n      <td>NaN</td>\n      <td>NaN</td>\n      <td>NaN</td>\n    </tr>\n    <tr>\n      <th>7777</th>\n      <td>CAMSGDGGSQGNLIF</td>\n      <td>TRAV12-3</td>\n      <td>TRAJ42</td>\n      <td>NaN</td>\n      <td>NaN</td>\n      <td>NaN</td>\n      <td>1</td>\n      <td>TRAJ42</td>\n      <td>1.0</td>\n      <td>TRAV12</td>\n      <td>3</td>\n      <td>NaN</td>\n      <td>NaN</td>\n      <td>NaN</td>\n      <td>NaN</td>\n    </tr>\n  </tbody>\n</table>\n</div>"
     },
     "execution_count": 3,
     "metadata": {},
     "output_type": "execute_result"
    }
   ],
   "source": [
    "# Or beta is missing, which means CDR3_beta, TRBV and TRBJ (and there family and version) are missing\n",
    "df[df['CDR3_beta'].isna()].head()"
   ],
   "metadata": {
    "collapsed": false,
    "pycharm": {
     "name": "#%%\n"
    }
   }
  },
  {
   "cell_type": "code",
   "execution_count": 4,
   "outputs": [
    {
     "data": {
      "text/plain": "Empty DataFrame\nColumns: [CDR3_alfa, TRAV, TRAJ, CDR3_beta, TRBV, TRBJ, reaction, TRAJ_family, TRAJ_version, TRAV_family, TRAV_version, TRBV_family, TRBV_version, TRBJ_family, TRBJ_version]\nIndex: []",
      "text/html": "<div>\n<style scoped>\n    .dataframe tbody tr th:only-of-type {\n        vertical-align: middle;\n    }\n\n    .dataframe tbody tr th {\n        vertical-align: top;\n    }\n\n    .dataframe thead th {\n        text-align: right;\n    }\n</style>\n<table border=\"1\" class=\"dataframe\">\n  <thead>\n    <tr style=\"text-align: right;\">\n      <th></th>\n      <th>CDR3_alfa</th>\n      <th>TRAV</th>\n      <th>TRAJ</th>\n      <th>CDR3_beta</th>\n      <th>TRBV</th>\n      <th>TRBJ</th>\n      <th>reaction</th>\n      <th>TRAJ_family</th>\n      <th>TRAJ_version</th>\n      <th>TRAV_family</th>\n      <th>TRAV_version</th>\n      <th>TRBV_family</th>\n      <th>TRBV_version</th>\n      <th>TRBJ_family</th>\n      <th>TRBJ_version</th>\n    </tr>\n  </thead>\n  <tbody>\n  </tbody>\n</table>\n</div>"
     },
     "execution_count": 4,
     "metadata": {},
     "output_type": "execute_result"
    }
   ],
   "source": [
    "# both missing should not happen\n",
    "df[df['CDR3_alfa'].isna() & df['CDR3_beta'].isna()].head()"
   ],
   "metadata": {
    "collapsed": false,
    "pycharm": {
     "name": "#%%\n"
    }
   }
  },
  {
   "cell_type": "code",
   "execution_count": 1,
   "outputs": [],
   "source": [
    "from util import get_baseline_sequence_features, update_alpha_or_beta\n",
    "import pandas as pd\n",
    "\n",
    "\n",
    "def get_features(df, test=False, chains=None):\n",
    "    df_num_rows = df.shape[0]\n",
    "\n",
    "    chains = {\"alfa\": 'A', \"beta\": 'B'} if chains is None else chains\n",
    "\n",
    "    all_chains_features = []\n",
    "    for chain in chains:\n",
    "        update_alpha_or_beta(chain)\n",
    "\n",
    "        short = chains[chain]\n",
    "        rename_map = {f\"CDR3_{chain}\": \"CDR3\",\n",
    "                      f\"TR{short}V\": \"V\",\n",
    "                      f\"TR{short}J\": \"J\",\n",
    "                      f\"TR{short}V_family\": \"V_family\",\n",
    "                      f\"TR{short}J_family\": \"J_family\",\n",
    "                      f\"TR{short}V_version\": \"V_version\",\n",
    "                      f\"TR{short}J_version\": \"J_version\"}\n",
    "        renamed = df[rename_map.keys()].rename(columns=rename_map)\n",
    "\n",
    "        chain_features = get_baseline_sequence_features(renamed, test).add_prefix(f'{chain}_')\n",
    "\n",
    "        all_chains_features.append(chain_features)\n",
    "\n",
    "        chain_features_num_rows = chain_features.shape[0]\n",
    "\n",
    "        assert df_num_rows == chain_features_num_rows, f\"Number of rows in df ({df_num_rows}) and chain_features ({chain_features_num_rows}) must be the same\"\n",
    "\n",
    "    update_alpha_or_beta(None)\n",
    "\n",
    "    return pd.concat(all_chains_features, axis=1)\n"
   ],
   "metadata": {
    "collapsed": false,
    "pycharm": {
     "name": "#%%\n"
    }
   }
  },
  {
   "cell_type": "markdown",
   "source": [
    "We might try to predict the missing values immediately based on those strings. However, we'll create features from this, which might introduce new missing values and the numbers of the features are often more useful to create features than strings. Let's take a look at where the missing values in the features are."
   ],
   "metadata": {
    "collapsed": false,
    "pycharm": {
     "name": "#%% md\n"
    }
   }
  },
  {
   "cell_type": "code",
   "execution_count": 6,
   "outputs": [
    {
     "data": {
      "text/plain": "   alfa_J=TRAJ10  alfa_J=TRAJ11  alfa_J=TRAJ12  alfa_J=TRAJ13  alfa_J=TRAJ15  \\\n0            0.0            0.0            0.0            0.0            0.0   \n1            0.0            0.0            0.0            0.0            0.0   \n2            0.0            0.0            0.0            0.0            0.0   \n3            0.0            0.0            1.0            0.0            0.0   \n4            0.0            0.0            0.0            0.0            0.0   \n\n   alfa_J=TRAJ16  alfa_J=TRAJ17  alfa_J=TRAJ18  alfa_J=TRAJ20  alfa_J=TRAJ21  \\\n0            0.0            0.0            0.0            0.0            0.0   \n1            0.0            0.0            0.0            0.0            0.0   \n2            0.0            0.0            0.0            0.0            0.0   \n3            0.0            0.0            0.0            0.0            0.0   \n4            0.0            0.0            0.0            0.0            0.0   \n\n   ...  alfa_pos_-8_pI  alfa_pos_8_pI  alfa_pos_-9_pI  alfa_pos_9_pI  \\\n0  ...             0.0            0.0             0.0            0.0   \n1  ...             0.0            0.0             0.0            0.0   \n2  ...             0.0            0.0             0.0            0.0   \n3  ...             0.0            0.0             0.0            0.0   \n4  ...             0.0            0.0             0.0            0.0   \n\n   alfa_pos_-11_pI  alfa_pos_-10_pI  alfa_pos_10_pI  alfa_pos_11_pI  \\\n0              0.0              0.0             0.0             0.0   \n1              0.0              0.0             0.0             0.0   \n2              0.0              0.0             0.0             0.0   \n3              0.0              0.0             0.0             0.0   \n4              0.0              0.0             0.0             0.0   \n\n   alfa_pos_-12_pI  alfa_pos_12_pI  \n0              0.0             0.0  \n1              0.0             0.0  \n2              0.0             0.0  \n3              0.0             0.0  \n4              0.0             0.0  \n\n[5 rows x 573 columns]",
      "text/html": "<div>\n<style scoped>\n    .dataframe tbody tr th:only-of-type {\n        vertical-align: middle;\n    }\n\n    .dataframe tbody tr th {\n        vertical-align: top;\n    }\n\n    .dataframe thead th {\n        text-align: right;\n    }\n</style>\n<table border=\"1\" class=\"dataframe\">\n  <thead>\n    <tr style=\"text-align: right;\">\n      <th></th>\n      <th>alfa_J=TRAJ10</th>\n      <th>alfa_J=TRAJ11</th>\n      <th>alfa_J=TRAJ12</th>\n      <th>alfa_J=TRAJ13</th>\n      <th>alfa_J=TRAJ15</th>\n      <th>alfa_J=TRAJ16</th>\n      <th>alfa_J=TRAJ17</th>\n      <th>alfa_J=TRAJ18</th>\n      <th>alfa_J=TRAJ20</th>\n      <th>alfa_J=TRAJ21</th>\n      <th>...</th>\n      <th>alfa_pos_-8_pI</th>\n      <th>alfa_pos_8_pI</th>\n      <th>alfa_pos_-9_pI</th>\n      <th>alfa_pos_9_pI</th>\n      <th>alfa_pos_-11_pI</th>\n      <th>alfa_pos_-10_pI</th>\n      <th>alfa_pos_10_pI</th>\n      <th>alfa_pos_11_pI</th>\n      <th>alfa_pos_-12_pI</th>\n      <th>alfa_pos_12_pI</th>\n    </tr>\n  </thead>\n  <tbody>\n    <tr>\n      <th>0</th>\n      <td>0.0</td>\n      <td>0.0</td>\n      <td>0.0</td>\n      <td>0.0</td>\n      <td>0.0</td>\n      <td>0.0</td>\n      <td>0.0</td>\n      <td>0.0</td>\n      <td>0.0</td>\n      <td>0.0</td>\n      <td>...</td>\n      <td>0.0</td>\n      <td>0.0</td>\n      <td>0.0</td>\n      <td>0.0</td>\n      <td>0.0</td>\n      <td>0.0</td>\n      <td>0.0</td>\n      <td>0.0</td>\n      <td>0.0</td>\n      <td>0.0</td>\n    </tr>\n    <tr>\n      <th>1</th>\n      <td>0.0</td>\n      <td>0.0</td>\n      <td>0.0</td>\n      <td>0.0</td>\n      <td>0.0</td>\n      <td>0.0</td>\n      <td>0.0</td>\n      <td>0.0</td>\n      <td>0.0</td>\n      <td>0.0</td>\n      <td>...</td>\n      <td>0.0</td>\n      <td>0.0</td>\n      <td>0.0</td>\n      <td>0.0</td>\n      <td>0.0</td>\n      <td>0.0</td>\n      <td>0.0</td>\n      <td>0.0</td>\n      <td>0.0</td>\n      <td>0.0</td>\n    </tr>\n    <tr>\n      <th>2</th>\n      <td>0.0</td>\n      <td>0.0</td>\n      <td>0.0</td>\n      <td>0.0</td>\n      <td>0.0</td>\n      <td>0.0</td>\n      <td>0.0</td>\n      <td>0.0</td>\n      <td>0.0</td>\n      <td>0.0</td>\n      <td>...</td>\n      <td>0.0</td>\n      <td>0.0</td>\n      <td>0.0</td>\n      <td>0.0</td>\n      <td>0.0</td>\n      <td>0.0</td>\n      <td>0.0</td>\n      <td>0.0</td>\n      <td>0.0</td>\n      <td>0.0</td>\n    </tr>\n    <tr>\n      <th>3</th>\n      <td>0.0</td>\n      <td>0.0</td>\n      <td>1.0</td>\n      <td>0.0</td>\n      <td>0.0</td>\n      <td>0.0</td>\n      <td>0.0</td>\n      <td>0.0</td>\n      <td>0.0</td>\n      <td>0.0</td>\n      <td>...</td>\n      <td>0.0</td>\n      <td>0.0</td>\n      <td>0.0</td>\n      <td>0.0</td>\n      <td>0.0</td>\n      <td>0.0</td>\n      <td>0.0</td>\n      <td>0.0</td>\n      <td>0.0</td>\n      <td>0.0</td>\n    </tr>\n    <tr>\n      <th>4</th>\n      <td>0.0</td>\n      <td>0.0</td>\n      <td>0.0</td>\n      <td>0.0</td>\n      <td>0.0</td>\n      <td>0.0</td>\n      <td>0.0</td>\n      <td>0.0</td>\n      <td>0.0</td>\n      <td>0.0</td>\n      <td>...</td>\n      <td>0.0</td>\n      <td>0.0</td>\n      <td>0.0</td>\n      <td>0.0</td>\n      <td>0.0</td>\n      <td>0.0</td>\n      <td>0.0</td>\n      <td>0.0</td>\n      <td>0.0</td>\n      <td>0.0</td>\n    </tr>\n  </tbody>\n</table>\n<p>5 rows × 573 columns</p>\n</div>"
     },
     "execution_count": 6,
     "metadata": {},
     "output_type": "execute_result"
    }
   ],
   "source": [
    "# Case 1: alpha not missing\n",
    "df_alpha_not_missing = df[df['CDR3_alfa'].notna()]\n",
    "x = get_features(df_alpha_not_missing, chains={\"alfa\": 'A'})\n",
    "x.head()"
   ],
   "metadata": {
    "collapsed": false,
    "pycharm": {
     "name": "#%%\n"
    }
   }
  },
  {
   "cell_type": "markdown",
   "source": [
    "In previous versions, the positional features and amino counts might contained NaNs, but it makes more sense to just set them to 0, so I did that. Also the positionalf features (e.g. 'alfpha_pos_2') where set to zero. TOASK whether this is a correct approach."
   ],
   "metadata": {
    "collapsed": false,
    "pycharm": {
     "name": "#%% md\n"
    }
   }
  },
  {
   "cell_type": "code",
   "execution_count": 15,
   "outputs": [
    {
     "data": {
      "text/plain": "   alfa_J=TRAJ10  alfa_J=TRAJ11  alfa_J=TRAJ12  alfa_J=TRAJ13  alfa_J=TRAJ15  \\\n0            0.0            0.0            0.0            0.0            0.0   \n1            0.0            0.0            0.0            0.0            0.0   \n2            0.0            0.0            0.0            0.0            0.0   \n3            0.0            0.0            1.0            0.0            0.0   \n4            0.0            0.0            0.0            0.0            0.0   \n\n   alfa_J=TRAJ16  alfa_J=TRAJ17  alfa_J=TRAJ18  alfa_J=TRAJ20  alfa_J=TRAJ21  \\\n0            0.0            0.0            0.0            0.0            0.0   \n1            0.0            0.0            0.0            0.0            0.0   \n2            0.0            0.0            0.0            0.0            0.0   \n3            0.0            0.0            0.0            0.0            0.0   \n4            0.0            0.0            0.0            0.0            0.0   \n\n   ...  beta_pos_-8_pI  beta_pos_-7_pI  beta_pos_7_pI  beta_pos_8_pI  \\\n0  ...        0.000000        0.000000       0.000000       0.000000   \n1  ...        0.000000        0.000000       0.000000       0.000000   \n2  ...        5.253418        6.012207       5.937012       6.012207   \n3  ...        0.000000        0.000000       0.000000       0.000000   \n4  ...        0.000000        0.000000       0.000000       0.000000   \n\n   beta_pos_-9_pI  beta_pos_9_pI  beta_pos_-10_pI  beta_pos_10_pI  \\\n0             0.0            0.0              0.0             0.0   \n1             0.0            0.0              0.0             0.0   \n2             0.0            0.0              0.0             0.0   \n3             0.0            0.0              0.0             0.0   \n4             0.0            0.0              0.0             0.0   \n\n   beta_pos_-11_pI  beta_pos_11_pI  \n0              0.0             0.0  \n1              0.0             0.0  \n2              0.0             0.0  \n3              0.0             0.0  \n4              0.0             0.0  \n\n[5 rows x 1072 columns]",
      "text/html": "<div>\n<style scoped>\n    .dataframe tbody tr th:only-of-type {\n        vertical-align: middle;\n    }\n\n    .dataframe tbody tr th {\n        vertical-align: top;\n    }\n\n    .dataframe thead th {\n        text-align: right;\n    }\n</style>\n<table border=\"1\" class=\"dataframe\">\n  <thead>\n    <tr style=\"text-align: right;\">\n      <th></th>\n      <th>alfa_J=TRAJ10</th>\n      <th>alfa_J=TRAJ11</th>\n      <th>alfa_J=TRAJ12</th>\n      <th>alfa_J=TRAJ13</th>\n      <th>alfa_J=TRAJ15</th>\n      <th>alfa_J=TRAJ16</th>\n      <th>alfa_J=TRAJ17</th>\n      <th>alfa_J=TRAJ18</th>\n      <th>alfa_J=TRAJ20</th>\n      <th>alfa_J=TRAJ21</th>\n      <th>...</th>\n      <th>beta_pos_-8_pI</th>\n      <th>beta_pos_-7_pI</th>\n      <th>beta_pos_7_pI</th>\n      <th>beta_pos_8_pI</th>\n      <th>beta_pos_-9_pI</th>\n      <th>beta_pos_9_pI</th>\n      <th>beta_pos_-10_pI</th>\n      <th>beta_pos_10_pI</th>\n      <th>beta_pos_-11_pI</th>\n      <th>beta_pos_11_pI</th>\n    </tr>\n  </thead>\n  <tbody>\n    <tr>\n      <th>0</th>\n      <td>0.0</td>\n      <td>0.0</td>\n      <td>0.0</td>\n      <td>0.0</td>\n      <td>0.0</td>\n      <td>0.0</td>\n      <td>0.0</td>\n      <td>0.0</td>\n      <td>0.0</td>\n      <td>0.0</td>\n      <td>...</td>\n      <td>0.000000</td>\n      <td>0.000000</td>\n      <td>0.000000</td>\n      <td>0.000000</td>\n      <td>0.0</td>\n      <td>0.0</td>\n      <td>0.0</td>\n      <td>0.0</td>\n      <td>0.0</td>\n      <td>0.0</td>\n    </tr>\n    <tr>\n      <th>1</th>\n      <td>0.0</td>\n      <td>0.0</td>\n      <td>0.0</td>\n      <td>0.0</td>\n      <td>0.0</td>\n      <td>0.0</td>\n      <td>0.0</td>\n      <td>0.0</td>\n      <td>0.0</td>\n      <td>0.0</td>\n      <td>...</td>\n      <td>0.000000</td>\n      <td>0.000000</td>\n      <td>0.000000</td>\n      <td>0.000000</td>\n      <td>0.0</td>\n      <td>0.0</td>\n      <td>0.0</td>\n      <td>0.0</td>\n      <td>0.0</td>\n      <td>0.0</td>\n    </tr>\n    <tr>\n      <th>2</th>\n      <td>0.0</td>\n      <td>0.0</td>\n      <td>0.0</td>\n      <td>0.0</td>\n      <td>0.0</td>\n      <td>0.0</td>\n      <td>0.0</td>\n      <td>0.0</td>\n      <td>0.0</td>\n      <td>0.0</td>\n      <td>...</td>\n      <td>5.253418</td>\n      <td>6.012207</td>\n      <td>5.937012</td>\n      <td>6.012207</td>\n      <td>0.0</td>\n      <td>0.0</td>\n      <td>0.0</td>\n      <td>0.0</td>\n      <td>0.0</td>\n      <td>0.0</td>\n    </tr>\n    <tr>\n      <th>3</th>\n      <td>0.0</td>\n      <td>0.0</td>\n      <td>1.0</td>\n      <td>0.0</td>\n      <td>0.0</td>\n      <td>0.0</td>\n      <td>0.0</td>\n      <td>0.0</td>\n      <td>0.0</td>\n      <td>0.0</td>\n      <td>...</td>\n      <td>0.000000</td>\n      <td>0.000000</td>\n      <td>0.000000</td>\n      <td>0.000000</td>\n      <td>0.0</td>\n      <td>0.0</td>\n      <td>0.0</td>\n      <td>0.0</td>\n      <td>0.0</td>\n      <td>0.0</td>\n    </tr>\n    <tr>\n      <th>4</th>\n      <td>0.0</td>\n      <td>0.0</td>\n      <td>0.0</td>\n      <td>0.0</td>\n      <td>0.0</td>\n      <td>0.0</td>\n      <td>0.0</td>\n      <td>0.0</td>\n      <td>0.0</td>\n      <td>0.0</td>\n      <td>...</td>\n      <td>0.000000</td>\n      <td>0.000000</td>\n      <td>0.000000</td>\n      <td>0.000000</td>\n      <td>0.0</td>\n      <td>0.0</td>\n      <td>0.0</td>\n      <td>0.0</td>\n      <td>0.0</td>\n      <td>0.0</td>\n    </tr>\n  </tbody>\n</table>\n<p>5 rows × 1072 columns</p>\n</div>"
     },
     "execution_count": 15,
     "metadata": {},
     "output_type": "execute_result"
    }
   ],
   "source": [
    "df_both_alpha_and_beta = df[df['CDR3_alfa'].notna() & df['CDR3_beta'].notna()]\n",
    "features_complete_samples = get_features(df_both_alpha_and_beta)\n",
    "features_complete_samples.head()"
   ],
   "metadata": {
    "collapsed": false,
    "pycharm": {
     "name": "#%%\n"
    }
   }
  },
  {
   "cell_type": "code",
   "execution_count": 21,
   "outputs": [],
   "source": [
    "from util import get_columns_starting_with\n",
    "\n",
    "alfa_rows = get_columns_starting_with(features_complete_samples, 'alfa_')\n",
    "beta_rows = get_columns_starting_with(features_complete_samples, 'beta_')"
   ],
   "metadata": {
    "collapsed": false,
    "pycharm": {
     "name": "#%%\n"
    }
   }
  },
  {
   "cell_type": "code",
   "execution_count": 22,
   "outputs": [
    {
     "data": {
      "text/plain": "    CDR3_alfa TRAV TRAJ       CDR3_beta    TRBV     TRBJ  reaction  \\\n478       NaN  NaN  NaN  CASSLMEGHTEAFF  TRBV27  TRBJ1-1         0   \n\n    TRAJ_family  TRAJ_version TRAV_family TRAV_version TRBV_family  \\\n478         NaN           NaN         NaN          NaN      TRBV27   \n\n     TRBV_version TRBJ_family  TRBJ_version  \n478           1.0       TRBJ1           1.0  ",
      "text/html": "<div>\n<style scoped>\n    .dataframe tbody tr th:only-of-type {\n        vertical-align: middle;\n    }\n\n    .dataframe tbody tr th {\n        vertical-align: top;\n    }\n\n    .dataframe thead th {\n        text-align: right;\n    }\n</style>\n<table border=\"1\" class=\"dataframe\">\n  <thead>\n    <tr style=\"text-align: right;\">\n      <th></th>\n      <th>CDR3_alfa</th>\n      <th>TRAV</th>\n      <th>TRAJ</th>\n      <th>CDR3_beta</th>\n      <th>TRBV</th>\n      <th>TRBJ</th>\n      <th>reaction</th>\n      <th>TRAJ_family</th>\n      <th>TRAJ_version</th>\n      <th>TRAV_family</th>\n      <th>TRAV_version</th>\n      <th>TRBV_family</th>\n      <th>TRBV_version</th>\n      <th>TRBJ_family</th>\n      <th>TRBJ_version</th>\n    </tr>\n  </thead>\n  <tbody>\n    <tr>\n      <th>478</th>\n      <td>NaN</td>\n      <td>NaN</td>\n      <td>NaN</td>\n      <td>CASSLMEGHTEAFF</td>\n      <td>TRBV27</td>\n      <td>TRBJ1-1</td>\n      <td>0</td>\n      <td>NaN</td>\n      <td>NaN</td>\n      <td>NaN</td>\n      <td>NaN</td>\n      <td>TRBV27</td>\n      <td>1.0</td>\n      <td>TRBJ1</td>\n      <td>1.0</td>\n    </tr>\n  </tbody>\n</table>\n</div>"
     },
     "execution_count": 22,
     "metadata": {},
     "output_type": "execute_result"
    }
   ],
   "source": [
    "# Take a sample from df where alpha is missing\n",
    "df_alpha_missing = df[df['CDR3_alfa'].isna()]\n",
    "sample = df_alpha_missing.head(1)\n",
    "sample"
   ],
   "metadata": {
    "collapsed": false,
    "pycharm": {
     "name": "#%%\n"
    }
   }
  },
  {
   "cell_type": "code",
   "execution_count": 23,
   "outputs": [
    {
     "data": {
      "text/plain": "   alfa_J  alfa_V  alfa_CDR3_length  alfa_basicity  alfa_hydrophobicity  \\\n0     NaN     NaN               NaN            NaN                  NaN   \n\n   alfa_helicity  alfa_mutation_stability  alfa_peptide_mass  alfa_pi  \\\n0            NaN                      NaN                NaN      NaN   \n\n   alfa_pos_0_A  ...  beta_pos_-3_pI  beta_pos_-2_pI  beta_pos_-1_pI  \\\n0           0.0  ...        6.012207        6.012207         3.29834   \n\n   beta_pos_1_pI  beta_pos_2_pI  beta_pos_3_pI  beta_pos_4_pI  beta_pos_5_pI  \\\n0       6.012207       7.844238       6.012207        3.29834       6.012207   \n\n   beta_pos_6_pI  beta_pos_7_pI  \n0       6.012207       6.012207  \n\n[1 rows x 118 columns]",
      "text/html": "<div>\n<style scoped>\n    .dataframe tbody tr th:only-of-type {\n        vertical-align: middle;\n    }\n\n    .dataframe tbody tr th {\n        vertical-align: top;\n    }\n\n    .dataframe thead th {\n        text-align: right;\n    }\n</style>\n<table border=\"1\" class=\"dataframe\">\n  <thead>\n    <tr style=\"text-align: right;\">\n      <th></th>\n      <th>alfa_J</th>\n      <th>alfa_V</th>\n      <th>alfa_CDR3_length</th>\n      <th>alfa_basicity</th>\n      <th>alfa_hydrophobicity</th>\n      <th>alfa_helicity</th>\n      <th>alfa_mutation_stability</th>\n      <th>alfa_peptide_mass</th>\n      <th>alfa_pi</th>\n      <th>alfa_pos_0_A</th>\n      <th>...</th>\n      <th>beta_pos_-3_pI</th>\n      <th>beta_pos_-2_pI</th>\n      <th>beta_pos_-1_pI</th>\n      <th>beta_pos_1_pI</th>\n      <th>beta_pos_2_pI</th>\n      <th>beta_pos_3_pI</th>\n      <th>beta_pos_4_pI</th>\n      <th>beta_pos_5_pI</th>\n      <th>beta_pos_6_pI</th>\n      <th>beta_pos_7_pI</th>\n    </tr>\n  </thead>\n  <tbody>\n    <tr>\n      <th>0</th>\n      <td>NaN</td>\n      <td>NaN</td>\n      <td>NaN</td>\n      <td>NaN</td>\n      <td>NaN</td>\n      <td>NaN</td>\n      <td>NaN</td>\n      <td>NaN</td>\n      <td>NaN</td>\n      <td>0.0</td>\n      <td>...</td>\n      <td>6.012207</td>\n      <td>6.012207</td>\n      <td>3.29834</td>\n      <td>6.012207</td>\n      <td>7.844238</td>\n      <td>6.012207</td>\n      <td>3.29834</td>\n      <td>6.012207</td>\n      <td>6.012207</td>\n      <td>6.012207</td>\n    </tr>\n  </tbody>\n</table>\n<p>1 rows × 118 columns</p>\n</div>"
     },
     "execution_count": 23,
     "metadata": {},
     "output_type": "execute_result"
    }
   ],
   "source": [
    "sample_features = get_features(sample)\n",
    "sample_features"
   ],
   "metadata": {
    "collapsed": false,
    "pycharm": {
     "name": "#%%\n"
    }
   }
  },
  {
   "cell_type": "code",
   "execution_count": 24,
   "outputs": [
    {
     "data": {
      "text/plain": "   beta_J=TRBJ1-1  beta_V=TRBV27  beta_CDR3_length  beta_C_count  \\\n0             1.0            1.0                14             1   \n\n   beta_A_count  beta_S_count  beta_L_count  beta_M_count  beta_E_count  \\\n0             2             2             1             1             2   \n\n   beta_G_count  ...  beta_pos_-3_pI  beta_pos_-2_pI  beta_pos_-1_pI  \\\n0             1  ...        6.012207        6.012207         3.29834   \n\n   beta_pos_1_pI  beta_pos_2_pI  beta_pos_3_pI  beta_pos_4_pI  beta_pos_5_pI  \\\n0       6.012207       7.844238       6.012207        3.29834       6.012207   \n\n   beta_pos_6_pI  beta_pos_7_pI  \n0       6.012207       6.012207  \n\n[1 rows x 103 columns]",
      "text/html": "<div>\n<style scoped>\n    .dataframe tbody tr th:only-of-type {\n        vertical-align: middle;\n    }\n\n    .dataframe tbody tr th {\n        vertical-align: top;\n    }\n\n    .dataframe thead th {\n        text-align: right;\n    }\n</style>\n<table border=\"1\" class=\"dataframe\">\n  <thead>\n    <tr style=\"text-align: right;\">\n      <th></th>\n      <th>beta_J=TRBJ1-1</th>\n      <th>beta_V=TRBV27</th>\n      <th>beta_CDR3_length</th>\n      <th>beta_C_count</th>\n      <th>beta_A_count</th>\n      <th>beta_S_count</th>\n      <th>beta_L_count</th>\n      <th>beta_M_count</th>\n      <th>beta_E_count</th>\n      <th>beta_G_count</th>\n      <th>...</th>\n      <th>beta_pos_-3_pI</th>\n      <th>beta_pos_-2_pI</th>\n      <th>beta_pos_-1_pI</th>\n      <th>beta_pos_1_pI</th>\n      <th>beta_pos_2_pI</th>\n      <th>beta_pos_3_pI</th>\n      <th>beta_pos_4_pI</th>\n      <th>beta_pos_5_pI</th>\n      <th>beta_pos_6_pI</th>\n      <th>beta_pos_7_pI</th>\n    </tr>\n  </thead>\n  <tbody>\n    <tr>\n      <th>0</th>\n      <td>1.0</td>\n      <td>1.0</td>\n      <td>14</td>\n      <td>1</td>\n      <td>2</td>\n      <td>2</td>\n      <td>1</td>\n      <td>1</td>\n      <td>2</td>\n      <td>1</td>\n      <td>...</td>\n      <td>6.012207</td>\n      <td>6.012207</td>\n      <td>3.29834</td>\n      <td>6.012207</td>\n      <td>7.844238</td>\n      <td>6.012207</td>\n      <td>3.29834</td>\n      <td>6.012207</td>\n      <td>6.012207</td>\n      <td>6.012207</td>\n    </tr>\n  </tbody>\n</table>\n<p>1 rows × 103 columns</p>\n</div>"
     },
     "execution_count": 24,
     "metadata": {},
     "output_type": "execute_result"
    }
   ],
   "source": [
    "from util import get_columns_starting_with\n",
    "\n",
    "beta_rows_sample = get_columns_starting_with(sample_features, 'beta_')\n",
    "beta_rows_sample"
   ],
   "metadata": {
    "collapsed": false,
    "pycharm": {
     "name": "#%%\n"
    }
   }
  },
  {
   "cell_type": "code",
   "execution_count": null,
   "outputs": [],
   "source": [
    "# Find the closest match in df_both_alpha_and_beta\n",
    "current_row = beta_rows_sample\n",
    "\n",
    "# find the 5 closest rows in beta_rows\n",
    "# get the columns both current_row and beta_rows have in common\n",
    "\n",
    "common_columns = current_row.columns.intersection(beta_rows.columns)\n",
    "\n",
    "current_row_common = current_row[common_columns]\n",
    "beta_rows_common = beta_rows[common_columns]"
   ],
   "metadata": {
    "collapsed": false,
    "pycharm": {
     "name": "#%%\n"
    }
   }
  },
  {
   "cell_type": "code",
   "execution_count": 27,
   "outputs": [
    {
     "data": {
      "text/plain": "   beta_J=TRBJ1-1  beta_V=TRBV27  beta_CDR3_length  beta_C_count  \\\n0             1.0            1.0                14             1   \n\n   beta_A_count  beta_S_count  beta_L_count  beta_M_count  beta_E_count  \\\n0             2             2             1             1             2   \n\n   beta_G_count  ...  beta_pos_-3_pI  beta_pos_-2_pI  beta_pos_-1_pI  \\\n0             1  ...        6.012207        6.012207         3.29834   \n\n   beta_pos_1_pI  beta_pos_2_pI  beta_pos_3_pI  beta_pos_4_pI  beta_pos_5_pI  \\\n0       6.012207       7.844238       6.012207        3.29834       6.012207   \n\n   beta_pos_6_pI  beta_pos_7_pI  \n0       6.012207       6.012207  \n\n[1 rows x 103 columns]",
      "text/html": "<div>\n<style scoped>\n    .dataframe tbody tr th:only-of-type {\n        vertical-align: middle;\n    }\n\n    .dataframe tbody tr th {\n        vertical-align: top;\n    }\n\n    .dataframe thead th {\n        text-align: right;\n    }\n</style>\n<table border=\"1\" class=\"dataframe\">\n  <thead>\n    <tr style=\"text-align: right;\">\n      <th></th>\n      <th>beta_J=TRBJ1-1</th>\n      <th>beta_V=TRBV27</th>\n      <th>beta_CDR3_length</th>\n      <th>beta_C_count</th>\n      <th>beta_A_count</th>\n      <th>beta_S_count</th>\n      <th>beta_L_count</th>\n      <th>beta_M_count</th>\n      <th>beta_E_count</th>\n      <th>beta_G_count</th>\n      <th>...</th>\n      <th>beta_pos_-3_pI</th>\n      <th>beta_pos_-2_pI</th>\n      <th>beta_pos_-1_pI</th>\n      <th>beta_pos_1_pI</th>\n      <th>beta_pos_2_pI</th>\n      <th>beta_pos_3_pI</th>\n      <th>beta_pos_4_pI</th>\n      <th>beta_pos_5_pI</th>\n      <th>beta_pos_6_pI</th>\n      <th>beta_pos_7_pI</th>\n    </tr>\n  </thead>\n  <tbody>\n    <tr>\n      <th>0</th>\n      <td>1.0</td>\n      <td>1.0</td>\n      <td>14</td>\n      <td>1</td>\n      <td>2</td>\n      <td>2</td>\n      <td>1</td>\n      <td>1</td>\n      <td>2</td>\n      <td>1</td>\n      <td>...</td>\n      <td>6.012207</td>\n      <td>6.012207</td>\n      <td>3.29834</td>\n      <td>6.012207</td>\n      <td>7.844238</td>\n      <td>6.012207</td>\n      <td>3.29834</td>\n      <td>6.012207</td>\n      <td>6.012207</td>\n      <td>6.012207</td>\n    </tr>\n  </tbody>\n</table>\n<p>1 rows × 103 columns</p>\n</div>"
     },
     "execution_count": 27,
     "metadata": {},
     "output_type": "execute_result"
    }
   ],
   "source": [
    "current_row_common"
   ],
   "metadata": {
    "collapsed": false,
    "pycharm": {
     "name": "#%%\n"
    }
   }
  },
  {
   "cell_type": "code",
   "execution_count": 28,
   "outputs": [
    {
     "data": {
      "text/plain": "   beta_J=TRBJ1-1  beta_V=TRBV27  beta_CDR3_length  beta_C_count  \\\n0             0.0            0.0                13             1   \n1             0.0            0.0                13             1   \n2             0.0            0.0                16             1   \n3             1.0            0.0                13             1   \n4             0.0            0.0                13             1   \n\n   beta_A_count  beta_S_count  beta_L_count  beta_M_count  beta_E_count  \\\n0           2.0           3.0           0.0           0.0           1.0   \n1           1.0           3.0           0.0           0.0           1.0   \n2           2.0           4.0           0.0           0.0           1.0   \n3           2.0           3.0           0.0           0.0           1.0   \n4           2.0           2.0           0.0           0.0           2.0   \n\n   beta_G_count  ...  beta_pos_-3_pI  beta_pos_-2_pI  beta_pos_-1_pI  \\\n0           0.0  ...        6.012207        6.012207       11.084473   \n1           1.0  ...        6.012207        6.012207       11.084473   \n2           2.0  ...        6.012207        6.012207        6.012207   \n3           1.0  ...        6.012207        6.012207       11.084473   \n4           0.0  ...        6.012207        6.012207        3.298340   \n\n   beta_pos_1_pI  beta_pos_2_pI  beta_pos_3_pI  beta_pos_4_pI  beta_pos_5_pI  \\\n0       6.012207       5.937012       3.298340       6.012207       5.937012   \n1       6.012207       3.298340       6.012207       6.012207       5.937012   \n2       6.012207       6.012207      11.084473       3.298340       6.012207   \n3       6.012207       6.012207       3.298340       6.012207       6.012207   \n4       6.012207       5.937012       3.298340       6.012207       5.937012   \n\n   beta_pos_6_pI  beta_pos_7_pI  \n0       6.012207       0.000000  \n1       6.012207       0.000000  \n2       6.012207       5.937012  \n3       6.012207       0.000000  \n4       6.012207       0.000000  \n\n[5 rows x 103 columns]",
      "text/html": "<div>\n<style scoped>\n    .dataframe tbody tr th:only-of-type {\n        vertical-align: middle;\n    }\n\n    .dataframe tbody tr th {\n        vertical-align: top;\n    }\n\n    .dataframe thead th {\n        text-align: right;\n    }\n</style>\n<table border=\"1\" class=\"dataframe\">\n  <thead>\n    <tr style=\"text-align: right;\">\n      <th></th>\n      <th>beta_J=TRBJ1-1</th>\n      <th>beta_V=TRBV27</th>\n      <th>beta_CDR3_length</th>\n      <th>beta_C_count</th>\n      <th>beta_A_count</th>\n      <th>beta_S_count</th>\n      <th>beta_L_count</th>\n      <th>beta_M_count</th>\n      <th>beta_E_count</th>\n      <th>beta_G_count</th>\n      <th>...</th>\n      <th>beta_pos_-3_pI</th>\n      <th>beta_pos_-2_pI</th>\n      <th>beta_pos_-1_pI</th>\n      <th>beta_pos_1_pI</th>\n      <th>beta_pos_2_pI</th>\n      <th>beta_pos_3_pI</th>\n      <th>beta_pos_4_pI</th>\n      <th>beta_pos_5_pI</th>\n      <th>beta_pos_6_pI</th>\n      <th>beta_pos_7_pI</th>\n    </tr>\n  </thead>\n  <tbody>\n    <tr>\n      <th>0</th>\n      <td>0.0</td>\n      <td>0.0</td>\n      <td>13</td>\n      <td>1</td>\n      <td>2.0</td>\n      <td>3.0</td>\n      <td>0.0</td>\n      <td>0.0</td>\n      <td>1.0</td>\n      <td>0.0</td>\n      <td>...</td>\n      <td>6.012207</td>\n      <td>6.012207</td>\n      <td>11.084473</td>\n      <td>6.012207</td>\n      <td>5.937012</td>\n      <td>3.298340</td>\n      <td>6.012207</td>\n      <td>5.937012</td>\n      <td>6.012207</td>\n      <td>0.000000</td>\n    </tr>\n    <tr>\n      <th>1</th>\n      <td>0.0</td>\n      <td>0.0</td>\n      <td>13</td>\n      <td>1</td>\n      <td>1.0</td>\n      <td>3.0</td>\n      <td>0.0</td>\n      <td>0.0</td>\n      <td>1.0</td>\n      <td>1.0</td>\n      <td>...</td>\n      <td>6.012207</td>\n      <td>6.012207</td>\n      <td>11.084473</td>\n      <td>6.012207</td>\n      <td>3.298340</td>\n      <td>6.012207</td>\n      <td>6.012207</td>\n      <td>5.937012</td>\n      <td>6.012207</td>\n      <td>0.000000</td>\n    </tr>\n    <tr>\n      <th>2</th>\n      <td>0.0</td>\n      <td>0.0</td>\n      <td>16</td>\n      <td>1</td>\n      <td>2.0</td>\n      <td>4.0</td>\n      <td>0.0</td>\n      <td>0.0</td>\n      <td>1.0</td>\n      <td>2.0</td>\n      <td>...</td>\n      <td>6.012207</td>\n      <td>6.012207</td>\n      <td>6.012207</td>\n      <td>6.012207</td>\n      <td>6.012207</td>\n      <td>11.084473</td>\n      <td>3.298340</td>\n      <td>6.012207</td>\n      <td>6.012207</td>\n      <td>5.937012</td>\n    </tr>\n    <tr>\n      <th>3</th>\n      <td>1.0</td>\n      <td>0.0</td>\n      <td>13</td>\n      <td>1</td>\n      <td>2.0</td>\n      <td>3.0</td>\n      <td>0.0</td>\n      <td>0.0</td>\n      <td>1.0</td>\n      <td>1.0</td>\n      <td>...</td>\n      <td>6.012207</td>\n      <td>6.012207</td>\n      <td>11.084473</td>\n      <td>6.012207</td>\n      <td>6.012207</td>\n      <td>3.298340</td>\n      <td>6.012207</td>\n      <td>6.012207</td>\n      <td>6.012207</td>\n      <td>0.000000</td>\n    </tr>\n    <tr>\n      <th>4</th>\n      <td>0.0</td>\n      <td>0.0</td>\n      <td>13</td>\n      <td>1</td>\n      <td>2.0</td>\n      <td>2.0</td>\n      <td>0.0</td>\n      <td>0.0</td>\n      <td>2.0</td>\n      <td>0.0</td>\n      <td>...</td>\n      <td>6.012207</td>\n      <td>6.012207</td>\n      <td>3.298340</td>\n      <td>6.012207</td>\n      <td>5.937012</td>\n      <td>3.298340</td>\n      <td>6.012207</td>\n      <td>5.937012</td>\n      <td>6.012207</td>\n      <td>0.000000</td>\n    </tr>\n  </tbody>\n</table>\n<p>5 rows × 103 columns</p>\n</div>"
     },
     "execution_count": 28,
     "metadata": {},
     "output_type": "execute_result"
    }
   ],
   "source": [
    "beta_rows_common.head()"
   ],
   "metadata": {
    "collapsed": false,
    "pycharm": {
     "name": "#%%\n"
    }
   }
  },
  {
   "cell_type": "code",
   "execution_count": 30,
   "outputs": [
    {
     "data": {
      "text/plain": "(array([[22.77946845, 28.83431731, 28.88576777, 29.69742479, 30.19635712]]),\n array([[1450,  675, 1403, 1113, 2507]], dtype=int64))"
     },
     "execution_count": 30,
     "metadata": {},
     "output_type": "execute_result"
    }
   ],
   "source": [
    "from sklearn.neighbors import NearestNeighbors\n",
    "import numpy as np\n",
    "\n",
    "# https://stackoverflow.com/questions/59013965/efficient-k-nearest-neighbor-of-all-pairs-in-a-pandas-dataframe\n",
    "# using auto algorithm instead of ball-tree (since it's the default)\n",
    "nbrs = NearestNeighbors(n_neighbors=5).fit(beta_rows_common)\n",
    "row_nbrs = nbrs.kneighbors(current_row_common)\n",
    "row_nbrs"
   ],
   "metadata": {
    "collapsed": false,
    "pycharm": {
     "name": "#%%\n"
    }
   }
  },
  {
   "cell_type": "code",
   "execution_count": 34,
   "outputs": [
    {
     "data": {
      "text/plain": "      alfa_J=TRAJ10  alfa_J=TRAJ11  alfa_J=TRAJ12  alfa_J=TRAJ13  \\\n1450            0.0            0.0            0.0            1.0   \n675             0.0            0.0            0.0            0.0   \n1403            0.0            0.0            0.0            0.0   \n1113            0.0            0.0            0.0            0.0   \n2507            0.0            0.0            0.0            0.0   \n\n      alfa_J=TRAJ15  alfa_J=TRAJ16  alfa_J=TRAJ17  alfa_J=TRAJ18  \\\n1450            0.0            0.0            0.0            0.0   \n675             0.0            0.0            0.0            0.0   \n1403            0.0            0.0            0.0            0.0   \n1113            0.0            0.0            0.0            0.0   \n2507            0.0            0.0            0.0            0.0   \n\n      alfa_J=TRAJ20  alfa_J=TRAJ21  ...  beta_pos_-8_pI  beta_pos_-7_pI  \\\n1450            0.0            0.0  ...             0.0        5.253418   \n675             0.0            0.0  ...             0.0        5.253418   \n1403            0.0            0.0  ...             0.0        5.253418   \n1113            0.0            0.0  ...             0.0        5.253418   \n2507            0.0            0.0  ...             0.0        5.253418   \n\n      beta_pos_7_pI  beta_pos_8_pI  beta_pos_-9_pI  beta_pos_9_pI  \\\n1450       6.012207            0.0             0.0            0.0   \n675        6.012207            0.0             0.0            0.0   \n1403       6.012207            0.0             0.0            0.0   \n1113       6.012207            0.0             0.0            0.0   \n2507       6.012207            0.0             0.0            0.0   \n\n      beta_pos_-10_pI  beta_pos_10_pI  beta_pos_-11_pI  beta_pos_11_pI  \n1450              0.0             0.0              0.0             0.0  \n675               0.0             0.0              0.0             0.0  \n1403              0.0             0.0              0.0             0.0  \n1113              0.0             0.0              0.0             0.0  \n2507              0.0             0.0              0.0             0.0  \n\n[5 rows x 1072 columns]",
      "text/html": "<div>\n<style scoped>\n    .dataframe tbody tr th:only-of-type {\n        vertical-align: middle;\n    }\n\n    .dataframe tbody tr th {\n        vertical-align: top;\n    }\n\n    .dataframe thead th {\n        text-align: right;\n    }\n</style>\n<table border=\"1\" class=\"dataframe\">\n  <thead>\n    <tr style=\"text-align: right;\">\n      <th></th>\n      <th>alfa_J=TRAJ10</th>\n      <th>alfa_J=TRAJ11</th>\n      <th>alfa_J=TRAJ12</th>\n      <th>alfa_J=TRAJ13</th>\n      <th>alfa_J=TRAJ15</th>\n      <th>alfa_J=TRAJ16</th>\n      <th>alfa_J=TRAJ17</th>\n      <th>alfa_J=TRAJ18</th>\n      <th>alfa_J=TRAJ20</th>\n      <th>alfa_J=TRAJ21</th>\n      <th>...</th>\n      <th>beta_pos_-8_pI</th>\n      <th>beta_pos_-7_pI</th>\n      <th>beta_pos_7_pI</th>\n      <th>beta_pos_8_pI</th>\n      <th>beta_pos_-9_pI</th>\n      <th>beta_pos_9_pI</th>\n      <th>beta_pos_-10_pI</th>\n      <th>beta_pos_10_pI</th>\n      <th>beta_pos_-11_pI</th>\n      <th>beta_pos_11_pI</th>\n    </tr>\n  </thead>\n  <tbody>\n    <tr>\n      <th>1450</th>\n      <td>0.0</td>\n      <td>0.0</td>\n      <td>0.0</td>\n      <td>1.0</td>\n      <td>0.0</td>\n      <td>0.0</td>\n      <td>0.0</td>\n      <td>0.0</td>\n      <td>0.0</td>\n      <td>0.0</td>\n      <td>...</td>\n      <td>0.0</td>\n      <td>5.253418</td>\n      <td>6.012207</td>\n      <td>0.0</td>\n      <td>0.0</td>\n      <td>0.0</td>\n      <td>0.0</td>\n      <td>0.0</td>\n      <td>0.0</td>\n      <td>0.0</td>\n    </tr>\n    <tr>\n      <th>675</th>\n      <td>0.0</td>\n      <td>0.0</td>\n      <td>0.0</td>\n      <td>0.0</td>\n      <td>0.0</td>\n      <td>0.0</td>\n      <td>0.0</td>\n      <td>0.0</td>\n      <td>0.0</td>\n      <td>0.0</td>\n      <td>...</td>\n      <td>0.0</td>\n      <td>5.253418</td>\n      <td>6.012207</td>\n      <td>0.0</td>\n      <td>0.0</td>\n      <td>0.0</td>\n      <td>0.0</td>\n      <td>0.0</td>\n      <td>0.0</td>\n      <td>0.0</td>\n    </tr>\n    <tr>\n      <th>1403</th>\n      <td>0.0</td>\n      <td>0.0</td>\n      <td>0.0</td>\n      <td>0.0</td>\n      <td>0.0</td>\n      <td>0.0</td>\n      <td>0.0</td>\n      <td>0.0</td>\n      <td>0.0</td>\n      <td>0.0</td>\n      <td>...</td>\n      <td>0.0</td>\n      <td>5.253418</td>\n      <td>6.012207</td>\n      <td>0.0</td>\n      <td>0.0</td>\n      <td>0.0</td>\n      <td>0.0</td>\n      <td>0.0</td>\n      <td>0.0</td>\n      <td>0.0</td>\n    </tr>\n    <tr>\n      <th>1113</th>\n      <td>0.0</td>\n      <td>0.0</td>\n      <td>0.0</td>\n      <td>0.0</td>\n      <td>0.0</td>\n      <td>0.0</td>\n      <td>0.0</td>\n      <td>0.0</td>\n      <td>0.0</td>\n      <td>0.0</td>\n      <td>...</td>\n      <td>0.0</td>\n      <td>5.253418</td>\n      <td>6.012207</td>\n      <td>0.0</td>\n      <td>0.0</td>\n      <td>0.0</td>\n      <td>0.0</td>\n      <td>0.0</td>\n      <td>0.0</td>\n      <td>0.0</td>\n    </tr>\n    <tr>\n      <th>2507</th>\n      <td>0.0</td>\n      <td>0.0</td>\n      <td>0.0</td>\n      <td>0.0</td>\n      <td>0.0</td>\n      <td>0.0</td>\n      <td>0.0</td>\n      <td>0.0</td>\n      <td>0.0</td>\n      <td>0.0</td>\n      <td>...</td>\n      <td>0.0</td>\n      <td>5.253418</td>\n      <td>6.012207</td>\n      <td>0.0</td>\n      <td>0.0</td>\n      <td>0.0</td>\n      <td>0.0</td>\n      <td>0.0</td>\n      <td>0.0</td>\n      <td>0.0</td>\n    </tr>\n  </tbody>\n</table>\n<p>5 rows × 1072 columns</p>\n</div>"
     },
     "execution_count": 34,
     "metadata": {},
     "output_type": "execute_result"
    }
   ],
   "source": [
    "# get the indices from the features_complete_samples dataframe\n",
    "corresponding_rows = features_complete_samples.iloc[row_nbrs[1][0]]\n",
    "corresponding_rows"
   ],
   "metadata": {
    "collapsed": false,
    "pycharm": {
     "name": "#%%\n"
    }
   }
  },
  {
   "cell_type": "code",
   "execution_count": 3,
   "outputs": [
    {
     "ename": "NameError",
     "evalue": "name 'alfa_rows' is not defined",
     "output_type": "error",
     "traceback": [
      "\u001B[1;31m---------------------------------------------------------------------------\u001B[0m",
      "\u001B[1;31mNameError\u001B[0m                                 Traceback (most recent call last)",
      "\u001B[1;32m~\\AppData\\Local\\Temp/ipykernel_17524/3726735610.py\u001B[0m in \u001B[0;36m<module>\u001B[1;34m\u001B[0m\n\u001B[1;32m----> 1\u001B[1;33m \u001B[0mcorresponding_alfa_rows\u001B[0m \u001B[1;33m=\u001B[0m \u001B[0malfa_rows\u001B[0m\u001B[1;33m.\u001B[0m\u001B[0miloc\u001B[0m\u001B[1;33m[\u001B[0m\u001B[0mrow_nbrs\u001B[0m\u001B[1;33m[\u001B[0m\u001B[1;36m1\u001B[0m\u001B[1;33m]\u001B[0m\u001B[1;33m[\u001B[0m\u001B[1;36m0\u001B[0m\u001B[1;33m]\u001B[0m\u001B[1;33m]\u001B[0m\u001B[1;33m\u001B[0m\u001B[1;33m\u001B[0m\u001B[0m\n\u001B[0m\u001B[0;32m      2\u001B[0m \u001B[1;31m# get the mean of the corresponding rows\u001B[0m\u001B[1;33m\u001B[0m\u001B[1;33m\u001B[0m\u001B[0m\n\u001B[0;32m      3\u001B[0m \u001B[0mcorresponding_alfa_rows\u001B[0m\u001B[1;33m.\u001B[0m\u001B[0mmean\u001B[0m\u001B[1;33m(\u001B[0m\u001B[1;33m)\u001B[0m\u001B[1;33m\u001B[0m\u001B[1;33m\u001B[0m\u001B[0m\n",
      "\u001B[1;31mNameError\u001B[0m: name 'alfa_rows' is not defined"
     ]
    }
   ],
   "source": [
    "corresponding_alfa_rows = alfa_rows.iloc[row_nbrs[1][0]]\n",
    "# get the mean of the corresponding rows\n",
    "corresponding_alfa_rows.mean()"
   ],
   "metadata": {
    "collapsed": false,
    "pycharm": {
     "name": "#%%\n"
    }
   }
  },
  {
   "cell_type": "markdown",
   "source": [
    "# General approach\n",
    "This was just for one specific row. Now use this to fill in all missing values in df_test."
   ],
   "metadata": {
    "collapsed": false,
    "pycharm": {
     "name": "#%% md\n"
    }
   }
  },
  {
   "cell_type": "code",
   "execution_count": 59,
   "outputs": [
    {
     "name": "stderr",
     "output_type": "stream",
     "text": [
      "C:\\Users\\arnod\\PycharmProjects\\thesis\\util\\classification.py:38: PerformanceWarning: DataFrame is highly fragmented.  This is usually the result of calling `frame.insert` many times, which has poor performance.  Consider joining all columns at once using pd.concat(axis=1) instead.  To get a de-fragmented frame, use `newframe = frame.copy()`\n",
      "  x_test[col] = 0 #np.nan  # TODO: NaN of 0? currently kept it at 0 to make clear it's not because the chain was missing\n"
     ]
    }
   ],
   "source": [
    "from util import get_train_dataset, get_features, fix_test, get_columns_starting_with\n",
    "from sklearn.model_selection import train_test_split\n",
    "\n",
    "# Create a seperate train and test dataset\n",
    "# The train set will be used to search the nearest neighbors in and get values to fill in based on\n",
    "# df = get_train_dataset().sample(200)\n",
    "df_train, df_test = train_test_split(df, test_size=0.2, random_state=42)\n",
    "\n",
    "df_train_y = df_train['reaction']\n",
    "df_test_y = df_test['reaction']\n",
    "\n",
    "df_train_x = get_features(df_train)\n",
    "df_test_x = get_features(df_test, test=True)\n",
    "df_test_x = fix_test(df_test_x, df_train_x.columns)"
   ],
   "metadata": {
    "collapsed": false,
    "pycharm": {
     "name": "#%%\n"
    }
   }
  },
  {
   "cell_type": "code",
   "execution_count": null,
   "outputs": [],
   "source": [
    "from sklearn.neighbors import NearestNeighbors\n",
    "\n",
    "# filter df_test to contain only rows where alpha is missing (for debugging purposes)\n",
    "# df_test = df_test[df_test['CDR3_alfa'].isna()]\n",
    "\n",
    "# Get all complete values (to find the nearest neighbors in and get missing values from)\n",
    "df_both_alpha_and_beta = df_train[df_train['CDR3_alfa'].notna() & df['CDR3_beta'].notna()]\n",
    "# Convert to features\n",
    "features_complete_samples = get_features(df_both_alpha_and_beta)\n",
    "# Split alfa and beta rows (since we'll use one of them for searching neigbors,the other for values to fill in) (indices must remain the same, so we can still get the rows with values to fill in corresponding our search)\n",
    "alfa_rows = get_columns_starting_with(features_complete_samples, 'alfa_')\n",
    "beta_rows = get_columns_starting_with(features_complete_samples, 'beta_')"
   ],
   "metadata": {
    "collapsed": false,
    "pycharm": {
     "name": "#%%\n"
    }
   }
  },
  {
   "cell_type": "code",
   "execution_count": 2,
   "outputs": [],
   "source": [
    "def get_nnbrs_parameters(df_features, alfa_rows, beta_rows, full=True, n_neighbors=5):\n",
    "    # Get features for the test dataset\n",
    "    # df_features = get_features(df)\n",
    "\n",
    "    # splitting them only to get the common columns\n",
    "    alfa_rows_test = get_columns_starting_with(df_features, 'alfa_')\n",
    "    beta_rows_test = get_columns_starting_with(df_features, 'beta_')\n",
    "\n",
    "    # get common columns of both test and train\n",
    "    common_columns_alfa = alfa_rows.columns.intersection(alfa_rows_test.columns)\n",
    "    common_columns_beta = beta_rows.columns.intersection(beta_rows_test.columns)\n",
    "\n",
    "    if not full:\n",
    "        return None, None, common_columns_alfa, common_columns_beta\n",
    "\n",
    "    # We're going to search the neighbors in the common columns\n",
    "    alfa_search_space = alfa_rows[common_columns_alfa]\n",
    "    beta_search_space = beta_rows[common_columns_beta]\n",
    "\n",
    "    nnbrs_alfa = NearestNeighbors(n_neighbors=n_neighbors).fit(alfa_search_space)\n",
    "    nnbrs_beta = NearestNeighbors(n_neighbors=n_neighbors).fit(beta_search_space)\n",
    "\n",
    "    return nnbrs_alfa, nnbrs_beta, common_columns_alfa, common_columns_beta"
   ],
   "metadata": {
    "collapsed": false,
    "pycharm": {
     "name": "#%%\n"
    }
   }
  },
  {
   "cell_type": "markdown",
   "source": [
    "## KNN per chain\n",
    "In this approach, we try to predict the missing chain based on the other chain (by using knn)."
   ],
   "metadata": {
    "collapsed": false,
    "pycharm": {
     "name": "#%% md\n"
    }
   }
  },
  {
   "cell_type": "code",
   "execution_count": 33,
   "outputs": [],
   "source": [
    "import numpy as np\n",
    "from tqdm import tqdm\n",
    "\n",
    "\n",
    "def knn_fill_df(df, nnbrs_alfa, nnbrs_beta, alfa_rows, beta_rows, common_columns_alfa, common_columns_beta):\n",
    "    \"\"\"\"\n",
    "    get_features should already be applied to df\n",
    "    \"\"\"\n",
    "    output_df = df.copy()\n",
    "\n",
    "    # replace the missing values with the mean of the closest rows\n",
    "    for index, row in tqdm(df.iterrows(), total=df.shape[0], desc='Replacing missing values'):\n",
    "        is_alfa_missing = np.isnan(row['alfa_CDR3_length'])  # isinstance(row['alfa_CDR3_length'], np.float) and \\\n",
    "        is_beta_missing = np.isnan(row['beta_CDR3_length'])\n",
    "\n",
    "        assert not (is_alfa_missing and is_beta_missing), \"Both alpha and beta are missing\"\n",
    "\n",
    "        if is_alfa_missing:\n",
    "            # print(\"alfa missing\")\n",
    "            nnbrs_model = nnbrs_beta\n",
    "            common_columns = common_columns_beta\n",
    "            mean_space = alfa_rows\n",
    "            columns_to_fill = common_columns_alfa\n",
    "        elif is_beta_missing:\n",
    "            # print(\"beta missing\")\n",
    "            nnbrs_model = nnbrs_alfa\n",
    "            common_columns = common_columns_alfa\n",
    "            mean_space = beta_rows\n",
    "            columns_to_fill = common_columns_beta\n",
    "        else:\n",
    "            # print(\"both present\")\n",
    "            continue\n",
    "\n",
    "        # reshape (1, -1) because the model expects a 2d array to indicate it's one sample ((-1, 1) would mean one feature, multiple rows)\n",
    "        # row_search_query = row[common_columns].T.to_frame() #.values.reshape(1, -1)\n",
    "        # convert to dataframe to get the columns\n",
    "        row_search_query = row[common_columns].to_frame().T\n",
    "        # assert not row_search_query.isna().any().any(), \"Nans in query\"\n",
    "        nnbrs_rows = nnbrs_model.kneighbors(row_search_query, )\n",
    "\n",
    "        corresponding_rows = mean_space.iloc[nnbrs_rows[1][0]]\n",
    "        mean_row = corresponding_rows.mean()\n",
    "\n",
    "        output_df.loc[index, columns_to_fill] = mean_row[columns_to_fill]\n",
    "\n",
    "    return output_df\n"
   ],
   "metadata": {
    "collapsed": false,
    "pycharm": {
     "name": "#%%\n"
    }
   }
  },
  {
   "cell_type": "code",
   "execution_count": 62,
   "outputs": [],
   "source": [
    "models_to_eval = []"
   ],
   "metadata": {
    "collapsed": false,
    "pycharm": {
     "name": "#%%\n"
    }
   }
  },
  {
   "cell_type": "code",
   "execution_count": 63,
   "outputs": [
    {
     "name": "stderr",
     "output_type": "stream",
     "text": [
      "100%|██████████| 6645/6645 [01:20<00:00, 82.28it/s] \n",
      "100%|██████████| 1662/1662 [01:58<00:00, 14.07it/s]\n"
     ]
    }
   ],
   "source": [
    "nnbrs_alfa, nnbrs_beta, common_columns_alfa, common_columns_beta = get_nnbrs_parameters(df_train_x, alfa_rows, beta_rows)\n",
    "knn_imputed_train = knn_fill_df(df_train_x, nnbrs_alfa, nnbrs_beta, alfa_rows, beta_rows, common_columns_alfa,\n",
    "                                common_columns_beta)\n",
    "\n",
    "nnbrs_alfa, nnbrs_beta, common_columns_alfa, common_columns_beta = get_nnbrs_parameters(df_test_x, alfa_rows, beta_rows)\n",
    "knn_imputed_test = knn_fill_df(df_test_x, nnbrs_alfa, nnbrs_beta, alfa_rows, beta_rows, common_columns_alfa,\n",
    "                               common_columns_beta)\n",
    "\n",
    "models_to_eval.append({\n",
    "    'name': 'knn_5_entire_chain',\n",
    "    'train': knn_imputed_train,\n",
    "    'test': knn_imputed_test\n",
    "})"
   ],
   "metadata": {
    "collapsed": false,
    "pycharm": {
     "name": "#%%\n"
    }
   }
  },
  {
   "cell_type": "markdown",
   "source": [
    "## Zero imputation\n",
    "As baseline"
   ],
   "metadata": {
    "collapsed": false,
    "pycharm": {
     "name": "#%% md\n"
    }
   }
  },
  {
   "cell_type": "code",
   "execution_count": 64,
   "outputs": [],
   "source": [
    "zero_imputed_train = df_train_x.fillna(0)\n",
    "zero_imputed_test = df_test_x.fillna(0)\n",
    "\n",
    "models_to_eval.append({\n",
    "    'name': 'zero',\n",
    "    'train': zero_imputed_train,\n",
    "    'test': zero_imputed_test\n",
    "})"
   ],
   "metadata": {
    "collapsed": false,
    "pycharm": {
     "name": "#%%\n"
    }
   }
  },
  {
   "cell_type": "markdown",
   "source": [
    "## Random imputation\n",
    "Instead of using a value based on the 5 nearest neighbors, we select a row randomly from the dataframe. This is mainly a kind of baseline, to see if the knn is actually useful."
   ],
   "metadata": {
    "collapsed": false,
    "pycharm": {
     "name": "#%% md\n"
    }
   }
  },
  {
   "cell_type": "code",
   "execution_count": 4,
   "outputs": [],
   "source": [
    "def random_fill_df(df, alfa_rows, beta_rows, common_columns_alfa, common_columns_beta):\n",
    "    # random imputation: instead of using the mean of the closest rows, use a random row\n",
    "    output_df = df.copy()\n",
    "\n",
    "    for index, row in tqdm(df.iterrows(), total=df.shape[0]):\n",
    "        is_alfa_missing = np.isnan(row['alfa_CDR3_length'])\n",
    "        is_beta_missing = np.isnan(row['beta_CDR3_length'])\n",
    "\n",
    "        assert not (is_alfa_missing and is_beta_missing), \"Both alpha and beta are missing\"\n",
    "\n",
    "        if is_alfa_missing:\n",
    "            mean_space = alfa_rows\n",
    "            columns_to_fill = common_columns_alfa\n",
    "        elif is_beta_missing:\n",
    "            mean_space = beta_rows\n",
    "            columns_to_fill = common_columns_beta\n",
    "        else:\n",
    "            # print(\"both present\")\n",
    "            continue\n",
    "\n",
    "        # get a random row\n",
    "        random_row = mean_space.sample()\n",
    "        # replace the columns_to_fill in the row at given index with the random row\n",
    "        output_df.loc[index, columns_to_fill] = random_row[columns_to_fill].values[0]\n",
    "\n",
    "    return output_df"
   ],
   "metadata": {
    "collapsed": false,
    "pycharm": {
     "name": "#%%\n"
    }
   }
  },
  {
   "cell_type": "code",
   "execution_count": 66,
   "outputs": [
    {
     "name": "stderr",
     "output_type": "stream",
     "text": [
      "100%|██████████| 6645/6645 [00:05<00:00, 1150.14it/s]\n",
      "100%|██████████| 1662/1662 [01:00<00:00, 27.29it/s]\n"
     ]
    }
   ],
   "source": [
    "_, _, common_columns_alfa, common_columns_beta = get_nnbrs_parameters(df_train_x, alfa_rows, beta_rows)\n",
    "random_imputed_train = random_fill_df(df_train_x, alfa_rows, beta_rows, common_columns_alfa, common_columns_beta)\n",
    "\n",
    "_, _, common_columns_alfa, common_columns_beta = get_nnbrs_parameters(df_test_x, alfa_rows, beta_rows)\n",
    "random_imputed_test = random_fill_df(df_test_x, alfa_rows, beta_rows, common_columns_alfa, common_columns_beta)\n",
    "\n",
    "models_to_eval.append({\n",
    "    'name': 'random',\n",
    "    'train': random_imputed_train,\n",
    "    'test': random_imputed_test\n",
    "})"
   ],
   "metadata": {
    "collapsed": false,
    "pycharm": {
     "name": "#%%\n"
    }
   }
  },
  {
   "cell_type": "markdown",
   "source": [
    "## KNN imputer\n",
    "This is a sklearn imputer that uses the 5 nearest neighbors to fill the missing values. Howerver, this imputes each value independently, so maybe the imputation of the entire chain works better."
   ],
   "metadata": {
    "collapsed": false,
    "pycharm": {
     "name": "#%% md\n"
    }
   }
  },
  {
   "cell_type": "code",
   "execution_count": 67,
   "outputs": [],
   "source": [
    "from sklearn.impute import KNNImputer\n",
    "\n",
    "imputer = KNNImputer(n_neighbors=5)\n",
    "\n",
    "x_imputed = imputer.fit_transform(df_train_x)\n",
    "x_test_imputed = imputer.transform(df_test_x)\n",
    "\n",
    "models_to_eval.append({\n",
    "    'name': 'knn_5',\n",
    "    'train': x_imputed,\n",
    "    'test': x_test_imputed\n",
    "})"
   ],
   "metadata": {
    "collapsed": false,
    "pycharm": {
     "name": "#%%\n"
    }
   }
  },
  {
   "cell_type": "markdown",
   "source": [
    "## Results\n",
    "On the sklearn random forest"
   ],
   "metadata": {
    "collapsed": false,
    "pycharm": {
     "name": "#%% md\n"
    }
   }
  },
  {
   "cell_type": "code",
   "execution_count": 68,
   "outputs": [
    {
     "name": "stdout",
     "output_type": "stream",
     "text": [
      "Evaluating knn_5_entire_chain\n",
      "Warning: train has nans in columns: ['beta_J', 'beta_V', 'alfa_J', 'alfa_V']\n",
      "Warning: test has nans in columns: ['alfa_J', 'alfa_V']\n",
      "ROC AUC: 0.865\n",
      "Evaluating zero\n",
      "ROC AUC: 0.881\n",
      "Evaluating random\n",
      "Warning: train has nans in columns: ['beta_J', 'beta_V', 'alfa_J', 'alfa_V']\n",
      "Warning: test has nans in columns: ['alfa_J', 'alfa_V']\n",
      "ROC AUC: 0.844\n",
      "Evaluating knn_5\n",
      "ROC AUC: 0.876\n"
     ]
    }
   ],
   "source": [
    "from sklearn.ensemble import RandomForestClassifier\n",
    "from util import evaluate_no_cv\n",
    "\n",
    "clf = RandomForestClassifier(random_state=0)\n",
    "\n",
    "scores = dict()\n",
    "for model in models_to_eval:\n",
    "    print(f\"Evaluating {model['name']}\")\n",
    "\n",
    "    train_x = model['train']\n",
    "    test_x = model['test']\n",
    "\n",
    "    # assert no nans\n",
    "    # print columns containing nans in train\n",
    "    if not isinstance(train_x, np.ndarray):\n",
    "        nan_rows = train_x.columns[train_x.isna().any()].tolist()\n",
    "        if nan_rows:\n",
    "            print(f\"Warning: train has nans in columns: {nan_rows}\")\n",
    "            train_x = train_x.fillna(0)\n",
    "    if not isinstance(test_x, np.ndarray):\n",
    "        nan_rows = test_x.columns[test_x.isna().any()].tolist()\n",
    "        if nan_rows:\n",
    "            print(f\"Warning: test has nans in columns: {nan_rows}\")\n",
    "            test_x = test_x.fillna(0)\n",
    "\n",
    "    assert not np.isnan(train_x).any().any(), \"Nans in train\"\n",
    "    assert not np.isnan(test_x).any().any(), \"Nans in test\"\n",
    "\n",
    "    auc = evaluate_no_cv(clf, train_x, df_train_y, test_x, df_test_y)\n",
    "\n",
    "    scores[model['name']] = auc"
   ],
   "metadata": {
    "collapsed": false,
    "pycharm": {
     "name": "#%%\n"
    }
   }
  },
  {
   "cell_type": "code",
   "execution_count": 69,
   "outputs": [
    {
     "name": "stderr",
     "output_type": "stream",
     "text": [
      "C:\\Users\\arnod\\AppData\\Local\\Temp/ipykernel_17524/605735394.py:16: UserWarning: FixedFormatter should only be used together with FixedLocator\n",
      "  graph.set_yticklabels([f\"{baseline+y:.2f}\" for y in y_ticks])\n"
     ]
    },
    {
     "data": {
      "text/plain": "<Figure size 432x288 with 1 Axes>",
      "image/png": "[encoded data removed]"
     },
     "metadata": {
      "needs_background": "light"
     },
     "output_type": "display_data"
    }
   ],
   "source": [
    "# plot the same using seaborn\n",
    "import matplotlib.pyplot as plt\n",
    "import seaborn as sns\n",
    "\n",
    "baseline = scores['zero']\n",
    "\n",
    "diff = [scores[score] - baseline for score in scores]\n",
    "graph = sns.barplot(x=list(scores.keys()), y=diff)\n",
    "\n",
    "# draw a horizontal line at y=baseline and label it\n",
    "graph.axhline(0, color=\"k\", clip_on=False)\n",
    "\n",
    "# graph.set_xticklabels(graph.get_xticklabels(), rotation=90)\n",
    "\n",
    "y_ticks = graph.get_yticks()\n",
    "graph.set_yticklabels([f\"{baseline + y:.2f}\" for y in y_ticks])\n",
    "\n",
    "graph.set_ylabel(\"AUC\")\n",
    "graph.set_xlabel(\"Imputation method\")\n",
    "\n",
    "plt.show()"
   ],
   "metadata": {
    "collapsed": false,
    "pycharm": {
     "name": "#%%\n"
    }
   }
  },
  {
   "cell_type": "code",
   "execution_count": 70,
   "outputs": [
    {
     "data": {
      "text/plain": "{'knn_5_entire_chain': 0.8650643068188403,\n 'zero': 0.880513875210011,\n 'random': 0.8438408840739239,\n 'knn_5': 0.8762810671455883}"
     },
     "execution_count": 70,
     "metadata": {},
     "output_type": "execute_result"
    }
   ],
   "source": [
    "scores"
   ],
   "metadata": {
    "collapsed": false,
    "pycharm": {
     "name": "#%%\n"
    }
   }
  },
  {
   "cell_type": "code",
   "execution_count": 74,
   "outputs": [],
   "source": [
    "scores1 = {'knn_5_entire_chain': 0.8650643068188403,\n",
    "           'zero': 0.880513875210011,\n",
    "           'random': 0.8438408840739239,\n",
    "           'knn_5': 0.8762810671455883}"
   ],
   "metadata": {
    "collapsed": false,
    "pycharm": {
     "name": "#%%\n"
    }
   }
  },
  {
   "cell_type": "markdown",
   "source": [
    "Zero imputation is strangely still the best. However, I didn't do cross validation, so this might not be the best way to evaluate the imputation methods. Let's try generating the scores again, but on another random seed, to see if the results are similar. (note: this is not the way you should do \"cross validation\", but it's a quick way to see if the results are similar)"
   ],
   "metadata": {
    "collapsed": false,
    "pycharm": {
     "name": "#%% md\n"
    }
   }
  },
  {
   "cell_type": "code",
   "execution_count": 71,
   "outputs": [
    {
     "name": "stdout",
     "output_type": "stream",
     "text": [
      "Evaluating knn_5_entire_chain\n",
      "Warning: train has nans in columns: ['beta_J', 'beta_V', 'alfa_J', 'alfa_V']\n",
      "Warning: test has nans in columns: ['alfa_J', 'alfa_V']\n",
      "ROC AUC: 0.860\n",
      "Evaluating zero\n",
      "ROC AUC: 0.885\n",
      "Evaluating random\n",
      "Warning: train has nans in columns: ['beta_J', 'beta_V', 'alfa_J', 'alfa_V']\n",
      "Warning: test has nans in columns: ['alfa_J', 'alfa_V']\n",
      "ROC AUC: 0.847\n",
      "Evaluating knn_5\n",
      "ROC AUC: 0.882\n"
     ]
    }
   ],
   "source": [
    "from sklearn.ensemble import RandomForestClassifier\n",
    "from util import evaluate_no_cv\n",
    "\n",
    "clf = RandomForestClassifier(random_state=42)\n",
    "\n",
    "scores = dict()\n",
    "for model in models_to_eval:\n",
    "    print(f\"Evaluating {model['name']}\")\n",
    "\n",
    "    train_x = model['train']\n",
    "    test_x = model['test']\n",
    "\n",
    "    # assert no nans\n",
    "    # print columns containing nans in train\n",
    "    if not isinstance(train_x, np.ndarray):\n",
    "        nan_rows = train_x.columns[train_x.isna().any()].tolist()\n",
    "        if nan_rows:\n",
    "            print(f\"Warning: train has nans in columns: {nan_rows}\")\n",
    "            train_x = train_x.fillna(0)\n",
    "    if not isinstance(test_x, np.ndarray):\n",
    "        nan_rows = test_x.columns[test_x.isna().any()].tolist()\n",
    "        if nan_rows:\n",
    "            print(f\"Warning: test has nans in columns: {nan_rows}\")\n",
    "            test_x = test_x.fillna(0)\n",
    "\n",
    "    assert not np.isnan(train_x).any().any(), \"Nans in train\"\n",
    "    assert not np.isnan(test_x).any().any(), \"Nans in test\"\n",
    "\n",
    "    auc = evaluate_no_cv(clf, train_x, df_train_y, test_x, df_test_y)\n",
    "\n",
    "    scores[model['name']] = auc"
   ],
   "metadata": {
    "collapsed": false,
    "pycharm": {
     "name": "#%%\n"
    }
   }
  },
  {
   "cell_type": "code",
   "execution_count": 85,
   "outputs": [
    {
     "name": "stderr",
     "output_type": "stream",
     "text": [
      "C:\\Users\\arnod\\AppData\\Local\\Temp/ipykernel_17524/1456528804.py:23: UserWarning: FixedFormatter should only be used together with FixedLocator\n",
      "  graph.set_yticklabels([f\"{baseline+y:.2f}\" for y in y_ticks])\n"
     ]
    },
    {
     "data": {
      "text/plain": "<Figure size 432x288 with 1 Axes>",
      "image/png": "[encoded data removed]"
     },
     "metadata": {
      "needs_background": "light"
     },
     "output_type": "display_data"
    }
   ],
   "source": [
    "# plot the same using seaborn\n",
    "import matplotlib.pyplot as plt\n",
    "import seaborn as sns\n",
    "\n",
    "\n",
    "def plot_scores(scores, baseline_name):\n",
    "    baseline = scores[baseline_name]\n",
    "\n",
    "    diff = [scores[score] - baseline for score in scores]\n",
    "    graph = sns.barplot(x=list(scores.keys()), y=diff)\n",
    "\n",
    "    # draw a horizontal line at y=baseline and label it\n",
    "    graph.axhline(0, color=\"k\", clip_on=False)\n",
    "\n",
    "    # graph.set_xticklabels(graph.get_xticklabels(), rotation=90)\n",
    "\n",
    "    y_ticks = graph.get_yticks()\n",
    "    graph.set_yticklabels([f\"{baseline + y:.2f}\" for y in y_ticks])\n",
    "\n",
    "    graph.set_ylabel(\"AUC\")\n",
    "    graph.set_xlabel(\"Imputation method\")\n",
    "\n",
    "    plt.show()\n",
    "\n",
    "    # clear the graph for future plots\n",
    "    plt.clf()\n",
    "\n",
    "\n",
    "plot_scores(scores, 'zero')"
   ],
   "metadata": {
    "collapsed": false,
    "pycharm": {
     "name": "#%%\n"
    }
   }
  },
  {
   "cell_type": "code",
   "execution_count": 77,
   "outputs": [
    {
     "data": {
      "text/plain": "{'knn_5_entire_chain': 0.8597148195353688,\n 'zero': 0.8852825734314351,\n 'random': 0.8467926249927582,\n 'knn_5': 0.882166444586061}"
     },
     "execution_count": 77,
     "metadata": {},
     "output_type": "execute_result"
    }
   ],
   "source": [
    "scores2 = {'knn_5_entire_chain': 0.8597148195353688,\n",
    "           'zero': 0.8852825734314351,\n",
    "           'random': 0.8467926249927582,\n",
    "           'knn_5': 0.882166444586061}"
   ],
   "metadata": {
    "collapsed": false,
    "pycharm": {
     "name": "#%%\n"
    }
   }
  },
  {
   "cell_type": "code",
   "execution_count": 75,
   "outputs": [],
   "source": [
    "score_diffs = {\n",
    "    'zero': scores['zero'] - scores1['zero'],\n",
    "    'random': scores['random'] - scores1['random'],\n",
    "    'knn_5': scores['knn_5'] - scores1['knn_5'],\n",
    "    'knn_5_entire_chain': scores['knn_5_entire_chain'] - scores1['knn_5_entire_chain']\n",
    "}"
   ],
   "metadata": {
    "collapsed": false,
    "pycharm": {
     "name": "#%%\n"
    }
   }
  },
  {
   "cell_type": "code",
   "execution_count": 76,
   "outputs": [
    {
     "data": {
      "text/plain": "{'zero': 0.004768698221424117,\n 'random': 0.0029517409188343224,\n 'knn_5': 0.005885377440472683,\n 'knn_5_entire_chain': -0.00534948728347151}"
     },
     "execution_count": 76,
     "metadata": {},
     "output_type": "execute_result"
    }
   ],
   "source": [
    "score_diffs"
   ],
   "metadata": {
    "collapsed": false,
    "pycharm": {
     "name": "#%%\n"
    }
   }
  },
  {
   "cell_type": "markdown",
   "source": [
    "The random seed of the model doesn't seem to make a real difference (but the test set, which remained the same for now) might of course"
   ],
   "metadata": {
    "collapsed": false,
    "pycharm": {
     "name": "#%% md\n"
    }
   }
  },
  {
   "cell_type": "markdown",
   "source": [
    "## Test without NaNs"
   ],
   "metadata": {
    "collapsed": false,
    "pycharm": {
     "name": "#%% md\n"
    }
   }
  },
  {
   "cell_type": "code",
   "execution_count": 80,
   "outputs": [],
   "source": [
    "# def fix_test(x_test, train_columns):\n",
    "#     # x_test.fillna(0, inplace=True)\n",
    "#     for col in train_columns:\n",
    "#         if col not in x_test.columns:\n",
    "#             # only columns starting with pos_0 are allowed to be missing, the rest should already exist (be sure you use the test version of the onehot encoder if this isn't the case)\n",
    "#             assert col.startswith('alfa_pos_') or col.startswith('beta_pos_') or col.endswith(\n",
    "#                 '_count') or col in ['beta_J', 'beta_V', 'alfa_J',\n",
    "#                                      'alfa_V'], f'Column {col} not in test set'  # Don't know whether col in ['beta_J', 'beta_V', 'alfa_J','alfa_V'] should be aloowed, was required for alpha beta knn\n",
    "#\n",
    "#             x_test[\n",
    "#                 col] = 0  #np.nan  # TODO: NaN of 0? currently kept it at 0 to make clear it's not because the chain was missing\n",
    "#             # print(f'Column {col} not in test set, added with NaN values')\n",
    "#     # remove all columns from x_test that are not in x\n",
    "#     x_test = x_test[train_columns]\n",
    "#     return x_test\n"
   ],
   "metadata": {
    "collapsed": false,
    "pycharm": {
     "name": "#%%\n"
    }
   }
  },
  {
   "cell_type": "code",
   "execution_count": 82,
   "outputs": [
    {
     "name": "stderr",
     "output_type": "stream",
     "text": [
      "C:\\Users\\arnod\\AppData\\Local\\Temp/ipykernel_17524/1609111914.py:9: PerformanceWarning: DataFrame is highly fragmented.  This is usually the result of calling `frame.insert` many times, which has poor performance.  Consider joining all columns at once using pd.concat(axis=1) instead.  To get a de-fragmented frame, use `newframe = frame.copy()`\n",
      "  x_test[col] = 0 #np.nan  # TODO: NaN of 0? currently kept it at 0 to make clear it's not because the chain was missing\n"
     ]
    },
    {
     "name": "stdout",
     "output_type": "stream",
     "text": [
      "Evaluating knn_5_entire_chain\n",
      "Warning: train has nans in columns: ['beta_J', 'beta_V', 'alfa_J', 'alfa_V']\n",
      "ROC AUC: 0.941\n",
      "Evaluating zero\n",
      "ROC AUC: 0.950\n",
      "Evaluating random\n",
      "Warning: train has nans in columns: ['beta_J', 'beta_V', 'alfa_J', 'alfa_V']\n",
      "ROC AUC: 0.942\n",
      "Evaluating knn_5\n"
     ]
    },
    {
     "ename": "AttributeError",
     "evalue": "'numpy.ndarray' object has no attribute 'columns'",
     "output_type": "error",
     "traceback": [
      "\u001B[1;31m---------------------------------------------------------------------------\u001B[0m",
      "\u001B[1;31mAttributeError\u001B[0m                            Traceback (most recent call last)",
      "\u001B[1;32m~\\AppData\\Local\\Temp/ipykernel_17524/3714806731.py\u001B[0m in \u001B[0;36m<module>\u001B[1;34m\u001B[0m\n\u001B[0;32m     25\u001B[0m             \u001B[0mtrain_x\u001B[0m \u001B[1;33m=\u001B[0m \u001B[0mtrain_x\u001B[0m\u001B[1;33m.\u001B[0m\u001B[0mfillna\u001B[0m\u001B[1;33m(\u001B[0m\u001B[1;36m0\u001B[0m\u001B[1;33m)\u001B[0m\u001B[1;33m\u001B[0m\u001B[1;33m\u001B[0m\u001B[0m\n\u001B[0;32m     26\u001B[0m \u001B[1;33m\u001B[0m\u001B[0m\n\u001B[1;32m---> 27\u001B[1;33m     \u001B[0mfixed_test_x\u001B[0m \u001B[1;33m=\u001B[0m \u001B[0mfix_test\u001B[0m\u001B[1;33m(\u001B[0m\u001B[0mdf_test_x_no_nans\u001B[0m\u001B[1;33m,\u001B[0m \u001B[0mtrain_x\u001B[0m\u001B[1;33m.\u001B[0m\u001B[0mcolumns\u001B[0m\u001B[1;33m)\u001B[0m\u001B[1;33m\u001B[0m\u001B[1;33m\u001B[0m\u001B[0m\n\u001B[0m\u001B[0;32m     28\u001B[0m \u001B[1;33m\u001B[0m\u001B[0m\n\u001B[0;32m     29\u001B[0m     \u001B[1;32massert\u001B[0m \u001B[1;32mnot\u001B[0m \u001B[0mnp\u001B[0m\u001B[1;33m.\u001B[0m\u001B[0misnan\u001B[0m\u001B[1;33m(\u001B[0m\u001B[0mtrain_x\u001B[0m\u001B[1;33m)\u001B[0m\u001B[1;33m.\u001B[0m\u001B[0many\u001B[0m\u001B[1;33m(\u001B[0m\u001B[1;33m)\u001B[0m\u001B[1;33m.\u001B[0m\u001B[0many\u001B[0m\u001B[1;33m(\u001B[0m\u001B[1;33m)\u001B[0m\u001B[1;33m,\u001B[0m \u001B[1;34m\"Nans in train\"\u001B[0m\u001B[1;33m\u001B[0m\u001B[1;33m\u001B[0m\u001B[0m\n",
      "\u001B[1;31mAttributeError\u001B[0m: 'numpy.ndarray' object has no attribute 'columns'"
     ]
    }
   ],
   "source": [
    "from sklearn.ensemble import RandomForestClassifier\n",
    "from util import evaluate_no_cv\n",
    "\n",
    "df_train_x = get_features(df_train)\n",
    "\n",
    "df_test_no_nans = df_test.dropna()\n",
    "df_test_y_no_nans = df_test_no_nans['reaction']\n",
    "df_test_x_no_nans = get_features(df_test_no_nans, test=True)\n",
    "df_test_x_no_nans = fix_test(df_test_x_no_nans, df_train_x.columns)\n",
    "\n",
    "clf = RandomForestClassifier(random_state=42)\n",
    "\n",
    "scores = dict()\n",
    "for model in models_to_eval:\n",
    "    print(f\"Evaluating {model['name']}\")\n",
    "\n",
    "    train_x = model['train']\n",
    "\n",
    "    # assert no nans\n",
    "    # print columns containing nans in train\n",
    "    if not isinstance(train_x, np.ndarray):\n",
    "        nan_rows = train_x.columns[train_x.isna().any()].tolist()\n",
    "        if nan_rows:\n",
    "            print(f\"Warning: train has nans in columns: {nan_rows}\")\n",
    "            train_x = train_x.fillna(0)\n",
    "\n",
    "    fixed_test_x = fix_test(df_test_x_no_nans, train_x.columns)\n",
    "\n",
    "    assert not np.isnan(train_x).any().any(), \"Nans in train\"\n",
    "\n",
    "    auc = evaluate_no_cv(clf, train_x, df_train_y, fixed_test_x, df_test_y_no_nans)\n",
    "\n",
    "    scores[model['name']] = auc"
   ],
   "metadata": {
    "collapsed": false,
    "pycharm": {
     "name": "#%%\n"
    }
   }
  },
  {
   "cell_type": "markdown",
   "source": [
    "Let's skip knn_5 (since it's already an numpy array, which makes it harder to fix the test)"
   ],
   "metadata": {
    "collapsed": false,
    "pycharm": {
     "name": "#%% md\n"
    }
   }
  },
  {
   "cell_type": "code",
   "execution_count": 87,
   "outputs": [],
   "source": [
    "scores_na_1 = {'knn_5_entire_chain': 0.9410718316854034,\n",
    "               'zero': 0.9497810284888708,\n",
    "               'random': 0.9422908483452979}"
   ],
   "metadata": {
    "collapsed": false,
    "pycharm": {
     "name": "#%%\n"
    }
   }
  },
  {
   "cell_type": "code",
   "execution_count": 88,
   "outputs": [
    {
     "name": "stderr",
     "output_type": "stream",
     "text": [
      "C:\\Users\\arnod\\AppData\\Local\\Temp/ipykernel_17524/1456528804.py:23: UserWarning: FixedFormatter should only be used together with FixedLocator\n",
      "  graph.set_yticklabels([f\"{baseline+y:.2f}\" for y in y_ticks])\n"
     ]
    },
    {
     "data": {
      "text/plain": "<Figure size 432x288 with 1 Axes>",
      "image/png": "[encoded data removed]"
     },
     "metadata": {
      "needs_background": "light"
     },
     "output_type": "display_data"
    }
   ],
   "source": [
    "plot_scores(scores_na_1, 'zero')"
   ],
   "metadata": {
    "collapsed": false,
    "pycharm": {
     "name": "#%%\n"
    }
   }
  },
  {
   "cell_type": "markdown",
   "source": [
    "Strangely, here it makes almost no difference."
   ],
   "metadata": {
    "collapsed": false,
    "pycharm": {
     "name": "#%% md\n"
    }
   }
  },
  {
   "cell_type": "markdown",
   "source": [
    "## Different number of neighbors\n"
   ],
   "metadata": {
    "collapsed": false,
    "pycharm": {
     "name": "#%% md\n"
    }
   }
  },
  {
   "cell_type": "code",
   "execution_count": 107,
   "outputs": [
    {
     "name": "stderr",
     "output_type": "stream",
     "text": [
      "C:\\Users\\arnod\\PycharmProjects\\thesis\\util\\classification.py:38: PerformanceWarning: DataFrame is highly fragmented.  This is usually the result of calling `frame.insert` many times, which has poor performance.  Consider joining all columns at once using pd.concat(axis=1) instead.  To get a de-fragmented frame, use `newframe = frame.copy()`\n",
      "  x_test[col] = 0 #np.nan  # TODO: NaN of 0? currently kept it at 0 to make clear it's not because the chain was missing\n"
     ]
    }
   ],
   "source": [
    "from util import get_train_dataset, get_features, fix_test, get_columns_starting_with\n",
    "from sklearn.model_selection import train_test_split\n",
    "\n",
    "df = get_train_dataset()  #.sample(200)\n",
    "df_train, df_test = train_test_split(df, test_size=0.2, random_state=42)\n",
    "\n",
    "df_test = df_test.dropna()\n",
    "\n",
    "df_train_y = df_train['reaction']\n",
    "df_test_y = df_test['reaction']\n",
    "\n",
    "df_train_x = get_features(df_train)\n",
    "df_test_x = get_features(df_test, test=True)\n",
    "df_test_x = fix_test(df_test_x, df_train_x.columns)"
   ],
   "metadata": {
    "collapsed": false,
    "pycharm": {
     "name": "#%%\n"
    }
   }
  },
  {
   "cell_type": "code",
   "execution_count": 108,
   "outputs": [
    {
     "name": "stderr",
     "output_type": "stream",
     "text": [
      "C:\\Users\\arnod\\AppData\\Local\\Temp/ipykernel_17524/2302238783.py:3: UserWarning: Boolean Series key will be reindexed to match DataFrame index.\n",
      "  df_both_alpha_and_beta = df_train[df_train['CDR3_alfa'].notna() & df['CDR3_beta'].notna()]\n"
     ]
    }
   ],
   "source": [
    "from sklearn.neighbors import NearestNeighbors\n",
    "\n",
    "df_both_alpha_and_beta = df_train[df_train['CDR3_alfa'].notna() & df['CDR3_beta'].notna()]\n",
    "features_complete_samples = get_features(df_both_alpha_and_beta)\n",
    "\n",
    "alfa_rows = get_columns_starting_with(features_complete_samples, 'alfa_')\n",
    "beta_rows = get_columns_starting_with(features_complete_samples, 'beta_')\n",
    "\n",
    "_, _, common_columns_alfa, common_columns_beta = get_nnbrs_parameters(df_train_x, alfa_rows, beta_rows, full=False)"
   ],
   "metadata": {
    "collapsed": false,
    "pycharm": {
     "name": "#%%\n"
    }
   }
  },
  {
   "cell_type": "code",
   "execution_count": 110,
   "outputs": [
    {
     "name": "stdout",
     "output_type": "stream",
     "text": [
      "Testing 1\n"
     ]
    },
    {
     "name": "stderr",
     "output_type": "stream",
     "text": [
      "100%|██████████| 6645/6645 [01:16<00:00, 87.35it/s] \n"
     ]
    },
    {
     "name": "stdout",
     "output_type": "stream",
     "text": [
      "Nan rows: ['beta_J', 'beta_V', 'alfa_J', 'alfa_V']\n",
      "ROC AUC: 0.936\n",
      "Testing 3\n"
     ]
    },
    {
     "name": "stderr",
     "output_type": "stream",
     "text": [
      "100%|██████████| 6645/6645 [01:17<00:00, 85.19it/s] \n"
     ]
    },
    {
     "name": "stdout",
     "output_type": "stream",
     "text": [
      "Nan rows: ['beta_J', 'beta_V', 'alfa_J', 'alfa_V']\n",
      "ROC AUC: 0.944\n",
      "Testing 5\n"
     ]
    },
    {
     "name": "stderr",
     "output_type": "stream",
     "text": [
      "100%|██████████| 6645/6645 [01:17<00:00, 86.28it/s] \n"
     ]
    },
    {
     "name": "stdout",
     "output_type": "stream",
     "text": [
      "Nan rows: ['beta_J', 'beta_V', 'alfa_J', 'alfa_V']\n",
      "ROC AUC: 0.941\n",
      "Testing 10\n"
     ]
    },
    {
     "name": "stderr",
     "output_type": "stream",
     "text": [
      "100%|██████████| 6645/6645 [01:16<00:00, 86.33it/s] \n"
     ]
    },
    {
     "name": "stdout",
     "output_type": "stream",
     "text": [
      "Nan rows: ['beta_J', 'beta_V', 'alfa_J', 'alfa_V']\n",
      "ROC AUC: 0.943\n",
      "Testing 20\n"
     ]
    },
    {
     "name": "stderr",
     "output_type": "stream",
     "text": [
      "100%|██████████| 6645/6645 [01:23<00:00, 79.86it/s] \n"
     ]
    },
    {
     "name": "stdout",
     "output_type": "stream",
     "text": [
      "Nan rows: ['beta_J', 'beta_V', 'alfa_J', 'alfa_V']\n",
      "ROC AUC: 0.944\n",
      "Testing 50\n"
     ]
    },
    {
     "name": "stderr",
     "output_type": "stream",
     "text": [
      "100%|██████████| 6645/6645 [01:18<00:00, 84.61it/s] \n"
     ]
    },
    {
     "name": "stdout",
     "output_type": "stream",
     "text": [
      "Nan rows: ['beta_J', 'beta_V', 'alfa_J', 'alfa_V']\n",
      "ROC AUC: 0.950\n"
     ]
    }
   ],
   "source": [
    "scores = dict()\n",
    "for n_neighbors in [1, 3, 5, 10, 20, 50]:\n",
    "    print(f\"Testing {n_neighbors}\")\n",
    "\n",
    "    alfa_search_space = alfa_rows[common_columns_alfa]\n",
    "    beta_search_space = beta_rows[common_columns_beta]\n",
    "\n",
    "    nnbrs_alfa = NearestNeighbors(n_neighbors=n_neighbors).fit(alfa_search_space)\n",
    "    nnbrs_beta = NearestNeighbors(n_neighbors=n_neighbors).fit(beta_search_space)\n",
    "\n",
    "    knn_imputed_train = knn_fill_df(df_train_x, nnbrs_alfa, nnbrs_beta, alfa_rows, beta_rows, common_columns_alfa,\n",
    "                                    common_columns_beta)\n",
    "\n",
    "    print(f\"Nan rows: {knn_imputed_train.columns[knn_imputed_train.isna().any()].tolist()}\")\n",
    "    knn_imputed_train = knn_imputed_train.fillna(0)\n",
    "\n",
    "    auc = evaluate_no_cv(clf, knn_imputed_train, df_train_y, df_test_x, df_test_y)\n",
    "\n",
    "    scores[n_neighbors] = auc"
   ],
   "metadata": {
    "collapsed": false,
    "pycharm": {
     "name": "#%%\n"
    }
   }
  },
  {
   "cell_type": "code",
   "execution_count": 111,
   "outputs": [
    {
     "data": {
      "text/plain": "{1: 0.9363628154769967,\n 3: 0.9435956476590366,\n 5: 0.9410718316854034,\n 10: 0.9429229310578355,\n 20: 0.9440561650638856,\n 50: 0.9502415458937199}"
     },
     "execution_count": 111,
     "metadata": {},
     "output_type": "execute_result"
    }
   ],
   "source": [
    "scores"
   ],
   "metadata": {
    "collapsed": false,
    "pycharm": {
     "name": "#%%\n"
    }
   }
  },
  {
   "cell_type": "code",
   "execution_count": 112,
   "outputs": [
    {
     "name": "stderr",
     "output_type": "stream",
     "text": [
      "C:\\Users\\arnod\\AppData\\Local\\Temp/ipykernel_17524/1456528804.py:23: UserWarning: FixedFormatter should only be used together with FixedLocator\n",
      "  graph.set_yticklabels([f\"{baseline+y:.2f}\" for y in y_ticks])\n"
     ]
    },
    {
     "data": {
      "text/plain": "<Figure size 432x288 with 1 Axes>",
      "image/png": "[encoded data removed]"
     },
     "metadata": {
      "needs_background": "light"
     },
     "output_type": "display_data"
    }
   ],
   "source": [
    "# graph.clf()\n",
    "plot_scores(scores, 5)"
   ],
   "metadata": {
    "collapsed": false,
    "pycharm": {
     "name": "#%%\n"
    }
   }
  },
  {
   "cell_type": "markdown",
   "source": [
    "Result are the opposite of what I expected. I would expect that increasing the n in knn  would decrease the AUC from a certain value (e.g. start decreasing from n=5). Let's try some other larger values.\n",
    "Also here, note that I didn't use cross validation, so this might influence our results.\n",
    "There are only 666 test samples."
   ],
   "metadata": {
    "collapsed": false,
    "pycharm": {
     "name": "#%% md\n"
    }
   }
  },
  {
   "cell_type": "code",
   "execution_count": 113,
   "outputs": [
    {
     "name": "stdout",
     "output_type": "stream",
     "text": [
      "Testing 150\n"
     ]
    },
    {
     "name": "stderr",
     "output_type": "stream",
     "text": [
      "100%|██████████| 6645/6645 [01:27<00:00, 76.27it/s] \n"
     ]
    },
    {
     "name": "stdout",
     "output_type": "stream",
     "text": [
      "Nan rows: ['beta_J', 'beta_V', 'alfa_J', 'alfa_V']\n",
      "ROC AUC: 0.945\n",
      "Testing 300\n"
     ]
    },
    {
     "name": "stderr",
     "output_type": "stream",
     "text": [
      "100%|██████████| 6645/6645 [01:35<00:00, 69.29it/s] \n"
     ]
    },
    {
     "name": "stdout",
     "output_type": "stream",
     "text": [
      "Nan rows: ['beta_J', 'beta_V', 'alfa_J', 'alfa_V']\n",
      "ROC AUC: 0.951\n",
      "Testing 600\n"
     ]
    },
    {
     "name": "stderr",
     "output_type": "stream",
     "text": [
      "100%|██████████| 6645/6645 [01:38<00:00, 67.65it/s] \n"
     ]
    },
    {
     "name": "stdout",
     "output_type": "stream",
     "text": [
      "Nan rows: ['beta_J', 'beta_V', 'alfa_J', 'alfa_V']\n",
      "ROC AUC: 0.947\n"
     ]
    }
   ],
   "source": [
    "for n_neighbors in [150, 300, 600]:\n",
    "    print(f\"Testing {n_neighbors}\")\n",
    "\n",
    "    alfa_search_space = alfa_rows[common_columns_alfa]\n",
    "    beta_search_space = beta_rows[common_columns_beta]\n",
    "\n",
    "    nnbrs_alfa = NearestNeighbors(n_neighbors=n_neighbors).fit(alfa_search_space)\n",
    "    nnbrs_beta = NearestNeighbors(n_neighbors=n_neighbors).fit(beta_search_space)\n",
    "\n",
    "    knn_imputed_train = knn_fill_df(df_train_x, nnbrs_alfa, nnbrs_beta, alfa_rows, beta_rows, common_columns_alfa,\n",
    "                                    common_columns_beta)\n",
    "\n",
    "    print(f\"Nan rows: {knn_imputed_train.columns[knn_imputed_train.isna().any()].tolist()}\")\n",
    "    knn_imputed_train = knn_imputed_train.fillna(0)\n",
    "\n",
    "    auc = evaluate_no_cv(clf, knn_imputed_train, df_train_y, df_test_x, df_test_y)\n",
    "\n",
    "    scores[n_neighbors] = auc"
   ],
   "metadata": {
    "collapsed": false,
    "pycharm": {
     "name": "#%%\n"
    }
   }
  },
  {
   "cell_type": "code",
   "execution_count": 114,
   "outputs": [
    {
     "name": "stderr",
     "output_type": "stream",
     "text": [
      "C:\\Users\\arnod\\AppData\\Local\\Temp/ipykernel_17524/1456528804.py:23: UserWarning: FixedFormatter should only be used together with FixedLocator\n",
      "  graph.set_yticklabels([f\"{baseline+y:.2f}\" for y in y_ticks])\n"
     ]
    },
    {
     "data": {
      "text/plain": "<Figure size 432x288 with 1 Axes>",
      "image/png": "[encoded data removed]"
     },
     "metadata": {
      "needs_background": "light"
     },
     "output_type": "display_data"
    }
   ],
   "source": [
    "plot_scores(scores, 5)"
   ],
   "metadata": {
    "collapsed": false,
    "pycharm": {
     "name": "#%%\n"
    }
   }
  },
  {
   "cell_type": "markdown",
   "source": [
    "All results in similar range."
   ],
   "metadata": {
    "collapsed": false,
    "pycharm": {
     "name": "#%% md\n"
    }
   }
  },
  {
   "cell_type": "markdown",
   "source": [
    "# Overview\n",
    "However, it's quite hard to draw conclusions from these results, since I didn't use cross validation. Besides that I also used random forests, while previous results have shown HistGradientBoosting to be better, so let's use that instead."
   ],
   "metadata": {
    "collapsed": false,
    "pycharm": {
     "name": "#%% md\n"
    }
   }
  },
  {
   "cell_type": "code",
   "execution_count": 57,
   "outputs": [],
   "source": [
    "from util import get_train_dataset, get_columns_starting_with, evaluate_no_cv, fix_test\n",
    "from sklearn.model_selection import train_test_split\n",
    "from util import get_baseline_sequence_features, update_alpha_or_beta\n",
    "import numpy as np\n",
    "from tqdm import tqdm\n",
    "import pandas as pd\n",
    "from sklearn.neighbors import NearestNeighbors\n",
    "\n",
    "df = get_train_dataset()#.sample(100)\n",
    "\n",
    "scores = pd.DataFrame(columns=['name', 'score'])\n",
    "methods_to_evaluate = []"
   ],
   "metadata": {
    "collapsed": false,
    "pycharm": {
     "name": "#%%\n"
    }
   }
  },
  {
   "cell_type": "code",
   "execution_count": 78,
   "outputs": [],
   "source": [
    "folds = 5\n",
    "\n",
    "\n",
    "def check_and_fix_nan_rows(df):\n",
    "    if isinstance(df, np.ndarray):\n",
    "        return df\n",
    "    if df.isna().any().any():\n",
    "        print(f\"Nan rows: {df.columns[df.isna().any()].tolist()}\")\n",
    "        df = df.fillna(0)\n",
    "    return df\n",
    "\n",
    "\n",
    "def cv_run(function, clf, *args, **kwargs):\n",
    "    global df, scores\n",
    "\n",
    "    args = [] if args is None else args\n",
    "    kwargs = {} if kwargs is None else kwargs\n",
    "\n",
    "    for seed in range(folds):\n",
    "        train, test = train_test_split(df, test_size=0.2, random_state=seed)\n",
    "\n",
    "        test = test.dropna()\n",
    "\n",
    "        train_y = train['reaction']\n",
    "        test_y = test['reaction']\n",
    "        train_x = get_features(train)\n",
    "        test_x = get_features(test, test=True)\n",
    "        test_x = fix_test(test_x, train_x.columns)\n",
    "\n",
    "        kwargs['train_x'] = train_x\n",
    "        kwargs['test_x'] = test_x\n",
    "\n",
    "        train_x, test_x = function(*args, **kwargs)\n",
    "\n",
    "        train_x = check_and_fix_nan_rows(train_x)\n",
    "        test_x = check_and_fix_nan_rows(test_x)\n",
    "\n",
    "        auc = evaluate_no_cv(clf, train_x, train_y, test_x, test_y)\n",
    "\n",
    "        name = function.__name__\n",
    "\n",
    "        global scores\n",
    "        # scores = scores.append({'name': function.__name__, 'score': auc}, ignore_index=True)\n",
    "\n",
    "        # append will be deprecated, use concat instead\n",
    "        # new_row = pd.DataFrame({'name': function.__name__, 'score': auc})\n",
    "        # scores = pd.concat([scores, new_row])\n",
    "\n",
    "        # doesn't work, let's try anoter way\n",
    "        columns = [name, auc]\n",
    "        columns.append(0) if len(scores.columns) >= 3 else None # add placeholder value if n_neighbors column has already been added\n",
    "        columns.append(0) if len(scores.columns) >= 4 else None # add placeholder value if improvements column has already been added\n",
    "        scores.loc[len(scores.index)] = columns"
   ],
   "metadata": {
    "collapsed": false,
    "pycharm": {
     "name": "#%%\n"
    }
   }
  },
  {
   "cell_type": "code",
   "execution_count": 59,
   "outputs": [],
   "source": [
    "# requires cell with get_features function to be run (not the same as the get_features from util!)\n",
    "# same for cell with get_nnbrs_parameters, knn_fill_df, random_fill_df\n",
    "\n",
    "def knn_fill_entire_chain(train_x=None, test_x=None, n_neighbors=5):\n",
    "    # should never be None, however still working with kwargs since I pass this arguments with a dict (which prevents accidentally passing args in wrong order)\n",
    "    assert train_x is not None and test_x is not None\n",
    "\n",
    "    df_both_alpha_and_beta = df[df['CDR3_alfa'].notna() & df['CDR3_beta'].notna()]\n",
    "    features_complete_samples = get_features(df_both_alpha_and_beta)\n",
    "    alfa_rows = get_columns_starting_with(features_complete_samples, 'alfa_')\n",
    "    beta_rows = get_columns_starting_with(features_complete_samples, 'beta_')\n",
    "\n",
    "    nnbrs_alfa, nnbrs_beta, common_columns_alfa, common_columns_beta = get_nnbrs_parameters(train_x, alfa_rows, beta_rows,\n",
    "                                                                                            n_neighbors=n_neighbors)\n",
    "    knn_imputed_train = knn_fill_df(train_x, nnbrs_alfa, nnbrs_beta, alfa_rows, beta_rows, common_columns_alfa,\n",
    "                                    common_columns_beta)\n",
    "\n",
    "    nnbrs_alfa, nnbrs_beta, common_columns_alfa, common_columns_beta = get_nnbrs_parameters(test_x, alfa_rows, beta_rows,\n",
    "                                                                                            n_neighbors=n_neighbors)\n",
    "    knn_imputed_test = knn_fill_df(test_x, nnbrs_alfa, nnbrs_beta, alfa_rows, beta_rows, common_columns_alfa,\n",
    "                                   common_columns_beta)\n",
    "\n",
    "    return knn_imputed_train, knn_imputed_test\n",
    "\n",
    "\n",
    "methods_to_evaluate.append(knn_fill_entire_chain)"
   ],
   "metadata": {
    "collapsed": false,
    "pycharm": {
     "name": "#%%\n"
    }
   }
  },
  {
   "cell_type": "code",
   "execution_count": 60,
   "outputs": [],
   "source": [
    "def zero_impute(train_x=None, test_x=None):\n",
    "    assert train_x is not None and test_x is not None\n",
    "    train_x = train_x.fillna(0)\n",
    "    test_x = test_x.fillna(0)\n",
    "\n",
    "    return train_x, test_x\n",
    "\n",
    "\n",
    "methods_to_evaluate.append(zero_impute)"
   ],
   "metadata": {
    "collapsed": false,
    "pycharm": {
     "name": "#%%\n"
    }
   }
  },
  {
   "cell_type": "code",
   "execution_count": 61,
   "outputs": [],
   "source": [
    "def random_fill_entire_chain(train_x=None, test_x=None):\n",
    "    assert train_x is not None and test_x is not None\n",
    "\n",
    "    df_both_alpha_and_beta = df[df['CDR3_alfa'].notna() & df['CDR3_beta'].notna()]\n",
    "    features_complete_samples = get_features(df_both_alpha_and_beta)\n",
    "    alfa_rows = get_columns_starting_with(features_complete_samples, 'alfa_')\n",
    "    beta_rows = get_columns_starting_with(features_complete_samples, 'beta_')\n",
    "\n",
    "    _, _, common_columns_alfa, common_columns_beta = get_nnbrs_parameters(train_x, alfa_rows, beta_rows)\n",
    "    random_imputed_train = random_fill_df(train_x, alfa_rows, beta_rows, common_columns_alfa, common_columns_beta)\n",
    "\n",
    "    _, _, common_columns_alfa, common_columns_beta = get_nnbrs_parameters(test_x, alfa_rows, beta_rows)\n",
    "    random_imputed_test = random_fill_df(test_x, alfa_rows, beta_rows, common_columns_alfa, common_columns_beta)\n",
    "\n",
    "    return random_imputed_train, random_imputed_test\n",
    "\n",
    "methods_to_evaluate.append(random_fill_entire_chain)"
   ],
   "metadata": {
    "collapsed": false,
    "pycharm": {
     "name": "#%%\n"
    }
   }
  },
  {
   "cell_type": "code",
   "execution_count": 74,
   "outputs": [],
   "source": [
    "from sklearn.impute import KNNImputer\n",
    "def sklearn_knn_imputer(train_x=None, test_x=None, n_neighbors=5):\n",
    "    assert train_x is not None and test_x is not None\n",
    "    imputer = KNNImputer(n_neighbors=n_neighbors)\n",
    "    train_x = imputer.fit_transform(train_x)\n",
    "    test_x = imputer.transform(test_x)\n",
    "\n",
    "    return train_x, test_x\n",
    "\n",
    "methods_to_evaluate.append(sklearn_knn_imputer)"
   ],
   "metadata": {
    "collapsed": false,
    "pycharm": {
     "name": "#%%\n"
    }
   }
  },
  {
   "cell_type": "code",
   "execution_count": 63,
   "outputs": [
    {
     "name": "stdout",
     "output_type": "stream",
     "text": [
      "\n",
      "### Running knn_fill_entire_chain\n"
     ]
    },
    {
     "name": "stderr",
     "output_type": "stream",
     "text": [
      "Replacing missing values: 100%|██████████| 6645/6645 [00:49<00:00, 133.16it/s]\n",
      "Replacing missing values: 100%|██████████| 714/714 [00:00<00:00, 16227.83it/s]\n"
     ]
    },
    {
     "name": "stdout",
     "output_type": "stream",
     "text": [
      "Nan rows: ['alfa_J', 'alfa_V', 'beta_J', 'beta_V']\n",
      "ROC AUC: 0.959\n"
     ]
    },
    {
     "name": "stderr",
     "output_type": "stream",
     "text": [
      "Replacing missing values: 100%|██████████| 6645/6645 [00:51<00:00, 129.23it/s]\n",
      "Replacing missing values: 100%|██████████| 715/715 [00:00<00:00, 14592.33it/s]\n"
     ]
    },
    {
     "name": "stdout",
     "output_type": "stream",
     "text": [
      "Nan rows: ['alfa_J', 'alfa_V', 'beta_J', 'beta_V']\n",
      "ROC AUC: 0.952\n"
     ]
    },
    {
     "name": "stderr",
     "output_type": "stream",
     "text": [
      "Replacing missing values: 100%|██████████| 6645/6645 [00:48<00:00, 138.06it/s]\n",
      "Replacing missing values: 100%|██████████| 673/673 [00:00<00:00, 14020.53it/s]\n"
     ]
    },
    {
     "name": "stdout",
     "output_type": "stream",
     "text": [
      "Nan rows: ['alfa_J', 'alfa_V', 'beta_J', 'beta_V']\n",
      "ROC AUC: 0.962\n"
     ]
    },
    {
     "name": "stderr",
     "output_type": "stream",
     "text": [
      "Replacing missing values: 100%|██████████| 6645/6645 [00:53<00:00, 124.03it/s]\n",
      "Replacing missing values: 100%|██████████| 707/707 [00:00<00:00, 11783.53it/s]\n"
     ]
    },
    {
     "name": "stdout",
     "output_type": "stream",
     "text": [
      "Nan rows: ['alfa_J', 'alfa_V', 'beta_J', 'beta_V']\n",
      "ROC AUC: 0.958\n"
     ]
    },
    {
     "name": "stderr",
     "output_type": "stream",
     "text": [
      "Replacing missing values: 100%|██████████| 6645/6645 [00:47<00:00, 138.72it/s]\n",
      "Replacing missing values: 100%|██████████| 717/717 [00:00<00:00, 15587.20it/s]\n"
     ]
    },
    {
     "name": "stdout",
     "output_type": "stream",
     "text": [
      "Nan rows: ['alfa_J', 'alfa_V', 'beta_J', 'beta_V']\n",
      "ROC AUC: 0.959\n",
      "\n",
      "### Running zero_impute\n",
      "ROC AUC: 0.962\n",
      "ROC AUC: 0.957\n",
      "ROC AUC: 0.961\n",
      "ROC AUC: 0.956\n",
      "ROC AUC: 0.963\n",
      "\n",
      "### Running random_fill_entire_chain\n"
     ]
    },
    {
     "name": "stderr",
     "output_type": "stream",
     "text": [
      "100%|██████████| 6645/6645 [00:06<00:00, 1102.17it/s]\n",
      "100%|██████████| 714/714 [00:00<00:00, 22312.29it/s]\n"
     ]
    },
    {
     "name": "stdout",
     "output_type": "stream",
     "text": [
      "Nan rows: ['alfa_J', 'alfa_V', 'beta_J', 'beta_V']\n",
      "ROC AUC: 0.937\n"
     ]
    },
    {
     "name": "stderr",
     "output_type": "stream",
     "text": [
      "100%|██████████| 6645/6645 [00:05<00:00, 1209.06it/s]\n",
      "100%|██████████| 715/715 [00:00<00:00, 23063.53it/s]\n"
     ]
    },
    {
     "name": "stdout",
     "output_type": "stream",
     "text": [
      "Nan rows: ['alfa_J', 'alfa_V', 'beta_J', 'beta_V']\n",
      "ROC AUC: 0.930\n"
     ]
    },
    {
     "name": "stderr",
     "output_type": "stream",
     "text": [
      "100%|██████████| 6645/6645 [00:05<00:00, 1189.11it/s]\n",
      "100%|██████████| 673/673 [00:00<00:00, 21711.59it/s]\n"
     ]
    },
    {
     "name": "stdout",
     "output_type": "stream",
     "text": [
      "Nan rows: ['alfa_J', 'alfa_V', 'beta_J', 'beta_V']\n",
      "ROC AUC: 0.947\n"
     ]
    },
    {
     "name": "stderr",
     "output_type": "stream",
     "text": [
      "100%|██████████| 6645/6645 [00:05<00:00, 1177.14it/s]\n",
      "100%|██████████| 707/707 [00:00<00:00, 23567.81it/s]\n"
     ]
    },
    {
     "name": "stdout",
     "output_type": "stream",
     "text": [
      "Nan rows: ['alfa_J', 'alfa_V', 'beta_J', 'beta_V']\n",
      "ROC AUC: 0.934\n"
     ]
    },
    {
     "name": "stderr",
     "output_type": "stream",
     "text": [
      "100%|██████████| 6645/6645 [00:05<00:00, 1172.16it/s]\n",
      "100%|██████████| 717/717 [00:00<00:00, 22406.87it/s]\n"
     ]
    },
    {
     "name": "stdout",
     "output_type": "stream",
     "text": [
      "Nan rows: ['alfa_J', 'alfa_V', 'beta_J', 'beta_V']\n",
      "ROC AUC: 0.937\n",
      "\n",
      "### Running sklearn_knn_imputer\n",
      "ROC AUC: 0.963\n",
      "ROC AUC: 0.955\n",
      "ROC AUC: 0.961\n",
      "ROC AUC: 0.955\n",
      "ROC AUC: 0.965\n"
     ]
    }
   ],
   "source": [
    "from sklearn.ensemble import HistGradientBoostingClassifier\n",
    "clf = HistGradientBoostingClassifier(random_state=0)\n",
    "\n",
    "for model in methods_to_evaluate:\n",
    "    print(f\"\\n### Running {model.__name__}\")\n",
    "    cv_run(model, clf)"
   ],
   "metadata": {
    "collapsed": false,
    "pycharm": {
     "name": "#%%\n"
    }
   }
  },
  {
   "cell_type": "code",
   "execution_count": 64,
   "outputs": [
    {
     "data": {
      "text/plain": "                        name     score  improvement\n0      knn_fill_entire_chain  0.958854    -0.000722\n1      knn_fill_entire_chain  0.952460    -0.007116\n2      knn_fill_entire_chain  0.961838     0.002262\n3      knn_fill_entire_chain  0.958443    -0.001132\n4      knn_fill_entire_chain  0.959221    -0.000354\n5                zero_impute  0.962008     0.002432\n6                zero_impute  0.956568    -0.003008\n7                zero_impute  0.960804     0.001229\n8                zero_impute  0.955977    -0.003599\n9                zero_impute  0.962521     0.002946\n10  random_fill_entire_chain  0.936994    -0.022582\n11  random_fill_entire_chain  0.930157    -0.029419\n12  random_fill_entire_chain  0.946915    -0.012661\n13  random_fill_entire_chain  0.933526    -0.026050\n14  random_fill_entire_chain  0.936932    -0.022643\n15       sklearn_knn_imputer  0.963381     0.003805\n16       sklearn_knn_imputer  0.955034    -0.004542\n17       sklearn_knn_imputer  0.960999     0.001423\n18       sklearn_knn_imputer  0.955305    -0.004271\n19       sklearn_knn_imputer  0.965049     0.005473",
      "text/html": "<div>\n<style scoped>\n    .dataframe tbody tr th:only-of-type {\n        vertical-align: middle;\n    }\n\n    .dataframe tbody tr th {\n        vertical-align: top;\n    }\n\n    .dataframe thead th {\n        text-align: right;\n    }\n</style>\n<table border=\"1\" class=\"dataframe\">\n  <thead>\n    <tr style=\"text-align: right;\">\n      <th></th>\n      <th>name</th>\n      <th>score</th>\n      <th>improvement</th>\n    </tr>\n  </thead>\n  <tbody>\n    <tr>\n      <th>0</th>\n      <td>knn_fill_entire_chain</td>\n      <td>0.958854</td>\n      <td>-0.000722</td>\n    </tr>\n    <tr>\n      <th>1</th>\n      <td>knn_fill_entire_chain</td>\n      <td>0.952460</td>\n      <td>-0.007116</td>\n    </tr>\n    <tr>\n      <th>2</th>\n      <td>knn_fill_entire_chain</td>\n      <td>0.961838</td>\n      <td>0.002262</td>\n    </tr>\n    <tr>\n      <th>3</th>\n      <td>knn_fill_entire_chain</td>\n      <td>0.958443</td>\n      <td>-0.001132</td>\n    </tr>\n    <tr>\n      <th>4</th>\n      <td>knn_fill_entire_chain</td>\n      <td>0.959221</td>\n      <td>-0.000354</td>\n    </tr>\n    <tr>\n      <th>5</th>\n      <td>zero_impute</td>\n      <td>0.962008</td>\n      <td>0.002432</td>\n    </tr>\n    <tr>\n      <th>6</th>\n      <td>zero_impute</td>\n      <td>0.956568</td>\n      <td>-0.003008</td>\n    </tr>\n    <tr>\n      <th>7</th>\n      <td>zero_impute</td>\n      <td>0.960804</td>\n      <td>0.001229</td>\n    </tr>\n    <tr>\n      <th>8</th>\n      <td>zero_impute</td>\n      <td>0.955977</td>\n      <td>-0.003599</td>\n    </tr>\n    <tr>\n      <th>9</th>\n      <td>zero_impute</td>\n      <td>0.962521</td>\n      <td>0.002946</td>\n    </tr>\n    <tr>\n      <th>10</th>\n      <td>random_fill_entire_chain</td>\n      <td>0.936994</td>\n      <td>-0.022582</td>\n    </tr>\n    <tr>\n      <th>11</th>\n      <td>random_fill_entire_chain</td>\n      <td>0.930157</td>\n      <td>-0.029419</td>\n    </tr>\n    <tr>\n      <th>12</th>\n      <td>random_fill_entire_chain</td>\n      <td>0.946915</td>\n      <td>-0.012661</td>\n    </tr>\n    <tr>\n      <th>13</th>\n      <td>random_fill_entire_chain</td>\n      <td>0.933526</td>\n      <td>-0.026050</td>\n    </tr>\n    <tr>\n      <th>14</th>\n      <td>random_fill_entire_chain</td>\n      <td>0.936932</td>\n      <td>-0.022643</td>\n    </tr>\n    <tr>\n      <th>15</th>\n      <td>sklearn_knn_imputer</td>\n      <td>0.963381</td>\n      <td>0.003805</td>\n    </tr>\n    <tr>\n      <th>16</th>\n      <td>sklearn_knn_imputer</td>\n      <td>0.955034</td>\n      <td>-0.004542</td>\n    </tr>\n    <tr>\n      <th>17</th>\n      <td>sklearn_knn_imputer</td>\n      <td>0.960999</td>\n      <td>0.001423</td>\n    </tr>\n    <tr>\n      <th>18</th>\n      <td>sklearn_knn_imputer</td>\n      <td>0.955305</td>\n      <td>-0.004271</td>\n    </tr>\n    <tr>\n      <th>19</th>\n      <td>sklearn_knn_imputer</td>\n      <td>0.965049</td>\n      <td>0.005473</td>\n    </tr>\n  </tbody>\n</table>\n</div>"
     },
     "execution_count": 64,
     "metadata": {},
     "output_type": "execute_result"
    }
   ],
   "source": [
    "# Take the mean of the values in the dataframe where epitope is GILGFVFTL\n",
    "baseline = scores[scores['name'] == 'zero_impute']['score'].mean()\n",
    "scores[\"improvement\"] = scores[\"score\"] - baseline\n",
    "scores"
   ],
   "metadata": {
    "collapsed": false,
    "pycharm": {
     "name": "#%%\n"
    }
   }
  },
  {
   "cell_type": "code",
   "execution_count": 65,
   "outputs": [
    {
     "data": {
      "text/plain": "<Figure size 432x288 with 1 Axes>",
      "image/png": "[encoded data removed]"
     },
     "metadata": {},
     "output_type": "display_data"
    }
   ],
   "source": [
    "import seaborn as sns\n",
    "\n",
    "plot = sns.barplot(x=\"name\", y=\"score\", data=scores, ci=\"sd\")\n",
    "plot.set_xticklabels(plot.get_xticklabels(), rotation=90)\n",
    "pass"
   ],
   "metadata": {
    "collapsed": false,
    "pycharm": {
     "name": "#%%\n"
    }
   }
  },
  {
   "cell_type": "code",
   "execution_count": 66,
   "outputs": [
    {
     "name": "stderr",
     "output_type": "stream",
     "text": [
      "C:\\Users\\arnod\\AppData\\Local\\Temp/ipykernel_30436/3972326010.py:7: UserWarning: FixedFormatter should only be used together with FixedLocator\n",
      "  plot.set_yticklabels([f\"{baseline + y:.2f}\" for y in y_ticks])\n"
     ]
    },
    {
     "data": {
      "text/plain": "<Figure size 432x288 with 1 Axes>",
      "image/png": "[encoded data removed]"
     },
     "metadata": {},
     "output_type": "display_data"
    }
   ],
   "source": [
    "plot = sns.barplot(x=\"name\", y=\"improvement\", data=scores, ci=\"sd\")\n",
    "\n",
    "plot.set_xticklabels(plot.get_xticklabels(), rotation=90)\n",
    "\n",
    "plot.axhline(0, color=\"k\", clip_on=False)\n",
    "y_ticks = plot.get_yticks()\n",
    "plot.set_yticklabels([f\"{baseline + y:.2f}\" for y in y_ticks])\n",
    "pass"
   ],
   "metadata": {
    "collapsed": false,
    "pycharm": {
     "name": "#%%\n"
    }
   }
  },
  {
   "cell_type": "code",
   "execution_count": 67,
   "outputs": [],
   "source": [
    "scores_models = scores"
   ],
   "metadata": {
    "collapsed": false,
    "pycharm": {
     "name": "#%%\n"
    }
   }
  },
  {
   "cell_type": "markdown",
   "source": [
    "## Different number of neighbors"
   ],
   "metadata": {
    "collapsed": false,
    "pycharm": {
     "name": "#%% md\n"
    }
   }
  },
  {
   "cell_type": "code",
   "execution_count": 68,
   "outputs": [
    {
     "name": "stdout",
     "output_type": "stream",
     "text": [
      "\n",
      "### Running knn_fill_entire_chain with 1 neighbors\n"
     ]
    },
    {
     "name": "stderr",
     "output_type": "stream",
     "text": [
      "Replacing missing values: 100%|██████████| 6645/6645 [00:47<00:00, 140.79it/s]\n",
      "Replacing missing values: 100%|██████████| 714/714 [00:00<00:00, 14876.00it/s]\n"
     ]
    },
    {
     "name": "stdout",
     "output_type": "stream",
     "text": [
      "Nan rows: ['alfa_J', 'alfa_V', 'beta_J', 'beta_V']\n",
      "ROC AUC: 0.931\n"
     ]
    },
    {
     "name": "stderr",
     "output_type": "stream",
     "text": [
      "Replacing missing values: 100%|██████████| 6645/6645 [00:48<00:00, 135.73it/s]\n",
      "Replacing missing values: 100%|██████████| 715/715 [00:00<00:00, 14591.33it/s]\n"
     ]
    },
    {
     "name": "stdout",
     "output_type": "stream",
     "text": [
      "Nan rows: ['alfa_J', 'alfa_V', 'beta_J', 'beta_V']\n",
      "ROC AUC: 0.935\n"
     ]
    },
    {
     "name": "stderr",
     "output_type": "stream",
     "text": [
      "Replacing missing values: 100%|██████████| 6645/6645 [00:47<00:00, 140.60it/s]\n",
      "Replacing missing values: 100%|██████████| 673/673 [00:00<00:00, 14955.69it/s]\n"
     ]
    },
    {
     "name": "stdout",
     "output_type": "stream",
     "text": [
      "Nan rows: ['alfa_J', 'alfa_V', 'beta_J', 'beta_V']\n",
      "ROC AUC: 0.948\n"
     ]
    },
    {
     "name": "stderr",
     "output_type": "stream",
     "text": [
      "Replacing missing values: 100%|██████████| 6645/6645 [00:46<00:00, 143.85it/s]\n",
      "Replacing missing values: 100%|██████████| 707/707 [00:00<00:00, 14428.84it/s]\n"
     ]
    },
    {
     "name": "stdout",
     "output_type": "stream",
     "text": [
      "Nan rows: ['alfa_J', 'alfa_V', 'beta_J', 'beta_V']\n",
      "ROC AUC: 0.924\n"
     ]
    },
    {
     "name": "stderr",
     "output_type": "stream",
     "text": [
      "Replacing missing values: 100%|██████████| 6645/6645 [00:46<00:00, 142.54it/s]\n",
      "Replacing missing values: 100%|██████████| 717/717 [00:00<00:00, 16296.37it/s]\n"
     ]
    },
    {
     "name": "stdout",
     "output_type": "stream",
     "text": [
      "Nan rows: ['alfa_J', 'alfa_V', 'beta_J', 'beta_V']\n",
      "ROC AUC: 0.946\n",
      "\n",
      "### Running knn_fill_entire_chain with 3 neighbors\n"
     ]
    },
    {
     "name": "stderr",
     "output_type": "stream",
     "text": [
      "Replacing missing values: 100%|██████████| 6645/6645 [00:52<00:00, 126.20it/s]\n",
      "Replacing missing values: 100%|██████████| 714/714 [00:00<00:00, 15192.05it/s]\n"
     ]
    },
    {
     "name": "stdout",
     "output_type": "stream",
     "text": [
      "Nan rows: ['alfa_J', 'alfa_V', 'beta_J', 'beta_V']\n",
      "ROC AUC: 0.958\n"
     ]
    },
    {
     "name": "stderr",
     "output_type": "stream",
     "text": [
      "Replacing missing values: 100%|██████████| 6645/6645 [00:47<00:00, 139.35it/s]\n",
      "Replacing missing values: 100%|██████████| 715/715 [00:00<00:00, 14895.58it/s]\n"
     ]
    },
    {
     "name": "stdout",
     "output_type": "stream",
     "text": [
      "Nan rows: ['alfa_J', 'alfa_V', 'beta_J', 'beta_V']\n",
      "ROC AUC: 0.952\n"
     ]
    },
    {
     "name": "stderr",
     "output_type": "stream",
     "text": [
      "Replacing missing values: 100%|██████████| 6645/6645 [00:47<00:00, 138.81it/s]\n",
      "Replacing missing values: 100%|██████████| 673/673 [00:00<00:00, 14318.52it/s]\n"
     ]
    },
    {
     "name": "stdout",
     "output_type": "stream",
     "text": [
      "Nan rows: ['alfa_J', 'alfa_V', 'beta_J', 'beta_V']\n",
      "ROC AUC: 0.960\n"
     ]
    },
    {
     "name": "stderr",
     "output_type": "stream",
     "text": [
      "Replacing missing values: 100%|██████████| 6645/6645 [00:48<00:00, 136.98it/s]\n",
      "Replacing missing values: 100%|██████████| 707/707 [00:00<00:00, 14728.70it/s]\n"
     ]
    },
    {
     "name": "stdout",
     "output_type": "stream",
     "text": [
      "Nan rows: ['alfa_J', 'alfa_V', 'beta_J', 'beta_V']\n",
      "ROC AUC: 0.957\n"
     ]
    },
    {
     "name": "stderr",
     "output_type": "stream",
     "text": [
      "Replacing missing values: 100%|██████████| 6645/6645 [00:48<00:00, 137.38it/s]\n",
      "Replacing missing values: 100%|██████████| 717/717 [00:00<00:00, 15586.23it/s]\n"
     ]
    },
    {
     "name": "stdout",
     "output_type": "stream",
     "text": [
      "Nan rows: ['alfa_J', 'alfa_V', 'beta_J', 'beta_V']\n",
      "ROC AUC: 0.965\n",
      "\n",
      "### Running knn_fill_entire_chain with 5 neighbors\n"
     ]
    },
    {
     "name": "stderr",
     "output_type": "stream",
     "text": [
      "Replacing missing values: 100%|██████████| 6645/6645 [00:46<00:00, 141.89it/s]\n",
      "Replacing missing values: 100%|██████████| 714/714 [00:00<00:00, 14279.20it/s]\n"
     ]
    },
    {
     "name": "stdout",
     "output_type": "stream",
     "text": [
      "Nan rows: ['alfa_J', 'alfa_V', 'beta_J', 'beta_V']\n",
      "ROC AUC: 0.959\n"
     ]
    },
    {
     "name": "stderr",
     "output_type": "stream",
     "text": [
      "Replacing missing values: 100%|██████████| 6645/6645 [00:48<00:00, 138.28it/s]\n",
      "Replacing missing values: 100%|██████████| 715/715 [00:00<00:00, 14019.90it/s]\n"
     ]
    },
    {
     "name": "stdout",
     "output_type": "stream",
     "text": [
      "Nan rows: ['alfa_J', 'alfa_V', 'beta_J', 'beta_V']\n",
      "ROC AUC: 0.952\n"
     ]
    },
    {
     "name": "stderr",
     "output_type": "stream",
     "text": [
      "Replacing missing values: 100%|██████████| 6645/6645 [00:47<00:00, 141.00it/s]\n",
      "Replacing missing values: 100%|██████████| 673/673 [00:00<00:00, 14318.95it/s]\n"
     ]
    },
    {
     "name": "stdout",
     "output_type": "stream",
     "text": [
      "Nan rows: ['alfa_J', 'alfa_V', 'beta_J', 'beta_V']\n",
      "ROC AUC: 0.962\n"
     ]
    },
    {
     "name": "stderr",
     "output_type": "stream",
     "text": [
      "Replacing missing values: 100%|██████████| 6645/6645 [00:50<00:00, 131.35it/s]\n",
      "Replacing missing values: 100%|██████████| 707/707 [00:00<00:00, 15042.04it/s]\n"
     ]
    },
    {
     "name": "stdout",
     "output_type": "stream",
     "text": [
      "Nan rows: ['alfa_J', 'alfa_V', 'beta_J', 'beta_V']\n",
      "ROC AUC: 0.958\n"
     ]
    },
    {
     "name": "stderr",
     "output_type": "stream",
     "text": [
      "Replacing missing values: 100%|██████████| 6645/6645 [00:48<00:00, 138.08it/s]\n",
      "Replacing missing values: 100%|██████████| 717/717 [00:00<00:00, 15586.23it/s]\n"
     ]
    },
    {
     "name": "stdout",
     "output_type": "stream",
     "text": [
      "Nan rows: ['alfa_J', 'alfa_V', 'beta_J', 'beta_V']\n",
      "ROC AUC: 0.959\n",
      "\n",
      "### Running knn_fill_entire_chain with 10 neighbors\n"
     ]
    },
    {
     "name": "stderr",
     "output_type": "stream",
     "text": [
      "Replacing missing values: 100%|██████████| 6645/6645 [00:49<00:00, 135.34it/s]\n",
      "Replacing missing values: 100%|██████████| 714/714 [00:00<00:00, 16227.48it/s]\n"
     ]
    },
    {
     "name": "stdout",
     "output_type": "stream",
     "text": [
      "Nan rows: ['alfa_J', 'alfa_V', 'beta_J', 'beta_V']\n",
      "ROC AUC: 0.955\n"
     ]
    },
    {
     "name": "stderr",
     "output_type": "stream",
     "text": [
      "Replacing missing values: 100%|██████████| 6645/6645 [00:48<00:00, 136.33it/s]\n",
      "Replacing missing values: 100%|██████████| 715/715 [00:00<00:00, 15213.02it/s]\n"
     ]
    },
    {
     "name": "stdout",
     "output_type": "stream",
     "text": [
      "Nan rows: ['alfa_J', 'alfa_V', 'beta_J', 'beta_V']\n",
      "ROC AUC: 0.951\n"
     ]
    },
    {
     "name": "stderr",
     "output_type": "stream",
     "text": [
      "Replacing missing values: 100%|██████████| 6645/6645 [00:46<00:00, 142.17it/s]\n",
      "Replacing missing values: 100%|██████████| 673/673 [00:00<00:00, 14020.87it/s]\n"
     ]
    },
    {
     "name": "stdout",
     "output_type": "stream",
     "text": [
      "Nan rows: ['alfa_J', 'alfa_V', 'beta_J', 'beta_V']\n",
      "ROC AUC: 0.964\n"
     ]
    },
    {
     "name": "stderr",
     "output_type": "stream",
     "text": [
      "Replacing missing values: 100%|██████████| 6645/6645 [00:48<00:00, 137.24it/s]\n",
      "Replacing missing values: 100%|██████████| 707/707 [00:00<00:00, 14427.30it/s]\n"
     ]
    },
    {
     "name": "stdout",
     "output_type": "stream",
     "text": [
      "Nan rows: ['alfa_J', 'alfa_V', 'beta_J', 'beta_V']\n",
      "ROC AUC: 0.958\n"
     ]
    },
    {
     "name": "stderr",
     "output_type": "stream",
     "text": [
      "Replacing missing values: 100%|██████████| 6645/6645 [00:49<00:00, 133.62it/s]\n",
      "Replacing missing values: 100%|██████████| 717/717 [00:00<00:00, 15934.32it/s]\n"
     ]
    },
    {
     "name": "stdout",
     "output_type": "stream",
     "text": [
      "Nan rows: ['alfa_J', 'alfa_V', 'beta_J', 'beta_V']\n",
      "ROC AUC: 0.959\n",
      "\n",
      "### Running knn_fill_entire_chain with 20 neighbors\n"
     ]
    },
    {
     "name": "stderr",
     "output_type": "stream",
     "text": [
      "Replacing missing values: 100%|██████████| 6645/6645 [00:49<00:00, 134.23it/s]\n",
      "Replacing missing values: 100%|██████████| 714/714 [00:00<00:00, 14000.56it/s]\n"
     ]
    },
    {
     "name": "stdout",
     "output_type": "stream",
     "text": [
      "Nan rows: ['alfa_J', 'alfa_V', 'beta_J', 'beta_V']\n",
      "ROC AUC: 0.959\n"
     ]
    },
    {
     "name": "stderr",
     "output_type": "stream",
     "text": [
      "Replacing missing values: 100%|██████████| 6645/6645 [00:48<00:00, 135.76it/s]\n",
      "Replacing missing values: 100%|██████████| 715/715 [00:00<00:00, 15212.56it/s]\n"
     ]
    },
    {
     "name": "stdout",
     "output_type": "stream",
     "text": [
      "Nan rows: ['alfa_J', 'alfa_V', 'beta_J', 'beta_V']\n",
      "ROC AUC: 0.946\n"
     ]
    },
    {
     "name": "stderr",
     "output_type": "stream",
     "text": [
      "Replacing missing values: 100%|██████████| 6645/6645 [00:48<00:00, 136.13it/s]\n",
      "Replacing missing values: 100%|██████████| 673/673 [00:00<00:00, 14956.24it/s]\n"
     ]
    },
    {
     "name": "stdout",
     "output_type": "stream",
     "text": [
      "Nan rows: ['alfa_J', 'alfa_V', 'beta_J', 'beta_V']\n",
      "ROC AUC: 0.956\n"
     ]
    },
    {
     "name": "stderr",
     "output_type": "stream",
     "text": [
      "Replacing missing values: 100%|██████████| 6645/6645 [00:53<00:00, 124.39it/s]\n",
      "Replacing missing values: 100%|██████████| 707/707 [00:00<00:00, 12624.89it/s]\n"
     ]
    },
    {
     "name": "stdout",
     "output_type": "stream",
     "text": [
      "Nan rows: ['alfa_J', 'alfa_V', 'beta_J', 'beta_V']\n",
      "ROC AUC: 0.961\n"
     ]
    },
    {
     "name": "stderr",
     "output_type": "stream",
     "text": [
      "Replacing missing values: 100%|██████████| 6645/6645 [00:54<00:00, 121.05it/s]\n",
      "Replacing missing values: 100%|██████████| 717/717 [00:00<00:00, 15586.39it/s]\n"
     ]
    },
    {
     "name": "stdout",
     "output_type": "stream",
     "text": [
      "Nan rows: ['alfa_J', 'alfa_V', 'beta_J', 'beta_V']\n",
      "ROC AUC: 0.964\n",
      "\n",
      "### Running knn_fill_entire_chain with 50 neighbors\n"
     ]
    },
    {
     "name": "stderr",
     "output_type": "stream",
     "text": [
      "Replacing missing values: 100%|██████████| 6645/6645 [00:56<00:00, 118.20it/s]\n",
      "Replacing missing values: 100%|██████████| 714/714 [00:00<00:00, 14874.38it/s]\n"
     ]
    },
    {
     "name": "stdout",
     "output_type": "stream",
     "text": [
      "Nan rows: ['alfa_J', 'alfa_V', 'beta_J', 'beta_V']\n",
      "ROC AUC: 0.960\n"
     ]
    },
    {
     "name": "stderr",
     "output_type": "stream",
     "text": [
      "Replacing missing values: 100%|██████████| 6645/6645 [00:51<00:00, 127.82it/s]\n",
      "Replacing missing values: 100%|██████████| 715/715 [00:00<00:00, 15888.02it/s]\n"
     ]
    },
    {
     "name": "stdout",
     "output_type": "stream",
     "text": [
      "Nan rows: ['alfa_J', 'alfa_V', 'beta_J', 'beta_V']\n",
      "ROC AUC: 0.947\n"
     ]
    },
    {
     "name": "stderr",
     "output_type": "stream",
     "text": [
      "Replacing missing values: 100%|██████████| 6645/6645 [00:50<00:00, 131.47it/s]\n",
      "Replacing missing values: 100%|██████████| 673/673 [00:00<00:00, 14630.28it/s]\n"
     ]
    },
    {
     "name": "stdout",
     "output_type": "stream",
     "text": [
      "Nan rows: ['alfa_J', 'alfa_V', 'beta_J', 'beta_V']\n",
      "ROC AUC: 0.960\n"
     ]
    },
    {
     "name": "stderr",
     "output_type": "stream",
     "text": [
      "Replacing missing values: 100%|██████████| 6645/6645 [00:53<00:00, 123.68it/s]\n",
      "Replacing missing values: 100%|██████████| 707/707 [00:00<00:00, 16068.56it/s]\n"
     ]
    },
    {
     "name": "stdout",
     "output_type": "stream",
     "text": [
      "Nan rows: ['alfa_J', 'alfa_V', 'beta_J', 'beta_V']\n",
      "ROC AUC: 0.960\n"
     ]
    },
    {
     "name": "stderr",
     "output_type": "stream",
     "text": [
      "Replacing missing values: 100%|██████████| 6645/6645 [00:50<00:00, 130.76it/s]\n",
      "Replacing missing values: 100%|██████████| 717/717 [00:00<00:00, 14058.27it/s]\n"
     ]
    },
    {
     "name": "stdout",
     "output_type": "stream",
     "text": [
      "Nan rows: ['alfa_J', 'alfa_V', 'beta_J', 'beta_V']\n",
      "ROC AUC: 0.964\n",
      "\n",
      "### Running knn_fill_entire_chain with 150 neighbors\n"
     ]
    },
    {
     "name": "stderr",
     "output_type": "stream",
     "text": [
      "Replacing missing values: 100%|██████████| 6645/6645 [00:54<00:00, 122.15it/s]\n",
      "Replacing missing values: 100%|██████████| 714/714 [00:00<00:00, 15190.90it/s]\n"
     ]
    },
    {
     "name": "stdout",
     "output_type": "stream",
     "text": [
      "Nan rows: ['alfa_J', 'alfa_V', 'beta_J', 'beta_V']\n",
      "ROC AUC: 0.960\n"
     ]
    },
    {
     "name": "stderr",
     "output_type": "stream",
     "text": [
      "Replacing missing values: 100%|██████████| 6645/6645 [00:53<00:00, 123.12it/s]\n",
      "Replacing missing values: 100%|██████████| 715/715 [00:00<00:00, 14299.95it/s]\n"
     ]
    },
    {
     "name": "stdout",
     "output_type": "stream",
     "text": [
      "Nan rows: ['alfa_J', 'alfa_V', 'beta_J', 'beta_V']\n",
      "ROC AUC: 0.948\n"
     ]
    },
    {
     "name": "stderr",
     "output_type": "stream",
     "text": [
      "Replacing missing values: 100%|██████████| 6645/6645 [00:52<00:00, 125.76it/s]\n",
      "Replacing missing values: 100%|██████████| 673/673 [00:00<00:00, 16024.88it/s]\n"
     ]
    },
    {
     "name": "stdout",
     "output_type": "stream",
     "text": [
      "Nan rows: ['alfa_J', 'alfa_V', 'beta_J', 'beta_V']\n",
      "ROC AUC: 0.960\n"
     ]
    },
    {
     "name": "stderr",
     "output_type": "stream",
     "text": [
      "Replacing missing values: 100%|██████████| 6645/6645 [00:52<00:00, 126.51it/s]\n",
      "Replacing missing values: 100%|██████████| 707/707 [00:00<00:00, 13863.10it/s]\n"
     ]
    },
    {
     "name": "stdout",
     "output_type": "stream",
     "text": [
      "Nan rows: ['alfa_J', 'alfa_V', 'beta_J', 'beta_V']\n",
      "ROC AUC: 0.958\n"
     ]
    },
    {
     "name": "stderr",
     "output_type": "stream",
     "text": [
      "Replacing missing values: 100%|██████████| 6645/6645 [00:54<00:00, 122.56it/s]\n",
      "Replacing missing values: 100%|██████████| 717/717 [00:00<00:00, 14058.99it/s]\n"
     ]
    },
    {
     "name": "stdout",
     "output_type": "stream",
     "text": [
      "Nan rows: ['alfa_J', 'alfa_V', 'beta_J', 'beta_V']\n",
      "ROC AUC: 0.961\n",
      "\n",
      "### Running knn_fill_entire_chain with 300 neighbors\n"
     ]
    },
    {
     "name": "stderr",
     "output_type": "stream",
     "text": [
      "Replacing missing values: 100%|██████████| 6645/6645 [01:04<00:00, 103.02it/s]\n",
      "Replacing missing values: 100%|██████████| 714/714 [00:00<00:00, 14572.41it/s]\n"
     ]
    },
    {
     "name": "stdout",
     "output_type": "stream",
     "text": [
      "Nan rows: ['alfa_J', 'alfa_V', 'beta_J', 'beta_V']\n",
      "ROC AUC: 0.958\n"
     ]
    },
    {
     "name": "stderr",
     "output_type": "stream",
     "text": [
      "Replacing missing values: 100%|██████████| 6645/6645 [01:01<00:00, 108.84it/s]\n",
      "Replacing missing values: 100%|██████████| 715/715 [00:00<00:00, 16251.35it/s]\n"
     ]
    },
    {
     "name": "stdout",
     "output_type": "stream",
     "text": [
      "Nan rows: ['alfa_J', 'alfa_V', 'beta_J', 'beta_V']\n",
      "ROC AUC: 0.946\n"
     ]
    },
    {
     "name": "stderr",
     "output_type": "stream",
     "text": [
      "Replacing missing values: 100%|██████████| 6645/6645 [01:06<00:00, 100.67it/s]\n",
      "Replacing missing values: 100%|██████████| 673/673 [00:00<00:00, 15650.74it/s]\n"
     ]
    },
    {
     "name": "stdout",
     "output_type": "stream",
     "text": [
      "Nan rows: ['alfa_J', 'alfa_V', 'beta_J', 'beta_V']\n",
      "ROC AUC: 0.956\n"
     ]
    },
    {
     "name": "stderr",
     "output_type": "stream",
     "text": [
      "Replacing missing values: 100%|██████████| 6645/6645 [01:00<00:00, 109.05it/s]\n",
      "Replacing missing values: 100%|██████████| 707/707 [00:00<00:00, 16441.50it/s]\n"
     ]
    },
    {
     "name": "stdout",
     "output_type": "stream",
     "text": [
      "Nan rows: ['alfa_J', 'alfa_V', 'beta_J', 'beta_V']\n",
      "ROC AUC: 0.957\n"
     ]
    },
    {
     "name": "stderr",
     "output_type": "stream",
     "text": [
      "Replacing missing values: 100%|██████████| 6645/6645 [01:00<00:00, 110.28it/s]\n",
      "Replacing missing values: 100%|██████████| 717/717 [00:00<00:00, 14058.66it/s]\n"
     ]
    },
    {
     "name": "stdout",
     "output_type": "stream",
     "text": [
      "Nan rows: ['alfa_J', 'alfa_V', 'beta_J', 'beta_V']\n",
      "ROC AUC: 0.961\n",
      "\n",
      "### Running knn_fill_entire_chain with 600 neighbors\n"
     ]
    },
    {
     "name": "stderr",
     "output_type": "stream",
     "text": [
      "Replacing missing values: 100%|██████████| 6645/6645 [01:12<00:00, 91.05it/s] \n",
      "Replacing missing values: 100%|██████████| 714/714 [00:00<00:00, 15190.97it/s]\n"
     ]
    },
    {
     "name": "stdout",
     "output_type": "stream",
     "text": [
      "Nan rows: ['alfa_J', 'alfa_V', 'beta_J', 'beta_V']\n",
      "ROC AUC: 0.958\n"
     ]
    },
    {
     "name": "stderr",
     "output_type": "stream",
     "text": [
      "Replacing missing values: 100%|██████████| 6645/6645 [01:09<00:00, 95.18it/s] \n",
      "Replacing missing values: 100%|██████████| 715/715 [00:00<00:00, 14592.47it/s]\n"
     ]
    },
    {
     "name": "stdout",
     "output_type": "stream",
     "text": [
      "Nan rows: ['alfa_J', 'alfa_V', 'beta_J', 'beta_V']\n",
      "ROC AUC: 0.949\n"
     ]
    },
    {
     "name": "stderr",
     "output_type": "stream",
     "text": [
      "Replacing missing values: 100%|██████████| 6645/6645 [01:09<00:00, 95.61it/s] \n",
      "Replacing missing values: 100%|██████████| 673/673 [00:00<00:00, 14318.95it/s]\n"
     ]
    },
    {
     "name": "stdout",
     "output_type": "stream",
     "text": [
      "Nan rows: ['alfa_J', 'alfa_V', 'beta_J', 'beta_V']\n",
      "ROC AUC: 0.959\n"
     ]
    },
    {
     "name": "stderr",
     "output_type": "stream",
     "text": [
      "Replacing missing values: 100%|██████████| 6645/6645 [01:07<00:00, 98.46it/s] \n",
      "Replacing missing values: 100%|██████████| 707/707 [00:00<00:00, 15042.58it/s]\n"
     ]
    },
    {
     "name": "stdout",
     "output_type": "stream",
     "text": [
      "Nan rows: ['alfa_J', 'alfa_V', 'beta_J', 'beta_V']\n",
      "ROC AUC: 0.957\n"
     ]
    },
    {
     "name": "stderr",
     "output_type": "stream",
     "text": [
      "Replacing missing values: 100%|██████████| 6645/6645 [01:07<00:00, 97.77it/s] \n",
      "Replacing missing values: 100%|██████████| 717/717 [00:00<00:00, 15933.56it/s]\n"
     ]
    },
    {
     "name": "stdout",
     "output_type": "stream",
     "text": [
      "Nan rows: ['alfa_J', 'alfa_V', 'beta_J', 'beta_V']\n",
      "ROC AUC: 0.963\n"
     ]
    }
   ],
   "source": [
    "scores = pd.DataFrame(columns=['name', 'score'])\n",
    "nbors_count = [1, 3, 5, 10, 20, 50, 150, 300, 600]\n",
    "\n",
    "for n_neighbors in nbors_count:\n",
    "    print(f\"\\n### Running knn_fill_entire_chain with {n_neighbors} neighbors\")\n",
    "    cv_run(knn_fill_entire_chain, clf, n_neighbors=n_neighbors)"
   ],
   "metadata": {
    "collapsed": false,
    "pycharm": {
     "name": "#%%\n"
    }
   }
  },
  {
   "cell_type": "code",
   "execution_count": 69,
   "outputs": [],
   "source": [
    "nbors_count_folds = list([n for n in nbors_count for fold in range(folds)])\n",
    "scores['n_neighbors'] = nbors_count_folds"
   ],
   "metadata": {
    "collapsed": false,
    "pycharm": {
     "name": "#%%\n"
    }
   }
  },
  {
   "cell_type": "code",
   "execution_count": 70,
   "outputs": [
    {
     "data": {
      "text/plain": "                     name     score  n_neighbors  improvement\n0   knn_fill_entire_chain  0.930944            1    -0.027219\n1   knn_fill_entire_chain  0.935408            1    -0.022756\n2   knn_fill_entire_chain  0.948010            1    -0.010153\n3   knn_fill_entire_chain  0.924446            1    -0.033718\n4   knn_fill_entire_chain  0.946318            1    -0.011846\n5   knn_fill_entire_chain  0.958273            3     0.000110\n6   knn_fill_entire_chain  0.952287            3    -0.005876\n7   knn_fill_entire_chain  0.960336            3     0.002173\n8   knn_fill_entire_chain  0.957130            3    -0.001033\n9   knn_fill_entire_chain  0.964511            3     0.006348\n10  knn_fill_entire_chain  0.958854            5     0.000691\n11  knn_fill_entire_chain  0.952460            5    -0.005704\n12  knn_fill_entire_chain  0.961838            5     0.003675\n13  knn_fill_entire_chain  0.958443            5     0.000280\n14  knn_fill_entire_chain  0.959221            5     0.001058\n15  knn_fill_entire_chain  0.954546           10    -0.003617\n16  knn_fill_entire_chain  0.951317           10    -0.006846\n17  knn_fill_entire_chain  0.963950           10     0.005787\n18  knn_fill_entire_chain  0.958179           10     0.000016\n19  knn_fill_entire_chain  0.959159           10     0.000996\n20  knn_fill_entire_chain  0.958673           20     0.000510\n21  knn_fill_entire_chain  0.946168           20    -0.011995\n22  knn_fill_entire_chain  0.956068           20    -0.002095\n23  knn_fill_entire_chain  0.961270           20     0.003107\n24  knn_fill_entire_chain  0.963879           20     0.005716\n25  knn_fill_entire_chain  0.959678           50     0.001514\n26  knn_fill_entire_chain  0.946903           50    -0.011260\n27  knn_fill_entire_chain  0.959832           50     0.001669\n28  knn_fill_entire_chain  0.959677           50     0.001513\n29  knn_fill_entire_chain  0.964090           50     0.005926\n30  knn_fill_entire_chain  0.959858          150     0.001695\n31  knn_fill_entire_chain  0.948242          150    -0.009922\n32  knn_fill_entire_chain  0.959815          150     0.001652\n33  knn_fill_entire_chain  0.958467          150     0.000304\n34  knn_fill_entire_chain  0.960704          150     0.002540\n35  knn_fill_entire_chain  0.957967          300    -0.000196\n36  knn_fill_entire_chain  0.946496          300    -0.011667\n37  knn_fill_entire_chain  0.956484          300    -0.001680\n38  knn_fill_entire_chain  0.956626          300    -0.001537\n39  knn_fill_entire_chain  0.961070          300     0.002907\n40  knn_fill_entire_chain  0.958312          600     0.000149\n41  knn_fill_entire_chain  0.948797          600    -0.009366\n42  knn_fill_entire_chain  0.958852          600     0.000688\n43  knn_fill_entire_chain  0.956642          600    -0.001521\n44  knn_fill_entire_chain  0.963029          600     0.004865",
      "text/html": "<div>\n<style scoped>\n    .dataframe tbody tr th:only-of-type {\n        vertical-align: middle;\n    }\n\n    .dataframe tbody tr th {\n        vertical-align: top;\n    }\n\n    .dataframe thead th {\n        text-align: right;\n    }\n</style>\n<table border=\"1\" class=\"dataframe\">\n  <thead>\n    <tr style=\"text-align: right;\">\n      <th></th>\n      <th>name</th>\n      <th>score</th>\n      <th>n_neighbors</th>\n      <th>improvement</th>\n    </tr>\n  </thead>\n  <tbody>\n    <tr>\n      <th>0</th>\n      <td>knn_fill_entire_chain</td>\n      <td>0.930944</td>\n      <td>1</td>\n      <td>-0.027219</td>\n    </tr>\n    <tr>\n      <th>1</th>\n      <td>knn_fill_entire_chain</td>\n      <td>0.935408</td>\n      <td>1</td>\n      <td>-0.022756</td>\n    </tr>\n    <tr>\n      <th>2</th>\n      <td>knn_fill_entire_chain</td>\n      <td>0.948010</td>\n      <td>1</td>\n      <td>-0.010153</td>\n    </tr>\n    <tr>\n      <th>3</th>\n      <td>knn_fill_entire_chain</td>\n      <td>0.924446</td>\n      <td>1</td>\n      <td>-0.033718</td>\n    </tr>\n    <tr>\n      <th>4</th>\n      <td>knn_fill_entire_chain</td>\n      <td>0.946318</td>\n      <td>1</td>\n      <td>-0.011846</td>\n    </tr>\n    <tr>\n      <th>5</th>\n      <td>knn_fill_entire_chain</td>\n      <td>0.958273</td>\n      <td>3</td>\n      <td>0.000110</td>\n    </tr>\n    <tr>\n      <th>6</th>\n      <td>knn_fill_entire_chain</td>\n      <td>0.952287</td>\n      <td>3</td>\n      <td>-0.005876</td>\n    </tr>\n    <tr>\n      <th>7</th>\n      <td>knn_fill_entire_chain</td>\n      <td>0.960336</td>\n      <td>3</td>\n      <td>0.002173</td>\n    </tr>\n    <tr>\n      <th>8</th>\n      <td>knn_fill_entire_chain</td>\n      <td>0.957130</td>\n      <td>3</td>\n      <td>-0.001033</td>\n    </tr>\n    <tr>\n      <th>9</th>\n      <td>knn_fill_entire_chain</td>\n      <td>0.964511</td>\n      <td>3</td>\n      <td>0.006348</td>\n    </tr>\n    <tr>\n      <th>10</th>\n      <td>knn_fill_entire_chain</td>\n      <td>0.958854</td>\n      <td>5</td>\n      <td>0.000691</td>\n    </tr>\n    <tr>\n      <th>11</th>\n      <td>knn_fill_entire_chain</td>\n      <td>0.952460</td>\n      <td>5</td>\n      <td>-0.005704</td>\n    </tr>\n    <tr>\n      <th>12</th>\n      <td>knn_fill_entire_chain</td>\n      <td>0.961838</td>\n      <td>5</td>\n      <td>0.003675</td>\n    </tr>\n    <tr>\n      <th>13</th>\n      <td>knn_fill_entire_chain</td>\n      <td>0.958443</td>\n      <td>5</td>\n      <td>0.000280</td>\n    </tr>\n    <tr>\n      <th>14</th>\n      <td>knn_fill_entire_chain</td>\n      <td>0.959221</td>\n      <td>5</td>\n      <td>0.001058</td>\n    </tr>\n    <tr>\n      <th>15</th>\n      <td>knn_fill_entire_chain</td>\n      <td>0.954546</td>\n      <td>10</td>\n      <td>-0.003617</td>\n    </tr>\n    <tr>\n      <th>16</th>\n      <td>knn_fill_entire_chain</td>\n      <td>0.951317</td>\n      <td>10</td>\n      <td>-0.006846</td>\n    </tr>\n    <tr>\n      <th>17</th>\n      <td>knn_fill_entire_chain</td>\n      <td>0.963950</td>\n      <td>10</td>\n      <td>0.005787</td>\n    </tr>\n    <tr>\n      <th>18</th>\n      <td>knn_fill_entire_chain</td>\n      <td>0.958179</td>\n      <td>10</td>\n      <td>0.000016</td>\n    </tr>\n    <tr>\n      <th>19</th>\n      <td>knn_fill_entire_chain</td>\n      <td>0.959159</td>\n      <td>10</td>\n      <td>0.000996</td>\n    </tr>\n    <tr>\n      <th>20</th>\n      <td>knn_fill_entire_chain</td>\n      <td>0.958673</td>\n      <td>20</td>\n      <td>0.000510</td>\n    </tr>\n    <tr>\n      <th>21</th>\n      <td>knn_fill_entire_chain</td>\n      <td>0.946168</td>\n      <td>20</td>\n      <td>-0.011995</td>\n    </tr>\n    <tr>\n      <th>22</th>\n      <td>knn_fill_entire_chain</td>\n      <td>0.956068</td>\n      <td>20</td>\n      <td>-0.002095</td>\n    </tr>\n    <tr>\n      <th>23</th>\n      <td>knn_fill_entire_chain</td>\n      <td>0.961270</td>\n      <td>20</td>\n      <td>0.003107</td>\n    </tr>\n    <tr>\n      <th>24</th>\n      <td>knn_fill_entire_chain</td>\n      <td>0.963879</td>\n      <td>20</td>\n      <td>0.005716</td>\n    </tr>\n    <tr>\n      <th>25</th>\n      <td>knn_fill_entire_chain</td>\n      <td>0.959678</td>\n      <td>50</td>\n      <td>0.001514</td>\n    </tr>\n    <tr>\n      <th>26</th>\n      <td>knn_fill_entire_chain</td>\n      <td>0.946903</td>\n      <td>50</td>\n      <td>-0.011260</td>\n    </tr>\n    <tr>\n      <th>27</th>\n      <td>knn_fill_entire_chain</td>\n      <td>0.959832</td>\n      <td>50</td>\n      <td>0.001669</td>\n    </tr>\n    <tr>\n      <th>28</th>\n      <td>knn_fill_entire_chain</td>\n      <td>0.959677</td>\n      <td>50</td>\n      <td>0.001513</td>\n    </tr>\n    <tr>\n      <th>29</th>\n      <td>knn_fill_entire_chain</td>\n      <td>0.964090</td>\n      <td>50</td>\n      <td>0.005926</td>\n    </tr>\n    <tr>\n      <th>30</th>\n      <td>knn_fill_entire_chain</td>\n      <td>0.959858</td>\n      <td>150</td>\n      <td>0.001695</td>\n    </tr>\n    <tr>\n      <th>31</th>\n      <td>knn_fill_entire_chain</td>\n      <td>0.948242</td>\n      <td>150</td>\n      <td>-0.009922</td>\n    </tr>\n    <tr>\n      <th>32</th>\n      <td>knn_fill_entire_chain</td>\n      <td>0.959815</td>\n      <td>150</td>\n      <td>0.001652</td>\n    </tr>\n    <tr>\n      <th>33</th>\n      <td>knn_fill_entire_chain</td>\n      <td>0.958467</td>\n      <td>150</td>\n      <td>0.000304</td>\n    </tr>\n    <tr>\n      <th>34</th>\n      <td>knn_fill_entire_chain</td>\n      <td>0.960704</td>\n      <td>150</td>\n      <td>0.002540</td>\n    </tr>\n    <tr>\n      <th>35</th>\n      <td>knn_fill_entire_chain</td>\n      <td>0.957967</td>\n      <td>300</td>\n      <td>-0.000196</td>\n    </tr>\n    <tr>\n      <th>36</th>\n      <td>knn_fill_entire_chain</td>\n      <td>0.946496</td>\n      <td>300</td>\n      <td>-0.011667</td>\n    </tr>\n    <tr>\n      <th>37</th>\n      <td>knn_fill_entire_chain</td>\n      <td>0.956484</td>\n      <td>300</td>\n      <td>-0.001680</td>\n    </tr>\n    <tr>\n      <th>38</th>\n      <td>knn_fill_entire_chain</td>\n      <td>0.956626</td>\n      <td>300</td>\n      <td>-0.001537</td>\n    </tr>\n    <tr>\n      <th>39</th>\n      <td>knn_fill_entire_chain</td>\n      <td>0.961070</td>\n      <td>300</td>\n      <td>0.002907</td>\n    </tr>\n    <tr>\n      <th>40</th>\n      <td>knn_fill_entire_chain</td>\n      <td>0.958312</td>\n      <td>600</td>\n      <td>0.000149</td>\n    </tr>\n    <tr>\n      <th>41</th>\n      <td>knn_fill_entire_chain</td>\n      <td>0.948797</td>\n      <td>600</td>\n      <td>-0.009366</td>\n    </tr>\n    <tr>\n      <th>42</th>\n      <td>knn_fill_entire_chain</td>\n      <td>0.958852</td>\n      <td>600</td>\n      <td>0.000688</td>\n    </tr>\n    <tr>\n      <th>43</th>\n      <td>knn_fill_entire_chain</td>\n      <td>0.956642</td>\n      <td>600</td>\n      <td>-0.001521</td>\n    </tr>\n    <tr>\n      <th>44</th>\n      <td>knn_fill_entire_chain</td>\n      <td>0.963029</td>\n      <td>600</td>\n      <td>0.004865</td>\n    </tr>\n  </tbody>\n</table>\n</div>"
     },
     "execution_count": 70,
     "metadata": {},
     "output_type": "execute_result"
    }
   ],
   "source": [
    "# Take the mean of the values in the dataframe where epitope is GILGFVFTL\n",
    "baseline = scores[scores['n_neighbors'] == 5]['score'].mean()\n",
    "scores[\"improvement\"] = scores[\"score\"] - baseline\n",
    "scores"
   ],
   "metadata": {
    "collapsed": false,
    "pycharm": {
     "name": "#%%\n"
    }
   }
  },
  {
   "cell_type": "code",
   "execution_count": 71,
   "outputs": [
    {
     "data": {
      "text/plain": "<Figure size 432x288 with 1 Axes>",
      "image/png": "[encoded data removed]"
     },
     "metadata": {},
     "output_type": "display_data"
    }
   ],
   "source": [
    "import seaborn as sns\n",
    "\n",
    "plot = sns.barplot(x=\"n_neighbors\", y=\"score\", data=scores, ci=\"sd\")\n",
    "plot.set_xticklabels(plot.get_xticklabels(), rotation=90)\n",
    "pass"
   ],
   "metadata": {
    "collapsed": false,
    "pycharm": {
     "name": "#%%\n"
    }
   }
  },
  {
   "cell_type": "code",
   "execution_count": 72,
   "outputs": [
    {
     "name": "stderr",
     "output_type": "stream",
     "text": [
      "C:\\Users\\arnod\\AppData\\Local\\Temp/ipykernel_30436/1672048755.py:7: UserWarning: FixedFormatter should only be used together with FixedLocator\n",
      "  plot.set_yticklabels([f\"{baseline + y:.2f}\" for y in y_ticks])\n"
     ]
    },
    {
     "data": {
      "text/plain": "<Figure size 432x288 with 1 Axes>",
      "image/png": "[encoded data removed]"
     },
     "metadata": {},
     "output_type": "display_data"
    }
   ],
   "source": [
    "plot = sns.barplot(x=\"n_neighbors\", y=\"improvement\", data=scores, ci=\"sd\")\n",
    "\n",
    "plot.set_xticklabels(plot.get_xticklabels(), rotation=90)\n",
    "\n",
    "plot.axhline(0, color=\"k\", clip_on=False)\n",
    "y_ticks = plot.get_yticks()\n",
    "plot.set_yticklabels([f\"{baseline + y:.2f}\" for y in y_ticks])\n",
    "pass"
   ],
   "metadata": {
    "collapsed": false,
    "pycharm": {
     "name": "#%%\n"
    }
   }
  },
  {
   "cell_type": "markdown",
   "source": [
    "### Compare with sklearn"
   ],
   "metadata": {
    "collapsed": false,
    "pycharm": {
     "name": "#%% md\n"
    }
   }
  },
  {
   "cell_type": "code",
   "execution_count": 79,
   "outputs": [
    {
     "name": "stdout",
     "output_type": "stream",
     "text": [
      "\n",
      "### Running sklearn_knn_imputer with 1 neighbors\n",
      "ROC AUC: 0.963\n",
      "ROC AUC: 0.951\n",
      "ROC AUC: 0.960\n",
      "ROC AUC: 0.953\n",
      "ROC AUC: 0.964\n",
      "\n",
      "### Running sklearn_knn_imputer with 3 neighbors\n",
      "ROC AUC: 0.966\n",
      "ROC AUC: 0.953\n",
      "ROC AUC: 0.961\n",
      "ROC AUC: 0.960\n",
      "ROC AUC: 0.964\n",
      "\n",
      "### Running sklearn_knn_imputer with 5 neighbors\n",
      "ROC AUC: 0.963\n",
      "ROC AUC: 0.955\n",
      "ROC AUC: 0.961\n",
      "ROC AUC: 0.955\n",
      "ROC AUC: 0.965\n",
      "\n",
      "### Running sklearn_knn_imputer with 10 neighbors\n",
      "ROC AUC: 0.962\n",
      "ROC AUC: 0.954\n",
      "ROC AUC: 0.962\n",
      "ROC AUC: 0.959\n",
      "ROC AUC: 0.964\n",
      "\n",
      "### Running sklearn_knn_imputer with 20 neighbors\n",
      "ROC AUC: 0.960\n",
      "ROC AUC: 0.956\n",
      "ROC AUC: 0.962\n",
      "ROC AUC: 0.960\n",
      "ROC AUC: 0.963\n",
      "\n",
      "### Running sklearn_knn_imputer with 50 neighbors\n",
      "ROC AUC: 0.959\n",
      "ROC AUC: 0.954\n",
      "ROC AUC: 0.959\n",
      "ROC AUC: 0.962\n",
      "ROC AUC: 0.963\n",
      "\n",
      "### Running sklearn_knn_imputer with 150 neighbors\n",
      "ROC AUC: 0.960\n",
      "ROC AUC: 0.954\n",
      "ROC AUC: 0.960\n",
      "ROC AUC: 0.958\n",
      "ROC AUC: 0.966\n",
      "\n",
      "### Running sklearn_knn_imputer with 300 neighbors\n",
      "ROC AUC: 0.966\n",
      "ROC AUC: 0.955\n",
      "ROC AUC: 0.961\n",
      "ROC AUC: 0.958\n",
      "ROC AUC: 0.964\n",
      "\n",
      "### Running sklearn_knn_imputer with 600 neighbors\n",
      "ROC AUC: 0.961\n",
      "ROC AUC: 0.951\n",
      "ROC AUC: 0.955\n",
      "ROC AUC: 0.956\n",
      "ROC AUC: 0.963\n"
     ]
    }
   ],
   "source": [
    "func = sklearn_knn_imputer\n",
    "for n_neighbors in nbors_count:\n",
    "    print(f\"\\n### Running {func.__name__} with {n_neighbors} neighbors\")\n",
    "    cv_run(func, clf, n_neighbors=n_neighbors)"
   ],
   "metadata": {
    "collapsed": false,
    "pycharm": {
     "name": "#%%\n"
    }
   }
  },
  {
   "cell_type": "code",
   "execution_count": 80,
   "outputs": [
    {
     "data": {
      "text/plain": "                     name     score  n_neighbors  improvement\n0   knn_fill_entire_chain  0.930944            1    -0.027219\n1   knn_fill_entire_chain  0.935408            1    -0.022756\n2   knn_fill_entire_chain  0.948010            1    -0.010153\n3   knn_fill_entire_chain  0.924446            1    -0.033718\n4   knn_fill_entire_chain  0.946318            1    -0.011846\n..                    ...       ...          ...          ...\n85    sklearn_knn_imputer  0.960988            0     0.000000\n86    sklearn_knn_imputer  0.950887            0     0.000000\n87    sklearn_knn_imputer  0.955379            0     0.000000\n88    sklearn_knn_imputer  0.956394            0     0.000000\n89    sklearn_knn_imputer  0.962779            0     0.000000\n\n[90 rows x 4 columns]",
      "text/html": "<div>\n<style scoped>\n    .dataframe tbody tr th:only-of-type {\n        vertical-align: middle;\n    }\n\n    .dataframe tbody tr th {\n        vertical-align: top;\n    }\n\n    .dataframe thead th {\n        text-align: right;\n    }\n</style>\n<table border=\"1\" class=\"dataframe\">\n  <thead>\n    <tr style=\"text-align: right;\">\n      <th></th>\n      <th>name</th>\n      <th>score</th>\n      <th>n_neighbors</th>\n      <th>improvement</th>\n    </tr>\n  </thead>\n  <tbody>\n    <tr>\n      <th>0</th>\n      <td>knn_fill_entire_chain</td>\n      <td>0.930944</td>\n      <td>1</td>\n      <td>-0.027219</td>\n    </tr>\n    <tr>\n      <th>1</th>\n      <td>knn_fill_entire_chain</td>\n      <td>0.935408</td>\n      <td>1</td>\n      <td>-0.022756</td>\n    </tr>\n    <tr>\n      <th>2</th>\n      <td>knn_fill_entire_chain</td>\n      <td>0.948010</td>\n      <td>1</td>\n      <td>-0.010153</td>\n    </tr>\n    <tr>\n      <th>3</th>\n      <td>knn_fill_entire_chain</td>\n      <td>0.924446</td>\n      <td>1</td>\n      <td>-0.033718</td>\n    </tr>\n    <tr>\n      <th>4</th>\n      <td>knn_fill_entire_chain</td>\n      <td>0.946318</td>\n      <td>1</td>\n      <td>-0.011846</td>\n    </tr>\n    <tr>\n      <th>...</th>\n      <td>...</td>\n      <td>...</td>\n      <td>...</td>\n      <td>...</td>\n    </tr>\n    <tr>\n      <th>85</th>\n      <td>sklearn_knn_imputer</td>\n      <td>0.960988</td>\n      <td>0</td>\n      <td>0.000000</td>\n    </tr>\n    <tr>\n      <th>86</th>\n      <td>sklearn_knn_imputer</td>\n      <td>0.950887</td>\n      <td>0</td>\n      <td>0.000000</td>\n    </tr>\n    <tr>\n      <th>87</th>\n      <td>sklearn_knn_imputer</td>\n      <td>0.955379</td>\n      <td>0</td>\n      <td>0.000000</td>\n    </tr>\n    <tr>\n      <th>88</th>\n      <td>sklearn_knn_imputer</td>\n      <td>0.956394</td>\n      <td>0</td>\n      <td>0.000000</td>\n    </tr>\n    <tr>\n      <th>89</th>\n      <td>sklearn_knn_imputer</td>\n      <td>0.962779</td>\n      <td>0</td>\n      <td>0.000000</td>\n    </tr>\n  </tbody>\n</table>\n<p>90 rows × 4 columns</p>\n</div>"
     },
     "execution_count": 80,
     "metadata": {},
     "output_type": "execute_result"
    }
   ],
   "source": [
    "scores"
   ],
   "metadata": {
    "collapsed": false,
    "pycharm": {
     "name": "#%%\n"
    }
   }
  },
  {
   "cell_type": "code",
   "execution_count": 81,
   "outputs": [],
   "source": [
    "scores['n_neighbors'] = nbors_count_folds*2 # once for our implementation and once for sklearn"
   ],
   "metadata": {
    "collapsed": false,
    "pycharm": {
     "name": "#%%\n"
    }
   }
  },
  {
   "cell_type": "code",
   "execution_count": 82,
   "outputs": [
    {
     "data": {
      "text/plain": "                     name     score  n_neighbors  improvement\n0   knn_fill_entire_chain  0.930944            1    -0.027219\n1   knn_fill_entire_chain  0.935408            1    -0.022756\n2   knn_fill_entire_chain  0.948010            1    -0.010153\n3   knn_fill_entire_chain  0.924446            1    -0.033718\n4   knn_fill_entire_chain  0.946318            1    -0.011846\n..                    ...       ...          ...          ...\n85    sklearn_knn_imputer  0.960988          600     0.002825\n86    sklearn_knn_imputer  0.950887          600    -0.007277\n87    sklearn_knn_imputer  0.955379          600    -0.002784\n88    sklearn_knn_imputer  0.956394          600    -0.001770\n89    sklearn_knn_imputer  0.962779          600     0.004616\n\n[90 rows x 4 columns]",
      "text/html": "<div>\n<style scoped>\n    .dataframe tbody tr th:only-of-type {\n        vertical-align: middle;\n    }\n\n    .dataframe tbody tr th {\n        vertical-align: top;\n    }\n\n    .dataframe thead th {\n        text-align: right;\n    }\n</style>\n<table border=\"1\" class=\"dataframe\">\n  <thead>\n    <tr style=\"text-align: right;\">\n      <th></th>\n      <th>name</th>\n      <th>score</th>\n      <th>n_neighbors</th>\n      <th>improvement</th>\n    </tr>\n  </thead>\n  <tbody>\n    <tr>\n      <th>0</th>\n      <td>knn_fill_entire_chain</td>\n      <td>0.930944</td>\n      <td>1</td>\n      <td>-0.027219</td>\n    </tr>\n    <tr>\n      <th>1</th>\n      <td>knn_fill_entire_chain</td>\n      <td>0.935408</td>\n      <td>1</td>\n      <td>-0.022756</td>\n    </tr>\n    <tr>\n      <th>2</th>\n      <td>knn_fill_entire_chain</td>\n      <td>0.948010</td>\n      <td>1</td>\n      <td>-0.010153</td>\n    </tr>\n    <tr>\n      <th>3</th>\n      <td>knn_fill_entire_chain</td>\n      <td>0.924446</td>\n      <td>1</td>\n      <td>-0.033718</td>\n    </tr>\n    <tr>\n      <th>4</th>\n      <td>knn_fill_entire_chain</td>\n      <td>0.946318</td>\n      <td>1</td>\n      <td>-0.011846</td>\n    </tr>\n    <tr>\n      <th>...</th>\n      <td>...</td>\n      <td>...</td>\n      <td>...</td>\n      <td>...</td>\n    </tr>\n    <tr>\n      <th>85</th>\n      <td>sklearn_knn_imputer</td>\n      <td>0.960988</td>\n      <td>600</td>\n      <td>0.002825</td>\n    </tr>\n    <tr>\n      <th>86</th>\n      <td>sklearn_knn_imputer</td>\n      <td>0.950887</td>\n      <td>600</td>\n      <td>-0.007277</td>\n    </tr>\n    <tr>\n      <th>87</th>\n      <td>sklearn_knn_imputer</td>\n      <td>0.955379</td>\n      <td>600</td>\n      <td>-0.002784</td>\n    </tr>\n    <tr>\n      <th>88</th>\n      <td>sklearn_knn_imputer</td>\n      <td>0.956394</td>\n      <td>600</td>\n      <td>-0.001770</td>\n    </tr>\n    <tr>\n      <th>89</th>\n      <td>sklearn_knn_imputer</td>\n      <td>0.962779</td>\n      <td>600</td>\n      <td>0.004616</td>\n    </tr>\n  </tbody>\n</table>\n<p>90 rows × 4 columns</p>\n</div>"
     },
     "execution_count": 82,
     "metadata": {},
     "output_type": "execute_result"
    }
   ],
   "source": [
    "# Take the mean of the values in the dataframe where epitope is GILGFVFTL\n",
    "baseline = scores[(scores['n_neighbors'] == 5) & (scores['name'] == 'knn_fill_entire_chain')]['score'].mean()\n",
    "scores[\"improvement\"] = scores[\"score\"] - baseline\n",
    "scores"
   ],
   "metadata": {
    "collapsed": false,
    "pycharm": {
     "name": "#%%\n"
    }
   }
  },
  {
   "cell_type": "code",
   "execution_count": 83,
   "outputs": [
    {
     "data": {
      "text/plain": "<Figure size 432x288 with 1 Axes>",
      "image/png": "[encoded data removed]"
     },
     "metadata": {},
     "output_type": "display_data"
    }
   ],
   "source": [
    "import seaborn as sns\n",
    "\n",
    "plot = sns.barplot(x=\"n_neighbors\", y=\"score\", data=scores, ci=\"sd\", hue=\"name\")\n",
    "plot.set_xticklabels(plot.get_xticklabels(), rotation=90)\n",
    "pass"
   ],
   "metadata": {
    "collapsed": false,
    "pycharm": {
     "name": "#%%\n"
    }
   }
  },
  {
   "cell_type": "code",
   "execution_count": 84,
   "outputs": [
    {
     "name": "stderr",
     "output_type": "stream",
     "text": [
      "C:\\Users\\arnod\\AppData\\Local\\Temp/ipykernel_30436/1618298768.py:7: UserWarning: FixedFormatter should only be used together with FixedLocator\n",
      "  plot.set_yticklabels([f\"{baseline + y:.2f}\" for y in y_ticks])\n"
     ]
    },
    {
     "data": {
      "text/plain": "<Figure size 432x288 with 1 Axes>",
      "image/png": "[encoded data removed]"
     },
     "metadata": {},
     "output_type": "display_data"
    }
   ],
   "source": [
    "plot = sns.barplot(x=\"n_neighbors\", y=\"improvement\", data=scores, ci=\"sd\", hue=\"name\")\n",
    "\n",
    "plot.set_xticklabels(plot.get_xticklabels(), rotation=90)\n",
    "\n",
    "plot.axhline(0, color=\"k\", clip_on=False)\n",
    "y_ticks = plot.get_yticks()\n",
    "plot.set_yticklabels([f\"{baseline + y:.2f}\" for y in y_ticks])\n",
    "pass"
   ],
   "metadata": {
    "collapsed": false,
    "pycharm": {
     "name": "#%%\n"
    }
   }
  },
  {
   "cell_type": "code",
   "execution_count": null,
   "outputs": [],
   "source": [],
   "metadata": {
    "collapsed": false,
    "pycharm": {
     "name": "#%%\n"
    }
   }
  }
 ],
 "metadata": {
  "kernelspec": {
   "display_name": "Python 3",
   "language": "python",
   "name": "python3"
  },
  "language_info": {
   "codemirror_mode": {
    "name": "ipython",
    "version": 2
   },
   "file_extension": ".py",
   "mimetype": "text/x-python",
   "name": "python",
   "nbconvert_exporter": "python",
   "pygments_lexer": "ipython2",
   "version": "2.7.6"
  }
 },
 "nbformat": 4,
 "nbformat_minor": 0
}