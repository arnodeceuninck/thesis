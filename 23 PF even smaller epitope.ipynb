{
 "cells": [
  {
   "cell_type": "markdown",
   "metadata": {},
   "source": [
    "# Proximity Forest: Smaller epitope\n",
    "\n",
    "even smaller"
   ]
  },
  {
   "cell_type": "code",
   "execution_count": 1,
   "outputs": [],
   "source": [
    "import numpy as np\n",
    "import pandas as pd\n",
    "from tcrdist.repertoire import TCRrep\n",
    "from util import get_train_dataset, ProximityTreeClassifier, calculate_tcr_dist_multiple_chains\n",
    "from sklearn.model_selection import train_test_split\n",
    "from util import ProximityForestClassifier, calculate_tcr_dist2, calculate_tcr_dist2_cached\n",
    "from sklearn.metrics import accuracy_score\n",
    "from sklearn import metrics\n",
    "from util import plot_roc_curve, get_epitope_df, evaluate, get_features, fix_test, calculate_tcr_dist2_cached\n",
    "from sklearn.ensemble import RandomForestClassifier"
   ],
   "metadata": {
    "collapsed": false
   }
  },
  {
   "cell_type": "code",
   "execution_count": 2,
   "outputs": [
    {
     "name": "stdout",
     "output_type": "stream",
     "text": [
      "There are 518 epitopes with NaN values in the CDR3_alfa or CDR3_beta columns\n"
     ]
    },
    {
     "name": "stderr",
     "output_type": "stream",
     "text": [
      "C:\\Users\\arnod\\AppData\\Local\\Temp/ipykernel_22928/19310559.py:1: DtypeWarning: Columns (20,29,30) have mixed types. Specify dtype option on import or set low_memory=False.\n",
      "  df_vdjdb = pd.read_csv('data/vdjdb-2022-03-30/vdjdb_full.txt', sep='\\t')\n"
     ]
    }
   ],
   "source": [
    "df_vdjdb = pd.read_csv('data/vdjdb-2022-03-30/vdjdb_full.txt', sep='\\t')\n",
    "\n",
    "rename_columns = {\n",
    "    'antigen.epitope': 'epitope',\n",
    "    'cdr3.alpha': 'CDR3_alfa',\n",
    "    'v.alpha': 'TRAV',\n",
    "    'j.alpha': 'TRAJ',\n",
    "    'cdr3.beta': 'CDR3_beta',\n",
    "    'v.beta': 'TRBV',\n",
    "    'j.beta': 'TRBJ',\n",
    "}\n",
    "\n",
    "df_vdjdb = df_vdjdb.rename(columns=rename_columns)\n",
    "df_vdjdb = df_vdjdb[rename_columns.values()]\n",
    "\n",
    "# get all \"epitope\" names that have \"CDR3_alfa\" or \"CDR3_beta\" as NaN\n",
    "nan_epitopes = df_vdjdb[df_vdjdb['CDR3_alfa'].isna() | df_vdjdb['CDR3_beta'].isna()]['epitope'].unique()\n",
    "print(f\"There are {len(nan_epitopes)} epitopes with NaN values in the CDR3_alfa or CDR3_beta columns\")\n",
    "# drop all rows that have an \"epitope\" name that is in \"nan_epitopes\"\n",
    "df_vdjdb = df_vdjdb[~df_vdjdb['epitope'].isin(nan_epitopes)]"
   ],
   "metadata": {
    "collapsed": false
   }
  },
  {
   "cell_type": "code",
   "execution_count": 3,
   "outputs": [
    {
     "name": "stdout",
     "output_type": "stream",
     "text": [
      "NQKLIANQF      77\n",
      "RTLNAWVKV      47\n",
      "LLFGYPVYV      39\n",
      "AYAQKIFKI      39\n",
      "SLFNTVATLY     38\n",
      "FLYALALLL      38\n",
      "FLASKIGRLV     34\n",
      "VYFLQSINF      29\n",
      "LLDFVRFMGV     26\n",
      "RVAGDSGFAAY    24\n",
      "Name: epitope, dtype: int64\n"
     ]
    }
   ],
   "source": [
    "# print the counts of those epitopes that have 100-200 samples, don't print the others\n",
    "print(df_vdjdb['epitope'].value_counts().loc[lambda x: x.between(20, 80)])"
   ],
   "metadata": {
    "collapsed": false
   }
  },
  {
   "cell_type": "code",
   "execution_count": 26,
   "outputs": [],
   "source": [
    "current_epitope = 'NQKLIANQF'"
   ],
   "metadata": {
    "collapsed": false
   }
  },
  {
   "cell_type": "code",
   "execution_count": 27,
   "outputs": [
    {
     "name": "stdout",
     "output_type": "stream",
     "text": [
      "Number of negative samples changed from 54786 to 54725 (because of overlap with positive samples)\n",
      "Positive samples: alpha only: 0, beta only: 0, both: 77, none: 0\n",
      "Negative samples: alpha only: 7169, beta only: 20671, both: 26885, none: 0\n",
      "Created a dataframe with 154 samples for the epitope NQKLIANQF\n"
     ]
    },
    {
     "name": "stderr",
     "output_type": "stream",
     "text": [
      "C:\\Users\\arnod\\PycharmProjects\\thesis\\util\\epitopes.py:6: DtypeWarning: Columns (20,29,30) have mixed types. Specify dtype option on import or set low_memory=False.\n",
      "  df_vdjdb = pd.read_csv('data/vdjdb-2022-03-30/vdjdb_full.txt', sep='\\t')\n"
     ]
    }
   ],
   "source": [
    "epitope_df = get_epitope_df(current_epitope, species='HomoSapiens')\n",
    "# epitope_df = epitope_df.sample(100) # TODO: remove\n",
    "print(f\"Created a dataframe with {len(epitope_df)} samples for the epitope {current_epitope}\")"
   ],
   "metadata": {
    "collapsed": false
   }
  },
  {
   "cell_type": "code",
   "execution_count": 28,
   "outputs": [],
   "source": [
    "y_column = 'reaction'\n",
    "x_columns = ['CDR3_alfa', 'TRAV', 'TRAJ', 'CDR3_beta', 'TRBV', 'TRBJ']\n",
    "epitope_df = epitope_df[x_columns + [y_column]]\n",
    "# train_df, test_df = train_test_split(df, test_size=0.2, random_state=42) # not using this, no nan -> KFold\n",
    "\n",
    "epitope_x = epitope_df[x_columns]\n",
    "epitope_y = epitope_df[y_column]"
   ],
   "metadata": {
    "collapsed": false
   }
  },
  {
   "cell_type": "code",
   "execution_count": 29,
   "outputs": [],
   "source": [
    "y = epitope_y\n",
    "x_features = get_features(epitope_x)\n",
    "# features introduce NaN values, set them to 0\n",
    "x_features = np.nan_to_num(x_features, nan=0)"
   ],
   "metadata": {
    "collapsed": false
   }
  },
  {
   "cell_type": "markdown",
   "source": [
    "### RandomForest"
   ],
   "metadata": {
    "collapsed": false
   }
  },
  {
   "cell_type": "code",
   "execution_count": 30,
   "outputs": [
    {
     "name": "stdout",
     "output_type": "stream",
     "text": [
      "[0.71710526 0.70625    0.56041667 0.70726496 0.60491071]\n",
      "ROC: 0.659 (+/- 0.128)\n"
     ]
    }
   ],
   "source": [
    "# check the performance on a RandomForest classifier\n",
    "clf = RandomForestClassifier(n_estimators=100)\n",
    "evaluate(clf, x_features, y)"
   ],
   "metadata": {
    "collapsed": false
   }
  },
  {
   "cell_type": "markdown",
   "source": [
    "# Proximity Forest"
   ],
   "metadata": {
    "collapsed": false
   }
  },
  {
   "cell_type": "code",
   "execution_count": 18,
   "outputs": [],
   "source": [
    "# # np_x = epitope_x.to_numpy()\n",
    "# # np_y = epitope_y.to_numpy()\n",
    "#\n",
    "# np_x = epitope_x\n",
    "# np_y = epitope_y\n",
    "#\n",
    "# model = ProximityForestClassifier(reduce_features=False, distance_measure=calculate_tcr_dist2_cached,\n",
    "#                                   distance_kwargs={\"nan_distance\": 0, 'organism': \"mouse\"}, multithreaded=False)\n",
    "#\n",
    "# evaluate(clf, np_x, np_y)"
   ],
   "metadata": {
    "collapsed": false
   }
  },
  {
   "cell_type": "code",
   "execution_count": 31,
   "outputs": [],
   "source": [
    "np_x = epitope_x\n",
    "np_y = epitope_y"
   ],
   "metadata": {
    "collapsed": false
   }
  },
  {
   "cell_type": "code",
   "execution_count": 33,
   "outputs": [
    {
     "name": "stderr",
     "output_type": "stream",
     "text": [
      "Fitting: 100%|██████████| 100/100 [21:05<00:00, 12.65s/it]\n",
      "Predicting: 100%|██████████| 100/100 [11:11<00:00,  6.71s/it]\n"
     ]
    },
    {
     "name": "stdout",
     "output_type": "stream",
     "text": [
      "0.4838709677419355\n"
     ]
    },
    {
     "name": "stderr",
     "output_type": "stream",
     "text": [
      "Predicting: 100%|██████████| 100/100 [00:01<00:00, 83.68it/s]\n"
     ]
    },
    {
     "data": {
      "text/plain": "<Figure size 432x288 with 1 Axes>",
      "image/png": "[encoded data removed]"
     },
     "metadata": {},
     "output_type": "display_data"
    },
    {
     "name": "stdout",
     "output_type": "stream",
     "text": [
      "ROC AUC: 0.5394736842105263\n"
     ]
    }
   ],
   "source": [
    "model = ProximityForestClassifier(reduce_features=False, distance_measure=calculate_tcr_dist2_cached,\n",
    "                                  distance_kwargs={\"nan_distance\": 0, 'organism': \"human\"}, multithreaded=False)\n",
    "\n",
    "\n",
    "# split np_x and np_y into train and test\n",
    "train_X, val_X, train_y, val_y = train_test_split(np_x, np_y, test_size=0.2, random_state=42)\n",
    "\n",
    "model.fit(train_X, train_y)\n",
    "\n",
    "\n",
    "predictions = model.predict(val_X)\n",
    "\n",
    "print(accuracy_score(val_y, predictions))\n",
    "\n",
    "predictions = model.predict_proba(val_X)\n",
    "fpr, tpr, thresholds = metrics.roc_curve(val_y, predictions[:, 1], pos_label=1)\n",
    "roc_auc = metrics.auc(fpr, tpr)\n",
    "plot_roc_curve(fpr, tpr, label=f'Random Forest (AUC = {roc_auc:.3f})', title=\"epitope auc\")\n",
    "print(f\"ROC AUC: {roc_auc}\")"
   ],
   "metadata": {
    "collapsed": false
   }
  },
  {
   "cell_type": "code",
   "execution_count": 34,
   "outputs": [
    {
     "name": "stdout",
     "output_type": "stream",
     "text": [
      "Train size: 123\n",
      "Test size: 31\n"
     ]
    }
   ],
   "source": [
    "print(f\"Train size: {len(train_X)}\")\n",
    "print(f\"Test size: {len(val_X)}\")"
   ],
   "metadata": {
    "collapsed": false
   }
  },
  {
   "cell_type": "markdown",
   "source": [],
   "metadata": {
    "collapsed": false
   }
  },
  {
   "cell_type": "code",
   "execution_count": 35,
   "outputs": [],
   "source": [
    "def get_auc(clf, np_x, np_y, seed):\n",
    "    train_X, val_X, train_y, val_y = train_test_split(np_x, np_y, test_size=0.2, random_state=seed)\n",
    "\n",
    "    clf.fit(train_X, train_y)\n",
    "\n",
    "    # predictions = clf.predict(val_X)\n",
    "    # print(accuracy_score(val_y, predictions))\n",
    "\n",
    "    predictions = model.predict_proba(val_X)\n",
    "    fpr, tpr, thresholds = metrics.roc_curve(val_y, predictions[:, 1], pos_label=1)\n",
    "    roc_auc = metrics.auc(fpr, tpr)\n",
    "    print(f\"ROC AUC: {roc_auc}\")\n",
    "    return roc_auc"
   ],
   "metadata": {
    "collapsed": false
   }
  },
  {
   "cell_type": "code",
   "execution_count": 36,
   "outputs": [
    {
     "name": "stderr",
     "output_type": "stream",
     "text": [
      "Fitting: 100%|██████████| 100/100 [12:04<00:00,  7.25s/it]\n",
      "Predicting: 100%|██████████| 200/200 [06:43<00:00,  2.02s/it]\n"
     ]
    },
    {
     "name": "stdout",
     "output_type": "stream",
     "text": [
      "ROC AUC: 0.8025210084033613\n"
     ]
    },
    {
     "name": "stderr",
     "output_type": "stream",
     "text": [
      "Fitting: 100%|██████████| 100/100 [05:40<00:00,  3.41s/it]\n",
      "Predicting: 100%|██████████| 300/300 [02:37<00:00,  1.91it/s]\n"
     ]
    },
    {
     "name": "stdout",
     "output_type": "stream",
     "text": [
      "ROC AUC: 0.7794117647058824\n"
     ]
    },
    {
     "name": "stderr",
     "output_type": "stream",
     "text": [
      "Fitting: 100%|██████████| 100/100 [02:50<00:00,  1.71s/it]\n",
      "Predicting: 100%|██████████| 400/400 [01:27<00:00,  4.55it/s]\n"
     ]
    },
    {
     "name": "stdout",
     "output_type": "stream",
     "text": [
      "ROC AUC: 0.8048245614035088\n"
     ]
    },
    {
     "name": "stderr",
     "output_type": "stream",
     "text": [
      "Fitting: 100%|██████████| 100/100 [01:22<00:00,  1.21it/s]\n",
      "Predicting: 100%|██████████| 500/500 [00:44<00:00, 11.26it/s] \n"
     ]
    },
    {
     "name": "stdout",
     "output_type": "stream",
     "text": [
      "ROC AUC: 0.8250000000000001\n"
     ]
    },
    {
     "name": "stderr",
     "output_type": "stream",
     "text": [
      "Fitting: 100%|██████████| 100/100 [00:44<00:00,  2.25it/s]\n",
      "Predicting: 100%|██████████| 600/600 [00:23<00:00, 25.28it/s] "
     ]
    },
    {
     "name": "stdout",
     "output_type": "stream",
     "text": [
      "ROC AUC: 0.7226890756302521\n"
     ]
    },
    {
     "name": "stderr",
     "output_type": "stream",
     "text": [
      "\n"
     ]
    }
   ],
   "source": [
    "aucs = []\n",
    "for i in range(5):\n",
    "    aucs.append(get_auc(model, np_x, np_y, i))"
   ],
   "metadata": {
    "collapsed": false
   }
  },
  {
   "cell_type": "code",
   "execution_count": 38,
   "outputs": [
    {
     "name": "stdout",
     "output_type": "stream",
     "text": [
      "[0.8025210084033613, 0.7794117647058824, 0.8048245614035088, 0.8250000000000001, 0.7226890756302521]\n",
      "ROC: 0.787 (+/- 0.070)\n"
     ]
    }
   ],
   "source": [
    "print(aucs)\n",
    "print(f\"ROC: {np.mean(aucs):.3f} (+/- {np.std(aucs) * 2:.3f})\")"
   ],
   "metadata": {
    "collapsed": false
   }
  },
  {
   "cell_type": "markdown",
   "source": [],
   "metadata": {
    "collapsed": false
   }
  },
  {
   "cell_type": "markdown",
   "source": [],
   "metadata": {
    "collapsed": false
   }
  }
 ],
 "metadata": {
  "kernelspec": {
   "display_name": "Python 3 (ipykernel)",
   "language": "python",
   "name": "python3"
  },
  "language_info": {
   "codemirror_mode": {
    "name": "ipython",
    "version": 3
   },
   "file_extension": ".py",
   "mimetype": "text/x-python",
   "name": "python",
   "nbconvert_exporter": "python",
   "pygments_lexer": "ipython3",
   "version": "3.9.7"
  }
 },
 "nbformat": 4,
 "nbformat_minor": 1
}
